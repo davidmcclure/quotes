{
 "cells": [
  {
   "cell_type": "markdown",
   "metadata": {},
   "source": [
    "# Hamlet quote distributions"
   ]
  },
  {
   "cell_type": "code",
   "execution_count": 1,
   "metadata": {
    "collapsed": false
   },
   "outputs": [],
   "source": [
    "import matplotlib.pyplot as plt\n",
    "%matplotlib inline"
   ]
  },
  {
   "cell_type": "code",
   "execution_count": 2,
   "metadata": {
    "collapsed": true
   },
   "outputs": [],
   "source": [
    "from quotes.models import Match"
   ]
  },
  {
   "cell_type": "code",
   "execution_count": 3,
   "metadata": {
    "collapsed": false
   },
   "outputs": [],
   "source": [
    "quoted = []\n",
    "\n",
    "for m in Match.query.filter(Match.size >= 5):\n",
    "    quoted += range(m.a_start, m.a_start + m.size)"
   ]
  },
  {
   "cell_type": "code",
   "execution_count": 42,
   "metadata": {
    "collapsed": false
   },
   "outputs": [],
   "source": [
    "from quotes.text import RawText\n",
    "\n",
    "hamlet = RawText.from_file('../data/hamlet.txt')"
   ]
  },
  {
   "cell_type": "markdown",
   "metadata": {},
   "source": [
    "# 100 bins\n",
    "\n",
    "First, with a fairly large bin size:"
   ]
  },
  {
   "cell_type": "code",
   "execution_count": 43,
   "metadata": {
    "collapsed": false
   },
   "outputs": [
    {
     "data": {
      "image/png": "[encoded data removed]",
      "text/plain": [
       "<matplotlib.figure.Figure at 0x114a35d30>"
      ]
     },
     "metadata": {},
     "output_type": "display_data"
    }
   ],
   "source": [
    "plt.figure(figsize=(20, 5))\n",
    "\n",
    "n, bins, patches = plt.hist(\n",
    "    quoted,\n",
    "    range=(0, len(hamlet.tokens)),\n",
    "    bins=100,\n",
    "    color='green',\n",
    ")\n",
    "\n",
    "plt.show()"
   ]
  },
  {
   "cell_type": "code",
   "execution_count": 44,
   "metadata": {
    "collapsed": false
   },
   "outputs": [
    {
     "name": "stdout",
     "output_type": "stream",
     "text": [
      "[42 89 18 14 16]\n"
     ]
    }
   ],
   "source": [
    "import numpy as np\n",
    "\n",
    "bin_idxs = np.argsort(n)[::-1]\n",
    "print(bin_idxs[:5])"
   ]
  },
  {
   "cell_type": "code",
   "execution_count": 45,
   "metadata": {
    "collapsed": false,
    "scrolled": false
   },
   "outputs": [],
   "source": [
    "def print_bin(idx):\n",
    "    \n",
    "    token1 = int(bins[idx])\n",
    "    token2 = int(bins[idx+1]-1)\n",
    "    \n",
    "    char1 = hamlet.tokens[token1].char1\n",
    "    char2 = hamlet.tokens[token2].char2\n",
    "\n",
    "    print(hamlet.text[char1:char2])"
   ]
  },
  {
   "cell_type": "markdown",
   "metadata": {},
   "source": [
    "## #1\n",
    "\n",
    "No surprise, the top hit is to-be-or-not-to-be:"
   ]
  },
  {
   "cell_type": "code",
   "execution_count": 46,
   "metadata": {
    "collapsed": false
   },
   "outputs": [
    {
     "name": "stdout",
     "output_type": "stream",
     "text": [
      "sugar o'er\n",
      "The Devil himself.\n",
      "\n",
      "King.\n",
      "[Aside.] O, 'tis too true!\n",
      "How smart a lash that speech doth give my conscience!\n",
      "The harlot's cheek, beautied with plastering art,\n",
      "Is not more ugly to the thing that helps it\n",
      "Than is my deed to my most painted word:\n",
      "O heavy burden!\n",
      "\n",
      "Pol.\n",
      "I hear him coming: let's withdraw, my lord.\n",
      "\n",
      "[Exeunt King and Polonius.]\n",
      "\n",
      "[Enter Hamlet.]\n",
      "\n",
      "Ham.\n",
      "To be, or not to be,--that is the question:--\n",
      "Whether 'tis nobler in the mind to suffer\n",
      "The slings and arrows of outrageous fortune\n",
      "Or to take arms against a sea of troubles,\n",
      "And by opposing end them?--To die,--to sleep,--\n",
      "No more; and by a sleep to say we end\n",
      "The heartache, and the thousand natural shocks\n",
      "That flesh is heir to,--'tis a consummation\n",
      "Devoutly to be wish'd. To die,--to sleep;--\n",
      "To sleep! perchance to dream:--ay, there's the rub;\n",
      "For in that sleep of death what dreams may come,\n",
      "When we have shuffled off this mortal coil,\n",
      "Must give us pause: there's the respect\n",
      "That makes calamity of so long life;\n",
      "For who would bear the whips and scorns of time,\n",
      "The oppressor's wrong, the proud man's contumely,\n",
      "The pangs of despis'd love, the law's delay,\n",
      "The insolence of office, and the spurns\n",
      "That patient merit of the unworthy takes,\n",
      "When he himself might his quietus make\n",
      "With a bare bodkin? who would these fardels bear,\n",
      "To grunt and sweat under a weary life,\n",
      "But that the dread of something after death,--\n",
      "The undiscover'd country, from whose bourn\n",
      "No traveller returns,--puzzles the will,\n",
      "And makes us rather bear those ills we have\n",
      "Than fly to others that we know not of?\n",
      "Thus conscience does make cowards of us all;\n",
      "And thus the native hue of resolution\n",
      "Is sicklied o'er with the pale cast of thought;\n",
      "And enterprises\n"
     ]
    }
   ],
   "source": [
    "print_bin(42)"
   ]
  },
  {
   "cell_type": "markdown",
   "metadata": {},
   "source": [
    "## #2\n",
    "\n",
    "A bit surprising, I assume anchored by \"When our deep plots do fail; and that should teach us / There's a divinity that shapes our ends\"?"
   ]
  },
  {
   "cell_type": "code",
   "execution_count": 47,
   "metadata": {
    "collapsed": false
   },
   "outputs": [
    {
     "name": "stdout",
     "output_type": "stream",
     "text": [
      "patient as the female dove,\n",
      "When that her golden couplets are disclos'd,\n",
      "His silence will sit drooping.\n",
      "\n",
      "Ham.\n",
      "Hear you, sir;\n",
      "What is the reason that you use me thus?\n",
      "I lov'd you ever: but it is no matter;\n",
      "Let Hercules himself do what he may,\n",
      "The cat will mew, and dog will have his day.\n",
      "\n",
      "[Exit.]\n",
      "\n",
      "King.\n",
      "I pray thee, good Horatio, wait upon him.--\n",
      "\n",
      "[Exit Horatio.]\n",
      "[To Laertes]\n",
      "Strengthen your patience in our last night's speech;\n",
      "We'll put the matter to the present push.--\n",
      "Good Gertrude, set some watch over your son.--\n",
      "This grave shall have a living monument:\n",
      "An hour of quiet shortly shall we see;\n",
      "Till then in patience our proceeding be.\n",
      "\n",
      "[Exeunt.]\n",
      "\n",
      "\n",
      "\n",
      "Scene II. A hall in the Castle.\n",
      "\n",
      "[Enter Hamlet and Horatio.]\n",
      "\n",
      "Ham.\n",
      "So much for this, sir: now let me see the other;\n",
      "You do remember all the circumstance?\n",
      "\n",
      "Hor.\n",
      "Remember it, my lord!\n",
      "\n",
      "Ham.\n",
      "Sir, in my heart there was a kind of fighting\n",
      "That would not let me sleep: methought I lay\n",
      "Worse than the mutinies in the bilboes. Rashly,\n",
      "And prais'd be rashness for it,--let us know,\n",
      "Our indiscretion sometime serves us well,\n",
      "When our deep plots do fail; and that should teach us\n",
      "There's a divinity that shapes our ends,\n",
      "Rough-hew them how we will.\n",
      "\n",
      "Hor.\n",
      "That is most certain.\n",
      "\n",
      "Ham.\n",
      "Up from my cabin,\n",
      "My sea-gown scarf'd about me, in the dark\n",
      "Grop'd I to find out them: had my desire;\n",
      "Finger'd their packet; and, in fine, withdrew\n",
      "To mine own room again: making so bold,\n",
      "My fears forgetting manners, to unseal\n",
      "Their grand commission; where I found, Horatio,\n",
      "O royal knavery! an exact command,--\n",
      "Larded with many several sorts of reasons,\n",
      "Importing Denmark's health, and England's too,\n",
      "With, ho! such bugs and goblins in my life,--\n",
      "That, on the supervise, no leisure bated\n"
     ]
    }
   ],
   "source": [
    "print_bin(89)"
   ]
  },
  {
   "cell_type": "markdown",
   "metadata": {},
   "source": [
    "## #3\n",
    "\n",
    "\"Something is rotten in the state of Denmark.\""
   ]
  },
  {
   "cell_type": "code",
   "execution_count": 48,
   "metadata": {
    "collapsed": false
   },
   "outputs": [
    {
     "name": "stdout",
     "output_type": "stream",
     "text": [
      "Hor.\n",
      "He waxes desperate with imagination.\n",
      "\n",
      "Mar.\n",
      "Let's follow; 'tis not fit thus to obey him.\n",
      "\n",
      "Hor.\n",
      "Have after.--To what issue will this come?\n",
      "\n",
      "Mar.\n",
      "Something is rotten in the state of Denmark.\n",
      "\n",
      "Hor.\n",
      "Heaven will direct it.\n",
      "\n",
      "Mar.\n",
      "Nay, let's follow him.\n",
      "\n",
      "[Exeunt.]\n",
      "\n",
      "\n",
      "\n",
      "Scene V. A more remote part of the Castle.\n",
      "\n",
      "[Enter Ghost and Hamlet.]\n",
      "\n",
      "Ham.\n",
      "Whither wilt thou lead me? speak! I'll go no further.\n",
      "\n",
      "Ghost.\n",
      "Mark me.\n",
      "\n",
      "Ham.\n",
      "I will.\n",
      "\n",
      "Ghost.\n",
      "My hour is almost come,\n",
      "When I to sulph'uous and tormenting flames\n",
      "Must render up myself.\n",
      "\n",
      "Ham.\n",
      "Alas, poor ghost!\n",
      "\n",
      "Ghost.\n",
      "Pity me not, but lend thy serious hearing\n",
      "To what I shall unfold.\n",
      "\n",
      "Ham.\n",
      "Speak; I am bound to hear.\n",
      "\n",
      "Ghost.\n",
      "So art thou to revenge, when thou shalt hear.\n",
      "\n",
      "Ham.\n",
      "What?\n",
      "\n",
      "Ghost.\n",
      "I am thy father's spirit;\n",
      "Doom'd for a certain term to walk the night,\n",
      "And for the day confin'd to wastein fires,\n",
      "Till the foul crimes done in my days of nature\n",
      "Are burnt and purg'd away. But that I am forbid\n",
      "To tell the secrets of my prison-house,\n",
      "I could a tale unfold whose lightest word\n",
      "Would harrow up thy soul; freeze thy young blood;\n",
      "Make thy two eyes, like stars, start from their spheres;\n",
      "Thy knotted and combined locks to part,\n",
      "And each particular hair to stand on end\n",
      "Like quills upon the fretful porcupine:\n",
      "But this eternal blazon must not be\n",
      "To ears of flesh and blood.--List, list, O, list!--\n",
      "If thou didst ever thy dear father love--\n",
      "\n",
      "Ham.\n",
      "O God!\n",
      "\n",
      "Ghost\n"
     ]
    }
   ],
   "source": [
    "print_bin(18)"
   ]
  },
  {
   "cell_type": "markdown",
   "metadata": {},
   "source": [
    "# 500 bins\n",
    "\n",
    "What if we use a much smaller bin size, to narrow down on more specific passages?"
   ]
  },
  {
   "cell_type": "code",
   "execution_count": 59,
   "metadata": {
    "collapsed": false
   },
   "outputs": [
    {
     "data": {
      "image/png": "[encoded data removed]",
      "text/plain": [
       "<matplotlib.figure.Figure at 0x1186488d0>"
      ]
     },
     "metadata": {},
     "output_type": "display_data"
    }
   ],
   "source": [
    "plt.figure(figsize=(20, 5))\n",
    "\n",
    "n, bins, patches = plt.hist(\n",
    "    quoted,\n",
    "    range=(0, len(hamlet.tokens)),\n",
    "    bins=500,\n",
    "    color='green',\n",
    ")\n",
    "\n",
    "plt.show()"
   ]
  },
  {
   "cell_type": "markdown",
   "metadata": {},
   "source": [
    "And then print out the top 20 passages (separated by the lines). Quick thoughts:\n",
    "\n",
    "- So, by a fairly large magin, the most-cited passage in the novels is \"when our deep plots do fail.\"\n",
    "- Interesting that \"to be\" is fairly far down, #7.\n",
    "- #3, bin 93, Hamlet talking to the ghost at the end of the first act - is surprising to me?"
   ]
  },
  {
   "cell_type": "code",
   "execution_count": 60,
   "metadata": {
    "collapsed": false,
    "scrolled": false
   },
   "outputs": [
    {
     "name": "stdout",
     "output_type": "stream",
     "text": [
      "----------------------------------------------------------------------------------------------------\n",
      "448\n",
      "serves us well,\n",
      "When our deep plots do fail; and that should teach us\n",
      "There's a divinity that shapes our ends,\n",
      "Rough-hew them how we will.\n",
      "\n",
      "Hor.\n",
      "That is most certain.\n",
      "\n",
      "Ham.\n",
      "Up from my cabin,\n",
      "My sea-gown scarf'd about me, in the dark\n",
      "Grop'd I to find out them: had my desire;\n",
      "Finger'd their packet; and, in fine, withdrew\n",
      "To mine own room again: making\n",
      "----------------------------------------------------------------------------------------------------\n",
      "214\n",
      "under a weary life,\n",
      "But that the dread of something after death,--\n",
      "The undiscover'd country, from whose bourn\n",
      "No traveller returns,--puzzles the will,\n",
      "And makes us rather bear those ills we have\n",
      "Than fly to others that we know not of?\n",
      "Thus conscience does make cowards of us all;\n",
      "And thus the native hue of resolution\n",
      "Is sicklied o'er with the pale cast of thought;\n",
      "And enterprises\n",
      "----------------------------------------------------------------------------------------------------\n",
      "93\n",
      "fires,\n",
      "Till the foul crimes done in my days of nature\n",
      "Are burnt and purg'd away. But that I am forbid\n",
      "To tell the secrets of my prison-house,\n",
      "I could a tale unfold whose lightest word\n",
      "Would harrow up thy soul; freeze thy young blood;\n",
      "Make thy two eyes, like stars, start from their spheres;\n",
      "Thy\n",
      "----------------------------------------------------------------------------------------------------\n",
      "114\n",
      "remove, good friends.\n",
      "\n",
      "Hor.\n",
      "O day and night, but this is wondrous strange!\n",
      "\n",
      "Ham.\n",
      "And therefore as a stranger give it welcome.\n",
      "There are more things in heaven and earth, Horatio,\n",
      "Than are dreamt of in your philosophy.\n",
      "But come;--\n",
      "Here, as before, never, so help you mercy,\n",
      "How strange or odd soe'er I bear myself,--\n",
      "As I, perchance, hereafter shall think meet\n",
      "To put an antic disposition\n",
      "----------------------------------------------------------------------------------------------------\n",
      "212\n",
      "thousand natural shocks\n",
      "That flesh is heir to,--'tis a consummation\n",
      "Devoutly to be wish'd. To die,--to sleep;--\n",
      "To sleep! perchance to dream:--ay, there's the rub;\n",
      "For in that sleep of death what dreams may come,\n",
      "When we have shuffled off this mortal coil,\n",
      "Must give us pause: there's the respect\n",
      "That makes calamity\n",
      "----------------------------------------------------------------------------------------------------\n",
      "70\n",
      "d in fancy; rich, not gaudy:\n",
      "For the apparel oft proclaims the man;\n",
      "And they in France of the best rank and station\n",
      "Are most select and generous chief in that.\n",
      "Neither a borrower nor a lender be:\n",
      "For loan oft loses both itself and friend;\n",
      "And borrowing dulls the edge of husbandry.\n",
      "This above all,--to thine own self be true\n",
      "----------------------------------------------------------------------------------------------------\n",
      "211\n",
      "hear him coming: let's withdraw, my lord.\n",
      "\n",
      "[Exeunt King and Polonius.]\n",
      "\n",
      "[Enter Hamlet.]\n",
      "\n",
      "Ham.\n",
      "To be, or not to be,--that is the question:--\n",
      "Whether 'tis nobler in the mind to suffer\n",
      "The slings and arrows of outrageous fortune\n",
      "Or to take arms against a sea of troubles,\n",
      "And by opposing end them?--To die,--to sleep,--\n",
      "No more; and by a sleep to say we end\n",
      "The heartache\n",
      "----------------------------------------------------------------------------------------------------\n",
      "23\n",
      "s birth is celebrated,\n",
      "The bird of dawning singeth all night long;\n",
      "And then, they say, no spirit dare stir abroad;\n",
      "The nights are wholesome; then no planets strike,\n",
      "No fairy takes, nor witch hath power to charm;\n",
      "So hallow'd and so gracious is the time.\n",
      "\n",
      "Hor.\n",
      "So have I heard, and do in part believe it.\n",
      "But, look, the morn, in russet\n",
      "----------------------------------------------------------------------------------------------------\n",
      "71\n",
      "must follow, as the night the day,\n",
      "Thou canst not then be false to any man.\n",
      "Farewell: my blessing season this in thee!\n",
      "\n",
      "Laer.\n",
      "Most humbly do I take my leave, my lord.\n",
      "\n",
      "Pol.\n",
      "The time invites you; go, your servants tend.\n",
      "\n",
      "Laer.\n",
      "Farewell, Ophelia; and remember well\n",
      "What I have said to you.\n",
      "\n",
      "Oph.\n",
      "'Tis in my memory lock'd,\n",
      "And you yourself shall keep the key of it.\n",
      "\n",
      "Laer\n",
      "----------------------------------------------------------------------------------------------------\n",
      "94\n",
      "knotted and combined locks to part,\n",
      "And each particular hair to stand on end\n",
      "Like quills upon the fretful porcupine:\n",
      "But this eternal blazon must not be\n",
      "To ears of flesh and blood.--List, list, O, list!--\n",
      "If thou didst ever thy dear father love--\n",
      "\n",
      "Ham.\n",
      "O God!\n",
      "\n",
      "Ghost\n",
      "----------------------------------------------------------------------------------------------------\n",
      "213\n",
      "bear the whips and scorns of time,\n",
      "The oppressor's wrong, the proud man's contumely,\n",
      "The pangs of despis'd love, the law's delay,\n",
      "The insolence of office, and the spurns\n",
      "That patient merit of the unworthy takes,\n",
      "When he himself might his quietus make\n",
      "With a bare bodkin? who would these fardels bear,\n",
      "To grunt and sweat\n",
      "----------------------------------------------------------------------------------------------------\n",
      "142\n",
      "mad:\n",
      "Mad call I it; for to define true madness,\n",
      "What is't but to be nothing else but mad?\n",
      "But let that go.\n",
      "\n",
      "Queen.\n",
      "More matter, with less art.\n",
      "\n",
      "Pol.\n",
      "Madam, I swear I use no art at all.\n",
      "That he is mad, 'tis true: 'tis true 'tis pity;\n",
      "And pity 'tis 'tis true: a foolish figure;\n",
      "But farewell\n",
      "----------------------------------------------------------------------------------------------------\n",
      "68\n",
      "memory\n",
      "Look thou character. Give thy thoughts no tongue,\n",
      "Nor any unproportion'd thought his act.\n",
      "Be thou familiar, but by no means vulgar.\n",
      "Those friends thou hast, and their adoption tried,\n",
      "Grapple them unto thy soul with hoops of steel;\n",
      "But do not dull thy palm with entertainment\n",
      "Of each\n",
      "----------------------------------------------------------------------------------------------------\n",
      "83\n",
      "eale\n",
      "Doth all the noble substance often doubt\n",
      "To his own scandal.\n",
      "\n",
      "Hor.\n",
      "Look, my lord, it comes!\n",
      "\n",
      "[Enter Ghost.]\n",
      "\n",
      "Ham.\n",
      "Angels and ministers of grace defend us!--\n",
      "Be thou a spirit of health or goblin damn'd,\n",
      "Bring with thee airs from heaven or blasts from hell,\n",
      "Be thy\n",
      "----------------------------------------------------------------------------------------------------\n",
      "145\n",
      "Doubt thou the stars are fire;\n",
      "     Doubt that the sun doth move;\n",
      "   Doubt truth to be a liar;\n",
      "     But never doubt I love.\n",
      "'O dear Ophelia, I am ill at these numbers; I have not art to\n",
      "reckon my groans: but that I love thee best, O most best, believe\n",
      "it. Adieu.\n",
      "  'Thine evermore, most dear lady, whilst this machine\n",
      "----------------------------------------------------------------------------------------------------\n",
      "167\n",
      "appears no other thing\n",
      "to me than a foul and pestilent congregation of vapours. What a\n",
      "piece of work is man! How noble in reason! how infinite in\n",
      "faculties! in form and moving, how express and admirable! in\n",
      "action how like an angel! in apprehension, how like a god! the\n",
      "beauty of the world! the paragon of animals! And yet, to me, what\n",
      "is this quintessence of dust? Man delights not me; no, nor woman\n",
      "neither, though by your smiling\n",
      "----------------------------------------------------------------------------------------------------\n",
      "42\n",
      "bruit again,\n",
      "Re-speaking earthly thunder. Come away.\n",
      "\n",
      "[Exeunt all but Hamlet.]\n",
      "\n",
      "Ham.\n",
      "O that this too too solid flesh would melt,\n",
      "Thaw, and resolve itself into a dew!\n",
      "Or that the Everlasting had not fix'd\n",
      "His canon 'gainst self-slaughter! O God! O God!\n",
      "How weary, stale, flat\n",
      "----------------------------------------------------------------------------------------------------\n",
      "236\n",
      "spirits,\n",
      "To feed and clothe thee? Why should the poor be flatter'd?\n",
      "No, let the candied tongue lick absurd pomp;\n",
      "And crook the pregnant hinges of the knee\n",
      "Where thrift may follow fawning. Dost thou hear?\n",
      "Since my dear soul was mistress of her choice,\n",
      "And could of men distinguish, her election\n",
      "----------------------------------------------------------------------------------------------------\n",
      "221\n",
      "pure as snow, thou shalt not escape\n",
      "calumny. Get thee to a nunnery, go: farewell. Or, if thou wilt\n",
      "needs marry, marry a fool; for wise men know well enough what\n",
      "monsters you make of them. To a nunnery, go; and quickly too.\n",
      "Farewell.\n",
      "\n",
      "Oph.\n",
      "O heavenly powers, restore him!\n",
      "\n",
      "Ham.\n",
      "I have heard of your paintings\n",
      "----------------------------------------------------------------------------------------------------\n",
      "304\n",
      "lighted on a heaven-kissing hill:\n",
      "A combination and a form, indeed,\n",
      "Where every god did seem to set his seal,\n",
      "To give the world assurance of a man;\n",
      "This was your husband.--Look you now what follows:\n",
      "Here is your husband, like a milldew'd ear\n",
      "Blasting his wholesome brother. Have you eyes?\n",
      "Could you on this fair mountain leave to feed,\n",
      "And batten on this moor? Ha! have you eyes\n"
     ]
    }
   ],
   "source": [
    "bin_idxs = np.argsort(n)[::-1]\n",
    "\n",
    "for idx in bin_idxs[:20]:\n",
    "    print('-'*100)\n",
    "    print(idx)\n",
    "    print_bin(idx)"
   ]
  },
  {
   "cell_type": "code",
   "execution_count": null,
   "metadata": {
    "collapsed": true
   },
   "outputs": [],
   "source": []
  }
 ],
 "metadata": {
  "kernelspec": {
   "display_name": "Python 3",
   "language": "python",
   "name": "python3"
  },
  "language_info": {
   "codemirror_mode": {
    "name": "ipython",
    "version": 3
   },
   "file_extension": ".py",
   "mimetype": "text/x-python",
   "name": "python",
   "nbconvert_exporter": "python",
   "pygments_lexer": "ipython3",
   "version": "3.5.2"
  }
 },
 "nbformat": 4,
 "nbformat_minor": 1
}
