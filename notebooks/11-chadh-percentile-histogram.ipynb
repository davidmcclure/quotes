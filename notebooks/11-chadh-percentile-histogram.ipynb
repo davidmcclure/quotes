{
 "cells": [
  {
   "cell_type": "markdown",
   "metadata": {},
   "source": [
    "# Aggregate quotation density across novel time"
   ]
  },
  {
   "cell_type": "markdown",
   "metadata": {
    "collapsed": true
   },
   "source": [
    "import matplotlib.pyplot as plt\n",
    "%matplotlib inline"
   ]
  },
  {
   "cell_type": "code",
   "execution_count": 2,
   "metadata": {
    "collapsed": true
   },
   "outputs": [],
   "source": [
    "from sqlalchemy import func\n",
    "\n",
    "from quotes.models import ChadhNovel, BPOArticle, Alignment\n",
    "from quotes.services import session"
   ]
  },
  {
   "cell_type": "code",
   "execution_count": 10,
   "metadata": {
    "collapsed": true
   },
   "outputs": [],
   "source": [
    "import numpy as np\n",
    "import math\n",
    "\n",
    "from quotes.text import Text\n",
    "\n",
    "def percentile_counts(slug):\n",
    "    \n",
    "    novel = ChadhNovel.query.filter_by(slug=slug).one()\n",
    "    \n",
    "    alignments = (\n",
    "        Alignment.query\n",
    "        .join(BPOArticle)\n",
    "        .filter(\n",
    "            Alignment.a_id == novel.id,\n",
    "            Alignment.size >= 5,\n",
    "            BPOArticle.object_type == 'Review',\n",
    "        )\n",
    "    )\n",
    "    \n",
    "    quoted = []\n",
    "    for a in alignments:\n",
    "        quoted += range(a.a_start, a.a_start + a.size)\n",
    "\n",
    "    text = Text(novel.text)\n",
    "    \n",
    "    counts = np.zeros(100)\n",
    "    for offset in quoted:\n",
    "        counts[math.floor(offset/len(text.tokens)*100)] += 1\n",
    "        \n",
    "    return counts"
   ]
  },
  {
   "cell_type": "code",
   "execution_count": null,
   "metadata": {
    "collapsed": false
   },
   "outputs": [],
   "source": [
    "counts = []\n",
    "for novel in ChadhNovel.query.all():\n",
    "    counts.append(percentile_counts(novel.slug))"
   ]
  },
  {
   "cell_type": "code",
   "execution_count": 29,
   "metadata": {
    "collapsed": false
   },
   "outputs": [
    {
     "data": {
      "image/png": "[encoded data removed]",
      "text/plain": [
       "<matplotlib.figure.Figure at 0x12418fcf8>"
      ]
     },
     "metadata": {},
     "output_type": "display_data"
    }
   ],
   "source": [
    "plt.xlabel('Narrative time')\n",
    "plt.ylabel('Total quotations')\n",
    "\n",
    "plt.bar(\n",
    "    np.arange(100),\n",
    "    sum(counts),\n",
    "    edgecolor='none',\n",
    "    color='green',\n",
    ")\n",
    "\n",
    "plt.show()"
   ]
  },
  {
   "cell_type": "markdown",
   "metadata": {},
   "source": [
    "So, beginnings and ends, and maybe something interesting happening at ~15%?"
   ]
  },
  {
   "cell_type": "code",
   "execution_count": null,
   "metadata": {
    "collapsed": true
   },
   "outputs": [],
   "source": []
  }
 ],
 "metadata": {
  "kernelspec": {
   "display_name": "Python 3",
   "language": "python",
   "name": "python3"
  },
  "language_info": {
   "codemirror_mode": {
    "name": "ipython",
    "version": 3
   },
   "file_extension": ".py",
   "mimetype": "text/x-python",
   "name": "python",
   "nbconvert_exporter": "python",
   "pygments_lexer": "ipython3",
   "version": "3.5.2"
  }
 },
 "nbformat": 4,
 "nbformat_minor": 2
}
