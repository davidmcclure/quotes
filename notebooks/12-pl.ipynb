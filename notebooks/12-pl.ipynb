{
 "cells": [
  {
   "cell_type": "code",
   "execution_count": 1,
   "metadata": {
    "collapsed": true
   },
   "outputs": [],
   "source": [
    "import matplotlib.pyplot as plt\n",
    "%matplotlib inline"
   ]
  },
  {
   "cell_type": "code",
   "execution_count": 7,
   "metadata": {
    "collapsed": true
   },
   "outputs": [],
   "source": [
    "from quotes.models import Alignment, QueryText"
   ]
  },
  {
   "cell_type": "code",
   "execution_count": 3,
   "metadata": {
    "collapsed": false
   },
   "outputs": [],
   "source": [
    "quoted = []\n",
    "\n",
    "for m in Alignment.query.filter(Alignment.size >= 5):\n",
    "    quoted += range(m.a_start, m.a_start + m.size)"
   ]
  },
  {
   "cell_type": "code",
   "execution_count": 9,
   "metadata": {
    "collapsed": false
   },
   "outputs": [],
   "source": [
    "from quotes.text import Text\n",
    "\n",
    "qt = QueryText.query.filter_by(slug='pl').one()\n",
    "pl = Text(qt.text)"
   ]
  },
  {
   "cell_type": "markdown",
   "metadata": {},
   "source": [
    "# 100 bins"
   ]
  },
  {
   "cell_type": "code",
   "execution_count": 12,
   "metadata": {
    "collapsed": false
   },
   "outputs": [
    {
     "data": {
      "image/png": "[encoded data removed]",
      "text/plain": [
       "<matplotlib.figure.Figure at 0x108aa0940>"
      ]
     },
     "metadata": {},
     "output_type": "display_data"
    }
   ],
   "source": [
    "plt.figure(figsize=(20, 5))\n",
    "\n",
    "n, bins, patches = plt.hist(\n",
    "    quoted,\n",
    "    range=(0, len(pl.tokens)),\n",
    "    bins=100,\n",
    "    color='green',\n",
    ")\n",
    "\n",
    "plt.show()"
   ]
  },
  {
   "cell_type": "code",
   "execution_count": 16,
   "metadata": {
    "collapsed": false
   },
   "outputs": [],
   "source": [
    "import numpy as np\n",
    "\n",
    "bin_idxs = np.argsort(n)[::-1]"
   ]
  },
  {
   "cell_type": "code",
   "execution_count": 17,
   "metadata": {
    "collapsed": true
   },
   "outputs": [],
   "source": [
    "def print_bin(idx):\n",
    "    \n",
    "    token1 = int(bins[idx])\n",
    "    token2 = int(bins[idx+1]-1)\n",
    "    \n",
    "    char1 = pl.tokens[token1].char1\n",
    "    char2 = pl.tokens[token2].char2\n",
    "\n",
    "    print(pl.text[char1:char2])"
   ]
  },
  {
   "cell_type": "code",
   "execution_count": 18,
   "metadata": {
    "collapsed": false,
    "scrolled": false
   },
   "outputs": [
    {
     "name": "stdout",
     "output_type": "stream",
     "text": [
      "----------------------------------------------------------------------------------------------------\n",
      "5\n",
      "sound\n",
      "  Of Trumpets loud and Clarions be upreard\n",
      "  His mighty Standard; that proud honour claim'd\n",
      "  AZAZEL as his right, a Cherube tall:\n",
      "  Who forthwith from the glittering Staff unfurld\n",
      "  Th' Imperial Ensign, which full high advanc't\n",
      "  Shon like a Meteor streaming to the Wind\n",
      "  With Gemms and Golden lustre rich imblaz'd,\n",
      "  Seraphic arms and Trophies: all the while\n",
      "  Sonorous mettal blowing Martial sounds:\n",
      "  At which the universal Host upsent\n",
      "  A shout that tore Hells Concave, and beyond\n",
      "  Frighted the Reign of CHAOS and old Night.\n",
      "  All in a moment through the gloom were seen\n",
      "  Ten thousand Banners rise into the Air\n",
      "  With Orient Colours waving: with them rose\n",
      "  A Forrest huge of Spears: and thronging Helms\n",
      "  Appear'd, and serried Shields in thick array\n",
      "  Of depth immeasurable: Anon they move\n",
      "  In perfect PHALANX to the Dorian mood\n",
      "  Of Flutes and soft Recorders; such as rais'd\n",
      "  To highth of noblest temper Hero's old\n",
      "  Arming to Battel, and in stead of rage\n",
      "  Deliberate valour breath'd, firm and unmov'd\n",
      "  With dread of death to flight or foul retreat,\n",
      "  Nor wanting power to mitigate and swage\n",
      "  With solemn touches, troubl'd thoughts, and chase\n",
      "  Anguish and doubt and fear and sorrow and pain\n",
      "  From mortal or immortal minds.  Thus they\n",
      "  Breathing united force with fixed thought\n",
      "  Mov'd on in silence to soft Pipes that charm'd\n",
      "  Thir painful steps o're the burnt soyle; and now\n",
      "  Advanc't in view they stand, a horrid Front\n",
      "  Of dreadful length and dazling Arms, in guise\n",
      "  Of Warriers old with order'd Spear and Shield,\n",
      "  Awaiting what command thir mighty Chief\n",
      "  Had to impose: He through the armed Files\n",
      "  Darts his experienc't eye, and soon traverse\n",
      "  The whole Battalion views, thir order due,\n",
      "  Thir visages and stature as of Gods,\n",
      "  Thir number last he summs.  And now his heart\n",
      "  Distends with pride, and hardning in his strength\n",
      "  Glories: For never since created man,\n",
      "  Met such imbodied force, as nam'd with these\n",
      "  Could merit more then that small infantry\n",
      "  Warr'd on by Cranes: though all the Giant brood\n",
      "  Of PHLEGRA with th' Heroic Race were joyn'd\n",
      "  That fought at THEB'S and ILIUM, on each side\n",
      "  Mixt with auxiliar Gods; and what resounds\n",
      "  In Fable or ROMANCE of UTHERS Son\n",
      "  Begirt with BRITISH and ARMORIC Knights;\n",
      "  And all who since, Baptiz'd or Infidel\n",
      "  Jousted in ASPRAMONT or MONTALBAN,\n",
      "  DAMASCO, or MAROCCO, or TREBISOND,\n",
      "  Or whom BISERTA sent from AFRIC shore\n",
      "  When CHARLEMAIN with all his Peerage fell\n",
      "  By FONTARABBIA.  Thus far these beyond\n",
      "  Compare of mortal prowess, yet observ'd\n",
      "  Thir dread Commander: he above the rest\n",
      "  In shape and gesture proudly eminent\n",
      "  Stood like a Towr; his form had yet not lost\n",
      "  All her Original brightness, nor appear'd\n",
      "  Less then Arch Angel ruind, and th' excess\n",
      "  Of Glory obscur'd: As when the Sun new ris'n\n",
      "  Looks through the Horizontal misty Air\n",
      "  Shorn of his Beams, or from behind the Moon\n",
      "  In dim Eclips disastrous twilight sheds\n",
      "  On half the Nations, and with fear of change\n",
      "  Perplexes Monarchs.  Dark'n'd so, yet shon\n",
      "  Above them all th' Arch Angel: but his face\n",
      "  Deep scars of Thunder had intrencht, and care\n",
      "  Sat on his faded cheek, but under Browes\n",
      "  Of dauntless courage, and considerate Pride\n",
      "  Waiting revenge: cruel his eye, but cast\n",
      "  Signs of remorse and passion to behold\n",
      "  The fellows of his crime, the followers rather\n",
      "  (Far other once beheld in bliss) condemn'd\n",
      "  For ever now to have their lot in pain,\n",
      "  Millions of Spirits for his fault amerc't\n",
      "  Of Heav'n, and from Eternal Splendors flung\n",
      "  For his revolt, yet faithfull how they stood,\n",
      "  Thir Glory witherd.  As when Heavens Fire\n",
      "  Hath scath'd the Forrest Oaks, or Mountain Pines,\n",
      "  With singed top their stately growth though bare\n",
      "  Stands on the blasted Heath.  He now prepar'd\n",
      "  To speak; whereat their doubl'd Ranks they bend\n",
      "  From Wing to Wing, and half enclose him round\n",
      "  With all his Peers: attention held them mute.\n",
      "  Thrice he assayd, and thrice in spite of scorn,\n",
      "  Tears such as Angels weep, burst forth: at last\n",
      "  Words interwove with sighs found out their way.\n",
      "\n",
      "    O Myriads of immortal Spirits, O Powers\n",
      "  Matchless, but with th' Almighty, and that strife\n",
      "  Was not inglorious, though th' event was dire,\n",
      "  As this place testifies, and this dire change\n",
      "  Hateful to utter: but what power of mind\n",
      "  Foreseeing or presaging, from the Depth\n",
      "  Of knowledge past or present, could have fear'd,\n",
      "  How such united force of Gods, how such\n",
      "  As stood like these, could ever know repulse?\n",
      "  For who can yet\n",
      "----------------------------------------------------------------------------------------------------\n",
      "0\n",
      "PARADISE LOST\n",
      "\n",
      "  BOOK I.\n",
      "\n",
      "\n",
      "    Of Mans First Disobedience, and the Fruit\n",
      "  Of that Forbidden Tree, whose mortal tast\n",
      "  Brought Death into the World, and all our woe,\n",
      "  With loss of EDEN, till one greater Man\n",
      "  Restore us, and regain the blissful Seat,\n",
      "  Sing Heav'nly Muse, that on the secret top\n",
      "  Of OREB, or of SINAI, didst inspire\n",
      "  That Shepherd, who first taught the chosen Seed,\n",
      "  In the Beginning how the Heav'ns and Earth\n",
      "  Rose out of CHAOS: Or if SION Hill\n",
      "  Delight thee more, and SILOA'S Brook that flow'd\n",
      "  Fast by the Oracle of God; I thence\n",
      "  Invoke thy aid to my adventrous Song,\n",
      "  That with no middle flight intends to soar\n",
      "  Above th' AONIAN Mount, while it pursues\n",
      "  Things unattempted yet in Prose or Rhime.\n",
      "  And chiefly Thou O Spirit, that dost prefer\n",
      "  Before all Temples th' upright heart and pure,\n",
      "  Instruct me, for Thou know'st; Thou from the first\n",
      "  Wast present, and with mighty wings outspread\n",
      "  Dove-like satst brooding on the vast Abyss\n",
      "  And mad'st it pregnant: What in me is dark\n",
      "  Illumine, what is low raise and support;\n",
      "  That to the highth of this great Argument\n",
      "  I may assert th' Eternal Providence,\n",
      "  And justifie the wayes of God to men.\n",
      "\n",
      "    Say first, for Heav'n hides nothing from thy view\n",
      "  Nor the deep Tract of Hell, say first what cause\n",
      "  Mov'd our Grand Parents in that happy State,\n",
      "  Favour'd of Heav'n so highly, to fall off\n",
      "  From their Creator, and transgress his Will\n",
      "  For one restraint, Lords of the World besides?\n",
      "  Who first seduc'd them to that fowl revolt?\n",
      "  Th' infernal Serpent; he it was, whose guile\n",
      "  Stird up with Envy and Revenge, deceiv'd\n",
      "  The Mother of Mankinde, what time his Pride\n",
      "  Had cast him out from Heav'n, with all his Host\n",
      "  Of Rebel Angels, by whose aid aspiring\n",
      "  To set himself in Glory above his Peers,\n",
      "  He trusted to have equal'd the most High,\n",
      "  If he oppos'd; and with ambitious aim\n",
      "  Against the Throne and Monarchy of God\n",
      "  Rais'd impious War in Heav'n and Battel proud\n",
      "  With vain attempt.  Him the Almighty Power\n",
      "  Hurld headlong flaming from th' Ethereal Skie\n",
      "  With hideous ruine and combustion down\n",
      "  To bottomless perdition, there to dwell\n",
      "  In Adamantine Chains and penal Fire,\n",
      "  Who durst defie th' Omnipotent to Arms.\n",
      "  Nine times the Space that measures Day and Night\n",
      "  To mortal men, he with his horrid crew\n",
      "  Lay vanquisht, rowling in the fiery Gulfe\n",
      "  Confounded though immortal: But his doom\n",
      "  Reserv'd him to more wrath; for now the thought\n",
      "  Both of lost happiness and lasting pain\n",
      "  Torments him; round he throws his baleful eyes\n",
      "  That witness'd huge affliction and dismay\n",
      "  Mixt with obdurate pride and stedfast hate:\n",
      "  At once as far as Angels kenn he views\n",
      "  The dismal Situation waste and wilde,\n",
      "  A Dungeon horrible, on all sides round\n",
      "  As one great Furnace flam'd, yet from those flames\n",
      "  No light, but rather darkness visible\n",
      "  Serv'd only to discover sights of woe,\n",
      "  Regions of sorrow, doleful shades, where peace\n",
      "  And rest can never dwell, hope never comes\n",
      "  That comes to all; but torture without end\n",
      "  Still urges, and a fiery Deluge, fed\n",
      "  With ever-burning Sulphur unconsum'd:\n",
      "  Such place Eternal Justice had prepar'd\n",
      "  For those rebellious, here their Prison ordain'd\n",
      "  In utter darkness, and their portion set\n",
      "  As far remov'd from God and light of Heav'n\n",
      "  As from the Center thrice to th' utmost Pole.\n",
      "  O how unlike the place from whence they fell!\n",
      "  There the companions of his fall, o'rewhelm'd\n",
      "  With Floods and Whirlwinds of tempestuous fire,\n",
      "  He soon discerns, and weltring by his side\n",
      "  One next himself in power, and next in crime,\n",
      "  Long after known in PALESTINE, and nam'd\n",
      "  BEELZEBUB.  To whom th' Arch-Enemy,\n",
      "  And thence in Heav'n call'd Satan, with bold words\n",
      "  Breaking the horrid silence thus began.\n",
      "\n",
      "    If thou beest he; But O how fall'n! how chang'd\n",
      "  From him, who in the happy Realms of Light\n",
      "  Cloth'd with transcendent brightnes didst outshine\n",
      "  Myriads though bright: If he whom mutual league,\n",
      "  United thoughts and counsels, equal hope,\n",
      "  And hazard in the Glorious Enterprize,\n",
      "  Joynd with me once, now misery hath joynd\n",
      "  In equal ruin: into what Pit thou seest\n",
      "  From what highth fal'n, so much the stronger provd\n",
      "  He with his Thunder: and till then who knew\n",
      "  The force of those dire Arms? yet not for those\n",
      "  Nor what the Potent Victor in his rage\n",
      "  Can else inflict do I repent or change,\n",
      "  Though chang'd in outward lustre; that fixt mind\n",
      "  And high disdain, from sence of injur'd merit,\n",
      "  That with the mightiest rais'd me to contend,\n",
      "  And to the fierce contention brought along\n",
      "  Innumerable force of Spirits arm'd\n",
      "  That durst dislike his reign, and me preferring,\n",
      "  His utmost power\n",
      "----------------------------------------------------------------------------------------------------\n",
      "2\n",
      "crimes he might\n",
      "  Heap on himself damnation, while he sought\n",
      "  Evil to others, and enrag'd might see\n",
      "  How all his malice serv'd but to bring forth\n",
      "  Infinite goodness, grace and mercy shewn\n",
      "  On Man by him seduc't, but on himself\n",
      "  Treble confusion, wrath and vengeance pour'd.\n",
      "  Forthwith upright he rears from off the Pool\n",
      "  His mighty Stature; on each hand the flames\n",
      "  Drivn backward slope their pointing spires, & rowld\n",
      "  In billows, leave i'th' midst a horrid Vale.\n",
      "  Then with expanded wings he stears his flight\n",
      "  Aloft, incumbent on the dusky Air\n",
      "  That felt unusual weight, till on dry Land\n",
      "  He lights, if it were Land that ever burn'd\n",
      "  With solid, as the Lake with liquid fire;\n",
      "  And such appear'd in hue, as when the force\n",
      "  Of subterranean wind transports a Hill\n",
      "  Torn from PELORUS, or the shatter'd side\n",
      "  Of thundring AETNA, whose combustible\n",
      "  And fewel'd entrals thence conceiving Fire,\n",
      "  Sublim'd with Mineral fury, aid the Winds,\n",
      "  And leave a singed bottom all involv'd\n",
      "  With stench and smoak: Such resting found the sole\n",
      "  Of unblest feet.  Him followed his next Mate,\n",
      "  Both glorying to have scap't the STYGIAN flood\n",
      "  As Gods, and by their own recover'd strength,\n",
      "  Not by the sufferance of supernal Power.\n",
      "\n",
      "    Is this the Region, this the Soil, the Clime,\n",
      "  Said then the lost Arch Angel, this the seat\n",
      "  That we must change for Heav'n, this mournful gloom\n",
      "  For that celestial light?  Be it so, since hee\n",
      "  Who now is Sovran can dispose and bid\n",
      "  What shall be right: fardest from him is best\n",
      "  Whom reason hath equald, force hath made supream\n",
      "  Above his equals.  Farewel happy Fields\n",
      "  Where Joy for ever dwells: Hail horrours, hail\n",
      "  Infernal world, and thou profoundest Hell\n",
      "  Receive thy new Possessor: One who brings\n",
      "  A mind not to be chang'd by Place or Time.\n",
      "  The mind is its own place, and in it self\n",
      "  Can make a Heav'n of Hell, a Hell of Heav'n.\n",
      "  What matter where, if I be still the same,\n",
      "  And what I should be, all but less then hee\n",
      "  Whom Thunder hath made greater?  Here at least\n",
      "  We shall be free; th' Almighty hath not built\n",
      "  Here for his envy, will not drive us hence:\n",
      "  Here we may reign secure, and in my choyce\n",
      "  To reign is worth ambition though in Hell:\n",
      "  Better to reign in Hell, then serve in Heav'n.\n",
      "  But wherefore let we then our faithful friends,\n",
      "  Th' associates and copartners of our loss\n",
      "  Lye thus astonisht on th' oblivious Pool,\n",
      "  And call them not to share with us their part\n",
      "  In this unhappy Mansion, or once more\n",
      "  With rallied Arms to try what may be yet\n",
      "  Regaind in Heav'n, or what more lost in Hell?\n",
      "\n",
      "    So SATAN spake, and him BEELZEBUB\n",
      "  Thus answer'd.  Leader of those Armies bright,\n",
      "  Which but th' Omnipotent none could have foyld,\n",
      "  If once they hear that voyce, their liveliest pledge\n",
      "  Of hope in fears and dangers, heard so oft\n",
      "  In worst extreams, and on the perilous edge\n",
      "  Of battel when it rag'd, in all assaults\n",
      "  Their surest signal, they will soon resume\n",
      "  New courage and revive, though now they lye\n",
      "  Groveling and prostrate on yon Lake of Fire,\n",
      "  As we erewhile, astounded and amaz'd,\n",
      "  No wonder, fall'n such a pernicious highth.\n",
      "\n",
      "    He scarce had ceas't when the superiour Fiend\n",
      "  Was moving toward the shore; his ponderous shield\n",
      "  Ethereal temper, massy, large and round,\n",
      "  Behind him cast; the broad circumference\n",
      "  Hung on his shoulders like the Moon, whose Orb\n",
      "  Through Optic Glass the TUSCAN Artist views\n",
      "  At Ev'ning from the top of FESOLE,\n",
      "  Or in VALDARNO, to descry new Lands,\n",
      "  Rivers or Mountains in her spotty Globe.\n",
      "  His Spear, to equal which the tallest Pine\n",
      "  Hewn on NORWEGIAN hills, to be the Mast\n",
      "  Of some great Ammiral, were but a wand,\n",
      "  He walkt with to support uneasie steps\n",
      "  Over the burning Marle, not like those steps\n",
      "  On Heavens Azure, and the torrid Clime\n",
      "  Smote on him sore besides, vaulted with Fire;\n",
      "  Nathless he so endur'd, till on the Beach\n",
      "  Of that inflamed Sea, he stood and call'd\n",
      "  His Legions, Angel Forms, who lay intrans't\n",
      "  Thick as Autumnal Leaves that strow the Brooks\n",
      "  In VALLOMBROSA, where th' ETRURIAN shades\n",
      "  High overarch't imbowr; or scatterd sedge\n",
      "  Afloat, when with fierce Winds ORION arm'd\n",
      "  Hath vext the Red-Sea Coast, whose waves orethrew\n",
      "  BUSIRIS and his MEMPHIAN Chivalrie,\n",
      "  VVhile with perfidious hatred they pursu'd\n",
      "  The Sojourners of GOSHEN, who beheld\n",
      "  From the safe shore their floating Carkases\n",
      "  And broken Chariot Wheels, so thick bestrown\n",
      "  Abject and lost lay these, covering the Flood,\n",
      "  Under amazement of their hideous change.\n",
      "  He call'd so loud, that all the hollow Deep\n",
      "  Of Hell resounded.  Princes, Potentates,\n",
      "  Warriers, the Flowr of Heav'n, once yours, now lost,\n",
      "  If such astonishment as this can sieze\n",
      "  Eternal spirits; or have ye chos'n this place\n",
      "  After the toyl of Battel to repose\n",
      "  Your wearied vertue, for the ease you find\n",
      "  To slumber\n",
      "----------------------------------------------------------------------------------------------------\n",
      "13\n",
      "waves of torrent fire inflame with rage.\n",
      "  Farr off from these a slow and silent stream,\n",
      "  LETHE the River of Oblivion roules\n",
      "  Her watrie Labyrinth, whereof who drinks,\n",
      "  Forthwith his former state and being forgets,\n",
      "  Forgets both joy and grief, pleasure and pain.\n",
      "  Beyond this flood a frozen Continent\n",
      "  Lies dark and wilde, beat with perpetual storms\n",
      "  Of Whirlwind and dire Hail, which on firm land\n",
      "  Thaws not, but gathers heap, and ruin seems\n",
      "  Of ancient pile; all else deep snow and ice,\n",
      "  A gulf profound as that SERBONIAN Bog\n",
      "  Betwixt DAMIATA and mount CASIUS old,\n",
      "  Where Armies whole have sunk: the parching Air\n",
      "  Burns frore, and cold performs th' effect of Fire.\n",
      "  Thither by harpy-footed Furies hail'd,\n",
      "  At certain revolutions all the damn'd\n",
      "  Are brought: and feel by turns the bitter change\n",
      "  Of fierce extreams, extreams by change more fierce,\n",
      "  From Beds of raging Fire to starve in Ice\n",
      "  Thir soft Ethereal warmth, and there to pine\n",
      "  Immovable, infixt, and frozen round,\n",
      "  Periods of time, thence hurried back to fire.\n",
      "  They ferry over this LETHEAN Sound\n",
      "  Both to and fro, thir sorrow to augment,\n",
      "  And wish and struggle, as they pass, to reach\n",
      "  The tempting stream, with one small drop to loose\n",
      "  In sweet forgetfulness all pain and woe,\n",
      "  All in one moment, and so neer the brink;\n",
      "  But fate withstands, and to oppose th' attempt\n",
      "  MEDUSA with GORGONIAN terror guards\n",
      "  The Ford, and of it self the water flies\n",
      "  All taste of living wight, as once it fled\n",
      "  The lip of TANTALUS.  Thus roving on\n",
      "  In confus'd march forlorn, th' adventrous Bands\n",
      "  With shuddring horror pale, and eyes agast\n",
      "  View'd first thir lamentable lot, and found\n",
      "  No rest: through many a dark and drearie Vaile\n",
      "  They pass'd, and many a Region dolorous,\n",
      "  O're many a Frozen, many a Fierie Alpe,\n",
      "  Rocks, Caves, Lakes, Fens, Bogs, Dens, and shades of death,\n",
      "  A Universe of death, which God by curse\n",
      "  Created evil, for evil only good,\n",
      "  Where all life dies, death lives, and nature breeds,\n",
      "  Perverse, all monstrous, all prodigious things,\n",
      "  Abominable, inutterable, and worse\n",
      "  Then Fables yet have feign'd, or fear conceiv'd,\n",
      "  GORGONS and HYDRA'S, and CHIMERA'S dire.\n",
      "\n",
      "    Mean while the Adversary of God and Man,\n",
      "  SATAN with thoughts inflam'd of highest design,\n",
      "  Puts on swift wings, and toward the Gates of Hell\n",
      "  Explores his solitary flight; som times\n",
      "  He scours the right hand coast, som times the left,\n",
      "  Now shaves with level wing the Deep, then soares\n",
      "  Up to the fiery concave touring high.\n",
      "  As when farr off at Sea a Fleet descri'd\n",
      "  Hangs in the Clouds, by AEQUINOCTIAL Winds\n",
      "  Close sailing from BENGALA, or the Iles\n",
      "  Of TERNATE and TIDORE, whence Merchants bring\n",
      "  Thir spicie Drugs: they on the trading Flood\n",
      "  Through the wide ETHIOPIAN to the Cape\n",
      "  Ply stemming nightly toward the Pole.  So seem'd\n",
      "  Farr off the flying Fiend: at last appeer\n",
      "  Hell bounds high reaching to the horrid Roof,\n",
      "  And thrice threefold the Gates; three folds were Brass\n",
      "  Three Iron, three of Adamantine Rock,\n",
      "  Impenitrable, impal'd with circling fire,\n",
      "  Yet unconsum'd.  Before the Gates there sat\n",
      "  On either side a formidable shape;\n",
      "  The one seem'd Woman to the waste, and fair,\n",
      "  But ended foul in many a scaly fould\n",
      "  Voluminous and vast, a Serpent arm'd\n",
      "  With mortal sting: about her middle round\n",
      "  A cry of Hell Hounds never ceasing bark'd\n",
      "  With wide CERBEREAN mouths full loud, and rung\n",
      "  A hideous Peal: yet, when they list, would creep,\n",
      "  If aught disturb'd thir noyse, into her woomb,\n",
      "  And kennel there, yet there still bark'd and howl'd\n",
      "  Within unseen.  Farr less abhorrd then these\n",
      "  Vex'd SCYLLA bathing in the Sea that parts\n",
      "  CALABRIA from the hoarce TRINACRIAN shore:\n",
      "  Nor uglier follow the Night-Hag, when call'd\n",
      "  In secret, riding through the Air she comes\n",
      "  Lur'd with the smell of infant blood, to dance\n",
      "  With LAPLAND Witches, while the labouring Moon\n",
      "  Eclipses at thir charms.  The other shape,\n",
      "  If shape it might be call'd that shape had none\n",
      "  Distinguishable in member, joynt, or limb,\n",
      "  Or substance might be call'd that shadow seem'd,\n",
      "  For each seem'd either; black it stood as Night,\n",
      "  Fierce as ten Furies, terrible as Hell,\n",
      "  And shook a dreadful Dart; what seem'd his head\n",
      "  The likeness of a Kingly Crown had on.\n",
      "  SATAN was now at hand, and from his seat\n",
      "  The Monster moving onward came as fast,\n",
      "  With horrid strides, Hell trembled as he strode.\n",
      "  Th' undaunted Fiend what this might be admir\n",
      "----------------------------------------------------------------------------------------------------\n",
      "16\n",
      "towards the Gate rouling her bestial train,\n",
      "  Forthwith the huge Porcullis high up drew,\n",
      "  Which but her self not all the STYGIAN powers\n",
      "  Could once have mov'd; then in the key-hole turns\n",
      "  Th' intricate wards, and every Bolt and Bar\n",
      "  Of massie Iron or sollid Rock with ease\n",
      "  Unfast'ns: on a sudden op'n flie\n",
      "  With impetuous recoile and jarring sound\n",
      "  Th' infernal dores, and on thir hinges great\n",
      "  Harsh Thunder, that the lowest bottom shook\n",
      "  Of EREBUS.  She op'nd, but to shut\n",
      "  Excel'd her power; the Gates wide op'n stood,\n",
      "  That with extended wings a Bannerd Host\n",
      "  Under spread Ensigns marching might pass through\n",
      "  With Horse and Chariots rankt in loose array;\n",
      "  So wide they stood, and like a Furnace mouth\n",
      "  Cast forth redounding smoak and ruddy flame.\n",
      "  Before thir eyes in sudden view appear\n",
      "  The secrets of the hoarie deep, a dark\n",
      "  Illimitable Ocean without bound,\n",
      "  Without dimension, where length, breadth, and highth,\n",
      "  And time and place are lost; where eldest Night\n",
      "  And CHAOS, Ancestors of Nature, hold\n",
      "  Eternal ANARCHIE, amidst the noise\n",
      "  Of endless warrs and by confusion stand.\n",
      "  For hot, cold, moist, and dry, four Champions fierce\n",
      "  Strive here for Maistrie, and to Battel bring\n",
      "  Thir embryon Atoms; they around the flag\n",
      "  Of each his faction, in thir several Clanns,\n",
      "  Light-arm'd or heavy, sharp, smooth, swift or slow,\n",
      "  Swarm populous, unnumber'd as the Sands\n",
      "  Of BARCA or CYRENE'S torrid soil,\n",
      "  Levied to side with warring Winds, and poise\n",
      "  Thir lighter wings.  To whom these most adhere,\n",
      "  Hee rules a moment; CHAOS Umpire sits,\n",
      "  And by decision more imbroiles the fray\n",
      "  By which he Reigns: next him high Arbiter\n",
      "  CHANCE governs all.  Into this wilde Abyss,\n",
      "  The Womb of nature and perhaps her Grave,\n",
      "  Of neither Sea, nor Shore, nor Air, nor Fire,\n",
      "  But all these in thir pregnant causes mixt\n",
      "  Confus'dly, and which thus must ever fight,\n",
      "  Unless th' Almighty Maker them ordain\n",
      "  His dark materials to create more Worlds,\n",
      "  Into this wilde Abyss the warie fiend\n",
      "  Stood on the brink of Hell and look'd a while,\n",
      "  Pondering his Voyage; for no narrow frith\n",
      "  He had to cross.  Nor was his eare less peal'd\n",
      "  With noises loud and ruinous (to compare\n",
      "  Great things with small) then when BELLONA storms,\n",
      "  With all her battering Engines bent to rase\n",
      "  Som Capital City, or less then if this frame\n",
      "  Of Heav'n were falling, and these Elements\n",
      "  In mutinie had from her Axle torn\n",
      "  The stedfast Earth.  At last his Sail-broad Vannes\n",
      "  He spreads for flight, and in the surging smoak\n",
      "  Uplifted spurns the ground, thence many a League\n",
      "  As in a cloudy Chair ascending rides\n",
      "  Audacious, but that seat soon failing, meets\n",
      "  A vast vacuitie: all unawares\n",
      "  Fluttring his pennons vain plumb down he drops\n",
      "  Ten thousand fadom deep, and to this hour\n",
      "  Down had been falling, had not by ill chance\n",
      "  The strong rebuff of som tumultuous cloud\n",
      "  Instinct with Fire and Nitre hurried him\n",
      "  As many miles aloft: that furie stay'd,\n",
      "  Quencht in a Boggie SYRTIS, neither Sea,\n",
      "  Nor good dry Land: nigh founderd on he fares,\n",
      "  Treading the crude consistence, half on foot,\n",
      "  Half flying; behoves him now both Oare and Saile.\n",
      "  As when a Gryfon through the Wilderness\n",
      "  With winged course ore Hill or moarie Dale,\n",
      "  Pursues the ARIMASPIAN, who by stelth\n",
      "  Had from his wakeful custody purloind\n",
      "  The guarded Gold: So eagerly the fiend\n",
      "  Ore bog or steep, through strait, rough, dense, or rare,\n",
      "  With head, hands, wings, or feet pursues his way,\n",
      "  And swims or sinks, or wades, or creeps, or flyes:\n",
      "  At length a universal hubbub wilde\n",
      "  Of stunning sounds and voices all confus'd\n",
      "  Born through the hollow dark assaults his eare\n",
      "  With loudest vehemence: thither he plyes,\n",
      "  Undaunted to meet there what ever power\n",
      "  Or Spirit of the nethermost Abyss\n",
      "  Might in that noise reside, of whom to ask\n",
      "  Which way the neerest coast of darkness lyes\n",
      "  Bordering on light; when strait behold the Throne\n",
      "  Of CHAOS, and his dark Pavilion spread\n",
      "  Wide on the wasteful Deep; with him Enthron'd\n",
      "  Sat Sable-vested Night, eldest of things,\n",
      "  The consort of his Reign; and by them stood\n",
      "  ORCUS and ADES, and the dreaded name\n",
      "  Of DEMOGORGON; Rumor next and Chance,\n",
      "  And Tumult and Confusion all imbroild,\n",
      "  And Discord with a thousand various mouths.\n",
      "\n",
      "    T' whom SATAN turning boldly, thus.  Ye Powers\n",
      "  And Spirits of this nethermost Abyss,\n",
      "  CHAOS and ANCIENT NIGHT, I come no Spie,\n",
      "  With purpose to explore or to disturb\n",
      "  The secrets of your Realm, but by constraint\n",
      "  Wandring this darksome desart, as my way\n",
      "  Lies through your spacious Empire up to light,\n",
      "  Alone, and without guide, half lost, I seek\n",
      "  What readiest\n",
      "----------------------------------------------------------------------------------------------------\n",
      "31\n",
      "Land he spreads\n",
      "  His orient Beams, on herb, tree, fruit, and flour,\n",
      "  Glistring with dew; fragrant the fertil earth\n",
      "  After soft showers; and sweet the coming on\n",
      "  Of grateful Eevning milde, then silent Night\n",
      "  With this her solemn Bird and this fair Moon,\n",
      "  And these the Gemms of Heav'n, her starrie train:\n",
      "  But neither breath of Morn when she ascends\n",
      "  With charm of earliest Birds, nor rising Sun\n",
      "  On this delightful land, nor herb, fruit, floure,\n",
      "  Glistring with dew, nor fragrance after showers,\n",
      "  Nor grateful Evening mild, nor silent Night\n",
      "  With this her solemn Bird, nor walk by Moon,\n",
      "  Or glittering Starr-light without thee is sweet.\n",
      "  But wherfore all night long shine these, for whom\n",
      "  This glorious sight, when sleep hath shut all eyes?\n",
      "\n",
      "    To whom our general Ancestor repli'd.\n",
      "  Daughter of God and Man, accomplisht EVE,\n",
      "  Those have thir course to finish, round the Earth,\n",
      "  By morrow Eevning, and from Land to Land\n",
      "  In order, though to Nations yet unborn,\n",
      "  Ministring light prepar'd, they set and rise;\n",
      "  Least total darkness should by Night regaine\n",
      "  Her old possession, and extinguish life\n",
      "  In Nature and all things, which these soft fires\n",
      "  Not only enlighten, but with kindly heate\n",
      "  Of various influence foment and warme,\n",
      "  Temper or nourish, or in part shed down\n",
      "  Thir stellar vertue on all kinds that grow\n",
      "  On Earth, made hereby apter to receive\n",
      "  Perfection from the Suns more potent Ray.\n",
      "  These then, though unbeheld in deep of night,\n",
      "  Shine not in vain, nor think, though men were none,\n",
      "  That heav'n would want spectators, God want praise;\n",
      "  Millions of spiritual Creatures walk the Earth\n",
      "  Unseen, both when we wake, and when we sleep:\n",
      "  All these with ceasless praise his works behold\n",
      "  Both day and night: how often from the steep\n",
      "  Of echoing Hill or Thicket have we heard\n",
      "  Celestial voices to the midnight air,\n",
      "  Sole, or responsive each to others note\n",
      "  Singing thir great Creator: oft in bands\n",
      "  While they keep watch, or nightly rounding walk\n",
      "  With Heav'nly touch of instrumental sounds\n",
      "  In full harmonic number joind, thir songs\n",
      "  Divide the night, and lift our thoughts to Heaven.\n",
      "\n",
      "    Thus talking hand in hand alone they pass'd\n",
      "  On to thir blissful Bower; it was a place\n",
      "  Chos'n by the sovran Planter, when he fram'd\n",
      "  All things to mans delightful use; the roofe\n",
      "  Of thickest covert was inwoven shade\n",
      "  Laurel and Mirtle, and what higher grew\n",
      "  Of firm and fragrant leaf; on either side\n",
      "  ACANTHUS, and each odorous bushie shrub\n",
      "  Fenc'd up the verdant wall; each beauteous flour,\n",
      "  IRIS all hues, Roses, and Gessamin\n",
      "  Rear'd high thir flourisht heads between, and wrought\n",
      "  Mosaic; underfoot the Violet,\n",
      "  Crocus, and Hyacinth with rich inlay\n",
      "  Broiderd the ground, more colour'd then with stone\n",
      "  Of costliest Emblem: other Creature here\n",
      "  Beast, Bird, Insect, or Worm durst enter none;\n",
      "  Such was thir awe of man.  In shadier Bower\n",
      "  More sacred and sequesterd, though but feignd,\n",
      "  PAN or SILVANUS never slept, nor Nymph,\n",
      "  Nor FAUNUS haunted.  Here in close recess\n",
      "  With Flowers, Garlands, and sweet-smelling Herbs\n",
      "  Espoused EVE deckt first her Nuptial Bed,\n",
      "  And heav'nly Quires the Hymenaean sung,\n",
      "  What day the genial Angel to our Sire\n",
      "  Brought her in naked beauty more adorn'd,\n",
      "  More lovely then PANDORA, whom the Gods\n",
      "  Endowd with all thir gifts, and O too like\n",
      "  In sad event, when to the unwiser Son\n",
      "  Of JAPHET brought by HERMES, she ensnar'd\n",
      "  Mankind with her faire looks, to be aveng'd\n",
      "  On him who had stole JOVES authentic fire.\n",
      "\n",
      "    Thus at thir shadie Lodge arriv'd, both stood,\n",
      "  Both turnd, and under op'n Skie ador'd\n",
      "  The God that made both Skie, Air, Earth & Heav'n\n",
      "  Which they beheld, the Moons resplendent Globe\n",
      "  And starrie Pole: Thou also mad'st the Night,\n",
      "  Maker Omnipotent, and thou the Day,\n",
      "  Which we in our appointed work imployd\n",
      "  Have finisht happie in our mutual help\n",
      "  And mutual love, the Crown of all our bliss\n",
      "  Ordain'd by thee, and this delicious place\n",
      "  For us too large, where thy abundance wants\n",
      "  Partakers, and uncropt falls to the ground.\n",
      "  But thou hast promis'd from us two a Race\n",
      "  To fill the Earth, who shall with us extoll\n",
      "  Thy goodness infinite, both when we wake,\n",
      "  And when we seek, as now, thy gift of sleep.\n",
      "\n",
      "    This said unanimous, and other Rites\n",
      "  Observing none, but adoration pure\n",
      "  Which God likes best, into thir inmost bower\n",
      "  Handed they went; and eas'd the putting off\n",
      "  These troublesom disguises which wee wear,\n",
      "  Strait side by side were laid, nor turnd I weene\n",
      "  ADAM from his fair Spouse, nor EVE the Rites\n",
      "  Mysterious of connubial Love refus'd:\n",
      "  Whatever Hypocrites austerely\n",
      "----------------------------------------------------------------------------------------------------\n",
      "1\n",
      "adverse power oppos'd\n",
      "  In dubious Battel on the Plains of Heav'n,\n",
      "  And shook his throne.  What though the field be lost?\n",
      "  All is not lost; the unconquerable Will,\n",
      "  And study of revenge, immortal hate,\n",
      "  And courage never to submit or yield:\n",
      "  And what is else not to be overcome?\n",
      "  That Glory never shall his wrath or might\n",
      "  Extort from me.  To bow and sue for grace\n",
      "  With suppliant knee, and deifie his power\n",
      "  Who from the terrour of this Arm so late\n",
      "  Doubted his Empire, that were low indeed,\n",
      "  That were an ignominy and shame beneath\n",
      "  This downfall; since by Fate the strength of Gods\n",
      "  And this Empyreal substance cannot fail,\n",
      "  Since through experience of this great event\n",
      "  In Arms not worse, in foresight much advanc't,\n",
      "  We may with more successful hope resolve\n",
      "  To wage by force or guile eternal Warr\n",
      "  Irreconcileable, to our grand Foe,\n",
      "  Who now triumphs, and in th' excess of joy\n",
      "  Sole reigning holds the Tyranny of Heav'n.\n",
      "\n",
      "    So spake th' Apostate Angel, though in pain,\n",
      "  Vaunting aloud, but rackt with deep despare:\n",
      "  And him thus answer'd soon his bold Compeer.\n",
      "\n",
      "    O Prince, O Chief of many Throned Powers,\n",
      "  That led th' imbattelld Seraphim to Warr\n",
      "  Under thy conduct, and in dreadful deeds\n",
      "  Fearless, endanger'd Heav'ns perpetual King;\n",
      "  And put to proof his high Supremacy,\n",
      "  Whether upheld by strength, or Chance, or Fate,\n",
      "  Too well I see and rue the dire event,\n",
      "  That with sad overthrow and foul defeat\n",
      "  Hath lost us Heav'n, and all this mighty Host\n",
      "  In horrible destruction laid thus low,\n",
      "  As far as Gods and Heav'nly Essences\n",
      "  Can Perish: for the mind and spirit remains\n",
      "  Invincible, and vigour soon returns,\n",
      "  Though all our Glory extinct, and happy state\n",
      "  Here swallow'd up in endless misery.\n",
      "  But what if he our Conquerour, (whom I now\n",
      "  Of force believe Almighty, since no less\n",
      "  Then such could hav orepow'rd such force as ours)\n",
      "  Have left us this our spirit and strength intire\n",
      "  Strongly to suffer and support our pains,\n",
      "  That we may so suffice his vengeful ire,\n",
      "  Or do him mightier service as his thralls\n",
      "  By right of Warr, what e're his business be\n",
      "  Here in the heart of Hell to work in Fire,\n",
      "  Or do his Errands in the gloomy Deep;\n",
      "  What can it then avail though yet we feel\n",
      "  Strength undiminisht, or eternal being\n",
      "  To undergo eternal punishment?\n",
      "  Whereto with speedy words th' Arch-fiend reply'd.\n",
      "\n",
      "    Fall'n Cherube, to be weak is miserable\n",
      "  Doing or Suffering: but of this be sure,\n",
      "  To do ought good never will be our task,\n",
      "  But ever to do ill our sole delight,\n",
      "  As being the contrary to his high will\n",
      "  Whom we resist.  If then his Providence\n",
      "  Out of our evil seek to bring forth good,\n",
      "  Our labour must be to pervert that end,\n",
      "  And out of good still to find means of evil;\n",
      "  Which oft times may succeed, so as perhaps\n",
      "  Shall grieve him, if I fail not, and disturb\n",
      "  His inmost counsels from their destind aim.\n",
      "  But see the angry Victor hath recall'd\n",
      "  His Ministers of vengeance and pursuit\n",
      "  Back to the Gates of Heav'n: The Sulphurous Hail\n",
      "  Shot after us in storm, oreblown hath laid\n",
      "  The fiery Surge, that from the Precipice\n",
      "  Of Heav'n receiv'd us falling, and the Thunder,\n",
      "  Wing'd with red Lightning and impetuous rage,\n",
      "  Perhaps hath spent his shafts, and ceases now\n",
      "  To bellow through the vast and boundless Deep.\n",
      "  Let us not slip th' occasion, whether scorn,\n",
      "  Or satiate fury yield it from our Foe.\n",
      "  Seest thou yon dreary Plain, forlorn and wilde,\n",
      "  The seat of desolation, voyd of light,\n",
      "  Save what the glimmering of these livid flames\n",
      "  Casts pale and dreadful?  Thither let us tend\n",
      "  From off the tossing of these fiery waves,\n",
      "  There rest, if any rest can harbour there,\n",
      "  And reassembling our afflicted Powers,\n",
      "  Consult how we may henceforth most offend\n",
      "  Our Enemy, our own loss how repair,\n",
      "  How overcome this dire Calamity,\n",
      "  What reinforcement we may gain from Hope,\n",
      "  If not what resolution from despare.\n",
      "\n",
      "    Thus Satan talking to his neerest Mate\n",
      "  With Head up-lift above the wave, and Eyes\n",
      "  That sparkling blaz'd, his other Parts besides\n",
      "  Prone on the Flood, extended long and large\n",
      "  Lay floating many a rood, in bulk as huge\n",
      "  As whom the Fables name of monstrous size,\n",
      "  TITANIAN, or EARTH-BORN, that warr'd on JOVE,\n",
      "  BRIARIOS or TYPHON, whom the Den\n",
      "  By ancient TARSUS held, or that Sea-beast\n",
      "  LEVIATHAN, which God of all his works\n",
      "  Created hugest that swim th' Ocean stream:\n",
      "  Him haply slumbring on the NORWAY foam\n",
      "  The Pilot of some small night-founder'd Skiff,\n",
      "  Deeming some Island, oft, as Sea-men tell,\n",
      "  With fixed Anchor in his skaly rind\n",
      "  Moors by his side under the Lee, while Night\n",
      "  Invests the Sea, and wished Morn delayes:\n",
      "  So stretcht out huge in length the Arch-fiend lay\n",
      "  Chain'd on the burning Lake, nor ever thence\n",
      "  Had ris'n or heav'd his head, but that the will\n",
      "  And high permission of all-ruling Heaven\n",
      "  Left him at large to his own dark designs,\n",
      "  That with reiterated\n",
      "----------------------------------------------------------------------------------------------------\n",
      "30\n",
      "Paradise\n",
      "  Leveld his eevning Rayes: it was a Rock\n",
      "  Of Alablaster, pil'd up to the Clouds,\n",
      "  Conspicuous farr, winding with one ascent\n",
      "  Accessible from Earth, one entrance high;\n",
      "  The rest was craggie cliff, that overhung\n",
      "  Still as it rose, impossible to climbe.\n",
      "  Betwixt these rockie Pillars GABRIEL sat\n",
      "  Chief of th' Angelic Guards, awaiting night;\n",
      "  About him exercis'd Heroic Games\n",
      "  Th' unarmed Youth of Heav'n, but nigh at hand\n",
      "  Celestial Armourie, Shields, Helmes, and Speares\n",
      "  Hung high with Diamond flaming, and with Gold.\n",
      "  Thither came URIEL, gliding through the Eeven\n",
      "  On a Sun beam, swift as a shooting Starr\n",
      "  In AUTUMN thwarts the night, when vapors fir'd\n",
      "  Impress the Air, and shews the Mariner\n",
      "  From what point of his Compass to beware\n",
      "  Impetuous winds: he thus began in haste.\n",
      "\n",
      "    GABRIEL, to thee thy cours by Lot hath giv'n\n",
      "  Charge and strict watch that to this happie place\n",
      "  No evil thing approach or enter in;\n",
      "  This day at highth of Noon came to my Spheare\n",
      "  A Spirit, zealous, as he seem'd, to know\n",
      "  More of th' Almighties works, and chiefly Man\n",
      "  Gods latest Image: I describ'd his way\n",
      "  Bent all on speed, and markt his Aerie Gate;\n",
      "  But in the Mount that lies from EDEN North,\n",
      "  Where he first lighted, soon discernd his looks\n",
      "  Alien from Heav'n, with passions foul obscur'd:\n",
      "  Mine eye pursu'd him still, but under shade\n",
      "  Lost sight of him; one of the banisht crew\n",
      "  I fear, hath ventur'd from the deep, to raise\n",
      "  New troubles; him thy care must be to find.\n",
      "\n",
      "    To whom the winged Warriour thus returnd:\n",
      "  URIEL, no wonder if thy perfet sight,\n",
      "  Amid the Suns bright circle where thou sitst,\n",
      "  See farr and wide: in at this Gate none pass\n",
      "  The vigilance here plac't, but such as come\n",
      "  Well known from Heav'n; and since Meridian hour\n",
      "  No Creature thence: if Spirit of other sort,\n",
      "  So minded, have oreleapt these earthie bounds\n",
      "  On purpose, hard thou knowst it to exclude\n",
      "  Spiritual substance with corporeal barr.\n",
      "  But if within the circuit of these walks\n",
      "  In whatsoever shape he lurk, of whom\n",
      "  Thou telst, by morrow dawning I shall know.\n",
      "\n",
      "    So promis'd hee, and URIEL to his charge\n",
      "  Returnd on that bright beam, whose point now raisd\n",
      "  Bore him slope downward to the Sun now fall'n\n",
      "  Beneath th' AZORES; whither the prime Orb,\n",
      "  Incredible how swift, had thither rowl'd\n",
      "  Diurnal, or this less volubil Earth\n",
      "  By shorter flight to th' East, had left him there\n",
      "  Arraying with reflected Purple and Gold\n",
      "  The Clouds that on his Western Throne attend:\n",
      "  Now came still Eevning on, and Twilight gray\n",
      "  Had in her sober Liverie all things clad;\n",
      "  Silence accompanied, for Beast and Bird,\n",
      "  They to thir grassie Couch, these to thir Nests\n",
      "  Were slunk, all but the wakeful Nightingale;\n",
      "  She all night long her amorous descant sung;\n",
      "  Silence was pleas'd: now glow'd the Firmament\n",
      "  With living Saphirs: HESPERUS that led\n",
      "  The starrie Host, rode brightest, till the Moon\n",
      "  Rising in clouded Majestie, at length\n",
      "  Apparent Queen unvaild her peerless light,\n",
      "  And o're the dark her Silver Mantle threw.\n",
      "\n",
      "    When ADAM thus to EVE: Fair Consort, th' hour\n",
      "  Of night, and all things now retir'd to rest\n",
      "  Mind us of like repose, since God hath set\n",
      "  Labour and rest, as day and night to men\n",
      "  Successive, and the timely dew of sleep\n",
      "  Now falling with soft slumbrous weight inclines\n",
      "  Our eye-lids; other Creatures all day long\n",
      "  Rove idle unimploid, and less need rest;\n",
      "  Man hath his daily work of body or mind\n",
      "  Appointed, which declares his Dignitie,\n",
      "  And the regard of Heav'n on all his waies;\n",
      "  While other Animals unactive range,\n",
      "  And of thir doings God takes no account.\n",
      "  Tomorrow ere fresh Morning streak the East\n",
      "  With first approach of light, we must be ris'n,\n",
      "  And at our pleasant labour, to reform\n",
      "  Yon flourie Arbors, yonder Allies green,\n",
      "  Our walks at noon, with branches overgrown,\n",
      "  That mock our scant manuring, and require\n",
      "  More hands then ours to lop thir wanton growth:\n",
      "  Those Blossoms also, and those dropping Gumms,\n",
      "  That lie bestrowne unsightly and unsmooth,\n",
      "  Ask riddance, if we mean to tread with ease;\n",
      "  Mean while, as Nature wills, Night bids us rest.\n",
      "\n",
      "    To whom thus EVE with perfet beauty adornd.\n",
      "  My Author and Disposer, what thou bidst\n",
      "  Unargu'd I obey; so God ordains,\n",
      "  God is thy Law, thou mine: to know no more\n",
      "  Is womans happiest knowledge and her praise.\n",
      "  With thee conversing I forget all time,\n",
      "  All seasons and thir change, all please alike.\n",
      "  Sweet is the breath of morn, her rising sweet,\n",
      "  With charm of earliest Birds; pleasant the Sun\n",
      "  When first on this delightful\n",
      "----------------------------------------------------------------------------------------------------\n",
      "76\n",
      "Attendance none shall need, nor Train, where none\n",
      "  Are to behold the Judgement, but the judg'd,\n",
      "  Those two; the third best absent is condemn'd,\n",
      "  Convict by flight, and Rebel to all Law\n",
      "  Conviction to the Serpent none belongs.\n",
      "\n",
      "    Thus saying, from his radiant Seat he rose\n",
      "  Of high collateral glorie: him Thrones and Powers,\n",
      "  Princedoms, and Dominations ministrant\n",
      "  Accompanied to Heaven Gate, from whence\n",
      "  EDEN and all the Coast in prospect lay.\n",
      "  Down he descended strait; the speed of Gods\n",
      "  Time counts not, though with swiftest minutes wing'd.\n",
      "  Now was the Sun in Western cadence low\n",
      "  From Noon, and gentle Aires due at thir hour\n",
      "  To fan the Earth now wak'd, and usher in\n",
      "  The Eevning coole when he from wrauth more coole\n",
      "  Came the mild Judge and Intercessor both\n",
      "  To sentence Man: the voice of God they heard\n",
      "  Now walking in the Garden, by soft windes\n",
      "  Brought to thir Ears, while day declin'd, they heard\n",
      "  And from his presence hid themselves among\n",
      "  The thickest Trees, both Man and Wife, till God\n",
      "  Approaching, thus to ADAM call'd aloud.\n",
      "\n",
      "    Where art thou ADAM, wont with joy to meet\n",
      "  My coming seen far off?  I miss thee here,\n",
      "  Not pleas'd, thus entertaind with solitude,\n",
      "  Where obvious dutie erewhile appear'd unsaught:\n",
      "  Or come I less conspicuous, or what change\n",
      "  Absents thee, or what chance detains?  Come forth.\n",
      "  He came, and with him EVE, more loth, though first\n",
      "  To offend, discount'nanc't both, and discompos'd;\n",
      "  Love was not in thir looks, either to God\n",
      "  Or to each other, but apparent guilt,\n",
      "  And shame, and perturbation, and despaire,\n",
      "  Anger, and obstinacie, and hate, and guile.\n",
      "  Whence ADAM faultring long, thus answer'd brief.\n",
      "\n",
      "    I heard thee in the Garden, and of thy voice\n",
      "  Affraid, being naked, hid my self.  To whom\n",
      "  The gracious Judge without revile repli'd.\n",
      "\n",
      "    My voice thou oft hast heard, and hast not fear'd,\n",
      "  But still rejoyc't, how is it now become\n",
      "  So dreadful to thee? that thou art naked, who\n",
      "  Hath told thee? hast thou eaten of the Tree\n",
      "  Whereof I gave thee charge thou shouldst not eat?\n",
      "\n",
      "    To whom thus ADAM sore beset repli'd.\n",
      "  O Heav'n! in evil strait this day I stand\n",
      "  Before my Judge, either to undergoe\n",
      "  My self the total Crime, or to accuse\n",
      "  My other self, the partner of my life;\n",
      "  Whose failing, while her Faith to me remaines,\n",
      "  I should conceal, and not expose to blame\n",
      "  By my complaint; but strict necessitie\n",
      "  Subdues me, and calamitous constraint,\n",
      "  Least on my head both sin and punishment,\n",
      "  However insupportable, be all\n",
      "  Devolv'd; though should I hold my peace, yet thou\n",
      "  Wouldst easily detect what I conceale.\n",
      "  This Woman whom thou mad'st to be my help,\n",
      "  And gav'st me as thy perfet gift, so good,\n",
      "  So fit, so acceptable, so Divine,\n",
      "  That from her hand I could suspect no ill,\n",
      "  And what she did, whatever in it self,\n",
      "  Her doing seem'd to justifie the deed;\n",
      "  Shee gave me of the Tree, and I did eate.\n",
      "\n",
      "    To whom the sovran Presence thus repli'd.\n",
      "  Was shee thy God, that her thou didst obey\n",
      "  Before his voice, or was shee made thy guide,\n",
      "  Superior, or but equal, that to her\n",
      "  Thou did'st resigne thy Manhood, and the Place\n",
      "  Wherein God set thee above her made of thee,\n",
      "  And for thee, whose perfection farr excell'd\n",
      "  Hers in all real dignitie: Adornd\n",
      "  She was indeed, and lovely to attract\n",
      "  Thy Love, not thy Subjection, and her Gifts\n",
      "  Were such as under Government well seem'd,\n",
      "  Unseemly to beare rule, which was thy part\n",
      "  And person, had'st thou known thy self aright.\n",
      "\n",
      "    So having said, he thus to EVE in few:\n",
      "  Say Woman, what is this which thou hast done?\n",
      "\n",
      "    To whom sad EVE with shame nigh overwhelm'd,\n",
      "  Confessing soon, yet not before her Judge\n",
      "  Bold or loquacious, thus abasht repli'd.\n",
      "\n",
      "    The Serpent me beguil'd and I did eate.\n",
      "\n",
      "    Which when the Lord God heard, without delay\n",
      "  To Judgement he proceeded on th' accus'd\n",
      "  Serpent though brute, unable to transferre\n",
      "  The Guilt on him who made him instrument\n",
      "  Of mischief, and polluted from the end\n",
      "  Of his Creation; justly then accurst,\n",
      "  As vitiated in Nature: more to know\n",
      "  Concern'd not Man (since he no further knew)\n",
      "  Nor alter'd his offence; yet God at last\n",
      "  To Satan first in sin his doom apply'd,\n",
      "  Though in mysterious terms, judg'd as then best:\n",
      "  And on the Serpent thus his curse let fall.\n",
      "\n",
      "    Because thou hast done this, thou art accurst\n",
      "  Above all Cattel, each Beast of the Field;\n",
      "  Upon thy Belly groveling thou shalt goe,\n",
      "  And dust shalt eat all the days of thy Life.\n",
      "  Between Thee and the Woman I will put\n",
      "  Enmitie, and between thine and her Seed;\n",
      "  Her Seed shall bruise thy head, thou\n",
      "----------------------------------------------------------------------------------------------------\n",
      "6\n",
      "beleeve, though after loss,\n",
      "  That all these puissant Legions, whose exile\n",
      "  Hath emptied Heav'n, shall faile to re-ascend\n",
      "  Self-rais'd, and repossess their native seat.\n",
      "  For me, be witness all the Host of Heav'n,\n",
      "  If counsels different, or danger shun'd\n",
      "  By me, have lost our hopes.  But he who reigns\n",
      "  Monarch in Heav'n, till then as one secure\n",
      "  Sat on his Throne, upheld by old repute,\n",
      "  Consent or custome, and his Regal State\n",
      "  Put forth at full, but still his strength conceal'd,\n",
      "  Which tempted our attempt, and wrought our fall.\n",
      "  Henceforth his might we know, and know our own\n",
      "  So as not either to provoke, or dread\n",
      "  New warr, provok't; our better part remains\n",
      "  To work in close design, by fraud or guile\n",
      "  What force effected not: that he no less\n",
      "  At length from us may find, who overcomes\n",
      "  By force, hath overcome but half his foe.\n",
      "  Space may produce new Worlds; whereof so rife\n",
      "  There went a fame in Heav'n that he ere long\n",
      "  Intended to create, and therein plant\n",
      "  A generation, whom his choice regard\n",
      "  Should favour equal to the Sons of Heaven:\n",
      "  Thither, if but to prie, shall be perhaps\n",
      "  Our first eruption, thither or elsewhere:\n",
      "  For this Infernal Pit shall never hold\n",
      "  Caelestial Spirits in Bondage, nor th' Abysse\n",
      "  Long under darkness cover.  But these thoughts\n",
      "  Full Counsel must mature: Peace is despaird,\n",
      "  For who can think Submission?  Warr then, Warr\n",
      "  Open or understood must be resolv'd.\n",
      "\n",
      "    He spake: and to confirm his words, out-flew\n",
      "  Millions of flaming swords, drawn from the thighs\n",
      "  Of mighty Cherubim; the sudden blaze\n",
      "  Far round illumin'd hell: highly they rag'd\n",
      "  Against the Highest, and fierce with grasped arm's\n",
      "  Clash'd on their sounding shields the din of war,\n",
      "  Hurling defiance toward the vault of Heav'n.\n",
      "\n",
      "    There stood a Hill not far whose griesly top\n",
      "  Belch'd fire and rowling smoak; the rest entire\n",
      "  Shon with a glossie scurff, undoubted sign\n",
      "  That in his womb was hid metallic Ore,\n",
      "  The work of Sulphur.  Thither wing'd with speed\n",
      "  A numerous Brigad hasten'd.  As when bands\n",
      "  Of Pioners with Spade and Pickaxe arm'd\n",
      "  Forerun the Royal Camp, to trench a Field,\n",
      "  Or cast a Rampart.  MAMMON led them on,\n",
      "  MAMMON, the least erected Spirit that fell\n",
      "  From heav'n, for ev'n in heav'n his looks & thoughts\n",
      "  Were always downward bent, admiring more\n",
      "  The riches of Heav'ns pavement, trod'n Gold,\n",
      "  Then aught divine or holy else enjoy'd\n",
      "  In vision beatific: by him first\n",
      "  Men also, and by his suggestion taught,\n",
      "  Ransack'd the Center, and with impious hands\n",
      "  Rifl'd the bowels of thir mother Earth\n",
      "  For Treasures better hid.  Soon had his crew\n",
      "  Op'nd into the Hill a spacious wound\n",
      "  And dig'd out ribs of Gold.  Let none admire\n",
      "  That riches grow in Hell; that soyle may best\n",
      "  Deserve the pretious bane.  And here let those\n",
      "  Who boast in mortal things, and wondring tell\n",
      "  Of BABEL, and the works of MEMPHIAN Kings,\n",
      "  Learn how thir greatest Monuments of Fame,\n",
      "  And Strength and Art are easily outdone\n",
      "  By Spirits reprobate, and in an hour\n",
      "  What in an age they with incessant toyle\n",
      "  And hands innumerable scarce perform\n",
      "  Nigh on the Plain in many cells prepar'd,\n",
      "  That underneath had veins of liquid fire\n",
      "  Sluc'd from the Lake, a second multitude\n",
      "  With wondrous Art founded the massie Ore,\n",
      "  Severing each kinde, and scum'd the Bullion dross:\n",
      "  A third as soon had form'd within the ground\n",
      "  A various mould, and from the boyling cells\n",
      "  By strange conveyance fill'd each hollow nook,\n",
      "  As in an Organ from one blast of wind\n",
      "  To many a row of Pipes the sound-board breaths.\n",
      "  Anon out of the earth a Fabrick huge\n",
      "  Rose like an Exhalation, with the sound\n",
      "  Of Dulcet Symphonies and voices sweet,\n",
      "  Built like a Temple, where PILASTERS round\n",
      "  Were set, and Doric pillars overlaid\n",
      "  With Golden Architrave; nor did there want\n",
      "  Cornice or Freeze, with bossy Sculptures grav'n,\n",
      "  The Roof was fretted Gold.  Not BABILON,\n",
      "  Nor great ALCAIRO such magnificence\n",
      "  Equal'd in all thir glories, to inshrine\n",
      "  BELUS or SERAPIS thir Gods, or seat\n",
      "  Thir Kings, when AEGYPT with ASSYRIA strove\n",
      "  In wealth and luxurie.  Th' ascending pile\n",
      "  Stood fixt her stately highth, and strait the dores\n",
      "  Op'ning thir brazen foulds discover wide\n",
      "  Within, her ample spaces, o're the smooth\n",
      "  And level pavement: from the arched roof\n",
      "  Pendant by suttle Magic many a row\n",
      "  Of Starry Lamps and blazing Cressets fed\n",
      "  With Naphtha and ASPHALTUS yeilded light\n",
      "  As from a sky.  The hasty multitude\n",
      "  Admiring enter'd, and the work some praise\n",
      "  And some the Architect\n",
      "----------------------------------------------------------------------------------------------------\n",
      "12\n",
      "ambition varnisht o're with zeal.\n",
      "  Thus they thir doubtful consultations dark\n",
      "  Ended rejoycing in thir matchless Chief:\n",
      "  As when from mountain tops the dusky clouds\n",
      "  Ascending, while the North wind sleeps, o'respread\n",
      "  Heav'ns chearful face, the lowring Element\n",
      "  Scowls ore the dark'nd lantskip Snow, or showre;\n",
      "  If chance the radiant Sun with farewell sweet\n",
      "  Extend his ev'ning beam, the fields revive,\n",
      "  The birds thir notes renew, and bleating herds\n",
      "  Attest thir joy, that hill and valley rings.\n",
      "  O shame to men!  Devil with Devil damn'd\n",
      "  Firm concord holds, men onely disagree\n",
      "  Of Creatures rational, though under hope\n",
      "  Of heavenly Grace: and God proclaiming peace,\n",
      "  Yet live in hatred, enmitie, and strife\n",
      "  Among themselves, and levie cruel warres,\n",
      "  Wasting the Earth, each other to destroy:\n",
      "  As if (which might induce us to accord)\n",
      "  Man had not hellish foes anow besides,\n",
      "  That day and night for his destruction waite.\n",
      "\n",
      "    The STYGIAN Councel thus dissolv'd; and forth\n",
      "  In order came the grand infernal Peers,\n",
      "  Midst came thir mighty Paramount, and seemd\n",
      "  Alone th' Antagonist of Heav'n, nor less\n",
      "  Then Hells dread Emperour with pomp Supream,\n",
      "  And God-like imitated State; him round\n",
      "  A Globe of fierie Seraphim inclos'd\n",
      "  With bright imblazonrie, and horrent Arms.\n",
      "  Then of thir Session ended they bid cry\n",
      "  With Trumpets regal sound the great result:\n",
      "  Toward the four winds four speedy Cherubim\n",
      "  Put to thir mouths the sounding Alchymie\n",
      "  By Haralds voice explain'd: the hollow Abyss\n",
      "  Heard farr and wide, and all the host of Hell\n",
      "  With deafning shout, return'd them loud acclaim.\n",
      "  Thence more at ease thir minds and somwhat rais'd\n",
      "  By false presumptuous hope, the ranged powers\n",
      "  Disband, and wandring, each his several way\n",
      "  Pursues, as inclination or sad choice\n",
      "  Leads him perplext, where he may likeliest find\n",
      "  Truce to his restless thoughts, and entertain\n",
      "  The irksome hours, till his great Chief return.\n",
      "  Part on the Plain, or in the Air sublime\n",
      "  Upon the wing, or in swift race contend,\n",
      "  As at th' Olympian Games or PYTHIAN fields;\n",
      "  Part curb thir fierie Steeds, or shun the Goal\n",
      "  With rapid wheels, or fronted Brigads form.\n",
      "  As when to warn proud Cities warr appears\n",
      "  Wag'd in the troubl'd Skie, and Armies rush\n",
      "  To Battel in the Clouds, before each Van\n",
      "  Pric forth the Aerie Knights, and couch thir spears\n",
      "  Till thickest Legions close; with feats of Arms\n",
      "  From either end of Heav'n the welkin burns.\n",
      "  Others with vast TYPHOEAN rage more fell\n",
      "  Rend up both Rocks and Hills, and ride the Air\n",
      "  In whirlwind; Hell scarce holds the wilde uproar.\n",
      "  As when ALCIDES from OEALIA Crown'd\n",
      "  With conquest, felt th' envenom'd robe, and tore\n",
      "  Through pain up by the roots THESSALIAN Pines,\n",
      "  And LICHAS from the top of OETA threw\n",
      "  Into th' EUBOIC Sea.  Others more milde,\n",
      "  Retreated in a silent valley, sing\n",
      "  With notes Angelical to many a Harp\n",
      "  Thir own Heroic deeds and hapless fall\n",
      "  By doom of Battel; and complain that Fate\n",
      "  Free Vertue should enthrall to Force or Chance.\n",
      "  Thir song was partial, but the harmony\n",
      "  (What could it less when Spirits immortal sing?)\n",
      "  Suspended Hell, and took with ravishment\n",
      "  The thronging audience.  In discourse more sweet\n",
      "  (For Eloquence the Soul, Song charms the Sense,)\n",
      "  Others apart sat on a Hill retir'd,\n",
      "  In thoughts more elevate, and reason'd high\n",
      "  Of Providence, Foreknowledge, Will, and Fate,\n",
      "  Fixt Fate, free will, foreknowledge absolute,\n",
      "  And found no end, in wandring mazes lost.\n",
      "  Of good and evil much they argu'd then,\n",
      "  Of happiness and final misery,\n",
      "  Passion and Apathie, and glory and shame,\n",
      "  Vain wisdom all, and false Philosophie:\n",
      "  Yet with a pleasing sorcerie could charm\n",
      "  Pain for a while or anguish, and excite\n",
      "  Fallacious hope, or arm th' obdured brest\n",
      "  With stubborn patience as with triple steel.\n",
      "  Another part in Squadrons and gross Bands,\n",
      "  On bold adventure to discover wide\n",
      "  That dismal world, if any Clime perhaps\n",
      "  Might yeild them easier habitation, bend\n",
      "  Four ways thir flying March, along the Banks\n",
      "  Of four infernal Rivers that disgorge\n",
      "  Into the burning Lake thir baleful streams;\n",
      "  Abhorred STYX the flood of deadly hate,\n",
      "  Sad ACHERON of sorrow, black and deep;\n",
      "  COCYTUS, nam'd of lamentation loud\n",
      "  Heard on the ruful stream; fierce PHLEGETON\n",
      "  Whose\n",
      "----------------------------------------------------------------------------------------------------\n",
      "26\n",
      "mount\n",
      "  Saw him disfigur'd, more then could befall\n",
      "  Spirit of happie sort: his gestures fierce\n",
      "  He markd and mad demeanour, then alone,\n",
      "  As he suppos'd, all unobserv'd, unseen.\n",
      "  So on he fares, and to the border comes\n",
      "  Of EDEN, where delicious Paradise,\n",
      "  Now nearer, Crowns with her enclosure green,\n",
      "  As with a rural mound the champain head\n",
      "  Of a steep wilderness, whose hairie sides\n",
      "  With thicket overgrown, grottesque and wilde,\n",
      "  Access deni'd; and over head up grew\n",
      "  Insuperable highth of loftiest shade,\n",
      "  Cedar, and Pine, and Firr, and branching Palm,\n",
      "  A Silvan Scene, and as the ranks ascend\n",
      "  Shade above shade, a woodie Theatre\n",
      "  Of stateliest view.  Yet higher then thir tops\n",
      "  The verdurous wall of Paradise up sprung:\n",
      "  Which to our general Sire gave prospect large\n",
      "  Into his neather Empire neighbouring round.\n",
      "  And higher then that Wall a circling row\n",
      "  Of goodliest Trees loaden with fairest Fruit,\n",
      "  Blossoms and Fruits at once of golden hue\n",
      "  Appeerd, with gay enameld colours mixt:\n",
      "  On which the Sun more glad impress'd his beams\n",
      "  Then in fair Evening Cloud, or humid Bow,\n",
      "  When God hath showrd the earth; so lovely seemd\n",
      "  That Lantskip: And of pure now purer aire\n",
      "  Meets his approach, and to the heart inspires\n",
      "  Vernal delight and joy, able to drive\n",
      "  All sadness but despair: now gentle gales\n",
      "  Fanning thir odoriferous wings dispense\n",
      "  Native perfumes, and whisper whence they stole\n",
      "  Those balmie spoiles.  As when to them who saile\n",
      "  Beyond the CAPE OF HOPE, and now are past\n",
      "  MOZAMBIC, off at Sea North-East windes blow\n",
      "  SABEAN Odours from the spicie shoare\n",
      "  Of ARABIE the blest, with such delay\n",
      "  Well pleas'd they slack thir course, and many a League\n",
      "  Cheard with the grateful smell old Ocean smiles.\n",
      "  So entertaind those odorous sweets the Fiend\n",
      "  Who came thir bane, though with them better pleas'd\n",
      "  Then ASMODEUS with the fishie fume,\n",
      "  That drove him, though enamourd, from the Spouse\n",
      "  Of TOBITS Son, and with a vengeance sent\n",
      "  From MEDIA post to AEGYPT, there fast bound.\n",
      "\n",
      "    Now to th' ascent of that steep savage Hill\n",
      "  SATAN had journied on, pensive and slow;\n",
      "  But further way found none, so thick entwin'd,\n",
      "  As one continu'd brake, the undergrowth\n",
      "  Of shrubs and tangling bushes had perplext\n",
      "  All path of Man or Beast that past that way:\n",
      "  One Gate there onely was, and that look'd East\n",
      "  On th' other side: which when th' arch-fellon saw\n",
      "  Due entrance he disdaind, and in contempt,\n",
      "  At one slight bound high overleap'd all bound\n",
      "  Of Hill or highest Wall, and sheer within\n",
      "  Lights on his feet.  As when a prowling Wolfe,\n",
      "  Whom hunger drives to seek new haunt for prey,\n",
      "  Watching where Shepherds pen thir Flocks at eeve\n",
      "  In hurdl'd Cotes amid the field secure,\n",
      "  Leaps o're the fence with ease into the Fould:\n",
      "  Or as a Thief bent to unhoord the cash\n",
      "  Of some rich Burgher, whose substantial dores,\n",
      "  Cross-barrd and bolted fast, fear no assault,\n",
      "  In at the window climbes, or o're the tiles;\n",
      "  So clomb this first grand Thief into Gods Fould:\n",
      "  So since into his Church lewd Hirelings climbe.\n",
      "  Thence up he flew, and on the Tree of Life,\n",
      "  The middle Tree and highest there that grew,\n",
      "  Sat like a Cormorant; yet not true Life\n",
      "  Thereby regaind, but sat devising Death\n",
      "  To them who liv'd; nor on the vertue thought\n",
      "  Of that life-giving Plant, but only us'd\n",
      "  For prospect, what well us'd had bin the pledge\n",
      "  Of immortalitie.  So little knows\n",
      "  Any, but God alone, to value right\n",
      "  The good before him, but perverts best things\n",
      "  To worst abuse, or to thir meanest use.\n",
      "  Beneath him with new wonder now he views\n",
      "  To all delight of human sense expos'd\n",
      "  In narrow room Natures whole wealth, yea more,\n",
      "  A Heaven on Earth, for blissful Paradise\n",
      "  Of God the Garden was, by him in the East\n",
      "  Of EDEN planted; EDEN stretchd her Line\n",
      "  From AURAN Eastward to the Royal Towrs\n",
      "  Of great SELEUCIA, built by GRECIAN Kings,\n",
      "  Or where the Sons of EDEN long before\n",
      "  Dwelt in TELASSAR: in this pleasant soile\n",
      "  His farr more pleasant Garden God ordaind;\n",
      "  Out of the fertil ground he caus'd to grow\n",
      "  All Trees of noblest kind for sight, smell, taste;\n",
      "  And all amid them stood the Tree of Life,\n",
      "  High eminent, blooming Ambrosial Fruit\n",
      "  Of vegetable Gold; and next to Life\n",
      "  Our Death the Tree of Knowledge grew fast by,\n",
      "  Knowledge of Good bought dear by knowing ill.\n",
      "  Southward through EDEN went a River large,\n",
      "  Nor chang'd his course, but through the shaggie hill\n",
      "  Pass'd underneath ingulft, for God had thrown\n",
      "  That Mountain as his Garden mould high rais'd\n",
      "  Upon the rapid current, which through veins\n",
      "  Of porous Earth with kindly thirst up drawn,\n",
      "  Rose a fresh Fountain, and with many a rill\n",
      "  Waterd the Garden; thence united fell\n",
      "  Down the steep glade\n",
      "----------------------------------------------------------------------------------------------------\n",
      "17\n",
      "path leads where your gloomie bounds\n",
      "  Confine with Heav'n; or if som other place\n",
      "  From your Dominion won, th' Ethereal King\n",
      "  Possesses lately, thither to arrive\n",
      "  I travel this profound, direct my course;\n",
      "  Directed, no mean recompence it brings\n",
      "  To your behoof, if I that Region lost,\n",
      "  All usurpation thence expell'd, reduce\n",
      "  To her original darkness and your sway\n",
      "  (Which is my present journey) and once more\n",
      "  Erect the Standerd there of ANCIENT NIGHT;\n",
      "  Yours be th' advantage all, mine the revenge.\n",
      "\n",
      "    Thus SATAN; and him thus the Anarch old\n",
      "  With faultring speech and visage incompos'd\n",
      "  Answer'd.  I know thee, stranger, who thou art,\n",
      "  That mighty leading Angel, who of late\n",
      "  Made head against Heav'ns King, though overthrown.\n",
      "  I saw and heard, for such a numerous host\n",
      "  Fled not in silence through the frighted deep\n",
      "  With ruin upon ruin, rout on rout,\n",
      "  Confusion worse confounded; and Heav'n Gates\n",
      "  Pourd out by millions her victorious Bands\n",
      "  Pursuing.  I upon my Frontieres here\n",
      "  Keep residence; if all I can will serve,\n",
      "  That little which is left so to defend\n",
      "  Encroacht on still through our intestine broiles\n",
      "  Weakning the Scepter of old Night: first Hell\n",
      "  Your dungeon stretching far and wide beneath;\n",
      "  Now lately Heaven and Earth, another World\n",
      "  Hung ore my Realm, link'd in a golden Chain\n",
      "  To that side Heav'n from whence your Legions fell:\n",
      "  If that way be your walk, you have not farr;\n",
      "  So much the neerer danger; goe and speed;\n",
      "  Havock and spoil and ruin are my gain.\n",
      "\n",
      "    He ceas'd; and SATAN staid not to reply,\n",
      "  But glad that now his Sea should find a shore,\n",
      "  With fresh alacritie and force renew'd\n",
      "  Springs upward like a Pyramid of fire\n",
      "  Into the wilde expanse, and through the shock\n",
      "  Of fighting Elements, on all sides round\n",
      "  Environ'd wins his way; harder beset\n",
      "  And more endanger'd, then when ARGO pass'd\n",
      "  Through BOSPORUS betwixt the justling Rocks:\n",
      "  Or when ULYSSES on the Larbord shunnd\n",
      "  CHARYBDIS, and by th' other whirlpool steard.\n",
      "  So he with difficulty and labour hard\n",
      "  Mov'd on, with difficulty and labour hee;\n",
      "  But hee once past, soon after when man fell,\n",
      "  Strange alteration!  Sin and Death amain\n",
      "  Following his track, such was the will of Heav'n,\n",
      "  Pav'd after him a broad and beat'n way\n",
      "  Over the dark Abyss, whose boiling Gulf\n",
      "  Tamely endur'd a Bridge of wondrous length\n",
      "  From Hell continu'd reaching th' utmost Orbe\n",
      "  Of this frail World; by which the Spirits perverse\n",
      "  With easie intercourse pass to and fro\n",
      "  To tempt or punish mortals, except whom\n",
      "  God and good Angels guard by special grace.\n",
      "  But now at last the sacred influence\n",
      "  Of light appears, and from the walls of Heav'n\n",
      "  Shoots farr into the bosom of dim Night\n",
      "  A glimmering dawn; here Nature first begins\n",
      "  Her fardest verge, and CHAOS to retire\n",
      "  As from her outmost works a brok'n foe\n",
      "  With tumult less and with less hostile din,\n",
      "  That SATAN with less toil, and now with ease\n",
      "  Wafts on the calmer wave by dubious light\n",
      "  And like a weather-beaten Vessel holds\n",
      "  Gladly the Port, though Shrouds and Tackle torn;\n",
      "  Or in the emptier waste, resembling Air,\n",
      "  Weighs his spread wings, at leasure to behold\n",
      "  Farr off th' Empyreal Heav'n, extended wide\n",
      "  In circuit, undetermind square or round,\n",
      "  With Opal Towrs and Battlements adorn'd\n",
      "  Of living Saphire, once his native Seat;\n",
      "  And fast by hanging in a golden Chain\n",
      "  This pendant world, in bigness as a Starr\n",
      "  Of smallest Magnitude close by the Moon.\n",
      "  Thither full fraught with mischievous revenge,\n",
      "  Accurst, and in a cursed hour he hies.\n",
      "\n",
      "      THE END OF THE SECOND BOOK.\n",
      "\n",
      "\n",
      "  PARADISE LOST\n",
      "\n",
      "  BOOK III\n",
      "\n",
      "\n",
      "    Hail holy light, ofspring of Heav'n first-born,\n",
      "  Or of th' Eternal Coeternal beam\n",
      "  May I express thee unblam'd? since God is light,\n",
      "  And never but in unapproached light\n",
      "  Dwelt from Eternitie, dwelt then in thee,\n",
      "  Bright effluence of bright essence increate.\n",
      "  Or hear'st thou rather pure Ethereal stream,\n",
      "  Whose Fountain who shall tell? before the Sun,\n",
      "  Before the Heavens thou wert, and at the voice\n",
      "  Of God, as with a Mantle didst invest\n",
      "  The rising world of waters dark and deep,\n",
      "  Won from the void and formless infinite.\n",
      "  Thee I re-visit now with bolder wing,\n",
      "  Escap't the STYGIAN Pool, though long detain'd\n",
      "  In that obscure sojourn, while in my flight\n",
      "  Through utter and through middle darkness borne\n",
      "  With other notes then to th' ORPHEAN Lyre\n",
      "  I sung of CHAOS and ETERNAL NIGHT,\n",
      "  Taught by the heav'nly Muse to venture down\n",
      "  The dark descent, and up to reascend,\n",
      "  Though hard and rare: thee I revisit safe,\n",
      "  And feel thy sovran vital Lamp; but thou\n",
      "  Revisit'st not these eyes, that rowle in vain\n",
      "  To find thy piercing ray, and find no dawn\n",
      "----------------------------------------------------------------------------------------------------\n",
      "4\n",
      "works of love or enmity fulfill.\n",
      "  For those the Race of ISRAEL oft forsook\n",
      "  Their living strength, and unfrequented left\n",
      "  His righteous Altar, bowing lowly down\n",
      "  To bestial Gods; for which their heads as low\n",
      "  Bow'd down in Battel, sunk before the Spear\n",
      "  Of despicable foes.  With these in troop\n",
      "  Came ASTORETH, whom the PHOENICIANS call'd\n",
      "  ASTARTE, Queen of Heav'n, with crescent Horns;\n",
      "  To whose bright Image nightly by the Moon\n",
      "  SIDONIAN Virgins paid their Vows and Songs,\n",
      "  In SION also not unsung, where stood\n",
      "  Her Temple on th' offensive Mountain, built\n",
      "  By that uxorious King, whose heart though large,\n",
      "  Beguil'd by fair Idolatresses, fell\n",
      "  To Idols foul.  THAMMUZ came next behind,\n",
      "  Whose annual wound in LEBANON allur'd\n",
      "  The SYRIAN Damsels to lament his fate\n",
      "  In amorous dittyes all a Summers day,\n",
      "  While smooth ADONIS from his native Rock\n",
      "  Ran purple to the Sea, suppos'd with blood\n",
      "  Of THAMMUZ yearly wounded: the Love-tale\n",
      "  Infected SIONS daughters with like heat,\n",
      "  Whose wanton passions in the sacred Porch\n",
      "  EZEKIEL saw, when by the Vision led\n",
      "  His eye survay'd the dark Idolatries\n",
      "  Of alienated JUDAH.  Next came one\n",
      "  Who mourn'd in earnest, when the Captive Ark\n",
      "  Maim'd his brute Image, head and hands lopt off\n",
      "  In his own Temple, on the grunsel edge,\n",
      "  Where he fell flat, and sham'd his Worshipers:\n",
      "  DAGON his Name, Sea Monster, upward Man\n",
      "  And downward Fish: yet had his Temple high\n",
      "  Rear'd in AZOTUS, dreaded through the Coast\n",
      "  Of PALESTINE, in GATH and ASCALON,\n",
      "  And ACCARON and GAZA's frontier bounds.\n",
      "  Him follow'd RIMMON, whose delightful Seat\n",
      "  Was fair DAMASCUS, on the fertil Banks\n",
      "  Of ABBANA and PHARPHAR, lucid streams.\n",
      "  He also against the house of God was bold:\n",
      "  A Leper once he lost and gain'd a King,\n",
      "  AHAZ his sottish Conquerour, whom he drew\n",
      "  Gods Altar to disparage and displace\n",
      "  For one of SYRIAN mode, whereon to burn\n",
      "  His odious offrings, and adore the Gods\n",
      "  Whom he had vanquisht.  After these appear'd\n",
      "  A crew who under Names of old Renown,\n",
      "  OSIRIS, ISIS, ORUS and their Train\n",
      "  With monstrous shapes and sorceries abus'd\n",
      "  Fanatic EGYPT and her Priests, to seek\n",
      "  Thir wandring Gods disguis'd in brutish forms\n",
      "  Rather then human.  Nor did ISRAEL scape\n",
      "  Th' infection when their borrow'd Gold compos'd\n",
      "  The Calf in OREB: and the Rebel King\n",
      "  Doubl'd that sin in BETHEL and in DAN,\n",
      "  Lik'ning his Maker to the Grazed Ox,\n",
      "  JEHOVAH, who in one Night when he pass'd\n",
      "  From EGYPT marching, equal'd with one stroke\n",
      "  Both her first born and all her bleating Gods.\n",
      "  BELIAL came last, then whom a Spirit more lewd\n",
      "  Fell not from Heaven, or more gross to love\n",
      "  Vice for it self: To him no Temple stood\n",
      "  Or Altar smoak'd; yet who more oft then hee\n",
      "  In Temples and at Altars, when the Priest\n",
      "  Turns Atheist, as did ELY'S Sons, who fill'd\n",
      "  With lust and violence the house of God.\n",
      "  In Courts and Palaces he also Reigns\n",
      "  And in luxurious Cities, where the noyse\n",
      "  Of riot ascends above thir loftiest Towrs,\n",
      "  And injury and outrage: And when Night\n",
      "  Darkens the Streets, then wander forth the Sons\n",
      "  Of BELIAL, flown with insolence and wine.\n",
      "  Witness the Streets of SODOM, and that night\n",
      "  In GIBEAH, when hospitable Dores\n",
      "  Yielded thir Matrons to prevent worse rape.\n",
      "  These were the prime in order and in might;\n",
      "  The rest were long to tell, though far renown'd,\n",
      "  Th' IONIAN Gods, of JAVANS Issue held\n",
      "  Gods, yet confest later then Heav'n and Earth\n",
      "  Thir boasted Parents; TITAN Heav'ns first born\n",
      "  With his enormous brood, and birthright seis'd\n",
      "  By younger SATURN, he from mightier JOVE\n",
      "  His own and RHEA'S Son like measure found;\n",
      "  So JOVE usurping reign'd: these first in CREET\n",
      "  And IDA known, thence on the Snowy top\n",
      "  Of cold OLYMPUS rul'd the middle Air\n",
      "  Thir highest Heav'n; or on the DELPHIAN Cliff,\n",
      "  Or in DODONA, and through all the bounds\n",
      "  Of DORIC Land; or who with SATURN old\n",
      "  Fled over ADRIA to th' HESPERIAN Fields,\n",
      "  And ore the CELTIC roam'd the utmost Isles.\n",
      "  All these and more came flocking; but with looks\n",
      "  Down cast and damp, yet such wherein appear'd\n",
      "  Obscure som glimps of joy, to have found thir chief\n",
      "  Not in despair, to have found themselves not lost\n",
      "  In loss it self; which on his count'nance cast\n",
      "  Like doubtful hue: but he his wonted pride\n",
      "  Soon recollecting, with high words, that bore\n",
      "  Semblance of worth not substance, gently rais'd\n",
      "  Their fainted courage, and dispel'd their fears.\n",
      "  Then strait commands that at the warlike\n",
      "----------------------------------------------------------------------------------------------------\n",
      "35\n",
      "extracting liquid sweet.\n",
      "\n",
      "    Such whispering wak'd her, but with startl'd eye\n",
      "  On ADAM, whom imbracing, thus she spake.\n",
      "\n",
      "    O Sole in whom my thoughts find all repose,\n",
      "  My Glorie, my Perfection, glad I see\n",
      "  Thy face, and Morn return'd, for I this Night,\n",
      "  Such night till this I never pass'd, have dream'd,\n",
      "  If dream'd, not as I oft am wont, of thee,\n",
      "  Works of day pass't, or morrows next designe,\n",
      "  But of offence and trouble, which my mind\n",
      "  Knew never till this irksom night; methought\n",
      "  Close at mine ear one call'd me forth to walk\n",
      "  With gentle voice, I thought it thine; it said,\n",
      "  Why sleepst thou EVE? now is the pleasant time,\n",
      "  The cool, the silent, save where silence yields\n",
      "  To the night-warbling Bird, that now awake\n",
      "  Tunes sweetest his love-labor'd song; now reignes\n",
      "  Full Orb'd the Moon, and with more pleasing light\n",
      "  Shadowie sets off the face of things; in vain,\n",
      "  If none regard; Heav'n wakes with all his eyes,\n",
      "  Whom to behold but thee, Natures desire,\n",
      "  In whose sight all things joy, with ravishment\n",
      "  Attracted by thy beauty still to gaze.\n",
      "  I rose as at thy call, but found thee not;\n",
      "  To find thee I directed then my walk;\n",
      "  And on, methought, alone I pass'd through ways\n",
      "  That brought me on a sudden to the Tree\n",
      "  Of interdicted Knowledge: fair it seem'd,\n",
      "  Much fairer to my Fancie then by day:\n",
      "  And as I wondring lookt, beside it stood\n",
      "  One shap'd & wing'd like one of those from Heav'n\n",
      "  By us oft seen; his dewie locks distill'd\n",
      "  Ambrosia; on that Tree he also gaz'd;\n",
      "  And O fair Plant, said he, with fruit surcharg'd,\n",
      "  Deigns none to ease thy load and taste thy sweet,\n",
      "  Nor God, nor Man; is Knowledge so despis'd?\n",
      "  Or envie, or what reserve forbids to taste?\n",
      "  Forbid who will, none shall from me withhold\n",
      "  Longer thy offerd good, why else set here?\n",
      "  This said he paus'd not, but with ventrous Arme\n",
      "  He pluckt, he tasted; mee damp horror chil'd\n",
      "  At such bold words voucht with a deed so bold:\n",
      "  But he thus overjoy'd, O Fruit Divine,\n",
      "  Sweet of thy self, but much more sweet thus cropt,\n",
      "  Forbidd'n here, it seems, as onely fit\n",
      "  For Gods, yet able to make Gods of Men:\n",
      "  And why not Gods of Men, since good, the more\n",
      "  Communicated, more abundant growes,\n",
      "  The Author not impair'd, but honourd more?\n",
      "  Here, happie Creature, fair Angelic EVE,\n",
      "  Partake thou also; happie though thou art,\n",
      "  Happier thou mayst be, worthier canst not be:\n",
      "  Taste this, and be henceforth among the Gods\n",
      "  Thy self a Goddess, not to Earth confind,\n",
      "  But somtimes in the Air, as wee, somtimes\n",
      "  Ascend to Heav'n, by merit thine, and see\n",
      "  What life the Gods live there, and such live thou.\n",
      "  So saying, he drew nigh, and to me held,\n",
      "  Even to my mouth of that same fruit held part\n",
      "  Which he had pluckt; the pleasant savourie smell\n",
      "  So quick'nd appetite, that I, methought,\n",
      "  Could not but taste.  Forthwith up to the Clouds\n",
      "  With him I flew, and underneath beheld\n",
      "  The Earth outstretcht immense, a prospect wide\n",
      "  And various: wondring at my flight and change\n",
      "  To this high exaltation; suddenly\n",
      "  My Guide was gon, and I, me thought, sunk down,\n",
      "  And fell asleep; but O how glad I wak'd\n",
      "  To find this but a dream!  Thus EVE her Night\n",
      "  Related, and thus ADAM answerd sad.\n",
      "\n",
      "    Best Image of my self and dearer half,\n",
      "  The trouble of thy thoughts this night in sleep\n",
      "  Affects me equally; nor can I like\n",
      "  This uncouth dream, of evil sprung I fear;\n",
      "  Yet evil whence? in thee can harbour none,\n",
      "  Created pure.  But know that in the Soule\n",
      "  Are many lesser Faculties that serve\n",
      "  Reason as chief; among these Fansie next\n",
      "  Her office holds; of all external things,\n",
      "  Which the five watchful Senses represent,\n",
      "  She forms Imaginations, Aerie shapes,\n",
      "  Which Reason joyning or disjoyning, frames\n",
      "  All what we affirm or what deny, and call\n",
      "  Our knowledge or opinion; then retires\n",
      "  Into her private Cell when Nature rests.\n",
      "  Oft in her absence mimic Fansie wakes\n",
      "  To imitate her; but misjoyning shapes,\n",
      "  Wilde work produces oft, and most in dreams,\n",
      "  Ill matching words and deeds long past or late.\n",
      "  Som such resemblances methinks I find\n",
      "  Of our last Eevnings talk, in this thy dream,\n",
      "  But with addition strange; yet be not sad.\n",
      "  Evil into the mind of God or Man\n",
      "  May come and go, so unapprov'd, and leave\n",
      "  No spot or blame behind: Which gives me hope\n",
      "  That what in sleep thou didst abhorr to dream,\n",
      "  Waking thou never wilt consent to do.\n",
      "  Be not disheart'nd then, nor cloud those looks\n",
      "  That wont to be more chearful and serene\n",
      "  Then when fair Morning first smiles on the World,\n",
      "  And let us to our fresh imployments rise\n",
      "  Among the Groves, the Fountains, and the Flours\n",
      "  That open now thir choicest bosom'd smells\n",
      "  Reservd from night, and kept for thee in store.\n",
      "\n",
      "    So cheard he his fair Spouse, and she was cheard,\n",
      "  But silently a gentle\n",
      "----------------------------------------------------------------------------------------------------\n",
      "36\n",
      "tear let fall\n",
      "  From either eye, and wip'd them with her haire;\n",
      "  Two other precious drops that ready stood,\n",
      "  Each in thir chrystal sluce, hee ere they fell\n",
      "  Kiss'd as the gracious signs of sweet remorse\n",
      "  And pious awe, that feard to have offended.\n",
      "\n",
      "    So all was cleard, and to the Field they haste.\n",
      "  But first from under shadie arborous roof,\n",
      "  Soon as they forth were come to open sight\n",
      "  Of day-spring, and the Sun, who scarce up risen\n",
      "  With wheels yet hov'ring o're the Ocean brim,\n",
      "  Shot paralel to the earth his dewie ray,\n",
      "  Discovering in wide Lantskip all the East\n",
      "  Of Paradise and EDENS happie Plains,\n",
      "  Lowly they bow'd adoring, and began\n",
      "  Thir Orisons, each Morning duly paid\n",
      "  In various style, for neither various style\n",
      "  Nor holy rapture wanted they to praise\n",
      "  Thir Maker, in fit strains pronounc't or sung\n",
      "  Unmeditated, such prompt eloquence\n",
      "  Flowd from thir lips, in Prose or numerous Verse,\n",
      "  More tuneable then needed Lute or Harp\n",
      "  To add more sweetness, and they thus began.\n",
      "\n",
      "    These are thy glorious works, Parent of good,\n",
      "  Almightie, thine this universal Frame,\n",
      "  Thus wondrous fair; thy self how wondrous then!\n",
      "  Unspeakable, who sitst above these Heavens\n",
      "  To us invisible or dimly seen\n",
      "  In these thy lowest works, yet these declare\n",
      "  Thy goodness beyond thought, and Power Divine:\n",
      "  Speak yee who best can tell, ye Sons of light,\n",
      "  Angels, for yee behold him, and with songs\n",
      "  And choral symphonies, Day without Night,\n",
      "  Circle his Throne rejoycing, yee in Heav'n,\n",
      "  On Earth joyn all yee Creatures to extoll\n",
      "  Him first, him last, him midst, and without end.\n",
      "  Fairest of Starrs, last in the train of Night,\n",
      "  If better thou belong not to the dawn,\n",
      "  Sure pledge of day, that crownst the smiling Morn\n",
      "  With thy bright Circlet, praise him in thy Spheare\n",
      "  While day arises, that sweet hour of Prime.\n",
      "  Thou Sun, of this great World both Eye and Soule,\n",
      "  Acknowledge him thy Greater, sound his praise\n",
      "  In thy eternal course, both when thou climb'st,\n",
      "  And when high Noon hast gaind, & when thou fallst.\n",
      "  Moon, that now meetst the orient Sun, now fli'st\n",
      "  With the fixt Starrs, fixt in thir Orb that flies,\n",
      "  And yee five other wandring Fires that move\n",
      "  In mystic Dance not without Song, resound\n",
      "  His praise, who out of Darkness call'd up Light.\n",
      "  Aire, and ye Elements the eldest birth\n",
      "  Of Natures Womb, that in quaternion run\n",
      "  Perpetual Circle, multiform; and mix\n",
      "  And nourish all things, let your ceasless change\n",
      "  Varie to our great Maker still new praise.\n",
      "  Ye Mists and Exhalations that now rise\n",
      "  From Hill or steaming Lake, duskie or grey,\n",
      "  Till the Sun paint your fleecie skirts with Gold,\n",
      "  In honour to the Worlds great Author rise,\n",
      "  Whether to deck with Clouds the uncolourd skie,\n",
      "  Or wet the thirstie Earth with falling showers,\n",
      "  Rising or falling still advance his praise.\n",
      "  His praise ye Winds, that from four Quarters blow,\n",
      "  Breath soft or loud; and wave your tops, ye Pines,\n",
      "  With every Plant, in sign of Worship wave.\n",
      "  Fountains and yee, that warble, as ye flow,\n",
      "  Melodious murmurs, warbling tune his praise.\n",
      "  Joyn voices all ye living Souls, ye Birds,\n",
      "  That singing up to Heaven Gate ascend,\n",
      "  Bear on your wings and in your notes his praise;\n",
      "  Yee that in Waters glide, and yee that walk\n",
      "  The Earth, and stately tread, or lowly creep;\n",
      "  Witness if I be silent, Morn or Eeven,\n",
      "  To Hill, or Valley, Fountain, or fresh shade\n",
      "  Made vocal by my Song, and taught his praise.\n",
      "  Hail universal Lord, be bounteous still\n",
      "  To give us onely good; and if the night\n",
      "  Have gathered aught of evil or conceald,\n",
      "  Disperse it, as now light dispels the dark.\n",
      "\n",
      "    So pray'd they innocent, and to thir thoughts\n",
      "  Firm peace recoverd soon and wonted calm.\n",
      "  On to thir mornings rural work they haste\n",
      "  Among sweet dewes and flours; where any row\n",
      "  Of Fruit-trees overwoodie reachd too farr\n",
      "  Thir pamperd boughes, and needed hands to check\n",
      "  Fruitless imbraces: or they led the Vine\n",
      "  To wed her Elm; she spous'd about him twines\n",
      "  Her mariageable arms, and with her brings\n",
      "  Her dowr th' adopted Clusters, to adorn\n",
      "  His barren leaves.  Them thus imploid beheld\n",
      "  With pittie Heav'ns high King, and to him call'd\n",
      "  RAPHAEL, the sociable Spirit, that deign'd\n",
      "  To travel with TOBIAS, and secur'd\n",
      "  His marriage with the seaventimes-wedded Maid.\n",
      "\n",
      "    RAPHAEL, said hee, thou hear'st what stir on Earth\n",
      "  SATAN from Hell scap't through the darksom Gulf\n",
      "  Hath raisd in Paradise, and how disturbd\n",
      "  This night the human pair, how he designes\n",
      "  In them at once to ruin all mankind.\n",
      "  Go therefore\n",
      "----------------------------------------------------------------------------------------------------\n",
      "27\n",
      "met the neather Flood,\n",
      "  Which from his darksom passage now appeers,\n",
      "  And now divided into four main Streams,\n",
      "  Runs divers, wandring many a famous Realme\n",
      "  And Country whereof here needs no account,\n",
      "  But rather to tell how, if Art could tell,\n",
      "  How from that Saphire Fount the crisped Brooks,\n",
      "  Rowling on Orient Pearl and sands of Gold,\n",
      "  With mazie error under pendant shades\n",
      "  Ran Nectar, visiting each plant, and fed\n",
      "  Flours worthy of Paradise which not nice Art\n",
      "  In Beds and curious Knots, but Nature boon\n",
      "  Powrd forth profuse on Hill and Dale and Plaine,\n",
      "  Both where the morning Sun first warmly smote\n",
      "  The open field, and where the unpierc't shade\n",
      "  Imbround the noontide Bowrs: Thus was this place,\n",
      "  A happy rural seat of various view;\n",
      "  Groves whose rich Trees wept odorous Gumms and Balme,\n",
      "  Others whose fruit burnisht with Golden Rinde\n",
      "  Hung amiable, HESPERIAN Fables true,\n",
      "  If true, here onely, and of delicious taste:\n",
      "  Betwixt them Lawns, or level Downs, and Flocks\n",
      "  Grasing the tender herb, were interpos'd,\n",
      "  Or palmie hilloc, or the flourie lap\n",
      "  Of som irriguous Valley spread her store,\n",
      "  Flours of all hue, and without Thorn the Rose:\n",
      "  Another side, umbrageous Grots and Caves\n",
      "  Of coole recess, o're which the mantling Vine\n",
      "  Layes forth her purple Grape, and gently creeps\n",
      "  Luxuriant; mean while murmuring waters fall\n",
      "  Down the slope hills, disperst, or in a Lake,\n",
      "  That to the fringed Bank with Myrtle crownd,\n",
      "  Her chrystall mirror holds, unite thir streams.\n",
      "  The Birds thir quire apply; aires, vernal aires,\n",
      "  Breathing the smell of field and grove, attune\n",
      "  The trembling leaves, while Universal PAN\n",
      "  Knit with the GRACES and the HOURS in dance\n",
      "  Led on th' Eternal Spring.  Not that faire field\n",
      "  Of ENNA, where PROSERPIN gathring flours\n",
      "  Her self a fairer Floure by gloomie DIS\n",
      "  Was gatherd, which cost CERES all that pain\n",
      "  To seek her through the world; nor that sweet Grove\n",
      "  Of DAPHNE by ORONTES, and th' inspir'd\n",
      "  CASTALIAN Spring might with this Paradise\n",
      "  Of EDEN strive; nor that NYSEIAN Ile\n",
      "  Girt with the River TRITON, where old CHAM,\n",
      "  Whom Gentiles AMMON call and LIBYAN JOVE,\n",
      "  Hid AMALTHEA and her Florid Son\n",
      "  Young BACCHUS from his Stepdame RHEA'S eye;\n",
      "  Nor where ABASSIN Kings thir issue Guard,\n",
      "  Mount AMARA, though this by som suppos'd\n",
      "  True Paradise under the ETHIOP Line\n",
      "  By NILUS head, enclos'd with shining Rock,\n",
      "  A whole dayes journey high, but wide remote\n",
      "  From this ASSYRIAN Garden, where the Fiend\n",
      "  Saw undelighted all delight, all kind\n",
      "  Of living Creatures new to sight and strange:\n",
      "  Two of far nobler shape erect and tall,\n",
      "  Godlike erect, with native Honour clad\n",
      "  In naked Majestie seemd Lords of all,\n",
      "  And worthie seemd, for in thir looks Divine\n",
      "  The image of thir glorious Maker shon,\n",
      "  Truth, Wisdome, Sanctitude severe and pure,\n",
      "  Severe, but in true filial freedom plac't;\n",
      "  Whence true autoritie in men; though both\n",
      "  Not equal, as thir sex not equal seemd;\n",
      "  For contemplation hee and valour formd,\n",
      "  For softness shee and sweet attractive Grace,\n",
      "  Hee for God only, shee for God in him:\n",
      "  His fair large Front and Eye sublime declar'd\n",
      "  Absolute rule; and Hyacinthin Locks\n",
      "  Round from his parted forelock manly hung\n",
      "  Clustring, but not beneath his shoulders broad:\n",
      "  Shee as a vail down to the slender waste\n",
      "  Her unadorned golden tresses wore\n",
      "  Dissheveld, but in wanton ringlets wav'd\n",
      "  As the Vine curles her tendrils, which impli'd\n",
      "  Subjection, but requir'd with gentle sway,\n",
      "  And by her yeilded, by him best receivd,\n",
      "  Yeilded with coy submission, modest pride,\n",
      "  And sweet reluctant amorous delay.\n",
      "  Nor those mysterious parts were then conceald,\n",
      "  Then was not guiltie shame, dishonest shame\n",
      "  Of natures works, honor dishonorable,\n",
      "  Sin-bred, how have ye troubl'd all mankind\n",
      "  With shews instead, meer shews of seeming pure,\n",
      "  And banisht from mans life his happiest life,\n",
      "  Simplicitie and spotless innocence.\n",
      "  So passd they naked on, nor shund the sight\n",
      "  Of God or Angel, for they thought no ill:\n",
      "  So hand in hand they passd, the lovliest pair\n",
      "  That ever since in loves imbraces met,\n",
      "  ADAM the goodliest man of men since borne\n",
      "  His Sons, the fairest of her Daughters EVE.\n",
      "  Under a tuft of shade that on a green\n",
      "  Stood whispering soft, by a fresh Fountain side\n",
      "  They sat them down, and after no more toil\n",
      "  Of thir sweet Gardning labour then suffic'd\n",
      "  To recommend coole ZEPHYR, and made ease\n",
      "  More easie, wholsom\n",
      "----------------------------------------------------------------------------------------------------\n",
      "8\n",
      "ambitious mind\n",
      "  Will covet more.  With this advantage then\n",
      "  To union, and firm Faith, and firm accord,\n",
      "  More then can be in Heav'n, we now return\n",
      "  To claim our just inheritance of old,\n",
      "  Surer to prosper then prosperity\n",
      "  Could have assur'd us; and by what best way,\n",
      "  Whether of open Warr or covert guile,\n",
      "  We now debate; who can advise, may speak.\n",
      "\n",
      "    He ceas'd, and next him MOLOC, Scepter'd King\n",
      "  Stood up, the strongest and the fiercest Spirit\n",
      "  That fought in Heav'n; now fiercer by despair:\n",
      "  His trust was with th' Eternal to be deem'd\n",
      "  Equal in strength, and rather then be less\n",
      "  Car'd not to be at all; with that care lost\n",
      "  Went all his fear: of God, or Hell, or worse\n",
      "  He reckd not, and these words thereafter spake.\n",
      "\n",
      "    My sentence is for open Warr: Of Wiles,\n",
      "  More unexpert, I boast not: them let those\n",
      "  Contrive who need, or when they need, not now.\n",
      "  For while they sit contriving, shall the rest,\n",
      "  Millions that stand in Arms, and longing wait\n",
      "  The Signal to ascend, sit lingring here\n",
      "  Heav'ns fugitives, and for thir dwelling place\n",
      "  Accept this dark opprobrious Den of shame,\n",
      "  The Prison of his Tyranny who Reigns\n",
      "  By our delay? no, let us rather choose\n",
      "  Arm'd with Hell flames and fury all at once\n",
      "  O're Heav'ns high Towrs to force resistless way,\n",
      "  Turning our Tortures into horrid Arms\n",
      "  Against the Torturer; when to meet the noise\n",
      "  Of his Almighty Engin he shall hear\n",
      "  Infernal Thunder, and for Lightning see\n",
      "  Black fire and horror shot with equal rage\n",
      "  Among his Angels; and his Throne it self\n",
      "  Mixt with TARTAREAN Sulphur, and strange fire,\n",
      "  His own invented Torments.  But perhaps\n",
      "  The way seems difficult and steep to scale\n",
      "  With upright wing against a higher foe.\n",
      "  Let such bethink them, if the sleepy drench\n",
      "  Of that forgetful Lake benumme not still,\n",
      "  That in our proper motion we ascend\n",
      "  Up to our native seat: descent and fall\n",
      "  To us is adverse.  Who but felt of late\n",
      "  When the fierce Foe hung on our brok'n Rear\n",
      "  Insulting, and pursu'd us through the Deep,\n",
      "  With what compulsion and laborious flight\n",
      "  We sunk thus low?  Th' ascent is easie then;\n",
      "  Th' event is fear'd; should we again provoke\n",
      "  Our stronger, some worse way his wrath may find\n",
      "  To our destruction: if there be in Hell\n",
      "  Fear to be worse destroy'd: what can be worse\n",
      "  Then to dwell here, driv'n out from bliss, condemn'd\n",
      "  In this abhorred deep to utter woe;\n",
      "  Where pain of unextinguishable fire\n",
      "  Must exercise us without hope of end\n",
      "  The Vassals of his anger, when the Scourge\n",
      "  Inexorably, and the torturing houre\n",
      "  Calls us to Penance?  More destroy'd then thus\n",
      "  We should be quite abolisht and expire.\n",
      "  What fear we then? what doubt we to incense\n",
      "  His utmost ire? which to the highth enrag'd,\n",
      "  Will either quite consume us, and reduce\n",
      "  To nothing this essential, happier farr\n",
      "  Then miserable to have eternal being:\n",
      "  Or if our substance be indeed Divine,\n",
      "  And cannot cease to be, we are at worst\n",
      "  On this side nothing; and by proof we feel\n",
      "  Our power sufficient to disturb his Heav'n,\n",
      "  And with perpetual inrodes to Allarme,\n",
      "  Though inaccessible, his fatal Throne:\n",
      "  Which if not Victory is yet Revenge.\n",
      "\n",
      "    He ended frowning, and his look denounc'd\n",
      "  Desperate revenge, and Battel dangerous\n",
      "  To less then Gods.  On th' other side up rose\n",
      "  BELIAL, in act more graceful and humane;\n",
      "  A fairer person lost not Heav'n; he seemd\n",
      "  For dignity compos'd and high exploit:\n",
      "  But all was false and hollow; though his Tongue\n",
      "  Dropt Manna, and could make the worse appear\n",
      "  The better reason, to perplex and dash\n",
      "  Maturest Counsels: for his thoughts were low;\n",
      "  To vice industrious, but to Nobler deeds\n",
      "  Timorous and slothful: yet he pleas'd the eare,\n",
      "  And with perswasive accent thus began.\n",
      "\n",
      "    I should be much for open Warr, O Peers,\n",
      "  As not behind in hate; if what was urg'd\n",
      "  Main reason to perswade immediate Warr,\n",
      "  Did not disswade me most, and seem to cast\n",
      "  Ominous conjecture on the whole success:\n",
      "  When he who most excels in fact of Arms,\n",
      "  In what he counsels and in what excels\n",
      "  Mistrustful, grounds his courage on despair\n",
      "  And utter dissolution, as the scope\n",
      "  Of all his aim, after some dire revenge.\n",
      "  First, what Revenge? the Towrs of Heav'n are fill'd\n",
      "  With Armed watch, that render all access\n",
      "  Impregnable; oft on the bordering Deep\n",
      "  Encamp thir Legions, or with obscure wing\n",
      "  Scout farr and wide into the Realm of night,\n",
      "  Scorning surprize.  Or could we break our way\n",
      "  By force, and at our heels all Hell should rise\n",
      "  With blackest Insurrection, to confound\n",
      "  Heav'ns purest Light, yet our great Enemie\n",
      "  All incorruptible would on his Throne\n",
      "  Sit unpolluted, and th' Ethereal mould\n",
      "  Incapable of stain would soon expel\n",
      "  Her mischief, and purge off the baser fire\n",
      "  Victorious.  Thus repuls'd, our final hope\n",
      "  Is flat despair: we must exasperate\n",
      "  Th' Almighty Victor to spend all his rage,\n",
      "  And that must end us, that must be our cure,\n",
      "  To be no more; sad cure; for who would loose,\n",
      "  Though full of pain, this intellectual being,\n",
      "  Those thoughts that wander through Eternity,\n",
      "  To perish rather, swallowd up and lost\n",
      "  In the wide womb of uncreated night,\n",
      "  Devoid of sense and motion? and who knows,\n",
      "  Let this be good, whether\n",
      "----------------------------------------------------------------------------------------------------\n",
      "89\n",
      "chast'ning, to the evil turne\n",
      "  My obvious breast, arming to overcom\n",
      "  By suffering, and earne rest from labour won,\n",
      "  If so I may attain.  So both ascend\n",
      "  In the Visions of God:  It was a Hill\n",
      "  Of Paradise the highest, from whose top\n",
      "  The Hemisphere of Earth in cleerest Ken\n",
      "  Stretcht out to amplest reach of prospect lay.\n",
      "  Not higher that Hill nor wider looking round,\n",
      "  Whereon for different cause the Tempter set\n",
      "  Our second ADAM in the Wilderness,\n",
      "  To shew him all Earths Kingdomes and thir Glory.\n",
      "  His Eye might there command wherever stood\n",
      "  City of old or modern Fame, the Seat\n",
      "  Of mightiest Empire, from the destind Walls\n",
      "  Of CAMBALU, seat of CATHAIAN CAN\n",
      "  And SAMARCHAND by OXUS, TEMIRS Throne,\n",
      "  To PAQUIN of SINAEAN Kings, and thence\n",
      "  To AGRA and LAHOR of great MOGUL\n",
      "  Down to the golden CHERSONESE, or where\n",
      "  The PERSIAN in ECBATAN sate, or since\n",
      "  In HISPAHAN, or where the RUSSIAN KSAR\n",
      "  In MOSCO, or the Sultan in BIZANCE,\n",
      "  TURCHESTAN-born; nor could his eye not ken\n",
      "  Th' Empire of NEGUS to his utmost Port\n",
      "  ERCOCO and the less Maritine Kings\n",
      "  MOMBAZA, and QUILOA, and MELIND,\n",
      "  And SOFALA thought OPHIR, to the Realme\n",
      "  Of CONGO, and ANGOLA fardest South;\n",
      "  Or thence from NIGER Flood to ATLAS Mount\n",
      "  The Kingdoms of ALMANSOR, FEZ, and SUS,\n",
      "  MAROCCO and ALGIERS, and TREMISEN;\n",
      "  On EUROPE thence, and where ROME was to sway\n",
      "  The VVorld: in Spirit perhaps he also saw\n",
      "  Rich MEXICO the seat of MOTEZUME,\n",
      "  And CUSCO in PERU, the richer seat\n",
      "  Of ATABALIPA, and yet unspoil'd\n",
      "  GUIANA, whose great Citie GERYONS Sons\n",
      "  Call EL DORADO: but to nobler sights\n",
      "  MICHAEL from ADAMS eyes the Filme remov'd\n",
      "  VVhich that false Fruit that promis'd clearer sight\n",
      "  Had bred; then purg'd with Euphrasie and Rue\n",
      "  The visual Nerve, for he had much to see;\n",
      "  And from the VVell of Life three drops instill'd.\n",
      "  So deep the power of these Ingredients pierc'd,\n",
      "  Eevn to the inmost seat of mental sight,\n",
      "  That ADAM now enforc't to close his eyes,\n",
      "  Sunk down and all his Spirits became intranst:\n",
      "  But him the gentle Angel by the hand\n",
      "  Soon rais'd, and his attention thus recall'd.\n",
      "\n",
      "    ADAM, now ope thine eyes, and first behold\n",
      "  Th' effects which thy original crime hath wrought\n",
      "  In some to spring from thee, who never touch'd\n",
      "  Th' excepted Tree, nor with the Snake conspir'd,\n",
      "  Nor sinn'd thy sin, yet from that sin derive\n",
      "  Corruption to bring forth more violent deeds.\n",
      "\n",
      "    His eyes he op'nd, and beheld a field,\n",
      "  Part arable and tilth, whereon were Sheaves\n",
      "  New reapt, the other part sheep-walks and foulds;\n",
      "  Ith' midst an Altar as the Land-mark stood\n",
      "  Rustic, of grassie sord; thither anon\n",
      "  A sweatie Reaper from his Tillage brought\n",
      "  First Fruits, the green Eare, and the yellow Sheaf,\n",
      "  Uncull'd, as came to hand; a Shepherd next\n",
      "  More meek came with the Firstlings of his Flock\n",
      "  Choicest and best; then sacrificing, laid\n",
      "  The Inwards and thir Fat, with Incense strew'd,\n",
      "  On the cleft Wood, and all due Rites perform'd.\n",
      "  His Offring soon propitious Fire from Heav'n\n",
      "  Consum'd with nimble glance, and grateful steame;\n",
      "  The others not, for his was not sincere;\n",
      "  Whereat hee inlie rag'd, and as they talk'd,\n",
      "  Smote him into the Midriff with a stone\n",
      "  That beat out life; he fell, and deadly pale\n",
      "  Groand out his Soul with gushing bloud effus'd.\n",
      "  Much at that sight was ADAM in his heart\n",
      "  Dismai'd, and thus in haste to th' Angel cri'd.\n",
      "\n",
      "    O Teacher, some great mischief hath befall'n\n",
      "  To that meek man, who well had sacrific'd;\n",
      "  Is Pietie thus and pure Devotion paid?\n",
      "\n",
      "    T' whom MICHAEL thus, hee also mov'd, repli'd.\n",
      "  These two are Brethren, ADAM, and to come\n",
      "  Out of thy loyns; th' unjust the just hath slain,\n",
      "  For envie that his Brothers Offering found\n",
      "  From Heav'n acceptance; but the bloodie Fact\n",
      "  Will be aveng'd, and th' others Faith approv'd\n",
      "  Loose no reward, though here thou see him die,\n",
      "  Rowling in dust and gore.  To which our Sire.\n",
      "\n",
      "    Alas, both for the deed and for the cause!\n",
      "  But have I now seen Death?  Is this the way\n",
      "  I must return to native dust?  O sight\n",
      "  Of terrour, foul and ugly to behold,\n",
      "  Horrid to think, how horrible to feel!\n",
      "\n",
      "    To whom thus MICHAEL.  Death thou hast seen\n",
      "  In his first shape on man; but many shapes\n",
      "  Of Death, and many are the wayes that lead\n",
      "  To his grim Cave, all dismal; yet to sense\n",
      "  More terrible at th' entrance then within.\n",
      "  Some, as thou saw'st, by violent stroke shall die,\n",
      "  By Fire, Flood, Famin, by Intemperance more\n",
      "  In Meats and Drinks, which on the Earth shal bring\n",
      "  Diseases dire, of which a monstrous crew\n",
      "  Before thee shall appear; that thou mayst\n",
      "----------------------------------------------------------------------------------------------------\n",
      "25\n",
      "brest,\n",
      "  And like a devillish Engine back recoiles\n",
      "  Upon himself; horror and doubt distract\n",
      "  His troubl'd thoughts, and from the bottom stirr\n",
      "  The Hell within him, for within him Hell\n",
      "  He brings, and round about him, nor from Hell\n",
      "  One step no more then from himself can fly\n",
      "  By change of place: Now conscience wakes despair\n",
      "  That slumberd, wakes the bitter memorie\n",
      "  Of what he was, what is, and what must be\n",
      "  Worse; of worse deeds worse sufferings must ensue.\n",
      "  Sometimes towards EDEN which now in his view\n",
      "  Lay pleasant, his grievd look he fixes sad,\n",
      "  Sometimes towards Heav'n and the full-blazing Sun,\n",
      "  Which now sat high in his Meridian Towre:\n",
      "  Then much revolving, thus in sighs began.\n",
      "\n",
      "    O thou that with surpassing Glory crownd,\n",
      "  Look'st from thy sole Dominion like the God\n",
      "  Of this new World; at whose sight all the Starrs\n",
      "  Hide thir diminisht heads; to thee I call,\n",
      "  But with no friendly voice, and add thy name\n",
      "  O Sun, to tell thee how I hate thy beams\n",
      "  That bring to my remembrance from what state\n",
      "  I fell, how glorious once above thy Spheare;\n",
      "  Till Pride and worse Ambition threw me down\n",
      "  Warring in Heav'n against Heav'ns matchless King:\n",
      "  Ah wherefore! he deservd no such return\n",
      "  From me, whom he created what I was\n",
      "  In that bright eminence, and with his good\n",
      "  Upbraided none; nor was his service hard.\n",
      "  What could be less then to afford him praise,\n",
      "  The easiest recompence, and pay him thanks,\n",
      "  How due! yet all his good prov'd ill in me,\n",
      "  And wrought but malice; lifted up so high\n",
      "  I sdeind subjection, and thought one step higher\n",
      "  Would set me highest, and in a moment quit\n",
      "  The debt immense of endless gratitude,\n",
      "  So burthensome, still paying, still to ow;\n",
      "  Forgetful what from him I still receivd,\n",
      "  And understood not that a grateful mind\n",
      "  By owing owes not, but still pays, at once\n",
      "  Indebted and dischargd; what burden then?\n",
      "  O had his powerful Destiny ordaind\n",
      "  Me some inferiour Angel, I had stood\n",
      "  Then happie; no unbounded hope had rais'd\n",
      "  Ambition.  Yet why not? som other Power\n",
      "  As great might have aspir'd, and me though mean\n",
      "  Drawn to his part; but other Powers as great\n",
      "  Fell not, but stand unshak'n, from within\n",
      "  Or from without, to all temptations arm'd.\n",
      "  Hadst thou the same free Will and Power to stand?\n",
      "  Thou hadst: whom hast thou then or what to accuse,\n",
      "  But Heav'ns free Love dealt equally to all?\n",
      "  Be then his Love accurst, since love or hate,\n",
      "  To me alike, it deals eternal woe.\n",
      "  Nay curs'd be thou; since against his thy will\n",
      "  Chose freely what it now so justly rues.\n",
      "  Me miserable! which way shall I flie\n",
      "  Infinite wrauth, and infinite despaire?\n",
      "  Which way I flie is Hell; my self am Hell;\n",
      "  And in the lowest deep a lower deep\n",
      "  Still threatning to devour me opens wide,\n",
      "  To which the Hell I suffer seems a Heav'n.\n",
      "  O then at last relent: is there no place\n",
      "  Left for Repentance, none for Pardon left?\n",
      "  None left but by submission; and that word\n",
      "  DISDAIN forbids me, and my dread of shame\n",
      "  Among the spirits beneath, whom I seduc'd\n",
      "  With other promises and other vaunts\n",
      "  Then to submit, boasting I could subdue\n",
      "  Th' Omnipotent.  Ay me, they little know\n",
      "  How dearly I abide that boast so vaine,\n",
      "  Under what torments inwardly I groane;\n",
      "  While they adore me on the Throne of Hell,\n",
      "  With Diadem and Scepter high advanc'd\n",
      "  The lower still I fall, onely Supream\n",
      "  In miserie; such joy Ambition findes.\n",
      "  But say I could repent and could obtaine\n",
      "  By Act of Grace my former state; how soon\n",
      "  Would highth recal high thoughts, how soon unsay\n",
      "  What feign'd submission swore: ease would recant\n",
      "  Vows made in pain, as violent and void.\n",
      "  For never can true reconcilement grow\n",
      "  Where wounds of deadly hate have peirc'd so deep:\n",
      "  Which would but lead me to a worse relapse\n",
      "  And heavier fall: so should I purchase deare\n",
      "  Short intermission bought with double smart.\n",
      "  This knows my punisher; therefore as farr\n",
      "  From granting hee, as I from begging peace:\n",
      "  All hope excluded thus, behold in stead\n",
      "  Of us out-cast, exil'd, his new delight,\n",
      "  Mankind created, and for him this World.\n",
      "  So farwel Hope, and with Hope farwel Fear,\n",
      "  Farwel Remorse: all Good to me is lost;\n",
      "  Evil be thou my Good; by thee at least\n",
      "  Divided Empire with Heav'ns King I hold\n",
      "  By thee, and more then half perhaps will reigne;\n",
      "  As Man ere long, and this new World shall know.\n",
      "\n",
      "    Thus while he spake, each passion dimm'd his face\n",
      "  Thrice chang'd with pale, ire, envie and despair,\n",
      "  Which marrd his borrow'd visage, and betraid\n",
      "  Him counterfet, if any eye beheld.\n",
      "  For heav'nly mindes from such distempers foule\n",
      "  Are ever cleer.  Whereof hee soon aware,\n",
      "  Each perturbation smooth'd with outward calme,\n",
      "  Artificer of fraud; and was the first\n",
      "  That practisd falshood under saintly shew,\n",
      "  Deep malice to conceale, couch't with revenge:\n",
      "  Yet not anough had practisd to deceive\n",
      "  URIEL once warnd; whose eye pursu'd him down\n",
      "  The way he went, and on th' ASSYRIAN\n"
     ]
    }
   ],
   "source": [
    "for idx in bin_idxs[:20]:\n",
    "    print('-'*100)\n",
    "    print(idx)\n",
    "    print_bin(idx)"
   ]
  },
  {
   "cell_type": "markdown",
   "metadata": {},
   "source": [
    "# 500 bins"
   ]
  },
  {
   "cell_type": "code",
   "execution_count": 19,
   "metadata": {
    "collapsed": false
   },
   "outputs": [
    {
     "data": {
      "image/png": "[encoded data removed]",
      "text/plain": [
       "<matplotlib.figure.Figure at 0x10cb94ef0>"
      ]
     },
     "metadata": {},
     "output_type": "display_data"
    }
   ],
   "source": [
    "plt.figure(figsize=(20, 5))\n",
    "\n",
    "n, bins, patches = plt.hist(\n",
    "    quoted,\n",
    "    range=(0, len(pl.tokens)),\n",
    "    bins=500,\n",
    "    color='green',\n",
    ")\n",
    "\n",
    "plt.show()"
   ]
  },
  {
   "cell_type": "code",
   "execution_count": 20,
   "metadata": {
    "collapsed": false,
    "scrolled": false
   },
   "outputs": [
    {
     "name": "stdout",
     "output_type": "stream",
     "text": [
      "----------------------------------------------------------------------------------------------------\n",
      "0\n",
      "PARADISE LOST\n",
      "\n",
      "  BOOK I.\n",
      "\n",
      "\n",
      "    Of Mans First Disobedience, and the Fruit\n",
      "  Of that Forbidden Tree, whose mortal tast\n",
      "  Brought Death into the World, and all our woe,\n",
      "  With loss of EDEN, till one greater Man\n",
      "  Restore us, and regain the blissful Seat,\n",
      "  Sing Heav'nly Muse, that on the secret top\n",
      "  Of OREB, or of SINAI, didst inspire\n",
      "  That Shepherd, who first taught the chosen Seed,\n",
      "  In the Beginning how the Heav'ns and Earth\n",
      "  Rose out of CHAOS: Or if SION Hill\n",
      "  Delight thee more, and SILOA'S Brook that flow'd\n",
      "  Fast by the Oracle of God; I thence\n",
      "  Invoke thy aid to my adventrous Song,\n",
      "  That with no middle flight intends to soar\n",
      "  Above th' AONIAN Mount, while it pursues\n",
      "  Things unattempted yet in Prose or Rhime.\n",
      "  And chiefly Thou O Spirit, that dost prefer\n",
      "  Before all Temples th' upright heart and pure,\n",
      "  Instruct me, for Thou know'st; Thou from the first\n",
      "  Wast present, and with mighty\n",
      "----------------------------------------------------------------------------------------------------\n",
      "13\n",
      "revive, though now they lye\n",
      "  Groveling and prostrate on yon Lake of Fire,\n",
      "  As we erewhile, astounded and amaz'd,\n",
      "  No wonder, fall'n such a pernicious highth.\n",
      "\n",
      "    He scarce had ceas't when the superiour Fiend\n",
      "  Was moving toward the shore; his ponderous shield\n",
      "  Ethereal temper, massy, large and round,\n",
      "  Behind him cast; the broad circumference\n",
      "  Hung on his shoulders like the Moon, whose Orb\n",
      "  Through Optic Glass the TUSCAN Artist views\n",
      "  At Ev'ning from the top of FESOLE,\n",
      "  Or in VALDARNO, to descry new Lands,\n",
      "  Rivers or Mountains in her spotty Globe.\n",
      "  His Spear, to equal which the tallest Pine\n",
      "  Hewn on NORWEGIAN hills, to be the Mast\n",
      "  Of some great Ammiral, were but a wand,\n",
      "  He walkt with to support uneasie steps\n",
      "  Over the burning Marle, not like those steps\n",
      "  On Heavens Azure, and the torrid Clime\n",
      "  Smote on him sore besides, vaulted with Fire;\n",
      "  Nathless he so endur'd, till on the Beach\n",
      "  Of that inflamed Sea, he stood and call'd\n",
      "----------------------------------------------------------------------------------------------------\n",
      "27\n",
      "due,\n",
      "  Thir visages and stature as of Gods,\n",
      "  Thir number last he summs.  And now his heart\n",
      "  Distends with pride, and hardning in his strength\n",
      "  Glories: For never since created man,\n",
      "  Met such imbodied force, as nam'd with these\n",
      "  Could merit more then that small infantry\n",
      "  Warr'd on by Cranes: though all the Giant brood\n",
      "  Of PHLEGRA with th' Heroic Race were joyn'd\n",
      "  That fought at THEB'S and ILIUM, on each side\n",
      "  Mixt with auxiliar Gods; and what resounds\n",
      "  In Fable or ROMANCE of UTHERS Son\n",
      "  Begirt with BRITISH and ARMORIC Knights;\n",
      "  And all who since, Baptiz'd or Infidel\n",
      "  Jousted in ASPRAMONT or MONTALBAN,\n",
      "  DAMASCO, or MAROCCO, or TREBISOND,\n",
      "  Or whom BISERTA sent from AFRIC shore\n",
      "  When CHARLEMAIN with all his Peerage fell\n",
      "  By FONTARABBIA.  Thus far these beyond\n",
      "  Compare of mortal prowess, yet observ'd\n",
      "  Thir dread Commander: he above the rest\n",
      "  In shape and gesture proudly eminent\n",
      "  Stood like a Towr\n",
      "----------------------------------------------------------------------------------------------------\n",
      "382\n",
      "hast heard, and hast not fear'd,\n",
      "  But still rejoyc't, how is it now become\n",
      "  So dreadful to thee? that thou art naked, who\n",
      "  Hath told thee? hast thou eaten of the Tree\n",
      "  Whereof I gave thee charge thou shouldst not eat?\n",
      "\n",
      "    To whom thus ADAM sore beset repli'd.\n",
      "  O Heav'n! in evil strait this day I stand\n",
      "  Before my Judge, either to undergoe\n",
      "  My self the total Crime, or to accuse\n",
      "  My other self, the partner of my life;\n",
      "  Whose failing, while her Faith to me remaines,\n",
      "  I should conceal, and not expose to blame\n",
      "  By my complaint; but strict necessitie\n",
      "  Subdues me, and calamitous constraint,\n",
      "  Least on my head both sin and punishment,\n",
      "  However insupportable, be all\n",
      "  Devolv'd; though should I hold my peace, yet thou\n",
      "  Wouldst easily detect what I conceale.\n",
      "  This Woman whom thou mad'st to be my help,\n",
      "  And gav'st me as thy perfet gift, so good,\n",
      "  So fit, so acceptable, so Divine\n",
      "----------------------------------------------------------------------------------------------------\n",
      "179\n",
      "deny, and call\n",
      "  Our knowledge or opinion; then retires\n",
      "  Into her private Cell when Nature rests.\n",
      "  Oft in her absence mimic Fansie wakes\n",
      "  To imitate her; but misjoyning shapes,\n",
      "  Wilde work produces oft, and most in dreams,\n",
      "  Ill matching words and deeds long past or late.\n",
      "  Som such resemblances methinks I find\n",
      "  Of our last Eevnings talk, in this thy dream,\n",
      "  But with addition strange; yet be not sad.\n",
      "  Evil into the mind of God or Man\n",
      "  May come and go, so unapprov'd, and leave\n",
      "  No spot or blame behind: Which gives me hope\n",
      "  That what in sleep thou didst abhorr to dream,\n",
      "  Waking thou never wilt consent to do.\n",
      "  Be not disheart'nd then, nor cloud those looks\n",
      "  That wont to be more chearful and serene\n",
      "  Then when fair Morning first smiles on the World,\n",
      "  And let us to our fresh imployments rise\n",
      "  Among the Groves, the Fountains, and the Flours\n",
      "  That open now thir choicest bosom'd smells\n",
      "  Reservd from night, and kept for thee in store.\n",
      "\n",
      "    So cheard he his fair Spouse, and she was cheard,\n",
      "  But silently a gentle\n",
      "----------------------------------------------------------------------------------------------------\n",
      "68\n",
      "Drugs: they on the trading Flood\n",
      "  Through the wide ETHIOPIAN to the Cape\n",
      "  Ply stemming nightly toward the Pole.  So seem'd\n",
      "  Farr off the flying Fiend: at last appeer\n",
      "  Hell bounds high reaching to the horrid Roof,\n",
      "  And thrice threefold the Gates; three folds were Brass\n",
      "  Three Iron, three of Adamantine Rock,\n",
      "  Impenitrable, impal'd with circling fire,\n",
      "  Yet unconsum'd.  Before the Gates there sat\n",
      "  On either side a formidable shape;\n",
      "  The one seem'd Woman to the waste, and fair,\n",
      "  But ended foul in many a scaly fould\n",
      "  Voluminous and vast, a Serpent arm'd\n",
      "  With mortal sting: about her middle round\n",
      "  A cry of Hell Hounds never ceasing bark'd\n",
      "  With wide CERBEREAN mouths full loud, and rung\n",
      "  A hideous Peal: yet, when they list, would creep,\n",
      "  If aught disturb'd thir noyse, into her woomb,\n",
      "  And kennel there, yet there still bark'd and howl'd\n",
      "  Within unseen\n",
      "----------------------------------------------------------------------------------------------------\n",
      "181\n",
      "Unmeditated, such prompt eloquence\n",
      "  Flowd from thir lips, in Prose or numerous Verse,\n",
      "  More tuneable then needed Lute or Harp\n",
      "  To add more sweetness, and they thus began.\n",
      "\n",
      "    These are thy glorious works, Parent of good,\n",
      "  Almightie, thine this universal Frame,\n",
      "  Thus wondrous fair; thy self how wondrous then!\n",
      "  Unspeakable, who sitst above these Heavens\n",
      "  To us invisible or dimly seen\n",
      "  In these thy lowest works, yet these declare\n",
      "  Thy goodness beyond thought, and Power Divine:\n",
      "  Speak yee who best can tell, ye Sons of light,\n",
      "  Angels, for yee behold him, and with songs\n",
      "  And choral symphonies, Day without Night,\n",
      "  Circle his Throne rejoycing, yee in Heav'n,\n",
      "  On Earth joyn all yee Creatures to extoll\n",
      "  Him first, him last, him midst, and without end.\n",
      "  Fairest of Starrs, last in the train of Night,\n",
      "  If better thou belong not to the dawn,\n",
      "  Sure pledge of day, that crownst the smiling Morn\n",
      "  With thy bright Circlet, praise him in thy Spheare\n",
      "  While\n",
      "----------------------------------------------------------------------------------------------------\n",
      "82\n",
      "Sea, nor Shore, nor Air, nor Fire,\n",
      "  But all these in thir pregnant causes mixt\n",
      "  Confus'dly, and which thus must ever fight,\n",
      "  Unless th' Almighty Maker them ordain\n",
      "  His dark materials to create more Worlds,\n",
      "  Into this wilde Abyss the warie fiend\n",
      "  Stood on the brink of Hell and look'd a while,\n",
      "  Pondering his Voyage; for no narrow frith\n",
      "  He had to cross.  Nor was his eare less peal'd\n",
      "  With noises loud and ruinous (to compare\n",
      "  Great things with small) then when BELLONA storms,\n",
      "  With all her battering Engines bent to rase\n",
      "  Som Capital City, or less then if this frame\n",
      "  Of Heav'n were falling, and these Elements\n",
      "  In mutinie had from her Axle torn\n",
      "  The stedfast Earth.  At last his Sail-broad Vannes\n",
      "  He spreads for flight, and in the surging smoak\n",
      "  Uplifted spurns the ground, thence many a League\n",
      "  As in a cloudy Chair ascending rides\n",
      "  Audacious, but that seat soon failing, meets\n",
      "  A vast vacuitie: all unawares\n",
      "----------------------------------------------------------------------------------------------------\n",
      "25\n",
      "sound\n",
      "  Of Trumpets loud and Clarions be upreard\n",
      "  His mighty Standard; that proud honour claim'd\n",
      "  AZAZEL as his right, a Cherube tall:\n",
      "  Who forthwith from the glittering Staff unfurld\n",
      "  Th' Imperial Ensign, which full high advanc't\n",
      "  Shon like a Meteor streaming to the Wind\n",
      "  With Gemms and Golden lustre rich imblaz'd,\n",
      "  Seraphic arms and Trophies: all the while\n",
      "  Sonorous mettal blowing Martial sounds:\n",
      "  At which the universal Host upsent\n",
      "  A shout that tore Hells Concave, and beyond\n",
      "  Frighted the Reign of CHAOS and old Night.\n",
      "  All in a moment through the gloom were seen\n",
      "  Ten thousand Banners rise into the Air\n",
      "  With Orient Colours waving: with them rose\n",
      "  A Forrest huge of Spears: and thronging Helms\n",
      "  Appear'd, and serried Shields in thick array\n",
      "  Of depth immeasurable: Anon they move\n",
      "  In perfect PHALANX to the Dorian mood\n",
      "  Of Flutes and soft Recorders; such as rais'd\n",
      "  To highth of noblest\n",
      "----------------------------------------------------------------------------------------------------\n",
      "153\n",
      "amorous descant sung;\n",
      "  Silence was pleas'd: now glow'd the Firmament\n",
      "  With living Saphirs: HESPERUS that led\n",
      "  The starrie Host, rode brightest, till the Moon\n",
      "  Rising in clouded Majestie, at length\n",
      "  Apparent Queen unvaild her peerless light,\n",
      "  And o're the dark her Silver Mantle threw.\n",
      "\n",
      "    When ADAM thus to EVE: Fair Consort, th' hour\n",
      "  Of night, and all things now retir'd to rest\n",
      "  Mind us of like repose, since God hath set\n",
      "  Labour and rest, as day and night to men\n",
      "  Successive, and the timely dew of sleep\n",
      "  Now falling with soft slumbrous weight inclines\n",
      "  Our eye-lids; other Creatures all day long\n",
      "  Rove idle unimploid, and less need rest;\n",
      "  Man hath his daily work of body or mind\n",
      "  Appointed, which declares his Dignitie,\n",
      "  And the regard of Heav'n on all his waies;\n",
      "  While other Animals unactive range,\n",
      "  And of thir doings God takes no account\n",
      "----------------------------------------------------------------------------------------------------\n",
      "158\n",
      "Emblem: other Creature here\n",
      "  Beast, Bird, Insect, or Worm durst enter none;\n",
      "  Such was thir awe of man.  In shadier Bower\n",
      "  More sacred and sequesterd, though but feignd,\n",
      "  PAN or SILVANUS never slept, nor Nymph,\n",
      "  Nor FAUNUS haunted.  Here in close recess\n",
      "  With Flowers, Garlands, and sweet-smelling Herbs\n",
      "  Espoused EVE deckt first her Nuptial Bed,\n",
      "  And heav'nly Quires the Hymenaean sung,\n",
      "  What day the genial Angel to our Sire\n",
      "  Brought her in naked beauty more adorn'd,\n",
      "  More lovely then PANDORA, whom the Gods\n",
      "  Endowd with all thir gifts, and O too like\n",
      "  In sad event, when to the unwiser Son\n",
      "  Of JAPHET brought by HERMES, she ensnar'd\n",
      "  Mankind with her faire looks, to be aveng'd\n",
      "  On him who had stole JOVES authentic fire.\n",
      "\n",
      "    Thus at thir shadie Lodge arriv'd, both stood,\n",
      "  Both turnd, and under op'n Skie ador'd\n",
      "  The God that made both Skie, Air\n",
      "----------------------------------------------------------------------------------------------------\n",
      "89\n",
      "light\n",
      "  Dwelt from Eternitie, dwelt then in thee,\n",
      "  Bright effluence of bright essence increate.\n",
      "  Or hear'st thou rather pure Ethereal stream,\n",
      "  Whose Fountain who shall tell? before the Sun,\n",
      "  Before the Heavens thou wert, and at the voice\n",
      "  Of God, as with a Mantle didst invest\n",
      "  The rising world of waters dark and deep,\n",
      "  Won from the void and formless infinite.\n",
      "  Thee I re-visit now with bolder wing,\n",
      "  Escap't the STYGIAN Pool, though long detain'd\n",
      "  In that obscure sojourn, while in my flight\n",
      "  Through utter and through middle darkness borne\n",
      "  With other notes then to th' ORPHEAN Lyre\n",
      "  I sung of CHAOS and ETERNAL NIGHT,\n",
      "  Taught by the heav'nly Muse to venture down\n",
      "  The dark descent, and up to reascend,\n",
      "  Though hard and rare: thee I revisit safe,\n",
      "  And feel thy sovran vital Lamp; but thou\n",
      "  Revisit'st not these eyes, that rowle in vain\n",
      "  To find thy piercing ray, and find no dawn\n",
      "----------------------------------------------------------------------------------------------------\n",
      "338\n",
      "enjoynes,\n",
      "  That I should mind thee oft, and mind thou me.\n",
      "  Firm we subsist, yet possible to swerve,\n",
      "  Since Reason not impossibly may meet\n",
      "  Some specious object by the Foe subornd,\n",
      "  And fall into deception unaware,\n",
      "  Not keeping strictest watch, as she was warnd.\n",
      "  Seek not temptation then, which to avoide\n",
      "  Were better, and most likelie if from mee\n",
      "  Thou sever not; Trial will come unsought.\n",
      "  Wouldst thou approve thy constancie, approve\n",
      "  First thy obedience; th' other who can know,\n",
      "  Not seeing thee attempted, who attest?\n",
      "  But if thou think, trial unsought may finde\n",
      "  Us both securer then thus warnd thou seemst,\n",
      "  Go; for thy stay, not free, absents thee more;\n",
      "  Go in thy native innocence, relie\n",
      "  On what thou hast of vertue, summon all,\n",
      "  For God towards thee hath done his part, do thine.\n",
      "\n",
      "    So spake the Patriarch of Mankinde, but EVE\n",
      "  Persisted, yet submiss, though last, repli'd.\n",
      "\n",
      "    With thy permission then, and thus forewarnd\n",
      "  Chiefly by what thy own last reasoning\n",
      "----------------------------------------------------------------------------------------------------\n",
      "64\n",
      "Fate,\n",
      "  Fixt Fate, free will, foreknowledge absolute,\n",
      "  And found no end, in wandring mazes lost.\n",
      "  Of good and evil much they argu'd then,\n",
      "  Of happiness and final misery,\n",
      "  Passion and Apathie, and glory and shame,\n",
      "  Vain wisdom all, and false Philosophie:\n",
      "  Yet with a pleasing sorcerie could charm\n",
      "  Pain for a while or anguish, and excite\n",
      "  Fallacious hope, or arm th' obdured brest\n",
      "  With stubborn patience as with triple steel.\n",
      "  Another part in Squadrons and gross Bands,\n",
      "  On bold adventure to discover wide\n",
      "  That dismal world, if any Clime perhaps\n",
      "  Might yeild them easier habitation, bend\n",
      "  Four ways thir flying March, along the Banks\n",
      "  Of four infernal Rivers that disgorge\n",
      "  Into the burning Lake thir baleful streams;\n",
      "  Abhorred STYX the flood of deadly hate,\n",
      "  Sad ACHERON of sorrow, black and deep;\n",
      "  COCYTUS, nam'd of lamentation loud\n",
      "  Heard on the ruful stream; fierce PHLEGETON\n",
      "  Whose\n",
      "----------------------------------------------------------------------------------------------------\n",
      "20\n",
      "works of love or enmity fulfill.\n",
      "  For those the Race of ISRAEL oft forsook\n",
      "  Their living strength, and unfrequented left\n",
      "  His righteous Altar, bowing lowly down\n",
      "  To bestial Gods; for which their heads as low\n",
      "  Bow'd down in Battel, sunk before the Spear\n",
      "  Of despicable foes.  With these in troop\n",
      "  Came ASTORETH, whom the PHOENICIANS call'd\n",
      "  ASTARTE, Queen of Heav'n, with crescent Horns;\n",
      "  To whose bright Image nightly by the Moon\n",
      "  SIDONIAN Virgins paid their Vows and Songs,\n",
      "  In SION also not unsung, where stood\n",
      "  Her Temple on th' offensive Mountain, built\n",
      "  By that uxorious King, whose heart though large,\n",
      "  Beguil'd by fair Idolatresses, fell\n",
      "  To Idols foul.  THAMMUZ came next behind,\n",
      "  Whose annual wound in LEBANON allur'd\n",
      "  The SYRIAN Damsels to lament his fate\n",
      "  In amorous dittyes all a Summers day,\n",
      "  While smooth ADONIS from his native Rock\n",
      "  Ran purple\n",
      "----------------------------------------------------------------------------------------------------\n",
      "5\n",
      "adverse power oppos'd\n",
      "  In dubious Battel on the Plains of Heav'n,\n",
      "  And shook his throne.  What though the field be lost?\n",
      "  All is not lost; the unconquerable Will,\n",
      "  And study of revenge, immortal hate,\n",
      "  And courage never to submit or yield:\n",
      "  And what is else not to be overcome?\n",
      "  That Glory never shall his wrath or might\n",
      "  Extort from me.  To bow and sue for grace\n",
      "  With suppliant knee, and deifie his power\n",
      "  Who from the terrour of this Arm so late\n",
      "  Doubted his Empire, that were low indeed,\n",
      "  That were an ignominy and shame beneath\n",
      "  This downfall; since by Fate the strength of Gods\n",
      "  And this Empyreal substance cannot fail,\n",
      "  Since through experience of this great event\n",
      "  In Arms not worse, in foresight much advanc't,\n",
      "  We may with more successful hope resolve\n",
      "  To wage by force or guile eternal Warr\n",
      "  Irreconcileable, to our grand Foe,\n",
      "  Who now triumphs, and in th' excess of joy\n",
      "  Sole reigning holds the Tyranny of Heav'n.\n",
      "\n",
      "    So spake th' Apostate Angel, though in pain,\n",
      "  Vaunting aloud, but rackt\n",
      "----------------------------------------------------------------------------------------------------\n",
      "80\n",
      "towards the Gate rouling her bestial train,\n",
      "  Forthwith the huge Porcullis high up drew,\n",
      "  Which but her self not all the STYGIAN powers\n",
      "  Could once have mov'd; then in the key-hole turns\n",
      "  Th' intricate wards, and every Bolt and Bar\n",
      "  Of massie Iron or sollid Rock with ease\n",
      "  Unfast'ns: on a sudden op'n flie\n",
      "  With impetuous recoile and jarring sound\n",
      "  Th' infernal dores, and on thir hinges great\n",
      "  Harsh Thunder, that the lowest bottom shook\n",
      "  Of EREBUS.  She op'nd, but to shut\n",
      "  Excel'd her power; the Gates wide op'n stood,\n",
      "  That with extended wings a Bannerd Host\n",
      "  Under spread Ensigns marching might pass through\n",
      "  With Horse and Chariots rankt in loose array;\n",
      "  So wide they stood, and like a Furnace mouth\n",
      "  Cast forth redounding smoak and ruddy flame.\n",
      "  Before thir eyes in sudden view appear\n",
      "  The secrets of the hoarie deep\n",
      "----------------------------------------------------------------------------------------------------\n",
      "9\n",
      "Prone on the Flood, extended long and large\n",
      "  Lay floating many a rood, in bulk as huge\n",
      "  As whom the Fables name of monstrous size,\n",
      "  TITANIAN, or EARTH-BORN, that warr'd on JOVE,\n",
      "  BRIARIOS or TYPHON, whom the Den\n",
      "  By ancient TARSUS held, or that Sea-beast\n",
      "  LEVIATHAN, which God of all his works\n",
      "  Created hugest that swim th' Ocean stream:\n",
      "  Him haply slumbring on the NORWAY foam\n",
      "  The Pilot of some small night-founder'd Skiff,\n",
      "  Deeming some Island, oft, as Sea-men tell,\n",
      "  With fixed Anchor in his skaly rind\n",
      "  Moors by his side under the Lee, while Night\n",
      "  Invests the Sea, and wished Morn delayes:\n",
      "  So stretcht out huge in length the Arch-fiend lay\n",
      "  Chain'd on the burning Lake, nor ever thence\n",
      "  Had ris'n or heav'd his head, but that the will\n",
      "  And high permission of all-ruling Heaven\n",
      "  Left him at large to his own dark designs,\n",
      "  That with reiterated\n",
      "----------------------------------------------------------------------------------------------------\n",
      "28\n",
      "form had yet not lost\n",
      "  All her Original brightness, nor appear'd\n",
      "  Less then Arch Angel ruind, and th' excess\n",
      "  Of Glory obscur'd: As when the Sun new ris'n\n",
      "  Looks through the Horizontal misty Air\n",
      "  Shorn of his Beams, or from behind the Moon\n",
      "  In dim Eclips disastrous twilight sheds\n",
      "  On half the Nations, and with fear of change\n",
      "  Perplexes Monarchs.  Dark'n'd so, yet shon\n",
      "  Above them all th' Arch Angel: but his face\n",
      "  Deep scars of Thunder had intrencht, and care\n",
      "  Sat on his faded cheek, but under Browes\n",
      "  Of dauntless courage, and considerate Pride\n",
      "  Waiting revenge: cruel his eye, but cast\n",
      "  Signs of remorse and passion to behold\n",
      "  The fellows of his crime, the followers rather\n",
      "  (Far other once beheld in bliss) condemn'd\n",
      "  For ever now to have their lot in pain,\n",
      "  Millions of Spirits for his fault amerc't\n",
      "  Of Heav'n, and from Eternal Splendors\n",
      "----------------------------------------------------------------------------------------------------\n",
      "155\n",
      "Land he spreads\n",
      "  His orient Beams, on herb, tree, fruit, and flour,\n",
      "  Glistring with dew; fragrant the fertil earth\n",
      "  After soft showers; and sweet the coming on\n",
      "  Of grateful Eevning milde, then silent Night\n",
      "  With this her solemn Bird and this fair Moon,\n",
      "  And these the Gemms of Heav'n, her starrie train:\n",
      "  But neither breath of Morn when she ascends\n",
      "  With charm of earliest Birds, nor rising Sun\n",
      "  On this delightful land, nor herb, fruit, floure,\n",
      "  Glistring with dew, nor fragrance after showers,\n",
      "  Nor grateful Evening mild, nor silent Night\n",
      "  With this her solemn Bird, nor walk by Moon,\n",
      "  Or glittering Starr-light without thee is sweet.\n",
      "  But wherfore all night long shine these, for whom\n",
      "  This glorious sight, when sleep hath shut all eyes?\n",
      "\n",
      "    To whom our general Ancestor repli'd.\n",
      "  Daughter of God and Man, accomplisht EVE,\n",
      "  Those have thir course to finish, round the Earth\n"
     ]
    }
   ],
   "source": [
    "bin_idxs = np.argsort(n)[::-1]\n",
    "\n",
    "for idx in bin_idxs[:20]:\n",
    "    print('-'*100)\n",
    "    print(idx)\n",
    "    print_bin(idx)"
   ]
  },
  {
   "cell_type": "markdown",
   "metadata": {},
   "source": [
    "# Individual words"
   ]
  },
  {
   "cell_type": "code",
   "execution_count": 21,
   "metadata": {
    "collapsed": false
   },
   "outputs": [
    {
     "data": {
      "image/png": "[encoded data removed]",
      "text/plain": [
       "<matplotlib.figure.Figure at 0x10cf8df98>"
      ]
     },
     "metadata": {},
     "output_type": "display_data"
    }
   ],
   "source": [
    "plt.figure(figsize=(20, 5))\n",
    "\n",
    "n, bins, patches = plt.hist(\n",
    "    quoted,\n",
    "    range=(0, len(pl.tokens)),\n",
    "    bins=len(pl.tokens),\n",
    "    color='green',\n",
    ")\n",
    "\n",
    "plt.show()"
   ]
  },
  {
   "cell_type": "code",
   "execution_count": 23,
   "metadata": {
    "collapsed": false,
    "scrolled": false
   },
   "outputs": [
    {
     "name": "stdout",
     "output_type": "stream",
     "text": [
      "----------------------------------------------------------------------------------------------------\n"
     ]
    },
    {
     "data": {
      "text/markdown": [
       "whom thus ADAM sore **beset** repli'd. O Heav"
      ],
      "text/plain": [
       "<IPython.core.display.Markdown object>"
      ]
     },
     "metadata": {},
     "output_type": "display_data"
    },
    {
     "name": "stdout",
     "output_type": "stream",
     "text": [
      "82.0\n",
      "----------------------------------------------------------------------------------------------------\n"
     ]
    },
    {
     "data": {
      "text/markdown": [
       "ADAM sore beset repli' **d** . O Heav'n! in evil"
      ],
      "text/plain": [
       "<IPython.core.display.Markdown object>"
      ]
     },
     "metadata": {},
     "output_type": "display_data"
    },
    {
     "name": "stdout",
     "output_type": "stream",
     "text": [
      "82.0\n",
      "----------------------------------------------------------------------------------------------------\n"
     ]
    },
    {
     "data": {
      "text/markdown": [
       "beset repli'd. O **Heav** 'n! in evil strait this day I stand"
      ],
      "text/plain": [
       "<IPython.core.display.Markdown object>"
      ]
     },
     "metadata": {},
     "output_type": "display_data"
    },
    {
     "name": "stdout",
     "output_type": "stream",
     "text": [
      "82.0\n",
      "----------------------------------------------------------------------------------------------------\n"
     ]
    },
    {
     "data": {
      "text/markdown": [
       "sore beset repli'd. **O** Heav'n! in evil strait"
      ],
      "text/plain": [
       "<IPython.core.display.Markdown object>"
      ]
     },
     "metadata": {},
     "output_type": "display_data"
    },
    {
     "name": "stdout",
     "output_type": "stream",
     "text": [
      "82.0\n",
      "----------------------------------------------------------------------------------------------------\n"
     ]
    },
    {
     "data": {
      "text/markdown": [
       "thus ADAM sore beset **repli** 'd. O Heav'n"
      ],
      "text/plain": [
       "<IPython.core.display.Markdown object>"
      ]
     },
     "metadata": {},
     "output_type": "display_data"
    },
    {
     "name": "stdout",
     "output_type": "stream",
     "text": [
      "82.0\n",
      "----------------------------------------------------------------------------------------------------\n"
     ]
    },
    {
     "data": {
      "text/markdown": [
       "LOST BOOK I. Of Mans First Disobedience, and the **Fruit** Of that Forbidden Tree, whose mortal"
      ],
      "text/plain": [
       "<IPython.core.display.Markdown object>"
      ]
     },
     "metadata": {},
     "output_type": "display_data"
    },
    {
     "name": "stdout",
     "output_type": "stream",
     "text": [
      "47.0\n",
      "----------------------------------------------------------------------------------------------------\n"
     ]
    },
    {
     "data": {
      "text/markdown": [
       "BOOK I. Of Mans First Disobedience, and the Fruit Of that **Forbidden** Tree, whose mortal tast"
      ],
      "text/plain": [
       "<IPython.core.display.Markdown object>"
      ]
     },
     "metadata": {},
     "output_type": "display_data"
    },
    {
     "name": "stdout",
     "output_type": "stream",
     "text": [
      "47.0\n",
      "----------------------------------------------------------------------------------------------------\n"
     ]
    },
    {
     "data": {
      "text/markdown": [
       "Mans First Disobedience, and the Fruit Of that Forbidden **Tree** , whose mortal tast Brought"
      ],
      "text/plain": [
       "<IPython.core.display.Markdown object>"
      ]
     },
     "metadata": {},
     "output_type": "display_data"
    },
    {
     "name": "stdout",
     "output_type": "stream",
     "text": [
      "47.0\n",
      "----------------------------------------------------------------------------------------------------\n"
     ]
    },
    {
     "data": {
      "text/markdown": [
       "Disobedience, and the Fruit Of that Forbidden Tree, **whose** mortal tast Brought Death"
      ],
      "text/plain": [
       "<IPython.core.display.Markdown object>"
      ]
     },
     "metadata": {},
     "output_type": "display_data"
    },
    {
     "name": "stdout",
     "output_type": "stream",
     "text": [
      "47.0\n",
      "----------------------------------------------------------------------------------------------------\n"
     ]
    },
    {
     "data": {
      "text/markdown": [
       "heard And from his presence hid themselves **among** The thickest Trees, both Man and Wife, till"
      ],
      "text/plain": [
       "<IPython.core.display.Markdown object>"
      ]
     },
     "metadata": {},
     "output_type": "display_data"
    },
    {
     "name": "stdout",
     "output_type": "stream",
     "text": [
      "46.0\n",
      "----------------------------------------------------------------------------------------------------\n"
     ]
    },
    {
     "data": {
      "text/markdown": [
       "declin'd, they heard And from his presence **hid** themselves among The thickest Trees"
      ],
      "text/plain": [
       "<IPython.core.display.Markdown object>"
      ]
     },
     "metadata": {},
     "output_type": "display_data"
    },
    {
     "name": "stdout",
     "output_type": "stream",
     "text": [
      "46.0\n",
      "----------------------------------------------------------------------------------------------------\n"
     ]
    },
    {
     "data": {
      "text/markdown": [
       "while day declin'd, they heard And from his **presence** hid themselves among The thickest"
      ],
      "text/plain": [
       "<IPython.core.display.Markdown object>"
      ]
     },
     "metadata": {},
     "output_type": "display_data"
    },
    {
     "name": "stdout",
     "output_type": "stream",
     "text": [
      "46.0\n",
      "----------------------------------------------------------------------------------------------------\n"
     ]
    },
    {
     "data": {
      "text/markdown": [
       "d, they heard And from his presence hid **themselves** among The thickest Trees, both Man and Wife"
      ],
      "text/plain": [
       "<IPython.core.display.Markdown object>"
      ]
     },
     "metadata": {},
     "output_type": "display_data"
    },
    {
     "name": "stdout",
     "output_type": "stream",
     "text": [
      "46.0\n",
      "----------------------------------------------------------------------------------------------------\n"
     ]
    },
    {
     "data": {
      "text/markdown": [
       "presence hid themselves among The **thickest** Trees, both Man and Wife, till God"
      ],
      "text/plain": [
       "<IPython.core.display.Markdown object>"
      ]
     },
     "metadata": {},
     "output_type": "display_data"
    },
    {
     "name": "stdout",
     "output_type": "stream",
     "text": [
      "44.0\n",
      "----------------------------------------------------------------------------------------------------\n"
     ]
    },
    {
     "data": {
      "text/markdown": [
       "loud, and rung A hideous Peal: **yet** , when they list, would creep, If aught disturb"
      ],
      "text/plain": [
       "<IPython.core.display.Markdown object>"
      ]
     },
     "metadata": {},
     "output_type": "display_data"
    },
    {
     "name": "stdout",
     "output_type": "stream",
     "text": [
      "44.0\n",
      "----------------------------------------------------------------------------------------------------\n"
     ]
    },
    {
     "data": {
      "text/markdown": [
       "rung A hideous Peal: yet, when they **list** , would creep, If aught disturb'd"
      ],
      "text/plain": [
       "<IPython.core.display.Markdown object>"
      ]
     },
     "metadata": {},
     "output_type": "display_data"
    },
    {
     "name": "stdout",
     "output_type": "stream",
     "text": [
      "44.0\n",
      "----------------------------------------------------------------------------------------------------\n"
     ]
    },
    {
     "data": {
      "text/markdown": [
       "Fruit Of that Forbidden Tree, whose **mortal** tast Brought Death into the World, and all our woe"
      ],
      "text/plain": [
       "<IPython.core.display.Markdown object>"
      ]
     },
     "metadata": {},
     "output_type": "display_data"
    },
    {
     "name": "stdout",
     "output_type": "stream",
     "text": [
      "43.0\n",
      "----------------------------------------------------------------------------------------------------\n"
     ]
    },
    {
     "data": {
      "text/markdown": [
       "Peal: yet, when they list, would creep, If **aught** disturb'd thir noyse"
      ],
      "text/plain": [
       "<IPython.core.display.Markdown object>"
      ]
     },
     "metadata": {},
     "output_type": "display_data"
    },
    {
     "name": "stdout",
     "output_type": "stream",
     "text": [
      "42.0\n",
      "----------------------------------------------------------------------------------------------------\n"
     ]
    },
    {
     "data": {
      "text/markdown": [
       "hideous Peal: yet, when they list, would **creep** , If aught disturb'd thir"
      ],
      "text/plain": [
       "<IPython.core.display.Markdown object>"
      ]
     },
     "metadata": {},
     "output_type": "display_data"
    },
    {
     "name": "stdout",
     "output_type": "stream",
     "text": [
      "41.0\n",
      "----------------------------------------------------------------------------------------------------\n"
     ]
    },
    {
     "data": {
      "text/markdown": [
       "yet, when they list, would creep, If aught **disturb** 'd thir noyse, into her woomb"
      ],
      "text/plain": [
       "<IPython.core.display.Markdown object>"
      ]
     },
     "metadata": {},
     "output_type": "display_data"
    },
    {
     "name": "stdout",
     "output_type": "stream",
     "text": [
      "40.0\n",
      "----------------------------------------------------------------------------------------------------\n"
     ]
    },
    {
     "data": {
      "text/markdown": [
       "morn, her rising sweet, With charm of **earliest** Birds; pleasant the Sun When first on this delightful"
      ],
      "text/plain": [
       "<IPython.core.display.Markdown object>"
      ]
     },
     "metadata": {},
     "output_type": "display_data"
    },
    {
     "name": "stdout",
     "output_type": "stream",
     "text": [
      "38.0\n",
      "----------------------------------------------------------------------------------------------------\n"
     ]
    },
    {
     "data": {
      "text/markdown": [
       "breath of morn, her rising sweet, With **charm** of earliest Birds; pleasant the Sun"
      ],
      "text/plain": [
       "<IPython.core.display.Markdown object>"
      ]
     },
     "metadata": {},
     "output_type": "display_data"
    },
    {
     "name": "stdout",
     "output_type": "stream",
     "text": [
      "38.0\n",
      "----------------------------------------------------------------------------------------------------\n"
     ]
    },
    {
     "data": {
      "text/markdown": [
       "thus in haste to th' Angel **cri** 'd. O Teacher, some great mischief"
      ],
      "text/plain": [
       "<IPython.core.display.Markdown object>"
      ]
     },
     "metadata": {},
     "output_type": "display_data"
    },
    {
     "name": "stdout",
     "output_type": "stream",
     "text": [
      "36.0\n",
      "----------------------------------------------------------------------------------------------------\n"
     ]
    },
    {
     "data": {
      "text/markdown": [
       "haste to th' Angel cri' **d** . O Teacher, some great mischief hath"
      ],
      "text/plain": [
       "<IPython.core.display.Markdown object>"
      ]
     },
     "metadata": {},
     "output_type": "display_data"
    },
    {
     "name": "stdout",
     "output_type": "stream",
     "text": [
      "36.0\n",
      "----------------------------------------------------------------------------------------------------\n"
     ]
    },
    {
     "data": {
      "text/markdown": [
       "d, and thus in haste to th' **Angel** cri'd. O Teacher"
      ],
      "text/plain": [
       "<IPython.core.display.Markdown object>"
      ]
     },
     "metadata": {},
     "output_type": "display_data"
    },
    {
     "name": "stdout",
     "output_type": "stream",
     "text": [
      "36.0\n",
      "----------------------------------------------------------------------------------------------------\n"
     ]
    },
    {
     "data": {
      "text/markdown": [
       "PARADISE LOST BOOK I. Of Mans First **Disobedience** , and the Fruit Of that Forbidden Tree, whose"
      ],
      "text/plain": [
       "<IPython.core.display.Markdown object>"
      ]
     },
     "metadata": {},
     "output_type": "display_data"
    },
    {
     "name": "stdout",
     "output_type": "stream",
     "text": [
      "36.0\n",
      "----------------------------------------------------------------------------------------------------\n"
     ]
    },
    {
     "data": {
      "text/markdown": [
       "heart Dismai'd, and thus in **haste** to th' Angel cri'd"
      ],
      "text/plain": [
       "<IPython.core.display.Markdown object>"
      ]
     },
     "metadata": {},
     "output_type": "display_data"
    },
    {
     "name": "stdout",
     "output_type": "stream",
     "text": [
      "36.0\n",
      "----------------------------------------------------------------------------------------------------\n"
     ]
    },
    {
     "data": {
      "text/markdown": [
       "Dismai'd, and thus in haste to **th** ' Angel cri'd. O"
      ],
      "text/plain": [
       "<IPython.core.display.Markdown object>"
      ]
     },
     "metadata": {},
     "output_type": "display_data"
    },
    {
     "name": "stdout",
     "output_type": "stream",
     "text": [
      "36.0\n",
      "----------------------------------------------------------------------------------------------------\n"
     ]
    },
    {
     "data": {
      "text/markdown": [
       "Sweet is the breath of morn, her rising **sweet** , With charm of earliest Birds; pleasant"
      ],
      "text/plain": [
       "<IPython.core.display.Markdown object>"
      ]
     },
     "metadata": {},
     "output_type": "display_data"
    },
    {
     "name": "stdout",
     "output_type": "stream",
     "text": [
      "35.0\n",
      "----------------------------------------------------------------------------------------------------\n"
     ]
    },
    {
     "data": {
      "text/markdown": [
       "alike. Sweet is the breath of morn, her **rising** sweet, With charm of earliest Birds"
      ],
      "text/plain": [
       "<IPython.core.display.Markdown object>"
      ]
     },
     "metadata": {},
     "output_type": "display_data"
    },
    {
     "name": "stdout",
     "output_type": "stream",
     "text": [
      "35.0\n",
      "----------------------------------------------------------------------------------------------------\n"
     ]
    },
    {
     "data": {
      "text/markdown": [
       "Ethereal temper, massy, large and **round** , Behind him cast; the broad circumference"
      ],
      "text/plain": [
       "<IPython.core.display.Markdown object>"
      ]
     },
     "metadata": {},
     "output_type": "display_data"
    },
    {
     "name": "stdout",
     "output_type": "stream",
     "text": [
      "34.0\n",
      "----------------------------------------------------------------------------------------------------\n"
     ]
    },
    {
     "data": {
      "text/markdown": [
       "rising sweet, With charm of earliest **Birds** ; pleasant the Sun When first on this delightful Land"
      ],
      "text/plain": [
       "<IPython.core.display.Markdown object>"
      ]
     },
     "metadata": {},
     "output_type": "display_data"
    },
    {
     "name": "stdout",
     "output_type": "stream",
     "text": [
      "32.0\n",
      "----------------------------------------------------------------------------------------------------\n"
     ]
    },
    {
     "data": {
      "text/markdown": [
       "temper, massy, large and round, **Behind** him cast; the broad circumference Hung"
      ],
      "text/plain": [
       "<IPython.core.display.Markdown object>"
      ]
     },
     "metadata": {},
     "output_type": "display_data"
    },
    {
     "name": "stdout",
     "output_type": "stream",
     "text": [
      "32.0\n",
      "----------------------------------------------------------------------------------------------------\n"
     ]
    },
    {
     "data": {
      "text/markdown": [
       "shield Ethereal temper, massy, **large** and round, Behind him cast; the broad"
      ],
      "text/plain": [
       "<IPython.core.display.Markdown object>"
      ]
     },
     "metadata": {},
     "output_type": "display_data"
    },
    {
     "name": "stdout",
     "output_type": "stream",
     "text": [
      "31.0\n",
      "----------------------------------------------------------------------------------------------------\n"
     ]
    },
    {
     "data": {
      "text/markdown": [
       "full loud, and rung A hideous **Peal** : yet, when they list, would creep, If aught"
      ],
      "text/plain": [
       "<IPython.core.display.Markdown object>"
      ]
     },
     "metadata": {},
     "output_type": "display_data"
    },
    {
     "name": "stdout",
     "output_type": "stream",
     "text": [
      "31.0\n",
      "----------------------------------------------------------------------------------------------------\n"
     ]
    },
    {
     "data": {
      "text/markdown": [
       "shore; his ponderous shield Ethereal **temper** , massy, large and round, Behind"
      ],
      "text/plain": [
       "<IPython.core.display.Markdown object>"
      ]
     },
     "metadata": {},
     "output_type": "display_data"
    },
    {
     "name": "stdout",
     "output_type": "stream",
     "text": [
      "30.0\n",
      "----------------------------------------------------------------------------------------------------\n"
     ]
    },
    {
     "data": {
      "text/markdown": [
       "ponderous shield Ethereal temper, **massy** , large and round, Behind him cast"
      ],
      "text/plain": [
       "<IPython.core.display.Markdown object>"
      ]
     },
     "metadata": {},
     "output_type": "display_data"
    },
    {
     "name": "stdout",
     "output_type": "stream",
     "text": [
      "30.0\n",
      "----------------------------------------------------------------------------------------------------\n"
     ]
    },
    {
     "data": {
      "text/markdown": [
       "thou accept My conduct, I can bring **thee** thither soon. Lead then, said EVE"
      ],
      "text/plain": [
       "<IPython.core.display.Markdown object>"
      ]
     },
     "metadata": {},
     "output_type": "display_data"
    },
    {
     "name": "stdout",
     "output_type": "stream",
     "text": [
      "29.0\n",
      "----------------------------------------------------------------------------------------------------\n"
     ]
    },
    {
     "data": {
      "text/markdown": [
       "large and round, Behind him cast; the **broad** circumference Hung on his shoulders like the Moon"
      ],
      "text/plain": [
       "<IPython.core.display.Markdown object>"
      ]
     },
     "metadata": {},
     "output_type": "display_data"
    },
    {
     "name": "stdout",
     "output_type": "stream",
     "text": [
      "29.0\n",
      "----------------------------------------------------------------------------------------------------\n"
     ]
    },
    {
     "data": {
      "text/markdown": [
       "bring thee thither soon. **Lead** then, said EVE. Hee leading swiftly"
      ],
      "text/plain": [
       "<IPython.core.display.Markdown object>"
      ]
     },
     "metadata": {},
     "output_type": "display_data"
    },
    {
     "name": "stdout",
     "output_type": "stream",
     "text": [
      "29.0\n",
      "----------------------------------------------------------------------------------------------------\n"
     ]
    },
    {
     "data": {
      "text/markdown": [
       "massy, large and round, Behind him **cast** ; the broad circumference Hung on his shoulders"
      ],
      "text/plain": [
       "<IPython.core.display.Markdown object>"
      ]
     },
     "metadata": {},
     "output_type": "display_data"
    },
    {
     "name": "stdout",
     "output_type": "stream",
     "text": [
      "29.0\n",
      "----------------------------------------------------------------------------------------------------\n"
     ]
    },
    {
     "data": {
      "text/markdown": [
       "change, all please alike. Sweet is the breath of **morn** , her rising sweet, With charm of earliest"
      ],
      "text/plain": [
       "<IPython.core.display.Markdown object>"
      ]
     },
     "metadata": {},
     "output_type": "display_data"
    },
    {
     "name": "stdout",
     "output_type": "stream",
     "text": [
      "29.0\n",
      "----------------------------------------------------------------------------------------------------\n"
     ]
    },
    {
     "data": {
      "text/markdown": [
       "Ears, while day declin'd, they **heard** And from his presence hid themselves among"
      ],
      "text/plain": [
       "<IPython.core.display.Markdown object>"
      ]
     },
     "metadata": {},
     "output_type": "display_data"
    },
    {
     "name": "stdout",
     "output_type": "stream",
     "text": [
      "29.0\n",
      "----------------------------------------------------------------------------------------------------\n"
     ]
    },
    {
     "data": {
      "text/markdown": [
       "conduct, I can bring thee thither **soon** . Lead then, said EVE. Hee leading"
      ],
      "text/plain": [
       "<IPython.core.display.Markdown object>"
      ]
     },
     "metadata": {},
     "output_type": "display_data"
    },
    {
     "name": "stdout",
     "output_type": "stream",
     "text": [
      "29.0\n",
      "----------------------------------------------------------------------------------------------------\n"
     ]
    },
    {
     "data": {
      "text/markdown": [
       "accept My conduct, I can bring thee **thither** soon. Lead then, said EVE. Hee"
      ],
      "text/plain": [
       "<IPython.core.display.Markdown object>"
      ]
     },
     "metadata": {},
     "output_type": "display_data"
    },
    {
     "name": "stdout",
     "output_type": "stream",
     "text": [
      "29.0\n",
      "----------------------------------------------------------------------------------------------------\n"
     ]
    },
    {
     "data": {
      "text/markdown": [
       "Balme; if thou accept My conduct, I can **bring** thee thither soon. Lead"
      ],
      "text/plain": [
       "<IPython.core.display.Markdown object>"
      ]
     },
     "metadata": {},
     "output_type": "display_data"
    },
    {
     "name": "stdout",
     "output_type": "stream",
     "text": [
      "29.0\n",
      "----------------------------------------------------------------------------------------------------\n"
     ]
    },
    {
     "data": {
      "text/markdown": [
       "round, Behind him cast; the broad **circumference** Hung on his shoulders like the Moon, whose"
      ],
      "text/plain": [
       "<IPython.core.display.Markdown object>"
      ]
     },
     "metadata": {},
     "output_type": "display_data"
    },
    {
     "name": "stdout",
     "output_type": "stream",
     "text": [
      "28.0\n",
      "----------------------------------------------------------------------------------------------------\n"
     ]
    },
    {
     "data": {
      "text/markdown": [
       "matching words and deeds long past or **late** . Som such resemblances methinks I find Of our last Eevnings"
      ],
      "text/plain": [
       "<IPython.core.display.Markdown object>"
      ]
     },
     "metadata": {},
     "output_type": "display_data"
    },
    {
     "name": "stdout",
     "output_type": "stream",
     "text": [
      "26.0\n",
      "----------------------------------------------------------------------------------------------------\n"
     ]
    },
    {
     "data": {
      "text/markdown": [
       "lost? All is not lost; the unconquerable Will, And study of **revenge** , immortal hate, And courage never to submit"
      ],
      "text/plain": [
       "<IPython.core.display.Markdown object>"
      ]
     },
     "metadata": {},
     "output_type": "display_data"
    },
    {
     "name": "stdout",
     "output_type": "stream",
     "text": [
      "26.0\n",
      "----------------------------------------------------------------------------------------------------\n"
     ]
    },
    {
     "data": {
      "text/markdown": [
       "words and deeds long past or late. **Som** such resemblances methinks I find Of our last Eevnings talk"
      ],
      "text/plain": [
       "<IPython.core.display.Markdown object>"
      ]
     },
     "metadata": {},
     "output_type": "display_data"
    },
    {
     "name": "stdout",
     "output_type": "stream",
     "text": [
      "26.0\n",
      "----------------------------------------------------------------------------------------------------\n"
     ]
    },
    {
     "data": {
      "text/markdown": [
       "deeds long past or late. Som such **resemblances** methinks I find Of our last Eevnings talk, in this thy"
      ],
      "text/plain": [
       "<IPython.core.display.Markdown object>"
      ]
     },
     "metadata": {},
     "output_type": "display_data"
    },
    {
     "name": "stdout",
     "output_type": "stream",
     "text": [
      "26.0\n",
      "----------------------------------------------------------------------------------------------------\n"
     ]
    },
    {
     "data": {
      "text/markdown": [
       "Ill matching words and deeds long **past** or late. Som such resemblances methinks"
      ],
      "text/plain": [
       "<IPython.core.display.Markdown object>"
      ]
     },
     "metadata": {},
     "output_type": "display_data"
    },
    {
     "name": "stdout",
     "output_type": "stream",
     "text": [
      "25.0\n",
      "----------------------------------------------------------------------------------------------------\n"
     ]
    },
    {
     "data": {
      "text/markdown": [
       "lost; the unconquerable Will, And study of revenge, **immortal** hate, And courage never to submit or yield"
      ],
      "text/plain": [
       "<IPython.core.display.Markdown object>"
      ]
     },
     "metadata": {},
     "output_type": "display_data"
    },
    {
     "name": "stdout",
     "output_type": "stream",
     "text": [
      "25.0\n",
      "----------------------------------------------------------------------------------------------------\n"
     ]
    },
    {
     "data": {
      "text/markdown": [
       "Moon, whose Orb Through Optic **Glass** the TUSCAN Artist views At Ev"
      ],
      "text/plain": [
       "<IPython.core.display.Markdown object>"
      ]
     },
     "metadata": {},
     "output_type": "display_data"
    },
    {
     "name": "stdout",
     "output_type": "stream",
     "text": [
      "25.0\n",
      "----------------------------------------------------------------------------------------------------\n"
     ]
    },
    {
     "data": {
      "text/markdown": [
       "Axle torn The stedfast Earth. At last his **Sail** -broad Vannes He spreads for flight"
      ],
      "text/plain": [
       "<IPython.core.display.Markdown object>"
      ]
     },
     "metadata": {},
     "output_type": "display_data"
    },
    {
     "name": "stdout",
     "output_type": "stream",
     "text": [
      "25.0\n",
      "----------------------------------------------------------------------------------------------------\n"
     ]
    },
    {
     "data": {
      "text/markdown": [
       "Brought Death into the World, and all our woe, With loss of **EDEN** , till one greater Man Restore us, and regain"
      ],
      "text/plain": [
       "<IPython.core.display.Markdown object>"
      ]
     },
     "metadata": {},
     "output_type": "display_data"
    },
    {
     "name": "stdout",
     "output_type": "stream",
     "text": [
      "25.0\n",
      "----------------------------------------------------------------------------------------------------\n"
     ]
    },
    {
     "data": {
      "text/markdown": [
       "Lamp; but thou Revisit'st not these **eyes** , that rowle in vain To find thy piercing"
      ],
      "text/plain": [
       "<IPython.core.display.Markdown object>"
      ]
     },
     "metadata": {},
     "output_type": "display_data"
    },
    {
     "name": "stdout",
     "output_type": "stream",
     "text": [
      "25.0\n",
      "----------------------------------------------------------------------------------------------------\n"
     ]
    },
    {
     "data": {
      "text/markdown": [
       "thou Revisit'st not these eyes, that **rowle** in vain To find thy piercing ray"
      ],
      "text/plain": [
       "<IPython.core.display.Markdown object>"
      ]
     },
     "metadata": {},
     "output_type": "display_data"
    },
    {
     "name": "stdout",
     "output_type": "stream",
     "text": [
      "25.0\n",
      "----------------------------------------------------------------------------------------------------\n"
     ]
    },
    {
     "data": {
      "text/markdown": [
       "unconquerable Will, And study of revenge, immortal **hate** , And courage never to submit or yield: And what is else"
      ],
      "text/plain": [
       "<IPython.core.display.Markdown object>"
      ]
     },
     "metadata": {},
     "output_type": "display_data"
    },
    {
     "name": "stdout",
     "output_type": "stream",
     "text": [
      "25.0\n",
      "----------------------------------------------------------------------------------------------------\n"
     ]
    },
    {
     "data": {
      "text/markdown": [
       "past or late. Som such resemblances **methinks** I find Of our last Eevnings talk, in this thy dream"
      ],
      "text/plain": [
       "<IPython.core.display.Markdown object>"
      ]
     },
     "metadata": {},
     "output_type": "display_data"
    },
    {
     "name": "stdout",
     "output_type": "stream",
     "text": [
      "25.0\n",
      "----------------------------------------------------------------------------------------------------\n"
     ]
    },
    {
     "data": {
      "text/markdown": [
       "vital Lamp; but thou Revisit' **st** not these eyes, that rowle in vain To find thy"
      ],
      "text/plain": [
       "<IPython.core.display.Markdown object>"
      ]
     },
     "metadata": {},
     "output_type": "display_data"
    },
    {
     "name": "stdout",
     "output_type": "stream",
     "text": [
      "25.0\n",
      "----------------------------------------------------------------------------------------------------\n"
     ]
    },
    {
     "data": {
      "text/markdown": [
       "gloom were seen Ten thousand **Banners** rise into the Air With Orient Colours"
      ],
      "text/plain": [
       "<IPython.core.display.Markdown object>"
      ]
     },
     "metadata": {},
     "output_type": "display_data"
    },
    {
     "name": "stdout",
     "output_type": "stream",
     "text": [
      "24.0\n",
      "----------------------------------------------------------------------------------------------------\n"
     ]
    },
    {
     "data": {
      "text/markdown": [
       "seen Ten thousand Banners **rise** into the Air With Orient Colours waving"
      ],
      "text/plain": [
       "<IPython.core.display.Markdown object>"
      ]
     },
     "metadata": {},
     "output_type": "display_data"
    },
    {
     "name": "stdout",
     "output_type": "stream",
     "text": [
      "24.0\n",
      "----------------------------------------------------------------------------------------------------\n"
     ]
    },
    {
     "data": {
      "text/markdown": [
       "Orb Through Optic Glass the TUSCAN **Artist** views At Ev'ning from the top"
      ],
      "text/plain": [
       "<IPython.core.display.Markdown object>"
      ]
     },
     "metadata": {},
     "output_type": "display_data"
    },
    {
     "name": "stdout",
     "output_type": "stream",
     "text": [
      "24.0\n",
      "----------------------------------------------------------------------------------------------------\n"
     ]
    },
    {
     "data": {
      "text/markdown": [
       "tast Brought Death into the World, and all our woe, With **loss** of EDEN, till one greater Man Restore"
      ],
      "text/plain": [
       "<IPython.core.display.Markdown object>"
      ]
     },
     "metadata": {},
     "output_type": "display_data"
    },
    {
     "name": "stdout",
     "output_type": "stream",
     "text": [
      "24.0\n",
      "----------------------------------------------------------------------------------------------------\n"
     ]
    },
    {
     "data": {
      "text/markdown": [
       "torn The stedfast Earth. At last his Sail- **broad** Vannes He spreads for flight, and in the surging"
      ],
      "text/plain": [
       "<IPython.core.display.Markdown object>"
      ]
     },
     "metadata": {},
     "output_type": "display_data"
    },
    {
     "name": "stdout",
     "output_type": "stream",
     "text": [
      "24.0\n",
      "----------------------------------------------------------------------------------------------------\n"
     ]
    },
    {
     "data": {
      "text/markdown": [
       "mutinie had from her Axle torn The stedfast **Earth** . At last his Sail-broad Vannes He spreads"
      ],
      "text/plain": [
       "<IPython.core.display.Markdown object>"
      ]
     },
     "metadata": {},
     "output_type": "display_data"
    },
    {
     "name": "stdout",
     "output_type": "stream",
     "text": [
      "24.0\n",
      "----------------------------------------------------------------------------------------------------\n"
     ]
    },
    {
     "data": {
      "text/markdown": [
       "shoulders like the Moon, whose Orb Through **Optic** Glass the TUSCAN Artist views"
      ],
      "text/plain": [
       "<IPython.core.display.Markdown object>"
      ]
     },
     "metadata": {},
     "output_type": "display_data"
    },
    {
     "name": "stdout",
     "output_type": "stream",
     "text": [
      "24.0\n",
      "----------------------------------------------------------------------------------------------------\n"
     ]
    },
    {
     "data": {
      "text/markdown": [
       "whose Orb Through Optic Glass the **TUSCAN** Artist views At Ev'ning"
      ],
      "text/plain": [
       "<IPython.core.display.Markdown object>"
      ]
     },
     "metadata": {},
     "output_type": "display_data"
    },
    {
     "name": "stdout",
     "output_type": "stream",
     "text": [
      "24.0\n",
      "----------------------------------------------------------------------------------------------------\n"
     ]
    },
    {
     "data": {
      "text/markdown": [
       "above the rest In shape and gesture **proudly** eminent Stood like a Towr; his form"
      ],
      "text/plain": [
       "<IPython.core.display.Markdown object>"
      ]
     },
     "metadata": {},
     "output_type": "display_data"
    },
    {
     "name": "stdout",
     "output_type": "stream",
     "text": [
      "23.0\n",
      "----------------------------------------------------------------------------------------------------\n"
     ]
    },
    {
     "data": {
      "text/markdown": [
       "stedfast Earth. At last his Sail-broad **Vannes** He spreads for flight, and in the surging smoak"
      ],
      "text/plain": [
       "<IPython.core.display.Markdown object>"
      ]
     },
     "metadata": {},
     "output_type": "display_data"
    },
    {
     "name": "stdout",
     "output_type": "stream",
     "text": [
      "23.0\n",
      "----------------------------------------------------------------------------------------------------\n"
     ]
    },
    {
     "data": {
      "text/markdown": [
       "Revisit'st not these eyes, that rowle in **vain** To find thy piercing ray, and find no dawn"
      ],
      "text/plain": [
       "<IPython.core.display.Markdown object>"
      ]
     },
     "metadata": {},
     "output_type": "display_data"
    },
    {
     "name": "stdout",
     "output_type": "stream",
     "text": [
      "23.0\n",
      "----------------------------------------------------------------------------------------------------\n"
     ]
    },
    {
     "data": {
      "text/markdown": [
       "thir Ears, while day declin' **d** , they heard And from his presence hid themselves"
      ],
      "text/plain": [
       "<IPython.core.display.Markdown object>"
      ]
     },
     "metadata": {},
     "output_type": "display_data"
    },
    {
     "name": "stdout",
     "output_type": "stream",
     "text": [
      "23.0\n",
      "----------------------------------------------------------------------------------------------------\n"
     ]
    },
    {
     "data": {
      "text/markdown": [
       "Natures whole wealth, yea more, A **Heaven** on Earth, for blissful Paradise Of God"
      ],
      "text/plain": [
       "<IPython.core.display.Markdown object>"
      ]
     },
     "metadata": {},
     "output_type": "display_data"
    },
    {
     "name": "stdout",
     "output_type": "stream",
     "text": [
      "23.0\n",
      "----------------------------------------------------------------------------------------------------\n"
     ]
    },
    {
     "data": {
      "text/markdown": [
       "JAPHET brought by HERMES, she ensnar' **d** Mankind with her faire looks, to be aveng"
      ],
      "text/plain": [
       "<IPython.core.display.Markdown object>"
      ]
     },
     "metadata": {},
     "output_type": "display_data"
    },
    {
     "name": "stdout",
     "output_type": "stream",
     "text": [
      "23.0\n",
      "----------------------------------------------------------------------------------------------------\n"
     ]
    },
    {
     "data": {
      "text/markdown": [
       "mouths full loud, and rung A **hideous** Peal: yet, when they list, would creep"
      ],
      "text/plain": [
       "<IPython.core.display.Markdown object>"
      ]
     },
     "metadata": {},
     "output_type": "display_data"
    },
    {
     "name": "stdout",
     "output_type": "stream",
     "text": [
      "23.0\n",
      "----------------------------------------------------------------------------------------------------\n"
     ]
    },
    {
     "data": {
      "text/markdown": [
       "mortal tast Brought Death into the World, and all our **woe** , With loss of EDEN, till one greater"
      ],
      "text/plain": [
       "<IPython.core.display.Markdown object>"
      ]
     },
     "metadata": {},
     "output_type": "display_data"
    },
    {
     "name": "stdout",
     "output_type": "stream",
     "text": [
      "23.0\n",
      "----------------------------------------------------------------------------------------------------\n"
     ]
    },
    {
     "data": {
      "text/markdown": [
       "whole wealth, yea more, A Heaven on **Earth** , for blissful Paradise Of God the Garden"
      ],
      "text/plain": [
       "<IPython.core.display.Markdown object>"
      ]
     },
     "metadata": {},
     "output_type": "display_data"
    },
    {
     "name": "stdout",
     "output_type": "stream",
     "text": [
      "23.0\n",
      "----------------------------------------------------------------------------------------------------\n"
     ]
    },
    {
     "data": {
      "text/markdown": [
       "Commander: he above the rest In shape and **gesture** proudly eminent Stood like a Towr"
      ],
      "text/plain": [
       "<IPython.core.display.Markdown object>"
      ]
     },
     "metadata": {},
     "output_type": "display_data"
    },
    {
     "name": "stdout",
     "output_type": "stream",
     "text": [
      "23.0\n",
      "----------------------------------------------------------------------------------------------------\n"
     ]
    },
    {
     "data": {
      "text/markdown": [
       "sweet, With charm of earliest Birds; **pleasant** the Sun When first on this delightful Land he spreads"
      ],
      "text/plain": [
       "<IPython.core.display.Markdown object>"
      ]
     },
     "metadata": {},
     "output_type": "display_data"
    },
    {
     "name": "stdout",
     "output_type": "stream",
     "text": [
      "23.0\n",
      "----------------------------------------------------------------------------------------------------\n"
     ]
    },
    {
     "data": {
      "text/markdown": [
       "room Natures whole wealth, **yea** more, A Heaven on Earth, for blissful Paradise"
      ],
      "text/plain": [
       "<IPython.core.display.Markdown object>"
      ]
     },
     "metadata": {},
     "output_type": "display_data"
    },
    {
     "name": "stdout",
     "output_type": "stream",
     "text": [
      "22.0\n",
      "----------------------------------------------------------------------------------------------------\n"
     ]
    },
    {
     "data": {
      "text/markdown": [
       "innocence, relie On what thou hast of **vertue** , summon all, For God towards thee"
      ],
      "text/plain": [
       "<IPython.core.display.Markdown object>"
      ]
     },
     "metadata": {},
     "output_type": "display_data"
    },
    {
     "name": "stdout",
     "output_type": "stream",
     "text": [
      "22.0\n",
      "----------------------------------------------------------------------------------------------------\n"
     ]
    },
    {
     "data": {
      "text/markdown": [
       "native innocence, relie On what thou **hast** of vertue, summon all, For God towards"
      ],
      "text/plain": [
       "<IPython.core.display.Markdown object>"
      ]
     },
     "metadata": {},
     "output_type": "display_data"
    },
    {
     "name": "stdout",
     "output_type": "stream",
     "text": [
      "22.0\n",
      "----------------------------------------------------------------------------------------------------\n"
     ]
    },
    {
     "data": {
      "text/markdown": [
       "thy native innocence, relie On what **thou** hast of vertue, summon all, For God"
      ],
      "text/plain": [
       "<IPython.core.display.Markdown object>"
      ]
     },
     "metadata": {},
     "output_type": "display_data"
    },
    {
     "name": "stdout",
     "output_type": "stream",
     "text": [
      "22.0\n",
      "----------------------------------------------------------------------------------------------------\n"
     ]
    },
    {
     "data": {
      "text/markdown": [
       "Son Of JAPHET brought by HERMES, she **ensnar** 'd Mankind with her faire looks"
      ],
      "text/plain": [
       "<IPython.core.display.Markdown object>"
      ]
     },
     "metadata": {},
     "output_type": "display_data"
    },
    {
     "name": "stdout",
     "output_type": "stream",
     "text": [
      "22.0\n",
      "----------------------------------------------------------------------------------------------------\n"
     ]
    },
    {
     "data": {
      "text/markdown": [
       "though the field be lost? All is not lost; the **unconquerable** Will, And study of revenge, immortal hate"
      ],
      "text/plain": [
       "<IPython.core.display.Markdown object>"
      ]
     },
     "metadata": {},
     "output_type": "display_data"
    },
    {
     "name": "stdout",
     "output_type": "stream",
     "text": [
      "22.0\n",
      "----------------------------------------------------------------------------------------------------\n"
     ]
    },
    {
     "data": {
      "text/markdown": [
       "dread Commander: he above the rest In **shape** and gesture proudly eminent Stood"
      ],
      "text/plain": [
       "<IPython.core.display.Markdown object>"
      ]
     },
     "metadata": {},
     "output_type": "display_data"
    },
    {
     "name": "stdout",
     "output_type": "stream",
     "text": [
      "22.0\n",
      "----------------------------------------------------------------------------------------------------\n"
     ]
    },
    {
     "data": {
      "text/markdown": [
       "field be lost? All is not lost; the unconquerable Will, And **study** of revenge, immortal hate, And courage"
      ],
      "text/plain": [
       "<IPython.core.display.Markdown object>"
      ]
     },
     "metadata": {},
     "output_type": "display_data"
    },
    {
     "name": "stdout",
     "output_type": "stream",
     "text": [
      "22.0\n",
      "----------------------------------------------------------------------------------------------------\n"
     ]
    },
    {
     "data": {
      "text/markdown": [
       "wealth, yea more, A Heaven on Earth, for **blissful** Paradise Of God the Garden was, by him in the East"
      ],
      "text/plain": [
       "<IPython.core.display.Markdown object>"
      ]
     },
     "metadata": {},
     "output_type": "display_data"
    },
    {
     "name": "stdout",
     "output_type": "stream",
     "text": [
      "22.0\n",
      "----------------------------------------------------------------------------------------------------\n"
     ]
    },
    {
     "data": {
      "text/markdown": [
       "yea more, A Heaven on Earth, for blissful **Paradise** Of God the Garden was, by him in the East Of EDEN"
      ],
      "text/plain": [
       "<IPython.core.display.Markdown object>"
      ]
     },
     "metadata": {},
     "output_type": "display_data"
    },
    {
     "name": "stdout",
     "output_type": "stream",
     "text": [
      "22.0\n",
      "----------------------------------------------------------------------------------------------------\n"
     ]
    },
    {
     "data": {
      "text/markdown": [
       "throne. What though the field be lost? All is not **lost** ; the unconquerable Will, And study of revenge, immortal"
      ],
      "text/plain": [
       "<IPython.core.display.Markdown object>"
      ]
     },
     "metadata": {},
     "output_type": "display_data"
    },
    {
     "name": "stdout",
     "output_type": "stream",
     "text": [
      "22.0\n",
      "----------------------------------------------------------------------------------------------------\n"
     ]
    },
    {
     "data": {
      "text/markdown": [
       "brought by HERMES, she ensnar'd **Mankind** with her faire looks, to be aveng'd"
      ],
      "text/plain": [
       "<IPython.core.display.Markdown object>"
      ]
     },
     "metadata": {},
     "output_type": "display_data"
    },
    {
     "name": "stdout",
     "output_type": "stream",
     "text": [
      "22.0\n",
      "----------------------------------------------------------------------------------------------------\n"
     ]
    },
    {
     "data": {
      "text/markdown": [
       "sovran vital Lamp; but thou **Revisit** 'st not these eyes, that rowle in vain"
      ],
      "text/plain": [
       "<IPython.core.display.Markdown object>"
      ]
     },
     "metadata": {},
     "output_type": "display_data"
    },
    {
     "name": "stdout",
     "output_type": "stream",
     "text": [
      "22.0\n",
      "----------------------------------------------------------------------------------------------------\n"
     ]
    },
    {
     "data": {
      "text/markdown": [
       "Glass the TUSCAN Artist views At **Ev** 'ning from the top of FESOLE, Or in VALDARNO"
      ],
      "text/plain": [
       "<IPython.core.display.Markdown object>"
      ]
     },
     "metadata": {},
     "output_type": "display_data"
    },
    {
     "name": "stdout",
     "output_type": "stream",
     "text": [
      "22.0\n",
      "----------------------------------------------------------------------------------------------------\n"
     ]
    },
    {
     "data": {
      "text/markdown": [
       "relie On what thou hast of vertue, **summon** all, For God towards thee hath"
      ],
      "text/plain": [
       "<IPython.core.display.Markdown object>"
      ]
     },
     "metadata": {},
     "output_type": "display_data"
    },
    {
     "name": "stdout",
     "output_type": "stream",
     "text": [
      "22.0\n",
      "----------------------------------------------------------------------------------------------------\n"
     ]
    },
    {
     "data": {
      "text/markdown": [
       "top of FESOLE, Or in VALDARNO, to descry new **Lands** , Rivers or Mountains in her spotty Globe"
      ],
      "text/plain": [
       "<IPython.core.display.Markdown object>"
      ]
     },
     "metadata": {},
     "output_type": "display_data"
    },
    {
     "name": "stdout",
     "output_type": "stream",
     "text": [
      "22.0\n",
      "----------------------------------------------------------------------------------------------------\n"
     ]
    },
    {
     "data": {
      "text/markdown": [
       "Thir dread Commander: he above the **rest** In shape and gesture proudly eminent"
      ],
      "text/plain": [
       "<IPython.core.display.Markdown object>"
      ]
     },
     "metadata": {},
     "output_type": "display_data"
    },
    {
     "name": "stdout",
     "output_type": "stream",
     "text": [
      "22.0\n",
      "----------------------------------------------------------------------------------------------------\n"
     ]
    },
    {
     "data": {
      "text/markdown": [
       "rest In shape and gesture proudly **eminent** Stood like a Towr; his form had yet"
      ],
      "text/plain": [
       "<IPython.core.display.Markdown object>"
      ]
     },
     "metadata": {},
     "output_type": "display_data"
    },
    {
     "name": "stdout",
     "output_type": "stream",
     "text": [
      "22.0\n",
      "----------------------------------------------------------------------------------------------------\n"
     ]
    },
    {
     "data": {
      "text/markdown": [
       "thou hast of vertue, summon all, For **God** towards thee hath done his part, do thine"
      ],
      "text/plain": [
       "<IPython.core.display.Markdown object>"
      ]
     },
     "metadata": {},
     "output_type": "display_data"
    },
    {
     "name": "stdout",
     "output_type": "stream",
     "text": [
      "22.0\n",
      "----------------------------------------------------------------------------------------------------\n"
     ]
    },
    {
     "data": {
      "text/markdown": [
       "Optic Glass the TUSCAN Artist **views** At Ev'ning from the top of FESOLE"
      ],
      "text/plain": [
       "<IPython.core.display.Markdown object>"
      ]
     },
     "metadata": {},
     "output_type": "display_data"
    },
    {
     "name": "stdout",
     "output_type": "stream",
     "text": [
      "22.0\n"
     ]
    }
   ],
   "source": [
    "from IPython.display import Markdown, display\n",
    "\n",
    "bin_idxs = np.argsort(n)[::-1]\n",
    "\n",
    "for idx in bin_idxs[:100]:\n",
    "    print('-'*100)\n",
    "    prefix, match, suffix = pl.snippet(idx, 1, 4)\n",
    "    display(Markdown('{} **{}** {}'.format(prefix, match, suffix)))\n",
    "    print(n[idx])"
   ]
  },
  {
   "cell_type": "code",
   "execution_count": null,
   "metadata": {
    "collapsed": true
   },
   "outputs": [],
   "source": []
  }
 ],
 "metadata": {
  "kernelspec": {
   "display_name": "Python 3",
   "language": "python",
   "name": "python3"
  },
  "language_info": {
   "codemirror_mode": {
    "name": "ipython",
    "version": 3
   },
   "file_extension": ".py",
   "mimetype": "text/x-python",
   "name": "python",
   "nbconvert_exporter": "python",
   "pygments_lexer": "ipython3",
   "version": "3.5.2"
  }
 },
 "nbformat": 4,
 "nbformat_minor": 2
}
