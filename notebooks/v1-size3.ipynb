{
 "cells": [
  {
   "cell_type": "code",
   "execution_count": 27,
   "metadata": {
    "collapsed": false
   },
   "outputs": [],
   "source": [
    "import re\n",
    "\n",
    "from IPython.display import Markdown, display\n",
    "\n",
    "def print_snippet(prefix, match, suffix):\n",
    "    \n",
    "    snippet = '{0} **{1}**'.format(prefix, match)\n",
    "    \n",
    "    if re.match('^[a-z]', suffix, re.I):\n",
    "        snippet += ' '\n",
    "        \n",
    "    display(Markdown(snippet + suffix))"
   ]
  },
  {
   "cell_type": "code",
   "execution_count": 54,
   "metadata": {
    "collapsed": true
   },
   "outputs": [],
   "source": [
    "def print_match(m):\n",
    "    \n",
    "    display(Markdown('### King James Bible'))\n",
    "    print_snippet(m.a_prefix, m.a_snippet, m.a_suffix)\n",
    "\n",
    "    display(Markdown('### {0}'.format(m.b_title)))\n",
    "    display(Markdown('<small>{0}</small>'.format(m.b_author)))\n",
    "    print_snippet(m.b_prefix, m.b_snippet, m.b_suffix)\n",
    "    print('-'*50)"
   ]
  },
  {
   "cell_type": "code",
   "execution_count": 55,
   "metadata": {
    "collapsed": false,
    "scrolled": false
   },
   "outputs": [
    {
     "data": {
      "text/markdown": [
       "### King James Bible"
      ],
      "text/plain": [
       "<IPython.core.display.Markdown object>"
      ]
     },
     "metadata": {},
     "output_type": "display_data"
    },
    {
     "data": {
      "text/markdown": [
       "against the LORD, and against thee; pray unto the LORD, that he take away the serpents from us. And Moses prayed for the people. 21:8 And the **LORD said unto Moses, Make thee a fiery** serpent, and set it upon a pole: and it shall come to pass, that every one that is bitten, when he looketh upon it, shall"
      ],
      "text/plain": [
       "<IPython.core.display.Markdown object>"
      ]
     },
     "metadata": {},
     "output_type": "display_data"
    },
    {
     "data": {
      "text/markdown": [
       "### The Ellwoods: By Charles Stuart Welles"
      ],
      "text/plain": [
       "<IPython.core.display.Markdown object>"
      ]
     },
     "metadata": {},
     "output_type": "display_data"
    },
    {
     "data": {
      "text/markdown": [
       "<small>Welles, Charles Stuart</small>"
      ],
      "text/plain": [
       "<IPython.core.display.Markdown object>"
      ]
     },
     "metadata": {},
     "output_type": "display_data"
    },
    {
     "data": {
      "text/markdown": [
       "everlasting life. St. John, ili. 14, 15. 42 \"This reference to Moses may be found in Numbers, xxi. 8, 9 as follows: And the **Lord said unto Moses, make thee a fiery** ser¬ pent and set it upon a pole; and it shall come to pass, that every one that is bitten, when he looketh upon"
      ],
      "text/plain": [
       "<IPython.core.display.Markdown object>"
      ]
     },
     "metadata": {},
     "output_type": "display_data"
    },
    {
     "name": "stdout",
     "output_type": "stream",
     "text": [
      "--------------------------------------------------\n"
     ]
    },
    {
     "data": {
      "text/markdown": [
       "### King James Bible"
      ],
      "text/plain": [
       "<IPython.core.display.Markdown object>"
      ]
     },
     "metadata": {},
     "output_type": "display_data"
    },
    {
     "data": {
      "text/markdown": [
       "LORD, that he take away the serpents from us. And Moses prayed for the people. 21:8 And the LORD said unto Moses, Make thee a fiery serpent, and **set it upon a pole: and it shall come to pass, that every one that is bitten, when he looketh upon** it, shall live. 21:9 And Moses made a serpent of brass, and put it upon a pole, and it came to pass"
      ],
      "text/plain": [
       "<IPython.core.display.Markdown object>"
      ]
     },
     "metadata": {},
     "output_type": "display_data"
    },
    {
     "data": {
      "text/markdown": [
       "### The Ellwoods: By Charles Stuart Welles"
      ],
      "text/plain": [
       "<IPython.core.display.Markdown object>"
      ]
     },
     "metadata": {},
     "output_type": "display_data"
    },
    {
     "data": {
      "text/markdown": [
       "<small>Welles, Charles Stuart</small>"
      ],
      "text/plain": [
       "<IPython.core.display.Markdown object>"
      ]
     },
     "metadata": {},
     "output_type": "display_data"
    },
    {
     "data": {
      "text/markdown": [
       "Numbers, xxi. 8, 9 as follows: And the Lord said unto Moses, make thee a fiery ser¬ pent and **set it upon a pole; and it shall come to pass, that every one that is bitten, when he looketh upon** it, 6hall live. And Moses made a serpent of brass, and put it upon a pole, and it came to pass"
      ],
      "text/plain": [
       "<IPython.core.display.Markdown object>"
      ]
     },
     "metadata": {},
     "output_type": "display_data"
    },
    {
     "name": "stdout",
     "output_type": "stream",
     "text": [
      "--------------------------------------------------\n"
     ]
    },
    {
     "data": {
      "text/markdown": [
       "### King James Bible"
      ],
      "text/plain": [
       "<IPython.core.display.Markdown object>"
      ]
     },
     "metadata": {},
     "output_type": "display_data"
    },
    {
     "data": {
      "text/markdown": [
       "serpent, and set it upon a pole: and it shall come to pass, that every one that is bitten, when he looketh upon it, shall **live. 21:9 And Moses made a serpent of brass, and put it upon a pole, and it came to pass, that if a serpent had bitten any man, when he beheld the serpent of brass, he lived**. 21:10 And the children of Israel set forward, and pitched in Oboth. 21:11 And they journeyed from Oboth, and pitched at Ijeabarim"
      ],
      "text/plain": [
       "<IPython.core.display.Markdown object>"
      ]
     },
     "metadata": {},
     "output_type": "display_data"
    },
    {
     "data": {
      "text/markdown": [
       "### The Ellwoods: By Charles Stuart Welles"
      ],
      "text/plain": [
       "<IPython.core.display.Markdown object>"
      ]
     },
     "metadata": {},
     "output_type": "display_data"
    },
    {
     "data": {
      "text/markdown": [
       "<small>Welles, Charles Stuart</small>"
      ],
      "text/plain": [
       "<IPython.core.display.Markdown object>"
      ]
     },
     "metadata": {},
     "output_type": "display_data"
    },
    {
     "data": {
      "text/markdown": [
       "pent and set it upon a pole; and it shall come to pass, that every one that is bitten, when he looketh upon it, 6hall **live. And Moses made a serpent of brass, and put it upon a pole, and it came to pass, that if a serpent had bitten any man, when he beheld the serpent of brass, he lived**. \"Certainly this does not signify the deification of Jesus,—being lifted up as a serpent; but how does it typify the attitude of Jesus before the world? Not in honour"
      ],
      "text/plain": [
       "<IPython.core.display.Markdown object>"
      ]
     },
     "metadata": {},
     "output_type": "display_data"
    },
    {
     "name": "stdout",
     "output_type": "stream",
     "text": [
      "--------------------------------------------------\n"
     ]
    },
    {
     "data": {
      "text/markdown": [
       "### King James Bible"
      ],
      "text/plain": [
       "<IPython.core.display.Markdown object>"
      ]
     },
     "metadata": {},
     "output_type": "display_data"
    },
    {
     "data": {
      "text/markdown": [
       "shalt find a piece of money: that take, and give unto them for me and thee. 18:1 At the same time came the disciples unto Jesus, saying, Who is the **greatest in the kingdom of heaven? 18:2 And Jesus called a little child unto him, and set him in the midst of them, 18:3 And said, Verily I say unto you, Except ye** be converted, and become as little children, ye shall not enter into the kingdom of heaven. 18:4 Whosoever therefore"
      ],
      "text/plain": [
       "<IPython.core.display.Markdown object>"
      ]
     },
     "metadata": {},
     "output_type": "display_data"
    },
    {
     "data": {
      "text/markdown": [
       "### The Ellwoods: By Charles Stuart Welles"
      ],
      "text/plain": [
       "<IPython.core.display.Markdown object>"
      ]
     },
     "metadata": {},
     "output_type": "display_data"
    },
    {
     "data": {
      "text/markdown": [
       "<small>Welles, Charles Stuart</small>"
      ],
      "text/plain": [
       "<IPython.core.display.Markdown object>"
      ]
     },
     "metadata": {},
     "output_type": "display_data"
    },
    {
     "data": {
      "text/markdown": [
       "divine Jesus to his disciples, in Matthew, xviii. 1-7 : At the same time came the disciples unto Jesus, say¬ ing, Who is the **greatest in the kingdom of heaven ? And Jesus called a little child unto him, and set him in the midst of them. And said, Verily I say unto you, Except ye** be con¬ verted, and become as little children, ye shall not enter into the kingdom of heaven. Whosoever"
      ],
      "text/plain": [
       "<IPython.core.display.Markdown object>"
      ]
     },
     "metadata": {},
     "output_type": "display_data"
    },
    {
     "name": "stdout",
     "output_type": "stream",
     "text": [
      "--------------------------------------------------\n"
     ]
    },
    {
     "data": {
      "text/markdown": [
       "### King James Bible"
      ],
      "text/plain": [
       "<IPython.core.display.Markdown object>"
      ]
     },
     "metadata": {},
     "output_type": "display_data"
    },
    {
     "data": {
      "text/markdown": [
       "called a little child unto him, and set him in the midst of them, 18:3 And said, Verily I say unto you, Except ye be converted, and **become as little children, ye shall not enter into the kingdom of heaven. 18:4 Whosoever therefore shall humble himself** as this little child, the same is greatest in the kingdom of heaven. 18:5 And whoso shall receive one such little child in my name receiveth"
      ],
      "text/plain": [
       "<IPython.core.display.Markdown object>"
      ]
     },
     "metadata": {},
     "output_type": "display_data"
    },
    {
     "data": {
      "text/markdown": [
       "### The Ellwoods: By Charles Stuart Welles"
      ],
      "text/plain": [
       "<IPython.core.display.Markdown object>"
      ]
     },
     "metadata": {},
     "output_type": "display_data"
    },
    {
     "data": {
      "text/markdown": [
       "<small>Welles, Charles Stuart</small>"
      ],
      "text/plain": [
       "<IPython.core.display.Markdown object>"
      ]
     },
     "metadata": {},
     "output_type": "display_data"
    },
    {
     "data": {
      "text/markdown": [
       "child unto him, and set him in the midst of them. And said, Verily I say unto you, Except ye be con¬ verted, and **become as little children, ye shall not enter into the kingdom of heaven. Whosoever therefore shall humble himself** as this lit¬ tle child, the same is greatest in the kingdom of heaven. And whoso shall receive one such little child"
      ],
      "text/plain": [
       "<IPython.core.display.Markdown object>"
      ]
     },
     "metadata": {},
     "output_type": "display_data"
    },
    {
     "name": "stdout",
     "output_type": "stream",
     "text": [
      "--------------------------------------------------\n"
     ]
    },
    {
     "data": {
      "text/markdown": [
       "### King James Bible"
      ],
      "text/plain": [
       "<IPython.core.display.Markdown object>"
      ]
     },
     "metadata": {},
     "output_type": "display_data"
    },
    {
     "data": {
      "text/markdown": [
       "ye shall not enter into the kingdom of heaven. 18:4 Whosoever therefore shall humble himself as this little **child, the same is greatest in the kingdom of heaven. 18:5 And whoso shall receive one such little child in my name receiveth me. 18:6 But whoso shall offend one of these little ones which believe in me, it were better for him that a millstone were hanged about his neck, and that he were drowned in the depth of the sea. 18:7 Woe unto the world because of offences! for it must needs be that offences come; but woe to that man by whom the offence cometh**! 18:8 Wherefore if thy hand or thy foot offend thee, cut them off, and cast them from thee"
      ],
      "text/plain": [
       "<IPython.core.display.Markdown object>"
      ]
     },
     "metadata": {},
     "output_type": "display_data"
    },
    {
     "data": {
      "text/markdown": [
       "### The Ellwoods: By Charles Stuart Welles"
      ],
      "text/plain": [
       "<IPython.core.display.Markdown object>"
      ]
     },
     "metadata": {},
     "output_type": "display_data"
    },
    {
     "data": {
      "text/markdown": [
       "<small>Welles, Charles Stuart</small>"
      ],
      "text/plain": [
       "<IPython.core.display.Markdown object>"
      ]
     },
     "metadata": {},
     "output_type": "display_data"
    },
    {
     "data": {
      "text/markdown": [
       "enter into the kingdom of heaven. Whosoever therefore shall humble himself as this lit¬ tle **child, the same is greatest in the kingdom of heaven. And whoso shall receive one such little child in my name receiveth me. But whoso shall offend one of these little ones which believe in me, it were better for him that a millstone 64 were hanged about his neck, and that he were drowned in the depth of the sea. Woe unto the world because of offences! for it must needs be that offences come; but woe to that man by whom the offence cometh**!” 55 TWO TYPES, Yin. TIHANY new conditions now presented themselves, ^ changing the literary life and the philanthropic aspirations"
      ],
      "text/plain": [
       "<IPython.core.display.Markdown object>"
      ]
     },
     "metadata": {},
     "output_type": "display_data"
    },
    {
     "name": "stdout",
     "output_type": "stream",
     "text": [
      "--------------------------------------------------\n"
     ]
    },
    {
     "data": {
      "text/markdown": [
       "### King James Bible"
      ],
      "text/plain": [
       "<IPython.core.display.Markdown object>"
      ]
     },
     "metadata": {},
     "output_type": "display_data"
    },
    {
     "data": {
      "text/markdown": [
       "shall render him the fruits in their seasons. 21:42 Jesus saith unto them, Did ye never read in the scriptures, The **stone which the builders rejected, the same is become the head of the corner**: this is the Lord's doing, and it is marvellous in our eyes? 21:43 Therefore say I unto you, The kingdom of God shall be taken"
      ],
      "text/plain": [
       "<IPython.core.display.Markdown object>"
      ]
     },
     "metadata": {},
     "output_type": "display_data"
    },
    {
     "data": {
      "text/markdown": [
       "### The Ellwoods: By Charles Stuart Welles"
      ],
      "text/plain": [
       "<IPython.core.display.Markdown object>"
      ]
     },
     "metadata": {},
     "output_type": "display_data"
    },
    {
     "data": {
      "text/markdown": [
       "<small>Welles, Charles Stuart</small>"
      ],
      "text/plain": [
       "<IPython.core.display.Markdown object>"
      ]
     },
     "metadata": {},
     "output_type": "display_data"
    },
    {
     "data": {
      "text/markdown": [
       "children ľ Thus we have a corner-stone in the com¬ mon law to build upon. The only question is if the ‘time’ is now come when the **stone which the builders rejected has become the head of the corner**.” 62 REPUBLICAN IDEALS, ix. T HE last meeting of Dr. Ellwood with his circle of friends was somewhat"
      ],
      "text/plain": [
       "<IPython.core.display.Markdown object>"
      ]
     },
     "metadata": {},
     "output_type": "display_data"
    },
    {
     "name": "stdout",
     "output_type": "stream",
     "text": [
      "--------------------------------------------------\n"
     ]
    },
    {
     "data": {
      "text/markdown": [
       "### King James Bible"
      ],
      "text/plain": [
       "<IPython.core.display.Markdown object>"
      ]
     },
     "metadata": {},
     "output_type": "display_data"
    },
    {
     "data": {
      "text/markdown": [
       "angels with a great sound of a trumpet, and they shall gather together his elect from the four winds, from one end of heaven to the other. 24:32 Now **learn a parable of the fig tree; When his branch is yet tender, and putteth forth leaves, ye know that summer is nigh: 24:33 So likewise ye, when ye shall see all these things, know that it is near, even at the doors**. 24:34 Verily I say unto you, This generation shall not pass, till all these things be fulfilled. 24:35 Heaven and earth shall"
      ],
      "text/plain": [
       "<IPython.core.display.Markdown object>"
      ]
     },
     "metadata": {},
     "output_type": "display_data"
    },
    {
     "data": {
      "text/markdown": [
       "### The Ellwoods: By Charles Stuart Welles"
      ],
      "text/plain": [
       "<IPython.core.display.Markdown object>"
      ]
     },
     "metadata": {},
     "output_type": "display_data"
    },
    {
     "data": {
      "text/markdown": [
       "<small>Welles, Charles Stuart</small>"
      ],
      "text/plain": [
       "<IPython.core.display.Markdown object>"
      ]
     },
     "metadata": {},
     "output_type": "display_data"
    },
    {
     "data": {
      "text/markdown": [
       "imag¬ ine; for has not nation risen against nation? and has not the Jew been afflicted and hated of all nations?” Now **learn a parable of the fig tree ; when his branch is yet tender, and putteth forth leaves, ye know that summer is nigh. So likewise ye, when ye shall see all these things, know that it is near, even at the doors**. Watch therefore, for ye know not what hour your Lord doth come. Matt. xxiv. 32, 33. “The adoption of a universal"
      ],
      "text/plain": [
       "<IPython.core.display.Markdown object>"
      ]
     },
     "metadata": {},
     "output_type": "display_data"
    },
    {
     "name": "stdout",
     "output_type": "stream",
     "text": [
      "--------------------------------------------------\n"
     ]
    },
    {
     "data": {
      "text/markdown": [
       "### King James Bible"
      ],
      "text/plain": [
       "<IPython.core.display.Markdown object>"
      ]
     },
     "metadata": {},
     "output_type": "display_data"
    },
    {
     "data": {
      "text/markdown": [
       "shall be taken, and the other left. 24:41 Two women shall be grinding at the mill; the one shall be taken, and the other left. 24:42 **Watch therefore: for ye know not what hour your Lord doth** come. 24:43 But know this, that if the goodman of the house had known in what watch the thief would come, he would have watched, and would not have suffered his house to be broken up. 24:44 Therefore be ye also ready"
      ],
      "text/plain": [
       "<IPython.core.display.Markdown object>"
      ]
     },
     "metadata": {},
     "output_type": "display_data"
    },
    {
     "data": {
      "text/markdown": [
       "### The Ellwoods: By Charles Stuart Welles"
      ],
      "text/plain": [
       "<IPython.core.display.Markdown object>"
      ]
     },
     "metadata": {},
     "output_type": "display_data"
    },
    {
     "data": {
      "text/markdown": [
       "<small>Welles, Charles Stuart</small>"
      ],
      "text/plain": [
       "<IPython.core.display.Markdown object>"
      ]
     },
     "metadata": {},
     "output_type": "display_data"
    },
    {
     "data": {
      "text/markdown": [
       "leaves, ye know that summer is nigh. So likewise ye, when ye shall see all these things, know that it is near, even at the doors. **Watch therefore, for ye know not what hour your Lord doth** come. Matt. xxiv. 32, 33. “The adoption of a universal code of laws would be the climax of spiritual history and a material"
      ],
      "text/plain": [
       "<IPython.core.display.Markdown object>"
      ]
     },
     "metadata": {},
     "output_type": "display_data"
    },
    {
     "name": "stdout",
     "output_type": "stream",
     "text": [
      "--------------------------------------------------\n"
     ]
    },
    {
     "data": {
      "text/markdown": [
       "### King James Bible"
      ],
      "text/plain": [
       "<IPython.core.display.Markdown object>"
      ]
     },
     "metadata": {},
     "output_type": "display_data"
    },
    {
     "data": {
      "text/markdown": [
       "prophet? And he answered, No. 1:22 Then said they unto him, Who art thou? that we may give an answer to them that sent us. What sayest thou of thyself? 1:23 He said, I am the **voice of one crying in the wilderness, Make straight the way of the Lord**, as said the prophet Esaias. 1:24 And they which were sent were of the Pharisees. 1:25 And they asked him, and said unto him, Why baptizest thou then, if thou be not that Christ"
      ],
      "text/plain": [
       "<IPython.core.display.Markdown object>"
      ]
     },
     "metadata": {},
     "output_type": "display_data"
    },
    {
     "data": {
      "text/markdown": [
       "### The Ellwoods: By Charles Stuart Welles"
      ],
      "text/plain": [
       "<IPython.core.display.Markdown object>"
      ]
     },
     "metadata": {},
     "output_type": "display_data"
    },
    {
     "data": {
      "text/markdown": [
       "<small>Welles, Charles Stuart</small>"
      ],
      "text/plain": [
       "<IPython.core.display.Markdown object>"
      ]
     },
     "metadata": {},
     "output_type": "display_data"
    },
    {
     "data": {
      "text/markdown": [
       "truth that urges us to action. This is why I must speak plainly. America has been the John the Baptist of nations. It was as ‘the **voice of one crying in the wilderness, make straight the way of the Lord**.’ But the fair land is a babel of tongues, a motley of laws, and a jester in the court of nations. The cities"
      ],
      "text/plain": [
       "<IPython.core.display.Markdown object>"
      ]
     },
     "metadata": {},
     "output_type": "display_data"
    },
    {
     "name": "stdout",
     "output_type": "stream",
     "text": [
      "--------------------------------------------------\n"
     ]
    },
    {
     "data": {
      "text/markdown": [
       "### King James Bible"
      ],
      "text/plain": [
       "<IPython.core.display.Markdown object>"
      ]
     },
     "metadata": {},
     "output_type": "display_data"
    },
    {
     "data": {
      "text/markdown": [
       "earth were passed away; and there was no more sea. 21:2 And I John saw the holy city, new Jerusalem, coming down from God out of **heaven, prepared as a bride adorned for her husband**. 21:3 And I heard a great voice out of heaven saying, Behold, the tabernacle of God is with men, and he will dwell with them, and they shall"
      ],
      "text/plain": [
       "<IPython.core.display.Markdown object>"
      ]
     },
     "metadata": {},
     "output_type": "display_data"
    },
    {
     "data": {
      "text/markdown": [
       "### The Ellwoods: By Charles Stuart Welles"
      ],
      "text/plain": [
       "<IPython.core.display.Markdown object>"
      ]
     },
     "metadata": {},
     "output_type": "display_data"
    },
    {
     "data": {
      "text/markdown": [
       "<small>Welles, Charles Stuart</small>"
      ],
      "text/plain": [
       "<IPython.core.display.Markdown object>"
      ]
     },
     "metadata": {},
     "output_type": "display_data"
    },
    {
     "data": {
      "text/markdown": [
       "slavery. The beautiful spirit which animates the modem mother is the hope of the 200 world—the bride which shall come down ont of **heaven, prepared as a bride adorned for her husband**ľ 7 “But you say that, notwithstanding all these things, you see no hope for America ?” “The result of,the feeble scope, dear Esther, of our limited vision"
      ],
      "text/plain": [
       "<IPython.core.display.Markdown object>"
      ]
     },
     "metadata": {},
     "output_type": "display_data"
    },
    {
     "name": "stdout",
     "output_type": "stream",
     "text": [
      "--------------------------------------------------\n"
     ]
    },
    {
     "data": {
      "text/markdown": [
       "### King James Bible"
      ],
      "text/plain": [
       "<IPython.core.display.Markdown object>"
      ]
     },
     "metadata": {},
     "output_type": "display_data"
    },
    {
     "data": {
      "text/markdown": [
       "therefore I said it, He destroyeth the perfect and the wicked. 9:23 If the scourge slay suddenly, he will laugh at the trial of the innocent. 9:24 The **earth is given into the hand of the wicked: he covereth the faces of the judges thereof**; if not, where, and who is he? 9:25 Now my days are swifter than a post: they flee away, they see no good. 9:26 They are passed away as the swift ships: as the eagle that hasteth to the prey"
      ],
      "text/plain": [
       "<IPython.core.display.Markdown object>"
      ]
     },
     "metadata": {},
     "output_type": "display_data"
    },
    {
     "data": {
      "text/markdown": [
       "### In Sunflower Land: Stories of God's Own Country: By Roswell Martin"
      ],
      "text/plain": [
       "<IPython.core.display.Markdown object>"
      ]
     },
     "metadata": {},
     "output_type": "display_data"
    },
    {
     "data": {
      "text/markdown": [
       "<small>Field, Roswell Martin</small>"
      ],
      "text/plain": [
       "<IPython.core.display.Markdown object>"
      ]
     },
     "metadata": {},
     "output_type": "display_data"
    },
    {
     "data": {
      "text/markdown": [
       "felt hard times press on us, an’ I've never com¬ pia' ied. But now I cry out with Job: ‘ The **earth is given into the hand of the wicked: he covereth the faces of the judges thereof**. Oh, that I had given up the ghost and no eye had seen me.’” And on the day of Cleveland’s inauguration the old crank dressed up in his blue"
      ],
      "text/plain": [
       "<IPython.core.display.Markdown object>"
      ]
     },
     "metadata": {},
     "output_type": "display_data"
    },
    {
     "name": "stdout",
     "output_type": "stream",
     "text": [
      "--------------------------------------------------\n"
     ]
    },
    {
     "data": {
      "text/markdown": [
       "### King James Bible"
      ],
      "text/plain": [
       "<IPython.core.display.Markdown object>"
      ]
     },
     "metadata": {},
     "output_type": "display_data"
    },
    {
     "data": {
      "text/markdown": [
       "prayers of David the son of Jesse are ended. 73:1 Truly God is good to Israel, even to such as are of a clean heart. 73:2 But as for me, my **feet were almost gone; my steps had well nigh slipped**. 73:3 For I was envious at the foolish, when I saw the prosperity of the wicked. 73:4 For there are no bands in their death: but their strength is firm. 73:5 They are not in trouble"
      ],
      "text/plain": [
       "<IPython.core.display.Markdown object>"
      ]
     },
     "metadata": {},
     "output_type": "display_data"
    },
    {
     "data": {
      "text/markdown": [
       "### In Sunflower Land: Stories of God's Own Country: By Roswell Martin"
      ],
      "text/plain": [
       "<IPython.core.display.Markdown object>"
      ]
     },
     "metadata": {},
     "output_type": "display_data"
    },
    {
     "data": {
      "text/markdown": [
       "<small>Field, Roswell Martin</small>"
      ],
      "text/plain": [
       "<IPython.core.display.Markdown object>"
      ]
     },
     "metadata": {},
     "output_type": "display_data"
    },
    {
     "data": {
      "text/markdown": [
       "t quite make it out. If Plumb was here he could straighten me in ten minutes, and Barney Kelly could put me back in the fold, but ‘my **feet were almost gone and my steps had well nigh slipped**.’ ” Time passed. Tubbs kept his own counsel and prayed, with all the fervor of his strong nature, to be delivered from the snares"
      ],
      "text/plain": [
       "<IPython.core.display.Markdown object>"
      ]
     },
     "metadata": {},
     "output_type": "display_data"
    },
    {
     "name": "stdout",
     "output_type": "stream",
     "text": [
      "--------------------------------------------------\n"
     ]
    },
    {
     "data": {
      "text/markdown": [
       "### King James Bible"
      ],
      "text/plain": [
       "<IPython.core.display.Markdown object>"
      ]
     },
     "metadata": {},
     "output_type": "display_data"
    },
    {
     "data": {
      "text/markdown": [
       "thy vanity: for that is thy portion in this life, and in thy labour which thou takest under the sun. 9:10 **Whatsoever thy hand findeth to do, do it with thy** might; for there is no work, nor device, nor knowledge, nor wisdom, in the grave, whither thou goest"
      ],
      "text/plain": [
       "<IPython.core.display.Markdown object>"
      ]
     },
     "metadata": {},
     "output_type": "display_data"
    },
    {
     "data": {
      "text/markdown": [
       "### In Sunflower Land: Stories of God's Own Country: By Roswell Martin"
      ],
      "text/plain": [
       "<IPython.core.display.Markdown object>"
      ]
     },
     "metadata": {},
     "output_type": "display_data"
    },
    {
     "data": {
      "text/markdown": [
       "<small>Field, Roswell Martin</small>"
      ],
      "text/plain": [
       "<IPython.core.display.Markdown object>"
      ]
     },
     "metadata": {},
     "output_type": "display_data"
    },
    {
     "data": {
      "text/markdown": [
       "Parson Duncan went on the theory that he must do his Master’s bidding at any time or place, according as it is written : “ **Whatsoever thy hand findeth to do, do it with thy** might.” In this cheerful and godly resolution he was favored by circumstances. Eastmann stood in the corner of the room with a dozen"
      ],
      "text/plain": [
       "<IPython.core.display.Markdown object>"
      ]
     },
     "metadata": {},
     "output_type": "display_data"
    },
    {
     "name": "stdout",
     "output_type": "stream",
     "text": [
      "--------------------------------------------------\n"
     ]
    },
    {
     "data": {
      "text/markdown": [
       "### King James Bible"
      ],
      "text/plain": [
       "<IPython.core.display.Markdown object>"
      ]
     },
     "metadata": {},
     "output_type": "display_data"
    },
    {
     "data": {
      "text/markdown": [
       "gold, who filled their houses with silver: 3:16 Or as an hidden untimely birth I had not been; as infants which never saw light. 3:17 There the **wicked cease from troubling; and there the weary be at rest**. 3:18 There the prisoners rest together; they hear not the voice of the oppressor. 3:19 The small and great are there; and the servant is free from his master"
      ],
      "text/plain": [
       "<IPython.core.display.Markdown object>"
      ]
     },
     "metadata": {},
     "output_type": "display_data"
    },
    {
     "data": {
      "text/markdown": [
       "### Juliette Irving and the Jesuit: A Novel: By T. Robinson Warren"
      ],
      "text/plain": [
       "<IPython.core.display.Markdown object>"
      ]
     },
     "metadata": {},
     "output_type": "display_data"
    },
    {
     "data": {
      "text/markdown": [
       "<small>Warren, T. Robinson (Thomas Robinson)</small>"
      ],
      "text/plain": [
       "<IPython.core.display.Markdown object>"
      ]
     },
     "metadata": {},
     "output_type": "display_data"
    },
    {
     "data": {
      "text/markdown": [
       "Holy Faith, and I now pray that God may sustain you and shower his choicest blessings upon you, and that we may meet again “where the **wicked cease from troubling and the weary are at rest**.” I am yours very truly, Reginald Harwarden. Father Harwarden’s remains were buried in the cemetery"
      ],
      "text/plain": [
       "<IPython.core.display.Markdown object>"
      ]
     },
     "metadata": {},
     "output_type": "display_data"
    },
    {
     "name": "stdout",
     "output_type": "stream",
     "text": [
      "--------------------------------------------------\n"
     ]
    },
    {
     "data": {
      "text/markdown": [
       "### King James Bible"
      ],
      "text/plain": [
       "<IPython.core.display.Markdown object>"
      ]
     },
     "metadata": {},
     "output_type": "display_data"
    },
    {
     "data": {
      "text/markdown": [
       "sight of my lord. 33:9 And Esau said, I have enough, my brother; keep that thou hast unto thyself. 33:10 And Jacob said, **Nay, I pray thee, if now I have found grace in thy sight, then receive my present at my hand: for therefore I have seen thy face, as though I had seen the face of God, and thou wast pleased with me. 33:11 Take, I pray thee, my blessing that is brought to thee; because God hath dealt graciously** with me, and because I have enough. And he urged him, and he took it. 33:12 And he said, Let us take our journey, and let us go, and I will go before thee. 33:13 And he said unto him, My lord knoweth that the children are tender"
      ],
      "text/plain": [
       "<IPython.core.display.Markdown object>"
      ]
     },
     "metadata": {},
     "output_type": "display_data"
    },
    {
     "data": {
      "text/markdown": [
       "### The Church Republic: A Romance of Methodism: By Brother Jonathan, D. D."
      ],
      "text/plain": [
       "<IPython.core.display.Markdown object>"
      ]
     },
     "metadata": {},
     "output_type": "display_data"
    },
    {
     "data": {
      "text/markdown": [
       "<small>Pierce, Zerelda F.</small>"
      ],
      "text/plain": [
       "<IPython.core.display.Markdown object>"
      ]
     },
     "metadata": {},
     "output_type": "display_data"
    },
    {
     "data": {
      "text/markdown": [
       "marked the bishop, aptly quoting Esau’s very words. “And I will answer as Jacob answered: ‘Na **y, I pray thee, if now I have found grace in thy sight, then receive my present at my hand: for therefore, I have seen thy face, as though I had seen the face of God, and thou wast pleased with me. Take, I pray, thee, my blessing that is brought to thee ; because God hath dealt graciously w** ith me, and because I have all things.’ That is North-like: we have all things.” “ But your brother’s independent spirit and pride of character may prompt the courteous refusal o"
      ],
      "text/plain": [
       "<IPython.core.display.Markdown object>"
      ]
     },
     "metadata": {},
     "output_type": "display_data"
    },
    {
     "name": "stdout",
     "output_type": "stream",
     "text": [
      "--------------------------------------------------\n"
     ]
    },
    {
     "data": {
      "text/markdown": [
       "### King James Bible"
      ],
      "text/plain": [
       "<IPython.core.display.Markdown object>"
      ]
     },
     "metadata": {},
     "output_type": "display_data"
    },
    {
     "data": {
      "text/markdown": [
       "unto them beauty for ashes, the oil of joy for mourning, the garment of praise for the spirit of heaviness; that they might be **called trees of righteousness, the planting of the LORD, that he might be glorified**. 61:4 And they shall build the old wastes, they shall raise up the former desolations, and they shall repair the waste"
      ],
      "text/plain": [
       "<IPython.core.display.Markdown object>"
      ]
     },
     "metadata": {},
     "output_type": "display_data"
    },
    {
     "data": {
      "text/markdown": [
       "### The Church Republic: A Romance of Methodism: By Brother Jonathan, D. D."
      ],
      "text/plain": [
       "<IPython.core.display.Markdown object>"
      ]
     },
     "metadata": {},
     "output_type": "display_data"
    },
    {
     "data": {
      "text/markdown": [
       "<small>Pierce, Zerelda F.</small>"
      ],
      "text/plain": [
       "<IPython.core.display.Markdown object>"
      ]
     },
     "metadata": {},
     "output_type": "display_data"
    },
    {
     "data": {
      "text/markdown": [
       "aiah,” remarked Beaumont: “the acceptable year of the Lord is proclaimed.” “Yea,” said the bridegroom, “even to comfort all that mourn.” “ That they might be ca **lled the trees of righteousness, the planting of the Lord, that He might be glorified,”** said father Edwards. “ And they shall build' the old wastes, they shall raise the former desolations; and they shall r"
      ],
      "text/plain": [
       "<IPython.core.display.Markdown object>"
      ]
     },
     "metadata": {},
     "output_type": "display_data"
    },
    {
     "name": "stdout",
     "output_type": "stream",
     "text": [
      "--------------------------------------------------\n"
     ]
    },
    {
     "data": {
      "text/markdown": [
       "### King James Bible"
      ],
      "text/plain": [
       "<IPython.core.display.Markdown object>"
      ]
     },
     "metadata": {},
     "output_type": "display_data"
    },
    {
     "data": {
      "text/markdown": [
       "garment of praise for the spirit of heaviness; that they might be called trees of righteousness, the planting of the LORD, that he might be glorified. 61:4 And they **shall build the old wastes, they shall raise up the former desolations, and they shall repair the waste cities, the desolations of many generations**. 61:5 And strangers shall stand and feed your flocks, and the sons of the alien shall be your plowmen and your vinedressers"
      ],
      "text/plain": [
       "<IPython.core.display.Markdown object>"
      ]
     },
     "metadata": {},
     "output_type": "display_data"
    },
    {
     "data": {
      "text/markdown": [
       "### The Church Republic: A Romance of Methodism: By Brother Jonathan, D. D."
      ],
      "text/plain": [
       "<IPython.core.display.Markdown object>"
      ]
     },
     "metadata": {},
     "output_type": "display_data"
    },
    {
     "data": {
      "text/markdown": [
       "<small>Pierce, Zerelda F.</small>"
      ],
      "text/plain": [
       "<IPython.core.display.Markdown object>"
      ]
     },
     "metadata": {},
     "output_type": "display_data"
    },
    {
     "data": {
      "text/markdown": [
       "mfort all that mourn.” “ That they might be called the trees of righteousness, the planting of the Lord, that He might be glorified,” said father Edwards. “ And they sh **all build' the old wastes, they shall raise the former desolations; and they shall repair the waste cities, the desolations of many generations,”** responded bishop Holman. “And strangers shall stand and feed your flocks, and the sons of the alien s"
      ],
      "text/plain": [
       "<IPython.core.display.Markdown object>"
      ]
     },
     "metadata": {},
     "output_type": "display_data"
    },
    {
     "name": "stdout",
     "output_type": "stream",
     "text": [
      "--------------------------------------------------\n"
     ]
    },
    {
     "data": {
      "text/markdown": [
       "### King James Bible"
      ],
      "text/plain": [
       "<IPython.core.display.Markdown object>"
      ]
     },
     "metadata": {},
     "output_type": "display_data"
    },
    {
     "data": {
      "text/markdown": [
       "shall raise up the former desolations, and they shall repair the waste cities, the desolations of many generations. 61:5 And **strangers shall stand and feed your flocks, and the sons of the alien shall be your plowmen** and your vinedressers. 61:6 But ye shall be named the Priests of the LORD: men shall call you the Ministers"
      ],
      "text/plain": [
       "<IPython.core.display.Markdown object>"
      ]
     },
     "metadata": {},
     "output_type": "display_data"
    },
    {
     "data": {
      "text/markdown": [
       "### The Church Republic: A Romance of Methodism: By Brother Jonathan, D. D."
      ],
      "text/plain": [
       "<IPython.core.display.Markdown object>"
      ]
     },
     "metadata": {},
     "output_type": "display_data"
    },
    {
     "data": {
      "text/markdown": [
       "<small>Pierce, Zerelda F.</small>"
      ],
      "text/plain": [
       "<IPython.core.display.Markdown object>"
      ]
     },
     "metadata": {},
     "output_type": "display_data"
    },
    {
     "data": {
      "text/markdown": [
       "solations; and they shall repair the waste cities, the desolations of many generations,” responded bishop Holman. “And st **rangers shall stand and feed your flocks, and the sons of the alien shall be your plowmen a** nd your vine¬ dressers,” returned bishop Nephets. “ But ye shall be named the Priests of the Lord :"
      ],
      "text/plain": [
       "<IPython.core.display.Markdown object>"
      ]
     },
     "metadata": {},
     "output_type": "display_data"
    },
    {
     "name": "stdout",
     "output_type": "stream",
     "text": [
      "--------------------------------------------------\n"
     ]
    },
    {
     "data": {
      "text/markdown": [
       "### King James Bible"
      ],
      "text/plain": [
       "<IPython.core.display.Markdown object>"
      ]
     },
     "metadata": {},
     "output_type": "display_data"
    },
    {
     "data": {
      "text/markdown": [
       "strangers shall stand and feed your flocks, and the sons of the alien shall be your plowmen and your vinedressers. 61:6 But **ye shall be named the Priests of the LORD: men shall call you the Ministers of our God: ye shall eat** the riches of the Gentiles, and in their glory shall ye boast yourselves. 61:7 For your shame ye shall"
      ],
      "text/plain": [
       "<IPython.core.display.Markdown object>"
      ]
     },
     "metadata": {},
     "output_type": "display_data"
    },
    {
     "data": {
      "text/markdown": [
       "### The Church Republic: A Romance of Methodism: By Brother Jonathan, D. D."
      ],
      "text/plain": [
       "<IPython.core.display.Markdown object>"
      ]
     },
     "metadata": {},
     "output_type": "display_data"
    },
    {
     "data": {
      "text/markdown": [
       "<small>Pierce, Zerelda F.</small>"
      ],
      "text/plain": [
       "<IPython.core.display.Markdown object>"
      ]
     },
     "metadata": {},
     "output_type": "display_data"
    },
    {
     "data": {
      "text/markdown": [
       "ocks, and the sons of the alien shall be your plowmen and your vine¬ dressers,” returned bishop Nephets. “ But ye **shall be named the Priests of the Lord : men shall call you Ministers of our God: ye shall eat t** he wealth of the nations and to their glory shall ye succeed,” quoted Beaumont. “ For your reproach ye s"
      ],
      "text/plain": [
       "<IPython.core.display.Markdown object>"
      ]
     },
     "metadata": {},
     "output_type": "display_data"
    },
    {
     "name": "stdout",
     "output_type": "stream",
     "text": [
      "--------------------------------------------------\n"
     ]
    },
    {
     "data": {
      "text/markdown": [
       "### King James Bible"
      ],
      "text/plain": [
       "<IPython.core.display.Markdown object>"
      ]
     },
     "metadata": {},
     "output_type": "display_data"
    },
    {
     "data": {
      "text/markdown": [
       "glory shall ye boast yourselves. 61:7 For your shame ye shall have double; and for confusion they **shall rejoice in their portion: therefore in their land they shall possess the double: everlasting joy shall** be unto them. 61:8 For I the LORD love judgment, I hate robbery for burnt offering; and I will direct their work in truth, and I will make an everlasting"
      ],
      "text/plain": [
       "<IPython.core.display.Markdown object>"
      ]
     },
     "metadata": {},
     "output_type": "display_data"
    },
    {
     "data": {
      "text/markdown": [
       "### The Church Republic: A Romance of Methodism: By Brother Jonathan, D. D."
      ],
      "text/plain": [
       "<IPython.core.display.Markdown object>"
      ]
     },
     "metadata": {},
     "output_type": "display_data"
    },
    {
     "data": {
      "text/markdown": [
       "<small>Pierce, Zerelda F.</small>"
      ],
      "text/plain": [
       "<IPython.core.display.Markdown object>"
      ]
     },
     "metadata": {},
     "output_type": "display_data"
    },
    {
     "data": {
      "text/markdown": [
       "succeed,” quoted Beaumont. “ For your reproach ye shall have double ; and for con¬ fusion they sh **all rejoice in their portion : therefore in their land they shall possess double: everlasting joy shall b** e onto them,” respqnded Father Edwards. “ For I the Lord love judgment, I hate robbery for a burnt offering ;"
      ],
      "text/plain": [
       "<IPython.core.display.Markdown object>"
      ]
     },
     "metadata": {},
     "output_type": "display_data"
    },
    {
     "name": "stdout",
     "output_type": "stream",
     "text": [
      "--------------------------------------------------\n"
     ]
    },
    {
     "data": {
      "text/markdown": [
       "### King James Bible"
      ],
      "text/plain": [
       "<IPython.core.display.Markdown object>"
      ]
     },
     "metadata": {},
     "output_type": "display_data"
    },
    {
     "data": {
      "text/markdown": [
       "portion: therefore in their land they shall possess the double: everlasting joy shall be unto them. 61:8 For I the **LORD love judgment, I hate robbery for burnt offering**; and I will direct their work in truth, and I will make an everlasting covenant with them. 61:9 And their seed shall be known among the Gentiles, and their offspring"
      ],
      "text/plain": [
       "<IPython.core.display.Markdown object>"
      ]
     },
     "metadata": {},
     "output_type": "display_data"
    },
    {
     "data": {
      "text/markdown": [
       "### The Church Republic: A Romance of Methodism: By Brother Jonathan, D. D."
      ],
      "text/plain": [
       "<IPython.core.display.Markdown object>"
      ]
     },
     "metadata": {},
     "output_type": "display_data"
    },
    {
     "data": {
      "text/markdown": [
       "<small>Pierce, Zerelda F.</small>"
      ],
      "text/plain": [
       "<IPython.core.display.Markdown object>"
      ]
     },
     "metadata": {},
     "output_type": "display_data"
    },
    {
     "data": {
      "text/markdown": [
       "all possess double: everlasting joy shall be onto them,” respqnded Father Edwards. “ For I the Lo **rd love judgment, I hate robbery for a burnt offering ;** and I shall give them their recompense in truth, and I will make an everlasting covenant with them. And their seed shall be known among the nations,"
      ],
      "text/plain": [
       "<IPython.core.display.Markdown object>"
      ]
     },
     "metadata": {},
     "output_type": "display_data"
    },
    {
     "name": "stdout",
     "output_type": "stream",
     "text": [
      "--------------------------------------------------\n"
     ]
    },
    {
     "data": {
      "text/markdown": [
       "### King James Bible"
      ],
      "text/plain": [
       "<IPython.core.display.Markdown object>"
      ]
     },
     "metadata": {},
     "output_type": "display_data"
    },
    {
     "data": {
      "text/markdown": [
       "joy shall be unto them. 61:8 For I the LORD love judgment, I hate robbery for burnt offering; and I will direct their work in **truth, and I will make an everlasting covenant with them. 61:9 And their seed shall be known among** the Gentiles, and their offspring among the people: all that see them shall acknowledge them, that they are the seed which the LORD hath blessed. 61:10 I will greatly"
      ],
      "text/plain": [
       "<IPython.core.display.Markdown object>"
      ]
     },
     "metadata": {},
     "output_type": "display_data"
    },
    {
     "data": {
      "text/markdown": [
       "### The Church Republic: A Romance of Methodism: By Brother Jonathan, D. D."
      ],
      "text/plain": [
       "<IPython.core.display.Markdown object>"
      ]
     },
     "metadata": {},
     "output_type": "display_data"
    },
    {
     "data": {
      "text/markdown": [
       "<small>Pierce, Zerelda F.</small>"
      ],
      "text/plain": [
       "<IPython.core.display.Markdown object>"
      ]
     },
     "metadata": {},
     "output_type": "display_data"
    },
    {
     "data": {
      "text/markdown": [
       "ther Edwards. “ For I the Lord love judgment, I hate robbery for a burnt offering ; and I shall give them their recompense in tr **uth, and I will make an everlasting covenant with them. And their seed shall be known among t** he nations, and their offspring among the peoples : all that see them shall acknowledge them that they are the seed which the Lord hath blessed,”"
      ],
      "text/plain": [
       "<IPython.core.display.Markdown object>"
      ]
     },
     "metadata": {},
     "output_type": "display_data"
    },
    {
     "name": "stdout",
     "output_type": "stream",
     "text": [
      "--------------------------------------------------\n"
     ]
    },
    {
     "data": {
      "text/markdown": [
       "### King James Bible"
      ],
      "text/plain": [
       "<IPython.core.display.Markdown object>"
      ]
     },
     "metadata": {},
     "output_type": "display_data"
    },
    {
     "data": {
      "text/markdown": [
       "truth, and I will make an everlasting covenant with them. 61:9 And their seed shall be known among the Gentiles, and their offspring among the people: all that see them **shall acknowledge them, that they are the seed which the LORD hath blessed**. 61:10 I will greatly rejoice in the LORD, my soul shall be joyful in my God; for he hath clothed me with the garments"
      ],
      "text/plain": [
       "<IPython.core.display.Markdown object>"
      ]
     },
     "metadata": {},
     "output_type": "display_data"
    },
    {
     "data": {
      "text/markdown": [
       "### The Church Republic: A Romance of Methodism: By Brother Jonathan, D. D."
      ],
      "text/plain": [
       "<IPython.core.display.Markdown object>"
      ]
     },
     "metadata": {},
     "output_type": "display_data"
    },
    {
     "data": {
      "text/markdown": [
       "<small>Pierce, Zerelda F.</small>"
      ],
      "text/plain": [
       "<IPython.core.display.Markdown object>"
      ]
     },
     "metadata": {},
     "output_type": "display_data"
    },
    {
     "data": {
      "text/markdown": [
       "erlasting covenant with them. And their seed shall be known among the nations, and their offspring among the peoples : all that see them sh **all acknowledge them that they are the seed which the Lord hath blessed,”** was. the exultant voice of the bride. “I will greatly rejoice in the Lord,” said the bride¬ groom ; ‘‘my soul shall b"
      ],
      "text/plain": [
       "<IPython.core.display.Markdown object>"
      ]
     },
     "metadata": {},
     "output_type": "display_data"
    },
    {
     "name": "stdout",
     "output_type": "stream",
     "text": [
      "--------------------------------------------------\n"
     ]
    },
    {
     "data": {
      "text/markdown": [
       "### King James Bible"
      ],
      "text/plain": [
       "<IPython.core.display.Markdown object>"
      ]
     },
     "metadata": {},
     "output_type": "display_data"
    },
    {
     "data": {
      "text/markdown": [
       "among the people: all that see them shall acknowledge them, that they are the seed which the LORD hath blessed. 61:10 I will greatly rejoice in the LORD, my **soul shall be joyful in my God; for he hath clothed me with the garments of salvation, he hath covered me with the robe of righteousness, as a bridegroom** decketh himself with ornaments, and as a bride adorneth herself with her jewels. 61:11 For as the earth bringeth forth"
      ],
      "text/plain": [
       "<IPython.core.display.Markdown object>"
      ]
     },
     "metadata": {},
     "output_type": "display_data"
    },
    {
     "data": {
      "text/markdown": [
       "### The Church Republic: A Romance of Methodism: By Brother Jonathan, D. D."
      ],
      "text/plain": [
       "<IPython.core.display.Markdown object>"
      ]
     },
     "metadata": {},
     "output_type": "display_data"
    },
    {
     "data": {
      "text/markdown": [
       "<small>Pierce, Zerelda F.</small>"
      ],
      "text/plain": [
       "<IPython.core.display.Markdown object>"
      ]
     },
     "metadata": {},
     "output_type": "display_data"
    },
    {
     "data": {
      "text/markdown": [
       "th blessed,” was. the exultant voice of the bride. “I will greatly rejoice in the Lord,” said the bride¬ groom ; ‘‘my so **ul shall be joyful in my God ; for He hath clothed me with the garments of salvation, He hath covered me with 'the robe of righteousness, as a bridegroom d** eck- eth himself with a garland ; so voiceth the bridegroom of the North.” “And as a bride adorneth herself w"
      ],
      "text/plain": [
       "<IPython.core.display.Markdown object>"
      ]
     },
     "metadata": {},
     "output_type": "display_data"
    },
    {
     "name": "stdout",
     "output_type": "stream",
     "text": [
      "--------------------------------------------------\n"
     ]
    },
    {
     "data": {
      "text/markdown": [
       "### King James Bible"
      ],
      "text/plain": [
       "<IPython.core.display.Markdown object>"
      ]
     },
     "metadata": {},
     "output_type": "display_data"
    },
    {
     "data": {
      "text/markdown": [
       "forth as brightness, and the salvation thereof as a lamp that burneth. 62:2 And the Gentiles shall see thy righteousness, and all **kings thy glory: and thou shalt be called by a new name, which the mouth of the LORD shall name**. 62:3 Thou shalt also be a crown of glory in the hand of the LORD, and a royal diadem in the hand of thy"
      ],
      "text/plain": [
       "<IPython.core.display.Markdown object>"
      ]
     },
     "metadata": {},
     "output_type": "display_data"
    },
    {
     "data": {
      "text/markdown": [
       "### The Church Republic: A Romance of Methodism: By Brother Jonathan, D. D."
      ],
      "text/plain": [
       "<IPython.core.display.Markdown object>"
      ]
     },
     "metadata": {},
     "output_type": "display_data"
    },
    {
     "data": {
      "text/markdown": [
       "<small>Pierce, Zerelda F.</small>"
      ],
      "text/plain": [
       "<IPython.core.display.Markdown object>"
      ]
     },
     "metadata": {},
     "output_type": "display_data"
    },
    {
     "data": {
      "text/markdown": [
       "ide of the South,” answered Sue Nephets. “And the nations shall see thy righteousness, О North, and all ki **ngs thy glory ; and thou shalt be called by a new name, which the mouth of the Lord shall name,”** re¬ sponded mother Sue Edwards. “Thou shalt, also be a crown of beauty in the hand o"
      ],
      "text/plain": [
       "<IPython.core.display.Markdown object>"
      ]
     },
     "metadata": {},
     "output_type": "display_data"
    },
    {
     "name": "stdout",
     "output_type": "stream",
     "text": [
      "--------------------------------------------------\n"
     ]
    },
    {
     "data": {
      "text/markdown": [
       "### King James Bible"
      ],
      "text/plain": [
       "<IPython.core.display.Markdown object>"
      ]
     },
     "metadata": {},
     "output_type": "display_data"
    },
    {
     "data": {
      "text/markdown": [
       "called by a new name, which the mouth of the LORD shall name. 62:3 Thou shalt also be a crown of glory in the **hand of the LORD, and a royal diadem in the hand of thy God**. 62:4 Thou shalt no more be termed Forsaken; neither shall thy land any more be termed Desolate"
      ],
      "text/plain": [
       "<IPython.core.display.Markdown object>"
      ]
     },
     "metadata": {},
     "output_type": "display_data"
    },
    {
     "data": {
      "text/markdown": [
       "### The Church Republic: A Romance of Methodism: By Brother Jonathan, D. D."
      ],
      "text/plain": [
       "<IPython.core.display.Markdown object>"
      ]
     },
     "metadata": {},
     "output_type": "display_data"
    },
    {
     "data": {
      "text/markdown": [
       "<small>Pierce, Zerelda F.</small>"
      ],
      "text/plain": [
       "<IPython.core.display.Markdown object>"
      ]
     },
     "metadata": {},
     "output_type": "display_data"
    },
    {
     "data": {
      "text/markdown": [
       "me,” re¬ sponded mother Sue Edwards. “Thou shalt, also be a crown of beauty in the ha **nd of the Lord, and a royal diadem in the hand of thy God,”** returned Beaumont. “And thou, О South, shalt no more be termed Forsaken ; neither shall thy l"
      ],
      "text/plain": [
       "<IPython.core.display.Markdown object>"
      ]
     },
     "metadata": {},
     "output_type": "display_data"
    },
    {
     "name": "stdout",
     "output_type": "stream",
     "text": [
      "--------------------------------------------------\n"
     ]
    },
    {
     "data": {
      "text/markdown": [
       "### King James Bible"
      ],
      "text/plain": [
       "<IPython.core.display.Markdown object>"
      ]
     },
     "metadata": {},
     "output_type": "display_data"
    },
    {
     "data": {
      "text/markdown": [
       "crown of glory in the hand of the LORD, and a royal diadem in the hand of thy God. 62:4 Thou **shalt no more be termed Forsaken; neither shall thy land any more be termed Desolate**: but thou shalt be called Hephzibah, and thy land Beulah: for the LORD delighteth in thee"
      ],
      "text/plain": [
       "<IPython.core.display.Markdown object>"
      ]
     },
     "metadata": {},
     "output_type": "display_data"
    },
    {
     "data": {
      "text/markdown": [
       "### The Church Republic: A Romance of Methodism: By Brother Jonathan, D. D."
      ],
      "text/plain": [
       "<IPython.core.display.Markdown object>"
      ]
     },
     "metadata": {},
     "output_type": "display_data"
    },
    {
     "data": {
      "text/markdown": [
       "<small>Pierce, Zerelda F.</small>"
      ],
      "text/plain": [
       "<IPython.core.display.Markdown object>"
      ]
     },
     "metadata": {},
     "output_type": "display_data"
    },
    {
     "data": {
      "text/markdown": [
       "rd, and a royal diadem in the hand of thy God,” returned Beaumont. “And thou, О South, sh **alt no more be termed Forsaken ; neither shall thy land any more be termed Desolate,** but it shall be called Beulah,” voiced Sue Nephets. “ For as a young man marrieth a virgin, so shall o"
      ],
      "text/plain": [
       "<IPython.core.display.Markdown object>"
      ]
     },
     "metadata": {},
     "output_type": "display_data"
    },
    {
     "name": "stdout",
     "output_type": "stream",
     "text": [
      "--------------------------------------------------\n"
     ]
    },
    {
     "data": {
      "text/markdown": [
       "### King James Bible"
      ],
      "text/plain": [
       "<IPython.core.display.Markdown object>"
      ]
     },
     "metadata": {},
     "output_type": "display_data"
    },
    {
     "data": {
      "text/markdown": [
       "marrieth a virgin, so shall thy sons marry thee: and as the bridegroom rejoiceth over the bride, so **shall thy God rejoice over thee**. 62:6 I have set watchmen upon thy walls, O Jerusalem, which shall never hold their peace"
      ],
      "text/plain": [
       "<IPython.core.display.Markdown object>"
      ]
     },
     "metadata": {},
     "output_type": "display_data"
    },
    {
     "data": {
      "text/markdown": [
       "### The Church Republic: A Romance of Methodism: By Brother Jonathan, D. D."
      ],
      "text/plain": [
       "<IPython.core.display.Markdown object>"
      ]
     },
     "metadata": {},
     "output_type": "display_data"
    },
    {
     "data": {
      "text/markdown": [
       "<small>Pierce, Zerelda F.</small>"
      ],
      "text/plain": [
       "<IPython.core.display.Markdown object>"
      ]
     },
     "metadata": {},
     "output_type": "display_data"
    },
    {
     "data": {
      "text/markdown": [
       "ee, thou virgin South,” said bishop Nephets. “And as the bridegroom rejoiceth over the bride, so, О North, sh **all thy God rejoice over thee,”** was the response of bishop Holman. “ My soul doth magnify the Lord, and my spirit rejoiceth in God,"
      ],
      "text/plain": [
       "<IPython.core.display.Markdown object>"
      ]
     },
     "metadata": {},
     "output_type": "display_data"
    },
    {
     "name": "stdout",
     "output_type": "stream",
     "text": [
      "--------------------------------------------------\n"
     ]
    },
    {
     "data": {
      "text/markdown": [
       "### King James Bible"
      ],
      "text/plain": [
       "<IPython.core.display.Markdown object>"
      ]
     },
     "metadata": {},
     "output_type": "display_data"
    },
    {
     "data": {
      "text/markdown": [
       "leaped in my womb for joy. 1:45 And blessed is she that believed: for there shall be a performance of those things which were told her from the Lord. 1:46 And Mary said, My **soul doth magnify the Lord, 1:47 And my spirit** hath rejoiced in God my Saviour. 1:48 For he hath regarded the low estate of his handmaiden: for, behold"
      ],
      "text/plain": [
       "<IPython.core.display.Markdown object>"
      ]
     },
     "metadata": {},
     "output_type": "display_data"
    },
    {
     "data": {
      "text/markdown": [
       "### The Church Republic: A Romance of Methodism: By Brother Jonathan, D. D."
      ],
      "text/plain": [
       "<IPython.core.display.Markdown object>"
      ]
     },
     "metadata": {},
     "output_type": "display_data"
    },
    {
     "data": {
      "text/markdown": [
       "<small>Pierce, Zerelda F.</small>"
      ],
      "text/plain": [
       "<IPython.core.display.Markdown object>"
      ]
     },
     "metadata": {},
     "output_type": "display_data"
    },
    {
     "data": {
      "text/markdown": [
       "ide, so, О North, shall thy God rejoice over thee,” was the response of bishop Holman. “ My so **ul doth magnify the Lord, and my spirit r** ejoiceth in God, my Savior,” exclaimed the bride. “And mine with thine, my bonnié bride of the South,”"
      ],
      "text/plain": [
       "<IPython.core.display.Markdown object>"
      ]
     },
     "metadata": {},
     "output_type": "display_data"
    },
    {
     "name": "stdout",
     "output_type": "stream",
     "text": [
      "--------------------------------------------------\n"
     ]
    },
    {
     "data": {
      "text/markdown": [
       "### King James Bible"
      ],
      "text/plain": [
       "<IPython.core.display.Markdown object>"
      ]
     },
     "metadata": {},
     "output_type": "display_data"
    },
    {
     "data": {
      "text/markdown": [
       "scripture saith, Whosoever believeth on him shall not be ashamed. 10:12 For there is no difference between the Jew and the Greek: for the same **Lord over all is rich unto all that call upon** him. 10:13 For whosoever shall call upon the name of the Lord shall be saved. 10:14 How then shall they call"
      ],
      "text/plain": [
       "<IPython.core.display.Markdown object>"
      ]
     },
     "metadata": {},
     "output_type": "display_data"
    },
    {
     "data": {
      "text/markdown": [
       "### The Church Republic: A Romance of Methodism: By Brother Jonathan, D. D."
      ],
      "text/plain": [
       "<IPython.core.display.Markdown object>"
      ]
     },
     "metadata": {},
     "output_type": "display_data"
    },
    {
     "data": {
      "text/markdown": [
       "<small>Pierce, Zerelda F.</small>"
      ],
      "text/plain": [
       "<IPython.core.display.Markdown object>"
      ]
     },
     "metadata": {},
     "output_type": "display_data"
    },
    {
     "data": {
      "text/markdown": [
       "le nor female, for we are all one in Christ Jesus ; there can be no difference between them, so says Republican Paul, ‘ for the same Lo **rd over all is rich unto all that call upon H** im? ’ With such explicit recognition of woman’s equality with man in church, she is scripturally incorporated in the Constitution of the Church R"
      ],
      "text/plain": [
       "<IPython.core.display.Markdown object>"
      ]
     },
     "metadata": {},
     "output_type": "display_data"
    },
    {
     "name": "stdout",
     "output_type": "stream",
     "text": [
      "--------------------------------------------------\n"
     ]
    },
    {
     "data": {
      "text/markdown": [
       "### King James Bible"
      ],
      "text/plain": [
       "<IPython.core.display.Markdown object>"
      ]
     },
     "metadata": {},
     "output_type": "display_data"
    },
    {
     "data": {
      "text/markdown": [
       "sowest, thou sowest not that body that shall be, but bare grain, it may chance of wheat, or of some other grain: 15:38 But **God giveth it a body as it hath pleased him, and to every seed his own body**. 15:39 All flesh is not the same flesh: but there is one kind of flesh of men, another flesh of beasts, another of fishes, and another of birds. 15:40 There are also celestial"
      ],
      "text/plain": [
       "<IPython.core.display.Markdown object>"
      ]
     },
     "metadata": {},
     "output_type": "display_data"
    },
    {
     "data": {
      "text/markdown": [
       "### The Church Republic: A Romance of Methodism: By Brother Jonathan, D. D."
      ],
      "text/plain": [
       "<IPython.core.display.Markdown object>"
      ]
     },
     "metadata": {},
     "output_type": "display_data"
    },
    {
     "data": {
      "text/markdown": [
       "<small>Pierce, Zerelda F.</small>"
      ],
      "text/plain": [
       "<IPython.core.display.Markdown object>"
      ]
     },
     "metadata": {},
     "output_type": "display_data"
    },
    {
     "data": {
      "text/markdown": [
       "n. But soul to body as body to the soul ; crass with crass and ethereal with ethereal. Like unto like, for ‘Go **d giveth it a body as iťhath pleased Him, and to every seed his own body.'** Jonathan. —Thou reasonest well, David, and won- drously. David. — But yet much more wondrously. The black m"
      ],
      "text/plain": [
       "<IPython.core.display.Markdown object>"
      ]
     },
     "metadata": {},
     "output_type": "display_data"
    },
    {
     "name": "stdout",
     "output_type": "stream",
     "text": [
      "--------------------------------------------------\n"
     ]
    },
    {
     "data": {
      "text/markdown": [
       "### King James Bible"
      ],
      "text/plain": [
       "<IPython.core.display.Markdown object>"
      ]
     },
     "metadata": {},
     "output_type": "display_data"
    },
    {
     "data": {
      "text/markdown": [
       "continued there not many days. 2:13 And the Jews' passover was at hand, and Jesus went up to Jerusalem. 2:14 And found in the temple those that **sold oxen and sheep and doves, and the changers of money sitting: 2:15 And when he had made a scourge of small cords, he drove them all out of the temple, and the sheep, and the oxen; and poured out the changers' money, and overthrew the tables; 2:16 And said unto them that sold doves, Take these things hence; make not my Father's house an house of merchandise**. 2:17 And his disciples remembered that it was written, The zeal of thine house hath eaten me up. 2:18 Then answered the Jews and said unto"
      ],
      "text/plain": [
       "<IPython.core.display.Markdown object>"
      ]
     },
     "metadata": {},
     "output_type": "display_data"
    },
    {
     "data": {
      "text/markdown": [
       "### Rankell's Remains: An American Novel: By Barrett Wendell …"
      ],
      "text/plain": [
       "<IPython.core.display.Markdown object>"
      ]
     },
     "metadata": {},
     "output_type": "display_data"
    },
    {
     "data": {
      "text/markdown": [
       "<small>Wendell, Barrett</small>"
      ],
      "text/plain": [
       "<IPython.core.display.Markdown object>"
      ]
     },
     "metadata": {},
     "output_type": "display_data"
    },
    {
     "data": {
      "text/markdown": [
       "rembled with the wear of eighty holy years, “ and Jesus went up to Jerusalem, and found in the tem¬ ple those that s **old oxen and sheep and doves, and the changers of money sitting: and when he had made a scourge of small cords, he drove them all out of the temple, and the sheep, and the oxen ; and poured out the changers’ money, and overthrew the tables; and said unto them that sold doves, Take these things hence ; make not my Father’s house an house of merchandise.**” Just then I heard behind me a muttering as if some one were speaking to himself ; and turning to see who disturbed the quiet, I saw close"
      ],
      "text/plain": [
       "<IPython.core.display.Markdown object>"
      ]
     },
     "metadata": {},
     "output_type": "display_data"
    },
    {
     "name": "stdout",
     "output_type": "stream",
     "text": [
      "--------------------------------------------------\n"
     ]
    },
    {
     "data": {
      "text/markdown": [
       "### King James Bible"
      ],
      "text/plain": [
       "<IPython.core.display.Markdown object>"
      ]
     },
     "metadata": {},
     "output_type": "display_data"
    },
    {
     "data": {
      "text/markdown": [
       "night, he, and all his servants, and all the Egyptians; and there was a great cry in Egypt; for there was not a house where there was not one dead. 12:31 And he called for Moses and Aaron by night, and said, **Rise up, and get you forth from among my people, both ye and the children of Israel; and go, serve the LORD, as ye have said. 12:32 Also take your flocks and your herds, as ye have said, and be gone; and bless** me also. 12:33 And the Egyptians were urgent upon the people, that they might send them out of the land in haste; for they said, We be all dead men. 12:34 And the people took their dough"
      ],
      "text/plain": [
       "<IPython.core.display.Markdown object>"
      ]
     },
     "metadata": {},
     "output_type": "display_data"
    },
    {
     "data": {
      "text/markdown": [
       "### Philip Nolan's Friends: A Story of the Change of Western Empire: By Edward E. Hale …"
      ],
      "text/plain": [
       "<IPython.core.display.Markdown object>"
      ]
     },
     "metadata": {},
     "output_type": "display_data"
    },
    {
     "data": {
      "text/markdown": [
       "<small>Hale, Edward Everett</small>"
      ],
      "text/plain": [
       "<IPython.core.display.Markdown object>"
      ]
     },
     "metadata": {},
     "output_type": "display_data"
    },
    {
     "data": {
      "text/markdown": [
       "head of his sleeping-bunk, the Bible which accompanied him in his journeys. A moment more had found the' warning texts, — “ **Rise up, and get you forth from among my people, both ye and the children of Israel ; and go, serve the Lord as ye have said. “ Also take your flocks and your herds, as ye have said, and be gone ; and bless** me also.” “ And the Lord said unto me, Distress not the Moabites, neither con¬ tend with them in battle ; for I will not give thee of their land"
      ],
      "text/plain": [
       "<IPython.core.display.Markdown object>"
      ]
     },
     "metadata": {},
     "output_type": "display_data"
    },
    {
     "name": "stdout",
     "output_type": "stream",
     "text": [
      "--------------------------------------------------\n"
     ]
    },
    {
     "data": {
      "text/markdown": [
       "### King James Bible"
      ],
      "text/plain": [
       "<IPython.core.display.Markdown object>"
      ]
     },
     "metadata": {},
     "output_type": "display_data"
    },
    {
     "data": {
      "text/markdown": [
       "Esau, which dwelt in Seir, through the way of the plain from Elath, and from Eziongaber, we turned and passed by the way of the wilderness of Moab. 2:9 And the **LORD said unto me, Distress not the Moabites, neither** contend with them in battle: for I will not give thee of their land for a possession; because I have given Ar unto the children of Lot"
      ],
      "text/plain": [
       "<IPython.core.display.Markdown object>"
      ]
     },
     "metadata": {},
     "output_type": "display_data"
    },
    {
     "data": {
      "text/markdown": [
       "### Philip Nolan's Friends: A Story of the Change of Western Empire: By Edward E. Hale …"
      ],
      "text/plain": [
       "<IPython.core.display.Markdown object>"
      ]
     },
     "metadata": {},
     "output_type": "display_data"
    },
    {
     "data": {
      "text/markdown": [
       "<small>Hale, Edward Everett</small>"
      ],
      "text/plain": [
       "<IPython.core.display.Markdown object>"
      ]
     },
     "metadata": {},
     "output_type": "display_data"
    },
    {
     "data": {
      "text/markdown": [
       "children of Israel ; and go, serve the Lord as ye have said. “ Also take your flocks and your herds, as ye have said, and be gone ; and bless me also.” “ And the **Lord said unto me, Distress not the Moabites, neither** con¬ tend with them in battle ; for I will not give thee of their land for a pos¬ session.” Nolan read aloud"
      ],
      "text/plain": [
       "<IPython.core.display.Markdown object>"
      ]
     },
     "metadata": {},
     "output_type": "display_data"
    },
    {
     "name": "stdout",
     "output_type": "stream",
     "text": [
      "--------------------------------------------------\n"
     ]
    },
    {
     "data": {
      "text/markdown": [
       "### King James Bible"
      ],
      "text/plain": [
       "<IPython.core.display.Markdown object>"
      ]
     },
     "metadata": {},
     "output_type": "display_data"
    },
    {
     "data": {
      "text/markdown": [
       "coasts of the great sea over against Lebanon, the Hittite, and the Amorite, the Canaanite, the Perizzite, the Hivite, and the Jebusite, **heard thereof; 9:2 That they gathered themselves together, to fight with Joshua and with Israel, with one accord**. 9:3 And when the inhabitants of Gibeon heard what Joshua had done unto Jericho and to Ai, 9:4 They did work wilily, and went and made as if they had been ambassadors"
      ],
      "text/plain": [
       "<IPython.core.display.Markdown object>"
      ]
     },
     "metadata": {},
     "output_type": "display_data"
    },
    {
     "data": {
      "text/markdown": [
       "### Philip Nolan's Friends: A Story of the Change of Western Empire: By Edward E. Hale …"
      ],
      "text/plain": [
       "<IPython.core.display.Markdown object>"
      ]
     },
     "metadata": {},
     "output_type": "display_data"
    },
    {
     "data": {
      "text/markdown": [
       "<small>Hale, Edward Everett</small>"
      ],
      "text/plain": [
       "<IPython.core.display.Markdown object>"
      ]
     },
     "metadata": {},
     "output_type": "display_data"
    },
    {
     "data": {
      "text/markdown": [
       "text to read, — “ And it came to pass when all the kings which were on this side Jor¬ dan, in the hills, and in the valleys, . . . **heard thereof ; “That they gathered themselves together, to fight with Joshua and with Israel, with one accord**.” Under the next pictures were the letters, — Зийд. it. 1?. And the interpretation proved to be, — “ Then Israel sent messengers unto the king"
      ],
      "text/plain": [
       "<IPython.core.display.Markdown object>"
      ]
     },
     "metadata": {},
     "output_type": "display_data"
    },
    {
     "name": "stdout",
     "output_type": "stream",
     "text": [
      "--------------------------------------------------\n"
     ]
    },
    {
     "data": {
      "text/markdown": [
       "### King James Bible"
      ],
      "text/plain": [
       "<IPython.core.display.Markdown object>"
      ]
     },
     "metadata": {},
     "output_type": "display_data"
    },
    {
     "data": {
      "text/markdown": [
       "Israel came up from Egypt, and walked through the wilderness unto the Red sea, and came to Kadesh; 11:17 Then **Israel sent messengers unto the king of Edom, saying, Let me, I pray thee, pass through thy land: but the king of Edom would not hearken thereto**. And in like manner they sent unto the king of Moab: but he would not consent: and Israel abode in Kadesh. 11:18 Then they went"
      ],
      "text/plain": [
       "<IPython.core.display.Markdown object>"
      ]
     },
     "metadata": {},
     "output_type": "display_data"
    },
    {
     "data": {
      "text/markdown": [
       "### Philip Nolan's Friends: A Story of the Change of Western Empire: By Edward E. Hale …"
      ],
      "text/plain": [
       "<IPython.core.display.Markdown object>"
      ]
     },
     "metadata": {},
     "output_type": "display_data"
    },
    {
     "data": {
      "text/markdown": [
       "<small>Hale, Edward Everett</small>"
      ],
      "text/plain": [
       "<IPython.core.display.Markdown object>"
      ]
     },
     "metadata": {},
     "output_type": "display_data"
    },
    {
     "data": {
      "text/markdown": [
       "together, to fight with Joshua and with Israel, with one accord.” Under the next pictures were the letters, — Зийд. it. 1?. And the interpretation proved to be, — “ Then **Israel sent messengers unto the king of Edom, saying, Let me, I pray thee, pass through thy land ; but the king of Edom would not hearken thereto**.” “ This is plain talk, Blackburn,” said the chief after a moment’s pause. “ Yes, captain ; and do you see ?” — The man took the book"
      ],
      "text/plain": [
       "<IPython.core.display.Markdown object>"
      ]
     },
     "metadata": {},
     "output_type": "display_data"
    },
    {
     "name": "stdout",
     "output_type": "stream",
     "text": [
      "--------------------------------------------------\n"
     ]
    },
    {
     "data": {
      "text/markdown": [
       "### King James Bible"
      ],
      "text/plain": [
       "<IPython.core.display.Markdown object>"
      ]
     },
     "metadata": {},
     "output_type": "display_data"
    },
    {
     "data": {
      "text/markdown": [
       "fourscore males. 8:9 Of the sons of Joab; Obadiah the son of Jehiel, and with him two hundred and eighteen males. 8:10 And of the **sons of Shelomith; the son of Josiphiah, and with him an hundred and threescore males**. 8:11 And of the sons of Bebai; Zechariah the son of Bebai, and with him twenty and eight males. 8:12 And of the sons of Azgad"
      ],
      "text/plain": [
       "<IPython.core.display.Markdown object>"
      ]
     },
     "metadata": {},
     "output_type": "display_data"
    },
    {
     "data": {
      "text/markdown": [
       "### Philip Nolan's Friends: A Story of the Change of Western Empire: By Edward E. Hale …"
      ],
      "text/plain": [
       "<IPython.core.display.Markdown object>"
      ]
     },
     "metadata": {},
     "output_type": "display_data"
    },
    {
     "data": {
      "text/markdown": [
       "<small>Hale, Edward Everett</small>"
      ],
      "text/plain": [
       "<IPython.core.display.Markdown object>"
      ]
     },
     "metadata": {},
     "output_type": "display_data"
    },
    {
     "data": {
      "text/markdown": [
       "must look for him. Now what is this ? ” And he turned once more to the picture of Ezra with his cardinal. The warning texts were, — Ejra but. 10 ; £мй. ib. 8. “And of the **sons of Shelomith ; the son of Josiphiah, and with him an hundred and threescore males**.” “ I do not care what his name is, Blackburn ; but, if he has a hundred and sixty Spanish lancers of the male sort after him, they are too many for us. What is her other text"
      ],
      "text/plain": [
       "<IPython.core.display.Markdown object>"
      ]
     },
     "metadata": {},
     "output_type": "display_data"
    },
    {
     "name": "stdout",
     "output_type": "stream",
     "text": [
      "--------------------------------------------------\n"
     ]
    },
    {
     "data": {
      "text/markdown": [
       "### King James Bible"
      ],
      "text/plain": [
       "<IPython.core.display.Markdown object>"
      ]
     },
     "metadata": {},
     "output_type": "display_data"
    },
    {
     "data": {
      "text/markdown": [
       "wisdom, neither hath he imparted to her understanding. 39:18 What time she lifteth up herself on high, she scorneth the horse and his rider. 39:19 **Hast thou given the horse strength? hast thou clothed his neck with thunder? 39:20 Canst thou make him afraid as a grasshopper? the glory of his nostrils is terrible. 39:21 He paweth in the valley, and rejoiceth in his strength: he goeth on to meet the armed men. 39:22 He mocketh at fear, and is not affrighted; neither turneth he back from the sword. 39:23 The quiver rattleth against him, the glittering spear and the shield. 39:24 He swalloweth the ground with fierceness and rage: neither believeth he that it is the sound of the trumpet. 39:25 He saith among the trumpets, Ha, ha; and he smelleth the battle afar off, the thunder** of the captains, and the shouting. 39:26 Doth the hawk fly by thy wisdom, and stretch her wings toward"
      ],
      "text/plain": [
       "<IPython.core.display.Markdown object>"
      ]
     },
     "metadata": {},
     "output_type": "display_data"
    },
    {
     "data": {
      "text/markdown": [
       "### No Enemy (but Himself): By Elbert Hubbard …"
      ],
      "text/plain": [
       "<IPython.core.display.Markdown object>"
      ]
     },
     "metadata": {},
     "output_type": "display_data"
    },
    {
     "data": {
      "text/markdown": [
       "<small>Hubbard, Elbert</small>"
      ],
      "text/plain": [
       "<IPython.core.display.Markdown object>"
      ]
     },
     "metadata": {},
     "output_type": "display_data"
    },
    {
     "data": {
      "text/markdown": [
       "ob. He wrote the oldest and most valuable book of the Bible. Job loved a horse. Listen ! H **ast thou given the horse strength ? Hast thou clothed his neck with thunder? Canst thou make him afraid as a grasshopper? The glory of his nostrils is terrible. He paweth in the valley, and rejoiceth in his strength, he goeth on to meet the armed men. He mocketh at fear and is not affrighted ; neither turneth he back from the sword. The quiver rattleth against him, the glittering spear and the shield. He swalloweth the ground with fierceness and rage; neither believeth he that it is the sound of the trumpet. He saith among the trumpets, Ha, ha! and he smelleth the battle afar off, the thunder** of the cap¬ tains and the shouting. Mr. Goolson’s horses were “ plugs ” : thin in flesh,"
      ],
      "text/plain": [
       "<IPython.core.display.Markdown object>"
      ]
     },
     "metadata": {},
     "output_type": "display_data"
    },
    {
     "name": "stdout",
     "output_type": "stream",
     "text": [
      "--------------------------------------------------\n"
     ]
    },
    {
     "data": {
      "text/markdown": [
       "### King James Bible"
      ],
      "text/plain": [
       "<IPython.core.display.Markdown object>"
      ]
     },
     "metadata": {},
     "output_type": "display_data"
    },
    {
     "data": {
      "text/markdown": [
       "Lord for a generation. 22:31 They shall come, and shall declare his righteousness unto a people that shall be born, that he hath done this. 23:1 The **LORD is my shepherd; I shall not want. 23:2 He maketh me to lie down in green pastures: he leadeth** me beside the still waters. 23:3 He restoreth my soul: he leadeth me in the paths of righteousness for his name's sake"
      ],
      "text/plain": [
       "<IPython.core.display.Markdown object>"
      ]
     },
     "metadata": {},
     "output_type": "display_data"
    },
    {
     "data": {
      "text/markdown": [
       "### No Enemy (but Himself): By Elbert Hubbard …"
      ],
      "text/plain": [
       "<IPython.core.display.Markdown object>"
      ]
     },
     "metadata": {},
     "output_type": "display_data"
    },
    {
     "data": {
      "text/markdown": [
       "<small>Hubbard, Elbert</small>"
      ],
      "text/plain": [
       "<IPython.core.display.Markdown object>"
      ]
     },
     "metadata": {},
     "output_type": "display_data"
    },
    {
     "data": {
      "text/markdown": [
       "ght and sound as the organ played. “ She will sing better if she does not know I am here,” he said. “ I will wait—what a joke it is. She will begin soon—there, yes—that is the prelude. Now ! ” “ The Lo **rd is my shepherd, I shall not want. He maketh me to lie down in green pastures, He leadeth m** e, he leadeth me—by still waters.” It was that beautiful arrangement of the Twenty- third Psalm, the chant being set for a soprano v"
      ],
      "text/plain": [
       "<IPython.core.display.Markdown object>"
      ]
     },
     "metadata": {},
     "output_type": "display_data"
    },
    {
     "name": "stdout",
     "output_type": "stream",
     "text": [
      "--------------------------------------------------\n"
     ]
    },
    {
     "data": {
      "text/markdown": [
       "### King James Bible"
      ],
      "text/plain": [
       "<IPython.core.display.Markdown object>"
      ]
     },
     "metadata": {},
     "output_type": "display_data"
    },
    {
     "data": {
      "text/markdown": [
       "Hast thou eaten of the tree, whereof I commanded thee that thou shouldest not eat? 3:12 And the man said, The **woman whom thou gavest to be with me, she gave me of the tree, and I did eat**. 3:13 And the LORD God said unto the woman, What is this that thou hast done? And the woman said, The serpent beguiled me, and I did eat"
      ],
      "text/plain": [
       "<IPython.core.display.Markdown object>"
      ]
     },
     "metadata": {},
     "output_type": "display_data"
    },
    {
     "data": {
      "text/markdown": [
       "### The Golden Calf: A Novel: By Hjalmar Hjorth Boyesen"
      ],
      "text/plain": [
       "<IPython.core.display.Markdown object>"
      ]
     },
     "metadata": {},
     "output_type": "display_data"
    },
    {
     "data": {
      "text/markdown": [
       "<small>Boyesen, Hjalmar Hjorth</small>"
      ],
      "text/plain": [
       "<IPython.core.display.Markdown object>"
      ]
     },
     "metadata": {},
     "output_type": "display_data"
    },
    {
     "data": {
      "text/markdown": [
       "room, so as to be alone with his sorrow. He had the masculine lack of generosity to blame his wife as the author of his woes. “ The **woman whom Thou gavest me to be with me, she gave me of the tree and I did eat**.” His gruffness did not shock Madeline, for it was what she had expected. She had come to humble herself, because she was convinced that if she did not, she would lose him altogether. She glanced"
      ],
      "text/plain": [
       "<IPython.core.display.Markdown object>"
      ]
     },
     "metadata": {},
     "output_type": "display_data"
    },
    {
     "name": "stdout",
     "output_type": "stream",
     "text": [
      "--------------------------------------------------\n"
     ]
    },
    {
     "data": {
      "text/markdown": [
       "### King James Bible"
      ],
      "text/plain": [
       "<IPython.core.display.Markdown object>"
      ]
     },
     "metadata": {},
     "output_type": "display_data"
    },
    {
     "data": {
      "text/markdown": [
       "Terah were two hundred and five years: and Terah died in Haran. 12:1 Now the LORD had said unto Abram, Get thee out of **thy country, and from thy kindred, and from thy father's house, unto a land** that I will shew thee: 12:2 And I will make of thee a great nation, and I will bless thee, and make thy name great; and thou shalt"
      ],
      "text/plain": [
       "<IPython.core.display.Markdown object>"
      ]
     },
     "metadata": {},
     "output_type": "display_data"
    },
    {
     "data": {
      "text/markdown": [
       "### The Yoke and Burden"
      ],
      "text/plain": [
       "<IPython.core.display.Markdown object>"
      ]
     },
     "metadata": {},
     "output_type": "display_data"
    },
    {
     "data": {
      "text/markdown": [
       "<small>Kennett, Clare</small>"
      ],
      "text/plain": [
       "<IPython.core.display.Markdown object>"
      ]
     },
     "metadata": {},
     "output_type": "display_data"
    },
    {
     "data": {
      "text/markdown": [
       "speeding home to meet the smile or frown that awaits the comer. CHAPTER IX. Get thee cut of **thy country, and from thy kindred, and from thy father’s house, unto a land** that I will show thee.— Bil'r. T lias been truly said, tlic most important events"
      ],
      "text/plain": [
       "<IPython.core.display.Markdown object>"
      ]
     },
     "metadata": {},
     "output_type": "display_data"
    },
    {
     "name": "stdout",
     "output_type": "stream",
     "text": [
      "--------------------------------------------------\n"
     ]
    },
    {
     "data": {
      "text/markdown": [
       "### King James Bible"
      ],
      "text/plain": [
       "<IPython.core.display.Markdown object>"
      ]
     },
     "metadata": {},
     "output_type": "display_data"
    },
    {
     "data": {
      "text/markdown": [
       "thou shalt go: I will guide thee with mine eye. 32:9 Be ye not as the horse, or as the mule, which have no understanding: **whose mouth must be held in with bit and bridle**, lest they come near unto thee. 32:10 Many sorrows shall be to the wicked: but he that trusteth in the LORD, mercy"
      ],
      "text/plain": [
       "<IPython.core.display.Markdown object>"
      ]
     },
     "metadata": {},
     "output_type": "display_data"
    },
    {
     "data": {
      "text/markdown": [
       "### The Yoke and Burden"
      ],
      "text/plain": [
       "<IPython.core.display.Markdown object>"
      ]
     },
     "metadata": {},
     "output_type": "display_data"
    },
    {
     "data": {
      "text/markdown": [
       "<small>Kennett, Clare</small>"
      ],
      "text/plain": [
       "<IPython.core.display.Markdown object>"
      ]
     },
     "metadata": {},
     "output_type": "display_data"
    },
    {
     "data": {
      "text/markdown": [
       "aunty ? ” “ Yes, my child ; and able to say to my Lord, ‘ Thy will he done.’ ” “ That is right ! that is good, aunty ! ” “ Alas ! my dear, I find I am like the horse and mule, **whose mouth must be held in with bit and bridle**; and ‘ the still small voice ’ has reproved me, and given me strength to say, ‘ Go, work in the Mas¬ ter’s vineyard. 5 The Lord"
      ],
      "text/plain": [
       "<IPython.core.display.Markdown object>"
      ]
     },
     "metadata": {},
     "output_type": "display_data"
    },
    {
     "name": "stdout",
     "output_type": "stream",
     "text": [
      "--------------------------------------------------\n"
     ]
    },
    {
     "data": {
      "text/markdown": [
       "### King James Bible"
      ],
      "text/plain": [
       "<IPython.core.display.Markdown object>"
      ]
     },
     "metadata": {},
     "output_type": "display_data"
    },
    {
     "data": {
      "text/markdown": [
       "righteous; yea, our God is merciful. 116:6 The LORD preserveth the simple: I was brought low, and he helped me. 116:7 **Return unto thy rest, O my soul; for the LORD hath dealt bountifully with thee**. 116:8 For thou hast delivered my soul from death, mine eyes from tears, and my feet from falling"
      ],
      "text/plain": [
       "<IPython.core.display.Markdown object>"
      ]
     },
     "metadata": {},
     "output_type": "display_data"
    },
    {
     "data": {
      "text/markdown": [
       "### The Yoke and Burden"
      ],
      "text/plain": [
       "<IPython.core.display.Markdown object>"
      ]
     },
     "metadata": {},
     "output_type": "display_data"
    },
    {
     "data": {
      "text/markdown": [
       "<small>Kennett, Clare</small>"
      ],
      "text/plain": [
       "<IPython.core.display.Markdown object>"
      ]
     },
     "metadata": {},
     "output_type": "display_data"
    },
    {
     "data": {
      "text/markdown": [
       "serve who only stand and wait : this is to serve the Master, who finished the work when He gave up the spirit. Mary could now say with the Psalmist, “ **Return unto thy rest, O my soul ! for the Lord hath dealt bountifully with thee**! ” On waking next morning, she found that the storm had passed away. The day was piercing cold, and the sun lit up the thousand"
      ],
      "text/plain": [
       "<IPython.core.display.Markdown object>"
      ]
     },
     "metadata": {},
     "output_type": "display_data"
    },
    {
     "name": "stdout",
     "output_type": "stream",
     "text": [
      "--------------------------------------------------\n"
     ]
    },
    {
     "data": {
      "text/markdown": [
       "### King James Bible"
      ],
      "text/plain": [
       "<IPython.core.display.Markdown object>"
      ]
     },
     "metadata": {},
     "output_type": "display_data"
    },
    {
     "data": {
      "text/markdown": [
       "shall cleave to his wife: and they twain shall be one flesh? 19:6 Wherefore they are no more twain, but one flesh. What therefore **God hath joined together, let not man put asunder**. 19:7 They say unto him, Why did Moses then command to give a writing of divorcement, and to put her away? 19:8 He saith unto them, Moses because of the hardness"
      ],
      "text/plain": [
       "<IPython.core.display.Markdown object>"
      ]
     },
     "metadata": {},
     "output_type": "display_data"
    },
    {
     "data": {
      "text/markdown": [
       "### Alicia: By Albert A. Hartzell"
      ],
      "text/plain": [
       "<IPython.core.display.Markdown object>"
      ]
     },
     "metadata": {},
     "output_type": "display_data"
    },
    {
     "data": {
      "text/markdown": [
       "<small>Hartzell, Albert A. (Albert Ankeny)</small>"
      ],
      "text/plain": [
       "<IPython.core.display.Markdown object>"
      ]
     },
     "metadata": {},
     "output_type": "display_data"
    },
    {
     "data": {
      "text/markdown": [
       "hile its members wear their hearts away in trying to wear its chains. It is frightened by the admonition of the church, ‘What G **od hath joined together let no man put asunder**. 5 55 “But would not a broadening aspect of life,” Alicia asked earnestly, “that would encourage companionship, in its purest and highest rela¬"
      ],
      "text/plain": [
       "<IPython.core.display.Markdown object>"
      ]
     },
     "metadata": {},
     "output_type": "display_data"
    },
    {
     "name": "stdout",
     "output_type": "stream",
     "text": [
      "--------------------------------------------------\n"
     ]
    },
    {
     "data": {
      "text/markdown": [
       "### King James Bible"
      ],
      "text/plain": [
       "<IPython.core.display.Markdown object>"
      ]
     },
     "metadata": {},
     "output_type": "display_data"
    },
    {
     "data": {
      "text/markdown": [
       "ye are all the children of God by faith in Christ Jesus. 3:27 For as many of you as have been baptized into Christ have put on Christ. 3:28 There is **neither Jew nor Greek, there is neither bond nor free, there is neither male nor female: for ye are all one in Christ Jesus**. 3:29 And if ye be Christ's, then are ye Abraham's seed, and heirs according to the promise"
      ],
      "text/plain": [
       "<IPython.core.display.Markdown object>"
      ]
     },
     "metadata": {},
     "output_type": "display_data"
    },
    {
     "data": {
      "text/markdown": [
       "### The Unhallowed Harvest: By Homer Greene"
      ],
      "text/plain": [
       "<IPython.core.display.Markdown object>"
      ]
     },
     "metadata": {},
     "output_type": "display_data"
    },
    {
     "data": {
      "text/markdown": [
       "<small>Greene, Homer</small>"
      ],
      "text/plain": [
       "<IPython.core.display.Markdown object>"
      ]
     },
     "metadata": {},
     "output_type": "display_data"
    },
    {
     "data": {
      "text/markdown": [
       "rich. He founded His Church on the brother¬ hood of man. Its very existence was declaratory of the solidarity of the human race. There is **neither Jew nor Greek, there is neither bond nor free, there is neither male nor female, for ye are all one in Christ Jesus**. No other Messiah, no other religion in the history of the world has made so strong, so sympathetic an appeal to the humble and toil-worn. How utterly"
      ],
      "text/plain": [
       "<IPython.core.display.Markdown object>"
      ]
     },
     "metadata": {},
     "output_type": "display_data"
    },
    {
     "name": "stdout",
     "output_type": "stream",
     "text": [
      "--------------------------------------------------\n"
     ]
    },
    {
     "data": {
      "text/markdown": [
       "### King James Bible"
      ],
      "text/plain": [
       "<IPython.core.display.Markdown object>"
      ]
     },
     "metadata": {},
     "output_type": "display_data"
    },
    {
     "data": {
      "text/markdown": [
       "shall cleave to his wife: and they twain shall be one flesh? 19:6 Wherefore they are no more twain, but one flesh. What therefore **God hath joined together, let not man put asunder**. 19:7 They say unto him, Why did Moses then command to give a writing of divorcement, and to put her away? 19:8 He saith unto them, Moses because of the hardness"
      ],
      "text/plain": [
       "<IPython.core.display.Markdown object>"
      ]
     },
     "metadata": {},
     "output_type": "display_data"
    },
    {
     "data": {
      "text/markdown": [
       "### Mary Paget: A Romance of Old Bermuda: By Minna Caroline Smith …"
      ],
      "text/plain": [
       "<IPython.core.display.Markdown object>"
      ]
     },
     "metadata": {},
     "output_type": "display_data"
    },
    {
     "data": {
      "text/markdown": [
       "<small>Smith, Minna Caroline</small>"
      ],
      "text/plain": [
       "<IPython.core.display.Markdown object>"
      ]
     },
     "metadata": {},
     "output_type": "display_data"
    },
    {
     "data": {
      "text/markdown": [
       "Paget, who rose at that moment, again taking my hand in his own. “ Then has not God already united us two ? ” I asked. “ Whom **God hath joined together, let not man put asunder**! ” cried Master Dwight, with a sudden rush of sympathy, uttering in his emotion the words of the marriage"
      ],
      "text/plain": [
       "<IPython.core.display.Markdown object>"
      ]
     },
     "metadata": {},
     "output_type": "display_data"
    },
    {
     "name": "stdout",
     "output_type": "stream",
     "text": [
      "--------------------------------------------------\n"
     ]
    },
    {
     "data": {
      "text/markdown": [
       "### King James Bible"
      ],
      "text/plain": [
       "<IPython.core.display.Markdown object>"
      ]
     },
     "metadata": {},
     "output_type": "display_data"
    },
    {
     "data": {
      "text/markdown": [
       "wisdom. 13:11 Wealth gotten by vanity shall be diminished: but he that gathereth by labour shall increase. 13:12 **Hope deferred maketh the heart sick**: but when the desire cometh, it is a tree of life. 13:13 Whoso despiseth the word shall be destroyed: but he that feareth the commandment"
      ],
      "text/plain": [
       "<IPython.core.display.Markdown object>"
      ]
     },
     "metadata": {},
     "output_type": "display_data"
    },
    {
     "data": {
      "text/markdown": [
       "### A Fortunate Failure: By Caroline B. Le Row"
      ],
      "text/plain": [
       "<IPython.core.display.Markdown object>"
      ]
     },
     "metadata": {},
     "output_type": "display_data"
    },
    {
     "data": {
      "text/markdown": [
       "<small>Lerow, Caroline B. (Caroline Bigelow)</small>"
      ],
      "text/plain": [
       "<IPython.core.display.Markdown object>"
      ]
     },
     "metadata": {},
     "output_type": "display_data"
    },
    {
     "data": {
      "text/markdown": [
       "specified. He had been disappointed in the result of his trip, he had been disappointed about the same matter a good many times before, and was proving the truth, that u **hope deferred maketh the heart sick**.” Some¬ thing of his buoyancy of spirit, his natural cheerful¬ ness of manner was lacking, as he came into the little sitting-room"
      ],
      "text/plain": [
       "<IPython.core.display.Markdown object>"
      ]
     },
     "metadata": {},
     "output_type": "display_data"
    },
    {
     "name": "stdout",
     "output_type": "stream",
     "text": [
      "--------------------------------------------------\n"
     ]
    },
    {
     "data": {
      "text/markdown": [
       "### King James Bible"
      ],
      "text/plain": [
       "<IPython.core.display.Markdown object>"
      ]
     },
     "metadata": {},
     "output_type": "display_data"
    },
    {
     "data": {
      "text/markdown": [
       "saith the LORD that created thee, O Jacob, and he that formed thee, O Israel, **Fear not: for I have redeemed thee, I have called thee** by thy name; thou art mine. 43:2 When thou passest through the waters, I will be with thee; and through the rivers"
      ],
      "text/plain": [
       "<IPython.core.display.Markdown object>"
      ]
     },
     "metadata": {},
     "output_type": "display_data"
    },
    {
     "data": {
      "text/markdown": [
       "### A Fortunate Failure: By Caroline B. Le Row"
      ],
      "text/plain": [
       "<IPython.core.display.Markdown object>"
      ]
     },
     "metadata": {},
     "output_type": "display_data"
    },
    {
     "data": {
      "text/markdown": [
       "<small>Lerow, Caroline B. (Caroline Bigelow)</small>"
      ],
      "text/plain": [
       "<IPython.core.display.Markdown object>"
      ]
     },
     "metadata": {},
     "output_type": "display_data"
    },
    {
     "data": {
      "text/markdown": [
       "shuddered as she closed the book and laid it aside. Her Bible lay near by. She took that . up, in turn : — “ **Fear not, for I have redeemed thee ; I have called thee** by my name ; thou art mine. “ When thou passest through the waters, I will be with thee ; and through the rivers, they shall"
      ],
      "text/plain": [
       "<IPython.core.display.Markdown object>"
      ]
     },
     "metadata": {},
     "output_type": "display_data"
    },
    {
     "name": "stdout",
     "output_type": "stream",
     "text": [
      "--------------------------------------------------\n"
     ]
    },
    {
     "data": {
      "text/markdown": [
       "### King James Bible"
      ],
      "text/plain": [
       "<IPython.core.display.Markdown object>"
      ]
     },
     "metadata": {},
     "output_type": "display_data"
    },
    {
     "data": {
      "text/markdown": [
       "formed thee, O Israel, Fear not: for I have redeemed thee, I have called thee by thy **name; thou art mine. 43:2 When thou passest through the waters, I will be with thee; and through the rivers, they shall not overflow thee: when thou walkest through the fire, thou shalt not be burned; neither shall the flame kindle upon thee**. 43:3 For I am the LORD thy God, the Holy One of Israel, thy Saviour: I gave Egypt for thy"
      ],
      "text/plain": [
       "<IPython.core.display.Markdown object>"
      ]
     },
     "metadata": {},
     "output_type": "display_data"
    },
    {
     "data": {
      "text/markdown": [
       "### A Fortunate Failure: By Caroline B. Le Row"
      ],
      "text/plain": [
       "<IPython.core.display.Markdown object>"
      ]
     },
     "metadata": {},
     "output_type": "display_data"
    },
    {
     "data": {
      "text/markdown": [
       "<small>Lerow, Caroline B. (Caroline Bigelow)</small>"
      ],
      "text/plain": [
       "<IPython.core.display.Markdown object>"
      ]
     },
     "metadata": {},
     "output_type": "display_data"
    },
    {
     "data": {
      "text/markdown": [
       "Bible lay near by. She took that . up, in turn : — “ Fear not, for I have redeemed thee ; I have called thee by my **name ; thou art mine. “ When thou passest through the waters, I will be with thee ; and through the rivers, they shall not overflow thee ; when thou walkest through the fire, thou shalt not be burned ; neither shall the flame kindle upon thee**.” “ Oh, if one could only believe,” she sighed, as she laid her tired head down upon the pillow. “ Can it be possible that 1 all things work together for good ? * ” It was a year that day since"
      ],
      "text/plain": [
       "<IPython.core.display.Markdown object>"
      ]
     },
     "metadata": {},
     "output_type": "display_data"
    },
    {
     "name": "stdout",
     "output_type": "stream",
     "text": [
      "--------------------------------------------------\n"
     ]
    },
    {
     "data": {
      "text/markdown": [
       "### King James Bible"
      ],
      "text/plain": [
       "<IPython.core.display.Markdown object>"
      ]
     },
     "metadata": {},
     "output_type": "display_data"
    },
    {
     "data": {
      "text/markdown": [
       "glory of the sun, and another glory of the moon, and another glory of the stars: for one star differeth from another star in glory. 15:42 So also is the **resurrection of the dead. It is sown in corruption; it is raised in incorruption: 15:43 It is sown** in dishonour; it is raised in glory: it is sown in weakness; it is raised in power: 15:44 It is sown a natural body"
      ],
      "text/plain": [
       "<IPython.core.display.Markdown object>"
      ]
     },
     "metadata": {},
     "output_type": "display_data"
    },
    {
     "data": {
      "text/markdown": [
       "### A Fortunate Failure: By Caroline B. Le Row"
      ],
      "text/plain": [
       "<IPython.core.display.Markdown object>"
      ]
     },
     "metadata": {},
     "output_type": "display_data"
    },
    {
     "data": {
      "text/markdown": [
       "<small>Lerow, Caroline B. (Caroline Bigelow)</small>"
      ],
      "text/plain": [
       "<IPython.core.display.Markdown object>"
      ]
     },
     "metadata": {},
     "output_type": "display_data"
    },
    {
     "data": {
      "text/markdown": [
       "heads outside the doors, with bowed faces, listening intently to the murmured words within : “ So also is the **resurrection of the dead. It is sown in corruption, it is raised in incorruption ; it is sown** in dishonor, it is raised in glory ; it is sown in weakness, it is raised in power; it is sown a natural body"
      ],
      "text/plain": [
       "<IPython.core.display.Markdown object>"
      ]
     },
     "metadata": {},
     "output_type": "display_data"
    },
    {
     "name": "stdout",
     "output_type": "stream",
     "text": [
      "--------------------------------------------------\n"
     ]
    },
    {
     "data": {
      "text/markdown": [
       "### King James Bible"
      ],
      "text/plain": [
       "<IPython.core.display.Markdown object>"
      ]
     },
     "metadata": {},
     "output_type": "display_data"
    },
    {
     "data": {
      "text/markdown": [
       "star in glory. 15:42 So also is the resurrection of the dead. It is sown in corruption; it is raised in incorruption: 15:43 It is sown in dishonour; it is **raised in glory: it is sown in weakness; it is raised in power: 15:44 It is sown a natural body; it is raised a spiritual body**. There is a natural body, and there is a spiritual body. 15:45 And so it is written, The first man Adam was made a living soul; the last Adam was made a quickening"
      ],
      "text/plain": [
       "<IPython.core.display.Markdown object>"
      ]
     },
     "metadata": {},
     "output_type": "display_data"
    },
    {
     "data": {
      "text/markdown": [
       "### A Fortunate Failure: By Caroline B. Le Row"
      ],
      "text/plain": [
       "<IPython.core.display.Markdown object>"
      ]
     },
     "metadata": {},
     "output_type": "display_data"
    },
    {
     "data": {
      "text/markdown": [
       "<small>Lerow, Caroline B. (Caroline Bigelow)</small>"
      ],
      "text/plain": [
       "<IPython.core.display.Markdown object>"
      ]
     },
     "metadata": {},
     "output_type": "display_data"
    },
    {
     "data": {
      "text/markdown": [
       "words within : “ So also is the resurrection of the dead. It is sown in corruption, it is raised in incorruption ; it is sown in dishonor, it is **raised in glory ; it is sown in weakness, it is raised in power; it is sown a natural body, it is raised a spiritual body**.” A long procession moved slowly over the dry, dusty hills, under the burning sun, to the Ripton"
      ],
      "text/plain": [
       "<IPython.core.display.Markdown object>"
      ]
     },
     "metadata": {},
     "output_type": "display_data"
    },
    {
     "name": "stdout",
     "output_type": "stream",
     "text": [
      "--------------------------------------------------\n"
     ]
    },
    {
     "data": {
      "text/markdown": [
       "### King James Bible"
      ],
      "text/plain": [
       "<IPython.core.display.Markdown object>"
      ]
     },
     "metadata": {},
     "output_type": "display_data"
    },
    {
     "data": {
      "text/markdown": [
       "young ones shall lie down together: and the lion shall eat straw like the ox. 11:8 And the **sucking child shall play on the hole of the asp, and the weaned child shall put his hand on the cockatrice**' den. 11:9 They shall not hurt nor destroy in all my holy mountain: for the earth shall be full"
      ],
      "text/plain": [
       "<IPython.core.display.Markdown object>"
      ]
     },
     "metadata": {},
     "output_type": "display_data"
    },
    {
     "data": {
      "text/markdown": [
       "### The Saint of the Dragon's Dale: A Fantastic Tale"
      ],
      "text/plain": [
       "<IPython.core.display.Markdown object>"
      ]
     },
     "metadata": {},
     "output_type": "display_data"
    },
    {
     "data": {
      "text/markdown": [
       "<small>Davis, William Stearns</small>"
      ],
      "text/plain": [
       "<IPython.core.display.Markdown object>"
      ]
     },
     "metadata": {},
     "output_type": "display_data"
    },
    {
     "data": {
      "text/markdown": [
       "ight of a noxious beast and of a mortal maid ! Nevertheless, as he stood over them, these were the words which seemed sounding. “ And the s **ucking child shall play on the hole of the asp, and the weaned child shall put his hand on the cockatrice'** s den; they shall not hurt nor destroy in all my holy mountain .” But Jerome only told"
      ],
      "text/plain": [
       "<IPython.core.display.Markdown object>"
      ]
     },
     "metadata": {},
     "output_type": "display_data"
    },
    {
     "name": "stdout",
     "output_type": "stream",
     "text": [
      "--------------------------------------------------\n"
     ]
    },
    {
     "data": {
      "text/markdown": [
       "### King James Bible"
      ],
      "text/plain": [
       "<IPython.core.display.Markdown object>"
      ]
     },
     "metadata": {},
     "output_type": "display_data"
    },
    {
     "data": {
      "text/markdown": [
       "shall play on the hole of the asp, and the weaned child shall put his hand on the cockatrice' **den. 11:9 They shall not hurt nor destroy in all my holy mountain**: for the earth shall be full of the knowledge of the LORD, as the waters cover the sea. 11:10 And in that day there shall be a root"
      ],
      "text/plain": [
       "<IPython.core.display.Markdown object>"
      ]
     },
     "metadata": {},
     "output_type": "display_data"
    },
    {
     "data": {
      "text/markdown": [
       "### The Saint of the Dragon's Dale: A Fantastic Tale"
      ],
      "text/plain": [
       "<IPython.core.display.Markdown object>"
      ]
     },
     "metadata": {},
     "output_type": "display_data"
    },
    {
     "data": {
      "text/markdown": [
       "<small>Davis, William Stearns</small>"
      ],
      "text/plain": [
       "<IPython.core.display.Markdown object>"
      ]
     },
     "metadata": {},
     "output_type": "display_data"
    },
    {
     "data": {
      "text/markdown": [
       "lay on the hole of the asp, and the weaned child shall put his hand on the cockatrice's d **en; they shall not hurt nor destroy in all my holy mountain**.” But Jerome only told himself that Satan could wrest Scripture as fairly as an angel ; then fortified against"
      ],
      "text/plain": [
       "<IPython.core.display.Markdown object>"
      ]
     },
     "metadata": {},
     "output_type": "display_data"
    },
    {
     "name": "stdout",
     "output_type": "stream",
     "text": [
      "--------------------------------------------------\n"
     ]
    },
    {
     "data": {
      "text/markdown": [
       "### King James Bible"
      ],
      "text/plain": [
       "<IPython.core.display.Markdown object>"
      ]
     },
     "metadata": {},
     "output_type": "display_data"
    },
    {
     "data": {
      "text/markdown": [
       "shall not be clear, nor dark: 14:7 But it shall be one day which shall be known to the LORD, not day, nor night: but it **shall come to pass, that at evening time it shall be light**. 14:8 And it shall be in that day, that living waters shall go out from Jerusalem; half of them toward the former sea, and half"
      ],
      "text/plain": [
       "<IPython.core.display.Markdown object>"
      ]
     },
     "metadata": {},
     "output_type": "display_data"
    },
    {
     "data": {
      "text/markdown": [
       "### The Saint of the Dragon's Dale: A Fantastic Tale"
      ],
      "text/plain": [
       "<IPython.core.display.Markdown object>"
      ]
     },
     "metadata": {},
     "output_type": "display_data"
    },
    {
     "data": {
      "text/markdown": [
       "<small>Davis, William Stearns</small>"
      ],
      "text/plain": [
       "<IPython.core.display.Markdown object>"
      ]
     },
     "metadata": {},
     "output_type": "display_data"
    },
    {
     "data": {
      "text/markdown": [
       "airo, — I know them all. I have suf¬ fered and sorrowed, in pain and in darkness, but at the end, at the end, — ” and his face 125 glowed with it sinbom brightness,—“ it s **hall come to pass, that at evening time there shall be light!**” ****** They found him in the morning sleeping. Maid Agnes wept for long. Graf Ludwig was shut within"
      ],
      "text/plain": [
       "<IPython.core.display.Markdown object>"
      ]
     },
     "metadata": {},
     "output_type": "display_data"
    },
    {
     "name": "stdout",
     "output_type": "stream",
     "text": [
      "--------------------------------------------------\n"
     ]
    },
    {
     "data": {
      "text/markdown": [
       "### King James Bible"
      ],
      "text/plain": [
       "<IPython.core.display.Markdown object>"
      ]
     },
     "metadata": {},
     "output_type": "display_data"
    },
    {
     "data": {
      "text/markdown": [
       "O my father. And Esau lifted up his voice, and wept. 27:39 And Isaac his father answered and said unto him, **Behold, thy dwelling shall be the fatness of the earth, and of the dew of heaven from above**; 27:40 And by thy sword shalt thou live, and shalt serve thy brother; and it shall"
      ],
      "text/plain": [
       "<IPython.core.display.Markdown object>"
      ]
     },
     "metadata": {},
     "output_type": "display_data"
    },
    {
     "data": {
      "text/markdown": [
       "### A Sister to Esau: By Amelia E. Barr"
      ],
      "text/plain": [
       "<IPython.core.display.Markdown object>"
      ]
     },
     "metadata": {},
     "output_type": "display_data"
    },
    {
     "data": {
      "text/markdown": [
       "<small>Barr, Amelia E.</small>"
      ],
      "text/plain": [
       "<IPython.core.display.Markdown object>"
      ]
     },
     "metadata": {},
     "output_type": "display_data"
    },
    {
     "data": {
      "text/markdown": [
       "moment or two he looked into her face smiling, and said : “ If you are a sister to Esau, Scotia, you have a very fine inheritance. Here it is promised : **Behold, thy dwelling shall be the fatness of the earth , and of the dew of heaven from above**.\" And Lady Yarrow was silent, but she stooped and kissed Scotia ; and Bruce kissed her ; and Ann kissed"
      ],
      "text/plain": [
       "<IPython.core.display.Markdown object>"
      ]
     },
     "metadata": {},
     "output_type": "display_data"
    },
    {
     "name": "stdout",
     "output_type": "stream",
     "text": [
      "--------------------------------------------------\n"
     ]
    },
    {
     "data": {
      "text/markdown": [
       "### King James Bible"
      ],
      "text/plain": [
       "<IPython.core.display.Markdown object>"
      ]
     },
     "metadata": {},
     "output_type": "display_data"
    },
    {
     "data": {
      "text/markdown": [
       "sons, saying, On this wise ye shall bless the children of Israel, saying unto them, 6:24 The **LORD bless thee, and keep thee: 6:25 The LORD make his face shine upon thee, and be gracious unto thee: 6:26 The LORD lift up his countenance** upon thee, and give thee peace. 6:27 And they shall put my name upon the children of Israel"
      ],
      "text/plain": [
       "<IPython.core.display.Markdown object>"
      ]
     },
     "metadata": {},
     "output_type": "display_data"
    },
    {
     "data": {
      "text/markdown": [
       "### Mag: A Story of To-Day"
      ],
      "text/plain": [
       "<IPython.core.display.Markdown object>"
      ]
     },
     "metadata": {},
     "output_type": "display_data"
    },
    {
     "data": {
      "text/markdown": [
       "<small>None</small>"
      ],
      "text/plain": [
       "<IPython.core.display.Markdown object>"
      ]
     },
     "metadata": {},
     "output_type": "display_data"
    },
    {
     "data": {
      "text/markdown": [
       "rtie continued : “Unto God’s gracious mercy and protection we commit thee. The Lo **rd bless thee, and keep thee; the Lord make his face to shine upon thee, and be gracious unto thee; the Lord lift up his countenance o** n thee, and givo thee peace both now and evermore.” “ Amen !” came from the beds of the sick women ;"
      ],
      "text/plain": [
       "<IPython.core.display.Markdown object>"
      ]
     },
     "metadata": {},
     "output_type": "display_data"
    },
    {
     "name": "stdout",
     "output_type": "stream",
     "text": [
      "--------------------------------------------------\n"
     ]
    },
    {
     "data": {
      "text/markdown": [
       "### King James Bible"
      ],
      "text/plain": [
       "<IPython.core.display.Markdown object>"
      ]
     },
     "metadata": {},
     "output_type": "display_data"
    },
    {
     "data": {
      "text/markdown": [
       "LORD art seen face to face, and that thy cloud standeth over them, and that thou goest before them, by day time in a **pillar of a cloud, and in a pillar of fire by night**. 14:15 Now if thou shalt kill all this people as one man, then the nations which have heard the fame of thee will speak, saying, 14:16 Because the LORD"
      ],
      "text/plain": [
       "<IPython.core.display.Markdown object>"
      ]
     },
     "metadata": {},
     "output_type": "display_data"
    },
    {
     "data": {
      "text/markdown": [
       "### The Battle-Day of Germantown: George Lippard"
      ],
      "text/plain": [
       "<IPython.core.display.Markdown object>"
      ]
     },
     "metadata": {},
     "output_type": "display_data"
    },
    {
     "data": {
      "text/markdown": [
       "<small>Lippard, George</small>"
      ],
      "text/plain": [
       "<IPython.core.display.Markdown object>"
      ]
     },
     "metadata": {},
     "output_type": "display_data"
    },
    {
     "data": {
      "text/markdown": [
       "un¬ sellors, stir them up to greater deeds even than the deeds they have already done, let thy presence be with our host, a pi **llar of cloud by day and a pillar of fire by night.** And at last, when our calling shall have been· fulfilled, when we have done and suffered thy will here below, receive us into the Rest of the Blessed.. So shall i"
      ],
      "text/plain": [
       "<IPython.core.display.Markdown object>"
      ]
     },
     "metadata": {},
     "output_type": "display_data"
    },
    {
     "name": "stdout",
     "output_type": "stream",
     "text": [
      "--------------------------------------------------\n"
     ]
    },
    {
     "data": {
      "text/markdown": [
       "### King James Bible"
      ],
      "text/plain": [
       "<IPython.core.display.Markdown object>"
      ]
     },
     "metadata": {},
     "output_type": "display_data"
    },
    {
     "data": {
      "text/markdown": [
       "sheep's clothing, but inwardly they are ravening wolves. 7:16 Ye shall know them by their fruits. Do men **gather grapes of thorns, or figs of thistles**? 7:17 Even so every good tree bringeth forth good fruit; but a corrupt tree bringeth forth evil fruit"
      ],
      "text/plain": [
       "<IPython.core.display.Markdown object>"
      ]
     },
     "metadata": {},
     "output_type": "display_data"
    },
    {
     "data": {
      "text/markdown": [
       "### Jocelyn West: A Tale of the Grand Canon: By Katharine Sharp"
      ],
      "text/plain": [
       "<IPython.core.display.Markdown object>"
      ]
     },
     "metadata": {},
     "output_type": "display_data"
    },
    {
     "data": {
      "text/markdown": [
       "<small>Sharp, Katharine</small>"
      ],
      "text/plain": [
       "<IPython.core.display.Markdown object>"
      ]
     },
     "metadata": {},
     "output_type": "display_data"
    },
    {
     "data": {
      "text/markdown": [
       "sinister tenor. “An eye for an eye”; “Whatsoever ye sow, the same shall ye reap”; “Can you **gather grapes from thorns or figs from thistles**?” “The wages of sin is death.” The wages of sin is death. He was about to pay that fatal wage. Yet"
      ],
      "text/plain": [
       "<IPython.core.display.Markdown object>"
      ]
     },
     "metadata": {},
     "output_type": "display_data"
    },
    {
     "name": "stdout",
     "output_type": "stream",
     "text": [
      "--------------------------------------------------\n"
     ]
    },
    {
     "data": {
      "text/markdown": [
       "### King James Bible"
      ],
      "text/plain": [
       "<IPython.core.display.Markdown object>"
      ]
     },
     "metadata": {},
     "output_type": "display_data"
    },
    {
     "data": {
      "text/markdown": [
       "thy mother brought thee forth: there she brought thee forth that bare thee. 8:6 **Set me as a seal upon thine heart, as a seal upon thine arm: for love is strong as death**; jealousy is cruel as the grave: the coals thereof are coals of fire, which hath a most vehement flame"
      ],
      "text/plain": [
       "<IPython.core.display.Markdown object>"
      ]
     },
     "metadata": {},
     "output_type": "display_data"
    },
    {
     "data": {
      "text/markdown": [
       "### The Witch of Golgotha: By B. Pesh-Mal-Yan"
      ],
      "text/plain": [
       "<IPython.core.display.Markdown object>"
      ]
     },
     "metadata": {},
     "output_type": "display_data"
    },
    {
     "data": {
      "text/markdown": [
       "<small>Pesh-Mal-Yan, B. (Baruyr)</small>"
      ],
      "text/plain": [
       "<IPython.core.display.Markdown object>"
      ]
     },
     "metadata": {},
     "output_type": "display_data"
    },
    {
     "data": {
      "text/markdown": [
       "sound of a seraph’s harp ; and Hootah, for the first time in his wild life, wept as he lis¬ tened to the words: “ **Set me as a seal upon thine heart, As a seal upon thine arm, For love is strong as death**. Many waters cannot quench love, Neither can the floods drown it. If a man give all his possessions for love, It would be utterly condemned.” “Oh, what a wonderful"
      ],
      "text/plain": [
       "<IPython.core.display.Markdown object>"
      ]
     },
     "metadata": {},
     "output_type": "display_data"
    },
    {
     "name": "stdout",
     "output_type": "stream",
     "text": [
      "--------------------------------------------------\n"
     ]
    },
    {
     "data": {
      "text/markdown": [
       "### King James Bible"
      ],
      "text/plain": [
       "<IPython.core.display.Markdown object>"
      ]
     },
     "metadata": {},
     "output_type": "display_data"
    },
    {
     "data": {
      "text/markdown": [
       "jealousy is cruel as the grave: the coals thereof are coals of fire, which hath a most vehement flame. 8:7 Many **waters cannot quench love, neither can the floods drown** it: if a man would give all the substance of his house for love, it would utterly be contemned. 8:8 We have a little sister, and she hath no breasts: what shall we do for our sister in the day when she shall be spoken"
      ],
      "text/plain": [
       "<IPython.core.display.Markdown object>"
      ]
     },
     "metadata": {},
     "output_type": "display_data"
    },
    {
     "data": {
      "text/markdown": [
       "### The Witch of Golgotha: By B. Pesh-Mal-Yan"
      ],
      "text/plain": [
       "<IPython.core.display.Markdown object>"
      ]
     },
     "metadata": {},
     "output_type": "display_data"
    },
    {
     "data": {
      "text/markdown": [
       "<small>Pesh-Mal-Yan, B. (Baruyr)</small>"
      ],
      "text/plain": [
       "<IPython.core.display.Markdown object>"
      ]
     },
     "metadata": {},
     "output_type": "display_data"
    },
    {
     "data": {
      "text/markdown": [
       "seal upon thine heart, As a seal upon thine arm, For love is strong as death. Many **waters cannot quench love, Neither can the floods drown** it. If a man give all his possessions for love, It would be utterly condemned.” “Oh, what a wonderful voice ! what a beautiful expression of love ! God of Abraham, what a des"
      ],
      "text/plain": [
       "<IPython.core.display.Markdown object>"
      ]
     },
     "metadata": {},
     "output_type": "display_data"
    },
    {
     "name": "stdout",
     "output_type": "stream",
     "text": [
      "--------------------------------------------------\n"
     ]
    },
    {
     "data": {
      "text/markdown": [
       "### King James Bible"
      ],
      "text/plain": [
       "<IPython.core.display.Markdown object>"
      ]
     },
     "metadata": {},
     "output_type": "display_data"
    },
    {
     "data": {
      "text/markdown": [
       "unto them: for your Father knoweth what things ye have need of, before ye ask him. 6:9 After this manner therefore pray ye: Our **Father which art in heaven, Hallowed be thy name. 6:10 Thy kingdom come, Thy** will be done in earth, as it is in heaven. 6:11 Give us this day our daily bread. 6:12 And forgive us our debts, as we forgive our debtors. 6:13 And lead us not into temptation"
      ],
      "text/plain": [
       "<IPython.core.display.Markdown object>"
      ]
     },
     "metadata": {},
     "output_type": "display_data"
    },
    {
     "data": {
      "text/markdown": [
       "### The Witch of Golgotha: By B. Pesh-Mal-Yan"
      ],
      "text/plain": [
       "<IPython.core.display.Markdown object>"
      ]
     },
     "metadata": {},
     "output_type": "display_data"
    },
    {
     "data": {
      "text/markdown": [
       "<small>Pesh-Mal-Yan, B. (Baruyr)</small>"
      ],
      "text/plain": [
       "<IPython.core.display.Markdown object>"
      ]
     },
     "metadata": {},
     "output_type": "display_data"
    },
    {
     "data": {
      "text/markdown": [
       "pray, but what man¬ ner of prayer shall I offer?” “The prayer of the great Prophet,” was the en¬ couraging answer. “And what is it?” “Our **father, who art in Heaven, hallowed be Thy name ; Thy Kingdom come, Thy** will be done !” “That will do for a beginning, I cannot re¬ member more,” protested the giant, thinking that he was losing valuable time, when he might be engaged"
      ],
      "text/plain": [
       "<IPython.core.display.Markdown object>"
      ]
     },
     "metadata": {},
     "output_type": "display_data"
    },
    {
     "name": "stdout",
     "output_type": "stream",
     "text": [
      "--------------------------------------------------\n"
     ]
    },
    {
     "data": {
      "text/markdown": [
       "### King James Bible"
      ],
      "text/plain": [
       "<IPython.core.display.Markdown object>"
      ]
     },
     "metadata": {},
     "output_type": "display_data"
    },
    {
     "data": {
      "text/markdown": [
       "unto him, Lord, teach us to pray, as John also taught his disciples. 11:2 And he said unto them, When ye pray, say, Our **Father which art in heaven, Hallowed be thy name. Thy kingdom come. Thy** will be done, as in heaven, so in earth. 11:3 Give us day by day our daily bread. 11:4 And forgive us our sins; for we also forgive every one that is indebted to us. And lead us not into temptation"
      ],
      "text/plain": [
       "<IPython.core.display.Markdown object>"
      ]
     },
     "metadata": {},
     "output_type": "display_data"
    },
    {
     "data": {
      "text/markdown": [
       "### The Witch of Golgotha: By B. Pesh-Mal-Yan"
      ],
      "text/plain": [
       "<IPython.core.display.Markdown object>"
      ]
     },
     "metadata": {},
     "output_type": "display_data"
    },
    {
     "data": {
      "text/markdown": [
       "<small>Pesh-Mal-Yan, B. (Baruyr)</small>"
      ],
      "text/plain": [
       "<IPython.core.display.Markdown object>"
      ]
     },
     "metadata": {},
     "output_type": "display_data"
    },
    {
     "data": {
      "text/markdown": [
       "spoke of his horse. “Go now, tell Quartus not to lose heart, and be you of good cheer, for I will not fail then he added, “Do you know this prayer, Judas?—Our **father who art in Heaven, hallowed be Thy name: Thy Kingdom come, Thy** will be done,’ do you know this?” “Are you too one of His followers, Ish-Khan Hygazoun?” Judas inquired anxiously, “for that is part of the prayer my Master taught"
      ],
      "text/plain": [
       "<IPython.core.display.Markdown object>"
      ]
     },
     "metadata": {},
     "output_type": "display_data"
    },
    {
     "name": "stdout",
     "output_type": "stream",
     "text": [
      "--------------------------------------------------\n"
     ]
    },
    {
     "data": {
      "text/markdown": [
       "### King James Bible"
      ],
      "text/plain": [
       "<IPython.core.display.Markdown object>"
      ]
     },
     "metadata": {},
     "output_type": "display_data"
    },
    {
     "data": {
      "text/markdown": [
       "prison, and came unto thee? 25:40 And the King shall answer and say unto them, Verily I say unto you, **Inasmuch as ye have done it unto one of the least of these my brethren, ye have done it unto** me. 25:41 Then shall he say also unto them on the left hand, Depart from me, ye cursed, into everlasting fire, prepared"
      ],
      "text/plain": [
       "<IPython.core.display.Markdown object>"
      ]
     },
     "metadata": {},
     "output_type": "display_data"
    },
    {
     "data": {
      "text/markdown": [
       "### Day Dreams: Alice Brooks"
      ],
      "text/plain": [
       "<IPython.core.display.Markdown object>"
      ]
     },
     "metadata": {},
     "output_type": "display_data"
    },
    {
     "data": {
      "text/markdown": [
       "<small>Brooks, Alice</small>"
      ],
      "text/plain": [
       "<IPython.core.display.Markdown object>"
      ]
     },
     "metadata": {},
     "output_type": "display_data"
    },
    {
     "data": {
      "text/markdown": [
       "wretched childhood has· taught them to receive with a more reverent faith the story of Him “ who had not where to lay his head,” and to comprehend the “ **Inasmuch as ye have done it unto the least of these, my brethren, ye have done it unto** me.\" My kind friend Mr. G - still lives. He divides his time between Sophie’s happy"
      ],
      "text/plain": [
       "<IPython.core.display.Markdown object>"
      ]
     },
     "metadata": {},
     "output_type": "display_data"
    },
    {
     "name": "stdout",
     "output_type": "stream",
     "text": [
      "--------------------------------------------------\n"
     ]
    },
    {
     "data": {
      "text/markdown": [
       "### King James Bible"
      ],
      "text/plain": [
       "<IPython.core.display.Markdown object>"
      ]
     },
     "metadata": {},
     "output_type": "display_data"
    },
    {
     "data": {
      "text/markdown": [
       "rise again. 11:24 Martha saith unto him, I know that he shall rise again in the resurrection at the last day. 11:25 Jesus said unto her, I am the resurrection, and the life: he that **believeth in me, though he were dead, yet shall he live: 11:26 And whosoever liveth and believeth in me shall never die**. Believest thou this? 11:27 She saith unto him, Yea, Lord: I believe that thou art the Christ"
      ],
      "text/plain": [
       "<IPython.core.display.Markdown object>"
      ]
     },
     "metadata": {},
     "output_type": "display_data"
    },
    {
     "data": {
      "text/markdown": [
       "### Day Dreams: Alice Brooks"
      ],
      "text/plain": [
       "<IPython.core.display.Markdown object>"
      ]
     },
     "metadata": {},
     "output_type": "display_data"
    },
    {
     "data": {
      "text/markdown": [
       "<small>Brooks, Alice</small>"
      ],
      "text/plain": [
       "<IPython.core.display.Markdown object>"
      ]
     },
     "metadata": {},
     "output_type": "display_data"
    },
    {
     "data": {
      "text/markdown": [
       "fled forever. On my ear fell only the low, solemn chant : “ I am the resurrection and the life, saitli the Lord : he that **believeth in me, though he were dead, yet shall he live; and whosoever liveth and believeth in me shall never die**.” I stood motionless and still till the voice was hushed, and the silence broken only by the sound of low, suppressed"
      ],
      "text/plain": [
       "<IPython.core.display.Markdown object>"
      ]
     },
     "metadata": {},
     "output_type": "display_data"
    },
    {
     "name": "stdout",
     "output_type": "stream",
     "text": [
      "--------------------------------------------------\n"
     ]
    },
    {
     "data": {
      "text/markdown": [
       "### King James Bible"
      ],
      "text/plain": [
       "<IPython.core.display.Markdown object>"
      ]
     },
     "metadata": {},
     "output_type": "display_data"
    },
    {
     "data": {
      "text/markdown": [
       "fire. 7:10 A fiery stream issued and came forth from before him: thousand thousands ministered unto him, and **ten thousand times ten thousand** stood before him: the judgment was set, and the books were opened. 7:11 I beheld then because of the voice of the great words which the horn spake"
      ],
      "text/plain": [
       "<IPython.core.display.Markdown object>"
      ]
     },
     "metadata": {},
     "output_type": "display_data"
    },
    {
     "data": {
      "text/markdown": [
       "### Cassimer Saral: A Tale"
      ],
      "text/plain": [
       "<IPython.core.display.Markdown object>"
      ]
     },
     "metadata": {},
     "output_type": "display_data"
    },
    {
     "data": {
      "text/markdown": [
       "<small>None</small>"
      ],
      "text/plain": [
       "<IPython.core.display.Markdown object>"
      ]
     },
     "metadata": {},
     "output_type": "display_data"
    },
    {
     "data": {
      "text/markdown": [
       "spirits. You look very interesting just at this particular moment, Miss Celestine, with that blooming rose upon your cheek—I would give **ten thousand times ten thousand** worlds for such a heavenly bloom upon my—escutcheon! Ah—and I’ve seen him who would give more than worlds—aye"
      ],
      "text/plain": [
       "<IPython.core.display.Markdown object>"
      ]
     },
     "metadata": {},
     "output_type": "display_data"
    },
    {
     "name": "stdout",
     "output_type": "stream",
     "text": [
      "--------------------------------------------------\n"
     ]
    },
    {
     "data": {
      "text/markdown": [
       "### King James Bible"
      ],
      "text/plain": [
       "<IPython.core.display.Markdown object>"
      ]
     },
     "metadata": {},
     "output_type": "display_data"
    },
    {
     "data": {
      "text/markdown": [
       "earth. 5:11 And I beheld, and I heard the voice of many angels round about the throne and the beasts and the elders: and the number of them was **ten thousand times ten thousand**, and thousands of thousands; 5:12 Saying with a loud voice, Worthy is the Lamb that was slain to receive power"
      ],
      "text/plain": [
       "<IPython.core.display.Markdown object>"
      ]
     },
     "metadata": {},
     "output_type": "display_data"
    },
    {
     "data": {
      "text/markdown": [
       "### Cassimer Saral: A Tale"
      ],
      "text/plain": [
       "<IPython.core.display.Markdown object>"
      ]
     },
     "metadata": {},
     "output_type": "display_data"
    },
    {
     "data": {
      "text/markdown": [
       "<small>None</small>"
      ],
      "text/plain": [
       "<IPython.core.display.Markdown object>"
      ]
     },
     "metadata": {},
     "output_type": "display_data"
    },
    {
     "data": {
      "text/markdown": [
       "the bracing of asses, and worse than all, the crawling of tics, ai.d the dreadful humming of ten t **housand times ten thousand musk** etoes. Alas, thought Boone, 4 what a dark twilight for so bright a daw n ! but down rebellious spirit ; le"
      ],
      "text/plain": [
       "<IPython.core.display.Markdown object>"
      ]
     },
     "metadata": {},
     "output_type": "display_data"
    },
    {
     "name": "stdout",
     "output_type": "stream",
     "text": [
      "--------------------------------------------------\n"
     ]
    },
    {
     "data": {
      "text/markdown": [
       "### King James Bible"
      ],
      "text/plain": [
       "<IPython.core.display.Markdown object>"
      ]
     },
     "metadata": {},
     "output_type": "display_data"
    },
    {
     "data": {
      "text/markdown": [
       "Elim and Sinai, on the fifteenth day of the second month after their departing out of the land of Egypt. 16:2 And the whole congregation of the **children of Israel murmured against Moses** and Aaron in the wilderness: 16:3 And the children of Israel said unto them, Would to God we had died by the hand of the LORD in the land"
      ],
      "text/plain": [
       "<IPython.core.display.Markdown object>"
      ]
     },
     "metadata": {},
     "output_type": "display_data"
    },
    {
     "data": {
      "text/markdown": [
       "### The Wars of Peace: By A. F. Wilson; Illustrated by H. C. Ireland"
      ],
      "text/plain": [
       "<IPython.core.display.Markdown object>"
      ]
     },
     "metadata": {},
     "output_type": "display_data"
    },
    {
     "data": {
      "text/markdown": [
       "<small>Wilson, A. F. (Anne Florence)</small>"
      ],
      "text/plain": [
       "<IPython.core.display.Markdown object>"
      ]
     },
     "metadata": {},
     "output_type": "display_data"
    },
    {
     "data": {
      "text/markdown": [
       "combine would bring fright¬ ful suffering. One has to judge of these things sometimes — even at the risk of misapprehen¬ sion.” г “ The **children of Israel murmured against Moses**, you know,” Burkhardt added quietly. “ I can understand how hard it must be, though of course only partially. One who has had to do with money all one’s"
      ],
      "text/plain": [
       "<IPython.core.display.Markdown object>"
      ]
     },
     "metadata": {},
     "output_type": "display_data"
    },
    {
     "name": "stdout",
     "output_type": "stream",
     "text": [
      "--------------------------------------------------\n"
     ]
    },
    {
     "data": {
      "text/markdown": [
       "### King James Bible"
      ],
      "text/plain": [
       "<IPython.core.display.Markdown object>"
      ]
     },
     "metadata": {},
     "output_type": "display_data"
    },
    {
     "data": {
      "text/markdown": [
       "upon your bed, and be still. Selah. 4:5 Offer the sacrifices of righteousness, and put your trust in the LORD. 4:6 There be many that say, Who will shew us any good? **LORD, lift thou up the light of thy countenance upon** us. 4:7 Thou hast put gladness in my heart, more than in the time that their corn and their wine increased. 4:8 I will both lay me down in peace"
      ],
      "text/plain": [
       "<IPython.core.display.Markdown object>"
      ]
     },
     "metadata": {},
     "output_type": "display_data"
    },
    {
     "data": {
      "text/markdown": [
       "### Hiram Gray: The Rebel Christian: By Jonathan Wood"
      ],
      "text/plain": [
       "<IPython.core.display.Markdown object>"
      ]
     },
     "metadata": {},
     "output_type": "display_data"
    },
    {
     "data": {
      "text/markdown": [
       "<small>Wood, Jon</small>"
      ],
      "text/plain": [
       "<IPython.core.display.Markdown object>"
      ]
     },
     "metadata": {},
     "output_type": "display_data"
    },
    {
     "data": {
      "text/markdown": [
       "lo-ove, There’ll be-e no pa-r-ting there.” CHAPTER II “Who will show us any good? **Lord, lift thou up the light of thy countenance upon** us.”— Psalmist. Religiously, things were getting interesting in the Gray home. We are telling secrets now; but we are relating no new thing. “Is there any¬ thing whereof it may be said, see, this is new?” There were sores"
      ],
      "text/plain": [
       "<IPython.core.display.Markdown object>"
      ]
     },
     "metadata": {},
     "output_type": "display_data"
    },
    {
     "name": "stdout",
     "output_type": "stream",
     "text": [
      "--------------------------------------------------\n"
     ]
    },
    {
     "data": {
      "text/markdown": [
       "### King James Bible"
      ],
      "text/plain": [
       "<IPython.core.display.Markdown object>"
      ]
     },
     "metadata": {},
     "output_type": "display_data"
    },
    {
     "data": {
      "text/markdown": [
       "destroyer. 28:25 He that is of a proud heart stirreth up strife: but he that putteth his trust in the LORD shall be made fat. 28:26 He that **trusteth in his own heart is a fool: but whoso walketh wisely, he shall be delivered**. 28:27 He that giveth unto the poor shall not lack: but he that hideth his eyes shall have many a curse. 28:28 When the wicked"
      ],
      "text/plain": [
       "<IPython.core.display.Markdown object>"
      ]
     },
     "metadata": {},
     "output_type": "display_data"
    },
    {
     "data": {
      "text/markdown": [
       "### Hiram Gray: The Rebel Christian: By Jonathan Wood"
      ],
      "text/plain": [
       "<IPython.core.display.Markdown object>"
      ]
     },
     "metadata": {},
     "output_type": "display_data"
    },
    {
     "data": {
      "text/markdown": [
       "<small>Wood, Jon</small>"
      ],
      "text/plain": [
       "<IPython.core.display.Markdown object>"
      ]
     },
     "metadata": {},
     "output_type": "display_data"
    },
    {
     "data": {
      "text/markdown": [
       "mere form, when in truth it makes no difference how we’re baptized so the heart is right.” “And there you go again with the wrong end first. The heart is not right! ‘He that **trusteth in his own heart is a fool ; but whoso walketh wisely, he shall be delivered**.’ Stop, I tell ye, a-looking at ye heart and look some to ye feet. ‘Walk!’ ‘Walk’ a little, won"
      ],
      "text/plain": [
       "<IPython.core.display.Markdown object>"
      ]
     },
     "metadata": {},
     "output_type": "display_data"
    },
    {
     "name": "stdout",
     "output_type": "stream",
     "text": [
      "--------------------------------------------------\n"
     ]
    },
    {
     "data": {
      "text/markdown": [
       "### King James Bible"
      ],
      "text/plain": [
       "<IPython.core.display.Markdown object>"
      ]
     },
     "metadata": {},
     "output_type": "display_data"
    },
    {
     "data": {
      "text/markdown": [
       "tender plant, and as a root out of a dry ground: he hath no form nor comeliness; and when we shall see him, there is no **beauty that we should desire him. 53:3 He is despised and rejected of men; a man of sorrows, and acquainted with grief: and we hid as it were our faces from him; he was despised, and we esteemed** him not. 53:4 Surely he hath borne our griefs, and carried our sorrows: yet we did esteem him stricken, smitten"
      ],
      "text/plain": [
       "<IPython.core.display.Markdown object>"
      ]
     },
     "metadata": {},
     "output_type": "display_data"
    },
    {
     "data": {
      "text/markdown": [
       "### Hiram Gray: The Rebel Christian: By Jonathan Wood"
      ],
      "text/plain": [
       "<IPython.core.display.Markdown object>"
      ]
     },
     "metadata": {},
     "output_type": "display_data"
    },
    {
     "data": {
      "text/markdown": [
       "<small>Wood, Jon</small>"
      ],
      "text/plain": [
       "<IPython.core.display.Markdown object>"
      ]
     },
     "metadata": {},
     "output_type": "display_data"
    },
    {
     "data": {
      "text/markdown": [
       "knew Him not. He came unto His own, and His own received Him not. He was as a root out of a dry ground. He had no form nor comeliness, and no **beauty that we should desire Him. He is despised and rejected of men; a man of sorrows and acquainted with grief; and we hid as it were our faces from Him; He was despised and we esteemed** Him not. The least?” (Rom. 9:33; Acts 4:11; Mat. 21:33-42.) “Ah me,” said Mr. Gray, sorrowfully. “The ‘least,’ the ‘least"
      ],
      "text/plain": [
       "<IPython.core.display.Markdown object>"
      ]
     },
     "metadata": {},
     "output_type": "display_data"
    },
    {
     "name": "stdout",
     "output_type": "stream",
     "text": [
      "--------------------------------------------------\n"
     ]
    },
    {
     "data": {
      "text/markdown": [
       "### King James Bible"
      ],
      "text/plain": [
       "<IPython.core.display.Markdown object>"
      ]
     },
     "metadata": {},
     "output_type": "display_data"
    },
    {
     "data": {
      "text/markdown": [
       "under sin; 3:10 As it is written, There is none righteous, no, not one: 3:11 There is none that understandeth, there is none that seeketh after God. 3:12 They are all **gone out of the way, they are together become unprofitable; there is none that doeth good, no, not one. 3:13 Their throat is an open** sepulchre; with their tongues they have used deceit; the poison of asps is under their lips: 3:14 Whose mouth is full"
      ],
      "text/plain": [
       "<IPython.core.display.Markdown object>"
      ]
     },
     "metadata": {},
     "output_type": "display_data"
    },
    {
     "data": {
      "text/markdown": [
       "### Hiram Gray: The Rebel Christian: By Jonathan Wood"
      ],
      "text/plain": [
       "<IPython.core.display.Markdown object>"
      ]
     },
     "metadata": {},
     "output_type": "display_data"
    },
    {
     "data": {
      "text/markdown": [
       "<small>Wood, Jon</small>"
      ],
      "text/plain": [
       "<IPython.core.display.Markdown object>"
      ]
     },
     "metadata": {},
     "output_type": "display_data"
    },
    {
     "data": {
      "text/markdown": [
       "self-love and blind self adulation, and look upon the thing in its uncovered and purely natural state, this is what ye see. ‘They have all **gone out of the way, they are together become unprofitable, there is none that doeth good, no not one. Their throat is an open** sepulcher; with their tongues they have used de¬ ceit; the poison of asps is under their lips; whose mouth"
      ],
      "text/plain": [
       "<IPython.core.display.Markdown object>"
      ]
     },
     "metadata": {},
     "output_type": "display_data"
    },
    {
     "name": "stdout",
     "output_type": "stream",
     "text": [
      "--------------------------------------------------\n"
     ]
    },
    {
     "data": {
      "text/markdown": [
       "### King James Bible"
      ],
      "text/plain": [
       "<IPython.core.display.Markdown object>"
      ]
     },
     "metadata": {},
     "output_type": "display_data"
    },
    {
     "data": {
      "text/markdown": [
       "together become unprofitable; there is none that doeth good, no, not one. 3:13 Their throat is an open sepulchre; with their tongues they have used deceit; the **poison of asps is under their lips: 3:14 Whose mouth is full of cursing and bitterness: 3:15 Their feet are swift to shed blood: 3:16 Destruction and misery are in their ways: 3:17 And the way of peace have they not known: 3:18 There is no fear of God before their eyes**. 3:19 Now we know that what things soever the law saith, it saith to them who are under the law: that every mouth may be stopped, and all the world may become guilty"
      ],
      "text/plain": [
       "<IPython.core.display.Markdown object>"
      ]
     },
     "metadata": {},
     "output_type": "display_data"
    },
    {
     "data": {
      "text/markdown": [
       "### Hiram Gray: The Rebel Christian: By Jonathan Wood"
      ],
      "text/plain": [
       "<IPython.core.display.Markdown object>"
      ]
     },
     "metadata": {},
     "output_type": "display_data"
    },
    {
     "data": {
      "text/markdown": [
       "<small>Wood, Jon</small>"
      ],
      "text/plain": [
       "<IPython.core.display.Markdown object>"
      ]
     },
     "metadata": {},
     "output_type": "display_data"
    },
    {
     "data": {
      "text/markdown": [
       "become unprofitable, there is none that doeth good, no not one. Their throat is an open sepulcher; with their tongues they have used de¬ ceit; the **poison of asps is under their lips; whose mouth is full of cursing and bitterness. Their feet are swift to shed blood. Destruction and misery are in their ways ; and the way of peace have they not known; there is no fear of God before their eyes**.’ ” (Rom. 3.12-18.) ‘ ‘ But, environment, man, early and proper train¬ ing, will entirely offset such conditions. Besides"
      ],
      "text/plain": [
       "<IPython.core.display.Markdown object>"
      ]
     },
     "metadata": {},
     "output_type": "display_data"
    },
    {
     "name": "stdout",
     "output_type": "stream",
     "text": [
      "--------------------------------------------------\n"
     ]
    },
    {
     "data": {
      "text/markdown": [
       "### King James Bible"
      ],
      "text/plain": [
       "<IPython.core.display.Markdown object>"
      ]
     },
     "metadata": {},
     "output_type": "display_data"
    },
    {
     "data": {
      "text/markdown": [
       "therefore it was imputed to him for righteousness. 4:23 Now it was not written for his sake alone, that it was imputed to him; 4:24 But for us also, to whom it shall be imputed, if we **believe on him that raised up Jesus our Lord from the dead; 4:25 Who was delivered for our offences, and was raised again for our justification**. 5:1 Therefore being justified by faith, we have peace with God through our Lord Jesus Christ: 5:2 By whom also we have access"
      ],
      "text/plain": [
       "<IPython.core.display.Markdown object>"
      ]
     },
     "metadata": {},
     "output_type": "display_data"
    },
    {
     "data": {
      "text/markdown": [
       "### Hiram Gray: The Rebel Christian: By Jonathan Wood"
      ],
      "text/plain": [
       "<IPython.core.display.Markdown object>"
      ]
     },
     "metadata": {},
     "output_type": "display_data"
    },
    {
     "data": {
      "text/markdown": [
       "<small>Wood, Jon</small>"
      ],
      "text/plain": [
       "<IPython.core.display.Markdown object>"
      ]
     },
     "metadata": {},
     "output_type": "display_data"
    },
    {
     "data": {
      "text/markdown": [
       "met in Him. In Jesus, ‘mercy and truth are met together; righteousness and peace have kissed each other.’ We **believe in ‘Him that raised up Jesus our Lord from the dead; who was delivered for our offences and raised again for our justification**.’ He is our souls’ whole trust; and believing and trusting in Him we shall endeavor like living men to obediently"
      ],
      "text/plain": [
       "<IPython.core.display.Markdown object>"
      ]
     },
     "metadata": {},
     "output_type": "display_data"
    },
    {
     "name": "stdout",
     "output_type": "stream",
     "text": [
      "--------------------------------------------------\n"
     ]
    },
    {
     "data": {
      "text/markdown": [
       "### King James Bible"
      ],
      "text/plain": [
       "<IPython.core.display.Markdown object>"
      ]
     },
     "metadata": {},
     "output_type": "display_data"
    },
    {
     "data": {
      "text/markdown": [
       "begotten of God keepeth himself, and that wicked one toucheth him not. 5:19 And we know that we are of God, and the whole world lieth in wickedness. 5:20 And we know that the **Son of God is come, and hath given us an understanding, that we may know him that is true, and we are in him that is true, even in his Son Jesus Christ. This is the true God**, and eternal life. 5:21 Little children, keep yourselves from idols. Amen. The Second Epistle General of John 1:1 The elder"
      ],
      "text/plain": [
       "<IPython.core.display.Markdown object>"
      ]
     },
     "metadata": {},
     "output_type": "display_data"
    },
    {
     "data": {
      "text/markdown": [
       "### Hiram Gray: The Rebel Christian: By Jonathan Wood"
      ],
      "text/plain": [
       "<IPython.core.display.Markdown object>"
      ]
     },
     "metadata": {},
     "output_type": "display_data"
    },
    {
     "data": {
      "text/markdown": [
       "<small>Wood, Jon</small>"
      ],
      "text/plain": [
       "<IPython.core.display.Markdown object>"
      ]
     },
     "metadata": {},
     "output_type": "display_data"
    },
    {
     "data": {
      "text/markdown": [
       "open the Book and read? Man? ‘He’s a lie!’ ‘We don’t know!’ We do know! ‘We know that the whole world lieth in the wicked one.’ ‘And we know that the **Son of God is come ; and hath given us understanding, that we may know Him that is true, and we are in Him that is true, even in His Son, Jesus Christ. This is the true God** and eter¬ nal life. And hereby we do know that we know Him, if we keep His commandments.’ ‘He that saith, I know Him, and keepeth not His command¬ ments, is a liar, and the truth"
      ],
      "text/plain": [
       "<IPython.core.display.Markdown object>"
      ]
     },
     "metadata": {},
     "output_type": "display_data"
    },
    {
     "name": "stdout",
     "output_type": "stream",
     "text": [
      "--------------------------------------------------\n"
     ]
    },
    {
     "data": {
      "text/markdown": [
       "### King James Bible"
      ],
      "text/plain": [
       "<IPython.core.display.Markdown object>"
      ]
     },
     "metadata": {},
     "output_type": "display_data"
    },
    {
     "data": {
      "text/markdown": [
       "himself shall be with them, and be their God. 21:4 And God shall wipe away all tears from their eyes; and there shall be no more death, **neither sorrow, nor crying, neither shall there be any more pain: for the former things are passed** away. 21:5 And he that sat upon the throne said, Behold, I make all things new. And he said unto me, Write: for these words are true and faithful. 21:6 And he said unto"
      ],
      "text/plain": [
       "<IPython.core.display.Markdown object>"
      ]
     },
     "metadata": {},
     "output_type": "display_data"
    },
    {
     "data": {
      "text/markdown": [
       "### Hiram Gray: The Rebel Christian: By Jonathan Wood"
      ],
      "text/plain": [
       "<IPython.core.display.Markdown object>"
      ]
     },
     "metadata": {},
     "output_type": "display_data"
    },
    {
     "data": {
      "text/markdown": [
       "<small>Wood, Jon</small>"
      ],
      "text/plain": [
       "<IPython.core.display.Markdown object>"
      ]
     },
     "metadata": {},
     "output_type": "display_data"
    },
    {
     "data": {
      "text/markdown": [
       "whose face the heaven and the earth fled away, and casts her crown at His feet. “And there shall be no night there. **Neither sorrow, nor crying, neither shall there be any more pain ; for the former things have passed**"
      ],
      "text/plain": [
       "<IPython.core.display.Markdown object>"
      ]
     },
     "metadata": {},
     "output_type": "display_data"
    },
    {
     "name": "stdout",
     "output_type": "stream",
     "text": [
      "--------------------------------------------------\n"
     ]
    },
    {
     "data": {
      "text/markdown": [
       "### King James Bible"
      ],
      "text/plain": [
       "<IPython.core.display.Markdown object>"
      ]
     },
     "metadata": {},
     "output_type": "display_data"
    },
    {
     "data": {
      "text/markdown": [
       "mountains, and for the precious things of the lasting hills, 33:16 And for the precious things of the earth and fulness thereof, and for the good will of him that dwelt in the bush: let the **blessing come upon the head of Joseph, and upon the top of the head of him that was separated from his brethren**. 33:17 His glory is like the firstling of his bullock, and his horns are like the horns of unicorns: with them he shall push the people together to the ends"
      ],
      "text/plain": [
       "<IPython.core.display.Markdown object>"
      ]
     },
     "metadata": {},
     "output_type": "display_data"
    },
    {
     "data": {
      "text/markdown": [
       "### Chronicles of a Kentucky Settlement: By William Courtney Watts …"
      ],
      "text/plain": [
       "<IPython.core.display.Markdown object>"
      ]
     },
     "metadata": {},
     "output_type": "display_data"
    },
    {
     "data": {
      "text/markdown": [
       "<small>Watts, William Courtney</small>"
      ],
      "text/plain": [
       "<IPython.core.display.Markdown object>"
      ]
     },
     "metadata": {},
     "output_type": "display_data"
    },
    {
     "data": {
      "text/markdown": [
       "ow, and this hand shall soon be mine.” And in a calm, low tone she reverently replied : “ ‘ Let the bles **sing come upon the head of Joseph, and upon the top of the head of him that was separated from his brethren ’ ;** to whom has come, not his breth¬ ren but the widow and children of his lost brother, and to whom is yet to come an aged fat"
      ],
      "text/plain": [
       "<IPython.core.display.Markdown object>"
      ]
     },
     "metadata": {},
     "output_type": "display_data"
    },
    {
     "name": "stdout",
     "output_type": "stream",
     "text": [
      "--------------------------------------------------\n"
     ]
    },
    {
     "data": {
      "text/markdown": [
       "### King James Bible"
      ],
      "text/plain": [
       "<IPython.core.display.Markdown object>"
      ]
     },
     "metadata": {},
     "output_type": "display_data"
    },
    {
     "data": {
      "text/markdown": [
       "carry her afar off to sojourn. 23:8 Who hath taken this counsel against Tyre, the crowning city, **whose merchants are princes, whose traffickers** are the honourable of the earth? 23:9 The LORD of hosts hath purposed it, to stain the pride of all glory, and to bring"
      ],
      "text/plain": [
       "<IPython.core.display.Markdown object>"
      ]
     },
     "metadata": {},
     "output_type": "display_data"
    },
    {
     "data": {
      "text/markdown": [
       "### Athonia, or, the Original Four Hundred: By H. George Schuette"
      ],
      "text/plain": [
       "<IPython.core.display.Markdown object>"
      ]
     },
     "metadata": {},
     "output_type": "display_data"
    },
    {
     "data": {
      "text/markdown": [
       "<small>Schuette, H. George</small>"
      ],
      "text/plain": [
       "<IPython.core.display.Markdown object>"
      ]
     },
     "metadata": {},
     "output_type": "display_data"
    },
    {
     "data": {
      "text/markdown": [
       "s in war. For,’ they say, ‘perceive ye not the Phoenician merchant cities of Tyre and Sidon —cities whose **merchants are princes and whose traffickers are** the honorable of the earth?’ Our large ship is a merchant sample ship carrying only several of each kind"
      ],
      "text/plain": [
       "<IPython.core.display.Markdown object>"
      ]
     },
     "metadata": {},
     "output_type": "display_data"
    },
    {
     "name": "stdout",
     "output_type": "stream",
     "text": [
      "--------------------------------------------------\n"
     ]
    },
    {
     "data": {
      "text/markdown": [
       "### King James Bible"
      ],
      "text/plain": [
       "<IPython.core.display.Markdown object>"
      ]
     },
     "metadata": {},
     "output_type": "display_data"
    },
    {
     "data": {
      "text/markdown": [
       "name. 18:50 Great deliverance giveth he to his king; and sheweth mercy to his anointed, to David, and to his seed for evermore. 19:1 The **heavens declare the glory of God; and the firmament sheweth** his handywork. 19:2 Day unto day uttereth speech, and night unto night sheweth knowledge. 19:3 There is no speech"
      ],
      "text/plain": [
       "<IPython.core.display.Markdown object>"
      ]
     },
     "metadata": {},
     "output_type": "display_data"
    },
    {
     "data": {
      "text/markdown": [
       "### Sic Vita Est: [A Novel] = (Such Is Life): By Sue Froman Matthews …"
      ],
      "text/plain": [
       "<IPython.core.display.Markdown object>"
      ]
     },
     "metadata": {},
     "output_type": "display_data"
    },
    {
     "data": {
      "text/markdown": [
       "<small>Matthews, Sue Froman</small>"
      ],
      "text/plain": [
       "<IPython.core.display.Markdown object>"
      ]
     },
     "metadata": {},
     "output_type": "display_data"
    },
    {
     "data": {
      "text/markdown": [
       "reading to a select company. The beautiful words of the nineteenth Psalm fell from her ruby lips : “ The **heavens declare the glory of God ; and the firmament sheweth** His handiwork. Day unto day uttereth speech, and night unto night sheweth knowledge. * * * ” The girls"
      ],
      "text/plain": [
       "<IPython.core.display.Markdown object>"
      ]
     },
     "metadata": {},
     "output_type": "display_data"
    },
    {
     "name": "stdout",
     "output_type": "stream",
     "text": [
      "--------------------------------------------------\n"
     ]
    },
    {
     "data": {
      "text/markdown": [
       "### King James Bible"
      ],
      "text/plain": [
       "<IPython.core.display.Markdown object>"
      ]
     },
     "metadata": {},
     "output_type": "display_data"
    },
    {
     "data": {
      "text/markdown": [
       "David, and to his seed for evermore. 19:1 The heavens declare the glory of God; and the firmament sheweth his handywork. 19:2 Day **unto day uttereth speech, and night unto night sheweth knowledge**. 19:3 There is no speech nor language, where their voice is not heard. 19:4 Their line is gone out through all the earth, and their words to the end of the world. In them hath"
      ],
      "text/plain": [
       "<IPython.core.display.Markdown object>"
      ]
     },
     "metadata": {},
     "output_type": "display_data"
    },
    {
     "data": {
      "text/markdown": [
       "### Sic Vita Est: [A Novel] = (Such Is Life): By Sue Froman Matthews …"
      ],
      "text/plain": [
       "<IPython.core.display.Markdown object>"
      ]
     },
     "metadata": {},
     "output_type": "display_data"
    },
    {
     "data": {
      "text/markdown": [
       "<small>Matthews, Sue Froman</small>"
      ],
      "text/plain": [
       "<IPython.core.display.Markdown object>"
      ]
     },
     "metadata": {},
     "output_type": "display_data"
    },
    {
     "data": {
      "text/markdown": [
       "fell from her ruby lips : “ The heavens declare the glory of God ; and the firmament sheweth His handiwork. Day **unto day uttereth speech, and night unto night sheweth knowledge**. * * * ” The girls were lost in wonder and admiration. The greatness of the Creator and the splendor of his creation seemed to open"
      ],
      "text/plain": [
       "<IPython.core.display.Markdown object>"
      ]
     },
     "metadata": {},
     "output_type": "display_data"
    },
    {
     "name": "stdout",
     "output_type": "stream",
     "text": [
      "--------------------------------------------------\n"
     ]
    },
    {
     "data": {
      "text/markdown": [
       "### King James Bible"
      ],
      "text/plain": [
       "<IPython.core.display.Markdown object>"
      ]
     },
     "metadata": {},
     "output_type": "display_data"
    },
    {
     "data": {
      "text/markdown": [
       "forget thy word. 119:17 Deal bountifully with thy servant, that I may live, and keep thy word. 119:18 **Open thou mine eyes, that I may behold** wondrous things out of thy law. 119:19 I am a stranger in the earth: hide not thy commandments from me. 119:20 My soul breaketh"
      ],
      "text/plain": [
       "<IPython.core.display.Markdown object>"
      ]
     },
     "metadata": {},
     "output_type": "display_data"
    },
    {
     "data": {
      "text/markdown": [
       "### Sic Vita Est: [A Novel] = (Such Is Life): By Sue Froman Matthews …"
      ],
      "text/plain": [
       "<IPython.core.display.Markdown object>"
      ]
     },
     "metadata": {},
     "output_type": "display_data"
    },
    {
     "data": {
      "text/markdown": [
       "<small>Matthews, Sue Froman</small>"
      ],
      "text/plain": [
       "<IPython.core.display.Markdown object>"
      ]
     },
     "metadata": {},
     "output_type": "display_data"
    },
    {
     "data": {
      "text/markdown": [
       "began by asking: “In the study of our Bihle, how should we pray ? Ps. cxix. 18.” Muriel Rananaugh read : “ **Open thou mine eyes, that I may behold** won- derous things out of thy law.” Marguerite continued, “ If we study the Bible thus, what will be the result"
      ],
      "text/plain": [
       "<IPython.core.display.Markdown object>"
      ]
     },
     "metadata": {},
     "output_type": "display_data"
    },
    {
     "name": "stdout",
     "output_type": "stream",
     "text": [
      "--------------------------------------------------\n"
     ]
    },
    {
     "data": {
      "text/markdown": [
       "### King James Bible"
      ],
      "text/plain": [
       "<IPython.core.display.Markdown object>"
      ]
     },
     "metadata": {},
     "output_type": "display_data"
    },
    {
     "data": {
      "text/markdown": [
       "depart from evil. 3:8 It shall be health to thy navel, and marrow to thy bones. 3:9 Honour the **LORD with thy substance, and with the firstfruits of all thine increase**: 3:10 So shall thy barns be filled with plenty, and thy presses shall burst out with new wine"
      ],
      "text/plain": [
       "<IPython.core.display.Markdown object>"
      ]
     },
     "metadata": {},
     "output_type": "display_data"
    },
    {
     "data": {
      "text/markdown": [
       "### Sic Vita Est: [A Novel] = (Such Is Life): By Sue Froman Matthews …"
      ],
      "text/plain": [
       "<IPython.core.display.Markdown object>"
      ]
     },
     "metadata": {},
     "output_type": "display_data"
    },
    {
     "data": {
      "text/markdown": [
       "<small>Matthews, Sue Froman</small>"
      ],
      "text/plain": [
       "<IPython.core.display.Markdown object>"
      ]
     },
     "metadata": {},
     "output_type": "display_data"
    },
    {
     "data": {
      "text/markdown": [
       "God will come * * * with a recom¬ pense. He will come and save you.” “ How should we honor Him for this great kind¬ ness to us ? Prov. iii. 9.” “ Honor the **Lord with thy substance, and with the firstfruits of all thine increase**.” “ Then how will He continue I lis blessings ? Prov. iii. io.” The answer came, “ So shall thy"
      ],
      "text/plain": [
       "<IPython.core.display.Markdown object>"
      ]
     },
     "metadata": {},
     "output_type": "display_data"
    },
    {
     "name": "stdout",
     "output_type": "stream",
     "text": [
      "--------------------------------------------------\n"
     ]
    },
    {
     "data": {
      "text/markdown": [
       "### King James Bible"
      ],
      "text/plain": [
       "<IPython.core.display.Markdown object>"
      ]
     },
     "metadata": {},
     "output_type": "display_data"
    },
    {
     "data": {
      "text/markdown": [
       "marrow to thy bones. 3:9 Honour the LORD with thy substance, and with the firstfruits of all thine increase: 3:10 So **shall thy barns be filled with plenty**, and thy presses shall burst out with new wine. 3:11 My son, despise not the chastening of the LORD; neither"
      ],
      "text/plain": [
       "<IPython.core.display.Markdown object>"
      ]
     },
     "metadata": {},
     "output_type": "display_data"
    },
    {
     "data": {
      "text/markdown": [
       "### Sic Vita Est: [A Novel] = (Such Is Life): By Sue Froman Matthews …"
      ],
      "text/plain": [
       "<IPython.core.display.Markdown object>"
      ]
     },
     "metadata": {},
     "output_type": "display_data"
    },
    {
     "data": {
      "text/markdown": [
       "<small>Matthews, Sue Froman</small>"
      ],
      "text/plain": [
       "<IPython.core.display.Markdown object>"
      ]
     },
     "metadata": {},
     "output_type": "display_data"
    },
    {
     "data": {
      "text/markdown": [
       "thine increase.” “ Then how will He continue I lis blessings ? Prov. iii. io.” The answer came, “ So **shall thy barns be filled with plenty**.” “ What does the Saviour say in regard to giving ? Acts. XX. 35,” asked the leader. Miss Steele replied"
      ],
      "text/plain": [
       "<IPython.core.display.Markdown object>"
      ]
     },
     "metadata": {},
     "output_type": "display_data"
    },
    {
     "name": "stdout",
     "output_type": "stream",
     "text": [
      "--------------------------------------------------\n"
     ]
    },
    {
     "data": {
      "text/markdown": [
       "### King James Bible"
      ],
      "text/plain": [
       "<IPython.core.display.Markdown object>"
      ]
     },
     "metadata": {},
     "output_type": "display_data"
    },
    {
     "data": {
      "text/markdown": [
       "suffer hunger. 19:16 He that keepeth the commandment keepeth his own soul; but he that despiseth his ways shall die. 19:17 He that **hath pity upon the poor lendeth unto the LORD; and that which he hath given will he pay** him again. 19:18 Chasten thy son while there is hope, and let not thy soul spare for his crying. 19:19 A man of great wrath"
      ],
      "text/plain": [
       "<IPython.core.display.Markdown object>"
      ]
     },
     "metadata": {},
     "output_type": "display_data"
    },
    {
     "data": {
      "text/markdown": [
       "### Sic Vita Est: [A Novel] = (Such Is Life): By Sue Froman Matthews …"
      ],
      "text/plain": [
       "<IPython.core.display.Markdown object>"
      ]
     },
     "metadata": {},
     "output_type": "display_data"
    },
    {
     "data": {
      "text/markdown": [
       "<small>Matthews, Sue Froman</small>"
      ],
      "text/plain": [
       "<IPython.core.display.Markdown object>"
      ]
     },
     "metadata": {},
     "output_type": "display_data"
    },
    {
     "data": {
      "text/markdown": [
       "deviseth liberal things, and by lib¬ eral things shall he stand.” “ What is said of him who pitieth the poor ? Prov. xix. 17.” “He that **hath pity upon the poor lendeth unto the Lord ; and that which he hath given will He pay** him again.” “ From whom does God accept offerings ? Ex. XXV. 2.” \"Of every man that giveth willingly with his heart ye"
      ],
      "text/plain": [
       "<IPython.core.display.Markdown object>"
      ]
     },
     "metadata": {},
     "output_type": "display_data"
    },
    {
     "name": "stdout",
     "output_type": "stream",
     "text": [
      "--------------------------------------------------\n"
     ]
    },
    {
     "data": {
      "text/markdown": [
       "### King James Bible"
      ],
      "text/plain": [
       "<IPython.core.display.Markdown object>"
      ]
     },
     "metadata": {},
     "output_type": "display_data"
    },
    {
     "data": {
      "text/markdown": [
       "tried stone, a precious corner stone, a sure foundation: he that believeth shall not make haste. 28:17 **Judgment also will I lay to the line, and righteousness to the plummet**: and the hail shall sweep away the refuge of lies, and the waters shall overflow the hiding place. 28:18 And your covenant"
      ],
      "text/plain": [
       "<IPython.core.display.Markdown object>"
      ]
     },
     "metadata": {},
     "output_type": "display_data"
    },
    {
     "data": {
      "text/markdown": [
       "### Sic Vita Est: [A Novel] = (Such Is Life): By Sue Froman Matthews …"
      ],
      "text/plain": [
       "<IPython.core.display.Markdown object>"
      ]
     },
     "metadata": {},
     "output_type": "display_data"
    },
    {
     "data": {
      "text/markdown": [
       "<small>Matthews, Sue Froman</small>"
      ],
      "text/plain": [
       "<IPython.core.display.Markdown object>"
      ]
     },
     "metadata": {},
     "output_type": "display_data"
    },
    {
     "data": {
      "text/markdown": [
       "fruit. They are lessons for our learning. The God of Amos is our God ; ‘the same yesterday, to-day and forever.’ ‘ Behold I change not. **Judgment will I lay to the line, and righteousness to the plummet**.’ “ This lesson may be easily learned and it is awful in its solemn import. The righteousness of our God is concerned as well in the punishment"
      ],
      "text/plain": [
       "<IPython.core.display.Markdown object>"
      ]
     },
     "metadata": {},
     "output_type": "display_data"
    },
    {
     "name": "stdout",
     "output_type": "stream",
     "text": [
      "--------------------------------------------------\n"
     ]
    },
    {
     "data": {
      "text/markdown": [
       "### King James Bible"
      ],
      "text/plain": [
       "<IPython.core.display.Markdown object>"
      ]
     },
     "metadata": {},
     "output_type": "display_data"
    },
    {
     "data": {
      "text/markdown": [
       "LORD search the heart, I try the reins, even to give every man according to his ways, and according to the fruit of his doings. 17:11 As the **partridge sitteth on eggs, and hatcheth them not; so he that getteth riches, and not by right, shall leave them in the midst of his days, and at his end shall be a fool**. 17:12 A glorious high throne from the beginning is the place of our sanctuary. 17:13 O LORD, the hope of Israel, all that forsake thee"
      ],
      "text/plain": [
       "<IPython.core.display.Markdown object>"
      ]
     },
     "metadata": {},
     "output_type": "display_data"
    },
    {
     "data": {
      "text/markdown": [
       "### Sic Vita Est: [A Novel] = (Such Is Life): By Sue Froman Matthews …"
      ],
      "text/plain": [
       "<IPython.core.display.Markdown object>"
      ]
     },
     "metadata": {},
     "output_type": "display_data"
    },
    {
     "data": {
      "text/markdown": [
       "<small>Matthews, Sue Froman</small>"
      ],
      "text/plain": [
       "<IPython.core.display.Markdown object>"
      ]
     },
     "metadata": {},
     "output_type": "display_data"
    },
    {
     "data": {
      "text/markdown": [
       "bird’s nest,” said Myrtle. “ They do not hatch their eggs half the time,” said Sidney Oveçton. ‘“As a **partridge sitteth on eggs and hatcheth them not, so is he that getteth riches and not by right ; he shall leave them in the midst of his days, and at his end shall be a fool**,’ ” quoted Myrtle. “ What !” said Sidney Overton, stopping suddenly in the walk which they had resumed, and causing the couple"
      ],
      "text/plain": [
       "<IPython.core.display.Markdown object>"
      ]
     },
     "metadata": {},
     "output_type": "display_data"
    },
    {
     "name": "stdout",
     "output_type": "stream",
     "text": [
      "--------------------------------------------------\n"
     ]
    },
    {
     "data": {
      "text/markdown": [
       "### King James Bible"
      ],
      "text/plain": [
       "<IPython.core.display.Markdown object>"
      ]
     },
     "metadata": {},
     "output_type": "display_data"
    },
    {
     "data": {
      "text/markdown": [
       "Father feedeth them. Are ye not much better than they? 6:27 Which of you by taking thought can add one cubit unto his stature? 6:28 And why take ye thought for raiment? **Consider the lilies of the field, how they grow; they toil not, neither do they spin: 6:29 And yet I say unto you, That even Solomon in all his glory was not arrayed** like one of these. 6:30 Wherefore, if God so clothe the grass of the field, which to day is, and to morrow is cast into the oven, shall he not much more clothe"
      ],
      "text/plain": [
       "<IPython.core.display.Markdown object>"
      ]
     },
     "metadata": {},
     "output_type": "display_data"
    },
    {
     "data": {
      "text/markdown": [
       "### Sic Vita Est: [A Novel] = (Such Is Life): By Sue Froman Matthews …"
      ],
      "text/plain": [
       "<IPython.core.display.Markdown object>"
      ]
     },
     "metadata": {},
     "output_type": "display_data"
    },
    {
     "data": {
      "text/markdown": [
       "<small>Matthews, Sue Froman</small>"
      ],
      "text/plain": [
       "<IPython.core.display.Markdown object>"
      ]
     },
     "metadata": {},
     "output_type": "display_data"
    },
    {
     "data": {
      "text/markdown": [
       "heart tears of the dew, Tell your lover’s always true. “ Good again,” said Sidney'. “ See this handsome dish of lilies ?” “ **Consider the lilies of the field, how they grow ; they toil not neither do they spin ; and yet I say unto you, that even Solomon in all his glory was not arrayed** like one of these,” came Myrtle’s prompt quotation. Sidney Overton dropped his head till"
      ],
      "text/plain": [
       "<IPython.core.display.Markdown object>"
      ]
     },
     "metadata": {},
     "output_type": "display_data"
    },
    {
     "name": "stdout",
     "output_type": "stream",
     "text": [
      "--------------------------------------------------\n"
     ]
    },
    {
     "data": {
      "text/markdown": [
       "### King James Bible"
      ],
      "text/plain": [
       "<IPython.core.display.Markdown object>"
      ]
     },
     "metadata": {},
     "output_type": "display_data"
    },
    {
     "data": {
      "text/markdown": [
       "ye not unwise, but understanding what the will of the Lord is. 5:18 And be not drunk with wine, wherein is excess; but be filled with the Spirit; 5:19 **Speaking to yourselves in psalms and hymns and spiritual songs, singing and making melody** in your heart to the Lord; 5:20 Giving thanks always for all things unto God and the Father in the name of our Lord Jesus"
      ],
      "text/plain": [
       "<IPython.core.display.Markdown object>"
      ]
     },
     "metadata": {},
     "output_type": "display_data"
    },
    {
     "data": {
      "text/markdown": [
       "### Sic Vita Est: [A Novel] = (Such Is Life): By Sue Froman Matthews …"
      ],
      "text/plain": [
       "<IPython.core.display.Markdown object>"
      ]
     },
     "metadata": {},
     "output_type": "display_data"
    },
    {
     "data": {
      "text/markdown": [
       "<small>Matthews, Sue Froman</small>"
      ],
      "text/plain": [
       "<IPython.core.display.Markdown object>"
      ]
     },
     "metadata": {},
     "output_type": "display_data"
    },
    {
     "data": {
      "text/markdown": [
       "hearts beat respon- sive to the words, “ I know that my Redeemer liveth.” Myrtle said softly to her companion. “ **Speaking to yourselves in psalms and hymns and spiritual songs, singing and making melody** in your hearts.” He quietly took an ivory tablet from his vest pocket and added Music to the other two words"
      ],
      "text/plain": [
       "<IPython.core.display.Markdown object>"
      ]
     },
     "metadata": {},
     "output_type": "display_data"
    },
    {
     "name": "stdout",
     "output_type": "stream",
     "text": [
      "--------------------------------------------------\n"
     ]
    },
    {
     "data": {
      "text/markdown": [
       "### King James Bible"
      ],
      "text/plain": [
       "<IPython.core.display.Markdown object>"
      ]
     },
     "metadata": {},
     "output_type": "display_data"
    },
    {
     "data": {
      "text/markdown": [
       "heaven; the earth feared, and was still, 76:9 When God arose to judgment, to save all the meek of the earth. Selah. 76:10 **Surely the wrath of man shall praise thee**: the remainder of wrath shalt thou restrain. 76:11 Vow, and pay unto the LORD your God"
      ],
      "text/plain": [
       "<IPython.core.display.Markdown object>"
      ]
     },
     "metadata": {},
     "output_type": "display_data"
    },
    {
     "data": {
      "text/markdown": [
       "### The Son of Royal Langbrith: A Novel: By W. D. Howells"
      ],
      "text/plain": [
       "<IPython.core.display.Markdown object>"
      ]
     },
     "metadata": {},
     "output_type": "display_data"
    },
    {
     "data": {
      "text/markdown": [
       "<small>Howells, William Dean</small>"
      ],
      "text/plain": [
       "<IPython.core.display.Markdown object>"
      ]
     },
     "metadata": {},
     "output_type": "display_data"
    },
    {
     "data": {
      "text/markdown": [
       "differ¬ ence about — the business, and I am afraid I — I affronted him; and—and he told me.” “In anger?” “Yes, in anger.” 350 The rector thought how it was written, “ **Surely the wrath of man shall praise Thee**.” It seemed to him that the Divine Providence had not acted in¬ opportunely; and he was contented with the mode in which the young man had learned the worst"
      ],
      "text/plain": [
       "<IPython.core.display.Markdown object>"
      ]
     },
     "metadata": {},
     "output_type": "display_data"
    },
    {
     "name": "stdout",
     "output_type": "stream",
     "text": [
      "--------------------------------------------------\n"
     ]
    },
    {
     "data": {
      "text/markdown": [
       "### King James Bible"
      ],
      "text/plain": [
       "<IPython.core.display.Markdown object>"
      ]
     },
     "metadata": {},
     "output_type": "display_data"
    },
    {
     "data": {
      "text/markdown": [
       "servant as his lord. If they have called the master of the house Beelzebub, how much more shall they call them of his household? 10:26 Fear them not therefore: for there is nothing **covered, that shall not be revealed; and hid, that shall not be known**. 10:27 What I tell you in darkness, that speak ye in light: and what ye hear in the ear, that preach ye upon"
      ],
      "text/plain": [
       "<IPython.core.display.Markdown object>"
      ]
     },
     "metadata": {},
     "output_type": "display_data"
    },
    {
     "data": {
      "text/markdown": [
       "### The Son of Royal Langbrith: A Novel: By W. D. Howells"
      ],
      "text/plain": [
       "<IPython.core.display.Markdown object>"
      ]
     },
     "metadata": {},
     "output_type": "display_data"
    },
    {
     "data": {
      "text/markdown": [
       "<small>Howells, William Dean</small>"
      ],
      "text/plain": [
       "<IPython.core.display.Markdown object>"
      ]
     },
     "metadata": {},
     "output_type": "display_data"
    },
    {
     "data": {
      "text/markdown": [
       "Royal Lang- brith’s life. She alleged that passage of scripture to which she had recurred from the beginning of her own privity. “There is nothing **covered that shall not be revealed, and hid that shall not be known**,” and required him to reconcile it with the case in hand. Though she had agreed with Hope about that when the girl first «offered her interpretation"
      ],
      "text/plain": [
       "<IPython.core.display.Markdown object>"
      ]
     },
     "metadata": {},
     "output_type": "display_data"
    },
    {
     "name": "stdout",
     "output_type": "stream",
     "text": [
      "--------------------------------------------------\n"
     ]
    },
    {
     "data": {
      "text/markdown": [
       "### King James Bible"
      ],
      "text/plain": [
       "<IPython.core.display.Markdown object>"
      ]
     },
     "metadata": {},
     "output_type": "display_data"
    },
    {
     "data": {
      "text/markdown": [
       "shall cleave to his wife: and they twain shall be one flesh? 19:6 Wherefore they are no more twain, but one flesh. What therefore **God hath joined together, let not man put asunder**. 19:7 They say unto him, Why did Moses then command to give a writing of divorcement, and to put her away? 19:8 He saith unto them, Moses because of the hardness"
      ],
      "text/plain": [
       "<IPython.core.display.Markdown object>"
      ]
     },
     "metadata": {},
     "output_type": "display_data"
    },
    {
     "data": {
      "text/markdown": [
       "### Norine's Revenge, and Sir Noel's Heir: By May Agnes Fleming"
      ],
      "text/plain": [
       "<IPython.core.display.Markdown object>"
      ]
     },
     "metadata": {},
     "output_type": "display_data"
    },
    {
     "data": {
      "text/markdown": [
       "<small>Fleming, May Agnes Early</small>"
      ],
      "text/plain": [
       "<IPython.core.display.Markdown object>"
      ]
     },
     "metadata": {},
     "output_type": "display_data"
    },
    {
     "data": {
      "text/markdown": [
       "downcast face of his bride he sees or that other face as he saw it last, all white and drawn in the anguish of a last farewell ? “What **God hath joined together let no man put asunder**!” It is over. He draws a long, hard breath of relief. Come what may, Helen is his wife. They rise ; they file slowly and gracefully"
      ],
      "text/plain": [
       "<IPython.core.display.Markdown object>"
      ]
     },
     "metadata": {},
     "output_type": "display_data"
    },
    {
     "name": "stdout",
     "output_type": "stream",
     "text": [
      "--------------------------------------------------\n"
     ]
    },
    {
     "data": {
      "text/markdown": [
       "### King James Bible"
      ],
      "text/plain": [
       "<IPython.core.display.Markdown object>"
      ]
     },
     "metadata": {},
     "output_type": "display_data"
    },
    {
     "data": {
      "text/markdown": [
       "unto women, nor thy ways to that which destroyeth kings. 31:4 It is not for kings, O Lemuel, it is not for **kings to drink wine; nor for princes strong drink: 31:5 Lest they drink, and forget the law, and pervert the judgment of any of the afflicted. 31:6 Give strong drink unto him that is ready to perish, and wine unto those that be of heavy hearts**. 31:7 Let him drink, and forget his poverty, and remember his misery no more. 31:8 Open thy mouth for the dumb in the cause"
      ],
      "text/plain": [
       "<IPython.core.display.Markdown object>"
      ]
     },
     "metadata": {},
     "output_type": "display_data"
    },
    {
     "data": {
      "text/markdown": [
       "### Crayon Sketches: By an Amateur: Edited by Theodore S. Fay"
      ],
      "text/plain": [
       "<IPython.core.display.Markdown object>"
      ]
     },
     "metadata": {},
     "output_type": "display_data"
    },
    {
     "data": {
      "text/markdown": [
       "<small>Cox, William</small>"
      ],
      "text/plain": [
       "<IPython.core.display.Markdown object>"
      ]
     },
     "metadata": {},
     "output_type": "display_data"
    },
    {
     "data": {
      "text/markdown": [
       "ieties lean favor¬ ably towards the rich and affluent, there are higher and more impartial authorities which do not. “ It is not for kin **gs to drink wine ; nor for princes strong drink : lest they drink, and forget the law, and pervert the judgment of any of the afflicted. Give strong drink unto him that is ready to perish, and wine unto those who be of heavy hearts.”** I do not here wish to cast the slightest imputation of hypocrisy, or impute unworthy motives to the friends and orgauizers of"
      ],
      "text/plain": [
       "<IPython.core.display.Markdown object>"
      ]
     },
     "metadata": {},
     "output_type": "display_data"
    },
    {
     "name": "stdout",
     "output_type": "stream",
     "text": [
      "--------------------------------------------------\n"
     ]
    },
    {
     "data": {
      "text/markdown": [
       "### King James Bible"
      ],
      "text/plain": [
       "<IPython.core.display.Markdown object>"
      ]
     },
     "metadata": {},
     "output_type": "display_data"
    },
    {
     "data": {
      "text/markdown": [
       "lattice. 2:10 My beloved spake, and said unto me, Rise up, my love, my fair one, and come away. 2:11 For, lo, the winter is past, the rain is over and **gone; 2:12 The flowers appear on the earth; the time of the singing of birds is come, and the voice of the turtle is heard in our land**; 2:13 The fig tree putteth forth her green figs, and the vines with the tender grape give a good smell"
      ],
      "text/plain": [
       "<IPython.core.display.Markdown object>"
      ]
     },
     "metadata": {},
     "output_type": "display_data"
    },
    {
     "data": {
      "text/markdown": [
       "### Crayon Sketches: By an Amateur: Edited by Theodore S. Fay"
      ],
      "text/plain": [
       "<IPython.core.display.Markdown object>"
      ]
     },
     "metadata": {},
     "output_type": "display_data"
    },
    {
     "data": {
      "text/markdown": [
       "<small>Cox, William</small>"
      ],
      "text/plain": [
       "<IPython.core.display.Markdown object>"
      ]
     },
     "metadata": {},
     "output_type": "display_data"
    },
    {
     "data": {
      "text/markdown": [
       "the mists and darkness of futurity. SPRING. Le, the winter ia past, the r&in is over and gone. **The flowers appear on the earth ; the time of the singing of birds is come, and the voice of the turtle is heard in our land .—Son** g of Solomon, chap. II. Every year, all the periodicals, in every city, in every country of the earth, have something to say upon the subject of sp"
      ],
      "text/plain": [
       "<IPython.core.display.Markdown object>"
      ]
     },
     "metadata": {},
     "output_type": "display_data"
    },
    {
     "name": "stdout",
     "output_type": "stream",
     "text": [
      "--------------------------------------------------\n"
     ]
    },
    {
     "data": {
      "text/markdown": [
       "### King James Bible"
      ],
      "text/plain": [
       "<IPython.core.display.Markdown object>"
      ]
     },
     "metadata": {},
     "output_type": "display_data"
    },
    {
     "data": {
      "text/markdown": [
       "serve them: for I the LORD thy God am a jealous God, visiting the iniquity of the fathers upon the **children unto the third and fourth generation** of them that hate me; 20:6 And shewing mercy unto thousands of them that love me, and keep my commandments. 20:7 Thou shalt not take the name of the LORD"
      ],
      "text/plain": [
       "<IPython.core.display.Markdown object>"
      ]
     },
     "metadata": {},
     "output_type": "display_data"
    },
    {
     "data": {
      "text/markdown": [
       "### The Literary Shop: And Other Tales: By James L. Ford"
      ],
      "text/plain": [
       "<IPython.core.display.Markdown object>"
      ]
     },
     "metadata": {},
     "output_type": "display_data"
    },
    {
     "data": {
      "text/markdown": [
       "<small>Ford, James L. (James Lauren)</small>"
      ],
      "text/plain": [
       "<IPython.core.display.Markdown object>"
      ]
     },
     "metadata": {},
     "output_type": "display_data"
    },
    {
     "data": {
      "text/markdown": [
       "distinction in commerce, art, litera - ίο* из ture, in the pulpit or on the bench, than there was in those of his wife, his aunt, his sister, and his **children even unto the third and fourth generation**. It was this discovery that led to the publication of the popular and apparently endless series of essays bearing such ti"
      ],
      "text/plain": [
       "<IPython.core.display.Markdown object>"
      ]
     },
     "metadata": {},
     "output_type": "display_data"
    },
    {
     "name": "stdout",
     "output_type": "stream",
     "text": [
      "--------------------------------------------------\n"
     ]
    },
    {
     "data": {
      "text/markdown": [
       "### King James Bible"
      ],
      "text/plain": [
       "<IPython.core.display.Markdown object>"
      ]
     },
     "metadata": {},
     "output_type": "display_data"
    },
    {
     "data": {
      "text/markdown": [
       "sat down under his shadow with great delight, and his fruit was sweet to my taste. 2:4 He brought me to the banqueting house, and his banner over me was love. 2:5 **Stay me with flagons, comfort me with apples: for I am sick** of love. 2:6 His left hand is under my head, and his right hand doth embrace me. 2:7 I charge you, O ye"
      ],
      "text/plain": [
       "<IPython.core.display.Markdown object>"
      ]
     },
     "metadata": {},
     "output_type": "display_data"
    },
    {
     "data": {
      "text/markdown": [
       "### The Church at Libertyville: As Seen by Thomas Bradley: Edited by John Wesley Conley"
      ],
      "text/plain": [
       "<IPython.core.display.Markdown object>"
      ]
     },
     "metadata": {},
     "output_type": "display_data"
    },
    {
     "data": {
      "text/markdown": [
       "<small>Conley, John Wesley</small>"
      ],
      "text/plain": [
       "<IPython.core.display.Markdown object>"
      ]
     },
     "metadata": {},
     "output_type": "display_data"
    },
    {
     "data": {
      "text/markdown": [
       "broad smile covered his features. The boy spoke with a voice that held the attention of every one in the room : “ **Stay me with flagons, comfort me with apples; for I am sick** of love.” When he sat down Mrs. Paxton was deathly pale and at once arose and went to her husband and said she was ill"
      ],
      "text/plain": [
       "<IPython.core.display.Markdown object>"
      ]
     },
     "metadata": {},
     "output_type": "display_data"
    },
    {
     "name": "stdout",
     "output_type": "stream",
     "text": [
      "--------------------------------------------------\n"
     ]
    },
    {
     "data": {
      "text/markdown": [
       "### King James Bible"
      ],
      "text/plain": [
       "<IPython.core.display.Markdown object>"
      ]
     },
     "metadata": {},
     "output_type": "display_data"
    },
    {
     "data": {
      "text/markdown": [
       "tomb. 6:30 And the apostles gathered themselves together unto Jesus, and told him all things, both what they had done, and what they had taught. 6:31 And he said unto them, Come **ye yourselves apart into a desert place, and rest** a while: for there were many coming and going, and they had no leisure so much as to eat. 6:32 And they departed into a desert place by ship privately. 6:33 And the people saw them departing"
      ],
      "text/plain": [
       "<IPython.core.display.Markdown object>"
      ]
     },
     "metadata": {},
     "output_type": "display_data"
    },
    {
     "data": {
      "text/markdown": [
       "### The Church at Libertyville: As Seen by Thomas Bradley: Edited by John Wesley Conley"
      ],
      "text/plain": [
       "<IPython.core.display.Markdown object>"
      ]
     },
     "metadata": {},
     "output_type": "display_data"
    },
    {
     "data": {
      "text/markdown": [
       "<small>Conley, John Wesley</small>"
      ],
      "text/plain": [
       "<IPython.core.display.Markdown object>"
      ]
     },
     "metadata": {},
     "output_type": "display_data"
    },
    {
     "data": {
      "text/markdown": [
       "takes a vacation.’ ” “ But, pastor,” interrupted Brother Good¬ will, “you certainly do not take the devil as your example. When the Master was here he said to his apostles at one time, ‘ Come **ye yourselves apart into a desert place and rest** awhile,’ and what you need is to get apart into some desert place where the fishing and boating are good and rest awhile.” “ But,” said the pastor, “ I cannot leave"
      ],
      "text/plain": [
       "<IPython.core.display.Markdown object>"
      ]
     },
     "metadata": {},
     "output_type": "display_data"
    },
    {
     "name": "stdout",
     "output_type": "stream",
     "text": [
      "--------------------------------------------------\n"
     ]
    },
    {
     "data": {
      "text/markdown": [
       "### King James Bible"
      ],
      "text/plain": [
       "<IPython.core.display.Markdown object>"
      ]
     },
     "metadata": {},
     "output_type": "display_data"
    },
    {
     "data": {
      "text/markdown": [
       "suffer all things, lest we should hinder the gospel of Christ. 9:13 Do ye not know that they which minister about holy things live of the things of the temple? and they which **wait at the altar are partakers with the altar? 9:14 Even so hath the Lord ordained that they which preach the gospel should live of the gospel**. 9:15 But I have used none of these things: neither have I written these things, that it should be so done unto me: for it were better for me to die, than that any man should make my glorying void. 9:16 For though I preach the gospel"
      ],
      "text/plain": [
       "<IPython.core.display.Markdown object>"
      ]
     },
     "metadata": {},
     "output_type": "display_data"
    },
    {
     "data": {
      "text/markdown": [
       "### The Church at Libertyville: As Seen by Thomas Bradley: Edited by John Wesley Conley"
      ],
      "text/plain": [
       "<IPython.core.display.Markdown object>"
      ]
     },
     "metadata": {},
     "output_type": "display_data"
    },
    {
     "data": {
      "text/markdown": [
       "<small>Conley, John Wesley</small>"
      ],
      "text/plain": [
       "<IPython.core.display.Markdown object>"
      ]
     },
     "metadata": {},
     "output_type": "display_data"
    },
    {
     "data": {
      "text/markdown": [
       "sent out his disciples, ‘ The laborer is worthy of his hire.’ Now ‘ hire ’ is some¬ thing definite. Paul, you will remember, wrote : ‘ They which **wait at the altar, are partakers of the altar, even so hath the Lord ordained, that they which preach the gospel should live of the gospel**.’ We all know that in the olden times, those who served at the altar received a generous and definite portion for their support, and so I believe"
      ],
      "text/plain": [
       "<IPython.core.display.Markdown object>"
      ]
     },
     "metadata": {},
     "output_type": "display_data"
    },
    {
     "name": "stdout",
     "output_type": "stream",
     "text": [
      "--------------------------------------------------\n"
     ]
    },
    {
     "data": {
      "text/markdown": [
       "### King James Bible"
      ],
      "text/plain": [
       "<IPython.core.display.Markdown object>"
      ]
     },
     "metadata": {},
     "output_type": "display_data"
    },
    {
     "data": {
      "text/markdown": [
       "stand before me; for he hath found favour in my sight. 16:23 And it came to pass, when the evil spirit from God was **upon Saul, that David took an harp, and played with his hand: so Saul was refreshed, and was well, and the evil spirit departed** from him. 17:1 Now the Philistines gathered together their armies to battle, and were gathered together at Shochoh, which belongeth to Judah"
      ],
      "text/plain": [
       "<IPython.core.display.Markdown object>"
      ]
     },
     "metadata": {},
     "output_type": "display_data"
    },
    {
     "data": {
      "text/markdown": [
       "### A Farm Philosopher: A Love Story: By Ada H. Kepley"
      ],
      "text/plain": [
       "<IPython.core.display.Markdown object>"
      ]
     },
     "metadata": {},
     "output_type": "display_data"
    },
    {
     "data": {
      "text/markdown": [
       "<small>Kepley, Ada H. (Ada Harriet)</small>"
      ],
      "text/plain": [
       "<IPython.core.display.Markdown object>"
      ]
     },
     "metadata": {},
     "output_type": "display_data"
    },
    {
     "data": {
      "text/markdown": [
       "hat line. I have complete absolution. MUSIC. ‘'And it came to pass that when an evil spirit came upon Saul tha **t David took an harp and played with his hand; so Saul was refreshed and was well, and the evil spirit departed from him” —** Bible. “All music is ívhat awakes from you when you are reminded by the instruments. — Walt. Whitman. Music is used to quiet and heal lun"
      ],
      "text/plain": [
       "<IPython.core.display.Markdown object>"
      ]
     },
     "metadata": {},
     "output_type": "display_data"
    },
    {
     "name": "stdout",
     "output_type": "stream",
     "text": [
      "--------------------------------------------------\n"
     ]
    },
    {
     "data": {
      "text/markdown": [
       "### King James Bible"
      ],
      "text/plain": [
       "<IPython.core.display.Markdown object>"
      ]
     },
     "metadata": {},
     "output_type": "display_data"
    },
    {
     "data": {
      "text/markdown": [
       "thine ear to my understanding: 5:2 That thou mayest regard discretion, and that thy lips may keep knowledge. 5:3 For the **lips of a strange woman drop as an honeycomb, and her mouth is smoother than oil: 5:4 But her end is bitter as wormwood, sharp as a two-edged sword. 5:5 Her feet go down to death; her steps take hold on hell**. 5:6 Lest thou shouldest ponder the path of life, her ways are moveable, that thou canst not know them. 5:7 Hear"
      ],
      "text/plain": [
       "<IPython.core.display.Markdown object>"
      ]
     },
     "metadata": {},
     "output_type": "display_data"
    },
    {
     "data": {
      "text/markdown": [
       "### A Farm Philosopher: A Love Story: By Ada H. Kepley"
      ],
      "text/plain": [
       "<IPython.core.display.Markdown object>"
      ]
     },
     "metadata": {},
     "output_type": "display_data"
    },
    {
     "data": {
      "text/markdown": [
       "<small>Kepley, Ada H. (Ada Harriet)</small>"
      ],
      "text/plain": [
       "<IPython.core.display.Markdown object>"
      ]
     },
     "metadata": {},
     "output_type": "display_data"
    },
    {
     "data": {
      "text/markdown": [
       "against the Holy Child, the curse of God is oh them and on the race as well. Let all learn from a wise one:— “For the lips of a str **ange woman drop as an honeycomb, and her mouth is smoother than oil; But her end is bitter as wormwood, sharp as a two-edged sword. Her feet go down to death; her steps take hold of Hell. Remove thy** way far from her and come not nigh the door of her house; Lest thou give thine honour unto others, and"
      ],
      "text/plain": [
       "<IPython.core.display.Markdown object>"
      ]
     },
     "metadata": {},
     "output_type": "display_data"
    },
    {
     "name": "stdout",
     "output_type": "stream",
     "text": [
      "--------------------------------------------------\n"
     ]
    },
    {
     "data": {
      "text/markdown": [
       "### King James Bible"
      ],
      "text/plain": [
       "<IPython.core.display.Markdown object>"
      ]
     },
     "metadata": {},
     "output_type": "display_data"
    },
    {
     "data": {
      "text/markdown": [
       "thou canst not know them. 5:7 Hear me now therefore, O ye children, and depart not from the words of my mouth. 5:8 **Remove thy way far from her, and come not nigh the door of her house: 5:9 Lest thou give thine honour unto others, and thy years unto the cruel: 5:10 Lest strangers** be filled with thy wealth; and thy labours be in the house of a stranger; 5:11 And thou mourn at the last, when thy flesh"
      ],
      "text/plain": [
       "<IPython.core.display.Markdown object>"
      ]
     },
     "metadata": {},
     "output_type": "display_data"
    },
    {
     "data": {
      "text/markdown": [
       "### A Farm Philosopher: A Love Story: By Ada H. Kepley"
      ],
      "text/plain": [
       "<IPython.core.display.Markdown object>"
      ]
     },
     "metadata": {},
     "output_type": "display_data"
    },
    {
     "data": {
      "text/markdown": [
       "<small>Kepley, Ada H. (Ada Harriet)</small>"
      ],
      "text/plain": [
       "<IPython.core.display.Markdown object>"
      ]
     },
     "metadata": {},
     "output_type": "display_data"
    },
    {
     "data": {
      "text/markdown": [
       "mwood, sharp as a two-edged sword. Her feet go down to death; her steps take hold of Hell. Remove thy wa **y far from her and come not nigh the door of her house; Lest thou give thine honour unto others, and thy years unto the cruel. Lest strangers be filed wit** h thy wealth; and thy labors be in the house of a stranger; And thou mourn* at last, when thy flesh and thy body"
      ],
      "text/plain": [
       "<IPython.core.display.Markdown object>"
      ]
     },
     "metadata": {},
     "output_type": "display_data"
    },
    {
     "name": "stdout",
     "output_type": "stream",
     "text": [
      "--------------------------------------------------\n"
     ]
    }
   ],
   "source": [
    "from quotes.models import Match\n",
    "\n",
    "for m in Match.query.filter(Match.size >= 5).limit(100):\n",
    "    print_match(m)"
   ]
  },
  {
   "cell_type": "code",
   "execution_count": null,
   "metadata": {
    "collapsed": true
   },
   "outputs": [],
   "source": []
  }
 ],
 "metadata": {
  "kernelspec": {
   "display_name": "Python 3",
   "language": "python",
   "name": "python3"
  },
  "language_info": {
   "codemirror_mode": {
    "name": "ipython",
    "version": 3
   },
   "file_extension": ".py",
   "mimetype": "text/x-python",
   "name": "python",
   "nbconvert_exporter": "python",
   "pygments_lexer": "ipython3",
   "version": "3.5.2"
  }
 },
 "nbformat": 4,
 "nbformat_minor": 1
}
