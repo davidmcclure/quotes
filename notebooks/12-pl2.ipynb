{
 "cells": [
  {
   "cell_type": "markdown",
   "metadata": {},
   "source": [
    "# Paradise Lost"
   ]
  },
  {
   "cell_type": "code",
   "execution_count": 1,
   "metadata": {
    "collapsed": true
   },
   "outputs": [],
   "source": [
    "import matplotlib.pyplot as plt\n",
    "%matplotlib inline"
   ]
  },
  {
   "cell_type": "code",
   "execution_count": 2,
   "metadata": {
    "collapsed": true
   },
   "outputs": [],
   "source": [
    "from quotes.models import Alignment, QueryText"
   ]
  },
  {
   "cell_type": "code",
   "execution_count": 3,
   "metadata": {
    "collapsed": false
   },
   "outputs": [],
   "source": [
    "quoted = []\n",
    "\n",
    "for m in Alignment.query.filter(Alignment.size >= 5):\n",
    "    quoted += range(m.a_start, m.a_start + m.size)"
   ]
  },
  {
   "cell_type": "code",
   "execution_count": 4,
   "metadata": {
    "collapsed": false
   },
   "outputs": [],
   "source": [
    "from quotes.text import Text\n",
    "\n",
    "qt = QueryText.query.filter_by(slug='pl-modern').one()\n",
    "pl = Text(qt.text)"
   ]
  },
  {
   "cell_type": "markdown",
   "metadata": {},
   "source": [
    "# 100 bins"
   ]
  },
  {
   "cell_type": "code",
   "execution_count": 5,
   "metadata": {
    "collapsed": false
   },
   "outputs": [
    {
     "data": {
      "image/png": "[encoded data removed]",
      "text/plain": [
       "<matplotlib.figure.Figure at 0x1096e5b70>"
      ]
     },
     "metadata": {},
     "output_type": "display_data"
    }
   ],
   "source": [
    "plt.figure(figsize=(20, 5))\n",
    "\n",
    "n, bins, patches = plt.hist(\n",
    "    quoted,\n",
    "    range=(0, len(pl.tokens)),\n",
    "    bins=100,\n",
    "    color='green',\n",
    ")\n",
    "\n",
    "plt.show()"
   ]
  },
  {
   "cell_type": "code",
   "execution_count": 6,
   "metadata": {
    "collapsed": false
   },
   "outputs": [],
   "source": [
    "import numpy as np\n",
    "\n",
    "bin_idxs = np.argsort(n)[::-1]"
   ]
  },
  {
   "cell_type": "code",
   "execution_count": 7,
   "metadata": {
    "collapsed": true
   },
   "outputs": [],
   "source": [
    "def print_bin(idx):\n",
    "    \n",
    "    token1 = int(bins[idx])\n",
    "    token2 = int(bins[idx+1]-1)\n",
    "    \n",
    "    char1 = pl.tokens[token1].char1\n",
    "    char2 = pl.tokens[token2].char2\n",
    "\n",
    "    print(pl.text[char1:char2])"
   ]
  },
  {
   "cell_type": "code",
   "execution_count": 8,
   "metadata": {
    "collapsed": false,
    "scrolled": false
   },
   "outputs": [
    {
     "name": "stdout",
     "output_type": "stream",
     "text": [
      "----------------------------------------------------------------------------------------------------\n",
      "0\n",
      "s first disobedience, and the fruit \n",
      "Of that forbidden tree, whose mortal taste \n",
      "Brought death into the world, and all our woe, \n",
      "With loss of Eden, till one greater man \n",
      "Restore us, and regain the blissful seat, \n",
      "Sing Heav'nly Muse, that on the secret top \n",
      "Of Oreb, or of Sinai, didst inspire \n",
      "That shepherd, who first taught the chosen seed, \n",
      "In the beginning how the heav'ns and earth \n",
      "Rose out of Chaos: or if Sion hill \n",
      "Delight thee more, and Siloa's brook that flowed \n",
      "Fast by the oracle of God; I thence \n",
      "Invoke thy aid to my advent'rous song, \n",
      "That with no middle flight intends to soar \n",
      "Above th' Aonian mount, while it pursues \n",
      "Things unattempted yet in prose or rhyme. \n",
      "And chiefly thou O Spirit, that dost prefer \n",
      "Before all temples th' upright heart and pure, \n",
      "Instruct me, for thou know'st; thou from the first \n",
      "Wast present, and with mighty wings outspread \n",
      "Dove-like sat'st brooding on the vast abyss \n",
      "And mad'st it pregnant: what in me is dark \n",
      "Illumine, what is low raise and support; \n",
      "That to the heighth of this great argument \n",
      "I may assert Eternal Providence, \n",
      "And justify the ways of God to men. \n",
      "   Say first, for Heav'n hides nothing from thy view \n",
      "Nor the deep tract of Hell, say first what cause \n",
      "Moved our grand parents in that happy state, \n",
      "Favoured of Heav'n so highly, to fall off \n",
      "From their Creator and transgress his will \n",
      "For one restraint, lords of the world besides? \n",
      "Who first seduced them to that foul revolt? \n",
      "Th' infernal Serpent; he it was, whose guile \n",
      "Stirred up with envy and revenge, deceived \n",
      "The mother of mankind, what time his pride \n",
      "Had cast him out from Heav'n, with all his host \n",
      "Of rebel angels, by whose aid aspiring \n",
      "To set himself in glory above his peers, \n",
      "\n",
      "\n",
      "\n",
      "\n",
      "He trusted to have equalled the Most High, \n",
      "If he opposed; and with ambitious aim \n",
      "Against the throne and monarchy of God \n",
      "Raised impious war in Heav'n and battle proud \n",
      "With vain attempt. Him the Almighty Power \n",
      "Hurled headlong flaming from th' ethereal sky \n",
      "With hideous ruin and combustion down \n",
      "To bottomless perdition, there to dwell \n",
      "In adamantine chains and penal fire, \n",
      "Who durst defy th' Omnipotent to arms. \n",
      "Nine times the space that measures day and night \n",
      "To mortal men, he with his horrid crew \n",
      "Lay vanquished, rolling in the fiery gulf \n",
      "Confounded though immortal: but his doom \n",
      "Reserved him to more wrath; for now the thought \n",
      "Both of lost happiness and lasting pain \n",
      "Torments him; round he throws his baleful eyes \n",
      "That witnessed huge affliction and dismay \n",
      "Mixed with obdúrate pride and steadfast hate: \n",
      "At once as far as angels' ken he views \n",
      "The dismal situation waste and wild, \n",
      "A dungeon horrible, on all sides round \n",
      "As one great furnace flamed, yet from those flames \n",
      "No light, but rather darkness visible \n",
      "Served only to discover sights of woe, \n",
      "Regions of sorrow, doleful shades, where peace \n",
      "And rest can never dwell, hope never comes \n",
      "That comes to all; but torture without end \n",
      "Still urges, and a fiery deluge, fed \n",
      "With ever-burning sulphur unconsumed: \n",
      "Such place Eternal Justice had prepared \n",
      "For those rebellious, here their prison ordained \n",
      "In utter darkness, and their portion set \n",
      "As far removed from God and light of Heav'n \n",
      "As from the centre thrice to th' utmost pole. \n",
      "O how unlike the place from whence they fell! \n",
      "There the companions of his fall, o'erwhelmed \n",
      "With floods and whirlwinds of tempestuous fire, \n",
      "He soon discerns, and welt'ring by his side \n",
      "\n",
      "\n",
      "\n",
      "\n",
      "One next himself in power, and next in crime, \n",
      "Long after known in Palestine, and named \n",
      "Beëlzebub. To whom th' Arch'Enemy, \n",
      "And thence in Heav'n called Satan, with bold words \n",
      "Breaking the horrid silence thus began. \n",
      "   If thou beest he; but O how fall'n! how changed \n",
      "From him, who in the happy realms of light \n",
      "Clothed with transcendent brightness didst outshine \n",
      "Myriads though bright: if he whom mutual league, \n",
      "United thoughts and counsels, equal hope \n",
      "And hazard in the glorious enterprise, \n",
      "Joined with me once, now misery hath joined \n",
      "In equal ruin: into what pit thou seest \n",
      "From what heighth fall'n, so much the stronger proved \n",
      "He with his thunder: and till then who knew \n",
      "The force of those dire arms? yet not for those, \n",
      "Nor what the potent Victor in his rage \n",
      "Can else inflict, do I repent or change, \n",
      "Though changed in outward lustre, that fixed mind \n",
      "And high disdain, from sense of injured merit, \n",
      "That with the mightiest raised me to contend, \n",
      "And to the fierce contention brought along \n",
      "Innumerable force of Spirits armed \n",
      "That durst dislike his reign, and me preferring, \n",
      "His utmost power with adverse power\n",
      "----------------------------------------------------------------------------------------------------\n",
      "13\n",
      "steel. \n",
      "Another part in squadrons and gross bands, \n",
      "On bold adventure to discover wide \n",
      "That dismal world, if any clime perhaps \n",
      "Might yield them easier habitation, bend \n",
      "Four ways their flying march, along the banks \n",
      "Of four infernal rivers that disgorge \n",
      "Into the burning lake their baleful streams; \n",
      "Abhorrèd Styx the flood of deadly hate, \n",
      "Sad Acheron of sorrow, black and deep; \n",
      "Cocytus, named of lamentation loud \n",
      "Heard on the rueful stream; fierce Phlegethon \n",
      "Whose waves of torrent fire inflame with rage. \n",
      "Far off from these a slow and silent stream, \n",
      "Lethe the river of oblivion rolls \n",
      "Her wat'ry labyrinth, whereof who drinks, \n",
      "Forthwith his former state and being forgets, \n",
      "Forgets both joy and grief, pleasure and pain. \n",
      "Beyond this flood a frozen continent \n",
      "Lies dark and wild, beat with perpetual storms \n",
      "Of whirlwind and dire hail, which on firm land \n",
      "Thaws not, but gathers heap and ruin seems \n",
      "Of ancient pile; all else deep snow and ice, \n",
      "A gulf profound as that Serbonian bog \n",
      "Betwixt Damiata and Mount Casius old, \n",
      "Where armies whole have sunk: the parching air \n",
      "Burns frore, and cold performs th' effect of fire. \n",
      "Thither by Harpy-footed Furies haled, \n",
      "At certain revolutions all the damned \n",
      "Are brought: and feel by turns the bitter change \n",
      "\n",
      "\n",
      "\n",
      "\n",
      "Of fierce extremes, extremes by change more fierce, \n",
      "From beds of raging fire to starve in ice \n",
      "Their soft ethereal warmth, and there to pine \n",
      "Immovable, infixed, and frozen round, \n",
      "Periods of time, thence hurried back to fire. \n",
      "They ferry over this Lethean sound \n",
      "Both to and fro, their sorrow to augment, \n",
      "And wish and struggle, as they pass, to reach \n",
      "The tempting stream, with one small drop to lose \n",
      "In sweet forgetfulness all pain and woe. \n",
      "All in one moment, and so near the brink; \n",
      "But Fate withstands, and to oppose th' attempt \n",
      "Medusa with Gorgonian terror guards \n",
      "The ford, and of itself the water flies \n",
      "All taste of living wight, as once it fled \n",
      "The lip of Tantalus. Thus roving on \n",
      "In cónfused march forlorn, th' adventurous bands \n",
      "With shudd'ring horror pale, and eyes aghast \n",
      "Viewed first their lamentable lot, and found \n",
      "No rest: through many a dark and dreary vale \n",
      "They passed, and many a region dolorous, \n",
      "O'er many a frozen, many a fiery alp, \n",
      "Rocks, caves, lakes, fens, bogs, dens, and shades of death, \n",
      "A universe of death, which God by curse \n",
      "Created evil, for evil only good, \n",
      "Where all life dies, death lives, and nature breeds, \n",
      "Perverse, all monstrous, all prodigious things, \n",
      "Abominable, unutterable, and worse \n",
      "Than fables yet have feigned, or fear conceived, \n",
      "Gorgons, and Hydras, and Chimeras dire. \n",
      "   Meanwhile the Adversary of God and man, \n",
      "Satan with thoughts inflamed of highest design, \n",
      "Puts on swift wings, and toward the gates of Hell \n",
      "Explores his solitary flight; sometimes \n",
      "He scours the right-hand coast, sometimes the left, \n",
      "Now shaves with level wing the deep, then soars \n",
      "Up to the fiery concave tow'ring high. \n",
      "As when far off at sea a fleet descried \n",
      "Hangs in the clouds, by equinoctial winds \n",
      "\n",
      "\n",
      "\n",
      "\n",
      "Close sailing from Bengala, or the isles \n",
      "Of Ternate and Tidore, whence merchants bring \n",
      "Their spicy drugs: they on the trading flood \n",
      "Through the wide Ethiopian to the Cape \n",
      "Ply stemming nightly toward the pole. So seemed \n",
      "Far off the flying Fiend: at last appear \n",
      "Hell bounds high reaching to the horrid roof, \n",
      "And thrice threefold the gates; three folds were brass, \n",
      "Three iron, three of adamantine rock, \n",
      "Impenetrable, impaled with circling fire, \n",
      "Yet unconsumed. Before the gates there sat \n",
      "On either side a formidable shape; \n",
      "The one seemed woman to the waist, and fair, \n",
      "But ended foul in many a scaly fold \n",
      "Voluminous and vast, a serpent armed \n",
      "With mortal sting: about her middle round \n",
      "A cry of Hell-hounds never ceasing barked \n",
      "With wide Cerberean mouths full loud, and rung \n",
      "A hideous peal: yet, when they list, would creep, \n",
      "If aught disturbed their noise, into her womb, \n",
      "And kennel there, yet there still barked and howled \n",
      "Within unseen. Far less abhorred than these \n",
      "Vexed Scylla bathing in the sea that parts \n",
      "Calabria from the hoarse Trinacrian shore: \n",
      "Nor uglier follow the night-hag, when called \n",
      "In secret, riding through the air she comes \n",
      "Lured with the smell of infant blood, to dance \n",
      "With Lapland witches, while the labouring moon \n",
      "Eclipses at their charms. The other shape, \n",
      "If shape it might be called that shape had none \n",
      "Distinguishable in member, joint\n",
      "----------------------------------------------------------------------------------------------------\n",
      "5\n",
      "Obscure some glimpse of joy, to have found their chief \n",
      "Not in despair, to have found themselves not lost \n",
      "In loss itself; which on his count'nance cast \n",
      "Like doubtful hue: but he his wonted pride \n",
      "Soon recollecting, with high words, that bore \n",
      "Semblance of worth, not substance, gently raised \n",
      "Their fainting courage and dispelled their fears. \n",
      "Then straight commands that at the warlike sound \n",
      "Of trumpets loud and clarions be upreared \n",
      "His mighty standard; that proud honour claimed \n",
      "Azazel as his right, a Cherub tall: \n",
      "Who forthwith from the glittering staff unfurled \n",
      "Th' imperial ensign, which full high advanced \n",
      "Shone like a meteor streaming to the wind \n",
      "With gems and golden lustre rich emblazed, \n",
      "Seraphic arms and trophies: all the while \n",
      "Sonórous metal blowing martial sounds: \n",
      "At which the universal host upsent \n",
      "A shout that tore Hell's concave, and beyond \n",
      "Frighted the reign of Chaos and old Night. \n",
      "All in a moment through the gloom were seen \n",
      "Ten thousand banners rise into the air \n",
      "With orient colours waving: with them rose \n",
      "\n",
      "\n",
      "\n",
      "\n",
      "A forest huge of spears: and thronging helms \n",
      "Appeared, and serried shields in thick array \n",
      "Of depth immeasurable: anon they move \n",
      "In perfect phalanx to the Dorian mood \n",
      "Of flutes and soft recorders; such as raised \n",
      "To heighth of noblest temper heroes old \n",
      "Arming to battle, and instead of rage \n",
      "Deliberate valour breathed, firm and unmoved \n",
      "With dread of death to flight or foul retreat, \n",
      "Nor wanting power to mitigate and swage \n",
      "With solemn touches, troubled thoughts, and chase \n",
      "Anguish and doubt and fear and sorrow and pain \n",
      "From mortal or immortal minds. Thus they \n",
      "Breathing united force with fixèd thought \n",
      "Moved on in silence to soft pipes that charmed \n",
      "Their painful steps o'er the burnt soil; and now \n",
      "Advanced in view they stand, a horrid front \n",
      "Of dreadful length and dazzling arms, in guise \n",
      "Of warriors old with ordered spear and shield, \n",
      "Awaiting what command their mighty chief \n",
      "Had to impose: he through the armèd files \n",
      "Darts his experienced eye, and soon traverse \n",
      "The whole battalion views; their order due, \n",
      "Their visages and stature as of gods, \n",
      "Their number last he sums. And now his heart \n",
      "Distends with pride, and hard'ning in his strength \n",
      "Glories: for never since created man, \n",
      "Met such embodied force, as named with these \n",
      "Could merit more than that small infantry \n",
      "Warred on by cranes: though all the Giant brood \n",
      "Of Phlegra with th' heroic race were joined \n",
      "That fought at Thebes and Ilium, on each side \n",
      "Mixed with auxiliar gods; and what resounds \n",
      "In fable or romance of Uther's son \n",
      "Begirt with British and Armoric knights; \n",
      "And all who since, baptized or infidel \n",
      "Jousted in Aspramont or Montalban, \n",
      "Damasco, or Morocco, or Trebizond, \n",
      "Or whom Biserta sent from Afric shore \n",
      "\n",
      "\n",
      "\n",
      "\n",
      "When Charlemagne with all his peerage fell \n",
      "By Fontarabbia. Thus far these beyond \n",
      "Compare of mortal prowess, yet observed \n",
      "Their dread commander: he above the rest \n",
      "In shape and gesture proudly eminent \n",
      "Stood like a tow'r; his form had yet not lost \n",
      "All her original brightness, nor appeared \n",
      "Less than Archangel ruined, and th' excess \n",
      "Of glory obscured: as when the sun new ris'n \n",
      "Looks through the horizontal misty air \n",
      "Shorn of his beams, or from behind the moon \n",
      "In dim eclipse disastrous twilight sheds \n",
      "On half the nations, and with fear of change \n",
      "Perplexes monarchs. Darkened so, yet shone \n",
      "Above them all th' Archangel: but his face \n",
      "Deep scars of thunder had intrenched, and care \n",
      "Sat on his faded cheek, but under brows \n",
      "Of dauntless courage, and considerate pride \n",
      "Waiting revenge: cruel his eye, but cast \n",
      "Signs of remorse and passion to behold \n",
      "The fellows of his crime, the followers rather \n",
      "(Far other once beheld in bliss) condemned \n",
      "For ever now to have their lot in pain, \n",
      "Millions of Spirits for his fault amerced \n",
      "Of Heav'n, and from eternal splendours flung \n",
      "For his revolt, yet faithful how they stood, \n",
      "Their glory withered. As when Heaven's fire \n",
      "Hath scathed the forest oaks or mountain pines, \n",
      "With singèd top their stately growth though bare \n",
      "Stands on the blasted heath. He now prepared \n",
      "To speak; whereat their doubled ranks they bend \n",
      "From wing to wing, and half enclose him round \n",
      "With all his peers: attention held them mute. \n",
      "Thrice he assayed, and thrice in spite of scorn, \n",
      "Tears such as angels weep, burst forth: at last \n",
      "Words interwove with sighs found out their way. \n",
      "   O myriads of immortal Spirits, O Powers \n",
      "Matchless\n",
      "----------------------------------------------------------------------------------------------------\n",
      "31\n",
      "dignity, \n",
      "And the regard of Heav'n on all his ways; \n",
      "While other animals unactive range, \n",
      "And of their doings God takes no account. \n",
      "Tomorrow ere fresh morning streak the east \n",
      "With first approach of light, we must be ris'n, \n",
      "\n",
      "\n",
      "\n",
      "\n",
      "And at our pleasant labour, to reform \n",
      "Yon flow'ry arbours, yonder alleys green, \n",
      "Our walk at noon, with branches overgrown, \n",
      "That mock our scant manuring, and require \n",
      "More hands than ours to lop their wanton growth: \n",
      "Those blossoms also, and those dropping gums, \n",
      "That lie bestrewn unsightly and unsmooth, \n",
      "Ask riddance, if we mean to tread with ease; \n",
      "Meanwhile, as nature wills, night bids us rest. \n",
      "   To whom thus Eve with perfect beauty adorned. \n",
      "My author and disposer, what thou bidd'st \n",
      "Unargued I obey; so God ordains, \n",
      "God is thy law, thou mine: to know no more \n",
      "Is woman's happiest knowledge and her praise. \n",
      "With thee conversing I forget all time, \n",
      "All seasons and their change, all please alike. \n",
      "Sweet is the breath of morn, her rising sweet, \n",
      "With charm of earliest birds; pleasant the sun \n",
      "When first on this delightful land he spreads \n",
      "His orient beams, on herb, tree, fruit, and flow'r, \n",
      "Glist'ring with dew; fragrant the fertile earth \n",
      "After soft showers; and sweet the coming on \n",
      "Of grateful ev'ning mild, then silent night \n",
      "With this her solemn bird and this fair moon, \n",
      "And these the gems of heav'n, her starry train: \n",
      "But neither breath of morn when she ascends \n",
      "With charm of earliest birds, nor rising sun \n",
      "On this delightful land, nor herb, fruit, flow'r, \n",
      "Glist'ring with dew, nor fragrance after showers, \n",
      "Nor grateful ev'ning mild, nor silent night \n",
      "With this her solemn bird, nor walk by moon, \n",
      "Or glittering starlight without thee is sweet. \n",
      "But wherefore all night long shine these, for whom \n",
      "This glorious sight, when sleep hath shut all eyes? \n",
      "   To whom our general ancestor replied. \n",
      "Daughter of God and man, accomplished Eve, \n",
      "Those have their course to finish, round the earth, \n",
      "By morrow ev'ning, and from land to land \n",
      "In order, though to nations yet unborn, \n",
      "\n",
      "\n",
      "\n",
      "\n",
      "Minist'ring light prepared, they set and rise; \n",
      "Lest total darkness should by night regain \n",
      "Her old possession, and extinguish life \n",
      "In nature and all things, which these soft fires \n",
      "Not only enlighten, but with kindly heat \n",
      "Of various influence foment and warm, \n",
      "Temper or nourish, or in part shed down \n",
      "Their stellar virtue on all kinds that grow \n",
      "On earth, made hereby apter to receive \n",
      "Perfection from the sun's more potent ray. \n",
      "These then, though unbeheld in deep of night, \n",
      "Shine not in vain, nor think, though men were none, \n",
      "That heav'n would want spectators, God want praise; \n",
      "Millions of spiritual creatures walk the earth \n",
      "Unseen, both when we wake, and when we sleep: \n",
      "All these with ceaseless praise his works behold \n",
      "Both day and night: how often from the steep \n",
      "Of echoing hill or thicket have we heard \n",
      "Celestial voices to the midnight air, \n",
      "Sole, or responsive each to other's note \n",
      "Singing their great Creator: oft in bands \n",
      "While they keep watch, or nightly rounding walk \n",
      "With Heav'nly touch of instrumental sounds \n",
      "In full harmonic number joined, their songs \n",
      "Divide the night, and lift our thoughts to Heaven. \n",
      "   Thus talking hand in hand alone they passed \n",
      "On to their blissful bower; it was a place \n",
      "Chos'n by the sov'reign Planter, when he framed \n",
      "All things to man's delightful use; the roof \n",
      "Of thickest covert was inwoven shade \n",
      "Laurel and myrtle, and what higher grew \n",
      "Of firm and fragrant leaf; on either side \n",
      "Acanthus, and each odorous bushy shrub \n",
      "Fenced up the verdant wall; each beauteous flow'r, \n",
      "Iris all hues, roses, and jessamine \n",
      "Reared high their flourished heads between, and wrought \n",
      "Mosaic; underfoot the violet, \n",
      "Crocus, and hyacinth with rich inlay \n",
      "Broidered the ground, more coloured than with stone \n",
      "\n",
      "\n",
      "\n",
      "\n",
      "Of costliest emblem: other creature here \n",
      "Beast, bird, insect, or worm durst enter none; \n",
      "Such was their awe of man. In shadier bower \n",
      "More sacred and sequestered, though but feigned, \n",
      "Pan or Silvanus never slept, nor nymph, \n",
      "Nor Faunus haunted. Here in close recess \n",
      "With flowers, garlands, and sweet-smelling herbs \n",
      "Espousèd Eve decked first her nuptial bed, \n",
      "And Heav'nly choirs the hymenean sung, \n",
      "What day the genial angel to our sire \n",
      "Brought her in naked beauty more adorned, \n",
      "More lovely than Pandora, whom the gods \n",
      "Endowed with all their gifts, and O too like \n",
      "In sad event, when to th\n",
      "----------------------------------------------------------------------------------------------------\n",
      "16\n",
      "feed: \n",
      "Thou art my father, thou my author, thou \n",
      "My being gav'st me; whom should I obey \n",
      "But thee, whom follow? thou wilt bring me soon \n",
      "To that new world of light and bliss, among \n",
      "The gods who live at ease, where I shall reign \n",
      "At thy right hand voluptuous, as beseems \n",
      "Thy daughter and thy darling, without end. \n",
      "   Thus saying, from her side the fatal key, \n",
      "\n",
      "\n",
      "\n",
      "\n",
      "Sad instrument of all our woe, she took; \n",
      "And towards the gate rolling her bestial train, \n",
      "Forthwith the huge portcullis high up drew, \n",
      "Which but herself not all the Stygian powers \n",
      "Could once have moved; then in the key-hole turns \n",
      "Th' intricate wards, and every bolt and bar \n",
      "Of massy iron or solid rock with ease \n",
      "Unfastens: on a sudden open fly \n",
      "With impetuous recoil and jarring sound \n",
      "Th' infernal doors, and on their hinges grate \n",
      "Harsh thunder, that the lowest bottom shook \n",
      "Of Erebus. She opened, but to shut \n",
      "Excelled her power; the gates wide open stood, \n",
      "That with extended wings a bannered host \n",
      "Under spread ensigns marching might pass through \n",
      "With horse and chariots ranked in loose array; \n",
      "So wide they stood, and like a furnace mouth \n",
      "Cast forth redounding smoke and ruddy flame. \n",
      "Before their eyes in sudden view appear \n",
      "The secrets of the hoary deep, a dark \n",
      "Illimitable Ocean without bound, \n",
      "Without dimension, where length, breadth, and heighth, \n",
      "And time and place are lost; where eldest Night \n",
      "And Chaos, ancestors of Nature, hold \n",
      "Eternal anarchy, amidst the noise \n",
      "Of endless wars, and by confusion stand. \n",
      "For Hot, Cold, Moist, and Dry, four champions fierce \n",
      "Strive here for mast'ry, and to battle bring \n",
      "Their embryon atoms; they around the flag \n",
      "Of each his faction, in their several clans, \n",
      "Light-armed or heavy, sharp, smooth, swift or slow, \n",
      "Swarm populous, unnumbered as the sands \n",
      "Of Barca or Cyrene's torrid soil, \n",
      "Levied to side with warring winds, and poise \n",
      "Their lighter wings. To whom these most adhere, \n",
      "He rules a moment; Chaos umpire sits, \n",
      "And by decision more embroils the fray \n",
      "By which he reigns: next him high arbiter \n",
      "Chance governs all. Into this wild abyss, \n",
      "\n",
      "\n",
      "\n",
      "\n",
      "The womb of Nature and perhaps her grave, \n",
      "Of neither sea, nor shore, nor air, nor fire, \n",
      "But all these in their pregnant causes mixed \n",
      "Confus'dly, and which thus must ever fight, \n",
      "Unless th' Almighty Maker them ordain \n",
      "His dark materials to create more worlds, \n",
      "Into this wild abyss the wary Fiend \n",
      "Stood on the brink of Hell and looked a while, \n",
      "Pondering his voyage; for no narrow frith \n",
      "He had to cross. Nor was his ear less pealed \n",
      "With noises loud and ruinous (to compare \n",
      "Great things with small) than when Bellona storms, \n",
      "With all her battering engines bent to raze \n",
      "Some capital city; or less than if this frame \n",
      "Of heav'n were falling, and these elements \n",
      "In mutiny had from her axle torn \n",
      "The steadfast earth. At last his sail-broad vans \n",
      "He spreads for flight, and in the surging smoke \n",
      "Uplifted spurns the ground, thence many a league \n",
      "As in a cloudy chair ascending rides \n",
      "Audacious, but that seat soon failing, meets \n",
      "A vast vacuity: all unawares \n",
      "Flutt'ring his pennons vain plumb down he drops \n",
      "Ten thousand fathom deep, and to this hour \n",
      "Down had been falling, had not by ill chance \n",
      "The strong rebuff of some tumultuous cloud \n",
      "Instínct with fire and nitre hurried him \n",
      "As many miles aloft: that fury stayed, \n",
      "Quenched in a boggy Syrtis, neither sea, \n",
      "Nor good dry land: nigh foundered on he fares, \n",
      "Treading the crude consistence, half on foot, \n",
      "Half flying; behooves him now both oar and sail. \n",
      "As when a gryphon through the wilderness \n",
      "With wingèd course o'er hill or moory dale, \n",
      "Pursues the Arimaspian, who by stealth \n",
      "Had from his wakeful custody purloined \n",
      "The guarded gold: so eagerly the Fiend \n",
      "O'er bog or steep, through strait, rough, dense, or rare, \n",
      "With head, hands, wings, or feet pursues his way, \n",
      "\n",
      "\n",
      "\n",
      "\n",
      "And swims or sinks, or wades, or creeps, or flies: \n",
      "At length a universal hubbub wild \n",
      "Of stunning sounds and voices all confused \n",
      "Borne through the hollow dark assaults his ear \n",
      "With loudest vehemence: thither he plies, \n",
      "Undaunted to meet there whatever Power \n",
      "Or Spirit of the nethermost abyss \n",
      "Might in that noise reside, of whom to ask \n",
      "Which way the nearest coast of darkness lies \n",
      "Bordering on light; when straight behold the throne \n",
      "Of Chaos, and his dark pavilion spread \n",
      "Wide on the wasteful deep; with him enthroned \n",
      "Sat sable-vested\n",
      "----------------------------------------------------------------------------------------------------\n",
      "2\n",
      "nor ever thence \n",
      "Had ris'n or heaved his head, but that the will \n",
      "And high permission of all-ruling Heaven \n",
      "Left him at large to his own dark designs, \n",
      "That with reiterated crimes he might \n",
      "Heap on himself damnation, while he sought \n",
      "Evil to others, and enraged might see \n",
      "How all his malice served but to bring forth \n",
      "Infinite goodness, grace and mercy shown \n",
      "On man by him seduced, but on himself \n",
      "Treble confusion, wrath and vengeance poured. \n",
      "Forthwith upright he rears from off the pool \n",
      "His mighty stature; on each hand the flames \n",
      "Driv'n backward slope their pointing spires, and rolled \n",
      "In billows, leave i' th' midst a horrid vale. \n",
      "Then with expanded wings he steers his flight \n",
      "Aloft, incumbent on the dusky air \n",
      "That felt unusual weight, till on dry land \n",
      "He lights, if it were land that ever burned \n",
      "With solid, as the lake with liquid fire, \n",
      "And such appeared in hue; as when the force \n",
      "Of subterranean wind transports a hill \n",
      "Torn from Pelorus, or the shattered side \n",
      "Of thund'ring Etna, whose combustible \n",
      "And fuelled entrails thence conceiving fire, \n",
      "\n",
      "\n",
      "\n",
      "\n",
      "Sublimed with mineral fury, aid the winds, \n",
      "And leave a singèd bottom all involved \n",
      "With stench and smoke: such resting found the sole \n",
      "Of unblest feet. Him followed his next mate, \n",
      "Both glorying to have 'scaped the Stygian flood \n",
      "As gods, and by their own recovered strength, \n",
      "Not by the sufferance of supernal power. \n",
      "   Is this the region, this the soil, the clime, \n",
      "Said then the lost Archangel, this the seat \n",
      "That we must change for Heav'n, this mournful gloom \n",
      "For that celestial light? Be it so, since he \n",
      "Who now is sov'reign can dispose and bid \n",
      "What shall be right: farthest from him is best \n",
      "Whom reason hath equalled, force hath made supreme \n",
      "Above his equals. Farewell happy fields \n",
      "Where joy for ever dwells: hail horrors, hail \n",
      "Infernal world, and thou profoundest Hell \n",
      "Receive thy new possessor: one who brings \n",
      "A mind not to be changed by place or time. \n",
      "The mind is its own place, and in itself \n",
      "Can make a Heav'n of Hell, a Hell of Heav'n. \n",
      "What matter where, if I be still the same, \n",
      "And what I should be, all but less than he \n",
      "Whom thunder hath made greater? Here at least \n",
      "We shall be free; th' Almighty hath not built \n",
      "Here for his envy, will not drive us hence: \n",
      "Here we may reign secure, and in my choice \n",
      "To reign is worth ambition though in Hell: \n",
      "Better to reign in Hell, than serve in Heav'n. \n",
      "But wherefore let we then our faithful friends, \n",
      "Th' associates and copartners of our loss \n",
      "Lie thus astonished on th' oblivious pool, \n",
      "And call them not to share with us their part \n",
      "In this unhappy mansion; or once more \n",
      "With rallied arms to try what may be yet \n",
      "Regained in Heav'n, or what more lost in Hell? \n",
      "   So Satan spake, and him Beëlzebub \n",
      "Thus answered. Leader of those armies bright, \n",
      "Which but th' Omnipotent none could have foiled, \n",
      "\n",
      "\n",
      "\n",
      "\n",
      "If once they hear that voice, their liveliest pledge \n",
      "Of hope in fears and dangers, heard so oft \n",
      "In worst extremes, and on the perilous edge \n",
      "Of battle when it raged, in all assaults \n",
      "Their surest signal, they will soon resume \n",
      "New courage and revive, though now they lie \n",
      "Grovelling and prostrate on yon lake of fire, \n",
      "As we erewhile, astounded and amazed, \n",
      "No wonder, fall'n such a pernicious heighth. \n",
      "   He scarce had ceased when the superior fiend \n",
      "Was moving toward the shore; his ponderous shield \n",
      "Ethereal temper, massy, large and round, \n",
      "Behind him cast; the broad circumference \n",
      "Hung on his shoulders like the moon, whose orb \n",
      "Through optic glass the Tuscan artist views \n",
      "At evening from the top of Fesole, \n",
      "Or in Valdarno, to descry new lands, \n",
      "Rivers or mountains in her spotty globe. \n",
      "His spear, to equal which the tallest pine \n",
      "Hewn on Norwegian hills, to be the mast \n",
      "Of some great ammiral, were but a wand, \n",
      "He walked with to support uneasy steps \n",
      "Over the burning marl, not like those steps \n",
      "On Heaven's azure; and the torrid clime \n",
      "Smote on him sore besides, vaulted with fire; \n",
      "Nathless he so endured, till on the beach \n",
      "Of that inflamèd sea, he stood and called \n",
      "His legions, angel forms, who lay entranced \n",
      "Thick as autumnal leaves that strow the brooks \n",
      "In Vallombrosa, where th' Etrurian shades \n",
      "High overarched embow'r; or scattered sedge \n",
      "Afloat, when with fierce winds Orion armed \n",
      "Hath vexed the Red Sea coast, whose waves o'erthrew \n",
      "Busiris and his Mcmphian chivalry, \n",
      "While with perfidious hatred they pursued \n",
      "The sojourners of Goshen, who beheld \n",
      "From the safe shore their floating carcasses \n",
      "And broken chariot wheels. So thick bestrown \n",
      "Abject and lost lay these, covering the flood, \n",
      "\n",
      "\n",
      "\n",
      "\n",
      "Under amazement of their hideous change. \n",
      "He called so loud, that all the hollow deep \n",
      "Of Hell resounded. Princes, Potentates, \n",
      "Warriors, the flow'r\n",
      "----------------------------------------------------------------------------------------------------\n",
      "12\n",
      "voice \n",
      "Forbidding; and at once with him they rose; \n",
      "Their rising all at once was as the sound \n",
      "Of thunder heard remote. Towards him they bend \n",
      "With awful reverence prone; and as a god \n",
      "Extol him equal to the highest in Heav'n. \n",
      "Nor failed they to express how much they praised, \n",
      "That for the general safety he despised \n",
      "\n",
      "\n",
      "\n",
      "\n",
      "His own: for neither do the Spirits damned \n",
      "Lose all their virtue; lest bad men should boast \n",
      "Their specious deeds on earth, which glory excites, \n",
      "Or close ambition varnished o'er with zeal. \n",
      "Thus they their doubtful consultations dark \n",
      "Ended rejoicing in their matchless chief: \n",
      "As when from mountain tops the dusky clouds \n",
      "Ascending, while the north wind sleeps, o'erspread \n",
      "Heav'n's cheerful face, the louring element \n",
      "Scowls o'er the darkened landscape snow, or show'r; \n",
      "If chance the radiant sun with farewell sweet \n",
      "Extend his ev'ning beam, the fields revive, \n",
      "The birds their notes renew, and bleating herds \n",
      "Attest their joy, that hill and valley rings. \n",
      "O shame to men! Devil with devil damned \n",
      "Firm concord holds, men only disagree \n",
      "Of creatures rational, though under hope \n",
      "Of Heav'nly grace: and God proclaiming peace, \n",
      "Yet live in hatred, enmity, and strife \n",
      "Among themselves, and levy cruel wars, \n",
      "Wasting the earth, each other to destroy: \n",
      "As if (which might induce us to accord) \n",
      "Man had not Hellish foes enow besides, \n",
      "That day and night for his destruction wait. \n",
      "   The Stygian Council thus dissolved; and forth \n",
      "In order came the grand infernal Peers: \n",
      "Midst came their mighty Paramount, and seemed \n",
      "Alone th' Antagonist of Heav'n, nor less \n",
      "Than Hell's dread Emperor with pomp supreme, \n",
      "And God-like imitated state; him round \n",
      "A globe of fiery Seraphim enclosed \n",
      "With bright emblazonry, and horrent arms. \n",
      "Then of their session ended they bid cry \n",
      "With trumpets' regal sound the great result: \n",
      "Toward the four winds four speedy Cherubim \n",
      "Put to their mouths the sounding alchemy \n",
      "By herald's voice explained: the hollow abyss \n",
      "Heard far and wide, and all the host of Hell \n",
      "With deaf'ning shout, returned them loud acclaim. \n",
      "\n",
      "\n",
      "\n",
      "\n",
      "Thence more at ease their minds and somewhat raised \n",
      "By false presumptuous hope, the rangèd powers \n",
      "Disband, and wand'ring, each his several way \n",
      "Pursues, as inclination or sad choice \n",
      "Leads him perplexed, where he may likeliest find \n",
      "Truce to his restless thoughts, and entertain \n",
      "The irksome hours, till his great chief return. \n",
      "Part on the plain, or in the air sublime \n",
      "Upon the wing, or in swift race contend, \n",
      "As at th' Olympian games or Pythian fields; \n",
      "Part curb their fiery steeds, or shun the goal \n",
      "With rapid wheels, or fronted brígades form. \n",
      "As when to warn proud cities war appears \n",
      "Waged in the troubled sky, and armies rush \n",
      "To battle in the clouds, before each van \n",
      "Prick forth the airy knights, and couch their spears \n",
      "Till thickest legions close; with feats of arms \n",
      "From either end of heav'n the welkin burns. \n",
      "Others with vast Typhoean rage more fell \n",
      "Rend up both rocks and hills, and ride the air \n",
      "In whirlwind; Hell scarce holds the wild uproar. \n",
      "As when Alcides from Oechalia crowned \n",
      "With conquest, felt th' envenomed robe, and tore \n",
      "Through pain up by the roots Thessalian pines, \n",
      "And Lichas from the top of Oeta threw \n",
      "Into th' Euboic Sea. Others more mild, \n",
      "Retreated in a silent valley, sing \n",
      "With notes angelical to many a harp \n",
      "Their own heroic deeds and hapless fall \n",
      "By doom of battle; and complain that Fate \n",
      "Free virtue should enthrall to Force or Chance. \n",
      "Their song was partial, but the harmony \n",
      "(What could it less when Spirits immortal sing?) \n",
      "Suspended Hell, and took with ravishment \n",
      "The thronging audience. In discourse more sweet \n",
      "(For eloquence the soul, song charms the sense,) \n",
      "Others apart sat on a hill retired, \n",
      "In thoughts more elevate, and reasoned high \n",
      "Of Providence, Foreknowledge, Will and Fate, \n",
      "\n",
      "\n",
      "\n",
      "\n",
      "Fixed Fate, Free Will, Foreknowledge absolute, \n",
      "And found no end, in wand'ring mazes lost. \n",
      "Of good and evil much they argued then, \n",
      "Of happiness and final misery, \n",
      "Passion and apathy, and glory and shame, \n",
      "Vain wisdom all, and false philosophy: \n",
      "Yet with a pleasing sorcery could charm \n",
      "Pain for a while or anguish, and excite \n",
      "Fallacious hope, or arm th' obdurèd breast \n",
      "With stubborn patience as with triple\n",
      "----------------------------------------------------------------------------------------------------\n",
      "27\n",
      "eastward to the royal towers \n",
      "Of great Seleucia, built by Grecian kings, \n",
      "Or where the sons of Eden long before \n",
      "Dwelt in Telassar: in this pleasant soil \n",
      "His far more pleasant garden God ordained; \n",
      "Out of the fertile ground he caused to grow \n",
      "All trees of noblest kind for sight, smell, taste; \n",
      "And all amid them stood the Tree of Life, \n",
      "High eminent, blooming ambrosial fruit \n",
      "Of vegetable gold; and next to life \n",
      "Our death the Tree of Knowledge grew fast by, \n",
      "Knowledge of Good bought dear by knowing ill. \n",
      "Southward through Eden went a river large, \n",
      "Nor changed his course, but through the shaggy hill \n",
      "Passed underneath ingulfed, for God had thrown \n",
      "That mountain as his garden mould high raised \n",
      "Upon the rapid current, which through veins \n",
      "Of porous earth with kindly thirst up drawn, \n",
      "Rose a fresh fountain, and with many a rill \n",
      "Watered the garden; thence united fell \n",
      "Down the steep glade, and met the nether flood, \n",
      "Which from his darksome passage now appears, \n",
      "And now divided into four main streams, \n",
      "Runs diverse, wand'ring many a famous realm \n",
      "\n",
      "\n",
      "\n",
      "\n",
      "And country whereof here needs no account, \n",
      "But rather to tell how, if art could tell, \n",
      "How from that sapphire fount the crispèd brooks, \n",
      "Rolling on orient pearl and sands of gold, \n",
      "With mazy error under pendent shades \n",
      "Ran nectar, visiting each plant, and fed \n",
      "Flow'rs worthy of Paradise which not nice art \n",
      "In beds and curious knots, but Nature boon \n",
      "Poured forth profuse on hill and dale and plain, \n",
      "Both where the morning sun first warmly smote \n",
      "The open field, and where the unpierced shade \n",
      "Embrowned the noontide bowers: thus was this place, \n",
      "A happy rural seat of various view; \n",
      "Groves whose rich trees wept odorous gums and balm, \n",
      "Others whose fruit burnished with golden rind \n",
      "Hung amiable, Hesperian fables true, \n",
      "If true, here only, and of delicious taste: \n",
      "Betwixt them lawns, or level downs, and flocks \n",
      "Grazing the tender herb, were interposed, \n",
      "Or palmy hillock, or the flow'ry lap \n",
      "Of some irriguous valley spread her store, \n",
      "Flow'rs of all hue, and without thorn the rose: \n",
      "Another side, umbrageous grots and caves \n",
      "Of cool recess, o'er which the mantling vine \n",
      "Lays forth her purple grape, and gently creeps \n",
      "Luxuriant; meanwhile murmuring waters fall \n",
      "Down the slope hills, dispersed, or in a lake, \n",
      "That to the fringèd bank with myrtle crowned, \n",
      "Her crystal mirror holds, unite their streams. \n",
      "The birds their choir apply; airs, vernal airs, \n",
      "Breathing the smell of field and grove, attune \n",
      "The trembling leaves, while universal Pan \n",
      "Knit with the Graces and the Hours in dance \n",
      "Led on th' eternal spring. Not that fair field \n",
      "Of Enna, where Prosérpine gath'ring flow'rs \n",
      "Herself a fairer flow'r by gloomy Dis \n",
      "Was gathered, which cost Ceres all that pain \n",
      "To seek her through the world; nor that sweet grove \n",
      "Of Daphne by Orontes, and th' inspired \n",
      "\n",
      "\n",
      "\n",
      "\n",
      "Castalian spring, might with this Paradise \n",
      "Of Eden strive; nor that Nyseian isle \n",
      "Girt with the river Triton, where old Cham, \n",
      "Whom Gentiles Ammon call and Libyan Jove, \n",
      "Hid Amalthea and her florid son \n",
      "Young Bacchus from his stepdame Rhea's eye; \n",
      "Nor where Abássin kings their issue guard, \n",
      "Mount Amara, though this by some supposed \n",
      "True Paradise under the Ethiop line \n",
      "By Nilus' head, enclosed with shining rock, \n",
      "A whole day's journey high, but wide remote \n",
      "From this Assyrian garden, where the Fiend \n",
      "Saw undelighted all delight, all kind \n",
      "Of living creatures new to sight and strange: \n",
      "Two of far nobler shape erect and tall, \n",
      "Godlike erect, with native honour clad \n",
      "In naked majesty seemed lords of all, \n",
      "And worthy seemed, for in their looks divine \n",
      "The image of their glorious Maker shone, \n",
      "Truth, wisdom, sanctitude severe and pure, \n",
      "Severe, but in true filial freedom placed; \n",
      "Whence true authority in men; though both \n",
      "Not equal, as their sex not equal seemed; \n",
      "For contemplation he and valour formed, \n",
      "For softness she and sweet attractive grace, \n",
      "He for God only, she for God in him: \n",
      "His fair large front and eye sublime declared \n",
      "Absolute rule; and hyacinthine locks \n",
      "Round from his parted forelock manly hung \n",
      "Clust'ring, but not beneath his shoulders broad: \n",
      "She as a veil down to the slender waist \n",
      "Her unadornèd golden tresses wore \n",
      "Dishevelled, but in wanton ringlets waved \n",
      "As the vine\n",
      "----------------------------------------------------------------------------------------------------\n",
      "26\n",
      "farewell hope, and with hope farewell fear, \n",
      "Farewell remorse: all good to me is lost; \n",
      "Evil be thou my good; by thee at least \n",
      "Divided empire with Heav'n's King I hold \n",
      "By thee, and more than half perhaps will reign; \n",
      "As man ere long, and this new world shall know. \n",
      "   Thus while he spake, each passion dimmed his face \n",
      "Thrice changed with pale, ire, envy and despair, \n",
      "Which marred his borrowed visage, and betrayed \n",
      "Him counterfeit, if any eye beheld. \n",
      "\n",
      "\n",
      "\n",
      "\n",
      "For Heav'nly minds from such distempers foul \n",
      "Are ever clear. Whereof he soon aware, \n",
      "Each perturbation smoothed with outward calm, \n",
      "Artificer of fraud; and was the first \n",
      "That practised falsehood under saintly show, \n",
      "Deep malice to conceal, couched with revenge: \n",
      "Yet not enough had practised to deceive \n",
      "Uriel once warned; whose eye pursued him down \n",
      "The way he went, and on th' Assyrian mount \n",
      "Saw him disfigured, more than could befall \n",
      "Spirit of happy sort: his gestures fierce \n",
      "He marked and mad demeanour, then alone, \n",
      "As he supposed, all unobserved, unseen. \n",
      "So on he fares, and to the border comes \n",
      "Of Eden, where delicious Paradise, \n",
      "Now nearer, crowns with her enclosure green, \n",
      "As with a rural mound the champaign head \n",
      "Of a steep wilderness, whose hairy sides \n",
      "With thicket overgrown, grotesque and wild, \n",
      "Access denied; and overhead up grew \n",
      "Insuperable heighth of loftiest shade, \n",
      "Cedar, and pine, and fir, and branching palm, \n",
      "A sylvan scene, and as the ranks ascend \n",
      "Shade above shade, a woody theatre \n",
      "Of stateliest view. Yet higher than their tops \n",
      "The verdurous wall of Paradise up sprung: \n",
      "Which to our general sire gave prospect large \n",
      "Into his nether empire neighbouring round. \n",
      "And higher than that wall a circling row \n",
      "Of goodliest trees loaden with fairest fruit, \n",
      "Blossoms and fruits at once of golden hue \n",
      "Appeared, with gay enamelled colours mixed: \n",
      "On which the sun more glad impressed his beams \n",
      "Than in fair evening cloud, or humid bow, \n",
      "When God hath show'red the earth; so lovely seemed \n",
      "That landscape: and of pure now purer air \n",
      "Meets his approach, and to the heart inspires \n",
      "Vernal delight and joy, able to drive \n",
      "All sadness but despair: now gentle gales \n",
      "\n",
      "\n",
      "\n",
      "\n",
      "Fanning their odoriferous wings dispense \n",
      "Native perfumes and whisper whence they stole \n",
      "Those balmy spoils. As when to them who sail \n",
      "Beyond the Cape of Hope, and now are past \n",
      "Mozámbique, off at sea northeast winds blow \n",
      "Sabéan odours from the spicy shore \n",
      "Of Araby the blest, with such delay \n",
      "Well pleased they slack their course, and many a league \n",
      "Cheered with the grateful smell old Ocean smiles. \n",
      "So entertained those odorous sweets the Fiend \n",
      "Who came their bane, though with them better pleased \n",
      "Than Asmodéus with the fishy fume, \n",
      "That drove him, though enamoured, from the spouse \n",
      "Of Tobit's son, and with a vengeance sent \n",
      "From Media post to Egypt, there fast bound. \n",
      "   Now to th' ascent of that steep savage hill \n",
      "Satan had journeyed on, pensive and slow; \n",
      "But further way found none, so thick entwined, \n",
      "As one continued brake, the undergrowth \n",
      "Of shrubs and tangling bushes had perplexed \n",
      "All path of man or beast that passed that way: \n",
      "One gate there only was, and that looked east \n",
      "On th' other side: which when th' Arch-felon saw \n",
      "Due entrance he disdained, and in contempt, \n",
      "At one slight bound high overleaped all bound \n",
      "Of hill or highest wall, and sheer within \n",
      "Lights on his feet. As when a prowling wolf, \n",
      "Whom hunger drives to seek new haunt for prey, \n",
      "Watching where shepherds pen their flocks at eve \n",
      "In hurdled cotes amid the field secure, \n",
      "Leaps o'er the fence with ease into the fold: \n",
      "Or as a thief bent to unhoard the cash \n",
      "Of some rich burgher, whose substantial doors, \n",
      "Cross-barred and bolted fast, fear no assault, \n",
      "In at the window climbs, or o'er the tiles; \n",
      "So clomb this first grand thief into God's fold: \n",
      "So since into his Church lewd hirelings climb. \n",
      "Thence up he flew, and on the Tree of Life, \n",
      "The middle tree and highest there that grew, \n",
      "\n",
      "\n",
      "\n",
      "\n",
      "Sat like a cormorant; yet not true life \n",
      "Thereby regained, but sat devising death \n",
      "To them who lived; nor on the virtue thought \n",
      "Of that life-giving plant, but only used \n",
      "For prospect, what well used had been the pledge \n",
      "Of immortality. So little knows \n",
      "Any, but God alone, to value right \n",
      "The good before him, but perverts best things \n",
      "To worst abuse, or to their meanest use. \n",
      "Beneath him with new wonder now he views \n",
      "To all delight of human sense exposed \n",
      "In narrow room Nature's whole wealth, yea more, \n",
      "A Heav'n on earth, for blissful Paradise \n",
      "Of God the garden was, by him in the east \n",
      "Of Eden planted; Eden stretched her line \n",
      "From Auran\n",
      "----------------------------------------------------------------------------------------------------\n",
      "1\n",
      "opposed \n",
      "In dubious battle on the plains of Heav'n, \n",
      "And shook his throne. What though the field be lost? \n",
      "All is not lost; the unconquerable will, \n",
      "And study of revenge, immortal hate, \n",
      "And courage never to submit or yield: \n",
      "And what is else not to be overcome? \n",
      "That glory never shall his wrath or might \n",
      "Extort from me. To bow and sue for grace \n",
      "With suppliant knee, and deify his power \n",
      "Who from the terror of this arm so late \n",
      "Doubted his empire, that were low indeed, \n",
      "That were an ignominy and shame beneath \n",
      "This downfall; since by Fate the strength of gods \n",
      "And this empyreal substance cannot fail, \n",
      "\n",
      "\n",
      "\n",
      "\n",
      "Since through experience of this great event \n",
      "In arms not worse, in foresight much advanced, \n",
      "We may with more successful hope resolve \n",
      "To wage by force or guile eternal war \n",
      "Irreconcilable, to our grand Foe, \n",
      "Who now triúmphs, and in th' excess of joy \n",
      "Sole reigning holds the tyranny of Heav'n. \n",
      "   So spake th' apostate angel, though in pain, \n",
      "Vaunting aloud, but racked with deep despair: \n",
      "And him thus answered soon his bold compeer. \n",
      "   O Prince, O chief of many thronèd Powers \n",
      "That led th' embattled Seraphim to war \n",
      "Under thy conduct, and in dreadful deeds \n",
      "Fearless, endangered Heav'n's perpetual King; \n",
      "And put to proof his high supremacy, \n",
      "Whether upheld by strength, or Chance, or Fate; \n",
      "Too well I see and rue the dire event, \n",
      "That with sad overthrow and foul defeat \n",
      "Hath lost us Heav'n, and all this mighty host \n",
      "In horrible destruction laid thus low, \n",
      "As far as gods and Heav'nly essences \n",
      "Can perish: for the mind and spirit remains \n",
      "Invincible, and vigour soon returns, \n",
      "Though all our glory extinct, and happy state \n",
      "Here swallowed up in endless misery. \n",
      "But what if he our Conqueror, (whom I now \n",
      "Of force believe Almighty, since no less \n",
      "Than such could have o'erpow'red such force as ours) \n",
      "Have left us this our spirit and strength entire \n",
      "Strongly to suffer and support our pains, \n",
      "That we may so suffice his vengeful ire, \n",
      "Or do him mightier service as his thralls \n",
      "By right of war, whate'er his business be, \n",
      "Here in the heart of Hell to work in fire, \n",
      "Or do his errands in the gloomy deep; \n",
      "What can it then avail though yet we feel \n",
      "Strength undiminished, or eternal being \n",
      "To undergo eternal punishment? \n",
      "Whereto with speedy words th' Arch-Fiend replied. \n",
      "\n",
      "\n",
      "\n",
      "\n",
      "   Fall'n Cherub, to be weak is miserable \n",
      "Doing or suffering: but of this be sure, \n",
      "To do aught good never will be our task, \n",
      "But ever to do ill our sole delight, \n",
      "As being the contrary to his high will \n",
      "Whom we resist. If then his Providence \n",
      "Out of our evil seek to bring forth good, \n",
      "Our labour must be to pervert that end, \n",
      "And out of good still to find means of evil, \n",
      "Which oft-times may succeed, so as perhaps \n",
      "Shall grieve him, if I fail not, and disturb \n",
      "His inmost counsels from their destined aim. \n",
      "But see the angry Victor hath recalled \n",
      "His ministers of vengeance and pursuit \n",
      "Back to the gates of Heav'n: the sulphurous hail \n",
      "Shot after us in storm, o'erblown hath laid \n",
      "The fiery surge, that from the precipice \n",
      "Of Heav'n received us falling, and the thunder \n",
      "Winged with red lightning and impetuous rage, \n",
      "Perhaps hath spent his shafts, and ceases now \n",
      "To bellow through the vast and boundless deep. \n",
      "Let us not slip th' occasion, whether scorn, \n",
      "Or satiate fury yield it from our Foe. \n",
      "Seest thou yon dreary plain, forlorn and wild, \n",
      "The seat of desolation, void of light, \n",
      "Save what the glimmering of these livid flames \n",
      "Casts pale and dreadful? Thither let us tend \n",
      "From off the tossing of these fiery waves, \n",
      "There rest, if any rest can harbour there, \n",
      "And reassembling our afflicted powers, \n",
      "Consult how we may henceforth most offend \n",
      "Our Enemy, our own loss how repair, \n",
      "How overcome this dire calamity, \n",
      "What reinforcement we may gain from hope, \n",
      "If not what resolution from despair. \n",
      "   Thus Satan talking to his nearest mate \n",
      "With head uplift above the wave, and eyes \n",
      "That sparkling blazed; his other parts besides \n",
      "Prone on the flood, extended long and large \n",
      "\n",
      "\n",
      "\n",
      "\n",
      "Lay floating many a rood, in bulk as huge \n",
      "As whom the fables name of monstrous size, \n",
      "Titanian, or Earth-born, that warred on Jove, \n",
      "Briareos or Typhon, whom the den \n",
      "By ancient Tarsus held, or that sea-beast \n",
      "Leviathan, which God of all his works \n",
      "Created hugest that swim th' Océan stream: \n",
      "Him haply slumb'ring on the Norway foam \n",
      "The pilot of some small night-foundered skiff, \n",
      "Deeming some island, oft, as seamen tell, \n",
      "With fixèd anchor in his scaly rind \n",
      "Moors by his side under the lee, while night \n",
      "Invests the sea, and wishèd morn delays: \n",
      "So stretched out huge in length the Arch-Fiend lay \n",
      "Chained on the burning lake\n",
      "----------------------------------------------------------------------------------------------------\n",
      "30\n",
      "whereon to build \n",
      "Their ruin! Hence I will excite their minds \n",
      "With more desire to know, and to reject \n",
      "Envious commands, invented with design \n",
      "To keep them low whom knowledge might exalt \n",
      "Equal with gods; aspiring to be such, \n",
      "They taste and die: what likelier can ensue? \n",
      "But first with narrow search I must walk round \n",
      "This garden, and no corner leave unspied; \n",
      "A chance but chance may lead where I may meet \n",
      "Some wand'ring Spirit of Heav'n, by fountain side, \n",
      "Or in thick shade retired, from him to draw \n",
      "What further would be learnt. Live while ye may, \n",
      "Yet happy pair; enjoy, till I return, \n",
      "Short pleasures, for long woes are to succeed. \n",
      "   So saying, his proud step he scornful turned, \n",
      "But with sly circumspection, and began \n",
      "Through wood, through waste, o'er hill, o'er dale his roam. \n",
      "Meanwhile in utmost longitude, where heav'n \n",
      "With earth and Ocean meets, the setting sun \n",
      "Slowly descended, and with right aspéct \n",
      "Against the eastern gate of Paradise \n",
      "Levelled his evening rays: it was a rock \n",
      "Of alabaster, piled up to the clouds, \n",
      "Conspicuous far, winding with one ascent \n",
      "Accessible from earth, one entrance high; \n",
      "\n",
      "\n",
      "\n",
      "\n",
      "The rest was craggy cliff, that overhung \n",
      "Still as it rose, impossible to climb. \n",
      "Betwixt these rocky pillars Gabriel sat \n",
      "Chief of th' angelic guards, awaiting night; \n",
      "About him exercised heroic games \n",
      "Th' unarmed youth of Heav'n, but nigh at hand \n",
      "Celestial armoury, shields, helms, and spears, \n",
      "Hung high with diamond flaming, and with gold. \n",
      "Thither came Uriel, gliding through the even \n",
      "On a sunbeam, swift as a shooting star \n",
      "In autumn thwarts the night, when vapours fired \n",
      "Impress the air, and shows the mariner \n",
      "From what point of his compass to beware \n",
      "Impetuous winds: he thus began in haste. \n",
      "   Gabriel, to thee thy course by lot hath giv'n \n",
      "Charge and strict watch that to this happy place \n",
      "No evil thing approach or enter in; \n",
      "This day at heighth of noon came to my sphere \n",
      "A Spirit, zealous, as he seemed, to know \n",
      "More of th' Almighty's works, and chiefly man \n",
      "God's latest image: I described his way \n",
      "Bent all on speed, and marked his airy gait; \n",
      "But in the mount that lies from Eden north, \n",
      "Where he first lighted, soon discerned his looks \n",
      "Alien from Heav'n, with passions foul obscured: \n",
      "Mine eye pursued him still, but under shade \n",
      "Lost sight of him; one of the banished crew \n",
      "I fear, hath ventured from the deep, to raise \n",
      "New troubles; him thy care must be to find. \n",
      "   To whom the wingèd warrior thus returned: \n",
      "Uriel, no wonder if thy perfect sight, \n",
      "Amid the sun's bright circle where thou sitt'st, \n",
      "See far and wide: in at this gate none pass \n",
      "The vigilance here placed, but such as come \n",
      "Well known from Heav'n; and since meridian hour \n",
      "No creature thence: if Spirit of other sort, \n",
      "So minded, have o'erleaped these earthy bounds \n",
      "On purpose, hard thou know'st it to exclude \n",
      "Spiritual substance with corporeal bar. \n",
      "\n",
      "\n",
      "\n",
      "\n",
      "But if within the circuit of these walks, \n",
      "In whatsoever shape he lurk, of whom \n",
      "Thou tell'st, by morrow dawning I shall know. \n",
      "   So promised he, and Uriel to his charge \n",
      "Returned on that bright beam, whose point now raised \n",
      "Bore him slope downward to the sun now fall'n \n",
      "Beneath the Azores; whether the prime orb, \n",
      "Incredible how swift, had thither rolled \n",
      "Diurnal, or this less volúble earth \n",
      "By shorter flight to th' east, had left him there \n",
      "Arraying with reflected purple and gold \n",
      "The clouds that on his western throne attend: \n",
      "Now came still ev'ning on, and twilight grey \n",
      "Had in her sober livery all things clad; \n",
      "Silence accompanied, for beast and bird, \n",
      "They to their grassy couch, these to their nests \n",
      "Were slunk, all but the wakeful nightingale; \n",
      "She all night long her amorous descant sung; \n",
      "Silence was pleased: now glowed the firmament \n",
      "With living sapphires: Hesperus that led \n",
      "The starry host, rode brightest, till the moon \n",
      "Rising in clouded majesty, at length \n",
      "Apparent queen unveiled her peerless light, \n",
      "And o'er the dark her silver mantle threw. \n",
      "   When Adam thus to Eve: Fair consort, th' hour \n",
      "Of night, and all things now retired to rest \n",
      "Mind us of like repose, since God hath set \n",
      "Labour and rest, as day and night to men \n",
      "Successive, and the timely dew of sleep \n",
      "Now falling with soft slumb'rous weight inclines \n",
      "Our eye-lids; other creatures all day long \n",
      "Rove idle unemployed, and less need rest; \n",
      "Man hath his daily work of body or mind \n",
      "Appointed, which declares\n",
      "----------------------------------------------------------------------------------------------------\n",
      "76\n",
      "mercy, as may illústrate most \n",
      "Them fully satisfied, and thee appease. \n",
      "Attendance none shall need, nor train, where none \n",
      "Are to behold the judgement, but the judged, \n",
      "Those two; the third best absent is condemned, \n",
      "Convíct by flight, and rebel to all law; \n",
      "Conviction to the serpent none belongs. \n",
      "   Thus saying, from his radiant seat he rose \n",
      "Of high collateral glory: him Thrones and Powers, \n",
      "Princedoms, and Dominations ministrant \n",
      "Accompanied to Heaven gate, from whence \n",
      "Eden and all the coast in prospect lay. \n",
      "Down he descended straight; the speed of Gods \n",
      "Time counts not, though with swiftest minutes winged. \n",
      "Now was the sun in western cadence low \n",
      "From noon, and gentle airs due at their hour \n",
      "To fan the earth now waked, and usher in \n",
      "The ev'ning cool when he from wrath more cool \n",
      "Came the mild Judge and Intercessor both \n",
      "To sentence man: the voice of God they heard \n",
      "Now walking in the garden, by soft winds \n",
      "Brought to their ears, while day declined; they heard \n",
      "And from his presence hid themselves among \n",
      "The thickest trees, both man and wife, till God \n",
      "Approaching, thus to Adam called aloud. \n",
      "   Where art thou Adam, wont with joy to meet \n",
      "My coming seen far off? I miss thee here, \n",
      "Not pleased, thus entertained with solitude, \n",
      "Where obvious duty erewhile appeared unsought: \n",
      "Or come I less conspicuous, or what change \n",
      "Absents thee, or what chance detains? Come forth. \n",
      "He came, and with him Eve, more loath, though first \n",
      "To offend, discount'nanced both, and discomposed; \n",
      "Love was not in their looks, either to God \n",
      "Or to each other, but apparent guilt, \n",
      "And shame, and perturbation, and despair, \n",
      "\n",
      "\n",
      "\n",
      "\n",
      "Anger, and obstinacy, and hate, and guile. \n",
      "Whence Adam falt'ring long, thus answered brief. \n",
      "   I heard thee in the garden, and of thy voice \n",
      "Afraid, being naked, hid myself. To whom \n",
      "The gracious Judge without revile replied. \n",
      "   My voice thou oft hast heard, and hast not feared, \n",
      "But still rejoiced, how is it now become \n",
      "So dreadful to thee? that thou art naked, who \n",
      "Hath told thee? hast thou eaten of the tree \n",
      "Whereof I gave thee charge thou shouldst not eat? \n",
      "   To whom thus Adam sore beset replied. \n",
      "O Heav'n! in evil strait this day I stand \n",
      "Before my Judge, either to undergo \n",
      "Myself the total crime, or to accuse \n",
      "My other self, the partner of my life; \n",
      "Whose failing, while her faith to me remains, \n",
      "I should conceal, and not expose to blame \n",
      "By my complaint; but strict necessity \n",
      "Subdues me, and calamitous constraint, \n",
      "Lest on my head both sin and punishment, \n",
      "However insupportable, be all \n",
      "Devolved; though should I hold my peace, yet thou \n",
      "Wouldst easily detect what I conceal. \n",
      "This woman whom thou mad'st to be my help, \n",
      "And gav'st me as thy perfect gift, so good, \n",
      "So fit, so ácceptáble, so divine, \n",
      "That from her hand I could suspect no ill, \n",
      "And what she did, whatever in itself, \n",
      "Her doing seemed to justify the deed; \n",
      "She gave me of the tree, and I did eat. \n",
      "   To whom the sov'reign Presence thus replied. \n",
      "Was she thy God, that her thou didst obey \n",
      "Before his voice, or was she made thy guide, \n",
      "Superior, or but equal, that to her \n",
      "Thou didst resign thy manhood, and the place \n",
      "Wherein God set thee above her made of thee, \n",
      "And for thee, whose perfection far excelled \n",
      "Hers in all real dignity: adorned \n",
      "She was indeed, and lovely to attract \n",
      "\n",
      "\n",
      "\n",
      "\n",
      "Thy love, not thy subjection, and her gifts \n",
      "Were such as under government well seemed, \n",
      "Unseemly to bear rule, which was thy part \n",
      "And person, hadst thou known thyself aright. \n",
      "   So having said, he thus to Eve in few: \n",
      "Say woman, what is this which thou hast done? \n",
      "   To whom sad Eve with shame nigh overwhelmed, \n",
      "Confessing soon, yet not before her Judge \n",
      "Bold or loquacious, thus abashed replied. \n",
      "   The serpent me beguiled and I did eat. \n",
      "   Which when the Lord God heard, without delay \n",
      "To judgement he proceeded on th' accused \n",
      "Serpent though brute, unable to transfer \n",
      "The guilt on him who made him instrument \n",
      "Of mischief, and polluted from the end \n",
      "Of his creation; justly then accursed, \n",
      "As vitiated in nature: more to know \n",
      "Concerned not man (since he no further knew) \n",
      "Nor altered his offence; yet God at last \n",
      "To Satan first in sin his doom applied, \n",
      "Though in mysterious terms, judged as then best: \n",
      "And on the serpent thus his curse let fall. \n",
      "   Because thou hast done this, thou art accursed \n",
      "Above all cattle, each beast of the field; \n",
      "Upon thy belly grovelling thou shalt go, \n",
      "And dust shalt eat all the days of thy life. \n",
      "Between thee and the woman I will put \n",
      "Enmity, and between thine and her seed; \n",
      "Her seed shall bruise thy head, thou bruise\n",
      "----------------------------------------------------------------------------------------------------\n",
      "67\n",
      "thee, because we have a foe \n",
      "May tempt it, I expected not to hear. \n",
      "His violence thou fear'st not, being such, \n",
      "As we, not capable of death or pain, \n",
      "Can either not receive, or can repel. \n",
      "His fraud is then thy fear, which plain infers \n",
      "Thy equal fear that my firm faith and love \n",
      "Can by his fraud be shaken or seduced; \n",
      "Thoughts, which how found they harbour in thy breast, \n",
      "Adam, misthought of her to thee so dear? \n",
      "   To whom with healing words Adam replied. \n",
      "Daughter of God and man, immortal Eve, \n",
      "For such thou art, from sin and blame entire: \n",
      "Not diffident of thee do I dissuade \n",
      "Thy absence from my sight, but to avoid \n",
      "Th' attempt itself, intended by our Foe. \n",
      "For he who tempts, though in vain, at least asperses \n",
      "The tempted with dishonour foul, supposed \n",
      "Not incorruptible of faith, not proof \n",
      "Against temptation: thou thyself with scorn \n",
      "And anger wouldst resent the offered wrong, \n",
      "Though ineffectual found: misdeem not then, \n",
      "If such affront I labour to avert \n",
      "From thee alone, which on us both at once \n",
      "The Enemy, though bold, will hardly dare, \n",
      "Or daring, first on me th' assault shall light. \n",
      "Nor thou his malice and false guile contemn; \n",
      "Subtle he needs must be, who could seduce \n",
      "Angels, nor think superfluous others' aid. \n",
      "I from the influence of thy looks receive \n",
      "Accéss in every virtue, in thy sight \n",
      "More wise, more watchful, stronger, if need were \n",
      "Of outward strength; while shame, thou looking on, \n",
      "Shame to be overcome or overreached \n",
      "Would utmost vigour raise, and raised unite. \n",
      "Why shouldst not thou like sense within thee feel \n",
      "When I am present, and thy trial choose \n",
      "\n",
      "\n",
      "\n",
      "\n",
      "With me, best witness of thy virtue tried. \n",
      "   So spake domestic Adam in his care \n",
      "And matrimonial love; but Eve, who thought \n",
      "Less áttribúted to her faith sincere, \n",
      "Thus her reply with accent sweet renewed. \n",
      "   If this be our condition, thus to dwell \n",
      "In narrow circuit straitened by a Foe, \n",
      "Subtle or violent, we not endued \n",
      "Single with like defence, wherever met, \n",
      "How are we happy, still in fear of harm? \n",
      "But harm precedes not sin: only our Foe \n",
      "Tempting affronts us with his foul esteem \n",
      "Of our integrity: his foul esteem \n",
      "Sticks no dishonour on our front, but turns \n",
      "Foul on himself; then wherefore shunned or feared \n",
      "By us? Who rather double honour gain \n",
      "From his surmise proved false, find peace within, \n",
      "Favour from Heav'n, our witness from th' event. \n",
      "And what is faith, love, virtue unassayed \n",
      "Alone, without exterior help sustained? \n",
      "Let us not then suspect our happy state \n",
      "Left so imperfect by the Maker wise, \n",
      "As not secure to single or combined. \n",
      "Frail is our happiness, if this be so, \n",
      "And Eden were no Eden thus exposed. \n",
      "   To whom thus Adam fervently replied. \n",
      "O woman, best are all things as the will \n",
      "Of God ordained them; his creating hand \n",
      "Nothing imperfect or deficient left \n",
      "Of all that he created, much less man, \n",
      "Or aught that might his happy state secure, \n",
      "Secure from outward force; within himself \n",
      "The danger lies, yet lies within his power: \n",
      "Against his will he can receive no harm. \n",
      "But God left free the will, for what obeys \n",
      "Reason, is free, and reason he made right, \n",
      "But bid her well beware, and still erect, \n",
      "Lest by some fair appearing good surprised \n",
      "She díctate false, and misinform the will \n",
      "\n",
      "\n",
      "\n",
      "\n",
      "To do what God expressly hath forbid. \n",
      "Not then mistrust, but tender love enjoins, \n",
      "That I should mind thee oft, and mind thou me. \n",
      "Firm we subsist, yet possible to swerve, \n",
      "Since reason not impossibly may meet \n",
      "Some specious object by the Foe suborned, \n",
      "And fall into deception unaware, \n",
      "Not keeping strictest watch, as she was warned. \n",
      "Seek not temptation then, which to avoid \n",
      "Were better, and most likely if from me \n",
      "Thou sever not: trial will come unsought. \n",
      "Wouldst thou approve thy constancy, approve \n",
      "First thy obedience; th' other who can know, \n",
      "Not seeing thee attempted, who attest? \n",
      "But if thou think, trial unsought may find \n",
      "Us both securer than thus warned thou seem'st, \n",
      "Go; for thy stay, not free, absents thee more; \n",
      "Go in thy native innocence, rely \n",
      "On what thou hast of virtue, summon all, \n",
      "For God towards thee hath done his part, do thine. \n",
      "   So spake the patriarch of mankind, but Eve \n",
      "Persisted, yet submiss, though last, replied. \n",
      "   With thy permission, then, and thus forewarned \n",
      "Chiefly by what thy own last reasoning words \n",
      "Touched only, that our trial, when least sought, \n",
      "May find us both perhaps far less prepared, \n",
      "The willinger I go, nor much expect \n",
      "A Foe so proud will first the weaker seek; \n",
      "So bent, the more shall shame him his repulse. \n",
      "Thus saying, from her husband's hand her hand \n",
      "Soft she withdrew, and like a wood-nymph light \n",
      "Oread or Dryad, or of Delia's train, \n",
      "Betook her to the groves, but Delia's self \n",
      "In gait\n",
      "----------------------------------------------------------------------------------------------------\n",
      "35\n",
      "nor more; but fled \n",
      "Murmuring, and with him fled the shades of night.\n",
      "\n",
      "\n",
      "\n",
      "Book 5\n",
      "\n",
      "\n",
      "\n",
      "Now Morn her rosy steps in th' eastern clime \n",
      "Advancing, sowed the earth with orient pearl, \n",
      "When Adam waked, so customed, for his sleep \n",
      "Was airy light, from pure digestion bred, \n",
      "And temperate vapours bland, which th' only sound \n",
      "Of leaves and fuming rills, Aurora's fan, \n",
      "Lightly dispersed, and the shrill matin song \n",
      "Of birds on every bough; so much the more \n",
      "His wonder was to find unwakened Eve \n",
      "With tresses discomposed, and glowing cheek, \n",
      "As through unquiet rest: he on his side \n",
      "\n",
      "\n",
      "\n",
      "\n",
      "Leaning half-raised, with looks of cordial love \n",
      "Hung over her enamoured, and beheld \n",
      "Beauty, which whether waking or asleep, \n",
      "Shot forth peculiar graces; then with voice \n",
      "Mild, as when Zephyrus on Flora breathes, \n",
      "Her hand soft touching, whispered thus. Awake \n",
      "My fairest, my espoused, my latest found, \n",
      "Heav'n's last best gift, my ever new delight, \n",
      "Awake, the morning shines, and the fresh field \n",
      "Calls us; we lose the prime, to mark how spring \n",
      "Our tended plants, how blows the citron grove, \n",
      "What drops the myrrh, and what the balmy reed, \n",
      "How Nature paints her colours, how the bee \n",
      "Sits on the bloom extracting liquid sweet. \n",
      "   Such whispering waked her, but with startled eye \n",
      "On Adam, whom embracing, thus she spake. \n",
      "O sole in whom my thoughts find all repose, \n",
      "My glory, my perfection, glad I see \n",
      "Thy face, and morn returned, for I this night, \n",
      "Such night till this I never passed, have dreamed, \n",
      "If dreamed, not as I oft am wont, of thee, \n",
      "Works of day past, or morrow's next design, \n",
      "But of offence and trouble, which my mind \n",
      "Knew never till this irksome night; methought \n",
      "Close at mine ear one called me forth to walk \n",
      "With gentle voice, I thought it thine; it said, \n",
      "Why sleep'st thou Eve? Now is the pleasant time, \n",
      "The cool, the silent, save where silence yields \n",
      "To the night-warbling bird, that now awake \n",
      "Tunes sweetest his love-laboured song; now reigns \n",
      "Full orbed the moon, and with more pleasing light \n",
      "Shadowy sets off the face of things; in vain, \n",
      "If none regard; heav'n wakes with all his eyes, \n",
      "Whom to behold but thee, Nature's desire, \n",
      "In whose sight all things joy, with ravishment \n",
      "Attracted by thy beauty still to gaze. \n",
      "I rose as at thy call, but found thee not; \n",
      "To find thee I directed then my walk; \n",
      "And on, methought, alone I passed through ways \n",
      "\n",
      "\n",
      "\n",
      "\n",
      "That brought me on a sudden to the Tree \n",
      "Of interdicted Knowledge: fair it seemed, \n",
      "Much fairer to my Fancy than by day: \n",
      "And as I wond'ring looked, beside it stood \n",
      "One shaped and winged like one of those from Heav'n \n",
      "By us oft seen; his dewy locks distilled \n",
      "Ambrosia; on that tree he also gazed; \n",
      "And O fair plant, said he, with fruit surcharged, \n",
      "Deigns none to ease thy load and taste thy sweet, \n",
      "Nor god, nor man; is knowledge so despised? \n",
      "Or envy, or what reserve forbids to taste? \n",
      "Forbid who will, none shall from me withhold \n",
      "Longer thy offered good, why else set here? \n",
      "This said he paused not, but with vent'rous arm \n",
      "He plucked, he tasted; me damp horror chilled \n",
      "At such bold words vouched with a deed so bold: \n",
      "But he thus overjoyed, O fruit divine, \n",
      "Sweet of thyself, but much more sweet thus cropped, \n",
      "Forbidden here, it seems, as only fit \n",
      "For gods, yet able to make gods of men: \n",
      "And why not gods of men, since good, the more \n",
      "Communicated, more abundant grows, \n",
      "The Author not impaired, but honoured more? \n",
      "Here, happy creature, fair angelic Eve, \n",
      "Partake thou also; happy though thou art, \n",
      "Happier thou may'st be, worthier canst not be: \n",
      "Taste this, and be henceforth among the gods \n",
      "Thyself a goddess, not to earth confined, \n",
      "But sometimes in the air, as we, sometimes \n",
      "Ascend to Heav'n, by merit thine, and see \n",
      "What life the gods live there, and such live thou. \n",
      "So saying, he drew nigh, and to me held, \n",
      "Even to my mouth of that same fruit held part \n",
      "Which he had plucked; the pleasant savoury smell \n",
      "So quickened appetite, that I, methought, \n",
      "Could not but taste. Forthwith up to the clouds \n",
      "With him I flew, and underneath beheld \n",
      "The earth outstretched immense, a prospect wide \n",
      "And various: wond'ring at my flight and change \n",
      "\n",
      "\n",
      "\n",
      "\n",
      "To this high exaltation; suddenly \n",
      "My guide was gone, and I, methought, sunk down, \n",
      "And fell asleep; but O how glad I waked \n",
      "To find this but a dream! Thus Eve her night \n",
      "Related, and thus Adam answered sad. \n",
      "   Best image of myself and dearer half, \n",
      "The trouble of thy thoughts this night in sleep \n",
      "Affects me equally; nor can I like \n",
      "This uncouth dream, of evil sprung I fear; \n",
      "Yet evil whence? In thee can harbour none, \n",
      "Created pure\n",
      "----------------------------------------------------------------------------------------------------\n",
      "55\n",
      "ev'n \n",
      "And morning chorus sung the second day. \n",
      "   The earth was formed, but in the womb as yet \n",
      "Of waters, embryon immature involved, \n",
      "Appeared not: over all the face of earth \n",
      "Main ocean flowed, not idle, but with warm \n",
      "Prolific humour soft'ning all her globe, \n",
      "Fermented the Great Mother to conceive, \n",
      "Satiate with genial moisture, when God said \n",
      "Be gathered now ye waters under heav'n \n",
      "Into one place, and let dry land appear. \n",
      "Immediately the mountains huge appear \n",
      "Emergent, and their broad bare backs upheave \n",
      "Into the clouds, their tops ascend the sky: \n",
      "So high as heaved the tumid hills, so low \n",
      "Down sunk a hollow bottom broad and deep, \n",
      "Capacious bed of waters: thither they \n",
      "Hasted with glad precipitance, uprolled \n",
      "As drops on dust conglobing from the dry; \n",
      "Part rise in crystal wall, or ridge direct, \n",
      "For haste; such flight the great command impressed \n",
      "On the swift floods: as armies at the call \n",
      "\n",
      "\n",
      "\n",
      "\n",
      "Of trumpet (for of armies thou hast heard) \n",
      "Troop to their standard, so the wat'ry throng, \n",
      "Wave rolling after wave, where way they found, \n",
      "If steep, with torrent rapture, if through plain, \n",
      "Soft-ebbing; nor withstood them rock or hill, \n",
      "But they, or under ground, or circuit wide \n",
      "With serpent error wand'ring, found their way, \n",
      "And on the washy ooze deep channels wore; \n",
      "Easy, ere God had bid the ground be dry. \n",
      "All but within those banks, where rivers now \n",
      "Stream, and perpetual draw their humid train. \n",
      "The dry land, earth, and the great receptacle \n",
      "Of congregated waters he called seas: \n",
      "And saw that it was good, and said, Let th' earth \n",
      "Put forth the verdant grass, herb yielding seed, \n",
      "And fruit tree yielding fruit after her kind; \n",
      "Whose seed is in herself upon the earth. \n",
      "He scarce had said, when the bare earth, till then \n",
      "Desert and bare, unsightly, unadorned, \n",
      "Brought forth the tender grass, whose verdure clad \n",
      "Her universal face with pleasant green, \n",
      "Then herbs of every leaf, that sudden flow'red \n",
      "Op'ning their various colours, and made gay \n",
      "Her bosom smelling sweet: and these scarce blown, \n",
      "Forth flourished thick the clust'ring vine, forth crept \n",
      "The swelling gourd, up stood the corny reed \n",
      "Embattled in her field: and the humble shrub, \n",
      "And bush with frizzled hair implicit: last \n",
      "Rose as in dance the stately trees, and spread \n",
      "Their branches hung with copious fruit; or gemmed \n",
      "Their blossoms: with high woods the hills were crowned, \n",
      "With tufts the valleys and each fountain side, \n",
      "With borders long the rivers. That earth now \n",
      "Seemed like to Heav'n, a seat where gods might dwell, \n",
      "Or wander with delight, and love to haunt \n",
      "Her sacred shades: though God had yet not rained \n",
      "Upon the earth, and man to till the ground \n",
      "None was, but from the earth a dewy mist \n",
      "Went up and watered all the ground, and each \n",
      "\n",
      "\n",
      "\n",
      "\n",
      "Plant of the field, which ere it was in the earth \n",
      "God made, and every herb, before it grew \n",
      "On the green stem; God saw that it was good: \n",
      "So ev'n and morn recorded the third day. \n",
      "   Again th' Almighty spake: Let there be lights \n",
      "High in th' expanse of heaven to divide \n",
      "The day from night; and let them be for signs, \n",
      "For seasons, and for days, and circling years, \n",
      "And let them be for lights as I ordain \n",
      "Their office in the firmament of heav'n \n",
      "To give light on the earth; and it was so. \n",
      "And God made two great lights, great for their use \n",
      "To man, the greater to have rule by day, \n",
      "The less by night altern: and made the stars, \n",
      "And set them in the firmament of heav'n \n",
      "To illuminate the earth, and rule the day \n",
      "In their vicissitude, and rule the night, \n",
      "And light from darkness to divide. God saw, \n",
      "Surveying his great work, that it was good: \n",
      "For of celestial bodies first the sun \n",
      "A mighty sphere he framed, unlightsome first, \n",
      "Though of ethereal mould: then formed the moon \n",
      "Globose, and every magnitude of stars, \n",
      "And sowed with stars the heaven thick as a field: \n",
      "Of light by far the greater part he took, \n",
      "Transplanted from her cloudy shrine, and placed \n",
      "In the sun's orb, made porous to receive \n",
      "And drink the liquid light, firm to retain \n",
      "Her gathered beams, great palace now of light. \n",
      "Hither as to their fountain other stars \n",
      "Repairing, in their golden urns draw light, \n",
      "And hence the morning planet gilds his horns; \n",
      "By tincture or reflection they augment \n",
      "Their small peculiar, though from human sight \n",
      "So far remote, with diminution seen. \n",
      "First in his east the glorious lamp was seen, \n",
      "Regent of day, and all th' horizon round \n",
      "Invested with bright rays, jocund to run \n",
      "His longitude through heav'n's high road: the grey \n",
      "\n",
      "\n",
      "\n",
      "\n",
      "Dawn, and the Pleiades before him danced \n",
      "Shedding sweet influence: less bright the moon, \n",
      "But opposite in levelled west was set \n",
      "His mirror, with full face borrowing her light \n",
      "From him, for other light\n",
      "----------------------------------------------------------------------------------------------------\n",
      "6\n",
      "th' Almighty, and that strife \n",
      "Was not inglorious, though th' event was dire, \n",
      "\n",
      "\n",
      "\n",
      "\n",
      "As this place testifies, and this dire change \n",
      "Hateful to utter: but what power of mind \n",
      "Foreseeing or presaging, from the depth \n",
      "Of knowledge past or present, could have feared, \n",
      "How such united force of gods, how such \n",
      "As stood like these, could ever know repulse? \n",
      "For who can yet believe, though after loss, \n",
      "That all these puissant legions, whose exíle \n",
      "Hath emptied Heav'n, shall fail to reascend \n",
      "Self-raised, and repossess their native seat? \n",
      "For me be witness all the host of Heav'n, \n",
      "If counsels different, or danger shunned \n",
      "By me, have lost our hopes. But he who reigns \n",
      "Monarch in Heav'n, till then as one secure \n",
      "Sat on his throne, upheld by old repute, \n",
      "Consent or custom, and his regal state \n",
      "Put forth at full, but still his strength concealed, \n",
      "Which tempted our attempt, and wrought our fall. \n",
      "Henceforth his might we know, and know our own \n",
      "So as not either to provoke, or dread \n",
      "New war, provoked; our better part remains \n",
      "To work in close design, by fraud or guile \n",
      "What force effected not: that he no less \n",
      "At length from us may find, who overcomes \n",
      "By force, hath overcome but half his foe. \n",
      "Space may produce new worlds; whereof so rife \n",
      "There went a fame in Heav'n that he ere long \n",
      "Intended to create, and therein plant \n",
      "A generation, whom his choice regard \n",
      "Should favour equal to the sons of Heav'n: \n",
      "Thither, if but to pry, shall be perhaps \n",
      "Our first eruption; thither or elsewhere: \n",
      "For this infernal pit shall never hold \n",
      "Celestial Spirits in bondage, nor th' abyss \n",
      "Long under darkness cover. But these thoughts \n",
      "Full counsel must mature: peace is despaired, \n",
      "For who can think submission? War then, war \n",
      "Open or understood must be resolved. \n",
      "   He spake: and to confirm his words, out flew \n",
      "\n",
      "\n",
      "\n",
      "\n",
      "Millions of flaming swords, drawn from the thighs \n",
      "Of mighty Cherubim; the sudden blaze \n",
      "Far round illumined Hell: highly they raged \n",
      "Against the Highest, and fierce with grasped arms \n",
      "Clashed on their sounding shields the din of war, \n",
      "Hurling defiance toward the vault of Heav'n. \n",
      "   There stood a hill not far whose grisly top \n",
      "Belched fire and rolling smoke; the rest entire \n",
      "Shone with a glossy scurf, undoubted sign \n",
      "That in his womb was hid metallic ore, \n",
      "The work of sulphur. Thither winged with speed \n",
      "A numerous brígade hastened. As when bands \n",
      "Of pioneers with spade and pickaxe armed \n",
      "Forerun the royal camp, to trench a field \n",
      "Or cast a rampart. Mammon led them on, \n",
      "Mammon, the least erected Spirit that fell \n",
      "From Heav'n, for ev'n in Heav'n his looks and thoughts \n",
      "Were always downward bent, admiring more \n",
      "The riches of Heav'n's pavement, trodden gold, \n",
      "Than aught divine or holy else enjoyed \n",
      "In vision beatific: by him first \n",
      "Men also, and by his suggestion taught, \n",
      "Ransacked the centre, and with impious hands \n",
      "Rifled the bowels of their mother Earth \n",
      "For treasures better hid. Soon had his crew \n",
      "Opened into the hill a spacious wound \n",
      "And digged out ribs of gold. Let none admire \n",
      "That riches grow in Hell; that soil may best \n",
      "Deserve the precious bane. And here let those \n",
      "Who boast in mortal things, and wond'ring tell \n",
      "Of Babel, and the works of Memphian kings, \n",
      "Learn how their greatest monuments of fame, \n",
      "And strength and art are easily outdone \n",
      "By Spirits reprobate, and in an hour \n",
      "What in an age they with incessant toil \n",
      "And hands innumerable scarce perform. \n",
      "Nigh on the plain in many cells prepared, \n",
      "That underneath had veins of liquid fire \n",
      "Sluiced from die lake, a second multitude \n",
      "\n",
      "\n",
      "\n",
      "\n",
      "With wondrous art founded the massy ore, \n",
      "Severing each kind, and scummed the bullion dross: \n",
      "A third as soon had formed within the ground \n",
      "A various mould, and from the boiling cells \n",
      "By strange conveyance filled each hollow nook, \n",
      "As in an organ from one blast of wind \n",
      "To many a row of pipes the sound-board breathes. \n",
      "Anon out of the earth a fabric huge \n",
      "Rose like an exhalation, with the sound \n",
      "Of dulcet symphonies and voices sweet, \n",
      "Built like a temple, where pilasters round \n",
      "Were set, and Doric pillars overlaid \n",
      "With golden architrave; nor did there want \n",
      "Cornice or frieze with bossy sculptures grav'n; \n",
      "The roof was fretted gold. Not Babylon, \n",
      "Nor great Alcairo such magnificence \n",
      "Equalled in all their glories, to enshrine \n",
      "Belus or Serapis their gods, or seat \n",
      "Their kings, when Egypt with Assyria strove \n",
      "In wealth and luxury. Th' ascending pile \n",
      "Stood fixed her stately heighth, and straight the doors \n",
      "Op'ning their brazen folds discover wide \n",
      "Within, her ample spaces, o'er the smooth\n",
      "----------------------------------------------------------------------------------------------------\n",
      "25\n",
      "Throws his steep flight in many an airy wheel, \n",
      "Nor stayed, till on Niphates' top he lights.\n",
      "\n",
      "Book 4\n",
      "\n",
      "O for that warning voice, which he who saw \n",
      "Th' Apocalypse, heard cry in Heav'n aloud, \n",
      "Then when the Dragon, put to second rout, \n",
      "Came furious down to be revenged on men, \n",
      "Woe to the inhabitants on earth! that now, \n",
      "While time was, our first parents had been warned \n",
      "The coming of their secret foe, and 'scaped \n",
      "Haply so 'scaped his mortal snare; for now \n",
      "Satan, now first inflamed with rage, came down, \n",
      "The Tempter ere th' Accuser of mankind, \n",
      "To wreck on innocent frail man his loss \n",
      "Of that first battle, and his flight to Hell: \n",
      "Yet not rejoicing in his speed, though bold, \n",
      "Far off and fearless, nor with cause to boast, \n",
      "Begins his dire attempt, which nigh the birth \n",
      "Now rolling, boils in his tumultuous breast, \n",
      "And like a devilish engine back recoils \n",
      "Upon himself; horror and doubt distract \n",
      "His troubled thoughts, and from the bottom stir \n",
      "The Hell within him, for within him Hell \n",
      "He brings, and round about him, nor from Hell \n",
      "One step no more than from himself can fly \n",
      "By change of place: now conscience wakes despair \n",
      "That slumbered, wakes the bitter memory \n",
      "Of what he was, what is, and what must be \n",
      "Worse; of worse deeds worse sufferings must ensue. \n",
      "Sometimes towards Eden which now in his view \n",
      "Lay pleasant, his grieved look he fixes sad, \n",
      "Sometimes towards heav'n and the full-blazing sun, \n",
      "Which now sat high in his meridian tower: \n",
      "Then much revolving, thus in sighs began. \n",
      "   O thou that with surpassing glory crowned, \n",
      "Look'st from thy sole dominion like the God \n",
      "Of this new world; at whose sight all the stars \n",
      "Hide their diminished heads; to thee I call, \n",
      "But with no friendly voice, and add thy name \n",
      "O sun, to tell thee how I hate thy beams \n",
      "That bring to my remembrance from what state \n",
      "I fell, how glorious once above thy sphere; \n",
      "\n",
      "\n",
      "\n",
      "\n",
      "Till pride and worse ambition threw me down \n",
      "Warring in Heav'n against Heav'n's matchless King: \n",
      "Ah wherefore! he deserved no such return \n",
      "From me, whom he created what I was \n",
      "In that bright eminence, and with his good \n",
      "Upbraided none; nor was his service hard. \n",
      "What could be less than to afford him praise, \n",
      "The easiest recompense, and pay him thanks, \n",
      "How due! Yet all his good proved ill in me, \n",
      "And wrought but malice; lifted up so high \n",
      "I 'sdained subjection, and thought one step higher \n",
      "Would set me highest, and in a moment quit \n",
      "The debt immense of endless gratitude, \n",
      "So burdensome, still paying, still to owe; \n",
      "Forgetful what from him I still received, \n",
      "And understood not that a grateful mind \n",
      "By owing owes not, but still pays, at once \n",
      "Indebted and discharged; what burden then? \n",
      "O had his powerful destiny ordained \n",
      "Me some inferior angel, I had stood \n",
      "Then happy; no unbounded hope had raised \n",
      "Ambition. Yet why not? Some other Power \n",
      "As great might have aspired, and me though mean \n",
      "Drawn to his part; but other Powers as great \n",
      "Fell not, but stand unshaken, from within \n",
      "Or from without, to all temptations armed. \n",
      "Hadst thou the same free will and power to stand? \n",
      "Thou hadst: whom hast thou then or what to accuse, \n",
      "But Heav'n's free love dealt equally to all? \n",
      "Be then his love accursed, since love or hate, \n",
      "To me alike, it deals eternal woe. \n",
      "Nay cursed be thou; since against his thy will \n",
      "Chose freely what it now so justly rues. \n",
      "Me miserable! Which way shall I fly \n",
      "Infinite wrath, and infinite despair? \n",
      "Which way I fly is Hell; myself am Hell; \n",
      "And in the lowest deep a lower deep \n",
      "Still threat'ning to devour me opens wide, \n",
      "To which the Hell I suffer seems a Heav'n. \n",
      "\n",
      "\n",
      "\n",
      "\n",
      "O then at last relent: is there no place \n",
      "Left for repentance, none for pardon left? \n",
      "None left but by submission; and that word \n",
      "Disdain forbids me, and my dread of shame \n",
      "Among the Spirits beneath, whom I seduced \n",
      "With other promises and other vaunts \n",
      "Than to submit, boasting I could subdue \n",
      "Th' Omnipotent. Ay me, they little know \n",
      "How dearly I abide that boast so vain, \n",
      "Under what torments inwardly I groan; \n",
      "While they adore me on the throne of Hell, \n",
      "With diadem and sceptre high advanced \n",
      "The lower still I fall, only supreme \n",
      "In misery; such joy ambition finds. \n",
      "But say I could repent and could obtain \n",
      "By act of grace my former state; how soon \n",
      "Would heighth recall high thoughts, how soon unsay \n",
      "What feigned submission swore: ease would recant \n",
      "Vows made in pain, as violent and void. \n",
      "For never can true reconcilement grow \n",
      "Where wounds of deadly hate have pierced so deep: \n",
      "Which would but lead me to a worse relapse \n",
      "And heavier fall: so should I purchase dear \n",
      "Short intermission bought with double smart. \n",
      "This knows my punisher; therefore as far \n",
      "From granting he, as I from begging peace: \n",
      "All hope excluded thus, behold instead \n",
      "Of us outcast, exiled, his new delight, \n",
      "Mankind created\n",
      "----------------------------------------------------------------------------------------------------\n",
      "4\n",
      "Egypt from Syrian ground, had general names \n",
      "Of Baälim and Ashtaroth, those male, \n",
      "These feminine. For Spirits when they please \n",
      "Can either sex assume, or both; so soft \n",
      "And uncompounded is their essence pure; \n",
      "Not tied or manacled with joint or limb, \n",
      "Nor founded on the brittle strength of bones, \n",
      "Like cumbrous flesh; but in what shape they choose \n",
      "Dilated or condensed, bright or obscure, \n",
      "\n",
      "\n",
      "\n",
      "\n",
      "Can execute their airy purposes, \n",
      "And works of love or enmity fulfil. \n",
      "For these the race of Israel oft forsook \n",
      "Their Living Strength, and unfrequented left \n",
      "His righteous altar, bowing lowly down \n",
      "To bestial gods; for which their heads as low \n",
      "Bowed down in battle, sunk before the spear \n",
      "Of déspicable foes. With these in troop \n",
      "Came Astoreth, whom the Phoenicians called \n",
      "Astarte, queen of Heav'n, with crescent horns; \n",
      "To whose bright image nightly by the moon \n",
      "Sidonian virgins paid their vows and songs, \n",
      "In Sion also not unsung, where stood \n",
      "Her temple on th' offensive mountain, built \n",
      "By that uxorious king whose heart though large, \n",
      "Beguiled by fair idolatresses, fell \n",
      "To idols foul. Thammuz came next behind, \n",
      "Whose annual wound in Lebanon allured \n",
      "The Syrian damsels to lament his fate \n",
      "In amorous ditties all a summer's day, \n",
      "While smooth Adonis from his native rock \n",
      "Ran purple to the sea, supposed with blood \n",
      "Of Thammuz yearly wounded: the love-tale \n",
      "Infected Sion's daughters with like heat, \n",
      "Whose wanton passions in the sacred porch \n",
      "Ezekiel saw, when by the vision led \n",
      "His eye surveyed the dark idolatries \n",
      "Of alienated Judah. Next came one \n",
      "Who mourned in earnest, when the captive ark \n",
      "Maimed his brute image, head and hands lopped off \n",
      "In his own temple, on the grunsel edge, \n",
      "Where he fell flat, and shamed his worshippers: \n",
      "Dagon his name, sea-monster, upward man \n",
      "And downward fish: yet had his temple high \n",
      "Reared in Azotus, dreaded through the coast \n",
      "Of Palestine, in Gath and Ascalon \n",
      "And Accaron and Gaza's frontier bounds. \n",
      "Him followed Rimmon, whose delightful seat \n",
      "Was fair Damascus, on the fertile banks \n",
      "\n",
      "\n",
      "\n",
      "\n",
      "Of Abbana and Pharphar, lucid streams. \n",
      "He also against the house of God was bold: \n",
      "A leper once he lost and gained a king, \n",
      "Ahaz his sottish conqueror, whom he drew \n",
      "God's altar to disparage and displace \n",
      "For one of Syrian mode, whereon to burn \n",
      "His odious off'rings, and adore the gods \n",
      "Whom he had vanquished. After these appeared \n",
      "A crew who under names of old renown, \n",
      "Osiris, Isis, Orus and their train \n",
      "With monstrous shapes and sorceries abused \n",
      "Fanatic Egypt and her priests, to seek \n",
      "Their wand'ring gods disguised in brutish forms \n",
      "Rather than human. Nor did Israel 'scape \n",
      "Th' infection when their borrowed gold composed \n",
      "The calf in Oreb: and the rebel king \n",
      "Doubled that sin in Bethel and in Dan, \n",
      "Lik'ning his Maker to the grazèd ox, \n",
      "Jehovah, who in one night when he passed \n",
      "From Egypt marching, equalled with one stroke \n",
      "Both her first-born and all her bleating gods. \n",
      "Belial came last, than whom a Spirit more lewd \n",
      "Fell not from Heaven, or more gross to love \n",
      "Vice for itself: to him no temple stood \n",
      "Or altar smoked; yet who more oft than he \n",
      "In temples and at altars, when the priest \n",
      "Turns atheist, as did Eli's sons, who filled \n",
      "With lust and violence the house of God. \n",
      "In courts and palaces he also reigns \n",
      "And in luxurious cities, where the noise \n",
      "Of riot ascends above their loftiest tow'rs, \n",
      "And injury and outrage: and when night \n",
      "Darkens the streets, then wander forth the sons \n",
      "Of Belial, flown with insolence and wine. \n",
      "Witness the streets of Sodom, and that night \n",
      "In Gibeah, when the hospitable door \n",
      "Exposed a matron to avoid worse rape. \n",
      "These were the prime in order and in might; \n",
      "The rest were long to tell, though far renowned, \n",
      "\n",
      "\n",
      "\n",
      "\n",
      "Th' Ionian gods, of Javan's issue held \n",
      "Gods, yet confessed later than Heav'n and Earth \n",
      "Their boasted parents; Titan Heav'n's first-born \n",
      "With his enormous brood, and birthright seized \n",
      "By younger Saturn, he from mightier Jove \n",
      "His own and Rhea's son like measure found; \n",
      "So Jove usurping reigned: these first in Crete \n",
      "And Ida known, thence on the snowy top \n",
      "Of cold Olympus ruled the middle air \n",
      "Their highest heav'n; or on the Delphian cliff, \n",
      "Or in Dodona, and through all the bounds \n",
      "Of Doric land; or who with Saturn old \n",
      "Fled over Adria to th' Hesperian fields, \n",
      "And o'er the Celtic roamed the utmost isles. \n",
      "All these and more came flocking; but with looks \n",
      "Downcast and damp, yet such wherein appeared\n",
      "----------------------------------------------------------------------------------------------------\n",
      "36\n",
      "soul \n",
      "Are many lesser faculties that serve \n",
      "Reason as chief; among these Fancy next \n",
      "Her office holds; of all external things, \n",
      "Which the five watchful senses represent, \n",
      "She forms imaginations, airy shapes, \n",
      "Which Reason joining or disjoining, frames \n",
      "All what we affirm or what deny, and call \n",
      "Our knowledge or opinion; then retires \n",
      "Into her private cell when nature rests. \n",
      "Oft in her absence mimic Fancy wakes \n",
      "To imitate her; but misjoining shapes, \n",
      "Wild work produces oft, and most in dreams, \n",
      "matching words and deeds long past or late. \n",
      "Some such resemblances methinks I find \n",
      "Of our last ev'ning's talk, in this thy dream, \n",
      "But with addition strange; yet be not sad. \n",
      "Evil into the mind of god or man \n",
      "May come and go, so unapproved, and leave \n",
      "No spot or blame behind: which gives me hope \n",
      "That what in sleep thou didst abhor to dream, \n",
      "Waking thou never wilt consent to do. \n",
      "Be not disheartened then, nor cloud those looks \n",
      "That wont to be more cheerful and serene \n",
      "Than when fair morning first smiles on the world, \n",
      "And let us to our fresh employments rise \n",
      "Among the groves, the fountains, and the flow'rs \n",
      "That open now their choicest bosomed smells \n",
      "Reserved from night, and kept for thee in store. \n",
      "\n",
      "\n",
      "\n",
      "\n",
      "   So cheered he his fair spouse, and she was cheered, \n",
      "But silently a gentle tear let fall \n",
      "From either eye, and wiped them with her hair; \n",
      "Two other precious drops that ready stood, \n",
      "Each in their crystal sluice, he ere they fell \n",
      "Kissed as the gracious signs of sweet remorse \n",
      "And pious awe, that feared to have offended. \n",
      "   So all was cleared, and to the field they haste. \n",
      "But first from under shady arborous roof, \n",
      "Soon as they forth were come to open sight \n",
      "Of day-spring, and the sun, who scarce up risen \n",
      "With wheels yet hov'ring o'er the ocean brim, \n",
      "Shot parallel to the earth his dewy ray, \n",
      "Discovering in wide landscape all the east \n",
      "Of Paradise and Eden's happy plains, \n",
      "Lowly they bowed adoring, and began \n",
      "Their orisons, each morning duly paid \n",
      "In various style, for neither various style \n",
      "Nor holy rapture wanted they to praise \n",
      "Their Maker, in fit strains pronounced or sung \n",
      "Unmeditated, such prompt eloquence \n",
      "Flowed from their lips, in prose or numerous verse, \n",
      "More tuneable than needed lute or harp \n",
      "To add more sweetness, and they thus began. \n",
      "    These are thy glorious works, Parent of good, \n",
      "Almighty, thine this universal frame, \n",
      "Thus wondrous fair; thyself how wondrous then! \n",
      "Unspeakable, who sitt'st above these heavens \n",
      "To us invisible or dimly seen \n",
      "In these thy lowest works, yet these declare \n",
      "Thy goodness beyond thought, and power divine: \n",
      "Speak ye who best can tell, ye sons of light, \n",
      "Angels, for ye behold him, and with songs \n",
      "And choral symphonies, day without night, \n",
      "Circle his throne rejoicing, ye in Heav'n, \n",
      "On earth join all ye creatures to extol \n",
      "Him first, him last, him midst, and without end. \n",
      "Fairest of stars, last in the train of night, \n",
      "If better thou belong not to the dawn, \n",
      "\n",
      "\n",
      "\n",
      "\n",
      "Sure pledge of day, that crown'st the smiling morn \n",
      "With thy bright circlet, praise him in thy sphere \n",
      "While day arises, that sweet hour of prime. \n",
      "Thou sun, of this great world both eye and soul, \n",
      "Acknowledge him thy greater, sound his praise \n",
      "In thy eternal course, both when thou climb'st, \n",
      "And when high noon hast gained, and when thou fall'st. \n",
      "Moon, that now meet'st the orient sun, now fli'st \n",
      "With the fixed stars, fixed in their orb that flies, \n",
      "And ye five other wand'ring fires that move \n",
      "In mystic dance not without song, resound \n",
      "His praise who out of darkness called up light. \n",
      "Air, and ye elements the eldest birth \n",
      "Of Nature's womb, that in quaternion run \n",
      "Perpetual circle multiform; and mix \n",
      "And nourish all things, let your ceaseless change \n",
      "Vary to our great Maker still new praise. \n",
      "Ye mists and exhalations that now rise \n",
      "From hill or steaming lake, dusky or grey, \n",
      "Till the sun paint your fleecy skirts with gold, \n",
      "In honour to the world's great Author rise, \n",
      "Whether to deck with clouds the uncoloured sky, \n",
      "Or wet the thirsty earth with falling showers, \n",
      "Rising or falling still advance his praise. \n",
      "His praise ye winds, that from four quarters blow, \n",
      "Breathe soft or loud; and wave your tops, ye pines, \n",
      "With every plant, in sign of worship wave. \n",
      "Fountains and ye, that warble, as ye flow, \n",
      "Melodious murmurs, warbling tune his praise. \n",
      "Join voices all ye living souls, ye birds, \n",
      "That singing up to heaven gate ascend, \n",
      "Bear on your wings and in your notes his praise; \n",
      "Ye that in waters\n",
      "----------------------------------------------------------------------------------------------------\n",
      "17\n",
      "Night, eldest of things, \n",
      "The consort of his reign; and by them stood \n",
      "Orcus and Ades, and the dreaded name \n",
      "Of Demogorgon; Rumour next and Chance, \n",
      "And Tumult and Confusion all embroiled, \n",
      "And Discord with a thousand various mouths. \n",
      "   T' whom Satan turning boldly, thus. Ye Powers \n",
      "And Spirits of this nethermost abyss, \n",
      "Chaos and ancient Night, I come no spy, \n",
      "With purpose to explore or to disturb \n",
      "The secrets of your realm, but by constraint \n",
      "Wand'ring this darksome desert, as my way \n",
      "Lies through your spacious empire up to light, \n",
      "Alone, and without guide, half lost, I seek \n",
      "What readiest path leads where your gloomy bounds \n",
      "Confine with Heav'n; or if some other place \n",
      "From your dominion won, th' Ethereal King \n",
      "Possesses lately, thither to arrive \n",
      "I travel this profound, direct my course; \n",
      "Directed, no mean recompense it brings \n",
      "To your behoof, if I that region lost, \n",
      "All usurpation thence expelled, reduce \n",
      "To her original darkness and your sway \n",
      "(Which is my present journey) and once more \n",
      "Erect the standard there of ancient Night; \n",
      "Yours be th' advantage all, mine the revenge. \n",
      "   Thus Satan; and him thus the Anarch old \n",
      "\n",
      "\n",
      "\n",
      "\n",
      "With falt'ring speech and visage incomposed \n",
      "Answered. I know thee, stranger, who thou art, \n",
      "That mighty leading angel, who of late \n",
      "Made head against Heav'n's King, though overthrown. \n",
      "I saw and heard, for such a numerous host \n",
      "Fled not in silence through the frighted deep \n",
      "With ruin upon ruin, rout on rout, \n",
      "Confusion worse confounded; and Heav'n gates \n",
      "Poured out by millions her victorious bands \n",
      "Pursuing. I upon my frontiers here \n",
      "Keep residence; if all I can will serve, \n",
      "That little which is left so to defend, \n",
      "Encroached on still through [y]our intestine broils \n",
      "Weak'ning the sceptre of old Night: first Hell \n",
      "Your dungeon stretching far and wide beneath; \n",
      "Now lately heav'n and earth, another world \n",
      "Hung o'er my realm, linked in a golden chain \n",
      "To that side Heav'n from whence your legions fell: \n",
      "If that way be your walk, you have not far; \n",
      "So much the nearer danger; go and speed; \n",
      "Havoc and spoil and ruin are my gain. \n",
      "   He ceased; and Satan stayed not to reply, \n",
      "But glad that now his sea should find a shore, \n",
      "With fresh alacrity and force renewed \n",
      "Springs upward like a pyramid of fire \n",
      "Into the wide expanse, and through the shock \n",
      "Of fighting elements, on all sides round \n",
      "Environed wins his way; harder beset \n",
      "And more endangered, than when Argo passed \n",
      "Through Bosporus betwixt the justling rocks: \n",
      "Or when Ulysses on the larboard shunned \n",
      "Charybdis, and by th' other whirlpool steered. \n",
      "So he with difficulty and labour hard \n",
      "Moved on, with difficulty and labour he; \n",
      "But he once passed, soon after when man fell, \n",
      "Strange alteration! Sin and Death amain \n",
      "Following his track, such was the will of Heav'n, \n",
      "Paved after him a broad and beaten way \n",
      "Over the dark abyss, whose boiling gulf \n",
      "\n",
      "\n",
      "\n",
      "\n",
      "Tamely endured a bridge of wondrous length \n",
      "From Hell continued reaching th' utmost orb \n",
      "Of this frail world; by which the Spirits perverse \n",
      "With easy intercourse pass to and fro \n",
      "To tempt or punish mortals, except whom \n",
      "God and good angels guard by special grace. \n",
      "But now at last the sacred influence \n",
      "Of light appears, and from the walls of Heav'n \n",
      "Shoots far into the bosom of dim Night \n",
      "A glimmering dawn; here Nature first begins \n",
      "Her farthest verge, and Chaos to retire \n",
      "As from her outmost works a broken foe \n",
      "With tumult less and with less hostile din, \n",
      "That Satan with less toil, and now with ease \n",
      "Wafts on the calmer wave by dubious light \n",
      "And like a weather-beaten vessel holds \n",
      "Gladly the port, though shrouds and tackle torn; \n",
      "Or in the emptier waste, resembling air, \n",
      "Weighs his spread wings, at leisure to behold \n",
      "Far off th' empyreal Heav'n, extended wide \n",
      "In circuit, undetermined square or round, \n",
      "With opal tow'rs and battlements adorned \n",
      "Of living sapphire, once his native seat; \n",
      "And fast by hanging in a golden chain \n",
      "This pendent world, in bigness as a star \n",
      "Of smallest magnitude close by the moon. \n",
      "Thither full fraught with mischievous revenge, \n",
      "Accursed, and in a cursàd hour he hies.\n",
      "\n",
      "Book 3\n",
      "\n",
      "Hail holy Light, offspring of Heav'n first-born, \n",
      "Or of th' Eternal co-eternal beam \n",
      "May I express thee unblamed? Since God is light, \n",
      "And never but in unapproachèd light \n",
      "Dwelt from eternity, dwelt then in thee, \n",
      "Bright effluence of bright essence increate. \n",
      "Or hear'st thou rather pure ethereal stream, \n",
      "Whose fountain who shall tell? Before the sun, \n",
      "Before the heavens thou wert, and at the voice \n",
      "Of God, as with a mantle didst invest \n",
      "The rising\n"
     ]
    }
   ],
   "source": [
    "for idx in bin_idxs[:20]:\n",
    "    print('-'*100)\n",
    "    print(idx)\n",
    "    print_bin(idx)"
   ]
  },
  {
   "cell_type": "markdown",
   "metadata": {},
   "source": [
    "# 500 bins"
   ]
  },
  {
   "cell_type": "code",
   "execution_count": 9,
   "metadata": {
    "collapsed": false
   },
   "outputs": [
    {
     "data": {
      "image/png": "[encoded data removed]",
      "text/plain": [
       "<matplotlib.figure.Figure at 0x109fe3ba8>"
      ]
     },
     "metadata": {},
     "output_type": "display_data"
    }
   ],
   "source": [
    "plt.figure(figsize=(20, 5))\n",
    "\n",
    "n, bins, patches = plt.hist(\n",
    "    quoted,\n",
    "    range=(0, len(pl.tokens)),\n",
    "    bins=500,\n",
    "    color='green',\n",
    ")\n",
    "\n",
    "plt.show()"
   ]
  },
  {
   "cell_type": "code",
   "execution_count": 10,
   "metadata": {
    "collapsed": false,
    "scrolled": false
   },
   "outputs": [
    {
     "name": "stdout",
     "output_type": "stream",
     "text": [
      "----------------------------------------------------------------------------------------------------\n",
      "0\n",
      "s first disobedience, and the fruit \n",
      "Of that forbidden tree, whose mortal taste \n",
      "Brought death into the world, and all our woe, \n",
      "With loss of Eden, till one greater man \n",
      "Restore us, and regain the blissful seat, \n",
      "Sing Heav'nly Muse, that on the secret top \n",
      "Of Oreb, or of Sinai, didst inspire \n",
      "That shepherd, who first taught the chosen seed, \n",
      "In the beginning how the heav'ns and earth \n",
      "Rose out of Chaos: or if Sion hill \n",
      "Delight thee more, and Siloa's brook that flowed \n",
      "Fast by the oracle of God; I thence \n",
      "Invoke thy aid to my advent'rous song, \n",
      "That with no middle flight intends to soar \n",
      "Above th' Aonian mount, while it pursues \n",
      "Things unattempted yet in prose or rhyme. \n",
      "And chiefly thou O Spirit, that dost prefer \n",
      "Before all temples th' upright heart and pure, \n",
      "Instruct me, for thou know'st; thou from the first \n",
      "Wast present\n",
      "----------------------------------------------------------------------------------------------------\n",
      "68\n",
      "dire. \n",
      "   Meanwhile the Adversary of God and man, \n",
      "Satan with thoughts inflamed of highest design, \n",
      "Puts on swift wings, and toward the gates of Hell \n",
      "Explores his solitary flight; sometimes \n",
      "He scours the right-hand coast, sometimes the left, \n",
      "Now shaves with level wing the deep, then soars \n",
      "Up to the fiery concave tow'ring high. \n",
      "As when far off at sea a fleet descried \n",
      "Hangs in the clouds, by equinoctial winds \n",
      "\n",
      "\n",
      "\n",
      "\n",
      "Close sailing from Bengala, or the isles \n",
      "Of Ternate and Tidore, whence merchants bring \n",
      "Their spicy drugs: they on the trading flood \n",
      "Through the wide Ethiopian to the Cape \n",
      "Ply stemming nightly toward the pole. So seemed \n",
      "Far off the flying Fiend: at last appear \n",
      "Hell bounds high reaching to the horrid roof, \n",
      "And thrice threefold the gates; three folds were brass, \n",
      "Three iron, three of adamantine rock, \n",
      "Impenetrable, impaled with circling fire, \n",
      "Yet unconsumed. Before the gates there sat\n",
      "----------------------------------------------------------------------------------------------------\n",
      "380\n",
      "mercy, as may illústrate most \n",
      "Them fully satisfied, and thee appease. \n",
      "Attendance none shall need, nor train, where none \n",
      "Are to behold the judgement, but the judged, \n",
      "Those two; the third best absent is condemned, \n",
      "Convíct by flight, and rebel to all law; \n",
      "Conviction to the serpent none belongs. \n",
      "   Thus saying, from his radiant seat he rose \n",
      "Of high collateral glory: him Thrones and Powers, \n",
      "Princedoms, and Dominations ministrant \n",
      "Accompanied to Heaven gate, from whence \n",
      "Eden and all the coast in prospect lay. \n",
      "Down he descended straight; the speed of Gods \n",
      "Time counts not, though with swiftest minutes winged. \n",
      "Now was the sun in western cadence low \n",
      "From noon, and gentle airs due at their hour \n",
      "To fan the earth now waked, and usher in \n",
      "The ev'ning cool when he from wrath more cool \n",
      "Came the mild Judge and Intercessor both \n",
      "To sentence man: the voice of God they heard \n",
      "Now walking in the garden, by soft winds \n",
      "Brought\n",
      "----------------------------------------------------------------------------------------------------\n",
      "179\n",
      "confined, \n",
      "But sometimes in the air, as we, sometimes \n",
      "Ascend to Heav'n, by merit thine, and see \n",
      "What life the gods live there, and such live thou. \n",
      "So saying, he drew nigh, and to me held, \n",
      "Even to my mouth of that same fruit held part \n",
      "Which he had plucked; the pleasant savoury smell \n",
      "So quickened appetite, that I, methought, \n",
      "Could not but taste. Forthwith up to the clouds \n",
      "With him I flew, and underneath beheld \n",
      "The earth outstretched immense, a prospect wide \n",
      "And various: wond'ring at my flight and change \n",
      "\n",
      "\n",
      "\n",
      "\n",
      "To this high exaltation; suddenly \n",
      "My guide was gone, and I, methought, sunk down, \n",
      "And fell asleep; but O how glad I waked \n",
      "To find this but a dream! Thus Eve her night \n",
      "Related, and thus Adam answered sad. \n",
      "   Best image of myself and dearer half, \n",
      "The trouble of thy thoughts this night in sleep \n",
      "Affects me equally; nor can I like \n",
      "This uncouth dream, of evil sprung I fear; \n",
      "Yet evil whence? In thee can harbour none, \n",
      "Created pure\n",
      "----------------------------------------------------------------------------------------------------\n",
      "13\n",
      "heard so oft \n",
      "In worst extremes, and on the perilous edge \n",
      "Of battle when it raged, in all assaults \n",
      "Their surest signal, they will soon resume \n",
      "New courage and revive, though now they lie \n",
      "Grovelling and prostrate on yon lake of fire, \n",
      "As we erewhile, astounded and amazed, \n",
      "No wonder, fall'n such a pernicious heighth. \n",
      "   He scarce had ceased when the superior fiend \n",
      "Was moving toward the shore; his ponderous shield \n",
      "Ethereal temper, massy, large and round, \n",
      "Behind him cast; the broad circumference \n",
      "Hung on his shoulders like the moon, whose orb \n",
      "Through optic glass the Tuscan artist views \n",
      "At evening from the top of Fesole, \n",
      "Or in Valdarno, to descry new lands, \n",
      "Rivers or mountains in her spotty globe. \n",
      "His spear, to equal which the tallest pine \n",
      "Hewn on Norwegian hills, to be the mast \n",
      "Of some great ammiral, were but a wand, \n",
      "He walked with to support uneasy steps \n",
      "Over the burning marl, not like those steps \n",
      "On Heaven's azure\n",
      "----------------------------------------------------------------------------------------------------\n",
      "337\n",
      "thus to dwell \n",
      "In narrow circuit straitened by a Foe, \n",
      "Subtle or violent, we not endued \n",
      "Single with like defence, wherever met, \n",
      "How are we happy, still in fear of harm? \n",
      "But harm precedes not sin: only our Foe \n",
      "Tempting affronts us with his foul esteem \n",
      "Of our integrity: his foul esteem \n",
      "Sticks no dishonour on our front, but turns \n",
      "Foul on himself; then wherefore shunned or feared \n",
      "By us? Who rather double honour gain \n",
      "From his surmise proved false, find peace within, \n",
      "Favour from Heav'n, our witness from th' event. \n",
      "And what is faith, love, virtue unassayed \n",
      "Alone, without exterior help sustained? \n",
      "Let us not then suspect our happy state \n",
      "Left so imperfect by the Maker wise, \n",
      "As not secure to single or combined. \n",
      "Frail is our happiness, if this be so, \n",
      "And Eden were no Eden thus exposed. \n",
      "   To whom thus Adam fervently replied. \n",
      "O woman, best are all things as the will \n",
      "Of God ordained them; his creating hand \n",
      "Nothing imperfect or deficient left\n",
      "----------------------------------------------------------------------------------------------------\n",
      "90\n",
      "waters dark and deep, \n",
      "Won from the void and formless infinite. \n",
      "Thee I revisit now with bolder wing, \n",
      "Escaped the Stygian pool, though long detained \n",
      "In that obscure sojóurm, while in my flight \n",
      "Through utter and through middle darkness borne \n",
      "With other notes than to th' Orphéan lyre \n",
      "I sung of Chaos and eternal Night, \n",
      "Taught by the Heav'nly Muse to venture down \n",
      "The dark descent, and up to reascend, \n",
      "Though hard and rare: thee I revisit safe, \n",
      "And feel thy sov'reign vital lamp; but thou \n",
      "Revisit'st not these eyes, that roll in vain \n",
      "To find thy piercing ray, and find no dawn; \n",
      "So thick a drop serene hath quenched their orbs, \n",
      "Or dim suffusion veiled. Yet not the more \n",
      "Cease I to wander where the Muses haunt \n",
      "Clear spring, or shady grove, or sunny hill, \n",
      "Smit with the love of sacred song; but chief \n",
      "Thee Sion\n",
      "----------------------------------------------------------------------------------------------------\n",
      "63\n",
      "Olympian games or Pythian fields; \n",
      "Part curb their fiery steeds, or shun the goal \n",
      "With rapid wheels, or fronted brígades form. \n",
      "As when to warn proud cities war appears \n",
      "Waged in the troubled sky, and armies rush \n",
      "To battle in the clouds, before each van \n",
      "Prick forth the airy knights, and couch their spears \n",
      "Till thickest legions close; with feats of arms \n",
      "From either end of heav'n the welkin burns. \n",
      "Others with vast Typhoean rage more fell \n",
      "Rend up both rocks and hills, and ride the air \n",
      "In whirlwind; Hell scarce holds the wild uproar. \n",
      "As when Alcides from Oechalia crowned \n",
      "With conquest, felt th' envenomed robe, and tore \n",
      "Through pain up by the roots Thessalian pines, \n",
      "And Lichas from the top of Oeta threw \n",
      "Into th' Euboic Sea. Others more mild, \n",
      "Retreated in a silent valley, sing\n",
      "----------------------------------------------------------------------------------------------------\n",
      "28\n",
      "Trebizond, \n",
      "Or whom Biserta sent from Afric shore \n",
      "\n",
      "\n",
      "\n",
      "\n",
      "When Charlemagne with all his peerage fell \n",
      "By Fontarabbia. Thus far these beyond \n",
      "Compare of mortal prowess, yet observed \n",
      "Their dread commander: he above the rest \n",
      "In shape and gesture proudly eminent \n",
      "Stood like a tow'r; his form had yet not lost \n",
      "All her original brightness, nor appeared \n",
      "Less than Archangel ruined, and th' excess \n",
      "Of glory obscured: as when the sun new ris'n \n",
      "Looks through the horizontal misty air \n",
      "Shorn of his beams, or from behind the moon \n",
      "In dim eclipse disastrous twilight sheds \n",
      "On half the nations, and with fear of change \n",
      "Perplexes monarchs. Darkened so, yet shone \n",
      "Above them all th' Archangel: but his face \n",
      "Deep scars of thunder had intrenched, and care \n",
      "Sat on his faded cheek, but under brows \n",
      "Of dauntless courage, and considerate pride \n",
      "Waiting revenge\n",
      "----------------------------------------------------------------------------------------------------\n",
      "82\n",
      "sharp, smooth, swift or slow, \n",
      "Swarm populous, unnumbered as the sands \n",
      "Of Barca or Cyrene's torrid soil, \n",
      "Levied to side with warring winds, and poise \n",
      "Their lighter wings. To whom these most adhere, \n",
      "He rules a moment; Chaos umpire sits, \n",
      "And by decision more embroils the fray \n",
      "By which he reigns: next him high arbiter \n",
      "Chance governs all. Into this wild abyss, \n",
      "\n",
      "\n",
      "\n",
      "\n",
      "The womb of Nature and perhaps her grave, \n",
      "Of neither sea, nor shore, nor air, nor fire, \n",
      "But all these in their pregnant causes mixed \n",
      "Confus'dly, and which thus must ever fight, \n",
      "Unless th' Almighty Maker them ordain \n",
      "His dark materials to create more worlds, \n",
      "Into this wild abyss the wary Fiend \n",
      "Stood on the brink of Hell and looked a while, \n",
      "Pondering his voyage; for no narrow frith \n",
      "He had to cross. Nor was his ear less pealed \n",
      "With noises loud and ruinous (to compare \n",
      "Great things with small\n",
      "----------------------------------------------------------------------------------------------------\n",
      "151\n",
      "sun \n",
      "Slowly descended, and with right aspéct \n",
      "Against the eastern gate of Paradise \n",
      "Levelled his evening rays: it was a rock \n",
      "Of alabaster, piled up to the clouds, \n",
      "Conspicuous far, winding with one ascent \n",
      "Accessible from earth, one entrance high; \n",
      "\n",
      "\n",
      "\n",
      "\n",
      "The rest was craggy cliff, that overhung \n",
      "Still as it rose, impossible to climb. \n",
      "Betwixt these rocky pillars Gabriel sat \n",
      "Chief of th' angelic guards, awaiting night; \n",
      "About him exercised heroic games \n",
      "Th' unarmed youth of Heav'n, but nigh at hand \n",
      "Celestial armoury, shields, helms, and spears, \n",
      "Hung high with diamond flaming, and with gold. \n",
      "Thither came Uriel, gliding through the even \n",
      "On a sunbeam, swift as a shooting star \n",
      "In autumn thwarts the night, when vapours fired \n",
      "Impress the air, and shows the mariner \n",
      "From what point of his compass to beware \n",
      "Impetuous winds: he thus began in haste. \n",
      "   Gabriel, to thee thy\n",
      "----------------------------------------------------------------------------------------------------\n",
      "134\n",
      "cash \n",
      "Of some rich burgher, whose substantial doors, \n",
      "Cross-barred and bolted fast, fear no assault, \n",
      "In at the window climbs, or o'er the tiles; \n",
      "So clomb this first grand thief into God's fold: \n",
      "So since into his Church lewd hirelings climb. \n",
      "Thence up he flew, and on the Tree of Life, \n",
      "The middle tree and highest there that grew, \n",
      "\n",
      "\n",
      "\n",
      "\n",
      "Sat like a cormorant; yet not true life \n",
      "Thereby regained, but sat devising death \n",
      "To them who lived; nor on the virtue thought \n",
      "Of that life-giving plant, but only used \n",
      "For prospect, what well used had been the pledge \n",
      "Of immortality. So little knows \n",
      "Any, but God alone, to value right \n",
      "The good before him, but perverts best things \n",
      "To worst abuse, or to their meanest use. \n",
      "Beneath him with new wonder now he views \n",
      "To all delight of human sense exposed \n",
      "In narrow room Nature's whole wealth, yea more, \n",
      "A Heav'n on earth, for blissful Paradise \n",
      "Of God the garden was, by him in the east \n",
      "Of Eden planted; Eden stretched her line \n",
      "From Auran\n",
      "----------------------------------------------------------------------------------------------------\n",
      "181\n",
      "fair morning first smiles on the world, \n",
      "And let us to our fresh employments rise \n",
      "Among the groves, the fountains, and the flow'rs \n",
      "That open now their choicest bosomed smells \n",
      "Reserved from night, and kept for thee in store. \n",
      "\n",
      "\n",
      "\n",
      "\n",
      "   So cheered he his fair spouse, and she was cheered, \n",
      "But silently a gentle tear let fall \n",
      "From either eye, and wiped them with her hair; \n",
      "Two other precious drops that ready stood, \n",
      "Each in their crystal sluice, he ere they fell \n",
      "Kissed as the gracious signs of sweet remorse \n",
      "And pious awe, that feared to have offended. \n",
      "   So all was cleared, and to the field they haste. \n",
      "But first from under shady arborous roof, \n",
      "Soon as they forth were come to open sight \n",
      "Of day-spring, and the sun, who scarce up risen \n",
      "With wheels yet hov'ring o'er the ocean brim, \n",
      "Shot parallel to the earth his dewy ray, \n",
      "Discovering in wide landscape all the east \n",
      "Of Paradise and Eden's happy plains, \n",
      "Lowly\n",
      "----------------------------------------------------------------------------------------------------\n",
      "1\n",
      "mighty wings outspread \n",
      "Dove-like sat'st brooding on the vast abyss \n",
      "And mad'st it pregnant: what in me is dark \n",
      "Illumine, what is low raise and support; \n",
      "That to the heighth of this great argument \n",
      "I may assert Eternal Providence, \n",
      "And justify the ways of God to men. \n",
      "   Say first, for Heav'n hides nothing from thy view \n",
      "Nor the deep tract of Hell, say first what cause \n",
      "Moved our grand parents in that happy state, \n",
      "Favoured of Heav'n so highly, to fall off \n",
      "From their Creator and transgress his will \n",
      "For one restraint, lords of the world besides? \n",
      "Who first seduced them to that foul revolt? \n",
      "Th' infernal Serpent; he it was, whose guile \n",
      "Stirred up with envy and revenge, deceived \n",
      "The mother of mankind, what time his pride \n",
      "Had cast him out from Heav'n, with all his host \n",
      "Of rebel angels, by whose aid aspiring \n",
      "To set himself in glory above his peers, \n",
      "\n",
      "\n",
      "\n",
      "\n",
      "He trusted to have equalled the Most High, \n",
      "If he opposed; and with ambitious aim \n",
      "Against the throne and monarchy\n",
      "----------------------------------------------------------------------------------------------------\n",
      "80\n",
      "feed: \n",
      "Thou art my father, thou my author, thou \n",
      "My being gav'st me; whom should I obey \n",
      "But thee, whom follow? thou wilt bring me soon \n",
      "To that new world of light and bliss, among \n",
      "The gods who live at ease, where I shall reign \n",
      "At thy right hand voluptuous, as beseems \n",
      "Thy daughter and thy darling, without end. \n",
      "   Thus saying, from her side the fatal key, \n",
      "\n",
      "\n",
      "\n",
      "\n",
      "Sad instrument of all our woe, she took; \n",
      "And towards the gate rolling her bestial train, \n",
      "Forthwith the huge portcullis high up drew, \n",
      "Which but herself not all the Stygian powers \n",
      "Could once have moved; then in the key-hole turns \n",
      "Th' intricate wards, and every bolt and bar \n",
      "Of massy iron or solid rock with ease \n",
      "Unfastens: on a sudden open fly \n",
      "With impetuous recoil and jarring sound \n",
      "Th' infernal doors, and on their hinges grate \n",
      "Harsh thunder, that the lowest bottom\n",
      "----------------------------------------------------------------------------------------------------\n",
      "279\n",
      "heaven thick as a field: \n",
      "Of light by far the greater part he took, \n",
      "Transplanted from her cloudy shrine, and placed \n",
      "In the sun's orb, made porous to receive \n",
      "And drink the liquid light, firm to retain \n",
      "Her gathered beams, great palace now of light. \n",
      "Hither as to their fountain other stars \n",
      "Repairing, in their golden urns draw light, \n",
      "And hence the morning planet gilds his horns; \n",
      "By tincture or reflection they augment \n",
      "Their small peculiar, though from human sight \n",
      "So far remote, with diminution seen. \n",
      "First in his east the glorious lamp was seen, \n",
      "Regent of day, and all th' horizon round \n",
      "Invested with bright rays, jocund to run \n",
      "His longitude through heav'n's high road: the grey \n",
      "\n",
      "\n",
      "\n",
      "\n",
      "Dawn, and the Pleiades before him danced \n",
      "Shedding sweet influence: less bright the moon, \n",
      "But opposite in levelled west was set \n",
      "His mirror, with full face borrowing her light \n",
      "From him, for other light\n",
      "----------------------------------------------------------------------------------------------------\n",
      "155\n",
      "dignity, \n",
      "And the regard of Heav'n on all his ways; \n",
      "While other animals unactive range, \n",
      "And of their doings God takes no account. \n",
      "Tomorrow ere fresh morning streak the east \n",
      "With first approach of light, we must be ris'n, \n",
      "\n",
      "\n",
      "\n",
      "\n",
      "And at our pleasant labour, to reform \n",
      "Yon flow'ry arbours, yonder alleys green, \n",
      "Our walk at noon, with branches overgrown, \n",
      "That mock our scant manuring, and require \n",
      "More hands than ours to lop their wanton growth: \n",
      "Those blossoms also, and those dropping gums, \n",
      "That lie bestrewn unsightly and unsmooth, \n",
      "Ask riddance, if we mean to tread with ease; \n",
      "Meanwhile, as nature wills, night bids us rest. \n",
      "   To whom thus Eve with perfect beauty adorned. \n",
      "My author and disposer, what thou bidd'st \n",
      "Unargued I obey; so God ordains, \n",
      "God is thy law, thou mine: to know no more \n",
      "Is woman's happiest knowledge\n",
      "----------------------------------------------------------------------------------------------------\n",
      "25\n",
      "Obscure some glimpse of joy, to have found their chief \n",
      "Not in despair, to have found themselves not lost \n",
      "In loss itself; which on his count'nance cast \n",
      "Like doubtful hue: but he his wonted pride \n",
      "Soon recollecting, with high words, that bore \n",
      "Semblance of worth, not substance, gently raised \n",
      "Their fainting courage and dispelled their fears. \n",
      "Then straight commands that at the warlike sound \n",
      "Of trumpets loud and clarions be upreared \n",
      "His mighty standard; that proud honour claimed \n",
      "Azazel as his right, a Cherub tall: \n",
      "Who forthwith from the glittering staff unfurled \n",
      "Th' imperial ensign, which full high advanced \n",
      "Shone like a meteor streaming to the wind \n",
      "With gems and golden lustre rich emblazed, \n",
      "Seraphic arms and trophies: all the while \n",
      "Sonórous metal blowing martial sounds: \n",
      "At which the universal host upsent \n",
      "A shout that tore Hell's concave, and beyond \n",
      "Frighted the reign of Chaos and old Night\n",
      "----------------------------------------------------------------------------------------------------\n",
      "37\n",
      "lance) \n",
      "Thick swarmed, both on the ground and in the air, \n",
      "Brushed with the hiss of rustling wings. As bees \n",
      "In springtime, when the sun with Taurus rides, \n",
      "Pour forth their populous youth about the hive \n",
      "In clusters; they among fresh dews and flowers \n",
      "Fly to and fro, or on the smoothèd plank, \n",
      "The suburb of their straw-built citadel, \n",
      "New rubbed with balm, expatiate and confer \n",
      "Their state affairs. So thick the airy crowd \n",
      "Swarmed and were straitened; till the signal giv'n, \n",
      "Behold a wonder! They but now who seemed \n",
      "In bigness to surpass Earth's Giant sons \n",
      "Now less than smallest dwarfs, in narrow room \n",
      "Throng numberless, like that Pygméan race \n",
      "\n",
      "\n",
      "\n",
      "\n",
      "Beyond the Indian mount, or faery elves, \n",
      "Whose midnight revels, by a forest side \n",
      "Or fountain some belated peasant sees, \n",
      "Or dreams he sees, while overhead the moon \n",
      "Sits arbitress, and nearer\n",
      "----------------------------------------------------------------------------------------------------\n",
      "137\n",
      "amiable, Hesperian fables true, \n",
      "If true, here only, and of delicious taste: \n",
      "Betwixt them lawns, or level downs, and flocks \n",
      "Grazing the tender herb, were interposed, \n",
      "Or palmy hillock, or the flow'ry lap \n",
      "Of some irriguous valley spread her store, \n",
      "Flow'rs of all hue, and without thorn the rose: \n",
      "Another side, umbrageous grots and caves \n",
      "Of cool recess, o'er which the mantling vine \n",
      "Lays forth her purple grape, and gently creeps \n",
      "Luxuriant; meanwhile murmuring waters fall \n",
      "Down the slope hills, dispersed, or in a lake, \n",
      "That to the fringèd bank with myrtle crowned, \n",
      "Her crystal mirror holds, unite their streams. \n",
      "The birds their choir apply; airs, vernal airs, \n",
      "Breathing the smell of field and grove, attune \n",
      "The trembling leaves, while universal Pan \n",
      "Knit with the Graces and the Hours in dance \n",
      "Led on th\n"
     ]
    }
   ],
   "source": [
    "bin_idxs = np.argsort(n)[::-1]\n",
    "\n",
    "for idx in bin_idxs[:20]:\n",
    "    print('-'*100)\n",
    "    print(idx)\n",
    "    print_bin(idx)"
   ]
  },
  {
   "cell_type": "markdown",
   "metadata": {},
   "source": [
    "# Individual words"
   ]
  },
  {
   "cell_type": "code",
   "execution_count": 11,
   "metadata": {
    "collapsed": false
   },
   "outputs": [
    {
     "data": {
      "image/png": "[encoded data removed]",
      "text/plain": [
       "<matplotlib.figure.Figure at 0x10a3e3eb8>"
      ]
     },
     "metadata": {},
     "output_type": "display_data"
    }
   ],
   "source": [
    "plt.figure(figsize=(20, 5))\n",
    "\n",
    "n, bins, patches = plt.hist(\n",
    "    quoted,\n",
    "    range=(0, len(pl.tokens)),\n",
    "    bins=len(pl.tokens),\n",
    "    color='green',\n",
    ")\n",
    "\n",
    "plt.show()"
   ]
  },
  {
   "cell_type": "code",
   "execution_count": 12,
   "metadata": {
    "collapsed": false,
    "scrolled": false
   },
   "outputs": [
    {
     "name": "stdout",
     "output_type": "stream",
     "text": [
      "----------------------------------------------------------------------------------------------------\n"
     ]
    },
    {
     "data": {
      "text/markdown": [
       "gate, from whence Eden and all the coast in **prospect** lay. Down he descended straight; the speed"
      ],
      "text/plain": [
       "<IPython.core.display.Markdown object>"
      ]
     },
     "metadata": {},
     "output_type": "display_data"
    },
    {
     "name": "stdout",
     "output_type": "stream",
     "text": [
      "93.0\n",
      "----------------------------------------------------------------------------------------------------\n"
     ]
    },
    {
     "data": {
      "text/markdown": [
       "whence Eden and all the coast in prospect **lay** . Down he descended straight; the speed of Gods"
      ],
      "text/plain": [
       "<IPython.core.display.Markdown object>"
      ]
     },
     "metadata": {},
     "output_type": "display_data"
    },
    {
     "name": "stdout",
     "output_type": "stream",
     "text": [
      "91.0\n",
      "----------------------------------------------------------------------------------------------------\n"
     ]
    },
    {
     "data": {
      "text/markdown": [
       "Heaven gate, from whence Eden and all the **coast** in prospect lay. Down he descended straight"
      ],
      "text/plain": [
       "<IPython.core.display.Markdown object>"
      ]
     },
     "metadata": {},
     "output_type": "display_data"
    },
    {
     "name": "stdout",
     "output_type": "stream",
     "text": [
      "90.0\n",
      "----------------------------------------------------------------------------------------------------\n"
     ]
    },
    {
     "data": {
      "text/markdown": [
       "Eden and all the coast in prospect lay. Down he **descended** straight; the speed of Gods Time counts"
      ],
      "text/plain": [
       "<IPython.core.display.Markdown object>"
      ]
     },
     "metadata": {},
     "output_type": "display_data"
    },
    {
     "name": "stdout",
     "output_type": "stream",
     "text": [
      "89.0\n",
      "----------------------------------------------------------------------------------------------------\n"
     ]
    },
    {
     "data": {
      "text/markdown": [
       "Accompanied to Heaven gate, from whence **Eden** and all the coast in prospect lay. Down he descended"
      ],
      "text/plain": [
       "<IPython.core.display.Markdown object>"
      ]
     },
     "metadata": {},
     "output_type": "display_data"
    },
    {
     "name": "stdout",
     "output_type": "stream",
     "text": [
      "88.0\n",
      "----------------------------------------------------------------------------------------------------\n"
     ]
    },
    {
     "data": {
      "text/markdown": [
       "ministrant Accompanied to Heaven gate, from **whence** Eden and all the coast in prospect lay"
      ],
      "text/plain": [
       "<IPython.core.display.Markdown object>"
      ]
     },
     "metadata": {},
     "output_type": "display_data"
    },
    {
     "name": "stdout",
     "output_type": "stream",
     "text": [
      "86.0\n",
      "----------------------------------------------------------------------------------------------------\n"
     ]
    },
    {
     "data": {
      "text/markdown": [
       "Dominations ministrant Accompanied to Heaven **gate** , from whence Eden and all the coast in prospect"
      ],
      "text/plain": [
       "<IPython.core.display.Markdown object>"
      ]
     },
     "metadata": {},
     "output_type": "display_data"
    },
    {
     "name": "stdout",
     "output_type": "stream",
     "text": [
      "83.0\n",
      "----------------------------------------------------------------------------------------------------\n"
     ]
    },
    {
     "data": {
      "text/markdown": [
       "s first disobedience, and the fruit Of that forbidden **tree** , whose mortal taste Brought"
      ],
      "text/plain": [
       "<IPython.core.display.Markdown object>"
      ]
     },
     "metadata": {},
     "output_type": "display_data"
    },
    {
     "name": "stdout",
     "output_type": "stream",
     "text": [
      "63.0\n",
      "----------------------------------------------------------------------------------------------------\n"
     ]
    },
    {
     "data": {
      "text/markdown": [
       "disobedience, and the fruit Of that forbidden tree, **whose** mortal taste Brought death"
      ],
      "text/plain": [
       "<IPython.core.display.Markdown object>"
      ]
     },
     "metadata": {},
     "output_type": "display_data"
    },
    {
     "name": "stdout",
     "output_type": "stream",
     "text": [
      "61.0\n",
      "----------------------------------------------------------------------------------------------------\n"
     ]
    },
    {
     "data": {
      "text/markdown": [
       "fruit Of that forbidden tree, whose **mortal** taste Brought death into the world, and all our woe"
      ],
      "text/plain": [
       "<IPython.core.display.Markdown object>"
      ]
     },
     "metadata": {},
     "output_type": "display_data"
    },
    {
     "name": "stdout",
     "output_type": "stream",
     "text": [
      "60.0\n",
      "----------------------------------------------------------------------------------------------------\n"
     ]
    },
    {
     "data": {
      "text/markdown": [
       "tree, whose mortal taste **Brought** death into the world, and all our woe, With loss of Eden"
      ],
      "text/plain": [
       "<IPython.core.display.Markdown object>"
      ]
     },
     "metadata": {},
     "output_type": "display_data"
    },
    {
     "name": "stdout",
     "output_type": "stream",
     "text": [
      "60.0\n",
      "----------------------------------------------------------------------------------------------------\n"
     ]
    },
    {
     "data": {
      "text/markdown": [
       "forbidden tree, whose mortal **taste** Brought death into the world, and all our woe, With loss"
      ],
      "text/plain": [
       "<IPython.core.display.Markdown object>"
      ]
     },
     "metadata": {},
     "output_type": "display_data"
    },
    {
     "name": "stdout",
     "output_type": "stream",
     "text": [
      "59.0\n",
      "----------------------------------------------------------------------------------------------------\n"
     ]
    },
    {
     "data": {
      "text/markdown": [
       "palace now of light. Hither as to their fountain other **stars** Repairing, in their golden urns draw"
      ],
      "text/plain": [
       "<IPython.core.display.Markdown object>"
      ]
     },
     "metadata": {},
     "output_type": "display_data"
    },
    {
     "name": "stdout",
     "output_type": "stream",
     "text": [
      "57.0\n",
      "----------------------------------------------------------------------------------------------------\n"
     ]
    },
    {
     "data": {
      "text/markdown": [
       "beams, great palace now of light. Hither as to their **fountain** other stars Repairing, in their golden urns"
      ],
      "text/plain": [
       "<IPython.core.display.Markdown object>"
      ]
     },
     "metadata": {},
     "output_type": "display_data"
    },
    {
     "name": "stdout",
     "output_type": "stream",
     "text": [
      "57.0\n",
      "----------------------------------------------------------------------------------------------------\n"
     ]
    },
    {
     "data": {
      "text/markdown": [
       "gathered beams, great palace now of light. **Hither** as to their fountain other stars Repairing, in their golden"
      ],
      "text/plain": [
       "<IPython.core.display.Markdown object>"
      ]
     },
     "metadata": {},
     "output_type": "display_data"
    },
    {
     "name": "stdout",
     "output_type": "stream",
     "text": [
      "57.0\n",
      "----------------------------------------------------------------------------------------------------\n"
     ]
    },
    {
     "data": {
      "text/markdown": [
       "firm to retain Her gathered beams, great **palace** now of light. Hither as to their fountain other stars"
      ],
      "text/plain": [
       "<IPython.core.display.Markdown object>"
      ]
     },
     "metadata": {},
     "output_type": "display_data"
    },
    {
     "name": "stdout",
     "output_type": "stream",
     "text": [
      "56.0\n",
      "----------------------------------------------------------------------------------------------------\n"
     ]
    },
    {
     "data": {
      "text/markdown": [
       "retain Her gathered beams, great palace now of **light** . Hither as to their fountain other stars Repairing"
      ],
      "text/plain": [
       "<IPython.core.display.Markdown object>"
      ]
     },
     "metadata": {},
     "output_type": "display_data"
    },
    {
     "name": "stdout",
     "output_type": "stream",
     "text": [
      "56.0\n",
      "----------------------------------------------------------------------------------------------------\n"
     ]
    },
    {
     "data": {
      "text/markdown": [
       "s first disobedience, and the **fruit** Of that forbidden tree, whose mortal"
      ],
      "text/plain": [
       "<IPython.core.display.Markdown object>"
      ]
     },
     "metadata": {},
     "output_type": "display_data"
    },
    {
     "name": "stdout",
     "output_type": "stream",
     "text": [
      "55.0\n",
      "----------------------------------------------------------------------------------------------------\n"
     ]
    },
    {
     "data": {
      "text/markdown": [
       "s first disobedience, and the fruit Of that **forbidden** tree, whose mortal taste"
      ],
      "text/plain": [
       "<IPython.core.display.Markdown object>"
      ]
     },
     "metadata": {},
     "output_type": "display_data"
    },
    {
     "name": "stdout",
     "output_type": "stream",
     "text": [
      "55.0\n",
      "----------------------------------------------------------------------------------------------------\n"
     ]
    },
    {
     "data": {
      "text/markdown": [
       "whose mortal taste Brought **death** into the world, and all our woe, With loss of Eden, till"
      ],
      "text/plain": [
       "<IPython.core.display.Markdown object>"
      ]
     },
     "metadata": {},
     "output_type": "display_data"
    },
    {
     "name": "stdout",
     "output_type": "stream",
     "text": [
      "49.0\n",
      "----------------------------------------------------------------------------------------------------\n"
     ]
    },
    {
     "data": {
      "text/markdown": [
       "s first **disobedience** , and the fruit Of that forbidden tree, whose"
      ],
      "text/plain": [
       "<IPython.core.display.Markdown object>"
      ]
     },
     "metadata": {},
     "output_type": "display_data"
    },
    {
     "name": "stdout",
     "output_type": "stream",
     "text": [
      "47.0\n",
      "----------------------------------------------------------------------------------------------------\n"
     ]
    },
    {
     "data": {
      "text/markdown": [
       "colléague with justice, sending **thee** Man's friend, his Mediator, his designed"
      ],
      "text/plain": [
       "<IPython.core.display.Markdown object>"
      ]
     },
     "metadata": {},
     "output_type": "display_data"
    },
    {
     "name": "stdout",
     "output_type": "stream",
     "text": [
      "46.0\n",
      "----------------------------------------------------------------------------------------------------\n"
     ]
    },
    {
     "data": {
      "text/markdown": [
       "waves, and thou deep, peace Said then **th** ' omnific Word, your discord end: Nor"
      ],
      "text/plain": [
       "<IPython.core.display.Markdown object>"
      ]
     },
     "metadata": {},
     "output_type": "display_data"
    },
    {
     "name": "stdout",
     "output_type": "stream",
     "text": [
      "46.0\n",
      "----------------------------------------------------------------------------------------------------\n"
     ]
    },
    {
     "data": {
      "text/markdown": [
       "Mercy colléague with justice, **sending** thee Man's friend, his Mediator"
      ],
      "text/plain": [
       "<IPython.core.display.Markdown object>"
      ]
     },
     "metadata": {},
     "output_type": "display_data"
    },
    {
     "name": "stdout",
     "output_type": "stream",
     "text": [
      "46.0\n",
      "----------------------------------------------------------------------------------------------------\n"
     ]
    },
    {
     "data": {
      "text/markdown": [
       "intend Mercy colléague with **justice** , sending thee Man's friend"
      ],
      "text/plain": [
       "<IPython.core.display.Markdown object>"
      ]
     },
     "metadata": {},
     "output_type": "display_data"
    },
    {
     "name": "stdout",
     "output_type": "stream",
     "text": [
      "46.0\n",
      "----------------------------------------------------------------------------------------------------\n"
     ]
    },
    {
     "data": {
      "text/markdown": [
       "ague with justice, sending thee Man' **s** friend, his Mediator, his designed Both ransom"
      ],
      "text/plain": [
       "<IPython.core.display.Markdown object>"
      ]
     },
     "metadata": {},
     "output_type": "display_data"
    },
    {
     "name": "stdout",
     "output_type": "stream",
     "text": [
      "46.0\n",
      "----------------------------------------------------------------------------------------------------\n"
     ]
    },
    {
     "data": {
      "text/markdown": [
       "thou deep, peace Said then th' **omnific** Word, your discord end: Nor stayed"
      ],
      "text/plain": [
       "<IPython.core.display.Markdown object>"
      ]
     },
     "metadata": {},
     "output_type": "display_data"
    },
    {
     "name": "stdout",
     "output_type": "stream",
     "text": [
      "45.0\n",
      "----------------------------------------------------------------------------------------------------\n"
     ]
    },
    {
     "data": {
      "text/markdown": [
       "justice, sending thee Man's **friend** , his Mediator, his designed Both ransom and Redeemer"
      ],
      "text/plain": [
       "<IPython.core.display.Markdown object>"
      ]
     },
     "metadata": {},
     "output_type": "display_data"
    },
    {
     "name": "stdout",
     "output_type": "stream",
     "text": [
      "44.0\n",
      "----------------------------------------------------------------------------------------------------\n"
     ]
    },
    {
     "data": {
      "text/markdown": [
       "deep, peace Said then th' omnific **Word** , your discord end: Nor stayed, but on the wings"
      ],
      "text/plain": [
       "<IPython.core.display.Markdown object>"
      ]
     },
     "metadata": {},
     "output_type": "display_data"
    },
    {
     "name": "stdout",
     "output_type": "stream",
     "text": [
      "44.0\n",
      "----------------------------------------------------------------------------------------------------\n"
     ]
    },
    {
     "data": {
      "text/markdown": [
       "troubled waves, and thou deep, **peace** Said then th' omnific Word, your discord"
      ],
      "text/plain": [
       "<IPython.core.display.Markdown object>"
      ]
     },
     "metadata": {},
     "output_type": "display_data"
    },
    {
     "name": "stdout",
     "output_type": "stream",
     "text": [
      "43.0\n",
      "----------------------------------------------------------------------------------------------------\n"
     ]
    },
    {
     "data": {
      "text/markdown": [
       "support; That to the heighth of this great argument I may assert **Eternal** Providence, And justify the ways of God"
      ],
      "text/plain": [
       "<IPython.core.display.Markdown object>"
      ]
     },
     "metadata": {},
     "output_type": "display_data"
    },
    {
     "name": "stdout",
     "output_type": "stream",
     "text": [
      "43.0\n",
      "----------------------------------------------------------------------------------------------------\n"
     ]
    },
    {
     "data": {
      "text/markdown": [
       "raise and support; That to the heighth of this great argument I may **assert** Eternal Providence, And justify the ways"
      ],
      "text/plain": [
       "<IPython.core.display.Markdown object>"
      ]
     },
     "metadata": {},
     "output_type": "display_data"
    },
    {
     "name": "stdout",
     "output_type": "stream",
     "text": [
      "43.0\n",
      "----------------------------------------------------------------------------------------------------\n"
     ]
    },
    {
     "data": {
      "text/markdown": [
       "low raise and support; That to the heighth of this great **argument** I may assert Eternal Providence, And justify"
      ],
      "text/plain": [
       "<IPython.core.display.Markdown object>"
      ]
     },
     "metadata": {},
     "output_type": "display_data"
    },
    {
     "name": "stdout",
     "output_type": "stream",
     "text": [
      "43.0\n",
      "----------------------------------------------------------------------------------------------------\n"
     ]
    },
    {
     "data": {
      "text/markdown": [
       "peace Said then th' omnific Word, your **discord** end: Nor stayed, but on the wings of Cherubim"
      ],
      "text/plain": [
       "<IPython.core.display.Markdown object>"
      ]
     },
     "metadata": {},
     "output_type": "display_data"
    },
    {
     "name": "stdout",
     "output_type": "stream",
     "text": [
      "42.0\n",
      "----------------------------------------------------------------------------------------------------\n"
     ]
    },
    {
     "data": {
      "text/markdown": [
       "Illumine, what is low raise and support; That to the **heighth** of this great argument I may assert Eternal Providence"
      ],
      "text/plain": [
       "<IPython.core.display.Markdown object>"
      ]
     },
     "metadata": {},
     "output_type": "display_data"
    },
    {
     "name": "stdout",
     "output_type": "stream",
     "text": [
      "42.0\n",
      "----------------------------------------------------------------------------------------------------\n"
     ]
    },
    {
     "data": {
      "text/markdown": [
       "heighth of this great argument I may assert Eternal **Providence** , And justify the ways of God to men"
      ],
      "text/plain": [
       "<IPython.core.display.Markdown object>"
      ]
     },
     "metadata": {},
     "output_type": "display_data"
    },
    {
     "name": "stdout",
     "output_type": "stream",
     "text": [
      "42.0\n",
      "----------------------------------------------------------------------------------------------------\n"
     ]
    },
    {
     "data": {
      "text/markdown": [
       "Hell bounds high reaching to the horrid **roof** , And thrice threefold the gates; three folds"
      ],
      "text/plain": [
       "<IPython.core.display.Markdown object>"
      ]
     },
     "metadata": {},
     "output_type": "display_data"
    },
    {
     "name": "stdout",
     "output_type": "stream",
     "text": [
      "41.0\n",
      "----------------------------------------------------------------------------------------------------\n"
     ]
    },
    {
     "data": {
      "text/markdown": [
       "quickened appetite, that I, methought, Could not but taste. **Forthwith** up to the clouds With him I flew, and underneath beheld"
      ],
      "text/plain": [
       "<IPython.core.display.Markdown object>"
      ]
     },
     "metadata": {},
     "output_type": "display_data"
    },
    {
     "name": "stdout",
     "output_type": "stream",
     "text": [
      "41.0\n",
      "----------------------------------------------------------------------------------------------------\n"
     ]
    },
    {
     "data": {
      "text/markdown": [
       "trading flood Through the wide Ethiopian to the **Cape** Ply stemming nightly toward"
      ],
      "text/plain": [
       "<IPython.core.display.Markdown object>"
      ]
     },
     "metadata": {},
     "output_type": "display_data"
    },
    {
     "name": "stdout",
     "output_type": "stream",
     "text": [
      "41.0\n",
      "----------------------------------------------------------------------------------------------------\n"
     ]
    },
    {
     "data": {
      "text/markdown": [
       "appear Hell bounds high reaching to the **horrid** roof, And thrice threefold the gates"
      ],
      "text/plain": [
       "<IPython.core.display.Markdown object>"
      ]
     },
     "metadata": {},
     "output_type": "display_data"
    },
    {
     "name": "stdout",
     "output_type": "stream",
     "text": [
      "41.0\n",
      "----------------------------------------------------------------------------------------------------\n"
     ]
    },
    {
     "data": {
      "text/markdown": [
       "smell So quickened appetite, that I, methought, Could not but **taste** . Forthwith up to the clouds With him I flew, and underneath"
      ],
      "text/plain": [
       "<IPython.core.display.Markdown object>"
      ]
     },
     "metadata": {},
     "output_type": "display_data"
    },
    {
     "name": "stdout",
     "output_type": "stream",
     "text": [
      "40.0\n",
      "----------------------------------------------------------------------------------------------------\n"
     ]
    },
    {
     "data": {
      "text/markdown": [
       "dark Illumine, what is low raise and **support** ; That to the heighth of this great argument I may assert Eternal"
      ],
      "text/plain": [
       "<IPython.core.display.Markdown object>"
      ]
     },
     "metadata": {},
     "output_type": "display_data"
    },
    {
     "name": "stdout",
     "output_type": "stream",
     "text": [
      "40.0\n",
      "----------------------------------------------------------------------------------------------------\n"
     ]
    },
    {
     "data": {
      "text/markdown": [
       "reaching to the horrid roof, And thrice **threefold** the gates; three folds were brass, Three iron"
      ],
      "text/plain": [
       "<IPython.core.display.Markdown object>"
      ]
     },
     "metadata": {},
     "output_type": "display_data"
    },
    {
     "name": "stdout",
     "output_type": "stream",
     "text": [
      "39.0\n",
      "----------------------------------------------------------------------------------------------------\n"
     ]
    },
    {
     "data": {
      "text/markdown": [
       "flood Through the wide Ethiopian to the Cape **Ply** stemming nightly toward the pole"
      ],
      "text/plain": [
       "<IPython.core.display.Markdown object>"
      ]
     },
     "metadata": {},
     "output_type": "display_data"
    },
    {
     "name": "stdout",
     "output_type": "stream",
     "text": [
      "39.0\n",
      "----------------------------------------------------------------------------------------------------\n"
     ]
    },
    {
     "data": {
      "text/markdown": [
       "savoury smell So quickened appetite, that I, **methought** , Could not but taste. Forthwith up to the clouds With him I flew"
      ],
      "text/plain": [
       "<IPython.core.display.Markdown object>"
      ]
     },
     "metadata": {},
     "output_type": "display_data"
    },
    {
     "name": "stdout",
     "output_type": "stream",
     "text": [
      "39.0\n",
      "----------------------------------------------------------------------------------------------------\n"
     ]
    },
    {
     "data": {
      "text/markdown": [
       "pleasant savoury smell So quickened **appetite** , that I, methought, Could not but taste. Forthwith up to the clouds"
      ],
      "text/plain": [
       "<IPython.core.display.Markdown object>"
      ]
     },
     "metadata": {},
     "output_type": "display_data"
    },
    {
     "name": "stdout",
     "output_type": "stream",
     "text": [
      "39.0\n",
      "----------------------------------------------------------------------------------------------------\n"
     ]
    },
    {
     "data": {
      "text/markdown": [
       "bounds high reaching to the horrid roof, And **thrice** threefold the gates; three folds were brass"
      ],
      "text/plain": [
       "<IPython.core.display.Markdown object>"
      ]
     },
     "metadata": {},
     "output_type": "display_data"
    },
    {
     "name": "stdout",
     "output_type": "stream",
     "text": [
      "38.0\n",
      "----------------------------------------------------------------------------------------------------\n"
     ]
    },
    {
     "data": {
      "text/markdown": [
       "wide Ethiopian to the Cape Ply **stemming** nightly toward the pole. So seemed"
      ],
      "text/plain": [
       "<IPython.core.display.Markdown object>"
      ]
     },
     "metadata": {},
     "output_type": "display_data"
    },
    {
     "name": "stdout",
     "output_type": "stream",
     "text": [
      "38.0\n",
      "----------------------------------------------------------------------------------------------------\n"
     ]
    },
    {
     "data": {
      "text/markdown": [
       "Cape Ply stemming nightly **toward** the pole. So seemed Far off the flying"
      ],
      "text/plain": [
       "<IPython.core.display.Markdown object>"
      ]
     },
     "metadata": {},
     "output_type": "display_data"
    },
    {
     "name": "stdout",
     "output_type": "stream",
     "text": [
      "38.0\n",
      "----------------------------------------------------------------------------------------------------\n"
     ]
    },
    {
     "data": {
      "text/markdown": [
       "horrid roof, And thrice threefold the **gates** ; three folds were brass, Three iron, three of adamantine"
      ],
      "text/plain": [
       "<IPython.core.display.Markdown object>"
      ]
     },
     "metadata": {},
     "output_type": "display_data"
    },
    {
     "name": "stdout",
     "output_type": "stream",
     "text": [
      "37.0\n",
      "----------------------------------------------------------------------------------------------------\n"
     ]
    },
    {
     "data": {
      "text/markdown": [
       "drugs: they on the trading flood Through the wide **Ethiopian** to the Cape Ply stemming nightly"
      ],
      "text/plain": [
       "<IPython.core.display.Markdown object>"
      ]
     },
     "metadata": {},
     "output_type": "display_data"
    },
    {
     "name": "stdout",
     "output_type": "stream",
     "text": [
      "37.0\n",
      "----------------------------------------------------------------------------------------------------\n"
     ]
    },
    {
     "data": {
      "text/markdown": [
       "streak the east With first approach of light, we **must** be ris'n, And at our pleasant labour"
      ],
      "text/plain": [
       "<IPython.core.display.Markdown object>"
      ]
     },
     "metadata": {},
     "output_type": "display_data"
    },
    {
     "name": "stdout",
     "output_type": "stream",
     "text": [
      "37.0\n",
      "----------------------------------------------------------------------------------------------------\n"
     ]
    },
    {
     "data": {
      "text/markdown": [
       "morning streak the east With first approach of **light** , we must be ris'n, And at our pleasant"
      ],
      "text/plain": [
       "<IPython.core.display.Markdown object>"
      ]
     },
     "metadata": {},
     "output_type": "display_data"
    },
    {
     "name": "stdout",
     "output_type": "stream",
     "text": [
      "37.0\n",
      "----------------------------------------------------------------------------------------------------\n"
     ]
    },
    {
     "data": {
      "text/markdown": [
       "appetite, that I, methought, Could not but taste. Forthwith up to the **clouds** With him I flew, and underneath beheld The earth"
      ],
      "text/plain": [
       "<IPython.core.display.Markdown object>"
      ]
     },
     "metadata": {},
     "output_type": "display_data"
    },
    {
     "name": "stdout",
     "output_type": "stream",
     "text": [
      "37.0\n",
      "----------------------------------------------------------------------------------------------------\n"
     ]
    },
    {
     "data": {
      "text/markdown": [
       "Peru, the richer seat Of Atabalipa, and **yet** unspoiled Guiana, whose great city"
      ],
      "text/plain": [
       "<IPython.core.display.Markdown object>"
      ]
     },
     "metadata": {},
     "output_type": "display_data"
    },
    {
     "name": "stdout",
     "output_type": "stream",
     "text": [
      "37.0\n",
      "----------------------------------------------------------------------------------------------------\n"
     ]
    },
    {
     "data": {
      "text/markdown": [
       "richer seat Of Atabalipa, and yet **unspoiled** Guiana, whose great city Geryon"
      ],
      "text/plain": [
       "<IPython.core.display.Markdown object>"
      ]
     },
     "metadata": {},
     "output_type": "display_data"
    },
    {
     "name": "stdout",
     "output_type": "stream",
     "text": [
      "37.0\n",
      "----------------------------------------------------------------------------------------------------\n"
     ]
    },
    {
     "data": {
      "text/markdown": [
       "seat Of Atabalipa, and yet unspoiled **Guiana** , whose great city Geryon's"
      ],
      "text/plain": [
       "<IPython.core.display.Markdown object>"
      ]
     },
     "metadata": {},
     "output_type": "display_data"
    },
    {
     "name": "stdout",
     "output_type": "stream",
     "text": [
      "37.0\n",
      "----------------------------------------------------------------------------------------------------\n"
     ]
    },
    {
     "data": {
      "text/markdown": [
       "Atabalipa, and yet unspoiled Guiana, **whose** great city Geryon's sons"
      ],
      "text/plain": [
       "<IPython.core.display.Markdown object>"
      ]
     },
     "metadata": {},
     "output_type": "display_data"
    },
    {
     "name": "stdout",
     "output_type": "stream",
     "text": [
      "37.0\n",
      "----------------------------------------------------------------------------------------------------\n"
     ]
    },
    {
     "data": {
      "text/markdown": [
       "Ethiopian to the Cape Ply stemming **nightly** toward the pole. So seemed Far"
      ],
      "text/plain": [
       "<IPython.core.display.Markdown object>"
      ]
     },
     "metadata": {},
     "output_type": "display_data"
    },
    {
     "name": "stdout",
     "output_type": "stream",
     "text": [
      "37.0\n",
      "----------------------------------------------------------------------------------------------------\n"
     ]
    },
    {
     "data": {
      "text/markdown": [
       "Waged in the troubled sky, and armies **rush** To battle in the clouds, before each van"
      ],
      "text/plain": [
       "<IPython.core.display.Markdown object>"
      ]
     },
     "metadata": {},
     "output_type": "display_data"
    },
    {
     "name": "stdout",
     "output_type": "stream",
     "text": [
      "37.0\n",
      "----------------------------------------------------------------------------------------------------\n"
     ]
    },
    {
     "data": {
      "text/markdown": [
       "plucked; the pleasant savoury smell So **quickened** appetite, that I, methought, Could not but taste. Forthwith"
      ],
      "text/plain": [
       "<IPython.core.display.Markdown object>"
      ]
     },
     "metadata": {},
     "output_type": "display_data"
    },
    {
     "name": "stdout",
     "output_type": "stream",
     "text": [
      "36.0\n",
      "----------------------------------------------------------------------------------------------------\n"
     ]
    },
    {
     "data": {
      "text/markdown": [
       "appears Waged in the troubled sky, and **armies** rush To battle in the clouds, before each"
      ],
      "text/plain": [
       "<IPython.core.display.Markdown object>"
      ]
     },
     "metadata": {},
     "output_type": "display_data"
    },
    {
     "name": "stdout",
     "output_type": "stream",
     "text": [
      "36.0\n",
      "----------------------------------------------------------------------------------------------------\n"
     ]
    },
    {
     "data": {
      "text/markdown": [
       "Cusco in Peru, the richer seat Of **Atabalipa** , and yet unspoiled Guiana, whose"
      ],
      "text/plain": [
       "<IPython.core.display.Markdown object>"
      ]
     },
     "metadata": {},
     "output_type": "display_data"
    },
    {
     "name": "stdout",
     "output_type": "stream",
     "text": [
      "36.0\n",
      "----------------------------------------------------------------------------------------------------\n"
     ]
    },
    {
     "data": {
      "text/markdown": [
       " **s** first disobedience, and the fruit Of that forbidden tree"
      ],
      "text/plain": [
       "<IPython.core.display.Markdown object>"
      ]
     },
     "metadata": {},
     "output_type": "display_data"
    },
    {
     "name": "stdout",
     "output_type": "stream",
     "text": [
      "36.0\n",
      "----------------------------------------------------------------------------------------------------\n"
     ]
    },
    {
     "data": {
      "text/markdown": [
       "ere fresh morning streak the **east** With first approach of light, we must be ris"
      ],
      "text/plain": [
       "<IPython.core.display.Markdown object>"
      ]
     },
     "metadata": {},
     "output_type": "display_data"
    },
    {
     "name": "stdout",
     "output_type": "stream",
     "text": [
      "34.0\n",
      "----------------------------------------------------------------------------------------------------\n"
     ]
    },
    {
     "data": {
      "text/markdown": [
       "fresh morning streak the east With first **approach** of light, we must be ris'n"
      ],
      "text/plain": [
       "<IPython.core.display.Markdown object>"
      ]
     },
     "metadata": {},
     "output_type": "display_data"
    },
    {
     "name": "stdout",
     "output_type": "stream",
     "text": [
      "34.0\n",
      "----------------------------------------------------------------------------------------------------\n"
     ]
    },
    {
     "data": {
      "text/markdown": [
       "ponderous shield Ethereal temper, **massy** , large and round, Behind him cast"
      ],
      "text/plain": [
       "<IPython.core.display.Markdown object>"
      ]
     },
     "metadata": {},
     "output_type": "display_data"
    },
    {
     "name": "stdout",
     "output_type": "stream",
     "text": [
      "34.0\n",
      "----------------------------------------------------------------------------------------------------\n"
     ]
    },
    {
     "data": {
      "text/markdown": [
       "shield Ethereal temper, massy, **large** and round, Behind him cast; the broad"
      ],
      "text/plain": [
       "<IPython.core.display.Markdown object>"
      ]
     },
     "metadata": {},
     "output_type": "display_data"
    },
    {
     "name": "stdout",
     "output_type": "stream",
     "text": [
      "33.0\n",
      "----------------------------------------------------------------------------------------------------\n"
     ]
    },
    {
     "data": {
      "text/markdown": [
       "troubled sky, and armies rush To **battle** in the clouds, before each van Prick"
      ],
      "text/plain": [
       "<IPython.core.display.Markdown object>"
      ]
     },
     "metadata": {},
     "output_type": "display_data"
    },
    {
     "name": "stdout",
     "output_type": "stream",
     "text": [
      "33.0\n",
      "----------------------------------------------------------------------------------------------------\n"
     ]
    },
    {
     "data": {
      "text/markdown": [
       "armies rush To battle in the clouds, before **each** van Prick forth the airy"
      ],
      "text/plain": [
       "<IPython.core.display.Markdown object>"
      ]
     },
     "metadata": {},
     "output_type": "display_data"
    },
    {
     "name": "stdout",
     "output_type": "stream",
     "text": [
      "32.0\n",
      "----------------------------------------------------------------------------------------------------\n"
     ]
    },
    {
     "data": {
      "text/markdown": [
       "east With first approach of light, we must be **ris** 'n, And at our pleasant labour, to reform"
      ],
      "text/plain": [
       "<IPython.core.display.Markdown object>"
      ]
     },
     "metadata": {},
     "output_type": "display_data"
    },
    {
     "name": "stdout",
     "output_type": "stream",
     "text": [
      "32.0\n",
      "----------------------------------------------------------------------------------------------------\n"
     ]
    },
    {
     "data": {
      "text/markdown": [
       "sky, and armies rush To battle in the **clouds** , before each van Prick forth"
      ],
      "text/plain": [
       "<IPython.core.display.Markdown object>"
      ]
     },
     "metadata": {},
     "output_type": "display_data"
    },
    {
     "name": "stdout",
     "output_type": "stream",
     "text": [
      "32.0\n",
      "----------------------------------------------------------------------------------------------------\n"
     ]
    },
    {
     "data": {
      "text/markdown": [
       "ye troubled waves, and thou **deep** , peace Said then th' omnific Word"
      ],
      "text/plain": [
       "<IPython.core.display.Markdown object>"
      ]
     },
     "metadata": {},
     "output_type": "display_data"
    },
    {
     "name": "stdout",
     "output_type": "stream",
     "text": [
      "32.0\n",
      "----------------------------------------------------------------------------------------------------\n"
     ]
    },
    {
     "data": {
      "text/markdown": [
       "temper, massy, large and round, **Behind** him cast; the broad circumference Hung"
      ],
      "text/plain": [
       "<IPython.core.display.Markdown object>"
      ]
     },
     "metadata": {},
     "output_type": "display_data"
    },
    {
     "name": "stdout",
     "output_type": "stream",
     "text": [
      "32.0\n",
      "----------------------------------------------------------------------------------------------------\n"
     ]
    },
    {
     "data": {
      "text/markdown": [
       "Ethereal temper, massy, large and **round** , Behind him cast; the broad circumference"
      ],
      "text/plain": [
       "<IPython.core.display.Markdown object>"
      ]
     },
     "metadata": {},
     "output_type": "display_data"
    },
    {
     "name": "stdout",
     "output_type": "stream",
     "text": [
      "31.0\n",
      "----------------------------------------------------------------------------------------------------\n"
     ]
    },
    {
     "data": {
      "text/markdown": [
       "shore; his ponderous shield Ethereal **temper** , massy, large and round, Behind"
      ],
      "text/plain": [
       "<IPython.core.display.Markdown object>"
      ]
     },
     "metadata": {},
     "output_type": "display_data"
    },
    {
     "name": "stdout",
     "output_type": "stream",
     "text": [
      "31.0\n",
      "----------------------------------------------------------------------------------------------------\n"
     ]
    },
    {
     "data": {
      "text/markdown": [
       "methought, Could not but taste. Forthwith up to the clouds With him I **flew** , and underneath beheld The earth outstretched"
      ],
      "text/plain": [
       "<IPython.core.display.Markdown object>"
      ]
     },
     "metadata": {},
     "output_type": "display_data"
    },
    {
     "name": "stdout",
     "output_type": "stream",
     "text": [
      "31.0\n",
      "----------------------------------------------------------------------------------------------------\n"
     ]
    },
    {
     "data": {
      "text/markdown": [
       "massy, large and round, Behind him **cast** ; the broad circumference Hung on his shoulders"
      ],
      "text/plain": [
       "<IPython.core.display.Markdown object>"
      ]
     },
     "metadata": {},
     "output_type": "display_data"
    },
    {
     "name": "stdout",
     "output_type": "stream",
     "text": [
      "31.0\n",
      "----------------------------------------------------------------------------------------------------\n"
     ]
    },
    {
     "data": {
      "text/markdown": [
       "coast in prospect lay. Down he descended **straight** ; the speed of Gods Time counts not, though"
      ],
      "text/plain": [
       "<IPython.core.display.Markdown object>"
      ]
     },
     "metadata": {},
     "output_type": "display_data"
    },
    {
     "name": "stdout",
     "output_type": "stream",
     "text": [
      "31.0\n",
      "----------------------------------------------------------------------------------------------------\n"
     ]
    },
    {
     "data": {
      "text/markdown": [
       "Silence, ye troubled waves, and **thou** deep, peace Said then th' omnific"
      ],
      "text/plain": [
       "<IPython.core.display.Markdown object>"
      ]
     },
     "metadata": {},
     "output_type": "display_data"
    },
    {
     "name": "stdout",
     "output_type": "stream",
     "text": [
      "30.0\n",
      "----------------------------------------------------------------------------------------------------\n"
     ]
    },
    {
     "data": {
      "text/markdown": [
       "pole. Silence, ye troubled **waves** , and thou deep, peace Said then th"
      ],
      "text/plain": [
       "<IPython.core.display.Markdown object>"
      ]
     },
     "metadata": {},
     "output_type": "display_data"
    },
    {
     "name": "stdout",
     "output_type": "stream",
     "text": [
      "30.0\n",
      "----------------------------------------------------------------------------------------------------\n"
     ]
    },
    {
     "data": {
      "text/markdown": [
       "taste. Forthwith up to the clouds With him I flew, and **underneath** beheld The earth outstretched immense"
      ],
      "text/plain": [
       "<IPython.core.display.Markdown object>"
      ]
     },
     "metadata": {},
     "output_type": "display_data"
    },
    {
     "name": "stdout",
     "output_type": "stream",
     "text": [
      "30.0\n",
      "----------------------------------------------------------------------------------------------------\n"
     ]
    },
    {
     "data": {
      "text/markdown": [
       "prospect lay. Down he descended straight; the **speed** of Gods Time counts not, though with swiftest"
      ],
      "text/plain": [
       "<IPython.core.display.Markdown object>"
      ]
     },
     "metadata": {},
     "output_type": "display_data"
    },
    {
     "name": "stdout",
     "output_type": "stream",
     "text": [
      "30.0\n",
      "----------------------------------------------------------------------------------------------------\n"
     ]
    },
    {
     "data": {
      "text/markdown": [
       "moving toward the shore; his ponderous **shield** Ethereal temper, massy, large"
      ],
      "text/plain": [
       "<IPython.core.display.Markdown object>"
      ]
     },
     "metadata": {},
     "output_type": "display_data"
    },
    {
     "name": "stdout",
     "output_type": "stream",
     "text": [
      "30.0\n",
      "----------------------------------------------------------------------------------------------------\n"
     ]
    },
    {
     "data": {
      "text/markdown": [
       "toward the shore; his ponderous shield **Ethereal** temper, massy, large and round"
      ],
      "text/plain": [
       "<IPython.core.display.Markdown object>"
      ]
     },
     "metadata": {},
     "output_type": "display_data"
    },
    {
     "name": "stdout",
     "output_type": "stream",
     "text": [
      "30.0\n",
      "----------------------------------------------------------------------------------------------------\n"
     ]
    },
    {
     "data": {
      "text/markdown": [
       "Sticks no dishonour on our front, but turns **Foul** on himself; then wherefore shunned or feared"
      ],
      "text/plain": [
       "<IPython.core.display.Markdown object>"
      ]
     },
     "metadata": {},
     "output_type": "display_data"
    },
    {
     "name": "stdout",
     "output_type": "stream",
     "text": [
      "30.0\n",
      "----------------------------------------------------------------------------------------------------\n"
     ]
    },
    {
     "data": {
      "text/markdown": [
       "Forthwith up to the clouds With him I flew, and underneath **beheld** The earth outstretched immense, a prospect"
      ],
      "text/plain": [
       "<IPython.core.display.Markdown object>"
      ]
     },
     "metadata": {},
     "output_type": "display_data"
    },
    {
     "name": "stdout",
     "output_type": "stream",
     "text": [
      "30.0\n",
      "----------------------------------------------------------------------------------------------------\n"
     ]
    },
    {
     "data": {
      "text/markdown": [
       "require Thy utmost reach or **Adam** 's: round the tree All other beasts"
      ],
      "text/plain": [
       "<IPython.core.display.Markdown object>"
      ]
     },
     "metadata": {},
     "output_type": "display_data"
    },
    {
     "name": "stdout",
     "output_type": "stream",
     "text": [
      "29.0\n",
      "----------------------------------------------------------------------------------------------------\n"
     ]
    },
    {
     "data": {
      "text/markdown": [
       "dishonour on our front, but turns Foul on **himself** ; then wherefore shunned or feared By us? Who rather"
      ],
      "text/plain": [
       "<IPython.core.display.Markdown object>"
      ]
     },
     "metadata": {},
     "output_type": "display_data"
    },
    {
     "name": "stdout",
     "output_type": "stream",
     "text": [
      "29.0\n",
      "----------------------------------------------------------------------------------------------------\n"
     ]
    },
    {
     "data": {
      "text/markdown": [
       "lay. Down he descended straight; the speed of **Gods** Time counts not, though with swiftest minutes"
      ],
      "text/plain": [
       "<IPython.core.display.Markdown object>"
      ]
     },
     "metadata": {},
     "output_type": "display_data"
    },
    {
     "name": "stdout",
     "output_type": "stream",
     "text": [
      "29.0\n",
      "----------------------------------------------------------------------------------------------------\n"
     ]
    },
    {
     "data": {
      "text/markdown": [
       "branches would require Thy utmost **reach** or Adam's: round the tree"
      ],
      "text/plain": [
       "<IPython.core.display.Markdown object>"
      ]
     },
     "metadata": {},
     "output_type": "display_data"
    },
    {
     "name": "stdout",
     "output_type": "stream",
     "text": [
      "29.0\n",
      "----------------------------------------------------------------------------------------------------\n"
     ]
    },
    {
     "data": {
      "text/markdown": [
       "Fiend: at last appear Hell bounds high **reaching** to the horrid roof, And thrice threefold"
      ],
      "text/plain": [
       "<IPython.core.display.Markdown object>"
      ]
     },
     "metadata": {},
     "output_type": "display_data"
    },
    {
     "name": "stdout",
     "output_type": "stream",
     "text": [
      "29.0\n",
      "----------------------------------------------------------------------------------------------------\n"
     ]
    },
    {
     "data": {
      "text/markdown": [
       "wound me soon, For high from ground the branches would **require** Thy utmost reach or Adam"
      ],
      "text/plain": [
       "<IPython.core.display.Markdown object>"
      ]
     },
     "metadata": {},
     "output_type": "display_data"
    },
    {
     "name": "stdout",
     "output_type": "stream",
     "text": [
      "29.0\n",
      "----------------------------------------------------------------------------------------------------\n"
     ]
    },
    {
     "data": {
      "text/markdown": [
       "soon, For high from ground the branches would require **Thy** utmost reach or Adam's"
      ],
      "text/plain": [
       "<IPython.core.display.Markdown object>"
      ]
     },
     "metadata": {},
     "output_type": "display_data"
    },
    {
     "name": "stdout",
     "output_type": "stream",
     "text": [
      "29.0\n",
      "----------------------------------------------------------------------------------------------------\n"
     ]
    },
    {
     "data": {
      "text/markdown": [
       "ground the branches would require Thy **utmost** reach or Adam's: round"
      ],
      "text/plain": [
       "<IPython.core.display.Markdown object>"
      ]
     },
     "metadata": {},
     "output_type": "display_data"
    },
    {
     "name": "stdout",
     "output_type": "stream",
     "text": [
      "29.0\n",
      "----------------------------------------------------------------------------------------------------\n"
     ]
    },
    {
     "data": {
      "text/markdown": [
       "seen that I intend Mercy collé **ague** with justice, sending thee Man's"
      ],
      "text/plain": [
       "<IPython.core.display.Markdown object>"
      ]
     },
     "metadata": {},
     "output_type": "display_data"
    },
    {
     "name": "stdout",
     "output_type": "stream",
     "text": [
      "29.0\n",
      "----------------------------------------------------------------------------------------------------\n"
     ]
    },
    {
     "data": {
      "text/markdown": [
       "clouds With him I flew, and underneath beheld The **earth** outstretched immense, a prospect wide"
      ],
      "text/plain": [
       "<IPython.core.display.Markdown object>"
      ]
     },
     "metadata": {},
     "output_type": "display_data"
    },
    {
     "name": "stdout",
     "output_type": "stream",
     "text": [
      "28.0\n",
      "----------------------------------------------------------------------------------------------------\n"
     ]
    },
    {
     "data": {
      "text/markdown": [
       "Tomorrow ere fresh morning **streak** the east With first approach of light, we must"
      ],
      "text/plain": [
       "<IPython.core.display.Markdown object>"
      ]
     },
     "metadata": {},
     "output_type": "display_data"
    },
    {
     "name": "stdout",
     "output_type": "stream",
     "text": [
      "28.0\n",
      "----------------------------------------------------------------------------------------------------\n"
     ]
    },
    {
     "data": {
      "text/markdown": [
       "void and formless infinite. Thee I **revisit** now with bolder wing, Escaped the Stygian"
      ],
      "text/plain": [
       "<IPython.core.display.Markdown object>"
      ]
     },
     "metadata": {},
     "output_type": "display_data"
    },
    {
     "name": "stdout",
     "output_type": "stream",
     "text": [
      "27.0\n",
      "----------------------------------------------------------------------------------------------------\n"
     ]
    },
    {
     "data": {
      "text/markdown": [
       "esteem Sticks no dishonour on our front, but **turns** Foul on himself; then wherefore shunned"
      ],
      "text/plain": [
       "<IPython.core.display.Markdown object>"
      ]
     },
     "metadata": {},
     "output_type": "display_data"
    },
    {
     "name": "stdout",
     "output_type": "stream",
     "text": [
      "27.0\n"
     ]
    }
   ],
   "source": [
    "from IPython.display import Markdown, display\n",
    "\n",
    "bin_idxs = np.argsort(n)[::-1]\n",
    "\n",
    "for idx in bin_idxs[:100]:\n",
    "    print('-'*100)\n",
    "    prefix, match, suffix = pl.snippet(idx, 1, 4)\n",
    "    display(Markdown('{} **{}** {}'.format(prefix, match, suffix)))\n",
    "    print(n[idx])"
   ]
  },
  {
   "cell_type": "code",
   "execution_count": null,
   "metadata": {
    "collapsed": true
   },
   "outputs": [],
   "source": []
  }
 ],
 "metadata": {
  "kernelspec": {
   "display_name": "Python 3",
   "language": "python",
   "name": "python3"
  },
  "language_info": {
   "codemirror_mode": {
    "name": "ipython",
    "version": 3
   },
   "file_extension": ".py",
   "mimetype": "text/x-python",
   "name": "python",
   "nbconvert_exporter": "python",
   "pygments_lexer": "ipython3",
   "version": "3.5.2"
  }
 },
 "nbformat": 4,
 "nbformat_minor": 2
}
