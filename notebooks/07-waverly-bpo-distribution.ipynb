{
 "cells": [
  {
   "cell_type": "markdown",
   "metadata": {},
   "source": [
    "# Waverley quote distributions"
   ]
  },
  {
   "cell_type": "code",
   "execution_count": 1,
   "metadata": {
    "collapsed": false
   },
   "outputs": [],
   "source": [
    "import matplotlib.pyplot as plt\n",
    "%matplotlib inline"
   ]
  },
  {
   "cell_type": "code",
   "execution_count": 2,
   "metadata": {
    "collapsed": true
   },
   "outputs": [],
   "source": [
    "from quotes.models import Match"
   ]
  },
  {
   "cell_type": "code",
   "execution_count": 3,
   "metadata": {
    "collapsed": false
   },
   "outputs": [],
   "source": [
    "quoted = []\n",
    "\n",
    "for m in Match.query.filter(Match.size >= 5):\n",
    "    quoted += range(m.a_start, m.a_start + m.size)"
   ]
  },
  {
   "cell_type": "code",
   "execution_count": 17,
   "metadata": {
    "collapsed": false
   },
   "outputs": [],
   "source": [
    "from quotes.text import Text\n",
    "\n",
    "waverley = Text.from_chadh_c19('../data/Chadwyck_British_1814_Scott_WaverleyorTis.txt')"
   ]
  },
  {
   "cell_type": "code",
   "execution_count": 5,
   "metadata": {
    "collapsed": false
   },
   "outputs": [
    {
     "data": {
      "text/plain": [
       "9549"
      ]
     },
     "execution_count": 5,
     "metadata": {},
     "output_type": "execute_result"
    }
   ],
   "source": [
    "len(set(quoted))"
   ]
  },
  {
   "cell_type": "code",
   "execution_count": 18,
   "metadata": {
    "collapsed": false
   },
   "outputs": [
    {
     "data": {
      "text/plain": [
       "96079"
      ]
     },
     "execution_count": 18,
     "metadata": {},
     "output_type": "execute_result"
    }
   ],
   "source": [
    "len(waverley.tokens)"
   ]
  },
  {
   "cell_type": "code",
   "execution_count": 19,
   "metadata": {
    "collapsed": false
   },
   "outputs": [
    {
     "data": {
      "text/plain": [
       "0.09938696281185275"
      ]
     },
     "execution_count": 19,
     "metadata": {},
     "output_type": "execute_result"
    }
   ],
   "source": [
    "len(set(quoted)) / len(waverley.tokens)"
   ]
  },
  {
   "cell_type": "markdown",
   "metadata": {},
   "source": [
    "# 500 bins"
   ]
  },
  {
   "cell_type": "code",
   "execution_count": 20,
   "metadata": {
    "collapsed": false
   },
   "outputs": [
    {
     "data": {
      "image/png": "[encoded data removed]",
      "text/plain": [
       "<matplotlib.figure.Figure at 0x10f0286d8>"
      ]
     },
     "metadata": {},
     "output_type": "display_data"
    }
   ],
   "source": [
    "plt.figure(figsize=(20, 5))\n",
    "\n",
    "n, bins, patches = plt.hist(\n",
    "    quoted,\n",
    "    range=(0, len(waverley.tokens)),\n",
    "    bins=500,\n",
    "    color='green',\n",
    ")\n",
    "\n",
    "plt.show()"
   ]
  },
  {
   "cell_type": "code",
   "execution_count": 21,
   "metadata": {
    "collapsed": false
   },
   "outputs": [
    {
     "name": "stdout",
     "output_type": "stream",
     "text": [
      "[ 97  96 106 148 105]\n"
     ]
    }
   ],
   "source": [
    "import numpy as np\n",
    "\n",
    "bin_idxs = np.argsort(n)[::-1]\n",
    "print(bin_idxs[:5])"
   ]
  },
  {
   "cell_type": "code",
   "execution_count": 14,
   "metadata": {
    "collapsed": false,
    "scrolled": false
   },
   "outputs": [],
   "source": [
    "def print_bin(idx):\n",
    "    \n",
    "    token1 = int(bins[idx])\n",
    "    token2 = int(bins[idx+1]-1)\n",
    "    \n",
    "    char1 = hamlet.tokens[token1].char1\n",
    "    char2 = hamlet.tokens[token2].char2\n",
    "\n",
    "    print(hamlet.text[char1:char2])"
   ]
  },
  {
   "cell_type": "code",
   "execution_count": 23,
   "metadata": {
    "collapsed": false,
    "scrolled": false
   },
   "outputs": [
    {
     "data": {
      "text/markdown": [
       "# 1"
      ],
      "text/plain": [
       "<IPython.core.display.Markdown object>"
      ]
     },
     "metadata": {},
     "output_type": "display_data"
    },
    {
     "name": "stdout",
     "output_type": "stream",
     "text": [
      "court-yard corresponded\n",
      "\n",
      "with the rest of the scene. The house,\n",
      "\n",
      "which seemed to consist of two or three high, narrow,\n",
      "\n",
      "and steep-roofed buildings, projecting from\n",
      "\n",
      "each other at right angles, formed one side of the\n",
      "\n",
      "inclosure. It had been built at a period when castles\n",
      "\n",
      "were no longer necessary, and when the Scottish\n",
      "\n",
      "architects had not yet acquired the art of designing\n",
      "\n",
      "a domestic residence. The windows were\n",
      "\n",
      "numberless, but very small; the roof had some nondescript\n",
      "\n",
      "kind of projections, called bartizans, and\n",
      "\n",
      "\n",
      "displayed at each frequent angle a small turret, rather\n",
      "\n",
      "resembling a pepper-box than a Gothic watch-tower.\n",
      "\n",
      "Neither did the front indicate absolute security\n",
      "\n",
      "from danger. There were loop-holes for\n",
      "\n",
      "musketry, and iron stancheons on the lower windows,\n",
      "\n",
      "probably to repel any roving band of gipsies,\n",
      "\n",
      "or resist a predatory visit from the Caterans of the\n",
      "\n",
      "neighbouring Highlands. Stables and other offices\n",
      "\n",
      "occupied another side of the square. The former\n",
      "\n",
      "were low vaults, with narrow slits instead of windows,\n",
      "\n",
      "resembling, as Edward's groom observed,\n",
      "\n",
      "“rather a prison for murderers, and larceners, and\n",
      "\n",
      "such like as are tried at 'sizes, than a place for any\n",
      "\n",
      "Christian cattle.” Above these dungeon-looking\n",
      "\n",
      "stables were granaries, called girnels, and other offices,\n",
      "\n",
      "to which there was access by outside stairs of\n",
      "\n",
      "heavy masonry. Two battlemented walls, one of\n",
      "\n",
      "which faced the avenue, and the other divided the\n",
      "\n",
      "court from the garden, completed the enclosure.\n",
      "Nor was the court without its ornaments. In one\n",
      "\n",
      "corner was a tun-bellied pigeon-house, of great size\n",
      "\n",
      "and rotundity, resembling in figure and proportion\n",
      "\n",
      "the curious edifice called Arthur's Oven, which\n",
      "\n",
      "would have turned the brains of all the antiquaries\n",
      "\n",
      "in England, had not the worthy proprietor pulled\n",
      "\n",
      "it down for the sake of mending a neighbouring\n",
      "\n",
      "dam-dyke. This dovecot, or columbarium, as the\n",
      "\n",
      "owner called it, was no small resource to a Scottish\n",
      "\n",
      "laird of that period, whose scanty rents were\n",
      "\n",
      "eked out by the contributions levied upon the farms\n",
      "\n",
      "by these light foragers, and the conscriptions exacted\n",
      "\n",
      "from the latter for the benefit of the table.\n",
      "Another corner of the court displayed a fountain,\n",
      "\n",
      "where a huge bear, carved in stone, predominated\n",
      "\n",
      "over a large stone-basin, into which he disgorged\n",
      "\n",
      "the water\n"
     ]
    },
    {
     "data": {
      "text/markdown": [
       "# 2"
      ],
      "text/plain": [
       "<IPython.core.display.Markdown object>"
      ]
     },
     "metadata": {},
     "output_type": "display_data"
    },
    {
     "name": "stdout",
     "output_type": "stream",
     "text": [
      "avenue, opening under an\n",
      "\n",
      "archway, battlemented on the top, and adorned with\n",
      "\n",
      "two large weather-beaten mutilated masses of upright\n",
      "\n",
      "stone, which, if the tradition of the hamlet\n",
      "\n",
      "could be trusted, had once represented, at least had\n",
      "\n",
      "been once designed to represent, two rampant Bears,\n",
      "\n",
      "the supporters of the family of Bradwardine. This\n",
      "\n",
      "avenue was straight, and of moderate length, running\n",
      "\n",
      "between a double row of very ancient horse-chestnuts,\n",
      "\n",
      "planted alternately with sycamores, which\n",
      "\n",
      "rose to such huge height, and flourished so luxuriantly,\n",
      "\n",
      "that their boughs completely over-arched\n",
      "\n",
      "the broad road beneath. Beyond these venerable\n",
      "\n",
      "ranks, and running parallel to them, were two high\n",
      "\n",
      "walls, of apparently the like antiquity, overgrown\n",
      "\n",
      "with ivy, honey-suckle, and other climbing plants.\n",
      "\n",
      "The avenue seemed very little trodden, and chiefly\n",
      "\n",
      "by foot-passengers; so that being very broad, and\n",
      "\n",
      "enjoying a constant shade, it was clothed with grass\n",
      "\n",
      "of a deep and rich verdure, excepting where a footpath,\n",
      "\n",
      "worn by occasional passengers, tracked with\n",
      "\n",
      "a natural sweep the way from the upper to the\n",
      "\n",
      "lower gate. This nether portal, like the former,\n",
      "\n",
      "opened in front of a wall ornamented with some\n",
      "\n",
      "\n",
      "rude sculpture, with battlements on the top, over\n",
      "\n",
      "which were seen, half-hidden by the trees of the\n",
      "\n",
      "avenue, the high steep roofs and narrow gables of\n",
      "\n",
      "the mansion, with lines indented into steps, and corners\n",
      "\n",
      "decorated with small turrets. One of the folding\n",
      "\n",
      "leaves of the lower gate was open, and as the\n",
      "\n",
      "sun shone full into the court behind, a long line of\n",
      "\n",
      "brilliancy was flung upon the aperture up the dark\n",
      "\n",
      "and gloomy avenue. It was one of those effects\n",
      "\n",
      "which a painter loves to represent, and mingled\n",
      "\n",
      "well with the struggling light which found its way\n",
      "\n",
      "between the boughs of the shady arch that vaulted\n",
      "\n",
      "the broad green alley.\n",
      "The solitude and repose of the whole scene\n",
      "\n",
      "seemed almost monastic; and Waverley, who had\n",
      "\n",
      "given his horse to his servant on entering the first\n",
      "\n",
      "gate, walked slowly down the avenue, enjoying the\n",
      "\n",
      "grateful and cooling shade, and so much pleased\n",
      "\n",
      "with the placid ideas of rest and seclusion excited\n",
      "\n",
      "by this confined and quiet scene, that he forgot the\n",
      "\n",
      "misery and dirt of the hamlet he had left behind\n",
      "\n",
      "him. The opening into the paved\n"
     ]
    },
    {
     "data": {
      "text/markdown": [
       "# 3"
      ],
      "text/plain": [
       "<IPython.core.display.Markdown object>"
      ]
     },
     "metadata": {},
     "output_type": "display_data"
    },
    {
     "name": "stdout",
     "output_type": "stream",
     "text": [
      "vassals\n",
      "\n",
      "at his pleasure. Like James the First, however,\n",
      "\n",
      "the present possessor of this authority was more\n",
      "\n",
      "pleased in talking about prerogative than in exercising\n",
      "\n",
      "it; and excepting that he imprisoned two\n",
      "\n",
      "poachers in the dungeon of the old tower of Tully-Veolan,\n",
      "\n",
      "where they were sorely frightened by ghosts,\n",
      "\n",
      "and almost eaten by rats, and that he set an old woman\n",
      "\n",
      "in the jougs (or Scottish pillory) for saying\n",
      "\n",
      "“there were mair fules in the laird's ha' house than\n",
      "\n",
      "Davie Gellatley,” I do not learn that he was accused\n",
      "\n",
      "of abusing his high powers. Still, however, the\n",
      "\n",
      "conscious pride of possessing them gave additional\n",
      "\n",
      "importance to his language and deportment.\n",
      "At his first address to Waverley, it would seem\n",
      "\n",
      "that the hearty pleasure he felt to behold the nephew\n",
      "\n",
      "of his friend had somewhat discomposed the\n",
      "\n",
      "stiff and upright dignity of the Baron of Bradwardine's\n",
      "\n",
      "demeanour, for the tears stood in the old\n",
      "\n",
      "gentleman's eyes, when, having first shaken Edward\n",
      "\n",
      "heartily by the hand in the Engligh fashion,\n",
      "\n",
      "he embraced him à-la-mode Françoise, and kissed\n",
      "\n",
      "him on both sides of his face; while the hardness\n",
      "\n",
      "of his gripe, and the quantity of Scotch snuff which\n",
      "\n",
      "\n",
      "his accolade communicated, called corresponding\n",
      "\n",
      "drops of moisture to the eyes of his guest.\n",
      "“Upon the honour of a gentleman,” he said,\n",
      "\n",
      "“but it makes me young again to see you here,\n",
      "\n",
      "Mr Waverley-Honour—spes altera, as Maro hath\n",
      "\n",
      "it—and you have the look of the old line, Captain\n",
      "\n",
      "Waverley; not so portly yet as my old friend Sir\n",
      "\n",
      "Everard—mais cela viendra avec le tems, as my\n",
      "\n",
      "Dutch acquaintance, Baron Kikkitbroeck, said of\n",
      "\n",
      "the sagesse of Madame son epouse.—And so ye have\n",
      "\n",
      "mounted the cockade? Right, right; though I\n",
      "\n",
      "could have wished the colour different, and so I\n",
      "\n",
      "would ha' deemed might Sir Everard. But no\n",
      "\n",
      "more of that; I am old, and times are changed.— \n",
      "\n",
      "And how does the worthy knight baronet, and the\n",
      "\n",
      "fair Mrs Rachel?—Ah, ye laugh, young man! In\n",
      "\n",
      "troth she was the fair Mrs Rachel in the year of\n",
      "\n",
      "grace seventeen hundred and sixteen; but time\n",
      "\n",
      "passes—et singula prædantur anni—that is most\n",
      "\n",
      "certain. But once again ye are most heartily welcome\n",
      "\n",
      "to my poor house of Tully-Veolan!—Hie to\n",
      "\n",
      "the house, Rose, and see that Alexander Saunderson\n",
      "\n",
      "looks out the old Chateau Margoux, which I\n",
      "\n",
      "sent from Bourdeaux to Dundee in the year 1713.”\n",
      "Rose\n"
     ]
    },
    {
     "data": {
      "text/markdown": [
       "# 4"
      ],
      "text/plain": [
       "<IPython.core.display.Markdown object>"
      ]
     },
     "metadata": {},
     "output_type": "display_data"
    },
    {
     "name": "stdout",
     "output_type": "stream",
     "text": [
      "utmost\n",
      "\n",
      "courtesy and hospitality.\n",
      "While they were on this topic, the door suddenly\n",
      "\n",
      "opened, and, ushered by Saunders Saunderson, a\n",
      "\n",
      "Highlander, fully armed and equipped, entered the\n",
      "\n",
      "apartment. Had it not been that Saunders acted\n",
      "\n",
      "the part of master of the ceremonies to this martial\n",
      "\n",
      "apparition, without appearing to deviate from his\n",
      "\n",
      "usual composure, and that neither Mr Bradwardine\n",
      "\n",
      "nor Rose exhibited any emotion, Edward would\n",
      "\n",
      "certainly have thought the intrusion hostile. As it\n",
      "\n",
      "was, he started at the sight of what he had not yet\n",
      "\n",
      "happened to see, a mountaineer in his full national\n",
      "\n",
      "costume. The individual Gael was a stout, dark,\n",
      "\n",
      "young man, of low stature, the ample folds of whose\n",
      "\n",
      "plaid added to the appearance of strength which his\n",
      "\n",
      "person exhibited. The short kilt, or petticoat,\n",
      "\n",
      "showed his sinewy and clean-made limbs; the goat-skin\n",
      "\n",
      "purse, flanked by the usual defences, a dirk\n",
      "\n",
      "and steel-wrought pistol, hung before him; his bonnet\n",
      "\n",
      "had a short feather, which indicated his claim\n",
      "\n",
      "to be treated as a Duinhé-wassel, or sort of gentleman;\n",
      "\n",
      "\n",
      "a broadsword dangled by his side, a target\n",
      "\n",
      "hung upon his shoulder, and a long Spanish\n",
      "\n",
      "fowling-piece occupied one of his hands. With the\n",
      "\n",
      "other hand he pulled off his bonnet, and the Baron,\n",
      "\n",
      "who well knew their customs, and the proper mode\n",
      "\n",
      "of addressing them, immediately said, with an air\n",
      "\n",
      "of dignity, but without rising, and much, as Edward\n",
      "\n",
      "thought, in the manner of a prince receiving\n",
      "\n",
      "an embassy, “Welcome, Evan Dhu Maccombich; \n",
      "\n",
      "what news from Fergus Mac-Ivor Vich Ian Vohr?”\n",
      "“Fergus Mac-Ivor Vich Ian Vohr,” said the ambassador,\n",
      "\n",
      "in good English, “greets you well, Baron\n",
      "\n",
      "of Bradwardine and Tully-Veolan, and is sorry\n",
      "\n",
      "there has been a thick cloud interposed between you\n",
      "\n",
      "and him, which has kept you from seeing and considering\n",
      "\n",
      "the friendship and alliances that have been\n",
      "\n",
      "between your houses and forebears of old; and he\n",
      "\n",
      "prays you that the cloud may pass away, and that\n",
      "\n",
      "things may be as they have been heretofore between\n",
      "\n",
      "the clan Ivor and the house of Bradwardine, when\n",
      "\n",
      "there was an egg between them for a flint, and a\n",
      "\n",
      "knife for a sword. And he expects you will also\n",
      "\n",
      "say, you are sorry for the cloud, and no man shall\n",
      "\n",
      "hereafter ask whether it descended from the hill to\n",
      "\n",
      "the valley, or rose from the valley to the hill; for\n",
      "\n",
      "they never struck with the scabbard who did not\n",
      "\n",
      "receive with the sword, and woe to him who would\n",
      "\n",
      "lose his friend\n"
     ]
    },
    {
     "data": {
      "text/markdown": [
       "# 5"
      ],
      "text/plain": [
       "<IPython.core.display.Markdown object>"
      ]
     },
     "metadata": {},
     "output_type": "display_data"
    },
    {
     "name": "stdout",
     "output_type": "stream",
     "text": [
      "nursery\n",
      "\n",
      "fable. He was a tall, thin, athletic figure, old\n",
      "\n",
      "indeed and grey-haired, but with every muscle rendered\n",
      "\n",
      "\n",
      "as tough as whip-cord by constant exercise.\n",
      "\n",
      "He was dressed carelessly, and more like a Frenchman\n",
      "\n",
      "than an Englishman of the period, while, from\n",
      "\n",
      "his hard features and perpendicular rigidity of stature,\n",
      "\n",
      "he bore some resemblance to a Swiss officer\n",
      "\n",
      "of the guards, who had resided some time at Paris,\n",
      "\n",
      "and caught the costume, but not the ease or manner,\n",
      "\n",
      "of its inhabitants. The truth was, that his language\n",
      "\n",
      "and habits were as heterogeneous as his external\n",
      "\n",
      "appearance.\n",
      "'wing to his natural disposition to study, or perhaps\n",
      "\n",
      "to a very general Scottish fashion of giving\n",
      "\n",
      "young men of rank a legal education, he had been\n",
      "\n",
      "bred with a view to the bar. But the politics of\n",
      "\n",
      "his family precluding the hope of his rising in that\n",
      "\n",
      "profession, Mr Bradwardine travelled with high reputation\n",
      "\n",
      "for several years, and made some campaigns\n",
      "\n",
      "in foreign service. After his démêlée with the law\n",
      "\n",
      "of high treason in 1715, he had lived in retirement,\n",
      "\n",
      "conversing almost entirely with those of his own\n",
      "\n",
      "principles in the vicinage. The pedantry of the\n",
      "\n",
      "lawyer, superinduced upon the military pride of the\n",
      "\n",
      "soldier, might remind a modern of the days of the\n",
      "\n",
      "zealous volunteer service, when the bar-gown of our\n",
      "\n",
      "pleaders was often flung over a blazing uniform. To\n",
      "\n",
      "this must be added the prejudices of ancient birth\n",
      "\n",
      "and Jacobite politics, greatly strengthened by habits\n",
      "\n",
      "of solitary and secluded authority, which, though\n",
      "\n",
      "exercised only within the bounds of his half-cultivated\n",
      "\n",
      "estate, was there indisputable and undisputed\n",
      "\n",
      "For, as he used to observe, “the lands of Bradwardine,\n",
      "\n",
      "Tully-Veolan, and others, had been erected\n",
      "\n",
      "\n",
      "into a free barony by a charter from David the\n",
      "\n",
      "First, cum liberali potest. habendi curias et justicias,\n",
      "\n",
      "cum fossa et furca (LIE pit and gallows) et saka et\n",
      "\n",
      "soka, et thol et theam, et infang-thief et outfang-thief,\n",
      "\n",
      "sive hand-habend. sive bak-barand.“ The peculiar\n",
      "\n",
      "meaning of all these cabalistical words few or none\n",
      "\n",
      "could explain; but they implied, upon the whole,\n",
      "\n",
      "that the Baron of Bradwardine might, in case of\n",
      "\n",
      "delinquency, imprison, try, and execute\n"
     ]
    }
   ],
   "source": [
    "from IPython.display import Markdown, display\n",
    "\n",
    "for i, idx in enumerate(bin_idxs[:5]):\n",
    "    display(Markdown('# {}'.format(i+1)))\n",
    "    print_bin(idx)"
   ]
  },
  {
   "cell_type": "code",
   "execution_count": null,
   "metadata": {
    "collapsed": true
   },
   "outputs": [],
   "source": []
  }
 ],
 "metadata": {
  "kernelspec": {
   "display_name": "Python 3",
   "language": "python",
   "name": "python3"
  },
  "language_info": {
   "codemirror_mode": {
    "name": "ipython",
    "version": 3
   },
   "file_extension": ".py",
   "mimetype": "text/x-python",
   "name": "python",
   "nbconvert_exporter": "python",
   "pygments_lexer": "ipython3",
   "version": "3.5.2"
  }
 },
 "nbformat": 4,
 "nbformat_minor": 1
}
