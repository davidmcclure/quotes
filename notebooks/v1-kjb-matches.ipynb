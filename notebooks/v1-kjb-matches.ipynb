{
 "cells": [
  {
   "cell_type": "markdown",
   "metadata": {},
   "source": [
    "# Gail + Chicago -> King James Bible"
   ]
  },
  {
   "cell_type": "code",
   "execution_count": 67,
   "metadata": {
    "collapsed": true
   },
   "outputs": [],
   "source": [
    "from quotes.models import Match"
   ]
  },
  {
   "cell_type": "code",
   "execution_count": 56,
   "metadata": {
    "collapsed": false
   },
   "outputs": [],
   "source": [
    "import re\n",
    "\n",
    "from IPython.display import Markdown, display\n",
    "\n",
    "def print_snippet(prefix, match, suffix):\n",
    "    \n",
    "    snippet = '{0} <span style=\"color: blue\">{1}</span>'.format(prefix, match)\n",
    "    \n",
    "    if re.match('^[a-z]', suffix, re.I):\n",
    "        snippet += ' '\n",
    "        \n",
    "    display(Markdown(snippet + suffix))"
   ]
  },
  {
   "cell_type": "code",
   "execution_count": 57,
   "metadata": {
    "collapsed": true
   },
   "outputs": [],
   "source": [
    "def print_match(m):\n",
    "    \n",
    "    display(Markdown('### King James Bible'))\n",
    "    print_snippet(m.a_prefix, m.a_snippet, m.a_suffix)\n",
    "\n",
    "    display(Markdown('### {0}'.format(m.b_title)))\n",
    "    display(Markdown('<small>{0}</small>'.format(m.b_author)))\n",
    "    print_snippet(m.b_prefix, m.b_snippet, m.b_suffix)\n",
    "    print('-'*50)"
   ]
  },
  {
   "cell_type": "markdown",
   "metadata": {},
   "source": [
    "When run the ~27k novels in the Chicago and Gail corpora against the King James Bible, we get 25.5k matches longer than 5 non-stopword tokens - roughly one per novel. (Stopwords are removed before the alignments are calculated to speed things up - so, when the actual passages are pulled out of the raw text, the matches are usually a bit longer longer, once stopwords are added back in.)"
   ]
  },
  {
   "cell_type": "code",
   "execution_count": 66,
   "metadata": {
    "collapsed": false
   },
   "outputs": [
    {
     "name": "stdout",
     "output_type": "stream",
     "text": [
      "25524\n"
     ]
    }
   ],
   "source": [
    "matches = Match.query.filter(Match.size >= 5)\n",
    "\n",
    "print(matches.count())"
   ]
  },
  {
   "cell_type": "markdown",
   "metadata": {},
   "source": [
    "4-5 \"significant\" tokens seems to be a sweet spot - 3-word matches are often false-positives (eg, lots of numbers, like \"five hundred thousand\"). By 5 tokens, though, almost everything looks valid. Here are the first 500 matches with 5 words or more:"
   ]
  },
  {
   "cell_type": "code",
   "execution_count": 68,
   "metadata": {
    "collapsed": false,
    "scrolled": false
   },
   "outputs": [
    {
     "data": {
      "text/markdown": [
       "### King James Bible"
      ],
      "text/plain": [
       "<IPython.core.display.Markdown object>"
      ]
     },
     "metadata": {},
     "output_type": "display_data"
    },
    {
     "data": {
      "text/markdown": [
       "against the LORD, and against thee; pray unto the LORD, that he take away the serpents from us. And Moses prayed for the people. 21:8 And the <span style=\"color: blue\">LORD said unto Moses, Make thee a fiery</span> serpent, and set it upon a pole: and it shall come to pass, that every one that is bitten, when he looketh upon it, shall"
      ],
      "text/plain": [
       "<IPython.core.display.Markdown object>"
      ]
     },
     "metadata": {},
     "output_type": "display_data"
    },
    {
     "data": {
      "text/markdown": [
       "### The Ellwoods: By Charles Stuart Welles"
      ],
      "text/plain": [
       "<IPython.core.display.Markdown object>"
      ]
     },
     "metadata": {},
     "output_type": "display_data"
    },
    {
     "data": {
      "text/markdown": [
       "<small>Welles, Charles Stuart</small>"
      ],
      "text/plain": [
       "<IPython.core.display.Markdown object>"
      ]
     },
     "metadata": {},
     "output_type": "display_data"
    },
    {
     "data": {
      "text/markdown": [
       "everlasting life. St. John, ili. 14, 15. 42 \"This reference to Moses may be found in Numbers, xxi. 8, 9 as follows: And the <span style=\"color: blue\">Lord said unto Moses, make thee a fiery</span> ser¬ pent and set it upon a pole; and it shall come to pass, that every one that is bitten, when he looketh upon"
      ],
      "text/plain": [
       "<IPython.core.display.Markdown object>"
      ]
     },
     "metadata": {},
     "output_type": "display_data"
    },
    {
     "name": "stdout",
     "output_type": "stream",
     "text": [
      "--------------------------------------------------\n"
     ]
    },
    {
     "data": {
      "text/markdown": [
       "### King James Bible"
      ],
      "text/plain": [
       "<IPython.core.display.Markdown object>"
      ]
     },
     "metadata": {},
     "output_type": "display_data"
    },
    {
     "data": {
      "text/markdown": [
       "LORD, that he take away the serpents from us. And Moses prayed for the people. 21:8 And the LORD said unto Moses, Make thee a fiery serpent, and <span style=\"color: blue\">set it upon a pole: and it shall come to pass, that every one that is bitten, when he looketh upon</span> it, shall live. 21:9 And Moses made a serpent of brass, and put it upon a pole, and it came to pass"
      ],
      "text/plain": [
       "<IPython.core.display.Markdown object>"
      ]
     },
     "metadata": {},
     "output_type": "display_data"
    },
    {
     "data": {
      "text/markdown": [
       "### The Ellwoods: By Charles Stuart Welles"
      ],
      "text/plain": [
       "<IPython.core.display.Markdown object>"
      ]
     },
     "metadata": {},
     "output_type": "display_data"
    },
    {
     "data": {
      "text/markdown": [
       "<small>Welles, Charles Stuart</small>"
      ],
      "text/plain": [
       "<IPython.core.display.Markdown object>"
      ]
     },
     "metadata": {},
     "output_type": "display_data"
    },
    {
     "data": {
      "text/markdown": [
       "Numbers, xxi. 8, 9 as follows: And the Lord said unto Moses, make thee a fiery ser¬ pent and <span style=\"color: blue\">set it upon a pole; and it shall come to pass, that every one that is bitten, when he looketh upon</span> it, 6hall live. And Moses made a serpent of brass, and put it upon a pole, and it came to pass"
      ],
      "text/plain": [
       "<IPython.core.display.Markdown object>"
      ]
     },
     "metadata": {},
     "output_type": "display_data"
    },
    {
     "name": "stdout",
     "output_type": "stream",
     "text": [
      "--------------------------------------------------\n"
     ]
    },
    {
     "data": {
      "text/markdown": [
       "### King James Bible"
      ],
      "text/plain": [
       "<IPython.core.display.Markdown object>"
      ]
     },
     "metadata": {},
     "output_type": "display_data"
    },
    {
     "data": {
      "text/markdown": [
       "serpent, and set it upon a pole: and it shall come to pass, that every one that is bitten, when he looketh upon it, shall <span style=\"color: blue\">live. 21:9 And Moses made a serpent of brass, and put it upon a pole, and it came to pass, that if a serpent had bitten any man, when he beheld the serpent of brass, he lived</span>. 21:10 And the children of Israel set forward, and pitched in Oboth. 21:11 And they journeyed from Oboth, and pitched at Ijeabarim"
      ],
      "text/plain": [
       "<IPython.core.display.Markdown object>"
      ]
     },
     "metadata": {},
     "output_type": "display_data"
    },
    {
     "data": {
      "text/markdown": [
       "### The Ellwoods: By Charles Stuart Welles"
      ],
      "text/plain": [
       "<IPython.core.display.Markdown object>"
      ]
     },
     "metadata": {},
     "output_type": "display_data"
    },
    {
     "data": {
      "text/markdown": [
       "<small>Welles, Charles Stuart</small>"
      ],
      "text/plain": [
       "<IPython.core.display.Markdown object>"
      ]
     },
     "metadata": {},
     "output_type": "display_data"
    },
    {
     "data": {
      "text/markdown": [
       "pent and set it upon a pole; and it shall come to pass, that every one that is bitten, when he looketh upon it, 6hall <span style=\"color: blue\">live. And Moses made a serpent of brass, and put it upon a pole, and it came to pass, that if a serpent had bitten any man, when he beheld the serpent of brass, he lived</span>. \"Certainly this does not signify the deification of Jesus,—being lifted up as a serpent; but how does it typify the attitude of Jesus before the world? Not in honour"
      ],
      "text/plain": [
       "<IPython.core.display.Markdown object>"
      ]
     },
     "metadata": {},
     "output_type": "display_data"
    },
    {
     "name": "stdout",
     "output_type": "stream",
     "text": [
      "--------------------------------------------------\n"
     ]
    },
    {
     "data": {
      "text/markdown": [
       "### King James Bible"
      ],
      "text/plain": [
       "<IPython.core.display.Markdown object>"
      ]
     },
     "metadata": {},
     "output_type": "display_data"
    },
    {
     "data": {
      "text/markdown": [
       "shalt find a piece of money: that take, and give unto them for me and thee. 18:1 At the same time came the disciples unto Jesus, saying, Who is the <span style=\"color: blue\">greatest in the kingdom of heaven? 18:2 And Jesus called a little child unto him, and set him in the midst of them, 18:3 And said, Verily I say unto you, Except ye</span> be converted, and become as little children, ye shall not enter into the kingdom of heaven. 18:4 Whosoever therefore"
      ],
      "text/plain": [
       "<IPython.core.display.Markdown object>"
      ]
     },
     "metadata": {},
     "output_type": "display_data"
    },
    {
     "data": {
      "text/markdown": [
       "### The Ellwoods: By Charles Stuart Welles"
      ],
      "text/plain": [
       "<IPython.core.display.Markdown object>"
      ]
     },
     "metadata": {},
     "output_type": "display_data"
    },
    {
     "data": {
      "text/markdown": [
       "<small>Welles, Charles Stuart</small>"
      ],
      "text/plain": [
       "<IPython.core.display.Markdown object>"
      ]
     },
     "metadata": {},
     "output_type": "display_data"
    },
    {
     "data": {
      "text/markdown": [
       "divine Jesus to his disciples, in Matthew, xviii. 1-7 : At the same time came the disciples unto Jesus, say¬ ing, Who is the <span style=\"color: blue\">greatest in the kingdom of heaven ? And Jesus called a little child unto him, and set him in the midst of them. And said, Verily I say unto you, Except ye</span> be con¬ verted, and become as little children, ye shall not enter into the kingdom of heaven. Whosoever"
      ],
      "text/plain": [
       "<IPython.core.display.Markdown object>"
      ]
     },
     "metadata": {},
     "output_type": "display_data"
    },
    {
     "name": "stdout",
     "output_type": "stream",
     "text": [
      "--------------------------------------------------\n"
     ]
    },
    {
     "data": {
      "text/markdown": [
       "### King James Bible"
      ],
      "text/plain": [
       "<IPython.core.display.Markdown object>"
      ]
     },
     "metadata": {},
     "output_type": "display_data"
    },
    {
     "data": {
      "text/markdown": [
       "called a little child unto him, and set him in the midst of them, 18:3 And said, Verily I say unto you, Except ye be converted, and <span style=\"color: blue\">become as little children, ye shall not enter into the kingdom of heaven. 18:4 Whosoever therefore shall humble himself</span> as this little child, the same is greatest in the kingdom of heaven. 18:5 And whoso shall receive one such little child in my name receiveth"
      ],
      "text/plain": [
       "<IPython.core.display.Markdown object>"
      ]
     },
     "metadata": {},
     "output_type": "display_data"
    },
    {
     "data": {
      "text/markdown": [
       "### The Ellwoods: By Charles Stuart Welles"
      ],
      "text/plain": [
       "<IPython.core.display.Markdown object>"
      ]
     },
     "metadata": {},
     "output_type": "display_data"
    },
    {
     "data": {
      "text/markdown": [
       "<small>Welles, Charles Stuart</small>"
      ],
      "text/plain": [
       "<IPython.core.display.Markdown object>"
      ]
     },
     "metadata": {},
     "output_type": "display_data"
    },
    {
     "data": {
      "text/markdown": [
       "child unto him, and set him in the midst of them. And said, Verily I say unto you, Except ye be con¬ verted, and <span style=\"color: blue\">become as little children, ye shall not enter into the kingdom of heaven. Whosoever therefore shall humble himself</span> as this lit¬ tle child, the same is greatest in the kingdom of heaven. And whoso shall receive one such little child"
      ],
      "text/plain": [
       "<IPython.core.display.Markdown object>"
      ]
     },
     "metadata": {},
     "output_type": "display_data"
    },
    {
     "name": "stdout",
     "output_type": "stream",
     "text": [
      "--------------------------------------------------\n"
     ]
    },
    {
     "data": {
      "text/markdown": [
       "### King James Bible"
      ],
      "text/plain": [
       "<IPython.core.display.Markdown object>"
      ]
     },
     "metadata": {},
     "output_type": "display_data"
    },
    {
     "data": {
      "text/markdown": [
       "ye shall not enter into the kingdom of heaven. 18:4 Whosoever therefore shall humble himself as this little <span style=\"color: blue\">child, the same is greatest in the kingdom of heaven. 18:5 And whoso shall receive one such little child in my name receiveth me. 18:6 But whoso shall offend one of these little ones which believe in me, it were better for him that a millstone were hanged about his neck, and that he were drowned in the depth of the sea. 18:7 Woe unto the world because of offences! for it must needs be that offences come; but woe to that man by whom the offence cometh</span>! 18:8 Wherefore if thy hand or thy foot offend thee, cut them off, and cast them from thee"
      ],
      "text/plain": [
       "<IPython.core.display.Markdown object>"
      ]
     },
     "metadata": {},
     "output_type": "display_data"
    },
    {
     "data": {
      "text/markdown": [
       "### The Ellwoods: By Charles Stuart Welles"
      ],
      "text/plain": [
       "<IPython.core.display.Markdown object>"
      ]
     },
     "metadata": {},
     "output_type": "display_data"
    },
    {
     "data": {
      "text/markdown": [
       "<small>Welles, Charles Stuart</small>"
      ],
      "text/plain": [
       "<IPython.core.display.Markdown object>"
      ]
     },
     "metadata": {},
     "output_type": "display_data"
    },
    {
     "data": {
      "text/markdown": [
       "enter into the kingdom of heaven. Whosoever therefore shall humble himself as this lit¬ tle <span style=\"color: blue\">child, the same is greatest in the kingdom of heaven. And whoso shall receive one such little child in my name receiveth me. But whoso shall offend one of these little ones which believe in me, it were better for him that a millstone 64 were hanged about his neck, and that he were drowned in the depth of the sea. Woe unto the world because of offences! for it must needs be that offences come; but woe to that man by whom the offence cometh</span>!” 55 TWO TYPES, Yin. TIHANY new conditions now presented themselves, ^ changing the literary life and the philanthropic aspirations"
      ],
      "text/plain": [
       "<IPython.core.display.Markdown object>"
      ]
     },
     "metadata": {},
     "output_type": "display_data"
    },
    {
     "name": "stdout",
     "output_type": "stream",
     "text": [
      "--------------------------------------------------\n"
     ]
    },
    {
     "data": {
      "text/markdown": [
       "### King James Bible"
      ],
      "text/plain": [
       "<IPython.core.display.Markdown object>"
      ]
     },
     "metadata": {},
     "output_type": "display_data"
    },
    {
     "data": {
      "text/markdown": [
       "shall render him the fruits in their seasons. 21:42 Jesus saith unto them, Did ye never read in the scriptures, The <span style=\"color: blue\">stone which the builders rejected, the same is become the head of the corner</span>: this is the Lord's doing, and it is marvellous in our eyes? 21:43 Therefore say I unto you, The kingdom of God shall be taken"
      ],
      "text/plain": [
       "<IPython.core.display.Markdown object>"
      ]
     },
     "metadata": {},
     "output_type": "display_data"
    },
    {
     "data": {
      "text/markdown": [
       "### The Ellwoods: By Charles Stuart Welles"
      ],
      "text/plain": [
       "<IPython.core.display.Markdown object>"
      ]
     },
     "metadata": {},
     "output_type": "display_data"
    },
    {
     "data": {
      "text/markdown": [
       "<small>Welles, Charles Stuart</small>"
      ],
      "text/plain": [
       "<IPython.core.display.Markdown object>"
      ]
     },
     "metadata": {},
     "output_type": "display_data"
    },
    {
     "data": {
      "text/markdown": [
       "children ľ Thus we have a corner-stone in the com¬ mon law to build upon. The only question is if the ‘time’ is now come when the <span style=\"color: blue\">stone which the builders rejected has become the head of the corner</span>.” 62 REPUBLICAN IDEALS, ix. T HE last meeting of Dr. Ellwood with his circle of friends was somewhat"
      ],
      "text/plain": [
       "<IPython.core.display.Markdown object>"
      ]
     },
     "metadata": {},
     "output_type": "display_data"
    },
    {
     "name": "stdout",
     "output_type": "stream",
     "text": [
      "--------------------------------------------------\n"
     ]
    },
    {
     "data": {
      "text/markdown": [
       "### King James Bible"
      ],
      "text/plain": [
       "<IPython.core.display.Markdown object>"
      ]
     },
     "metadata": {},
     "output_type": "display_data"
    },
    {
     "data": {
      "text/markdown": [
       "angels with a great sound of a trumpet, and they shall gather together his elect from the four winds, from one end of heaven to the other. 24:32 Now <span style=\"color: blue\">learn a parable of the fig tree; When his branch is yet tender, and putteth forth leaves, ye know that summer is nigh: 24:33 So likewise ye, when ye shall see all these things, know that it is near, even at the doors</span>. 24:34 Verily I say unto you, This generation shall not pass, till all these things be fulfilled. 24:35 Heaven and earth shall"
      ],
      "text/plain": [
       "<IPython.core.display.Markdown object>"
      ]
     },
     "metadata": {},
     "output_type": "display_data"
    },
    {
     "data": {
      "text/markdown": [
       "### The Ellwoods: By Charles Stuart Welles"
      ],
      "text/plain": [
       "<IPython.core.display.Markdown object>"
      ]
     },
     "metadata": {},
     "output_type": "display_data"
    },
    {
     "data": {
      "text/markdown": [
       "<small>Welles, Charles Stuart</small>"
      ],
      "text/plain": [
       "<IPython.core.display.Markdown object>"
      ]
     },
     "metadata": {},
     "output_type": "display_data"
    },
    {
     "data": {
      "text/markdown": [
       "imag¬ ine; for has not nation risen against nation? and has not the Jew been afflicted and hated of all nations?” Now <span style=\"color: blue\">learn a parable of the fig tree ; when his branch is yet tender, and putteth forth leaves, ye know that summer is nigh. So likewise ye, when ye shall see all these things, know that it is near, even at the doors</span>. Watch therefore, for ye know not what hour your Lord doth come. Matt. xxiv. 32, 33. “The adoption of a universal"
      ],
      "text/plain": [
       "<IPython.core.display.Markdown object>"
      ]
     },
     "metadata": {},
     "output_type": "display_data"
    },
    {
     "name": "stdout",
     "output_type": "stream",
     "text": [
      "--------------------------------------------------\n"
     ]
    },
    {
     "data": {
      "text/markdown": [
       "### King James Bible"
      ],
      "text/plain": [
       "<IPython.core.display.Markdown object>"
      ]
     },
     "metadata": {},
     "output_type": "display_data"
    },
    {
     "data": {
      "text/markdown": [
       "shall be taken, and the other left. 24:41 Two women shall be grinding at the mill; the one shall be taken, and the other left. 24:42 <span style=\"color: blue\">Watch therefore: for ye know not what hour your Lord doth</span> come. 24:43 But know this, that if the goodman of the house had known in what watch the thief would come, he would have watched, and would not have suffered his house to be broken up. 24:44 Therefore be ye also ready"
      ],
      "text/plain": [
       "<IPython.core.display.Markdown object>"
      ]
     },
     "metadata": {},
     "output_type": "display_data"
    },
    {
     "data": {
      "text/markdown": [
       "### The Ellwoods: By Charles Stuart Welles"
      ],
      "text/plain": [
       "<IPython.core.display.Markdown object>"
      ]
     },
     "metadata": {},
     "output_type": "display_data"
    },
    {
     "data": {
      "text/markdown": [
       "<small>Welles, Charles Stuart</small>"
      ],
      "text/plain": [
       "<IPython.core.display.Markdown object>"
      ]
     },
     "metadata": {},
     "output_type": "display_data"
    },
    {
     "data": {
      "text/markdown": [
       "leaves, ye know that summer is nigh. So likewise ye, when ye shall see all these things, know that it is near, even at the doors. <span style=\"color: blue\">Watch therefore, for ye know not what hour your Lord doth</span> come. Matt. xxiv. 32, 33. “The adoption of a universal code of laws would be the climax of spiritual history and a material"
      ],
      "text/plain": [
       "<IPython.core.display.Markdown object>"
      ]
     },
     "metadata": {},
     "output_type": "display_data"
    },
    {
     "name": "stdout",
     "output_type": "stream",
     "text": [
      "--------------------------------------------------\n"
     ]
    },
    {
     "data": {
      "text/markdown": [
       "### King James Bible"
      ],
      "text/plain": [
       "<IPython.core.display.Markdown object>"
      ]
     },
     "metadata": {},
     "output_type": "display_data"
    },
    {
     "data": {
      "text/markdown": [
       "prophet? And he answered, No. 1:22 Then said they unto him, Who art thou? that we may give an answer to them that sent us. What sayest thou of thyself? 1:23 He said, I am the <span style=\"color: blue\">voice of one crying in the wilderness, Make straight the way of the Lord</span>, as said the prophet Esaias. 1:24 And they which were sent were of the Pharisees. 1:25 And they asked him, and said unto him, Why baptizest thou then, if thou be not that Christ"
      ],
      "text/plain": [
       "<IPython.core.display.Markdown object>"
      ]
     },
     "metadata": {},
     "output_type": "display_data"
    },
    {
     "data": {
      "text/markdown": [
       "### The Ellwoods: By Charles Stuart Welles"
      ],
      "text/plain": [
       "<IPython.core.display.Markdown object>"
      ]
     },
     "metadata": {},
     "output_type": "display_data"
    },
    {
     "data": {
      "text/markdown": [
       "<small>Welles, Charles Stuart</small>"
      ],
      "text/plain": [
       "<IPython.core.display.Markdown object>"
      ]
     },
     "metadata": {},
     "output_type": "display_data"
    },
    {
     "data": {
      "text/markdown": [
       "truth that urges us to action. This is why I must speak plainly. America has been the John the Baptist of nations. It was as ‘the <span style=\"color: blue\">voice of one crying in the wilderness, make straight the way of the Lord</span>.’ But the fair land is a babel of tongues, a motley of laws, and a jester in the court of nations. The cities"
      ],
      "text/plain": [
       "<IPython.core.display.Markdown object>"
      ]
     },
     "metadata": {},
     "output_type": "display_data"
    },
    {
     "name": "stdout",
     "output_type": "stream",
     "text": [
      "--------------------------------------------------\n"
     ]
    },
    {
     "data": {
      "text/markdown": [
       "### King James Bible"
      ],
      "text/plain": [
       "<IPython.core.display.Markdown object>"
      ]
     },
     "metadata": {},
     "output_type": "display_data"
    },
    {
     "data": {
      "text/markdown": [
       "earth were passed away; and there was no more sea. 21:2 And I John saw the holy city, new Jerusalem, coming down from God out of <span style=\"color: blue\">heaven, prepared as a bride adorned for her husband</span>. 21:3 And I heard a great voice out of heaven saying, Behold, the tabernacle of God is with men, and he will dwell with them, and they shall"
      ],
      "text/plain": [
       "<IPython.core.display.Markdown object>"
      ]
     },
     "metadata": {},
     "output_type": "display_data"
    },
    {
     "data": {
      "text/markdown": [
       "### The Ellwoods: By Charles Stuart Welles"
      ],
      "text/plain": [
       "<IPython.core.display.Markdown object>"
      ]
     },
     "metadata": {},
     "output_type": "display_data"
    },
    {
     "data": {
      "text/markdown": [
       "<small>Welles, Charles Stuart</small>"
      ],
      "text/plain": [
       "<IPython.core.display.Markdown object>"
      ]
     },
     "metadata": {},
     "output_type": "display_data"
    },
    {
     "data": {
      "text/markdown": [
       "slavery. The beautiful spirit which animates the modem mother is the hope of the 200 world—the bride which shall come down ont of <span style=\"color: blue\">heaven, prepared as a bride adorned for her husband</span>ľ 7 “But you say that, notwithstanding all these things, you see no hope for America ?” “The result of,the feeble scope, dear Esther, of our limited vision"
      ],
      "text/plain": [
       "<IPython.core.display.Markdown object>"
      ]
     },
     "metadata": {},
     "output_type": "display_data"
    },
    {
     "name": "stdout",
     "output_type": "stream",
     "text": [
      "--------------------------------------------------\n"
     ]
    },
    {
     "data": {
      "text/markdown": [
       "### King James Bible"
      ],
      "text/plain": [
       "<IPython.core.display.Markdown object>"
      ]
     },
     "metadata": {},
     "output_type": "display_data"
    },
    {
     "data": {
      "text/markdown": [
       "therefore I said it, He destroyeth the perfect and the wicked. 9:23 If the scourge slay suddenly, he will laugh at the trial of the innocent. 9:24 The <span style=\"color: blue\">earth is given into the hand of the wicked: he covereth the faces of the judges thereof</span>; if not, where, and who is he? 9:25 Now my days are swifter than a post: they flee away, they see no good. 9:26 They are passed away as the swift ships: as the eagle that hasteth to the prey"
      ],
      "text/plain": [
       "<IPython.core.display.Markdown object>"
      ]
     },
     "metadata": {},
     "output_type": "display_data"
    },
    {
     "data": {
      "text/markdown": [
       "### In Sunflower Land: Stories of God's Own Country: By Roswell Martin"
      ],
      "text/plain": [
       "<IPython.core.display.Markdown object>"
      ]
     },
     "metadata": {},
     "output_type": "display_data"
    },
    {
     "data": {
      "text/markdown": [
       "<small>Field, Roswell Martin</small>"
      ],
      "text/plain": [
       "<IPython.core.display.Markdown object>"
      ]
     },
     "metadata": {},
     "output_type": "display_data"
    },
    {
     "data": {
      "text/markdown": [
       "felt hard times press on us, an’ I've never com¬ pia' ied. But now I cry out with Job: ‘ The <span style=\"color: blue\">earth is given into the hand of the wicked: he covereth the faces of the judges thereof</span>. Oh, that I had given up the ghost and no eye had seen me.’” And on the day of Cleveland’s inauguration the old crank dressed up in his blue"
      ],
      "text/plain": [
       "<IPython.core.display.Markdown object>"
      ]
     },
     "metadata": {},
     "output_type": "display_data"
    },
    {
     "name": "stdout",
     "output_type": "stream",
     "text": [
      "--------------------------------------------------\n"
     ]
    },
    {
     "data": {
      "text/markdown": [
       "### King James Bible"
      ],
      "text/plain": [
       "<IPython.core.display.Markdown object>"
      ]
     },
     "metadata": {},
     "output_type": "display_data"
    },
    {
     "data": {
      "text/markdown": [
       "prayers of David the son of Jesse are ended. 73:1 Truly God is good to Israel, even to such as are of a clean heart. 73:2 But as for me, my <span style=\"color: blue\">feet were almost gone; my steps had well nigh slipped</span>. 73:3 For I was envious at the foolish, when I saw the prosperity of the wicked. 73:4 For there are no bands in their death: but their strength is firm. 73:5 They are not in trouble"
      ],
      "text/plain": [
       "<IPython.core.display.Markdown object>"
      ]
     },
     "metadata": {},
     "output_type": "display_data"
    },
    {
     "data": {
      "text/markdown": [
       "### In Sunflower Land: Stories of God's Own Country: By Roswell Martin"
      ],
      "text/plain": [
       "<IPython.core.display.Markdown object>"
      ]
     },
     "metadata": {},
     "output_type": "display_data"
    },
    {
     "data": {
      "text/markdown": [
       "<small>Field, Roswell Martin</small>"
      ],
      "text/plain": [
       "<IPython.core.display.Markdown object>"
      ]
     },
     "metadata": {},
     "output_type": "display_data"
    },
    {
     "data": {
      "text/markdown": [
       "t quite make it out. If Plumb was here he could straighten me in ten minutes, and Barney Kelly could put me back in the fold, but ‘my <span style=\"color: blue\">feet were almost gone and my steps had well nigh slipped</span>.’ ” Time passed. Tubbs kept his own counsel and prayed, with all the fervor of his strong nature, to be delivered from the snares"
      ],
      "text/plain": [
       "<IPython.core.display.Markdown object>"
      ]
     },
     "metadata": {},
     "output_type": "display_data"
    },
    {
     "name": "stdout",
     "output_type": "stream",
     "text": [
      "--------------------------------------------------\n"
     ]
    },
    {
     "data": {
      "text/markdown": [
       "### King James Bible"
      ],
      "text/plain": [
       "<IPython.core.display.Markdown object>"
      ]
     },
     "metadata": {},
     "output_type": "display_data"
    },
    {
     "data": {
      "text/markdown": [
       "thy vanity: for that is thy portion in this life, and in thy labour which thou takest under the sun. 9:10 <span style=\"color: blue\">Whatsoever thy hand findeth to do, do it with thy</span> might; for there is no work, nor device, nor knowledge, nor wisdom, in the grave, whither thou goest"
      ],
      "text/plain": [
       "<IPython.core.display.Markdown object>"
      ]
     },
     "metadata": {},
     "output_type": "display_data"
    },
    {
     "data": {
      "text/markdown": [
       "### In Sunflower Land: Stories of God's Own Country: By Roswell Martin"
      ],
      "text/plain": [
       "<IPython.core.display.Markdown object>"
      ]
     },
     "metadata": {},
     "output_type": "display_data"
    },
    {
     "data": {
      "text/markdown": [
       "<small>Field, Roswell Martin</small>"
      ],
      "text/plain": [
       "<IPython.core.display.Markdown object>"
      ]
     },
     "metadata": {},
     "output_type": "display_data"
    },
    {
     "data": {
      "text/markdown": [
       "Parson Duncan went on the theory that he must do his Master’s bidding at any time or place, according as it is written : “ <span style=\"color: blue\">Whatsoever thy hand findeth to do, do it with thy</span> might.” In this cheerful and godly resolution he was favored by circumstances. Eastmann stood in the corner of the room with a dozen"
      ],
      "text/plain": [
       "<IPython.core.display.Markdown object>"
      ]
     },
     "metadata": {},
     "output_type": "display_data"
    },
    {
     "name": "stdout",
     "output_type": "stream",
     "text": [
      "--------------------------------------------------\n"
     ]
    },
    {
     "data": {
      "text/markdown": [
       "### King James Bible"
      ],
      "text/plain": [
       "<IPython.core.display.Markdown object>"
      ]
     },
     "metadata": {},
     "output_type": "display_data"
    },
    {
     "data": {
      "text/markdown": [
       "gold, who filled their houses with silver: 3:16 Or as an hidden untimely birth I had not been; as infants which never saw light. 3:17 There the <span style=\"color: blue\">wicked cease from troubling; and there the weary be at rest</span>. 3:18 There the prisoners rest together; they hear not the voice of the oppressor. 3:19 The small and great are there; and the servant is free from his master"
      ],
      "text/plain": [
       "<IPython.core.display.Markdown object>"
      ]
     },
     "metadata": {},
     "output_type": "display_data"
    },
    {
     "data": {
      "text/markdown": [
       "### Juliette Irving and the Jesuit: A Novel: By T. Robinson Warren"
      ],
      "text/plain": [
       "<IPython.core.display.Markdown object>"
      ]
     },
     "metadata": {},
     "output_type": "display_data"
    },
    {
     "data": {
      "text/markdown": [
       "<small>Warren, T. Robinson (Thomas Robinson)</small>"
      ],
      "text/plain": [
       "<IPython.core.display.Markdown object>"
      ]
     },
     "metadata": {},
     "output_type": "display_data"
    },
    {
     "data": {
      "text/markdown": [
       "Holy Faith, and I now pray that God may sustain you and shower his choicest blessings upon you, and that we may meet again “where the <span style=\"color: blue\">wicked cease from troubling and the weary are at rest</span>.” I am yours very truly, Reginald Harwarden. Father Harwarden’s remains were buried in the cemetery"
      ],
      "text/plain": [
       "<IPython.core.display.Markdown object>"
      ]
     },
     "metadata": {},
     "output_type": "display_data"
    },
    {
     "name": "stdout",
     "output_type": "stream",
     "text": [
      "--------------------------------------------------\n"
     ]
    },
    {
     "data": {
      "text/markdown": [
       "### King James Bible"
      ],
      "text/plain": [
       "<IPython.core.display.Markdown object>"
      ]
     },
     "metadata": {},
     "output_type": "display_data"
    },
    {
     "data": {
      "text/markdown": [
       "sight of my lord. 33:9 And Esau said, I have enough, my brother; keep that thou hast unto thyself. 33:10 And Jacob said, <span style=\"color: blue\">Nay, I pray thee, if now I have found grace in thy sight, then receive my present at my hand: for therefore I have seen thy face, as though I had seen the face of God, and thou wast pleased with me. 33:11 Take, I pray thee, my blessing that is brought to thee; because God hath dealt graciously</span> with me, and because I have enough. And he urged him, and he took it. 33:12 And he said, Let us take our journey, and let us go, and I will go before thee. 33:13 And he said unto him, My lord knoweth that the children are tender"
      ],
      "text/plain": [
       "<IPython.core.display.Markdown object>"
      ]
     },
     "metadata": {},
     "output_type": "display_data"
    },
    {
     "data": {
      "text/markdown": [
       "### The Church Republic: A Romance of Methodism: By Brother Jonathan, D. D."
      ],
      "text/plain": [
       "<IPython.core.display.Markdown object>"
      ]
     },
     "metadata": {},
     "output_type": "display_data"
    },
    {
     "data": {
      "text/markdown": [
       "<small>Pierce, Zerelda F.</small>"
      ],
      "text/plain": [
       "<IPython.core.display.Markdown object>"
      ]
     },
     "metadata": {},
     "output_type": "display_data"
    },
    {
     "data": {
      "text/markdown": [
       "marked the bishop, aptly quoting Esau’s very words. “And I will answer as Jacob answered: ‘Na <span style=\"color: blue\">y, I pray thee, if now I have found grace in thy sight, then receive my present at my hand: for therefore, I have seen thy face, as though I had seen the face of God, and thou wast pleased with me. Take, I pray, thee, my blessing that is brought to thee ; because God hath dealt graciously w</span> ith me, and because I have all things.’ That is North-like: we have all things.” “ But your brother’s independent spirit and pride of character may prompt the courteous refusal o"
      ],
      "text/plain": [
       "<IPython.core.display.Markdown object>"
      ]
     },
     "metadata": {},
     "output_type": "display_data"
    },
    {
     "name": "stdout",
     "output_type": "stream",
     "text": [
      "--------------------------------------------------\n"
     ]
    },
    {
     "data": {
      "text/markdown": [
       "### King James Bible"
      ],
      "text/plain": [
       "<IPython.core.display.Markdown object>"
      ]
     },
     "metadata": {},
     "output_type": "display_data"
    },
    {
     "data": {
      "text/markdown": [
       "unto them beauty for ashes, the oil of joy for mourning, the garment of praise for the spirit of heaviness; that they might be <span style=\"color: blue\">called trees of righteousness, the planting of the LORD, that he might be glorified</span>. 61:4 And they shall build the old wastes, they shall raise up the former desolations, and they shall repair the waste"
      ],
      "text/plain": [
       "<IPython.core.display.Markdown object>"
      ]
     },
     "metadata": {},
     "output_type": "display_data"
    },
    {
     "data": {
      "text/markdown": [
       "### The Church Republic: A Romance of Methodism: By Brother Jonathan, D. D."
      ],
      "text/plain": [
       "<IPython.core.display.Markdown object>"
      ]
     },
     "metadata": {},
     "output_type": "display_data"
    },
    {
     "data": {
      "text/markdown": [
       "<small>Pierce, Zerelda F.</small>"
      ],
      "text/plain": [
       "<IPython.core.display.Markdown object>"
      ]
     },
     "metadata": {},
     "output_type": "display_data"
    },
    {
     "data": {
      "text/markdown": [
       "aiah,” remarked Beaumont: “the acceptable year of the Lord is proclaimed.” “Yea,” said the bridegroom, “even to comfort all that mourn.” “ That they might be ca <span style=\"color: blue\">lled the trees of righteousness, the planting of the Lord, that He might be glorified,”</span> said father Edwards. “ And they shall build' the old wastes, they shall raise the former desolations; and they shall r"
      ],
      "text/plain": [
       "<IPython.core.display.Markdown object>"
      ]
     },
     "metadata": {},
     "output_type": "display_data"
    },
    {
     "name": "stdout",
     "output_type": "stream",
     "text": [
      "--------------------------------------------------\n"
     ]
    },
    {
     "data": {
      "text/markdown": [
       "### King James Bible"
      ],
      "text/plain": [
       "<IPython.core.display.Markdown object>"
      ]
     },
     "metadata": {},
     "output_type": "display_data"
    },
    {
     "data": {
      "text/markdown": [
       "garment of praise for the spirit of heaviness; that they might be called trees of righteousness, the planting of the LORD, that he might be glorified. 61:4 And they <span style=\"color: blue\">shall build the old wastes, they shall raise up the former desolations, and they shall repair the waste cities, the desolations of many generations</span>. 61:5 And strangers shall stand and feed your flocks, and the sons of the alien shall be your plowmen and your vinedressers"
      ],
      "text/plain": [
       "<IPython.core.display.Markdown object>"
      ]
     },
     "metadata": {},
     "output_type": "display_data"
    },
    {
     "data": {
      "text/markdown": [
       "### The Church Republic: A Romance of Methodism: By Brother Jonathan, D. D."
      ],
      "text/plain": [
       "<IPython.core.display.Markdown object>"
      ]
     },
     "metadata": {},
     "output_type": "display_data"
    },
    {
     "data": {
      "text/markdown": [
       "<small>Pierce, Zerelda F.</small>"
      ],
      "text/plain": [
       "<IPython.core.display.Markdown object>"
      ]
     },
     "metadata": {},
     "output_type": "display_data"
    },
    {
     "data": {
      "text/markdown": [
       "mfort all that mourn.” “ That they might be called the trees of righteousness, the planting of the Lord, that He might be glorified,” said father Edwards. “ And they sh <span style=\"color: blue\">all build' the old wastes, they shall raise the former desolations; and they shall repair the waste cities, the desolations of many generations,”</span> responded bishop Holman. “And strangers shall stand and feed your flocks, and the sons of the alien s"
      ],
      "text/plain": [
       "<IPython.core.display.Markdown object>"
      ]
     },
     "metadata": {},
     "output_type": "display_data"
    },
    {
     "name": "stdout",
     "output_type": "stream",
     "text": [
      "--------------------------------------------------\n"
     ]
    },
    {
     "data": {
      "text/markdown": [
       "### King James Bible"
      ],
      "text/plain": [
       "<IPython.core.display.Markdown object>"
      ]
     },
     "metadata": {},
     "output_type": "display_data"
    },
    {
     "data": {
      "text/markdown": [
       "shall raise up the former desolations, and they shall repair the waste cities, the desolations of many generations. 61:5 And <span style=\"color: blue\">strangers shall stand and feed your flocks, and the sons of the alien shall be your plowmen</span> and your vinedressers. 61:6 But ye shall be named the Priests of the LORD: men shall call you the Ministers"
      ],
      "text/plain": [
       "<IPython.core.display.Markdown object>"
      ]
     },
     "metadata": {},
     "output_type": "display_data"
    },
    {
     "data": {
      "text/markdown": [
       "### The Church Republic: A Romance of Methodism: By Brother Jonathan, D. D."
      ],
      "text/plain": [
       "<IPython.core.display.Markdown object>"
      ]
     },
     "metadata": {},
     "output_type": "display_data"
    },
    {
     "data": {
      "text/markdown": [
       "<small>Pierce, Zerelda F.</small>"
      ],
      "text/plain": [
       "<IPython.core.display.Markdown object>"
      ]
     },
     "metadata": {},
     "output_type": "display_data"
    },
    {
     "data": {
      "text/markdown": [
       "solations; and they shall repair the waste cities, the desolations of many generations,” responded bishop Holman. “And st <span style=\"color: blue\">rangers shall stand and feed your flocks, and the sons of the alien shall be your plowmen a</span> nd your vine¬ dressers,” returned bishop Nephets. “ But ye shall be named the Priests of the Lord :"
      ],
      "text/plain": [
       "<IPython.core.display.Markdown object>"
      ]
     },
     "metadata": {},
     "output_type": "display_data"
    },
    {
     "name": "stdout",
     "output_type": "stream",
     "text": [
      "--------------------------------------------------\n"
     ]
    },
    {
     "data": {
      "text/markdown": [
       "### King James Bible"
      ],
      "text/plain": [
       "<IPython.core.display.Markdown object>"
      ]
     },
     "metadata": {},
     "output_type": "display_data"
    },
    {
     "data": {
      "text/markdown": [
       "strangers shall stand and feed your flocks, and the sons of the alien shall be your plowmen and your vinedressers. 61:6 But <span style=\"color: blue\">ye shall be named the Priests of the LORD: men shall call you the Ministers of our God: ye shall eat</span> the riches of the Gentiles, and in their glory shall ye boast yourselves. 61:7 For your shame ye shall"
      ],
      "text/plain": [
       "<IPython.core.display.Markdown object>"
      ]
     },
     "metadata": {},
     "output_type": "display_data"
    },
    {
     "data": {
      "text/markdown": [
       "### The Church Republic: A Romance of Methodism: By Brother Jonathan, D. D."
      ],
      "text/plain": [
       "<IPython.core.display.Markdown object>"
      ]
     },
     "metadata": {},
     "output_type": "display_data"
    },
    {
     "data": {
      "text/markdown": [
       "<small>Pierce, Zerelda F.</small>"
      ],
      "text/plain": [
       "<IPython.core.display.Markdown object>"
      ]
     },
     "metadata": {},
     "output_type": "display_data"
    },
    {
     "data": {
      "text/markdown": [
       "ocks, and the sons of the alien shall be your plowmen and your vine¬ dressers,” returned bishop Nephets. “ But ye <span style=\"color: blue\">shall be named the Priests of the Lord : men shall call you Ministers of our God: ye shall eat t</span> he wealth of the nations and to their glory shall ye succeed,” quoted Beaumont. “ For your reproach ye s"
      ],
      "text/plain": [
       "<IPython.core.display.Markdown object>"
      ]
     },
     "metadata": {},
     "output_type": "display_data"
    },
    {
     "name": "stdout",
     "output_type": "stream",
     "text": [
      "--------------------------------------------------\n"
     ]
    },
    {
     "data": {
      "text/markdown": [
       "### King James Bible"
      ],
      "text/plain": [
       "<IPython.core.display.Markdown object>"
      ]
     },
     "metadata": {},
     "output_type": "display_data"
    },
    {
     "data": {
      "text/markdown": [
       "glory shall ye boast yourselves. 61:7 For your shame ye shall have double; and for confusion they <span style=\"color: blue\">shall rejoice in their portion: therefore in their land they shall possess the double: everlasting joy shall</span> be unto them. 61:8 For I the LORD love judgment, I hate robbery for burnt offering; and I will direct their work in truth, and I will make an everlasting"
      ],
      "text/plain": [
       "<IPython.core.display.Markdown object>"
      ]
     },
     "metadata": {},
     "output_type": "display_data"
    },
    {
     "data": {
      "text/markdown": [
       "### The Church Republic: A Romance of Methodism: By Brother Jonathan, D. D."
      ],
      "text/plain": [
       "<IPython.core.display.Markdown object>"
      ]
     },
     "metadata": {},
     "output_type": "display_data"
    },
    {
     "data": {
      "text/markdown": [
       "<small>Pierce, Zerelda F.</small>"
      ],
      "text/plain": [
       "<IPython.core.display.Markdown object>"
      ]
     },
     "metadata": {},
     "output_type": "display_data"
    },
    {
     "data": {
      "text/markdown": [
       "succeed,” quoted Beaumont. “ For your reproach ye shall have double ; and for con¬ fusion they sh <span style=\"color: blue\">all rejoice in their portion : therefore in their land they shall possess double: everlasting joy shall b</span> e onto them,” respqnded Father Edwards. “ For I the Lord love judgment, I hate robbery for a burnt offering ;"
      ],
      "text/plain": [
       "<IPython.core.display.Markdown object>"
      ]
     },
     "metadata": {},
     "output_type": "display_data"
    },
    {
     "name": "stdout",
     "output_type": "stream",
     "text": [
      "--------------------------------------------------\n"
     ]
    },
    {
     "data": {
      "text/markdown": [
       "### King James Bible"
      ],
      "text/plain": [
       "<IPython.core.display.Markdown object>"
      ]
     },
     "metadata": {},
     "output_type": "display_data"
    },
    {
     "data": {
      "text/markdown": [
       "portion: therefore in their land they shall possess the double: everlasting joy shall be unto them. 61:8 For I the <span style=\"color: blue\">LORD love judgment, I hate robbery for burnt offering</span>; and I will direct their work in truth, and I will make an everlasting covenant with them. 61:9 And their seed shall be known among the Gentiles, and their offspring"
      ],
      "text/plain": [
       "<IPython.core.display.Markdown object>"
      ]
     },
     "metadata": {},
     "output_type": "display_data"
    },
    {
     "data": {
      "text/markdown": [
       "### The Church Republic: A Romance of Methodism: By Brother Jonathan, D. D."
      ],
      "text/plain": [
       "<IPython.core.display.Markdown object>"
      ]
     },
     "metadata": {},
     "output_type": "display_data"
    },
    {
     "data": {
      "text/markdown": [
       "<small>Pierce, Zerelda F.</small>"
      ],
      "text/plain": [
       "<IPython.core.display.Markdown object>"
      ]
     },
     "metadata": {},
     "output_type": "display_data"
    },
    {
     "data": {
      "text/markdown": [
       "all possess double: everlasting joy shall be onto them,” respqnded Father Edwards. “ For I the Lo <span style=\"color: blue\">rd love judgment, I hate robbery for a burnt offering ;</span> and I shall give them their recompense in truth, and I will make an everlasting covenant with them. And their seed shall be known among the nations,"
      ],
      "text/plain": [
       "<IPython.core.display.Markdown object>"
      ]
     },
     "metadata": {},
     "output_type": "display_data"
    },
    {
     "name": "stdout",
     "output_type": "stream",
     "text": [
      "--------------------------------------------------\n"
     ]
    },
    {
     "data": {
      "text/markdown": [
       "### King James Bible"
      ],
      "text/plain": [
       "<IPython.core.display.Markdown object>"
      ]
     },
     "metadata": {},
     "output_type": "display_data"
    },
    {
     "data": {
      "text/markdown": [
       "joy shall be unto them. 61:8 For I the LORD love judgment, I hate robbery for burnt offering; and I will direct their work in <span style=\"color: blue\">truth, and I will make an everlasting covenant with them. 61:9 And their seed shall be known among</span> the Gentiles, and their offspring among the people: all that see them shall acknowledge them, that they are the seed which the LORD hath blessed. 61:10 I will greatly"
      ],
      "text/plain": [
       "<IPython.core.display.Markdown object>"
      ]
     },
     "metadata": {},
     "output_type": "display_data"
    },
    {
     "data": {
      "text/markdown": [
       "### The Church Republic: A Romance of Methodism: By Brother Jonathan, D. D."
      ],
      "text/plain": [
       "<IPython.core.display.Markdown object>"
      ]
     },
     "metadata": {},
     "output_type": "display_data"
    },
    {
     "data": {
      "text/markdown": [
       "<small>Pierce, Zerelda F.</small>"
      ],
      "text/plain": [
       "<IPython.core.display.Markdown object>"
      ]
     },
     "metadata": {},
     "output_type": "display_data"
    },
    {
     "data": {
      "text/markdown": [
       "ther Edwards. “ For I the Lord love judgment, I hate robbery for a burnt offering ; and I shall give them their recompense in tr <span style=\"color: blue\">uth, and I will make an everlasting covenant with them. And their seed shall be known among t</span> he nations, and their offspring among the peoples : all that see them shall acknowledge them that they are the seed which the Lord hath blessed,”"
      ],
      "text/plain": [
       "<IPython.core.display.Markdown object>"
      ]
     },
     "metadata": {},
     "output_type": "display_data"
    },
    {
     "name": "stdout",
     "output_type": "stream",
     "text": [
      "--------------------------------------------------\n"
     ]
    },
    {
     "data": {
      "text/markdown": [
       "### King James Bible"
      ],
      "text/plain": [
       "<IPython.core.display.Markdown object>"
      ]
     },
     "metadata": {},
     "output_type": "display_data"
    },
    {
     "data": {
      "text/markdown": [
       "truth, and I will make an everlasting covenant with them. 61:9 And their seed shall be known among the Gentiles, and their offspring among the people: all that see them <span style=\"color: blue\">shall acknowledge them, that they are the seed which the LORD hath blessed</span>. 61:10 I will greatly rejoice in the LORD, my soul shall be joyful in my God; for he hath clothed me with the garments"
      ],
      "text/plain": [
       "<IPython.core.display.Markdown object>"
      ]
     },
     "metadata": {},
     "output_type": "display_data"
    },
    {
     "data": {
      "text/markdown": [
       "### The Church Republic: A Romance of Methodism: By Brother Jonathan, D. D."
      ],
      "text/plain": [
       "<IPython.core.display.Markdown object>"
      ]
     },
     "metadata": {},
     "output_type": "display_data"
    },
    {
     "data": {
      "text/markdown": [
       "<small>Pierce, Zerelda F.</small>"
      ],
      "text/plain": [
       "<IPython.core.display.Markdown object>"
      ]
     },
     "metadata": {},
     "output_type": "display_data"
    },
    {
     "data": {
      "text/markdown": [
       "erlasting covenant with them. And their seed shall be known among the nations, and their offspring among the peoples : all that see them sh <span style=\"color: blue\">all acknowledge them that they are the seed which the Lord hath blessed,”</span> was. the exultant voice of the bride. “I will greatly rejoice in the Lord,” said the bride¬ groom ; ‘‘my soul shall b"
      ],
      "text/plain": [
       "<IPython.core.display.Markdown object>"
      ]
     },
     "metadata": {},
     "output_type": "display_data"
    },
    {
     "name": "stdout",
     "output_type": "stream",
     "text": [
      "--------------------------------------------------\n"
     ]
    },
    {
     "data": {
      "text/markdown": [
       "### King James Bible"
      ],
      "text/plain": [
       "<IPython.core.display.Markdown object>"
      ]
     },
     "metadata": {},
     "output_type": "display_data"
    },
    {
     "data": {
      "text/markdown": [
       "among the people: all that see them shall acknowledge them, that they are the seed which the LORD hath blessed. 61:10 I will greatly rejoice in the LORD, my <span style=\"color: blue\">soul shall be joyful in my God; for he hath clothed me with the garments of salvation, he hath covered me with the robe of righteousness, as a bridegroom</span> decketh himself with ornaments, and as a bride adorneth herself with her jewels. 61:11 For as the earth bringeth forth"
      ],
      "text/plain": [
       "<IPython.core.display.Markdown object>"
      ]
     },
     "metadata": {},
     "output_type": "display_data"
    },
    {
     "data": {
      "text/markdown": [
       "### The Church Republic: A Romance of Methodism: By Brother Jonathan, D. D."
      ],
      "text/plain": [
       "<IPython.core.display.Markdown object>"
      ]
     },
     "metadata": {},
     "output_type": "display_data"
    },
    {
     "data": {
      "text/markdown": [
       "<small>Pierce, Zerelda F.</small>"
      ],
      "text/plain": [
       "<IPython.core.display.Markdown object>"
      ]
     },
     "metadata": {},
     "output_type": "display_data"
    },
    {
     "data": {
      "text/markdown": [
       "th blessed,” was. the exultant voice of the bride. “I will greatly rejoice in the Lord,” said the bride¬ groom ; ‘‘my so <span style=\"color: blue\">ul shall be joyful in my God ; for He hath clothed me with the garments of salvation, He hath covered me with 'the robe of righteousness, as a bridegroom d</span> eck- eth himself with a garland ; so voiceth the bridegroom of the North.” “And as a bride adorneth herself w"
      ],
      "text/plain": [
       "<IPython.core.display.Markdown object>"
      ]
     },
     "metadata": {},
     "output_type": "display_data"
    },
    {
     "name": "stdout",
     "output_type": "stream",
     "text": [
      "--------------------------------------------------\n"
     ]
    },
    {
     "data": {
      "text/markdown": [
       "### King James Bible"
      ],
      "text/plain": [
       "<IPython.core.display.Markdown object>"
      ]
     },
     "metadata": {},
     "output_type": "display_data"
    },
    {
     "data": {
      "text/markdown": [
       "forth as brightness, and the salvation thereof as a lamp that burneth. 62:2 And the Gentiles shall see thy righteousness, and all <span style=\"color: blue\">kings thy glory: and thou shalt be called by a new name, which the mouth of the LORD shall name</span>. 62:3 Thou shalt also be a crown of glory in the hand of the LORD, and a royal diadem in the hand of thy"
      ],
      "text/plain": [
       "<IPython.core.display.Markdown object>"
      ]
     },
     "metadata": {},
     "output_type": "display_data"
    },
    {
     "data": {
      "text/markdown": [
       "### The Church Republic: A Romance of Methodism: By Brother Jonathan, D. D."
      ],
      "text/plain": [
       "<IPython.core.display.Markdown object>"
      ]
     },
     "metadata": {},
     "output_type": "display_data"
    },
    {
     "data": {
      "text/markdown": [
       "<small>Pierce, Zerelda F.</small>"
      ],
      "text/plain": [
       "<IPython.core.display.Markdown object>"
      ]
     },
     "metadata": {},
     "output_type": "display_data"
    },
    {
     "data": {
      "text/markdown": [
       "ide of the South,” answered Sue Nephets. “And the nations shall see thy righteousness, О North, and all ki <span style=\"color: blue\">ngs thy glory ; and thou shalt be called by a new name, which the mouth of the Lord shall name,”</span> re¬ sponded mother Sue Edwards. “Thou shalt, also be a crown of beauty in the hand o"
      ],
      "text/plain": [
       "<IPython.core.display.Markdown object>"
      ]
     },
     "metadata": {},
     "output_type": "display_data"
    },
    {
     "name": "stdout",
     "output_type": "stream",
     "text": [
      "--------------------------------------------------\n"
     ]
    },
    {
     "data": {
      "text/markdown": [
       "### King James Bible"
      ],
      "text/plain": [
       "<IPython.core.display.Markdown object>"
      ]
     },
     "metadata": {},
     "output_type": "display_data"
    },
    {
     "data": {
      "text/markdown": [
       "called by a new name, which the mouth of the LORD shall name. 62:3 Thou shalt also be a crown of glory in the <span style=\"color: blue\">hand of the LORD, and a royal diadem in the hand of thy God</span>. 62:4 Thou shalt no more be termed Forsaken; neither shall thy land any more be termed Desolate"
      ],
      "text/plain": [
       "<IPython.core.display.Markdown object>"
      ]
     },
     "metadata": {},
     "output_type": "display_data"
    },
    {
     "data": {
      "text/markdown": [
       "### The Church Republic: A Romance of Methodism: By Brother Jonathan, D. D."
      ],
      "text/plain": [
       "<IPython.core.display.Markdown object>"
      ]
     },
     "metadata": {},
     "output_type": "display_data"
    },
    {
     "data": {
      "text/markdown": [
       "<small>Pierce, Zerelda F.</small>"
      ],
      "text/plain": [
       "<IPython.core.display.Markdown object>"
      ]
     },
     "metadata": {},
     "output_type": "display_data"
    },
    {
     "data": {
      "text/markdown": [
       "me,” re¬ sponded mother Sue Edwards. “Thou shalt, also be a crown of beauty in the ha <span style=\"color: blue\">nd of the Lord, and a royal diadem in the hand of thy God,”</span> returned Beaumont. “And thou, О South, shalt no more be termed Forsaken ; neither shall thy l"
      ],
      "text/plain": [
       "<IPython.core.display.Markdown object>"
      ]
     },
     "metadata": {},
     "output_type": "display_data"
    },
    {
     "name": "stdout",
     "output_type": "stream",
     "text": [
      "--------------------------------------------------\n"
     ]
    },
    {
     "data": {
      "text/markdown": [
       "### King James Bible"
      ],
      "text/plain": [
       "<IPython.core.display.Markdown object>"
      ]
     },
     "metadata": {},
     "output_type": "display_data"
    },
    {
     "data": {
      "text/markdown": [
       "crown of glory in the hand of the LORD, and a royal diadem in the hand of thy God. 62:4 Thou <span style=\"color: blue\">shalt no more be termed Forsaken; neither shall thy land any more be termed Desolate</span>: but thou shalt be called Hephzibah, and thy land Beulah: for the LORD delighteth in thee"
      ],
      "text/plain": [
       "<IPython.core.display.Markdown object>"
      ]
     },
     "metadata": {},
     "output_type": "display_data"
    },
    {
     "data": {
      "text/markdown": [
       "### The Church Republic: A Romance of Methodism: By Brother Jonathan, D. D."
      ],
      "text/plain": [
       "<IPython.core.display.Markdown object>"
      ]
     },
     "metadata": {},
     "output_type": "display_data"
    },
    {
     "data": {
      "text/markdown": [
       "<small>Pierce, Zerelda F.</small>"
      ],
      "text/plain": [
       "<IPython.core.display.Markdown object>"
      ]
     },
     "metadata": {},
     "output_type": "display_data"
    },
    {
     "data": {
      "text/markdown": [
       "rd, and a royal diadem in the hand of thy God,” returned Beaumont. “And thou, О South, sh <span style=\"color: blue\">alt no more be termed Forsaken ; neither shall thy land any more be termed Desolate,</span> but it shall be called Beulah,” voiced Sue Nephets. “ For as a young man marrieth a virgin, so shall o"
      ],
      "text/plain": [
       "<IPython.core.display.Markdown object>"
      ]
     },
     "metadata": {},
     "output_type": "display_data"
    },
    {
     "name": "stdout",
     "output_type": "stream",
     "text": [
      "--------------------------------------------------\n"
     ]
    },
    {
     "data": {
      "text/markdown": [
       "### King James Bible"
      ],
      "text/plain": [
       "<IPython.core.display.Markdown object>"
      ]
     },
     "metadata": {},
     "output_type": "display_data"
    },
    {
     "data": {
      "text/markdown": [
       "marrieth a virgin, so shall thy sons marry thee: and as the bridegroom rejoiceth over the bride, so <span style=\"color: blue\">shall thy God rejoice over thee</span>. 62:6 I have set watchmen upon thy walls, O Jerusalem, which shall never hold their peace"
      ],
      "text/plain": [
       "<IPython.core.display.Markdown object>"
      ]
     },
     "metadata": {},
     "output_type": "display_data"
    },
    {
     "data": {
      "text/markdown": [
       "### The Church Republic: A Romance of Methodism: By Brother Jonathan, D. D."
      ],
      "text/plain": [
       "<IPython.core.display.Markdown object>"
      ]
     },
     "metadata": {},
     "output_type": "display_data"
    },
    {
     "data": {
      "text/markdown": [
       "<small>Pierce, Zerelda F.</small>"
      ],
      "text/plain": [
       "<IPython.core.display.Markdown object>"
      ]
     },
     "metadata": {},
     "output_type": "display_data"
    },
    {
     "data": {
      "text/markdown": [
       "ee, thou virgin South,” said bishop Nephets. “And as the bridegroom rejoiceth over the bride, so, О North, sh <span style=\"color: blue\">all thy God rejoice over thee,”</span> was the response of bishop Holman. “ My soul doth magnify the Lord, and my spirit rejoiceth in God,"
      ],
      "text/plain": [
       "<IPython.core.display.Markdown object>"
      ]
     },
     "metadata": {},
     "output_type": "display_data"
    },
    {
     "name": "stdout",
     "output_type": "stream",
     "text": [
      "--------------------------------------------------\n"
     ]
    },
    {
     "data": {
      "text/markdown": [
       "### King James Bible"
      ],
      "text/plain": [
       "<IPython.core.display.Markdown object>"
      ]
     },
     "metadata": {},
     "output_type": "display_data"
    },
    {
     "data": {
      "text/markdown": [
       "leaped in my womb for joy. 1:45 And blessed is she that believed: for there shall be a performance of those things which were told her from the Lord. 1:46 And Mary said, My <span style=\"color: blue\">soul doth magnify the Lord, 1:47 And my spirit</span> hath rejoiced in God my Saviour. 1:48 For he hath regarded the low estate of his handmaiden: for, behold"
      ],
      "text/plain": [
       "<IPython.core.display.Markdown object>"
      ]
     },
     "metadata": {},
     "output_type": "display_data"
    },
    {
     "data": {
      "text/markdown": [
       "### The Church Republic: A Romance of Methodism: By Brother Jonathan, D. D."
      ],
      "text/plain": [
       "<IPython.core.display.Markdown object>"
      ]
     },
     "metadata": {},
     "output_type": "display_data"
    },
    {
     "data": {
      "text/markdown": [
       "<small>Pierce, Zerelda F.</small>"
      ],
      "text/plain": [
       "<IPython.core.display.Markdown object>"
      ]
     },
     "metadata": {},
     "output_type": "display_data"
    },
    {
     "data": {
      "text/markdown": [
       "ide, so, О North, shall thy God rejoice over thee,” was the response of bishop Holman. “ My so <span style=\"color: blue\">ul doth magnify the Lord, and my spirit r</span> ejoiceth in God, my Savior,” exclaimed the bride. “And mine with thine, my bonnié bride of the South,”"
      ],
      "text/plain": [
       "<IPython.core.display.Markdown object>"
      ]
     },
     "metadata": {},
     "output_type": "display_data"
    },
    {
     "name": "stdout",
     "output_type": "stream",
     "text": [
      "--------------------------------------------------\n"
     ]
    },
    {
     "data": {
      "text/markdown": [
       "### King James Bible"
      ],
      "text/plain": [
       "<IPython.core.display.Markdown object>"
      ]
     },
     "metadata": {},
     "output_type": "display_data"
    },
    {
     "data": {
      "text/markdown": [
       "scripture saith, Whosoever believeth on him shall not be ashamed. 10:12 For there is no difference between the Jew and the Greek: for the same <span style=\"color: blue\">Lord over all is rich unto all that call upon</span> him. 10:13 For whosoever shall call upon the name of the Lord shall be saved. 10:14 How then shall they call"
      ],
      "text/plain": [
       "<IPython.core.display.Markdown object>"
      ]
     },
     "metadata": {},
     "output_type": "display_data"
    },
    {
     "data": {
      "text/markdown": [
       "### The Church Republic: A Romance of Methodism: By Brother Jonathan, D. D."
      ],
      "text/plain": [
       "<IPython.core.display.Markdown object>"
      ]
     },
     "metadata": {},
     "output_type": "display_data"
    },
    {
     "data": {
      "text/markdown": [
       "<small>Pierce, Zerelda F.</small>"
      ],
      "text/plain": [
       "<IPython.core.display.Markdown object>"
      ]
     },
     "metadata": {},
     "output_type": "display_data"
    },
    {
     "data": {
      "text/markdown": [
       "le nor female, for we are all one in Christ Jesus ; there can be no difference between them, so says Republican Paul, ‘ for the same Lo <span style=\"color: blue\">rd over all is rich unto all that call upon H</span> im? ’ With such explicit recognition of woman’s equality with man in church, she is scripturally incorporated in the Constitution of the Church R"
      ],
      "text/plain": [
       "<IPython.core.display.Markdown object>"
      ]
     },
     "metadata": {},
     "output_type": "display_data"
    },
    {
     "name": "stdout",
     "output_type": "stream",
     "text": [
      "--------------------------------------------------\n"
     ]
    },
    {
     "data": {
      "text/markdown": [
       "### King James Bible"
      ],
      "text/plain": [
       "<IPython.core.display.Markdown object>"
      ]
     },
     "metadata": {},
     "output_type": "display_data"
    },
    {
     "data": {
      "text/markdown": [
       "sowest, thou sowest not that body that shall be, but bare grain, it may chance of wheat, or of some other grain: 15:38 But <span style=\"color: blue\">God giveth it a body as it hath pleased him, and to every seed his own body</span>. 15:39 All flesh is not the same flesh: but there is one kind of flesh of men, another flesh of beasts, another of fishes, and another of birds. 15:40 There are also celestial"
      ],
      "text/plain": [
       "<IPython.core.display.Markdown object>"
      ]
     },
     "metadata": {},
     "output_type": "display_data"
    },
    {
     "data": {
      "text/markdown": [
       "### The Church Republic: A Romance of Methodism: By Brother Jonathan, D. D."
      ],
      "text/plain": [
       "<IPython.core.display.Markdown object>"
      ]
     },
     "metadata": {},
     "output_type": "display_data"
    },
    {
     "data": {
      "text/markdown": [
       "<small>Pierce, Zerelda F.</small>"
      ],
      "text/plain": [
       "<IPython.core.display.Markdown object>"
      ]
     },
     "metadata": {},
     "output_type": "display_data"
    },
    {
     "data": {
      "text/markdown": [
       "n. But soul to body as body to the soul ; crass with crass and ethereal with ethereal. Like unto like, for ‘Go <span style=\"color: blue\">d giveth it a body as iťhath pleased Him, and to every seed his own body.'</span> Jonathan. —Thou reasonest well, David, and won- drously. David. — But yet much more wondrously. The black m"
      ],
      "text/plain": [
       "<IPython.core.display.Markdown object>"
      ]
     },
     "metadata": {},
     "output_type": "display_data"
    },
    {
     "name": "stdout",
     "output_type": "stream",
     "text": [
      "--------------------------------------------------\n"
     ]
    },
    {
     "data": {
      "text/markdown": [
       "### King James Bible"
      ],
      "text/plain": [
       "<IPython.core.display.Markdown object>"
      ]
     },
     "metadata": {},
     "output_type": "display_data"
    },
    {
     "data": {
      "text/markdown": [
       "continued there not many days. 2:13 And the Jews' passover was at hand, and Jesus went up to Jerusalem. 2:14 And found in the temple those that <span style=\"color: blue\">sold oxen and sheep and doves, and the changers of money sitting: 2:15 And when he had made a scourge of small cords, he drove them all out of the temple, and the sheep, and the oxen; and poured out the changers' money, and overthrew the tables; 2:16 And said unto them that sold doves, Take these things hence; make not my Father's house an house of merchandise</span>. 2:17 And his disciples remembered that it was written, The zeal of thine house hath eaten me up. 2:18 Then answered the Jews and said unto"
      ],
      "text/plain": [
       "<IPython.core.display.Markdown object>"
      ]
     },
     "metadata": {},
     "output_type": "display_data"
    },
    {
     "data": {
      "text/markdown": [
       "### Rankell's Remains: An American Novel: By Barrett Wendell …"
      ],
      "text/plain": [
       "<IPython.core.display.Markdown object>"
      ]
     },
     "metadata": {},
     "output_type": "display_data"
    },
    {
     "data": {
      "text/markdown": [
       "<small>Wendell, Barrett</small>"
      ],
      "text/plain": [
       "<IPython.core.display.Markdown object>"
      ]
     },
     "metadata": {},
     "output_type": "display_data"
    },
    {
     "data": {
      "text/markdown": [
       "rembled with the wear of eighty holy years, “ and Jesus went up to Jerusalem, and found in the tem¬ ple those that s <span style=\"color: blue\">old oxen and sheep and doves, and the changers of money sitting: and when he had made a scourge of small cords, he drove them all out of the temple, and the sheep, and the oxen ; and poured out the changers’ money, and overthrew the tables; and said unto them that sold doves, Take these things hence ; make not my Father’s house an house of merchandise.</span>” Just then I heard behind me a muttering as if some one were speaking to himself ; and turning to see who disturbed the quiet, I saw close"
      ],
      "text/plain": [
       "<IPython.core.display.Markdown object>"
      ]
     },
     "metadata": {},
     "output_type": "display_data"
    },
    {
     "name": "stdout",
     "output_type": "stream",
     "text": [
      "--------------------------------------------------\n"
     ]
    },
    {
     "data": {
      "text/markdown": [
       "### King James Bible"
      ],
      "text/plain": [
       "<IPython.core.display.Markdown object>"
      ]
     },
     "metadata": {},
     "output_type": "display_data"
    },
    {
     "data": {
      "text/markdown": [
       "night, he, and all his servants, and all the Egyptians; and there was a great cry in Egypt; for there was not a house where there was not one dead. 12:31 And he called for Moses and Aaron by night, and said, <span style=\"color: blue\">Rise up, and get you forth from among my people, both ye and the children of Israel; and go, serve the LORD, as ye have said. 12:32 Also take your flocks and your herds, as ye have said, and be gone; and bless</span> me also. 12:33 And the Egyptians were urgent upon the people, that they might send them out of the land in haste; for they said, We be all dead men. 12:34 And the people took their dough"
      ],
      "text/plain": [
       "<IPython.core.display.Markdown object>"
      ]
     },
     "metadata": {},
     "output_type": "display_data"
    },
    {
     "data": {
      "text/markdown": [
       "### Philip Nolan's Friends: A Story of the Change of Western Empire: By Edward E. Hale …"
      ],
      "text/plain": [
       "<IPython.core.display.Markdown object>"
      ]
     },
     "metadata": {},
     "output_type": "display_data"
    },
    {
     "data": {
      "text/markdown": [
       "<small>Hale, Edward Everett</small>"
      ],
      "text/plain": [
       "<IPython.core.display.Markdown object>"
      ]
     },
     "metadata": {},
     "output_type": "display_data"
    },
    {
     "data": {
      "text/markdown": [
       "head of his sleeping-bunk, the Bible which accompanied him in his journeys. A moment more had found the' warning texts, — “ <span style=\"color: blue\">Rise up, and get you forth from among my people, both ye and the children of Israel ; and go, serve the Lord as ye have said. “ Also take your flocks and your herds, as ye have said, and be gone ; and bless</span> me also.” “ And the Lord said unto me, Distress not the Moabites, neither con¬ tend with them in battle ; for I will not give thee of their land"
      ],
      "text/plain": [
       "<IPython.core.display.Markdown object>"
      ]
     },
     "metadata": {},
     "output_type": "display_data"
    },
    {
     "name": "stdout",
     "output_type": "stream",
     "text": [
      "--------------------------------------------------\n"
     ]
    },
    {
     "data": {
      "text/markdown": [
       "### King James Bible"
      ],
      "text/plain": [
       "<IPython.core.display.Markdown object>"
      ]
     },
     "metadata": {},
     "output_type": "display_data"
    },
    {
     "data": {
      "text/markdown": [
       "Esau, which dwelt in Seir, through the way of the plain from Elath, and from Eziongaber, we turned and passed by the way of the wilderness of Moab. 2:9 And the <span style=\"color: blue\">LORD said unto me, Distress not the Moabites, neither</span> contend with them in battle: for I will not give thee of their land for a possession; because I have given Ar unto the children of Lot"
      ],
      "text/plain": [
       "<IPython.core.display.Markdown object>"
      ]
     },
     "metadata": {},
     "output_type": "display_data"
    },
    {
     "data": {
      "text/markdown": [
       "### Philip Nolan's Friends: A Story of the Change of Western Empire: By Edward E. Hale …"
      ],
      "text/plain": [
       "<IPython.core.display.Markdown object>"
      ]
     },
     "metadata": {},
     "output_type": "display_data"
    },
    {
     "data": {
      "text/markdown": [
       "<small>Hale, Edward Everett</small>"
      ],
      "text/plain": [
       "<IPython.core.display.Markdown object>"
      ]
     },
     "metadata": {},
     "output_type": "display_data"
    },
    {
     "data": {
      "text/markdown": [
       "children of Israel ; and go, serve the Lord as ye have said. “ Also take your flocks and your herds, as ye have said, and be gone ; and bless me also.” “ And the <span style=\"color: blue\">Lord said unto me, Distress not the Moabites, neither</span> con¬ tend with them in battle ; for I will not give thee of their land for a pos¬ session.” Nolan read aloud"
      ],
      "text/plain": [
       "<IPython.core.display.Markdown object>"
      ]
     },
     "metadata": {},
     "output_type": "display_data"
    },
    {
     "name": "stdout",
     "output_type": "stream",
     "text": [
      "--------------------------------------------------\n"
     ]
    },
    {
     "data": {
      "text/markdown": [
       "### King James Bible"
      ],
      "text/plain": [
       "<IPython.core.display.Markdown object>"
      ]
     },
     "metadata": {},
     "output_type": "display_data"
    },
    {
     "data": {
      "text/markdown": [
       "coasts of the great sea over against Lebanon, the Hittite, and the Amorite, the Canaanite, the Perizzite, the Hivite, and the Jebusite, <span style=\"color: blue\">heard thereof; 9:2 That they gathered themselves together, to fight with Joshua and with Israel, with one accord</span>. 9:3 And when the inhabitants of Gibeon heard what Joshua had done unto Jericho and to Ai, 9:4 They did work wilily, and went and made as if they had been ambassadors"
      ],
      "text/plain": [
       "<IPython.core.display.Markdown object>"
      ]
     },
     "metadata": {},
     "output_type": "display_data"
    },
    {
     "data": {
      "text/markdown": [
       "### Philip Nolan's Friends: A Story of the Change of Western Empire: By Edward E. Hale …"
      ],
      "text/plain": [
       "<IPython.core.display.Markdown object>"
      ]
     },
     "metadata": {},
     "output_type": "display_data"
    },
    {
     "data": {
      "text/markdown": [
       "<small>Hale, Edward Everett</small>"
      ],
      "text/plain": [
       "<IPython.core.display.Markdown object>"
      ]
     },
     "metadata": {},
     "output_type": "display_data"
    },
    {
     "data": {
      "text/markdown": [
       "text to read, — “ And it came to pass when all the kings which were on this side Jor¬ dan, in the hills, and in the valleys, . . . <span style=\"color: blue\">heard thereof ; “That they gathered themselves together, to fight with Joshua and with Israel, with one accord</span>.” Under the next pictures were the letters, — Зийд. it. 1?. And the interpretation proved to be, — “ Then Israel sent messengers unto the king"
      ],
      "text/plain": [
       "<IPython.core.display.Markdown object>"
      ]
     },
     "metadata": {},
     "output_type": "display_data"
    },
    {
     "name": "stdout",
     "output_type": "stream",
     "text": [
      "--------------------------------------------------\n"
     ]
    },
    {
     "data": {
      "text/markdown": [
       "### King James Bible"
      ],
      "text/plain": [
       "<IPython.core.display.Markdown object>"
      ]
     },
     "metadata": {},
     "output_type": "display_data"
    },
    {
     "data": {
      "text/markdown": [
       "Israel came up from Egypt, and walked through the wilderness unto the Red sea, and came to Kadesh; 11:17 Then <span style=\"color: blue\">Israel sent messengers unto the king of Edom, saying, Let me, I pray thee, pass through thy land: but the king of Edom would not hearken thereto</span>. And in like manner they sent unto the king of Moab: but he would not consent: and Israel abode in Kadesh. 11:18 Then they went"
      ],
      "text/plain": [
       "<IPython.core.display.Markdown object>"
      ]
     },
     "metadata": {},
     "output_type": "display_data"
    },
    {
     "data": {
      "text/markdown": [
       "### Philip Nolan's Friends: A Story of the Change of Western Empire: By Edward E. Hale …"
      ],
      "text/plain": [
       "<IPython.core.display.Markdown object>"
      ]
     },
     "metadata": {},
     "output_type": "display_data"
    },
    {
     "data": {
      "text/markdown": [
       "<small>Hale, Edward Everett</small>"
      ],
      "text/plain": [
       "<IPython.core.display.Markdown object>"
      ]
     },
     "metadata": {},
     "output_type": "display_data"
    },
    {
     "data": {
      "text/markdown": [
       "together, to fight with Joshua and with Israel, with one accord.” Under the next pictures were the letters, — Зийд. it. 1?. And the interpretation proved to be, — “ Then <span style=\"color: blue\">Israel sent messengers unto the king of Edom, saying, Let me, I pray thee, pass through thy land ; but the king of Edom would not hearken thereto</span>.” “ This is plain talk, Blackburn,” said the chief after a moment’s pause. “ Yes, captain ; and do you see ?” — The man took the book"
      ],
      "text/plain": [
       "<IPython.core.display.Markdown object>"
      ]
     },
     "metadata": {},
     "output_type": "display_data"
    },
    {
     "name": "stdout",
     "output_type": "stream",
     "text": [
      "--------------------------------------------------\n"
     ]
    },
    {
     "data": {
      "text/markdown": [
       "### King James Bible"
      ],
      "text/plain": [
       "<IPython.core.display.Markdown object>"
      ]
     },
     "metadata": {},
     "output_type": "display_data"
    },
    {
     "data": {
      "text/markdown": [
       "fourscore males. 8:9 Of the sons of Joab; Obadiah the son of Jehiel, and with him two hundred and eighteen males. 8:10 And of the <span style=\"color: blue\">sons of Shelomith; the son of Josiphiah, and with him an hundred and threescore males</span>. 8:11 And of the sons of Bebai; Zechariah the son of Bebai, and with him twenty and eight males. 8:12 And of the sons of Azgad"
      ],
      "text/plain": [
       "<IPython.core.display.Markdown object>"
      ]
     },
     "metadata": {},
     "output_type": "display_data"
    },
    {
     "data": {
      "text/markdown": [
       "### Philip Nolan's Friends: A Story of the Change of Western Empire: By Edward E. Hale …"
      ],
      "text/plain": [
       "<IPython.core.display.Markdown object>"
      ]
     },
     "metadata": {},
     "output_type": "display_data"
    },
    {
     "data": {
      "text/markdown": [
       "<small>Hale, Edward Everett</small>"
      ],
      "text/plain": [
       "<IPython.core.display.Markdown object>"
      ]
     },
     "metadata": {},
     "output_type": "display_data"
    },
    {
     "data": {
      "text/markdown": [
       "must look for him. Now what is this ? ” And he turned once more to the picture of Ezra with his cardinal. The warning texts were, — Ejra but. 10 ; £мй. ib. 8. “And of the <span style=\"color: blue\">sons of Shelomith ; the son of Josiphiah, and with him an hundred and threescore males</span>.” “ I do not care what his name is, Blackburn ; but, if he has a hundred and sixty Spanish lancers of the male sort after him, they are too many for us. What is her other text"
      ],
      "text/plain": [
       "<IPython.core.display.Markdown object>"
      ]
     },
     "metadata": {},
     "output_type": "display_data"
    },
    {
     "name": "stdout",
     "output_type": "stream",
     "text": [
      "--------------------------------------------------\n"
     ]
    },
    {
     "data": {
      "text/markdown": [
       "### King James Bible"
      ],
      "text/plain": [
       "<IPython.core.display.Markdown object>"
      ]
     },
     "metadata": {},
     "output_type": "display_data"
    },
    {
     "data": {
      "text/markdown": [
       "wisdom, neither hath he imparted to her understanding. 39:18 What time she lifteth up herself on high, she scorneth the horse and his rider. 39:19 <span style=\"color: blue\">Hast thou given the horse strength? hast thou clothed his neck with thunder? 39:20 Canst thou make him afraid as a grasshopper? the glory of his nostrils is terrible. 39:21 He paweth in the valley, and rejoiceth in his strength: he goeth on to meet the armed men. 39:22 He mocketh at fear, and is not affrighted; neither turneth he back from the sword. 39:23 The quiver rattleth against him, the glittering spear and the shield. 39:24 He swalloweth the ground with fierceness and rage: neither believeth he that it is the sound of the trumpet. 39:25 He saith among the trumpets, Ha, ha; and he smelleth the battle afar off, the thunder</span> of the captains, and the shouting. 39:26 Doth the hawk fly by thy wisdom, and stretch her wings toward"
      ],
      "text/plain": [
       "<IPython.core.display.Markdown object>"
      ]
     },
     "metadata": {},
     "output_type": "display_data"
    },
    {
     "data": {
      "text/markdown": [
       "### No Enemy (but Himself): By Elbert Hubbard …"
      ],
      "text/plain": [
       "<IPython.core.display.Markdown object>"
      ]
     },
     "metadata": {},
     "output_type": "display_data"
    },
    {
     "data": {
      "text/markdown": [
       "<small>Hubbard, Elbert</small>"
      ],
      "text/plain": [
       "<IPython.core.display.Markdown object>"
      ]
     },
     "metadata": {},
     "output_type": "display_data"
    },
    {
     "data": {
      "text/markdown": [
       "ob. He wrote the oldest and most valuable book of the Bible. Job loved a horse. Listen ! H <span style=\"color: blue\">ast thou given the horse strength ? Hast thou clothed his neck with thunder? Canst thou make him afraid as a grasshopper? The glory of his nostrils is terrible. He paweth in the valley, and rejoiceth in his strength, he goeth on to meet the armed men. He mocketh at fear and is not affrighted ; neither turneth he back from the sword. The quiver rattleth against him, the glittering spear and the shield. He swalloweth the ground with fierceness and rage; neither believeth he that it is the sound of the trumpet. He saith among the trumpets, Ha, ha! and he smelleth the battle afar off, the thunder</span> of the cap¬ tains and the shouting. Mr. Goolson’s horses were “ plugs ” : thin in flesh,"
      ],
      "text/plain": [
       "<IPython.core.display.Markdown object>"
      ]
     },
     "metadata": {},
     "output_type": "display_data"
    },
    {
     "name": "stdout",
     "output_type": "stream",
     "text": [
      "--------------------------------------------------\n"
     ]
    },
    {
     "data": {
      "text/markdown": [
       "### King James Bible"
      ],
      "text/plain": [
       "<IPython.core.display.Markdown object>"
      ]
     },
     "metadata": {},
     "output_type": "display_data"
    },
    {
     "data": {
      "text/markdown": [
       "Lord for a generation. 22:31 They shall come, and shall declare his righteousness unto a people that shall be born, that he hath done this. 23:1 The <span style=\"color: blue\">LORD is my shepherd; I shall not want. 23:2 He maketh me to lie down in green pastures: he leadeth</span> me beside the still waters. 23:3 He restoreth my soul: he leadeth me in the paths of righteousness for his name's sake"
      ],
      "text/plain": [
       "<IPython.core.display.Markdown object>"
      ]
     },
     "metadata": {},
     "output_type": "display_data"
    },
    {
     "data": {
      "text/markdown": [
       "### No Enemy (but Himself): By Elbert Hubbard …"
      ],
      "text/plain": [
       "<IPython.core.display.Markdown object>"
      ]
     },
     "metadata": {},
     "output_type": "display_data"
    },
    {
     "data": {
      "text/markdown": [
       "<small>Hubbard, Elbert</small>"
      ],
      "text/plain": [
       "<IPython.core.display.Markdown object>"
      ]
     },
     "metadata": {},
     "output_type": "display_data"
    },
    {
     "data": {
      "text/markdown": [
       "ght and sound as the organ played. “ She will sing better if she does not know I am here,” he said. “ I will wait—what a joke it is. She will begin soon—there, yes—that is the prelude. Now ! ” “ The Lo <span style=\"color: blue\">rd is my shepherd, I shall not want. He maketh me to lie down in green pastures, He leadeth m</span> e, he leadeth me—by still waters.” It was that beautiful arrangement of the Twenty- third Psalm, the chant being set for a soprano v"
      ],
      "text/plain": [
       "<IPython.core.display.Markdown object>"
      ]
     },
     "metadata": {},
     "output_type": "display_data"
    },
    {
     "name": "stdout",
     "output_type": "stream",
     "text": [
      "--------------------------------------------------\n"
     ]
    },
    {
     "data": {
      "text/markdown": [
       "### King James Bible"
      ],
      "text/plain": [
       "<IPython.core.display.Markdown object>"
      ]
     },
     "metadata": {},
     "output_type": "display_data"
    },
    {
     "data": {
      "text/markdown": [
       "Hast thou eaten of the tree, whereof I commanded thee that thou shouldest not eat? 3:12 And the man said, The <span style=\"color: blue\">woman whom thou gavest to be with me, she gave me of the tree, and I did eat</span>. 3:13 And the LORD God said unto the woman, What is this that thou hast done? And the woman said, The serpent beguiled me, and I did eat"
      ],
      "text/plain": [
       "<IPython.core.display.Markdown object>"
      ]
     },
     "metadata": {},
     "output_type": "display_data"
    },
    {
     "data": {
      "text/markdown": [
       "### The Golden Calf: A Novel: By Hjalmar Hjorth Boyesen"
      ],
      "text/plain": [
       "<IPython.core.display.Markdown object>"
      ]
     },
     "metadata": {},
     "output_type": "display_data"
    },
    {
     "data": {
      "text/markdown": [
       "<small>Boyesen, Hjalmar Hjorth</small>"
      ],
      "text/plain": [
       "<IPython.core.display.Markdown object>"
      ]
     },
     "metadata": {},
     "output_type": "display_data"
    },
    {
     "data": {
      "text/markdown": [
       "room, so as to be alone with his sorrow. He had the masculine lack of generosity to blame his wife as the author of his woes. “ The <span style=\"color: blue\">woman whom Thou gavest me to be with me, she gave me of the tree and I did eat</span>.” His gruffness did not shock Madeline, for it was what she had expected. She had come to humble herself, because she was convinced that if she did not, she would lose him altogether. She glanced"
      ],
      "text/plain": [
       "<IPython.core.display.Markdown object>"
      ]
     },
     "metadata": {},
     "output_type": "display_data"
    },
    {
     "name": "stdout",
     "output_type": "stream",
     "text": [
      "--------------------------------------------------\n"
     ]
    },
    {
     "data": {
      "text/markdown": [
       "### King James Bible"
      ],
      "text/plain": [
       "<IPython.core.display.Markdown object>"
      ]
     },
     "metadata": {},
     "output_type": "display_data"
    },
    {
     "data": {
      "text/markdown": [
       "Terah were two hundred and five years: and Terah died in Haran. 12:1 Now the LORD had said unto Abram, Get thee out of <span style=\"color: blue\">thy country, and from thy kindred, and from thy father's house, unto a land</span> that I will shew thee: 12:2 And I will make of thee a great nation, and I will bless thee, and make thy name great; and thou shalt"
      ],
      "text/plain": [
       "<IPython.core.display.Markdown object>"
      ]
     },
     "metadata": {},
     "output_type": "display_data"
    },
    {
     "data": {
      "text/markdown": [
       "### The Yoke and Burden"
      ],
      "text/plain": [
       "<IPython.core.display.Markdown object>"
      ]
     },
     "metadata": {},
     "output_type": "display_data"
    },
    {
     "data": {
      "text/markdown": [
       "<small>Kennett, Clare</small>"
      ],
      "text/plain": [
       "<IPython.core.display.Markdown object>"
      ]
     },
     "metadata": {},
     "output_type": "display_data"
    },
    {
     "data": {
      "text/markdown": [
       "speeding home to meet the smile or frown that awaits the comer. CHAPTER IX. Get thee cut of <span style=\"color: blue\">thy country, and from thy kindred, and from thy father’s house, unto a land</span> that I will show thee.— Bil'r. T lias been truly said, tlic most important events"
      ],
      "text/plain": [
       "<IPython.core.display.Markdown object>"
      ]
     },
     "metadata": {},
     "output_type": "display_data"
    },
    {
     "name": "stdout",
     "output_type": "stream",
     "text": [
      "--------------------------------------------------\n"
     ]
    },
    {
     "data": {
      "text/markdown": [
       "### King James Bible"
      ],
      "text/plain": [
       "<IPython.core.display.Markdown object>"
      ]
     },
     "metadata": {},
     "output_type": "display_data"
    },
    {
     "data": {
      "text/markdown": [
       "thou shalt go: I will guide thee with mine eye. 32:9 Be ye not as the horse, or as the mule, which have no understanding: <span style=\"color: blue\">whose mouth must be held in with bit and bridle</span>, lest they come near unto thee. 32:10 Many sorrows shall be to the wicked: but he that trusteth in the LORD, mercy"
      ],
      "text/plain": [
       "<IPython.core.display.Markdown object>"
      ]
     },
     "metadata": {},
     "output_type": "display_data"
    },
    {
     "data": {
      "text/markdown": [
       "### The Yoke and Burden"
      ],
      "text/plain": [
       "<IPython.core.display.Markdown object>"
      ]
     },
     "metadata": {},
     "output_type": "display_data"
    },
    {
     "data": {
      "text/markdown": [
       "<small>Kennett, Clare</small>"
      ],
      "text/plain": [
       "<IPython.core.display.Markdown object>"
      ]
     },
     "metadata": {},
     "output_type": "display_data"
    },
    {
     "data": {
      "text/markdown": [
       "aunty ? ” “ Yes, my child ; and able to say to my Lord, ‘ Thy will he done.’ ” “ That is right ! that is good, aunty ! ” “ Alas ! my dear, I find I am like the horse and mule, <span style=\"color: blue\">whose mouth must be held in with bit and bridle</span>; and ‘ the still small voice ’ has reproved me, and given me strength to say, ‘ Go, work in the Mas¬ ter’s vineyard. 5 The Lord"
      ],
      "text/plain": [
       "<IPython.core.display.Markdown object>"
      ]
     },
     "metadata": {},
     "output_type": "display_data"
    },
    {
     "name": "stdout",
     "output_type": "stream",
     "text": [
      "--------------------------------------------------\n"
     ]
    },
    {
     "data": {
      "text/markdown": [
       "### King James Bible"
      ],
      "text/plain": [
       "<IPython.core.display.Markdown object>"
      ]
     },
     "metadata": {},
     "output_type": "display_data"
    },
    {
     "data": {
      "text/markdown": [
       "righteous; yea, our God is merciful. 116:6 The LORD preserveth the simple: I was brought low, and he helped me. 116:7 <span style=\"color: blue\">Return unto thy rest, O my soul; for the LORD hath dealt bountifully with thee</span>. 116:8 For thou hast delivered my soul from death, mine eyes from tears, and my feet from falling"
      ],
      "text/plain": [
       "<IPython.core.display.Markdown object>"
      ]
     },
     "metadata": {},
     "output_type": "display_data"
    },
    {
     "data": {
      "text/markdown": [
       "### The Yoke and Burden"
      ],
      "text/plain": [
       "<IPython.core.display.Markdown object>"
      ]
     },
     "metadata": {},
     "output_type": "display_data"
    },
    {
     "data": {
      "text/markdown": [
       "<small>Kennett, Clare</small>"
      ],
      "text/plain": [
       "<IPython.core.display.Markdown object>"
      ]
     },
     "metadata": {},
     "output_type": "display_data"
    },
    {
     "data": {
      "text/markdown": [
       "serve who only stand and wait : this is to serve the Master, who finished the work when He gave up the spirit. Mary could now say with the Psalmist, “ <span style=\"color: blue\">Return unto thy rest, O my soul ! for the Lord hath dealt bountifully with thee</span>! ” On waking next morning, she found that the storm had passed away. The day was piercing cold, and the sun lit up the thousand"
      ],
      "text/plain": [
       "<IPython.core.display.Markdown object>"
      ]
     },
     "metadata": {},
     "output_type": "display_data"
    },
    {
     "name": "stdout",
     "output_type": "stream",
     "text": [
      "--------------------------------------------------\n"
     ]
    },
    {
     "data": {
      "text/markdown": [
       "### King James Bible"
      ],
      "text/plain": [
       "<IPython.core.display.Markdown object>"
      ]
     },
     "metadata": {},
     "output_type": "display_data"
    },
    {
     "data": {
      "text/markdown": [
       "shall cleave to his wife: and they twain shall be one flesh? 19:6 Wherefore they are no more twain, but one flesh. What therefore <span style=\"color: blue\">God hath joined together, let not man put asunder</span>. 19:7 They say unto him, Why did Moses then command to give a writing of divorcement, and to put her away? 19:8 He saith unto them, Moses because of the hardness"
      ],
      "text/plain": [
       "<IPython.core.display.Markdown object>"
      ]
     },
     "metadata": {},
     "output_type": "display_data"
    },
    {
     "data": {
      "text/markdown": [
       "### Alicia: By Albert A. Hartzell"
      ],
      "text/plain": [
       "<IPython.core.display.Markdown object>"
      ]
     },
     "metadata": {},
     "output_type": "display_data"
    },
    {
     "data": {
      "text/markdown": [
       "<small>Hartzell, Albert A. (Albert Ankeny)</small>"
      ],
      "text/plain": [
       "<IPython.core.display.Markdown object>"
      ]
     },
     "metadata": {},
     "output_type": "display_data"
    },
    {
     "data": {
      "text/markdown": [
       "hile its members wear their hearts away in trying to wear its chains. It is frightened by the admonition of the church, ‘What G <span style=\"color: blue\">od hath joined together let no man put asunder</span>. 5 55 “But would not a broadening aspect of life,” Alicia asked earnestly, “that would encourage companionship, in its purest and highest rela¬"
      ],
      "text/plain": [
       "<IPython.core.display.Markdown object>"
      ]
     },
     "metadata": {},
     "output_type": "display_data"
    },
    {
     "name": "stdout",
     "output_type": "stream",
     "text": [
      "--------------------------------------------------\n"
     ]
    },
    {
     "data": {
      "text/markdown": [
       "### King James Bible"
      ],
      "text/plain": [
       "<IPython.core.display.Markdown object>"
      ]
     },
     "metadata": {},
     "output_type": "display_data"
    },
    {
     "data": {
      "text/markdown": [
       "ye are all the children of God by faith in Christ Jesus. 3:27 For as many of you as have been baptized into Christ have put on Christ. 3:28 There is <span style=\"color: blue\">neither Jew nor Greek, there is neither bond nor free, there is neither male nor female: for ye are all one in Christ Jesus</span>. 3:29 And if ye be Christ's, then are ye Abraham's seed, and heirs according to the promise"
      ],
      "text/plain": [
       "<IPython.core.display.Markdown object>"
      ]
     },
     "metadata": {},
     "output_type": "display_data"
    },
    {
     "data": {
      "text/markdown": [
       "### The Unhallowed Harvest: By Homer Greene"
      ],
      "text/plain": [
       "<IPython.core.display.Markdown object>"
      ]
     },
     "metadata": {},
     "output_type": "display_data"
    },
    {
     "data": {
      "text/markdown": [
       "<small>Greene, Homer</small>"
      ],
      "text/plain": [
       "<IPython.core.display.Markdown object>"
      ]
     },
     "metadata": {},
     "output_type": "display_data"
    },
    {
     "data": {
      "text/markdown": [
       "rich. He founded His Church on the brother¬ hood of man. Its very existence was declaratory of the solidarity of the human race. There is <span style=\"color: blue\">neither Jew nor Greek, there is neither bond nor free, there is neither male nor female, for ye are all one in Christ Jesus</span>. No other Messiah, no other religion in the history of the world has made so strong, so sympathetic an appeal to the humble and toil-worn. How utterly"
      ],
      "text/plain": [
       "<IPython.core.display.Markdown object>"
      ]
     },
     "metadata": {},
     "output_type": "display_data"
    },
    {
     "name": "stdout",
     "output_type": "stream",
     "text": [
      "--------------------------------------------------\n"
     ]
    },
    {
     "data": {
      "text/markdown": [
       "### King James Bible"
      ],
      "text/plain": [
       "<IPython.core.display.Markdown object>"
      ]
     },
     "metadata": {},
     "output_type": "display_data"
    },
    {
     "data": {
      "text/markdown": [
       "shall cleave to his wife: and they twain shall be one flesh? 19:6 Wherefore they are no more twain, but one flesh. What therefore <span style=\"color: blue\">God hath joined together, let not man put asunder</span>. 19:7 They say unto him, Why did Moses then command to give a writing of divorcement, and to put her away? 19:8 He saith unto them, Moses because of the hardness"
      ],
      "text/plain": [
       "<IPython.core.display.Markdown object>"
      ]
     },
     "metadata": {},
     "output_type": "display_data"
    },
    {
     "data": {
      "text/markdown": [
       "### Mary Paget: A Romance of Old Bermuda: By Minna Caroline Smith …"
      ],
      "text/plain": [
       "<IPython.core.display.Markdown object>"
      ]
     },
     "metadata": {},
     "output_type": "display_data"
    },
    {
     "data": {
      "text/markdown": [
       "<small>Smith, Minna Caroline</small>"
      ],
      "text/plain": [
       "<IPython.core.display.Markdown object>"
      ]
     },
     "metadata": {},
     "output_type": "display_data"
    },
    {
     "data": {
      "text/markdown": [
       "Paget, who rose at that moment, again taking my hand in his own. “ Then has not God already united us two ? ” I asked. “ Whom <span style=\"color: blue\">God hath joined together, let not man put asunder</span>! ” cried Master Dwight, with a sudden rush of sympathy, uttering in his emotion the words of the marriage"
      ],
      "text/plain": [
       "<IPython.core.display.Markdown object>"
      ]
     },
     "metadata": {},
     "output_type": "display_data"
    },
    {
     "name": "stdout",
     "output_type": "stream",
     "text": [
      "--------------------------------------------------\n"
     ]
    },
    {
     "data": {
      "text/markdown": [
       "### King James Bible"
      ],
      "text/plain": [
       "<IPython.core.display.Markdown object>"
      ]
     },
     "metadata": {},
     "output_type": "display_data"
    },
    {
     "data": {
      "text/markdown": [
       "wisdom. 13:11 Wealth gotten by vanity shall be diminished: but he that gathereth by labour shall increase. 13:12 <span style=\"color: blue\">Hope deferred maketh the heart sick</span>: but when the desire cometh, it is a tree of life. 13:13 Whoso despiseth the word shall be destroyed: but he that feareth the commandment"
      ],
      "text/plain": [
       "<IPython.core.display.Markdown object>"
      ]
     },
     "metadata": {},
     "output_type": "display_data"
    },
    {
     "data": {
      "text/markdown": [
       "### A Fortunate Failure: By Caroline B. Le Row"
      ],
      "text/plain": [
       "<IPython.core.display.Markdown object>"
      ]
     },
     "metadata": {},
     "output_type": "display_data"
    },
    {
     "data": {
      "text/markdown": [
       "<small>Lerow, Caroline B. (Caroline Bigelow)</small>"
      ],
      "text/plain": [
       "<IPython.core.display.Markdown object>"
      ]
     },
     "metadata": {},
     "output_type": "display_data"
    },
    {
     "data": {
      "text/markdown": [
       "specified. He had been disappointed in the result of his trip, he had been disappointed about the same matter a good many times before, and was proving the truth, that u <span style=\"color: blue\">hope deferred maketh the heart sick</span>.” Some¬ thing of his buoyancy of spirit, his natural cheerful¬ ness of manner was lacking, as he came into the little sitting-room"
      ],
      "text/plain": [
       "<IPython.core.display.Markdown object>"
      ]
     },
     "metadata": {},
     "output_type": "display_data"
    },
    {
     "name": "stdout",
     "output_type": "stream",
     "text": [
      "--------------------------------------------------\n"
     ]
    },
    {
     "data": {
      "text/markdown": [
       "### King James Bible"
      ],
      "text/plain": [
       "<IPython.core.display.Markdown object>"
      ]
     },
     "metadata": {},
     "output_type": "display_data"
    },
    {
     "data": {
      "text/markdown": [
       "saith the LORD that created thee, O Jacob, and he that formed thee, O Israel, <span style=\"color: blue\">Fear not: for I have redeemed thee, I have called thee</span> by thy name; thou art mine. 43:2 When thou passest through the waters, I will be with thee; and through the rivers"
      ],
      "text/plain": [
       "<IPython.core.display.Markdown object>"
      ]
     },
     "metadata": {},
     "output_type": "display_data"
    },
    {
     "data": {
      "text/markdown": [
       "### A Fortunate Failure: By Caroline B. Le Row"
      ],
      "text/plain": [
       "<IPython.core.display.Markdown object>"
      ]
     },
     "metadata": {},
     "output_type": "display_data"
    },
    {
     "data": {
      "text/markdown": [
       "<small>Lerow, Caroline B. (Caroline Bigelow)</small>"
      ],
      "text/plain": [
       "<IPython.core.display.Markdown object>"
      ]
     },
     "metadata": {},
     "output_type": "display_data"
    },
    {
     "data": {
      "text/markdown": [
       "shuddered as she closed the book and laid it aside. Her Bible lay near by. She took that . up, in turn : — “ <span style=\"color: blue\">Fear not, for I have redeemed thee ; I have called thee</span> by my name ; thou art mine. “ When thou passest through the waters, I will be with thee ; and through the rivers, they shall"
      ],
      "text/plain": [
       "<IPython.core.display.Markdown object>"
      ]
     },
     "metadata": {},
     "output_type": "display_data"
    },
    {
     "name": "stdout",
     "output_type": "stream",
     "text": [
      "--------------------------------------------------\n"
     ]
    },
    {
     "data": {
      "text/markdown": [
       "### King James Bible"
      ],
      "text/plain": [
       "<IPython.core.display.Markdown object>"
      ]
     },
     "metadata": {},
     "output_type": "display_data"
    },
    {
     "data": {
      "text/markdown": [
       "formed thee, O Israel, Fear not: for I have redeemed thee, I have called thee by thy <span style=\"color: blue\">name; thou art mine. 43:2 When thou passest through the waters, I will be with thee; and through the rivers, they shall not overflow thee: when thou walkest through the fire, thou shalt not be burned; neither shall the flame kindle upon thee</span>. 43:3 For I am the LORD thy God, the Holy One of Israel, thy Saviour: I gave Egypt for thy"
      ],
      "text/plain": [
       "<IPython.core.display.Markdown object>"
      ]
     },
     "metadata": {},
     "output_type": "display_data"
    },
    {
     "data": {
      "text/markdown": [
       "### A Fortunate Failure: By Caroline B. Le Row"
      ],
      "text/plain": [
       "<IPython.core.display.Markdown object>"
      ]
     },
     "metadata": {},
     "output_type": "display_data"
    },
    {
     "data": {
      "text/markdown": [
       "<small>Lerow, Caroline B. (Caroline Bigelow)</small>"
      ],
      "text/plain": [
       "<IPython.core.display.Markdown object>"
      ]
     },
     "metadata": {},
     "output_type": "display_data"
    },
    {
     "data": {
      "text/markdown": [
       "Bible lay near by. She took that . up, in turn : — “ Fear not, for I have redeemed thee ; I have called thee by my <span style=\"color: blue\">name ; thou art mine. “ When thou passest through the waters, I will be with thee ; and through the rivers, they shall not overflow thee ; when thou walkest through the fire, thou shalt not be burned ; neither shall the flame kindle upon thee</span>.” “ Oh, if one could only believe,” she sighed, as she laid her tired head down upon the pillow. “ Can it be possible that 1 all things work together for good ? * ” It was a year that day since"
      ],
      "text/plain": [
       "<IPython.core.display.Markdown object>"
      ]
     },
     "metadata": {},
     "output_type": "display_data"
    },
    {
     "name": "stdout",
     "output_type": "stream",
     "text": [
      "--------------------------------------------------\n"
     ]
    },
    {
     "data": {
      "text/markdown": [
       "### King James Bible"
      ],
      "text/plain": [
       "<IPython.core.display.Markdown object>"
      ]
     },
     "metadata": {},
     "output_type": "display_data"
    },
    {
     "data": {
      "text/markdown": [
       "glory of the sun, and another glory of the moon, and another glory of the stars: for one star differeth from another star in glory. 15:42 So also is the <span style=\"color: blue\">resurrection of the dead. It is sown in corruption; it is raised in incorruption: 15:43 It is sown</span> in dishonour; it is raised in glory: it is sown in weakness; it is raised in power: 15:44 It is sown a natural body"
      ],
      "text/plain": [
       "<IPython.core.display.Markdown object>"
      ]
     },
     "metadata": {},
     "output_type": "display_data"
    },
    {
     "data": {
      "text/markdown": [
       "### A Fortunate Failure: By Caroline B. Le Row"
      ],
      "text/plain": [
       "<IPython.core.display.Markdown object>"
      ]
     },
     "metadata": {},
     "output_type": "display_data"
    },
    {
     "data": {
      "text/markdown": [
       "<small>Lerow, Caroline B. (Caroline Bigelow)</small>"
      ],
      "text/plain": [
       "<IPython.core.display.Markdown object>"
      ]
     },
     "metadata": {},
     "output_type": "display_data"
    },
    {
     "data": {
      "text/markdown": [
       "heads outside the doors, with bowed faces, listening intently to the murmured words within : “ So also is the <span style=\"color: blue\">resurrection of the dead. It is sown in corruption, it is raised in incorruption ; it is sown</span> in dishonor, it is raised in glory ; it is sown in weakness, it is raised in power; it is sown a natural body"
      ],
      "text/plain": [
       "<IPython.core.display.Markdown object>"
      ]
     },
     "metadata": {},
     "output_type": "display_data"
    },
    {
     "name": "stdout",
     "output_type": "stream",
     "text": [
      "--------------------------------------------------\n"
     ]
    },
    {
     "data": {
      "text/markdown": [
       "### King James Bible"
      ],
      "text/plain": [
       "<IPython.core.display.Markdown object>"
      ]
     },
     "metadata": {},
     "output_type": "display_data"
    },
    {
     "data": {
      "text/markdown": [
       "star in glory. 15:42 So also is the resurrection of the dead. It is sown in corruption; it is raised in incorruption: 15:43 It is sown in dishonour; it is <span style=\"color: blue\">raised in glory: it is sown in weakness; it is raised in power: 15:44 It is sown a natural body; it is raised a spiritual body</span>. There is a natural body, and there is a spiritual body. 15:45 And so it is written, The first man Adam was made a living soul; the last Adam was made a quickening"
      ],
      "text/plain": [
       "<IPython.core.display.Markdown object>"
      ]
     },
     "metadata": {},
     "output_type": "display_data"
    },
    {
     "data": {
      "text/markdown": [
       "### A Fortunate Failure: By Caroline B. Le Row"
      ],
      "text/plain": [
       "<IPython.core.display.Markdown object>"
      ]
     },
     "metadata": {},
     "output_type": "display_data"
    },
    {
     "data": {
      "text/markdown": [
       "<small>Lerow, Caroline B. (Caroline Bigelow)</small>"
      ],
      "text/plain": [
       "<IPython.core.display.Markdown object>"
      ]
     },
     "metadata": {},
     "output_type": "display_data"
    },
    {
     "data": {
      "text/markdown": [
       "words within : “ So also is the resurrection of the dead. It is sown in corruption, it is raised in incorruption ; it is sown in dishonor, it is <span style=\"color: blue\">raised in glory ; it is sown in weakness, it is raised in power; it is sown a natural body, it is raised a spiritual body</span>.” A long procession moved slowly over the dry, dusty hills, under the burning sun, to the Ripton"
      ],
      "text/plain": [
       "<IPython.core.display.Markdown object>"
      ]
     },
     "metadata": {},
     "output_type": "display_data"
    },
    {
     "name": "stdout",
     "output_type": "stream",
     "text": [
      "--------------------------------------------------\n"
     ]
    },
    {
     "data": {
      "text/markdown": [
       "### King James Bible"
      ],
      "text/plain": [
       "<IPython.core.display.Markdown object>"
      ]
     },
     "metadata": {},
     "output_type": "display_data"
    },
    {
     "data": {
      "text/markdown": [
       "young ones shall lie down together: and the lion shall eat straw like the ox. 11:8 And the <span style=\"color: blue\">sucking child shall play on the hole of the asp, and the weaned child shall put his hand on the cockatrice</span>' den. 11:9 They shall not hurt nor destroy in all my holy mountain: for the earth shall be full"
      ],
      "text/plain": [
       "<IPython.core.display.Markdown object>"
      ]
     },
     "metadata": {},
     "output_type": "display_data"
    },
    {
     "data": {
      "text/markdown": [
       "### The Saint of the Dragon's Dale: A Fantastic Tale"
      ],
      "text/plain": [
       "<IPython.core.display.Markdown object>"
      ]
     },
     "metadata": {},
     "output_type": "display_data"
    },
    {
     "data": {
      "text/markdown": [
       "<small>Davis, William Stearns</small>"
      ],
      "text/plain": [
       "<IPython.core.display.Markdown object>"
      ]
     },
     "metadata": {},
     "output_type": "display_data"
    },
    {
     "data": {
      "text/markdown": [
       "ight of a noxious beast and of a mortal maid ! Nevertheless, as he stood over them, these were the words which seemed sounding. “ And the s <span style=\"color: blue\">ucking child shall play on the hole of the asp, and the weaned child shall put his hand on the cockatrice'</span> s den; they shall not hurt nor destroy in all my holy mountain .” But Jerome only told"
      ],
      "text/plain": [
       "<IPython.core.display.Markdown object>"
      ]
     },
     "metadata": {},
     "output_type": "display_data"
    },
    {
     "name": "stdout",
     "output_type": "stream",
     "text": [
      "--------------------------------------------------\n"
     ]
    },
    {
     "data": {
      "text/markdown": [
       "### King James Bible"
      ],
      "text/plain": [
       "<IPython.core.display.Markdown object>"
      ]
     },
     "metadata": {},
     "output_type": "display_data"
    },
    {
     "data": {
      "text/markdown": [
       "shall play on the hole of the asp, and the weaned child shall put his hand on the cockatrice' <span style=\"color: blue\">den. 11:9 They shall not hurt nor destroy in all my holy mountain</span>: for the earth shall be full of the knowledge of the LORD, as the waters cover the sea. 11:10 And in that day there shall be a root"
      ],
      "text/plain": [
       "<IPython.core.display.Markdown object>"
      ]
     },
     "metadata": {},
     "output_type": "display_data"
    },
    {
     "data": {
      "text/markdown": [
       "### The Saint of the Dragon's Dale: A Fantastic Tale"
      ],
      "text/plain": [
       "<IPython.core.display.Markdown object>"
      ]
     },
     "metadata": {},
     "output_type": "display_data"
    },
    {
     "data": {
      "text/markdown": [
       "<small>Davis, William Stearns</small>"
      ],
      "text/plain": [
       "<IPython.core.display.Markdown object>"
      ]
     },
     "metadata": {},
     "output_type": "display_data"
    },
    {
     "data": {
      "text/markdown": [
       "lay on the hole of the asp, and the weaned child shall put his hand on the cockatrice's d <span style=\"color: blue\">en; they shall not hurt nor destroy in all my holy mountain</span>.” But Jerome only told himself that Satan could wrest Scripture as fairly as an angel ; then fortified against"
      ],
      "text/plain": [
       "<IPython.core.display.Markdown object>"
      ]
     },
     "metadata": {},
     "output_type": "display_data"
    },
    {
     "name": "stdout",
     "output_type": "stream",
     "text": [
      "--------------------------------------------------\n"
     ]
    },
    {
     "data": {
      "text/markdown": [
       "### King James Bible"
      ],
      "text/plain": [
       "<IPython.core.display.Markdown object>"
      ]
     },
     "metadata": {},
     "output_type": "display_data"
    },
    {
     "data": {
      "text/markdown": [
       "shall not be clear, nor dark: 14:7 But it shall be one day which shall be known to the LORD, not day, nor night: but it <span style=\"color: blue\">shall come to pass, that at evening time it shall be light</span>. 14:8 And it shall be in that day, that living waters shall go out from Jerusalem; half of them toward the former sea, and half"
      ],
      "text/plain": [
       "<IPython.core.display.Markdown object>"
      ]
     },
     "metadata": {},
     "output_type": "display_data"
    },
    {
     "data": {
      "text/markdown": [
       "### The Saint of the Dragon's Dale: A Fantastic Tale"
      ],
      "text/plain": [
       "<IPython.core.display.Markdown object>"
      ]
     },
     "metadata": {},
     "output_type": "display_data"
    },
    {
     "data": {
      "text/markdown": [
       "<small>Davis, William Stearns</small>"
      ],
      "text/plain": [
       "<IPython.core.display.Markdown object>"
      ]
     },
     "metadata": {},
     "output_type": "display_data"
    },
    {
     "data": {
      "text/markdown": [
       "airo, — I know them all. I have suf¬ fered and sorrowed, in pain and in darkness, but at the end, at the end, — ” and his face 125 glowed with it sinbom brightness,—“ it s <span style=\"color: blue\">hall come to pass, that at evening time there shall be light!</span>” ****** They found him in the morning sleeping. Maid Agnes wept for long. Graf Ludwig was shut within"
      ],
      "text/plain": [
       "<IPython.core.display.Markdown object>"
      ]
     },
     "metadata": {},
     "output_type": "display_data"
    },
    {
     "name": "stdout",
     "output_type": "stream",
     "text": [
      "--------------------------------------------------\n"
     ]
    },
    {
     "data": {
      "text/markdown": [
       "### King James Bible"
      ],
      "text/plain": [
       "<IPython.core.display.Markdown object>"
      ]
     },
     "metadata": {},
     "output_type": "display_data"
    },
    {
     "data": {
      "text/markdown": [
       "O my father. And Esau lifted up his voice, and wept. 27:39 And Isaac his father answered and said unto him, <span style=\"color: blue\">Behold, thy dwelling shall be the fatness of the earth, and of the dew of heaven from above</span>; 27:40 And by thy sword shalt thou live, and shalt serve thy brother; and it shall"
      ],
      "text/plain": [
       "<IPython.core.display.Markdown object>"
      ]
     },
     "metadata": {},
     "output_type": "display_data"
    },
    {
     "data": {
      "text/markdown": [
       "### A Sister to Esau: By Amelia E. Barr"
      ],
      "text/plain": [
       "<IPython.core.display.Markdown object>"
      ]
     },
     "metadata": {},
     "output_type": "display_data"
    },
    {
     "data": {
      "text/markdown": [
       "<small>Barr, Amelia E.</small>"
      ],
      "text/plain": [
       "<IPython.core.display.Markdown object>"
      ]
     },
     "metadata": {},
     "output_type": "display_data"
    },
    {
     "data": {
      "text/markdown": [
       "moment or two he looked into her face smiling, and said : “ If you are a sister to Esau, Scotia, you have a very fine inheritance. Here it is promised : <span style=\"color: blue\">Behold, thy dwelling shall be the fatness of the earth , and of the dew of heaven from above</span>.\" And Lady Yarrow was silent, but she stooped and kissed Scotia ; and Bruce kissed her ; and Ann kissed"
      ],
      "text/plain": [
       "<IPython.core.display.Markdown object>"
      ]
     },
     "metadata": {},
     "output_type": "display_data"
    },
    {
     "name": "stdout",
     "output_type": "stream",
     "text": [
      "--------------------------------------------------\n"
     ]
    },
    {
     "data": {
      "text/markdown": [
       "### King James Bible"
      ],
      "text/plain": [
       "<IPython.core.display.Markdown object>"
      ]
     },
     "metadata": {},
     "output_type": "display_data"
    },
    {
     "data": {
      "text/markdown": [
       "sons, saying, On this wise ye shall bless the children of Israel, saying unto them, 6:24 The <span style=\"color: blue\">LORD bless thee, and keep thee: 6:25 The LORD make his face shine upon thee, and be gracious unto thee: 6:26 The LORD lift up his countenance</span> upon thee, and give thee peace. 6:27 And they shall put my name upon the children of Israel"
      ],
      "text/plain": [
       "<IPython.core.display.Markdown object>"
      ]
     },
     "metadata": {},
     "output_type": "display_data"
    },
    {
     "data": {
      "text/markdown": [
       "### Mag: A Story of To-Day"
      ],
      "text/plain": [
       "<IPython.core.display.Markdown object>"
      ]
     },
     "metadata": {},
     "output_type": "display_data"
    },
    {
     "data": {
      "text/markdown": [
       "<small>None</small>"
      ],
      "text/plain": [
       "<IPython.core.display.Markdown object>"
      ]
     },
     "metadata": {},
     "output_type": "display_data"
    },
    {
     "data": {
      "text/markdown": [
       "rtie continued : “Unto God’s gracious mercy and protection we commit thee. The Lo <span style=\"color: blue\">rd bless thee, and keep thee; the Lord make his face to shine upon thee, and be gracious unto thee; the Lord lift up his countenance o</span> n thee, and givo thee peace both now and evermore.” “ Amen !” came from the beds of the sick women ;"
      ],
      "text/plain": [
       "<IPython.core.display.Markdown object>"
      ]
     },
     "metadata": {},
     "output_type": "display_data"
    },
    {
     "name": "stdout",
     "output_type": "stream",
     "text": [
      "--------------------------------------------------\n"
     ]
    },
    {
     "data": {
      "text/markdown": [
       "### King James Bible"
      ],
      "text/plain": [
       "<IPython.core.display.Markdown object>"
      ]
     },
     "metadata": {},
     "output_type": "display_data"
    },
    {
     "data": {
      "text/markdown": [
       "LORD art seen face to face, and that thy cloud standeth over them, and that thou goest before them, by day time in a <span style=\"color: blue\">pillar of a cloud, and in a pillar of fire by night</span>. 14:15 Now if thou shalt kill all this people as one man, then the nations which have heard the fame of thee will speak, saying, 14:16 Because the LORD"
      ],
      "text/plain": [
       "<IPython.core.display.Markdown object>"
      ]
     },
     "metadata": {},
     "output_type": "display_data"
    },
    {
     "data": {
      "text/markdown": [
       "### The Battle-Day of Germantown: George Lippard"
      ],
      "text/plain": [
       "<IPython.core.display.Markdown object>"
      ]
     },
     "metadata": {},
     "output_type": "display_data"
    },
    {
     "data": {
      "text/markdown": [
       "<small>Lippard, George</small>"
      ],
      "text/plain": [
       "<IPython.core.display.Markdown object>"
      ]
     },
     "metadata": {},
     "output_type": "display_data"
    },
    {
     "data": {
      "text/markdown": [
       "un¬ sellors, stir them up to greater deeds even than the deeds they have already done, let thy presence be with our host, a pi <span style=\"color: blue\">llar of cloud by day and a pillar of fire by night.</span> And at last, when our calling shall have been· fulfilled, when we have done and suffered thy will here below, receive us into the Rest of the Blessed.. So shall i"
      ],
      "text/plain": [
       "<IPython.core.display.Markdown object>"
      ]
     },
     "metadata": {},
     "output_type": "display_data"
    },
    {
     "name": "stdout",
     "output_type": "stream",
     "text": [
      "--------------------------------------------------\n"
     ]
    },
    {
     "data": {
      "text/markdown": [
       "### King James Bible"
      ],
      "text/plain": [
       "<IPython.core.display.Markdown object>"
      ]
     },
     "metadata": {},
     "output_type": "display_data"
    },
    {
     "data": {
      "text/markdown": [
       "sheep's clothing, but inwardly they are ravening wolves. 7:16 Ye shall know them by their fruits. Do men <span style=\"color: blue\">gather grapes of thorns, or figs of thistles</span>? 7:17 Even so every good tree bringeth forth good fruit; but a corrupt tree bringeth forth evil fruit"
      ],
      "text/plain": [
       "<IPython.core.display.Markdown object>"
      ]
     },
     "metadata": {},
     "output_type": "display_data"
    },
    {
     "data": {
      "text/markdown": [
       "### Jocelyn West: A Tale of the Grand Canon: By Katharine Sharp"
      ],
      "text/plain": [
       "<IPython.core.display.Markdown object>"
      ]
     },
     "metadata": {},
     "output_type": "display_data"
    },
    {
     "data": {
      "text/markdown": [
       "<small>Sharp, Katharine</small>"
      ],
      "text/plain": [
       "<IPython.core.display.Markdown object>"
      ]
     },
     "metadata": {},
     "output_type": "display_data"
    },
    {
     "data": {
      "text/markdown": [
       "sinister tenor. “An eye for an eye”; “Whatsoever ye sow, the same shall ye reap”; “Can you <span style=\"color: blue\">gather grapes from thorns or figs from thistles</span>?” “The wages of sin is death.” The wages of sin is death. He was about to pay that fatal wage. Yet"
      ],
      "text/plain": [
       "<IPython.core.display.Markdown object>"
      ]
     },
     "metadata": {},
     "output_type": "display_data"
    },
    {
     "name": "stdout",
     "output_type": "stream",
     "text": [
      "--------------------------------------------------\n"
     ]
    },
    {
     "data": {
      "text/markdown": [
       "### King James Bible"
      ],
      "text/plain": [
       "<IPython.core.display.Markdown object>"
      ]
     },
     "metadata": {},
     "output_type": "display_data"
    },
    {
     "data": {
      "text/markdown": [
       "thy mother brought thee forth: there she brought thee forth that bare thee. 8:6 <span style=\"color: blue\">Set me as a seal upon thine heart, as a seal upon thine arm: for love is strong as death</span>; jealousy is cruel as the grave: the coals thereof are coals of fire, which hath a most vehement flame"
      ],
      "text/plain": [
       "<IPython.core.display.Markdown object>"
      ]
     },
     "metadata": {},
     "output_type": "display_data"
    },
    {
     "data": {
      "text/markdown": [
       "### The Witch of Golgotha: By B. Pesh-Mal-Yan"
      ],
      "text/plain": [
       "<IPython.core.display.Markdown object>"
      ]
     },
     "metadata": {},
     "output_type": "display_data"
    },
    {
     "data": {
      "text/markdown": [
       "<small>Pesh-Mal-Yan, B. (Baruyr)</small>"
      ],
      "text/plain": [
       "<IPython.core.display.Markdown object>"
      ]
     },
     "metadata": {},
     "output_type": "display_data"
    },
    {
     "data": {
      "text/markdown": [
       "sound of a seraph’s harp ; and Hootah, for the first time in his wild life, wept as he lis¬ tened to the words: “ <span style=\"color: blue\">Set me as a seal upon thine heart, As a seal upon thine arm, For love is strong as death</span>. Many waters cannot quench love, Neither can the floods drown it. If a man give all his possessions for love, It would be utterly condemned.” “Oh, what a wonderful"
      ],
      "text/plain": [
       "<IPython.core.display.Markdown object>"
      ]
     },
     "metadata": {},
     "output_type": "display_data"
    },
    {
     "name": "stdout",
     "output_type": "stream",
     "text": [
      "--------------------------------------------------\n"
     ]
    },
    {
     "data": {
      "text/markdown": [
       "### King James Bible"
      ],
      "text/plain": [
       "<IPython.core.display.Markdown object>"
      ]
     },
     "metadata": {},
     "output_type": "display_data"
    },
    {
     "data": {
      "text/markdown": [
       "jealousy is cruel as the grave: the coals thereof are coals of fire, which hath a most vehement flame. 8:7 Many <span style=\"color: blue\">waters cannot quench love, neither can the floods drown</span> it: if a man would give all the substance of his house for love, it would utterly be contemned. 8:8 We have a little sister, and she hath no breasts: what shall we do for our sister in the day when she shall be spoken"
      ],
      "text/plain": [
       "<IPython.core.display.Markdown object>"
      ]
     },
     "metadata": {},
     "output_type": "display_data"
    },
    {
     "data": {
      "text/markdown": [
       "### The Witch of Golgotha: By B. Pesh-Mal-Yan"
      ],
      "text/plain": [
       "<IPython.core.display.Markdown object>"
      ]
     },
     "metadata": {},
     "output_type": "display_data"
    },
    {
     "data": {
      "text/markdown": [
       "<small>Pesh-Mal-Yan, B. (Baruyr)</small>"
      ],
      "text/plain": [
       "<IPython.core.display.Markdown object>"
      ]
     },
     "metadata": {},
     "output_type": "display_data"
    },
    {
     "data": {
      "text/markdown": [
       "seal upon thine heart, As a seal upon thine arm, For love is strong as death. Many <span style=\"color: blue\">waters cannot quench love, Neither can the floods drown</span> it. If a man give all his possessions for love, It would be utterly condemned.” “Oh, what a wonderful voice ! what a beautiful expression of love ! God of Abraham, what a des"
      ],
      "text/plain": [
       "<IPython.core.display.Markdown object>"
      ]
     },
     "metadata": {},
     "output_type": "display_data"
    },
    {
     "name": "stdout",
     "output_type": "stream",
     "text": [
      "--------------------------------------------------\n"
     ]
    },
    {
     "data": {
      "text/markdown": [
       "### King James Bible"
      ],
      "text/plain": [
       "<IPython.core.display.Markdown object>"
      ]
     },
     "metadata": {},
     "output_type": "display_data"
    },
    {
     "data": {
      "text/markdown": [
       "unto them: for your Father knoweth what things ye have need of, before ye ask him. 6:9 After this manner therefore pray ye: Our <span style=\"color: blue\">Father which art in heaven, Hallowed be thy name. 6:10 Thy kingdom come, Thy</span> will be done in earth, as it is in heaven. 6:11 Give us this day our daily bread. 6:12 And forgive us our debts, as we forgive our debtors. 6:13 And lead us not into temptation"
      ],
      "text/plain": [
       "<IPython.core.display.Markdown object>"
      ]
     },
     "metadata": {},
     "output_type": "display_data"
    },
    {
     "data": {
      "text/markdown": [
       "### The Witch of Golgotha: By B. Pesh-Mal-Yan"
      ],
      "text/plain": [
       "<IPython.core.display.Markdown object>"
      ]
     },
     "metadata": {},
     "output_type": "display_data"
    },
    {
     "data": {
      "text/markdown": [
       "<small>Pesh-Mal-Yan, B. (Baruyr)</small>"
      ],
      "text/plain": [
       "<IPython.core.display.Markdown object>"
      ]
     },
     "metadata": {},
     "output_type": "display_data"
    },
    {
     "data": {
      "text/markdown": [
       "pray, but what man¬ ner of prayer shall I offer?” “The prayer of the great Prophet,” was the en¬ couraging answer. “And what is it?” “Our <span style=\"color: blue\">father, who art in Heaven, hallowed be Thy name ; Thy Kingdom come, Thy</span> will be done !” “That will do for a beginning, I cannot re¬ member more,” protested the giant, thinking that he was losing valuable time, when he might be engaged"
      ],
      "text/plain": [
       "<IPython.core.display.Markdown object>"
      ]
     },
     "metadata": {},
     "output_type": "display_data"
    },
    {
     "name": "stdout",
     "output_type": "stream",
     "text": [
      "--------------------------------------------------\n"
     ]
    },
    {
     "data": {
      "text/markdown": [
       "### King James Bible"
      ],
      "text/plain": [
       "<IPython.core.display.Markdown object>"
      ]
     },
     "metadata": {},
     "output_type": "display_data"
    },
    {
     "data": {
      "text/markdown": [
       "unto him, Lord, teach us to pray, as John also taught his disciples. 11:2 And he said unto them, When ye pray, say, Our <span style=\"color: blue\">Father which art in heaven, Hallowed be thy name. Thy kingdom come. Thy</span> will be done, as in heaven, so in earth. 11:3 Give us day by day our daily bread. 11:4 And forgive us our sins; for we also forgive every one that is indebted to us. And lead us not into temptation"
      ],
      "text/plain": [
       "<IPython.core.display.Markdown object>"
      ]
     },
     "metadata": {},
     "output_type": "display_data"
    },
    {
     "data": {
      "text/markdown": [
       "### The Witch of Golgotha: By B. Pesh-Mal-Yan"
      ],
      "text/plain": [
       "<IPython.core.display.Markdown object>"
      ]
     },
     "metadata": {},
     "output_type": "display_data"
    },
    {
     "data": {
      "text/markdown": [
       "<small>Pesh-Mal-Yan, B. (Baruyr)</small>"
      ],
      "text/plain": [
       "<IPython.core.display.Markdown object>"
      ]
     },
     "metadata": {},
     "output_type": "display_data"
    },
    {
     "data": {
      "text/markdown": [
       "spoke of his horse. “Go now, tell Quartus not to lose heart, and be you of good cheer, for I will not fail then he added, “Do you know this prayer, Judas?—Our <span style=\"color: blue\">father who art in Heaven, hallowed be Thy name: Thy Kingdom come, Thy</span> will be done,’ do you know this?” “Are you too one of His followers, Ish-Khan Hygazoun?” Judas inquired anxiously, “for that is part of the prayer my Master taught"
      ],
      "text/plain": [
       "<IPython.core.display.Markdown object>"
      ]
     },
     "metadata": {},
     "output_type": "display_data"
    },
    {
     "name": "stdout",
     "output_type": "stream",
     "text": [
      "--------------------------------------------------\n"
     ]
    },
    {
     "data": {
      "text/markdown": [
       "### King James Bible"
      ],
      "text/plain": [
       "<IPython.core.display.Markdown object>"
      ]
     },
     "metadata": {},
     "output_type": "display_data"
    },
    {
     "data": {
      "text/markdown": [
       "prison, and came unto thee? 25:40 And the King shall answer and say unto them, Verily I say unto you, <span style=\"color: blue\">Inasmuch as ye have done it unto one of the least of these my brethren, ye have done it unto</span> me. 25:41 Then shall he say also unto them on the left hand, Depart from me, ye cursed, into everlasting fire, prepared"
      ],
      "text/plain": [
       "<IPython.core.display.Markdown object>"
      ]
     },
     "metadata": {},
     "output_type": "display_data"
    },
    {
     "data": {
      "text/markdown": [
       "### Day Dreams: Alice Brooks"
      ],
      "text/plain": [
       "<IPython.core.display.Markdown object>"
      ]
     },
     "metadata": {},
     "output_type": "display_data"
    },
    {
     "data": {
      "text/markdown": [
       "<small>Brooks, Alice</small>"
      ],
      "text/plain": [
       "<IPython.core.display.Markdown object>"
      ]
     },
     "metadata": {},
     "output_type": "display_data"
    },
    {
     "data": {
      "text/markdown": [
       "wretched childhood has· taught them to receive with a more reverent faith the story of Him “ who had not where to lay his head,” and to comprehend the “ <span style=\"color: blue\">Inasmuch as ye have done it unto the least of these, my brethren, ye have done it unto</span> me.\" My kind friend Mr. G - still lives. He divides his time between Sophie’s happy"
      ],
      "text/plain": [
       "<IPython.core.display.Markdown object>"
      ]
     },
     "metadata": {},
     "output_type": "display_data"
    },
    {
     "name": "stdout",
     "output_type": "stream",
     "text": [
      "--------------------------------------------------\n"
     ]
    },
    {
     "data": {
      "text/markdown": [
       "### King James Bible"
      ],
      "text/plain": [
       "<IPython.core.display.Markdown object>"
      ]
     },
     "metadata": {},
     "output_type": "display_data"
    },
    {
     "data": {
      "text/markdown": [
       "rise again. 11:24 Martha saith unto him, I know that he shall rise again in the resurrection at the last day. 11:25 Jesus said unto her, I am the resurrection, and the life: he that <span style=\"color: blue\">believeth in me, though he were dead, yet shall he live: 11:26 And whosoever liveth and believeth in me shall never die</span>. Believest thou this? 11:27 She saith unto him, Yea, Lord: I believe that thou art the Christ"
      ],
      "text/plain": [
       "<IPython.core.display.Markdown object>"
      ]
     },
     "metadata": {},
     "output_type": "display_data"
    },
    {
     "data": {
      "text/markdown": [
       "### Day Dreams: Alice Brooks"
      ],
      "text/plain": [
       "<IPython.core.display.Markdown object>"
      ]
     },
     "metadata": {},
     "output_type": "display_data"
    },
    {
     "data": {
      "text/markdown": [
       "<small>Brooks, Alice</small>"
      ],
      "text/plain": [
       "<IPython.core.display.Markdown object>"
      ]
     },
     "metadata": {},
     "output_type": "display_data"
    },
    {
     "data": {
      "text/markdown": [
       "fled forever. On my ear fell only the low, solemn chant : “ I am the resurrection and the life, saitli the Lord : he that <span style=\"color: blue\">believeth in me, though he were dead, yet shall he live; and whosoever liveth and believeth in me shall never die</span>.” I stood motionless and still till the voice was hushed, and the silence broken only by the sound of low, suppressed"
      ],
      "text/plain": [
       "<IPython.core.display.Markdown object>"
      ]
     },
     "metadata": {},
     "output_type": "display_data"
    },
    {
     "name": "stdout",
     "output_type": "stream",
     "text": [
      "--------------------------------------------------\n"
     ]
    },
    {
     "data": {
      "text/markdown": [
       "### King James Bible"
      ],
      "text/plain": [
       "<IPython.core.display.Markdown object>"
      ]
     },
     "metadata": {},
     "output_type": "display_data"
    },
    {
     "data": {
      "text/markdown": [
       "fire. 7:10 A fiery stream issued and came forth from before him: thousand thousands ministered unto him, and <span style=\"color: blue\">ten thousand times ten thousand</span> stood before him: the judgment was set, and the books were opened. 7:11 I beheld then because of the voice of the great words which the horn spake"
      ],
      "text/plain": [
       "<IPython.core.display.Markdown object>"
      ]
     },
     "metadata": {},
     "output_type": "display_data"
    },
    {
     "data": {
      "text/markdown": [
       "### Cassimer Saral: A Tale"
      ],
      "text/plain": [
       "<IPython.core.display.Markdown object>"
      ]
     },
     "metadata": {},
     "output_type": "display_data"
    },
    {
     "data": {
      "text/markdown": [
       "<small>None</small>"
      ],
      "text/plain": [
       "<IPython.core.display.Markdown object>"
      ]
     },
     "metadata": {},
     "output_type": "display_data"
    },
    {
     "data": {
      "text/markdown": [
       "spirits. You look very interesting just at this particular moment, Miss Celestine, with that blooming rose upon your cheek—I would give <span style=\"color: blue\">ten thousand times ten thousand</span> worlds for such a heavenly bloom upon my—escutcheon! Ah—and I’ve seen him who would give more than worlds—aye"
      ],
      "text/plain": [
       "<IPython.core.display.Markdown object>"
      ]
     },
     "metadata": {},
     "output_type": "display_data"
    },
    {
     "name": "stdout",
     "output_type": "stream",
     "text": [
      "--------------------------------------------------\n"
     ]
    },
    {
     "data": {
      "text/markdown": [
       "### King James Bible"
      ],
      "text/plain": [
       "<IPython.core.display.Markdown object>"
      ]
     },
     "metadata": {},
     "output_type": "display_data"
    },
    {
     "data": {
      "text/markdown": [
       "earth. 5:11 And I beheld, and I heard the voice of many angels round about the throne and the beasts and the elders: and the number of them was <span style=\"color: blue\">ten thousand times ten thousand</span>, and thousands of thousands; 5:12 Saying with a loud voice, Worthy is the Lamb that was slain to receive power"
      ],
      "text/plain": [
       "<IPython.core.display.Markdown object>"
      ]
     },
     "metadata": {},
     "output_type": "display_data"
    },
    {
     "data": {
      "text/markdown": [
       "### Cassimer Saral: A Tale"
      ],
      "text/plain": [
       "<IPython.core.display.Markdown object>"
      ]
     },
     "metadata": {},
     "output_type": "display_data"
    },
    {
     "data": {
      "text/markdown": [
       "<small>None</small>"
      ],
      "text/plain": [
       "<IPython.core.display.Markdown object>"
      ]
     },
     "metadata": {},
     "output_type": "display_data"
    },
    {
     "data": {
      "text/markdown": [
       "the bracing of asses, and worse than all, the crawling of tics, ai.d the dreadful humming of ten t <span style=\"color: blue\">housand times ten thousand musk</span> etoes. Alas, thought Boone, 4 what a dark twilight for so bright a daw n ! but down rebellious spirit ; le"
      ],
      "text/plain": [
       "<IPython.core.display.Markdown object>"
      ]
     },
     "metadata": {},
     "output_type": "display_data"
    },
    {
     "name": "stdout",
     "output_type": "stream",
     "text": [
      "--------------------------------------------------\n"
     ]
    },
    {
     "data": {
      "text/markdown": [
       "### King James Bible"
      ],
      "text/plain": [
       "<IPython.core.display.Markdown object>"
      ]
     },
     "metadata": {},
     "output_type": "display_data"
    },
    {
     "data": {
      "text/markdown": [
       "Elim and Sinai, on the fifteenth day of the second month after their departing out of the land of Egypt. 16:2 And the whole congregation of the <span style=\"color: blue\">children of Israel murmured against Moses</span> and Aaron in the wilderness: 16:3 And the children of Israel said unto them, Would to God we had died by the hand of the LORD in the land"
      ],
      "text/plain": [
       "<IPython.core.display.Markdown object>"
      ]
     },
     "metadata": {},
     "output_type": "display_data"
    },
    {
     "data": {
      "text/markdown": [
       "### The Wars of Peace: By A. F. Wilson; Illustrated by H. C. Ireland"
      ],
      "text/plain": [
       "<IPython.core.display.Markdown object>"
      ]
     },
     "metadata": {},
     "output_type": "display_data"
    },
    {
     "data": {
      "text/markdown": [
       "<small>Wilson, A. F. (Anne Florence)</small>"
      ],
      "text/plain": [
       "<IPython.core.display.Markdown object>"
      ]
     },
     "metadata": {},
     "output_type": "display_data"
    },
    {
     "data": {
      "text/markdown": [
       "combine would bring fright¬ ful suffering. One has to judge of these things sometimes — even at the risk of misapprehen¬ sion.” г “ The <span style=\"color: blue\">children of Israel murmured against Moses</span>, you know,” Burkhardt added quietly. “ I can understand how hard it must be, though of course only partially. One who has had to do with money all one’s"
      ],
      "text/plain": [
       "<IPython.core.display.Markdown object>"
      ]
     },
     "metadata": {},
     "output_type": "display_data"
    },
    {
     "name": "stdout",
     "output_type": "stream",
     "text": [
      "--------------------------------------------------\n"
     ]
    },
    {
     "data": {
      "text/markdown": [
       "### King James Bible"
      ],
      "text/plain": [
       "<IPython.core.display.Markdown object>"
      ]
     },
     "metadata": {},
     "output_type": "display_data"
    },
    {
     "data": {
      "text/markdown": [
       "upon your bed, and be still. Selah. 4:5 Offer the sacrifices of righteousness, and put your trust in the LORD. 4:6 There be many that say, Who will shew us any good? <span style=\"color: blue\">LORD, lift thou up the light of thy countenance upon</span> us. 4:7 Thou hast put gladness in my heart, more than in the time that their corn and their wine increased. 4:8 I will both lay me down in peace"
      ],
      "text/plain": [
       "<IPython.core.display.Markdown object>"
      ]
     },
     "metadata": {},
     "output_type": "display_data"
    },
    {
     "data": {
      "text/markdown": [
       "### Hiram Gray: The Rebel Christian: By Jonathan Wood"
      ],
      "text/plain": [
       "<IPython.core.display.Markdown object>"
      ]
     },
     "metadata": {},
     "output_type": "display_data"
    },
    {
     "data": {
      "text/markdown": [
       "<small>Wood, Jon</small>"
      ],
      "text/plain": [
       "<IPython.core.display.Markdown object>"
      ]
     },
     "metadata": {},
     "output_type": "display_data"
    },
    {
     "data": {
      "text/markdown": [
       "lo-ove, There’ll be-e no pa-r-ting there.” CHAPTER II “Who will show us any good? <span style=\"color: blue\">Lord, lift thou up the light of thy countenance upon</span> us.”— Psalmist. Religiously, things were getting interesting in the Gray home. We are telling secrets now; but we are relating no new thing. “Is there any¬ thing whereof it may be said, see, this is new?” There were sores"
      ],
      "text/plain": [
       "<IPython.core.display.Markdown object>"
      ]
     },
     "metadata": {},
     "output_type": "display_data"
    },
    {
     "name": "stdout",
     "output_type": "stream",
     "text": [
      "--------------------------------------------------\n"
     ]
    },
    {
     "data": {
      "text/markdown": [
       "### King James Bible"
      ],
      "text/plain": [
       "<IPython.core.display.Markdown object>"
      ]
     },
     "metadata": {},
     "output_type": "display_data"
    },
    {
     "data": {
      "text/markdown": [
       "destroyer. 28:25 He that is of a proud heart stirreth up strife: but he that putteth his trust in the LORD shall be made fat. 28:26 He that <span style=\"color: blue\">trusteth in his own heart is a fool: but whoso walketh wisely, he shall be delivered</span>. 28:27 He that giveth unto the poor shall not lack: but he that hideth his eyes shall have many a curse. 28:28 When the wicked"
      ],
      "text/plain": [
       "<IPython.core.display.Markdown object>"
      ]
     },
     "metadata": {},
     "output_type": "display_data"
    },
    {
     "data": {
      "text/markdown": [
       "### Hiram Gray: The Rebel Christian: By Jonathan Wood"
      ],
      "text/plain": [
       "<IPython.core.display.Markdown object>"
      ]
     },
     "metadata": {},
     "output_type": "display_data"
    },
    {
     "data": {
      "text/markdown": [
       "<small>Wood, Jon</small>"
      ],
      "text/plain": [
       "<IPython.core.display.Markdown object>"
      ]
     },
     "metadata": {},
     "output_type": "display_data"
    },
    {
     "data": {
      "text/markdown": [
       "mere form, when in truth it makes no difference how we’re baptized so the heart is right.” “And there you go again with the wrong end first. The heart is not right! ‘He that <span style=\"color: blue\">trusteth in his own heart is a fool ; but whoso walketh wisely, he shall be delivered</span>.’ Stop, I tell ye, a-looking at ye heart and look some to ye feet. ‘Walk!’ ‘Walk’ a little, won"
      ],
      "text/plain": [
       "<IPython.core.display.Markdown object>"
      ]
     },
     "metadata": {},
     "output_type": "display_data"
    },
    {
     "name": "stdout",
     "output_type": "stream",
     "text": [
      "--------------------------------------------------\n"
     ]
    },
    {
     "data": {
      "text/markdown": [
       "### King James Bible"
      ],
      "text/plain": [
       "<IPython.core.display.Markdown object>"
      ]
     },
     "metadata": {},
     "output_type": "display_data"
    },
    {
     "data": {
      "text/markdown": [
       "tender plant, and as a root out of a dry ground: he hath no form nor comeliness; and when we shall see him, there is no <span style=\"color: blue\">beauty that we should desire him. 53:3 He is despised and rejected of men; a man of sorrows, and acquainted with grief: and we hid as it were our faces from him; he was despised, and we esteemed</span> him not. 53:4 Surely he hath borne our griefs, and carried our sorrows: yet we did esteem him stricken, smitten"
      ],
      "text/plain": [
       "<IPython.core.display.Markdown object>"
      ]
     },
     "metadata": {},
     "output_type": "display_data"
    },
    {
     "data": {
      "text/markdown": [
       "### Hiram Gray: The Rebel Christian: By Jonathan Wood"
      ],
      "text/plain": [
       "<IPython.core.display.Markdown object>"
      ]
     },
     "metadata": {},
     "output_type": "display_data"
    },
    {
     "data": {
      "text/markdown": [
       "<small>Wood, Jon</small>"
      ],
      "text/plain": [
       "<IPython.core.display.Markdown object>"
      ]
     },
     "metadata": {},
     "output_type": "display_data"
    },
    {
     "data": {
      "text/markdown": [
       "knew Him not. He came unto His own, and His own received Him not. He was as a root out of a dry ground. He had no form nor comeliness, and no <span style=\"color: blue\">beauty that we should desire Him. He is despised and rejected of men; a man of sorrows and acquainted with grief; and we hid as it were our faces from Him; He was despised and we esteemed</span> Him not. The least?” (Rom. 9:33; Acts 4:11; Mat. 21:33-42.) “Ah me,” said Mr. Gray, sorrowfully. “The ‘least,’ the ‘least"
      ],
      "text/plain": [
       "<IPython.core.display.Markdown object>"
      ]
     },
     "metadata": {},
     "output_type": "display_data"
    },
    {
     "name": "stdout",
     "output_type": "stream",
     "text": [
      "--------------------------------------------------\n"
     ]
    },
    {
     "data": {
      "text/markdown": [
       "### King James Bible"
      ],
      "text/plain": [
       "<IPython.core.display.Markdown object>"
      ]
     },
     "metadata": {},
     "output_type": "display_data"
    },
    {
     "data": {
      "text/markdown": [
       "under sin; 3:10 As it is written, There is none righteous, no, not one: 3:11 There is none that understandeth, there is none that seeketh after God. 3:12 They are all <span style=\"color: blue\">gone out of the way, they are together become unprofitable; there is none that doeth good, no, not one. 3:13 Their throat is an open</span> sepulchre; with their tongues they have used deceit; the poison of asps is under their lips: 3:14 Whose mouth is full"
      ],
      "text/plain": [
       "<IPython.core.display.Markdown object>"
      ]
     },
     "metadata": {},
     "output_type": "display_data"
    },
    {
     "data": {
      "text/markdown": [
       "### Hiram Gray: The Rebel Christian: By Jonathan Wood"
      ],
      "text/plain": [
       "<IPython.core.display.Markdown object>"
      ]
     },
     "metadata": {},
     "output_type": "display_data"
    },
    {
     "data": {
      "text/markdown": [
       "<small>Wood, Jon</small>"
      ],
      "text/plain": [
       "<IPython.core.display.Markdown object>"
      ]
     },
     "metadata": {},
     "output_type": "display_data"
    },
    {
     "data": {
      "text/markdown": [
       "self-love and blind self adulation, and look upon the thing in its uncovered and purely natural state, this is what ye see. ‘They have all <span style=\"color: blue\">gone out of the way, they are together become unprofitable, there is none that doeth good, no not one. Their throat is an open</span> sepulcher; with their tongues they have used de¬ ceit; the poison of asps is under their lips; whose mouth"
      ],
      "text/plain": [
       "<IPython.core.display.Markdown object>"
      ]
     },
     "metadata": {},
     "output_type": "display_data"
    },
    {
     "name": "stdout",
     "output_type": "stream",
     "text": [
      "--------------------------------------------------\n"
     ]
    },
    {
     "data": {
      "text/markdown": [
       "### King James Bible"
      ],
      "text/plain": [
       "<IPython.core.display.Markdown object>"
      ]
     },
     "metadata": {},
     "output_type": "display_data"
    },
    {
     "data": {
      "text/markdown": [
       "together become unprofitable; there is none that doeth good, no, not one. 3:13 Their throat is an open sepulchre; with their tongues they have used deceit; the <span style=\"color: blue\">poison of asps is under their lips: 3:14 Whose mouth is full of cursing and bitterness: 3:15 Their feet are swift to shed blood: 3:16 Destruction and misery are in their ways: 3:17 And the way of peace have they not known: 3:18 There is no fear of God before their eyes</span>. 3:19 Now we know that what things soever the law saith, it saith to them who are under the law: that every mouth may be stopped, and all the world may become guilty"
      ],
      "text/plain": [
       "<IPython.core.display.Markdown object>"
      ]
     },
     "metadata": {},
     "output_type": "display_data"
    },
    {
     "data": {
      "text/markdown": [
       "### Hiram Gray: The Rebel Christian: By Jonathan Wood"
      ],
      "text/plain": [
       "<IPython.core.display.Markdown object>"
      ]
     },
     "metadata": {},
     "output_type": "display_data"
    },
    {
     "data": {
      "text/markdown": [
       "<small>Wood, Jon</small>"
      ],
      "text/plain": [
       "<IPython.core.display.Markdown object>"
      ]
     },
     "metadata": {},
     "output_type": "display_data"
    },
    {
     "data": {
      "text/markdown": [
       "become unprofitable, there is none that doeth good, no not one. Their throat is an open sepulcher; with their tongues they have used de¬ ceit; the <span style=\"color: blue\">poison of asps is under their lips; whose mouth is full of cursing and bitterness. Their feet are swift to shed blood. Destruction and misery are in their ways ; and the way of peace have they not known; there is no fear of God before their eyes</span>.’ ” (Rom. 3.12-18.) ‘ ‘ But, environment, man, early and proper train¬ ing, will entirely offset such conditions. Besides"
      ],
      "text/plain": [
       "<IPython.core.display.Markdown object>"
      ]
     },
     "metadata": {},
     "output_type": "display_data"
    },
    {
     "name": "stdout",
     "output_type": "stream",
     "text": [
      "--------------------------------------------------\n"
     ]
    },
    {
     "data": {
      "text/markdown": [
       "### King James Bible"
      ],
      "text/plain": [
       "<IPython.core.display.Markdown object>"
      ]
     },
     "metadata": {},
     "output_type": "display_data"
    },
    {
     "data": {
      "text/markdown": [
       "therefore it was imputed to him for righteousness. 4:23 Now it was not written for his sake alone, that it was imputed to him; 4:24 But for us also, to whom it shall be imputed, if we <span style=\"color: blue\">believe on him that raised up Jesus our Lord from the dead; 4:25 Who was delivered for our offences, and was raised again for our justification</span>. 5:1 Therefore being justified by faith, we have peace with God through our Lord Jesus Christ: 5:2 By whom also we have access"
      ],
      "text/plain": [
       "<IPython.core.display.Markdown object>"
      ]
     },
     "metadata": {},
     "output_type": "display_data"
    },
    {
     "data": {
      "text/markdown": [
       "### Hiram Gray: The Rebel Christian: By Jonathan Wood"
      ],
      "text/plain": [
       "<IPython.core.display.Markdown object>"
      ]
     },
     "metadata": {},
     "output_type": "display_data"
    },
    {
     "data": {
      "text/markdown": [
       "<small>Wood, Jon</small>"
      ],
      "text/plain": [
       "<IPython.core.display.Markdown object>"
      ]
     },
     "metadata": {},
     "output_type": "display_data"
    },
    {
     "data": {
      "text/markdown": [
       "met in Him. In Jesus, ‘mercy and truth are met together; righteousness and peace have kissed each other.’ We <span style=\"color: blue\">believe in ‘Him that raised up Jesus our Lord from the dead; who was delivered for our offences and raised again for our justification</span>.’ He is our souls’ whole trust; and believing and trusting in Him we shall endeavor like living men to obediently"
      ],
      "text/plain": [
       "<IPython.core.display.Markdown object>"
      ]
     },
     "metadata": {},
     "output_type": "display_data"
    },
    {
     "name": "stdout",
     "output_type": "stream",
     "text": [
      "--------------------------------------------------\n"
     ]
    },
    {
     "data": {
      "text/markdown": [
       "### King James Bible"
      ],
      "text/plain": [
       "<IPython.core.display.Markdown object>"
      ]
     },
     "metadata": {},
     "output_type": "display_data"
    },
    {
     "data": {
      "text/markdown": [
       "begotten of God keepeth himself, and that wicked one toucheth him not. 5:19 And we know that we are of God, and the whole world lieth in wickedness. 5:20 And we know that the <span style=\"color: blue\">Son of God is come, and hath given us an understanding, that we may know him that is true, and we are in him that is true, even in his Son Jesus Christ. This is the true God</span>, and eternal life. 5:21 Little children, keep yourselves from idols. Amen. The Second Epistle General of John 1:1 The elder"
      ],
      "text/plain": [
       "<IPython.core.display.Markdown object>"
      ]
     },
     "metadata": {},
     "output_type": "display_data"
    },
    {
     "data": {
      "text/markdown": [
       "### Hiram Gray: The Rebel Christian: By Jonathan Wood"
      ],
      "text/plain": [
       "<IPython.core.display.Markdown object>"
      ]
     },
     "metadata": {},
     "output_type": "display_data"
    },
    {
     "data": {
      "text/markdown": [
       "<small>Wood, Jon</small>"
      ],
      "text/plain": [
       "<IPython.core.display.Markdown object>"
      ]
     },
     "metadata": {},
     "output_type": "display_data"
    },
    {
     "data": {
      "text/markdown": [
       "open the Book and read? Man? ‘He’s a lie!’ ‘We don’t know!’ We do know! ‘We know that the whole world lieth in the wicked one.’ ‘And we know that the <span style=\"color: blue\">Son of God is come ; and hath given us understanding, that we may know Him that is true, and we are in Him that is true, even in His Son, Jesus Christ. This is the true God</span> and eter¬ nal life. And hereby we do know that we know Him, if we keep His commandments.’ ‘He that saith, I know Him, and keepeth not His command¬ ments, is a liar, and the truth"
      ],
      "text/plain": [
       "<IPython.core.display.Markdown object>"
      ]
     },
     "metadata": {},
     "output_type": "display_data"
    },
    {
     "name": "stdout",
     "output_type": "stream",
     "text": [
      "--------------------------------------------------\n"
     ]
    },
    {
     "data": {
      "text/markdown": [
       "### King James Bible"
      ],
      "text/plain": [
       "<IPython.core.display.Markdown object>"
      ]
     },
     "metadata": {},
     "output_type": "display_data"
    },
    {
     "data": {
      "text/markdown": [
       "himself shall be with them, and be their God. 21:4 And God shall wipe away all tears from their eyes; and there shall be no more death, <span style=\"color: blue\">neither sorrow, nor crying, neither shall there be any more pain: for the former things are passed</span> away. 21:5 And he that sat upon the throne said, Behold, I make all things new. And he said unto me, Write: for these words are true and faithful. 21:6 And he said unto"
      ],
      "text/plain": [
       "<IPython.core.display.Markdown object>"
      ]
     },
     "metadata": {},
     "output_type": "display_data"
    },
    {
     "data": {
      "text/markdown": [
       "### Hiram Gray: The Rebel Christian: By Jonathan Wood"
      ],
      "text/plain": [
       "<IPython.core.display.Markdown object>"
      ]
     },
     "metadata": {},
     "output_type": "display_data"
    },
    {
     "data": {
      "text/markdown": [
       "<small>Wood, Jon</small>"
      ],
      "text/plain": [
       "<IPython.core.display.Markdown object>"
      ]
     },
     "metadata": {},
     "output_type": "display_data"
    },
    {
     "data": {
      "text/markdown": [
       "whose face the heaven and the earth fled away, and casts her crown at His feet. “And there shall be no night there. <span style=\"color: blue\">Neither sorrow, nor crying, neither shall there be any more pain ; for the former things have passed</span>"
      ],
      "text/plain": [
       "<IPython.core.display.Markdown object>"
      ]
     },
     "metadata": {},
     "output_type": "display_data"
    },
    {
     "name": "stdout",
     "output_type": "stream",
     "text": [
      "--------------------------------------------------\n"
     ]
    },
    {
     "data": {
      "text/markdown": [
       "### King James Bible"
      ],
      "text/plain": [
       "<IPython.core.display.Markdown object>"
      ]
     },
     "metadata": {},
     "output_type": "display_data"
    },
    {
     "data": {
      "text/markdown": [
       "mountains, and for the precious things of the lasting hills, 33:16 And for the precious things of the earth and fulness thereof, and for the good will of him that dwelt in the bush: let the <span style=\"color: blue\">blessing come upon the head of Joseph, and upon the top of the head of him that was separated from his brethren</span>. 33:17 His glory is like the firstling of his bullock, and his horns are like the horns of unicorns: with them he shall push the people together to the ends"
      ],
      "text/plain": [
       "<IPython.core.display.Markdown object>"
      ]
     },
     "metadata": {},
     "output_type": "display_data"
    },
    {
     "data": {
      "text/markdown": [
       "### Chronicles of a Kentucky Settlement: By William Courtney Watts …"
      ],
      "text/plain": [
       "<IPython.core.display.Markdown object>"
      ]
     },
     "metadata": {},
     "output_type": "display_data"
    },
    {
     "data": {
      "text/markdown": [
       "<small>Watts, William Courtney</small>"
      ],
      "text/plain": [
       "<IPython.core.display.Markdown object>"
      ]
     },
     "metadata": {},
     "output_type": "display_data"
    },
    {
     "data": {
      "text/markdown": [
       "ow, and this hand shall soon be mine.” And in a calm, low tone she reverently replied : “ ‘ Let the bles <span style=\"color: blue\">sing come upon the head of Joseph, and upon the top of the head of him that was separated from his brethren ’ ;</span> to whom has come, not his breth¬ ren but the widow and children of his lost brother, and to whom is yet to come an aged fat"
      ],
      "text/plain": [
       "<IPython.core.display.Markdown object>"
      ]
     },
     "metadata": {},
     "output_type": "display_data"
    },
    {
     "name": "stdout",
     "output_type": "stream",
     "text": [
      "--------------------------------------------------\n"
     ]
    },
    {
     "data": {
      "text/markdown": [
       "### King James Bible"
      ],
      "text/plain": [
       "<IPython.core.display.Markdown object>"
      ]
     },
     "metadata": {},
     "output_type": "display_data"
    },
    {
     "data": {
      "text/markdown": [
       "carry her afar off to sojourn. 23:8 Who hath taken this counsel against Tyre, the crowning city, <span style=\"color: blue\">whose merchants are princes, whose traffickers</span> are the honourable of the earth? 23:9 The LORD of hosts hath purposed it, to stain the pride of all glory, and to bring"
      ],
      "text/plain": [
       "<IPython.core.display.Markdown object>"
      ]
     },
     "metadata": {},
     "output_type": "display_data"
    },
    {
     "data": {
      "text/markdown": [
       "### Athonia, or, the Original Four Hundred: By H. George Schuette"
      ],
      "text/plain": [
       "<IPython.core.display.Markdown object>"
      ]
     },
     "metadata": {},
     "output_type": "display_data"
    },
    {
     "data": {
      "text/markdown": [
       "<small>Schuette, H. George</small>"
      ],
      "text/plain": [
       "<IPython.core.display.Markdown object>"
      ]
     },
     "metadata": {},
     "output_type": "display_data"
    },
    {
     "data": {
      "text/markdown": [
       "s in war. For,’ they say, ‘perceive ye not the Phoenician merchant cities of Tyre and Sidon —cities whose <span style=\"color: blue\">merchants are princes and whose traffickers are</span> the honorable of the earth?’ Our large ship is a merchant sample ship carrying only several of each kind"
      ],
      "text/plain": [
       "<IPython.core.display.Markdown object>"
      ]
     },
     "metadata": {},
     "output_type": "display_data"
    },
    {
     "name": "stdout",
     "output_type": "stream",
     "text": [
      "--------------------------------------------------\n"
     ]
    },
    {
     "data": {
      "text/markdown": [
       "### King James Bible"
      ],
      "text/plain": [
       "<IPython.core.display.Markdown object>"
      ]
     },
     "metadata": {},
     "output_type": "display_data"
    },
    {
     "data": {
      "text/markdown": [
       "name. 18:50 Great deliverance giveth he to his king; and sheweth mercy to his anointed, to David, and to his seed for evermore. 19:1 The <span style=\"color: blue\">heavens declare the glory of God; and the firmament sheweth</span> his handywork. 19:2 Day unto day uttereth speech, and night unto night sheweth knowledge. 19:3 There is no speech"
      ],
      "text/plain": [
       "<IPython.core.display.Markdown object>"
      ]
     },
     "metadata": {},
     "output_type": "display_data"
    },
    {
     "data": {
      "text/markdown": [
       "### Sic Vita Est: [A Novel] = (Such Is Life): By Sue Froman Matthews …"
      ],
      "text/plain": [
       "<IPython.core.display.Markdown object>"
      ]
     },
     "metadata": {},
     "output_type": "display_data"
    },
    {
     "data": {
      "text/markdown": [
       "<small>Matthews, Sue Froman</small>"
      ],
      "text/plain": [
       "<IPython.core.display.Markdown object>"
      ]
     },
     "metadata": {},
     "output_type": "display_data"
    },
    {
     "data": {
      "text/markdown": [
       "reading to a select company. The beautiful words of the nineteenth Psalm fell from her ruby lips : “ The <span style=\"color: blue\">heavens declare the glory of God ; and the firmament sheweth</span> His handiwork. Day unto day uttereth speech, and night unto night sheweth knowledge. * * * ” The girls"
      ],
      "text/plain": [
       "<IPython.core.display.Markdown object>"
      ]
     },
     "metadata": {},
     "output_type": "display_data"
    },
    {
     "name": "stdout",
     "output_type": "stream",
     "text": [
      "--------------------------------------------------\n"
     ]
    },
    {
     "data": {
      "text/markdown": [
       "### King James Bible"
      ],
      "text/plain": [
       "<IPython.core.display.Markdown object>"
      ]
     },
     "metadata": {},
     "output_type": "display_data"
    },
    {
     "data": {
      "text/markdown": [
       "David, and to his seed for evermore. 19:1 The heavens declare the glory of God; and the firmament sheweth his handywork. 19:2 Day <span style=\"color: blue\">unto day uttereth speech, and night unto night sheweth knowledge</span>. 19:3 There is no speech nor language, where their voice is not heard. 19:4 Their line is gone out through all the earth, and their words to the end of the world. In them hath"
      ],
      "text/plain": [
       "<IPython.core.display.Markdown object>"
      ]
     },
     "metadata": {},
     "output_type": "display_data"
    },
    {
     "data": {
      "text/markdown": [
       "### Sic Vita Est: [A Novel] = (Such Is Life): By Sue Froman Matthews …"
      ],
      "text/plain": [
       "<IPython.core.display.Markdown object>"
      ]
     },
     "metadata": {},
     "output_type": "display_data"
    },
    {
     "data": {
      "text/markdown": [
       "<small>Matthews, Sue Froman</small>"
      ],
      "text/plain": [
       "<IPython.core.display.Markdown object>"
      ]
     },
     "metadata": {},
     "output_type": "display_data"
    },
    {
     "data": {
      "text/markdown": [
       "fell from her ruby lips : “ The heavens declare the glory of God ; and the firmament sheweth His handiwork. Day <span style=\"color: blue\">unto day uttereth speech, and night unto night sheweth knowledge</span>. * * * ” The girls were lost in wonder and admiration. The greatness of the Creator and the splendor of his creation seemed to open"
      ],
      "text/plain": [
       "<IPython.core.display.Markdown object>"
      ]
     },
     "metadata": {},
     "output_type": "display_data"
    },
    {
     "name": "stdout",
     "output_type": "stream",
     "text": [
      "--------------------------------------------------\n"
     ]
    },
    {
     "data": {
      "text/markdown": [
       "### King James Bible"
      ],
      "text/plain": [
       "<IPython.core.display.Markdown object>"
      ]
     },
     "metadata": {},
     "output_type": "display_data"
    },
    {
     "data": {
      "text/markdown": [
       "forget thy word. 119:17 Deal bountifully with thy servant, that I may live, and keep thy word. 119:18 <span style=\"color: blue\">Open thou mine eyes, that I may behold</span> wondrous things out of thy law. 119:19 I am a stranger in the earth: hide not thy commandments from me. 119:20 My soul breaketh"
      ],
      "text/plain": [
       "<IPython.core.display.Markdown object>"
      ]
     },
     "metadata": {},
     "output_type": "display_data"
    },
    {
     "data": {
      "text/markdown": [
       "### Sic Vita Est: [A Novel] = (Such Is Life): By Sue Froman Matthews …"
      ],
      "text/plain": [
       "<IPython.core.display.Markdown object>"
      ]
     },
     "metadata": {},
     "output_type": "display_data"
    },
    {
     "data": {
      "text/markdown": [
       "<small>Matthews, Sue Froman</small>"
      ],
      "text/plain": [
       "<IPython.core.display.Markdown object>"
      ]
     },
     "metadata": {},
     "output_type": "display_data"
    },
    {
     "data": {
      "text/markdown": [
       "began by asking: “In the study of our Bihle, how should we pray ? Ps. cxix. 18.” Muriel Rananaugh read : “ <span style=\"color: blue\">Open thou mine eyes, that I may behold</span> won- derous things out of thy law.” Marguerite continued, “ If we study the Bible thus, what will be the result"
      ],
      "text/plain": [
       "<IPython.core.display.Markdown object>"
      ]
     },
     "metadata": {},
     "output_type": "display_data"
    },
    {
     "name": "stdout",
     "output_type": "stream",
     "text": [
      "--------------------------------------------------\n"
     ]
    },
    {
     "data": {
      "text/markdown": [
       "### King James Bible"
      ],
      "text/plain": [
       "<IPython.core.display.Markdown object>"
      ]
     },
     "metadata": {},
     "output_type": "display_data"
    },
    {
     "data": {
      "text/markdown": [
       "depart from evil. 3:8 It shall be health to thy navel, and marrow to thy bones. 3:9 Honour the <span style=\"color: blue\">LORD with thy substance, and with the firstfruits of all thine increase</span>: 3:10 So shall thy barns be filled with plenty, and thy presses shall burst out with new wine"
      ],
      "text/plain": [
       "<IPython.core.display.Markdown object>"
      ]
     },
     "metadata": {},
     "output_type": "display_data"
    },
    {
     "data": {
      "text/markdown": [
       "### Sic Vita Est: [A Novel] = (Such Is Life): By Sue Froman Matthews …"
      ],
      "text/plain": [
       "<IPython.core.display.Markdown object>"
      ]
     },
     "metadata": {},
     "output_type": "display_data"
    },
    {
     "data": {
      "text/markdown": [
       "<small>Matthews, Sue Froman</small>"
      ],
      "text/plain": [
       "<IPython.core.display.Markdown object>"
      ]
     },
     "metadata": {},
     "output_type": "display_data"
    },
    {
     "data": {
      "text/markdown": [
       "God will come * * * with a recom¬ pense. He will come and save you.” “ How should we honor Him for this great kind¬ ness to us ? Prov. iii. 9.” “ Honor the <span style=\"color: blue\">Lord with thy substance, and with the firstfruits of all thine increase</span>.” “ Then how will He continue I lis blessings ? Prov. iii. io.” The answer came, “ So shall thy"
      ],
      "text/plain": [
       "<IPython.core.display.Markdown object>"
      ]
     },
     "metadata": {},
     "output_type": "display_data"
    },
    {
     "name": "stdout",
     "output_type": "stream",
     "text": [
      "--------------------------------------------------\n"
     ]
    },
    {
     "data": {
      "text/markdown": [
       "### King James Bible"
      ],
      "text/plain": [
       "<IPython.core.display.Markdown object>"
      ]
     },
     "metadata": {},
     "output_type": "display_data"
    },
    {
     "data": {
      "text/markdown": [
       "marrow to thy bones. 3:9 Honour the LORD with thy substance, and with the firstfruits of all thine increase: 3:10 So <span style=\"color: blue\">shall thy barns be filled with plenty</span>, and thy presses shall burst out with new wine. 3:11 My son, despise not the chastening of the LORD; neither"
      ],
      "text/plain": [
       "<IPython.core.display.Markdown object>"
      ]
     },
     "metadata": {},
     "output_type": "display_data"
    },
    {
     "data": {
      "text/markdown": [
       "### Sic Vita Est: [A Novel] = (Such Is Life): By Sue Froman Matthews …"
      ],
      "text/plain": [
       "<IPython.core.display.Markdown object>"
      ]
     },
     "metadata": {},
     "output_type": "display_data"
    },
    {
     "data": {
      "text/markdown": [
       "<small>Matthews, Sue Froman</small>"
      ],
      "text/plain": [
       "<IPython.core.display.Markdown object>"
      ]
     },
     "metadata": {},
     "output_type": "display_data"
    },
    {
     "data": {
      "text/markdown": [
       "thine increase.” “ Then how will He continue I lis blessings ? Prov. iii. io.” The answer came, “ So <span style=\"color: blue\">shall thy barns be filled with plenty</span>.” “ What does the Saviour say in regard to giving ? Acts. XX. 35,” asked the leader. Miss Steele replied"
      ],
      "text/plain": [
       "<IPython.core.display.Markdown object>"
      ]
     },
     "metadata": {},
     "output_type": "display_data"
    },
    {
     "name": "stdout",
     "output_type": "stream",
     "text": [
      "--------------------------------------------------\n"
     ]
    },
    {
     "data": {
      "text/markdown": [
       "### King James Bible"
      ],
      "text/plain": [
       "<IPython.core.display.Markdown object>"
      ]
     },
     "metadata": {},
     "output_type": "display_data"
    },
    {
     "data": {
      "text/markdown": [
       "suffer hunger. 19:16 He that keepeth the commandment keepeth his own soul; but he that despiseth his ways shall die. 19:17 He that <span style=\"color: blue\">hath pity upon the poor lendeth unto the LORD; and that which he hath given will he pay</span> him again. 19:18 Chasten thy son while there is hope, and let not thy soul spare for his crying. 19:19 A man of great wrath"
      ],
      "text/plain": [
       "<IPython.core.display.Markdown object>"
      ]
     },
     "metadata": {},
     "output_type": "display_data"
    },
    {
     "data": {
      "text/markdown": [
       "### Sic Vita Est: [A Novel] = (Such Is Life): By Sue Froman Matthews …"
      ],
      "text/plain": [
       "<IPython.core.display.Markdown object>"
      ]
     },
     "metadata": {},
     "output_type": "display_data"
    },
    {
     "data": {
      "text/markdown": [
       "<small>Matthews, Sue Froman</small>"
      ],
      "text/plain": [
       "<IPython.core.display.Markdown object>"
      ]
     },
     "metadata": {},
     "output_type": "display_data"
    },
    {
     "data": {
      "text/markdown": [
       "deviseth liberal things, and by lib¬ eral things shall he stand.” “ What is said of him who pitieth the poor ? Prov. xix. 17.” “He that <span style=\"color: blue\">hath pity upon the poor lendeth unto the Lord ; and that which he hath given will He pay</span> him again.” “ From whom does God accept offerings ? Ex. XXV. 2.” \"Of every man that giveth willingly with his heart ye"
      ],
      "text/plain": [
       "<IPython.core.display.Markdown object>"
      ]
     },
     "metadata": {},
     "output_type": "display_data"
    },
    {
     "name": "stdout",
     "output_type": "stream",
     "text": [
      "--------------------------------------------------\n"
     ]
    },
    {
     "data": {
      "text/markdown": [
       "### King James Bible"
      ],
      "text/plain": [
       "<IPython.core.display.Markdown object>"
      ]
     },
     "metadata": {},
     "output_type": "display_data"
    },
    {
     "data": {
      "text/markdown": [
       "tried stone, a precious corner stone, a sure foundation: he that believeth shall not make haste. 28:17 <span style=\"color: blue\">Judgment also will I lay to the line, and righteousness to the plummet</span>: and the hail shall sweep away the refuge of lies, and the waters shall overflow the hiding place. 28:18 And your covenant"
      ],
      "text/plain": [
       "<IPython.core.display.Markdown object>"
      ]
     },
     "metadata": {},
     "output_type": "display_data"
    },
    {
     "data": {
      "text/markdown": [
       "### Sic Vita Est: [A Novel] = (Such Is Life): By Sue Froman Matthews …"
      ],
      "text/plain": [
       "<IPython.core.display.Markdown object>"
      ]
     },
     "metadata": {},
     "output_type": "display_data"
    },
    {
     "data": {
      "text/markdown": [
       "<small>Matthews, Sue Froman</small>"
      ],
      "text/plain": [
       "<IPython.core.display.Markdown object>"
      ]
     },
     "metadata": {},
     "output_type": "display_data"
    },
    {
     "data": {
      "text/markdown": [
       "fruit. They are lessons for our learning. The God of Amos is our God ; ‘the same yesterday, to-day and forever.’ ‘ Behold I change not. <span style=\"color: blue\">Judgment will I lay to the line, and righteousness to the plummet</span>.’ “ This lesson may be easily learned and it is awful in its solemn import. The righteousness of our God is concerned as well in the punishment"
      ],
      "text/plain": [
       "<IPython.core.display.Markdown object>"
      ]
     },
     "metadata": {},
     "output_type": "display_data"
    },
    {
     "name": "stdout",
     "output_type": "stream",
     "text": [
      "--------------------------------------------------\n"
     ]
    },
    {
     "data": {
      "text/markdown": [
       "### King James Bible"
      ],
      "text/plain": [
       "<IPython.core.display.Markdown object>"
      ]
     },
     "metadata": {},
     "output_type": "display_data"
    },
    {
     "data": {
      "text/markdown": [
       "LORD search the heart, I try the reins, even to give every man according to his ways, and according to the fruit of his doings. 17:11 As the <span style=\"color: blue\">partridge sitteth on eggs, and hatcheth them not; so he that getteth riches, and not by right, shall leave them in the midst of his days, and at his end shall be a fool</span>. 17:12 A glorious high throne from the beginning is the place of our sanctuary. 17:13 O LORD, the hope of Israel, all that forsake thee"
      ],
      "text/plain": [
       "<IPython.core.display.Markdown object>"
      ]
     },
     "metadata": {},
     "output_type": "display_data"
    },
    {
     "data": {
      "text/markdown": [
       "### Sic Vita Est: [A Novel] = (Such Is Life): By Sue Froman Matthews …"
      ],
      "text/plain": [
       "<IPython.core.display.Markdown object>"
      ]
     },
     "metadata": {},
     "output_type": "display_data"
    },
    {
     "data": {
      "text/markdown": [
       "<small>Matthews, Sue Froman</small>"
      ],
      "text/plain": [
       "<IPython.core.display.Markdown object>"
      ]
     },
     "metadata": {},
     "output_type": "display_data"
    },
    {
     "data": {
      "text/markdown": [
       "bird’s nest,” said Myrtle. “ They do not hatch their eggs half the time,” said Sidney Oveçton. ‘“As a <span style=\"color: blue\">partridge sitteth on eggs and hatcheth them not, so is he that getteth riches and not by right ; he shall leave them in the midst of his days, and at his end shall be a fool</span>,’ ” quoted Myrtle. “ What !” said Sidney Overton, stopping suddenly in the walk which they had resumed, and causing the couple"
      ],
      "text/plain": [
       "<IPython.core.display.Markdown object>"
      ]
     },
     "metadata": {},
     "output_type": "display_data"
    },
    {
     "name": "stdout",
     "output_type": "stream",
     "text": [
      "--------------------------------------------------\n"
     ]
    },
    {
     "data": {
      "text/markdown": [
       "### King James Bible"
      ],
      "text/plain": [
       "<IPython.core.display.Markdown object>"
      ]
     },
     "metadata": {},
     "output_type": "display_data"
    },
    {
     "data": {
      "text/markdown": [
       "Father feedeth them. Are ye not much better than they? 6:27 Which of you by taking thought can add one cubit unto his stature? 6:28 And why take ye thought for raiment? <span style=\"color: blue\">Consider the lilies of the field, how they grow; they toil not, neither do they spin: 6:29 And yet I say unto you, That even Solomon in all his glory was not arrayed</span> like one of these. 6:30 Wherefore, if God so clothe the grass of the field, which to day is, and to morrow is cast into the oven, shall he not much more clothe"
      ],
      "text/plain": [
       "<IPython.core.display.Markdown object>"
      ]
     },
     "metadata": {},
     "output_type": "display_data"
    },
    {
     "data": {
      "text/markdown": [
       "### Sic Vita Est: [A Novel] = (Such Is Life): By Sue Froman Matthews …"
      ],
      "text/plain": [
       "<IPython.core.display.Markdown object>"
      ]
     },
     "metadata": {},
     "output_type": "display_data"
    },
    {
     "data": {
      "text/markdown": [
       "<small>Matthews, Sue Froman</small>"
      ],
      "text/plain": [
       "<IPython.core.display.Markdown object>"
      ]
     },
     "metadata": {},
     "output_type": "display_data"
    },
    {
     "data": {
      "text/markdown": [
       "heart tears of the dew, Tell your lover’s always true. “ Good again,” said Sidney'. “ See this handsome dish of lilies ?” “ <span style=\"color: blue\">Consider the lilies of the field, how they grow ; they toil not neither do they spin ; and yet I say unto you, that even Solomon in all his glory was not arrayed</span> like one of these,” came Myrtle’s prompt quotation. Sidney Overton dropped his head till"
      ],
      "text/plain": [
       "<IPython.core.display.Markdown object>"
      ]
     },
     "metadata": {},
     "output_type": "display_data"
    },
    {
     "name": "stdout",
     "output_type": "stream",
     "text": [
      "--------------------------------------------------\n"
     ]
    },
    {
     "data": {
      "text/markdown": [
       "### King James Bible"
      ],
      "text/plain": [
       "<IPython.core.display.Markdown object>"
      ]
     },
     "metadata": {},
     "output_type": "display_data"
    },
    {
     "data": {
      "text/markdown": [
       "ye not unwise, but understanding what the will of the Lord is. 5:18 And be not drunk with wine, wherein is excess; but be filled with the Spirit; 5:19 <span style=\"color: blue\">Speaking to yourselves in psalms and hymns and spiritual songs, singing and making melody</span> in your heart to the Lord; 5:20 Giving thanks always for all things unto God and the Father in the name of our Lord Jesus"
      ],
      "text/plain": [
       "<IPython.core.display.Markdown object>"
      ]
     },
     "metadata": {},
     "output_type": "display_data"
    },
    {
     "data": {
      "text/markdown": [
       "### Sic Vita Est: [A Novel] = (Such Is Life): By Sue Froman Matthews …"
      ],
      "text/plain": [
       "<IPython.core.display.Markdown object>"
      ]
     },
     "metadata": {},
     "output_type": "display_data"
    },
    {
     "data": {
      "text/markdown": [
       "<small>Matthews, Sue Froman</small>"
      ],
      "text/plain": [
       "<IPython.core.display.Markdown object>"
      ]
     },
     "metadata": {},
     "output_type": "display_data"
    },
    {
     "data": {
      "text/markdown": [
       "hearts beat respon- sive to the words, “ I know that my Redeemer liveth.” Myrtle said softly to her companion. “ <span style=\"color: blue\">Speaking to yourselves in psalms and hymns and spiritual songs, singing and making melody</span> in your hearts.” He quietly took an ivory tablet from his vest pocket and added Music to the other two words"
      ],
      "text/plain": [
       "<IPython.core.display.Markdown object>"
      ]
     },
     "metadata": {},
     "output_type": "display_data"
    },
    {
     "name": "stdout",
     "output_type": "stream",
     "text": [
      "--------------------------------------------------\n"
     ]
    },
    {
     "data": {
      "text/markdown": [
       "### King James Bible"
      ],
      "text/plain": [
       "<IPython.core.display.Markdown object>"
      ]
     },
     "metadata": {},
     "output_type": "display_data"
    },
    {
     "data": {
      "text/markdown": [
       "heaven; the earth feared, and was still, 76:9 When God arose to judgment, to save all the meek of the earth. Selah. 76:10 <span style=\"color: blue\">Surely the wrath of man shall praise thee</span>: the remainder of wrath shalt thou restrain. 76:11 Vow, and pay unto the LORD your God"
      ],
      "text/plain": [
       "<IPython.core.display.Markdown object>"
      ]
     },
     "metadata": {},
     "output_type": "display_data"
    },
    {
     "data": {
      "text/markdown": [
       "### The Son of Royal Langbrith: A Novel: By W. D. Howells"
      ],
      "text/plain": [
       "<IPython.core.display.Markdown object>"
      ]
     },
     "metadata": {},
     "output_type": "display_data"
    },
    {
     "data": {
      "text/markdown": [
       "<small>Howells, William Dean</small>"
      ],
      "text/plain": [
       "<IPython.core.display.Markdown object>"
      ]
     },
     "metadata": {},
     "output_type": "display_data"
    },
    {
     "data": {
      "text/markdown": [
       "differ¬ ence about — the business, and I am afraid I — I affronted him; and—and he told me.” “In anger?” “Yes, in anger.” 350 The rector thought how it was written, “ <span style=\"color: blue\">Surely the wrath of man shall praise Thee</span>.” It seemed to him that the Divine Providence had not acted in¬ opportunely; and he was contented with the mode in which the young man had learned the worst"
      ],
      "text/plain": [
       "<IPython.core.display.Markdown object>"
      ]
     },
     "metadata": {},
     "output_type": "display_data"
    },
    {
     "name": "stdout",
     "output_type": "stream",
     "text": [
      "--------------------------------------------------\n"
     ]
    },
    {
     "data": {
      "text/markdown": [
       "### King James Bible"
      ],
      "text/plain": [
       "<IPython.core.display.Markdown object>"
      ]
     },
     "metadata": {},
     "output_type": "display_data"
    },
    {
     "data": {
      "text/markdown": [
       "servant as his lord. If they have called the master of the house Beelzebub, how much more shall they call them of his household? 10:26 Fear them not therefore: for there is nothing <span style=\"color: blue\">covered, that shall not be revealed; and hid, that shall not be known</span>. 10:27 What I tell you in darkness, that speak ye in light: and what ye hear in the ear, that preach ye upon"
      ],
      "text/plain": [
       "<IPython.core.display.Markdown object>"
      ]
     },
     "metadata": {},
     "output_type": "display_data"
    },
    {
     "data": {
      "text/markdown": [
       "### The Son of Royal Langbrith: A Novel: By W. D. Howells"
      ],
      "text/plain": [
       "<IPython.core.display.Markdown object>"
      ]
     },
     "metadata": {},
     "output_type": "display_data"
    },
    {
     "data": {
      "text/markdown": [
       "<small>Howells, William Dean</small>"
      ],
      "text/plain": [
       "<IPython.core.display.Markdown object>"
      ]
     },
     "metadata": {},
     "output_type": "display_data"
    },
    {
     "data": {
      "text/markdown": [
       "Royal Lang- brith’s life. She alleged that passage of scripture to which she had recurred from the beginning of her own privity. “There is nothing <span style=\"color: blue\">covered that shall not be revealed, and hid that shall not be known</span>,” and required him to reconcile it with the case in hand. Though she had agreed with Hope about that when the girl first «offered her interpretation"
      ],
      "text/plain": [
       "<IPython.core.display.Markdown object>"
      ]
     },
     "metadata": {},
     "output_type": "display_data"
    },
    {
     "name": "stdout",
     "output_type": "stream",
     "text": [
      "--------------------------------------------------\n"
     ]
    },
    {
     "data": {
      "text/markdown": [
       "### King James Bible"
      ],
      "text/plain": [
       "<IPython.core.display.Markdown object>"
      ]
     },
     "metadata": {},
     "output_type": "display_data"
    },
    {
     "data": {
      "text/markdown": [
       "shall cleave to his wife: and they twain shall be one flesh? 19:6 Wherefore they are no more twain, but one flesh. What therefore <span style=\"color: blue\">God hath joined together, let not man put asunder</span>. 19:7 They say unto him, Why did Moses then command to give a writing of divorcement, and to put her away? 19:8 He saith unto them, Moses because of the hardness"
      ],
      "text/plain": [
       "<IPython.core.display.Markdown object>"
      ]
     },
     "metadata": {},
     "output_type": "display_data"
    },
    {
     "data": {
      "text/markdown": [
       "### Norine's Revenge, and Sir Noel's Heir: By May Agnes Fleming"
      ],
      "text/plain": [
       "<IPython.core.display.Markdown object>"
      ]
     },
     "metadata": {},
     "output_type": "display_data"
    },
    {
     "data": {
      "text/markdown": [
       "<small>Fleming, May Agnes Early</small>"
      ],
      "text/plain": [
       "<IPython.core.display.Markdown object>"
      ]
     },
     "metadata": {},
     "output_type": "display_data"
    },
    {
     "data": {
      "text/markdown": [
       "downcast face of his bride he sees or that other face as he saw it last, all white and drawn in the anguish of a last farewell ? “What <span style=\"color: blue\">God hath joined together let no man put asunder</span>!” It is over. He draws a long, hard breath of relief. Come what may, Helen is his wife. They rise ; they file slowly and gracefully"
      ],
      "text/plain": [
       "<IPython.core.display.Markdown object>"
      ]
     },
     "metadata": {},
     "output_type": "display_data"
    },
    {
     "name": "stdout",
     "output_type": "stream",
     "text": [
      "--------------------------------------------------\n"
     ]
    },
    {
     "data": {
      "text/markdown": [
       "### King James Bible"
      ],
      "text/plain": [
       "<IPython.core.display.Markdown object>"
      ]
     },
     "metadata": {},
     "output_type": "display_data"
    },
    {
     "data": {
      "text/markdown": [
       "unto women, nor thy ways to that which destroyeth kings. 31:4 It is not for kings, O Lemuel, it is not for <span style=\"color: blue\">kings to drink wine; nor for princes strong drink: 31:5 Lest they drink, and forget the law, and pervert the judgment of any of the afflicted. 31:6 Give strong drink unto him that is ready to perish, and wine unto those that be of heavy hearts</span>. 31:7 Let him drink, and forget his poverty, and remember his misery no more. 31:8 Open thy mouth for the dumb in the cause"
      ],
      "text/plain": [
       "<IPython.core.display.Markdown object>"
      ]
     },
     "metadata": {},
     "output_type": "display_data"
    },
    {
     "data": {
      "text/markdown": [
       "### Crayon Sketches: By an Amateur: Edited by Theodore S. Fay"
      ],
      "text/plain": [
       "<IPython.core.display.Markdown object>"
      ]
     },
     "metadata": {},
     "output_type": "display_data"
    },
    {
     "data": {
      "text/markdown": [
       "<small>Cox, William</small>"
      ],
      "text/plain": [
       "<IPython.core.display.Markdown object>"
      ]
     },
     "metadata": {},
     "output_type": "display_data"
    },
    {
     "data": {
      "text/markdown": [
       "ieties lean favor¬ ably towards the rich and affluent, there are higher and more impartial authorities which do not. “ It is not for kin <span style=\"color: blue\">gs to drink wine ; nor for princes strong drink : lest they drink, and forget the law, and pervert the judgment of any of the afflicted. Give strong drink unto him that is ready to perish, and wine unto those who be of heavy hearts.”</span> I do not here wish to cast the slightest imputation of hypocrisy, or impute unworthy motives to the friends and orgauizers of"
      ],
      "text/plain": [
       "<IPython.core.display.Markdown object>"
      ]
     },
     "metadata": {},
     "output_type": "display_data"
    },
    {
     "name": "stdout",
     "output_type": "stream",
     "text": [
      "--------------------------------------------------\n"
     ]
    },
    {
     "data": {
      "text/markdown": [
       "### King James Bible"
      ],
      "text/plain": [
       "<IPython.core.display.Markdown object>"
      ]
     },
     "metadata": {},
     "output_type": "display_data"
    },
    {
     "data": {
      "text/markdown": [
       "lattice. 2:10 My beloved spake, and said unto me, Rise up, my love, my fair one, and come away. 2:11 For, lo, the winter is past, the rain is over and <span style=\"color: blue\">gone; 2:12 The flowers appear on the earth; the time of the singing of birds is come, and the voice of the turtle is heard in our land</span>; 2:13 The fig tree putteth forth her green figs, and the vines with the tender grape give a good smell"
      ],
      "text/plain": [
       "<IPython.core.display.Markdown object>"
      ]
     },
     "metadata": {},
     "output_type": "display_data"
    },
    {
     "data": {
      "text/markdown": [
       "### Crayon Sketches: By an Amateur: Edited by Theodore S. Fay"
      ],
      "text/plain": [
       "<IPython.core.display.Markdown object>"
      ]
     },
     "metadata": {},
     "output_type": "display_data"
    },
    {
     "data": {
      "text/markdown": [
       "<small>Cox, William</small>"
      ],
      "text/plain": [
       "<IPython.core.display.Markdown object>"
      ]
     },
     "metadata": {},
     "output_type": "display_data"
    },
    {
     "data": {
      "text/markdown": [
       "the mists and darkness of futurity. SPRING. Le, the winter ia past, the r&in is over and gone. <span style=\"color: blue\">The flowers appear on the earth ; the time of the singing of birds is come, and the voice of the turtle is heard in our land .—Son</span> g of Solomon, chap. II. Every year, all the periodicals, in every city, in every country of the earth, have something to say upon the subject of sp"
      ],
      "text/plain": [
       "<IPython.core.display.Markdown object>"
      ]
     },
     "metadata": {},
     "output_type": "display_data"
    },
    {
     "name": "stdout",
     "output_type": "stream",
     "text": [
      "--------------------------------------------------\n"
     ]
    },
    {
     "data": {
      "text/markdown": [
       "### King James Bible"
      ],
      "text/plain": [
       "<IPython.core.display.Markdown object>"
      ]
     },
     "metadata": {},
     "output_type": "display_data"
    },
    {
     "data": {
      "text/markdown": [
       "serve them: for I the LORD thy God am a jealous God, visiting the iniquity of the fathers upon the <span style=\"color: blue\">children unto the third and fourth generation</span> of them that hate me; 20:6 And shewing mercy unto thousands of them that love me, and keep my commandments. 20:7 Thou shalt not take the name of the LORD"
      ],
      "text/plain": [
       "<IPython.core.display.Markdown object>"
      ]
     },
     "metadata": {},
     "output_type": "display_data"
    },
    {
     "data": {
      "text/markdown": [
       "### The Literary Shop: And Other Tales: By James L. Ford"
      ],
      "text/plain": [
       "<IPython.core.display.Markdown object>"
      ]
     },
     "metadata": {},
     "output_type": "display_data"
    },
    {
     "data": {
      "text/markdown": [
       "<small>Ford, James L. (James Lauren)</small>"
      ],
      "text/plain": [
       "<IPython.core.display.Markdown object>"
      ]
     },
     "metadata": {},
     "output_type": "display_data"
    },
    {
     "data": {
      "text/markdown": [
       "distinction in commerce, art, litera - ίο* из ture, in the pulpit or on the bench, than there was in those of his wife, his aunt, his sister, and his <span style=\"color: blue\">children even unto the third and fourth generation</span>. It was this discovery that led to the publication of the popular and apparently endless series of essays bearing such ti"
      ],
      "text/plain": [
       "<IPython.core.display.Markdown object>"
      ]
     },
     "metadata": {},
     "output_type": "display_data"
    },
    {
     "name": "stdout",
     "output_type": "stream",
     "text": [
      "--------------------------------------------------\n"
     ]
    },
    {
     "data": {
      "text/markdown": [
       "### King James Bible"
      ],
      "text/plain": [
       "<IPython.core.display.Markdown object>"
      ]
     },
     "metadata": {},
     "output_type": "display_data"
    },
    {
     "data": {
      "text/markdown": [
       "sat down under his shadow with great delight, and his fruit was sweet to my taste. 2:4 He brought me to the banqueting house, and his banner over me was love. 2:5 <span style=\"color: blue\">Stay me with flagons, comfort me with apples: for I am sick</span> of love. 2:6 His left hand is under my head, and his right hand doth embrace me. 2:7 I charge you, O ye"
      ],
      "text/plain": [
       "<IPython.core.display.Markdown object>"
      ]
     },
     "metadata": {},
     "output_type": "display_data"
    },
    {
     "data": {
      "text/markdown": [
       "### The Church at Libertyville: As Seen by Thomas Bradley: Edited by John Wesley Conley"
      ],
      "text/plain": [
       "<IPython.core.display.Markdown object>"
      ]
     },
     "metadata": {},
     "output_type": "display_data"
    },
    {
     "data": {
      "text/markdown": [
       "<small>Conley, John Wesley</small>"
      ],
      "text/plain": [
       "<IPython.core.display.Markdown object>"
      ]
     },
     "metadata": {},
     "output_type": "display_data"
    },
    {
     "data": {
      "text/markdown": [
       "broad smile covered his features. The boy spoke with a voice that held the attention of every one in the room : “ <span style=\"color: blue\">Stay me with flagons, comfort me with apples; for I am sick</span> of love.” When he sat down Mrs. Paxton was deathly pale and at once arose and went to her husband and said she was ill"
      ],
      "text/plain": [
       "<IPython.core.display.Markdown object>"
      ]
     },
     "metadata": {},
     "output_type": "display_data"
    },
    {
     "name": "stdout",
     "output_type": "stream",
     "text": [
      "--------------------------------------------------\n"
     ]
    },
    {
     "data": {
      "text/markdown": [
       "### King James Bible"
      ],
      "text/plain": [
       "<IPython.core.display.Markdown object>"
      ]
     },
     "metadata": {},
     "output_type": "display_data"
    },
    {
     "data": {
      "text/markdown": [
       "tomb. 6:30 And the apostles gathered themselves together unto Jesus, and told him all things, both what they had done, and what they had taught. 6:31 And he said unto them, Come <span style=\"color: blue\">ye yourselves apart into a desert place, and rest</span> a while: for there were many coming and going, and they had no leisure so much as to eat. 6:32 And they departed into a desert place by ship privately. 6:33 And the people saw them departing"
      ],
      "text/plain": [
       "<IPython.core.display.Markdown object>"
      ]
     },
     "metadata": {},
     "output_type": "display_data"
    },
    {
     "data": {
      "text/markdown": [
       "### The Church at Libertyville: As Seen by Thomas Bradley: Edited by John Wesley Conley"
      ],
      "text/plain": [
       "<IPython.core.display.Markdown object>"
      ]
     },
     "metadata": {},
     "output_type": "display_data"
    },
    {
     "data": {
      "text/markdown": [
       "<small>Conley, John Wesley</small>"
      ],
      "text/plain": [
       "<IPython.core.display.Markdown object>"
      ]
     },
     "metadata": {},
     "output_type": "display_data"
    },
    {
     "data": {
      "text/markdown": [
       "takes a vacation.’ ” “ But, pastor,” interrupted Brother Good¬ will, “you certainly do not take the devil as your example. When the Master was here he said to his apostles at one time, ‘ Come <span style=\"color: blue\">ye yourselves apart into a desert place and rest</span> awhile,’ and what you need is to get apart into some desert place where the fishing and boating are good and rest awhile.” “ But,” said the pastor, “ I cannot leave"
      ],
      "text/plain": [
       "<IPython.core.display.Markdown object>"
      ]
     },
     "metadata": {},
     "output_type": "display_data"
    },
    {
     "name": "stdout",
     "output_type": "stream",
     "text": [
      "--------------------------------------------------\n"
     ]
    },
    {
     "data": {
      "text/markdown": [
       "### King James Bible"
      ],
      "text/plain": [
       "<IPython.core.display.Markdown object>"
      ]
     },
     "metadata": {},
     "output_type": "display_data"
    },
    {
     "data": {
      "text/markdown": [
       "suffer all things, lest we should hinder the gospel of Christ. 9:13 Do ye not know that they which minister about holy things live of the things of the temple? and they which <span style=\"color: blue\">wait at the altar are partakers with the altar? 9:14 Even so hath the Lord ordained that they which preach the gospel should live of the gospel</span>. 9:15 But I have used none of these things: neither have I written these things, that it should be so done unto me: for it were better for me to die, than that any man should make my glorying void. 9:16 For though I preach the gospel"
      ],
      "text/plain": [
       "<IPython.core.display.Markdown object>"
      ]
     },
     "metadata": {},
     "output_type": "display_data"
    },
    {
     "data": {
      "text/markdown": [
       "### The Church at Libertyville: As Seen by Thomas Bradley: Edited by John Wesley Conley"
      ],
      "text/plain": [
       "<IPython.core.display.Markdown object>"
      ]
     },
     "metadata": {},
     "output_type": "display_data"
    },
    {
     "data": {
      "text/markdown": [
       "<small>Conley, John Wesley</small>"
      ],
      "text/plain": [
       "<IPython.core.display.Markdown object>"
      ]
     },
     "metadata": {},
     "output_type": "display_data"
    },
    {
     "data": {
      "text/markdown": [
       "sent out his disciples, ‘ The laborer is worthy of his hire.’ Now ‘ hire ’ is some¬ thing definite. Paul, you will remember, wrote : ‘ They which <span style=\"color: blue\">wait at the altar, are partakers of the altar, even so hath the Lord ordained, that they which preach the gospel should live of the gospel</span>.’ We all know that in the olden times, those who served at the altar received a generous and definite portion for their support, and so I believe"
      ],
      "text/plain": [
       "<IPython.core.display.Markdown object>"
      ]
     },
     "metadata": {},
     "output_type": "display_data"
    },
    {
     "name": "stdout",
     "output_type": "stream",
     "text": [
      "--------------------------------------------------\n"
     ]
    },
    {
     "data": {
      "text/markdown": [
       "### King James Bible"
      ],
      "text/plain": [
       "<IPython.core.display.Markdown object>"
      ]
     },
     "metadata": {},
     "output_type": "display_data"
    },
    {
     "data": {
      "text/markdown": [
       "stand before me; for he hath found favour in my sight. 16:23 And it came to pass, when the evil spirit from God was <span style=\"color: blue\">upon Saul, that David took an harp, and played with his hand: so Saul was refreshed, and was well, and the evil spirit departed</span> from him. 17:1 Now the Philistines gathered together their armies to battle, and were gathered together at Shochoh, which belongeth to Judah"
      ],
      "text/plain": [
       "<IPython.core.display.Markdown object>"
      ]
     },
     "metadata": {},
     "output_type": "display_data"
    },
    {
     "data": {
      "text/markdown": [
       "### A Farm Philosopher: A Love Story: By Ada H. Kepley"
      ],
      "text/plain": [
       "<IPython.core.display.Markdown object>"
      ]
     },
     "metadata": {},
     "output_type": "display_data"
    },
    {
     "data": {
      "text/markdown": [
       "<small>Kepley, Ada H. (Ada Harriet)</small>"
      ],
      "text/plain": [
       "<IPython.core.display.Markdown object>"
      ]
     },
     "metadata": {},
     "output_type": "display_data"
    },
    {
     "data": {
      "text/markdown": [
       "hat line. I have complete absolution. MUSIC. ‘'And it came to pass that when an evil spirit came upon Saul tha <span style=\"color: blue\">t David took an harp and played with his hand; so Saul was refreshed and was well, and the evil spirit departed from him” —</span> Bible. “All music is ívhat awakes from you when you are reminded by the instruments. — Walt. Whitman. Music is used to quiet and heal lun"
      ],
      "text/plain": [
       "<IPython.core.display.Markdown object>"
      ]
     },
     "metadata": {},
     "output_type": "display_data"
    },
    {
     "name": "stdout",
     "output_type": "stream",
     "text": [
      "--------------------------------------------------\n"
     ]
    },
    {
     "data": {
      "text/markdown": [
       "### King James Bible"
      ],
      "text/plain": [
       "<IPython.core.display.Markdown object>"
      ]
     },
     "metadata": {},
     "output_type": "display_data"
    },
    {
     "data": {
      "text/markdown": [
       "thine ear to my understanding: 5:2 That thou mayest regard discretion, and that thy lips may keep knowledge. 5:3 For the <span style=\"color: blue\">lips of a strange woman drop as an honeycomb, and her mouth is smoother than oil: 5:4 But her end is bitter as wormwood, sharp as a two-edged sword. 5:5 Her feet go down to death; her steps take hold on hell</span>. 5:6 Lest thou shouldest ponder the path of life, her ways are moveable, that thou canst not know them. 5:7 Hear"
      ],
      "text/plain": [
       "<IPython.core.display.Markdown object>"
      ]
     },
     "metadata": {},
     "output_type": "display_data"
    },
    {
     "data": {
      "text/markdown": [
       "### A Farm Philosopher: A Love Story: By Ada H. Kepley"
      ],
      "text/plain": [
       "<IPython.core.display.Markdown object>"
      ]
     },
     "metadata": {},
     "output_type": "display_data"
    },
    {
     "data": {
      "text/markdown": [
       "<small>Kepley, Ada H. (Ada Harriet)</small>"
      ],
      "text/plain": [
       "<IPython.core.display.Markdown object>"
      ]
     },
     "metadata": {},
     "output_type": "display_data"
    },
    {
     "data": {
      "text/markdown": [
       "against the Holy Child, the curse of God is oh them and on the race as well. Let all learn from a wise one:— “For the lips of a str <span style=\"color: blue\">ange woman drop as an honeycomb, and her mouth is smoother than oil; But her end is bitter as wormwood, sharp as a two-edged sword. Her feet go down to death; her steps take hold of Hell. Remove thy</span> way far from her and come not nigh the door of her house; Lest thou give thine honour unto others, and"
      ],
      "text/plain": [
       "<IPython.core.display.Markdown object>"
      ]
     },
     "metadata": {},
     "output_type": "display_data"
    },
    {
     "name": "stdout",
     "output_type": "stream",
     "text": [
      "--------------------------------------------------\n"
     ]
    },
    {
     "data": {
      "text/markdown": [
       "### King James Bible"
      ],
      "text/plain": [
       "<IPython.core.display.Markdown object>"
      ]
     },
     "metadata": {},
     "output_type": "display_data"
    },
    {
     "data": {
      "text/markdown": [
       "thou canst not know them. 5:7 Hear me now therefore, O ye children, and depart not from the words of my mouth. 5:8 <span style=\"color: blue\">Remove thy way far from her, and come not nigh the door of her house: 5:9 Lest thou give thine honour unto others, and thy years unto the cruel: 5:10 Lest strangers</span> be filled with thy wealth; and thy labours be in the house of a stranger; 5:11 And thou mourn at the last, when thy flesh"
      ],
      "text/plain": [
       "<IPython.core.display.Markdown object>"
      ]
     },
     "metadata": {},
     "output_type": "display_data"
    },
    {
     "data": {
      "text/markdown": [
       "### A Farm Philosopher: A Love Story: By Ada H. Kepley"
      ],
      "text/plain": [
       "<IPython.core.display.Markdown object>"
      ]
     },
     "metadata": {},
     "output_type": "display_data"
    },
    {
     "data": {
      "text/markdown": [
       "<small>Kepley, Ada H. (Ada Harriet)</small>"
      ],
      "text/plain": [
       "<IPython.core.display.Markdown object>"
      ]
     },
     "metadata": {},
     "output_type": "display_data"
    },
    {
     "data": {
      "text/markdown": [
       "mwood, sharp as a two-edged sword. Her feet go down to death; her steps take hold of Hell. Remove thy wa <span style=\"color: blue\">y far from her and come not nigh the door of her house; Lest thou give thine honour unto others, and thy years unto the cruel. Lest strangers be filed wit</span> h thy wealth; and thy labors be in the house of a stranger; And thou mourn* at last, when thy flesh and thy body"
      ],
      "text/plain": [
       "<IPython.core.display.Markdown object>"
      ]
     },
     "metadata": {},
     "output_type": "display_data"
    },
    {
     "name": "stdout",
     "output_type": "stream",
     "text": [
      "--------------------------------------------------\n"
     ]
    },
    {
     "data": {
      "text/markdown": [
       "### King James Bible"
      ],
      "text/plain": [
       "<IPython.core.display.Markdown object>"
      ]
     },
     "metadata": {},
     "output_type": "display_data"
    },
    {
     "data": {
      "text/markdown": [
       "thy years unto the cruel: 5:10 Lest strangers be filled with thy wealth; and thy labours be in the house of a <span style=\"color: blue\">stranger; 5:11 And thou mourn at the last, when thy flesh and thy body are consumed</span>, 5:12 And say, How have I hated instruction, and my heart despised reproof; 5:13 And have not obeyed the voice of my teachers, nor inclined"
      ],
      "text/plain": [
       "<IPython.core.display.Markdown object>"
      ]
     },
     "metadata": {},
     "output_type": "display_data"
    },
    {
     "data": {
      "text/markdown": [
       "### A Farm Philosopher: A Love Story: By Ada H. Kepley"
      ],
      "text/plain": [
       "<IPython.core.display.Markdown object>"
      ]
     },
     "metadata": {},
     "output_type": "display_data"
    },
    {
     "data": {
      "text/markdown": [
       "<small>Kepley, Ada H. (Ada Harriet)</small>"
      ],
      "text/plain": [
       "<IPython.core.display.Markdown object>"
      ]
     },
     "metadata": {},
     "output_type": "display_data"
    },
    {
     "data": {
      "text/markdown": [
       "o the cruel. Lest strangers be filed with thy wealth; and thy labors be in the house of a stranger; And <span style=\"color: blue\">thou mourn* at last, when thy flesh and thy body are consumed, For by mean</span> s of ß whorish woman a man is bought to a piece of bread; and the adultress will hunt for the precious life. He goeth after her st"
      ],
      "text/plain": [
       "<IPython.core.display.Markdown object>"
      ]
     },
     "metadata": {},
     "output_type": "display_data"
    },
    {
     "name": "stdout",
     "output_type": "stream",
     "text": [
      "--------------------------------------------------\n"
     ]
    },
    {
     "data": {
      "text/markdown": [
       "### King James Bible"
      ],
      "text/plain": [
       "<IPython.core.display.Markdown object>"
      ]
     },
     "metadata": {},
     "output_type": "display_data"
    },
    {
     "data": {
      "text/markdown": [
       "beauty in thine heart; neither let her take thee with her eyelids. 6:26 For by means of a whorish woman a man is brought to a <span style=\"color: blue\">piece of bread: and the adultress will hunt for the precious</span> life. 6:27 Can a man take fire in his bosom, and his clothes not be burned? 6:28 Can one go upon hot coals, and his feet not be burned? 6:29 So he that goeth"
      ],
      "text/plain": [
       "<IPython.core.display.Markdown object>"
      ]
     },
     "metadata": {},
     "output_type": "display_data"
    },
    {
     "data": {
      "text/markdown": [
       "### A Farm Philosopher: A Love Story: By Ada H. Kepley"
      ],
      "text/plain": [
       "<IPython.core.display.Markdown object>"
      ]
     },
     "metadata": {},
     "output_type": "display_data"
    },
    {
     "data": {
      "text/markdown": [
       "<small>Kepley, Ada H. (Ada Harriet)</small>"
      ],
      "text/plain": [
       "<IPython.core.display.Markdown object>"
      ]
     },
     "metadata": {},
     "output_type": "display_data"
    },
    {
     "data": {
      "text/markdown": [
       "t, when thy flesh and thy body are consumed, For by means of ß whorish woman a man is bought to a piece of brea <span style=\"color: blue\">d; and the adultress will hunt for the precious life. He goe</span> th after her straightway as an ox goeth to the slaughter, or as a fool to the correction of the stocks, till a dart strike thoug"
      ],
      "text/plain": [
       "<IPython.core.display.Markdown object>"
      ]
     },
     "metadata": {},
     "output_type": "display_data"
    },
    {
     "name": "stdout",
     "output_type": "stream",
     "text": [
      "--------------------------------------------------\n"
     ]
    },
    {
     "data": {
      "text/markdown": [
       "### King James Bible"
      ],
      "text/plain": [
       "<IPython.core.display.Markdown object>"
      ]
     },
     "metadata": {},
     "output_type": "display_data"
    },
    {
     "data": {
      "text/markdown": [
       "bag of money with him, and will come home at the day appointed. 7:21 With her much fair speech she caused him to yield, with the flattering of her lips she forced him. 7:22 He <span style=\"color: blue\">goeth after her straightway, as an ox goeth to the slaughter, or as a fool to the correction of the stocks; 7:23 Till a dart strike</span> through his liver; as a bird hasteth to the snare, and knoweth not that it is for his life. 7:24 Hearken unto me now therefore, O ye"
      ],
      "text/plain": [
       "<IPython.core.display.Markdown object>"
      ]
     },
     "metadata": {},
     "output_type": "display_data"
    },
    {
     "data": {
      "text/markdown": [
       "### A Farm Philosopher: A Love Story: By Ada H. Kepley"
      ],
      "text/plain": [
       "<IPython.core.display.Markdown object>"
      ]
     },
     "metadata": {},
     "output_type": "display_data"
    },
    {
     "data": {
      "text/markdown": [
       "<small>Kepley, Ada H. (Ada Harriet)</small>"
      ],
      "text/plain": [
       "<IPython.core.display.Markdown object>"
      ]
     },
     "metadata": {},
     "output_type": "display_data"
    },
    {
     "data": {
      "text/markdown": [
       "by means of ß whorish woman a man is bought to a piece of bread; and the adultress will hunt for the precious life. He goeth after h <span style=\"color: blue\">er straightway as an ox goeth to the slaughter, or as a fool to the correction of the stocks, till a dart strike though his l</span> iver, and he knoweth not it is for his life. For she has cast down many wounded; yea, many strong men have been slain by her. Her house is the way to hell, going down"
      ],
      "text/plain": [
       "<IPython.core.display.Markdown object>"
      ]
     },
     "metadata": {},
     "output_type": "display_data"
    },
    {
     "name": "stdout",
     "output_type": "stream",
     "text": [
      "--------------------------------------------------\n"
     ]
    },
    {
     "data": {
      "text/markdown": [
       "### King James Bible"
      ],
      "text/plain": [
       "<IPython.core.display.Markdown object>"
      ]
     },
     "metadata": {},
     "output_type": "display_data"
    },
    {
     "data": {
      "text/markdown": [
       "attend to the words of my mouth. 7:25 Let not thine heart decline to her ways, go not astray in her paths. 7:26 For she hath <span style=\"color: blue\">cast down many wounded: yea, many strong men have been slain by her. 7:27 Her house is the way to hell, going down to the chambers of death</span>. 8:1 Doth not wisdom cry? and understanding put forth her voice? 8:2 She standeth in the top of high places"
      ],
      "text/plain": [
       "<IPython.core.display.Markdown object>"
      ]
     },
     "metadata": {},
     "output_type": "display_data"
    },
    {
     "data": {
      "text/markdown": [
       "### A Farm Philosopher: A Love Story: By Ada H. Kepley"
      ],
      "text/plain": [
       "<IPython.core.display.Markdown object>"
      ]
     },
     "metadata": {},
     "output_type": "display_data"
    },
    {
     "data": {
      "text/markdown": [
       "<small>Kepley, Ada H. (Ada Harriet)</small>"
      ],
      "text/plain": [
       "<IPython.core.display.Markdown object>"
      ]
     },
     "metadata": {},
     "output_type": "display_data"
    },
    {
     "data": {
      "text/markdown": [
       "as a fool to the correction of the stocks, till a dart strike though his liver, and he knoweth not it is for his life. For she has cast down man <span style=\"color: blue\">y wounded; yea, many strong men have been slain by her. Her house is the way to hell, going down to the chambers of death.”—Proverbs.—</span>(Bible) The demand of the man upon the woman, has come back like a boomerang, with a curse to him and his. In the ancient times Queens would breed"
      ],
      "text/plain": [
       "<IPython.core.display.Markdown object>"
      ]
     },
     "metadata": {},
     "output_type": "display_data"
    },
    {
     "name": "stdout",
     "output_type": "stream",
     "text": [
      "--------------------------------------------------\n"
     ]
    },
    {
     "data": {
      "text/markdown": [
       "### King James Bible"
      ],
      "text/plain": [
       "<IPython.core.display.Markdown object>"
      ]
     },
     "metadata": {},
     "output_type": "display_data"
    },
    {
     "data": {
      "text/markdown": [
       "pass afterward, that I will pour out my spirit upon all flesh; and your sons and your daughters shall prophesy, your old <span style=\"color: blue\">men shall dream dreams, your young men shall see visions</span>: 2:29 And also upon the servants and upon the handmaids in those days will I pour out my spirit. 2:30 And I will shew wonders in the heavens"
      ],
      "text/plain": [
       "<IPython.core.display.Markdown object>"
      ]
     },
     "metadata": {},
     "output_type": "display_data"
    },
    {
     "data": {
      "text/markdown": [
       "### A Farm Philosopher: A Love Story: By Ada H. Kepley"
      ],
      "text/plain": [
       "<IPython.core.display.Markdown object>"
      ]
     },
     "metadata": {},
     "output_type": "display_data"
    },
    {
     "data": {
      "text/markdown": [
       "<small>Kepley, Ada H. (Ada Harriet)</small>"
      ],
      "text/plain": [
       "<IPython.core.display.Markdown object>"
      ]
     },
     "metadata": {},
     "output_type": "display_data"
    },
    {
     "data": {
      "text/markdown": [
       "of the prophecy of Joel. In the last days saith the Lord I will pour out of my spirit on all flesh, and your old men shall dre <span style=\"color: blue\">am dreams; your young men shall see visions, and your wo</span> men shall prophecy,’ ” well, he had nothing further to say; he may be meditating on that question yet for all I know. I once canvassed the State of Illinois"
      ],
      "text/plain": [
       "<IPython.core.display.Markdown object>"
      ]
     },
     "metadata": {},
     "output_type": "display_data"
    },
    {
     "name": "stdout",
     "output_type": "stream",
     "text": [
      "--------------------------------------------------\n"
     ]
    },
    {
     "data": {
      "text/markdown": [
       "### King James Bible"
      ],
      "text/plain": [
       "<IPython.core.display.Markdown object>"
      ]
     },
     "metadata": {},
     "output_type": "display_data"
    },
    {
     "data": {
      "text/markdown": [
       "unto them: for your Father knoweth what things ye have need of, before ye ask him. 6:9 After this manner therefore pray ye: Our <span style=\"color: blue\">Father which art in heaven, Hallowed be thy name. 6:10 Thy kingdom come, Thy will be done in earth, as it is in heaven. 6:11 Give us this day our daily bread. 6:12 And forgive</span> us our debts, as we forgive our debtors. 6:13 And lead us not into temptation, but deliver us from evil: For thine is the kingdom, and the power"
      ],
      "text/plain": [
       "<IPython.core.display.Markdown object>"
      ]
     },
     "metadata": {},
     "output_type": "display_data"
    },
    {
     "data": {
      "text/markdown": [
       "### A Farm Philosopher: A Love Story: By Ada H. Kepley"
      ],
      "text/plain": [
       "<IPython.core.display.Markdown object>"
      ]
     },
     "metadata": {},
     "output_type": "display_data"
    },
    {
     "data": {
      "text/markdown": [
       "<small>Kepley, Ada H. (Ada Harriet)</small>"
      ],
      "text/plain": [
       "<IPython.core.display.Markdown object>"
      ]
     },
     "metadata": {},
     "output_type": "display_data"
    },
    {
     "data": {
      "text/markdown": [
       "he psychic, which is of the soul, and which is above and controls the body. THE PRAYER JESUS TAUGHT MEN. “Our Father which a <span style=\"color: blue\">rt in Heaven; hallowed be thy name; Thy kingdom come, Thy will be done on earth as it is in Heaven. Give us this day our daily bread, and forgive us our trespa</span> sses as we forgive those who trespass against us; and lead us not into temptation, but deliver us from evil for Thine is the King¬ dom and the"
      ],
      "text/plain": [
       "<IPython.core.display.Markdown object>"
      ]
     },
     "metadata": {},
     "output_type": "display_data"
    },
    {
     "name": "stdout",
     "output_type": "stream",
     "text": [
      "--------------------------------------------------\n"
     ]
    },
    {
     "data": {
      "text/markdown": [
       "### King James Bible"
      ],
      "text/plain": [
       "<IPython.core.display.Markdown object>"
      ]
     },
     "metadata": {},
     "output_type": "display_data"
    },
    {
     "data": {
      "text/markdown": [
       "kingdom come, Thy will be done in earth, as it is in heaven. 6:11 Give us this day our daily bread. 6:12 And forgive us our debts, as we forgive our debtors. 6:13 And <span style=\"color: blue\">lead us not into temptation, but deliver us from evil: For thine</span> is the kingdom, and the power, and the glory, for ever. Amen. 6:14 For if ye forgive men their trespasses, your heavenly Father"
      ],
      "text/plain": [
       "<IPython.core.display.Markdown object>"
      ]
     },
     "metadata": {},
     "output_type": "display_data"
    },
    {
     "data": {
      "text/markdown": [
       "### A Farm Philosopher: A Love Story: By Ada H. Kepley"
      ],
      "text/plain": [
       "<IPython.core.display.Markdown object>"
      ]
     },
     "metadata": {},
     "output_type": "display_data"
    },
    {
     "data": {
      "text/markdown": [
       "<small>Kepley, Ada H. (Ada Harriet)</small>"
      ],
      "text/plain": [
       "<IPython.core.display.Markdown object>"
      ]
     },
     "metadata": {},
     "output_type": "display_data"
    },
    {
     "data": {
      "text/markdown": [
       "ne on earth as it is in Heaven. Give us this day our daily bread, and forgive us our trespasses as we forgive those who trespass against us; and lead us not in <span style=\"color: blue\">to temptation, but deliver us from evil for Thine is the King¬</span> dom and the power and the glory forever—Amen”. THE PRAYERS OF JESUS. The Prayer in the Garden of Gethsemane"
      ],
      "text/plain": [
       "<IPython.core.display.Markdown object>"
      ]
     },
     "metadata": {},
     "output_type": "display_data"
    },
    {
     "name": "stdout",
     "output_type": "stream",
     "text": [
      "--------------------------------------------------\n"
     ]
    },
    {
     "data": {
      "text/markdown": [
       "### King James Bible"
      ],
      "text/plain": [
       "<IPython.core.display.Markdown object>"
      ]
     },
     "metadata": {},
     "output_type": "display_data"
    },
    {
     "data": {
      "text/markdown": [
       "put his hands upon them, and blessed them. 10:17 And when he was gone forth into the way, there came one running, and kneeled to him, and asked him, Good <span style=\"color: blue\">Master, what shall I do that I may inherit eternal life? 10:18 And Jesus</span> said unto him, Why callest thou me good? there is none good but one, that is, God. 10:19 Thou knowest the commandments, Do not commit adultery"
      ],
      "text/plain": [
       "<IPython.core.display.Markdown object>"
      ]
     },
     "metadata": {},
     "output_type": "display_data"
    },
    {
     "data": {
      "text/markdown": [
       "### A Farm Philosopher: A Love Story: By Ada H. Kepley"
      ],
      "text/plain": [
       "<IPython.core.display.Markdown object>"
      ]
     },
     "metadata": {},
     "output_type": "display_data"
    },
    {
     "data": {
      "text/markdown": [
       "<small>Kepley, Ada H. (Ada Harriet)</small>"
      ],
      "text/plain": [
       "<IPython.core.display.Markdown object>"
      ]
     },
     "metadata": {},
     "output_type": "display_data"
    },
    {
     "data": {
      "text/markdown": [
       "as on the earth, a certain lawyer stood up and tempted him we are told and asked this question, “Master what sh <span style=\"color: blue\">all I do to inherit eternal life”? Jesus said, “What i</span> s written in the law, how readest thou?” and he answering said. “Thou shalt love the Lord thy God with all thy"
      ],
      "text/plain": [
       "<IPython.core.display.Markdown object>"
      ]
     },
     "metadata": {},
     "output_type": "display_data"
    },
    {
     "name": "stdout",
     "output_type": "stream",
     "text": [
      "--------------------------------------------------\n"
     ]
    },
    {
     "data": {
      "text/markdown": [
       "### King James Bible"
      ],
      "text/plain": [
       "<IPython.core.display.Markdown object>"
      ]
     },
     "metadata": {},
     "output_type": "display_data"
    },
    {
     "data": {
      "text/markdown": [
       "certain lawyer stood up, and tempted him, saying, Master, what shall I do to inherit eternal life? 10:26 He said unto him, What is <span style=\"color: blue\">written in the law? how readest thou? 10:27 And he answering said, Thou shalt love the Lord thy God with all thy heart, and with all thy soul, and with all thy strength, and with all thy mind; and thy</span> neighbour as thyself. 10:28 And he said unto him, Thou hast answered right: this do, and thou shalt live. 10:29 But he, willing"
      ],
      "text/plain": [
       "<IPython.core.display.Markdown object>"
      ]
     },
     "metadata": {},
     "output_type": "display_data"
    },
    {
     "data": {
      "text/markdown": [
       "### A Farm Philosopher: A Love Story: By Ada H. Kepley"
      ],
      "text/plain": [
       "<IPython.core.display.Markdown object>"
      ]
     },
     "metadata": {},
     "output_type": "display_data"
    },
    {
     "data": {
      "text/markdown": [
       "<small>Kepley, Ada H. (Ada Harriet)</small>"
      ],
      "text/plain": [
       "<IPython.core.display.Markdown object>"
      ]
     },
     "metadata": {},
     "output_type": "display_data"
    },
    {
     "data": {
      "text/markdown": [
       "empted him we are told and asked this question, “Master what shall I do to inherit eternal life”? Jesus said, “What is written in the <span style=\"color: blue\">law, how readest thou?” and he answering said. “Thou shalt love the Lord thy God with all thy heart and with all thy soul and with all thy strength and with all thy mind, and thy neighbor as t</span> hyself. And he (Jesus) said unto him, Thou hast answered right; this do and thou shalt live.”—Luke 10 : 2"
      ],
      "text/plain": [
       "<IPython.core.display.Markdown object>"
      ]
     },
     "metadata": {},
     "output_type": "display_data"
    },
    {
     "name": "stdout",
     "output_type": "stream",
     "text": [
      "--------------------------------------------------\n"
     ]
    },
    {
     "data": {
      "text/markdown": [
       "### King James Bible"
      ],
      "text/plain": [
       "<IPython.core.display.Markdown object>"
      ]
     },
     "metadata": {},
     "output_type": "display_data"
    },
    {
     "data": {
      "text/markdown": [
       "heart, and with all thy soul, and with all thy strength, and with all thy mind; and thy neighbour as thyself. 10:28 And he said <span style=\"color: blue\">unto him, Thou hast answered right: this do, and thou shalt live</span>. 10:29 But he, willing to justify himself, said unto Jesus, And who is my neighbour? 10:30 And Jesus answering said, A certain man went"
      ],
      "text/plain": [
       "<IPython.core.display.Markdown object>"
      ]
     },
     "metadata": {},
     "output_type": "display_data"
    },
    {
     "data": {
      "text/markdown": [
       "### A Farm Philosopher: A Love Story: By Ada H. Kepley"
      ],
      "text/plain": [
       "<IPython.core.display.Markdown object>"
      ]
     },
     "metadata": {},
     "output_type": "display_data"
    },
    {
     "data": {
      "text/markdown": [
       "<small>Kepley, Ada H. (Ada Harriet)</small>"
      ],
      "text/plain": [
       "<IPython.core.display.Markdown object>"
      ]
     },
     "metadata": {},
     "output_type": "display_data"
    },
    {
     "data": {
      "text/markdown": [
       "ith all thy strength and with all thy mind, and thy neighbor as thyself. And he (Jesus) said unto him, Thou <span style=\"color: blue\">hast answered right; this do and thou shalt live.”—Luke 10 : 2</span>5 , 26 , 27 , 28 verses. Here is the whole question, and the answer in a nut shell. To use the words of Jesus, man to be saved must first lo"
      ],
      "text/plain": [
       "<IPython.core.display.Markdown object>"
      ]
     },
     "metadata": {},
     "output_type": "display_data"
    },
    {
     "name": "stdout",
     "output_type": "stream",
     "text": [
      "--------------------------------------------------\n"
     ]
    },
    {
     "data": {
      "text/markdown": [
       "### King James Bible"
      ],
      "text/plain": [
       "<IPython.core.display.Markdown object>"
      ]
     },
     "metadata": {},
     "output_type": "display_data"
    },
    {
     "data": {
      "text/markdown": [
       "dead. 17:1 Then said he unto the disciples, It is impossible but that offences will come: but woe unto him, through whom they come! 17:2 It were better for him that a millstone were hanged about his <span style=\"color: blue\">neck, and he cast into the sea, than that he should offend one of these little ones</span>. 17:3 Take heed to yourselves: If thy brother trespass against thee, rebuke him; and if he repent, forgive"
      ],
      "text/plain": [
       "<IPython.core.display.Markdown object>"
      ]
     },
     "metadata": {},
     "output_type": "display_data"
    },
    {
     "data": {
      "text/markdown": [
       "### A Farm Philosopher: A Love Story: By Ada H. Kepley"
      ],
      "text/plain": [
       "<IPython.core.display.Markdown object>"
      ]
     },
     "metadata": {},
     "output_type": "display_data"
    },
    {
     "data": {
      "text/markdown": [
       "<small>Kepley, Ada H. (Ada Harriet)</small>"
      ],
      "text/plain": [
       "<IPython.core.display.Markdown object>"
      ]
     },
     "metadata": {},
     "output_type": "display_data"
    },
    {
     "data": {
      "text/markdown": [
       "men. Dear little children, of whom Jesus said, ‘ Tt were better one had a millstone tied about his neck and be ca <span style=\"color: blue\">st into the sea than that he offend one of these little ones”. “It is not</span> the will of your Heavenly Father that one of these little ones shall perish. Their Angels do always see the face of my Father which is in Heaven”. I taught all the child"
      ],
      "text/plain": [
       "<IPython.core.display.Markdown object>"
      ]
     },
     "metadata": {},
     "output_type": "display_data"
    },
    {
     "name": "stdout",
     "output_type": "stream",
     "text": [
      "--------------------------------------------------\n"
     ]
    },
    {
     "data": {
      "text/markdown": [
       "### King James Bible"
      ],
      "text/plain": [
       "<IPython.core.display.Markdown object>"
      ]
     },
     "metadata": {},
     "output_type": "display_data"
    },
    {
     "data": {
      "text/markdown": [
       "unto the angels hath he not put in subjection the world to come, whereof we speak. 2:6 But one in a certain place testified, saying, What is man, that <span style=\"color: blue\">thou art mindful of him? or the son of man that thou visitest</span> him? 2:7 Thou madest him a little lower than the angels; thou crownedst him with glory and honour, and didst set"
      ],
      "text/plain": [
       "<IPython.core.display.Markdown object>"
      ]
     },
     "metadata": {},
     "output_type": "display_data"
    },
    {
     "data": {
      "text/markdown": [
       "### A Farm Philosopher: A Love Story: By Ada H. Kepley"
      ],
      "text/plain": [
       "<IPython.core.display.Markdown object>"
      ]
     },
     "metadata": {},
     "output_type": "display_data"
    },
    {
     "data": {
      "text/markdown": [
       "<small>Kepley, Ada H. (Ada Harriet)</small>"
      ],
      "text/plain": [
       "<IPython.core.display.Markdown object>"
      ]
     },
     "metadata": {},
     "output_type": "display_data"
    },
    {
     "data": {
      "text/markdown": [
       "sooner or later, “When I consid¬ er Thy heavens the works of thy fingers, what is man that Thou art mindf <span style=\"color: blue\">ul of him; and the son of man that Thou visitest him”? There w</span> ill grow in his soul an uplift that teaches him that the little standard that makes a man his own pattern of the best, is a pitiful thing; and that there is a pattern that all men need that sha"
      ],
      "text/plain": [
       "<IPython.core.display.Markdown object>"
      ]
     },
     "metadata": {},
     "output_type": "display_data"
    },
    {
     "name": "stdout",
     "output_type": "stream",
     "text": [
      "--------------------------------------------------\n"
     ]
    },
    {
     "data": {
      "text/markdown": [
       "### King James Bible"
      ],
      "text/plain": [
       "<IPython.core.display.Markdown object>"
      ]
     },
     "metadata": {},
     "output_type": "display_data"
    },
    {
     "data": {
      "text/markdown": [
       "seeing he giveth to all life, and breath, and all things; 17:26 And hath made of one blood all nations of men for to dwell on all the face of the earth, and <span style=\"color: blue\">hath determined the times before appointed, and the bounds of their habitation</span>; 17:27 That they should seek the Lord, if haply they might feel after him, and find him, though he be not far from every one of us: 17:28 For in him we live, and move, and have our being; as certain also of your own poets have said, For we are also his offspring"
      ],
      "text/plain": [
       "<IPython.core.display.Markdown object>"
      ]
     },
     "metadata": {},
     "output_type": "display_data"
    },
    {
     "data": {
      "text/markdown": [
       "### S'ancrer: By Ibbie Raymond"
      ],
      "text/plain": [
       "<IPython.core.display.Markdown object>"
      ]
     },
     "metadata": {},
     "output_type": "display_data"
    },
    {
     "data": {
      "text/markdown": [
       "<small>Raymond, Ibbie</small>"
      ],
      "text/plain": [
       "<IPython.core.display.Markdown object>"
      ]
     },
     "metadata": {},
     "output_type": "display_data"
    },
    {
     "data": {
      "text/markdown": [
       "traits and tendencies. As he resists or yields to tempta¬ tion, so upon the hand is it written.” “God ‘ <span style=\"color: blue\">hath determined the times appointed, and the bounds of their habitation</span>.’ And the momentous things of our life—the character-forming events are written on our hands. Life in this world is a school to train the ego or subjective entity"
      ],
      "text/plain": [
       "<IPython.core.display.Markdown object>"
      ]
     },
     "metadata": {},
     "output_type": "display_data"
    },
    {
     "name": "stdout",
     "output_type": "stream",
     "text": [
      "--------------------------------------------------\n"
     ]
    },
    {
     "data": {
      "text/markdown": [
       "### King James Bible"
      ],
      "text/plain": [
       "<IPython.core.display.Markdown object>"
      ]
     },
     "metadata": {},
     "output_type": "display_data"
    },
    {
     "data": {
      "text/markdown": [
       "shall cleave to his wife: and they twain shall be one flesh? 19:6 Wherefore they are no more twain, but one flesh. What therefore <span style=\"color: blue\">God hath joined together, let not man put asunder</span>. 19:7 They say unto him, Why did Moses then command to give a writing of divorcement, and to put her away? 19:8 He saith unto them, Moses because of the hardness"
      ],
      "text/plain": [
       "<IPython.core.display.Markdown object>"
      ]
     },
     "metadata": {},
     "output_type": "display_data"
    },
    {
     "data": {
      "text/markdown": [
       "### The Catastrophe, a Tale of the Nineteenth Century"
      ],
      "text/plain": [
       "<IPython.core.display.Markdown object>"
      ]
     },
     "metadata": {},
     "output_type": "display_data"
    },
    {
     "data": {
      "text/markdown": [
       "<small>None</small>"
      ],
      "text/plain": [
       "<IPython.core.display.Markdown object>"
      ]
     },
     "metadata": {},
     "output_type": "display_data"
    },
    {
     "data": {
      "text/markdown": [
       "exposed to such When he took their · of joining them he the power of his emotions, and, completed the form which he 3 tomed to use on such occasions, with the words, “ what <span style=\"color: blue\">God hath joined together, let not man put asunder</span>,” he added in the midst of his flowing tears, “ you know not yet the dangers to which your wealth ex¬ poses you ; may God"
      ],
      "text/plain": [
       "<IPython.core.display.Markdown object>"
      ]
     },
     "metadata": {},
     "output_type": "display_data"
    },
    {
     "name": "stdout",
     "output_type": "stream",
     "text": [
      "--------------------------------------------------\n"
     ]
    },
    {
     "data": {
      "text/markdown": [
       "### King James Bible"
      ],
      "text/plain": [
       "<IPython.core.display.Markdown object>"
      ]
     },
     "metadata": {},
     "output_type": "display_data"
    },
    {
     "data": {
      "text/markdown": [
       "shall worship the Father in spirit and in truth: for the Father seeketh such to worship him. 4:24 God is a Spirit: and they that <span style=\"color: blue\">worship him must worship him in spirit and in truth</span>. 4:25 The woman saith unto him, I know that Messias cometh, which is called Christ: when he is come, he will tell us all things. 4:26 Jesus saith unto"
      ],
      "text/plain": [
       "<IPython.core.display.Markdown object>"
      ]
     },
     "metadata": {},
     "output_type": "display_data"
    },
    {
     "data": {
      "text/markdown": [
       "### Confessions of a Wife: By Mary Adams; with Illustrations by Granville Smith"
      ],
      "text/plain": [
       "<IPython.core.display.Markdown object>"
      ]
     },
     "metadata": {},
     "output_type": "display_data"
    },
    {
     "data": {
      "text/markdown": [
       "<small>Ward, Elizabeth Stuart Phelps</small>"
      ],
      "text/plain": [
       "<IPython.core.display.Markdown object>"
      ]
     },
     "metadata": {},
     "output_type": "display_data"
    },
    {
     "data": {
      "text/markdown": [
       "van¬ tage reserved for that which begins with the spirit and does not descend 4 Love is like God, omnipotent, immutable, in¬ scrutable, and they that wo <span style=\"color: blue\">rship it must worship it in spirit and in truth.</span> t-\\f »*· Co¬ ol 0Л Next to God/the best thing is a true-hearted and high-minded friend. November t"
      ],
      "text/plain": [
       "<IPython.core.display.Markdown object>"
      ]
     },
     "metadata": {},
     "output_type": "display_data"
    },
    {
     "name": "stdout",
     "output_type": "stream",
     "text": [
      "--------------------------------------------------\n"
     ]
    },
    {
     "data": {
      "text/markdown": [
       "### King James Bible"
      ],
      "text/plain": [
       "<IPython.core.display.Markdown object>"
      ]
     },
     "metadata": {},
     "output_type": "display_data"
    },
    {
     "data": {
      "text/markdown": [
       "LORD will not cast off for ever: 3:32 But though he cause grief, yet will he have compassion according to the multitude of his mercies. 3:33 For he <span style=\"color: blue\">doth not afflict willingly nor grieve the children of men</span>. 3:34 To crush under his feet all the prisoners of the earth. 3:35 To turn aside the right of a man before the face of the most High, 3:36 To subvert a man in his cause"
      ],
      "text/plain": [
       "<IPython.core.display.Markdown object>"
      ]
     },
     "metadata": {},
     "output_type": "display_data"
    },
    {
     "data": {
      "text/markdown": [
       "### The Lost Virgin of the South: An Historical Novel Founded on Facts, Connected with the Indian War in the South, 1812 to '15: By Petro Casender"
      ],
      "text/plain": [
       "<IPython.core.display.Markdown object>"
      ]
     },
     "metadata": {},
     "output_type": "display_data"
    },
    {
     "data": {
      "text/markdown": [
       "<small>Casender, Petro</small>"
      ],
      "text/plain": [
       "<IPython.core.display.Markdown object>"
      ]
     },
     "metadata": {},
     "output_type": "display_data"
    },
    {
     "data": {
      "text/markdown": [
       "are in the third chapter of his book of 1 .am· «nations, from the 16th to the 37th verse. ‘That the Lord doth •Л afflic <span style=\"color: blue\">t willingly, nor grieve the children of men.* W ^4 *ï bel</span> ieve that this state of our existence is intended to initiate Ш into the knowledge of the character of our Divine father, and the vari"
      ],
      "text/plain": [
       "<IPython.core.display.Markdown object>"
      ]
     },
     "metadata": {},
     "output_type": "display_data"
    },
    {
     "name": "stdout",
     "output_type": "stream",
     "text": [
      "--------------------------------------------------\n"
     ]
    },
    {
     "data": {
      "text/markdown": [
       "### King James Bible"
      ],
      "text/plain": [
       "<IPython.core.display.Markdown object>"
      ]
     },
     "metadata": {},
     "output_type": "display_data"
    },
    {
     "data": {
      "text/markdown": [
       "God; in him will I trust. 91:3 Surely he shall deliver thee from the snare of the fowler, and from the noisome pestilence. 91:4 He <span style=\"color: blue\">shall cover thee with his feathers, and under his wings shalt thou trust: his truth shall be thy shield and buckler</span>. 91:5 Thou shalt not be afraid for the terror by night; nor for the arrow that flieth by day; 91:6 Nor for the pestilence"
      ],
      "text/plain": [
       "<IPython.core.display.Markdown object>"
      ]
     },
     "metadata": {},
     "output_type": "display_data"
    },
    {
     "data": {
      "text/markdown": [
       "### Sherbrooke: By H. B. G."
      ],
      "text/plain": [
       "<IPython.core.display.Markdown object>"
      ]
     },
     "metadata": {},
     "output_type": "display_data"
    },
    {
     "data": {
      "text/markdown": [
       "<small>H. B. G. (Hannah Elizabeth Bradbury Goodwin Talcott)</small>"
      ],
      "text/plain": [
       "<IPython.core.display.Markdown object>"
      ]
     },
     "metadata": {},
     "output_type": "display_data"
    },
    {
     "data": {
      "text/markdown": [
       "ow and tremulous voice a short prayer. And then, after a minute’s silence, he said in soothing tones, “ ‘ He s <span style=\"color: blue\">hall cover thee with his feathers and under his wings shalt. thou trust ; his truth shall be thy shield and buckler.</span>’ My child, can you say that God is my refuge and fortress?” “ Oh, father, I try to love and trast Him.” “ But is there no beauty and comeliness that you should desire"
      ],
      "text/plain": [
       "<IPython.core.display.Markdown object>"
      ]
     },
     "metadata": {},
     "output_type": "display_data"
    },
    {
     "name": "stdout",
     "output_type": "stream",
     "text": [
      "--------------------------------------------------\n"
     ]
    },
    {
     "data": {
      "text/markdown": [
       "### King James Bible"
      ],
      "text/plain": [
       "<IPython.core.display.Markdown object>"
      ]
     },
     "metadata": {},
     "output_type": "display_data"
    },
    {
     "data": {
      "text/markdown": [
       "straitened; and when thou runnest, thou shalt not stumble. 4:13 Take fast hold of instruction; let her not go: keep her; for she is thy life. 4:14 <span style=\"color: blue\">Enter not into the path of the wicked, and go not in the way of evil men</span>. 4:15 Avoid it, pass not by it, turn from it, and pass away. 4:16 For they sleep not, except they have done mischief; and their sleep is taken away, unless"
      ],
      "text/plain": [
       "<IPython.core.display.Markdown object>"
      ]
     },
     "metadata": {},
     "output_type": "display_data"
    },
    {
     "data": {
      "text/markdown": [
       "### Sherbrooke: By H. B. G."
      ],
      "text/plain": [
       "<IPython.core.display.Markdown object>"
      ]
     },
     "metadata": {},
     "output_type": "display_data"
    },
    {
     "data": {
      "text/markdown": [
       "<small>H. B. G. (Hannah Elizabeth Bradbury Goodwin Talcott)</small>"
      ],
      "text/plain": [
       "<IPython.core.display.Markdown object>"
      ]
     },
     "metadata": {},
     "output_type": "display_data"
    },
    {
     "data": {
      "text/markdown": [
       "ample, Brother Hastings, and the countenance that his communing with slaveholders would give to their heinous crimes.” “ Solomon says, ‘ En <span style=\"color: blue\">ter not into the path of the wicked, and go not in the way of evil men,’</span>” quoted Aunt Lydia. “ That’s a fact, Lyddý, and you and the parson together will be too much for me ; but after all, I can’t see how Smith’s"
      ],
      "text/plain": [
       "<IPython.core.display.Markdown object>"
      ]
     },
     "metadata": {},
     "output_type": "display_data"
    },
    {
     "name": "stdout",
     "output_type": "stream",
     "text": [
      "--------------------------------------------------\n"
     ]
    },
    {
     "data": {
      "text/markdown": [
       "### King James Bible"
      ],
      "text/plain": [
       "<IPython.core.display.Markdown object>"
      ]
     },
     "metadata": {},
     "output_type": "display_data"
    },
    {
     "data": {
      "text/markdown": [
       "call passengers who go right on their ways: 9:16 Whoso is simple, let him turn in hither: and as for him that wanteth understanding, she saith to him, 9:17 <span style=\"color: blue\">Stolen waters are sweet, and bread eaten in secret is pleasant</span>. 9:18 But he knoweth not that the dead are there; and that her guests are in the depths of hell. 10:1 The proverbs of Solomon. A wise son maketh"
      ],
      "text/plain": [
       "<IPython.core.display.Markdown object>"
      ]
     },
     "metadata": {},
     "output_type": "display_data"
    },
    {
     "data": {
      "text/markdown": [
       "### Sherbrooke: By H. B. G."
      ],
      "text/plain": [
       "<IPython.core.display.Markdown object>"
      ]
     },
     "metadata": {},
     "output_type": "display_data"
    },
    {
     "data": {
      "text/markdown": [
       "<small>H. B. G. (Hannah Elizabeth Bradbury Goodwin Talcott)</small>"
      ],
      "text/plain": [
       "<IPython.core.display.Markdown object>"
      ]
     },
     "metadata": {},
     "output_type": "display_data"
    },
    {
     "data": {
      "text/markdown": [
       "eeted the minister’s vision. “ So, Miss Hope, you’ve been proving the truth of the proverb, ‘ St <span style=\"color: blue\">olen waters are sweet, and bread eaten in secret is pleasant?’</span> How long had you been listening? ” “ Aunt Lydia, you don’t think I could be so wanting in honor as to listen? I unwillingly heard j"
      ],
      "text/plain": [
       "<IPython.core.display.Markdown object>"
      ]
     },
     "metadata": {},
     "output_type": "display_data"
    },
    {
     "name": "stdout",
     "output_type": "stream",
     "text": [
      "--------------------------------------------------\n"
     ]
    },
    {
     "data": {
      "text/markdown": [
       "### King James Bible"
      ],
      "text/plain": [
       "<IPython.core.display.Markdown object>"
      ]
     },
     "metadata": {},
     "output_type": "display_data"
    },
    {
     "data": {
      "text/markdown": [
       "foolish son is the heaviness of his mother. 10:2 Treasures of wickedness profit nothing: but righteousness delivereth from death. 10:3 The <span style=\"color: blue\">LORD will not suffer the soul of the righteous to famish</span>: but he casteth away the substance of the wicked. 10:4 He becometh poor that dealeth with a slack hand: but the hand of the diligent"
      ],
      "text/plain": [
       "<IPython.core.display.Markdown object>"
      ]
     },
     "metadata": {},
     "output_type": "display_data"
    },
    {
     "data": {
      "text/markdown": [
       "### Sherbrooke: By H. B. G."
      ],
      "text/plain": [
       "<IPython.core.display.Markdown object>"
      ]
     },
     "metadata": {},
     "output_type": "display_data"
    },
    {
     "data": {
      "text/markdown": [
       "<small>H. B. G. (Hannah Elizabeth Bradbury Goodwin Talcott)</small>"
      ],
      "text/plain": [
       "<IPython.core.display.Markdown object>"
      ]
     },
     "metadata": {},
     "output_type": "display_data"
    },
    {
     "data": {
      "text/markdown": [
       "overbs did not forsake her at this most opportune moment for quoting, and with an audible sigh she withdrew her handkerchief from her eyes and said : “ ‘ The Lo <span style=\"color: blue\">rd will not suffer the soul of the righteous to famish.’</span> Caleb, this is no place for you and Mary ; take Лег to your room and leave me to do all that remains to be done for Ellen.” The tired and grief-stricken minister s"
      ],
      "text/plain": [
       "<IPython.core.display.Markdown object>"
      ]
     },
     "metadata": {},
     "output_type": "display_data"
    },
    {
     "name": "stdout",
     "output_type": "stream",
     "text": [
      "--------------------------------------------------\n"
     ]
    },
    {
     "data": {
      "text/markdown": [
       "### King James Bible"
      ],
      "text/plain": [
       "<IPython.core.display.Markdown object>"
      ]
     },
     "metadata": {},
     "output_type": "display_data"
    },
    {
     "data": {
      "text/markdown": [
       "eyes, so is the sluggard to them that send him. 10:27 The fear of the LORD prolongeth days: but the years of the wicked shall be shortened. 10:28 The <span style=\"color: blue\">hope of the righteous shall be gladness: but the expectation of the wicked shall perish</span>. 10:29 The way of the LORD is strength to the upright: but destruction shall be to the workers of iniquity. 10:30 The righteous shall never be removed"
      ],
      "text/plain": [
       "<IPython.core.display.Markdown object>"
      ]
     },
     "metadata": {},
     "output_type": "display_data"
    },
    {
     "data": {
      "text/markdown": [
       "### Sherbrooke: By H. B. G."
      ],
      "text/plain": [
       "<IPython.core.display.Markdown object>"
      ]
     },
     "metadata": {},
     "output_type": "display_data"
    },
    {
     "data": {
      "text/markdown": [
       "<small>H. B. G. (Hannah Elizabeth Bradbury Goodwin Talcott)</small>"
      ],
      "text/plain": [
       "<IPython.core.display.Markdown object>"
      ]
     },
     "metadata": {},
     "output_type": "display_data"
    },
    {
     "data": {
      "text/markdown": [
       "ans for dinner, I told my aunt what first prompted me to use my pen, what encouragement I had received, and what were my future prospects. “ ‘ The ho <span style=\"color: blue\">pe of the righteous shall be gladness, but the expectation of the wicked shall perish,’</span>” quoted my aunt with a sigh, when I had concluded ; and the sigh plainly intimated that my expectations would share the fate o"
      ],
      "text/plain": [
       "<IPython.core.display.Markdown object>"
      ]
     },
     "metadata": {},
     "output_type": "display_data"
    },
    {
     "name": "stdout",
     "output_type": "stream",
     "text": [
      "--------------------------------------------------\n"
     ]
    },
    {
     "data": {
      "text/markdown": [
       "### King James Bible"
      ],
      "text/plain": [
       "<IPython.core.display.Markdown object>"
      ]
     },
     "metadata": {},
     "output_type": "display_data"
    },
    {
     "data": {
      "text/markdown": [
       "thy mouth, judge righteously, and plead the cause of the poor and needy. 31:10 Who can find a virtuous woman? for her <span style=\"color: blue\">price is far above rubies. 31:11 The heart of her husband</span> doth safely trust in her, so that he shall have no need of spoil. 31:12 She will do him good and not evil all the days of her life. 31:13 She seeketh wool, and flax"
      ],
      "text/plain": [
       "<IPython.core.display.Markdown object>"
      ]
     },
     "metadata": {},
     "output_type": "display_data"
    },
    {
     "data": {
      "text/markdown": [
       "### Sherbrooke: By H. B. G."
      ],
      "text/plain": [
       "<IPython.core.display.Markdown object>"
      ]
     },
     "metadata": {},
     "output_type": "display_data"
    },
    {
     "data": {
      "text/markdown": [
       "<small>H. B. G. (Hannah Elizabeth Bradbury Goodwin Talcott)</small>"
      ],
      "text/plain": [
       "<IPython.core.display.Markdown object>"
      ]
     },
     "metadata": {},
     "output_type": "display_data"
    },
    {
     "data": {
      "text/markdown": [
       "spicious day as witnessed the union of her namesake and a clergyman. “ I hope, Lydia, you’ll be one of those women ‘ whose pr <span style=\"color: blue\">ice is far above rubies, so that the heart of your husband c</span> an safely trust in you,” she quoted, after having touched the bride’s cheek with her thin lips,"
      ],
      "text/plain": [
       "<IPython.core.display.Markdown object>"
      ]
     },
     "metadata": {},
     "output_type": "display_data"
    },
    {
     "name": "stdout",
     "output_type": "stream",
     "text": [
      "--------------------------------------------------\n"
     ]
    },
    {
     "data": {
      "text/markdown": [
       "### King James Bible"
      ],
      "text/plain": [
       "<IPython.core.display.Markdown object>"
      ]
     },
     "metadata": {},
     "output_type": "display_data"
    },
    {
     "data": {
      "text/markdown": [
       "David, and to his seed for evermore. 19:1 The heavens declare the glory of God; and the firmament sheweth his handywork. 19:2 Day <span style=\"color: blue\">unto day uttereth speech, and night unto night</span> sheweth knowledge. 19:3 There is no speech nor language, where their voice is not heard. 19:4 Their line is gone out through all the earth"
      ],
      "text/plain": [
       "<IPython.core.display.Markdown object>"
      ]
     },
     "metadata": {},
     "output_type": "display_data"
    },
    {
     "data": {
      "text/markdown": [
       "### Cones for the Camp Fire: By W. H. H. (Adirondack) Murray"
      ],
      "text/plain": [
       "<IPython.core.display.Markdown object>"
      ]
     },
     "metadata": {},
     "output_type": "display_data"
    },
    {
     "data": {
      "text/markdown": [
       "<small>Murray, W. H. H. (William Henry Harrison)</small>"
      ],
      "text/plain": [
       "<IPython.core.display.Markdown object>"
      ]
     },
     "metadata": {},
     "output_type": "display_data"
    },
    {
     "data": {
      "text/markdown": [
       "ide to side, from base to summit, and above it the dome of the sky, and suspended from it the round moon ! “ Day u <span style=\"color: blue\">nto day uttereth speech, and night .unto night</span> showeth knowledge,” said the Judge rever¬ ently, and we turned slowly from the sublime spectacle before us» щт 38 CONES"
      ],
      "text/plain": [
       "<IPython.core.display.Markdown object>"
      ]
     },
     "metadata": {},
     "output_type": "display_data"
    },
    {
     "name": "stdout",
     "output_type": "stream",
     "text": [
      "--------------------------------------------------\n"
     ]
    },
    {
     "data": {
      "text/markdown": [
       "### King James Bible"
      ],
      "text/plain": [
       "<IPython.core.display.Markdown object>"
      ]
     },
     "metadata": {},
     "output_type": "display_data"
    },
    {
     "data": {
      "text/markdown": [
       "anointed. 132:18 His enemies will I clothe with shame: but upon himself shall his crown flourish. 133:1 Behold, how good and how <span style=\"color: blue\">pleasant it is for brethren to dwell together in unity</span>! 133:2 It is like the precious ointment upon the head, that ran down upon the beard, even Aaron's beard"
      ],
      "text/plain": [
       "<IPython.core.display.Markdown object>"
      ]
     },
     "metadata": {},
     "output_type": "display_data"
    },
    {
     "data": {
      "text/markdown": [
       "### William Bright, Captain of Commerce: A Story of Commercial Progress: By Max Stein"
      ],
      "text/plain": [
       "<IPython.core.display.Markdown object>"
      ]
     },
     "metadata": {},
     "output_type": "display_data"
    },
    {
     "data": {
      "text/markdown": [
       "<small>Stein, Max</small>"
      ],
      "text/plain": [
       "<IPython.core.display.Markdown object>"
      ]
     },
     "metadata": {},
     "output_type": "display_data"
    },
    {
     "data": {
      "text/markdown": [
       "pen a path wide and wise enough to adjust them, I fear for the result. As a Christian I say that ‘Qod is love,’ and ‘How good and how p <span style=\"color: blue\">leasant it is for brethren to dwell together in unity.</span>’ “I vote for the establishment of a permanent body that will do all in its power to unite human¬ ity into a brotherhood to make our world better,” Boldman,"
      ],
      "text/plain": [
       "<IPython.core.display.Markdown object>"
      ]
     },
     "metadata": {},
     "output_type": "display_data"
    },
    {
     "name": "stdout",
     "output_type": "stream",
     "text": [
      "--------------------------------------------------\n"
     ]
    },
    {
     "data": {
      "text/markdown": [
       "### King James Bible"
      ],
      "text/plain": [
       "<IPython.core.display.Markdown object>"
      ]
     },
     "metadata": {},
     "output_type": "display_data"
    },
    {
     "data": {
      "text/markdown": [
       "believed on him. 8:31 Then said Jesus to those Jews which believed on him, If ye continue in my word, then are ye my disciples indeed; 8:32 And <span style=\"color: blue\">ye shall know the truth, and the truth shall make you free</span>. 8:33 They answered him, We be Abraham's seed, and were never in bondage to any man: how sayest thou, Ye shall be made free"
      ],
      "text/plain": [
       "<IPython.core.display.Markdown object>"
      ]
     },
     "metadata": {},
     "output_type": "display_data"
    },
    {
     "data": {
      "text/markdown": [
       "### William Bright, Captain of Commerce: A Story of Commercial Progress: By Max Stein"
      ],
      "text/plain": [
       "<IPython.core.display.Markdown object>"
      ]
     },
     "metadata": {},
     "output_type": "display_data"
    },
    {
     "data": {
      "text/markdown": [
       "<small>Stein, Max</small>"
      ],
      "text/plain": [
       "<IPython.core.display.Markdown object>"
      ]
     },
     "metadata": {},
     "output_type": "display_data"
    },
    {
     "data": {
      "text/markdown": [
       "ind. “Before ending I will quote this Proverb from your Holy Bible: ‘By mercy and truth, iniquity is purged.’ Also this: ‘Y <span style=\"color: blue\">e shall know the truth, and the truth shall make you free</span>!’ ” With a wave of his right hand and a smile and bow, King Moy sat down. There was animated applause at this masterful"
      ],
      "text/plain": [
       "<IPython.core.display.Markdown object>"
      ]
     },
     "metadata": {},
     "output_type": "display_data"
    },
    {
     "name": "stdout",
     "output_type": "stream",
     "text": [
      "--------------------------------------------------\n"
     ]
    },
    {
     "data": {
      "text/markdown": [
       "### King James Bible"
      ],
      "text/plain": [
       "<IPython.core.display.Markdown object>"
      ]
     },
     "metadata": {},
     "output_type": "display_data"
    },
    {
     "data": {
      "text/markdown": [
       "ye saints of his, and give thanks at the remembrance of his holiness. 30:5 For his anger endureth but a moment; in his favour is life: weeping may <span style=\"color: blue\">endure for a night, but joy cometh in the morning</span>. 30:6 And in my prosperity I said, I shall never be moved. 30:7 LORD, by thy favour thou hast made my mountain to stand"
      ],
      "text/plain": [
       "<IPython.core.display.Markdown object>"
      ]
     },
     "metadata": {},
     "output_type": "display_data"
    },
    {
     "data": {
      "text/markdown": [
       "### An Autobiography: Being Passages from a Life Now Progressing in the City of Boston..: By R. L. B. Pseud"
      ],
      "text/plain": [
       "<IPython.core.display.Markdown object>"
      ]
     },
     "metadata": {},
     "output_type": "display_data"
    },
    {
     "data": {
      "text/markdown": [
       "<small>Doutney, T. Narcisse, Mrs.</small>"
      ],
      "text/plain": [
       "<IPython.core.display.Markdown object>"
      ]
     },
     "metadata": {},
     "output_type": "display_data"
    },
    {
     "data": {
      "text/markdown": [
       "heaven from his Christian brethren, assembled in evening worship. But we are all human beings ; and though “grief may <span style=\"color: blue\">endure for a night, joy cometh in the morning</span>.” With time, the “ great consoler,” my feel¬ ings were somewhat modified ; and assumed a more healthy tone. I was still young, tolerably good-looking"
      ],
      "text/plain": [
       "<IPython.core.display.Markdown object>"
      ]
     },
     "metadata": {},
     "output_type": "display_data"
    },
    {
     "name": "stdout",
     "output_type": "stream",
     "text": [
      "--------------------------------------------------\n"
     ]
    },
    {
     "data": {
      "text/markdown": [
       "### King James Bible"
      ],
      "text/plain": [
       "<IPython.core.display.Markdown object>"
      ]
     },
     "metadata": {},
     "output_type": "display_data"
    },
    {
     "data": {
      "text/markdown": [
       "devise my hurt. 41:8 An evil disease, say they, cleaveth fast unto him: and now that he lieth he shall rise up no more. 41:9 <span style=\"color: blue\">Yea, mine own familiar friend, in whom I trusted, which did eat of my bread, hath lifted up his heel against</span> me. 41:10 But thou, O LORD, be merciful unto me, and raise me up, that I may requite them. 41:11 By this I know that thou favourest me, because mine"
      ],
      "text/plain": [
       "<IPython.core.display.Markdown object>"
      ]
     },
     "metadata": {},
     "output_type": "display_data"
    },
    {
     "data": {
      "text/markdown": [
       "### An Autobiography: Being Passages from a Life Now Progressing in the City of Boston..: By R. L. B. Pseud"
      ],
      "text/plain": [
       "<IPython.core.display.Markdown object>"
      ]
     },
     "metadata": {},
     "output_type": "display_data"
    },
    {
     "data": {
      "text/markdown": [
       "<small>Doutney, T. Narcisse, Mrs.</small>"
      ],
      "text/plain": [
       "<IPython.core.display.Markdown object>"
      ]
     },
     "metadata": {},
     "output_type": "display_data"
    },
    {
     "data": {
      "text/markdown": [
       "turn up ” — A keeper was put in ; with strict orders not to leave the premises without the money in his pocket! “ <span style=\"color: blue\">Yea, mine own familiar friend, in whom I trusted, which did eat of my bread, hath lifted up his heel against</span> me.” — Psalms xli. 9. For the benefit of those who have never had such companionship foisted upon them — let me state ; that the security of a re¬ spectable"
      ],
      "text/plain": [
       "<IPython.core.display.Markdown object>"
      ]
     },
     "metadata": {},
     "output_type": "display_data"
    },
    {
     "name": "stdout",
     "output_type": "stream",
     "text": [
      "--------------------------------------------------\n"
     ]
    },
    {
     "data": {
      "text/markdown": [
       "### King James Bible"
      ],
      "text/plain": [
       "<IPython.core.display.Markdown object>"
      ]
     },
     "metadata": {},
     "output_type": "display_data"
    },
    {
     "data": {
      "text/markdown": [
       "unto them: for your Father knoweth what things ye have need of, before ye ask him. 6:9 After this manner therefore pray ye: Our <span style=\"color: blue\">Father which art in heaven, Hallowed be thy name. 6:10 Thy kingdom come, Thy will be done in earth, as it is in heaven. 6:11 Give us this day our daily bread. 6:12 And forgive</span> us our debts, as we forgive our debtors. 6:13 And lead us not into temptation, but deliver us from evil: For thine is the kingdom, and the power"
      ],
      "text/plain": [
       "<IPython.core.display.Markdown object>"
      ]
     },
     "metadata": {},
     "output_type": "display_data"
    },
    {
     "data": {
      "text/markdown": [
       "### An Autobiography: Being Passages from a Life Now Progressing in the City of Boston..: By R. L. B. Pseud"
      ],
      "text/plain": [
       "<IPython.core.display.Markdown object>"
      ]
     },
     "metadata": {},
     "output_type": "display_data"
    },
    {
     "data": {
      "text/markdown": [
       "<small>Doutney, T. Narcisse, Mrs.</small>"
      ],
      "text/plain": [
       "<IPython.core.display.Markdown object>"
      ]
     },
     "metadata": {},
     "output_type": "display_data"
    },
    {
     "data": {
      "text/markdown": [
       "Held me back — from the unblest future, of the deliberate “ Suicide ! ” CHAPTER XXXVII. “ OUR lord’s prayer.” “ Our <span style=\"color: blue\">Father who art in heaven, Hallowed be thy name. Thy kingdom come. Thy will be done on earth as it is in heaven. Give us this day our daily bread. And forgive</span> us our trespasses, as we forgive those who trespass against us. And lead us not into temptation, but deliver us from evil ; For thine is the kingdom"
      ],
      "text/plain": [
       "<IPython.core.display.Markdown object>"
      ]
     },
     "metadata": {},
     "output_type": "display_data"
    },
    {
     "name": "stdout",
     "output_type": "stream",
     "text": [
      "--------------------------------------------------\n"
     ]
    },
    {
     "data": {
      "text/markdown": [
       "### King James Bible"
      ],
      "text/plain": [
       "<IPython.core.display.Markdown object>"
      ]
     },
     "metadata": {},
     "output_type": "display_data"
    },
    {
     "data": {
      "text/markdown": [
       "kingdom come, Thy will be done in earth, as it is in heaven. 6:11 Give us this day our daily bread. 6:12 And forgive us our debts, as we forgive our debtors. 6:13 And <span style=\"color: blue\">lead us not into temptation, but deliver us from evil: For thine is the kingdom, and the power, and the glory</span>, for ever. Amen. 6:14 For if ye forgive men their trespasses, your heavenly Father will also forgive you: 6:15 But if ye forgive"
      ],
      "text/plain": [
       "<IPython.core.display.Markdown object>"
      ]
     },
     "metadata": {},
     "output_type": "display_data"
    },
    {
     "data": {
      "text/markdown": [
       "### An Autobiography: Being Passages from a Life Now Progressing in the City of Boston..: By R. L. B. Pseud"
      ],
      "text/plain": [
       "<IPython.core.display.Markdown object>"
      ]
     },
     "metadata": {},
     "output_type": "display_data"
    },
    {
     "data": {
      "text/markdown": [
       "<small>Doutney, T. Narcisse, Mrs.</small>"
      ],
      "text/plain": [
       "<IPython.core.display.Markdown object>"
      ]
     },
     "metadata": {},
     "output_type": "display_data"
    },
    {
     "data": {
      "text/markdown": [
       "Thy will be done on earth as it is in heaven. Give us this day our daily bread. And forgive us our trespasses, as we forgive those who trespass against us. And <span style=\"color: blue\">lead us not into temptation, but deliver us from evil ; For thine is the kingdom, and the power, And the glory</span>— forever — Amen.” “ Now I lay me down to sleep ; I pray the Lord my soul to keep. If I should die before I wake — I pray"
      ],
      "text/plain": [
       "<IPython.core.display.Markdown object>"
      ]
     },
     "metadata": {},
     "output_type": "display_data"
    },
    {
     "name": "stdout",
     "output_type": "stream",
     "text": [
      "--------------------------------------------------\n"
     ]
    },
    {
     "data": {
      "text/markdown": [
       "### King James Bible"
      ],
      "text/plain": [
       "<IPython.core.display.Markdown object>"
      ]
     },
     "metadata": {},
     "output_type": "display_data"
    },
    {
     "data": {
      "text/markdown": [
       "flesh and blood hath not revealed it unto thee, but my Father which is in heaven. 16:18 And I say also unto thee, That <span style=\"color: blue\">thou art Peter, and upon this rock I will build my church</span>; and the gates of hell shall not prevail against it. 16:19 And I will give unto thee the keys of the kingdom of heaven"
      ],
      "text/plain": [
       "<IPython.core.display.Markdown object>"
      ]
     },
     "metadata": {},
     "output_type": "display_data"
    },
    {
     "data": {
      "text/markdown": [
       "### Through Lands of Yesterday: A Story of Romance and Travel: By Charles H. Curran"
      ],
      "text/plain": [
       "<IPython.core.display.Markdown object>"
      ]
     },
     "metadata": {},
     "output_type": "display_data"
    },
    {
     "data": {
      "text/markdown": [
       "<small>Curran, Charles H.</small>"
      ],
      "text/plain": [
       "<IPython.core.display.Markdown object>"
      ]
     },
     "metadata": {},
     "output_type": "display_data"
    },
    {
     "data": {
      "text/markdown": [
       "ome rising above it. Frank turned his glass on it, while Jack remarked sententiously : “T <span style=\"color: blue\">hou art Peter, upon this rock I will build my church.</span>” “This great mausoleum beneath us,” explained the professor, “is one thousand feet in circumference, and was at one time richly adorned with statues,"
      ],
      "text/plain": [
       "<IPython.core.display.Markdown object>"
      ]
     },
     "metadata": {},
     "output_type": "display_data"
    },
    {
     "name": "stdout",
     "output_type": "stream",
     "text": [
      "--------------------------------------------------\n"
     ]
    },
    {
     "data": {
      "text/markdown": [
       "### King James Bible"
      ],
      "text/plain": [
       "<IPython.core.display.Markdown object>"
      ]
     },
     "metadata": {},
     "output_type": "display_data"
    },
    {
     "data": {
      "text/markdown": [
       "face of them. 21:13 Be thou exalted, LORD, in thine own strength: so will we sing and praise thy power. 22:1 My <span style=\"color: blue\">God, my God, why hast thou forsaken</span> me? why art thou so far from helping me, and from the words of my roaring? 22:2 O my God, I cry in the day time, but thou"
      ],
      "text/plain": [
       "<IPython.core.display.Markdown object>"
      ]
     },
     "metadata": {},
     "output_type": "display_data"
    },
    {
     "data": {
      "text/markdown": [
       "### A Nation's Crime: A Novel: By Mrs. I. Lowenberg…"
      ],
      "text/plain": [
       "<IPython.core.display.Markdown object>"
      ]
     },
     "metadata": {},
     "output_type": "display_data"
    },
    {
     "data": {
      "text/markdown": [
       "<small>Lowenberg, I., Mrs.</small>"
      ],
      "text/plain": [
       "<IPython.core.display.Markdown object>"
      ]
     },
     "metadata": {},
     "output_type": "display_data"
    },
    {
     "data": {
      "text/markdown": [
       "storm, the avalanche of the mountain, the bursting of the dam. “ My child ! ” and she clasped her vio¬ lently in her arms. “ My <span style=\"color: blue\">God ! My God ! why hast thou forsaken</span> me! Stephen, Stephen, help! help ! ” “ Mother, I told you before you would arouse the household. If these walls were not so thick and so well constructed, to deaden"
      ],
      "text/plain": [
       "<IPython.core.display.Markdown object>"
      ]
     },
     "metadata": {},
     "output_type": "display_data"
    },
    {
     "name": "stdout",
     "output_type": "stream",
     "text": [
      "--------------------------------------------------\n"
     ]
    },
    {
     "data": {
      "text/markdown": [
       "### King James Bible"
      ],
      "text/plain": [
       "<IPython.core.display.Markdown object>"
      ]
     },
     "metadata": {},
     "output_type": "display_data"
    },
    {
     "data": {
      "text/markdown": [
       "parents brought in the child Jesus, to do for him after the custom of the law, 2:28 Then took he him up in his arms, and blessed God, and said, 2:29 <span style=\"color: blue\">Lord, now lettest thou thy servant depart in peace</span>, according to thy word: 2:30 For mine eyes have seen thy salvation, 2:31 Which thou hast"
      ],
      "text/plain": [
       "<IPython.core.display.Markdown object>"
      ]
     },
     "metadata": {},
     "output_type": "display_data"
    },
    {
     "data": {
      "text/markdown": [
       "### Tithes of Talent: The Story of a Noble Love: By Katherine Gaylord"
      ],
      "text/plain": [
       "<IPython.core.display.Markdown object>"
      ]
     },
     "metadata": {},
     "output_type": "display_data"
    },
    {
     "data": {
      "text/markdown": [
       "<small>Gaylord, Katherine</small>"
      ],
      "text/plain": [
       "<IPython.core.display.Markdown object>"
      ]
     },
     "metadata": {},
     "output_type": "display_data"
    },
    {
     "data": {
      "text/markdown": [
       "young minister said very tenderly, “Let us be dis- missed with the Nunc Dimittis,” and there was a spirited singing together : “ <span style=\"color: blue\">Lord, now lettest thou thy servant depart in peace</span>. For mine eyes have seen thy salvation,” etc. X. Mr. McKeith was very much touched"
      ],
      "text/plain": [
       "<IPython.core.display.Markdown object>"
      ]
     },
     "metadata": {},
     "output_type": "display_data"
    },
    {
     "name": "stdout",
     "output_type": "stream",
     "text": [
      "--------------------------------------------------\n"
     ]
    },
    {
     "data": {
      "text/markdown": [
       "### King James Bible"
      ],
      "text/plain": [
       "<IPython.core.display.Markdown object>"
      ]
     },
     "metadata": {},
     "output_type": "display_data"
    },
    {
     "data": {
      "text/markdown": [
       "Lord, now lettest thou thy servant depart in peace, according to thy word: 2:30 For <span style=\"color: blue\">mine eyes have seen thy salvation</span>, 2:31 Which thou hast prepared before the face of all people; 2:32 A light to lighten the Gentiles, and the glory of thy people Israel"
      ],
      "text/plain": [
       "<IPython.core.display.Markdown object>"
      ]
     },
     "metadata": {},
     "output_type": "display_data"
    },
    {
     "data": {
      "text/markdown": [
       "### Tithes of Talent: The Story of a Noble Love: By Katherine Gaylord"
      ],
      "text/plain": [
       "<IPython.core.display.Markdown object>"
      ]
     },
     "metadata": {},
     "output_type": "display_data"
    },
    {
     "data": {
      "text/markdown": [
       "<small>Gaylord, Katherine</small>"
      ],
      "text/plain": [
       "<IPython.core.display.Markdown object>"
      ]
     },
     "metadata": {},
     "output_type": "display_data"
    },
    {
     "data": {
      "text/markdown": [
       "spirited singing together : “Lord, now lettest thou thy servant depart in peace. For <span style=\"color: blue\">mine eyes have seen thy salvation</span>,” etc. X. Mr. McKeith was very much touched. His im¬ pulses, usually so well guarded, escaped"
      ],
      "text/plain": [
       "<IPython.core.display.Markdown object>"
      ]
     },
     "metadata": {},
     "output_type": "display_data"
    },
    {
     "name": "stdout",
     "output_type": "stream",
     "text": [
      "--------------------------------------------------\n"
     ]
    },
    {
     "data": {
      "text/markdown": [
       "### King James Bible"
      ],
      "text/plain": [
       "<IPython.core.display.Markdown object>"
      ]
     },
     "metadata": {},
     "output_type": "display_data"
    },
    {
     "data": {
      "text/markdown": [
       "shall cleave to his wife: and they twain shall be one flesh? 19:6 Wherefore they are no more twain, but one flesh. What therefore <span style=\"color: blue\">God hath joined together, let not man put asunder</span>. 19:7 They say unto him, Why did Moses then command to give a writing of divorcement, and to put her away? 19:8 He saith unto them, Moses because of the hardness"
      ],
      "text/plain": [
       "<IPython.core.display.Markdown object>"
      ]
     },
     "metadata": {},
     "output_type": "display_data"
    },
    {
     "data": {
      "text/markdown": [
       "### Twins in Twain: By Rose Taylor Loveridge"
      ],
      "text/plain": [
       "<IPython.core.display.Markdown object>"
      ]
     },
     "metadata": {},
     "output_type": "display_data"
    },
    {
     "data": {
      "text/markdown": [
       "<small>Loveridge, Rose Taylor</small>"
      ],
      "text/plain": [
       "<IPython.core.display.Markdown object>"
      ]
     },
     "metadata": {},
     "output_type": "display_data"
    },
    {
     "data": {
      "text/markdown": [
       "clasped their hands. “It does my old heart good to look into your faces, he said, “for I see heaven written there.” The words were soon spoken, and with the end¬ ing: “ What <span style=\"color: blue\">God hath joined together, let no man put asunder</span>,” he pronounced them man and wife. 178 Lura’s eyes were filled with tears as the old man blessed them at parting. “To mamma"
      ],
      "text/plain": [
       "<IPython.core.display.Markdown object>"
      ]
     },
     "metadata": {},
     "output_type": "display_data"
    },
    {
     "name": "stdout",
     "output_type": "stream",
     "text": [
      "--------------------------------------------------\n"
     ]
    },
    {
     "data": {
      "text/markdown": [
       "### King James Bible"
      ],
      "text/plain": [
       "<IPython.core.display.Markdown object>"
      ]
     },
     "metadata": {},
     "output_type": "display_data"
    },
    {
     "data": {
      "text/markdown": [
       "wisdom. 13:11 Wealth gotten by vanity shall be diminished: but he that gathereth by labour shall increase. 13:12 <span style=\"color: blue\">Hope deferred maketh the heart sick</span>: but when the desire cometh, it is a tree of life. 13:13 Whoso despiseth the word shall be destroyed: but he that feareth the commandment"
      ],
      "text/plain": [
       "<IPython.core.display.Markdown object>"
      ]
     },
     "metadata": {},
     "output_type": "display_data"
    },
    {
     "data": {
      "text/markdown": [
       "### A Social Cockatrice: Frederick W. Eldridge"
      ],
      "text/plain": [
       "<IPython.core.display.Markdown object>"
      ]
     },
     "metadata": {},
     "output_type": "display_data"
    },
    {
     "data": {
      "text/markdown": [
       "<small>Eldridge, Frederick W.</small>"
      ],
      "text/plain": [
       "<IPython.core.display.Markdown object>"
      ]
     },
     "metadata": {},
     "output_type": "display_data"
    },
    {
     "data": {
      "text/markdown": [
       "oyish delight. “ You have made me happy,” he whispered. \" If I fail now, it will be no fault of loving endeavour. But remember, dear, h <span style=\"color: blue\">ope deferred maketh the heart sick.</span>” He raised her hand to his lips. “ I shall study to be a capable teacher.” When he was gone, Beatrice stood"
      ],
      "text/plain": [
       "<IPython.core.display.Markdown object>"
      ]
     },
     "metadata": {},
     "output_type": "display_data"
    },
    {
     "name": "stdout",
     "output_type": "stream",
     "text": [
      "--------------------------------------------------\n"
     ]
    },
    {
     "data": {
      "text/markdown": [
       "### King James Bible"
      ],
      "text/plain": [
       "<IPython.core.display.Markdown object>"
      ]
     },
     "metadata": {},
     "output_type": "display_data"
    },
    {
     "data": {
      "text/markdown": [
       "went forth lightning. 1:14 And the living creatures ran and returned as the appearance of a flash of lightning. 1:15 Now as I <span style=\"color: blue\">beheld the living creatures, behold one wheel upon the earth by the living creatures, with his four faces. 1:16 The appearance of the wheels</span> and their work was like unto the colour of a beryl: and they four had one likeness: and their appearance and their work was as it were a wheel in the middle of a wheel. 1:17 When they went"
      ],
      "text/plain": [
       "<IPython.core.display.Markdown object>"
      ]
     },
     "metadata": {},
     "output_type": "display_data"
    },
    {
     "data": {
      "text/markdown": [
       "### Mountain Trails and Parks in Colorado: [A Novel]: By L.B. France, (Bourgeois) …"
      ],
      "text/plain": [
       "<IPython.core.display.Markdown object>"
      ]
     },
     "metadata": {},
     "output_type": "display_data"
    },
    {
     "data": {
      "text/markdown": [
       "<small>France, Lewis B.</small>"
      ],
      "text/plain": [
       "<IPython.core.display.Markdown object>"
      ]
     },
     "metadata": {},
     "output_type": "display_data"
    },
    {
     "data": {
      "text/markdown": [
       "verses; and I will especially invite your attention this morning, my brethren, to the fif¬ teenth and sixteenth verses.” “‘Now as I <span style=\"color: blue\">beheld the living creatures, behold one wheel upon the earth by the living creatures, with his four faces. “ 4 The appearance of the wheels</span> and their work teas like unto the color of a beryl; and they four had one likeness; and their appearance and their work was as it were a wheel in the middle of a wheel"
      ],
      "text/plain": [
       "<IPython.core.display.Markdown object>"
      ]
     },
     "metadata": {},
     "output_type": "display_data"
    },
    {
     "name": "stdout",
     "output_type": "stream",
     "text": [
      "--------------------------------------------------\n"
     ]
    },
    {
     "data": {
      "text/markdown": [
       "### King James Bible"
      ],
      "text/plain": [
       "<IPython.core.display.Markdown object>"
      ]
     },
     "metadata": {},
     "output_type": "display_data"
    },
    {
     "data": {
      "text/markdown": [
       "upon the earth by the living creatures, with his four faces. 1:16 The appearance of the wheels and their work was like unto the colour of a <span style=\"color: blue\">beryl: and they four had one likeness: and their appearance and their work was as it were a wheel in the middle of a wheel</span>. 1:17 When they went, they went upon their four sides: and they turned not when they went. 1:18 As for their rings, they were so high that they were dreadful; and their rings"
      ],
      "text/plain": [
       "<IPython.core.display.Markdown object>"
      ]
     },
     "metadata": {},
     "output_type": "display_data"
    },
    {
     "data": {
      "text/markdown": [
       "### Mountain Trails and Parks in Colorado: [A Novel]: By L.B. France, (Bourgeois) …"
      ],
      "text/plain": [
       "<IPython.core.display.Markdown object>"
      ]
     },
     "metadata": {},
     "output_type": "display_data"
    },
    {
     "data": {
      "text/markdown": [
       "<small>France, Lewis B.</small>"
      ],
      "text/plain": [
       "<IPython.core.display.Markdown object>"
      ]
     },
     "metadata": {},
     "output_type": "display_data"
    },
    {
     "data": {
      "text/markdown": [
       "earth by the living creatures, with his four faces. “ 4 The appearance of the wheels and their work teas like unto the color of a <span style=\"color: blue\">beryl; and they four had one likeness; and their appearance and their work was as it were a wheel in the middle of a wheel</span>.’ ” The verses were repeated and the preacher pro¬ ceeded: “ My discourse, this morning, my dear friends, as applied"
      ],
      "text/plain": [
       "<IPython.core.display.Markdown object>"
      ]
     },
     "metadata": {},
     "output_type": "display_data"
    },
    {
     "name": "stdout",
     "output_type": "stream",
     "text": [
      "--------------------------------------------------\n"
     ]
    },
    {
     "data": {
      "text/markdown": [
       "### King James Bible"
      ],
      "text/plain": [
       "<IPython.core.display.Markdown object>"
      ]
     },
     "metadata": {},
     "output_type": "display_data"
    },
    {
     "data": {
      "text/markdown": [
       "hot as an oven, and have devoured their judges; all their kings are fallen: there is none among them that calleth unto me. 7:8 <span style=\"color: blue\">Ephraim, he hath mixed himself among the people; Ephraim is a cake not turned</span>. 7:9 Strangers have devoured his strength, and he knoweth it not: yea, gray hairs are here and there upon him, yet he knoweth"
      ],
      "text/plain": [
       "<IPython.core.display.Markdown object>"
      ]
     },
     "metadata": {},
     "output_type": "display_data"
    },
    {
     "data": {
      "text/markdown": [
       "### Mountain Trails and Parks in Colorado: [A Novel]: By L.B. France, (Bourgeois) …"
      ],
      "text/plain": [
       "<IPython.core.display.Markdown object>"
      ]
     },
     "metadata": {},
     "output_type": "display_data"
    },
    {
     "data": {
      "text/markdown": [
       "<small>France, Lewis B.</small>"
      ],
      "text/plain": [
       "<IPython.core.display.Markdown object>"
      ]
     },
     "metadata": {},
     "output_type": "display_data"
    },
    {
     "data": {
      "text/markdown": [
       "Professor — what was the first? ” I inquired. 44 1 thought you had 4 caught on ’ as Mr. Weath- erby would express it — he was unlike Ephraim.” “Ephraim?” 44 4 <span style=\"color: blue\">Ephraim, he hath mixed himself among the people, Ephraim is a cake not turned</span>’ — in other words, my friend didn’t quit his apprenticeship half baked.” ROMANCE. M"
      ],
      "text/plain": [
       "<IPython.core.display.Markdown object>"
      ]
     },
     "metadata": {},
     "output_type": "display_data"
    },
    {
     "name": "stdout",
     "output_type": "stream",
     "text": [
      "--------------------------------------------------\n"
     ]
    },
    {
     "data": {
      "text/markdown": [
       "### King James Bible"
      ],
      "text/plain": [
       "<IPython.core.display.Markdown object>"
      ]
     },
     "metadata": {},
     "output_type": "display_data"
    },
    {
     "data": {
      "text/markdown": [
       "until the appearing of our Lord Jesus Christ: 6:15 Which in his times he shall shew, who is the blessed and only Potentate, the <span style=\"color: blue\">King of kings, and Lord of lords; 6:16 Who only hath immortality, dwelling in the light which no man can approach unto; whom no man hath seen, nor can see: to whom</span> be honour and power everlasting. Amen. 6:17 Charge them that are rich in this world, that they be not highminded, nor trust in uncertain"
      ],
      "text/plain": [
       "<IPython.core.display.Markdown object>"
      ]
     },
     "metadata": {},
     "output_type": "display_data"
    },
    {
     "data": {
      "text/markdown": [
       "### Saxe Holm's Stories"
      ],
      "text/plain": [
       "<IPython.core.display.Markdown object>"
      ]
     },
     "metadata": {},
     "output_type": "display_data"
    },
    {
     "data": {
      "text/markdown": [
       "<small>Jackson, Helen Hunt</small>"
      ],
      "text/plain": [
       "<IPython.core.display.Markdown object>"
      ]
     },
     "metadata": {},
     "output_type": "display_data"
    },
    {
     "data": {
      "text/markdown": [
       "ronounce them at the end of his morning prayer : “ For the sake of our Lord Jesus Christ, the blessed and only Po¬ tentate, the K <span style=\"color: blue\">ing of kings, and Lord of lords ; who only hath immortality, dwelling in the light which no man can approach unto ; whom no man hath seen nor can see ; to whom</span> be honor and power everlasting. Amen.” His enthusiasm for study, his recognition and love of high thoughts, were no less hearty"
      ],
      "text/plain": [
       "<IPython.core.display.Markdown object>"
      ]
     },
     "metadata": {},
     "output_type": "display_data"
    },
    {
     "name": "stdout",
     "output_type": "stream",
     "text": [
      "--------------------------------------------------\n"
     ]
    },
    {
     "data": {
      "text/markdown": [
       "### King James Bible"
      ],
      "text/plain": [
       "<IPython.core.display.Markdown object>"
      ]
     },
     "metadata": {},
     "output_type": "display_data"
    },
    {
     "data": {
      "text/markdown": [
       "angel of God coming in to him, and saying unto him, Cornelius. 10:4 And when he looked on him, he was afraid, and said, What is it, Lord? And he said unto him, <span style=\"color: blue\">Thy prayers and thine alms are come up for a memorial before God</span>. 10:5 And now send men to Joppa, and call for one Simon, whose surname is Peter: 10:6 He lodgeth with one Simon"
      ],
      "text/plain": [
       "<IPython.core.display.Markdown object>"
      ]
     },
     "metadata": {},
     "output_type": "display_data"
    },
    {
     "data": {
      "text/markdown": [
       "### Uncle Robin, in His Cabin in Virginia, and Tom without One in Boston..: John W. Page"
      ],
      "text/plain": [
       "<IPython.core.display.Markdown object>"
      ]
     },
     "metadata": {},
     "output_type": "display_data"
    },
    {
     "data": {
      "text/markdown": [
       "<small>Page, John W.</small>"
      ],
      "text/plain": [
       "<IPython.core.display.Markdown object>"
      ]
     },
     "metadata": {},
     "output_type": "display_data"
    },
    {
     "data": {
      "text/markdown": [
       "2C4. .·■ 14'AW: erected to Northern philanthropy, upon which we will inscribe from Holy Writ, “ Thy <span style=\"color: blue\">prayers and thine alms have come up as a memorial before God,” a</span> nd « the tender mercies of the wicked are cruel.” Great was the excitement in the crowd; many were heard to say, that that occurrence was only one of the many evils of slavery. A"
      ],
      "text/plain": [
       "<IPython.core.display.Markdown object>"
      ]
     },
     "metadata": {},
     "output_type": "display_data"
    },
    {
     "name": "stdout",
     "output_type": "stream",
     "text": [
      "--------------------------------------------------\n"
     ]
    },
    {
     "data": {
      "text/markdown": [
       "### King James Bible"
      ],
      "text/plain": [
       "<IPython.core.display.Markdown object>"
      ]
     },
     "metadata": {},
     "output_type": "display_data"
    },
    {
     "data": {
      "text/markdown": [
       "voice, and wept; and they rent every one his mantle, and sprinkled dust upon their heads toward heaven. 2:13 So they <span style=\"color: blue\">sat down with him upon the ground seven days and seven nights, and none spake a word unto him: for they saw that his grief</span> was very great. 3:1 After this opened Job his mouth, and cursed his day. 3:2 And Job spake, and said, 3:3 Let the day perish wherein I was born, and the night"
      ],
      "text/plain": [
       "<IPython.core.display.Markdown object>"
      ]
     },
     "metadata": {},
     "output_type": "display_data"
    },
    {
     "data": {
      "text/markdown": [
       "### Gay: A Story: By Evelyn Whitaker; with Illustrations by Percy Tarrant"
      ],
      "text/plain": [
       "<IPython.core.display.Markdown object>"
      ]
     },
     "metadata": {},
     "output_type": "display_data"
    },
    {
     "data": {
      "text/markdown": [
       "<small>Whitaker, Evelyn</small>"
      ],
      "text/plain": [
       "<IPython.core.display.Markdown object>"
      ]
     },
     "metadata": {},
     "output_type": "display_data"
    },
    {
     "data": {
      "text/markdown": [
       "arthrug. I always thought that before Job’s comforters were led away into vain words their silent sympathy should have been very soothing, when “ they sa <span style=\"color: blue\">t down with him upon the ground seven days and seven nights, and none spake a word unto him, for they saw that his grief w</span> as very great.” So perhaps little Gay felt a sympathy in those boots standing on the other side of the kitchen table, and also, by-and-by, a sort o"
      ],
      "text/plain": [
       "<IPython.core.display.Markdown object>"
      ]
     },
     "metadata": {},
     "output_type": "display_data"
    },
    {
     "name": "stdout",
     "output_type": "stream",
     "text": [
      "--------------------------------------------------\n"
     ]
    },
    {
     "data": {
      "text/markdown": [
       "### King James Bible"
      ],
      "text/plain": [
       "<IPython.core.display.Markdown object>"
      ]
     },
     "metadata": {},
     "output_type": "display_data"
    },
    {
     "data": {
      "text/markdown": [
       "ye saints of his, and give thanks at the remembrance of his holiness. 30:5 For his anger endureth but a moment; in his favour is life: weeping may <span style=\"color: blue\">endure for a night, but joy cometh in the morning</span>. 30:6 And in my prosperity I said, I shall never be moved. 30:7 LORD, by thy favour thou hast made my mountain to stand"
      ],
      "text/plain": [
       "<IPython.core.display.Markdown object>"
      ]
     },
     "metadata": {},
     "output_type": "display_data"
    },
    {
     "data": {
      "text/markdown": [
       "### The Weird Picture: By John R. Carling; Illustrated by Cyrus Cuneo"
      ],
      "text/plain": [
       "<IPython.core.display.Markdown object>"
      ]
     },
     "metadata": {},
     "output_type": "display_data"
    },
    {
     "data": {
      "text/markdown": [
       "<small>Carling, John R.</small>"
      ],
      "text/plain": [
       "<IPython.core.display.Markdown object>"
      ]
     },
     "metadata": {},
     "output_type": "display_data"
    },
    {
     "data": {
      "text/markdown": [
       "deavors to discover the cause of George’s flight and to trace his whereabouts were fruitless. “ Heaviness may <span style=\"color: blue\">endure for a night, but joy cometh in the morning</span>.” Daphne’s morning, however, was a long time in coming and my uncle proposed to hasten its advent by foreign"
      ],
      "text/plain": [
       "<IPython.core.display.Markdown object>"
      ]
     },
     "metadata": {},
     "output_type": "display_data"
    },
    {
     "name": "stdout",
     "output_type": "stream",
     "text": [
      "--------------------------------------------------\n"
     ]
    },
    {
     "data": {
      "text/markdown": [
       "### King James Bible"
      ],
      "text/plain": [
       "<IPython.core.display.Markdown object>"
      ]
     },
     "metadata": {},
     "output_type": "display_data"
    },
    {
     "data": {
      "text/markdown": [
       "thou art gone up: he stooped down, he couched as a lion, and as an old lion; who shall rouse him up? 49:10 The sceptre <span style=\"color: blue\">shall not depart from Judah, nor a lawgiver from between his feet, until Shiloh</span> come; and unto him shall the gathering of the people be. 49:11 Binding his foal unto the vine, and his ass's colt"
      ],
      "text/plain": [
       "<IPython.core.display.Markdown object>"
      ]
     },
     "metadata": {},
     "output_type": "display_data"
    },
    {
     "data": {
      "text/markdown": [
       "### The Conversion of Brian O'Dillon: By Mattie M. Boteler"
      ],
      "text/plain": [
       "<IPython.core.display.Markdown object>"
      ]
     },
     "metadata": {},
     "output_type": "display_data"
    },
    {
     "data": {
      "text/markdown": [
       "<small>Boteler, Mattie M.</small>"
      ],
      "text/plain": [
       "<IPython.core.display.Markdown object>"
      ]
     },
     "metadata": {},
     "output_type": "display_data"
    },
    {
     "data": {
      "text/markdown": [
       "s, he sat down, and taking the Bible from his pocket, began slowly to turn the leaves. “ The scepter sh <span style=\"color: blue\">all not depart from Judah, nor a lawgiver from between his feet, until Shiloh c</span> ome.” A line had been drawn around these words, and he paused to read. Little attention as he had given the mat¬ ter, he was sufficiently a"
      ],
      "text/plain": [
       "<IPython.core.display.Markdown object>"
      ]
     },
     "metadata": {},
     "output_type": "display_data"
    },
    {
     "name": "stdout",
     "output_type": "stream",
     "text": [
      "--------------------------------------------------\n"
     ]
    },
    {
     "data": {
      "text/markdown": [
       "### King James Bible"
      ],
      "text/plain": [
       "<IPython.core.display.Markdown object>"
      ]
     },
     "metadata": {},
     "output_type": "display_data"
    },
    {
     "data": {
      "text/markdown": [
       "accomplished, that her iniquity is pardoned: for she hath received of the LORD's hand double for all her sins. 40:3 The <span style=\"color: blue\">voice of him that crieth in the wilderness, Prepare ye the way of the LORD</span>, make straight in the desert a highway for our God. 40:4 Every valley shall be exalted, and every mountain and hill shall"
      ],
      "text/plain": [
       "<IPython.core.display.Markdown object>"
      ]
     },
     "metadata": {},
     "output_type": "display_data"
    },
    {
     "data": {
      "text/markdown": [
       "### The Conversion of Brian O'Dillon: By Mattie M. Boteler"
      ],
      "text/plain": [
       "<IPython.core.display.Markdown object>"
      ]
     },
     "metadata": {},
     "output_type": "display_data"
    },
    {
     "data": {
      "text/markdown": [
       "<small>Boteler, Mattie M.</small>"
      ],
      "text/plain": [
       "<IPython.core.display.Markdown object>"
      ]
     },
     "metadata": {},
     "output_type": "display_data"
    },
    {
     "data": {
      "text/markdown": [
       "en it before ? What was it that it brought to his mind ? Suddenly, as he pondered, there seemed to pass before him, as on a printed page, the words : “ The vo <span style=\"color: blue\">ice of him that crieth in the wilderness, Prepare ye the way of the Lord.”</span> And again : “ Behold I send my messenger before my face.” He remembered now just how they had looked, with the faint line Agnes had drawn b"
      ],
      "text/plain": [
       "<IPython.core.display.Markdown object>"
      ]
     },
     "metadata": {},
     "output_type": "display_data"
    },
    {
     "name": "stdout",
     "output_type": "stream",
     "text": [
      "--------------------------------------------------\n"
     ]
    },
    {
     "data": {
      "text/markdown": [
       "### King James Bible"
      ],
      "text/plain": [
       "<IPython.core.display.Markdown object>"
      ]
     },
     "metadata": {},
     "output_type": "display_data"
    },
    {
     "data": {
      "text/markdown": [
       "Philip was of Bethsaida, the city of Andrew and Peter. 1:45 Philip findeth Nathanael, and saith unto him, We have <span style=\"color: blue\">found him, of whom Moses in the law, and the prophets, did write</span>, Jesus of Nazareth, the son of Joseph. 1:46 And Nathanael said unto him, Can there any good thing come out of Nazareth? Philip saith unto"
      ],
      "text/plain": [
       "<IPython.core.display.Markdown object>"
      ]
     },
     "metadata": {},
     "output_type": "display_data"
    },
    {
     "data": {
      "text/markdown": [
       "### The Conversion of Brian O'Dillon: By Mattie M. Boteler"
      ],
      "text/plain": [
       "<IPython.core.display.Markdown object>"
      ]
     },
     "metadata": {},
     "output_type": "display_data"
    },
    {
     "data": {
      "text/markdown": [
       "<small>Boteler, Mattie M.</small>"
      ],
      "text/plain": [
       "<IPython.core.display.Markdown object>"
      ]
     },
     "metadata": {},
     "output_type": "display_data"
    },
    {
     "data": {
      "text/markdown": [
       "w, stirring the leaves of the book before him. For a moment he raised his head, his eyes catching these words: “We have fo <span style=\"color: blue\">und him, of whom Moses in the law and the prophets did write.”</span> Had he indeed found him ? At first there had been a half defined fear that he would. Now in its stead there had come a passionate longing after the One he had followed from the first word o"
      ],
      "text/plain": [
       "<IPython.core.display.Markdown object>"
      ]
     },
     "metadata": {},
     "output_type": "display_data"
    },
    {
     "name": "stdout",
     "output_type": "stream",
     "text": [
      "--------------------------------------------------\n"
     ]
    },
    {
     "data": {
      "text/markdown": [
       "### King James Bible"
      ],
      "text/plain": [
       "<IPython.core.display.Markdown object>"
      ]
     },
     "metadata": {},
     "output_type": "display_data"
    },
    {
     "data": {
      "text/markdown": [
       "fire. 7:10 A fiery stream issued and came forth from before him: thousand thousands ministered unto him, and <span style=\"color: blue\">ten thousand times ten thousand</span> stood before him: the judgment was set, and the books were opened. 7:11 I beheld then because of the voice of the great words which the horn spake"
      ],
      "text/plain": [
       "<IPython.core.display.Markdown object>"
      ]
     },
     "metadata": {},
     "output_type": "display_data"
    },
    {
     "data": {
      "text/markdown": [
       "### The Sheriff of the Beech Fork: A Story of Kentucky: By Henry S. Spalding"
      ],
      "text/plain": [
       "<IPython.core.display.Markdown object>"
      ]
     },
     "metadata": {},
     "output_type": "display_data"
    },
    {
     "data": {
      "text/markdown": [
       "<small>Spalding, Henry S. (Henry Stanislaus)</small>"
      ],
      "text/plain": [
       "<IPython.core.display.Markdown object>"
      ]
     },
     "metadata": {},
     "output_type": "display_data"
    },
    {
     "data": {
      "text/markdown": [
       "meadows ; for the forests that clothed its banks and the banks of its tributary streams were yet untouched by the axe,— and the <span style=\"color: blue\">ten thousand times ten thousand</span> streams which fed this river with their crystal waters oozed over mossy stones and glided through green"
      ],
      "text/plain": [
       "<IPython.core.display.Markdown object>"
      ]
     },
     "metadata": {},
     "output_type": "display_data"
    },
    {
     "name": "stdout",
     "output_type": "stream",
     "text": [
      "--------------------------------------------------\n"
     ]
    },
    {
     "data": {
      "text/markdown": [
       "### King James Bible"
      ],
      "text/plain": [
       "<IPython.core.display.Markdown object>"
      ]
     },
     "metadata": {},
     "output_type": "display_data"
    },
    {
     "data": {
      "text/markdown": [
       "gold, who filled their houses with silver: 3:16 Or as an hidden untimely birth I had not been; as infants which never saw light. 3:17 There the <span style=\"color: blue\">wicked cease from troubling; and there the weary be at rest. 3:18 There the prisoners rest together; they hear not the voice of the oppressor</span>. 3:19 The small and great are there; and the servant is free from his master. 3:20 Wherefore is light given to him that is in misery, and life unto the bitter"
      ],
      "text/plain": [
       "<IPython.core.display.Markdown object>"
      ]
     },
     "metadata": {},
     "output_type": "display_data"
    },
    {
     "data": {
      "text/markdown": [
       "### Children of Men: By Bruno Lessing"
      ],
      "text/plain": [
       "<IPython.core.display.Markdown object>"
      ]
     },
     "metadata": {},
     "output_type": "display_data"
    },
    {
     "data": {
      "text/markdown": [
       "<small>Lessing, Bruno</small>"
      ],
      "text/plain": [
       "<IPython.core.display.Markdown object>"
      ]
     },
     "metadata": {},
     "output_type": "display_data"
    },
    {
     "data": {
      "text/markdown": [
       "voice whisper- ( 25 ] ing “ Lizschen ! Lizschen ! ” but it must have been the rain that now was pouring in torrents. V \"There the <span style=\"color: blue\">wicked cease from troubling; and there the weary be at rest. “ There the prisoners rest together; they hear not the voice of the oppressor</span>. “The anali and the great are there; and the servant is free from his master.\" It is written in Israel that the rabbi must give his services at the death"
      ],
      "text/plain": [
       "<IPython.core.display.Markdown object>"
      ]
     },
     "metadata": {},
     "output_type": "display_data"
    },
    {
     "name": "stdout",
     "output_type": "stream",
     "text": [
      "--------------------------------------------------\n"
     ]
    },
    {
     "data": {
      "text/markdown": [
       "### King James Bible"
      ],
      "text/plain": [
       "<IPython.core.display.Markdown object>"
      ]
     },
     "metadata": {},
     "output_type": "display_data"
    },
    {
     "data": {
      "text/markdown": [
       "flesh; and that which is born of the Spirit is spirit. 3:7 Marvel not that I said unto thee, Ye must be born again. 3:8 The <span style=\"color: blue\">wind bloweth where it listeth, and thou hearest the sound thereof, but canst not tell whence it cometh, and whither it goeth</span>: so is every one that is born of the Spirit. 3:9 Nicodemus answered and said unto him, How can these things be? 3:10 Jesus answered and said unto him, Art thou"
      ],
      "text/plain": [
       "<IPython.core.display.Markdown object>"
      ]
     },
     "metadata": {},
     "output_type": "display_data"
    },
    {
     "data": {
      "text/markdown": [
       "### Children of Men: By Bruno Lessing"
      ],
      "text/plain": [
       "<IPython.core.display.Markdown object>"
      ]
     },
     "metadata": {},
     "output_type": "display_data"
    },
    {
     "data": {
      "text/markdown": [
       "<small>Lessing, Bruno</small>"
      ],
      "text/plain": [
       "<IPython.core.display.Markdown object>"
      ]
     },
     "metadata": {},
     "output_type": "display_data"
    },
    {
     "data": {
      "text/markdown": [
       "ok his head playfully. But what he whispered in return was, “ It is toil ! ” They were married, and the universe joined with them in their pæan of love—love that, like the win <span style=\"color: blue\">d, “ bloweth where it listeth, and thou hearest the sound thereof, but canst not tell whence it cometh and whither it goeth.”</span>• · · · · Do you know that kind of woman whose tempera- [ 220 ] ment is like the smiling sunshine? Miriam was one of these. A light, happy he"
      ],
      "text/plain": [
       "<IPython.core.display.Markdown object>"
      ]
     },
     "metadata": {},
     "output_type": "display_data"
    },
    {
     "name": "stdout",
     "output_type": "stream",
     "text": [
      "--------------------------------------------------\n"
     ]
    },
    {
     "data": {
      "text/markdown": [
       "### King James Bible"
      ],
      "text/plain": [
       "<IPython.core.display.Markdown object>"
      ]
     },
     "metadata": {},
     "output_type": "display_data"
    },
    {
     "data": {
      "text/markdown": [
       "merry heart hath a continual feast. 15:16 Better is little with the fear of the LORD than great treasure and trouble therewith. 15:17 Better is a <span style=\"color: blue\">dinner of herbs where love is, than a stalled ox and hatred therewith</span>. 15:18 A wrathful man stirreth up strife: but he that is slow to anger appeaseth strife. 15:19 The way of the slothful man is as an hedge of thorns"
      ],
      "text/plain": [
       "<IPython.core.display.Markdown object>"
      ]
     },
     "metadata": {},
     "output_type": "display_data"
    },
    {
     "data": {
      "text/markdown": [
       "### Circumvented: Or, Success despite Opposition, a True Tale Tersely Told: By Dr. S. Harper Smith"
      ],
      "text/plain": [
       "<IPython.core.display.Markdown object>"
      ]
     },
     "metadata": {},
     "output_type": "display_data"
    },
    {
     "data": {
      "text/markdown": [
       "<small>Smith, S. Harper (Samuel Harper)</small>"
      ],
      "text/plain": [
       "<IPython.core.display.Markdown object>"
      ]
     },
     "metadata": {},
     "output_type": "display_data"
    },
    {
     "data": {
      "text/markdown": [
       "must marry to please him. “Such perfidious, traitorous, ‘red-tape’ action is a shame! a notable SHAME!! ‘Better is a <span style=\"color: blue\">dinner of herbs, where love is, than a stalled ox and hatred therewith</span>’. “1 am quite willing that you should get nothing from your father, if it has to be purchased after having been earned. All 1 want is your own sweet self, and if I can’t make a decent"
      ],
      "text/plain": [
       "<IPython.core.display.Markdown object>"
      ]
     },
     "metadata": {},
     "output_type": "display_data"
    },
    {
     "name": "stdout",
     "output_type": "stream",
     "text": [
      "--------------------------------------------------\n"
     ]
    },
    {
     "data": {
      "text/markdown": [
       "### King James Bible"
      ],
      "text/plain": [
       "<IPython.core.display.Markdown object>"
      ]
     },
     "metadata": {},
     "output_type": "display_data"
    },
    {
     "data": {
      "text/markdown": [
       "earth. 1:2 And the earth was without form, and void; and darkness was upon the face of the deep. And the Spirit of <span style=\"color: blue\">God moved upon the face of the waters</span>. 1:3 And God said, Let there be light: and there was light. 1:4 And God saw the light, that it was good: and God divided the light from the darkness"
      ],
      "text/plain": [
       "<IPython.core.display.Markdown object>"
      ]
     },
     "metadata": {},
     "output_type": "display_data"
    },
    {
     "data": {
      "text/markdown": [
       "### The Breath of the Gods: By Sidney McCall"
      ],
      "text/plain": [
       "<IPython.core.display.Markdown object>"
      ]
     },
     "metadata": {},
     "output_type": "display_data"
    },
    {
     "data": {
      "text/markdown": [
       "<small>McCall, Sidney</small>"
      ],
      "text/plain": [
       "<IPython.core.display.Markdown object>"
      ]
     },
     "metadata": {},
     "output_type": "display_data"
    },
    {
     "data": {
      "text/markdown": [
       "wn had quickened under the sea. The mystery and the first unspeakable shiver of a newly created day had been hers. “ ‘ And Go <span style=\"color: blue\">d moved upon the face of the waters/</span>” whispered reverent Oriental lips. She saw the first dark triangle of land glide toward h"
      ],
      "text/plain": [
       "<IPython.core.display.Markdown object>"
      ]
     },
     "metadata": {},
     "output_type": "display_data"
    },
    {
     "name": "stdout",
     "output_type": "stream",
     "text": [
      "--------------------------------------------------\n"
     ]
    },
    {
     "data": {
      "text/markdown": [
       "### King James Bible"
      ],
      "text/plain": [
       "<IPython.core.display.Markdown object>"
      ]
     },
     "metadata": {},
     "output_type": "display_data"
    },
    {
     "data": {
      "text/markdown": [
       "Book of Moses: Called Genesis 1:1 In the beginning God created the heavens and the earth. 1:2 And the earth was <span style=\"color: blue\">without form, and void; and darkness was upon</span> the face of the deep. And the Spirit of God moved upon the face of the waters. 1:3 And God said, Let there be light"
      ],
      "text/plain": [
       "<IPython.core.display.Markdown object>"
      ]
     },
     "metadata": {},
     "output_type": "display_data"
    },
    {
     "data": {
      "text/markdown": [
       "### Nedoure, Priestess of the Magi: An Historical Romance of White and Black Magic: A Story That Reveals Wisdom of the Ancient Past: By T. J. Betiero"
      ],
      "text/plain": [
       "<IPython.core.display.Markdown object>"
      ]
     },
     "metadata": {},
     "output_type": "display_data"
    },
    {
     "data": {
      "text/markdown": [
       "<small>Betiero, T. J. (Thomas Jasper)</small>"
      ],
      "text/plain": [
       "<IPython.core.display.Markdown object>"
      ]
     },
     "metadata": {},
     "output_type": "display_data"
    },
    {
     "data": {
      "text/markdown": [
       "e, while that of mercury is vermillion. Tincture is the gray matter of the brain. “When the earth was created it was wit <span style=\"color: blue\">hout form and was void and darkness was upon th</span> e deep. The first element manifest in creation was Fire, in order that there might be light. The fire gases arising an"
      ],
      "text/plain": [
       "<IPython.core.display.Markdown object>"
      ]
     },
     "metadata": {},
     "output_type": "display_data"
    },
    {
     "name": "stdout",
     "output_type": "stream",
     "text": [
      "--------------------------------------------------\n"
     ]
    },
    {
     "data": {
      "text/markdown": [
       "### King James Bible"
      ],
      "text/plain": [
       "<IPython.core.display.Markdown object>"
      ]
     },
     "metadata": {},
     "output_type": "display_data"
    },
    {
     "data": {
      "text/markdown": [
       "prayer unto him, and he shall hear thee, and thou shalt pay thy vows. 22:28 <span style=\"color: blue\">Thou shalt also decree a thing, and it shall be established unto thee: and the light shall shine upon thy ways</span>. 22:29 When men are cast down, then thou shalt say, There is lifting up; and he shall save the humble person. 22:30 He shall"
      ],
      "text/plain": [
       "<IPython.core.display.Markdown object>"
      ]
     },
     "metadata": {},
     "output_type": "display_data"
    },
    {
     "data": {
      "text/markdown": [
       "### Nedoure, Priestess of the Magi: An Historical Romance of White and Black Magic: A Story That Reveals Wisdom of the Ancient Past: By T. J. Betiero"
      ],
      "text/plain": [
       "<IPython.core.display.Markdown object>"
      ]
     },
     "metadata": {},
     "output_type": "display_data"
    },
    {
     "data": {
      "text/markdown": [
       "<small>Betiero, T. J. (Thomas Jasper)</small>"
      ],
      "text/plain": [
       "<IPython.core.display.Markdown object>"
      ]
     },
     "metadata": {},
     "output_type": "display_data"
    },
    {
     "data": {
      "text/markdown": [
       "ined, this power usually brings success to those who possess it, and strengthens their influence over per-, sons and things. “Thou <span style=\"color: blue\">shalt also decree a thing, and it shall be established unto thee: and the light shall shine upon thy ways.” J</span> ob. 22 : 28 . This verse has a potent meaning, not alone for the people of the past, but for all humanity 236 at the present time. Therein will be found the"
      ],
      "text/plain": [
       "<IPython.core.display.Markdown object>"
      ]
     },
     "metadata": {},
     "output_type": "display_data"
    },
    {
     "name": "stdout",
     "output_type": "stream",
     "text": [
      "--------------------------------------------------\n"
     ]
    },
    {
     "data": {
      "text/markdown": [
       "### King James Bible"
      ],
      "text/plain": [
       "<IPython.core.display.Markdown object>"
      ]
     },
     "metadata": {},
     "output_type": "display_data"
    },
    {
     "data": {
      "text/markdown": [
       "father utterly refuse to give her unto him, he shall pay money according to the dowry of virgins. 22:18 <span style=\"color: blue\">Thou shalt not suffer a witch to live</span>. 22:19 Whosoever lieth with a beast shall surely be put to death. 22:20 He that sacrificeth unto any god"
      ],
      "text/plain": [
       "<IPython.core.display.Markdown object>"
      ]
     },
     "metadata": {},
     "output_type": "display_data"
    },
    {
     "data": {
      "text/markdown": [
       "### The Necromancer: Or, Voo-Doo Doctor, a Story Based on Facts: By H. N. Brown"
      ],
      "text/plain": [
       "<IPython.core.display.Markdown object>"
      ]
     },
     "metadata": {},
     "output_type": "display_data"
    },
    {
     "data": {
      "text/markdown": [
       "<small>Brown, Handy Nereus</small>"
      ],
      "text/plain": [
       "<IPython.core.display.Markdown object>"
      ]
     },
     "metadata": {},
     "output_type": "display_data"
    },
    {
     "data": {
      "text/markdown": [
       "class now.\" This said Dr. Truth turned to Exodus and read the 18th verse of the 22nd chapter, “ <span style=\"color: blue\">Thou shalt not suffer a witch to live</span>.” Then Dr. Truth said, “This law was given for the good of the people, as Voo-dooism was a curse to the people. If these pretenders could oo the things they claim"
      ],
      "text/plain": [
       "<IPython.core.display.Markdown object>"
      ]
     },
     "metadata": {},
     "output_type": "display_data"
    },
    {
     "name": "stdout",
     "output_type": "stream",
     "text": [
      "--------------------------------------------------\n"
     ]
    },
    {
     "data": {
      "text/markdown": [
       "### King James Bible"
      ],
      "text/plain": [
       "<IPython.core.display.Markdown object>"
      ]
     },
     "metadata": {},
     "output_type": "display_data"
    },
    {
     "data": {
      "text/markdown": [
       "yield unto you the increase thereof: I am the LORD your God. 19:26 Ye shall not eat any thing with the blood: <span style=\"color: blue\">neither shall ye use enchantment, nor observe times</span>. 19:27 Ye shall not round the corners of your heads, neither shalt thou mar the corners"
      ],
      "text/plain": [
       "<IPython.core.display.Markdown object>"
      ]
     },
     "metadata": {},
     "output_type": "display_data"
    },
    {
     "data": {
      "text/markdown": [
       "### The Necromancer: Or, Voo-Doo Doctor, a Story Based on Facts: By H. N. Brown"
      ],
      "text/plain": [
       "<IPython.core.display.Markdown object>"
      ]
     },
     "metadata": {},
     "output_type": "display_data"
    },
    {
     "data": {
      "text/markdown": [
       "<small>Brown, Handy Nereus</small>"
      ],
      "text/plain": [
       "<IPython.core.display.Markdown object>"
      ]
     },
     "metadata": {},
     "output_type": "display_data"
    },
    {
     "data": {
      "text/markdown": [
       "claim they would be gods among the people, but there is no truth among them, or in them. Then Dr. Truth turned to Leviticus 19:26-31 and read, “ <span style=\"color: blue\">Neither shall ye use enchantment, nor observe times</span>. Regard not them that have familiar spirits, neither seek after wizards, to be defiled by them.” You see “Enchantment” is forbidden, and no “Regard"
      ],
      "text/plain": [
       "<IPython.core.display.Markdown object>"
      ]
     },
     "metadata": {},
     "output_type": "display_data"
    },
    {
     "name": "stdout",
     "output_type": "stream",
     "text": [
      "--------------------------------------------------\n"
     ]
    },
    {
     "data": {
      "text/markdown": [
       "### King James Bible"
      ],
      "text/plain": [
       "<IPython.core.display.Markdown object>"
      ]
     },
     "metadata": {},
     "output_type": "display_data"
    },
    {
     "data": {
      "text/markdown": [
       "land become full of wickedness. 19:30 Ye shall keep my sabbaths, and reverence my sanctuary: I am the LORD. 19:31 <span style=\"color: blue\">Regard not them that have familiar spirits, neither seek after wizards, to be defiled</span> by them: I am the LORD your God. 19:32 Thou shalt rise up before the hoary head, and honour the face of the old man, and fear"
      ],
      "text/plain": [
       "<IPython.core.display.Markdown object>"
      ]
     },
     "metadata": {},
     "output_type": "display_data"
    },
    {
     "data": {
      "text/markdown": [
       "### The Necromancer: Or, Voo-Doo Doctor, a Story Based on Facts: By H. N. Brown"
      ],
      "text/plain": [
       "<IPython.core.display.Markdown object>"
      ]
     },
     "metadata": {},
     "output_type": "display_data"
    },
    {
     "data": {
      "text/markdown": [
       "<small>Brown, Handy Nereus</small>"
      ],
      "text/plain": [
       "<IPython.core.display.Markdown object>"
      ]
     },
     "metadata": {},
     "output_type": "display_data"
    },
    {
     "data": {
      "text/markdown": [
       "turned to Leviticus 19:26-31 and read, “Neither shall ye use enchantment, nor observe times. <span style=\"color: blue\">Regard not them that have familiar spirits, neither seek after wizards, to be defiled</span> by them.” You see “Enchantment” is forbidden, and no “Regard,” or at¬ tention is to be given to them that have familiar spirits. Now you вее that the word “familiar” in the very spelling"
      ],
      "text/plain": [
       "<IPython.core.display.Markdown object>"
      ]
     },
     "metadata": {},
     "output_type": "display_data"
    },
    {
     "name": "stdout",
     "output_type": "stream",
     "text": [
      "--------------------------------------------------\n"
     ]
    },
    {
     "data": {
      "text/markdown": [
       "### King James Bible"
      ],
      "text/plain": [
       "<IPython.core.display.Markdown object>"
      ]
     },
     "metadata": {},
     "output_type": "display_data"
    },
    {
     "data": {
      "text/markdown": [
       "commit whoredom with Molech, from among their people. 20:6 And the soul that turneth after such as have familiar spirits, and after wizards, to go a whoring after them, I will even <span style=\"color: blue\">set my face against that soul, and will cut him off from among</span> his people. 20:7 Sanctify yourselves therefore, and be ye holy: for I am the LORD your God. 20:8 And ye shall keep my statutes"
      ],
      "text/plain": [
       "<IPython.core.display.Markdown object>"
      ]
     },
     "metadata": {},
     "output_type": "display_data"
    },
    {
     "data": {
      "text/markdown": [
       "### The Necromancer: Or, Voo-Doo Doctor, a Story Based on Facts: By H. N. Brown"
      ],
      "text/plain": [
       "<IPython.core.display.Markdown object>"
      ]
     },
     "metadata": {},
     "output_type": "display_data"
    },
    {
     "data": {
      "text/markdown": [
       "<small>Brown, Handy Nereus</small>"
      ],
      "text/plain": [
       "<IPython.core.display.Markdown object>"
      ]
     },
     "metadata": {},
     "output_type": "display_data"
    },
    {
     "data": {
      "text/markdown": [
       "Truth, fired with a love for his people, turned to Leviticus 20:6, and read, \"The soul that tumeth after such as have familiar spirits, and after wizards, I will even <span style=\"color: blue\">set my face against that soul, and will cut him off from among</span> his people.” “Here hangs the curse,” said Dr. Truth. “Voo-dooism lives at the expense of a struggling church"
      ],
      "text/plain": [
       "<IPython.core.display.Markdown object>"
      ]
     },
     "metadata": {},
     "output_type": "display_data"
    },
    {
     "name": "stdout",
     "output_type": "stream",
     "text": [
      "--------------------------------------------------\n"
     ]
    },
    {
     "data": {
      "text/markdown": [
       "### King James Bible"
      ],
      "text/plain": [
       "<IPython.core.display.Markdown object>"
      ]
     },
     "metadata": {},
     "output_type": "display_data"
    },
    {
     "data": {
      "text/markdown": [
       "unclean. 20:26 And ye shall be holy unto me: for I the LORD am holy, and have severed you from other people, that ye should be mine. 20:27 A man also or <span style=\"color: blue\">woman that hath a familiar spirit, or that is a wizard, shall surely be put to death: they shall stone them with stones: their blood shall be upon</span> them. 21:1 And the LORD said unto Moses, Speak unto the priests the sons of Aaron, and say unto them, There shall"
      ],
      "text/plain": [
       "<IPython.core.display.Markdown object>"
      ]
     },
     "metadata": {},
     "output_type": "display_data"
    },
    {
     "data": {
      "text/markdown": [
       "### The Necromancer: Or, Voo-Doo Doctor, a Story Based on Facts: By H. N. Brown"
      ],
      "text/plain": [
       "<IPython.core.display.Markdown object>"
      ]
     },
     "metadata": {},
     "output_type": "display_data"
    },
    {
     "data": {
      "text/markdown": [
       "<small>Brown, Handy Nereus</small>"
      ],
      "text/plain": [
       "<IPython.core.display.Markdown object>"
      ]
     },
     "metadata": {},
     "output_type": "display_data"
    },
    {
     "data": {
      "text/markdown": [
       "rest¬ lessness has seized the people and they are cut off from that which was theirs.\" Now Dr. Truth read this passage from Lev. 20:27, “A man also, or <span style=\"color: blue\">woman that hath a familiar spirit, or that is a wizard, shall surely be put to death: they shall stone them with stones: their blood shall be upon</span> them.” Then Elder Truth began to talk and said, “When a man, or woman becomes a curse to the people among whom he or she lives"
      ],
      "text/plain": [
       "<IPython.core.display.Markdown object>"
      ]
     },
     "metadata": {},
     "output_type": "display_data"
    },
    {
     "name": "stdout",
     "output_type": "stream",
     "text": [
      "--------------------------------------------------\n"
     ]
    },
    {
     "data": {
      "text/markdown": [
       "### King James Bible"
      ],
      "text/plain": [
       "<IPython.core.display.Markdown object>"
      ]
     },
     "metadata": {},
     "output_type": "display_data"
    },
    {
     "data": {
      "text/markdown": [
       "shall not be found among you any one that maketh his son or his daughter to pass through the fire, or that useth divination, or an <span style=\"color: blue\">observer of times, or an enchanter, or a witch. 18:11 Or a charmer, or a consulter with familiar spirits, or a wizard, or a necromancer</span>. 18:12 For all that do these things are an abomination unto the LORD: and because of these abominations the LORD thy God doth drive them out from before thee"
      ],
      "text/plain": [
       "<IPython.core.display.Markdown object>"
      ]
     },
     "metadata": {},
     "output_type": "display_data"
    },
    {
     "data": {
      "text/markdown": [
       "### The Necromancer: Or, Voo-Doo Doctor, a Story Based on Facts: By H. N. Brown"
      ],
      "text/plain": [
       "<IPython.core.display.Markdown object>"
      ]
     },
     "metadata": {},
     "output_type": "display_data"
    },
    {
     "data": {
      "text/markdown": [
       "<small>Brown, Handy Nereus</small>"
      ],
      "text/plain": [
       "<IPython.core.display.Markdown object>"
      ]
     },
     "metadata": {},
     "output_type": "display_data"
    },
    {
     "data": {
      "text/markdown": [
       "Dr. Truth read Deut. 18:10-11. “There shall not be found among you any one that useth divina¬ tion, or an <span style=\"color: blue\">observer of times, or an enchanter, or witch, or a charmer, or a consulter with familiar spirits, or a wizard, or a necromancer</span>, conjurer or witch.” When Dr. Truth had finished to read that passage, he said, “I fear many of you have also violated the law"
      ],
      "text/plain": [
       "<IPython.core.display.Markdown object>"
      ]
     },
     "metadata": {},
     "output_type": "display_data"
    },
    {
     "name": "stdout",
     "output_type": "stream",
     "text": [
      "--------------------------------------------------\n"
     ]
    },
    {
     "data": {
      "text/markdown": [
       "### King James Bible"
      ],
      "text/plain": [
       "<IPython.core.display.Markdown object>"
      ]
     },
     "metadata": {},
     "output_type": "display_data"
    },
    {
     "data": {
      "text/markdown": [
       "ye would. 5:18 But if ye be led of the Spirit, ye are not under the law. 5:19 Now the works of the flesh are manifest, which are these; <span style=\"color: blue\">Adultery, fornication, uncleanness, lasciviousness, 5:20 Idolatry, witchcraft, hatred, variance, emulations, wrath, strife, seditions, heresies, 5:21 Envyings, murders, drunkenness, revellings</span>, and such like: of the which I tell you before, as I have also told you in time past, that they which do such things shall not inherit the kingdom of God. 5:22 But the fruit of the Spirit is love, joy, peace"
      ],
      "text/plain": [
       "<IPython.core.display.Markdown object>"
      ]
     },
     "metadata": {},
     "output_type": "display_data"
    },
    {
     "data": {
      "text/markdown": [
       "### The Necromancer: Or, Voo-Doo Doctor, a Story Based on Facts: By H. N. Brown"
      ],
      "text/plain": [
       "<IPython.core.display.Markdown object>"
      ]
     },
     "metadata": {},
     "output_type": "display_data"
    },
    {
     "data": {
      "text/markdown": [
       "<small>Brown, Handy Nereus</small>"
      ],
      "text/plain": [
       "<IPython.core.display.Markdown object>"
      ]
     },
     "metadata": {},
     "output_type": "display_data"
    },
    {
     "data": {
      "text/markdown": [
       "nations and families: through witchcraft. Now Paul says that witchcraftry is the works, of the flesh and bear the fruit of <span style=\"color: blue\">adultery, fornication, uncleanness, lasciviousness, idolatry, witchcraft, hatred, variance, emulations,, wrath, strife, seditions, heresies, envyings, murders, drunkenness, revellings</span> and such like. “There is no healing of thy bruise; thy wound in grievous: all that bear the fruit of thee shall"
      ],
      "text/plain": [
       "<IPython.core.display.Markdown object>"
      ]
     },
     "metadata": {},
     "output_type": "display_data"
    },
    {
     "name": "stdout",
     "output_type": "stream",
     "text": [
      "--------------------------------------------------\n"
     ]
    },
    {
     "data": {
      "text/markdown": [
       "### King James Bible"
      ],
      "text/plain": [
       "<IPython.core.display.Markdown object>"
      ]
     },
     "metadata": {},
     "output_type": "display_data"
    },
    {
     "data": {
      "text/markdown": [
       "service toward me. 3:1 Finally, my brethren, rejoice in the Lord. To write the same things to you, to me indeed is not grievous, but for you it is safe. 3:2 <span style=\"color: blue\">Beware of dogs, beware of evil workers, beware</span> of the concision. 3:3 For we are the circumcision, which worship God in the spirit, and rejoice in Christ Jesus, and have no confidence in the flesh"
      ],
      "text/plain": [
       "<IPython.core.display.Markdown object>"
      ]
     },
     "metadata": {},
     "output_type": "display_data"
    },
    {
     "data": {
      "text/markdown": [
       "### The Necromancer: Or, Voo-Doo Doctor, a Story Based on Facts: By H. N. Brown"
      ],
      "text/plain": [
       "<IPython.core.display.Markdown object>"
      ]
     },
     "metadata": {},
     "output_type": "display_data"
    },
    {
     "data": {
      "text/markdown": [
       "<small>Brown, Handy Nereus</small>"
      ],
      "text/plain": [
       "<IPython.core.display.Markdown object>"
      ]
     },
     "metadata": {},
     "output_type": "display_data"
    },
    {
     "data": {
      "text/markdown": [
       "attack the enemy in his stronghold and had come to Creek Chapel for that very cause. He stood up and announced for his text, Phil. Г. : 2. <span style=\"color: blue\">Beware of dogs, beware of evil workers, beware</span> of the con¬ cision. Then Dr. Truth said, “I shall talk to you about dogs, but not the class, or kind that were sent"
      ],
      "text/plain": [
       "<IPython.core.display.Markdown object>"
      ]
     },
     "metadata": {},
     "output_type": "display_data"
    },
    {
     "name": "stdout",
     "output_type": "stream",
     "text": [
      "--------------------------------------------------\n"
     ]
    },
    {
     "data": {
      "text/markdown": [
       "### King James Bible"
      ],
      "text/plain": [
       "<IPython.core.display.Markdown object>"
      ]
     },
     "metadata": {},
     "output_type": "display_data"
    },
    {
     "data": {
      "text/markdown": [
       "shall cleave to his wife: and they twain shall be one flesh? 19:6 Wherefore they are no more twain, but one flesh. What therefore <span style=\"color: blue\">God hath joined together, let not man put asunder</span>. 19:7 They say unto him, Why did Moses then command to give a writing of divorcement, and to put her away? 19:8 He saith unto them, Moses because of the hardness"
      ],
      "text/plain": [
       "<IPython.core.display.Markdown object>"
      ]
     },
     "metadata": {},
     "output_type": "display_data"
    },
    {
     "data": {
      "text/markdown": [
       "### The Younger Mrs. Courtney: A Novel: By Mrs. Frank Broaker; Illustrations by Mrs. Freeland A. Carter"
      ],
      "text/plain": [
       "<IPython.core.display.Markdown object>"
      ]
     },
     "metadata": {},
     "output_type": "display_data"
    },
    {
     "data": {
      "text/markdown": [
       "<small>Broaker, Frank, Mrs.</small>"
      ],
      "text/plain": [
       "<IPython.core.display.Markdown object>"
      ]
     },
     "metadata": {},
     "output_type": "display_data"
    },
    {
     "data": {
      "text/markdown": [
       "offense against morality; and with the help of a Higher Power, I will do my utmost to uphold that law which reads : ‘Those whom <span style=\"color: blue\">God hath joined together, let no man put asunder</span>.’ ” CHAPTER EIGHT. MADELINE PRAYED IN THE SILENT HOUR OF NIGHT. (Three months later.) The butler"
      ],
      "text/plain": [
       "<IPython.core.display.Markdown object>"
      ]
     },
     "metadata": {},
     "output_type": "display_data"
    },
    {
     "name": "stdout",
     "output_type": "stream",
     "text": [
      "--------------------------------------------------\n"
     ]
    },
    {
     "data": {
      "text/markdown": [
       "### King James Bible"
      ],
      "text/plain": [
       "<IPython.core.display.Markdown object>"
      ]
     },
     "metadata": {},
     "output_type": "display_data"
    },
    {
     "data": {
      "text/markdown": [
       "nor serve them: for I the LORD thy God am a jealous God, visiting the iniquity of the fathers <span style=\"color: blue\">upon the children unto the third and fourth</span> generation of them that hate me; 20:6 And shewing mercy unto thousands of them that love me, and keep my commandments. 20:7 Thou shalt not take the name"
      ],
      "text/plain": [
       "<IPython.core.display.Markdown object>"
      ]
     },
     "metadata": {},
     "output_type": "display_data"
    },
    {
     "data": {
      "text/markdown": [
       "### The Peruvian Nun: Or, the Empress of the Ocean: A Maritime Romance: Harry Halyard"
      ],
      "text/plain": [
       "<IPython.core.display.Markdown object>"
      ]
     },
     "metadata": {},
     "output_type": "display_data"
    },
    {
     "data": {
      "text/markdown": [
       "<small>Halyard, Harry</small>"
      ],
      "text/plain": [
       "<IPython.core.display.Markdown object>"
      ]
     },
     "metadata": {},
     "output_type": "display_data"
    },
    {
     "data": {
      "text/markdown": [
       "ible, that best of all books, has truly said “ That the sins of the fathers shall be visited upon their children even unto <span style=\"color: blue\">the third and fourth gen¬ eration.” ’ Having thus</span> spoken, the Empress of the Ocean turned, and walked majestically out of the cabin, whilst Mat"
      ],
      "text/plain": [
       "<IPython.core.display.Markdown object>"
      ]
     },
     "metadata": {},
     "output_type": "display_data"
    },
    {
     "name": "stdout",
     "output_type": "stream",
     "text": [
      "--------------------------------------------------\n"
     ]
    },
    {
     "data": {
      "text/markdown": [
       "### King James Bible"
      ],
      "text/plain": [
       "<IPython.core.display.Markdown object>"
      ]
     },
     "metadata": {},
     "output_type": "display_data"
    },
    {
     "data": {
      "text/markdown": [
       "heavenly places in Christ: 1:4 According as he hath chosen us in him before the foundation of the world, that we should be holy and without blame before him in love: 1:5 <span style=\"color: blue\">Having predestinated us unto the adoption of children by Jesus Christ to himself, according to the good pleasure of his will, 1:6 To the praise of the glory of his grace, wherein he hath made us accepted in the beloved</span>. 1:7 In whom we have redemption through his blood, the forgiveness of sins, according to the riches of his grace; 1:8 Wherein he hath"
      ],
      "text/plain": [
       "<IPython.core.display.Markdown object>"
      ]
     },
     "metadata": {},
     "output_type": "display_data"
    },
    {
     "data": {
      "text/markdown": [
       "### A Victorious Defeat: A Romance: By Wolcott Balestier"
      ],
      "text/plain": [
       "<IPython.core.display.Markdown object>"
      ]
     },
     "metadata": {},
     "output_type": "display_data"
    },
    {
     "data": {
      "text/markdown": [
       "<small>Balestier, Charles Wolcott</small>"
      ],
      "text/plain": [
       "<IPython.core.display.Markdown object>"
      ]
     },
     "metadata": {},
     "output_type": "display_data"
    },
    {
     "data": {
      "text/markdown": [
       "ted through her mind. “‘Who hath made us meet to be partakers of the inheritance of the saints in eternity,’ ” she murmured, absently, “ ‘ havi <span style=\"color: blue\">ng predestinated us unto the adoption of children by Jesus Christ to himself, according to the good pleasure of His will, to the praise of the glory of His grace wherein He hath made us accepted in the beloved.’ ”</span> The sonorous phrases left her lips thoughtfully. As she finished, her voice grew louder, and at the end the congregational res"
      ],
      "text/plain": [
       "<IPython.core.display.Markdown object>"
      ]
     },
     "metadata": {},
     "output_type": "display_data"
    },
    {
     "name": "stdout",
     "output_type": "stream",
     "text": [
      "--------------------------------------------------\n"
     ]
    },
    {
     "data": {
      "text/markdown": [
       "### King James Bible"
      ],
      "text/plain": [
       "<IPython.core.display.Markdown object>"
      ]
     },
     "metadata": {},
     "output_type": "display_data"
    },
    {
     "data": {
      "text/markdown": [
       "face of them. 21:13 Be thou exalted, LORD, in thine own strength: so will we sing and praise thy power. 22:1 My <span style=\"color: blue\">God, my God, why hast thou forsaken</span> me? why art thou so far from helping me, and from the words of my roaring? 22:2 O my God, I cry in the day time, but thou"
      ],
      "text/plain": [
       "<IPython.core.display.Markdown object>"
      ]
     },
     "metadata": {},
     "output_type": "display_data"
    },
    {
     "data": {
      "text/markdown": [
       "### The Gold Brick: By Ann S. Stephens"
      ],
      "text/plain": [
       "<IPython.core.display.Markdown object>"
      ]
     },
     "metadata": {},
     "output_type": "display_data"
    },
    {
     "data": {
      "text/markdown": [
       "<small>Stephens, Ann S. (Ann Sophia)</small>"
      ],
      "text/plain": [
       "<IPython.core.display.Markdown object>"
      ]
     },
     "metadata": {},
     "output_type": "display_data"
    },
    {
     "data": {
      "text/markdown": [
       "broke upon her as her eyes fell upon that gloomy pile, and she cried out in the depths of her soul · “ My <span style=\"color: blue\">God ! my God ! why hast thou forsaken</span> me ?” As the cry left her lips, she lifted her chained hands to her face, and shut out the prison from her sight"
      ],
      "text/plain": [
       "<IPython.core.display.Markdown object>"
      ]
     },
     "metadata": {},
     "output_type": "display_data"
    },
    {
     "name": "stdout",
     "output_type": "stream",
     "text": [
      "--------------------------------------------------\n"
     ]
    },
    {
     "data": {
      "text/markdown": [
       "### King James Bible"
      ],
      "text/plain": [
       "<IPython.core.display.Markdown object>"
      ]
     },
     "metadata": {},
     "output_type": "display_data"
    },
    {
     "data": {
      "text/markdown": [
       "hour Jesus cried with a loud voice, saying, Eli, Eli, lama sabachthani? that is to say, My <span style=\"color: blue\">God, my God, why hast thou forsaken</span> me? 27:47 Some of them that stood there, when they heard that, said, This man calleth for Elias. 27:48 And straightway one of them ran, and took a spunge, and filled it with vinegar"
      ],
      "text/plain": [
       "<IPython.core.display.Markdown object>"
      ]
     },
     "metadata": {},
     "output_type": "display_data"
    },
    {
     "data": {
      "text/markdown": [
       "### The Gold Brick: By Ann S. Stephens"
      ],
      "text/plain": [
       "<IPython.core.display.Markdown object>"
      ]
     },
     "metadata": {},
     "output_type": "display_data"
    },
    {
     "data": {
      "text/markdown": [
       "<small>Stephens, Ann S. (Ann Sophia)</small>"
      ],
      "text/plain": [
       "<IPython.core.display.Markdown object>"
      ]
     },
     "metadata": {},
     "output_type": "display_data"
    },
    {
     "data": {
      "text/markdown": [
       "light, no voice ; the dull dropping of water from the roof was all the sound she heard. No wonder that she cried out again, “My <span style=\"color: blue\">God, my God! why hast Thou forsaken</span> me ?” ·»->· » ' I » ' CHAPTER LXX. THE PRISON ANGEL. There is no cavern so deep, no darkness so profound that the Holy One cannot"
      ],
      "text/plain": [
       "<IPython.core.display.Markdown object>"
      ]
     },
     "metadata": {},
     "output_type": "display_data"
    },
    {
     "name": "stdout",
     "output_type": "stream",
     "text": [
      "--------------------------------------------------\n"
     ]
    },
    {
     "data": {
      "text/markdown": [
       "### King James Bible"
      ],
      "text/plain": [
       "<IPython.core.display.Markdown object>"
      ]
     },
     "metadata": {},
     "output_type": "display_data"
    },
    {
     "data": {
      "text/markdown": [
       "yet a great way off, his father saw him, and had compassion, and ran, and fell on his neck, and kissed him. 15:21 And the son said unto him, <span style=\"color: blue\">Father, I have sinned against heaven, and in thy sight</span>, and am no more worthy to be called thy son. 15:22 But the father said to his servants, Bring forth the best robe, and put"
      ],
      "text/plain": [
       "<IPython.core.display.Markdown object>"
      ]
     },
     "metadata": {},
     "output_type": "display_data"
    },
    {
     "data": {
      "text/markdown": [
       "### The Gold Brick: By Ann S. Stephens"
      ],
      "text/plain": [
       "<IPython.core.display.Markdown object>"
      ]
     },
     "metadata": {},
     "output_type": "display_data"
    },
    {
     "data": {
      "text/markdown": [
       "<small>Stephens, Ann S. (Ann Sophia)</small>"
      ],
      "text/plain": [
       "<IPython.core.display.Markdown object>"
      ]
     },
     "metadata": {},
     "output_type": "display_data"
    },
    {
     "data": {
      "text/markdown": [
       "thank—she who suffered innocently, that I might be given back to my home. It was for your son she waited after they had set her free, for I have been her fellow-prisoner. Oh, <span style=\"color: blue\">father ! I have sinned against Heaven, and in thy sight</span>, and am no longer worthy to be called thy son.” Tears were raining down the old man’s face—his arms"
      ],
      "text/plain": [
       "<IPython.core.display.Markdown object>"
      ]
     },
     "metadata": {},
     "output_type": "display_data"
    },
    {
     "name": "stdout",
     "output_type": "stream",
     "text": [
      "--------------------------------------------------\n"
     ]
    },
    {
     "data": {
      "text/markdown": [
       "### King James Bible"
      ],
      "text/plain": [
       "<IPython.core.display.Markdown object>"
      ]
     },
     "metadata": {},
     "output_type": "display_data"
    },
    {
     "data": {
      "text/markdown": [
       "thou? And I said, I see a seething pot; and the face thereof is toward the north. 1:14 Then the LORD said unto me, Out of the north an <span style=\"color: blue\">evil shall break forth upon all the inhabitants of the land</span>. 1:15 For, lo, I will call all the families of the kingdoms of the north, saith the LORD; and they shall come, and they shall set"
      ],
      "text/plain": [
       "<IPython.core.display.Markdown object>"
      ]
     },
     "metadata": {},
     "output_type": "display_data"
    },
    {
     "data": {
      "text/markdown": [
       "### Book of the Prophet Stephen, Son of Douglas"
      ],
      "text/plain": [
       "<IPython.core.display.Markdown object>"
      ]
     },
     "metadata": {},
     "output_type": "display_data"
    },
    {
     "data": {
      "text/markdown": [
       "<small>White, Richard Grant</small>"
      ],
      "text/plain": [
       "<IPython.core.display.Markdown object>"
      ]
     },
     "metadata": {},
     "output_type": "display_data"
    },
    {
     "data": {
      "text/markdown": [
       "Jeremiah, and said unto me, Read ; and I opened my eyes and read these words : “ Then said the Lord unto me, out of the Rorth an <span style=\"color: blue\">evil shall break forth upon all the inhabitants of the land</span>.” VIII. And the Angel turned over a leaf in the book of the Prophecy of Jeremiah, and said unto me, Row open"
      ],
      "text/plain": [
       "<IPython.core.display.Markdown object>"
      ]
     },
     "metadata": {},
     "output_type": "display_data"
    },
    {
     "name": "stdout",
     "output_type": "stream",
     "text": [
      "--------------------------------------------------\n"
     ]
    },
    {
     "data": {
      "text/markdown": [
       "### King James Bible"
      ],
      "text/plain": [
       "<IPython.core.display.Markdown object>"
      ]
     },
     "metadata": {},
     "output_type": "display_data"
    },
    {
     "data": {
      "text/markdown": [
       "procured these things unto thee; this is thy wickedness, because it is bitter, because it reacheth unto thine heart. 4:19 My <span style=\"color: blue\">bowels, my bowels! I am pained at my very heart; my heart maketh a noise in me; I cannot hold my peace, because thou hast heard, O my soul, the sound of the trumpet, the alarm of war. 4:20 Destruction upon destruction is cried; for the whole land is spoiled: suddenly are my tents spoiled, and my curtains in a moment</span>. 4:21 How long shall I see the standard, and hear the sound of the trumpet? 4:22 For my people is foolish, they have not known me; they are sottish children, and they have none"
      ],
      "text/plain": [
       "<IPython.core.display.Markdown object>"
      ]
     },
     "metadata": {},
     "output_type": "display_data"
    },
    {
     "data": {
      "text/markdown": [
       "### Book of the Prophet Stephen, Son of Douglas"
      ],
      "text/plain": [
       "<IPython.core.display.Markdown object>"
      ]
     },
     "metadata": {},
     "output_type": "display_data"
    },
    {
     "data": {
      "text/markdown": [
       "<small>White, Richard Grant</small>"
      ],
      "text/plain": [
       "<IPython.core.display.Markdown object>"
      ]
     },
     "metadata": {},
     "output_type": "display_data"
    },
    {
     "data": {
      "text/markdown": [
       "unto me, Row open thine eyes and read what tliou seest ; and I be¬ held these words : “ My <span style=\"color: blue\">bowels, my bowels ! 1 am pained at my very heart ; my heart maketh a noise in me ; I cannot hold my peace, because thou hast heard, O my soul, the sound of the trumpet, the alarm of war. Destruction upon destruction is cried, for the whole land is spoiled ; suddenly are my tents spoiled, and my curtains in a moment</span>. For my people is fool¬ ish, they have not known me ; they are sottish child¬ ren, and they have none understanding ; they are wise to do evil"
      ],
      "text/plain": [
       "<IPython.core.display.Markdown object>"
      ]
     },
     "metadata": {},
     "output_type": "display_data"
    },
    {
     "name": "stdout",
     "output_type": "stream",
     "text": [
      "--------------------------------------------------\n"
     ]
    },
    {
     "data": {
      "text/markdown": [
       "### King James Bible"
      ],
      "text/plain": [
       "<IPython.core.display.Markdown object>"
      ]
     },
     "metadata": {},
     "output_type": "display_data"
    },
    {
     "data": {
      "text/markdown": [
       "moment. 4:21 How long shall I see the standard, and hear the sound of the trumpet? 4:22 For my people is foolish, they have not known me; they are sottish children, and they have <span style=\"color: blue\">none understanding: they are wise to do evil, but to do good they have no knowledge</span>. 4:23 I beheld the earth, and, lo, it was without form, and void; and the heavens, and they had no light. 4:24 I beheld the mountains"
      ],
      "text/plain": [
       "<IPython.core.display.Markdown object>"
      ]
     },
     "metadata": {},
     "output_type": "display_data"
    },
    {
     "data": {
      "text/markdown": [
       "### Book of the Prophet Stephen, Son of Douglas"
      ],
      "text/plain": [
       "<IPython.core.display.Markdown object>"
      ]
     },
     "metadata": {},
     "output_type": "display_data"
    },
    {
     "data": {
      "text/markdown": [
       "<small>White, Richard Grant</small>"
      ],
      "text/plain": [
       "<IPython.core.display.Markdown object>"
      ]
     },
     "metadata": {},
     "output_type": "display_data"
    },
    {
     "data": {
      "text/markdown": [
       "tents spoiled, and my curtains in a moment. For my people is fool¬ ish, they have not known me ; they are sottish child¬ ren, and they have <span style=\"color: blue\">none understanding ; they are wise to do evil, but to do good they have no knowledge</span>. And when thou art spoiled, what wilt thou do ? Though thou clothest thyself with crimson"
      ],
      "text/plain": [
       "<IPython.core.display.Markdown object>"
      ]
     },
     "metadata": {},
     "output_type": "display_data"
    },
    {
     "name": "stdout",
     "output_type": "stream",
     "text": [
      "--------------------------------------------------\n"
     ]
    },
    {
     "data": {
      "text/markdown": [
       "### King James Bible"
      ],
      "text/plain": [
       "<IPython.core.display.Markdown object>"
      ]
     },
     "metadata": {},
     "output_type": "display_data"
    },
    {
     "data": {
      "text/markdown": [
       "shall go into thickets, and climb up upon the rocks: every city shall be forsaken, and not a man dwell therein. 4:30 And when <span style=\"color: blue\">thou art spoiled, what wilt thou do? Though thou clothest thyself with crimson, though thou</span> deckest thee with ornaments of gold, though thou rentest thy face with painting"
      ],
      "text/plain": [
       "<IPython.core.display.Markdown object>"
      ]
     },
     "metadata": {},
     "output_type": "display_data"
    },
    {
     "data": {
      "text/markdown": [
       "### Book of the Prophet Stephen, Son of Douglas"
      ],
      "text/plain": [
       "<IPython.core.display.Markdown object>"
      ]
     },
     "metadata": {},
     "output_type": "display_data"
    },
    {
     "data": {
      "text/markdown": [
       "<small>White, Richard Grant</small>"
      ],
      "text/plain": [
       "<IPython.core.display.Markdown object>"
      ]
     },
     "metadata": {},
     "output_type": "display_data"
    },
    {
     "data": {
      "text/markdown": [
       "ish, they have not known me ; they are sottish child¬ ren, and they have none understanding ; they are wise to do evil, but to do good they have no knowledge. And when <span style=\"color: blue\">thou art spoiled, what wilt thou do ? Though thou clothest thyself with crimson, though thou</span> deck¬ est thee with ornaments of gold—thy lovers will des¬ pise thee"
      ],
      "text/plain": [
       "<IPython.core.display.Markdown object>"
      ]
     },
     "metadata": {},
     "output_type": "display_data"
    },
    {
     "name": "stdout",
     "output_type": "stream",
     "text": [
      "--------------------------------------------------\n"
     ]
    },
    {
     "data": {
      "text/markdown": [
       "### King James Bible"
      ],
      "text/plain": [
       "<IPython.core.display.Markdown object>"
      ]
     },
     "metadata": {},
     "output_type": "display_data"
    },
    {
     "data": {
      "text/markdown": [
       "shalt also call unto them; but they will not answer thee. 7:28 But thou shalt say unto them, This is a nation that obeyeth not the <span style=\"color: blue\">voice of the LORD their God, nor receiveth correction: truth is perished, and is cut off from their mouth</span>. 7:29 Cut off thine hair, O Jerusalem, and cast it away, and take up a lamentation on high places; for the LORD hath"
      ],
      "text/plain": [
       "<IPython.core.display.Markdown object>"
      ]
     },
     "metadata": {},
     "output_type": "display_data"
    },
    {
     "data": {
      "text/markdown": [
       "### Book of the Prophet Stephen, Son of Douglas"
      ],
      "text/plain": [
       "<IPython.core.display.Markdown object>"
      ]
     },
     "metadata": {},
     "output_type": "display_data"
    },
    {
     "data": {
      "text/markdown": [
       "<small>White, Richard Grant</small>"
      ],
      "text/plain": [
       "<IPython.core.display.Markdown object>"
      ]
     },
     "metadata": {},
     "output_type": "display_data"
    },
    {
     "data": {
      "text/markdown": [
       "hand of the Angel, and read these words : “ But thou shalt say unto them that this is a nation that obc} 7 eth not the <span style=\"color: blue\">voice of the Lord their God, nor receiveth correction : truth is perished, and is cut off from their mouth</span>. And they bend their tongues like their bows for lies.” III. And then I knew, O my people, that the fol lowers of tlie"
      ],
      "text/plain": [
       "<IPython.core.display.Markdown object>"
      ]
     },
     "metadata": {},
     "output_type": "display_data"
    },
    {
     "name": "stdout",
     "output_type": "stream",
     "text": [
      "--------------------------------------------------\n"
     ]
    },
    {
     "data": {
      "text/markdown": [
       "### King James Bible"
      ],
      "text/plain": [
       "<IPython.core.display.Markdown object>"
      ]
     },
     "metadata": {},
     "output_type": "display_data"
    },
    {
     "data": {
      "text/markdown": [
       "become brutish, and have not sought the LORD: therefore they shall not prosper, and all their flocks shall be scattered. 10:22 <span style=\"color: blue\">Behold, the noise of the bruit is come, and a great commotion out of the north country, to make the cities</span> of Judah desolate, and a den of dragons. 10:23 O LORD, I know that the way of man is not in himself: it is not in man that walketh to direct his steps"
      ],
      "text/plain": [
       "<IPython.core.display.Markdown object>"
      ]
     },
     "metadata": {},
     "output_type": "display_data"
    },
    {
     "data": {
      "text/markdown": [
       "### Book of the Prophet Stephen, Son of Douglas"
      ],
      "text/plain": [
       "<IPython.core.display.Markdown object>"
      ]
     },
     "metadata": {},
     "output_type": "display_data"
    },
    {
     "data": {
      "text/markdown": [
       "<small>White, Richard Grant</small>"
      ],
      "text/plain": [
       "<IPython.core.display.Markdown object>"
      ]
     },
     "metadata": {},
     "output_type": "display_data"
    },
    {
     "data": {
      "text/markdown": [
       "familiar with these words of the twentieth chapter and twenty-second verse of the Prophet; and I read after this manner : “ <span style=\"color: blue\">Behold, the noise of the bruit is come, and a great commotion out of the North country, to make the cities</span> desolate, and a den of dragons. . . When I had fed them to the full, they then committed adultery, and assembled themselves by tropps"
      ],
      "text/plain": [
       "<IPython.core.display.Markdown object>"
      ]
     },
     "metadata": {},
     "output_type": "display_data"
    },
    {
     "name": "stdout",
     "output_type": "stream",
     "text": [
      "--------------------------------------------------\n"
     ]
    },
    {
     "data": {
      "text/markdown": [
       "### King James Bible"
      ],
      "text/plain": [
       "<IPython.core.display.Markdown object>"
      ]
     },
     "metadata": {},
     "output_type": "display_data"
    },
    {
     "data": {
      "text/markdown": [
       "search the heart, I try the reins, even to give every man according to his ways, and according to the fruit of his doings. 17:11 As the partridge <span style=\"color: blue\">sitteth on eggs, and hatcheth them not; so he that getteth riches, and not by right, shall leave them in the midst of his days, and at his end shall be a fool</span>. 17:12 A glorious high throne from the beginning is the place of our sanctuary. 17:13 O LORD, the hope of Israel, all that forsake thee"
      ],
      "text/plain": [
       "<IPython.core.display.Markdown object>"
      ]
     },
     "metadata": {},
     "output_type": "display_data"
    },
    {
     "data": {
      "text/markdown": [
       "### Book of the Prophet Stephen, Son of Douglas"
      ],
      "text/plain": [
       "<IPython.core.display.Markdown object>"
      ]
     },
     "metadata": {},
     "output_type": "display_data"
    },
    {
     "data": {
      "text/markdown": [
       "<small>White, Richard Grant</small>"
      ],
      "text/plain": [
       "<IPython.core.display.Markdown object>"
      ]
     },
     "metadata": {},
     "output_type": "display_data"
    },
    {
     "data": {
      "text/markdown": [
       "commanded me to read. IX. Behold the words of the Prophet : u Asa par¬ tridge <span style=\"color: blue\">sitteth on eggs and hatcheth them not, so he that getteth riches, and not by right, shall leave them in the midst of his days, and at his end shall be a fool</span>.” X. And I was sore afraid, for I knew not the mean¬ ing of these words, neither could I understand them ; and I spake unto"
      ],
      "text/plain": [
       "<IPython.core.display.Markdown object>"
      ]
     },
     "metadata": {},
     "output_type": "display_data"
    },
    {
     "name": "stdout",
     "output_type": "stream",
     "text": [
      "--------------------------------------------------\n"
     ]
    },
    {
     "data": {
      "text/markdown": [
       "### King James Bible"
      ],
      "text/plain": [
       "<IPython.core.display.Markdown object>"
      ]
     },
     "metadata": {},
     "output_type": "display_data"
    },
    {
     "data": {
      "text/markdown": [
       "disciples, Verily I say unto you, That a rich man shall hardly enter into the kingdom of heaven. 19:24 And again I say unto you, It is <span style=\"color: blue\">easier for a camel to go through the eye of a needle, than for a rich man to enter into the kingdom</span> of God. 19:25 When his disciples heard it, they were exceedingly amazed, saying, Who then can be saved? 19:26 But Jesus beheld them, and said unto"
      ],
      "text/plain": [
       "<IPython.core.display.Markdown object>"
      ]
     },
     "metadata": {},
     "output_type": "display_data"
    },
    {
     "data": {
      "text/markdown": [
       "### Atonement: Or, Fallen and Risen: By Rudolph Leonhart …"
      ],
      "text/plain": [
       "<IPython.core.display.Markdown object>"
      ]
     },
     "metadata": {},
     "output_type": "display_data"
    },
    {
     "data": {
      "text/markdown": [
       "<small>Leonhart, Rudolph</small>"
      ],
      "text/plain": [
       "<IPython.core.display.Markdown object>"
      ]
     },
     "metadata": {},
     "output_type": "display_data"
    },
    {
     "data": {
      "text/markdown": [
       "lords of society, and more against this damnable practice so diametrically opposed to the teaching of the wise man of Nazareth : “That it is <span style=\"color: blue\">easier for a camel to go through the eye of a needle than for the rich to enter the kingdom</span> of heaven,” they might do some good, an achievement to which they can now hardly lay claim. If they would, in addition to this innovation, thunder their anathema against"
      ],
      "text/plain": [
       "<IPython.core.display.Markdown object>"
      ]
     },
     "metadata": {},
     "output_type": "display_data"
    },
    {
     "name": "stdout",
     "output_type": "stream",
     "text": [
      "--------------------------------------------------\n"
     ]
    },
    {
     "data": {
      "text/markdown": [
       "### King James Bible"
      ],
      "text/plain": [
       "<IPython.core.display.Markdown object>"
      ]
     },
     "metadata": {},
     "output_type": "display_data"
    },
    {
     "data": {
      "text/markdown": [
       "secret. 5:13 But all things that are reproved are made manifest by the light: for whatsoever doth make manifest is light. 5:14 Wherefore he saith, <span style=\"color: blue\">Awake thou that sleepest, and arise from the dead, and Christ shall give thee light</span>. 5:15 See then that ye walk circumspectly, not as fools, but as wise, 5:16 Redeeming the time, because the days are evil. 5:17 Wherefore be ye"
      ],
      "text/plain": [
       "<IPython.core.display.Markdown object>"
      ]
     },
     "metadata": {},
     "output_type": "display_data"
    },
    {
     "data": {
      "text/markdown": [
       "### Under Tops'ls and Tents: By Cyrus Townsend Brady"
      ],
      "text/plain": [
       "<IPython.core.display.Markdown object>"
      ]
     },
     "metadata": {},
     "output_type": "display_data"
    },
    {
     "data": {
      "text/markdown": [
       "<small>Brady, Cyrus Townsend</small>"
      ],
      "text/plain": [
       "<IPython.core.display.Markdown object>"
      ]
     },
     "metadata": {},
     "output_type": "display_data"
    },
    {
     "data": {
      "text/markdown": [
       "med to say, as the bugle corps of one regiment after another caught the refrain and sent the chorus ringing through the morning—“ Awa <span style=\"color: blue\">ke, thou that sleepest, and arise from the dead, and Christ shall give thee light.”</span> And this, too, was life—but life eterna;! ! 200 THE WOEST SOLDIEB OF THE REGIMENT Those of us who were conscious of anything in particular during the drowsy hour of"
      ],
      "text/plain": [
       "<IPython.core.display.Markdown object>"
      ]
     },
     "metadata": {},
     "output_type": "display_data"
    },
    {
     "name": "stdout",
     "output_type": "stream",
     "text": [
      "--------------------------------------------------\n"
     ]
    },
    {
     "data": {
      "text/markdown": [
       "### King James Bible"
      ],
      "text/plain": [
       "<IPython.core.display.Markdown object>"
      ]
     },
     "metadata": {},
     "output_type": "display_data"
    },
    {
     "data": {
      "text/markdown": [
       "judgment: 5:22 But I say unto you, That whosoever is angry with his brother without a cause shall be in danger of the judgment: and <span style=\"color: blue\">whosoever shall say to his brother, Raca, shall be in danger of the council: but whosoever shall say, Thou fool</span>, shall be in danger of hell fire. 5:23 Therefore if thou bring thy gift to the altar"
      ],
      "text/plain": [
       "<IPython.core.display.Markdown object>"
      ]
     },
     "metadata": {},
     "output_type": "display_data"
    },
    {
     "data": {
      "text/markdown": [
       "### Lionel Lincoln, or, the Leaguer of Boston"
      ],
      "text/plain": [
       "<IPython.core.display.Markdown object>"
      ]
     },
     "metadata": {},
     "output_type": "display_data"
    },
    {
     "data": {
      "text/markdown": [
       "<small>Cooper, James Fenimore</small>"
      ],
      "text/plain": [
       "<IPython.core.display.Markdown object>"
      ]
     },
     "metadata": {},
     "output_type": "display_data"
    },
    {
     "data": {
      "text/markdown": [
       "ld gleam of intelligence that lighted the counte¬ nance of the changeling, as he continued in the same ominous tones— “Wh <span style=\"color: blue\">osoever shall say to his brother, Raca, shall be in danger of the council ; but whosoever shall say, Thou fool,</span> is in danger of hell-fire.” For a moment Lionel stood as if spell-bound, by the manner of Job,"
      ],
      "text/plain": [
       "<IPython.core.display.Markdown object>"
      ]
     },
     "metadata": {},
     "output_type": "display_data"
    },
    {
     "name": "stdout",
     "output_type": "stream",
     "text": [
      "--------------------------------------------------\n"
     ]
    },
    {
     "data": {
      "text/markdown": [
       "### King James Bible"
      ],
      "text/plain": [
       "<IPython.core.display.Markdown object>"
      ]
     },
     "metadata": {},
     "output_type": "display_data"
    },
    {
     "data": {
      "text/markdown": [
       "thee, but to fear the LORD thy God, to walk in all his ways, and to love him, and to serve the LORD thy <span style=\"color: blue\">God with all thy heart and with all thy soul</span>, 10:13 To keep the commandments of the LORD, and his statutes, which I command thee this day for thy good? 10:14 Behold, the heaven and the heaven of heavens"
      ],
      "text/plain": [
       "<IPython.core.display.Markdown object>"
      ]
     },
     "metadata": {},
     "output_type": "display_data"
    },
    {
     "data": {
      "text/markdown": [
       "### The Sylvester Quarry: A Sequel to \"Over at Little Acorns\": By Elisabeth Olmis"
      ],
      "text/plain": [
       "<IPython.core.display.Markdown object>"
      ]
     },
     "metadata": {},
     "output_type": "display_data"
    },
    {
     "data": {
      "text/markdown": [
       "<small>Olmis, Elisabeth</small>"
      ],
      "text/plain": [
       "<IPython.core.display.Markdown object>"
      ]
     },
     "metadata": {},
     "output_type": "display_data"
    },
    {
     "data": {
      "text/markdown": [
       "words that Mr. Keith suggested лее should use as our watch-words ?”— ‘Thou shalt love the Lord thv <span style=\"color: blue\">God with all thy heart, and with all thy soul</span>, and with all thy mind, and with all thy strength,’ and ‘Thou shalt love thy neighbor as thyself.’ Bo"
      ],
      "text/plain": [
       "<IPython.core.display.Markdown object>"
      ]
     },
     "metadata": {},
     "output_type": "display_data"
    },
    {
     "name": "stdout",
     "output_type": "stream",
     "text": [
      "--------------------------------------------------\n"
     ]
    },
    {
     "data": {
      "text/markdown": [
       "### King James Bible"
      ],
      "text/plain": [
       "<IPython.core.display.Markdown object>"
      ]
     },
     "metadata": {},
     "output_type": "display_data"
    },
    {
     "data": {
      "text/markdown": [
       "name. 18:50 Great deliverance giveth he to his king; and sheweth mercy to his anointed, to David, and to his seed for evermore. 19:1 The <span style=\"color: blue\">heavens declare the glory of God; and the firmament sheweth</span> his handywork. 19:2 Day unto day uttereth speech, and night unto night sheweth knowledge. 19:3 There is no speech"
      ],
      "text/plain": [
       "<IPython.core.display.Markdown object>"
      ]
     },
     "metadata": {},
     "output_type": "display_data"
    },
    {
     "data": {
      "text/markdown": [
       "### The Sylvester Quarry: A Sequel to \"Over at Little Acorns\": By Elisabeth Olmis"
      ],
      "text/plain": [
       "<IPython.core.display.Markdown object>"
      ]
     },
     "metadata": {},
     "output_type": "display_data"
    },
    {
     "data": {
      "text/markdown": [
       "<small>Olmis, Elisabeth</small>"
      ],
      "text/plain": [
       "<IPython.core.display.Markdown object>"
      ]
     },
     "metadata": {},
     "output_type": "display_data"
    },
    {
     "data": {
      "text/markdown": [
       "lory. At the sight, Keith’s thankful heart burst forth in the words of the Psalmist: “The h <span style=\"color: blue\">eavens declare the glory of God ; and the firmament sheweth</span> his handiwork. “Day unto dav uttereth speech, and night unto night sheweth knowledge."
      ],
      "text/plain": [
       "<IPython.core.display.Markdown object>"
      ]
     },
     "metadata": {},
     "output_type": "display_data"
    },
    {
     "name": "stdout",
     "output_type": "stream",
     "text": [
      "--------------------------------------------------\n"
     ]
    },
    {
     "data": {
      "text/markdown": [
       "### King James Bible"
      ],
      "text/plain": [
       "<IPython.core.display.Markdown object>"
      ]
     },
     "metadata": {},
     "output_type": "display_data"
    },
    {
     "data": {
      "text/markdown": [
       "seed for evermore. 19:1 The heavens declare the glory of God; and the firmament sheweth his handywork. 19:2 Day unto day <span style=\"color: blue\">uttereth speech, and night unto night sheweth knowledge. 19:3 There is no speech nor language, where their voice is not heard. 19:4 Their line is gone out through all the earth, and their words to the end of the world. In them hath he set a tabernacle for the sun</span>, 19:5 Which is as a bridegroom coming out of his chamber, and rejoiceth as a strong man to run a race. 19:6 His going forth is from the end of the heaven, and his circuit"
      ],
      "text/plain": [
       "<IPython.core.display.Markdown object>"
      ]
     },
     "metadata": {},
     "output_type": "display_data"
    },
    {
     "data": {
      "text/markdown": [
       "### The Sylvester Quarry: A Sequel to \"Over at Little Acorns\": By Elisabeth Olmis"
      ],
      "text/plain": [
       "<IPython.core.display.Markdown object>"
      ]
     },
     "metadata": {},
     "output_type": "display_data"
    },
    {
     "data": {
      "text/markdown": [
       "<small>Olmis, Elisabeth</small>"
      ],
      "text/plain": [
       "<IPython.core.display.Markdown object>"
      ]
     },
     "metadata": {},
     "output_type": "display_data"
    },
    {
     "data": {
      "text/markdown": [
       "salmist: “The heavens declare the glory of God ; and the firmament sheweth his handiwork. “Day unto dav u <span style=\"color: blue\">ttereth speech, and night unto night sheweth knowledge. “There is no speech nor language where their voice is not heard. “Their line is gone through all the earth, and their words to the end of the world. In them hath He set a tabernacle for the sun,</span>“Which is ns a bridegroom coming ont of his chamber, and rejoiceth as a strong man to run a race. “Bless"
      ],
      "text/plain": [
       "<IPython.core.display.Markdown object>"
      ]
     },
     "metadata": {},
     "output_type": "display_data"
    },
    {
     "name": "stdout",
     "output_type": "stream",
     "text": [
      "--------------------------------------------------\n"
     ]
    },
    {
     "data": {
      "text/markdown": [
       "### King James Bible"
      ],
      "text/plain": [
       "<IPython.core.display.Markdown object>"
      ]
     },
     "metadata": {},
     "output_type": "display_data"
    },
    {
     "data": {
      "text/markdown": [
       "line is gone out through all the earth, and their words to the end of the world. In them hath he set a tabernacle for the sun, 19:5 Which is as a bridegroom coming out of his <span style=\"color: blue\">chamber, and rejoiceth as a strong man to run a race</span>. 19:6 His going forth is from the end of the heaven, and his circuit unto the ends of it: and there is nothing hid from the heat thereof. 19:7 The law of the LORD"
      ],
      "text/plain": [
       "<IPython.core.display.Markdown object>"
      ]
     },
     "metadata": {},
     "output_type": "display_data"
    },
    {
     "data": {
      "text/markdown": [
       "### The Sylvester Quarry: A Sequel to \"Over at Little Acorns\": By Elisabeth Olmis"
      ],
      "text/plain": [
       "<IPython.core.display.Markdown object>"
      ]
     },
     "metadata": {},
     "output_type": "display_data"
    },
    {
     "data": {
      "text/markdown": [
       "<small>Olmis, Elisabeth</small>"
      ],
      "text/plain": [
       "<IPython.core.display.Markdown object>"
      ]
     },
     "metadata": {},
     "output_type": "display_data"
    },
    {
     "data": {
      "text/markdown": [
       "arth, and their words to the end of the world. In them hath He set a tabernacle for the sun, “Which is ns a bridegroom coming ont of his c <span style=\"color: blue\">hamber, and rejoiceth as a strong man to run a race.</span>“Bless the Lord, O my soul : and all that is within me, bless IIis holy name. “Bless"
      ],
      "text/plain": [
       "<IPython.core.display.Markdown object>"
      ]
     },
     "metadata": {},
     "output_type": "display_data"
    },
    {
     "name": "stdout",
     "output_type": "stream",
     "text": [
      "--------------------------------------------------\n"
     ]
    },
    {
     "data": {
      "text/markdown": [
       "### King James Bible"
      ],
      "text/plain": [
       "<IPython.core.display.Markdown object>"
      ]
     },
     "metadata": {},
     "output_type": "display_data"
    },
    {
     "data": {
      "text/markdown": [
       "shall have no end. 102:28 The children of thy servants shall continue, and their seed shall be established before thee. 103:1 <span style=\"color: blue\">Bless the LORD, O my soul: and all that is within me, bless</span> his holy name. 103:2 Bless the LORD, O my soul, and forget not all his benefits: 103:3 Who forgiveth all thine"
      ],
      "text/plain": [
       "<IPython.core.display.Markdown object>"
      ]
     },
     "metadata": {},
     "output_type": "display_data"
    },
    {
     "data": {
      "text/markdown": [
       "### The Sylvester Quarry: A Sequel to \"Over at Little Acorns\": By Elisabeth Olmis"
      ],
      "text/plain": [
       "<IPython.core.display.Markdown object>"
      ]
     },
     "metadata": {},
     "output_type": "display_data"
    },
    {
     "data": {
      "text/markdown": [
       "<small>Olmis, Elisabeth</small>"
      ],
      "text/plain": [
       "<IPython.core.display.Markdown object>"
      ]
     },
     "metadata": {},
     "output_type": "display_data"
    },
    {
     "data": {
      "text/markdown": [
       "un, “Which is ns a bridegroom coming ont of his chamber, and rejoiceth as a strong man to run a race. “B <span style=\"color: blue\">less the Lord, O my soul : and all that is within me, bless</span> IIis holy name. “Bless the Lord, O my soul, and forget not all his benefits.” Then, after an instant’"
      ],
      "text/plain": [
       "<IPython.core.display.Markdown object>"
      ]
     },
     "metadata": {},
     "output_type": "display_data"
    },
    {
     "name": "stdout",
     "output_type": "stream",
     "text": [
      "--------------------------------------------------\n"
     ]
    },
    {
     "data": {
      "text/markdown": [
       "### King James Bible"
      ],
      "text/plain": [
       "<IPython.core.display.Markdown object>"
      ]
     },
     "metadata": {},
     "output_type": "display_data"
    },
    {
     "data": {
      "text/markdown": [
       "seed shall be established before thee. 103:1 Bless the LORD, O my soul: and all that is within me, bless his <span style=\"color: blue\">holy name. 103:2 Bless the LORD, O my soul, and forget not all his benefits</span>: 103:3 Who forgiveth all thine iniquities; who healeth all thy diseases; 103:4 Who redeemeth thy life from destruction; who crowneth"
      ],
      "text/plain": [
       "<IPython.core.display.Markdown object>"
      ]
     },
     "metadata": {},
     "output_type": "display_data"
    },
    {
     "data": {
      "text/markdown": [
       "### The Sylvester Quarry: A Sequel to \"Over at Little Acorns\": By Elisabeth Olmis"
      ],
      "text/plain": [
       "<IPython.core.display.Markdown object>"
      ]
     },
     "metadata": {},
     "output_type": "display_data"
    },
    {
     "data": {
      "text/markdown": [
       "<small>Olmis, Elisabeth</small>"
      ],
      "text/plain": [
       "<IPython.core.display.Markdown object>"
      ]
     },
     "metadata": {},
     "output_type": "display_data"
    },
    {
     "data": {
      "text/markdown": [
       "trong man to run a race. “Bless the Lord, O my soul : and all that is within me, bless IIis h <span style=\"color: blue\">oly name. “Bless the Lord, O my soul, and forget not all his benefits.</span>” Then, after an instant’s pause, he went on very gently : “Who forgi vetli all thine iniquities; who healeth"
      ],
      "text/plain": [
       "<IPython.core.display.Markdown object>"
      ]
     },
     "metadata": {},
     "output_type": "display_data"
    },
    {
     "name": "stdout",
     "output_type": "stream",
     "text": [
      "--------------------------------------------------\n"
     ]
    },
    {
     "data": {
      "text/markdown": [
       "### King James Bible"
      ],
      "text/plain": [
       "<IPython.core.display.Markdown object>"
      ]
     },
     "metadata": {},
     "output_type": "display_data"
    },
    {
     "data": {
      "text/markdown": [
       "bless his holy name. 103:2 Bless the LORD, O my soul, and forget not all his benefits: 103:3 Who forgiveth all <span style=\"color: blue\">thine iniquities; who healeth all thy diseases; 103:4 Who redeemeth thy life from destruction; who crowneth thee</span> with lovingkindness and tender mercies; 103:5 Who satisfieth thy mouth with good things; so that thy youth is renewed like the eagle"
      ],
      "text/plain": [
       "<IPython.core.display.Markdown object>"
      ]
     },
     "metadata": {},
     "output_type": "display_data"
    },
    {
     "data": {
      "text/markdown": [
       "### The Sylvester Quarry: A Sequel to \"Over at Little Acorns\": By Elisabeth Olmis"
      ],
      "text/plain": [
       "<IPython.core.display.Markdown object>"
      ]
     },
     "metadata": {},
     "output_type": "display_data"
    },
    {
     "data": {
      "text/markdown": [
       "<small>Olmis, Elisabeth</small>"
      ],
      "text/plain": [
       "<IPython.core.display.Markdown object>"
      ]
     },
     "metadata": {},
     "output_type": "display_data"
    },
    {
     "data": {
      "text/markdown": [
       "oul, and forget not all his benefits.” Then, after an instant’s pause, he went on very gently : “Who forgi vetli all t <span style=\"color: blue\">hine iniquities; who healeth all thy diseases ; who redeemeth thy life from destruction ; who crowneth thee</span> with lov¬ ing kindness and tender mercies ; who satisfieth thy mouth with good things; so that thy youth"
      ],
      "text/plain": [
       "<IPython.core.display.Markdown object>"
      ]
     },
     "metadata": {},
     "output_type": "display_data"
    },
    {
     "name": "stdout",
     "output_type": "stream",
     "text": [
      "--------------------------------------------------\n"
     ]
    },
    {
     "data": {
      "text/markdown": [
       "### King James Bible"
      ],
      "text/plain": [
       "<IPython.core.display.Markdown object>"
      ]
     },
     "metadata": {},
     "output_type": "display_data"
    },
    {
     "data": {
      "text/markdown": [
       "iniquities; who healeth all thy diseases; 103:4 Who redeemeth thy life from destruction; who crowneth thee with lovingkindness and <span style=\"color: blue\">tender mercies; 103:5 Who satisfieth thy mouth with good things; so that thy youth is renewed like the eagle's</span>. 103:6 The LORD executeth righteousness and judgment for all that are oppressed. 103:7 He made known his ways unto Moses, his acts"
      ],
      "text/plain": [
       "<IPython.core.display.Markdown object>"
      ]
     },
     "metadata": {},
     "output_type": "display_data"
    },
    {
     "data": {
      "text/markdown": [
       "### The Sylvester Quarry: A Sequel to \"Over at Little Acorns\": By Elisabeth Olmis"
      ],
      "text/plain": [
       "<IPython.core.display.Markdown object>"
      ]
     },
     "metadata": {},
     "output_type": "display_data"
    },
    {
     "data": {
      "text/markdown": [
       "<small>Olmis, Elisabeth</small>"
      ],
      "text/plain": [
       "<IPython.core.display.Markdown object>"
      ]
     },
     "metadata": {},
     "output_type": "display_data"
    },
    {
     "data": {
      "text/markdown": [
       "hy diseases ; who redeemeth thy life from destruction ; who crowneth thee with lov¬ ing kindness and t <span style=\"color: blue\">ender mercies ; who satisfieth thy mouth with good things; so that thy youth is renewed like the eagle’s.</span>“Unto vou that fear mv name shall t/ t/ the Sun of righteousness"
      ],
      "text/plain": [
       "<IPython.core.display.Markdown object>"
      ]
     },
     "metadata": {},
     "output_type": "display_data"
    },
    {
     "name": "stdout",
     "output_type": "stream",
     "text": [
      "--------------------------------------------------\n"
     ]
    },
    {
     "data": {
      "text/markdown": [
       "### King James Bible"
      ],
      "text/plain": [
       "<IPython.core.display.Markdown object>"
      ]
     },
     "metadata": {},
     "output_type": "display_data"
    },
    {
     "data": {
      "text/markdown": [
       "shall leave them neither root nor branch. 4:2 But unto you that fear my name shall the <span style=\"color: blue\">Sun of righteousness arise with healing in his wings</span>; and ye shall go forth, and grow up as calves of the stall. 4:3 And ye shall tread down the wicked"
      ],
      "text/plain": [
       "<IPython.core.display.Markdown object>"
      ]
     },
     "metadata": {},
     "output_type": "display_data"
    },
    {
     "data": {
      "text/markdown": [
       "### The Sylvester Quarry: A Sequel to \"Over at Little Acorns\": By Elisabeth Olmis"
      ],
      "text/plain": [
       "<IPython.core.display.Markdown object>"
      ]
     },
     "metadata": {},
     "output_type": "display_data"
    },
    {
     "data": {
      "text/markdown": [
       "<small>Olmis, Elisabeth</small>"
      ],
      "text/plain": [
       "<IPython.core.display.Markdown object>"
      ]
     },
     "metadata": {},
     "output_type": "display_data"
    },
    {
     "data": {
      "text/markdown": [
       "agle’s. “Unto vou that fear mv name shall t/ t/ the S <span style=\"color: blue\">un of righteousness arise with healing in 11 is wings.</span>“Bless the Lord, O my soul: and all that is within me, bless IBs holy name.” Ww"
      ],
      "text/plain": [
       "<IPython.core.display.Markdown object>"
      ]
     },
     "metadata": {},
     "output_type": "display_data"
    },
    {
     "name": "stdout",
     "output_type": "stream",
     "text": [
      "--------------------------------------------------\n"
     ]
    },
    {
     "data": {
      "text/markdown": [
       "### King James Bible"
      ],
      "text/plain": [
       "<IPython.core.display.Markdown object>"
      ]
     },
     "metadata": {},
     "output_type": "display_data"
    },
    {
     "data": {
      "text/markdown": [
       "answered and said unto them, Ye do err, not knowing the scriptures, nor the power of God. 22:30 For in the resurrection they <span style=\"color: blue\">neither marry, nor are given in marriage</span>, but are as the angels of God in heaven. 22:31 But as touching the resurrection of the dead, have ye not read that which was spoken unto"
      ],
      "text/plain": [
       "<IPython.core.display.Markdown object>"
      ]
     },
     "metadata": {},
     "output_type": "display_data"
    },
    {
     "data": {
      "text/markdown": [
       "### The Foundling: By Edw. W. Gilliam"
      ],
      "text/plain": [
       "<IPython.core.display.Markdown object>"
      ]
     },
     "metadata": {},
     "output_type": "display_data"
    },
    {
     "data": {
      "text/markdown": [
       "<small>Gilliam, E. W. (Edward Winslow)</small>"
      ],
      "text/plain": [
       "<IPython.core.display.Markdown object>"
      ]
     },
     "metadata": {},
     "output_type": "display_data"
    },
    {
     "data": {
      "text/markdown": [
       "dead, and her sale, on high authority, absolutely out of the question ; for doesn’t the Good Book say that on t’other side they ‘ <span style=\"color: blue\">neither marry, nor are given in marriage</span>?' The property is, or was, hers, and involved in such a way that its sale is forced and a great bargain offered.” “What is the property?” “The saloon of ‘The Nag"
      ],
      "text/plain": [
       "<IPython.core.display.Markdown object>"
      ]
     },
     "metadata": {},
     "output_type": "display_data"
    },
    {
     "name": "stdout",
     "output_type": "stream",
     "text": [
      "--------------------------------------------------\n"
     ]
    },
    {
     "data": {
      "text/markdown": [
       "### King James Bible"
      ],
      "text/plain": [
       "<IPython.core.display.Markdown object>"
      ]
     },
     "metadata": {},
     "output_type": "display_data"
    },
    {
     "data": {
      "text/markdown": [
       "presence? 139:8 If I ascend up into heaven, thou art there: if I make my bed in hell, behold, thou art there. 139:9 If I take the <span style=\"color: blue\">wings of the morning, and dwell in the uttermost parts of the sea; 139:10 Even there shall thy hand lead me, and thy right hand shall hold</span> me. 139:11 If I say, Surely the darkness shall cover me; even the night shall be light about me. 139:12 Yea, the darkness hideth"
      ],
      "text/plain": [
       "<IPython.core.display.Markdown object>"
      ]
     },
     "metadata": {},
     "output_type": "display_data"
    },
    {
     "data": {
      "text/markdown": [
       "### At Swords' Points: A Novel: By Edward A. Thomas"
      ],
      "text/plain": [
       "<IPython.core.display.Markdown object>"
      ]
     },
     "metadata": {},
     "output_type": "display_data"
    },
    {
     "data": {
      "text/markdown": [
       "<small>Thomas, Edward A.</small>"
      ],
      "text/plain": [
       "<IPython.core.display.Markdown object>"
      ]
     },
     "metadata": {},
     "output_type": "display_data"
    },
    {
     "data": {
      "text/markdown": [
       "suns and planets, was beyond the comprehension of myself, and, as I believe, of all men. The great¬ ness of the Almighty was over me ; I could not fathom it. 4 If I take the <span style=\"color: blue\">wings of the morning, and dwell in the uttermost parts of the sea, even there shall thy hand lead me, and thy right hand shall hold</span> me.’ I therefore resolved not to set myself up as a critic in matters beyond me, but to confine myself to things within"
      ],
      "text/plain": [
       "<IPython.core.display.Markdown object>"
      ]
     },
     "metadata": {},
     "output_type": "display_data"
    },
    {
     "name": "stdout",
     "output_type": "stream",
     "text": [
      "--------------------------------------------------\n"
     ]
    },
    {
     "data": {
      "text/markdown": [
       "### King James Bible"
      ],
      "text/plain": [
       "<IPython.core.display.Markdown object>"
      ]
     },
     "metadata": {},
     "output_type": "display_data"
    },
    {
     "data": {
      "text/markdown": [
       "gone; 2:12 The flowers appear on the earth; the time of the singing of birds is come, and the voice of the turtle is heard in our land; 2:13 The <span style=\"color: blue\">fig tree putteth forth her green</span> figs, and the vines with the tender grape give a good smell. Arise, my love, my fair one, and come away. 2:14 O my dove, that art"
      ],
      "text/plain": [
       "<IPython.core.display.Markdown object>"
      ]
     },
     "metadata": {},
     "output_type": "display_data"
    },
    {
     "data": {
      "text/markdown": [
       "### Dr. David: By Marjorie Benton Cooke …; Illustrated in Color by Monte Crews"
      ],
      "text/plain": [
       "<IPython.core.display.Markdown object>"
      ]
     },
     "metadata": {},
     "output_type": "display_data"
    },
    {
     "data": {
      "text/markdown": [
       "<small>Cooke, Marjorie Benton</small>"
      ],
      "text/plain": [
       "<IPython.core.display.Markdown object>"
      ]
     },
     "metadata": {},
     "output_type": "display_data"
    },
    {
     "data": {
      "text/markdown": [
       "ees draw up the sap from Mother Earth.” “Renewal time — the quickening time,” he mused. “The time of the singing birds has come, and the fi <span style=\"color: blue\">g tree putteth forth green l</span> eaves.” [86é] “And in good time the fig tree beareth fruit, dear, because Nature wills it so. But the fig tree h"
      ],
      "text/plain": [
       "<IPython.core.display.Markdown object>"
      ]
     },
     "metadata": {},
     "output_type": "display_data"
    },
    {
     "name": "stdout",
     "output_type": "stream",
     "text": [
      "--------------------------------------------------\n"
     ]
    },
    {
     "data": {
      "text/markdown": [
       "### King James Bible"
      ],
      "text/plain": [
       "<IPython.core.display.Markdown object>"
      ]
     },
     "metadata": {},
     "output_type": "display_data"
    },
    {
     "data": {
      "text/markdown": [
       "eat bread, till thou return unto the ground; for out of it wast thou taken: for <span style=\"color: blue\">dust thou art, and unto dust shalt thou return</span>. 3:20 And Adam called his wife's name Eve; because she was the mother of all living. 3:21 Unto Adam"
      ],
      "text/plain": [
       "<IPython.core.display.Markdown object>"
      ]
     },
     "metadata": {},
     "output_type": "display_data"
    },
    {
     "data": {
      "text/markdown": [
       "### Nina, or, Life's Caprices: A Story Founded upon Fact: By F. J. [I. E. I.] Burge Smith"
      ],
      "text/plain": [
       "<IPython.core.display.Markdown object>"
      ]
     },
     "metadata": {},
     "output_type": "display_data"
    },
    {
     "data": {
      "text/markdown": [
       "<small>Smith, F. Irene Burge (Francis Irene Burge)</small>"
      ],
      "text/plain": [
       "<IPython.core.display.Markdown object>"
      ]
     },
     "metadata": {},
     "output_type": "display_data"
    },
    {
     "data": {
      "text/markdown": [
       "hand, and rubbing a little upon the forehead of each kneeling penitent, repeated the solemn words, “ <span style=\"color: blue\">Dust thou art, and unto dust shalt thou return</span>.” This sudden transition from the most frivolous gayety to the deep solemnities of the Len¬ ten season, did not impress"
      ],
      "text/plain": [
       "<IPython.core.display.Markdown object>"
      ]
     },
     "metadata": {},
     "output_type": "display_data"
    },
    {
     "name": "stdout",
     "output_type": "stream",
     "text": [
      "--------------------------------------------------\n"
     ]
    },
    {
     "data": {
      "text/markdown": [
       "### King James Bible"
      ],
      "text/plain": [
       "<IPython.core.display.Markdown object>"
      ]
     },
     "metadata": {},
     "output_type": "display_data"
    },
    {
     "data": {
      "text/markdown": [
       "nor wisdom, in the grave, whither thou goest. 9:11 I returned, and saw under the sun, that the <span style=\"color: blue\">race is not to the swift, nor the battle to the strong</span>, neither yet bread to the wise, nor yet riches to men of understanding, nor"
      ],
      "text/plain": [
       "<IPython.core.display.Markdown object>"
      ]
     },
     "metadata": {},
     "output_type": "display_data"
    },
    {
     "data": {
      "text/markdown": [
       "### Inside Out: A Curious Book: By a Singular Man..: Samuel Ward Francis"
      ],
      "text/plain": [
       "<IPython.core.display.Markdown object>"
      ]
     },
     "metadata": {},
     "output_type": "display_data"
    },
    {
     "data": {
      "text/markdown": [
       "<small>Francis, Samuel W. (Samuel Ward)</small>"
      ],
      "text/plain": [
       "<IPython.core.display.Markdown object>"
      ]
     },
     "metadata": {},
     "output_type": "display_data"
    },
    {
     "data": {
      "text/markdown": [
       "alent of that man of sin ; who knows the ex¬ tent of all that he has done ? who can tell what the future may bring forth ? ” “ Ever remember, Charles. ‘ the r <span style=\"color: blue\">ace is not to the swift, nor the battle to the strong</span>; ’ that where a man is in the wrong, he has to plan the future, and guard past crimes ; while inno¬ cence has only to look ahead,"
      ],
      "text/plain": [
       "<IPython.core.display.Markdown object>"
      ]
     },
     "metadata": {},
     "output_type": "display_data"
    },
    {
     "name": "stdout",
     "output_type": "stream",
     "text": [
      "--------------------------------------------------\n"
     ]
    },
    {
     "data": {
      "text/markdown": [
       "### King James Bible"
      ],
      "text/plain": [
       "<IPython.core.display.Markdown object>"
      ]
     },
     "metadata": {},
     "output_type": "display_data"
    },
    {
     "data": {
      "text/markdown": [
       "forgat his works; they waited not for his counsel: 106:14 But lusted exceedingly in the wilderness, and tempted God in the desert. 106:15 And he <span style=\"color: blue\">gave them their request; but sent leanness into their soul</span>. 106:16 They envied Moses also in the camp, and Aaron the saint of the LORD. 106:17 The earth opened and swallowed up Dathan"
      ],
      "text/plain": [
       "<IPython.core.display.Markdown object>"
      ]
     },
     "metadata": {},
     "output_type": "display_data"
    },
    {
     "data": {
      "text/markdown": [
       "### Hitherto: A Story of Yesterdays: By A. D. T. Whitney …"
      ],
      "text/plain": [
       "<IPython.core.display.Markdown object>"
      ]
     },
     "metadata": {},
     "output_type": "display_data"
    },
    {
     "data": {
      "text/markdown": [
       "<small>Whitney, A. D. T. (Adeline Dutton Train)</small>"
      ],
      "text/plain": [
       "<IPython.core.display.Markdown object>"
      ]
     },
     "metadata": {},
     "output_type": "display_data"
    },
    {
     "data": {
      "text/markdown": [
       "ovember until Thanksgiving. I got tired to death of it ; I believe Aunt lldy knew I would, and that that was part of my punishment. She g <span style=\"color: blue\">ave me my request, but sent leanness into my soul.</span> It had been a very pretty passing fashion, retained only just so long as it could be what it ex¬ pressed, a freshness and an unpremeditation ; an impromptu of trimming,"
      ],
      "text/plain": [
       "<IPython.core.display.Markdown object>"
      ]
     },
     "metadata": {},
     "output_type": "display_data"
    },
    {
     "name": "stdout",
     "output_type": "stream",
     "text": [
      "--------------------------------------------------\n"
     ]
    },
    {
     "data": {
      "text/markdown": [
       "### King James Bible"
      ],
      "text/plain": [
       "<IPython.core.display.Markdown object>"
      ]
     },
     "metadata": {},
     "output_type": "display_data"
    },
    {
     "data": {
      "text/markdown": [
       "continually in the temple, praising and blessing God. Amen. The Gospel According to Saint John 1:1 In the <span style=\"color: blue\">beginning was the Word, and the Word was with God, and the Word was God</span>. 1:2 The same was in the beginning with God. 1:3 All things were made by him; and without him was not any thing made that was made. 1:4 In him was life; and the life was the light of men. 1:5 And the light shineth in darkness; and the darkness comprehended"
      ],
      "text/plain": [
       "<IPython.core.display.Markdown object>"
      ]
     },
     "metadata": {},
     "output_type": "display_data"
    },
    {
     "data": {
      "text/markdown": [
       "### Hitherto: A Story of Yesterdays: By A. D. T. Whitney …"
      ],
      "text/plain": [
       "<IPython.core.display.Markdown object>"
      ]
     },
     "metadata": {},
     "output_type": "display_data"
    },
    {
     "data": {
      "text/markdown": [
       "<small>Whitney, A. D. T. (Adeline Dutton Train)</small>"
      ],
      "text/plain": [
       "<IPython.core.display.Markdown object>"
      ]
     },
     "metadata": {},
     "output_type": "display_data"
    },
    {
     "data": {
      "text/markdown": [
       "des. It is just what I said before. \"Words are only the arbitrary signs. We talk and think in living types. If language does not suggest these, it has no meaning. ‘ In the beg <span style=\"color: blue\">inning was the Word, and the Word was with God, and the Word was God.’</span> How can people look and not read? And in the crowding and fulness of it all, ask for ‘ a sign ’ ? ” This was so real, — so different from the usual set-apart to"
      ],
      "text/plain": [
       "<IPython.core.display.Markdown object>"
      ]
     },
     "metadata": {},
     "output_type": "display_data"
    },
    {
     "name": "stdout",
     "output_type": "stream",
     "text": [
      "--------------------------------------------------\n"
     ]
    },
    {
     "data": {
      "text/markdown": [
       "### King James Bible"
      ],
      "text/plain": [
       "<IPython.core.display.Markdown object>"
      ]
     },
     "metadata": {},
     "output_type": "display_data"
    },
    {
     "data": {
      "text/markdown": [
       "unto him, Art thou a master of Israel, and knowest not these things? 3:11 Verily, verily, I say unto thee, We <span style=\"color: blue\">speak that we do know, and testify that we have seen; and ye receive not our witness. 3:12 If I have told you earthly things, and ye believe not, how shall ye believe, if I tell you of heavenly</span> things? 3:13 And no man hath ascended up to heaven, but he that came down from heaven, even the Son of man which is in heaven. 3:14 And as Moses lifted up the serpent"
      ],
      "text/plain": [
       "<IPython.core.display.Markdown object>"
      ]
     },
     "metadata": {},
     "output_type": "display_data"
    },
    {
     "data": {
      "text/markdown": [
       "### Hitherto: A Story of Yesterdays: By A. D. T. Whitney …"
      ],
      "text/plain": [
       "<IPython.core.display.Markdown object>"
      ]
     },
     "metadata": {},
     "output_type": "display_data"
    },
    {
     "data": {
      "text/markdown": [
       "<small>Whitney, A. D. T. (Adeline Dutton Train)</small>"
      ],
      "text/plain": [
       "<IPython.core.display.Markdown object>"
      ]
     },
     "metadata": {},
     "output_type": "display_data"
    },
    {
     "data": {
      "text/markdown": [
       "tory what he has not N first found in himself.’ Nor in revelation any more, I sup¬ pose.” “ That was all told us too, at the beginning. ‘ We spe <span style=\"color: blue\">ak that we do know, and testify that we have seen, and ye receive not our witness.’ ‘ If I have told you earthly things and ye believe not, how shall ye believe if I tell you of heavenly th</span> ings?’ How can they think they say these things for the first time ? ” “Anyway, it comes back to the same. We must grow to it.” “ And we cannot of ourselves add one cubit to our stature. Qrowing is"
      ],
      "text/plain": [
       "<IPython.core.display.Markdown object>"
      ]
     },
     "metadata": {},
     "output_type": "display_data"
    },
    {
     "name": "stdout",
     "output_type": "stream",
     "text": [
      "--------------------------------------------------\n"
     ]
    },
    {
     "data": {
      "text/markdown": [
       "### King James Bible"
      ],
      "text/plain": [
       "<IPython.core.display.Markdown object>"
      ]
     },
     "metadata": {},
     "output_type": "display_data"
    },
    {
     "data": {
      "text/markdown": [
       "himself alone, and not in another. 6:5 For every man shall bear his own burden. 6:6 Let him that is taught in the word communicate unto him that teacheth in all good things. 6:7 Be not <span style=\"color: blue\">deceived; God is not mocked: for whatsoever a man soweth, that shall he also reap</span>. 6:8 For he that soweth to his flesh shall of the flesh reap corruption; but he that soweth to the Spirit shall of the Spirit"
      ],
      "text/plain": [
       "<IPython.core.display.Markdown object>"
      ]
     },
     "metadata": {},
     "output_type": "display_data"
    },
    {
     "data": {
      "text/markdown": [
       "### Hitherto: A Story of Yesterdays: By A. D. T. Whitney …"
      ],
      "text/plain": [
       "<IPython.core.display.Markdown object>"
      ]
     },
     "metadata": {},
     "output_type": "display_data"
    },
    {
     "data": {
      "text/markdown": [
       "<small>Whitney, A. D. T. (Adeline Dutton Train)</small>"
      ],
      "text/plain": [
       "<IPython.core.display.Markdown object>"
      ]
     },
     "metadata": {},
     "output_type": "display_data"
    },
    {
     "data": {
      "text/markdown": [
       "t, fever or man. You an’ I has got our hands full, Mis’ Hathaway.” CHAPTER XLII. SO AS BY FIRE. “ Be not deceiv <span style=\"color: blue\">ed. God is not mocked. Whatsoever a man soweth, that shall he also reap.” God</span> might forgive, but I must suffer it out. Those awful, inexorable words stood by me like angels of doom. Some"
      ],
      "text/plain": [
       "<IPython.core.display.Markdown object>"
      ]
     },
     "metadata": {},
     "output_type": "display_data"
    },
    {
     "name": "stdout",
     "output_type": "stream",
     "text": [
      "--------------------------------------------------\n"
     ]
    },
    {
     "data": {
      "text/markdown": [
       "### King James Bible"
      ],
      "text/plain": [
       "<IPython.core.display.Markdown object>"
      ]
     },
     "metadata": {},
     "output_type": "display_data"
    },
    {
     "data": {
      "text/markdown": [
       "Esau, who for one morsel of meat sold his birthright. 12:17 For ye know how that afterward, when he would have inherited the blessing, he was rejected: for he <span style=\"color: blue\">found no place of repentance, though he sought it carefully with tears</span>. 12:18 For ye are not come unto the mount that might be touched, and that burned with fire, nor unto blackness, and darkness"
      ],
      "text/plain": [
       "<IPython.core.display.Markdown object>"
      ]
     },
     "metadata": {},
     "output_type": "display_data"
    },
    {
     "data": {
      "text/markdown": [
       "### Hitherto: A Story of Yesterdays: By A. D. T. Whitney …"
      ],
      "text/plain": [
       "<IPython.core.display.Markdown object>"
      ]
     },
     "metadata": {},
     "output_type": "display_data"
    },
    {
     "data": {
      "text/markdown": [
       "<small>Whitney, A. D. T. (Adeline Dutton Train)</small>"
      ],
      "text/plain": [
       "<IPython.core.display.Markdown object>"
      ]
     },
     "metadata": {},
     "output_type": "display_data"
    },
    {
     "data": {
      "text/markdown": [
       "and smooth the pillows for his dear head, and sit like a still, cursed thing, through the midnights, bearing my sentence. “ He found <span style=\"color: blue\">no place for repentance, though he sought it carefully, with tears.” Was</span> that true? Did God punish so? Where was the Christ who had forgiven me? I could not find him, then, in the darkness. I was all alone ; and there was my husband, going out of the world ; passed, already, beyo"
      ],
      "text/plain": [
       "<IPython.core.display.Markdown object>"
      ]
     },
     "metadata": {},
     "output_type": "display_data"
    },
    {
     "name": "stdout",
     "output_type": "stream",
     "text": [
      "--------------------------------------------------\n"
     ]
    },
    {
     "data": {
      "text/markdown": [
       "### King James Bible"
      ],
      "text/plain": [
       "<IPython.core.display.Markdown object>"
      ]
     },
     "metadata": {},
     "output_type": "display_data"
    },
    {
     "data": {
      "text/markdown": [
       "shall be in thine heart: 6:7 And thou shalt teach them diligently unto thy children, and <span style=\"color: blue\">shalt talk of them when thou sittest in thine house, and when thou walkest by the way, and when thou liest down, and when thou risest</span> up. 6:8 And thou shalt bind them for a sign upon thine hand, and they shall be as frontlets between"
      ],
      "text/plain": [
       "<IPython.core.display.Markdown object>"
      ]
     },
     "metadata": {},
     "output_type": "display_data"
    },
    {
     "data": {
      "text/markdown": [
       "### Divers Women: By Pansy and Mrs. C. M. Livingston"
      ],
      "text/plain": [
       "<IPython.core.display.Markdown object>"
      ]
     },
     "metadata": {},
     "output_type": "display_data"
    },
    {
     "data": {
      "text/markdown": [
       "<small>Pansy</small>"
      ],
      "text/plain": [
       "<IPython.core.display.Markdown object>"
      ]
     },
     "metadata": {},
     "output_type": "display_data"
    },
    {
     "data": {
      "text/markdown": [
       "Teach me thy statutes.” “ Great peace have they that love thy law.” “ That we through patience and comfort of the Scriptures might have hope. And <span style=\"color: blue\">shalt talk of them when thou sittest in thine house, and when thou walkest by the way, and when thou liest down, and when thou risest</span> up.” “Ihope in thy Word.” “To the law and to the testimony ; if they speak not according to this Word there is no light in them.” “ Thou"
      ],
      "text/plain": [
       "<IPython.core.display.Markdown object>"
      ]
     },
     "metadata": {},
     "output_type": "display_data"
    },
    {
     "name": "stdout",
     "output_type": "stream",
     "text": [
      "--------------------------------------------------\n"
     ]
    },
    {
     "data": {
      "text/markdown": [
       "### King James Bible"
      ],
      "text/plain": [
       "<IPython.core.display.Markdown object>"
      ]
     },
     "metadata": {},
     "output_type": "display_data"
    },
    {
     "data": {
      "text/markdown": [
       "yea, sweeter than honey to my mouth! 119:104 Through thy precepts I get understanding: therefore I hate every false way. 119:105 <span style=\"color: blue\">Thy word is a lamp unto my feet, and a light unto my path</span>. 119:106 I have sworn, and I will perform it, that I will keep thy righteous judgments. 119:107 I am afflicted very much: quicken me, O LORD, according"
      ],
      "text/plain": [
       "<IPython.core.display.Markdown object>"
      ]
     },
     "metadata": {},
     "output_type": "display_data"
    },
    {
     "data": {
      "text/markdown": [
       "### Divers Women: By Pansy and Mrs. C. M. Livingston"
      ],
      "text/plain": [
       "<IPython.core.display.Markdown object>"
      ]
     },
     "metadata": {},
     "output_type": "display_data"
    },
    {
     "data": {
      "text/markdown": [
       "<small>Pansy</small>"
      ],
      "text/plain": [
       "<IPython.core.display.Markdown object>"
      ]
     },
     "metadata": {},
     "output_type": "display_data"
    },
    {
     "data": {
      "text/markdown": [
       "fore comfort one another with these words.” “ Thou hast commanded us to keep thy pre¬ cepts diligently.” “ <span style=\"color: blue\">Thy Word is a lamp unto my feet and a light unto my path</span>.” “ All Scrip¬ ture is given by inspiration of God and is profit¬ able for doctrine, for reproof, for correction"
      ],
      "text/plain": [
       "<IPython.core.display.Markdown object>"
      ]
     },
     "metadata": {},
     "output_type": "display_data"
    },
    {
     "name": "stdout",
     "output_type": "stream",
     "text": [
      "--------------------------------------------------\n"
     ]
    },
    {
     "data": {
      "text/markdown": [
       "### King James Bible"
      ],
      "text/plain": [
       "<IPython.core.display.Markdown object>"
      ]
     },
     "metadata": {},
     "output_type": "display_data"
    },
    {
     "data": {
      "text/markdown": [
       "disciples after them. 20:31 Therefore watch, and remember, that by the space of three years I ceased not to warn every one night and day with tears. 20:32 And now, brethren, I <span style=\"color: blue\">commend you to God, and to the word of his grace, which is able to build you up, and to give you an inheritance among all them which are sanctified</span>. 20:33 I have coveted no man's silver, or gold, or apparel. 20:34 Yea, ye yourselves know, that these hands have ministered"
      ],
      "text/plain": [
       "<IPython.core.display.Markdown object>"
      ]
     },
     "metadata": {},
     "output_type": "display_data"
    },
    {
     "data": {
      "text/markdown": [
       "### Divers Women: By Pansy and Mrs. C. M. Livingston"
      ],
      "text/plain": [
       "<IPython.core.display.Markdown object>"
      ]
     },
     "metadata": {},
     "output_type": "display_data"
    },
    {
     "data": {
      "text/markdown": [
       "<small>Pansy</small>"
      ],
      "text/plain": [
       "<IPython.core.display.Markdown object>"
      ]
     },
     "metadata": {},
     "output_type": "display_data"
    },
    {
     "data": {
      "text/markdown": [
       "faith, hope, pa¬ tience, wisdom, and I will put the cap-stone on this beautiful arch by — ‘I <span style=\"color: blue\">commend you to God and to the word of his grace, which is able to build you up, and to give you an inheritance among all them which are sanctified</span>.” BUCKWHEAT CAKES. T was a little house, and a little new family ; just two of them, and just six months since they were made into a family, and set up housekeeping"
      ],
      "text/plain": [
       "<IPython.core.display.Markdown object>"
      ]
     },
     "metadata": {},
     "output_type": "display_data"
    },
    {
     "name": "stdout",
     "output_type": "stream",
     "text": [
      "--------------------------------------------------\n"
     ]
    },
    {
     "data": {
      "text/markdown": [
       "### King James Bible"
      ],
      "text/plain": [
       "<IPython.core.display.Markdown object>"
      ]
     },
     "metadata": {},
     "output_type": "display_data"
    },
    {
     "data": {
      "text/markdown": [
       "answered and said unto them, Ye do err, not knowing the scriptures, nor the power of God. 22:30 For in the resurrection they <span style=\"color: blue\">neither marry, nor are given in marriage</span>, but are as the angels of God in heaven. 22:31 But as touching the resurrection of the dead, have ye not read that which was spoken unto"
      ],
      "text/plain": [
       "<IPython.core.display.Markdown object>"
      ]
     },
     "metadata": {},
     "output_type": "display_data"
    },
    {
     "data": {
      "text/markdown": [
       "### My Third Book: A Collection of Tales: Louise Chandler Moulton"
      ],
      "text/plain": [
       "<IPython.core.display.Markdown object>"
      ]
     },
     "metadata": {},
     "output_type": "display_data"
    },
    {
     "data": {
      "text/markdown": [
       "<small>Moulton, Louise Chandler</small>"
      ],
      "text/plain": [
       "<IPython.core.display.Markdown object>"
      ]
     },
     "metadata": {},
     "output_type": "display_data"
    },
    {
     "data": {
      "text/markdown": [
       "though in all else she was terribly changed. “ ‘This is not wrong, Koger,’ she said; ‘it can not be wrong to love you now. Before the sun sets I shall be where they <span style=\"color: blue\">neither marry nor are given in marriage</span>. I have told Robert all, and he forgives me freely. He will not even let me blame myself. I am so glad, so thankful that I am going to die. If I had lived"
      ],
      "text/plain": [
       "<IPython.core.display.Markdown object>"
      ]
     },
     "metadata": {},
     "output_type": "display_data"
    },
    {
     "name": "stdout",
     "output_type": "stream",
     "text": [
      "--------------------------------------------------\n"
     ]
    },
    {
     "data": {
      "text/markdown": [
       "### King James Bible"
      ],
      "text/plain": [
       "<IPython.core.display.Markdown object>"
      ]
     },
     "metadata": {},
     "output_type": "display_data"
    },
    {
     "data": {
      "text/markdown": [
       "parents brought in the child Jesus, to do for him after the custom of the law, 2:28 Then took he him up in his arms, and blessed God, and said, 2:29 <span style=\"color: blue\">Lord, now lettest thou thy servant depart in peace</span>, according to thy word: 2:30 For mine eyes have seen thy salvation, 2:31 Which thou hast"
      ],
      "text/plain": [
       "<IPython.core.display.Markdown object>"
      ]
     },
     "metadata": {},
     "output_type": "display_data"
    },
    {
     "data": {
      "text/markdown": [
       "### My Third Book: A Collection of Tales: Louise Chandler Moulton"
      ],
      "text/plain": [
       "<IPython.core.display.Markdown object>"
      ]
     },
     "metadata": {},
     "output_type": "display_data"
    },
    {
     "data": {
      "text/markdown": [
       "<small>Moulton, Louise Chandler</small>"
      ],
      "text/plain": [
       "<IPython.core.display.Markdown object>"
      ]
     },
     "metadata": {},
     "output_type": "display_data"
    },
    {
     "data": {
      "text/markdown": [
       "aid his aged, trembling hands upon our heads. He blessed us. As we turned away we heard him murmur, “Now, L <span style=\"color: blue\">ord, lettest thou thy servant depart in peace.</span>” We turned back as we reached the door to look at him. He sat again at the window, and his far-seeing eyes were fixed, not on his Amy’"
      ],
      "text/plain": [
       "<IPython.core.display.Markdown object>"
      ]
     },
     "metadata": {},
     "output_type": "display_data"
    },
    {
     "name": "stdout",
     "output_type": "stream",
     "text": [
      "--------------------------------------------------\n"
     ]
    }
   ],
   "source": [
    "for m in matches.limit(200):\n",
    "    print_match(m)"
   ]
  },
  {
   "cell_type": "code",
   "execution_count": null,
   "metadata": {
    "collapsed": true
   },
   "outputs": [],
   "source": []
  }
 ],
 "metadata": {
  "kernelspec": {
   "display_name": "Python 3",
   "language": "python",
   "name": "python3"
  },
  "language_info": {
   "codemirror_mode": {
    "name": "ipython",
    "version": 3
   },
   "file_extension": ".py",
   "mimetype": "text/x-python",
   "name": "python",
   "nbconvert_exporter": "python",
   "pygments_lexer": "ipython3",
   "version": "3.5.2"
  }
 },
 "nbformat": 4,
 "nbformat_minor": 1
}
