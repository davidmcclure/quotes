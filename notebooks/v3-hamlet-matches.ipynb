{
 "cells": [
  {
   "cell_type": "markdown",
   "metadata": {},
   "source": [
    "# Gail + Chicago -> Hamlet"
   ]
  },
  {
   "cell_type": "code",
   "execution_count": 1,
   "metadata": {
    "collapsed": true
   },
   "outputs": [],
   "source": [
    "from quotes.models import Match"
   ]
  },
  {
   "cell_type": "code",
   "execution_count": 2,
   "metadata": {
    "collapsed": false
   },
   "outputs": [],
   "source": [
    "import re\n",
    "\n",
    "from IPython.display import Markdown, display\n",
    "\n",
    "def print_snippet(prefix, match, suffix):\n",
    "    \n",
    "    snippet = '{0} <span style=\"color: blue\">{1}</span>'.format(prefix, match)\n",
    "    \n",
    "    if re.match('^[a-z]', suffix, re.I):\n",
    "        snippet += ' '\n",
    "        \n",
    "    display(Markdown(snippet + suffix))"
   ]
  },
  {
   "cell_type": "code",
   "execution_count": 3,
   "metadata": {
    "collapsed": true
   },
   "outputs": [],
   "source": [
    "def print_match(m):\n",
    "    \n",
    "    display(Markdown('### Hamlet'))\n",
    "    print_snippet(m.a_prefix, m.a_snippet, m.a_suffix)\n",
    "\n",
    "    display(Markdown('### {0}'.format(m.b_title)))\n",
    "    display(Markdown('<small>{0}</small>'.format(m.b_author)))\n",
    "    print_snippet(m.b_prefix, m.b_snippet, m.b_suffix)\n",
    "    print('-'*50)"
   ]
  },
  {
   "cell_type": "code",
   "execution_count": 4,
   "metadata": {
    "collapsed": false
   },
   "outputs": [
    {
     "name": "stdout",
     "output_type": "stream",
     "text": [
      "1693\n"
     ]
    }
   ],
   "source": [
    "matches = Match.query.filter(Match.size >= 5)\n",
    "\n",
    "print(matches.count())"
   ]
  },
  {
   "cell_type": "markdown",
   "metadata": {},
   "source": [
    "4-5 \"significant\" tokens seems to be a sweet spot - 3-word matches are often false-positives (eg, lots of numbers, like \"five hundred thousand\"). By 5 tokens, though, almost everything looks valid. Here are the first 500 matches with 5 words or more:"
   ]
  },
  {
   "cell_type": "code",
   "execution_count": 5,
   "metadata": {
    "collapsed": false,
    "scrolled": false
   },
   "outputs": [
    {
     "data": {
      "text/markdown": [
       "### Hamlet"
      ],
      "text/plain": [
       "<IPython.core.display.Markdown object>"
      ]
     },
     "metadata": {},
     "output_type": "display_data"
    },
    {
     "data": {
      "text/markdown": [
       "d be rashness for it,--let us know, Our indiscretion sometime serves us well, When our deep plots do fail; and that should teach us There's a <span style=\"color: blue\">divinity that shapes our ends, Rough-hew</span> them how we will. Hor. That is most certain. Ham. Up from my cabin, My sea-gown scarf'd about me, in the dark Grop"
      ],
      "text/plain": [
       "<IPython.core.display.Markdown object>"
      ]
     },
     "metadata": {},
     "output_type": "display_data"
    },
    {
     "data": {
      "text/markdown": [
       "### Ilian, or, the Curse of the Old South Church of Boston: A Psychological Tale of the Late Civil War: By James J. Kane …"
      ],
      "text/plain": [
       "<IPython.core.display.Markdown object>"
      ]
     },
     "metadata": {},
     "output_type": "display_data"
    },
    {
     "data": {
      "text/markdown": [
       "<small>Kane, James J. (James Johnson)</small>"
      ],
      "text/plain": [
       "<IPython.core.display.Markdown object>"
      ]
     },
     "metadata": {},
     "output_type": "display_data"
    },
    {
     "data": {
      "text/markdown": [
       "over. With earnest, undying love, I remain Your own Homer. CHAPTER IV. IN TUE BALANCE. The aphorism that “ There is a d <span style=\"color: blue\">ivinity that shapes our ends, rough-hew</span> them how we will,” is at times strangely at variance with facts of history. The great apostle to the Gentiles gives his experience. “ He failed"
      ],
      "text/plain": [
       "<IPython.core.display.Markdown object>"
      ]
     },
     "metadata": {},
     "output_type": "display_data"
    },
    {
     "name": "stdout",
     "output_type": "stream",
     "text": [
      "--------------------------------------------------\n"
     ]
    },
    {
     "data": {
      "text/markdown": [
       "### Hamlet"
      ],
      "text/plain": [
       "<IPython.core.display.Markdown object>"
      ]
     },
     "metadata": {},
     "output_type": "display_data"
    },
    {
     "data": {
      "text/markdown": [
       "E'en that. Ham. Let me see. [Takes the skull.] Alas, poor Yorick!--I knew him, Horatio; a <span style=\"color: blue\">fellow of infinite jest, of most excellent fancy</span>: he hath borne me on his back a thousand times; and now, how abhorred in my imagination it is! my gorge rises at it. Here hung those lips"
      ],
      "text/plain": [
       "<IPython.core.display.Markdown object>"
      ]
     },
     "metadata": {},
     "output_type": "display_data"
    },
    {
     "data": {
      "text/markdown": [
       "### The Prose Works of N. P. Willis"
      ],
      "text/plain": [
       "<IPython.core.display.Markdown object>"
      ]
     },
     "metadata": {},
     "output_type": "display_data"
    },
    {
     "data": {
      "text/markdown": [
       "<small>Willis, Nathaniel Parker</small>"
      ],
      "text/plain": [
       "<IPython.core.display.Markdown object>"
      ]
     },
     "metadata": {},
     "output_type": "display_data"
    },
    {
     "data": {
      "text/markdown": [
       "is dead. It would seem as if “ good living” meant long living too—for who ever thought Theodore Hook could die!—“a fellow of infinite je <span style=\"color: blue\">st, of most excellent fancy.” “ Where be your gi</span> bes now ? your gambols ? your songs ? your flashes of merriment that were wont to set the table in a roar ? Not one now, to mock your own grinning!”"
      ],
      "text/plain": [
       "<IPython.core.display.Markdown object>"
      ]
     },
     "metadata": {},
     "output_type": "display_data"
    },
    {
     "name": "stdout",
     "output_type": "stream",
     "text": [
      "--------------------------------------------------\n"
     ]
    },
    {
     "data": {
      "text/markdown": [
       "### Hamlet"
      ],
      "text/plain": [
       "<IPython.core.display.Markdown object>"
      ]
     },
     "metadata": {},
     "output_type": "display_data"
    },
    {
     "data": {
      "text/markdown": [
       "times; and now, how abhorred in my imagination it is! my gorge rises at it. Here hung those lips that I have kiss'd I know not how oft. Where be your <span style=\"color: blue\">gibes now? your gambols? your songs? your flashes of merriment, that were wont to set the table on a roar? Not one now, to mock your own grinning</span>? quite chap-fallen? Now, get you to my lady's chamber, and tell her, let her paint an inch thick, to this favour"
      ],
      "text/plain": [
       "<IPython.core.display.Markdown object>"
      ]
     },
     "metadata": {},
     "output_type": "display_data"
    },
    {
     "data": {
      "text/markdown": [
       "### The Prose Works of N. P. Willis"
      ],
      "text/plain": [
       "<IPython.core.display.Markdown object>"
      ]
     },
     "metadata": {},
     "output_type": "display_data"
    },
    {
     "data": {
      "text/markdown": [
       "<small>Willis, Nathaniel Parker</small>"
      ],
      "text/plain": [
       "<IPython.core.display.Markdown object>"
      ]
     },
     "metadata": {},
     "output_type": "display_data"
    },
    {
     "data": {
      "text/markdown": [
       "—for who ever thought Theodore Hook could die!—“a fellow of infinite jest, of most excellent fancy.” “ Where be your gibes now ? your gamb <span style=\"color: blue\">ols ? your songs ? your flashes of merriment that were wont to set the table in a roar ? Not one now, to mock your own grinning!” We have carried ou</span> t the quo¬ tation somewhat with a feeling of bitterness—not against the dead, but for him. We could have begun the passage with Hamlet—“Alas, p"
      ],
      "text/plain": [
       "<IPython.core.display.Markdown object>"
      ]
     },
     "metadata": {},
     "output_type": "display_data"
    },
    {
     "name": "stdout",
     "output_type": "stream",
     "text": [
      "--------------------------------------------------\n"
     ]
    },
    {
     "data": {
      "text/markdown": [
       "### Hamlet"
      ],
      "text/plain": [
       "<IPython.core.display.Markdown object>"
      ]
     },
     "metadata": {},
     "output_type": "display_data"
    },
    {
     "data": {
      "text/markdown": [
       "father Before mine uncle: I'll observe his looks; I'll tent him to the quick: if he but blench, I know my course. The <span style=\"color: blue\">spirit that I have seen May be the devil: and the devil hath power To assume a pleasing shape; yea, and perhaps Out of my weakness and my melancholy,-- As he is very potent with such spirits,-- Abuses me to damn</span> me: I'll have grounds More relative than this.--the play's the thing Wherein I'll catch the conscience of the king"
      ],
      "text/plain": [
       "<IPython.core.display.Markdown object>"
      ]
     },
     "metadata": {},
     "output_type": "display_data"
    },
    {
     "data": {
      "text/markdown": [
       "### Norma Trist: Or, Pure Carbon: A Story of the Inversion of the Sexes: By J. W. Carhart …"
      ],
      "text/plain": [
       "<IPython.core.display.Markdown object>"
      ]
     },
     "metadata": {},
     "output_type": "display_data"
    },
    {
     "data": {
      "text/markdown": [
       "<small>Carhart, John Wesley</small>"
      ],
      "text/plain": [
       "<IPython.core.display.Markdown object>"
      ]
     },
     "metadata": {},
     "output_type": "display_data"
    },
    {
     "data": {
      "text/markdown": [
       "used was a subject of both these abnor¬ malities, and that such a condition did not imply an insane mind. Chapter XXVII. “The spi <span style=\"color: blue\">rit that I have seen May be a devil; and the devil hath power To assume a pleasing shape;· yea, and perhaps Out of my weakness and my melancholy, (As he is very potent with such spirits), Abuses me to damn me</span>.”— Shakspeare. Norma was the first witness called in her own defense, having previously been notified by the court that, whilst sh"
      ],
      "text/plain": [
       "<IPython.core.display.Markdown object>"
      ]
     },
     "metadata": {},
     "output_type": "display_data"
    },
    {
     "name": "stdout",
     "output_type": "stream",
     "text": [
      "--------------------------------------------------\n"
     ]
    },
    {
     "data": {
      "text/markdown": [
       "### Hamlet"
      ],
      "text/plain": [
       "<IPython.core.display.Markdown object>"
      ]
     },
     "metadata": {},
     "output_type": "display_data"
    },
    {
     "data": {
      "text/markdown": [
       "deject and wretched That suck'd the honey of his music vows, Now see that noble and most sovereign reason, Like <span style=\"color: blue\">sweet bells jangled, out of tune and harsh</span>; That unmatch'd form and feature of blown youth Blasted with ecstasy: O, woe"
      ],
      "text/plain": [
       "<IPython.core.display.Markdown object>"
      ]
     },
     "metadata": {},
     "output_type": "display_data"
    },
    {
     "data": {
      "text/markdown": [
       "### A Bundle of Straws: By William T. Standen...; Illustrated by Carlton Fowler"
      ],
      "text/plain": [
       "<IPython.core.display.Markdown object>"
      ]
     },
     "metadata": {},
     "output_type": "display_data"
    },
    {
     "data": {
      "text/markdown": [
       "<small>Standen, William Thomas</small>"
      ],
      "text/plain": [
       "<IPython.core.display.Markdown object>"
      ]
     },
     "metadata": {},
     "output_type": "display_data"
    },
    {
     "data": {
      "text/markdown": [
       "pon us the one basic truth, that we are all brothers— children of the one Eternal Father. CHURCH BELLS III. “Like s <span style=\"color: blue\">weet bells, jangled out of tune and harsh.</span>” Hamlet. I SUPPOSE that church bells are very essential to those weak-minded people who would forget that it is Sunday unless"
      ],
      "text/plain": [
       "<IPython.core.display.Markdown object>"
      ]
     },
     "metadata": {},
     "output_type": "display_data"
    },
    {
     "name": "stdout",
     "output_type": "stream",
     "text": [
      "--------------------------------------------------\n"
     ]
    },
    {
     "data": {
      "text/markdown": [
       "### Hamlet"
      ],
      "text/plain": [
       "<IPython.core.display.Markdown object>"
      ]
     },
     "metadata": {},
     "output_type": "display_data"
    },
    {
     "data": {
      "text/markdown": [
       "matter, with less art. Pol. Madam, I swear I use no art at all. That he is mad, 'tis true: ' <span style=\"color: blue\">tis true 'tis pity; And pity 'tis 'tis true</span>: a foolish figure; But farewell it, for I will use no art. Mad let us grant him then: and now remains That we find out the cause of this effect; Or rather"
      ],
      "text/plain": [
       "<IPython.core.display.Markdown object>"
      ]
     },
     "metadata": {},
     "output_type": "display_data"
    },
    {
     "data": {
      "text/markdown": [
       "### How It Happened: Being a Story in Three Books and Several Manners: By Josephine Winfield Brake"
      ],
      "text/plain": [
       "<IPython.core.display.Markdown object>"
      ]
     },
     "metadata": {},
     "output_type": "display_data"
    },
    {
     "data": {
      "text/markdown": [
       "<small>Brake, Josephine Winfield</small>"
      ],
      "text/plain": [
       "<IPython.core.display.Markdown object>"
      ]
     },
     "metadata": {},
     "output_type": "display_data"
    },
    {
     "data": {
      "text/markdown": [
       "ertainly, to have loved with the love of a life. I think I did love Robins so—but love, at least in my heart, is neither an air-plant nor an immortelle. ’T <span style=\"color: blue\">is true, ’tis pity—and pity ’tis, ’tis true!</span> I can only admit the truth. Denial would make it none the less pitiful. If I had married him, I wonder if this same disil¬ lusionment"
      ],
      "text/plain": [
       "<IPython.core.display.Markdown object>"
      ]
     },
     "metadata": {},
     "output_type": "display_data"
    },
    {
     "name": "stdout",
     "output_type": "stream",
     "text": [
      "--------------------------------------------------\n"
     ]
    },
    {
     "data": {
      "text/markdown": [
       "### Hamlet"
      ],
      "text/plain": [
       "<IPython.core.display.Markdown object>"
      ]
     },
     "metadata": {},
     "output_type": "display_data"
    },
    {
     "data": {
      "text/markdown": [
       "Mars, to threaten and command; A station like the herald Mercury New lighted on a heaven-kissing hill: A <span style=\"color: blue\">combination and a form, indeed, Where every god did seem to set his seal, To give the world assurance</span> of a man; This was your husband.--Look you now what follows: Here is your husband, like a milldew'd ear Blasting his wholesome brother. Have you eyes"
      ],
      "text/plain": [
       "<IPython.core.display.Markdown object>"
      ]
     },
     "metadata": {},
     "output_type": "display_data"
    },
    {
     "data": {
      "text/markdown": [
       "### Ethel Somers, or, the Fate of the Union: By a Southerner"
      ],
      "text/plain": [
       "<IPython.core.display.Markdown object>"
      ]
     },
     "metadata": {},
     "output_type": "display_data"
    },
    {
     "data": {
      "text/markdown": [
       "<small>Smythe, James M.</small>"
      ],
      "text/plain": [
       "<IPython.core.display.Markdown object>"
      ]
     },
     "metadata": {},
     "output_type": "display_data"
    },
    {
     "data": {
      "text/markdown": [
       "et with no one more worthy, more no¬ ble-hearted, more sincere and generous, than Charles Somers, and her imagination pictured in him “ A c <span style=\"color: blue\">ombination and a form indeed, Where every god did seem to set his seal, To give the world assurance</span> of a man.” Miss Raymond vainly attempted to conceal her blushes while Charles was declaring his passion."
      ],
      "text/plain": [
       "<IPython.core.display.Markdown object>"
      ]
     },
     "metadata": {},
     "output_type": "display_data"
    },
    {
     "name": "stdout",
     "output_type": "stream",
     "text": [
      "--------------------------------------------------\n"
     ]
    },
    {
     "data": {
      "text/markdown": [
       "### Hamlet"
      ],
      "text/plain": [
       "<IPython.core.display.Markdown object>"
      ]
     },
     "metadata": {},
     "output_type": "display_data"
    },
    {
     "data": {
      "text/markdown": [
       "Rosencrantz and Guildenstern, who go out.] Ah, my good lord, what have I seen to-night! King. What, Gertrude? How does Hamlet? Queen. <span style=\"color: blue\">Mad as the sea and wind, when both contend Which is the mightier</span>: in his lawless fit Behind the arras hearing something stir, Whips out his rapier, cries 'A rat"
      ],
      "text/plain": [
       "<IPython.core.display.Markdown object>"
      ]
     },
     "metadata": {},
     "output_type": "display_data"
    },
    {
     "data": {
      "text/markdown": [
       "### The Actress of Padua, and Other Tales: By the Author of \"The Forsaken\""
      ],
      "text/plain": [
       "<IPython.core.display.Markdown object>"
      ]
     },
     "metadata": {},
     "output_type": "display_data"
    },
    {
     "data": {
      "text/markdown": [
       "<small>Smith, Richard Penn</small>"
      ],
      "text/plain": [
       "<IPython.core.display.Markdown object>"
      ]
     },
     "metadata": {},
     "output_type": "display_data"
    },
    {
     "data": {
      "text/markdown": [
       "earted? It cannot recall the deed of yes¬ terday, or bribe the grave to yield to life its tenant. MADNESS. “M <span style=\"color: blue\">ad as the sea and wind, when both contend Which is the mightier.</span>”— Hamlet. -Huic ego vulgum Errori similem cunctum insanire docebo. Horace,"
      ],
      "text/plain": [
       "<IPython.core.display.Markdown object>"
      ]
     },
     "metadata": {},
     "output_type": "display_data"
    },
    {
     "name": "stdout",
     "output_type": "stream",
     "text": [
      "--------------------------------------------------\n"
     ]
    },
    {
     "data": {
      "text/markdown": [
       "### Hamlet"
      ],
      "text/plain": [
       "<IPython.core.display.Markdown object>"
      ]
     },
     "metadata": {},
     "output_type": "display_data"
    },
    {
     "data": {
      "text/markdown": [
       "grave.] Laer. The devil take thy soul! [Grappling with him.] Ham. Thou pray'st not well. I <span style=\"color: blue\">pr'ythee, take thy fingers from my throat; For, though I am not splenetive and rash</span>, Yet have I in me something dangerous, Which let thy wiseness fear: away thy hand! King. Pluck them asunder"
      ],
      "text/plain": [
       "<IPython.core.display.Markdown object>"
      ]
     },
     "metadata": {},
     "output_type": "display_data"
    },
    {
     "data": {
      "text/markdown": [
       "### The Haunted Homestead: And Other Nouvellettes; with an Autobiography of the Author: By Emma D. E. N. Southworth"
      ],
      "text/plain": [
       "<IPython.core.display.Markdown object>"
      ]
     },
     "metadata": {},
     "output_type": "display_data"
    },
    {
     "data": {
      "text/markdown": [
       "<small>Southworth, Emma Dorothy Eliza Nevitte</small>"
      ],
      "text/plain": [
       "<IPython.core.display.Markdown object>"
      ]
     },
     "metadata": {},
     "output_type": "display_data"
    },
    {
     "data": {
      "text/markdown": [
       "Valentine had no direct or cer¬ tain intelligence of Fannie and his little child. CHAPTER Yli CAIN. I <span style=\"color: blue\">pr’ythee take thy fingers from my throat ; For though I am not splenetive and rash</span>, Tet have I in me something dangerous, Which let thy wisdom fear. Hold off thy hand ! Shakespeare. One morning"
      ],
      "text/plain": [
       "<IPython.core.display.Markdown object>"
      ]
     },
     "metadata": {},
     "output_type": "display_data"
    },
    {
     "name": "stdout",
     "output_type": "stream",
     "text": [
      "--------------------------------------------------\n"
     ]
    },
    {
     "data": {
      "text/markdown": [
       "### Hamlet"
      ],
      "text/plain": [
       "<IPython.core.display.Markdown object>"
      ]
     },
     "metadata": {},
     "output_type": "display_data"
    },
    {
     "data": {
      "text/markdown": [
       "confine: and of the truth herein This present object made probation. Mar. It faded on the crowing of the cock. Some say that ever ' <span style=\"color: blue\">gainst that season comes Wherein our Saviour's birth is celebrated, The bird of dawning singeth all night</span> long; And then, they say, no spirit dare stir abroad; The nights are wholesome; then no planets strike, No fairy takes"
      ],
      "text/plain": [
       "<IPython.core.display.Markdown object>"
      ]
     },
     "metadata": {},
     "output_type": "display_data"
    },
    {
     "data": {
      "text/markdown": [
       "### Admiral's Light: By Henry Milner Rideout…"
      ],
      "text/plain": [
       "<IPython.core.display.Markdown object>"
      ]
     },
     "metadata": {},
     "output_type": "display_data"
    },
    {
     "data": {
      "text/markdown": [
       "<small>Justice, Martin</small>"
      ],
      "text/plain": [
       "<IPython.core.display.Markdown object>"
      ]
     },
     "metadata": {},
     "output_type": "display_data"
    },
    {
     "data": {
      "text/markdown": [
       "profundity of the tide beneath, but more than all by the whispering, muffled figure on the thwart, obscure as a shape of sorcery. 140 ‘“Some say that ever ’ <span style=\"color: blue\">gainst that season comes Wherein our Saviour’s birth is celebrated, This bird of dawning singeth all night</span> long. And then — ’ ” The dripping of the oars marked the pauses, crisply and rhythmically. ‘“And then, they say, no spirit can walk abroad; The nights"
      ],
      "text/plain": [
       "<IPython.core.display.Markdown object>"
      ]
     },
     "metadata": {},
     "output_type": "display_data"
    },
    {
     "name": "stdout",
     "output_type": "stream",
     "text": [
      "--------------------------------------------------\n"
     ]
    },
    {
     "data": {
      "text/markdown": [
       "### Hamlet"
      ],
      "text/plain": [
       "<IPython.core.display.Markdown object>"
      ]
     },
     "metadata": {},
     "output_type": "display_data"
    },
    {
     "data": {
      "text/markdown": [
       "s birth is celebrated, The bird of dawning singeth all night long; And then, they say, no spirit dare stir <span style=\"color: blue\">abroad; The nights are wholesome; then no planets strike, No fairy takes, nor witch hath power to charm</span>; So hallow'd and so gracious is the time. Hor. So have I heard, and do in part believe it. But, look, the morn, in russet mantle clad"
      ],
      "text/plain": [
       "<IPython.core.display.Markdown object>"
      ]
     },
     "metadata": {},
     "output_type": "display_data"
    },
    {
     "data": {
      "text/markdown": [
       "### Admiral's Light: By Henry Milner Rideout…"
      ],
      "text/plain": [
       "<IPython.core.display.Markdown object>"
      ]
     },
     "metadata": {},
     "output_type": "display_data"
    },
    {
     "data": {
      "text/markdown": [
       "<small>Justice, Martin</small>"
      ],
      "text/plain": [
       "<IPython.core.display.Markdown object>"
      ]
     },
     "metadata": {},
     "output_type": "display_data"
    },
    {
     "data": {
      "text/markdown": [
       "singeth all night long. And then — ’ ” The dripping of the oars marked the pauses, crisply and rhythmically. ‘“And then, they say, no spirit can walk <span style=\"color: blue\">abroad; The nights are wholesome; then no planets strike, No fairy takes, nor witch hath power to charm</span>, So hallowed and so gracious is the time.” He rowed on steadily. “Oh, I remember where,” she said, after a time. “ They read that to us in school one winter. It’s very beautiful. But I can’t"
      ],
      "text/plain": [
       "<IPython.core.display.Markdown object>"
      ]
     },
     "metadata": {},
     "output_type": "display_data"
    },
    {
     "name": "stdout",
     "output_type": "stream",
     "text": [
      "--------------------------------------------------\n"
     ]
    },
    {
     "data": {
      "text/markdown": [
       "### Hamlet"
      ],
      "text/plain": [
       "<IPython.core.display.Markdown object>"
      ]
     },
     "metadata": {},
     "output_type": "display_data"
    },
    {
     "data": {
      "text/markdown": [
       "hue of resolution Is sicklied o'er with the pale cast of thought; And enterprises of great pith and moment, With this <span style=\"color: blue\">regard, their currents turn awry, And lose the name of action</span>.--Soft you now! The fair Ophelia!--Nymph, in thy orisons Be all my sins remember'd. Oph"
      ],
      "text/plain": [
       "<IPython.core.display.Markdown object>"
      ]
     },
     "metadata": {},
     "output_type": "display_data"
    },
    {
     "data": {
      "text/markdown": [
       "### Adventures of Huckleberry Finn (Tom Sawyer's Comrade): By Mark Twain; with One Hundred and Seventy-Four Illustrations"
      ],
      "text/plain": [
       "<IPython.core.display.Markdown object>"
      ]
     },
     "metadata": {},
     "output_type": "display_data"
    },
    {
     "data": {
      "text/markdown": [
       "<small>Twain, Mark</small>"
      ],
      "text/plain": [
       "<IPython.core.display.Markdown object>"
      ]
     },
     "metadata": {},
     "output_type": "display_data"
    },
    {
     "data": {
      "text/markdown": [
       "ge, Is sicklied o’er with care. And all the clouds that lowered o’er our housetops, With this reg <span style=\"color: blue\">ard their currents turn awry, And lose the name of action. T</span> is a consummation devoutly to be wished. But soft you, the fair Ophelia : Ope not thy ponderous an"
      ],
      "text/plain": [
       "<IPython.core.display.Markdown object>"
      ]
     },
     "metadata": {},
     "output_type": "display_data"
    },
    {
     "name": "stdout",
     "output_type": "stream",
     "text": [
      "--------------------------------------------------\n"
     ]
    },
    {
     "data": {
      "text/markdown": [
       "### Hamlet"
      ],
      "text/plain": [
       "<IPython.core.display.Markdown object>"
      ]
     },
     "metadata": {},
     "output_type": "display_data"
    },
    {
     "data": {
      "text/markdown": [
       "bid me hold my peace. I pray you all, If you have hitherto conceal'd this sight, Let it be tenable in your silence still; And <span style=\"color: blue\">whatsoever else shall hap to-night, Give it an understanding, but no tongue</span>: I will requite your loves. So, fare ye well: Upon the platform, 'twixt eleven and twelve, I'll"
      ],
      "text/plain": [
       "<IPython.core.display.Markdown object>"
      ]
     },
     "metadata": {},
     "output_type": "display_data"
    },
    {
     "data": {
      "text/markdown": [
       "### Adrian, or, the Clouds of the Mind: A Romance: By G. P. R. James... And Maunsell B. Field …"
      ],
      "text/plain": [
       "<IPython.core.display.Markdown object>"
      ]
     },
     "metadata": {},
     "output_type": "display_data"
    },
    {
     "data": {
      "text/markdown": [
       "<small>James, G. P. R. (George Payne Rainsford)</small>"
      ],
      "text/plain": [
       "<IPython.core.display.Markdown object>"
      ]
     },
     "metadata": {},
     "output_type": "display_data"
    },
    {
     "data": {
      "text/markdown": [
       "treaming forth, and several dark figures passing across from one side to the other. CHAPTER XIY. And w <span style=\"color: blue\">hatsoever else shall hap to-night, Give it an understanding, but no tongue.</span> BuAKsrEARE. “ Hârtiei /· There was a dead silence. Hie eyes of both w«e fixed"
      ],
      "text/plain": [
       "<IPython.core.display.Markdown object>"
      ]
     },
     "metadata": {},
     "output_type": "display_data"
    },
    {
     "name": "stdout",
     "output_type": "stream",
     "text": [
      "--------------------------------------------------\n"
     ]
    },
    {
     "data": {
      "text/markdown": [
       "### Hamlet"
      ],
      "text/plain": [
       "<IPython.core.display.Markdown object>"
      ]
     },
     "metadata": {},
     "output_type": "display_data"
    },
    {
     "data": {
      "text/markdown": [
       "question:-- Whether 'tis nobler in the mind to suffer The slings and arrows of outrageous fortune Or to take <span style=\"color: blue\">arms against a sea of troubles, And by opposing</span> end them?--To die,--to sleep,-- No more; and by a sleep to say we end The heartache, and the thousand natural shocks That flesh is heir to,--'tis"
      ],
      "text/plain": [
       "<IPython.core.display.Markdown object>"
      ]
     },
     "metadata": {},
     "output_type": "display_data"
    },
    {
     "data": {
      "text/markdown": [
       "### An Unlaid Ghost: A Study in Metempsychosis"
      ],
      "text/plain": [
       "<IPython.core.display.Markdown object>"
      ]
     },
     "metadata": {},
     "output_type": "display_data"
    },
    {
     "data": {
      "text/markdown": [
       "<small>None</small>"
      ],
      "text/plain": [
       "<IPython.core.display.Markdown object>"
      ]
     },
     "metadata": {},
     "output_type": "display_data"
    },
    {
     "data": {
      "text/markdown": [
       "oughly in my favor ? He cbrdially detested me, and -with reason, for he is a man, constitutionally lacking that ineffable instinct which prompted you “ to take arms <span style=\"color: blue\">against a sea of troubles, and by opposing end</span> them.” What¬ ever it is that I owe to your angelic mediation, he was charming to us, and filled my heart to over¬ flowing with joy at the accounts he gave of"
      ],
      "text/plain": [
       "<IPython.core.display.Markdown object>"
      ]
     },
     "metadata": {},
     "output_type": "display_data"
    },
    {
     "name": "stdout",
     "output_type": "stream",
     "text": [
      "--------------------------------------------------\n"
     ]
    },
    {
     "data": {
      "text/markdown": [
       "### Hamlet"
      ],
      "text/plain": [
       "<IPython.core.display.Markdown object>"
      ]
     },
     "metadata": {},
     "output_type": "display_data"
    },
    {
     "data": {
      "text/markdown": [
       "physic but prolongs thy sickly days. [Exit.] [The King rises and advances.] King. My <span style=\"color: blue\">words fly up, my thoughts remain below</span>: Words without thoughts never to heaven go. [Exit.] Scene IV. Another room in the castle. [Enter"
      ],
      "text/plain": [
       "<IPython.core.display.Markdown object>"
      ]
     },
     "metadata": {},
     "output_type": "display_data"
    },
    {
     "data": {
      "text/markdown": [
       "### The Puritans: By Arlo Bates"
      ],
      "text/plain": [
       "<IPython.core.display.Markdown object>"
      ]
     },
     "metadata": {},
     "output_type": "display_data"
    },
    {
     "data": {
      "text/markdown": [
       "<small>Bates, Arlo</small>"
      ],
      "text/plain": [
       "<IPython.core.display.Markdown object>"
      ]
     },
     "metadata": {},
     "output_type": "display_data"
    },
    {
     "data": {
      "text/markdown": [
       "shall come to answer for an act of wor¬ ship ; and to-night Maurice might have exclaimed with King Claudius : — “ My <span style=\"color: blue\">words fly up ; my thoughts remain below</span>.” The service went on with its deep, appealing prayers for pardon, for help, for uplifting, and Maurice fol¬ lowed"
      ],
      "text/plain": [
       "<IPython.core.display.Markdown object>"
      ]
     },
     "metadata": {},
     "output_type": "display_data"
    },
    {
     "name": "stdout",
     "output_type": "stream",
     "text": [
      "--------------------------------------------------\n"
     ]
    },
    {
     "data": {
      "text/markdown": [
       "### Hamlet"
      ],
      "text/plain": [
       "<IPython.core.display.Markdown object>"
      ]
     },
     "metadata": {},
     "output_type": "display_data"
    },
    {
     "data": {
      "text/markdown": [
       "charge, Since frost itself as actively doth burn, And reason panders will. Queen. <span style=\"color: blue\">O Hamlet, speak no more: Thou turn'st</span> mine eyes into my very soul; And there I see such black and grained spots As will not leave their tinct. Ham. Nay"
      ],
      "text/plain": [
       "<IPython.core.display.Markdown object>"
      ]
     },
     "metadata": {},
     "output_type": "display_data"
    },
    {
     "data": {
      "text/markdown": [
       "### The Rover of the Reef: Or, the Nymph of the Nightingale: A Romance of Massachusetts Bay: Harry Halyard"
      ],
      "text/plain": [
       "<IPython.core.display.Markdown object>"
      ]
     },
     "metadata": {},
     "output_type": "display_data"
    },
    {
     "data": {
      "text/markdown": [
       "<small>Halyard, Harry</small>"
      ],
      "text/plain": [
       "<IPython.core.display.Markdown object>"
      ]
     },
     "metadata": {},
     "output_type": "display_data"
    },
    {
     "data": {
      "text/markdown": [
       "e in Clarrine’s chamber. Interview between her and simple Peter . Astonishing denouement. O, H <span style=\"color: blue\">amlet, speak do more. Thou turn’st my</span> eyes into my very soul, And there I see such black and grained spots, As will not leave their color.—H amlet. Laboring und"
      ],
      "text/plain": [
       "<IPython.core.display.Markdown object>"
      ]
     },
     "metadata": {},
     "output_type": "display_data"
    },
    {
     "name": "stdout",
     "output_type": "stream",
     "text": [
      "--------------------------------------------------\n"
     ]
    },
    {
     "data": {
      "text/markdown": [
       "### Hamlet"
      ],
      "text/plain": [
       "<IPython.core.display.Markdown object>"
      ]
     },
     "metadata": {},
     "output_type": "display_data"
    },
    {
     "data": {
      "text/markdown": [
       "reason panders will. Queen. O Hamlet, speak no more: Thou turn'st mine <span style=\"color: blue\">eyes into my very soul; And there I see such black and grained spots As will not leave</span> their tinct. Ham. Nay, but to live In the rank sweat of an enseamed bed, Stew'd"
      ],
      "text/plain": [
       "<IPython.core.display.Markdown object>"
      ]
     },
     "metadata": {},
     "output_type": "display_data"
    },
    {
     "data": {
      "text/markdown": [
       "### The Rover of the Reef: Or, the Nymph of the Nightingale: A Romance of Massachusetts Bay: Harry Halyard"
      ],
      "text/plain": [
       "<IPython.core.display.Markdown object>"
      ]
     },
     "metadata": {},
     "output_type": "display_data"
    },
    {
     "data": {
      "text/markdown": [
       "<small>Halyard, Harry</small>"
      ],
      "text/plain": [
       "<IPython.core.display.Markdown object>"
      ]
     },
     "metadata": {},
     "output_type": "display_data"
    },
    {
     "data": {
      "text/markdown": [
       "le Peter . Astonishing denouement. O, Hamlet, speak do more. Thou turn’st my eyes <span style=\"color: blue\">into my very soul, And there I see such black and grained spots, As will not leave the</span> ir color.—H amlet. Laboring under the influence of the wild and sudden phrenzy which had caused her"
      ],
      "text/plain": [
       "<IPython.core.display.Markdown object>"
      ]
     },
     "metadata": {},
     "output_type": "display_data"
    },
    {
     "name": "stdout",
     "output_type": "stream",
     "text": [
      "--------------------------------------------------\n"
     ]
    },
    {
     "data": {
      "text/markdown": [
       "### Hamlet"
      ],
      "text/plain": [
       "<IPython.core.display.Markdown object>"
      ]
     },
     "metadata": {},
     "output_type": "display_data"
    },
    {
     "data": {
      "text/markdown": [
       "s curls; the front of Jove himself; An eye like Mars, to threaten and command; A station like the <span style=\"color: blue\">herald Mercury New lighted on a heaven-kissing hill</span>: A combination and a form, indeed, Where every god did seem to set his seal, To give the world assurance of a man; This was your husband.--Look you now what follows"
      ],
      "text/plain": [
       "<IPython.core.display.Markdown object>"
      ]
     },
     "metadata": {},
     "output_type": "display_data"
    },
    {
     "data": {
      "text/markdown": [
       "### The Pennimans: Or, the Triumph of Genius …"
      ],
      "text/plain": [
       "<IPython.core.display.Markdown object>"
      ]
     },
     "metadata": {},
     "output_type": "display_data"
    },
    {
     "data": {
      "text/markdown": [
       "<small>None</small>"
      ],
      "text/plain": [
       "<IPython.core.display.Markdown object>"
      ]
     },
     "metadata": {},
     "output_type": "display_data"
    },
    {
     "data": {
      "text/markdown": [
       "feet, As though they were quite ţfciscious of her station They trod as upon neoks; . . . . . Shakspeare talk* of the “ <span style=\"color: blue\">herald mercury New lighted on a heaven-kissing hill</span>; ” And some sneh visions cross’d her majesty, While her young herald knelt before her stilb"
      ],
      "text/plain": [
       "<IPython.core.display.Markdown object>"
      ]
     },
     "metadata": {},
     "output_type": "display_data"
    },
    {
     "name": "stdout",
     "output_type": "stream",
     "text": [
      "--------------------------------------------------\n"
     ]
    },
    {
     "data": {
      "text/markdown": [
       "### Hamlet"
      ],
      "text/plain": [
       "<IPython.core.display.Markdown object>"
      ]
     },
     "metadata": {},
     "output_type": "display_data"
    },
    {
     "data": {
      "text/markdown": [
       "King and Polonius.] [Enter Hamlet.] Ham. To be, or not to be,--that is the question:-- Whether 'tis nobler in the mind to <span style=\"color: blue\">suffer The slings and arrows of outrageous fortune</span> Or to take arms against a sea of troubles, And by opposing end them?--To die,--to sleep,-- No more; and by a sleep to say we end The heartache, and the thousand"
      ],
      "text/plain": [
       "<IPython.core.display.Markdown object>"
      ]
     },
     "metadata": {},
     "output_type": "display_data"
    },
    {
     "data": {
      "text/markdown": [
       "### Sevenoaks: A Story of Today: By J. G. Holland... With Twelve Full-Page Illustrations after Original Designs by Sol. Eytinge"
      ],
      "text/plain": [
       "<IPython.core.display.Markdown object>"
      ]
     },
     "metadata": {},
     "output_type": "display_data"
    },
    {
     "data": {
      "text/markdown": [
       "<small>Holland, J. G. (Josiah Gilbert)</small>"
      ],
      "text/plain": [
       "<IPython.core.display.Markdown object>"
      ]
     },
     "metadata": {},
     "output_type": "display_data"
    },
    {
     "data": {
      "text/markdown": [
       "pestilent a neigh¬ borhood to a city where his sterling qualities will find ‘ ample scope and verge enough,’ and where those who <span style=\"color: blue\">suffer ‘ the slings and arrows of outrageous fortune</span>’ will not lay them to the charge of one who can, with truthfulness, declare ‘ Thou canst not say I did it.’ ” When Mr. Belcher concluded, he muttered"
      ],
      "text/plain": [
       "<IPython.core.display.Markdown object>"
      ]
     },
     "metadata": {},
     "output_type": "display_data"
    },
    {
     "name": "stdout",
     "output_type": "stream",
     "text": [
      "--------------------------------------------------\n"
     ]
    },
    {
     "data": {
      "text/markdown": [
       "### Hamlet"
      ],
      "text/plain": [
       "<IPython.core.display.Markdown object>"
      ]
     },
     "metadata": {},
     "output_type": "display_data"
    },
    {
     "data": {
      "text/markdown": [
       "peace. I pray you all, If you have hitherto conceal'd this sight, Let it be tenable in your silence still; And whatsoever else <span style=\"color: blue\">shall hap to-night, Give it an understanding, but no tongue</span>: I will requite your loves. So, fare ye well: Upon the platform, 'twixt eleven and twelve, I'll"
      ],
      "text/plain": [
       "<IPython.core.display.Markdown object>"
      ]
     },
     "metadata": {},
     "output_type": "display_data"
    },
    {
     "data": {
      "text/markdown": [
       "### Drifting: [A Story]: By Vigilans"
      ],
      "text/plain": [
       "<IPython.core.display.Markdown object>"
      ]
     },
     "metadata": {},
     "output_type": "display_data"
    },
    {
     "data": {
      "text/markdown": [
       "<small>Hawkins, Thomas Hayden</small>"
      ],
      "text/plain": [
       "<IPython.core.display.Markdown object>"
      ]
     },
     "metadata": {},
     "output_type": "display_data"
    },
    {
     "data": {
      "text/markdown": [
       "IX. THE SEARCH. \"I pray you all, If you have hitherto concealed this sight, Let it be tenable in your silence still; And whatsoever ebe <span style=\"color: blue\">shall hap to-night, Give it an understanding but no tongue</span>.” N ОС К the door in. Knock the dodrodded thing down. He is my father, or at least the only father I ever knew anything about, but he has forfeited"
      ],
      "text/plain": [
       "<IPython.core.display.Markdown object>"
      ]
     },
     "metadata": {},
     "output_type": "display_data"
    },
    {
     "name": "stdout",
     "output_type": "stream",
     "text": [
      "--------------------------------------------------\n"
     ]
    },
    {
     "data": {
      "text/markdown": [
       "### Hamlet"
      ],
      "text/plain": [
       "<IPython.core.display.Markdown object>"
      ]
     },
     "metadata": {},
     "output_type": "display_data"
    },
    {
     "data": {
      "text/markdown": [
       "d be rashness for it,--let us know, Our indiscretion sometime serves us well, When our deep plots do fail; and that should teach us There's a <span style=\"color: blue\">divinity that shapes our ends, Rough-hew</span> them how we will. Hor. That is most certain. Ham. Up from my cabin, My sea-gown scarf'd about me, in the dark Grop"
      ],
      "text/plain": [
       "<IPython.core.display.Markdown object>"
      ]
     },
     "metadata": {},
     "output_type": "display_data"
    },
    {
     "data": {
      "text/markdown": [
       "### The Man of Clay: (A Tale of Life): By Hiram W. Hayes; Illustrated by Alfred Russell"
      ],
      "text/plain": [
       "<IPython.core.display.Markdown object>"
      ]
     },
     "metadata": {},
     "output_type": "display_data"
    },
    {
     "data": {
      "text/markdown": [
       "<small>Hayes, Hiram W. (Hiram Wallace)</small>"
      ],
      "text/plain": [
       "<IPython.core.display.Markdown object>"
      ]
     },
     "metadata": {},
     "output_type": "display_data"
    },
    {
     "data": {
      "text/markdown": [
       "ncer- 1 tainty of what may be found at the end of the drive causes the slightest sense of inharmony, and to one who is able to realize a “d <span style=\"color: blue\">ivinity that shapes our ends, rough-hew</span> them how we will,”such a sense of uncer¬ tainty must necessarily be lacking. Whether or not Abijah Adams had come to realize"
      ],
      "text/plain": [
       "<IPython.core.display.Markdown object>"
      ]
     },
     "metadata": {},
     "output_type": "display_data"
    },
    {
     "name": "stdout",
     "output_type": "stream",
     "text": [
      "--------------------------------------------------\n"
     ]
    },
    {
     "data": {
      "text/markdown": [
       "### Hamlet"
      ],
      "text/plain": [
       "<IPython.core.display.Markdown object>"
      ]
     },
     "metadata": {},
     "output_type": "display_data"
    },
    {
     "data": {
      "text/markdown": [
       "Indeed, that is out o' the air. [Aside.] How pregnant sometimes his replies are! a happiness that often madness <span style=\"color: blue\">hits on, which reason and sanity could not so prosperously be delivered</span> of. I will leave him and suddenly contrive the means of meeting between him and my daughter.--My honourable lord, I will most humbly"
      ],
      "text/plain": [
       "<IPython.core.display.Markdown object>"
      ]
     },
     "metadata": {},
     "output_type": "display_data"
    },
    {
     "data": {
      "text/markdown": [
       "### Autographs for Freedom"
      ],
      "text/plain": [
       "<IPython.core.display.Markdown object>"
      ]
     },
     "metadata": {},
     "output_type": "display_data"
    },
    {
     "data": {
      "text/markdown": [
       "<small>Griffiths, Julia</small>"
      ],
      "text/plain": [
       "<IPython.core.display.Markdown object>"
      ]
     },
     "metadata": {},
     "output_type": "display_data"
    },
    {
     "data": {
      "text/markdown": [
       "Polonius, — chief old Fogy of the court of Den¬ mark, — that there is “ a happiness wliich madness often <span style=\"color: blue\">hits on, that reason and sanity could not so prosperously be delivered</span> of.” Folly and craziness, quotha ! Did it, then, never occur to you, О World¬ ly Wiseman, that even your wisdom might be bet¬ tered by a dash"
      ],
      "text/plain": [
       "<IPython.core.display.Markdown object>"
      ]
     },
     "metadata": {},
     "output_type": "display_data"
    },
    {
     "name": "stdout",
     "output_type": "stream",
     "text": [
      "--------------------------------------------------\n"
     ]
    },
    {
     "data": {
      "text/markdown": [
       "### Hamlet"
      ],
      "text/plain": [
       "<IPython.core.display.Markdown object>"
      ]
     },
     "metadata": {},
     "output_type": "display_data"
    },
    {
     "data": {
      "text/markdown": [
       "Came this from Hamlet to her? Pol. Good madam, stay awhile; I will be faithful. [Reads.] 'Doubt thou the <span style=\"color: blue\">stars are fire; Doubt that the sun doth move; Doubt truth to be a liar; But never doubt</span> I love. 'O dear Ophelia, I am ill at these numbers; I have not art to reckon my groans: but that I love thee best, O"
      ],
      "text/plain": [
       "<IPython.core.display.Markdown object>"
      ]
     },
     "metadata": {},
     "output_type": "display_data"
    },
    {
     "data": {
      "text/markdown": [
       "### The Dream Girl: By Ethel Gertrude Hart; Illustrated by Gordon Grant"
      ],
      "text/plain": [
       "<IPython.core.display.Markdown object>"
      ]
     },
     "metadata": {},
     "output_type": "display_data"
    },
    {
     "data": {
      "text/markdown": [
       "<small>Hart, E. Gertrude (Ethel Gertrude)</small>"
      ],
      "text/plain": [
       "<IPython.core.display.Markdown object>"
      ]
     },
     "metadata": {},
     "output_type": "display_data"
    },
    {
     "data": {
      "text/markdown": [
       "nswer, Max, and slip it under my door to-night. 268 XXII FROM MAX HERRICK Doubt that the s <span style=\"color: blue\">tars are fire; Doubt that the sun doth move; Doubt truth to be a liar; But never doubt</span> I love! — Hamlet. . . . Now thy image doth appear In the rare semblance that I loved it first. — Twelfth Night"
      ],
      "text/plain": [
       "<IPython.core.display.Markdown object>"
      ]
     },
     "metadata": {},
     "output_type": "display_data"
    },
    {
     "name": "stdout",
     "output_type": "stream",
     "text": [
      "--------------------------------------------------\n"
     ]
    },
    {
     "data": {
      "text/markdown": [
       "### Hamlet"
      ],
      "text/plain": [
       "<IPython.core.display.Markdown object>"
      ]
     },
     "metadata": {},
     "output_type": "display_data"
    },
    {
     "data": {
      "text/markdown": [
       "thee? Why should the poor be flatter'd? No, let the candied tongue lick absurd pomp; And crook the <span style=\"color: blue\">pregnant hinges of the knee Where thrift may follow fawning</span>. Dost thou hear? Since my dear soul was mistress of her choice, And could of men distinguish"
      ],
      "text/plain": [
       "<IPython.core.display.Markdown object>"
      ]
     },
     "metadata": {},
     "output_type": "display_data"
    },
    {
     "data": {
      "text/markdown": [
       "### Terence O'Rourke: Gentleman Adventurer: By Louis Joseph Vance"
      ],
      "text/plain": [
       "<IPython.core.display.Markdown object>"
      ]
     },
     "metadata": {},
     "output_type": "display_data"
    },
    {
     "data": {
      "text/markdown": [
       "<small>Vance, Louis Joseph</small>"
      ],
      "text/plain": [
       "<IPython.core.display.Markdown object>"
      ]
     },
     "metadata": {},
     "output_type": "display_data"
    },
    {
     "data": {
      "text/markdown": [
       "motley, self-centered crew of leeches, who, to this vapid youth of a multi-millionaire, bent “the <span style=\"color: blue\">pregnant hinges of the knee, that thrift might follow fawning</span>.” It nauseated him; he put down his glass, and for a moment watched the cold, calculating, sardonic Prince de"
      ],
      "text/plain": [
       "<IPython.core.display.Markdown object>"
      ]
     },
     "metadata": {},
     "output_type": "display_data"
    },
    {
     "name": "stdout",
     "output_type": "stream",
     "text": [
      "--------------------------------------------------\n"
     ]
    },
    {
     "data": {
      "text/markdown": [
       "### Hamlet"
      ],
      "text/plain": [
       "<IPython.core.display.Markdown object>"
      ]
     },
     "metadata": {},
     "output_type": "display_data"
    },
    {
     "data": {
      "text/markdown": [
       "loan oft loses both itself and friend; And borrowing dulls the edge of husbandry. This above all,--to <span style=\"color: blue\">thine own self be true; And it must follow, as the night</span> the day, Thou canst not then be false to any man. Farewell: my blessing season this in thee! Laer. Most humbly do I take my leave"
      ],
      "text/plain": [
       "<IPython.core.display.Markdown object>"
      ]
     },
     "metadata": {},
     "output_type": "display_data"
    },
    {
     "data": {
      "text/markdown": [
       "### The Stranger at the Hearth: By Katharine Metcalf Roof"
      ],
      "text/plain": [
       "<IPython.core.display.Markdown object>"
      ]
     },
     "metadata": {},
     "output_type": "display_data"
    },
    {
     "data": {
      "text/markdown": [
       "<small>Roof, Katharine Metcalf</small>"
      ],
      "text/plain": [
       "<IPython.core.display.Markdown object>"
      ]
     },
     "metadata": {},
     "output_type": "display_data"
    },
    {
     "data": {
      "text/markdown": [
       "idea of the truth, I wonder ! ” Percy was taken aback. “ The truth — why — er — a — the truth is the truth. ‘ To <span style=\"color: blue\">thine own self be true and it must follow as the night</span> the day, you cannot then be false ’—” The contessa interrupted the peroration : “ Being true to yourself then involves being true to other people? ” “ Ah"
      ],
      "text/plain": [
       "<IPython.core.display.Markdown object>"
      ]
     },
     "metadata": {},
     "output_type": "display_data"
    },
    {
     "name": "stdout",
     "output_type": "stream",
     "text": [
      "--------------------------------------------------\n"
     ]
    },
    {
     "data": {
      "text/markdown": [
       "### Hamlet"
      ],
      "text/plain": [
       "<IPython.core.display.Markdown object>"
      ]
     },
     "metadata": {},
     "output_type": "display_data"
    },
    {
     "data": {
      "text/markdown": [
       "Denmark But he's an arrant knave. Hor. There needs no ghost, my lord, come from the grave To tell us this. Ham. Why, right; you are i' the right; And so, <span style=\"color: blue\">without more circumstance at all, I hold it fit that we shake hands and part: You, as your business</span> and desires shall point you,-- For every man hath business and desire, Such as it is;--and for my own poor part, Look you, I'll go pray. Hor"
      ],
      "text/plain": [
       "<IPython.core.display.Markdown object>"
      ]
     },
     "metadata": {},
     "output_type": "display_data"
    },
    {
     "data": {
      "text/markdown": [
       "### Darrel of the Blessed Isles: By Irving Bacheller; Illustrated by Arthur I. Keller"
      ],
      "text/plain": [
       "<IPython.core.display.Markdown object>"
      ]
     },
     "metadata": {},
     "output_type": "display_data"
    },
    {
     "data": {
      "text/markdown": [
       "<small>Bacheller, Irving</small>"
      ],
      "text/plain": [
       "<IPython.core.display.Markdown object>"
      ]
     },
     "metadata": {},
     "output_type": "display_data"
    },
    {
     "data": {
      "text/markdown": [
       "latter had come near, a voice, deep, vibrant, and musical as a harp¬ string, in these lines of Hamlet : — “ ‘ Why right : you are i’ the right ; And so <span style=\"color: blue\">without more circumstance at all, 1 hold it fit that we shake hands and part ; You as your business</span> and desire shall point you ; For every man has business and desire Such as it is ; and for mine own part Look you, I’ll go pray.’” Then said Darrel, loudly"
      ],
      "text/plain": [
       "<IPython.core.display.Markdown object>"
      ]
     },
     "metadata": {},
     "output_type": "display_data"
    },
    {
     "name": "stdout",
     "output_type": "stream",
     "text": [
      "--------------------------------------------------\n"
     ]
    },
    {
     "data": {
      "text/markdown": [
       "### Hamlet"
      ],
      "text/plain": [
       "<IPython.core.display.Markdown object>"
      ]
     },
     "metadata": {},
     "output_type": "display_data"
    },
    {
     "data": {
      "text/markdown": [
       "desire, Such as it is;--and for my own poor part, Look you, I'll go pray. Hor. These are but wild and whirling words, my lord. Ham. I' <span style=\"color: blue\">m sorry they offend you, heartily; Yes, faith, heartily</span>. Hor. There's no offence, my lord. Ham. Yes, by Saint Patrick, but there is, Horatio, And much offence too. Touching"
      ],
      "text/plain": [
       "<IPython.core.display.Markdown object>"
      ]
     },
     "metadata": {},
     "output_type": "display_data"
    },
    {
     "data": {
      "text/markdown": [
       "### Darrel of the Blessed Isles: By Irving Bacheller; Illustrated by Arthur I. Keller"
      ],
      "text/plain": [
       "<IPython.core.display.Markdown object>"
      ]
     },
     "metadata": {},
     "output_type": "display_data"
    },
    {
     "data": {
      "text/markdown": [
       "<small>Bacheller, Irving</small>"
      ],
      "text/plain": [
       "<IPython.core.display.Markdown object>"
      ]
     },
     "metadata": {},
     "output_type": "display_data"
    },
    {
     "data": {
      "text/markdown": [
       "erect, and strong; its every move expressing grace and power. Again the deep music of his voice, saying : — “ ‘ I’ <span style=\"color: blue\">m sorry they offend you heartily ; yes, faith, heartily</span>.’ ” And Darrel rejoined, his own rich tone touch¬ ing the note of melancholy in the other : — “‘There’s no offence"
      ],
      "text/plain": [
       "<IPython.core.display.Markdown object>"
      ]
     },
     "metadata": {},
     "output_type": "display_data"
    },
    {
     "name": "stdout",
     "output_type": "stream",
     "text": [
      "--------------------------------------------------\n"
     ]
    },
    {
     "data": {
      "text/markdown": [
       "### Hamlet"
      ],
      "text/plain": [
       "<IPython.core.display.Markdown object>"
      ]
     },
     "metadata": {},
     "output_type": "display_data"
    },
    {
     "data": {
      "text/markdown": [
       "fortune; Thou find'st to be too busy is some danger.-- Leave wringing of your hands: peace! sit you down, And let me <span style=\"color: blue\">wring your heart: for so I shall, If it be made of penetrable stuff</span>; If damned custom have not braz'd it so That it is proof and bulwark against sense. Queen. What have I done, that thou"
      ],
      "text/plain": [
       "<IPython.core.display.Markdown object>"
      ]
     },
     "metadata": {},
     "output_type": "display_data"
    },
    {
     "data": {
      "text/markdown": [
       "### The Ides of March: By Florie Willingham Pickard"
      ],
      "text/plain": [
       "<IPython.core.display.Markdown object>"
      ]
     },
     "metadata": {},
     "output_type": "display_data"
    },
    {
     "data": {
      "text/markdown": [
       "<small>Pickard, Florie Willingham</small>"
      ],
      "text/plain": [
       "<IPython.core.display.Markdown object>"
      ]
     },
     "metadata": {},
     "output_type": "display_data"
    },
    {
     "data": {
      "text/markdown": [
       "low, Another’s and another's; And every hand that dealt the blow, Ah me! It was a brother! ” CHAPTER IV. “ And let me <span style=\"color: blue\">wring your heart, for so I shall, If it be made of penetrable stuff</span>. — Shakespeare. Thb news had come that Mr. Waldo had fallen in battle. But could any cue have courage to tell the poor"
      ],
      "text/plain": [
       "<IPython.core.display.Markdown object>"
      ]
     },
     "metadata": {},
     "output_type": "display_data"
    },
    {
     "name": "stdout",
     "output_type": "stream",
     "text": [
      "--------------------------------------------------\n"
     ]
    },
    {
     "data": {
      "text/markdown": [
       "### Hamlet"
      ],
      "text/plain": [
       "<IPython.core.display.Markdown object>"
      ]
     },
     "metadata": {},
     "output_type": "display_data"
    },
    {
     "data": {
      "text/markdown": [
       "fix'd His canon 'gainst self-slaughter! O God! O God! How <span style=\"color: blue\">weary, stale, flat, and unprofitable Seem to me all the uses</span> of this world! Fie on't! O fie! 'tis an unweeded garden, That grows to seed; things rank"
      ],
      "text/plain": [
       "<IPython.core.display.Markdown object>"
      ]
     },
     "metadata": {},
     "output_type": "display_data"
    },
    {
     "data": {
      "text/markdown": [
       "### A Cuban Amazon: By Virginia Lyndall Dunbar …"
      ],
      "text/plain": [
       "<IPython.core.display.Markdown object>"
      ]
     },
     "metadata": {},
     "output_type": "display_data"
    },
    {
     "data": {
      "text/markdown": [
       "<small>Dunbar, Virginia Lyndall</small>"
      ],
      "text/plain": [
       "<IPython.core.display.Markdown object>"
      ]
     },
     "metadata": {},
     "output_type": "display_data"
    },
    {
     "data": {
      "text/markdown": [
       "influence of Berrez. CHAPTER XXV. “ For this relief, much thanks, t I am sick at heart.” —Shakespeare. “ How <span style=\"color: blue\">weary, stale, flat, and unprofitable Seem to me all the uses</span> of this world.” —Ibid. For two weeks Evangeline was forced to endure her horrible surroundings. The misery about her appealed to her woman"
      ],
      "text/plain": [
       "<IPython.core.display.Markdown object>"
      ]
     },
     "metadata": {},
     "output_type": "display_data"
    },
    {
     "name": "stdout",
     "output_type": "stream",
     "text": [
      "--------------------------------------------------\n"
     ]
    },
    {
     "data": {
      "text/markdown": [
       "### Hamlet"
      ],
      "text/plain": [
       "<IPython.core.display.Markdown object>"
      ]
     },
     "metadata": {},
     "output_type": "display_data"
    },
    {
     "data": {
      "text/markdown": [
       "sick at the act. Queen. Ah me, what act, That roars so loud, and thunders in the index? Ham. Look here <span style=\"color: blue\">upon this picture, and on this,-- The counterfeit presentment of two brothers</span>. See what a grace was seated on this brow; Hyperion's curls; the front of Jove himself; An eye"
      ],
      "text/plain": [
       "<IPython.core.display.Markdown object>"
      ]
     },
     "metadata": {},
     "output_type": "display_data"
    },
    {
     "data": {
      "text/markdown": [
       "### Opportunity: A Novel: By Anne Moncure Crane …"
      ],
      "text/plain": [
       "<IPython.core.display.Markdown object>"
      ]
     },
     "metadata": {},
     "output_type": "display_data"
    },
    {
     "data": {
      "text/markdown": [
       "<small>Seemüller, Anne Moncure Crane</small>"
      ],
      "text/plain": [
       "<IPython.core.display.Markdown object>"
      ]
     },
     "metadata": {},
     "output_type": "display_data"
    },
    {
     "data": {
      "text/markdown": [
       "Cambridge. .-.ifei;. „.vO ä.* Jer. то J. M. c. WITH GRATITUDE. OPPORTUNITY. —·— CHAPTER I. “ Look here, <span style=\"color: blue\">upon this picture, and on this ; The counterfeit presentment of two brothers</span>.” Hamlet. “ Г1ШЕ hills and vales of pleasant Maryland,” -L quoth a correspondent of the London Times"
      ],
      "text/plain": [
       "<IPython.core.display.Markdown object>"
      ]
     },
     "metadata": {},
     "output_type": "display_data"
    },
    {
     "name": "stdout",
     "output_type": "stream",
     "text": [
      "--------------------------------------------------\n"
     ]
    },
    {
     "data": {
      "text/markdown": [
       "### Hamlet"
      ],
      "text/plain": [
       "<IPython.core.display.Markdown object>"
      ]
     },
     "metadata": {},
     "output_type": "display_data"
    },
    {
     "data": {
      "text/markdown": [
       "d hard upon. Ham. Thrift, thrift, Horatio! The funeral bak'd <span style=\"color: blue\">meats Did coldly furnish forth the marriage</span> tables. Would I had met my dearest foe in heaven Or ever I had seen that day, Horatio!-- My father,--methinks I see my father"
      ],
      "text/plain": [
       "<IPython.core.display.Markdown object>"
      ]
     },
     "metadata": {},
     "output_type": "display_data"
    },
    {
     "data": {
      "text/markdown": [
       "### Contrasts: By M. R. Grendel"
      ],
      "text/plain": [
       "<IPython.core.display.Markdown object>"
      ]
     },
     "metadata": {},
     "output_type": "display_data"
    },
    {
     "data": {
      "text/markdown": [
       "<small>Grendel, M. R.</small>"
      ],
      "text/plain": [
       "<IPython.core.display.Markdown object>"
      ]
     },
     "metadata": {},
     "output_type": "display_data"
    },
    {
     "data": {
      "text/markdown": [
       "months. Yes, six months is ample. Some stupid young thing would be my successor in less than that time. ‘The funeral baked <span style=\"color: blue\">meats would coldly furnish forth the marriage</span> table,’ as a man of some notoriety once wrote. Tom’s grief would be temporarily, very temporarily poured"
      ],
      "text/plain": [
       "<IPython.core.display.Markdown object>"
      ]
     },
     "metadata": {},
     "output_type": "display_data"
    },
    {
     "name": "stdout",
     "output_type": "stream",
     "text": [
      "--------------------------------------------------\n"
     ]
    },
    {
     "data": {
      "text/markdown": [
       "### Hamlet"
      ],
      "text/plain": [
       "<IPython.core.display.Markdown object>"
      ]
     },
     "metadata": {},
     "output_type": "display_data"
    },
    {
     "data": {
      "text/markdown": [
       "arrows of outrageous fortune Or to take arms against a sea of troubles, And by opposing end them?--To die,--to sleep,-- No more; and by a <span style=\"color: blue\">sleep to say we end The heartache, and the thousand natural shocks That flesh is heir to,--'tis a consummation Devoutly</span> to be wish'd. To die,--to sleep;-- To sleep! perchance to dream:--ay, there's the rub"
      ],
      "text/plain": [
       "<IPython.core.display.Markdown object>"
      ]
     },
     "metadata": {},
     "output_type": "display_data"
    },
    {
     "data": {
      "text/markdown": [
       "### Dreams within Dreams: A Plagiarism of the Seventeenth Century; Being like Most Visions of the Night, a Medley of Old Things and New: By Ulric De Lazie"
      ],
      "text/plain": [
       "<IPython.core.display.Markdown object>"
      ]
     },
     "metadata": {},
     "output_type": "display_data"
    },
    {
     "data": {
      "text/markdown": [
       "<small>De Lazie, Ulric</small>"
      ],
      "text/plain": [
       "<IPython.core.display.Markdown object>"
      ]
     },
     "metadata": {},
     "output_type": "display_data"
    },
    {
     "data": {
      "text/markdown": [
       "inhabit the land. I shall seek in sleep a Lethean refuge from the ennui of these inhospitable shores : “ And by a <span style=\"color: blue\">sleep to say we end The heartache, and the thousand natural shocks That flesh is heir to. ’Tis a consummation Devoutly</span> to be wished.” Indeed it is. I thank thee, Shakspeare! Yet sleep comes not always at a mortal’s"
      ],
      "text/plain": [
       "<IPython.core.display.Markdown object>"
      ]
     },
     "metadata": {},
     "output_type": "display_data"
    },
    {
     "name": "stdout",
     "output_type": "stream",
     "text": [
      "--------------------------------------------------\n"
     ]
    },
    {
     "data": {
      "text/markdown": [
       "### Hamlet"
      ],
      "text/plain": [
       "<IPython.core.display.Markdown object>"
      ]
     },
     "metadata": {},
     "output_type": "display_data"
    },
    {
     "data": {
      "text/markdown": [
       "prais'd be rashness for it,--let us know, Our indiscretion sometime serves us well, When our deep plots do fail; and that should teach us There' <span style=\"color: blue\">s a divinity that shapes our ends, Rough-hew</span> them how we will. Hor. That is most certain. Ham. Up from my cabin, My sea-gown scarf'd about me, in the dark Grop"
      ],
      "text/plain": [
       "<IPython.core.display.Markdown object>"
      ]
     },
     "metadata": {},
     "output_type": "display_data"
    },
    {
     "data": {
      "text/markdown": [
       "### Woman's Faith: A Tale of Southern Life"
      ],
      "text/plain": [
       "<IPython.core.display.Markdown object>"
      ]
     },
     "metadata": {},
     "output_type": "display_data"
    },
    {
     "data": {
      "text/markdown": [
       "<small>None</small>"
      ],
      "text/plain": [
       "<IPython.core.display.Markdown object>"
      ]
     },
     "metadata": {},
     "output_type": "display_data"
    },
    {
     "data": {
      "text/markdown": [
       "con¬ spiracy, that Providence had placed in my hand, this clear con¬ firmation of the position that I had taken. “ ‘ There' <span style=\"color: blue\">s a divinity that shapes our ends, Rough hew</span> them how we will.’ “ I need detain you no longer, for I read in the expression of the face, in the deep indignation which all may see, is swelling the breast of him, who has presided"
      ],
      "text/plain": [
       "<IPython.core.display.Markdown object>"
      ]
     },
     "metadata": {},
     "output_type": "display_data"
    },
    {
     "name": "stdout",
     "output_type": "stream",
     "text": [
      "--------------------------------------------------\n"
     ]
    },
    {
     "data": {
      "text/markdown": [
       "### Hamlet"
      ],
      "text/plain": [
       "<IPython.core.display.Markdown object>"
      ]
     },
     "metadata": {},
     "output_type": "display_data"
    },
    {
     "data": {
      "text/markdown": [
       "Rashly, And prais'd be rashness for it,--let us know, Our indiscretion sometime serves us well, When our deep plots do fail; and that should <span style=\"color: blue\">teach us There's a divinity that shapes our ends, Rough-hew</span> them how we will. Hor. That is most certain. Ham. Up from my cabin, My sea-gown scarf'd about me, in the dark Grop"
      ],
      "text/plain": [
       "<IPython.core.display.Markdown object>"
      ]
     },
     "metadata": {},
     "output_type": "display_data"
    },
    {
     "data": {
      "text/markdown": [
       "### Endura: Or, Three Generations: A New England Romance: B. P. Moore"
      ],
      "text/plain": [
       "<IPython.core.display.Markdown object>"
      ]
     },
     "metadata": {},
     "output_type": "display_data"
    },
    {
     "data": {
      "text/markdown": [
       "<small>Moore, B. P.</small>"
      ],
      "text/plain": [
       "<IPython.core.display.Markdown object>"
      ]
     },
     "metadata": {},
     "output_type": "display_data"
    },
    {
     "data": {
      "text/markdown": [
       "edge which was destined to change the current of our lives. It was thrust upon me, and I profited by the hi nts which another might have done as well ; ‘ And that should <span style=\"color: blue\">teach us there’s a divinity that shapes our ends, rough hew</span> them how we will.’” It was the evening of the Sabbath, the day following would bring its cares. CHAPTER XXVIII. I AM YOURS, HEART AND SOUL"
      ],
      "text/plain": [
       "<IPython.core.display.Markdown object>"
      ]
     },
     "metadata": {},
     "output_type": "display_data"
    },
    {
     "name": "stdout",
     "output_type": "stream",
     "text": [
      "--------------------------------------------------\n"
     ]
    },
    {
     "data": {
      "text/markdown": [
       "### Hamlet"
      ],
      "text/plain": [
       "<IPython.core.display.Markdown object>"
      ]
     },
     "metadata": {},
     "output_type": "display_data"
    },
    {
     "data": {
      "text/markdown": [
       "eyelids will no longer wag. Queen. O my son, what theme? Ham. I lov'd <span style=\"color: blue\">Ophelia; forty thousand brothers Could not, with all their quantity of love, Make up my sum</span>.--What wilt thou do for her? King. O, he is mad, Laertes. Queen. For love of God, forbear him! Ham"
      ],
      "text/plain": [
       "<IPython.core.display.Markdown object>"
      ]
     },
     "metadata": {},
     "output_type": "display_data"
    },
    {
     "data": {
      "text/markdown": [
       "### De Vane: A Story of Plebeians and Patricians: By Henry W. Hilliard …"
      ],
      "text/plain": [
       "<IPython.core.display.Markdown object>"
      ]
     },
     "metadata": {},
     "output_type": "display_data"
    },
    {
     "data": {
      "text/markdown": [
       "<small>Hilliard, Henry W. (Henry Washington)</small>"
      ],
      "text/plain": [
       "<IPython.core.display.Markdown object>"
      ]
     },
     "metadata": {},
     "output_type": "display_data"
    },
    {
     "data": {
      "text/markdown": [
       "weets to the sweet : Farewell 1 * n “ Poor Hamlet !” said De Vane, “ he could only exclaim : ‘I loved O <span style=\"color: blue\">phelia: forty thousand brothers Could not, with all their quantity of love, Make up my sum.</span>’ His love was too intense even for the tribute of flowers !” “It is often so in deep grief,” said Mn. Springfield. “ But when the grief is somewhat"
      ],
      "text/plain": [
       "<IPython.core.display.Markdown object>"
      ]
     },
     "metadata": {},
     "output_type": "display_data"
    },
    {
     "name": "stdout",
     "output_type": "stream",
     "text": [
      "--------------------------------------------------\n"
     ]
    },
    {
     "data": {
      "text/markdown": [
       "### Hamlet"
      ],
      "text/plain": [
       "<IPython.core.display.Markdown object>"
      ]
     },
     "metadata": {},
     "output_type": "display_data"
    },
    {
     "data": {
      "text/markdown": [
       "recks not his own read. Laer. O, fear me not. I stay too long:--but here my father comes. [Enter Polonius.] A <span style=\"color: blue\">double blessing is a double grace; Occasion smiles upon a second leave</span>. Pol. Yet here, Laertes! aboard, aboard, for shame! The wind sits in the shoulder of your sail"
      ],
      "text/plain": [
       "<IPython.core.display.Markdown object>"
      ]
     },
     "metadata": {},
     "output_type": "display_data"
    },
    {
     "data": {
      "text/markdown": [
       "### Tokeah: Or, the White Rose..: Charles Sealsfield"
      ],
      "text/plain": [
       "<IPython.core.display.Markdown object>"
      ]
     },
     "metadata": {},
     "output_type": "display_data"
    },
    {
     "data": {
      "text/markdown": [
       "<small>Sealsfield, Charles</small>"
      ],
      "text/plain": [
       "<IPython.core.display.Markdown object>"
      ]
     },
     "metadata": {},
     "output_type": "display_data"
    },
    {
     "data": {
      "text/markdown": [
       "efs again left the saloon, followed by the orderly, who con¬ ducted them to their lodgings. CHAPTER XIV. A dou <span style=\"color: blue\">ble blessing is a double grace, Occasion smiles upon a second leave. ,</span> V . Shakspeare. ■ щ ■>' - ·■'' ■ 4 The night passed to both our parties, in a state of mind'little different from that of a prisoner of war, w"
      ],
      "text/plain": [
       "<IPython.core.display.Markdown object>"
      ]
     },
     "metadata": {},
     "output_type": "display_data"
    },
    {
     "name": "stdout",
     "output_type": "stream",
     "text": [
      "--------------------------------------------------\n"
     ]
    },
    {
     "data": {
      "text/markdown": [
       "### Hamlet"
      ],
      "text/plain": [
       "<IPython.core.display.Markdown object>"
      ]
     },
     "metadata": {},
     "output_type": "display_data"
    },
    {
     "data": {
      "text/markdown": [
       "radiant angel link'd, Will sate itself in a celestial bed And prey on garbage. But <span style=\"color: blue\">soft! methinks I scent the morning air</span>; Brief let me be.--Sleeping within my orchard, My custom always of the afternoon, Upon my secure hour thy"
      ],
      "text/plain": [
       "<IPython.core.display.Markdown object>"
      ]
     },
     "metadata": {},
     "output_type": "display_data"
    },
    {
     "data": {
      "text/markdown": [
       "### The Forsaken: A Tale: By the Author of \"Caius Marius,\" \"The Deformed,\" [etc.]"
      ],
      "text/plain": [
       "<IPython.core.display.Markdown object>"
      ]
     },
     "metadata": {},
     "output_type": "display_data"
    },
    {
     "data": {
      "text/markdown": [
       "<small>Smith, Richard Penn</small>"
      ],
      "text/plain": [
       "<IPython.core.display.Markdown object>"
      ]
     },
     "metadata": {},
     "output_type": "display_data"
    },
    {
     "data": {
      "text/markdown": [
       "hunders of applause, concluded I gave ge¬ neral satisfaction, until I came to the line— ‘ But, s <span style=\"color: blue\">oft ! methinks I scent the morning air’</span>— where I followed Hamlet’s advice, and literally suited the action to the word, for I stalked about the stage,"
      ],
      "text/plain": [
       "<IPython.core.display.Markdown object>"
      ]
     },
     "metadata": {},
     "output_type": "display_data"
    },
    {
     "name": "stdout",
     "output_type": "stream",
     "text": [
      "--------------------------------------------------\n"
     ]
    },
    {
     "data": {
      "text/markdown": [
       "### Hamlet"
      ],
      "text/plain": [
       "<IPython.core.display.Markdown object>"
      ]
     },
     "metadata": {},
     "output_type": "display_data"
    },
    {
     "data": {
      "text/markdown": [
       "Unhous'led, disappointed, unanel'd; No reckoning made, but sent to my account With all my imperfections on my head: <span style=\"color: blue\">O, horrible! O, horrible! most horrible</span>! If thou hast nature in thee, bear it not; Let not the royal bed of Denmark be A couch for luxury"
      ],
      "text/plain": [
       "<IPython.core.display.Markdown object>"
      ]
     },
     "metadata": {},
     "output_type": "display_data"
    },
    {
     "data": {
      "text/markdown": [
       "### The Forsaken: A Tale: By the Author of \"Caius Marius,\" \"The Deformed,\" [etc.]"
      ],
      "text/plain": [
       "<IPython.core.display.Markdown object>"
      ]
     },
     "metadata": {},
     "output_type": "display_data"
    },
    {
     "data": {
      "text/markdown": [
       "<small>Smith, Richard Penn</small>"
      ],
      "text/plain": [
       "<IPython.core.display.Markdown object>"
      ]
     },
     "metadata": {},
     "output_type": "display_data"
    },
    {
     "data": {
      "text/markdown": [
       "ontinued M‘Druid, “ and so I went on with even greater spirit, until the poor Ghost cries out— * O <span style=\"color: blue\">, horrible ! O, horrible ! most horrible</span>!’ I had no sooner delivered this line, than a tall Ulster¬ man, with a brogue as thick as my leg, stood up in the pit,"
      ],
      "text/plain": [
       "<IPython.core.display.Markdown object>"
      ]
     },
     "metadata": {},
     "output_type": "display_data"
    },
    {
     "name": "stdout",
     "output_type": "stream",
     "text": [
      "--------------------------------------------------\n"
     ]
    },
    {
     "data": {
      "text/markdown": [
       "### Hamlet"
      ],
      "text/plain": [
       "<IPython.core.display.Markdown object>"
      ]
     },
     "metadata": {},
     "output_type": "display_data"
    },
    {
     "data": {
      "text/markdown": [
       "d hard upon. Ham. Thrift, thrift, Horatio! The funeral bak'd <span style=\"color: blue\">meats Did coldly furnish forth the marriage tables</span>. Would I had met my dearest foe in heaven Or ever I had seen that day, Horatio!-- My father,--methinks I see my father. Hor"
      ],
      "text/plain": [
       "<IPython.core.display.Markdown object>"
      ]
     },
     "metadata": {},
     "output_type": "display_data"
    },
    {
     "data": {
      "text/markdown": [
       "### Trifleton Papers: By Trifle and the Editor [Pseuds. Of Warren Tilton and Wm. A. Crafts]"
      ],
      "text/plain": [
       "<IPython.core.display.Markdown object>"
      ]
     },
     "metadata": {},
     "output_type": "display_data"
    },
    {
     "data": {
      "text/markdown": [
       "<small>Trifle</small>"
      ],
      "text/plain": [
       "<IPython.core.display.Markdown object>"
      ]
     },
     "metadata": {},
     "output_type": "display_data"
    },
    {
     "data": {
      "text/markdown": [
       "ex , what said the Dane ? “ But two months dead ! Nay, not so much, not two ; ” and then again, “ Thrift, thrift, Horatio ; the funeral baked <span style=\"color: blue\">meats did coldly furnish forth the marriage tables</span>.” I think so, Hamlet, most decidedly ! You had a right to be most stupendously indignant about it. “ What’s to be done ? ” “ what’s to be done ? ” you asked very naturally, but I never could make out that you did much. The fact is, Hamlet"
      ],
      "text/plain": [
       "<IPython.core.display.Markdown object>"
      ]
     },
     "metadata": {},
     "output_type": "display_data"
    },
    {
     "name": "stdout",
     "output_type": "stream",
     "text": [
      "--------------------------------------------------\n"
     ]
    },
    {
     "data": {
      "text/markdown": [
       "### Hamlet"
      ],
      "text/plain": [
       "<IPython.core.display.Markdown object>"
      ]
     },
     "metadata": {},
     "output_type": "display_data"
    },
    {
     "data": {
      "text/markdown": [
       "proud, revengeful, ambitious; with more offences at my beck than I have thoughts to put them in, imagination to give them shape, or time to act them in. What should such <span style=\"color: blue\">fellows as I do crawling between earth and heaven</span>? We are arrant knaves, all; believe none of us. Go thy ways to a nunnery. Where's your father? Oph"
      ],
      "text/plain": [
       "<IPython.core.display.Markdown object>"
      ]
     },
     "metadata": {},
     "output_type": "display_data"
    },
    {
     "data": {
      "text/markdown": [
       "### Trifleton Papers: By Trifle and the Editor [Pseuds. Of Warren Tilton and Wm. A. Crafts]"
      ],
      "text/plain": [
       "<IPython.core.display.Markdown object>"
      ]
     },
     "metadata": {},
     "output_type": "display_data"
    },
    {
     "data": {
      "text/markdown": [
       "<small>Trifle</small>"
      ],
      "text/plain": [
       "<IPython.core.display.Markdown object>"
      ]
     },
     "metadata": {},
     "output_type": "display_data"
    },
    {
     "data": {
      "text/markdown": [
       "t therefore know much about it. The great question with him was “ To be or not to be.” A very serious question, truly ; but if he had been a sane, practical man, he need not have made such a fuss about it, exclaiming “ What should such <span style=\"color: blue\">fellows as I do crawling between earth and heaven</span>!” He might have settled it all “ with a bare bodkin.” Moreover, he behaved very shabbily towards Ophelia, who also went mad"
      ],
      "text/plain": [
       "<IPython.core.display.Markdown object>"
      ]
     },
     "metadata": {},
     "output_type": "display_data"
    },
    {
     "name": "stdout",
     "output_type": "stream",
     "text": [
      "--------------------------------------------------\n"
     ]
    },
    {
     "data": {
      "text/markdown": [
       "### Hamlet"
      ],
      "text/plain": [
       "<IPython.core.display.Markdown object>"
      ]
     },
     "metadata": {},
     "output_type": "display_data"
    },
    {
     "data": {
      "text/markdown": [
       "heavens! Ham. If thou dost marry, I'll give thee this plague for thy dowry,-- be <span style=\"color: blue\">thou as chaste as ice, as pure as snow, thou shalt not escape calumny</span>. Get thee to a nunnery, go: farewell. Or, if thou wilt needs marry, marry a fool; for wise"
      ],
      "text/plain": [
       "<IPython.core.display.Markdown object>"
      ]
     },
     "metadata": {},
     "output_type": "display_data"
    },
    {
     "data": {
      "text/markdown": [
       "### Maiden Rachel: By Ella A. Giles"
      ],
      "text/plain": [
       "<IPython.core.display.Markdown object>"
      ]
     },
     "metadata": {},
     "output_type": "display_data"
    },
    {
     "data": {
      "text/markdown": [
       "<small>Ruddy, Ella Giles</small>"
      ],
      "text/plain": [
       "<IPython.core.display.Markdown object>"
      ]
     },
     "metadata": {},
     "output_type": "display_data"
    },
    {
     "data": {
      "text/markdown": [
       "uthoress sends out this, her second successful effort in fiction, the volume bearing the Shaksperian motto — “ Be t <span style=\"color: blue\">hou as chaste as ice, as pure as snow, Thou shalt not escape calumny.</span>” And this couplet will foreshadow the touching and well-written story bound op in this elegant volume of heavy"
      ],
      "text/plain": [
       "<IPython.core.display.Markdown object>"
      ]
     },
     "metadata": {},
     "output_type": "display_data"
    },
    {
     "name": "stdout",
     "output_type": "stream",
     "text": [
      "--------------------------------------------------\n"
     ]
    },
    {
     "data": {
      "text/markdown": [
       "### Hamlet"
      ],
      "text/plain": [
       "<IPython.core.display.Markdown object>"
      ]
     },
     "metadata": {},
     "output_type": "display_data"
    },
    {
     "data": {
      "text/markdown": [
       "thoughts no tongue, Nor any unproportion'd thought his act. Be thou familiar, but by no means vulgar. Those <span style=\"color: blue\">friends thou hast, and their adoption tried, Grapple</span> them unto thy soul with hoops of steel; But do not dull thy palm with entertainment Of each"
      ],
      "text/plain": [
       "<IPython.core.display.Markdown object>"
      ]
     },
     "metadata": {},
     "output_type": "display_data"
    },
    {
     "data": {
      "text/markdown": [
       "### The Fighting Bishop: By Herbert M. Hopkins"
      ],
      "text/plain": [
       "<IPython.core.display.Markdown object>"
      ]
     },
     "metadata": {},
     "output_type": "display_data"
    },
    {
     "data": {
      "text/markdown": [
       "<small>Hopkins, Herbert M. (Herbert Müller)</small>"
      ],
      "text/plain": [
       "<IPython.core.display.Markdown object>"
      ]
     },
     "metadata": {},
     "output_type": "display_data"
    },
    {
     "data": {
      "text/markdown": [
       "ompany, Indianapolis A FINE STORY OF THE COWBOY AT HIS BEST WITH HOOPS of STEEL By FLORENCE FINCH KELLY “ The f <span style=\"color: blue\">riends thou hast, and their adoption tried, Grapple</span> them to thy soul with hoops of steel ” From tbe San Francisco Chronicle : “Western men"
      ],
      "text/plain": [
       "<IPython.core.display.Markdown object>"
      ]
     },
     "metadata": {},
     "output_type": "display_data"
    },
    {
     "name": "stdout",
     "output_type": "stream",
     "text": [
      "--------------------------------------------------\n"
     ]
    },
    {
     "data": {
      "text/markdown": [
       "### Hamlet"
      ],
      "text/plain": [
       "<IPython.core.display.Markdown object>"
      ]
     },
     "metadata": {},
     "output_type": "display_data"
    },
    {
     "data": {
      "text/markdown": [
       "thine ear, but few thy voice: Take each man's censure, but reserve thy judgment. <span style=\"color: blue\">Costly thy habit as thy purse can buy</span>, But not express'd in fancy; rich, not gaudy: For the apparel oft proclaims the man; And they in France of the best rank"
      ],
      "text/plain": [
       "<IPython.core.display.Markdown object>"
      ]
     },
     "metadata": {},
     "output_type": "display_data"
    },
    {
     "data": {
      "text/markdown": [
       "### Oakum Pickings: A Collection of Stories, Sketches, and Paragraphs Contributed from Time to Time to the Telegraphic and General Press: By John Oakum"
      ],
      "text/plain": [
       "<IPython.core.display.Markdown object>"
      ]
     },
     "metadata": {},
     "output_type": "display_data"
    },
    {
     "data": {
      "text/markdown": [
       "<small>Phillips, Walter Polk</small>"
      ],
      "text/plain": [
       "<IPython.core.display.Markdown object>"
      ]
     },
     "metadata": {},
     "output_type": "display_data"
    },
    {
     "data": {
      "text/markdown": [
       "telegraph girl. But, pshaw! ‘Worth makes the man, the want of it the fellow,’ Pope says. And old Polonius said to Laertes, ‘ <span style=\"color: blue\">Costly thy habit as thy purse can buy</span>—neat but not gaudy.’ Egad, that’s me. Costly as my purse can buy—been out of funds for three months — trunk"
      ],
      "text/plain": [
       "<IPython.core.display.Markdown object>"
      ]
     },
     "metadata": {},
     "output_type": "display_data"
    },
    {
     "name": "stdout",
     "output_type": "stream",
     "text": [
      "--------------------------------------------------\n"
     ]
    },
    {
     "data": {
      "text/markdown": [
       "### Hamlet"
      ],
      "text/plain": [
       "<IPython.core.display.Markdown object>"
      ]
     },
     "metadata": {},
     "output_type": "display_data"
    },
    {
     "data": {
      "text/markdown": [
       "heavens! Ham. If thou dost marry, I'll give thee this plague for thy dowry,-- be <span style=\"color: blue\">thou as chaste as ice, as pure as snow, thou</span> shalt not escape calumny. Get thee to a nunnery, go: farewell. Or, if thou wilt needs marry"
      ],
      "text/plain": [
       "<IPython.core.display.Markdown object>"
      ]
     },
     "metadata": {},
     "output_type": "display_data"
    },
    {
     "data": {
      "text/markdown": [
       "### Oakum Pickings: A Collection of Stories, Sketches, and Paragraphs Contributed from Time to Time to the Telegraphic and General Press: By John Oakum"
      ],
      "text/plain": [
       "<IPython.core.display.Markdown object>"
      ]
     },
     "metadata": {},
     "output_type": "display_data"
    },
    {
     "data": {
      "text/markdown": [
       "<small>Phillips, Walter Polk</small>"
      ],
      "text/plain": [
       "<IPython.core.display.Markdown object>"
      ]
     },
     "metadata": {},
     "output_type": "display_data"
    },
    {
     "data": {
      "text/markdown": [
       "uds three times.” But you know what lago or Othello or Desdemona or some other of those misguided people who figure in the “Moor of Yenice” says: “ Be t <span style=\"color: blue\">hou chaste as ice, as pure as snow, Thou</span> shall not escape calumny.” Sam was no exception to this rule. With all his endeavors to run the thing ship-shape,"
      ],
      "text/plain": [
       "<IPython.core.display.Markdown object>"
      ]
     },
     "metadata": {},
     "output_type": "display_data"
    },
    {
     "name": "stdout",
     "output_type": "stream",
     "text": [
      "--------------------------------------------------\n"
     ]
    },
    {
     "data": {
      "text/markdown": [
       "### Hamlet"
      ],
      "text/plain": [
       "<IPython.core.display.Markdown object>"
      ]
     },
     "metadata": {},
     "output_type": "display_data"
    },
    {
     "data": {
      "text/markdown": [
       "s spirit in arms! All is not well; I doubt some foul play: would the night were come! Till then sit still, my soul: <span style=\"color: blue\">foul deeds will rise, Though all the earth o'erwhelm them, to men's</span> eyes. [Exit.] Scene III. A room in Polonius's house. [Enter Laertes and Ophelia"
      ],
      "text/plain": [
       "<IPython.core.display.Markdown object>"
      ]
     },
     "metadata": {},
     "output_type": "display_data"
    },
    {
     "data": {
      "text/markdown": [
       "### Philip: Or, the Mollie's Secret: A Tale of the Coal Regions: By Patrick Justin McMahon …"
      ],
      "text/plain": [
       "<IPython.core.display.Markdown object>"
      ]
     },
     "metadata": {},
     "output_type": "display_data"
    },
    {
     "data": {
      "text/markdown": [
       "<small>McMahon, Patrick Justin</small>"
      ],
      "text/plain": [
       "<IPython.core.display.Markdown object>"
      ]
     },
     "metadata": {},
     "output_type": "display_data"
    },
    {
     "data": {
      "text/markdown": [
       "occupied her mind ; so deferring the task to another day, she left the garden, and retired to her room. CHAPTER XVIII. <span style=\"color: blue\">Foul deeds will rise, Though all the earth o’erwhelm them, to men’s</span> tyés. Shakespeare. T a late hour one night Will Harley was re¬ turning"
      ],
      "text/plain": [
       "<IPython.core.display.Markdown object>"
      ]
     },
     "metadata": {},
     "output_type": "display_data"
    },
    {
     "name": "stdout",
     "output_type": "stream",
     "text": [
      "--------------------------------------------------\n"
     ]
    },
    {
     "data": {
      "text/markdown": [
       "### Hamlet"
      ],
      "text/plain": [
       "<IPython.core.display.Markdown object>"
      ]
     },
     "metadata": {},
     "output_type": "display_data"
    },
    {
     "data": {
      "text/markdown": [
       "playing, whose end, both at the first and now, was and is, to hold, as 'twere, the mirror up to nature; to show virtue her own image, scorn her own <span style=\"color: blue\">image, and the very age and body of the time his form and pressure</span>. Now, this overdone, or come tardy off, though it make the unskilful laugh, cannot but make the judicious grieve; the censure of the which one must"
      ],
      "text/plain": [
       "<IPython.core.display.Markdown object>"
      ]
     },
     "metadata": {},
     "output_type": "display_data"
    },
    {
     "data": {
      "text/markdown": [
       "### The Master Builder, or, Life at a Trade: By Day Kellogg Lee"
      ],
      "text/plain": [
       "<IPython.core.display.Markdown object>"
      ]
     },
     "metadata": {},
     "output_type": "display_data"
    },
    {
     "data": {
      "text/markdown": [
       "<small>Lee, Day Kellogg</small>"
      ],
      "text/plain": [
       "<IPython.core.display.Markdown object>"
      ]
     },
     "metadata": {},
     "output_type": "display_data"
    },
    {
     "data": {
      "text/markdown": [
       "tures and dramas were daily before them, “ holding the mirror up to Nature ; showing Virtue her own feature, Vice her own <span style=\"color: blue\">image, and the very age and body of the time, its form and pressure</span>.” Arthur was successful in his profession, and sent frequent assistance to the Tylers, and frequent joy to his friends"
      ],
      "text/plain": [
       "<IPython.core.display.Markdown object>"
      ]
     },
     "metadata": {},
     "output_type": "display_data"
    },
    {
     "name": "stdout",
     "output_type": "stream",
     "text": [
      "--------------------------------------------------\n"
     ]
    },
    {
     "data": {
      "text/markdown": [
       "### Hamlet"
      ],
      "text/plain": [
       "<IPython.core.display.Markdown object>"
      ]
     },
     "metadata": {},
     "output_type": "display_data"
    },
    {
     "data": {
      "text/markdown": [
       "false steward, that stole his master's daughter. Laer. This nothing's more than matter. Oph. There' <span style=\"color: blue\">s rosemary, that's for remembrance; pray, love, remember</span>: and there is pansies, that's for thoughts. Laer. A document in madness,--thoughts and remembrance fitted. Oph"
      ],
      "text/plain": [
       "<IPython.core.display.Markdown object>"
      ]
     },
     "metadata": {},
     "output_type": "display_data"
    },
    {
     "data": {
      "text/markdown": [
       "### Rosemary, or, Life and Death: By J. Vincent Huntington; Illustrated by Geo. G. White"
      ],
      "text/plain": [
       "<IPython.core.display.Markdown object>"
      ]
     },
     "metadata": {},
     "output_type": "display_data"
    },
    {
     "data": {
      "text/markdown": [
       "<small>Huntington, J. V. (Jedediah Vincent)</small>"
      ],
      "text/plain": [
       "<IPython.core.display.Markdown object>"
      ]
     },
     "metadata": {},
     "output_type": "display_data"
    },
    {
     "data": {
      "text/markdown": [
       "eminently a lover’s plant, and mention made of it in all the amatory poetry bothof the French and Germans. “There’ <span style=\"color: blue\">s rosemary 7 , that’s for remembrance ; ’pray you. love, « remember</span>,” says Ophelia to Laertes. Another meaning is fide¬ lity and constancy 7 . Its funeral use, as also its amatory signifi"
      ],
      "text/plain": [
       "<IPython.core.display.Markdown object>"
      ]
     },
     "metadata": {},
     "output_type": "display_data"
    },
    {
     "name": "stdout",
     "output_type": "stream",
     "text": [
      "--------------------------------------------------\n"
     ]
    },
    {
     "data": {
      "text/markdown": [
       "### Hamlet"
      ],
      "text/plain": [
       "<IPython.core.display.Markdown object>"
      ]
     },
     "metadata": {},
     "output_type": "display_data"
    },
    {
     "data": {
      "text/markdown": [
       "playing, whose end, both at the first and now, was and is, to hold, as 'twere, the mirror up to nature; to show virtue her own image, scorn her own <span style=\"color: blue\">image, and the very age and body of the time his form and pressure</span>. Now, this overdone, or come tardy off, though it make the unskilful laugh, cannot but make the judicious grieve; the censure of the which one must"
      ],
      "text/plain": [
       "<IPython.core.display.Markdown object>"
      ]
     },
     "metadata": {},
     "output_type": "display_data"
    },
    {
     "data": {
      "text/markdown": [
       "### Life in Town: Or, the Boston Spy: Being a Series of Sketches Illustrative of Whims and Women in the 'athens of America': By an Athenian"
      ],
      "text/plain": [
       "<IPython.core.display.Markdown object>"
      ]
     },
     "metadata": {},
     "output_type": "display_data"
    },
    {
     "data": {
      "text/markdown": [
       "<small>None</small>"
      ],
      "text/plain": [
       "<IPython.core.display.Markdown object>"
      ]
     },
     "metadata": {},
     "output_type": "display_data"
    },
    {
     "data": {
      "text/markdown": [
       "MIRROR TT TO NATURE: TO SHOW VIRTUE 1IF.R OWN FEATURE, SCORN I*l'R OWN <span style=\"color: blue\">IMAGE, AND THE VERY AGE AND BODY OF THE TIME. ITS FORM AND PRESSURE</span>=£0^3= BOSTON: REDDING AND COMPANY. NEW YORK: BURGESS & STRINGER PHILADELPHIA: G. B. ZIEBER"
      ],
      "text/plain": [
       "<IPython.core.display.Markdown object>"
      ]
     },
     "metadata": {},
     "output_type": "display_data"
    },
    {
     "name": "stdout",
     "output_type": "stream",
     "text": [
      "--------------------------------------------------\n"
     ]
    },
    {
     "data": {
      "text/markdown": [
       "### Hamlet"
      ],
      "text/plain": [
       "<IPython.core.display.Markdown object>"
      ]
     },
     "metadata": {},
     "output_type": "display_data"
    },
    {
     "data": {
      "text/markdown": [
       "friends. Hor. O day and night, but this is wondrous strange! Ham. And therefore as a stranger give it welcome. There are more things in <span style=\"color: blue\">heaven and earth, Horatio, Than are dreamt of in your philosophy</span>. But come;-- Here, as before, never, so help you mercy, How strange or odd soe'er I bear myself,-- As I, perchance, hereafter shall"
      ],
      "text/plain": [
       "<IPython.core.display.Markdown object>"
      ]
     },
     "metadata": {},
     "output_type": "display_data"
    },
    {
     "data": {
      "text/markdown": [
       "### Christmas-Eve in a Light-House, or, a Batch of Old Stories Re-Told: By Henry S. Hicks …"
      ],
      "text/plain": [
       "<IPython.core.display.Markdown object>"
      ]
     },
     "metadata": {},
     "output_type": "display_data"
    },
    {
     "data": {
      "text/markdown": [
       "<small>Hicks, Henry S.</small>"
      ],
      "text/plain": [
       "<IPython.core.display.Markdown object>"
      ]
     },
     "metadata": {},
     "output_type": "display_data"
    },
    {
     "data": {
      "text/markdown": [
       "rge ports and inquisitive stewards, when I lost all patience, and very properly scouted such ideas, as any sensible man would have done. There are more things in He <span style=\"color: blue\">aven and earth, Horatio, Than are dreamt of in your philosophy.</span>. * ‘M '<%:'■ * · · - -г a During the concluding sentences of Basil’s story the lightkeeper was observed to move u"
      ],
      "text/plain": [
       "<IPython.core.display.Markdown object>"
      ]
     },
     "metadata": {},
     "output_type": "display_data"
    },
    {
     "name": "stdout",
     "output_type": "stream",
     "text": [
      "--------------------------------------------------\n"
     ]
    },
    {
     "data": {
      "text/markdown": [
       "### Hamlet"
      ],
      "text/plain": [
       "<IPython.core.display.Markdown object>"
      ]
     },
     "metadata": {},
     "output_type": "display_data"
    },
    {
     "data": {
      "text/markdown": [
       "thoughts no tongue, Nor any unproportion'd thought his act. Be thou familiar, but by no means vulgar. Those <span style=\"color: blue\">friends thou hast, and their adoption tried, Grapple</span> them unto thy soul with hoops of steel; But do not dull thy palm with entertainment Of each"
      ],
      "text/plain": [
       "<IPython.core.display.Markdown object>"
      ]
     },
     "metadata": {},
     "output_type": "display_data"
    },
    {
     "data": {
      "text/markdown": [
       "### What Next?: Or, the Honest Thief..: J. T. Patterson"
      ],
      "text/plain": [
       "<IPython.core.display.Markdown object>"
      ]
     },
     "metadata": {},
     "output_type": "display_data"
    },
    {
     "data": {
      "text/markdown": [
       "<small>Patterson, J. T.</small>"
      ],
      "text/plain": [
       "<IPython.core.display.Markdown object>"
      ]
     },
     "metadata": {},
     "output_type": "display_data"
    },
    {
     "data": {
      "text/markdown": [
       "Fortune had made one turn in his favor, and in half impatient anxiety he was disposed to ask, What next? Chapter III. “The <span style=\"color: blue\">friends thou hast, and their adoption tried, Grapple</span> them by the soul with hooks of steel.” # —Shakespeare. “True happiness Consists not in the multitude of friends, But in the worth"
      ],
      "text/plain": [
       "<IPython.core.display.Markdown object>"
      ]
     },
     "metadata": {},
     "output_type": "display_data"
    },
    {
     "name": "stdout",
     "output_type": "stream",
     "text": [
      "--------------------------------------------------\n"
     ]
    },
    {
     "data": {
      "text/markdown": [
       "### Hamlet"
      ],
      "text/plain": [
       "<IPython.core.display.Markdown object>"
      ]
     },
     "metadata": {},
     "output_type": "display_data"
    },
    {
     "data": {
      "text/markdown": [
       "substance often doubt To his own scandal. Hor. Look, my lord, it comes! [Enter Ghost.] Ham. <span style=\"color: blue\">Angels and ministers of grace defend us!-- Be thou a spirit of health or goblin damn'd</span>, Bring with thee airs from heaven or blasts from hell, Be thy intents wicked or charitable"
      ],
      "text/plain": [
       "<IPython.core.display.Markdown object>"
      ]
     },
     "metadata": {},
     "output_type": "display_data"
    },
    {
     "data": {
      "text/markdown": [
       "### Cupid on Crutches: Or, One Summer at Narragansett Pier: By A. B. W. …"
      ],
      "text/plain": [
       "<IPython.core.display.Markdown object>"
      ]
     },
     "metadata": {},
     "output_type": "display_data"
    },
    {
     "data": {
      "text/markdown": [
       "<small>Wood, Augustus B.</small>"
      ],
      "text/plain": [
       "<IPython.core.display.Markdown object>"
      ]
     },
     "metadata": {},
     "output_type": "display_data"
    },
    {
     "data": {
      "text/markdown": [
       "striking an attitude. During this and all succeeding speeches, when quotations are used, he continually resorts to his book unperceived.] <span style=\"color: blue\">Angels and ministers of grace, defend us ! Be thou a spirit of health, or goblin damn’d</span>. [Aside.] His appearance gives him away; hanged if I don’t believe the old woman has been clawing him ! -Bring"
      ],
      "text/plain": [
       "<IPython.core.display.Markdown object>"
      ]
     },
     "metadata": {},
     "output_type": "display_data"
    },
    {
     "name": "stdout",
     "output_type": "stream",
     "text": [
      "--------------------------------------------------\n"
     ]
    },
    {
     "data": {
      "text/markdown": [
       "### Hamlet"
      ],
      "text/plain": [
       "<IPython.core.display.Markdown object>"
      ]
     },
     "metadata": {},
     "output_type": "display_data"
    },
    {
     "data": {
      "text/markdown": [
       "Angels and ministers of grace defend us!-- Be thou a spirit of health or goblin damn'd, <span style=\"color: blue\">Bring with thee airs from heaven or blasts</span> from hell, Be thy intents wicked or charitable, Thou com'st in such a questionable shape"
      ],
      "text/plain": [
       "<IPython.core.display.Markdown object>"
      ]
     },
     "metadata": {},
     "output_type": "display_data"
    },
    {
     "data": {
      "text/markdown": [
       "### Cupid on Crutches: Or, One Summer at Narragansett Pier: By A. B. W. …"
      ],
      "text/plain": [
       "<IPython.core.display.Markdown object>"
      ]
     },
     "metadata": {},
     "output_type": "display_data"
    },
    {
     "data": {
      "text/markdown": [
       "<small>Wood, Augustus B.</small>"
      ],
      "text/plain": [
       "<IPython.core.display.Markdown object>"
      ]
     },
     "metadata": {},
     "output_type": "display_data"
    },
    {
     "data": {
      "text/markdown": [
       "d. [Aside.] His appearance gives him away; hanged if I don’t believe the old woman has been clawing him ! - <span style=\"color: blue\">Bring with thee airs from heaven, or blasts</span> from some other place, Be thy intents wicked, or otherwise, Thou com’st in such a forlorn state, That I will speak"
      ],
      "text/plain": [
       "<IPython.core.display.Markdown object>"
      ]
     },
     "metadata": {},
     "output_type": "display_data"
    },
    {
     "name": "stdout",
     "output_type": "stream",
     "text": [
      "--------------------------------------------------\n"
     ]
    },
    {
     "data": {
      "text/markdown": [
       "### Hamlet"
      ],
      "text/plain": [
       "<IPython.core.display.Markdown object>"
      ]
     },
     "metadata": {},
     "output_type": "display_data"
    },
    {
     "data": {
      "text/markdown": [
       "hell, Be thy intents wicked or charitable, Thou com'st in such a questionable shape That I will <span style=\"color: blue\">speak to thee: I'll call thee</span> Hamlet, King, father, royal Dane; O, answer me! Let me not burst in ignorance; but tell Why thy"
      ],
      "text/plain": [
       "<IPython.core.display.Markdown object>"
      ]
     },
     "metadata": {},
     "output_type": "display_data"
    },
    {
     "data": {
      "text/markdown": [
       "### Cupid on Crutches: Or, One Summer at Narragansett Pier: By A. B. W. …"
      ],
      "text/plain": [
       "<IPython.core.display.Markdown object>"
      ]
     },
     "metadata": {},
     "output_type": "display_data"
    },
    {
     "data": {
      "text/markdown": [
       "<small>Wood, Augustus B.</small>"
      ],
      "text/plain": [
       "<IPython.core.display.Markdown object>"
      ]
     },
     "metadata": {},
     "output_type": "display_data"
    },
    {
     "data": {
      "text/markdown": [
       "blasts from some other place, Be thy intents wicked, or otherwise, Thou com’st in such a forlorn state, That I will <span style=\"color: blue\">speak to thee : I’ll call thee</span>, Simon, —I mean Hamlet, King, father, royal Nibs : О answer me ; Let me not burst my waistcoat ! but tell—/tell, Hem"
      ],
      "text/plain": [
       "<IPython.core.display.Markdown object>"
      ]
     },
     "metadata": {},
     "output_type": "display_data"
    },
    {
     "name": "stdout",
     "output_type": "stream",
     "text": [
      "--------------------------------------------------\n"
     ]
    },
    {
     "data": {
      "text/markdown": [
       "### Hamlet"
      ],
      "text/plain": [
       "<IPython.core.display.Markdown object>"
      ]
     },
     "metadata": {},
     "output_type": "display_data"
    },
    {
     "data": {
      "text/markdown": [
       "wastein fires, Till the foul crimes done in my days of nature Are burnt and purg'd away. But that I am <span style=\"color: blue\">forbid To tell the secrets of my prison-house, I could a tale unfold whose lightest word Would harrow up thy soul; freeze thy young blood</span>; Make thy two eyes, like stars, start from their spheres; Thy knotted and combined locks to part, And each"
      ],
      "text/plain": [
       "<IPython.core.display.Markdown object>"
      ]
     },
     "metadata": {},
     "output_type": "display_data"
    },
    {
     "data": {
      "text/markdown": [
       "### Cupid on Crutches: Or, One Summer at Narragansett Pier: By A. B. W. …"
      ],
      "text/plain": [
       "<IPython.core.display.Markdown object>"
      ]
     },
     "metadata": {},
     "output_type": "display_data"
    },
    {
     "data": {
      "text/markdown": [
       "<small>Wood, Augustus B.</small>"
      ],
      "text/plain": [
       "<IPython.core.display.Markdown object>"
      ]
     },
     "metadata": {},
     "output_type": "display_data"
    },
    {
     "data": {
      "text/markdown": [
       "makes a flourish —all spring back.] Well, here goes then . . . . . . . . . . . . Back! 1 am a spirit; Doom’d for a certain time to walk the night ; But that I am <span style=\"color: blue\">forbid To tell the secrets of my prison house, I could a tale unfold, whose lightest word Would harrow up thy soul ; freeze thy young blood</span>, Make thine eyes, like stars, start from their spheres ; Thy knotted and combined locks to part, And each"
      ],
      "text/plain": [
       "<IPython.core.display.Markdown object>"
      ]
     },
     "metadata": {},
     "output_type": "display_data"
    },
    {
     "name": "stdout",
     "output_type": "stream",
     "text": [
      "--------------------------------------------------\n"
     ]
    },
    {
     "data": {
      "text/markdown": [
       "### Hamlet"
      ],
      "text/plain": [
       "<IPython.core.display.Markdown object>"
      ]
     },
     "metadata": {},
     "output_type": "display_data"
    },
    {
     "data": {
      "text/markdown": [
       "lightest word Would harrow up thy soul; freeze thy young blood; Make thy two <span style=\"color: blue\">eyes, like stars, start from their spheres; Thy knotted and combined locks to part, And each particular hair to stand on end Like quills upon the fretful porcupine</span>: But this eternal blazon must not be To ears of flesh and blood.--List, list, O, list"
      ],
      "text/plain": [
       "<IPython.core.display.Markdown object>"
      ]
     },
     "metadata": {},
     "output_type": "display_data"
    },
    {
     "data": {
      "text/markdown": [
       "### Cupid on Crutches: Or, One Summer at Narragansett Pier: By A. B. W. …"
      ],
      "text/plain": [
       "<IPython.core.display.Markdown object>"
      ]
     },
     "metadata": {},
     "output_type": "display_data"
    },
    {
     "data": {
      "text/markdown": [
       "<small>Wood, Augustus B.</small>"
      ],
      "text/plain": [
       "<IPython.core.display.Markdown object>"
      ]
     },
     "metadata": {},
     "output_type": "display_data"
    },
    {
     "data": {
      "text/markdown": [
       "lightest word Would harrow up thy soul ; freeze thy young blood, Make thine <span style=\"color: blue\">eyes, like stars, start from their spheres ; Thy knotted and combined locks to part, And each particular hair to stand on end, Like quills upon the fretful porcupine</span>! [Sinks down on chair—all applaud—F. Star, gives a signal. Enter First Constable and two men"
      ],
      "text/plain": [
       "<IPython.core.display.Markdown object>"
      ]
     },
     "metadata": {},
     "output_type": "display_data"
    },
    {
     "name": "stdout",
     "output_type": "stream",
     "text": [
      "--------------------------------------------------\n"
     ]
    },
    {
     "data": {
      "text/markdown": [
       "### Hamlet"
      ],
      "text/plain": [
       "<IPython.core.display.Markdown object>"
      ]
     },
     "metadata": {},
     "output_type": "display_data"
    },
    {
     "data": {
      "text/markdown": [
       "d be rashness for it,--let us know, Our indiscretion sometime serves us well, When our deep plots do fail; and that should teach us There's a <span style=\"color: blue\">divinity that shapes our ends, Rough-hew</span> them how we will. Hor. That is most certain. Ham. Up from my cabin, My sea-gown scarf'd about me, in the dark Grop"
      ],
      "text/plain": [
       "<IPython.core.display.Markdown object>"
      ]
     },
     "metadata": {},
     "output_type": "display_data"
    },
    {
     "data": {
      "text/markdown": [
       "### John Smith: A Journey along the High-Ways and By-Ways of Life: By Sebastian Brown"
      ],
      "text/plain": [
       "<IPython.core.display.Markdown object>"
      ]
     },
     "metadata": {},
     "output_type": "display_data"
    },
    {
     "data": {
      "text/markdown": [
       "<small>Brown, Sebastian</small>"
      ],
      "text/plain": [
       "<IPython.core.display.Markdown object>"
      ]
     },
     "metadata": {},
     "output_type": "display_data"
    },
    {
     "data": {
      "text/markdown": [
       "each had his “ups and downs,” and could active life be extended fifty years longer, the situation of the two might he re¬ versed. “'There is a <span style=\"color: blue\">divinity that shapes our ends, rough hew</span> them as we will.” Environment, circum¬ stances, surroundings, are the controlling causes which make or ruin a wayfarer on this mundane sphere"
      ],
      "text/plain": [
       "<IPython.core.display.Markdown object>"
      ]
     },
     "metadata": {},
     "output_type": "display_data"
    },
    {
     "name": "stdout",
     "output_type": "stream",
     "text": [
      "--------------------------------------------------\n"
     ]
    },
    {
     "data": {
      "text/markdown": [
       "### Hamlet"
      ],
      "text/plain": [
       "<IPython.core.display.Markdown object>"
      ]
     },
     "metadata": {},
     "output_type": "display_data"
    },
    {
     "data": {
      "text/markdown": [
       "murder!--Pray can I not, Though inclination be as sharp as will: My stronger guilt defeats my strong intent; And, like a man to <span style=\"color: blue\">double business bound, I stand in pause where I shall first begin, And both neglect</span>. What if this cursed hand Were thicker than itself with brother's blood,-- Is there not rain enough in the sweet"
      ],
      "text/plain": [
       "<IPython.core.display.Markdown object>"
      ]
     },
     "metadata": {},
     "output_type": "display_data"
    },
    {
     "data": {
      "text/markdown": [
       "### The Mystery of Allanwold: By Mrs. Elizabeth Van Loon …"
      ],
      "text/plain": [
       "<IPython.core.display.Markdown object>"
      ]
     },
     "metadata": {},
     "output_type": "display_data"
    },
    {
     "data": {
      "text/markdown": [
       "<small>Van Loon, Elizabeth</small>"
      ],
      "text/plain": [
       "<IPython.core.display.Markdown object>"
      ]
     },
     "metadata": {},
     "output_type": "display_data"
    },
    {
     "data": {
      "text/markdown": [
       "dispersed, and Alice Faulkner’s ball was but a memory. CHAPTER XII. THE MORNING AFTER THE BALL. “ Like a man to <span style=\"color: blue\">double business bound, I stand in pause where I shall first begin, And both neglect</span>.”— Shakespeare. I T was late the next morning before any one at Allanwold made their appearance in the breakfast-room. At eleven o"
      ],
      "text/plain": [
       "<IPython.core.display.Markdown object>"
      ]
     },
     "metadata": {},
     "output_type": "display_data"
    },
    {
     "name": "stdout",
     "output_type": "stream",
     "text": [
      "--------------------------------------------------\n"
     ]
    },
    {
     "data": {
      "text/markdown": [
       "### Hamlet"
      ],
      "text/plain": [
       "<IPython.core.display.Markdown object>"
      ]
     },
     "metadata": {},
     "output_type": "display_data"
    },
    {
     "data": {
      "text/markdown": [
       "d otherwise? King. Not that I know. Pol. Take this from this, if this be otherwise: [Points to his head and shoulder.] If circumstances lead me, I will find Where <span style=\"color: blue\">truth is hid, though it were hid indeed Within</span> the centre. King. How may we try it further? Pol. You know sometimes he walks for hours together Here in the lobby"
      ],
      "text/plain": [
       "<IPython.core.display.Markdown object>"
      ]
     },
     "metadata": {},
     "output_type": "display_data"
    },
    {
     "data": {
      "text/markdown": [
       "### The Society in Search of Truth: Or, Stock Gambling in San Francisco: A Novel: By J. F. Clark …"
      ],
      "text/plain": [
       "<IPython.core.display.Markdown object>"
      ]
     },
     "metadata": {},
     "output_type": "display_data"
    },
    {
     "data": {
      "text/markdown": [
       "<small>Clark, J. F.</small>"
      ],
      "text/plain": [
       "<IPython.core.display.Markdown object>"
      ]
     },
     "metadata": {},
     "output_type": "display_data"
    },
    {
     "data": {
      "text/markdown": [
       "opinions of writers with whom you are familiar, but invite the Society to adopt as its motto the words of Shakespear :— * I will find Where <span style=\"color: blue\">Truth is hid, though it were hid indeed Within</span> the center.’ Again the Judge paused, awaiting to observe the effect of his oratory upon the Society. And here I may inform"
      ],
      "text/plain": [
       "<IPython.core.display.Markdown object>"
      ]
     },
     "metadata": {},
     "output_type": "display_data"
    },
    {
     "name": "stdout",
     "output_type": "stream",
     "text": [
      "--------------------------------------------------\n"
     ]
    },
    {
     "data": {
      "text/markdown": [
       "### Hamlet"
      ],
      "text/plain": [
       "<IPython.core.display.Markdown object>"
      ]
     },
     "metadata": {},
     "output_type": "display_data"
    },
    {
     "data": {
      "text/markdown": [
       "loses both itself and friend; And borrowing dulls the edge of husbandry. This above all,--to thine own self be <span style=\"color: blue\">true; And it must follow, as the night the day, Thou</span> canst not then be false to any man. Farewell: my blessing season this in thee! Laer. Most humbly do I take my leave, my lord"
      ],
      "text/plain": [
       "<IPython.core.display.Markdown object>"
      ]
     },
     "metadata": {},
     "output_type": "display_data"
    },
    {
     "data": {
      "text/markdown": [
       "### The Unjust Judge, or, the Evils of Intemperance on Judges, Lawyers, and Politicians: By a Member of the Ohio Bar"
      ],
      "text/plain": [
       "<IPython.core.display.Markdown object>"
      ]
     },
     "metadata": {},
     "output_type": "display_data"
    },
    {
     "data": {
      "text/markdown": [
       "<small>Stevens, William</small>"
      ],
      "text/plain": [
       "<IPython.core.display.Markdown object>"
      ]
     },
     "metadata": {},
     "output_type": "display_data"
    },
    {
     "data": {
      "text/markdown": [
       "integrity of our intentions. The Author. Mansfield, Ohio, January 1 , 1854 . CHAPTER I. This, above all, to thine ownself be <span style=\"color: blue\">true, And it must follow, as the night the day, Thou</span> cans’t not then be false to any man. Shakspear. 4 : “ What is the condition of your health and spir¬ its,” said Leblond, as with a careless air"
      ],
      "text/plain": [
       "<IPython.core.display.Markdown object>"
      ]
     },
     "metadata": {},
     "output_type": "display_data"
    },
    {
     "name": "stdout",
     "output_type": "stream",
     "text": [
      "--------------------------------------------------\n"
     ]
    },
    {
     "data": {
      "text/markdown": [
       "### Hamlet"
      ],
      "text/plain": [
       "<IPython.core.display.Markdown object>"
      ]
     },
     "metadata": {},
     "output_type": "display_data"
    },
    {
     "data": {
      "text/markdown": [
       "death,-- The undiscover'd country, from whose bourn No traveller returns,--puzzles the will, And makes us <span style=\"color: blue\">rather bear those ills we have Than fly to others</span> that we know not of? Thus conscience does make cowards of us all; And thus the native hue of resolution Is sicklied o'er"
      ],
      "text/plain": [
       "<IPython.core.display.Markdown object>"
      ]
     },
     "metadata": {},
     "output_type": "display_data"
    },
    {
     "data": {
      "text/markdown": [
       "### Better Days, or, a Millionaire of To-Morrow: By Thomas Fitch and Anna M. Fitch"
      ],
      "text/plain": [
       "<IPython.core.display.Markdown object>"
      ]
     },
     "metadata": {},
     "output_type": "display_data"
    },
    {
     "data": {
      "text/markdown": [
       "<small>Fitch, Thomas</small>"
      ],
      "text/plain": [
       "<IPython.core.display.Markdown object>"
      ]
     },
     "metadata": {},
     "output_type": "display_data"
    },
    {
     "data": {
      "text/markdown": [
       "Megaronides says, ‘The evil that we know is best. To venture on an untried ill,’ etc., and Shakespeare, two thousand years later, said, ‘ <span style=\"color: blue\">Rather bear the ills we have than fly to others</span> that we know not of.’ ” “You call my divine countryman a plagiarist,’ ’ half- childishly, half-insanely repeated my noble"
      ],
      "text/plain": [
       "<IPython.core.display.Markdown object>"
      ]
     },
     "metadata": {},
     "output_type": "display_data"
    },
    {
     "name": "stdout",
     "output_type": "stream",
     "text": [
      "--------------------------------------------------\n"
     ]
    },
    {
     "data": {
      "text/markdown": [
       "### Hamlet"
      ],
      "text/plain": [
       "<IPython.core.display.Markdown object>"
      ]
     },
     "metadata": {},
     "output_type": "display_data"
    },
    {
     "data": {
      "text/markdown": [
       "heavens! Ham. If thou dost marry, I'll give thee this plague for thy dowry,-- be <span style=\"color: blue\">thou as chaste as ice, as pure as snow, thou shalt not escape calumny</span>. Get thee to a nunnery, go: farewell. Or, if thou wilt needs marry, marry a fool; for wise"
      ],
      "text/plain": [
       "<IPython.core.display.Markdown object>"
      ]
     },
     "metadata": {},
     "output_type": "display_data"
    },
    {
     "data": {
      "text/markdown": [
       "### The Seeker: By Harry Leon Wilson; Illustrated by Rose Cecil O'Neill"
      ],
      "text/plain": [
       "<IPython.core.display.Markdown object>"
      ]
     },
     "metadata": {},
     "output_type": "display_data"
    },
    {
     "data": {
      "text/markdown": [
       "<small>Wilson, Harry Leon</small>"
      ],
      "text/plain": [
       "<IPython.core.display.Markdown object>"
      ]
     },
     "metadata": {},
     "output_type": "display_data"
    },
    {
     "data": {
      "text/markdown": [
       "icial mind and of unhurried judgments might not unreasonably have been puzzled, but I would tear my heart open to the world this minute—‘Oh, be tho <span style=\"color: blue\">u as chaste as ice, as pure as snow, thou shalt not escape calumny!’”</span>“If I follow you, old chap, Nancy observed some scene this afternoon in which it occurred to her that I might have been an actor.” There was quick pain, a"
      ],
      "text/plain": [
       "<IPython.core.display.Markdown object>"
      ]
     },
     "metadata": {},
     "output_type": "display_data"
    },
    {
     "name": "stdout",
     "output_type": "stream",
     "text": [
      "--------------------------------------------------\n"
     ]
    },
    {
     "data": {
      "text/markdown": [
       "### Hamlet"
      ],
      "text/plain": [
       "<IPython.core.display.Markdown object>"
      ]
     },
     "metadata": {},
     "output_type": "display_data"
    },
    {
     "data": {
      "text/markdown": [
       "witch hath power to charm; So hallow'd and so gracious is the time. Hor. So have I heard, and do in part believe it. But, look, the <span style=\"color: blue\">morn, in russet mantle clad, Walks o'er the dew of yon</span> high eastward hill: Break we our watch up: and by my advice, Let us impart what we have seen to-night Unto young"
      ],
      "text/plain": [
       "<IPython.core.display.Markdown object>"
      ]
     },
     "metadata": {},
     "output_type": "display_data"
    },
    {
     "data": {
      "text/markdown": [
       "### Talbot and Vernon: A Novel: John Ludlum McConnel"
      ],
      "text/plain": [
       "<IPython.core.display.Markdown object>"
      ]
     },
     "metadata": {},
     "output_type": "display_data"
    },
    {
     "data": {
      "text/markdown": [
       "<small>McConnel, John Ludlum</small>"
      ],
      "text/plain": [
       "<IPython.core.display.Markdown object>"
      ]
     },
     "metadata": {},
     "output_type": "display_data"
    },
    {
     "data": {
      "text/markdown": [
       "mountain heights.”— Woodswokth. “ There is a wakening on the mighty hills, A kindling with the spirit of the morn.”— Hemans. “ But look ! the <span style=\"color: blue\">morn, in russet mantle clad, Walks o’er the dew of yon</span> high eastern hill.”— Hamlet. “ Silence ! coeval with eternity !”— Pope. However much inclined Hugh"
      ],
      "text/plain": [
       "<IPython.core.display.Markdown object>"
      ]
     },
     "metadata": {},
     "output_type": "display_data"
    },
    {
     "name": "stdout",
     "output_type": "stream",
     "text": [
      "--------------------------------------------------\n"
     ]
    },
    {
     "data": {
      "text/markdown": [
       "### Hamlet"
      ],
      "text/plain": [
       "<IPython.core.display.Markdown object>"
      ]
     },
     "metadata": {},
     "output_type": "display_data"
    },
    {
     "data": {
      "text/markdown": [
       "s spirit in arms! All is not well; I doubt some foul play: would the night were come! Till then sit still, my soul: <span style=\"color: blue\">foul deeds will rise, Though all the earth o'erwhelm them, to men's eyes</span>. [Exit.] Scene III. A room in Polonius's house. [Enter Laertes and Ophelia.] Laer"
      ],
      "text/plain": [
       "<IPython.core.display.Markdown object>"
      ]
     },
     "metadata": {},
     "output_type": "display_data"
    },
    {
     "data": {
      "text/markdown": [
       "### Talbot and Vernon: A Novel: John Ludlum McConnel"
      ],
      "text/plain": [
       "<IPython.core.display.Markdown object>"
      ]
     },
     "metadata": {},
     "output_type": "display_data"
    },
    {
     "data": {
      "text/markdown": [
       "<small>McConnel, John Ludlum</small>"
      ],
      "text/plain": [
       "<IPython.core.display.Markdown object>"
      ]
     },
     "metadata": {},
     "output_type": "display_data"
    },
    {
     "data": {
      "text/markdown": [
       "iscreant.”— Richard II. “ By heaven there’s treason in his aspect.”—S hihi.et, “ F <span style=\"color: blue\">oul deeds will rise, Though all the earth o’erwhelm them, to men’s eyes.</span>”— Hamlet. “ I overheard a conversation,” said the Corporal, as they approached the guard, “ between Colonel Thorpe—” “ Ha"
      ],
      "text/plain": [
       "<IPython.core.display.Markdown object>"
      ]
     },
     "metadata": {},
     "output_type": "display_data"
    },
    {
     "name": "stdout",
     "output_type": "stream",
     "text": [
      "--------------------------------------------------\n"
     ]
    },
    {
     "data": {
      "text/markdown": [
       "### Hamlet"
      ],
      "text/plain": [
       "<IPython.core.display.Markdown object>"
      ]
     },
     "metadata": {},
     "output_type": "display_data"
    },
    {
     "data": {
      "text/markdown": [
       "must sweep my way And marshal me to knavery. Let it work; For 'tis the sport to have the enginer Hoist with his own petard: and 't <span style=\"color: blue\">shall go hard But I will delve one yard below their mines And blow them at the moon</span>: O, 'tis most sweet, When in one line two crafts directly meet.-- This man shall set me packing"
      ],
      "text/plain": [
       "<IPython.core.display.Markdown object>"
      ]
     },
     "metadata": {},
     "output_type": "display_data"
    },
    {
     "data": {
      "text/markdown": [
       "### Talbot and Vernon: A Novel: John Ludlum McConnel"
      ],
      "text/plain": [
       "<IPython.core.display.Markdown object>"
      ]
     },
     "metadata": {},
     "output_type": "display_data"
    },
    {
     "data": {
      "text/markdown": [
       "<small>McConnel, John Ludlum</small>"
      ],
      "text/plain": [
       "<IPython.core.display.Markdown object>"
      ]
     },
     "metadata": {},
     "output_type": "display_data"
    },
    {
     "data": {
      "text/markdown": [
       "uietly nodding to Thorpe to proceed. CHAPTER VIII. Let it work— For 4is the sport, to have the engineer Hoist with his own petard ; and 4 s <span style=\"color: blue\">hall go hard, But I will delve one yard below their mines, And blow them at the moon.</span>”—H amlet. As Clayton finished his short address and sat down, a close observer might have seen"
      ],
      "text/plain": [
       "<IPython.core.display.Markdown object>"
      ]
     },
     "metadata": {},
     "output_type": "display_data"
    },
    {
     "name": "stdout",
     "output_type": "stream",
     "text": [
      "--------------------------------------------------\n"
     ]
    },
    {
     "data": {
      "text/markdown": [
       "### Hamlet"
      ],
      "text/plain": [
       "<IPython.core.display.Markdown object>"
      ]
     },
     "metadata": {},
     "output_type": "display_data"
    },
    {
     "data": {
      "text/markdown": [
       "prais'd be rashness for it,--let us know, Our indiscretion sometime serves us well, When our deep plots do fail; and that should teach us There' <span style=\"color: blue\">s a divinity that shapes our ends, Rough-hew</span> them how we will. Hor. That is most certain. Ham. Up from my cabin, My sea-gown scarf'd about me, in the dark Grop"
      ],
      "text/plain": [
       "<IPython.core.display.Markdown object>"
      ]
     },
     "metadata": {},
     "output_type": "display_data"
    },
    {
     "data": {
      "text/markdown": [
       "### Victor: By Ellery Sinclair …"
      ],
      "text/plain": [
       "<IPython.core.display.Markdown object>"
      ]
     },
     "metadata": {},
     "output_type": "display_data"
    },
    {
     "data": {
      "text/markdown": [
       "<small>Sinclair, Ellery</small>"
      ],
      "text/plain": [
       "<IPython.core.display.Markdown object>"
      ]
     },
     "metadata": {},
     "output_type": "display_data"
    },
    {
     "data": {
      "text/markdown": [
       "emember—how I loved her.” A last look of appeal into the friendly faces about him, a gasping sigh, and he was in the pres¬ ence of the Great Judge. “ 4 There’s <span style=\"color: blue\">a divinity that shapes our ends, Rough-hew</span> them how we will,’ ” said Major Gilman solemnly as, with folded arms, he stood looking down into the face from which the light of life had fled."
      ],
      "text/plain": [
       "<IPython.core.display.Markdown object>"
      ]
     },
     "metadata": {},
     "output_type": "display_data"
    },
    {
     "name": "stdout",
     "output_type": "stream",
     "text": [
      "--------------------------------------------------\n"
     ]
    },
    {
     "data": {
      "text/markdown": [
       "### Hamlet"
      ],
      "text/plain": [
       "<IPython.core.display.Markdown object>"
      ]
     },
     "metadata": {},
     "output_type": "display_data"
    },
    {
     "data": {
      "text/markdown": [
       "loan oft loses both itself and friend; And borrowing dulls the edge of husbandry. This above all,--to <span style=\"color: blue\">thine own self be true; And it must follow, as the night the day, Thou</span> canst not then be false to any man. Farewell: my blessing season this in thee! Laer. Most humbly do I take my leave, my lord"
      ],
      "text/plain": [
       "<IPython.core.display.Markdown object>"
      ]
     },
     "metadata": {},
     "output_type": "display_data"
    },
    {
     "data": {
      "text/markdown": [
       "### Vernon Grove, or, Hearts as They Are: A Novel: By Mrs. C. H. Glover"
      ],
      "text/plain": [
       "<IPython.core.display.Markdown object>"
      ]
     },
     "metadata": {},
     "output_type": "display_data"
    },
    {
     "data": {
      "text/markdown": [
       "<small>Jervey, Caroline Howard Gilman Glover</small>"
      ],
      "text/plain": [
       "<IPython.core.display.Markdown object>"
      ]
     },
     "metadata": {},
     "output_type": "display_data"
    },
    {
     "data": {
      "text/markdown": [
       "glossing over of the truth ; she could never have forgiven herself for trifling with another, and even her own failings were regarded by her with impartial judgment. Her motto was, “ To <span style=\"color: blue\">thine own self be true, And it must follow as the night the day, Thou</span> can’st not then be false to any man.” Then after a moment’s thought she spoke out slowly and distinctly, and Vernon found himself"
      ],
      "text/plain": [
       "<IPython.core.display.Markdown object>"
      ]
     },
     "metadata": {},
     "output_type": "display_data"
    },
    {
     "name": "stdout",
     "output_type": "stream",
     "text": [
      "--------------------------------------------------\n"
     ]
    },
    {
     "data": {
      "text/markdown": [
       "### Hamlet"
      ],
      "text/plain": [
       "<IPython.core.display.Markdown object>"
      ]
     },
     "metadata": {},
     "output_type": "display_data"
    },
    {
     "data": {
      "text/markdown": [
       "heavens! Ham. If thou dost marry, I'll give thee this plague for thy dowry,-- be <span style=\"color: blue\">thou as chaste as ice, as pure as snow, thou shalt not escape calumny</span>. Get thee to a nunnery, go: farewell. Or, if thou wilt needs marry, marry a fool; for wise"
      ],
      "text/plain": [
       "<IPython.core.display.Markdown object>"
      ]
     },
     "metadata": {},
     "output_type": "display_data"
    },
    {
     "data": {
      "text/markdown": [
       "### Polly of Lady Gay Cottage: By Emma C. Dowd; with Illustrations"
      ],
      "text/plain": [
       "<IPython.core.display.Markdown object>"
      ]
     },
     "metadata": {},
     "output_type": "display_data"
    },
    {
     "data": {
      "text/markdown": [
       "<small>Dowd, Emma C.</small>"
      ],
      "text/plain": [
       "<IPython.core.display.Markdown object>"
      ]
     },
     "metadata": {},
     "output_type": "display_data"
    },
    {
     "data": {
      "text/markdown": [
       "possible for a person that does any¬ thing worth doing to get through life without sometimes being talked about unpleasantly and misrepresented. Do you know what Shakespeare says about that? ‘Be <span style=\"color: blue\">thou as 34 chaste as ice, as pure as snow, thou shalt not escape calumny</span>.’ “But there comes mother! Run, get your hat and coat, and we’ll have our ride.” CHAPTER IV COUSINS"
      ],
      "text/plain": [
       "<IPython.core.display.Markdown object>"
      ]
     },
     "metadata": {},
     "output_type": "display_data"
    },
    {
     "name": "stdout",
     "output_type": "stream",
     "text": [
      "--------------------------------------------------\n"
     ]
    },
    {
     "data": {
      "text/markdown": [
       "### Hamlet"
      ],
      "text/plain": [
       "<IPython.core.display.Markdown object>"
      ]
     },
     "metadata": {},
     "output_type": "display_data"
    },
    {
     "data": {
      "text/markdown": [
       "sir: for the satirical slave says here that old men have grey beards; that their faces are wrinkled; their eyes <span style=\"color: blue\">purging thick amber and plum-tree gum</span>; and that they have a plentiful lack of wit, together with most weak hams: all which, sir, though I most powerfully and potently"
      ],
      "text/plain": [
       "<IPython.core.display.Markdown object>"
      ]
     },
     "metadata": {},
     "output_type": "display_data"
    },
    {
     "data": {
      "text/markdown": [
       "### The Literary Remains of the Late Willis Gaylord Clark: Including the Ollapodiana Papers, the Spirit of Life, and a Selection from His Various Prose and Poetical Writings: Edited by Lewis Gaylord Clark"
      ],
      "text/plain": [
       "<IPython.core.display.Markdown object>"
      ]
     },
     "metadata": {},
     "output_type": "display_data"
    },
    {
     "data": {
      "text/markdown": [
       "<small>Clark, Willis Gaylord</small>"
      ],
      "text/plain": [
       "<IPython.core.display.Markdown object>"
      ]
     },
     "metadata": {},
     "output_type": "display_data"
    },
    {
     "data": {
      "text/markdown": [
       "her. His chair shook under him with the intensity of his emotions, as if it partook of them ; while his age¿ optics— ‘ purgi <span style=\"color: blue\">ng thick amber and plum-tree gum’—exh</span> ibited his amia¬ ble weakness in a fruitful river of brine. It was a hearty spec¬ tacle, to"
      ],
      "text/plain": [
       "<IPython.core.display.Markdown object>"
      ]
     },
     "metadata": {},
     "output_type": "display_data"
    },
    {
     "name": "stdout",
     "output_type": "stream",
     "text": [
      "--------------------------------------------------\n"
     ]
    },
    {
     "data": {
      "text/markdown": [
       "### Hamlet"
      ],
      "text/plain": [
       "<IPython.core.display.Markdown object>"
      ]
     },
     "metadata": {},
     "output_type": "display_data"
    },
    {
     "data": {
      "text/markdown": [
       "fair and good He likewise gives a frock or livery That aptly is put on. Refrain to-night; And that shall <span style=\"color: blue\">lend a kind of easiness To the next abstinence: the next more easy; For use almost can change the stamp of nature, And either curb</span> the devil, or throw him out With wondrous potency. Once more, good-night: And when you are desirous to be bles'd, I'll"
      ],
      "text/plain": [
       "<IPython.core.display.Markdown object>"
      ]
     },
     "metadata": {},
     "output_type": "display_data"
    },
    {
     "data": {
      "text/markdown": [
       "### Ellen Grant: Or, Fashionable Life in New-York: By the Author of \"Emily Mansfield\" [Etc.]"
      ],
      "text/plain": [
       "<IPython.core.display.Markdown object>"
      ]
     },
     "metadata": {},
     "output_type": "display_data"
    },
    {
     "data": {
      "text/markdown": [
       "<small>Bradbury, Osgood</small>"
      ],
      "text/plain": [
       "<IPython.core.display.Markdown object>"
      ]
     },
     "metadata": {},
     "output_type": "display_data"
    },
    {
     "data": {
      "text/markdown": [
       "NTON'S REVENGE. IBB or THE NBV YORK BAB. ‘ Beirain to-night ; And that »hull le <span style=\"color: blue\">nd a kind of easiness, To the next abstinence : the next more easy ; For use almost can change the stamp of nature, And either curb t</span> he deni, or thrtw him out With wondrons potency.’’ I (the sick chambeb). How do you feel this morning my dear V asked a"
      ],
      "text/plain": [
       "<IPython.core.display.Markdown object>"
      ]
     },
     "metadata": {},
     "output_type": "display_data"
    },
    {
     "name": "stdout",
     "output_type": "stream",
     "text": [
      "--------------------------------------------------\n"
     ]
    },
    {
     "data": {
      "text/markdown": [
       "### Hamlet"
      ],
      "text/plain": [
       "<IPython.core.display.Markdown object>"
      ]
     },
     "metadata": {},
     "output_type": "display_data"
    },
    {
     "data": {
      "text/markdown": [
       "d be rashness for it,--let us know, Our indiscretion sometime serves us well, When our deep plots do fail; and that should teach us There's a <span style=\"color: blue\">divinity that shapes our ends, Rough-hew</span> them how we will. Hor. That is most certain. Ham. Up from my cabin, My sea-gown scarf'd about me, in the dark Grop"
      ],
      "text/plain": [
       "<IPython.core.display.Markdown object>"
      ]
     },
     "metadata": {},
     "output_type": "display_data"
    },
    {
     "data": {
      "text/markdown": [
       "### Ellen Grant: Or, Fashionable Life in New-York: By the Author of \"Emily Mansfield\" [Etc.]"
      ],
      "text/plain": [
       "<IPython.core.display.Markdown object>"
      ]
     },
     "metadata": {},
     "output_type": "display_data"
    },
    {
     "data": {
      "text/markdown": [
       "<small>Bradbury, Osgood</small>"
      ],
      "text/plain": [
       "<IPython.core.display.Markdown object>"
      ]
     },
     "metadata": {},
     "output_type": "display_data"
    },
    {
     "data": {
      "text/markdown": [
       "' he said. * Don’t you recollect what th· immortal bard of Avon has said, ”Tis divinity th <span style=\"color: blue\">at shapes our ends rough hew them how w</span> c may.’ ’ ‘I remember reading it,’ she answered; ‘ but mother is determined upon my marriage with Edwin Gordon.’ ‘And hea"
      ],
      "text/plain": [
       "<IPython.core.display.Markdown object>"
      ]
     },
     "metadata": {},
     "output_type": "display_data"
    },
    {
     "name": "stdout",
     "output_type": "stream",
     "text": [
      "--------------------------------------------------\n"
     ]
    },
    {
     "data": {
      "text/markdown": [
       "### Hamlet"
      ],
      "text/plain": [
       "<IPython.core.display.Markdown object>"
      ]
     },
     "metadata": {},
     "output_type": "display_data"
    },
    {
     "data": {
      "text/markdown": [
       "ills we have Than fly to others that we know not of? Thus conscience does make cowards of us all; And thus the native hue of resolution Is <span style=\"color: blue\">sicklied o'er with the pale cast</span> of thought; And enterprises of great pith and moment, With this regard, their currents turn awry, And lose the name of action"
      ],
      "text/plain": [
       "<IPython.core.display.Markdown object>"
      ]
     },
     "metadata": {},
     "output_type": "display_data"
    },
    {
     "data": {
      "text/markdown": [
       "### Those Children and Their Teachers: A Story of To-Day: By Byron A. Brooks"
      ],
      "text/plain": [
       "<IPython.core.display.Markdown object>"
      ]
     },
     "metadata": {},
     "output_type": "display_data"
    },
    {
     "data": {
      "text/markdown": [
       "<small>Brooks, Byron Alden</small>"
      ],
      "text/plain": [
       "<IPython.core.display.Markdown object>"
      ]
     },
     "metadata": {},
     "output_type": "display_data"
    },
    {
     "data": {
      "text/markdown": [
       "large-brained, large- \\ eyed boy of twelve, to whom life is real and earnest, yet “ <span style=\"color: blue\">sicklied o’er with a pale cast</span> of thought,” which throws a glow of ideality over all he does or says. He sees, unconsciously, beneath the surface of all things. Unfortunately for him, this faculty"
      ],
      "text/plain": [
       "<IPython.core.display.Markdown object>"
      ]
     },
     "metadata": {},
     "output_type": "display_data"
    },
    {
     "name": "stdout",
     "output_type": "stream",
     "text": [
      "--------------------------------------------------\n"
     ]
    },
    {
     "data": {
      "text/markdown": [
       "### Hamlet"
      ],
      "text/plain": [
       "<IPython.core.display.Markdown object>"
      ]
     },
     "metadata": {},
     "output_type": "display_data"
    },
    {
     "data": {
      "text/markdown": [
       "friends. Hor. O day and night, but this is wondrous strange! Ham. And therefore as a stranger give it welcome. There are more things in <span style=\"color: blue\">heaven and earth, Horatio, Than are dreamt of in your philosophy</span>. But come;-- Here, as before, never, so help you mercy, How strange or odd soe'er I bear myself,-- As I, perchance, hereafter shall"
      ],
      "text/plain": [
       "<IPython.core.display.Markdown object>"
      ]
     },
     "metadata": {},
     "output_type": "display_data"
    },
    {
     "data": {
      "text/markdown": [
       "### A Waif in the Conflict of Two Civilizations: A Tale of the Great Civil War in America and the Last Days of Slavery: By A. Thompson …"
      ],
      "text/plain": [
       "<IPython.core.display.Markdown object>"
      ]
     },
     "metadata": {},
     "output_type": "display_data"
    },
    {
     "data": {
      "text/markdown": [
       "<small>Thompson, Augustin</small>"
      ],
      "text/plain": [
       "<IPython.core.display.Markdown object>"
      ]
     },
     "metadata": {},
     "output_type": "display_data"
    },
    {
     "data": {
      "text/markdown": [
       "War in America and the Last Days of Slavery. y\\ . THC By Dr. A. THOMPSON, •I Lowell, Mass. “There are more things in <span style=\"color: blue\">Heaven and Earth, Horatio, than are dreamt of in your Philosophy</span>.”— Shakespeare. J THE RAPID PRINTING CO., ЧЧ “Й/Х! BOSTON, PUBLISHERS. 1892. To France and her people, our friends in the day of our sorest"
      ],
      "text/plain": [
       "<IPython.core.display.Markdown object>"
      ]
     },
     "metadata": {},
     "output_type": "display_data"
    },
    {
     "name": "stdout",
     "output_type": "stream",
     "text": [
      "--------------------------------------------------\n"
     ]
    },
    {
     "data": {
      "text/markdown": [
       "### Hamlet"
      ],
      "text/plain": [
       "<IPython.core.display.Markdown object>"
      ]
     },
     "metadata": {},
     "output_type": "display_data"
    },
    {
     "data": {
      "text/markdown": [
       "whose lightest word Would harrow up thy soul; freeze thy young blood; Make <span style=\"color: blue\">thy two eyes, like stars, start from their spheres; Thy knotted and combined locks to part, And each particular hair to stand on end Like quills upon the fretful porcupine</span>: But this eternal blazon must not be To ears of flesh and blood.--List, list, O, list"
      ],
      "text/plain": [
       "<IPython.core.display.Markdown object>"
      ]
     },
     "metadata": {},
     "output_type": "display_data"
    },
    {
     "data": {
      "text/markdown": [
       "### The Old Plantation, and What I Gathered There in an Autumn Month: By James Hungerford …"
      ],
      "text/plain": [
       "<IPython.core.display.Markdown object>"
      ]
     },
     "metadata": {},
     "output_type": "display_data"
    },
    {
     "data": {
      "text/markdown": [
       "<small>Hungerford, James (James Edward)</small>"
      ],
      "text/plain": [
       "<IPython.core.display.Markdown object>"
      ]
     },
     "metadata": {},
     "output_type": "display_data"
    },
    {
     "data": {
      "text/markdown": [
       "While you have that story about Dr. Jackson to tell, major,” I remarked, “you may say, with the ghost in Hamlet, “ ‘ I could a tail unfold Would ******* Make <span style=\"color: blue\">thy two eyes, like stars, start from the spheres, Thy knotted and combined locks to part, And each particular hair to stand on end Like quills upon the fretful porcupine</span>.’ ” These lines Avere gi\\ T en with a pointed emphasis. The young ladies looked"
      ],
      "text/plain": [
       "<IPython.core.display.Markdown object>"
      ]
     },
     "metadata": {},
     "output_type": "display_data"
    },
    {
     "name": "stdout",
     "output_type": "stream",
     "text": [
      "--------------------------------------------------\n"
     ]
    },
    {
     "data": {
      "text/markdown": [
       "### Hamlet"
      ],
      "text/plain": [
       "<IPython.core.display.Markdown object>"
      ]
     },
     "metadata": {},
     "output_type": "display_data"
    },
    {
     "data": {
      "text/markdown": [
       "times; and now, how abhorred in my imagination it is! my gorge rises at it. Here hung those lips that I have kiss'd I know not how oft. Where be your <span style=\"color: blue\">gibes now? your gambols? your songs? your flashes of merriment, that were wont to set the table on a roar</span>? Not one now, to mock your own grinning? quite chap-fallen? Now, get you to my lady's chamber, and tell her, let her paint an inch"
      ],
      "text/plain": [
       "<IPython.core.display.Markdown object>"
      ]
     },
     "metadata": {},
     "output_type": "display_data"
    },
    {
     "data": {
      "text/markdown": [
       "### An Escape from Philistia: A Novel: By Russell P. Jacobus …"
      ],
      "text/plain": [
       "<IPython.core.display.Markdown object>"
      ]
     },
     "metadata": {},
     "output_type": "display_data"
    },
    {
     "data": {
      "text/markdown": [
       "<small>Jacobus, Russell P.</small>"
      ],
      "text/plain": [
       "<IPython.core.display.Markdown object>"
      ]
     },
     "metadata": {},
     "output_type": "display_data"
    },
    {
     "data": {
      "text/markdown": [
       "propose another toast: to the immortal Booth! — Do you remember how he gave those lines about Yorick’s lips: ‘Where be your <span style=\"color: blue\">gibes now? your gambols? your songs? your flashes of merriment, that were wont to set the table in a roar</span>? ’ It is like the whole book of Ecclesiastes condensed into one sentence. It impresses me just as Holbein’s ‘ Dance of Death"
      ],
      "text/plain": [
       "<IPython.core.display.Markdown object>"
      ]
     },
     "metadata": {},
     "output_type": "display_data"
    },
    {
     "name": "stdout",
     "output_type": "stream",
     "text": [
      "--------------------------------------------------\n"
     ]
    },
    {
     "data": {
      "text/markdown": [
       "### Hamlet"
      ],
      "text/plain": [
       "<IPython.core.display.Markdown object>"
      ]
     },
     "metadata": {},
     "output_type": "display_data"
    },
    {
     "data": {
      "text/markdown": [
       "Hor. You will lose this wager, my lord. Ham. I do not think so; since he went into France I have been in continual practice: I <span style=\"color: blue\">shall win at the odds. But thou wouldst not think how ill all's here about my heart: but it is no matter</span>. Hor. Nay, good my lord,-- Ham. It is but foolery; but it is such a kind of gain-giving as would perhaps trouble"
      ],
      "text/plain": [
       "<IPython.core.display.Markdown object>"
      ]
     },
     "metadata": {},
     "output_type": "display_data"
    },
    {
     "data": {
      "text/markdown": [
       "### An Escape from Philistia: A Novel: By Russell P. Jacobus …"
      ],
      "text/plain": [
       "<IPython.core.display.Markdown object>"
      ]
     },
     "metadata": {},
     "output_type": "display_data"
    },
    {
     "data": {
      "text/markdown": [
       "<small>Jacobus, Russell P.</small>"
      ],
      "text/plain": [
       "<IPython.core.display.Markdown object>"
      ]
     },
     "metadata": {},
     "output_type": "display_data"
    },
    {
     "data": {
      "text/markdown": [
       "laughed Barret, “ the lines that most affected me were those just after Hamlet received the challenge, and Horatio urged him to refuse: ‘I <span style=\"color: blue\">shall win at the odds. But thou wouldst not think how ill all ’s here about my heart; but it is no matter</span>.’” “ There is something deucedly pathetic about that,” said Hurd; then turning to Perry: “Now, my son, let’s hear what specially struck"
      ],
      "text/plain": [
       "<IPython.core.display.Markdown object>"
      ]
     },
     "metadata": {},
     "output_type": "display_data"
    },
    {
     "name": "stdout",
     "output_type": "stream",
     "text": [
      "--------------------------------------------------\n"
     ]
    },
    {
     "data": {
      "text/markdown": [
       "### Hamlet"
      ],
      "text/plain": [
       "<IPython.core.display.Markdown object>"
      ]
     },
     "metadata": {},
     "output_type": "display_data"
    },
    {
     "data": {
      "text/markdown": [
       "receive no tokens. Which done, she took the fruits of my advice; And he, repulsed,--a short tale to make,-- Fell into a sadness; then into a <span style=\"color: blue\">fast; Thence to a watch; thence into a weakness; Thence to a lightness; and, by this declension, Into the madness wherein now he raves</span>, And all we wail for. King. Do you think 'tis this? Queen. It may be, very likely. Pol. Hath there been such a time,--I'd fain know that-- That I have positively"
      ],
      "text/plain": [
       "<IPython.core.display.Markdown object>"
      ]
     },
     "metadata": {},
     "output_type": "display_data"
    },
    {
     "data": {
      "text/markdown": [
       "### Beech Bluff: A Tale of the South: By Fannie Warner"
      ],
      "text/plain": [
       "<IPython.core.display.Markdown object>"
      ]
     },
     "metadata": {},
     "output_type": "display_data"
    },
    {
     "data": {
      "text/markdown": [
       "<small>Warner, Fannie</small>"
      ],
      "text/plain": [
       "<IPython.core.display.Markdown object>"
      ]
     },
     "metadata": {},
     "output_type": "display_data"
    },
    {
     "data": {
      "text/markdown": [
       "T. “Ah, ha ! There’s mischief in this man.” “And he, repulsed (a short tale to make), Fell into silence, then into a fast <span style=\"color: blue\">; Thence to a watch ; thence into a weakness ; Thence to a lightness ; and Ъу this declension Into the madness wherein now he raves.” “</span> There are a thousand such elsewhere As worthy of your wonder.” After assisting the girls to dress, and bestowing a reasonable amount of"
      ],
      "text/plain": [
       "<IPython.core.display.Markdown object>"
      ]
     },
     "metadata": {},
     "output_type": "display_data"
    },
    {
     "name": "stdout",
     "output_type": "stream",
     "text": [
      "--------------------------------------------------\n"
     ]
    },
    {
     "data": {
      "text/markdown": [
       "### Hamlet"
      ],
      "text/plain": [
       "<IPython.core.display.Markdown object>"
      ]
     },
     "metadata": {},
     "output_type": "display_data"
    },
    {
     "data": {
      "text/markdown": [
       "herein This present object made probation. Mar. It faded on the crowing of the cock. Some say that ever 'gainst that season <span style=\"color: blue\">comes Wherein our Saviour's birth is celebrated, The bird of dawning singeth all night long; And then, they say, no spirit</span> dare stir abroad; The nights are wholesome; then no planets strike, No fairy takes, nor"
      ],
      "text/plain": [
       "<IPython.core.display.Markdown object>"
      ]
     },
     "metadata": {},
     "output_type": "display_data"
    },
    {
     "data": {
      "text/markdown": [
       "### The Works of Washington Irving"
      ],
      "text/plain": [
       "<IPython.core.display.Markdown object>"
      ]
     },
     "metadata": {},
     "output_type": "display_data"
    },
    {
     "data": {
      "text/markdown": [
       "<small>Irving, Washington</small>"
      ],
      "text/plain": [
       "<IPython.core.display.Markdown object>"
      ]
     },
     "metadata": {},
     "output_type": "display_data"
    },
    {
     "data": {
      "text/markdown": [
       "s to his feathery dames,” was thought by the common people to announce the approach of this sacred festival : “ Some say that ever ’gainst that eeason comes <span style=\"color: blue\">Wherein our Saviour's birth is celebrated, This bird of dawning singeth all night long ; And then, they say, no spirit dares</span> stir abroad ; The nights arc whioleaome—then no planets strike, No fairy takes, no w"
      ],
      "text/plain": [
       "<IPython.core.display.Markdown object>"
      ]
     },
     "metadata": {},
     "output_type": "display_data"
    },
    {
     "name": "stdout",
     "output_type": "stream",
     "text": [
      "--------------------------------------------------\n"
     ]
    },
    {
     "data": {
      "text/markdown": [
       "### Hamlet"
      ],
      "text/plain": [
       "<IPython.core.display.Markdown object>"
      ]
     },
     "metadata": {},
     "output_type": "display_data"
    },
    {
     "data": {
      "text/markdown": [
       "wherefore I know not,--lost all my mirth, forgone all custom of exercises; and indeed, it goes so heavily with my disposition that this <span style=\"color: blue\">goodly frame, the earth, seems to me a sterile promontory; this most excellent canopy, the air, look you, this brave o'erhanging firmament</span>, this majestical roof fretted with golden fire,--why, it appears no other thing to me than a foul and pestilent congregation of vapours"
      ],
      "text/plain": [
       "<IPython.core.display.Markdown object>"
      ]
     },
     "metadata": {},
     "output_type": "display_data"
    },
    {
     "data": {
      "text/markdown": [
       "### The Heirs of St. Kilda: A Story of the Southern Past..: John Wheeler Moore"
      ],
      "text/plain": [
       "<IPython.core.display.Markdown object>"
      ]
     },
     "metadata": {},
     "output_type": "display_data"
    },
    {
     "data": {
      "text/markdown": [
       "<small>Moore, John Wheeler</small>"
      ],
      "text/plain": [
       "<IPython.core.display.Markdown object>"
      ]
     },
     "metadata": {},
     "output_type": "display_data"
    },
    {
     "data": {
      "text/markdown": [
       "saev her fade and pass from my reach. Ten days before the world was full of glory, but since my loss , 1 This <span style=\"color: blue\">goodly frame, the earth, seems to me a sterile promontory ; this most excellent canopy, the air, look you, this brave o’erhanging firmament</span>, this majesti- cal roof, fretted with golden fire, why it appears no other thing to me than a foul and pestilent congregation"
      ],
      "text/plain": [
       "<IPython.core.display.Markdown object>"
      ]
     },
     "metadata": {},
     "output_type": "display_data"
    },
    {
     "name": "stdout",
     "output_type": "stream",
     "text": [
      "--------------------------------------------------\n"
     ]
    },
    {
     "data": {
      "text/markdown": [
       "### Hamlet"
      ],
      "text/plain": [
       "<IPython.core.display.Markdown object>"
      ]
     },
     "metadata": {},
     "output_type": "display_data"
    },
    {
     "data": {
      "text/markdown": [
       "sterile promontory; this most excellent canopy, the air, look you, this brave o'erhanging firmament, this majestical <span style=\"color: blue\">roof fretted with golden fire,--why, it appears no other thing to me than a foul and pestilent congregation</span> of vapours. What a piece of work is man! How noble in reason! how infinite in faculties! in form and moving, how express and admirable"
      ],
      "text/plain": [
       "<IPython.core.display.Markdown object>"
      ]
     },
     "metadata": {},
     "output_type": "display_data"
    },
    {
     "data": {
      "text/markdown": [
       "### The Heirs of St. Kilda: A Story of the Southern Past..: John Wheeler Moore"
      ],
      "text/plain": [
       "<IPython.core.display.Markdown object>"
      ]
     },
     "metadata": {},
     "output_type": "display_data"
    },
    {
     "data": {
      "text/markdown": [
       "<small>Moore, John Wheeler</small>"
      ],
      "text/plain": [
       "<IPython.core.display.Markdown object>"
      ]
     },
     "metadata": {},
     "output_type": "display_data"
    },
    {
     "data": {
      "text/markdown": [
       "promontory ; this most excellent canopy, the air, look you, this brave o’erhanging firmament, this majesti- cal <span style=\"color: blue\">roof, fretted with golden fire, why it appears no other thing to me than a foul and pestilent congregation</span> of vapors.’ ” “God was more merciful than I deserved: instead of a maniac’s death He gave me surcease"
      ],
      "text/plain": [
       "<IPython.core.display.Markdown object>"
      ]
     },
     "metadata": {},
     "output_type": "display_data"
    },
    {
     "name": "stdout",
     "output_type": "stream",
     "text": [
      "--------------------------------------------------\n"
     ]
    },
    {
     "data": {
      "text/markdown": [
       "### Hamlet"
      ],
      "text/plain": [
       "<IPython.core.display.Markdown object>"
      ]
     },
     "metadata": {},
     "output_type": "display_data"
    },
    {
     "data": {
      "text/markdown": [
       "within 's two hours. Oph. Nay, 'tis twice two months, my lord. Ham. So long? <span style=\"color: blue\">Nay then, let the devil wear black, for I'll have a suit of sables</span>. O heavens! die two months ago, and not forgotten yet? Then there's hope a great man's"
      ],
      "text/plain": [
       "<IPython.core.display.Markdown object>"
      ]
     },
     "metadata": {},
     "output_type": "display_data"
    },
    {
     "data": {
      "text/markdown": [
       "### The Heirs of St. Kilda: A Story of the Southern Past..: John Wheeler Moore"
      ],
      "text/plain": [
       "<IPython.core.display.Markdown object>"
      ]
     },
     "metadata": {},
     "output_type": "display_data"
    },
    {
     "data": {
      "text/markdown": [
       "<small>Moore, John Wheeler</small>"
      ],
      "text/plain": [
       "<IPython.core.display.Markdown object>"
      ]
     },
     "metadata": {},
     "output_type": "display_data"
    },
    {
     "data": {
      "text/markdown": [
       "favor for which so much toil and care are undergone? Is there a dream that the applause of to-day will outlive the morrow ? “So long?” says Hamlet. “ <span style=\"color: blue\">Nay, then let the devil wear black, for I’ll have a suit of sables</span>. О Heavens 1 die two months ago, and not forgotten yet? Then there’s hope a great man’s memory"
      ],
      "text/plain": [
       "<IPython.core.display.Markdown object>"
      ]
     },
     "metadata": {},
     "output_type": "display_data"
    },
    {
     "name": "stdout",
     "output_type": "stream",
     "text": [
      "--------------------------------------------------\n"
     ]
    },
    {
     "data": {
      "text/markdown": [
       "### Hamlet"
      ],
      "text/plain": [
       "<IPython.core.display.Markdown object>"
      ]
     },
     "metadata": {},
     "output_type": "display_data"
    },
    {
     "data": {
      "text/markdown": [
       "lord. Ham. So long? Nay then, let the devil wear black, for I'll have a suit of sables. O <span style=\"color: blue\">heavens! die two months ago, and not forgotten yet? Then there's hope a great man's memory may outlive his life half</span> a year: but, by'r lady, he must build churches then; or else shall he suffer not thinking on, with the hobby"
      ],
      "text/plain": [
       "<IPython.core.display.Markdown object>"
      ]
     },
     "metadata": {},
     "output_type": "display_data"
    },
    {
     "data": {
      "text/markdown": [
       "### The Heirs of St. Kilda: A Story of the Southern Past..: John Wheeler Moore"
      ],
      "text/plain": [
       "<IPython.core.display.Markdown object>"
      ]
     },
     "metadata": {},
     "output_type": "display_data"
    },
    {
     "data": {
      "text/markdown": [
       "<small>Moore, John Wheeler</small>"
      ],
      "text/plain": [
       "<IPython.core.display.Markdown object>"
      ]
     },
     "metadata": {},
     "output_type": "display_data"
    },
    {
     "data": {
      "text/markdown": [
       "morrow ? “So long?” says Hamlet. “ Nay, then let the devil wear black, for I’ll have a suit of sables. О <span style=\"color: blue\">Heavens 1 die two months ago, and not forgotten yet? Then there’s hope a great man’s memory may outlive his life half</span> a year.” When the breath of spring came upon the awakening fields in the misty, dream-like glow óf"
      ],
      "text/plain": [
       "<IPython.core.display.Markdown object>"
      ]
     },
     "metadata": {},
     "output_type": "display_data"
    },
    {
     "name": "stdout",
     "output_type": "stream",
     "text": [
      "--------------------------------------------------\n"
     ]
    },
    {
     "data": {
      "text/markdown": [
       "### Hamlet"
      ],
      "text/plain": [
       "<IPython.core.display.Markdown object>"
      ]
     },
     "metadata": {},
     "output_type": "display_data"
    },
    {
     "data": {
      "text/markdown": [
       "lender be: For loan oft loses both itself and friend; And borrowing dulls the edge of husbandry. This <span style=\"color: blue\">above all,--to thine own self be true; And it must follow, as the night the day, Thou canst not then be false</span> to any man. Farewell: my blessing season this in thee! Laer. Most humbly do I take my leave, my lord. Pol. The time invites"
      ],
      "text/plain": [
       "<IPython.core.display.Markdown object>"
      ]
     },
     "metadata": {},
     "output_type": "display_data"
    },
    {
     "data": {
      "text/markdown": [
       "### The Wife of His Youth, and Other Stories of the Color Line: By Charles W. Chesnutt"
      ],
      "text/plain": [
       "<IPython.core.display.Markdown object>"
      ]
     },
     "metadata": {},
     "output_type": "display_data"
    },
    {
     "data": {
      "text/markdown": [
       "<small>Chesnutt, Charles W. (Charles Waddell)</small>"
      ],
      "text/plain": [
       "<IPython.core.display.Markdown object>"
      ]
     },
     "metadata": {},
     "output_type": "display_data"
    },
    {
     "data": {
      "text/markdown": [
       "case with him. I tried to discuss it impartially. After we had looked upon the matter from every point of view, I said to him, in words that we all know : — ‘ This <span style=\"color: blue\">above all: to thine own self be true, And it must follow, as the night the day, Thou canst not then be false</span> to any man.’ Then, finally, I put the question to him, ‘ Shall you acknowledge her ? * “ And now, ladies and gentlemen, friends and companions, I ask"
      ],
      "text/plain": [
       "<IPython.core.display.Markdown object>"
      ]
     },
     "metadata": {},
     "output_type": "display_data"
    },
    {
     "name": "stdout",
     "output_type": "stream",
     "text": [
      "--------------------------------------------------\n"
     ]
    },
    {
     "data": {
      "text/markdown": [
       "### Hamlet"
      ],
      "text/plain": [
       "<IPython.core.display.Markdown object>"
      ]
     },
     "metadata": {},
     "output_type": "display_data"
    },
    {
     "data": {
      "text/markdown": [
       "thine ear, but few thy voice: Take each man's censure, but reserve thy judgment. <span style=\"color: blue\">Costly thy habit as thy purse can buy, But not express'd in fancy; rich, not gaudy: For the apparel oft proclaims</span> the man; And they in France of the best rank and station Are most select and generous chief in that. Neither a borrower nor a lender"
      ],
      "text/plain": [
       "<IPython.core.display.Markdown object>"
      ]
     },
     "metadata": {},
     "output_type": "display_data"
    },
    {
     "data": {
      "text/markdown": [
       "### Whose Soul Have I Now?: A Novel..: Mary Clay Knapp"
      ],
      "text/plain": [
       "<IPython.core.display.Markdown object>"
      ]
     },
     "metadata": {},
     "output_type": "display_data"
    },
    {
     "data": {
      "text/markdown": [
       "<small>Knapp, Mary Clay</small>"
      ],
      "text/plain": [
       "<IPython.core.display.Markdown object>"
      ]
     },
     "metadata": {},
     "output_type": "display_data"
    },
    {
     "data": {
      "text/markdown": [
       ". Fitzliugh’s dress quite as much as in his manner. It was as if he had taken Poloni us’s advice : “ Co <span style=\"color: blue\">stly thy habit as thy purse can buy, But not express'd in fancy ; rich, not gaudy : For the apparel oft proclaims t</span> he man.” I was compelled to admire him as he walked leisurely into that swarm of not over-clean natives —in his immaculate attire of soft g"
      ],
      "text/plain": [
       "<IPython.core.display.Markdown object>"
      ]
     },
     "metadata": {},
     "output_type": "display_data"
    },
    {
     "name": "stdout",
     "output_type": "stream",
     "text": [
      "--------------------------------------------------\n"
     ]
    },
    {
     "data": {
      "text/markdown": [
       "### Hamlet"
      ],
      "text/plain": [
       "<IPython.core.display.Markdown object>"
      ]
     },
     "metadata": {},
     "output_type": "display_data"
    },
    {
     "data": {
      "text/markdown": [
       "Exeunt all but Hamlet.] How all occasions do inform against me And spur my dull revenge! What is a man, If his chief good and market of his time Be but to <span style=\"color: blue\">sleep and feed? a beast, no more. Sure he that made us with such large discourse, Looking before and after, gave us not That capability and godlike reason</span> To fust in us unus'd. Now, whether it be Bestial oblivion, or some craven scruple Of thinking too precisely"
      ],
      "text/plain": [
       "<IPython.core.display.Markdown object>"
      ]
     },
     "metadata": {},
     "output_type": "display_data"
    },
    {
     "data": {
      "text/markdown": [
       "### Whose Soul Have I Now?: A Novel..: Mary Clay Knapp"
      ],
      "text/plain": [
       "<IPython.core.display.Markdown object>"
      ]
     },
     "metadata": {},
     "output_type": "display_data"
    },
    {
     "data": {
      "text/markdown": [
       "<small>Knapp, Mary Clay</small>"
      ],
      "text/plain": [
       "<IPython.core.display.Markdown object>"
      ]
     },
     "metadata": {},
     "output_type": "display_data"
    },
    {
     "data": {
      "text/markdown": [
       "n it feels and I stand self-accused. “ ‘ What is a man, If his chief \"ood ami maikét of his time Be but to sle <span style=\"color: blue\">ep and feed ? A beast, no more. Sure, He that made us with such large discourse, Looking before and after, gave us not That capability and godlike reason, T</span> o rust in us unus'd.' “ What have I done ? his well to question self. I will see Del Cardo ; he shall instruct, advise me"
      ],
      "text/plain": [
       "<IPython.core.display.Markdown object>"
      ]
     },
     "metadata": {},
     "output_type": "display_data"
    },
    {
     "name": "stdout",
     "output_type": "stream",
     "text": [
      "--------------------------------------------------\n"
     ]
    },
    {
     "data": {
      "text/markdown": [
       "### Hamlet"
      ],
      "text/plain": [
       "<IPython.core.display.Markdown object>"
      ]
     },
     "metadata": {},
     "output_type": "display_data"
    },
    {
     "data": {
      "text/markdown": [
       "weary life, But that the dread of something after death,-- The undiscover'd country, from whose bourn No traveller returns,-- <span style=\"color: blue\">puzzles the will, And makes us rather bear those ills we have Than fly to others</span> that we know not of? Thus conscience does make cowards of us all; And thus the native hue of resolution Is sicklied o'er"
      ],
      "text/plain": [
       "<IPython.core.display.Markdown object>"
      ]
     },
     "metadata": {},
     "output_type": "display_data"
    },
    {
     "data": {
      "text/markdown": [
       "### Beneath the Dome: A Posthumous Novel: Arnold Clark"
      ],
      "text/plain": [
       "<IPython.core.display.Markdown object>"
      ]
     },
     "metadata": {},
     "output_type": "display_data"
    },
    {
     "data": {
      "text/markdown": [
       "<small>Clark, Arnold</small>"
      ],
      "text/plain": [
       "<IPython.core.display.Markdown object>"
      ]
     },
     "metadata": {},
     "output_type": "display_data"
    },
    {
     "data": {
      "text/markdown": [
       "solemnity, parts of Hamlet’s soliloquy on Death, concluding with tragic mournfulness about that \"dread of something after,\" “which <span style=\"color: blue\">puzzles the will, that makes us rather bear the ills we have than fly to others</span> that we know not of.\" What would this world be without the mirth-makers, who, like our \"Old Mortality,\" can wreathe even the face of Death with smiles? The guests are gone"
      ],
      "text/plain": [
       "<IPython.core.display.Markdown object>"
      ]
     },
     "metadata": {},
     "output_type": "display_data"
    },
    {
     "name": "stdout",
     "output_type": "stream",
     "text": [
      "--------------------------------------------------\n"
     ]
    },
    {
     "data": {
      "text/markdown": [
       "### Hamlet"
      ],
      "text/plain": [
       "<IPython.core.display.Markdown object>"
      ]
     },
     "metadata": {},
     "output_type": "display_data"
    },
    {
     "data": {
      "text/markdown": [
       "ills we have Than fly to others that we know not of? Thus conscience does make cowards of us all; And thus the native hue of resolution Is <span style=\"color: blue\">sicklied o'er with the pale cast</span> of thought; And enterprises of great pith and moment, With this regard, their currents turn awry, And lose the name of action"
      ],
      "text/plain": [
       "<IPython.core.display.Markdown object>"
      ]
     },
     "metadata": {},
     "output_type": "display_data"
    },
    {
     "data": {
      "text/markdown": [
       "### Easy Nat: Or, Boston Bars and Boston Boys: A Tale of Home Trials: By One Who Knows Them"
      ],
      "text/plain": [
       "<IPython.core.display.Markdown object>"
      ]
     },
     "metadata": {},
     "output_type": "display_data"
    },
    {
     "data": {
      "text/markdown": [
       "<small>None</small>"
      ],
      "text/plain": [
       "<IPython.core.display.Markdown object>"
      ]
     },
     "metadata": {},
     "output_type": "display_data"
    },
    {
     "data": {
      "text/markdown": [
       "unches, John, ’ot! ’ The last words were intended for a gentlemanly looking young man, who, with a thin face, * s <span style=\"color: blue\">icklied o’er with the pale cast</span> of thought,’ or something else, was looking wistfully from the other side of the bar. Taking their seats at a marble table in the further"
      ],
      "text/plain": [
       "<IPython.core.display.Markdown object>"
      ]
     },
     "metadata": {},
     "output_type": "display_data"
    },
    {
     "name": "stdout",
     "output_type": "stream",
     "text": [
      "--------------------------------------------------\n"
     ]
    },
    {
     "data": {
      "text/markdown": [
       "### Hamlet"
      ],
      "text/plain": [
       "<IPython.core.display.Markdown object>"
      ]
     },
     "metadata": {},
     "output_type": "display_data"
    },
    {
     "data": {
      "text/markdown": [
       "scourge and minister. I will bestow him, and will answer well The death I gave him. So again, good-night.-- I must be cruel, only to be kind: <span style=\"color: blue\">Thus bad begins, and worse remains</span> behind.-- One word more, good lady. Queen. What shall I do? Ham. Not this, by no means, that I bid you do: Let the bloat king"
      ],
      "text/plain": [
       "<IPython.core.display.Markdown object>"
      ]
     },
     "metadata": {},
     "output_type": "display_data"
    },
    {
     "data": {
      "text/markdown": [
       "### Waggeries and Vagaries: A Series of Sketches, Humorous and Descriptive: By W. E. Burton"
      ],
      "text/plain": [
       "<IPython.core.display.Markdown object>"
      ]
     },
     "metadata": {},
     "output_type": "display_data"
    },
    {
     "data": {
      "text/markdown": [
       "<small>Burton, William E. (William Evans)</small>"
      ],
      "text/plain": [
       "<IPython.core.display.Markdown object>"
      ]
     },
     "metadata": {},
     "output_type": "display_data"
    },
    {
     "data": {
      "text/markdown": [
       "bullet flew wide of the mark. Several succeeding attempts were equally futile. “ Halloo ! « <span style=\"color: blue\">thus bad begins but worse remains</span> be¬ hind.’ But it serves us right ; we have no business to desecrate these memento-mories, or make these flying heads dance off by our ball"
      ],
      "text/plain": [
       "<IPython.core.display.Markdown object>"
      ]
     },
     "metadata": {},
     "output_type": "display_data"
    },
    {
     "name": "stdout",
     "output_type": "stream",
     "text": [
      "--------------------------------------------------\n"
     ]
    },
    {
     "data": {
      "text/markdown": [
       "### Hamlet"
      ],
      "text/plain": [
       "<IPython.core.display.Markdown object>"
      ]
     },
     "metadata": {},
     "output_type": "display_data"
    },
    {
     "data": {
      "text/markdown": [
       "loan oft loses both itself and friend; And borrowing dulls the edge of husbandry. This above all,--to <span style=\"color: blue\">thine own self be true; And it must follow, as the night the day, Thou canst not then be false</span> to any man. Farewell: my blessing season this in thee! Laer. Most humbly do I take my leave, my lord. Pol. The time invites"
      ],
      "text/plain": [
       "<IPython.core.display.Markdown object>"
      ]
     },
     "metadata": {},
     "output_type": "display_data"
    },
    {
     "data": {
      "text/markdown": [
       "### Writing to Rosina: By W. H. Bishop"
      ],
      "text/plain": [
       "<IPython.core.display.Markdown object>"
      ]
     },
     "metadata": {},
     "output_type": "display_data"
    },
    {
     "data": {
      "text/markdown": [
       "<small>Bishop, William Henry</small>"
      ],
      "text/plain": [
       "<IPython.core.display.Markdown object>"
      ]
     },
     "metadata": {},
     "output_type": "display_data"
    },
    {
     "data": {
      "text/markdown": [
       "unvar¬ nished truth. Trust not too much to elaborately polished periods and classic forms of expression : —to <span style=\"color: blue\">thine own self be true, And it must follow, as the night the day, Thou canst not then be false</span> to any man. Ha ! ha ! ” And he tore away to catch his train, making close connections with Beaver Coun"
      ],
      "text/plain": [
       "<IPython.core.display.Markdown object>"
      ]
     },
     "metadata": {},
     "output_type": "display_data"
    },
    {
     "name": "stdout",
     "output_type": "stream",
     "text": [
      "--------------------------------------------------\n"
     ]
    },
    {
     "data": {
      "text/markdown": [
       "### Hamlet"
      ],
      "text/plain": [
       "<IPython.core.display.Markdown object>"
      ]
     },
     "metadata": {},
     "output_type": "display_data"
    },
    {
     "data": {
      "text/markdown": [
       "held his wont to walk. [A flourish of trumpets, and ordnance shot off within.] What does this mean, my lord? Ham. The <span style=\"color: blue\">King doth wake to-night and takes his rouse, Keeps</span> wassail, and the swaggering up-spring reels; And, as he drains his draughts of Rhenish down, The kettle-drum and trumpet"
      ],
      "text/plain": [
       "<IPython.core.display.Markdown object>"
      ]
     },
     "metadata": {},
     "output_type": "display_data"
    },
    {
     "data": {
      "text/markdown": [
       "### The Little Lady, Some Other People, and Myself: By Tom Hall"
      ],
      "text/plain": [
       "<IPython.core.display.Markdown object>"
      ]
     },
     "metadata": {},
     "output_type": "display_data"
    },
    {
     "data": {
      "text/markdown": [
       "<small>Hall, Tom</small>"
      ],
      "text/plain": [
       "<IPython.core.display.Markdown object>"
      ]
     },
     "metadata": {},
     "output_type": "display_data"
    },
    {
     "data": {
      "text/markdown": [
       "W. Г7 OOD morrow, good my lord VÌX Marry, and how now? E’en so, my lord. The ki <span style=\"color: blue\">ng doth wake to-night, and takes his rouse. Keeps w</span> assel, and the swaggering up- spring reels. Gad zooks! Is’t so? Г st. Think it no more ! For Nature, crescent,"
      ],
      "text/plain": [
       "<IPython.core.display.Markdown object>"
      ]
     },
     "metadata": {},
     "output_type": "display_data"
    },
    {
     "name": "stdout",
     "output_type": "stream",
     "text": [
      "--------------------------------------------------\n"
     ]
    },
    {
     "data": {
      "text/markdown": [
       "### Hamlet"
      ],
      "text/plain": [
       "<IPython.core.display.Markdown object>"
      ]
     },
     "metadata": {},
     "output_type": "display_data"
    },
    {
     "data": {
      "text/markdown": [
       "d: bring me to the test, And I the matter will re-word; which madness Would gambol from. Mother, for love of grace, <span style=\"color: blue\">Lay not that flattering unction to your soul That not your trespass, but my madness speaks</span>: It will but skin and film the ulcerous place, Whilst rank corruption, mining all within, Infects unseen"
      ],
      "text/plain": [
       "<IPython.core.display.Markdown object>"
      ]
     },
     "metadata": {},
     "output_type": "display_data"
    },
    {
     "data": {
      "text/markdown": [
       "### A Social Conspiracy; or, under the Ban: A Novel: By Veen Iogo"
      ],
      "text/plain": [
       "<IPython.core.display.Markdown object>"
      ]
     },
     "metadata": {},
     "output_type": "display_data"
    },
    {
     "data": {
      "text/markdown": [
       "<small>Iogo, Veen</small>"
      ],
      "text/plain": [
       "<IPython.core.display.Markdown object>"
      ]
     },
     "metadata": {},
     "output_type": "display_data"
    },
    {
     "data": {
      "text/markdown": [
       "ion of a cultured audience. Under the sole management of Louis Carlisle, M. D.” “Lay no <span style=\"color: blue\">t that flattering unction to your soul, That not your trespass, but my madness, speaks.” Sha</span> k. The date having thus been fixed, there remained but thirty days of suspense before the sanity or in"
      ],
      "text/plain": [
       "<IPython.core.display.Markdown object>"
      ]
     },
     "metadata": {},
     "output_type": "display_data"
    },
    {
     "name": "stdout",
     "output_type": "stream",
     "text": [
      "--------------------------------------------------\n"
     ]
    },
    {
     "data": {
      "text/markdown": [
       "### Hamlet"
      ],
      "text/plain": [
       "<IPython.core.display.Markdown object>"
      ]
     },
     "metadata": {},
     "output_type": "display_data"
    },
    {
     "data": {
      "text/markdown": [
       "Seek for thy noble father in the dust: Thou know'st 'tis common,--all that lives <span style=\"color: blue\">must die, Passing through nature to eternity</span>. Ham. Ay, madam, it is common. Queen. If it be, Why seems it so particular with thee? Ham. Seems"
      ],
      "text/plain": [
       "<IPython.core.display.Markdown object>"
      ]
     },
     "metadata": {},
     "output_type": "display_data"
    },
    {
     "data": {
      "text/markdown": [
       "### Henri: Or, the Web and Woof of Life..: William G. Cambridge"
      ],
      "text/plain": [
       "<IPython.core.display.Markdown object>"
      ]
     },
     "metadata": {},
     "output_type": "display_data"
    },
    {
     "data": {
      "text/markdown": [
       "<small>Cambridge, William G.</small>"
      ],
      "text/plain": [
       "<IPython.core.display.Markdown object>"
      ]
     },
     "metadata": {},
     "output_type": "display_data"
    },
    {
     "data": {
      "text/markdown": [
       "ashes ! ” “ After life’s fitful fever, he sleeps well.” “ Thou knowest it is common, all that live mus <span style=\"color: blue\">t die, Passing through nature to eternity.”</span>“ Close up his eyes, and draw the curtain close, And let us all to meditation.” Our tastes being so similar, it was no marvel that we should seek ea"
      ],
      "text/plain": [
       "<IPython.core.display.Markdown object>"
      ]
     },
     "metadata": {},
     "output_type": "display_data"
    },
    {
     "name": "stdout",
     "output_type": "stream",
     "text": [
      "--------------------------------------------------\n"
     ]
    },
    {
     "data": {
      "text/markdown": [
       "### Hamlet"
      ],
      "text/plain": [
       "<IPython.core.display.Markdown object>"
      ]
     },
     "metadata": {},
     "output_type": "display_data"
    },
    {
     "data": {
      "text/markdown": [
       "hour, With martial stalk hath he gone by our watch. Hor. In what particular thought to work I know not; But, in the gross and scope of my <span style=\"color: blue\">opinion, This bodes some strange eruption to our state</span>. Mar. Good now, sit down, and tell me, he that knows, Why this same strict and most observant watch So nightly toils the subject of the land"
      ],
      "text/plain": [
       "<IPython.core.display.Markdown object>"
      ]
     },
     "metadata": {},
     "output_type": "display_data"
    },
    {
     "data": {
      "text/markdown": [
       "### The Children of Issachar (I Chronicles xii: 32): A Story of Wrongs and Remedies"
      ],
      "text/plain": [
       "<IPython.core.display.Markdown object>"
      ]
     },
     "metadata": {},
     "output_type": "display_data"
    },
    {
     "data": {
      "text/markdown": [
       "<small>Brewer, Willis</small>"
      ],
      "text/plain": [
       "<IPython.core.display.Markdown object>"
      ]
     },
     "metadata": {},
     "output_type": "display_data"
    },
    {
     "data": {
      "text/markdown": [
       "m čtcáfec· ť CHAPTER VI. THE MIDNIGHT MEETING. -In the gross and scope of mine <span style=\"color: blue\">opinion, This bodes some strange eruption to our state</span>. — Hamlet. Jim, or Jim Neilson as he called himself, reached the spring at the foot of the ridge"
      ],
      "text/plain": [
       "<IPython.core.display.Markdown object>"
      ]
     },
     "metadata": {},
     "output_type": "display_data"
    },
    {
     "name": "stdout",
     "output_type": "stream",
     "text": [
      "--------------------------------------------------\n"
     ]
    },
    {
     "data": {
      "text/markdown": [
       "### Hamlet"
      ],
      "text/plain": [
       "<IPython.core.display.Markdown object>"
      ]
     },
     "metadata": {},
     "output_type": "display_data"
    },
    {
     "data": {
      "text/markdown": [
       "d, But never the offence. To bear all smooth and even, This sudden sending him away must seem Deliberate pause: <span style=\"color: blue\">diseases desperate grown By desperate appliance</span> are reliev'd, Or not at all. [Enter Rosencrantz.] How now! what hath befall'n? Ros. Where the dead body"
      ],
      "text/plain": [
       "<IPython.core.display.Markdown object>"
      ]
     },
     "metadata": {},
     "output_type": "display_data"
    },
    {
     "data": {
      "text/markdown": [
       "### The Children of Issachar (I Chronicles xii: 32): A Story of Wrongs and Remedies"
      ],
      "text/plain": [
       "<IPython.core.display.Markdown object>"
      ]
     },
     "metadata": {},
     "output_type": "display_data"
    },
    {
     "data": {
      "text/markdown": [
       "<small>Brewer, Willis</small>"
      ],
      "text/plain": [
       "<IPython.core.display.Markdown object>"
      ]
     },
     "metadata": {},
     "output_type": "display_data"
    },
    {
     "data": {
      "text/markdown": [
       "sco. —Stand, ho ! who is there ? Horatio .—Friends to this ground. Marcellus . —And liegemen to the Dane !— Hamlet. <span style=\"color: blue\">Diseases, desperate grown, by desperate appliance</span> are relieved. — Hamlet. In the midst of an old field, which had long lain fallow, and was at some short distance from any human habitation"
      ],
      "text/plain": [
       "<IPython.core.display.Markdown object>"
      ]
     },
     "metadata": {},
     "output_type": "display_data"
    },
    {
     "name": "stdout",
     "output_type": "stream",
     "text": [
      "--------------------------------------------------\n"
     ]
    },
    {
     "data": {
      "text/markdown": [
       "### Hamlet"
      ],
      "text/plain": [
       "<IPython.core.display.Markdown object>"
      ]
     },
     "metadata": {},
     "output_type": "display_data"
    },
    {
     "data": {
      "text/markdown": [
       "friends. Hor. O day and night, but this is wondrous strange! Ham. And therefore as a stranger give it welcome. There are more things in <span style=\"color: blue\">heaven and earth, Horatio, Than are dreamt of in your philosophy</span>. But come;-- Here, as before, never, so help you mercy, How strange or odd soe'er I bear myself,-- As I, perchance, hereafter shall"
      ],
      "text/plain": [
       "<IPython.core.display.Markdown object>"
      ]
     },
     "metadata": {},
     "output_type": "display_data"
    },
    {
     "data": {
      "text/markdown": [
       "### Maitland's Master Mystery: By Melvin L. Severy"
      ],
      "text/plain": [
       "<IPython.core.display.Markdown object>"
      ]
     },
     "metadata": {},
     "output_type": "display_data"
    },
    {
     "data": {
      "text/markdown": [
       "<small>Severy, Melvin L. (Melvin Linwood)</small>"
      ],
      "text/plain": [
       "<IPython.core.display.Markdown object>"
      ]
     },
     "metadata": {},
     "output_type": "display_data"
    },
    {
     "data": {
      "text/markdown": [
       "oman’s back brain were going to prove better than both our front ones. Ham¬ let might easily have referred to this case when he said ; ‘There are more things in h <span style=\"color: blue\">eaven and earth, Horatio, Than are dreamt of in your philosophy.</span>’ Who would ever have thought, an hour ago, that any¬ thing could possibly transpire to make you and me seriously consider this theory of hypnotism for a single moment?"
      ],
      "text/plain": [
       "<IPython.core.display.Markdown object>"
      ]
     },
     "metadata": {},
     "output_type": "display_data"
    },
    {
     "name": "stdout",
     "output_type": "stream",
     "text": [
      "--------------------------------------------------\n"
     ]
    },
    {
     "data": {
      "text/markdown": [
       "### Hamlet"
      ],
      "text/plain": [
       "<IPython.core.display.Markdown object>"
      ]
     },
     "metadata": {},
     "output_type": "display_data"
    },
    {
     "data": {
      "text/markdown": [
       "heavens! Ham. If thou dost marry, I'll give thee this plague for thy dowry,-- be <span style=\"color: blue\">thou as chaste as ice, as pure as snow, thou shalt not escape calumny</span>. Get thee to a nunnery, go: farewell. Or, if thou wilt needs marry, marry a fool; for wise"
      ],
      "text/plain": [
       "<IPython.core.display.Markdown object>"
      ]
     },
     "metadata": {},
     "output_type": "display_data"
    },
    {
     "data": {
      "text/markdown": [
       "### By Their Fruits: By Edith M. Nicholl (Mrs. Bowyer)"
      ],
      "text/plain": [
       "<IPython.core.display.Markdown object>"
      ]
     },
     "metadata": {},
     "output_type": "display_data"
    },
    {
     "data": {
      "text/markdown": [
       "<small>Nicholl, Edith M.</small>"
      ],
      "text/plain": [
       "<IPython.core.display.Markdown object>"
      ]
     },
     "metadata": {},
     "output_type": "display_data"
    },
    {
     "data": {
      "text/markdown": [
       "faults and tiresome ways, was to be trusted. CHAPTER V. “THOU SHALT NOT ESCAPE CALUMNY.” “ Be <span style=\"color: blue\">thou as chaste as ice, as pure as snow, thou shalt not escape calumny</span>.” —Shaxsperi. Day after day went by, and Felicia grew whiter and more still. Her gaze often dwelt on her father, hut"
      ],
      "text/plain": [
       "<IPython.core.display.Markdown object>"
      ]
     },
     "metadata": {},
     "output_type": "display_data"
    },
    {
     "name": "stdout",
     "output_type": "stream",
     "text": [
      "--------------------------------------------------\n"
     ]
    },
    {
     "data": {
      "text/markdown": [
       "### Hamlet"
      ],
      "text/plain": [
       "<IPython.core.display.Markdown object>"
      ]
     },
     "metadata": {},
     "output_type": "display_data"
    },
    {
     "data": {
      "text/markdown": [
       "distraction in's aspect, A broken voice, and his whole function suiting With forms to his conceit? And all for nothing! For <span style=\"color: blue\">Hecuba? What's Hecuba to him, or he to Hecuba, That he should weep</span> for her? What would he do, Had he the motive and the cue for passion That I have? He would drown the stage with tears And cleave the general ear with horrid"
      ],
      "text/plain": [
       "<IPython.core.display.Markdown object>"
      ]
     },
     "metadata": {},
     "output_type": "display_data"
    },
    {
     "data": {
      "text/markdown": [
       "### Walter Ashwood: A Love Story: By Paul Siogvolk"
      ],
      "text/plain": [
       "<IPython.core.display.Markdown object>"
      ]
     },
     "metadata": {},
     "output_type": "display_data"
    },
    {
     "data": {
      "text/markdown": [
       "<small>Siogvolk, Paul</small>"
      ],
      "text/plain": [
       "<IPython.core.display.Markdown object>"
      ]
     },
     "metadata": {},
     "output_type": "display_data"
    },
    {
     "data": {
      "text/markdown": [
       "through crags and zigzags of the head,’ that I may grasp this shadow of a shadow, this 1 Parlia¬ ment of man, the Federation of the world!’ ‘ And all for nothing 1 For H <span style=\"color: blue\">ecuba 1 What’s Hecuba to him, or he to Hecuba, That he should weep</span> for her ?’ “ Why this flourish ? Why, forsooth, that individual liberty may perish, and humanity may die of dry-rot; or, as our poet"
      ],
      "text/plain": [
       "<IPython.core.display.Markdown object>"
      ]
     },
     "metadata": {},
     "output_type": "display_data"
    },
    {
     "name": "stdout",
     "output_type": "stream",
     "text": [
      "--------------------------------------------------\n"
     ]
    },
    {
     "data": {
      "text/markdown": [
       "### Hamlet"
      ],
      "text/plain": [
       "<IPython.core.display.Markdown object>"
      ]
     },
     "metadata": {},
     "output_type": "display_data"
    },
    {
     "data": {
      "text/markdown": [
       "Laer. Alas, then she is drown'd? Queen. Drown'd, drown'd. Laer. Too much of <span style=\"color: blue\">water hast thou, poor Ophelia</span>, And therefore I forbid my tears: but yet It is our trick; nature her custom holds, Let shame say what it will: when these are gone"
      ],
      "text/plain": [
       "<IPython.core.display.Markdown object>"
      ]
     },
     "metadata": {},
     "output_type": "display_data"
    },
    {
     "data": {
      "text/markdown": [
       "### Walter Ashwood: A Love Story: By Paul Siogvolk"
      ],
      "text/plain": [
       "<IPython.core.display.Markdown object>"
      ]
     },
     "metadata": {},
     "output_type": "display_data"
    },
    {
     "data": {
      "text/markdown": [
       "<small>Siogvolk, Paul</small>"
      ],
      "text/plain": [
       "<IPython.core.display.Markdown object>"
      ]
     },
     "metadata": {},
     "output_type": "display_data"
    },
    {
     "data": {
      "text/markdown": [
       "aken an overdose of opium, and was bespattered with more water than was necessary, or useful—and hence her aquatic views. Too much of w <span style=\"color: blue\">ater hast thou, poor Ophelia</span>! For some days Edith cannot leave her room ; she is feeble and prostrate, and patiently waits for the return"
      ],
      "text/plain": [
       "<IPython.core.display.Markdown object>"
      ]
     },
     "metadata": {},
     "output_type": "display_data"
    },
    {
     "name": "stdout",
     "output_type": "stream",
     "text": [
      "--------------------------------------------------\n"
     ]
    },
    {
     "data": {
      "text/markdown": [
       "### Hamlet"
      ],
      "text/plain": [
       "<IPython.core.display.Markdown object>"
      ]
     },
     "metadata": {},
     "output_type": "display_data"
    },
    {
     "data": {
      "text/markdown": [
       "prais'd be rashness for it,--let us know, Our indiscretion sometime serves us well, When our deep plots do fail; and that should teach us There' <span style=\"color: blue\">s a divinity that shapes our ends, Rough-hew</span> them how we will. Hor. That is most certain. Ham. Up from my cabin, My sea-gown scarf'd about me, in the dark Grop"
      ],
      "text/plain": [
       "<IPython.core.display.Markdown object>"
      ]
     },
     "metadata": {},
     "output_type": "display_data"
    },
    {
     "data": {
      "text/markdown": [
       "### \"Nat\" the Coal-Miner's Boy: Or, One Step at a Time: By Rev. T. L. Baily …"
      ],
      "text/plain": [
       "<IPython.core.display.Markdown object>"
      ]
     },
     "metadata": {},
     "output_type": "display_data"
    },
    {
     "data": {
      "text/markdown": [
       "<small>Baily, Thomas L.</small>"
      ],
      "text/plain": [
       "<IPython.core.display.Markdown object>"
      ]
     },
     "metadata": {},
     "output_type": "display_data"
    },
    {
     "data": {
      "text/markdown": [
       "satisfied with this one—and he wished for no other—that we too will follow the current till we see some good reason to change. CHAPTER IV. THE NEIGHBORS. “ There' <span style=\"color: blue\">s a divinity that shapes out ends, Rough hew</span> them as we may.” — Shakespeare. We have had a good look at Nat and his home, now let us peep into some of the sur¬ roundings. There were not many houses in that neigh¬ borhood, and those that had been built could not lay"
      ],
      "text/plain": [
       "<IPython.core.display.Markdown object>"
      ]
     },
     "metadata": {},
     "output_type": "display_data"
    },
    {
     "name": "stdout",
     "output_type": "stream",
     "text": [
      "--------------------------------------------------\n"
     ]
    },
    {
     "data": {
      "text/markdown": [
       "### Hamlet"
      ],
      "text/plain": [
       "<IPython.core.display.Markdown object>"
      ]
     },
     "metadata": {},
     "output_type": "display_data"
    },
    {
     "data": {
      "text/markdown": [
       "d be rashness for it,--let us know, Our indiscretion sometime serves us well, When our deep plots do fail; and that should teach us There's a <span style=\"color: blue\">divinity that shapes our ends, Rough-hew</span> them how we will. Hor. That is most certain. Ham. Up from my cabin, My sea-gown scarf'd about me, in the dark Grop"
      ],
      "text/plain": [
       "<IPython.core.display.Markdown object>"
      ]
     },
     "metadata": {},
     "output_type": "display_data"
    },
    {
     "data": {
      "text/markdown": [
       "### Greyslaer: A Romance of the Mohawk"
      ],
      "text/plain": [
       "<IPython.core.display.Markdown object>"
      ]
     },
     "metadata": {},
     "output_type": "display_data"
    },
    {
     "data": {
      "text/markdown": [
       "<small>Hoffman, Charles Fenno</small>"
      ],
      "text/plain": [
       "<IPython.core.display.Markdown object>"
      ]
     },
     "metadata": {},
     "output_type": "display_data"
    },
    {
     "data": {
      "text/markdown": [
       "OMANCE OF THE MOHAWK. ВТ THK AUTHOR OF * A WINTER IN THE WEST,” AND “ WILD SCENES IN THE FOREST AND PRAIRIE.” ţ алХ-0 -β. ^ Ή “ There is a d <span style=\"color: blue\">ivinity that shapes our ends, Rough hew</span> them how we will.” Shakspearł IN TWO VOLUMES. VOL. П. A NEW EDITION, CORRECTED ВТ THE AUTHOR. PHILADELPHIA: LEA & BLANCHARD. 1841. V"
      ],
      "text/plain": [
       "<IPython.core.display.Markdown object>"
      ]
     },
     "metadata": {},
     "output_type": "display_data"
    },
    {
     "name": "stdout",
     "output_type": "stream",
     "text": [
      "--------------------------------------------------\n"
     ]
    },
    {
     "data": {
      "text/markdown": [
       "### Hamlet"
      ],
      "text/plain": [
       "<IPython.core.display.Markdown object>"
      ]
     },
     "metadata": {},
     "output_type": "display_data"
    },
    {
     "data": {
      "text/markdown": [
       "d he so; At last,--a little shaking of mine arm, And thrice his head thus waving up and down,-- He rais'd a <span style=\"color: blue\">sigh so piteous and profound As it did seem to shatter</span> all his bulk And end his being: that done, he lets me go: And, with his head over his shoulder turn'd He seem'd to find his way without his eyes"
      ],
      "text/plain": [
       "<IPython.core.display.Markdown object>"
      ]
     },
     "metadata": {},
     "output_type": "display_data"
    },
    {
     "data": {
      "text/markdown": [
       "### Leather Stocking and Silk: Or, Hunter John Myers and His Times: A Story of the Valley of Virginia: John Esten Cooke"
      ],
      "text/plain": [
       "<IPython.core.display.Markdown object>"
      ]
     },
     "metadata": {},
     "output_type": "display_data"
    },
    {
     "data": {
      "text/markdown": [
       "<small>Cooke, John Esten</small>"
      ],
      "text/plain": [
       "<IPython.core.display.Markdown object>"
      ]
     },
     "metadata": {},
     "output_type": "display_data"
    },
    {
     "data": {
      "text/markdown": [
       "oom. Nothing could he more lovely than the young girl’s face at the moment. The knight before mentioned heaved a si <span style=\"color: blue\">gh so piteous and profound, that “ it did seem to shatter a</span> ll his hulk.” He was afterward heard to declare, that he would win that young lady for his bride, or perish in the attempt."
      ],
      "text/plain": [
       "<IPython.core.display.Markdown object>"
      ]
     },
     "metadata": {},
     "output_type": "display_data"
    },
    {
     "name": "stdout",
     "output_type": "stream",
     "text": [
      "--------------------------------------------------\n"
     ]
    },
    {
     "data": {
      "text/markdown": [
       "### Hamlet"
      ],
      "text/plain": [
       "<IPython.core.display.Markdown object>"
      ]
     },
     "metadata": {},
     "output_type": "display_data"
    },
    {
     "data": {
      "text/markdown": [
       "spirit in arms! All is not well; I doubt some foul play: would the night were come! Till then sit still, my soul: foul <span style=\"color: blue\">deeds will rise, Though all the earth o'erwhelm them, to men's eyes</span>. [Exit.] Scene III. A room in Polonius's house. [Enter Laertes and Ophelia.] Laer"
      ],
      "text/plain": [
       "<IPython.core.display.Markdown object>"
      ]
     },
     "metadata": {},
     "output_type": "display_data"
    },
    {
     "data": {
      "text/markdown": [
       "### The Mystery of Edwin Drood: Complete: Charles Dickens"
      ],
      "text/plain": [
       "<IPython.core.display.Markdown object>"
      ]
     },
     "metadata": {},
     "output_type": "display_data"
    },
    {
     "data": {
      "text/markdown": [
       "<small>Dickens, Charles</small>"
      ],
      "text/plain": [
       "<IPython.core.display.Markdown object>"
      ]
     },
     "metadata": {},
     "output_type": "display_data"
    },
    {
     "data": {
      "text/markdown": [
       "r¬ dles does, and he ain’t got nothin’ to say till the time comes. Have another one ? ” meaning ale. “ Strange de <span style=\"color: blue\">eds will rise, though all the earth o’erwhelm them, to men’s eyes,”</span> says Stollop, quoting from his favourite author, and looks very hard at the glass in his hand, as though h"
      ],
      "text/plain": [
       "<IPython.core.display.Markdown object>"
      ]
     },
     "metadata": {},
     "output_type": "display_data"
    },
    {
     "name": "stdout",
     "output_type": "stream",
     "text": [
      "--------------------------------------------------\n"
     ]
    },
    {
     "data": {
      "text/markdown": [
       "### Hamlet"
      ],
      "text/plain": [
       "<IPython.core.display.Markdown object>"
      ]
     },
     "metadata": {},
     "output_type": "display_data"
    },
    {
     "data": {
      "text/markdown": [
       "parted souls. Laer. Lay her i' the earth;-- And from her fair and unpolluted flesh May violets spring!--I tell <span style=\"color: blue\">thee, churlish priest, A ministering angel shall my sister be When thou liest howling</span>. Ham. What, the fair Ophelia? Queen. Sweets to the sweet: farewell. [Scattering flowers.] I hop"
      ],
      "text/plain": [
       "<IPython.core.display.Markdown object>"
      ]
     },
     "metadata": {},
     "output_type": "display_data"
    },
    {
     "data": {
      "text/markdown": [
       "### Utterly Wrecked: A Novel of American Coast Life..: Henry Morford"
      ],
      "text/plain": [
       "<IPython.core.display.Markdown object>"
      ]
     },
     "metadata": {},
     "output_type": "display_data"
    },
    {
     "data": {
      "text/markdown": [
       "<small>Morford, Henry</small>"
      ],
      "text/plain": [
       "<IPython.core.display.Markdown object>"
      ]
     },
     "metadata": {},
     "output_type": "display_data"
    },
    {
     "data": {
      "text/markdown": [
       "croning out his dis¬ satisfaction at being forced to give Christian burial to Ophelia, and the indignant burst of Laertes : “ — I tell <span style=\"color: blue\">thee, churlish priest, A ministering angel shall my sister be, When thou liest howling</span>! ” without being carried back to the point just recorded, of my boyish days, and seeing Tad AVilson, that grim"
      ],
      "text/plain": [
       "<IPython.core.display.Markdown object>"
      ]
     },
     "metadata": {},
     "output_type": "display_data"
    },
    {
     "name": "stdout",
     "output_type": "stream",
     "text": [
      "--------------------------------------------------\n"
     ]
    },
    {
     "data": {
      "text/markdown": [
       "### Hamlet"
      ],
      "text/plain": [
       "<IPython.core.display.Markdown object>"
      ]
     },
     "metadata": {},
     "output_type": "display_data"
    },
    {
     "data": {
      "text/markdown": [
       "false steward, that stole his master's daughter. Laer. This nothing's more than matter. Oph. There' <span style=\"color: blue\">s rosemary, that's for remembrance; pray, love, remember: and there is pansies, that's for thoughts</span>. Laer. A document in madness,--thoughts and remembrance fitted. Oph. There's fennel for you, and columbines"
      ],
      "text/plain": [
       "<IPython.core.display.Markdown object>"
      ]
     },
     "metadata": {},
     "output_type": "display_data"
    },
    {
     "data": {
      "text/markdown": [
       "### Lois Morton's Investment: By Eva Morley Murphy"
      ],
      "text/plain": [
       "<IPython.core.display.Markdown object>"
      ]
     },
     "metadata": {},
     "output_type": "display_data"
    },
    {
     "data": {
      "text/markdown": [
       "<small>Murphy, Eva Morley</small>"
      ],
      "text/plain": [
       "<IPython.core.display.Markdown object>"
      ]
     },
     "metadata": {},
     "output_type": "display_data"
    },
    {
     "data": {
      "text/markdown": [
       "dictionary, when she returned it by her father, had contained only a leaf of rosemary and a pressed pansy between its pages. “There’ <span style=\"color: blue\">s rosemary, that’s for remembrance ; I pray you, love, remember ; and there is pansies, that’s for thoughts</span>,” had been in her mind when she put them there. Since she had once attempted a character-reading of poor Ophelia at the Valley"
      ],
      "text/plain": [
       "<IPython.core.display.Markdown object>"
      ]
     },
     "metadata": {},
     "output_type": "display_data"
    },
    {
     "name": "stdout",
     "output_type": "stream",
     "text": [
      "--------------------------------------------------\n"
     ]
    },
    {
     "data": {
      "text/markdown": [
       "### Hamlet"
      ],
      "text/plain": [
       "<IPython.core.display.Markdown object>"
      ]
     },
     "metadata": {},
     "output_type": "display_data"
    },
    {
     "data": {
      "text/markdown": [
       "supper! where? Ham. Not where he eats, but where he is eaten: a certain convocation of politic worms are e'en at him. Your <span style=\"color: blue\">worm is your only emperor for diet: we fat all creatures else to fat us, and we fat ourselves for maggots</span>: your fat king and your lean beggar is but variable service,--two dishes, but to one table: that's the end. King"
      ],
      "text/plain": [
       "<IPython.core.display.Markdown object>"
      ]
     },
     "metadata": {},
     "output_type": "display_data"
    },
    {
     "data": {
      "text/markdown": [
       "### Until the Day Break: A Novel: By Robert Burns Wilson"
      ],
      "text/plain": [
       "<IPython.core.display.Markdown object>"
      ]
     },
     "metadata": {},
     "output_type": "display_data"
    },
    {
     "data": {
      "text/markdown": [
       "<small>Wilson, Robert Burns</small>"
      ],
      "text/plain": [
       "<IPython.core.display.Markdown object>"
      ]
     },
     "metadata": {},
     "output_type": "display_data"
    },
    {
     "data": {
      "text/markdown": [
       "cosmogony.” “ Oh, well, heaven mend you, my friend, and, in the meantime, have a care that the worm does not take occasion to turn his attention to you. 20 Your <span style=\"color: blue\">worm is your only emperor for diet, you know : ‘We fat all creatures else to fat us, we fat ourselves for maggots</span>; your-’ ” “ Hold, hold,” said Ainsworth, with unusual gayety, “ I’ll finish your quotation for you ; ‘ your fat publisher"
      ],
      "text/plain": [
       "<IPython.core.display.Markdown object>"
      ]
     },
     "metadata": {},
     "output_type": "display_data"
    },
    {
     "name": "stdout",
     "output_type": "stream",
     "text": [
      "--------------------------------------------------\n"
     ]
    },
    {
     "data": {
      "text/markdown": [
       "### Hamlet"
      ],
      "text/plain": [
       "<IPython.core.display.Markdown object>"
      ]
     },
     "metadata": {},
     "output_type": "display_data"
    },
    {
     "data": {
      "text/markdown": [
       "augury: there's a special providence in the fall of a sparrow. If it be now, 'tis not to come; if it be not to come, it will be now; if it be not now, yet it will come: the readiness is all: since no man has <span style=\"color: blue\">aught of what he leaves, what is't to leave betimes</span>? [Enter King, Queen, Laertes, Lords, Osric, and Attendants with foils &c.] King"
      ],
      "text/plain": [
       "<IPython.core.display.Markdown object>"
      ]
     },
     "metadata": {},
     "output_type": "display_data"
    },
    {
     "data": {
      "text/markdown": [
       "### Until the Day Break: A Novel: By Robert Burns Wilson"
      ],
      "text/plain": [
       "<IPython.core.display.Markdown object>"
      ]
     },
     "metadata": {},
     "output_type": "display_data"
    },
    {
     "data": {
      "text/markdown": [
       "<small>Wilson, Robert Burns</small>"
      ],
      "text/plain": [
       "<IPython.core.display.Markdown object>"
      ]
     },
     "metadata": {},
     "output_type": "display_data"
    },
    {
     "data": {
      "text/markdown": [
       "epeat, in the slow voiceless measures of bitter thought, “ If it be now ’tis not to come ; if it be not to come, it will be now ; if it be not now, yet it will come ; the readiness is all ; since no man hath a <span style=\"color: blue\">ught of what he leaves, what is’t to leave betimes</span>? ” He drew the curtains again and sank down in one of the large, deep-cushioned chairs. It was the one Evelyn had sat in that happy"
      ],
      "text/plain": [
       "<IPython.core.display.Markdown object>"
      ]
     },
     "metadata": {},
     "output_type": "display_data"
    },
    {
     "name": "stdout",
     "output_type": "stream",
     "text": [
      "--------------------------------------------------\n"
     ]
    },
    {
     "data": {
      "text/markdown": [
       "### Hamlet"
      ],
      "text/plain": [
       "<IPython.core.display.Markdown object>"
      ]
     },
     "metadata": {},
     "output_type": "display_data"
    },
    {
     "data": {
      "text/markdown": [
       "prais'd be rashness for it,--let us know, Our indiscretion sometime serves us well, When our deep plots do fail; and that should teach us There' <span style=\"color: blue\">s a divinity that shapes our ends, Rough-hew</span> them how we will. Hor. That is most certain. Ham. Up from my cabin, My sea-gown scarf'd about me, in the dark Grop"
      ],
      "text/plain": [
       "<IPython.core.display.Markdown object>"
      ]
     },
     "metadata": {},
     "output_type": "display_data"
    },
    {
     "data": {
      "text/markdown": [
       "### Ellen Norbury: Or, the Adventures of an Orphan..: Emerson Bennett"
      ],
      "text/plain": [
       "<IPython.core.display.Markdown object>"
      ]
     },
     "metadata": {},
     "output_type": "display_data"
    },
    {
     "data": {
      "text/markdown": [
       "<small>Bennett, Emerson</small>"
      ],
      "text/plain": [
       "<IPython.core.display.Markdown object>"
      ]
     },
     "metadata": {},
     "output_type": "display_data"
    },
    {
     "data": {
      "text/markdown": [
       "nexpectedly, by the same mysterious power. It was his knowledge of this mys¬ terious something, perhaps, which caused the great bard so truthfully to say : “ There’s <span style=\"color: blue\">a divinity that shapes our ends, Rough-hew</span> them how we will.” To little Ellen was still attached an adverse fate ; and notwithstanding her present bright prospects, the opening future,"
      ],
      "text/plain": [
       "<IPython.core.display.Markdown object>"
      ]
     },
     "metadata": {},
     "output_type": "display_data"
    },
    {
     "name": "stdout",
     "output_type": "stream",
     "text": [
      "--------------------------------------------------\n"
     ]
    },
    {
     "data": {
      "text/markdown": [
       "### Hamlet"
      ],
      "text/plain": [
       "<IPython.core.display.Markdown object>"
      ]
     },
     "metadata": {},
     "output_type": "display_data"
    },
    {
     "data": {
      "text/markdown": [
       "thee? Why should the poor be flatter'd? No, let the candied tongue lick absurd pomp; And crook the <span style=\"color: blue\">pregnant hinges of the knee Where thrift may follow fawning</span>. Dost thou hear? Since my dear soul was mistress of her choice, And could of men distinguish"
      ],
      "text/plain": [
       "<IPython.core.display.Markdown object>"
      ]
     },
     "metadata": {},
     "output_type": "display_data"
    },
    {
     "data": {
      "text/markdown": [
       "### The Morgue of the Wage-Earners, or, Jerry Sly's Republic: By Hon. W. H. Stanton"
      ],
      "text/plain": [
       "<IPython.core.display.Markdown object>"
      ]
     },
     "metadata": {},
     "output_type": "display_data"
    },
    {
     "data": {
      "text/markdown": [
       "<small>Stanton, William H.</small>"
      ],
      "text/plain": [
       "<IPython.core.display.Markdown object>"
      ]
     },
     "metadata": {},
     "output_type": "display_data"
    },
    {
     "data": {
      "text/markdown": [
       "s acquain¬ tance, knew that his scruples were not too exacting. He was noted for his obsequiousness to wealth. Bending the “ <span style=\"color: blue\">pregnant hinges of the knee that thrift might follow fawning</span>,” was no unpleasant labor for him. He was always boasting of his own virtues, and if judged according to his own estimate, he had no peer in all the States. His face"
      ],
      "text/plain": [
       "<IPython.core.display.Markdown object>"
      ]
     },
     "metadata": {},
     "output_type": "display_data"
    },
    {
     "name": "stdout",
     "output_type": "stream",
     "text": [
      "--------------------------------------------------\n"
     ]
    },
    {
     "data": {
      "text/markdown": [
       "### Hamlet"
      ],
      "text/plain": [
       "<IPython.core.display.Markdown object>"
      ]
     },
     "metadata": {},
     "output_type": "display_data"
    },
    {
     "data": {
      "text/markdown": [
       "foul crimes done in my days of nature Are burnt and purg'd away. But that I am forbid To tell the secrets of my prison-house, I could a <span style=\"color: blue\">tale unfold whose lightest word Would harrow up thy soul; freeze thy young blood; Make thy two eyes, like stars, start from their spheres; Thy knotted and combined locks to part, And each particular hair to stand on end Like quills upon the fretful porcupine: But this eternal blazon must not be To ears of flesh and blood</span>.--List, list, O, list!-- If thou didst ever thy dear father love-- Ham"
      ],
      "text/plain": [
       "<IPython.core.display.Markdown object>"
      ]
     },
     "metadata": {},
     "output_type": "display_data"
    },
    {
     "data": {
      "text/markdown": [
       "### Ellen Merton: The Belle of Lowell: Or, the Confessions of the \"G. F. K.\" Club"
      ],
      "text/plain": [
       "<IPython.core.display.Markdown object>"
      ]
     },
     "metadata": {},
     "output_type": "display_data"
    },
    {
     "data": {
      "text/markdown": [
       "<small>None</small>"
      ],
      "text/plain": [
       "<IPython.core.display.Markdown object>"
      ]
     },
     "metadata": {},
     "output_type": "display_data"
    },
    {
     "data": {
      "text/markdown": [
       "s father,’ interrupted Howard, throwing himself into a thrcatrical attitude, ‘ But thatl am forbid ***** I could a <span style=\"color: blue\">tale unfold, whose lightest word Would harrow up thy soul ; freeze thy young blood ; Make thy two eyes, like stars start from their spheres ; Thy knotted and combined locks to part, And each particular hair to stand on end, Like quills upon the fretful porcupine ; But this eternal blazon must not be To ears of flesh and blood</span>.’ ‘You are stage struck, sit down,’ resumed Harford. ‘ But if women will give way with their eyes wide open, why, let them endure"
      ],
      "text/plain": [
       "<IPython.core.display.Markdown object>"
      ]
     },
     "metadata": {},
     "output_type": "display_data"
    },
    {
     "name": "stdout",
     "output_type": "stream",
     "text": [
      "--------------------------------------------------\n"
     ]
    },
    {
     "data": {
      "text/markdown": [
       "### Hamlet"
      ],
      "text/plain": [
       "<IPython.core.display.Markdown object>"
      ]
     },
     "metadata": {},
     "output_type": "display_data"
    },
    {
     "data": {
      "text/markdown": [
       "matter, with less art. Pol. Madam, I swear I use no art at all. That he is mad, 'tis true: ' <span style=\"color: blue\">tis true 'tis pity; And pity 'tis 'tis true</span>: a foolish figure; But farewell it, for I will use no art. Mad let us grant him then: and now remains That we find out the cause of this effect; Or rather"
      ],
      "text/plain": [
       "<IPython.core.display.Markdown object>"
      ]
     },
     "metadata": {},
     "output_type": "display_data"
    },
    {
     "data": {
      "text/markdown": [
       "### Who Is John Noman?: By Charles Henry Beckett"
      ],
      "text/plain": [
       "<IPython.core.display.Markdown object>"
      ]
     },
     "metadata": {},
     "output_type": "display_data"
    },
    {
     "data": {
      "text/markdown": [
       "<small>Beckett, Charles Henry</small>"
      ],
      "text/plain": [
       "<IPython.core.display.Markdown object>"
      ]
     },
     "metadata": {},
     "output_type": "display_data"
    },
    {
     "data": {
      "text/markdown": [
       "emorse. “Tell me, О Strangers,” said John, approaching the immovable cynic, “ is yonder town the college of Stonehenge ? ” “ ‘ ’T <span style=\"color: blue\">is true, ’tis pity and pity ’tis, ’tis true,</span>' what would’st thou with yon classic hold ? ” Livingston promptly replied, adapting himself"
      ],
      "text/plain": [
       "<IPython.core.display.Markdown object>"
      ]
     },
     "metadata": {},
     "output_type": "display_data"
    },
    {
     "name": "stdout",
     "output_type": "stream",
     "text": [
      "--------------------------------------------------\n"
     ]
    },
    {
     "data": {
      "text/markdown": [
       "### Hamlet"
      ],
      "text/plain": [
       "<IPython.core.display.Markdown object>"
      ]
     },
     "metadata": {},
     "output_type": "display_data"
    },
    {
     "data": {
      "text/markdown": [
       "prais'd be rashness for it,--let us know, Our indiscretion sometime serves us well, When our deep plots do fail; and that should teach us There' <span style=\"color: blue\">s a divinity that shapes our ends, Rough-hew</span> them how we will. Hor. That is most certain. Ham. Up from my cabin, My sea-gown scarf'd about me, in the dark Grop"
      ],
      "text/plain": [
       "<IPython.core.display.Markdown object>"
      ]
     },
     "metadata": {},
     "output_type": "display_data"
    },
    {
     "data": {
      "text/markdown": [
       "### A Long Search: By Mary A. Roe …"
      ],
      "text/plain": [
       "<IPython.core.display.Markdown object>"
      ]
     },
     "metadata": {},
     "output_type": "display_data"
    },
    {
     "data": {
      "text/markdown": [
       "<small>Roe, Mary A. (Mary Abigail)</small>"
      ],
      "text/plain": [
       "<IPython.core.display.Markdown object>"
      ]
     },
     "metadata": {},
     "output_type": "display_data"
    },
    {
     "data": {
      "text/markdown": [
       "met this grief and shame.” “ My dear sir, I believed then that I was doing right, though the result would seem to show that I was not. But ‘ there’ <span style=\"color: blue\">s a divinity that shapes our ends, rough-hew</span> them how we will.’ Perhaps we shall be able to see that when we get through this tangled labyrinth of life.” “I’ve been sorely tempted to end my life by my own hands, only it seemed"
      ],
      "text/plain": [
       "<IPython.core.display.Markdown object>"
      ]
     },
     "metadata": {},
     "output_type": "display_data"
    },
    {
     "name": "stdout",
     "output_type": "stream",
     "text": [
      "--------------------------------------------------\n"
     ]
    },
    {
     "data": {
      "text/markdown": [
       "### Hamlet"
      ],
      "text/plain": [
       "<IPython.core.display.Markdown object>"
      ]
     },
     "metadata": {},
     "output_type": "display_data"
    },
    {
     "data": {
      "text/markdown": [
       "burnt and purg'd away. But that I am forbid To tell the secrets of my prison-house, I could a tale unfold whose lightest <span style=\"color: blue\">word Would harrow up thy soul; freeze thy young blood; Make thy two eyes, like stars, start from their spheres; Thy knotted and combined locks to part, And each particular hair to stand on end Like quills upon the fretful porcupine</span>: But this eternal blazon must not be To ears of flesh and blood.--List, list, O, list"
      ],
      "text/plain": [
       "<IPython.core.display.Markdown object>"
      ]
     },
     "metadata": {},
     "output_type": "display_data"
    },
    {
     "data": {
      "text/markdown": [
       "### The Beautiful French Girl, or, the Daughter of Monsieur Fontanbleu: A Story of Thrilling Interest, Founded on Facts in Real Life"
      ],
      "text/plain": [
       "<IPython.core.display.Markdown object>"
      ]
     },
     "metadata": {},
     "output_type": "display_data"
    },
    {
     "data": {
      "text/markdown": [
       "<small>None</small>"
      ],
      "text/plain": [
       "<IPython.core.display.Markdown object>"
      ]
     },
     "metadata": {},
     "output_type": "display_data"
    },
    {
     "data": {
      "text/markdown": [
       "STORY OF THRILLING INTEREST, FOUNDED ON FACTS IN REAL LIFE. “ I could a tale unfold, whose lighest <span style=\"color: blue\">word Would harrow up thy soul ; freeze thy young blood ; Make thy two eyes, like stars, start from their spheres ; Thy knotted and combined locks to part, And each particular hair to stand on end ; Like quills upon the fretful porcupine</span>.”— Hamlet. J) I) il a ù d p l) t a : T. B. PETERSON"
      ],
      "text/plain": [
       "<IPython.core.display.Markdown object>"
      ]
     },
     "metadata": {},
     "output_type": "display_data"
    },
    {
     "name": "stdout",
     "output_type": "stream",
     "text": [
      "--------------------------------------------------\n"
     ]
    },
    {
     "data": {
      "text/markdown": [
       "### Hamlet"
      ],
      "text/plain": [
       "<IPython.core.display.Markdown object>"
      ]
     },
     "metadata": {},
     "output_type": "display_data"
    },
    {
     "data": {
      "text/markdown": [
       "death,-- The undiscover'd country, from whose bourn No traveller returns,--puzzles the will, And makes us <span style=\"color: blue\">rather bear those ills we have Than fly to others</span> that we know not of? Thus conscience does make cowards of us all; And thus the native hue of resolution Is sicklied o'er"
      ],
      "text/plain": [
       "<IPython.core.display.Markdown object>"
      ]
     },
     "metadata": {},
     "output_type": "display_data"
    },
    {
     "data": {
      "text/markdown": [
       "### Let There Be Light: The Story of a Workingmen's Club, Its Search for the Causes of Poverty and Social Inequality, Its Discussions and Its Plan for the Amelioration of Existing Evils: By David Lubin"
      ],
      "text/plain": [
       "<IPython.core.display.Markdown object>"
      ]
     },
     "metadata": {},
     "output_type": "display_data"
    },
    {
     "data": {
      "text/markdown": [
       "<small>Lubin, David</small>"
      ],
      "text/plain": [
       "<IPython.core.display.Markdown object>"
      ]
     },
     "metadata": {},
     "output_type": "display_data"
    },
    {
     "data": {
      "text/markdown": [
       "ach house would be divided against itself, and chaos and confusion would reign. Would it not be wiser for us to obey the injunction and r <span style=\"color: blue\">ather “ bear the ills we have than fly to others</span> that we know not of”? Therefore I say that while I am inclined to favour the spread of scientific knowledge in every direction, I am emphatically opposed"
      ],
      "text/plain": [
       "<IPython.core.display.Markdown object>"
      ]
     },
     "metadata": {},
     "output_type": "display_data"
    },
    {
     "name": "stdout",
     "output_type": "stream",
     "text": [
      "--------------------------------------------------\n"
     ]
    },
    {
     "data": {
      "text/markdown": [
       "### Hamlet"
      ],
      "text/plain": [
       "<IPython.core.display.Markdown object>"
      ]
     },
     "metadata": {},
     "output_type": "display_data"
    },
    {
     "data": {
      "text/markdown": [
       "pray you avoid it. I Player. I warrant your honour. Ham. Be not too tame neither; but let your own discretion be your tutor: <span style=\"color: blue\">suit the action to the word, the word to the action</span>; with this special observance, that you o'erstep not the modesty of nature: for anything so overdone is from the purpose of playing"
      ],
      "text/plain": [
       "<IPython.core.display.Markdown object>"
      ]
     },
     "metadata": {},
     "output_type": "display_data"
    },
    {
     "data": {
      "text/markdown": [
       "### The Mesa Trail: By H. Bedford-Jones"
      ],
      "text/plain": [
       "<IPython.core.display.Markdown object>"
      ]
     },
     "metadata": {},
     "output_type": "display_data"
    },
    {
     "data": {
      "text/markdown": [
       "<small>Bedford-Jones, H. (Henry)</small>"
      ],
      "text/plain": [
       "<IPython.core.display.Markdown object>"
      ]
     },
     "metadata": {},
     "output_type": "display_data"
    },
    {
     "data": {
      "text/markdown": [
       "own to thousands the aspiring genius of the immortal Avonian bard. I avow it, madam—I am a Thespian! I su <span style=\"color: blue\">it the action to the word, the word to the action-”</span>“Huh!” cut in his audience with a ruthless lack of awe. **Huh! Never heard of them Thespians, but likely i"
      ],
      "text/plain": [
       "<IPython.core.display.Markdown object>"
      ]
     },
     "metadata": {},
     "output_type": "display_data"
    },
    {
     "name": "stdout",
     "output_type": "stream",
     "text": [
      "--------------------------------------------------\n"
     ]
    },
    {
     "data": {
      "text/markdown": [
       "### Hamlet"
      ],
      "text/plain": [
       "<IPython.core.display.Markdown object>"
      ]
     },
     "metadata": {},
     "output_type": "display_data"
    },
    {
     "data": {
      "text/markdown": [
       "hot and full, Hath in the skirts of Norway, here and there, Shark'd up a list of lawless resolutes, For <span style=\"color: blue\">food and diet, to some enterprise That hath a stomach in't</span>; which is no other,-- As it doth well appear unto our state,-- But to recover of us, by strong hand, And terms compulsatory, those foresaid"
      ],
      "text/plain": [
       "<IPython.core.display.Markdown object>"
      ]
     },
     "metadata": {},
     "output_type": "display_data"
    },
    {
     "data": {
      "text/markdown": [
       "### No Enemy (but Himself): By Elbert Hubbard …"
      ],
      "text/plain": [
       "<IPython.core.display.Markdown object>"
      ]
     },
     "metadata": {},
     "output_type": "display_data"
    },
    {
     "data": {
      "text/markdown": [
       "<small>Hubbard, Elbert</small>"
      ],
      "text/plain": [
       "<IPython.core.display.Markdown object>"
      ]
     },
     "metadata": {},
     "output_type": "display_data"
    },
    {
     "data": {
      "text/markdown": [
       "ring Jimmy around at five o’clock this afternoon, and you can take him home with you—good-day.” o. »f CHAPTER III. 11 For f <span style=\"color: blue\">ood and diet.; to some enterprise that hath a stomach in 't.</span>” A MONTH has come and gone since our last chapter. “ Don’t smoke in here, Mr. Hillard—the in¬ surance"
      ],
      "text/plain": [
       "<IPython.core.display.Markdown object>"
      ]
     },
     "metadata": {},
     "output_type": "display_data"
    },
    {
     "name": "stdout",
     "output_type": "stream",
     "text": [
      "--------------------------------------------------\n"
     ]
    },
    {
     "data": {
      "text/markdown": [
       "### Hamlet"
      ],
      "text/plain": [
       "<IPython.core.display.Markdown object>"
      ]
     },
     "metadata": {},
     "output_type": "display_data"
    },
    {
     "data": {
      "text/markdown": [
       "already. Ham. Indeed, upon my sword, indeed. Ghost. [Beneath.] Swear. Ham. <span style=\"color: blue\">Ha, ha boy! say'st thou</span> so? art thou there, truepenny?-- Come on!--you hear this fellow in the cellarage,-- Consent to swear. Hor. Propose"
      ],
      "text/plain": [
       "<IPython.core.display.Markdown object>"
      ]
     },
     "metadata": {},
     "output_type": "display_data"
    },
    {
     "data": {
      "text/markdown": [
       "### Cassimer Saral: A Tale"
      ],
      "text/plain": [
       "<IPython.core.display.Markdown object>"
      ]
     },
     "metadata": {},
     "output_type": "display_data"
    },
    {
     "data": {
      "text/markdown": [
       "<small>None</small>"
      ],
      "text/plain": [
       "<IPython.core.display.Markdown object>"
      ]
     },
     "metadata": {},
     "output_type": "display_data"
    },
    {
     "data": {
      "text/markdown": [
       "follow !’ CHAPTER XII. - Murder ! and treason 1 Banqno, and Donalbain ! Mache ih. Ha, <span style=\"color: blue\">ha, boy ! say’st thou so-</span>****** Come on ! Hamlet. The multitudinous seas incarnadine Making the green-one red. Macbelh. The midnight bell tol"
      ],
      "text/plain": [
       "<IPython.core.display.Markdown object>"
      ]
     },
     "metadata": {},
     "output_type": "display_data"
    },
    {
     "name": "stdout",
     "output_type": "stream",
     "text": [
      "--------------------------------------------------\n"
     ]
    },
    {
     "data": {
      "text/markdown": [
       "### Hamlet"
      ],
      "text/plain": [
       "<IPython.core.display.Markdown object>"
      ]
     },
     "metadata": {},
     "output_type": "display_data"
    },
    {
     "data": {
      "text/markdown": [
       "thy sickly days. [Exit.] [The King rises and advances.] King. My words fly up, my <span style=\"color: blue\">thoughts remain below: Words without thoughts never to heaven</span> go. [Exit.] Scene IV. Another room in the castle. [Enter Queen and Polonius.] Pol. He will come straight"
      ],
      "text/plain": [
       "<IPython.core.display.Markdown object>"
      ]
     },
     "metadata": {},
     "output_type": "display_data"
    },
    {
     "data": {
      "text/markdown": [
       "### Sic Vita Est: [A Novel] = (Such Is Life): By Sue Froman Matthews …"
      ],
      "text/plain": [
       "<IPython.core.display.Markdown object>"
      ]
     },
     "metadata": {},
     "output_type": "display_data"
    },
    {
     "data": {
      "text/markdown": [
       "<small>Matthews, Sue Froman</small>"
      ],
      "text/plain": [
       "<IPython.core.display.Markdown object>"
      ]
     },
     "metadata": {},
     "output_type": "display_data"
    },
    {
     "data": {
      "text/markdown": [
       "velopment of our faith. To be sure, we say our prayers, and utter our thoughts. But oftentimes * our words fly upward and our <span style=\"color: blue\">thoughts remain below, and words without thoughts never to Heaven</span> go.’ Another state detrimental to the securing of faith, in fact we can’t have any faith, is when we are committing some known sin"
      ],
      "text/plain": [
       "<IPython.core.display.Markdown object>"
      ]
     },
     "metadata": {},
     "output_type": "display_data"
    },
    {
     "name": "stdout",
     "output_type": "stream",
     "text": [
      "--------------------------------------------------\n"
     ]
    },
    {
     "data": {
      "text/markdown": [
       "### Hamlet"
      ],
      "text/plain": [
       "<IPython.core.display.Markdown object>"
      ]
     },
     "metadata": {},
     "output_type": "display_data"
    },
    {
     "data": {
      "text/markdown": [
       "prais'd be rashness for it,--let us know, Our indiscretion sometime serves us well, When our deep plots do fail; and that should teach us There' <span style=\"color: blue\">s a divinity that shapes our ends, Rough-hew</span> them how we will. Hor. That is most certain. Ham. Up from my cabin, My sea-gown scarf'd about me, in the dark Grop"
      ],
      "text/plain": [
       "<IPython.core.display.Markdown object>"
      ]
     },
     "metadata": {},
     "output_type": "display_data"
    },
    {
     "data": {
      "text/markdown": [
       "### Sic Vita Est: [A Novel] = (Such Is Life): By Sue Froman Matthews …"
      ],
      "text/plain": [
       "<IPython.core.display.Markdown object>"
      ]
     },
     "metadata": {},
     "output_type": "display_data"
    },
    {
     "data": {
      "text/markdown": [
       "<small>Matthews, Sue Froman</small>"
      ],
      "text/plain": [
       "<IPython.core.display.Markdown object>"
      ]
     },
     "metadata": {},
     "output_type": "display_data"
    },
    {
     "data": {
      "text/markdown": [
       "months of our acquaintance. I desired to avoid just what has come to piss. Your providential illness has placed me in my present position. ‘There' <span style=\"color: blue\">s a divinity that shapes our ends, rough-hew</span> them as wc will.' \" He remained quiet for a time, trying to suppress some strong emotion. Painful scenes of his life must"
      ],
      "text/plain": [
       "<IPython.core.display.Markdown object>"
      ]
     },
     "metadata": {},
     "output_type": "display_data"
    },
    {
     "name": "stdout",
     "output_type": "stream",
     "text": [
      "--------------------------------------------------\n"
     ]
    },
    {
     "data": {
      "text/markdown": [
       "### Hamlet"
      ],
      "text/plain": [
       "<IPython.core.display.Markdown object>"
      ]
     },
     "metadata": {},
     "output_type": "display_data"
    },
    {
     "data": {
      "text/markdown": [
       "index? Ham. Look here upon this picture, and on this,-- The counterfeit presentment of two brothers. See what a grace was seated on this brow; <span style=\"color: blue\">Hyperion's curls; the front of Jove himself</span>; An eye like Mars, to threaten and command; A station like the herald Mercury New lighted on a heaven-kissing"
      ],
      "text/plain": [
       "<IPython.core.display.Markdown object>"
      ]
     },
     "metadata": {},
     "output_type": "display_data"
    },
    {
     "data": {
      "text/markdown": [
       "### The Drama in Pokerville; The Bench and Bar of Jurytown, and Other Stories: By \"Everpoint.\"; Illustrations by F. O. C. Darley"
      ],
      "text/plain": [
       "<IPython.core.display.Markdown object>"
      ]
     },
     "metadata": {},
     "output_type": "display_data"
    },
    {
     "data": {
      "text/markdown": [
       "<small>Everpoint</small>"
      ],
      "text/plain": [
       "<IPython.core.display.Markdown object>"
      ]
     },
     "metadata": {},
     "output_type": "display_data"
    },
    {
     "data": {
      "text/markdown": [
       "o find music in the mud of the «American Bottom !” HOW OUR FRIEND B-’S HAIR WENT. “ Hyperi <span style=\"color: blue\">on’s curls ! the front of Jove, himself!” i 1</span> Oh, those curls ! not your fuzzy, crispy, questionable tortuosities, indicative of either a mixed breed, or a quarrelsome tempe"
      ],
      "text/plain": [
       "<IPython.core.display.Markdown object>"
      ]
     },
     "metadata": {},
     "output_type": "display_data"
    },
    {
     "name": "stdout",
     "output_type": "stream",
     "text": [
      "--------------------------------------------------\n"
     ]
    },
    {
     "data": {
      "text/markdown": [
       "### Hamlet"
      ],
      "text/plain": [
       "<IPython.core.display.Markdown object>"
      ]
     },
     "metadata": {},
     "output_type": "display_data"
    },
    {
     "data": {
      "text/markdown": [
       "probation. Mar. It faded on the crowing of the cock. Some say that ever 'gainst that season comes Wherein our Saviour' <span style=\"color: blue\">s birth is celebrated, The bird of dawning</span> singeth all night long; And then, they say, no spirit dare stir abroad; The nights are wholesome; then no planets strike"
      ],
      "text/plain": [
       "<IPython.core.display.Markdown object>"
      ]
     },
     "metadata": {},
     "output_type": "display_data"
    },
    {
     "data": {
      "text/markdown": [
       "### Dolby and Father: By \"Buz.\""
      ],
      "text/plain": [
       "<IPython.core.display.Markdown object>"
      ]
     },
     "metadata": {},
     "output_type": "display_data"
    },
    {
     "data": {
      "text/markdown": [
       "<small>Buz</small>"
      ],
      "text/plain": [
       "<IPython.core.display.Markdown object>"
      ]
     },
     "metadata": {},
     "output_type": "display_data"
    },
    {
     "data": {
      "text/markdown": [
       "visitations on Christmas Eve , in the story to which he had just listened, because “ Some say that ever ’gainst that season comes Wherein our Savior’ <span style=\"color: blue\">s birth is celebrated, The bird of dawning</span> ingeth all night long; And then, they say, no spirit dares stir abroad; The nights are wholesome ; then no planets strike"
      ],
      "text/plain": [
       "<IPython.core.display.Markdown object>"
      ]
     },
     "metadata": {},
     "output_type": "display_data"
    },
    {
     "name": "stdout",
     "output_type": "stream",
     "text": [
      "--------------------------------------------------\n"
     ]
    },
    {
     "data": {
      "text/markdown": [
       "### Hamlet"
      ],
      "text/plain": [
       "<IPython.core.display.Markdown object>"
      ]
     },
     "metadata": {},
     "output_type": "display_data"
    },
    {
     "data": {
      "text/markdown": [
       "Saviour's birth is celebrated, The bird of dawning singeth all night long; And then, they say, no spirit dare <span style=\"color: blue\">stir abroad; The nights are wholesome; then no planets strike, No fairy takes, nor witch hath power to charm</span>; So hallow'd and so gracious is the time. Hor. So have I heard, and do in part believe it. But, look, the morn, in russet mantle clad"
      ],
      "text/plain": [
       "<IPython.core.display.Markdown object>"
      ]
     },
     "metadata": {},
     "output_type": "display_data"
    },
    {
     "data": {
      "text/markdown": [
       "### Dolby and Father: By \"Buz.\""
      ],
      "text/plain": [
       "<IPython.core.display.Markdown object>"
      ]
     },
     "metadata": {},
     "output_type": "display_data"
    },
    {
     "data": {
      "text/markdown": [
       "<small>Buz</small>"
      ],
      "text/plain": [
       "<IPython.core.display.Markdown object>"
      ]
     },
     "metadata": {},
     "output_type": "display_data"
    },
    {
     "data": {
      "text/markdown": [
       "Savior’s birth is celebrated, The bird of dawning ingeth all night long; And then, they say, no spirit dares <span style=\"color: blue\">stir abroad; The nights are wholesome ; then no planets strike— No fairy takes, nor witch hath power to charm</span>, So hallowed and so gracious is the time.” And while he was wondering which took the poetic license, “ The Carol ” in prose or Marcellus"
      ],
      "text/plain": [
       "<IPython.core.display.Markdown object>"
      ]
     },
     "metadata": {},
     "output_type": "display_data"
    },
    {
     "name": "stdout",
     "output_type": "stream",
     "text": [
      "--------------------------------------------------\n"
     ]
    },
    {
     "data": {
      "text/markdown": [
       "### Hamlet"
      ],
      "text/plain": [
       "<IPython.core.display.Markdown object>"
      ]
     },
     "metadata": {},
     "output_type": "display_data"
    },
    {
     "data": {
      "text/markdown": [
       "yonder sun, An thou hadst not come to my bed. King. How long hath she been thus? Oph. I hope all will be well. We <span style=\"color: blue\">must be patient: but I cannot choose but weep</span>, to think they would lay him i' the cold ground. My brother shall know of it: and so I thank you for your good counsel.--Come, my coach!--Good night, ladies"
      ],
      "text/plain": [
       "<IPython.core.display.Markdown object>"
      ]
     },
     "metadata": {},
     "output_type": "display_data"
    },
    {
     "data": {
      "text/markdown": [
       "### Dolby and Father: By \"Buz.\""
      ],
      "text/plain": [
       "<IPython.core.display.Markdown object>"
      ]
     },
     "metadata": {},
     "output_type": "display_data"
    },
    {
     "data": {
      "text/markdown": [
       "<small>Buz</small>"
      ],
      "text/plain": [
       "<IPython.core.display.Markdown object>"
      ]
     },
     "metadata": {},
     "output_type": "display_data"
    },
    {
     "data": {
      "text/markdown": [
       "lame beggars walk, and blind men see.” To which Ophelia said : “ White his shroud as the mountain snow. We <span style=\"color: blue\">must be patient, but I cannot choose, but weep</span> to think-” and then, turning to Mr. Dolby, “ There’s rosemary, that’s for remembrance ; and there is pansies, that’s for thoughts"
      ],
      "text/plain": [
       "<IPython.core.display.Markdown object>"
      ]
     },
     "metadata": {},
     "output_type": "display_data"
    },
    {
     "name": "stdout",
     "output_type": "stream",
     "text": [
      "--------------------------------------------------\n"
     ]
    },
    {
     "data": {
      "text/markdown": [
       "### Hamlet"
      ],
      "text/plain": [
       "<IPython.core.display.Markdown object>"
      ]
     },
     "metadata": {},
     "output_type": "display_data"
    },
    {
     "data": {
      "text/markdown": [
       "sconce with a dirty shovel, and will not tell him of his action of battery? Hum! This fellow might be in's time a great buyer of land, with his <span style=\"color: blue\">statutes, his recognizances, his fines, his double vouchers, his recoveries</span>: is this the fine of his fines, and the recovery of his recoveries, to have his fine pate full of fine dirt? will his vouchers"
      ],
      "text/plain": [
       "<IPython.core.display.Markdown object>"
      ]
     },
     "metadata": {},
     "output_type": "display_data"
    },
    {
     "data": {
      "text/markdown": [
       "### Crayon Sketches: By an Amateur: Edited by Theodore S. Fay"
      ],
      "text/plain": [
       "<IPython.core.display.Markdown object>"
      ]
     },
     "metadata": {},
     "output_type": "display_data"
    },
    {
     "data": {
      "text/markdown": [
       "<small>Cox, William</small>"
      ],
      "text/plain": [
       "<IPython.core.display.Markdown object>"
      ]
     },
     "metadata": {},
     "output_type": "display_data"
    },
    {
     "data": {
      "text/markdown": [
       "ught natural sense of right and wrong, think of this man’s “ quiddets, his quillets, his cases, his tenures and his tricks and of “ his stat <span style=\"color: blue\">utes, his recognizances, his fines, his double vouchers and his recoveries ?”</span> Alas ! the poor In¬ dian has but too deeply felt his power and the power of his brethren in the modern “black art"
      ],
      "text/plain": [
       "<IPython.core.display.Markdown object>"
      ]
     },
     "metadata": {},
     "output_type": "display_data"
    },
    {
     "name": "stdout",
     "output_type": "stream",
     "text": [
      "--------------------------------------------------\n"
     ]
    },
    {
     "data": {
      "text/markdown": [
       "### Hamlet"
      ],
      "text/plain": [
       "<IPython.core.display.Markdown object>"
      ]
     },
     "metadata": {},
     "output_type": "display_data"
    },
    {
     "data": {
      "text/markdown": [
       "queen his mother Lives almost by his looks; and for myself,-- My virtue or my plague, be it either which,-- She's so <span style=\"color: blue\">conjunctive to my life and soul, That, as the star moves not but in his sphere</span>, I could not but by her. The other motive, Why to a public count I might not go, Is the great love the general gender bear him; Who, dipping all his faults in their affection, Would, like the spring"
      ],
      "text/plain": [
       "<IPython.core.display.Markdown object>"
      ]
     },
     "metadata": {},
     "output_type": "display_data"
    },
    {
     "data": {
      "text/markdown": [
       "### Sherbrooke: By H. B. G."
      ],
      "text/plain": [
       "<IPython.core.display.Markdown object>"
      ]
     },
     "metadata": {},
     "output_type": "display_data"
    },
    {
     "data": {
      "text/markdown": [
       "<small>H. B. G. (Hannah Elizabeth Bradbury Goodwin Talcott)</small>"
      ],
      "text/plain": [
       "<IPython.core.display.Markdown object>"
      ]
     },
     "metadata": {},
     "output_type": "display_data"
    },
    {
     "data": {
      "text/markdown": [
       "ose hearts have a look southward, and are open To the whole noon of nature.” CHAPTER LI. CONCLUSION. “ She is so co <span style=\"color: blue\">njunctive to my life and soul, That as the star moves not but in his sphere,</span> I could not, but by her.” Shakespeare, The year that followed my engagement to Philip Ham¬ lin was not cloudless. Life had still its petty trials and its carping c"
      ],
      "text/plain": [
       "<IPython.core.display.Markdown object>"
      ]
     },
     "metadata": {},
     "output_type": "display_data"
    },
    {
     "name": "stdout",
     "output_type": "stream",
     "text": [
      "--------------------------------------------------\n"
     ]
    },
    {
     "data": {
      "text/markdown": [
       "### Hamlet"
      ],
      "text/plain": [
       "<IPython.core.display.Markdown object>"
      ]
     },
     "metadata": {},
     "output_type": "display_data"
    },
    {
     "data": {
      "text/markdown": [
       "bound to hear. Ghost. So art thou to revenge, when thou shalt hear. Ham. What? <span style=\"color: blue\">Ghost. I am thy father's spirit</span>; Doom'd for a certain term to walk the night, And for the day confin'd to wastein fires"
      ],
      "text/plain": [
       "<IPython.core.display.Markdown object>"
      ]
     },
     "metadata": {},
     "output_type": "display_data"
    },
    {
     "data": {
      "text/markdown": [
       "### Circumvented: Or, Success despite Opposition, a True Tale Tersely Told: By Dr. S. Harper Smith"
      ],
      "text/plain": [
       "<IPython.core.display.Markdown object>"
      ]
     },
     "metadata": {},
     "output_type": "display_data"
    },
    {
     "data": {
      "text/markdown": [
       "<small>Smith, S. Harper (Samuel Harper)</small>"
      ],
      "text/plain": [
       "<IPython.core.display.Markdown object>"
      ]
     },
     "metadata": {},
     "output_type": "display_data"
    },
    {
     "data": {
      "text/markdown": [
       "scheming, deceitful friends to threaten them. “Love is our highest woni, the synonym of Ood.” CHAPTER XXII. WAS IT A <span style=\"color: blue\">GHOST? “I am thy father’s spirit</span>, Doomed for a certain term to walk the night.” I N the course of a while a light step was heard"
      ],
      "text/plain": [
       "<IPython.core.display.Markdown object>"
      ]
     },
     "metadata": {},
     "output_type": "display_data"
    },
    {
     "name": "stdout",
     "output_type": "stream",
     "text": [
      "--------------------------------------------------\n"
     ]
    },
    {
     "data": {
      "text/markdown": [
       "### Hamlet"
      ],
      "text/plain": [
       "<IPython.core.display.Markdown object>"
      ]
     },
     "metadata": {},
     "output_type": "display_data"
    },
    {
     "data": {
      "text/markdown": [
       "Fortinbras: he has my dying voice; So tell him, with the occurrents, more and less, Which have solicited.--the rest is silence. [Dies.] Hor. Now <span style=\"color: blue\">cracks a noble heart.--Good night, sweet prince</span>, And flights of angels sing thee to thy rest! Why does the drum come hither? [March within"
      ],
      "text/plain": [
       "<IPython.core.display.Markdown object>"
      ]
     },
     "metadata": {},
     "output_type": "display_data"
    },
    {
     "data": {
      "text/markdown": [
       "### Lionel Lincoln, or, the Leaguer of Boston"
      ],
      "text/plain": [
       "<IPython.core.display.Markdown object>"
      ]
     },
     "metadata": {},
     "output_type": "display_data"
    },
    {
     "data": {
      "text/markdown": [
       "<small>Cooper, James Fenimore</small>"
      ],
      "text/plain": [
       "<IPython.core.display.Markdown object>"
      ]
     },
     "metadata": {},
     "output_type": "display_data"
    },
    {
     "data": {
      "text/markdown": [
       "red, in more peace¬ able times) by iţs simple master. 21* CHAPTER ХУН. ‘4Í0W cracks a noble <span style=\"color: blue\">heart ;—good-night, a Sweet Prince.” Shakspeare.</span> Lionel assisted Cecil to ascend the difficult water-stairs, and still attended by their aged companion, th"
      ],
      "text/plain": [
       "<IPython.core.display.Markdown object>"
      ]
     },
     "metadata": {},
     "output_type": "display_data"
    },
    {
     "name": "stdout",
     "output_type": "stream",
     "text": [
      "--------------------------------------------------\n"
     ]
    },
    {
     "data": {
      "text/markdown": [
       "### Hamlet"
      ],
      "text/plain": [
       "<IPython.core.display.Markdown object>"
      ]
     },
     "metadata": {},
     "output_type": "display_data"
    },
    {
     "data": {
      "text/markdown": [
       "Queen. Hamlet! Hamlet! All. Gentlemen!-- Hor. Good my lord, be quiet. [The Attendants part them, and they come out of the grave.] Ham. Why, I will <span style=\"color: blue\">fight with him upon this theme Until my eyelids will no longer wag</span>. Queen. O my son, what theme? Ham. I lov'd Ophelia; forty thousand"
      ],
      "text/plain": [
       "<IPython.core.display.Markdown object>"
      ]
     },
     "metadata": {},
     "output_type": "display_data"
    },
    {
     "data": {
      "text/markdown": [
       "### The Continental Dragoon: A Love Story of Philipse Manor-House in 1778: By Robert Neilson Stephens...; Illustrated by H. C. Edwards …"
      ],
      "text/plain": [
       "<IPython.core.display.Markdown object>"
      ]
     },
     "metadata": {},
     "output_type": "display_data"
    },
    {
     "data": {
      "text/markdown": [
       "<small>Stephens, Robert Neilson</small>"
      ],
      "text/plain": [
       "<IPython.core.display.Markdown object>"
      ]
     },
     "metadata": {},
     "output_type": "display_data"
    },
    {
     "data": {
      "text/markdown": [
       "Having opened the theme which alone, of all themes, shall transform his irresolution into action, he will, Hamlet like, “ <span style=\"color: blue\">fight upon this theme until ” his “ eyelids will no longer wag</span>.” So was Colden aroused, transfigured, as he stood doubly armed by the window, waiting for his men to clamber"
      ],
      "text/plain": [
       "<IPython.core.display.Markdown object>"
      ]
     },
     "metadata": {},
     "output_type": "display_data"
    },
    {
     "name": "stdout",
     "output_type": "stream",
     "text": [
      "--------------------------------------------------\n"
     ]
    },
    {
     "data": {
      "text/markdown": [
       "### Hamlet"
      ],
      "text/plain": [
       "<IPython.core.display.Markdown object>"
      ]
     },
     "metadata": {},
     "output_type": "display_data"
    },
    {
     "data": {
      "text/markdown": [
       "King. What is the cause, Laertes, That thy rebellion looks so giant-like?-- Let him go, Gertrude; do not fear our person: There' <span style=\"color: blue\">s such divinity doth hedge a king</span>, That treason can but peep to what it would, Acts little of his will.--Tell me, Laertes, Why thou art thus incens'd.--Let him go, Gertrude"
      ],
      "text/plain": [
       "<IPython.core.display.Markdown object>"
      ]
     },
     "metadata": {},
     "output_type": "display_data"
    },
    {
     "data": {
      "text/markdown": [
       "### Napoleon Smith: Author, a Well-Known New-Yorker: William J. Arkell"
      ],
      "text/plain": [
       "<IPython.core.display.Markdown object>"
      ]
     },
     "metadata": {},
     "output_type": "display_data"
    },
    {
     "data": {
      "text/markdown": [
       "<small>Arkell, William J.</small>"
      ],
      "text/plain": [
       "<IPython.core.display.Markdown object>"
      ]
     },
     "metadata": {},
     "output_type": "display_data"
    },
    {
     "data": {
      "text/markdown": [
       "animals he named, and whether I would not like better the smaller, but more courteous, gentlemen of the old school of 1792. Did not Shakespeare touch a very deep truth when he said, “ There’ <span style=\"color: blue\">s such divinity doth hedge a king</span>,\" and is not that hedge an involuntary respect which ignorance and coarseness pays to calmness and refinement ? I have been told that our Union"
      ],
      "text/plain": [
       "<IPython.core.display.Markdown object>"
      ]
     },
     "metadata": {},
     "output_type": "display_data"
    },
    {
     "name": "stdout",
     "output_type": "stream",
     "text": [
      "--------------------------------------------------\n"
     ]
    },
    {
     "data": {
      "text/markdown": [
       "### Hamlet"
      ],
      "text/plain": [
       "<IPython.core.display.Markdown object>"
      ]
     },
     "metadata": {},
     "output_type": "display_data"
    },
    {
     "data": {
      "text/markdown": [
       "prais'd be rashness for it,--let us know, Our indiscretion sometime serves us well, When our deep plots do fail; and that should teach us There' <span style=\"color: blue\">s a divinity that shapes our ends, Rough-hew</span> them how we will. Hor. That is most certain. Ham. Up from my cabin, My sea-gown scarf'd about me, in the dark Grop"
      ],
      "text/plain": [
       "<IPython.core.display.Markdown object>"
      ]
     },
     "metadata": {},
     "output_type": "display_data"
    },
    {
     "data": {
      "text/markdown": [
       "### Divers Women: By Pansy and Mrs. C. M. Livingston"
      ],
      "text/plain": [
       "<IPython.core.display.Markdown object>"
      ]
     },
     "metadata": {},
     "output_type": "display_data"
    },
    {
     "data": {
      "text/markdown": [
       "<small>Pansy</small>"
      ],
      "text/plain": [
       "<IPython.core.display.Markdown object>"
      ]
     },
     "metadata": {},
     "output_type": "display_data"
    },
    {
     "data": {
      "text/markdown": [
       "mankind with hate and distrust. Mrs Adams never found it easier in her life to rejoice in her favorite doctrine, that “ There’ <span style=\"color: blue\">s a divinity that shapes our ends, Rough-hew</span> them how we will.” “It’s real hard just now. I know it is, poor child,” she said in the way of consolation. “But, my dear, depend upon it that you will see it was all right some day. The dear"
      ],
      "text/plain": [
       "<IPython.core.display.Markdown object>"
      ]
     },
     "metadata": {},
     "output_type": "display_data"
    },
    {
     "name": "stdout",
     "output_type": "stream",
     "text": [
      "--------------------------------------------------\n"
     ]
    },
    {
     "data": {
      "text/markdown": [
       "### Hamlet"
      ],
      "text/plain": [
       "<IPython.core.display.Markdown object>"
      ]
     },
     "metadata": {},
     "output_type": "display_data"
    },
    {
     "data": {
      "text/markdown": [
       "peace. King. To thine own peace. If he be now return'd-- As checking at his voyage, and that he means No more to undertake it,--I will work him To <span style=\"color: blue\">exploit, now ripe in my device, Under the which he shall not choose but fall: And for his death no wind</span> shall breathe; But even his mother shall uncharge the practice And call it accident. Laer. My lord"
      ],
      "text/plain": [
       "<IPython.core.display.Markdown object>"
      ]
     },
     "metadata": {},
     "output_type": "display_data"
    },
    {
     "data": {
      "text/markdown": [
       "### My Third Book: A Collection of Tales: Louise Chandler Moulton"
      ],
      "text/plain": [
       "<IPython.core.display.Markdown object>"
      ]
     },
     "metadata": {},
     "output_type": "display_data"
    },
    {
     "data": {
      "text/markdown": [
       "<small>Moulton, Louise Chandler</small>"
      ],
      "text/plain": [
       "<IPython.core.display.Markdown object>"
      ]
     },
     "metadata": {},
     "output_type": "display_data"
    },
    {
     "data": {
      "text/markdown": [
       "airest and truest will stand by my side my God-given—my wife Leona. €§г Jfimtaitt Unat I will work him To an e <span style=\"color: blue\">xploit, now ripe in my device, Under the which he shall not choose but fall ; And for his death no wind</span> of blame shall breathe ; But even his mother shall uncharge the practice, And call it accident. » SHAKSPEARE"
      ],
      "text/plain": [
       "<IPython.core.display.Markdown object>"
      ]
     },
     "metadata": {},
     "output_type": "display_data"
    },
    {
     "name": "stdout",
     "output_type": "stream",
     "text": [
      "--------------------------------------------------\n"
     ]
    },
    {
     "data": {
      "text/markdown": [
       "### Hamlet"
      ],
      "text/plain": [
       "<IPython.core.display.Markdown object>"
      ]
     },
     "metadata": {},
     "output_type": "display_data"
    },
    {
     "data": {
      "text/markdown": [
       "undertake it,--I will work him To exploit, now ripe in my device, Under the which he shall not choose but fall: And for his death no wind <span style=\"color: blue\">shall breathe; But even his mother shall uncharge the practice And call it accident</span>. Laer. My lord, I will be rul'd; The rather if you could devise it so That I might be the organ. King. It falls right. You have been talk"
      ],
      "text/plain": [
       "<IPython.core.display.Markdown object>"
      ]
     },
     "metadata": {},
     "output_type": "display_data"
    },
    {
     "data": {
      "text/markdown": [
       "### My Third Book: A Collection of Tales: Louise Chandler Moulton"
      ],
      "text/plain": [
       "<IPython.core.display.Markdown object>"
      ]
     },
     "metadata": {},
     "output_type": "display_data"
    },
    {
     "data": {
      "text/markdown": [
       "<small>Moulton, Louise Chandler</small>"
      ],
      "text/plain": [
       "<IPython.core.display.Markdown object>"
      ]
     },
     "metadata": {},
     "output_type": "display_data"
    },
    {
     "data": {
      "text/markdown": [
       "xploit, now ripe in my device, Under the which he shall not choose but fall ; And for his death no wind of blame s <span style=\"color: blue\">hall breathe ; But even his mother shall uncharge the practice, And call it accident.</span>» SHAKSPEARE (Bamlet). Other sins only speak, murder shrieks out. The element of water moistens the earth,"
      ],
      "text/plain": [
       "<IPython.core.display.Markdown object>"
      ]
     },
     "metadata": {},
     "output_type": "display_data"
    },
    {
     "name": "stdout",
     "output_type": "stream",
     "text": [
      "--------------------------------------------------\n"
     ]
    },
    {
     "data": {
      "text/markdown": [
       "### Hamlet"
      ],
      "text/plain": [
       "<IPython.core.display.Markdown object>"
      ]
     },
     "metadata": {},
     "output_type": "display_data"
    },
    {
     "data": {
      "text/markdown": [
       "thoughts no tongue, Nor any unproportion'd thought his act. Be thou familiar, but by no means vulgar. Those <span style=\"color: blue\">friends thou hast, and their adoption tried, Grapple</span> them unto thy soul with hoops of steel; But do not dull thy palm with entertainment Of each"
      ],
      "text/plain": [
       "<IPython.core.display.Markdown object>"
      ]
     },
     "metadata": {},
     "output_type": "display_data"
    },
    {
     "data": {
      "text/markdown": [
       "### The Long Straight Road: By George Horton; Illustrated by Troy and Margaret West Kinney"
      ],
      "text/plain": [
       "<IPython.core.display.Markdown object>"
      ]
     },
     "metadata": {},
     "output_type": "display_data"
    },
    {
     "data": {
      "text/markdown": [
       "<small>Horton, George</small>"
      ],
      "text/plain": [
       "<IPython.core.display.Markdown object>"
      ]
     },
     "metadata": {},
     "output_type": "display_data"
    },
    {
     "data": {
      "text/markdown": [
       "Company, Indianapolis A FINE STORY OF THE COWBOY AT HIS BEST WITH HOOPS of STEEL By FLORENCE FINCH KELLY “ The <span style=\"color: blue\">friends thou hast, and their adoption tried. Grapple</span> them to thy soul with hoops of steel\" From the San Francisco Chronicle : “Western men and women"
      ],
      "text/plain": [
       "<IPython.core.display.Markdown object>"
      ]
     },
     "metadata": {},
     "output_type": "display_data"
    },
    {
     "name": "stdout",
     "output_type": "stream",
     "text": [
      "--------------------------------------------------\n"
     ]
    },
    {
     "data": {
      "text/markdown": [
       "### Hamlet"
      ],
      "text/plain": [
       "<IPython.core.display.Markdown object>"
      ]
     },
     "metadata": {},
     "output_type": "display_data"
    },
    {
     "data": {
      "text/markdown": [
       "hallow'd and so gracious is the time. Hor. So have I heard, and do in part believe it. But, look, the morn, in russet mantle clad, <span style=\"color: blue\">Walks o'er the dew of yon</span> high eastward hill: Break we our watch up: and by my advice, Let us impart what we have seen to-night Unto young"
      ],
      "text/plain": [
       "<IPython.core.display.Markdown object>"
      ]
     },
     "metadata": {},
     "output_type": "display_data"
    },
    {
     "data": {
      "text/markdown": [
       "### Legend of the Delaware: An Historical Sketch of Tom Quick: To Which Is Added the Winfield Family: Also Miscellaneous Papers and Articles: By Wm. Bross"
      ],
      "text/plain": [
       "<IPython.core.display.Markdown object>"
      ]
     },
     "metadata": {},
     "output_type": "display_data"
    },
    {
     "data": {
      "text/markdown": [
       "<small>Bross, William</small>"
      ],
      "text/plain": [
       "<IPython.core.display.Markdown object>"
      ]
     },
     "metadata": {},
     "output_type": "display_data"
    },
    {
     "data": {
      "text/markdown": [
       "epose as only simple habits and a life in the wilderness can give. CHAPTER Vi. But, look, .the morn, in russet mantle dad, W <span style=\"color: blue\">alks o'er the dew of yon</span> high eastern hill. — Hamlet. Y tlie time the birds began to cliirp a cheerful welcome"
      ],
      "text/plain": [
       "<IPython.core.display.Markdown object>"
      ]
     },
     "metadata": {},
     "output_type": "display_data"
    },
    {
     "name": "stdout",
     "output_type": "stream",
     "text": [
      "--------------------------------------------------\n"
     ]
    },
    {
     "data": {
      "text/markdown": [
       "### Hamlet"
      ],
      "text/plain": [
       "<IPython.core.display.Markdown object>"
      ]
     },
     "metadata": {},
     "output_type": "display_data"
    },
    {
     "data": {
      "text/markdown": [
       "d hard upon. Ham. Thrift, thrift, Horatio! The funeral bak'd <span style=\"color: blue\">meats Did coldly furnish forth the marriage</span> tables. Would I had met my dearest foe in heaven Or ever I had seen that day, Horatio!-- My father,--methinks I see my father"
      ],
      "text/plain": [
       "<IPython.core.display.Markdown object>"
      ]
     },
     "metadata": {},
     "output_type": "display_data"
    },
    {
     "data": {
      "text/markdown": [
       "### Tales of a Traveller: By Geoffrey Crayon, Gent."
      ],
      "text/plain": [
       "<IPython.core.display.Markdown object>"
      ]
     },
     "metadata": {},
     "output_type": "display_data"
    },
    {
     "data": {
      "text/markdown": [
       "<small>Irving, Washington</small>"
      ],
      "text/plain": [
       "<IPython.core.display.Markdown object>"
      ]
     },
     "metadata": {},
     "output_type": "display_data"
    },
    {
     "data": {
      "text/markdown": [
       "epted, in a week’s time I married the widow and succeed· ed to the throne. “ The funeral baked mea <span style=\"color: blue\">ts did coldly furnish forth the marriage ta</span> ble, kit s« J8. But the ghost of my predecessor never haunted me ; and I inherited crowns, sceptres, b"
      ],
      "text/plain": [
       "<IPython.core.display.Markdown object>"
      ]
     },
     "metadata": {},
     "output_type": "display_data"
    },
    {
     "name": "stdout",
     "output_type": "stream",
     "text": [
      "--------------------------------------------------\n"
     ]
    },
    {
     "data": {
      "text/markdown": [
       "### Hamlet"
      ],
      "text/plain": [
       "<IPython.core.display.Markdown object>"
      ]
     },
     "metadata": {},
     "output_type": "display_data"
    },
    {
     "data": {
      "text/markdown": [
       "thoughts no tongue, Nor any unproportion'd thought his act. Be thou familiar, but by no means vulgar. Those <span style=\"color: blue\">friends thou hast, and their adoption tried, Grapple</span> them unto thy soul with hoops of steel; But do not dull thy palm with entertainment Of each"
      ],
      "text/plain": [
       "<IPython.core.display.Markdown object>"
      ]
     },
     "metadata": {},
     "output_type": "display_data"
    },
    {
     "data": {
      "text/markdown": [
       "### The Vale of Rampo: A New Jersey Idyl: Edited by Augustus Watters"
      ],
      "text/plain": [
       "<IPython.core.display.Markdown object>"
      ]
     },
     "metadata": {},
     "output_type": "display_data"
    },
    {
     "data": {
      "text/markdown": [
       "<small>Watters, Augustus</small>"
      ],
      "text/plain": [
       "<IPython.core.display.Markdown object>"
      ]
     },
     "metadata": {},
     "output_type": "display_data"
    },
    {
     "data": {
      "text/markdown": [
       "licitly obeyed the excellent coun¬ sel of a very stupid old man, not to say an intolerable Shakspearean bore. We mean Polonius : ‘‘The fri <span style=\"color: blue\">ends thou hast, and their adoption tried, grapple th</span> em to thy soul with hooks of steel.” Sheridan was accused of \" putting the most polished witticisms into the mouths of"
      ],
      "text/plain": [
       "<IPython.core.display.Markdown object>"
      ]
     },
     "metadata": {},
     "output_type": "display_data"
    },
    {
     "name": "stdout",
     "output_type": "stream",
     "text": [
      "--------------------------------------------------\n"
     ]
    },
    {
     "data": {
      "text/markdown": [
       "### Hamlet"
      ],
      "text/plain": [
       "<IPython.core.display.Markdown object>"
      ]
     },
     "metadata": {},
     "output_type": "display_data"
    },
    {
     "data": {
      "text/markdown": [
       "load too. Ham. It is not very strange; for my uncle is king of Denmark, and those that would make mouths at him while my father lived, give <span style=\"color: blue\">twenty, forty, fifty, a hundred ducats</span> a-piece for his picture in little. 'Sblood, there is something in this more than natural, if philosophy could find it out. [Flourish of trumpets within.] Guil. There are the players"
      ],
      "text/plain": [
       "<IPython.core.display.Markdown object>"
      ]
     },
     "metadata": {},
     "output_type": "display_data"
    },
    {
     "data": {
      "text/markdown": [
       "### The Vale of Rampo: A New Jersey Idyl: Edited by Augustus Watters"
      ],
      "text/plain": [
       "<IPython.core.display.Markdown object>"
      ]
     },
     "metadata": {},
     "output_type": "display_data"
    },
    {
     "data": {
      "text/markdown": [
       "<small>Watters, Augustus</small>"
      ],
      "text/plain": [
       "<IPython.core.display.Markdown object>"
      ]
     },
     "metadata": {},
     "output_type": "display_data"
    },
    {
     "data": {
      "text/markdown": [
       "ng lion for an evening. To use the language of Hamlet, “They that made mouths at him while he lived in a garret, now gave twe <span style=\"color: blue\">nty, forty, fifty, a hundred ducats fo</span> r his pictures in lbtle.” And ere the honeymoon was over the bride and groom lis¬ tened again with throbbing hearts to"
      ],
      "text/plain": [
       "<IPython.core.display.Markdown object>"
      ]
     },
     "metadata": {},
     "output_type": "display_data"
    },
    {
     "name": "stdout",
     "output_type": "stream",
     "text": [
      "--------------------------------------------------\n"
     ]
    },
    {
     "data": {
      "text/markdown": [
       "### Hamlet"
      ],
      "text/plain": [
       "<IPython.core.display.Markdown object>"
      ]
     },
     "metadata": {},
     "output_type": "display_data"
    },
    {
     "data": {
      "text/markdown": [
       "extent to the players, which I tell you must show fairly outward, should more appear like entertainment than yours. You are welcome: but my <span style=\"color: blue\">uncle-father and aunt-mother are deceived. Guil</span>. In what, my dear lord? Ham. I am but mad north-north-west: when the wind is southerly I know a hawk"
      ],
      "text/plain": [
       "<IPython.core.display.Markdown object>"
      ]
     },
     "metadata": {},
     "output_type": "display_data"
    },
    {
     "data": {
      "text/markdown": [
       "### Short Stories and Reminiscences of the Last Fifty Years: By an Old Traveller"
      ],
      "text/plain": [
       "<IPython.core.display.Markdown object>"
      ]
     },
     "metadata": {},
     "output_type": "display_data"
    },
    {
     "data": {
      "text/markdown": [
       "<small>Mallory, Daniel</small>"
      ],
      "text/plain": [
       "<IPython.core.display.Markdown object>"
      ]
     },
     "metadata": {},
     "output_type": "display_data"
    },
    {
     "data": {
      "text/markdown": [
       "tells Rosencrantz and Guildenstem, who were sent from the King and Queen to find out what his motives and objects were, that they are wel¬ come : “ but,” says he, “ my <span style=\"color: blue\">uncle father and aunt mother are deceived.” Guil</span>. “ In what, my lord ?” Ham. “ I am buí mad north-northwest : when the wind is southerly , I know a hawkfrom a hearnshaw"
      ],
      "text/plain": [
       "<IPython.core.display.Markdown object>"
      ]
     },
     "metadata": {},
     "output_type": "display_data"
    },
    {
     "name": "stdout",
     "output_type": "stream",
     "text": [
      "--------------------------------------------------\n"
     ]
    },
    {
     "data": {
      "text/markdown": [
       "### Hamlet"
      ],
      "text/plain": [
       "<IPython.core.display.Markdown object>"
      ]
     },
     "metadata": {},
     "output_type": "display_data"
    },
    {
     "data": {
      "text/markdown": [
       "though you can fret me, you cannot play upon me. [Enter Polonius.] God bless you, sir! <span style=\"color: blue\">Pol. My lord, the queen would speak with you, and presently. Ham. Do you see yonder cloud that's almost in shape of a camel? Pol. By the mass, and 'tis like a camel indeed. Ham. Methinks it is like a weasel. Pol. It is backed like a weasel. Ham. Or like a whale. Pol. Very like a whale. Ham. Then will I come to my mother by and by.--They fool me to the top of my bent</span>.--I will come by and by. Pol. I will say so. [Exit.] Ham. By-and-by is easily said. [Exit Polonius.] --Leave me, friends. [Exeunt Ros"
      ],
      "text/plain": [
       "<IPython.core.display.Markdown object>"
      ]
     },
     "metadata": {},
     "output_type": "display_data"
    },
    {
     "data": {
      "text/markdown": [
       "### Short Stories and Reminiscences of the Last Fifty Years: By an Old Traveller"
      ],
      "text/plain": [
       "<IPython.core.display.Markdown object>"
      ]
     },
     "metadata": {},
     "output_type": "display_data"
    },
    {
     "data": {
      "text/markdown": [
       "<small>Mallory, Daniel</small>"
      ],
      "text/plain": [
       "<IPython.core.display.Markdown object>"
      ]
     },
     "metadata": {},
     "output_type": "display_data"
    },
    {
     "data": {
      "text/markdown": [
       "question to Polonius, evidently intend¬ ing to keep up the delusion in the prime minister’s mind. <span style=\"color: blue\">Pol. “ My lord, the Queen would speak with you, and presently.” Ham. “Do you see yonder cloud that’s almost in shape of a camel?” Pol. “ By the mass, and ’tis like a camel, indeed.” Ham. “ Methinks, it is like a weasel.” Pol. “ It is backed like a weasel.” ' - Ham. “ Or, like a whale.” Pol. “ Very like a whale.” Ham. “ Then will I come to my mother by-and-by.— They fool me to the top of my bent</span>.” Iii this scene it is equally evident that Polonius thinks him mad, and his replies are intended as good-naturedly"
      ],
      "text/plain": [
       "<IPython.core.display.Markdown object>"
      ]
     },
     "metadata": {},
     "output_type": "display_data"
    },
    {
     "name": "stdout",
     "output_type": "stream",
     "text": [
      "--------------------------------------------------\n"
     ]
    },
    {
     "data": {
      "text/markdown": [
       "### Hamlet"
      ],
      "text/plain": [
       "<IPython.core.display.Markdown object>"
      ]
     },
     "metadata": {},
     "output_type": "display_data"
    },
    {
     "data": {
      "text/markdown": [
       "d be rashness for it,--let us know, Our indiscretion sometime serves us well, When our deep plots do fail; and that should teach us There's a <span style=\"color: blue\">divinity that shapes our ends, Rough-hew</span> them how we will. Hor. That is most certain. Ham. Up from my cabin, My sea-gown scarf'd about me, in the dark Grop"
      ],
      "text/plain": [
       "<IPython.core.display.Markdown object>"
      ]
     },
     "metadata": {},
     "output_type": "display_data"
    },
    {
     "data": {
      "text/markdown": [
       "### The Curse of Clifton: A Tale of Expiation and Redemption: By Mrs. Emma D. E. N. Southworth"
      ],
      "text/plain": [
       "<IPython.core.display.Markdown object>"
      ]
     },
     "metadata": {},
     "output_type": "display_data"
    },
    {
     "data": {
      "text/markdown": [
       "<small>Southworth, Emma Dorothy Eliza Nevitte</small>"
      ],
      "text/plain": [
       "<IPython.core.display.Markdown object>"
      ]
     },
     "metadata": {},
     "output_type": "display_data"
    },
    {
     "data": {
      "text/markdown": [
       "es upon him. Their baleful glare might have shed upon his path some light to see the pitfalls in his way. CHAPTER У. There is a di <span style=\"color: blue\">vinity that shapes our ends, Rough hew t</span> hem as we will.—S haksfkare. C arl Kavanagh and bis sister were settled in tbe log-"
      ],
      "text/plain": [
       "<IPython.core.display.Markdown object>"
      ]
     },
     "metadata": {},
     "output_type": "display_data"
    },
    {
     "name": "stdout",
     "output_type": "stream",
     "text": [
      "--------------------------------------------------\n"
     ]
    },
    {
     "data": {
      "text/markdown": [
       "### Hamlet"
      ],
      "text/plain": [
       "<IPython.core.display.Markdown object>"
      ]
     },
     "metadata": {},
     "output_type": "display_data"
    },
    {
     "data": {
      "text/markdown": [
       "d be rashness for it,--let us know, Our indiscretion sometime serves us well, When our deep plots do fail; and that should teach us There's a <span style=\"color: blue\">divinity that shapes our ends, Rough-hew</span> them how we will. Hor. That is most certain. Ham. Up from my cabin, My sea-gown scarf'd about me, in the dark Grop"
      ],
      "text/plain": [
       "<IPython.core.display.Markdown object>"
      ]
     },
     "metadata": {},
     "output_type": "display_data"
    },
    {
     "data": {
      "text/markdown": [
       "### Greyslaer: A Romance of the Mohawk: By the Author of \"A Winter in the West,\" and \"Wild Scenes in the Forest and Prairie\" …"
      ],
      "text/plain": [
       "<IPython.core.display.Markdown object>"
      ]
     },
     "metadata": {},
     "output_type": "display_data"
    },
    {
     "data": {
      "text/markdown": [
       "<small>Hoffman, Charles Fenno</small>"
      ],
      "text/plain": [
       "<IPython.core.display.Markdown object>"
      ]
     },
     "metadata": {},
     "output_type": "display_data"
    },
    {
     "data": {
      "text/markdown": [
       "BT THB AUTHOR or H Å Ш ** A WINTER IN THE WEST,” AND “WILD SCENES » IN THE FOREST AND PRAIRIE. Гс\\л . 1 There is a <span style=\"color: blue\">divinity that shapes our ends, Rough hew</span> them how we will.” S HAKSPKARB. IN TWO YOLUMXS. VOL. I. NEW-YORK: HARPER & BROTHERS, 88 CLIFF-STREET. 1840 . ÍM"
      ],
      "text/plain": [
       "<IPython.core.display.Markdown object>"
      ]
     },
     "metadata": {},
     "output_type": "display_data"
    },
    {
     "name": "stdout",
     "output_type": "stream",
     "text": [
      "--------------------------------------------------\n"
     ]
    },
    {
     "data": {
      "text/markdown": [
       "### Hamlet"
      ],
      "text/plain": [
       "<IPython.core.display.Markdown object>"
      ]
     },
     "metadata": {},
     "output_type": "display_data"
    },
    {
     "data": {
      "text/markdown": [
       "ills we have Than fly to others that we know not of? Thus conscience does make cowards of us all; And thus the native hue of resolution Is <span style=\"color: blue\">sicklied o'er with the pale cast</span> of thought; And enterprises of great pith and moment, With this regard, their currents turn awry, And lose the name of action"
      ],
      "text/plain": [
       "<IPython.core.display.Markdown object>"
      ]
     },
     "metadata": {},
     "output_type": "display_data"
    },
    {
     "data": {
      "text/markdown": [
       "### John Randolph of Roanoke: And Other Sketches of Character, Including William Wirt; Together with Tales of Real Life: By F. W. Thomas …"
      ],
      "text/plain": [
       "<IPython.core.display.Markdown object>"
      ]
     },
     "metadata": {},
     "output_type": "display_data"
    },
    {
     "data": {
      "text/markdown": [
       "<small>Thomas, Frederick W. (Frederick William)</small>"
      ],
      "text/plain": [
       "<IPython.core.display.Markdown object>"
      ]
     },
     "metadata": {},
     "output_type": "display_data"
    },
    {
     "data": {
      "text/markdown": [
       "supposed him to be a supe¬ rior man. His person was above the medium height, with an inclination to corpulency; his countenance was “ <span style=\"color: blue\">sicklied o’er with the pale cast</span> of thought;” his mouth was finely formed, and a physiognomist would have noted that the compression of his lips denoted firmness, and his smile"
      ],
      "text/plain": [
       "<IPython.core.display.Markdown object>"
      ]
     },
     "metadata": {},
     "output_type": "display_data"
    },
    {
     "name": "stdout",
     "output_type": "stream",
     "text": [
      "--------------------------------------------------\n"
     ]
    },
    {
     "data": {
      "text/markdown": [
       "### Hamlet"
      ],
      "text/plain": [
       "<IPython.core.display.Markdown object>"
      ]
     },
     "metadata": {},
     "output_type": "display_data"
    },
    {
     "data": {
      "text/markdown": [
       "thine ear, but few thy voice: Take each man's censure, but reserve thy judgment. <span style=\"color: blue\">Costly thy habit as thy purse can buy</span>, But not express'd in fancy; rich, not gaudy: For the apparel oft proclaims the man; And they in France of the best rank"
      ],
      "text/plain": [
       "<IPython.core.display.Markdown object>"
      ]
     },
     "metadata": {},
     "output_type": "display_data"
    },
    {
     "data": {
      "text/markdown": [
       "### Agnes Wentworth: By E. Foxton"
      ],
      "text/plain": [
       "<IPython.core.display.Markdown object>"
      ]
     },
     "metadata": {},
     "output_type": "display_data"
    },
    {
     "data": {
      "text/markdown": [
       "<small>Palfrey, Sarah Hammond</small>"
      ],
      "text/plain": [
       "<IPython.core.display.Markdown object>"
      ]
     },
     "metadata": {},
     "output_type": "display_data"
    },
    {
     "data": {
      "text/markdown": [
       "liberal, and she had more when¬ ever she could bring herself to ask for more, she could not so much as dress to please herself. Rosamond’s taste was that of Polonius ; “ <span style=\"color: blue\">Costly thy habit as thy purse can buy</span>, But not expressed in fancy ; rich not gaudy.” But Mr. Single chose that his “wife should at all times, and in all places"
      ],
      "text/plain": [
       "<IPython.core.display.Markdown object>"
      ]
     },
     "metadata": {},
     "output_type": "display_data"
    },
    {
     "name": "stdout",
     "output_type": "stream",
     "text": [
      "--------------------------------------------------\n"
     ]
    },
    {
     "data": {
      "text/markdown": [
       "### Hamlet"
      ],
      "text/plain": [
       "<IPython.core.display.Markdown object>"
      ]
     },
     "metadata": {},
     "output_type": "display_data"
    },
    {
     "data": {
      "text/markdown": [
       "dread of something after death,-- The undiscover'd country, from whose bourn No traveller returns,--puzzles the will, And <span style=\"color: blue\">makes us rather bear those ills we have Than fly to others</span> that we know not of? Thus conscience does make cowards of us all; And thus the native hue of resolution Is sicklied o'er"
      ],
      "text/plain": [
       "<IPython.core.display.Markdown object>"
      ]
     },
     "metadata": {},
     "output_type": "display_data"
    },
    {
     "data": {
      "text/markdown": [
       "### Autobiography of a Female Slave"
      ],
      "text/plain": [
       "<IPython.core.display.Markdown object>"
      ]
     },
     "metadata": {},
     "output_type": "display_data"
    },
    {
     "data": {
      "text/markdown": [
       "<small>Browne, Martha Griffith</small>"
      ],
      "text/plain": [
       "<IPython.core.display.Markdown object>"
      ]
     },
     "metadata": {},
     "output_type": "display_data"
    },
    {
     "data": {
      "text/markdown": [
       "ree. No, this is my native shore ; here let me stay.” Their very ignorance begets a kind of philosophy that O r “M <span style=\"color: blue\">akes them rather bear those ills they have, Than fly to others</span> that they know not of.” Now, why, I ask, have they not as much right to remain here as we have ? This is their birthplace as well as ours. We are, likewise, descendants of foreigners. If we drive them hence, what excuse"
      ],
      "text/plain": [
       "<IPython.core.display.Markdown object>"
      ]
     },
     "metadata": {},
     "output_type": "display_data"
    },
    {
     "name": "stdout",
     "output_type": "stream",
     "text": [
      "--------------------------------------------------\n"
     ]
    },
    {
     "data": {
      "text/markdown": [
       "### Hamlet"
      ],
      "text/plain": [
       "<IPython.core.display.Markdown object>"
      ]
     },
     "metadata": {},
     "output_type": "display_data"
    },
    {
     "data": {
      "text/markdown": [
       "pioner!--Once more remove, good friends. Hor. O day and night, but this is wondrous strange! Ham. And <span style=\"color: blue\">therefore as a stranger give it welcome. There are more things in heaven and earth, Horatio, Than are dreamt of in your philosophy</span>. But come;-- Here, as before, never, so help you mercy, How strange or odd soe'er I bear myself,-- As I, perchance, hereafter shall"
      ],
      "text/plain": [
       "<IPython.core.display.Markdown object>"
      ]
     },
     "metadata": {},
     "output_type": "display_data"
    },
    {
     "data": {
      "text/markdown": [
       "### Marked \"In Haste\": A Story of To-Day..: Mrs. Blanche Roosevelt Tucker Macchetta"
      ],
      "text/plain": [
       "<IPython.core.display.Markdown object>"
      ]
     },
     "metadata": {},
     "output_type": "display_data"
    },
    {
     "data": {
      "text/markdown": [
       "<small>Macchetta, Blanche Roosevelt Tucker, Mrs.</small>"
      ],
      "text/plain": [
       "<IPython.core.display.Markdown object>"
      ]
     },
     "metadata": {},
     "output_type": "display_data"
    },
    {
     "data": {
      "text/markdown": [
       " <span style=\"color: blue\">therefore as a stranger give it welcome, There are more things in Heaven and earth, Horatio, than are dreamt of in your philosophy</span>. \" Hamlet, Act i, Scene v. SECOND EDITION. • · · NEW YORK: TROW’S PRINTING"
      ],
      "text/plain": [
       "<IPython.core.display.Markdown object>"
      ]
     },
     "metadata": {},
     "output_type": "display_data"
    },
    {
     "name": "stdout",
     "output_type": "stream",
     "text": [
      "--------------------------------------------------\n"
     ]
    },
    {
     "data": {
      "text/markdown": [
       "### Hamlet"
      ],
      "text/plain": [
       "<IPython.core.display.Markdown object>"
      ]
     },
     "metadata": {},
     "output_type": "display_data"
    },
    {
     "data": {
      "text/markdown": [
       "marry, I'll give thee this plague for thy dowry,-- be thou as chaste as ice, as pure as <span style=\"color: blue\">snow, thou shalt not escape calumny</span>. Get thee to a nunnery, go: farewell. Or, if thou wilt needs marry, marry a fool; for wise"
      ],
      "text/plain": [
       "<IPython.core.display.Markdown object>"
      ]
     },
     "metadata": {},
     "output_type": "display_data"
    },
    {
     "data": {
      "text/markdown": [
       "### Holiness: Or, the Legend of St. George: A Tale from Spencer's [Sic] Faerie Queene: By a Mother"
      ],
      "text/plain": [
       "<IPython.core.display.Markdown object>"
      ]
     },
     "metadata": {},
     "output_type": "display_data"
    },
    {
     "data": {
      "text/markdown": [
       "<small>Peabody, Elizabeth Palmer</small>"
      ],
      "text/plain": [
       "<IPython.core.display.Markdown object>"
      ]
     },
     "metadata": {},
     "output_type": "display_data"
    },
    {
     "data": {
      "text/markdown": [
       "adopted by the Christian Church—whom it led—oh whither ? 15. “ Be thou as pure as ice, as chaste as <span style=\"color: blue\">snow Thou shalt not escape calumny</span>.” CHAPTER III. 16. The Brute strength of man sinks before the power of woman’s loveliness, and takes"
      ],
      "text/plain": [
       "<IPython.core.display.Markdown object>"
      ]
     },
     "metadata": {},
     "output_type": "display_data"
    },
    {
     "name": "stdout",
     "output_type": "stream",
     "text": [
      "--------------------------------------------------\n"
     ]
    },
    {
     "data": {
      "text/markdown": [
       "### Hamlet"
      ],
      "text/plain": [
       "<IPython.core.display.Markdown object>"
      ]
     },
     "metadata": {},
     "output_type": "display_data"
    },
    {
     "data": {
      "text/markdown": [
       "men,-- Carrying, I say, the stamp of one defect, Being nature's livery, or fortune's star,-- Their <span style=\"color: blue\">virtues else,--be they as pure as grace, As infinite as man may undergo,-- Shall in the general censure take corruption From that particular fault</span>: the dram of eale Doth all the noble substance often doubt To his own scandal. Hor. Look, my lord"
      ],
      "text/plain": [
       "<IPython.core.display.Markdown object>"
      ]
     },
     "metadata": {},
     "output_type": "display_data"
    },
    {
     "data": {
      "text/markdown": [
       "### Up from the Cape: A Plea for Republican Simplicity: Hezekiah Butterworth"
      ],
      "text/plain": [
       "<IPython.core.display.Markdown object>"
      ]
     },
     "metadata": {},
     "output_type": "display_data"
    },
    {
     "data": {
      "text/markdown": [
       "<small>Butterworth, Hezekiah</small>"
      ],
      "text/plain": [
       "<IPython.core.display.Markdown object>"
      ]
     },
     "metadata": {},
     "output_type": "display_data"
    },
    {
     "data": {
      "text/markdown": [
       "pon the seashore are caused by a single imperfect timber.” « \\ · . ‘Men Carrying, I say, the stamp of one defect, Their v <span style=\"color: blue\">irtues else be they as pure as grace, As infinite as man may undergo, Shall in the general censure take corruption From that particular fault.</span>’ “A single error destroys one’s self respect, weakens one’s resolution, and impairs"
      ],
      "text/plain": [
       "<IPython.core.display.Markdown object>"
      ]
     },
     "metadata": {},
     "output_type": "display_data"
    },
    {
     "name": "stdout",
     "output_type": "stream",
     "text": [
      "--------------------------------------------------\n"
     ]
    },
    {
     "data": {
      "text/markdown": [
       "### Hamlet"
      ],
      "text/plain": [
       "<IPython.core.display.Markdown object>"
      ]
     },
     "metadata": {},
     "output_type": "display_data"
    },
    {
     "data": {
      "text/markdown": [
       "Oph. I was the more deceived. Ham. Get thee to a nunnery: why wouldst thou be a breeder of sinners? I am myself <span style=\"color: blue\">indifferent honest; but yet I could accuse me of such things that it were better my mother had not borne</span> me: I am very proud, revengeful, ambitious; with more offences at my beck than I have thoughts to put them in, imagination to give them shape, or time to act"
      ],
      "text/plain": [
       "<IPython.core.display.Markdown object>"
      ]
     },
     "metadata": {},
     "output_type": "display_data"
    },
    {
     "data": {
      "text/markdown": [
       "### Trelawny: By Holman Freeland; with Illustrations by Arthur W. Brown"
      ],
      "text/plain": [
       "<IPython.core.display.Markdown object>"
      ]
     },
     "metadata": {},
     "output_type": "display_data"
    },
    {
     "data": {
      "text/markdown": [
       "<small>Freeland, Holman</small>"
      ],
      "text/plain": [
       "<IPython.core.display.Markdown object>"
      ]
     },
     "metadata": {},
     "output_type": "display_data"
    },
    {
     "data": {
      "text/markdown": [
       "mine. Seems absurd, don’t it? Fond of Shakespeare, I believe. Remember Hamlet ! ‘ I am <span style=\"color: blue\">indifferent honest; yet I could accuse me of such things that it were better my mother had not borne</span> me.’ Those days are past, thank God ! Saved myself? — no, I lie. Death saved me.” His strong"
      ],
      "text/plain": [
       "<IPython.core.display.Markdown object>"
      ]
     },
     "metadata": {},
     "output_type": "display_data"
    },
    {
     "name": "stdout",
     "output_type": "stream",
     "text": [
      "--------------------------------------------------\n"
     ]
    },
    {
     "data": {
      "text/markdown": [
       "### Hamlet"
      ],
      "text/plain": [
       "<IPython.core.display.Markdown object>"
      ]
     },
     "metadata": {},
     "output_type": "display_data"
    },
    {
     "data": {
      "text/markdown": [
       "thoughts no tongue, Nor any unproportion'd thought his act. Be thou familiar, but by no means vulgar. Those <span style=\"color: blue\">friends thou hast, and their adoption tried, Grapple</span> them unto thy soul with hoops of steel; But do not dull thy palm with entertainment Of each"
      ],
      "text/plain": [
       "<IPython.core.display.Markdown object>"
      ]
     },
     "metadata": {},
     "output_type": "display_data"
    },
    {
     "data": {
      "text/markdown": [
       "### Crown Jewels, or, the Dream of an Empire: An Historical Romance: By Emma L. Moffett"
      ],
      "text/plain": [
       "<IPython.core.display.Markdown object>"
      ]
     },
     "metadata": {},
     "output_type": "display_data"
    },
    {
     "data": {
      "text/markdown": [
       "<small>Moffett, Emma L.</small>"
      ],
      "text/plain": [
       "<IPython.core.display.Markdown object>"
      ]
     },
     "metadata": {},
     "output_type": "display_data"
    },
    {
     "data": {
      "text/markdown": [
       "precepts in thy memory bear : Give thy thoughts no tongue, Nor any unproportioned thought his act. The <span style=\"color: blue\">friends thou hast, and their adoption tried, Grapple</span> them to thy soul with hooks of steeU I will only add : To thy God and thine own self, be true"
      ],
      "text/plain": [
       "<IPython.core.display.Markdown object>"
      ]
     },
     "metadata": {},
     "output_type": "display_data"
    },
    {
     "name": "stdout",
     "output_type": "stream",
     "text": [
      "--------------------------------------------------\n"
     ]
    },
    {
     "data": {
      "text/markdown": [
       "### Hamlet"
      ],
      "text/plain": [
       "<IPython.core.display.Markdown object>"
      ]
     },
     "metadata": {},
     "output_type": "display_data"
    },
    {
     "data": {
      "text/markdown": [
       "months dead!--nay, not so much, not two: So excellent a king; that was, to this, Hyperion to a satyr; so loving to my mother, That he might not beteem the <span style=\"color: blue\">winds of heaven Visit her face too roughly</span>. Heaven and earth! Must I remember? Why, she would hang on him As if increase of appetite had grown By what it fed on: and yet"
      ],
      "text/plain": [
       "<IPython.core.display.Markdown object>"
      ]
     },
     "metadata": {},
     "output_type": "display_data"
    },
    {
     "data": {
      "text/markdown": [
       "### Living and Loving: By Virginia F. Townsend"
      ],
      "text/plain": [
       "<IPython.core.display.Markdown object>"
      ]
     },
     "metadata": {},
     "output_type": "display_data"
    },
    {
     "data": {
      "text/markdown": [
       "<small>Townsend, Virginia F. (Virginia Frances)</small>"
      ],
      "text/plain": [
       "<IPython.core.display.Markdown object>"
      ]
     },
     "metadata": {},
     "output_type": "display_data"
    },
    {
     "data": {
      "text/markdown": [
       "church, as he promised to love, protect, and cherish the fair girl at his side ; and I know he thought, as he looked down fondly upon her, that the very <span style=\"color: blue\">winds of heaven should not visit her face too roughly</span>/ And then шу father would tell us of a home made very bright by watehful affection, and of the dark-eyed boy and of the fair-haired girl"
      ],
      "text/plain": [
       "<IPython.core.display.Markdown object>"
      ]
     },
     "metadata": {},
     "output_type": "display_data"
    },
    {
     "name": "stdout",
     "output_type": "stream",
     "text": [
      "--------------------------------------------------\n"
     ]
    },
    {
     "data": {
      "text/markdown": [
       "### Hamlet"
      ],
      "text/plain": [
       "<IPython.core.display.Markdown object>"
      ]
     },
     "metadata": {},
     "output_type": "display_data"
    },
    {
     "data": {
      "text/markdown": [
       "audience, Let my disclaiming from a purpos'd evil Free me so far in your most generous thoughts That I have shot my <span style=\"color: blue\">arrow o'er the house And hurt my brother</span>. Laer. I am satisfied in nature, Whose motive, in this case, should stir me most To my revenge. But in my terms of honour"
      ],
      "text/plain": [
       "<IPython.core.display.Markdown object>"
      ]
     },
     "metadata": {},
     "output_type": "display_data"
    },
    {
     "data": {
      "text/markdown": [
       "### Janita's Dower: By Olivia Lovell Wilson"
      ],
      "text/plain": [
       "<IPython.core.display.Markdown object>"
      ]
     },
     "metadata": {},
     "output_type": "display_data"
    },
    {
     "data": {
      "text/markdown": [
       "<small>Wilson, Olivia Lovell</small>"
      ],
      "text/plain": [
       "<IPython.core.display.Markdown object>"
      ]
     },
     "metadata": {},
     "output_type": "display_data"
    },
    {
     "data": {
      "text/markdown": [
       "Hall. The revelation is a truthful one and I want your assistance, You must come with me at once. CHAPTER II. \" I have shot mine <span style=\"color: blue\">arrow o’er the house, And hurt my brother</span>.” “The house? Axtell Hall?” I stammered, while Harold exclaimed in surprise. “ Yes ; I was too eager to postpone my investigations"
      ],
      "text/plain": [
       "<IPython.core.display.Markdown object>"
      ]
     },
     "metadata": {},
     "output_type": "display_data"
    },
    {
     "name": "stdout",
     "output_type": "stream",
     "text": [
      "--------------------------------------------------\n"
     ]
    },
    {
     "data": {
      "text/markdown": [
       "### Hamlet"
      ],
      "text/plain": [
       "<IPython.core.display.Markdown object>"
      ]
     },
     "metadata": {},
     "output_type": "display_data"
    },
    {
     "data": {
      "text/markdown": [
       "lights, lights! [Exeunt all but Hamlet and Horatio.] Ham. Why, let the strucken deer go weep, The hart <span style=\"color: blue\">ungalled play; For some must watch, while some must sleep: So runs</span> the world away.-- Would not this, sir, and a forest of feathers--if the rest of my fortunes turn Turk with me,--with two Provincial roses on my razed"
      ],
      "text/plain": [
       "<IPython.core.display.Markdown object>"
      ]
     },
     "metadata": {},
     "output_type": "display_data"
    },
    {
     "data": {
      "text/markdown": [
       "### The Night Watch: Or, Social Life in the South: By Somebody"
      ],
      "text/plain": [
       "<IPython.core.display.Markdown object>"
      ]
     },
     "metadata": {},
     "output_type": "display_data"
    },
    {
     "data": {
      "text/markdown": [
       "<small>None</small>"
      ],
      "text/plain": [
       "<IPython.core.display.Markdown object>"
      ]
     },
     "metadata": {},
     "output_type": "display_data"
    },
    {
     "data": {
      "text/markdown": [
       "dumb grief, which shames all clam'rous sorrow.” \" Why let the stricken deer go weep, the heart <span style=\"color: blue\">ungalled play ; For some must watch, while some must sleep ; so runs</span> the world away.” It was near midnight ; the old lady sat rocking herself as usual. Myra had been assisted to rise"
      ],
      "text/plain": [
       "<IPython.core.display.Markdown object>"
      ]
     },
     "metadata": {},
     "output_type": "display_data"
    },
    {
     "name": "stdout",
     "output_type": "stream",
     "text": [
      "--------------------------------------------------\n"
     ]
    },
    {
     "data": {
      "text/markdown": [
       "### Hamlet"
      ],
      "text/plain": [
       "<IPython.core.display.Markdown object>"
      ]
     },
     "metadata": {},
     "output_type": "display_data"
    },
    {
     "data": {
      "text/markdown": [
       "host of heaven! O earth! what else? And shall I couple hell? O, fie!-- <span style=\"color: blue\">Hold, my heart; And you, my sinews, grow not instant old, But bear me stiffly</span> up.--Remember thee! Ay, thou poor ghost, while memory holds a seat"
      ],
      "text/plain": [
       "<IPython.core.display.Markdown object>"
      ]
     },
     "metadata": {},
     "output_type": "display_data"
    },
    {
     "data": {
      "text/markdown": [
       "### The Romance of a Rogue: By Joseph Sharts"
      ],
      "text/plain": [
       "<IPython.core.display.Markdown object>"
      ]
     },
     "metadata": {},
     "output_type": "display_data"
    },
    {
     "data": {
      "text/markdown": [
       "<small>Sharts, Joseph W. (Joseph William)</small>"
      ],
      "text/plain": [
       "<IPython.core.display.Markdown object>"
      ]
     },
     "metadata": {},
     "output_type": "display_data"
    },
    {
     "data": {
      "text/markdown": [
       "easy there. Don’t be profane.” Fletcher staggered tragically across the room. “Hold, <span style=\"color: blue\">hold, me heart! And you, me sinews, grow not instant old, but bear me stiffly</span> up!” For a moment Scarlett lost his tem¬ per, and leaping from his seat pinioned his tormentor against"
      ],
      "text/plain": [
       "<IPython.core.display.Markdown object>"
      ]
     },
     "metadata": {},
     "output_type": "display_data"
    },
    {
     "name": "stdout",
     "output_type": "stream",
     "text": [
      "--------------------------------------------------\n"
     ]
    },
    {
     "data": {
      "text/markdown": [
       "### Hamlet"
      ],
      "text/plain": [
       "<IPython.core.display.Markdown object>"
      ]
     },
     "metadata": {},
     "output_type": "display_data"
    },
    {
     "data": {
      "text/markdown": [
       "prais'd be rashness for it,--let us know, Our indiscretion sometime serves us well, When our deep plots do fail; and that should teach us There' <span style=\"color: blue\">s a divinity that shapes our ends, Rough-hew</span> them how we will. Hor. That is most certain. Ham. Up from my cabin, My sea-gown scarf'd about me, in the dark Grop"
      ],
      "text/plain": [
       "<IPython.core.display.Markdown object>"
      ]
     },
     "metadata": {},
     "output_type": "display_data"
    },
    {
     "data": {
      "text/markdown": [
       "### The Poorhouse Lark: By Mary B. Willey"
      ],
      "text/plain": [
       "<IPython.core.display.Markdown object>"
      ]
     },
     "metadata": {},
     "output_type": "display_data"
    },
    {
     "data": {
      "text/markdown": [
       "<small>Willey, Mary B.</small>"
      ],
      "text/plain": [
       "<IPython.core.display.Markdown object>"
      ]
     },
     "metadata": {},
     "output_type": "display_data"
    },
    {
     "data": {
      "text/markdown": [
       "breathed more freely than they had done since leaving home, and settled themselves for what was to them a long trip. CHAPTER XXII. THE LETTER. \" There’ <span style=\"color: blue\">s a divinity that shapes our ends. Rough-hew</span> them how we will ľ Vailette’s sixteenth birthday was marked by a surprise party, which Dr. Snell had insisted"
      ],
      "text/plain": [
       "<IPython.core.display.Markdown object>"
      ]
     },
     "metadata": {},
     "output_type": "display_data"
    },
    {
     "name": "stdout",
     "output_type": "stream",
     "text": [
      "--------------------------------------------------\n"
     ]
    },
    {
     "data": {
      "text/markdown": [
       "### Hamlet"
      ],
      "text/plain": [
       "<IPython.core.display.Markdown object>"
      ]
     },
     "metadata": {},
     "output_type": "display_data"
    },
    {
     "data": {
      "text/markdown": [
       "d be rashness for it,--let us know, Our indiscretion sometime serves us well, When our deep plots do fail; and that should teach us There's a <span style=\"color: blue\">divinity that shapes our ends, Rough-hew</span> them how we will. Hor. That is most certain. Ham. Up from my cabin, My sea-gown scarf'd about me, in the dark Grop"
      ],
      "text/plain": [
       "<IPython.core.display.Markdown object>"
      ]
     },
     "metadata": {},
     "output_type": "display_data"
    },
    {
     "data": {
      "text/markdown": [
       "### George Bailey: A Tale of New York Mercantile Life: By Oliver Oldboy"
      ],
      "text/plain": [
       "<IPython.core.display.Markdown object>"
      ]
     },
     "metadata": {},
     "output_type": "display_data"
    },
    {
     "data": {
      "text/markdown": [
       "<small>Oldboy, Oliver</small>"
      ],
      "text/plain": [
       "<IPython.core.display.Markdown object>"
      ]
     },
     "metadata": {},
     "output_type": "display_data"
    },
    {
     "data": {
      "text/markdown": [
       "Hess, had you seen your late son-in-law in your daughter’s presence. But it was otherwise ordered ; for “ There is a <span style=\"color: blue\">divinity that shapes our ends, Rough-hew</span> them as we may.” Myron Finch chuckled at his success; for he had not failed to note that the old man, weak and timid, had taken pains"
      ],
      "text/plain": [
       "<IPython.core.display.Markdown object>"
      ]
     },
     "metadata": {},
     "output_type": "display_data"
    },
    {
     "name": "stdout",
     "output_type": "stream",
     "text": [
      "--------------------------------------------------\n"
     ]
    },
    {
     "data": {
      "text/markdown": [
       "### Hamlet"
      ],
      "text/plain": [
       "<IPython.core.display.Markdown object>"
      ]
     },
     "metadata": {},
     "output_type": "display_data"
    },
    {
     "data": {
      "text/markdown": [
       "foul crimes done in my days of nature Are burnt and purg'd away. But that I am forbid To tell the secrets of my prison-house, I could a <span style=\"color: blue\">tale unfold whose lightest word Would harrow up thy soul; freeze thy young blood; Make thy two eyes, like stars, start from their spheres; Thy knotted and combined locks to part, And each particular hair to stand on end Like quills upon the fretful porcupine</span>: But this eternal blazon must not be To ears of flesh and blood.--List, list, O, list"
      ],
      "text/plain": [
       "<IPython.core.display.Markdown object>"
      ]
     },
     "metadata": {},
     "output_type": "display_data"
    },
    {
     "data": {
      "text/markdown": [
       "### The Scarlet Shadow: A Story of the Great Colorado Conspiracy: By Walter Hurt"
      ],
      "text/plain": [
       "<IPython.core.display.Markdown object>"
      ]
     },
     "metadata": {},
     "output_type": "display_data"
    },
    {
     "data": {
      "text/markdown": [
       "<small>Hurt, Walter</small>"
      ],
      "text/plain": [
       "<IPython.core.display.Markdown object>"
      ]
     },
     "metadata": {},
     "output_type": "display_data"
    },
    {
     "data": {
      "text/markdown": [
       "attempt¬ ing to conceal his aversion, “that’s not in the bargain.” CHAPTER VI. A HARVEST OF HORRORS. I could a <span style=\"color: blue\">tale unfold, whose lightest word Would harrow up thy soul ; freeze thy young blood ; Make thy two eyes, like stars, start from their spheres; Thy knotted and combined locks to part, And each particular hair to stand on end, Like quills upon the fretful porcupine</span>. —Shakespeare. Like some appalling disaster planned by Apollyon him¬ self and wrought by devils from the uttermost depths"
      ],
      "text/plain": [
       "<IPython.core.display.Markdown object>"
      ]
     },
     "metadata": {},
     "output_type": "display_data"
    },
    {
     "name": "stdout",
     "output_type": "stream",
     "text": [
      "--------------------------------------------------\n"
     ]
    },
    {
     "data": {
      "text/markdown": [
       "### Hamlet"
      ],
      "text/plain": [
       "<IPython.core.display.Markdown object>"
      ]
     },
     "metadata": {},
     "output_type": "display_data"
    },
    {
     "data": {
      "text/markdown": [
       "O God! Ghost. Revenge his foul and most unnatural murder. Ham. Murder! Ghost. <span style=\"color: blue\">Murder most foul, as in the best it is; But this most foul, strange, and unnatural</span>. Ham. Haste me to know't, that I, with wings as swift As meditation or the thoughts of love, May sweep to my revenge. Ghost"
      ],
      "text/plain": [
       "<IPython.core.display.Markdown object>"
      ]
     },
     "metadata": {},
     "output_type": "display_data"
    },
    {
     "data": {
      "text/markdown": [
       "### The Scarlet Shadow: A Story of the Great Colorado Conspiracy: By Walter Hurt"
      ],
      "text/plain": [
       "<IPython.core.display.Markdown object>"
      ]
     },
     "metadata": {},
     "output_type": "display_data"
    },
    {
     "data": {
      "text/markdown": [
       "<small>Hurt, Walter</small>"
      ],
      "text/plain": [
       "<IPython.core.display.Markdown object>"
      ]
     },
     "metadata": {},
     "output_type": "display_data"
    },
    {
     "data": {
      "text/markdown": [
       "s proximity, and as he passed out Rader heard him mutter: “It can be done.” CHAPTER XII. AT THE GATE OF DEATH. <span style=\"color: blue\">Murder most foul, as in the best it is ; But this most foul, strange and unnatural</span>. —Shakespeare. Assassinations are detestable things.—Oliver Cromwell. As Frank Steunenberg, former governor of Idaho"
      ],
      "text/plain": [
       "<IPython.core.display.Markdown object>"
      ]
     },
     "metadata": {},
     "output_type": "display_data"
    },
    {
     "name": "stdout",
     "output_type": "stream",
     "text": [
      "--------------------------------------------------\n"
     ]
    },
    {
     "data": {
      "text/markdown": [
       "### Hamlet"
      ],
      "text/plain": [
       "<IPython.core.display.Markdown object>"
      ]
     },
     "metadata": {},
     "output_type": "display_data"
    },
    {
     "data": {
      "text/markdown": [
       "present object made probation. Mar. It faded on the crowing of the cock. Some say that ever 'gainst that season comes <span style=\"color: blue\">Wherein our Saviour's birth is celebrated</span>, The bird of dawning singeth all night long; And then, they say, no spirit dare stir abroad; The nights are wholesome"
      ],
      "text/plain": [
       "<IPython.core.display.Markdown object>"
      ]
     },
     "metadata": {},
     "output_type": "display_data"
    },
    {
     "data": {
      "text/markdown": [
       "### A Royal Gentleman: By Albion W. Tourgée...; And 'Zouri's Christmas / by the Same Author"
      ],
      "text/plain": [
       "<IPython.core.display.Markdown object>"
      ]
     },
     "metadata": {},
     "output_type": "display_data"
    },
    {
     "data": {
      "text/markdown": [
       "<small>Tourgée, Albion W.</small>"
      ],
      "text/plain": [
       "<IPython.core.display.Markdown object>"
      ]
     },
     "metadata": {},
     "output_type": "display_data"
    },
    {
     "data": {
      "text/markdown": [
       "milar presence sitting on the ruins of an old house near Lovett Lodge. It seemed as if the nights of “that season wh <span style=\"color: blue\">erein our Saviour’s birth is celebrated”</span> had not only ceased to be “wholesome,” but had become the very carnival time of ghostliness. Toinette was soon a fixture at Lovett Lodge."
      ],
      "text/plain": [
       "<IPython.core.display.Markdown object>"
      ]
     },
     "metadata": {},
     "output_type": "display_data"
    },
    {
     "name": "stdout",
     "output_type": "stream",
     "text": [
      "--------------------------------------------------\n"
     ]
    },
    {
     "data": {
      "text/markdown": [
       "### Hamlet"
      ],
      "text/plain": [
       "<IPython.core.display.Markdown object>"
      ]
     },
     "metadata": {},
     "output_type": "display_data"
    },
    {
     "data": {
      "text/markdown": [
       "Fortune's buffets and rewards Hast ta'en with equal thanks: and bles' <span style=\"color: blue\">d are those Whose blood and judgment are so well commingled That they are not a pipe for Fortune's finger To sound what stop</span> she please. Give me that man That is not passion's slave, and I will wear him In my heart's core, ay, in my heart of heart"
      ],
      "text/plain": [
       "<IPython.core.display.Markdown object>"
      ]
     },
     "metadata": {},
     "output_type": "display_data"
    },
    {
     "data": {
      "text/markdown": [
       "### Madame Jane Junk and Joe: A Novel: By Oraquill"
      ],
      "text/plain": [
       "<IPython.core.display.Markdown object>"
      ]
     },
     "metadata": {},
     "output_type": "display_data"
    },
    {
     "data": {
      "text/markdown": [
       "<small>Oraquill</small>"
      ],
      "text/plain": [
       "<IPython.core.display.Markdown object>"
      ]
     },
     "metadata": {},
     "output_type": "display_data"
    },
    {
     "data": {
      "text/markdown": [
       "God knows, and we know, that the children of earth are often dwarfed for want of proper room to grow in. .“ Bless’ <span style=\"color: blue\">d are those Whose blood and judgment are so well commingled, That they are not a pipe for fortune’s finger To sound what stop</span> she please.” Our unlettered Mrs. Tom Glewer belonged to that class referred to in the above quotation. Madame"
      ],
      "text/plain": [
       "<IPython.core.display.Markdown object>"
      ]
     },
     "metadata": {},
     "output_type": "display_data"
    },
    {
     "name": "stdout",
     "output_type": "stream",
     "text": [
      "--------------------------------------------------\n"
     ]
    },
    {
     "data": {
      "text/markdown": [
       "### Hamlet"
      ],
      "text/plain": [
       "<IPython.core.display.Markdown object>"
      ]
     },
     "metadata": {},
     "output_type": "display_data"
    },
    {
     "data": {
      "text/markdown": [
       "purg'd away. But that I am forbid To tell the secrets of my prison-house, I could a tale unfold whose lightest word Would <span style=\"color: blue\">harrow up thy soul; freeze thy young blood; Make thy two eyes, like stars, start from their spheres; Thy knotted and combined locks to part, And each particular hair to stand on end Like quills upon the fretful</span> porcupine: But this eternal blazon must not be To ears of flesh and blood.--List, list, O"
      ],
      "text/plain": [
       "<IPython.core.display.Markdown object>"
      ]
     },
     "metadata": {},
     "output_type": "display_data"
    },
    {
     "data": {
      "text/markdown": [
       "### Camp Fire Stories: A Series of Sketches of the Union Army in the Southwest: By Edward Anderson"
      ],
      "text/plain": [
       "<IPython.core.display.Markdown object>"
      ]
     },
     "metadata": {},
     "output_type": "display_data"
    },
    {
     "data": {
      "text/markdown": [
       "<small>Anderson, Edward</small>"
      ],
      "text/plain": [
       "<IPython.core.display.Markdown object>"
      ]
     },
     "metadata": {},
     "output_type": "display_data"
    },
    {
     "data": {
      "text/markdown": [
       "ie was an abject coward. What he found out made him feel as described by Hamlet’s father’s ghost: “H <span style=\"color: blue\">arrow up thy soul; freeze thy young blood; Make thy two eyes, like stars, start from their spheres; Thy knotted and combined locks to part, And each particular hair to stand on end, like quills upon the fretful</span> porcppinę.” Those “knotted and combined locks” of Wes* were simply coming out of kink, and he was turning into a white"
      ],
      "text/plain": [
       "<IPython.core.display.Markdown object>"
      ]
     },
     "metadata": {},
     "output_type": "display_data"
    },
    {
     "name": "stdout",
     "output_type": "stream",
     "text": [
      "--------------------------------------------------\n"
     ]
    },
    {
     "data": {
      "text/markdown": [
       "### Hamlet"
      ],
      "text/plain": [
       "<IPython.core.display.Markdown object>"
      ]
     },
     "metadata": {},
     "output_type": "display_data"
    },
    {
     "data": {
      "text/markdown": [
       "Fortinbras: he has my dying voice; So tell him, with the occurrents, more and less, Which have solicited.--the rest is silence. [Dies.] Hor. Now <span style=\"color: blue\">cracks a noble heart.--Good night, sweet prince</span>, And flights of angels sing thee to thy rest! Why does the drum come hither? [March within"
      ],
      "text/plain": [
       "<IPython.core.display.Markdown object>"
      ]
     },
     "metadata": {},
     "output_type": "display_data"
    },
    {
     "data": {
      "text/markdown": [
       "### A Game of Chance: By Anne Sheldon Coombs …"
      ],
      "text/plain": [
       "<IPython.core.display.Markdown object>"
      ]
     },
     "metadata": {},
     "output_type": "display_data"
    },
    {
     "data": {
      "text/markdown": [
       "<small>Coombs, Anne Sheldon, Mrs.</small>"
      ],
      "text/plain": [
       "<IPython.core.display.Markdown object>"
      ]
     },
     "metadata": {},
     "output_type": "display_data"
    },
    {
     "data": {
      "text/markdown": [
       "Shadows. 157 ΧΠ. —Night. 170 ΧΠΙ. —Creagh in a New Light. 184 XIV. —Temptation. 198 XV. —Bitter Fruit. 209 XVI. —“ Now <span style=\"color: blue\">Cracks a Noble Heart. Good-Night, Sweet Prince</span>”. 218 XVII. — A New Combination. 229 XVIII. — A Forgotten Letter. 235 A GAME OF CHANCE. CHAPTER L A BEFUGE"
      ],
      "text/plain": [
       "<IPython.core.display.Markdown object>"
      ]
     },
     "metadata": {},
     "output_type": "display_data"
    },
    {
     "name": "stdout",
     "output_type": "stream",
     "text": [
      "--------------------------------------------------\n"
     ]
    },
    {
     "data": {
      "text/markdown": [
       "### Hamlet"
      ],
      "text/plain": [
       "<IPython.core.display.Markdown object>"
      ]
     },
     "metadata": {},
     "output_type": "display_data"
    },
    {
     "data": {
      "text/markdown": [
       "friends. Hor. O day and night, but this is wondrous strange! Ham. And therefore as a stranger give it welcome. There are more things in <span style=\"color: blue\">heaven and earth, Horatio, Than are dreamt of in your philosophy</span>. But come;-- Here, as before, never, so help you mercy, How strange or odd soe'er I bear myself,-- As I, perchance, hereafter shall"
      ],
      "text/plain": [
       "<IPython.core.display.Markdown object>"
      ]
     },
     "metadata": {},
     "output_type": "display_data"
    },
    {
     "data": {
      "text/markdown": [
       "### Our Refugee Household: By Louise Clack"
      ],
      "text/plain": [
       "<IPython.core.display.Markdown object>"
      ]
     },
     "metadata": {},
     "output_type": "display_data"
    },
    {
     "data": {
      "text/markdown": [
       "<small>Clack, Louise</small>"
      ],
      "text/plain": [
       "<IPython.core.display.Markdown object>"
      ]
     },
     "metadata": {},
     "output_type": "display_data"
    },
    {
     "data": {
      "text/markdown": [
       "hrill through me. “How little persons suppose that the inanimate objects around them are ever cognizant of their actions! They often quote, too, the much used words :— ‘ There are more things in h <span style=\"color: blue\">eaven and earth, Horatio, Than are dreamt of in your philosophy,</span>' and yet they never dream of this, that mind is ever compassed in inanimate matter. Does not the spirit of the chaste Daphne still whisper"
      ],
      "text/plain": [
       "<IPython.core.display.Markdown object>"
      ]
     },
     "metadata": {},
     "output_type": "display_data"
    },
    {
     "name": "stdout",
     "output_type": "stream",
     "text": [
      "--------------------------------------------------\n"
     ]
    },
    {
     "data": {
      "text/markdown": [
       "### Hamlet"
      ],
      "text/plain": [
       "<IPython.core.display.Markdown object>"
      ]
     },
     "metadata": {},
     "output_type": "display_data"
    },
    {
     "data": {
      "text/markdown": [
       "loan oft loses both itself and friend; And borrowing dulls the edge of husbandry. This above all,--to <span style=\"color: blue\">thine own self be true; And it must follow, as the night the day, Thou canst not then be false</span> to any man. Farewell: my blessing season this in thee! Laer. Most humbly do I take my leave, my lord. Pol. The time invites"
      ],
      "text/plain": [
       "<IPython.core.display.Markdown object>"
      ]
     },
     "metadata": {},
     "output_type": "display_data"
    },
    {
     "data": {
      "text/markdown": [
       "### A Heresy of Yesterday: By Cyrenus M. Lane"
      ],
      "text/plain": [
       "<IPython.core.display.Markdown object>"
      ]
     },
     "metadata": {},
     "output_type": "display_data"
    },
    {
     "data": {
      "text/markdown": [
       "<small>Lane, Cyrenus M.</small>"
      ],
      "text/plain": [
       "<IPython.core.display.Markdown object>"
      ]
     },
     "metadata": {},
     "output_type": "display_data"
    },
    {
     "data": {
      "text/markdown": [
       "Yesterday BY CYRENUS M. LANE DAVIS & BOND BOSTON Copyright 1913 by DAVIS & BOND “ To <span style=\"color: blue\">thine own self be true; And, it must follow, as the night the day , Thou canst not then be false</span> to any man.” —Hamlet. INDEX. CHAPTER TAGE I. In the Toils of Mammon .... Ц II. Truth’s Humble"
      ],
      "text/plain": [
       "<IPython.core.display.Markdown object>"
      ]
     },
     "metadata": {},
     "output_type": "display_data"
    },
    {
     "name": "stdout",
     "output_type": "stream",
     "text": [
      "--------------------------------------------------\n"
     ]
    },
    {
     "data": {
      "text/markdown": [
       "### Hamlet"
      ],
      "text/plain": [
       "<IPython.core.display.Markdown object>"
      ]
     },
     "metadata": {},
     "output_type": "display_data"
    },
    {
     "data": {
      "text/markdown": [
       "held his wont to walk. [A flourish of trumpets, and ordnance shot off within.] What does this mean, my lord? Ham. The <span style=\"color: blue\">King doth wake to-night and takes his rouse, Keeps wassail, and the swaggering</span> up-spring reels; And, as he drains his draughts of Rhenish down, The kettle-drum and trumpet thus bray"
      ],
      "text/plain": [
       "<IPython.core.display.Markdown object>"
      ]
     },
     "metadata": {},
     "output_type": "display_data"
    },
    {
     "data": {
      "text/markdown": [
       "### Hugh Capet, Count of Paris: Or, the Diadem of Charlemagne: A Romance of France at the Close of the 10th Century: By Francis A. Durivage"
      ],
      "text/plain": [
       "<IPython.core.display.Markdown object>"
      ]
     },
     "metadata": {},
     "output_type": "display_data"
    },
    {
     "data": {
      "text/markdown": [
       "<small>Durivage, Francis Alexander</small>"
      ],
      "text/plain": [
       "<IPython.core.display.Markdown object>"
      ]
     },
     "metadata": {},
     "output_type": "display_data"
    },
    {
     "data": {
      "text/markdown": [
       "onarch of France is bound The royal oath. The discovery. The as¬ oné step between the coward and the assassin. The k <span style=\"color: blue\">ing doth wake to-night, and takes his rouse, Keeps wassail, and the swaggering</span> upspring reels ; And as he drains his draughts of Rhenish down, The kettle-drum and trumpet thus bray"
      ],
      "text/plain": [
       "<IPython.core.display.Markdown object>"
      ]
     },
     "metadata": {},
     "output_type": "display_data"
    },
    {
     "name": "stdout",
     "output_type": "stream",
     "text": [
      "--------------------------------------------------\n"
     ]
    },
    {
     "data": {
      "text/markdown": [
       "### Hamlet"
      ],
      "text/plain": [
       "<IPython.core.display.Markdown object>"
      ]
     },
     "metadata": {},
     "output_type": "display_data"
    },
    {
     "data": {
      "text/markdown": [
       "King doth wake to-night and takes his rouse, Keeps wassail, and the swaggering up-spring <span style=\"color: blue\">reels; And, as he drains his draughts of Rhenish down, The kettle-drum and trumpet thus bray out The triumph of his pledge</span>. Hor. Is it a custom? Ham. Ay, marry, is't; But to my mind,--though I am native here, And to the manner"
      ],
      "text/plain": [
       "<IPython.core.display.Markdown object>"
      ]
     },
     "metadata": {},
     "output_type": "display_data"
    },
    {
     "data": {
      "text/markdown": [
       "### Hugh Capet, Count of Paris: Or, the Diadem of Charlemagne: A Romance of France at the Close of the 10th Century: By Francis A. Durivage"
      ],
      "text/plain": [
       "<IPython.core.display.Markdown object>"
      ]
     },
     "metadata": {},
     "output_type": "display_data"
    },
    {
     "data": {
      "text/markdown": [
       "<small>Durivage, Francis Alexander</small>"
      ],
      "text/plain": [
       "<IPython.core.display.Markdown object>"
      ]
     },
     "metadata": {},
     "output_type": "display_data"
    },
    {
     "data": {
      "text/markdown": [
       "ing doth wake to-night, and takes his rouse, Keeps wassail, and the swaggering upspring r <span style=\"color: blue\">eels ; And as he drains his draughts of Rhenish down, The kettle-drum and trumpet thus bray out The triumph of his pledge.</span> Hamlet. T HE king dined sumptuously on the day of the tournament, and washed down his gener¬ ous fare"
      ],
      "text/plain": [
       "<IPython.core.display.Markdown object>"
      ]
     },
     "metadata": {},
     "output_type": "display_data"
    },
    {
     "name": "stdout",
     "output_type": "stream",
     "text": [
      "--------------------------------------------------\n"
     ]
    },
    {
     "data": {
      "text/markdown": [
       "### Hamlet"
      ],
      "text/plain": [
       "<IPython.core.display.Markdown object>"
      ]
     },
     "metadata": {},
     "output_type": "display_data"
    },
    {
     "data": {
      "text/markdown": [
       "wastein fires, Till the foul crimes done in my days of nature Are burnt and purg'd away. But that I am <span style=\"color: blue\">forbid To tell the secrets of my prison-house, I could a tale unfold whose lightest word Would harrow up thy soul</span>; freeze thy young blood; Make thy two eyes, like stars, start from their spheres; Thy"
      ],
      "text/plain": [
       "<IPython.core.display.Markdown object>"
      ]
     },
     "metadata": {},
     "output_type": "display_data"
    },
    {
     "data": {
      "text/markdown": [
       "### Hugh Capet, Count of Paris: Or, the Diadem of Charlemagne: A Romance of France at the Close of the 10th Century: By Francis A. Durivage"
      ],
      "text/plain": [
       "<IPython.core.display.Markdown object>"
      ]
     },
     "metadata": {},
     "output_type": "display_data"
    },
    {
     "data": {
      "text/markdown": [
       "<small>Durivage, Francis Alexander</small>"
      ],
      "text/plain": [
       "<IPython.core.display.Markdown object>"
      ]
     },
     "metadata": {},
     "output_type": "display_data"
    },
    {
     "data": {
      "text/markdown": [
       "partments. Strange con¬ duct of Erminia. The mysterious events of the night. What secret do they indicate ? But that I am f <span style=\"color: blue\">orbid To tell the secrets of my prison-house, I could a tale unfold, whose lightest word Would harrow up thy soul.</span> Hamlet. B LANCHE of Acquitaine had never before crossed the threshold of the apartments ih which she had now been placed by her husband."
      ],
      "text/plain": [
       "<IPython.core.display.Markdown object>"
      ]
     },
     "metadata": {},
     "output_type": "display_data"
    },
    {
     "name": "stdout",
     "output_type": "stream",
     "text": [
      "--------------------------------------------------\n"
     ]
    },
    {
     "data": {
      "text/markdown": [
       "### Hamlet"
      ],
      "text/plain": [
       "<IPython.core.display.Markdown object>"
      ]
     },
     "metadata": {},
     "output_type": "display_data"
    },
    {
     "data": {
      "text/markdown": [
       "hands apt, drugs fit, and time agreeing; Confederate season, else no creature seeing; <span style=\"color: blue\">Thou mixture rank, of midnight weeds collected, With Hecate's ban thrice blasted, thrice infected, Thy natural magic and dire property On wholesome life usurp immediately</span>. [Pours the poison into the sleeper's ears.] Ham. He poisons him i' the garden for's estate"
      ],
      "text/plain": [
       "<IPython.core.display.Markdown object>"
      ]
     },
     "metadata": {},
     "output_type": "display_data"
    },
    {
     "data": {
      "text/markdown": [
       "### Hugh Capet, Count of Paris: Or, the Diadem of Charlemagne: A Romance of France at the Close of the 10th Century: By Francis A. Durivage"
      ],
      "text/plain": [
       "<IPython.core.display.Markdown object>"
      ]
     },
     "metadata": {},
     "output_type": "display_data"
    },
    {
     "data": {
      "text/markdown": [
       "<small>Durivage, Francis Alexander</small>"
      ],
      "text/plain": [
       "<IPython.core.display.Markdown object>"
      ]
     },
     "metadata": {},
     "output_type": "display_data"
    },
    {
     "data": {
      "text/markdown": [
       "urrender. Louis proposes to put the fidelity of the queen to a religious test. The fate of the astrologer. T <span style=\"color: blue\">hou mixture rank, of midnight weeds collected, With Hecate’s ban thrice blasted, thrice infected, Thy natural magic, and dire property, On wholesome life usurp immediately.</span> W HEN the king reached his apartments, he found everything in a state of con¬ fusion. Courtiers"
      ],
      "text/plain": [
       "<IPython.core.display.Markdown object>"
      ]
     },
     "metadata": {},
     "output_type": "display_data"
    },
    {
     "name": "stdout",
     "output_type": "stream",
     "text": [
      "--------------------------------------------------\n"
     ]
    },
    {
     "data": {
      "text/markdown": [
       "### Hamlet"
      ],
      "text/plain": [
       "<IPython.core.display.Markdown object>"
      ]
     },
     "metadata": {},
     "output_type": "display_data"
    },
    {
     "data": {
      "text/markdown": [
       "itself and friend; And borrowing dulls the edge of husbandry. This above all,--to thine own self be true; And it <span style=\"color: blue\">must follow, as the night the day, Thou canst not then be false</span> to any man. Farewell: my blessing season this in thee! Laer. Most humbly do I take my leave, my lord. Pol. The time invites"
      ],
      "text/plain": [
       "<IPython.core.display.Markdown object>"
      ]
     },
     "metadata": {},
     "output_type": "display_data"
    },
    {
     "data": {
      "text/markdown": [
       "### Clip Her Wing or Let Her Soar: A Novel: By a Lady of Louisiana"
      ],
      "text/plain": [
       "<IPython.core.display.Markdown object>"
      ]
     },
     "metadata": {},
     "output_type": "display_data"
    },
    {
     "data": {
      "text/markdown": [
       "<small>Handy, John, Mrs.</small>"
      ],
      "text/plain": [
       "<IPython.core.display.Markdown object>"
      ]
     },
     "metadata": {},
     "output_type": "display_data"
    },
    {
     "data": {
      "text/markdown": [
       "benefit. But, Gordon ; remember this above all : first to thy God be true, then “ To thine ownself he trne : And it <span style=\"color: blue\">must follow, as the night the day. Thou canst not then be false</span> to any man.” “ I doubt if it be kind or wise To quench the light in opening eyes,’ · By preaching fallacy and woe"
      ],
      "text/plain": [
       "<IPython.core.display.Markdown object>"
      ]
     },
     "metadata": {},
     "output_type": "display_data"
    },
    {
     "name": "stdout",
     "output_type": "stream",
     "text": [
      "--------------------------------------------------\n"
     ]
    },
    {
     "data": {
      "text/markdown": [
       "### Hamlet"
      ],
      "text/plain": [
       "<IPython.core.display.Markdown object>"
      ]
     },
     "metadata": {},
     "output_type": "display_data"
    },
    {
     "data": {
      "text/markdown": [
       "Yet what can it when one cannot repent? O wretched state! O bosom black as death! <span style=\"color: blue\">O limed soul, that, struggling to be free, Art</span> more engag'd! Help, angels! Make assay: Bow, stubborn knees; and, heart, with strings of steel"
      ],
      "text/plain": [
       "<IPython.core.display.Markdown object>"
      ]
     },
     "metadata": {},
     "output_type": "display_data"
    },
    {
     "data": {
      "text/markdown": [
       "### Daniel Trentworthy: A Tale of the Great Fire of Chicago: By John McGovern …"
      ],
      "text/plain": [
       "<IPython.core.display.Markdown object>"
      ]
     },
     "metadata": {},
     "output_type": "display_data"
    },
    {
     "data": {
      "text/markdown": [
       "<small>McGovern, John</small>"
      ],
      "text/plain": [
       "<IPython.core.display.Markdown object>"
      ]
     },
     "metadata": {},
     "output_type": "display_data"
    },
    {
     "data": {
      "text/markdown": [
       "tupid. Shakespeare’s picture of the bird caught in the sticky preparation of the hunter was ever in his mind : O <span style=\"color: blue\">, limed soul, that struggling to be free, Art</span> more engaged ! And to show the depths of her sorrow, and the keenness of Daniel’s knowledge of Mary, it was fated"
      ],
      "text/plain": [
       "<IPython.core.display.Markdown object>"
      ]
     },
     "metadata": {},
     "output_type": "display_data"
    },
    {
     "name": "stdout",
     "output_type": "stream",
     "text": [
      "--------------------------------------------------\n"
     ]
    },
    {
     "data": {
      "text/markdown": [
       "### Hamlet"
      ],
      "text/plain": [
       "<IPython.core.display.Markdown object>"
      ]
     },
     "metadata": {},
     "output_type": "display_data"
    },
    {
     "data": {
      "text/markdown": [
       "young blood; Make thy two eyes, like stars, start from their spheres; Thy knotted and combined <span style=\"color: blue\">locks to part, And each particular hair to stand on end Like quills upon the fretful porcupine</span>: But this eternal blazon must not be To ears of flesh and blood.--List, list, O, list"
      ],
      "text/plain": [
       "<IPython.core.display.Markdown object>"
      ]
     },
     "metadata": {},
     "output_type": "display_data"
    },
    {
     "data": {
      "text/markdown": [
       "### Gomery of Montgomery: A Family History: By the Author of \"Philip Thaxter\" …"
      ],
      "text/plain": [
       "<IPython.core.display.Markdown object>"
      ]
     },
     "metadata": {},
     "output_type": "display_data"
    },
    {
     "data": {
      "text/markdown": [
       "<small>Washburn, Charles A. (Charles Ames)</small>"
      ],
      "text/plain": [
       "<IPython.core.display.Markdown object>"
      ]
     },
     "metadata": {},
     "output_type": "display_data"
    },
    {
     "data": {
      "text/markdown": [
       "ms to me you might feel confidence enough in me to tell me your whole story.” “Were I to do that, it would cause ‘thy knotted and com¬ bined loc <span style=\"color: blue\">ks to part, and each particular hair to stand on end like quills upon the fretful porcupine.’</span> It is not within the scope of my fell mission — revenge I do not call it—that any one should know of my existence in my real character. I move, a"
      ],
      "text/plain": [
       "<IPython.core.display.Markdown object>"
      ]
     },
     "metadata": {},
     "output_type": "display_data"
    },
    {
     "name": "stdout",
     "output_type": "stream",
     "text": [
      "--------------------------------------------------\n"
     ]
    },
    {
     "data": {
      "text/markdown": [
       "### Hamlet"
      ],
      "text/plain": [
       "<IPython.core.display.Markdown object>"
      ]
     },
     "metadata": {},
     "output_type": "display_data"
    },
    {
     "data": {
      "text/markdown": [
       "Queen. If it be, Why seems it so particular with thee? Ham. Seems, madam! Nay, it is; I know not seems. 'Tis not <span style=\"color: blue\">alone my inky cloak, good mother, Nor customary suits of solemn black, Nor windy</span> suspiration of forc'd breath, No, nor the fruitful river in the eye, Nor the dejected"
      ],
      "text/plain": [
       "<IPython.core.display.Markdown object>"
      ]
     },
     "metadata": {},
     "output_type": "display_data"
    },
    {
     "data": {
      "text/markdown": [
       "### The Gossips of Rivertown: With Sketches in Prose and Verse: By Alice B. Neal"
      ],
      "text/plain": [
       "<IPython.core.display.Markdown object>"
      ]
     },
     "metadata": {},
     "output_type": "display_data"
    },
    {
     "data": {
      "text/markdown": [
       "<small>Haven, Alice B. (Alice Bradley)</small>"
      ],
      "text/plain": [
       "<IPython.core.display.Markdown object>"
      ]
     },
     "metadata": {},
     "output_type": "display_data"
    },
    {
     "data": {
      "text/markdown": [
       "art when she slept that night, her pillow wet with agonizing tears. CHAPTER IV. ’T is not al <span style=\"color: blue\">one my inky cloak, good mother, Nor customary suits of solemn black, Nor windy s</span> uspirations of forced breath, No, nor the fruitful river of the eye, Nor the dejected haviour o"
      ],
      "text/plain": [
       "<IPython.core.display.Markdown object>"
      ]
     },
     "metadata": {},
     "output_type": "display_data"
    },
    {
     "name": "stdout",
     "output_type": "stream",
     "text": [
      "--------------------------------------------------\n"
     ]
    },
    {
     "data": {
      "text/markdown": [
       "### Hamlet"
      ],
      "text/plain": [
       "<IPython.core.display.Markdown object>"
      ]
     },
     "metadata": {},
     "output_type": "display_data"
    },
    {
     "data": {
      "text/markdown": [
       "Nor customary suits of solemn black, Nor windy suspiration of forc'd <span style=\"color: blue\">breath, No, nor the fruitful river in the eye, Nor the dejected</span>'havior of the visage, Together with all forms, moods, shows of grief, That can denote me truly: these, indeed"
      ],
      "text/plain": [
       "<IPython.core.display.Markdown object>"
      ]
     },
     "metadata": {},
     "output_type": "display_data"
    },
    {
     "data": {
      "text/markdown": [
       "### The Gossips of Rivertown: With Sketches in Prose and Verse: By Alice B. Neal"
      ],
      "text/plain": [
       "<IPython.core.display.Markdown object>"
      ]
     },
     "metadata": {},
     "output_type": "display_data"
    },
    {
     "data": {
      "text/markdown": [
       "<small>Haven, Alice B. (Alice Bradley)</small>"
      ],
      "text/plain": [
       "<IPython.core.display.Markdown object>"
      ]
     },
     "metadata": {},
     "output_type": "display_data"
    },
    {
     "data": {
      "text/markdown": [
       "ther, Nor customary suits of solemn black, Nor windy suspirations of forced br <span style=\"color: blue\">eath, No, nor the fruitful river of the eye, Nor the dejected h</span> aviour of the visage, Together with all forms, modes, shows of grief That can denote me truly ; these indeed s"
      ],
      "text/plain": [
       "<IPython.core.display.Markdown object>"
      ]
     },
     "metadata": {},
     "output_type": "display_data"
    },
    {
     "name": "stdout",
     "output_type": "stream",
     "text": [
      "--------------------------------------------------\n"
     ]
    },
    {
     "data": {
      "text/markdown": [
       "### Hamlet"
      ],
      "text/plain": [
       "<IPython.core.display.Markdown object>"
      ]
     },
     "metadata": {},
     "output_type": "display_data"
    },
    {
     "data": {
      "text/markdown": [
       "fruitful river in the eye, Nor the dejected 'havior of the visage, Together with all forms, moods, <span style=\"color: blue\">shows of grief, That can denote me truly: these, indeed, seem; For they are actions that a man might play; But I have that within which passeth show; These but the trappings and the suits of woe</span>. King. 'Tis sweet and commendable in your nature, Hamlet, To give these mourning duties to your father; But, you must"
      ],
      "text/plain": [
       "<IPython.core.display.Markdown object>"
      ]
     },
     "metadata": {},
     "output_type": "display_data"
    },
    {
     "data": {
      "text/markdown": [
       "### The Gossips of Rivertown: With Sketches in Prose and Verse: By Alice B. Neal"
      ],
      "text/plain": [
       "<IPython.core.display.Markdown object>"
      ]
     },
     "metadata": {},
     "output_type": "display_data"
    },
    {
     "data": {
      "text/markdown": [
       "<small>Haven, Alice B. (Alice Bradley)</small>"
      ],
      "text/plain": [
       "<IPython.core.display.Markdown object>"
      ]
     },
     "metadata": {},
     "output_type": "display_data"
    },
    {
     "data": {
      "text/markdown": [
       "uitful river of the eye, Nor the dejected haviour of the visage, Together with all forms, modes, sh <span style=\"color: blue\">ows of grief That can denote me truly ; these indeed seem, For they are actions that a man might play; But I have that within, which passeth show ; These, but the trappings and the suits of woe.</span> Hamlet. “ These thoughts have made me strong to check The bitterness of grief, Have nerved my heart to bear the pangs T"
      ],
      "text/plain": [
       "<IPython.core.display.Markdown object>"
      ]
     },
     "metadata": {},
     "output_type": "display_data"
    },
    {
     "name": "stdout",
     "output_type": "stream",
     "text": [
      "--------------------------------------------------\n"
     ]
    },
    {
     "data": {
      "text/markdown": [
       "### Hamlet"
      ],
      "text/plain": [
       "<IPython.core.display.Markdown object>"
      ]
     },
     "metadata": {},
     "output_type": "display_data"
    },
    {
     "data": {
      "text/markdown": [
       "b' wi' ye! Now I am alone. O, what a rogue and peasant slave am I! Is it not monstrous that this player here, But in a <span style=\"color: blue\">fiction, in a dream of passion, Could force his soul so to his own conceit That from her working all his visage</span> wan'd; Tears in his eyes, distraction in's aspect, A broken voice, and his whole"
      ],
      "text/plain": [
       "<IPython.core.display.Markdown object>"
      ]
     },
     "metadata": {},
     "output_type": "display_data"
    },
    {
     "data": {
      "text/markdown": [
       "### Outwitted at Last: A Novel: By S. A. Gardner …"
      ],
      "text/plain": [
       "<IPython.core.display.Markdown object>"
      ]
     },
     "metadata": {},
     "output_type": "display_data"
    },
    {
     "data": {
      "text/markdown": [
       "<small>Gardner, S. A.</small>"
      ],
      "text/plain": [
       "<IPython.core.display.Markdown object>"
      ]
     },
     "metadata": {},
     "output_type": "display_data"
    },
    {
     "data": {
      "text/markdown": [
       "e ; or, what is the same thing, lore the force of our individuality. Let God be God, and every man himself. “ Is it not monstrous that this player here, Bat in а fi <span style=\"color: blue\">ction, in а dream of passion, Could force his soul so to his own conceit, That from her working all his visage w</span> ann’d \\ Tears in his eyes, distraction in ’s aspect, A broken voice and hie w"
      ],
      "text/plain": [
       "<IPython.core.display.Markdown object>"
      ]
     },
     "metadata": {},
     "output_type": "display_data"
    },
    {
     "name": "stdout",
     "output_type": "stream",
     "text": [
      "--------------------------------------------------\n"
     ]
    },
    {
     "data": {
      "text/markdown": [
       "### Hamlet"
      ],
      "text/plain": [
       "<IPython.core.display.Markdown object>"
      ]
     },
     "metadata": {},
     "output_type": "display_data"
    },
    {
     "data": {
      "text/markdown": [
       "player here, But in a fiction, in a dream of passion, Could force his soul so to his own conceit That from her working all his visage wan' <span style=\"color: blue\">d; Tears in his eyes, distraction in's aspect, A broken voice</span>, and his whole function suiting With forms to his conceit? And all for nothing! For Hecuba? What's Hecuba to him, or he to Hecuba, That he should weep"
      ],
      "text/plain": [
       "<IPython.core.display.Markdown object>"
      ]
     },
     "metadata": {},
     "output_type": "display_data"
    },
    {
     "data": {
      "text/markdown": [
       "### Outwitted at Last: A Novel: By S. A. Gardner …"
      ],
      "text/plain": [
       "<IPython.core.display.Markdown object>"
      ]
     },
     "metadata": {},
     "output_type": "display_data"
    },
    {
     "data": {
      "text/markdown": [
       "<small>Gardner, S. A.</small>"
      ],
      "text/plain": [
       "<IPython.core.display.Markdown object>"
      ]
     },
     "metadata": {},
     "output_type": "display_data"
    },
    {
     "data": {
      "text/markdown": [
       "t in а fiction, in а dream of passion, Could force his soul so to his own conceit, That from her working all his visage wann’d <span style=\"color: blue\">\\ Tears in his eyes, distraction in ’s aspect, A broken voice a</span> nd hie whole fonction suiting With forms to his conceit.” It was not until Bedford and Victor reached R"
      ],
      "text/plain": [
       "<IPython.core.display.Markdown object>"
      ]
     },
     "metadata": {},
     "output_type": "display_data"
    },
    {
     "name": "stdout",
     "output_type": "stream",
     "text": [
      "--------------------------------------------------\n"
     ]
    },
    {
     "data": {
      "text/markdown": [
       "### Hamlet"
      ],
      "text/plain": [
       "<IPython.core.display.Markdown object>"
      ]
     },
     "metadata": {},
     "output_type": "display_data"
    },
    {
     "data": {
      "text/markdown": [
       "s spirit in arms! All is not well; I doubt some foul play: would the night were come! Till then sit still, my soul: <span style=\"color: blue\">foul deeds will rise, Though all the earth o'erwhelm them, to men's eyes</span>. [Exit.] Scene III. A room in Polonius's house. [Enter Laertes and Ophelia.] Laer"
      ],
      "text/plain": [
       "<IPython.core.display.Markdown object>"
      ]
     },
     "metadata": {},
     "output_type": "display_data"
    },
    {
     "data": {
      "text/markdown": [
       "### Nix's Mate: An Historical Romance of America: By the Author of \"Athenia of Damascus,\" [Etc.]"
      ],
      "text/plain": [
       "<IPython.core.display.Markdown object>"
      ]
     },
     "metadata": {},
     "output_type": "display_data"
    },
    {
     "data": {
      "text/markdown": [
       "<small>Dawes, Rufus</small>"
      ],
      "text/plain": [
       "<IPython.core.display.Markdown object>"
      ]
     },
     "metadata": {},
     "output_type": "display_data"
    },
    {
     "data": {
      "text/markdown": [
       "bbjfe Ot im 1 \"1 U» ir m affin i 5 81 * CHAPTER XXII. Fo <span style=\"color: blue\">ul deeds will rise, Though all the earth o’erwhelm them, to men’s eyes H</span> amlet. So shall you hear Of carnal, bloody and unnatural acts; Of accidental judgments, casual s"
      ],
      "text/plain": [
       "<IPython.core.display.Markdown object>"
      ]
     },
     "metadata": {},
     "output_type": "display_data"
    },
    {
     "name": "stdout",
     "output_type": "stream",
     "text": [
      "--------------------------------------------------\n"
     ]
    },
    {
     "data": {
      "text/markdown": [
       "### Hamlet"
      ],
      "text/plain": [
       "<IPython.core.display.Markdown object>"
      ]
     },
     "metadata": {},
     "output_type": "display_data"
    },
    {
     "data": {
      "text/markdown": [
       "d, give order that these bodies High on a stage be placed to the view; And let me speak to the yet unknowing world How these things came about: so <span style=\"color: blue\">shall you hear Of carnal, bloody and unnatural acts; Of accidental judgments, casual slaughters; Of deaths put on by cunning and forc'd cause; And, in this upshot, purposes mistook Fall'n</span> on the inventors' heads: all this can I Truly deliver. Fort. Let us haste to hear it, And call the noblest to the audience"
      ],
      "text/plain": [
       "<IPython.core.display.Markdown object>"
      ]
     },
     "metadata": {},
     "output_type": "display_data"
    },
    {
     "data": {
      "text/markdown": [
       "### Nix's Mate: An Historical Romance of America: By the Author of \"Athenia of Damascus,\" [Etc.]"
      ],
      "text/plain": [
       "<IPython.core.display.Markdown object>"
      ]
     },
     "metadata": {},
     "output_type": "display_data"
    },
    {
     "data": {
      "text/markdown": [
       "<small>Dawes, Rufus</small>"
      ],
      "text/plain": [
       "<IPython.core.display.Markdown object>"
      ]
     },
     "metadata": {},
     "output_type": "display_data"
    },
    {
     "data": {
      "text/markdown": [
       "eds will rise, Though all the earth o’erwhelm them, to men’s eyes Hamlet. So sh <span style=\"color: blue\">all you hear Of carnal, bloody and unnatural acts; Of accidental judgments, casual slaughters; Of deaths put on by cunning, and forc’d cause ; And, in this upshot, purposes mistook Fall’n o</span> n the inventor’s heads. Id. · On the morning of the first of June, 1689, while the guns were booming over the waters o"
      ],
      "text/plain": [
       "<IPython.core.display.Markdown object>"
      ]
     },
     "metadata": {},
     "output_type": "display_data"
    },
    {
     "name": "stdout",
     "output_type": "stream",
     "text": [
      "--------------------------------------------------\n"
     ]
    },
    {
     "data": {
      "text/markdown": [
       "### Hamlet"
      ],
      "text/plain": [
       "<IPython.core.display.Markdown object>"
      ]
     },
     "metadata": {},
     "output_type": "display_data"
    },
    {
     "data": {
      "text/markdown": [
       "longer wag. Queen. O my son, what theme? Ham. I lov'd Ophelia; <span style=\"color: blue\">forty thousand brothers Could not, with all their quantity of love, Make up my sum</span>.--What wilt thou do for her? King. O, he is mad, Laertes. Queen. For love of God, forbear him! Ham"
      ],
      "text/plain": [
       "<IPython.core.display.Markdown object>"
      ]
     },
     "metadata": {},
     "output_type": "display_data"
    },
    {
     "data": {
      "text/markdown": [
       "### Roslyn's Fortune: A Novel: By Christian Reid …"
      ],
      "text/plain": [
       "<IPython.core.display.Markdown object>"
      ]
     },
     "metadata": {},
     "output_type": "display_data"
    },
    {
     "data": {
      "text/markdown": [
       "<small>Reid, Christian</small>"
      ],
      "text/plain": [
       "<IPython.core.display.Markdown object>"
      ]
     },
     "metadata": {},
     "output_type": "display_data"
    },
    {
     "data": {
      "text/markdown": [
       "fault. You really have had more patience with me than I deserved. But now I want you to forget all the vexation my folly has caused you ; and remember only that I am your brother —more than your brother—‘ <span style=\"color: blue\">forty thousand brothers could not, with all their quantity of love, make up my sum</span>.’ There—don’t look so distressed ! ”—as she glances up quickly, with a suspicious dewiness in her eyes—“ that is all. I only mentioned the subject"
      ],
      "text/plain": [
       "<IPython.core.display.Markdown object>"
      ]
     },
     "metadata": {},
     "output_type": "display_data"
    },
    {
     "name": "stdout",
     "output_type": "stream",
     "text": [
      "--------------------------------------------------\n"
     ]
    },
    {
     "data": {
      "text/markdown": [
       "### Hamlet"
      ],
      "text/plain": [
       "<IPython.core.display.Markdown object>"
      ]
     },
     "metadata": {},
     "output_type": "display_data"
    },
    {
     "data": {
      "text/markdown": [
       "ll go no further. Ghost. Mark me. Ham. I will. Ghost. My hour is almost come, When I to sulph'uous and <span style=\"color: blue\">tormenting flames Must render up myself</span>. Ham. Alas, poor ghost! Ghost. Pity me not, but lend thy serious hearing"
      ],
      "text/plain": [
       "<IPython.core.display.Markdown object>"
      ]
     },
     "metadata": {},
     "output_type": "display_data"
    },
    {
     "data": {
      "text/markdown": [
       "### The Sunny Land, or, Prison Prose and Poetry: Containing the Productions of the Ablest Writers in the South, and Prison Lays of Distinguished Confederate Officers: By Col. Buehring H. Jones... Edited, with Preface, Biographies, Sketches, and Stories, by J. A. Houston …"
      ],
      "text/plain": [
       "<IPython.core.display.Markdown object>"
      ]
     },
     "metadata": {},
     "output_type": "display_data"
    },
    {
     "data": {
      "text/markdown": [
       "<small>Jones, Buehring H.</small>"
      ],
      "text/plain": [
       "<IPython.core.display.Markdown object>"
      ]
     },
     "metadata": {},
     "output_type": "display_data"
    },
    {
     "data": {
      "text/markdown": [
       "spectre, grinning at me like death, pointing to my doom, and making me feel that perhaps— “ My tíme is almost come When to sulphurous and <span style=\"color: blue\">tormenting flames Must render up myself</span>.” CHAPTER XII. A Bordbr Ruffian visits Chola. The first frosts of November had fallen. A blue"
      ],
      "text/plain": [
       "<IPython.core.display.Markdown object>"
      ]
     },
     "metadata": {},
     "output_type": "display_data"
    },
    {
     "name": "stdout",
     "output_type": "stream",
     "text": [
      "--------------------------------------------------\n"
     ]
    },
    {
     "data": {
      "text/markdown": [
       "### Hamlet"
      ],
      "text/plain": [
       "<IPython.core.display.Markdown object>"
      ]
     },
     "metadata": {},
     "output_type": "display_data"
    },
    {
     "data": {
      "text/markdown": [
       "common. Queen. If it be, Why seems it so particular with thee? Ham. Seems, madam! Nay, it is; I know not seems. ' <span style=\"color: blue\">Tis not alone my inky cloak, good mother</span>, Nor customary suits of solemn black, Nor windy suspiration of forc'd"
      ],
      "text/plain": [
       "<IPython.core.display.Markdown object>"
      ]
     },
     "metadata": {},
     "output_type": "display_data"
    },
    {
     "data": {
      "text/markdown": [
       "### Sally Salt: By Mrs. Wilson Woodrow; with Illustrations by David Robinson"
      ],
      "text/plain": [
       "<IPython.core.display.Markdown object>"
      ]
     },
     "metadata": {},
     "output_type": "display_data"
    },
    {
     "data": {
      "text/markdown": [
       "<small>Woodrow, Wilson, Mrs.</small>"
      ],
      "text/plain": [
       "<IPython.core.display.Markdown object>"
      ]
     },
     "metadata": {},
     "output_type": "display_data"
    },
    {
     "data": {
      "text/markdown": [
       "head the while. “That is you,” he said. “Hilda, I have discovered you. You take in everything by the sound. You see nothing. You have ears and a voice, but no eyes. But come, the curtain rises. ‘ ’ <span style=\"color: blue\">Tis not alone my inky cloak, good mother</span>.’ On such a night, Jessica/ ” Mr. Hurd sat reading by the light of the lamp, completely absorbed"
      ],
      "text/plain": [
       "<IPython.core.display.Markdown object>"
      ]
     },
     "metadata": {},
     "output_type": "display_data"
    },
    {
     "name": "stdout",
     "output_type": "stream",
     "text": [
      "--------------------------------------------------\n"
     ]
    },
    {
     "data": {
      "text/markdown": [
       "### Hamlet"
      ],
      "text/plain": [
       "<IPython.core.display.Markdown object>"
      ]
     },
     "metadata": {},
     "output_type": "display_data"
    },
    {
     "data": {
      "text/markdown": [
       "threaten and command; A station like the herald Mercury New lighted on a heaven-kissing hill: A combination and a <span style=\"color: blue\">form, indeed, Where every god did seem to set his seal, To give the world assurance</span> of a man; This was your husband.--Look you now what follows: Here is your husband, like a milldew'd ear Blasting his wholesome brother. Have you eyes"
      ],
      "text/plain": [
       "<IPython.core.display.Markdown object>"
      ]
     },
     "metadata": {},
     "output_type": "display_data"
    },
    {
     "data": {
      "text/markdown": [
       "### Herbert Wendall: A Tale of the Revolution …"
      ],
      "text/plain": [
       "<IPython.core.display.Markdown object>"
      ]
     },
     "metadata": {},
     "output_type": "display_data"
    },
    {
     "data": {
      "text/markdown": [
       "<small>None</small>"
      ],
      "text/plain": [
       "<IPython.core.display.Markdown object>"
      ]
     },
     "metadata": {},
     "output_type": "display_data"
    },
    {
     "data": {
      "text/markdown": [
       "TOWN OF NEWARK, THIS WORK 13 RESPECTFULLY DEDICATED BY THE AUTHOR. HERBERT WENDALL. CHAPTER I. A combination ami a <span style=\"color: blue\">form, indeed, Where every god did seem to set his seal, To give the world assurance</span> of a man. Hamlet. “ Three cheers, my men, for merry England and St. George, before we commence our journey I among"
      ],
      "text/plain": [
       "<IPython.core.display.Markdown object>"
      ]
     },
     "metadata": {},
     "output_type": "display_data"
    },
    {
     "name": "stdout",
     "output_type": "stream",
     "text": [
      "--------------------------------------------------\n"
     ]
    },
    {
     "data": {
      "text/markdown": [
       "### Hamlet"
      ],
      "text/plain": [
       "<IPython.core.display.Markdown object>"
      ]
     },
     "metadata": {},
     "output_type": "display_data"
    },
    {
     "data": {
      "text/markdown": [
       "Thick and and unwholesome in their thoughts and whispers For good Polonius' death; and we have done but greenly In hugger-mugger to inter him: <span style=\"color: blue\">poor Ophelia Divided from herself and her fair judgment, Without the which we are pictures or mere beasts</span>: Last, and as much containing as all these, Her brother is in secret come from France; Feeds on his wonder, keeps himself in clouds, And wants"
      ],
      "text/plain": [
       "<IPython.core.display.Markdown object>"
      ]
     },
     "metadata": {},
     "output_type": "display_data"
    },
    {
     "data": {
      "text/markdown": [
       "### Herbert Wendall: A Tale of the Revolution …"
      ],
      "text/plain": [
       "<IPython.core.display.Markdown object>"
      ]
     },
     "metadata": {},
     "output_type": "display_data"
    },
    {
     "data": {
      "text/markdown": [
       "<small>None</small>"
      ],
      "text/plain": [
       "<IPython.core.display.Markdown object>"
      ]
     },
     "metadata": {},
     "output_type": "display_data"
    },
    {
     "data": {
      "text/markdown": [
       "muskets. “ Come on, comrades !” shouted Wendall, as he ascended the hill on a gallop ; “ all’s right.” CHAPTER VIII. <span style=\"color: blue\">Poor Ophelia, Divided from herself and her fair judgment ; Without the which we are pictures or mere beasts</span>. Hamlet. The morning of the third day since the British had left Paulus Hook was now arrived. The sun"
      ],
      "text/plain": [
       "<IPython.core.display.Markdown object>"
      ]
     },
     "metadata": {},
     "output_type": "display_data"
    },
    {
     "name": "stdout",
     "output_type": "stream",
     "text": [
      "--------------------------------------------------\n"
     ]
    },
    {
     "data": {
      "text/markdown": [
       "### Hamlet"
      ],
      "text/plain": [
       "<IPython.core.display.Markdown object>"
      ]
     },
     "metadata": {},
     "output_type": "display_data"
    },
    {
     "data": {
      "text/markdown": [
       "lights, lights! [Exeunt all but Hamlet and Horatio.] Ham. Why, let the strucken deer go weep, The hart <span style=\"color: blue\">ungalled play; For some must watch, while some must sleep</span>: So runs the world away.-- Would not this, sir, and a forest of feathers--if the rest of my fortunes turn Turk with me,--with two Provincial roses"
      ],
      "text/plain": [
       "<IPython.core.display.Markdown object>"
      ]
     },
     "metadata": {},
     "output_type": "display_data"
    },
    {
     "data": {
      "text/markdown": [
       "### Prue and I: By George William Curtis"
      ],
      "text/plain": [
       "<IPython.core.display.Markdown object>"
      ]
     },
     "metadata": {},
     "output_type": "display_data"
    },
    {
     "data": {
      "text/markdown": [
       "<small>Curtis, George William</small>"
      ],
      "text/plain": [
       "<IPython.core.display.Markdown object>"
      ]
     },
     "metadata": {},
     "output_type": "display_data"
    },
    {
     "data": {
      "text/markdown": [
       "condition of nature that they cannot always appear so. OUR COUSIN THE CURATE. “ Why, let the stricken deer go weep, The heart <span style=\"color: blue\">ungalled play ; For some must watch while some must sleep</span> Thus runs the world away.” 9 OUR COUSIN THE CURATE. “ Why, let the stricken deer go weep, The heart ungalled play"
      ],
      "text/plain": [
       "<IPython.core.display.Markdown object>"
      ]
     },
     "metadata": {},
     "output_type": "display_data"
    },
    {
     "name": "stdout",
     "output_type": "stream",
     "text": [
      "--------------------------------------------------\n"
     ]
    },
    {
     "data": {
      "text/markdown": [
       "### Hamlet"
      ],
      "text/plain": [
       "<IPython.core.display.Markdown object>"
      ]
     },
     "metadata": {},
     "output_type": "display_data"
    },
    {
     "data": {
      "text/markdown": [
       "urn'd, Hath op'd his ponderous and marble jaws To cast thee up again! What may this mean, That <span style=\"color: blue\">thou, dead corse, again in complete steel, Revisit'st thus the glimpses of the moon, Making night hideous, and we fools of nature So horridly to shake our disposition With thoughts beyond the reaches of our souls? Say, why is this? wherefore</span>? what should we do? [Ghost beckons Hamlet.] Hor. It beckons you to go away with it, As if it some impartment did desire To you alone. Mar. Look with what courteous"
      ],
      "text/plain": [
       "<IPython.core.display.Markdown object>"
      ]
     },
     "metadata": {},
     "output_type": "display_data"
    },
    {
     "data": {
      "text/markdown": [
       "### Mary Kale, or, Big Thunder! Chief of the Anti-Renters: By Tom Shortfellow"
      ],
      "text/plain": [
       "<IPython.core.display.Markdown object>"
      ]
     },
     "metadata": {},
     "output_type": "display_data"
    },
    {
     "data": {
      "text/markdown": [
       "<small>Shortfellow, Tom</small>"
      ],
      "text/plain": [
       "<IPython.core.display.Markdown object>"
      ]
     },
     "metadata": {},
     "output_type": "display_data"
    },
    {
     "data": {
      "text/markdown": [
       "d to the kneeling man a herald of mercy ! “Stay the execution ! stay the execution !” CHAPTER IX. “What may this mean, That thou <span style=\"color: blue\">, dead corse, again, in complete steel, Revisit’st thus the glimpses of the moon, Making night hideous ; and we fools of nature, So horridly to shake our disposition, With thoughts beyond the reaches of our souls ? Say, why is this ? wherefore ? w</span> hat should we do ?” [Shakespeare. .. 'll : , m Our readers will excuse us if we go back some fourteen hours in time, and take them into the midst of the large field str"
      ],
      "text/plain": [
       "<IPython.core.display.Markdown object>"
      ]
     },
     "metadata": {},
     "output_type": "display_data"
    },
    {
     "name": "stdout",
     "output_type": "stream",
     "text": [
      "--------------------------------------------------\n"
     ]
    },
    {
     "data": {
      "text/markdown": [
       "### Hamlet"
      ],
      "text/plain": [
       "<IPython.core.display.Markdown object>"
      ]
     },
     "metadata": {},
     "output_type": "display_data"
    },
    {
     "data": {
      "text/markdown": [
       "heavens! Ham. If thou dost marry, I'll give thee this plague for thy dowry,-- be <span style=\"color: blue\">thou as chaste as ice, as pure as snow, thou shalt not escape calumny</span>. Get thee to a nunnery, go: farewell. Or, if thou wilt needs marry, marry a fool; for wise"
      ],
      "text/plain": [
       "<IPython.core.display.Markdown object>"
      ]
     },
     "metadata": {},
     "output_type": "display_data"
    },
    {
     "data": {
      "text/markdown": [
       "### Doc' Horne: A Story of the Streets and Town: By George Ade...; Pictures by John T. McCutcheon"
      ],
      "text/plain": [
       "<IPython.core.display.Markdown object>"
      ]
     },
     "metadata": {},
     "output_type": "display_data"
    },
    {
     "data": {
      "text/markdown": [
       "<small>Ade, George</small>"
      ],
      "text/plain": [
       "<IPython.core.display.Markdown object>"
      ]
     },
     "metadata": {},
     "output_type": "display_data"
    },
    {
     "data": {
      "text/markdown": [
       "lor of a sick man, the corners of his mouth being drawn downward as if by physical suffering. He spoke quietly. “ ‘Be tho <span style=\"color: blue\">u as chaste as ice, as pure as snow, thou shalt not escape calumny,’</span>” quoted the book-agent. “I wouldn’t worry about that, Doc’,” said the dentist. “They’ll have to take every word of"
      ],
      "text/plain": [
       "<IPython.core.display.Markdown object>"
      ]
     },
     "metadata": {},
     "output_type": "display_data"
    },
    {
     "name": "stdout",
     "output_type": "stream",
     "text": [
      "--------------------------------------------------\n"
     ]
    },
    {
     "data": {
      "text/markdown": [
       "### Hamlet"
      ],
      "text/plain": [
       "<IPython.core.display.Markdown object>"
      ]
     },
     "metadata": {},
     "output_type": "display_data"
    },
    {
     "data": {
      "text/markdown": [
       "roof fretted with golden fire,--why, it appears no other thing to me than a foul and pestilent congregation of vapours. What a piece of work is man! How <span style=\"color: blue\">noble in reason! how infinite in faculties! in form and moving</span>, how express and admirable! in action how like an angel! in apprehension, how like a god! the beauty of the world! the paragon of animals! And yet"
      ],
      "text/plain": [
       "<IPython.core.display.Markdown object>"
      ]
     },
     "metadata": {},
     "output_type": "display_data"
    },
    {
     "data": {
      "text/markdown": [
       "### Woodbourne: A Novel of the Revolutionary Period in Virginia and Maryland: Joseph Mayo"
      ],
      "text/plain": [
       "<IPython.core.display.Markdown object>"
      ]
     },
     "metadata": {},
     "output_type": "display_data"
    },
    {
     "data": {
      "text/markdown": [
       "<small>Mayo, Joseph</small>"
      ],
      "text/plain": [
       "<IPython.core.display.Markdown object>"
      ]
     },
     "metadata": {},
     "output_type": "display_data"
    },
    {
     "data": {
      "text/markdown": [
       "rling of mangy cynics, he is a most marvellous piece of mechanism, well deserving the eulogy of the divinest of bards—“nob <span style=\"color: blue\">le in reason, infinite in faculties, in form and moving, h</span> ow ex¬ press and admirable, in action how like an angel, in apprehension how like a god!” Such is the light in which he should be taught to regard hi"
      ],
      "text/plain": [
       "<IPython.core.display.Markdown object>"
      ]
     },
     "metadata": {},
     "output_type": "display_data"
    },
    {
     "name": "stdout",
     "output_type": "stream",
     "text": [
      "--------------------------------------------------\n"
     ]
    },
    {
     "data": {
      "text/markdown": [
       "### Hamlet"
      ],
      "text/plain": [
       "<IPython.core.display.Markdown object>"
      ]
     },
     "metadata": {},
     "output_type": "display_data"
    },
    {
     "data": {
      "text/markdown": [
       "congregation of vapours. What a piece of work is man! How noble in reason! how infinite in faculties! in form and moving, how express and <span style=\"color: blue\">admirable! in action how like an angel! in apprehension, how like a god</span>! the beauty of the world! the paragon of animals! And yet, to me, what is this quintessence of dust? Man delights not me; no, nor woman neither"
      ],
      "text/plain": [
       "<IPython.core.display.Markdown object>"
      ]
     },
     "metadata": {},
     "output_type": "display_data"
    },
    {
     "data": {
      "text/markdown": [
       "### Woodbourne: A Novel of the Revolutionary Period in Virginia and Maryland: Joseph Mayo"
      ],
      "text/plain": [
       "<IPython.core.display.Markdown object>"
      ]
     },
     "metadata": {},
     "output_type": "display_data"
    },
    {
     "data": {
      "text/markdown": [
       "<small>Mayo, Joseph</small>"
      ],
      "text/plain": [
       "<IPython.core.display.Markdown object>"
      ]
     },
     "metadata": {},
     "output_type": "display_data"
    },
    {
     "data": {
      "text/markdown": [
       "inest of bards—“noble in reason, infinite in faculties, in form and moving, how ex¬ press and adm <span style=\"color: blue\">irable, in action how like an angel, in apprehension how like a god!”</span> Such is the light in which he should be taught to regard him¬ self, and without the just pride which is the mani¬ festation of the Divinity which stirs wi"
      ],
      "text/plain": [
       "<IPython.core.display.Markdown object>"
      ]
     },
     "metadata": {},
     "output_type": "display_data"
    },
    {
     "name": "stdout",
     "output_type": "stream",
     "text": [
      "--------------------------------------------------\n"
     ]
    },
    {
     "data": {
      "text/markdown": [
       "### Hamlet"
      ],
      "text/plain": [
       "<IPython.core.display.Markdown object>"
      ]
     },
     "metadata": {},
     "output_type": "display_data"
    },
    {
     "data": {
      "text/markdown": [
       "question of these wars. Hor. A mote it is to trouble the mind's eye. In the most high and palmy state of <span style=\"color: blue\">Rome, A little ere the mightiest Julius fell, The graves stood tenantless, and the sheeted dead Did squeak and gibber in the Roman streets</span>; As, stars with trains of fire and dews of blood, Disasters in the sun; and the moist star, Upon"
      ],
      "text/plain": [
       "<IPython.core.display.Markdown object>"
      ]
     },
     "metadata": {},
     "output_type": "display_data"
    },
    {
     "data": {
      "text/markdown": [
       "### The Wonderful Story of Ravalette: Also, Tom Clark and His Wife: Their Double Dreams and the Curious Things That Befell Them Therein; or, the Rosicrucian's Story: By P. B. Randolph"
      ],
      "text/plain": [
       "<IPython.core.display.Markdown object>"
      ]
     },
     "metadata": {},
     "output_type": "display_data"
    },
    {
     "data": {
      "text/markdown": [
       "<small>Randolph, Paschal Beverly</small>"
      ],
      "text/plain": [
       "<IPython.core.display.Markdown object>"
      ]
     },
     "metadata": {},
     "output_type": "display_data"
    },
    {
     "data": {
      "text/markdown": [
       "WONDERFUL STORY OF RAVA1ETTE. BOOK I. CHAPTER I. THE STRANGE MAN. In the most high ?.nd palmy days of <span style=\"color: blue\">Rome, A little ere the mightiest Julius fell, The graves stood tenantless, and the sheeted dead Did squeak and gibber in the Roman streets</span>.” And he sat him down wearily by the side of the road. Wearily, for he had journeyed far that day. He was foot¬ sore, and his bodily"
      ],
      "text/plain": [
       "<IPython.core.display.Markdown object>"
      ]
     },
     "metadata": {},
     "output_type": "display_data"
    },
    {
     "name": "stdout",
     "output_type": "stream",
     "text": [
      "--------------------------------------------------\n"
     ]
    },
    {
     "data": {
      "text/markdown": [
       "### Hamlet"
      ],
      "text/plain": [
       "<IPython.core.display.Markdown object>"
      ]
     },
     "metadata": {},
     "output_type": "display_data"
    },
    {
     "data": {
      "text/markdown": [
       "shocks That flesh is heir to,--'tis a consummation Devoutly to be wish'd. To die,--to sleep;-- To <span style=\"color: blue\">sleep! perchance to dream:--ay, there's the rub; For in that sleep of death what dreams may come, When we have shuffled</span> off this mortal coil, Must give us pause: there's the respect That makes calamity of so long life; For who would bear the whips"
      ],
      "text/plain": [
       "<IPython.core.display.Markdown object>"
      ]
     },
     "metadata": {},
     "output_type": "display_data"
    },
    {
     "data": {
      "text/markdown": [
       "### The Bloody Junto, or the Escape of John Wilkes Booth: A Story Containing Many Interesting Particulars in Regard to the Trial and Execution of Mrs. Surratt and Other So-Called Conspirators: By R. H. Crozier"
      ],
      "text/plain": [
       "<IPython.core.display.Markdown object>"
      ]
     },
     "metadata": {},
     "output_type": "display_data"
    },
    {
     "data": {
      "text/markdown": [
       "<small>Crozier, R. H. (Robert Haskins)</small>"
      ],
      "text/plain": [
       "<IPython.core.display.Markdown object>"
      ]
     },
     "metadata": {},
     "output_type": "display_data"
    },
    {
     "data": {
      "text/markdown": [
       "Dying of itself is quite easy, and may be very pleasant for aught I know to the con¬ trary. But your great author says : “ ‘To <span style=\"color: blue\">sleep ! perchance to dream ay, there's the rub ; For in that sleep of death what dreams may come, When we have shuffled</span> off this mortai coil, Must give us pause ; there’s the respect That makes calamity of so long life.’ ” shocks of political"
      ],
      "text/plain": [
       "<IPython.core.display.Markdown object>"
      ]
     },
     "metadata": {},
     "output_type": "display_data"
    },
    {
     "name": "stdout",
     "output_type": "stream",
     "text": [
      "--------------------------------------------------\n"
     ]
    },
    {
     "data": {
      "text/markdown": [
       "### Hamlet"
      ],
      "text/plain": [
       "<IPython.core.display.Markdown object>"
      ]
     },
     "metadata": {},
     "output_type": "display_data"
    },
    {
     "data": {
      "text/markdown": [
       "perchance to dream:--ay, there's the rub; For in that sleep of death what dreams may come, When we have shuffled off this mortal <span style=\"color: blue\">coil, Must give us pause: there's the respect That makes calamity</span> of so long life; For who would bear the whips and scorns of time, The oppressor's wrong, the proud man's contumely, The pangs"
      ],
      "text/plain": [
       "<IPython.core.display.Markdown object>"
      ]
     },
     "metadata": {},
     "output_type": "display_data"
    },
    {
     "data": {
      "text/markdown": [
       "### The Bloody Junto, or the Escape of John Wilkes Booth: A Story Containing Many Interesting Particulars in Regard to the Trial and Execution of Mrs. Surratt and Other So-Called Conspirators: By R. H. Crozier"
      ],
      "text/plain": [
       "<IPython.core.display.Markdown object>"
      ]
     },
     "metadata": {},
     "output_type": "display_data"
    },
    {
     "data": {
      "text/markdown": [
       "<small>Crozier, R. H. (Robert Haskins)</small>"
      ],
      "text/plain": [
       "<IPython.core.display.Markdown object>"
      ]
     },
     "metadata": {},
     "output_type": "display_data"
    },
    {
     "data": {
      "text/markdown": [
       "perchance to dream ay, there's the rub ; For in that sleep of death what dreams may come, When we have shuffled off this mortai <span style=\"color: blue\">coil, Must give us pause ; there’s the respect That makes calamity</span> of so long life.’ ” shocks of political life. But I’ll tell you what; you are speculating about things, con¬ cerning which no true philosopher ever troubles himself"
      ],
      "text/plain": [
       "<IPython.core.display.Markdown object>"
      ]
     },
     "metadata": {},
     "output_type": "display_data"
    },
    {
     "name": "stdout",
     "output_type": "stream",
     "text": [
      "--------------------------------------------------\n"
     ]
    },
    {
     "data": {
      "text/markdown": [
       "### Hamlet"
      ],
      "text/plain": [
       "<IPython.core.display.Markdown object>"
      ]
     },
     "metadata": {},
     "output_type": "display_data"
    },
    {
     "data": {
      "text/markdown": [
       "d be rashness for it,--let us know, Our indiscretion sometime serves us well, When our deep plots do fail; and that should teach us There's a <span style=\"color: blue\">divinity that shapes our ends, Rough-hew</span> them how we will. Hor. That is most certain. Ham. Up from my cabin, My sea-gown scarf'd about me, in the dark Grop"
      ],
      "text/plain": [
       "<IPython.core.display.Markdown object>"
      ]
     },
     "metadata": {},
     "output_type": "display_data"
    },
    {
     "data": {
      "text/markdown": [
       "### In the Last Degree: By Edwin Arnold Brenholtz"
      ],
      "text/plain": [
       "<IPython.core.display.Markdown object>"
      ]
     },
     "metadata": {},
     "output_type": "display_data"
    },
    {
     "data": {
      "text/markdown": [
       "<small>Brenholtz, Edwin Arnold</small>"
      ],
      "text/plain": [
       "<IPython.core.display.Markdown object>"
      ]
     },
     "metadata": {},
     "output_type": "display_data"
    },
    {
     "data": {
      "text/markdown": [
       "rong; as well as Ruskin who in speaking of liberty said, ‘Whether we can win it, fate must determine;’ and Shakespeare also, ‘There is a d <span style=\"color: blue\">ivinity that shapes our ends, rough hew</span> them as we will;’ and also, fin¬ ally, Whitman, ‘I do not doubt that wrecks at sea, no matter what the horrors of them; are provided for, to the minutest"
      ],
      "text/plain": [
       "<IPython.core.display.Markdown object>"
      ]
     },
     "metadata": {},
     "output_type": "display_data"
    },
    {
     "name": "stdout",
     "output_type": "stream",
     "text": [
      "--------------------------------------------------\n"
     ]
    },
    {
     "data": {
      "text/markdown": [
       "### Hamlet"
      ],
      "text/plain": [
       "<IPython.core.display.Markdown object>"
      ]
     },
     "metadata": {},
     "output_type": "display_data"
    },
    {
     "data": {
      "text/markdown": [
       "profane the service of the dead To sing a requiem and such rest to her As to peace-parted souls. Laer. <span style=\"color: blue\">Lay her i' the earth;-- And from her fair and unpolluted flesh May violets spring</span>!--I tell thee, churlish priest, A ministering angel shall my sister be When thou liest howling"
      ],
      "text/plain": [
       "<IPython.core.display.Markdown object>"
      ]
     },
     "metadata": {},
     "output_type": "display_data"
    },
    {
     "data": {
      "text/markdown": [
       "### Nelly Bracken: A Tale of Forty Years Ago: By Annie Chambers Bradford"
      ],
      "text/plain": [
       "<IPython.core.display.Markdown object>"
      ]
     },
     "metadata": {},
     "output_type": "display_data"
    },
    {
     "data": {
      "text/markdown": [
       "<small>Ketchum, Annie Chambers</small>"
      ],
      "text/plain": [
       "<IPython.core.display.Markdown object>"
      ]
     },
     "metadata": {},
     "output_type": "display_data"
    },
    {
     "data": {
      "text/markdown": [
       "lay with a heavier weight on Nelly’s scattered curls. She was dead. CHAPTER XI. <span style=\"color: blue\">Lay her ľ the earth, And from her fair and unpolluted flesh Let violets spring</span>. r Hamlet. There is something awful in Death, whether he come to quiet the purr of the kitten, the twitter of the canary"
      ],
      "text/plain": [
       "<IPython.core.display.Markdown object>"
      ]
     },
     "metadata": {},
     "output_type": "display_data"
    },
    {
     "name": "stdout",
     "output_type": "stream",
     "text": [
      "--------------------------------------------------\n"
     ]
    },
    {
     "data": {
      "text/markdown": [
       "### Hamlet"
      ],
      "text/plain": [
       "<IPython.core.display.Markdown object>"
      ]
     },
     "metadata": {},
     "output_type": "display_data"
    },
    {
     "data": {
      "text/markdown": [
       "friends. Hor. O day and night, but this is wondrous strange! Ham. And therefore as a stranger give it welcome. There are more things in <span style=\"color: blue\">heaven and earth, Horatio, Than are dreamt of in your philosophy</span>. But come;-- Here, as before, never, so help you mercy, How strange or odd soe'er I bear myself,-- As I, perchance, hereafter shall"
      ],
      "text/plain": [
       "<IPython.core.display.Markdown object>"
      ]
     },
     "metadata": {},
     "output_type": "display_data"
    },
    {
     "data": {
      "text/markdown": [
       "### Buckskin Mose: Or, Life from the Lakes to the Pacific, as Actor, Circus-Rider, Detective, Ranger, Gold-Digger, Indian Scout, and Guide: Written by Himself...; Edited and with Illus., By C. G. Rosenberg"
      ],
      "text/plain": [
       "<IPython.core.display.Markdown object>"
      ]
     },
     "metadata": {},
     "output_type": "display_data"
    },
    {
     "data": {
      "text/markdown": [
       "<small>Perrie, George W.</small>"
      ],
      "text/plain": [
       "<IPython.core.display.Markdown object>"
      ]
     },
     "metadata": {},
     "output_type": "display_data"
    },
    {
     "data": {
      "text/markdown": [
       "DETECTIVE, RAN¬ GER, GOLD-DIGGER, INDIAN SCOUT, AND GUIDE. WRITTEN BY HIMSELF. “There are more things in <span style=\"color: blue\">heaven and earth, Horatio, Than are dreamt of in your philosophy</span>.”—H amlet. EDITED , AND WITH ILLUSTRATIONS , By C. G. ROSENBERG. NEW YORK: HENRY L"
      ],
      "text/plain": [
       "<IPython.core.display.Markdown object>"
      ]
     },
     "metadata": {},
     "output_type": "display_data"
    },
    {
     "name": "stdout",
     "output_type": "stream",
     "text": [
      "--------------------------------------------------\n"
     ]
    },
    {
     "data": {
      "text/markdown": [
       "### Hamlet"
      ],
      "text/plain": [
       "<IPython.core.display.Markdown object>"
      ]
     },
     "metadata": {},
     "output_type": "display_data"
    },
    {
     "data": {
      "text/markdown": [
       "Tis well. I'll have thee speak out the rest of this soon.-- Good my lord, will you see the players well bestowed? Do you hear? Let them be well used; for they are the <span style=\"color: blue\">abstracts and brief chronicles of the time; after your death you were better have a bad epitaph than their ill report while you live</span>. Pol. My lord, I will use them according to their desert. Ham. Odd's bodikin, man, better: use every man after his desert, and who should scape"
      ],
      "text/plain": [
       "<IPython.core.display.Markdown object>"
      ]
     },
     "metadata": {},
     "output_type": "display_data"
    },
    {
     "data": {
      "text/markdown": [
       "### Tressilian and His Friends: By Dr. R. Shelton MacKenzie"
      ],
      "text/plain": [
       "<IPython.core.display.Markdown object>"
      ]
     },
     "metadata": {},
     "output_type": "display_data"
    },
    {
     "data": {
      "text/markdown": [
       "<small>MacKenzie, R. Shelton (Robert Shelton)</small>"
      ],
      "text/plain": [
       "<IPython.core.display.Markdown object>"
      ]
     },
     "metadata": {},
     "output_type": "display_data"
    },
    {
     "data": {
      "text/markdown": [
       "ewspapers. You can¬ not wonder at my impatience. Every one, whatever his occu¬ pation, is anxious to see what the newspapers say of him. As Hamlet said of the players, “ They are the a <span style=\"color: blue\">bstracts, and brief chronicles of the time ; after your death you were better have a bad epitaph than their ill report while you live.</span>” My drama had been very successful on the stage ; but a great deal, as regarded the mind of the public, depended on what the critics of the Press"
      ],
      "text/plain": [
       "<IPython.core.display.Markdown object>"
      ]
     },
     "metadata": {},
     "output_type": "display_data"
    },
    {
     "name": "stdout",
     "output_type": "stream",
     "text": [
      "--------------------------------------------------\n"
     ]
    },
    {
     "data": {
      "text/markdown": [
       "### Hamlet"
      ],
      "text/plain": [
       "<IPython.core.display.Markdown object>"
      ]
     },
     "metadata": {},
     "output_type": "display_data"
    },
    {
     "data": {
      "text/markdown": [
       "Laer. Alas, then she is drown'd? Queen. Drown'd, drown'd. Laer. Too much of <span style=\"color: blue\">water hast thou, poor Ophelia</span>, And therefore I forbid my tears: but yet It is our trick; nature her custom holds, Let shame say what it will: when these are gone"
      ],
      "text/plain": [
       "<IPython.core.display.Markdown object>"
      ]
     },
     "metadata": {},
     "output_type": "display_data"
    },
    {
     "data": {
      "text/markdown": [
       "### Charcoal Sketches: By the Late Joseph C. Neal. 2nd Ser"
      ],
      "text/plain": [
       "<IPython.core.display.Markdown object>"
      ]
     },
     "metadata": {},
     "output_type": "display_data"
    },
    {
     "data": {
      "text/markdown": [
       "<small>Neal, Joseph C. (Joseph Clay)</small>"
      ],
      "text/plain": [
       "<IPython.core.display.Markdown object>"
      ]
     },
     "metadata": {},
     "output_type": "display_data"
    },
    {
     "data": {
      "text/markdown": [
       "bly an effect from this cause, that Philadelphia, with its multitudinous spouts, has given so many actors to the stage. But “enough of water <span style=\"color: blue\">hast thou, poor Ophelia;” an</span> d we shall, therefore,.bring our chapter to adose, desiring ali to* remember that so far as the use and the abuse of w"
      ],
      "text/plain": [
       "<IPython.core.display.Markdown object>"
      ]
     },
     "metadata": {},
     "output_type": "display_data"
    },
    {
     "name": "stdout",
     "output_type": "stream",
     "text": [
      "--------------------------------------------------\n"
     ]
    },
    {
     "data": {
      "text/markdown": [
       "### Hamlet"
      ],
      "text/plain": [
       "<IPython.core.display.Markdown object>"
      ]
     },
     "metadata": {},
     "output_type": "display_data"
    },
    {
     "data": {
      "text/markdown": [
       "madam, stay awhile; I will be faithful. [Reads.] 'Doubt thou the stars are fire; Doubt that the <span style=\"color: blue\">sun doth move; Doubt truth to be a liar; But never doubt</span> I love. 'O dear Ophelia, I am ill at these numbers; I have not art to reckon my groans: but that I love thee best, O"
      ],
      "text/plain": [
       "<IPython.core.display.Markdown object>"
      ]
     },
     "metadata": {},
     "output_type": "display_data"
    },
    {
     "data": {
      "text/markdown": [
       "### Outside Inn: By Ethel M. Kelley; with a Frontispiece by W. B. King"
      ],
      "text/plain": [
       "<IPython.core.display.Markdown object>"
      ]
     },
     "metadata": {},
     "output_type": "display_data"
    },
    {
     "data": {
      "text/markdown": [
       "<small>Kelley, Ethel May</small>"
      ],
      "text/plain": [
       "<IPython.core.display.Markdown object>"
      ]
     },
     "metadata": {},
     "output_type": "display_data"
    },
    {
     "data": {
      "text/markdown": [
       "hou the stars are fire,” he said at’ last, with a shrug that admitted her to the com¬ panionship of his discomfiture. “Doubt thou! the s <span style=\"color: blue\">un doth move, doubt truth to be a liar, but never doubt</span> that your favorite New York res¬ taurant will be closed on a Sunday night.” “Oh ! is it your favorite New York restau¬"
      ],
      "text/plain": [
       "<IPython.core.display.Markdown object>"
      ]
     },
     "metadata": {},
     "output_type": "display_data"
    },
    {
     "name": "stdout",
     "output_type": "stream",
     "text": [
      "--------------------------------------------------\n"
     ]
    },
    {
     "data": {
      "text/markdown": [
       "### Hamlet"
      ],
      "text/plain": [
       "<IPython.core.display.Markdown object>"
      ]
     },
     "metadata": {},
     "output_type": "display_data"
    },
    {
     "data": {
      "text/markdown": [
       "thou hast, and their adoption tried, Grapple them unto thy soul with hoops of steel; But do not <span style=\"color: blue\">dull thy palm with entertainment Of each</span> new-hatch'd, unfledg'd comrade. Beware Of entrance to a quarrel; but, being in, Bear't"
      ],
      "text/plain": [
       "<IPython.core.display.Markdown object>"
      ]
     },
     "metadata": {},
     "output_type": "display_data"
    },
    {
     "data": {
      "text/markdown": [
       "### A Soldier's Secret: A Story of the Sioux War of 1890: And an Army Portia: Two Novels: By Charles King"
      ],
      "text/plain": [
       "<IPython.core.display.Markdown object>"
      ]
     },
     "metadata": {},
     "output_type": "display_data"
    },
    {
     "data": {
      "text/markdown": [
       "<small>King, Charles</small>"
      ],
      "text/plain": [
       "<IPython.core.display.Markdown object>"
      ]
     },
     "metadata": {},
     "output_type": "display_data"
    },
    {
     "data": {
      "text/markdown": [
       "ent will doubtless have removed all care and anxiety and left you a little sum to the fore. Spend it as you please, yet ‘do not d <span style=\"color: blue\">ull thy palm with entertainment of each</span> new-hatched, unfledged comrade.’ What words of wisdom spoke that fond old fool ! but he loved his boy"
      ],
      "text/plain": [
       "<IPython.core.display.Markdown object>"
      ]
     },
     "metadata": {},
     "output_type": "display_data"
    },
    {
     "name": "stdout",
     "output_type": "stream",
     "text": [
      "--------------------------------------------------\n"
     ]
    },
    {
     "data": {
      "text/markdown": [
       "### Hamlet"
      ],
      "text/plain": [
       "<IPython.core.display.Markdown object>"
      ]
     },
     "metadata": {},
     "output_type": "display_data"
    },
    {
     "data": {
      "text/markdown": [
       "lender be: For loan oft loses both itself and friend; And borrowing dulls the edge of husbandry. This <span style=\"color: blue\">above all,--to thine own self be true; And it must follow, as the night the day, Thou canst not then be false</span> to any man. Farewell: my blessing season this in thee! Laer. Most humbly do I take my leave, my lord. Pol. The time invites"
      ],
      "text/plain": [
       "<IPython.core.display.Markdown object>"
      ]
     },
     "metadata": {},
     "output_type": "display_data"
    },
    {
     "data": {
      "text/markdown": [
       "### A Soldier's Secret: A Story of the Sioux War of 1890: And an Army Portia: Two Novels: By Charles King"
      ],
      "text/plain": [
       "<IPython.core.display.Markdown object>"
      ]
     },
     "metadata": {},
     "output_type": "display_data"
    },
    {
     "data": {
      "text/markdown": [
       "<small>King, Charles</small>"
      ],
      "text/plain": [
       "<IPython.core.display.Markdown object>"
      ]
     },
     "metadata": {},
     "output_type": "display_data"
    },
    {
     "data": {
      "text/markdown": [
       "ords of wisdom spoke that fond old fool ! but he loved his boy as I love mine. “ Good-nigbt, my lad. “ This a <span style=\"color: blue\">bove all, to thine own self be true ; And it must follow, as the night the day, Thou canst not then be false</span> to any man. “ Your father, “ R. F. Rawlins.” For a moment after Thorp’s deep voice had ceased"
      ],
      "text/plain": [
       "<IPython.core.display.Markdown object>"
      ]
     },
     "metadata": {},
     "output_type": "display_data"
    },
    {
     "name": "stdout",
     "output_type": "stream",
     "text": [
      "--------------------------------------------------\n"
     ]
    },
    {
     "data": {
      "text/markdown": [
       "### Hamlet"
      ],
      "text/plain": [
       "<IPython.core.display.Markdown object>"
      ]
     },
     "metadata": {},
     "output_type": "display_data"
    },
    {
     "data": {
      "text/markdown": [
       "matter, with less art. Pol. Madam, I swear I use no art at all. That he is mad, 'tis true: ' <span style=\"color: blue\">tis true 'tis pity; And pity 'tis 'tis true</span>: a foolish figure; But farewell it, for I will use no art. Mad let us grant him then: and now remains That we find out the cause of this effect; Or rather"
      ],
      "text/plain": [
       "<IPython.core.display.Markdown object>"
      ]
     },
     "metadata": {},
     "output_type": "display_data"
    },
    {
     "data": {
      "text/markdown": [
       "### The Chameleon: By James Weber Linn"
      ],
      "text/plain": [
       "<IPython.core.display.Markdown object>"
      ]
     },
     "metadata": {},
     "output_type": "display_data"
    },
    {
     "data": {
      "text/markdown": [
       "<small>Linn, James Weber</small>"
      ],
      "text/plain": [
       "<IPython.core.display.Markdown object>"
      ]
     },
     "metadata": {},
     "output_type": "display_data"
    },
    {
     "data": {
      "text/markdown": [
       "hel Blayne? ” “ She’s engaged to Champ.” “ Champ Rogers ? ” “ None other.” “ Champ is really engaged ? ” “ ’Ti <span style=\"color: blue\">s true, ’tis pity ; pity ’tis, ’tis true.”</span>“ When the winds are breathing low, and the stars are—Kate? ” “ Yes? ” “ How’s Roger Van ? ” “ Roger isn’t"
      ],
      "text/plain": [
       "<IPython.core.display.Markdown object>"
      ]
     },
     "metadata": {},
     "output_type": "display_data"
    },
    {
     "name": "stdout",
     "output_type": "stream",
     "text": [
      "--------------------------------------------------\n"
     ]
    },
    {
     "data": {
      "text/markdown": [
       "### Hamlet"
      ],
      "text/plain": [
       "<IPython.core.display.Markdown object>"
      ]
     },
     "metadata": {},
     "output_type": "display_data"
    },
    {
     "data": {
      "text/markdown": [
       "else near. Oph. I shall th' effect of this good lesson keep As watchman to my heart. But, good my brother, Do not, as some <span style=\"color: blue\">ungracious pastors do, Show me the steep and thorny way to heaven; Whilst</span>, like a puff'd and reckless libertine, Himself the primrose path of dalliance treads And recks"
      ],
      "text/plain": [
       "<IPython.core.display.Markdown object>"
      ]
     },
     "metadata": {},
     "output_type": "display_data"
    },
    {
     "data": {
      "text/markdown": [
       "### Beneath Virginia Skies: By Georgie Tillman Snead"
      ],
      "text/plain": [
       "<IPython.core.display.Markdown object>"
      ]
     },
     "metadata": {},
     "output_type": "display_data"
    },
    {
     "data": {
      "text/markdown": [
       "<small>Snead, Georgie Tillman</small>"
      ],
      "text/plain": [
       "<IPython.core.display.Markdown object>"
      ]
     },
     "metadata": {},
     "output_type": "display_data"
    },
    {
     "data": {
      "text/markdown": [
       "Thou Canst Not Mean It, Francis” . . . 305 Beneath Virginia Skies I. A YOUNG MINISTER’S DILEMMA. Do not. as some <span style=\"color: blue\">ungracious pastors do. Show me the steep and thorny way to Heaven, Whilst</span>, like a puffed and reckless libertine, Himself the primrose path of dalliance treads And recks not his own road"
      ],
      "text/plain": [
       "<IPython.core.display.Markdown object>"
      ]
     },
     "metadata": {},
     "output_type": "display_data"
    },
    {
     "name": "stdout",
     "output_type": "stream",
     "text": [
      "--------------------------------------------------\n"
     ]
    },
    {
     "data": {
      "text/markdown": [
       "### Hamlet"
      ],
      "text/plain": [
       "<IPython.core.display.Markdown object>"
      ]
     },
     "metadata": {},
     "output_type": "display_data"
    },
    {
     "data": {
      "text/markdown": [
       "brother, Do not, as some ungracious pastors do, Show me the steep and thorny way to heaven; Whilst, like a puff'd and <span style=\"color: blue\">reckless libertine, Himself the primrose path of dalliance treads And recks</span> not his own read. Laer. O, fear me not. I stay too long:--but here my father comes. [Enter Polonius.] A double"
      ],
      "text/plain": [
       "<IPython.core.display.Markdown object>"
      ]
     },
     "metadata": {},
     "output_type": "display_data"
    },
    {
     "data": {
      "text/markdown": [
       "### Beneath Virginia Skies: By Georgie Tillman Snead"
      ],
      "text/plain": [
       "<IPython.core.display.Markdown object>"
      ]
     },
     "metadata": {},
     "output_type": "display_data"
    },
    {
     "data": {
      "text/markdown": [
       "<small>Snead, Georgie Tillman</small>"
      ],
      "text/plain": [
       "<IPython.core.display.Markdown object>"
      ]
     },
     "metadata": {},
     "output_type": "display_data"
    },
    {
     "data": {
      "text/markdown": [
       "S DILEMMA. Do not. as some ungracious pastors do. Show me the steep and thorny way to Heaven, Whilst, like a puffed and <span style=\"color: blue\">reckless libertine, Himself the primrose path of dalliance treads And recks</span> not his own road. — Shakespeare. The glamour of a cloudless June day lay over the pine forests redolent of balsam"
      ],
      "text/plain": [
       "<IPython.core.display.Markdown object>"
      ]
     },
     "metadata": {},
     "output_type": "display_data"
    },
    {
     "name": "stdout",
     "output_type": "stream",
     "text": [
      "--------------------------------------------------\n"
     ]
    },
    {
     "data": {
      "text/markdown": [
       "### Hamlet"
      ],
      "text/plain": [
       "<IPython.core.display.Markdown object>"
      ]
     },
     "metadata": {},
     "output_type": "display_data"
    },
    {
     "data": {
      "text/markdown": [
       "times; and now, how abhorred in my imagination it is! my gorge rises at it. Here hung those lips that I have kiss'd I know not how oft. Where be your <span style=\"color: blue\">gibes now? your gambols? your songs? your flashes of merriment, that were wont to set the table on a roar</span>? Not one now, to mock your own grinning? quite chap-fallen? Now, get you to my lady's chamber, and tell her, let her paint an inch"
      ],
      "text/plain": [
       "<IPython.core.display.Markdown object>"
      ]
     },
     "metadata": {},
     "output_type": "display_data"
    },
    {
     "data": {
      "text/markdown": [
       "### A Carpet Knight: A Novel: By Harford Flemming"
      ],
      "text/plain": [
       "<IPython.core.display.Markdown object>"
      ]
     },
     "metadata": {},
     "output_type": "display_data"
    },
    {
     "data": {
      "text/markdown": [
       "<small>McClellan, Harriet Hare</small>"
      ],
      "text/plain": [
       "<IPython.core.display.Markdown object>"
      ]
     },
     "metadata": {},
     "output_type": "display_data"
    },
    {
     "data": {
      "text/markdown": [
       "ntroductions, and Mr. Drayton coming in a moment afterwards, dinner was announced. 7 CHAPTER X. “ Where be your g <span style=\"color: blue\">ibes now ? your gambols ? your songs ? your flashes of merriment, that were wont to set the table on a roar</span>? ” — Shakespeare. It is a mistake for the lady of the house, at a dinner party, to place a silent man on her right hand, even though in so doing she may be actuated by the most disinterested"
      ],
      "text/plain": [
       "<IPython.core.display.Markdown object>"
      ]
     },
     "metadata": {},
     "output_type": "display_data"
    },
    {
     "name": "stdout",
     "output_type": "stream",
     "text": [
      "--------------------------------------------------\n"
     ]
    }
   ],
   "source": [
    "for m in matches.limit(200):\n",
    "    print_match(m)"
   ]
  },
  {
   "cell_type": "code",
   "execution_count": null,
   "metadata": {
    "collapsed": true
   },
   "outputs": [],
   "source": []
  }
 ],
 "metadata": {
  "kernelspec": {
   "display_name": "Python 3",
   "language": "python",
   "name": "python3"
  },
  "language_info": {
   "codemirror_mode": {
    "name": "ipython",
    "version": 3
   },
   "file_extension": ".py",
   "mimetype": "text/x-python",
   "name": "python",
   "nbconvert_exporter": "python",
   "pygments_lexer": "ipython3",
   "version": "3.5.2"
  }
 },
 "nbformat": 4,
 "nbformat_minor": 1
}
