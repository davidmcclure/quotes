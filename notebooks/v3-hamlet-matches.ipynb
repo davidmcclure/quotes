{
 "cells": [
  {
   "cell_type": "markdown",
   "metadata": {},
   "source": [
    "# Gail + Chicago -> Hamlet"
   ]
  },
  {
   "cell_type": "code",
   "execution_count": 1,
   "metadata": {
    "collapsed": true
   },
   "outputs": [],
   "source": [
    "from quotes.models import Match"
   ]
  },
  {
   "cell_type": "code",
   "execution_count": 2,
   "metadata": {
    "collapsed": false
   },
   "outputs": [],
   "source": [
    "import re\n",
    "\n",
    "from IPython.display import Markdown, display\n",
    "\n",
    "def print_snippet(prefix, match, suffix):\n",
    "    \n",
    "    snippet = '{0} <span style=\"color: blue\">{1}</span>'.format(prefix, match)\n",
    "    \n",
    "    if re.match('^[a-z]', suffix, re.I):\n",
    "        snippet += ' '\n",
    "        \n",
    "    display(Markdown(snippet + suffix))"
   ]
  },
  {
   "cell_type": "code",
   "execution_count": 3,
   "metadata": {
    "collapsed": true
   },
   "outputs": [],
   "source": [
    "def print_match(m):\n",
    "    \n",
    "    display(Markdown('### Hamlet'))\n",
    "    print_snippet(m.a_prefix, m.a_snippet, m.a_suffix)\n",
    "\n",
    "    display(Markdown('### {0}'.format(m.b_title)))\n",
    "    display(Markdown('<small>{0}</small>'.format(m.b_author)))\n",
    "    print_snippet(m.b_prefix, m.b_snippet, m.b_suffix)\n",
    "    print('-'*50)"
   ]
  },
  {
   "cell_type": "code",
   "execution_count": 6,
   "metadata": {
    "collapsed": false
   },
   "outputs": [
    {
     "name": "stdout",
     "output_type": "stream",
     "text": [
      "14948\n"
     ]
    }
   ],
   "source": [
    "matches = Match.query.filter(Match.size == 3)\n",
    "\n",
    "print(matches.count())"
   ]
  },
  {
   "cell_type": "markdown",
   "metadata": {},
   "source": [
    "4-5 \"significant\" tokens seems to be a sweet spot - 3-word matches are often false-positives (eg, lots of numbers, like \"five hundred thousand\"). By 5 tokens, though, almost everything looks valid. Here are the first 500 matches with 5 words or more:"
   ]
  },
  {
   "cell_type": "code",
   "execution_count": 7,
   "metadata": {
    "collapsed": false,
    "scrolled": false
   },
   "outputs": [
    {
     "data": {
      "text/markdown": [
       "### Hamlet"
      ],
      "text/plain": [
       "<IPython.core.display.Markdown object>"
      ]
     },
     "metadata": {},
     "output_type": "display_data"
    },
    {
     "data": {
      "text/markdown": [
       "books, all forms, all pressures past, That youth and observation copied there; And thy commandment all alone <span style=\"color: blue\">shall live Within</span> the book and volume of my brain, Unmix'd with baser matter: yes, by heaven!-- O most pernicious"
      ],
      "text/plain": [
       "<IPython.core.display.Markdown object>"
      ]
     },
     "metadata": {},
     "output_type": "display_data"
    },
    {
     "data": {
      "text/markdown": [
       "### Blue Blood and Red: By Geoffrey Corson"
      ],
      "text/plain": [
       "<IPython.core.display.Markdown object>"
      ]
     },
     "metadata": {},
     "output_type": "display_data"
    },
    {
     "data": {
      "text/markdown": [
       "<small>Sholl, Anna McClure</small>"
      ],
      "text/plain": [
       "<IPython.core.display.Markdown object>"
      ]
     },
     "metadata": {},
     "output_type": "display_data"
    },
    {
     "data": {
      "text/markdown": [
       "casually in a morning paper. Patricia read it without emotion, but the thought crossed her mind, “ I must never see him again. I <span style=\"color: blue\">shall live all my life within</span> a mile of him, but I must never see him again.” CHAPTER XXVI Mr. Carmichael had been in and out of the dining¬ room more than once to see that the decorations"
      ],
      "text/plain": [
       "<IPython.core.display.Markdown object>"
      ]
     },
     "metadata": {},
     "output_type": "display_data"
    },
    {
     "name": "stdout",
     "output_type": "stream",
     "text": [
      "--------------------------------------------------\n"
     ]
    },
    {
     "data": {
      "text/markdown": [
       "### Hamlet"
      ],
      "text/plain": [
       "<IPython.core.display.Markdown object>"
      ]
     },
     "metadata": {},
     "output_type": "display_data"
    },
    {
     "data": {
      "text/markdown": [
       "oath, I'll make an end on't: [Sings.] By Gis and by Saint Charity, Alack, and fie for shame! <span style=\"color: blue\">Young men will do't</span> if they come to't; By cock, they are to blame. Quoth she, before you tumbled me, You promis'd me to wed. So would I ha' done, by yonder"
      ],
      "text/plain": [
       "<IPython.core.display.Markdown object>"
      ]
     },
     "metadata": {},
     "output_type": "display_data"
    },
    {
     "data": {
      "text/markdown": [
       "### Shifting Shadows: A Tale of Real Life: By S. E. Simmonds"
      ],
      "text/plain": [
       "<IPython.core.display.Markdown object>"
      ]
     },
     "metadata": {},
     "output_type": "display_data"
    },
    {
     "data": {
      "text/markdown": [
       "<small>Simmonds, S. E.</small>"
      ],
      "text/plain": [
       "<IPython.core.display.Markdown object>"
      ]
     },
     "metadata": {},
     "output_type": "display_data"
    },
    {
     "data": {
      "text/markdown": [
       "s so,” said the now crestfallen Doc¬ tor; “but it beats me about Riley’s notions ; he ’s always doing something different from other <span style=\"color: blue\">young men ; now I can't</span> see what he will do with this boy, blamed if I can.” Mrs. Bronson gave up in despair, and let the Doc¬ tor say on, uninterrupted. “I’ll"
      ],
      "text/plain": [
       "<IPython.core.display.Markdown object>"
      ]
     },
     "metadata": {},
     "output_type": "display_data"
    },
    {
     "name": "stdout",
     "output_type": "stream",
     "text": [
      "--------------------------------------------------\n"
     ]
    },
    {
     "data": {
      "text/markdown": [
       "### Hamlet"
      ],
      "text/plain": [
       "<IPython.core.display.Markdown object>"
      ]
     },
     "metadata": {},
     "output_type": "display_data"
    },
    {
     "data": {
      "text/markdown": [
       "crowflowers, nettles, daisies, and long purples, That liberal shepherds give a grosser name, But our cold maids do <span style=\"color: blue\">dead men's</span> fingers call them. There, on the pendant boughs her coronet weeds Clamb'ring to hang, an envious"
      ],
      "text/plain": [
       "<IPython.core.display.Markdown object>"
      ]
     },
     "metadata": {},
     "output_type": "display_data"
    },
    {
     "data": {
      "text/markdown": [
       "### Afloat and Ashore, or, a Sailor's Life"
      ],
      "text/plain": [
       "<IPython.core.display.Markdown object>"
      ]
     },
     "metadata": {},
     "output_type": "display_data"
    },
    {
     "data": {
      "text/markdown": [
       "<small>None</small>"
      ],
      "text/plain": [
       "<IPython.core.display.Markdown object>"
      ]
     },
     "metadata": {},
     "output_type": "display_data"
    },
    {
     "data": {
      "text/markdown": [
       "elieve, deep in the water, and painted black.” ‘ “ She is the Destroyer, I believe by—” he exclaimed, after a short pause. “ If it is, we are all d <span style=\"color: blue\">ead men. It’s</span> too late to resist, and we can’t run away with this wind.— Hark !” ‘ “ Sliip ahoy !” came sweeping"
      ],
      "text/plain": [
       "<IPython.core.display.Markdown object>"
      ]
     },
     "metadata": {},
     "output_type": "display_data"
    },
    {
     "name": "stdout",
     "output_type": "stream",
     "text": [
      "--------------------------------------------------\n"
     ]
    },
    {
     "data": {
      "text/markdown": [
       "### Hamlet"
      ],
      "text/plain": [
       "<IPython.core.display.Markdown object>"
      ]
     },
     "metadata": {},
     "output_type": "display_data"
    },
    {
     "data": {
      "text/markdown": [
       "wicked speed, to post With such dexterity to incestuous sheets! It is not, nor it cannot come to good; But break my heart,--for I <span style=\"color: blue\">must hold my tongue</span>! [Enter Horatio, Marcellus, and Bernardo.] Hor. Hail to your lordship! Ham. I am glad to see you well: Horatio"
      ],
      "text/plain": [
       "<IPython.core.display.Markdown object>"
      ]
     },
     "metadata": {},
     "output_type": "display_data"
    },
    {
     "data": {
      "text/markdown": [
       "### A Covenant with the Dead: A Novel: By Clara Lemore …"
      ],
      "text/plain": [
       "<IPython.core.display.Markdown object>"
      ]
     },
     "metadata": {},
     "output_type": "display_data"
    },
    {
     "data": {
      "text/markdown": [
       "<small>Lemore, Clara</small>"
      ],
      "text/plain": [
       "<IPython.core.display.Markdown object>"
      ]
     },
     "metadata": {},
     "output_type": "display_data"
    },
    {
     "data": {
      "text/markdown": [
       "nds. “ You must go now,” she said. “ I cannot tell yet what I shall do about what you have told me. It has come upon me so suddenly that I can’t make up my mind what is the best thing to do. You mu <span style=\"color: blue\">st go away, and hold your tongue u</span> ntil you hear from me. I will send you a line of some kind in the morning, to the inn, but you must prom¬ ise m"
      ],
      "text/plain": [
       "<IPython.core.display.Markdown object>"
      ]
     },
     "metadata": {},
     "output_type": "display_data"
    },
    {
     "name": "stdout",
     "output_type": "stream",
     "text": [
      "--------------------------------------------------\n"
     ]
    },
    {
     "data": {
      "text/markdown": [
       "### Hamlet"
      ],
      "text/plain": [
       "<IPython.core.display.Markdown object>"
      ]
     },
     "metadata": {},
     "output_type": "display_data"
    },
    {
     "data": {
      "text/markdown": [
       "indiscretion sometime serves us well, When our deep plots do fail; and that should teach us There's a divinity that shapes our <span style=\"color: blue\">ends, Rough-hew</span> them how we will. Hor. That is most certain. Ham. Up from my cabin, My sea-gown scarf'd about me, in the dark Grop"
      ],
      "text/plain": [
       "<IPython.core.display.Markdown object>"
      ]
     },
     "metadata": {},
     "output_type": "display_data"
    },
    {
     "data": {
      "text/markdown": [
       "### A Covenant with the Dead: A Novel: By Clara Lemore …"
      ],
      "text/plain": [
       "<IPython.core.display.Markdown object>"
      ]
     },
     "metadata": {},
     "output_type": "display_data"
    },
    {
     "data": {
      "text/markdown": [
       "<small>Lemore, Clara</small>"
      ],
      "text/plain": [
       "<IPython.core.display.Markdown object>"
      ]
     },
     "metadata": {},
     "output_type": "display_data"
    },
    {
     "data": {
      "text/markdown": [
       "self to task for her own presumption, with a sudden recollection of the lines: “ There is a divinity above doth shape our end <span style=\"color: blue\">s, Rough-hew th</span> em as we will. ” Why should she dare to believe that her whole life had been influenced for evil by such an insignificant chance as that? Did God take no more interest in the creatures He"
      ],
      "text/plain": [
       "<IPython.core.display.Markdown object>"
      ]
     },
     "metadata": {},
     "output_type": "display_data"
    },
    {
     "name": "stdout",
     "output_type": "stream",
     "text": [
      "--------------------------------------------------\n"
     ]
    },
    {
     "data": {
      "text/markdown": [
       "### Hamlet"
      ],
      "text/plain": [
       "<IPython.core.display.Markdown object>"
      ]
     },
     "metadata": {},
     "output_type": "display_data"
    },
    {
     "data": {
      "text/markdown": [
       "hurts by easing. But to the quick o' the ulcer:-- Hamlet comes back: what would you undertake To show yourself your <span style=\"color: blue\">father's son</span> in deed More than in words? Laer. To cut his throat i' the church. King. No place, indeed, should murder sanctuarize"
      ],
      "text/plain": [
       "<IPython.core.display.Markdown object>"
      ]
     },
     "metadata": {},
     "output_type": "display_data"
    },
    {
     "data": {
      "text/markdown": [
       "### The Brothers: A Tale of the Fronde …"
      ],
      "text/plain": [
       "<IPython.core.display.Markdown object>"
      ]
     },
     "metadata": {},
     "output_type": "display_data"
    },
    {
     "data": {
      "text/markdown": [
       "<small>Herbert, Henry William</small>"
      ],
      "text/plain": [
       "<IPython.core.display.Markdown object>"
      ]
     },
     "metadata": {},
     "output_type": "display_data"
    },
    {
     "data": {
      "text/markdown": [
       "aught it lists you, but did a man with a beard, and without the tonsure, so presume to style me, I would thrust my rapier through his body, were he my own <span style=\"color: blue\">father’s son</span>!” I was, perhaps, imprudent in not restraining this outbreak of my naturally reckless temper, but this time it served my turn ; showing"
      ],
      "text/plain": [
       "<IPython.core.display.Markdown object>"
      ]
     },
     "metadata": {},
     "output_type": "display_data"
    },
    {
     "name": "stdout",
     "output_type": "stream",
     "text": [
      "--------------------------------------------------\n"
     ]
    },
    {
     "data": {
      "text/markdown": [
       "### Hamlet"
      ],
      "text/plain": [
       "<IPython.core.display.Markdown object>"
      ]
     },
     "metadata": {},
     "output_type": "display_data"
    },
    {
     "data": {
      "text/markdown": [
       "Farewell. Oph. O heavenly powers, restore him! Ham. I have heard of your paintings too, well enough; <span style=\"color: blue\">God hath given</span> you one face, and you make yourselves another: you jig, you amble, and you lisp, and nickname God's creatures, and make your wantonness"
      ],
      "text/plain": [
       "<IPython.core.display.Markdown object>"
      ]
     },
     "metadata": {},
     "output_type": "display_data"
    },
    {
     "data": {
      "text/markdown": [
       "### Naomi, or, Boston Two Hundred Years Ago: By Eliza Buckminster Lee"
      ],
      "text/plain": [
       "<IPython.core.display.Markdown object>"
      ]
     },
     "metadata": {},
     "output_type": "display_data"
    },
    {
     "data": {
      "text/markdown": [
       "<small>Lee, Eliza Buckminster</small>"
      ],
      "text/plain": [
       "<IPython.core.display.Markdown object>"
      ]
     },
     "metadata": {},
     "output_type": "display_data"
    },
    {
     "data": {
      "text/markdown": [
       "scatter blasphemies and heresies through the land. Thus did they harden and deceive their own consciences. CHAPTER Х1У. “ All great desires that <span style=\"color: blue\">God hath given</span> Are prophecies of powers, But genius, though the gift of Heaven, Demands laborious hours.” In order"
      ],
      "text/plain": [
       "<IPython.core.display.Markdown object>"
      ]
     },
     "metadata": {},
     "output_type": "display_data"
    },
    {
     "name": "stdout",
     "output_type": "stream",
     "text": [
      "--------------------------------------------------\n"
     ]
    },
    {
     "data": {
      "text/markdown": [
       "### Hamlet"
      ],
      "text/plain": [
       "<IPython.core.display.Markdown object>"
      ]
     },
     "metadata": {},
     "output_type": "display_data"
    },
    {
     "data": {
      "text/markdown": [
       "Oph. You must sing 'Down a-down, an you call him a-down-a.' O, how the wheel becomes it! It is the false steward, that stole his <span style=\"color: blue\">master's daughter</span>. Laer. This nothing's more than matter. Oph. There's rosemary, that's for remembrance; pray, love, remember"
      ],
      "text/plain": [
       "<IPython.core.display.Markdown object>"
      ]
     },
     "metadata": {},
     "output_type": "display_data"
    },
    {
     "data": {
      "text/markdown": [
       "### Naomi, or, Boston Two Hundred Years Ago: By Eliza Buckminster Lee"
      ],
      "text/plain": [
       "<IPython.core.display.Markdown object>"
      ]
     },
     "metadata": {},
     "output_type": "display_data"
    },
    {
     "data": {
      "text/markdown": [
       "<small>Lee, Eliza Buckminster</small>"
      ],
      "text/plain": [
       "<IPython.core.display.Markdown object>"
      ]
     },
     "metadata": {},
     "output_type": "display_data"
    },
    {
     "data": {
      "text/markdown": [
       "circled Sambo’s dark features, and the brilliant eyes, but somewhat pale features, of his <span style=\"color: blue\">master’s daughter</span>, Ruth. The old woman manifested no surprise ; she was accustomed to the visits of the young, even at these late hours, and without"
      ],
      "text/plain": [
       "<IPython.core.display.Markdown object>"
      ]
     },
     "metadata": {},
     "output_type": "display_data"
    },
    {
     "name": "stdout",
     "output_type": "stream",
     "text": [
      "--------------------------------------------------\n"
     ]
    },
    {
     "data": {
      "text/markdown": [
       "### Hamlet"
      ],
      "text/plain": [
       "<IPython.core.display.Markdown object>"
      ]
     },
     "metadata": {},
     "output_type": "display_data"
    },
    {
     "data": {
      "text/markdown": [
       "thy asking? The head is not more native to the heart, The hand more instrumental to the mouth, Than is the throne of Denmark to <span style=\"color: blue\">thy father. What wouldst</span> thou have, Laertes? Laer. Dread my lord, Your leave and favour to return to France; From whence"
      ],
      "text/plain": [
       "<IPython.core.display.Markdown object>"
      ]
     },
     "metadata": {},
     "output_type": "display_data"
    },
    {
     "data": {
      "text/markdown": [
       "### The Spaewife: Or, the Queen's Secret: A Story of the Reign of Elizabeth: By Paul Peppergrass"
      ],
      "text/plain": [
       "<IPython.core.display.Markdown object>"
      ]
     },
     "metadata": {},
     "output_type": "display_data"
    },
    {
     "data": {
      "text/markdown": [
       "<small>Boyce, John</small>"
      ],
      "text/plain": [
       "<IPython.core.display.Markdown object>"
      ]
     },
     "metadata": {},
     "output_type": "display_data"
    },
    {
     "data": {
      "text/markdown": [
       "reverently kissed the lips of the image of the Savior. The mendicant understood the silent reply, and proceeded : — “But of <span style=\"color: blue\">thy father. Wouldst</span> abandon him to preserve thy faith ? Wouldst see him dragged on a hurdle to the gallows, amid the shouts"
      ],
      "text/plain": [
       "<IPython.core.display.Markdown object>"
      ]
     },
     "metadata": {},
     "output_type": "display_data"
    },
    {
     "name": "stdout",
     "output_type": "stream",
     "text": [
      "--------------------------------------------------\n"
     ]
    },
    {
     "data": {
      "text/markdown": [
       "### Hamlet"
      ],
      "text/plain": [
       "<IPython.core.display.Markdown object>"
      ]
     },
     "metadata": {},
     "output_type": "display_data"
    },
    {
     "data": {
      "text/markdown": [
       "shameful lust The will of my most seeming-virtuous queen: O Hamlet, what a falling-off was there! From me, whose love was of that dignity That it <span style=\"color: blue\">went hand in hand</span> even with the vow I made to her in marriage; and to decline Upon a wretch whose natural gifts were poor To those of mine"
      ],
      "text/plain": [
       "<IPython.core.display.Markdown object>"
      ]
     },
     "metadata": {},
     "output_type": "display_data"
    },
    {
     "data": {
      "text/markdown": [
       "### The Ideal Christian Life: By Wm. H. Norton…"
      ],
      "text/plain": [
       "<IPython.core.display.Markdown object>"
      ]
     },
     "metadata": {},
     "output_type": "display_data"
    },
    {
     "data": {
      "text/markdown": [
       "<small>Norton, Wm. H. (William Harrison)</small>"
      ],
      "text/plain": [
       "<IPython.core.display.Markdown object>"
      ]
     },
     "metadata": {},
     "output_type": "display_data"
    },
    {
     "data": {
      "text/markdown": [
       "Savior, and his sins were all forgiven through faith in Christ. They were both received as mem¬ bers. It was a lovely picture as they two <span style=\"color: blue\">went hand in hand</span> down into the water and were baptized by their father into Christ. Their parents had been satisfied for some time of their change of heart, and had taught them the commands"
      ],
      "text/plain": [
       "<IPython.core.display.Markdown object>"
      ]
     },
     "metadata": {},
     "output_type": "display_data"
    },
    {
     "name": "stdout",
     "output_type": "stream",
     "text": [
      "--------------------------------------------------\n"
     ]
    },
    {
     "data": {
      "text/markdown": [
       "### Hamlet"
      ],
      "text/plain": [
       "<IPython.core.display.Markdown object>"
      ]
     },
     "metadata": {},
     "output_type": "display_data"
    },
    {
     "data": {
      "text/markdown": [
       "hour is almost come, When I to sulph'uous and tormenting flames Must render up myself. Ham. <span style=\"color: blue\">Alas, poor ghost</span>! Ghost. Pity me not, but lend thy serious hearing To what I shall unfold. Ham. Speak"
      ],
      "text/plain": [
       "<IPython.core.display.Markdown object>"
      ]
     },
     "metadata": {},
     "output_type": "display_data"
    },
    {
     "data": {
      "text/markdown": [
       "### Sporting Scenes and Sundry Sketches: Being the Miscellaneous Writings of J. Cypress, Jr: Edited by Frank Forester"
      ],
      "text/plain": [
       "<IPython.core.display.Markdown object>"
      ]
     },
     "metadata": {},
     "output_type": "display_data"
    },
    {
     "data": {
      "text/markdown": [
       "<small>Hawes, William Post</small>"
      ],
      "text/plain": [
       "<IPython.core.display.Markdown object>"
      ]
     },
     "metadata": {},
     "output_type": "display_data"
    },
    {
     "data": {
      "text/markdown": [
       "urches ? where are the altars which our fathers budded, and w T here are the graves and bones of our fathers V' Al <span style=\"color: blue\">as ! poor ghost !</span> thou knowest not that “ the age of bargaining is come,” and that the Reformed church is a traf¬ ficker in the market, selling h"
      ],
      "text/plain": [
       "<IPython.core.display.Markdown object>"
      ]
     },
     "metadata": {},
     "output_type": "display_data"
    },
    {
     "name": "stdout",
     "output_type": "stream",
     "text": [
      "--------------------------------------------------\n"
     ]
    },
    {
     "data": {
      "text/markdown": [
       "### Hamlet"
      ],
      "text/plain": [
       "<IPython.core.display.Markdown object>"
      ]
     },
     "metadata": {},
     "output_type": "display_data"
    },
    {
     "data": {
      "text/markdown": [
       "truly in my youth I suffered much extremity for love; very near this. I'll speak to him again.--What do you read, my lord? Ham. <span style=\"color: blue\">Words, words, words</span>. Pol. What is the matter, my lord? Ham. Between who? Pol. I mean, the matter that you read, my lord. Ham"
      ],
      "text/plain": [
       "<IPython.core.display.Markdown object>"
      ]
     },
     "metadata": {},
     "output_type": "display_data"
    },
    {
     "data": {
      "text/markdown": [
       "### Sporting Scenes and Sundry Sketches: Being the Miscellaneous Writings of J. Cypress, Jr: Edited by Frank Forester"
      ],
      "text/plain": [
       "<IPython.core.display.Markdown object>"
      ]
     },
     "metadata": {},
     "output_type": "display_data"
    },
    {
     "data": {
      "text/markdown": [
       "<small>Hawes, William Post</small>"
      ],
      "text/plain": [
       "<IPython.core.display.Markdown object>"
      ]
     },
     "metadata": {},
     "output_type": "display_data"
    },
    {
     "data": {
      "text/markdown": [
       "of the importance of these pursuits, when he made Hamlet, that courtier, scholar and soldier, answer to an inquiry of what he studied, “ words <span style=\"color: blue\">, words, words.” Th</span> e Jewish Rabbins employed themselves in analysing the words of the Old Testament, well convinced that every one contained in it a law or a"
      ],
      "text/plain": [
       "<IPython.core.display.Markdown object>"
      ]
     },
     "metadata": {},
     "output_type": "display_data"
    },
    {
     "name": "stdout",
     "output_type": "stream",
     "text": [
      "--------------------------------------------------\n"
     ]
    },
    {
     "data": {
      "text/markdown": [
       "### Hamlet"
      ],
      "text/plain": [
       "<IPython.core.display.Markdown object>"
      ]
     },
     "metadata": {},
     "output_type": "display_data"
    },
    {
     "data": {
      "text/markdown": [
       "Laertes, Voltimand, Cornelius, Lords, and Attendant.] King. Though yet of Hamlet our dear <span style=\"color: blue\">brother's death</span> The memory be green, and that it us befitted To bear our hearts in grief, and our whole kingdom To be contracted in one brow"
      ],
      "text/plain": [
       "<IPython.core.display.Markdown object>"
      ]
     },
     "metadata": {},
     "output_type": "display_data"
    },
    {
     "data": {
      "text/markdown": [
       "### Hansford: A Tale of Bacon's Rebellion: By St. George Tucker …"
      ],
      "text/plain": [
       "<IPython.core.display.Markdown object>"
      ]
     },
     "metadata": {},
     "output_type": "display_data"
    },
    {
     "data": {
      "text/markdown": [
       "<small>Tucker, St. George</small>"
      ],
      "text/plain": [
       "<IPython.core.display.Markdown object>"
      ]
     },
     "metadata": {},
     "output_type": "display_data"
    },
    {
     "data": {
      "text/markdown": [
       "eld a small dagger, which he had given her as a pledge of a brother’s love. Fit instrument to avenge a b <span style=\"color: blue\">rother’s death</span>! She seemed to be listening and watching to hear or see the slightest movement from the slumbering maiden. But all was still ! “ I slept not thus,"
      ],
      "text/plain": [
       "<IPython.core.display.Markdown object>"
      ]
     },
     "metadata": {},
     "output_type": "display_data"
    },
    {
     "name": "stdout",
     "output_type": "stream",
     "text": [
      "--------------------------------------------------\n"
     ]
    },
    {
     "data": {
      "text/markdown": [
       "### Hamlet"
      ],
      "text/plain": [
       "<IPython.core.display.Markdown object>"
      ]
     },
     "metadata": {},
     "output_type": "display_data"
    },
    {
     "data": {
      "text/markdown": [
       "woman! O villain, villain, smiling, damned villain! My tables,--meet it is I set it down, That one may <span style=\"color: blue\">smile, and smile, and be a villain</span>; At least, I am sure, it may be so in Denmark: [Writing.] So, uncle, there you are. Now to my word; It is 'Adieu, adieu! remember me:' I have sworn"
      ],
      "text/plain": [
       "<IPython.core.display.Markdown object>"
      ]
     },
     "metadata": {},
     "output_type": "display_data"
    },
    {
     "data": {
      "text/markdown": [
       "### Hansford: A Tale of Bacon's Rebellion: By St. George Tucker …"
      ],
      "text/plain": [
       "<IPython.core.display.Markdown object>"
      ]
     },
     "metadata": {},
     "output_type": "display_data"
    },
    {
     "data": {
      "text/markdown": [
       "<small>Tucker, St. George</small>"
      ],
      "text/plain": [
       "<IPython.core.display.Markdown object>"
      ]
     },
     "metadata": {},
     "output_type": "display_data"
    },
    {
     "data": {
      "text/markdown": [
       "igh she hurriedly left the room, as though it were corrupted by her presence. CHAPTER XXXI. “ And smile, and s <span style=\"color: blue\">mile, and smile, and be a villain.</span>” Hamlet. Great was the horror of the loyalists, on the following morning, at the discovery of the horrible crime which had been perpetrated ; but still greater"
      ],
      "text/plain": [
       "<IPython.core.display.Markdown object>"
      ]
     },
     "metadata": {},
     "output_type": "display_data"
    },
    {
     "name": "stdout",
     "output_type": "stream",
     "text": [
      "--------------------------------------------------\n"
     ]
    },
    {
     "data": {
      "text/markdown": [
       "### Hamlet"
      ],
      "text/plain": [
       "<IPython.core.display.Markdown object>"
      ]
     },
     "metadata": {},
     "output_type": "display_data"
    },
    {
     "data": {
      "text/markdown": [
       "Exit.] Oph. O, what a noble mind is here o'erthrown! The courtier's, scholar' <span style=\"color: blue\">s, soldier's</span>, eye, tongue, sword, The expectancy and rose of the fair state, The glass of fashion and the mould"
      ],
      "text/plain": [
       "<IPython.core.display.Markdown object>"
      ]
     },
     "metadata": {},
     "output_type": "display_data"
    },
    {
     "data": {
      "text/markdown": [
       "### Hansford: A Tale of Bacon's Rebellion: By St. George Tucker …"
      ],
      "text/plain": [
       "<IPython.core.display.Markdown object>"
      ]
     },
     "metadata": {},
     "output_type": "display_data"
    },
    {
     "data": {
      "text/markdown": [
       "<small>Tucker, St. George</small>"
      ],
      "text/plain": [
       "<IPython.core.display.Markdown object>"
      ]
     },
     "metadata": {},
     "output_type": "display_data"
    },
    {
     "data": {
      "text/markdown": [
       "sk as a last indulgence, as a dying favour, that I may die the death of a soldier, and not of a felon.” “ You have lived a traitor’s <span style=\"color: blue\">, not a soldier’s</span> life,” said Berkeley, in an insulting tone. “ A soldier’s life is devoted to his king and country ; your’s to a rebel"
      ],
      "text/plain": [
       "<IPython.core.display.Markdown object>"
      ]
     },
     "metadata": {},
     "output_type": "display_data"
    },
    {
     "name": "stdout",
     "output_type": "stream",
     "text": [
      "--------------------------------------------------\n"
     ]
    },
    {
     "data": {
      "text/markdown": [
       "### Hamlet"
      ],
      "text/plain": [
       "<IPython.core.display.Markdown object>"
      ]
     },
     "metadata": {},
     "output_type": "display_data"
    },
    {
     "data": {
      "text/markdown": [
       "figure Comes armed through our watch; so like the king That was and is the question of these wars. Hor. A mote it is to trouble the <span style=\"color: blue\">mind's eye</span>. In the most high and palmy state of Rome, A little ere the mightiest Julius fell, The graves stood tenantless"
      ],
      "text/plain": [
       "<IPython.core.display.Markdown object>"
      ]
     },
     "metadata": {},
     "output_type": "display_data"
    },
    {
     "data": {
      "text/markdown": [
       "### The Youth of Jefferson, or, a Chronicle of College Scrapes at Williamsburg, in Virginia, A.D. 1764 …"
      ],
      "text/plain": [
       "<IPython.core.display.Markdown object>"
      ]
     },
     "metadata": {},
     "output_type": "display_data"
    },
    {
     "data": {
      "text/markdown": [
       "<small>Cooke, John Esten</small>"
      ],
      "text/plain": [
       "<IPython.core.display.Markdown object>"
      ]
     },
     "metadata": {},
     "output_type": "display_data"
    },
    {
     "data": {
      "text/markdown": [
       "nute touches the characteristics of each withwarious personal details, all interesting, and all calculated to furnish to the mi <span style=\"color: blue\">nd’s eye a</span> complete portraiture of the individual described.”— .Шалу Knickerbocker. “ The sketches are full and graphic, many authorities having e"
      ],
      "text/plain": [
       "<IPython.core.display.Markdown object>"
      ]
     },
     "metadata": {},
     "output_type": "display_data"
    },
    {
     "name": "stdout",
     "output_type": "stream",
     "text": [
      "--------------------------------------------------\n"
     ]
    },
    {
     "data": {
      "text/markdown": [
       "### Hamlet"
      ],
      "text/plain": [
       "<IPython.core.display.Markdown object>"
      ]
     },
     "metadata": {},
     "output_type": "display_data"
    },
    {
     "data": {
      "text/markdown": [
       "figure Comes armed through our watch; so like the king That was and is the question of these wars. Hor. A mote it is to trouble the <span style=\"color: blue\">mind's eye</span>. In the most high and palmy state of Rome, A little ere the mightiest Julius fell, The graves stood tenantless"
      ],
      "text/plain": [
       "<IPython.core.display.Markdown object>"
      ]
     },
     "metadata": {},
     "output_type": "display_data"
    },
    {
     "data": {
      "text/markdown": [
       "### Tippletonia and the Countries Adjacent: Considered Historically, Geographically, Politically and Morally: By One Who Has Been There"
      ],
      "text/plain": [
       "<IPython.core.display.Markdown object>"
      ]
     },
     "metadata": {},
     "output_type": "display_data"
    },
    {
     "data": {
      "text/markdown": [
       "<small>Child, Adrian</small>"
      ],
      "text/plain": [
       "<IPython.core.display.Markdown object>"
      ]
     },
     "metadata": {},
     "output_type": "display_data"
    },
    {
     "data": {
      "text/markdown": [
       "rose up and departed, with the air of a man who had co-operated with the present system. Whether these are they whom the philosopher had in his <span style=\"color: blue\">mind’s eye</span> or not, it may be safely affirmed that the borderers of Tippletonia have approximated aş near to the condition of those who live according to nature"
      ],
      "text/plain": [
       "<IPython.core.display.Markdown object>"
      ]
     },
     "metadata": {},
     "output_type": "display_data"
    },
    {
     "name": "stdout",
     "output_type": "stream",
     "text": [
      "--------------------------------------------------\n"
     ]
    },
    {
     "data": {
      "text/markdown": [
       "### Hamlet"
      ],
      "text/plain": [
       "<IPython.core.display.Markdown object>"
      ]
     },
     "metadata": {},
     "output_type": "display_data"
    },
    {
     "data": {
      "text/markdown": [
       "Swear. Ham. Hic et ubique? then we'll shift our ground.-- Come hither, gentlemen, And <span style=\"color: blue\">lay your hands again upon</span> my sword: Never to speak of this that you have heard, Swear by my sword. Ghost. [Beneath.] Swear. Ham. Well said, old mole"
      ],
      "text/plain": [
       "<IPython.core.display.Markdown object>"
      ]
     },
     "metadata": {},
     "output_type": "display_data"
    },
    {
     "data": {
      "text/markdown": [
       "### A Bachelor Maid: By Mrs. Burton Harrison...; With Illustrations by Irving R. Wiles"
      ],
      "text/plain": [
       "<IPython.core.display.Markdown object>"
      ]
     },
     "metadata": {},
     "output_type": "display_data"
    },
    {
     "data": {
      "text/markdown": [
       "<small>Harrison, Constance Cary</small>"
      ],
      "text/plain": [
       "<IPython.core.display.Markdown object>"
      ]
     },
     "metadata": {},
     "output_type": "display_data"
    },
    {
     "data": {
      "text/markdown": [
       "lter, foolish, strained, perhaps,” Madame Stauffer said reflectively; “but she is at present with us, and we must use any weapon we can lay <span style=\"color: blue\">hands upon.”</span>“ Do you think so, dear ? ” Marion asked protest- ingly. “ I had set aside to-day to send for some girls [ am sure yo"
      ],
      "text/plain": [
       "<IPython.core.display.Markdown object>"
      ]
     },
     "metadata": {},
     "output_type": "display_data"
    },
    {
     "name": "stdout",
     "output_type": "stream",
     "text": [
      "--------------------------------------------------\n"
     ]
    },
    {
     "data": {
      "text/markdown": [
       "### Hamlet"
      ],
      "text/plain": [
       "<IPython.core.display.Markdown object>"
      ]
     },
     "metadata": {},
     "output_type": "display_data"
    },
    {
     "data": {
      "text/markdown": [
       "hallow'd and so gracious is the time. Hor. So have I heard, and do in part believe it. But, look, the morn, in russet mantle clad, <span style=\"color: blue\">Walks o'er</span> the dew of yon high eastward hill: Break we our watch up: and by my advice, Let us impart what we have seen to-night"
      ],
      "text/plain": [
       "<IPython.core.display.Markdown object>"
      ]
     },
     "metadata": {},
     "output_type": "display_data"
    },
    {
     "data": {
      "text/markdown": [
       "### The Prose Works of N. P. Willis"
      ],
      "text/plain": [
       "<IPython.core.display.Markdown object>"
      ]
     },
     "metadata": {},
     "output_type": "display_data"
    },
    {
     "data": {
      "text/markdown": [
       "<small>Willis, Nathaniel Parker</small>"
      ],
      "text/plain": [
       "<IPython.core.display.Markdown object>"
      ]
     },
     "metadata": {},
     "output_type": "display_data"
    },
    {
     "data": {
      "text/markdown": [
       "in every particular:— -“ When the Hebrew’s in thy palaces, The Hun in thy high places, and the Greek Walk <span style=\"color: blue\">s o’er thy</span> mart, and smiles on it for his ; When thy patricians beg their bitter bread,\" Stc. The church of"
      ],
      "text/plain": [
       "<IPython.core.display.Markdown object>"
      ]
     },
     "metadata": {},
     "output_type": "display_data"
    },
    {
     "name": "stdout",
     "output_type": "stream",
     "text": [
      "--------------------------------------------------\n"
     ]
    },
    {
     "data": {
      "text/markdown": [
       "### Hamlet"
      ],
      "text/plain": [
       "<IPython.core.display.Markdown object>"
      ]
     },
     "metadata": {},
     "output_type": "display_data"
    },
    {
     "data": {
      "text/markdown": [
       "Farewell, dear mother. King. Thy loving father, Hamlet. Ham. My mother: <span style=\"color: blue\">father and mother is man and wife</span>; man and wife is one flesh; and so, my mother.--Come, for England! [Exit.] King. Follow him at foot; tempt him with speed"
      ],
      "text/plain": [
       "<IPython.core.display.Markdown object>"
      ]
     },
     "metadata": {},
     "output_type": "display_data"
    },
    {
     "data": {
      "text/markdown": [
       "### The Prose Works of N. P. Willis"
      ],
      "text/plain": [
       "<IPython.core.display.Markdown object>"
      ]
     },
     "metadata": {},
     "output_type": "display_data"
    },
    {
     "data": {
      "text/markdown": [
       "<small>Willis, Nathaniel Parker</small>"
      ],
      "text/plain": [
       "<IPython.core.display.Markdown object>"
      ]
     },
     "metadata": {},
     "output_type": "display_data"
    },
    {
     "data": {
      "text/markdown": [
       "a friend, except as another jackall, and it would be for very extraordinary reasons that he would ever name at the tables where he is most intimate, his father or mother, wif <span style=\"color: blue\">e, sister, or brother.</span> The foot¬ man,· who sometimes comesto him with a note or book, knows the difference between him and the other gu"
      ],
      "text/plain": [
       "<IPython.core.display.Markdown object>"
      ]
     },
     "metadata": {},
     "output_type": "display_data"
    },
    {
     "name": "stdout",
     "output_type": "stream",
     "text": [
      "--------------------------------------------------\n"
     ]
    },
    {
     "data": {
      "text/markdown": [
       "### Hamlet"
      ],
      "text/plain": [
       "<IPython.core.display.Markdown object>"
      ]
     },
     "metadata": {},
     "output_type": "display_data"
    },
    {
     "data": {
      "text/markdown": [
       "Swear. Ham. Hic et ubique? then we'll shift our ground.-- Come hither, gentlemen, And <span style=\"color: blue\">lay your hands again upon</span> my sword: Never to speak of this that you have heard, Swear by my sword. Ghost. [Beneath.] Swear. Ham. Well said, old mole"
      ],
      "text/plain": [
       "<IPython.core.display.Markdown object>"
      ]
     },
     "metadata": {},
     "output_type": "display_data"
    },
    {
     "data": {
      "text/markdown": [
       "### Justo Ucundono: Prince of Japan: By Philalethes"
      ],
      "text/plain": [
       "<IPython.core.display.Markdown object>"
      ]
     },
     "metadata": {},
     "output_type": "display_data"
    },
    {
     "data": {
      "text/markdown": [
       "<small>Philalethes</small>"
      ],
      "text/plain": [
       "<IPython.core.display.Markdown object>"
      ]
     },
     "metadata": {},
     "output_type": "display_data"
    },
    {
     "data": {
      "text/markdown": [
       "shall speak with new tongues ; they shall take up serpents ; and if they drink any deadly thing it shall not hurt them ; they shall <span style=\"color: blue\">lay their hands upon</span> the sick, and they shall recover.’ ‘But they going forth preached everywhere, the Lord working withal and confirming"
      ],
      "text/plain": [
       "<IPython.core.display.Markdown object>"
      ]
     },
     "metadata": {},
     "output_type": "display_data"
    },
    {
     "name": "stdout",
     "output_type": "stream",
     "text": [
      "--------------------------------------------------\n"
     ]
    },
    {
     "data": {
      "text/markdown": [
       "### Hamlet"
      ],
      "text/plain": [
       "<IPython.core.display.Markdown object>"
      ]
     },
     "metadata": {},
     "output_type": "display_data"
    },
    {
     "data": {
      "text/markdown": [
       "ambitious; with more offences at my beck than I have thoughts to put them in, imagination to give them shape, or time to act them in. What should such fellows as I do crawling <span style=\"color: blue\">between earth and heaven</span>? We are arrant knaves, all; believe none of us. Go thy ways to a nunnery. Where's your father? Oph"
      ],
      "text/plain": [
       "<IPython.core.display.Markdown object>"
      ]
     },
     "metadata": {},
     "output_type": "display_data"
    },
    {
     "data": {
      "text/markdown": [
       "### A Walking Gentleman: A Novel: By James Prior"
      ],
      "text/plain": [
       "<IPython.core.display.Markdown object>"
      ]
     },
     "metadata": {},
     "output_type": "display_data"
    },
    {
     "data": {
      "text/markdown": [
       "<small>Prior, James</small>"
      ],
      "text/plain": [
       "<IPython.core.display.Markdown object>"
      ]
     },
     "metadata": {},
     "output_type": "display_data"
    },
    {
     "data": {
      "text/markdown": [
       "untin’ ball.” “ And you, my man, what is your occupation ?” asked his lordship of his lordship. Beiley felt as though he were hung up <span style=\"color: blue\">between earth 272 and heaven</span>; as though nothing remained to be con¬ cealed. “ I don’t know,” he answered. If he had had his wits about him he might have answered : A self"
      ],
      "text/plain": [
       "<IPython.core.display.Markdown object>"
      ]
     },
     "metadata": {},
     "output_type": "display_data"
    },
    {
     "name": "stdout",
     "output_type": "stream",
     "text": [
      "--------------------------------------------------\n"
     ]
    },
    {
     "data": {
      "text/markdown": [
       "### Hamlet"
      ],
      "text/plain": [
       "<IPython.core.display.Markdown object>"
      ]
     },
     "metadata": {},
     "output_type": "display_data"
    },
    {
     "data": {
      "text/markdown": [
       "d His canon 'gainst self-slaughter! O God! O God! How weary, <span style=\"color: blue\">stale, flat, and unprofitable</span> Seem to me all the uses of this world! Fie on't! O fie! 'tis an unweeded garden, That grows"
      ],
      "text/plain": [
       "<IPython.core.display.Markdown object>"
      ]
     },
     "metadata": {},
     "output_type": "display_data"
    },
    {
     "data": {
      "text/markdown": [
       "### The Mystery of Murray Davenport: Story of New York at the Present Day: By Robert Neilson Stephens; Illustrated by H. C. Edwards"
      ],
      "text/plain": [
       "<IPython.core.display.Markdown object>"
      ]
     },
     "metadata": {},
     "output_type": "display_data"
    },
    {
     "data": {
      "text/markdown": [
       "<small>Stephens, Robert Neilson</small>"
      ],
      "text/plain": [
       "<IPython.core.display.Markdown object>"
      ]
     },
     "metadata": {},
     "output_type": "display_data"
    },
    {
     "data": {
      "text/markdown": [
       "wearied ; sick of his way of livelihood, sick of the atmosphere he moved in, sick of his reflections, sick of himself. Life had got to be <span style=\"color: blue\">stale, flat, and unprofitable</span>. His self-loathing, which steadily grew, would have be¬ come a maddening torture if he hadn’t found refuge"
      ],
      "text/plain": [
       "<IPython.core.display.Markdown object>"
      ]
     },
     "metadata": {},
     "output_type": "display_data"
    },
    {
     "name": "stdout",
     "output_type": "stream",
     "text": [
      "--------------------------------------------------\n"
     ]
    },
    {
     "data": {
      "text/markdown": [
       "### Hamlet"
      ],
      "text/plain": [
       "<IPython.core.display.Markdown object>"
      ]
     },
     "metadata": {},
     "output_type": "display_data"
    },
    {
     "data": {
      "text/markdown": [
       "figure Comes armed through our watch; so like the king That was and is the question of these wars. Hor. A mote it is to trouble the <span style=\"color: blue\">mind's eye</span>. In the most high and palmy state of Rome, A little ere the mightiest Julius fell, The graves stood tenantless"
      ],
      "text/plain": [
       "<IPython.core.display.Markdown object>"
      ]
     },
     "metadata": {},
     "output_type": "display_data"
    },
    {
     "data": {
      "text/markdown": [
       "### Stories by American Authors. II …"
      ],
      "text/plain": [
       "<IPython.core.display.Markdown object>"
      ]
     },
     "metadata": {},
     "output_type": "display_data"
    },
    {
     "data": {
      "text/markdown": [
       "<small>None</small>"
      ],
      "text/plain": [
       "<IPython.core.display.Markdown object>"
      ]
     },
     "metadata": {},
     "output_type": "display_data"
    },
    {
     "data": {
      "text/markdown": [
       "escriptive action, and the professor, who had recovered his equanimity, interpreted readily, the whole com¬ pany could see in their m <span style=\"color: blue\">ind’s eye</span> the girls and the matrons in the market of Athens who more than seventeen hundred years ago had called aloud their “ melitutes"
      ],
      "text/plain": [
       "<IPython.core.display.Markdown object>"
      ]
     },
     "metadata": {},
     "output_type": "display_data"
    },
    {
     "name": "stdout",
     "output_type": "stream",
     "text": [
      "--------------------------------------------------\n"
     ]
    },
    {
     "data": {
      "text/markdown": [
       "### Hamlet"
      ],
      "text/plain": [
       "<IPython.core.display.Markdown object>"
      ]
     },
     "metadata": {},
     "output_type": "display_data"
    },
    {
     "data": {
      "text/markdown": [
       "lord, I came to see your father's funeral. Ham. I prithee do not mock me, fellow-student. I think it was to see my <span style=\"color: blue\">mother's wedding</span>. Hor. Indeed, my lord, it follow'd hard upon. Ham. Thrift, thrift"
      ],
      "text/plain": [
       "<IPython.core.display.Markdown object>"
      ]
     },
     "metadata": {},
     "output_type": "display_data"
    },
    {
     "data": {
      "text/markdown": [
       "### Stories by American Authors. II …"
      ],
      "text/plain": [
       "<IPython.core.display.Markdown object>"
      ]
     },
     "metadata": {},
     "output_type": "display_data"
    },
    {
     "data": {
      "text/markdown": [
       "<small>None</small>"
      ],
      "text/plain": [
       "<IPython.core.display.Markdown object>"
      ]
     },
     "metadata": {},
     "output_type": "display_data"
    },
    {
     "data": {
      "text/markdown": [
       "gs came to worship him. In the morning light the Holy City lay in the midst of the Campagna like her mot <span style=\"color: blue\">her’s wedding-pe</span> arls when dropped in a heap on their green cushion ; and Silvia knelt with her face that way and prayed for a soul as"
      ],
      "text/plain": [
       "<IPython.core.display.Markdown object>"
      ]
     },
     "metadata": {},
     "output_type": "display_data"
    },
    {
     "name": "stdout",
     "output_type": "stream",
     "text": [
      "--------------------------------------------------\n"
     ]
    },
    {
     "data": {
      "text/markdown": [
       "### Hamlet"
      ],
      "text/plain": [
       "<IPython.core.display.Markdown object>"
      ]
     },
     "metadata": {},
     "output_type": "display_data"
    },
    {
     "data": {
      "text/markdown": [
       "shameful lust The will of my most seeming-virtuous queen: O Hamlet, what a falling-off was there! From me, whose love was of that dignity That it <span style=\"color: blue\">went hand in hand</span> even with the vow I made to her in marriage; and to decline Upon a wretch whose natural gifts were poor To those of mine"
      ],
      "text/plain": [
       "<IPython.core.display.Markdown object>"
      ]
     },
     "metadata": {},
     "output_type": "display_data"
    },
    {
     "data": {
      "text/markdown": [
       "### The Diamond Lens, with Other Stories: By Fitz-James O'Brien; Collected and Ed., With a Sketch of the Author, by William Winter"
      ],
      "text/plain": [
       "<IPython.core.display.Markdown object>"
      ]
     },
     "metadata": {},
     "output_type": "display_data"
    },
    {
     "data": {
      "text/markdown": [
       "<small>O'Brien, Fitz James</small>"
      ],
      "text/plain": [
       "<IPython.core.display.Markdown object>"
      ]
     },
     "metadata": {},
     "output_type": "display_data"
    },
    {
     "data": {
      "text/markdown": [
       "elds, you have lain with my arms around you, and your head upon my bosom, while we talked of the splendid things we would achieve when we two we <span style=\"color: blue\">nt out into life hand in hand.”</span> Dick trembled like a leaf, and said not a word. “You will not kick me, Dick Burdoon,” went on the thick-set m"
      ],
      "text/plain": [
       "<IPython.core.display.Markdown object>"
      ]
     },
     "metadata": {},
     "output_type": "display_data"
    },
    {
     "name": "stdout",
     "output_type": "stream",
     "text": [
      "--------------------------------------------------\n"
     ]
    },
    {
     "data": {
      "text/markdown": [
       "### Hamlet"
      ],
      "text/plain": [
       "<IPython.core.display.Markdown object>"
      ]
     },
     "metadata": {},
     "output_type": "display_data"
    },
    {
     "data": {
      "text/markdown": [
       "fix'd His canon 'gainst self-slaughter! O God! O God! How <span style=\"color: blue\">weary, stale, flat</span>, and unprofitable Seem to me all the uses of this world! Fie on't! O fie! 'tis an unweeded garden"
      ],
      "text/plain": [
       "<IPython.core.display.Markdown object>"
      ]
     },
     "metadata": {},
     "output_type": "display_data"
    },
    {
     "data": {
      "text/markdown": [
       "### Traits of American Life: By Mrs. Sarah J. Hale"
      ],
      "text/plain": [
       "<IPython.core.display.Markdown object>"
      ]
     },
     "metadata": {},
     "output_type": "display_data"
    },
    {
     "data": {
      "text/markdown": [
       "<small>Hale, Sarah Josepha Buell</small>"
      ],
      "text/plain": [
       "<IPython.core.display.Markdown object>"
      ]
     },
     "metadata": {},
     "output_type": "display_data"
    },
    {
     "data": {
      "text/markdown": [
       "inners his appetite, till the parade and pleasures of the commercial metropolis made him think the pursuits of a country life u w <span style=\"color: blue\">eary, stale and flat,</span>” indeed, if not “ unprofitable.” There was one young merchant, by the name of Ashton, to whom Dick became particularly"
      ],
      "text/plain": [
       "<IPython.core.display.Markdown object>"
      ]
     },
     "metadata": {},
     "output_type": "display_data"
    },
    {
     "name": "stdout",
     "output_type": "stream",
     "text": [
      "--------------------------------------------------\n"
     ]
    },
    {
     "data": {
      "text/markdown": [
       "### Hamlet"
      ],
      "text/plain": [
       "<IPython.core.display.Markdown object>"
      ]
     },
     "metadata": {},
     "output_type": "display_data"
    },
    {
     "data": {
      "text/markdown": [
       "Ay, that they do, my lord; Hercules and his load too. Ham. It is not very strange; for my uncle is king of Denmark, and those that would make mouths at him <span style=\"color: blue\">while my father lived</span>, give twenty, forty, fifty, a hundred ducats a-piece for his picture in little. 'Sblood, there is something in this more than natural, if philosophy"
      ],
      "text/plain": [
       "<IPython.core.display.Markdown object>"
      ]
     },
     "metadata": {},
     "output_type": "display_data"
    },
    {
     "data": {
      "text/markdown": [
       "### Traits of American Life: By Mrs. Sarah J. Hale"
      ],
      "text/plain": [
       "<IPython.core.display.Markdown object>"
      ]
     },
     "metadata": {},
     "output_type": "display_data"
    },
    {
     "data": {
      "text/markdown": [
       "<small>Hale, Sarah Josepha Buell</small>"
      ],
      "text/plain": [
       "<IPython.core.display.Markdown object>"
      ]
     },
     "metadata": {},
     "output_type": "display_data"
    },
    {
     "data": {
      "text/markdown": [
       "ady’s benevolent counte¬ nance, as she replied, “ that wish was often breathed for her, but I believe never by her. W <span style=\"color: blue\">hile her father lived,</span> she never permitted marriage to enter into her calculations. She never gave any encour¬ agement that permitted an offer—and though"
      ],
      "text/plain": [
       "<IPython.core.display.Markdown object>"
      ]
     },
     "metadata": {},
     "output_type": "display_data"
    },
    {
     "name": "stdout",
     "output_type": "stream",
     "text": [
      "--------------------------------------------------\n"
     ]
    },
    {
     "data": {
      "text/markdown": [
       "### Hamlet"
      ],
      "text/plain": [
       "<IPython.core.display.Markdown object>"
      ]
     },
     "metadata": {},
     "output_type": "display_data"
    },
    {
     "data": {
      "text/markdown": [
       "hold it not honesty to have it thus set down; for you yourself, sir, should be old as I am, if, like a crab, you could go backward. Pol. [Aside.] <span style=\"color: blue\">Though this be madness, yet</span> there is a method in't.-- Will you walk out of the air, my lord? Ham. Into my grave? Pol. Indeed, that is out o"
      ],
      "text/plain": [
       "<IPython.core.display.Markdown object>"
      ]
     },
     "metadata": {},
     "output_type": "display_data"
    },
    {
     "data": {
      "text/markdown": [
       "### Norma Trist: Or, Pure Carbon: A Story of the Inversion of the Sexes: By J. W. Carhart …"
      ],
      "text/plain": [
       "<IPython.core.display.Markdown object>"
      ]
     },
     "metadata": {},
     "output_type": "display_data"
    },
    {
     "data": {
      "text/markdown": [
       "<small>Carhart, John Wesley</small>"
      ],
      "text/plain": [
       "<IPython.core.display.Markdown object>"
      ]
     },
     "metadata": {},
     "output_type": "display_data"
    },
    {
     "data": {
      "text/markdown": [
       "lars . on deposit in John Schumacher’s bank in La Grange. Chapter XXVI. “Tho <span style=\"color: blue\">ugh this be madness, yet th</span> ere’s method in it.” —Shakespeare. Norma Trist had disappeared from the public gaze, and only an occasional allusion wa"
      ],
      "text/plain": [
       "<IPython.core.display.Markdown object>"
      ]
     },
     "metadata": {},
     "output_type": "display_data"
    },
    {
     "name": "stdout",
     "output_type": "stream",
     "text": [
      "--------------------------------------------------\n"
     ]
    },
    {
     "data": {
      "text/markdown": [
       "### Hamlet"
      ],
      "text/plain": [
       "<IPython.core.display.Markdown object>"
      ]
     },
     "metadata": {},
     "output_type": "display_data"
    },
    {
     "data": {
      "text/markdown": [
       "Farewell. Oph. O heavenly powers, restore him! Ham. I have heard of your paintings too, well enough; <span style=\"color: blue\">God hath given</span> you one face, and you make yourselves another: you jig, you amble, and you lisp, and nickname God's creatures, and make your wantonness"
      ],
      "text/plain": [
       "<IPython.core.display.Markdown object>"
      ]
     },
     "metadata": {},
     "output_type": "display_data"
    },
    {
     "data": {
      "text/markdown": [
       "### The Haunted Student: A Romance of the Fourteenth Century: By Harriette Fanning Read …"
      ],
      "text/plain": [
       "<IPython.core.display.Markdown object>"
      ]
     },
     "metadata": {},
     "output_type": "display_data"
    },
    {
     "data": {
      "text/markdown": [
       "<small>Read, Harriette Fanning</small>"
      ],
      "text/plain": [
       "<IPython.core.display.Markdown object>"
      ]
     },
     "metadata": {},
     "output_type": "display_data"
    },
    {
     "data": {
      "text/markdown": [
       "Ludmila’s face, he flung off his assailant and rushed towards her, exclaiming,— “.Good youth, surely <span style=\"color: blue\">God hath given</span> thee the grace of compassion, and thou hast, too, a look of authority : if thou hast hope to see the white"
      ],
      "text/plain": [
       "<IPython.core.display.Markdown object>"
      ]
     },
     "metadata": {},
     "output_type": "display_data"
    },
    {
     "name": "stdout",
     "output_type": "stream",
     "text": [
      "--------------------------------------------------\n"
     ]
    },
    {
     "data": {
      "text/markdown": [
       "### Hamlet"
      ],
      "text/plain": [
       "<IPython.core.display.Markdown object>"
      ]
     },
     "metadata": {},
     "output_type": "display_data"
    },
    {
     "data": {
      "text/markdown": [
       "shall I lie in your lap? [Lying down at Ophelia's feet.] Oph. No, my lord. Ham. I mean, my <span style=\"color: blue\">head upon your lap</span>? Oph. Ay, my lord. Ham. Do you think I meant country matters? Oph. I think nothing, my lord. Ham"
      ],
      "text/plain": [
       "<IPython.core.display.Markdown object>"
      ]
     },
     "metadata": {},
     "output_type": "display_data"
    },
    {
     "data": {
      "text/markdown": [
       "### The Haunted Student: A Romance of the Fourteenth Century: By Harriette Fanning Read …"
      ],
      "text/plain": [
       "<IPython.core.display.Markdown object>"
      ]
     },
     "metadata": {},
     "output_type": "display_data"
    },
    {
     "data": {
      "text/markdown": [
       "<small>Read, Harriette Fanning</small>"
      ],
      "text/plain": [
       "<IPython.core.display.Markdown object>"
      ]
     },
     "metadata": {},
     "output_type": "display_data"
    },
    {
     "data": {
      "text/markdown": [
       "gushing from his mouth. Without uttering a sound, Ludmila knelt and raised her lover’s <span style=\"color: blue\">head upon her lap</span> and arms, while Zdenko dipped water in his peasant’s hat, which he dashed over his face"
      ],
      "text/plain": [
       "<IPython.core.display.Markdown object>"
      ]
     },
     "metadata": {},
     "output_type": "display_data"
    },
    {
     "name": "stdout",
     "output_type": "stream",
     "text": [
      "--------------------------------------------------\n"
     ]
    },
    {
     "data": {
      "text/markdown": [
       "### Hamlet"
      ],
      "text/plain": [
       "<IPython.core.display.Markdown object>"
      ]
     },
     "metadata": {},
     "output_type": "display_data"
    },
    {
     "data": {
      "text/markdown": [
       "Leave us. [Exit Messenger.] [Reads]'High and mighty,--You shall know I am set naked on your kingdom. To-morrow <span style=\"color: blue\">shall I beg leave</span> to see your kingly eyes: when I shall, first asking your pardon thereunto, recount the occasions of my sudden and more strange"
      ],
      "text/plain": [
       "<IPython.core.display.Markdown object>"
      ]
     },
     "metadata": {},
     "output_type": "display_data"
    },
    {
     "data": {
      "text/markdown": [
       "### The Haunted Student: A Romance of the Fourteenth Century: By Harriette Fanning Read …"
      ],
      "text/plain": [
       "<IPython.core.display.Markdown object>"
      ]
     },
     "metadata": {},
     "output_type": "display_data"
    },
    {
     "data": {
      "text/markdown": [
       "<small>Read, Harriette Fanning</small>"
      ],
      "text/plain": [
       "<IPython.core.display.Markdown object>"
      ]
     },
     "metadata": {},
     "output_type": "display_data"
    },
    {
     "data": {
      "text/markdown": [
       "yon. will not refuse me?” he caught her by the wrist, ex-, claiming, “ What are you ?” “A Bohemian, and your page, captain; but, if you are going mad, I <span style=\"color: blue\">shall beg leave</span> to get a new service,” she answered, in the boyish style she had adopted. The young man dropped her hand, and walked away with a heavy"
      ],
      "text/plain": [
       "<IPython.core.display.Markdown object>"
      ]
     },
     "metadata": {},
     "output_type": "display_data"
    },
    {
     "name": "stdout",
     "output_type": "stream",
     "text": [
      "--------------------------------------------------\n"
     ]
    },
    {
     "data": {
      "text/markdown": [
       "### Hamlet"
      ],
      "text/plain": [
       "<IPython.core.display.Markdown object>"
      ]
     },
     "metadata": {},
     "output_type": "display_data"
    },
    {
     "data": {
      "text/markdown": [
       "God? Oph. My lord, as I was sewing in my chamber, Lord Hamlet,--with his doublet all unbrac'd; No <span style=\"color: blue\">hat upon his head</span>; his stockings foul'd, Ungart'red, and down-gyved to his ankle; Pale as his shirt; his knees"
      ],
      "text/plain": [
       "<IPython.core.display.Markdown object>"
      ]
     },
     "metadata": {},
     "output_type": "display_data"
    },
    {
     "data": {
      "text/markdown": [
       "### Margret Howth: A Story of To-Day"
      ],
      "text/plain": [
       "<IPython.core.display.Markdown object>"
      ]
     },
     "metadata": {},
     "output_type": "display_data"
    },
    {
     "data": {
      "text/markdown": [
       "<small>Davis, Rebecca Harding</small>"
      ],
      "text/plain": [
       "<IPython.core.display.Markdown object>"
      ]
     },
     "metadata": {},
     "output_type": "display_data"
    },
    {
     "data": {
      "text/markdown": [
       "famine. “ I ’ll not flurr myself,” he said, crunching his ragged hat in his hands, — “ I ’ll not.” He drove the <span style=\"color: blue\">hat down upon his head</span>, and looked up with a sullen fierceness. “ Yoh ’ve got me, an’ I ’m glad of ’t. I ’m tired"
      ],
      "text/plain": [
       "<IPython.core.display.Markdown object>"
      ]
     },
     "metadata": {},
     "output_type": "display_data"
    },
    {
     "name": "stdout",
     "output_type": "stream",
     "text": [
      "--------------------------------------------------\n"
     ]
    },
    {
     "data": {
      "text/markdown": [
       "### Hamlet"
      ],
      "text/plain": [
       "<IPython.core.display.Markdown object>"
      ]
     },
     "metadata": {},
     "output_type": "display_data"
    },
    {
     "data": {
      "text/markdown": [
       "table,-- If Hamlet give the first or second hit, Or quit in answer of the third exchange, Let all the battlements their ordnance <span style=\"color: blue\">fire; The king shall</span> drink to Hamlet's better breath; And in the cup an union shall he throw, Richer than that which four"
      ],
      "text/plain": [
       "<IPython.core.display.Markdown object>"
      ]
     },
     "metadata": {},
     "output_type": "display_data"
    },
    {
     "data": {
      "text/markdown": [
       "### Margret Howth: A Story of To-Day"
      ],
      "text/plain": [
       "<IPython.core.display.Markdown object>"
      ]
     },
     "metadata": {},
     "output_type": "display_data"
    },
    {
     "data": {
      "text/markdown": [
       "<small>Davis, Rebecca Harding</small>"
      ],
      "text/plain": [
       "<IPython.core.display.Markdown object>"
      ]
     },
     "metadata": {},
     "output_type": "display_data"
    },
    {
     "data": {
      "text/markdown": [
       "watery moon. “ The very earth listens,” he said. “ Listens for what ? ” said the literal old Doctor. “ I think it listens always,” said Vandyke, his eye on <span style=\"color: blue\">fire. “For its King—that shall</span> be. Not as He came before. It has not long to wait now : the New Year is not far off.” “ l ’ve no faith in holding your hands, wait¬ ing"
      ],
      "text/plain": [
       "<IPython.core.display.Markdown object>"
      ]
     },
     "metadata": {},
     "output_type": "display_data"
    },
    {
     "name": "stdout",
     "output_type": "stream",
     "text": [
      "--------------------------------------------------\n"
     ]
    },
    {
     "data": {
      "text/markdown": [
       "### Hamlet"
      ],
      "text/plain": [
       "<IPython.core.display.Markdown object>"
      ]
     },
     "metadata": {},
     "output_type": "display_data"
    },
    {
     "data": {
      "text/markdown": [
       "affair in Elsinore? We'll teach you to drink deep ere you depart. Hor. My lord, I <span style=\"color: blue\">came to see your father's</span> funeral. Ham. I prithee do not mock me, fellow-student. I think it was to see my mother's wedding. Hor"
      ],
      "text/plain": [
       "<IPython.core.display.Markdown object>"
      ]
     },
     "metadata": {},
     "output_type": "display_data"
    },
    {
     "data": {
      "text/markdown": [
       "### The Punishment of the Stingy: And Other Indian Stories: By George Bird Grinnell"
      ],
      "text/plain": [
       "<IPython.core.display.Markdown object>"
      ]
     },
     "metadata": {},
     "output_type": "display_data"
    },
    {
     "data": {
      "text/markdown": [
       "<small>Grinnell, George Bird</small>"
      ],
      "text/plain": [
       "<IPython.core.display.Markdown object>"
      ]
     },
     "metadata": {},
     "output_type": "display_data"
    },
    {
     "data": {
      "text/markdown": [
       "ater. At last they came to a land. Here were many people—great crowds of them. The Wind told the young man, “ These are all waiters on the Father.” They went on, and at last c <span style=\"color: blue\">ame to the Father’s</span> lodge and went in. When they had sat down the Father spoke to the young man and said to him : “ My son, I have known you for a long time and have watched you. I wanted"
      ],
      "text/plain": [
       "<IPython.core.display.Markdown object>"
      ]
     },
     "metadata": {},
     "output_type": "display_data"
    },
    {
     "name": "stdout",
     "output_type": "stream",
     "text": [
      "--------------------------------------------------\n"
     ]
    },
    {
     "data": {
      "text/markdown": [
       "### Hamlet"
      ],
      "text/plain": [
       "<IPython.core.display.Markdown object>"
      ]
     },
     "metadata": {},
     "output_type": "display_data"
    },
    {
     "data": {
      "text/markdown": [
       "between Much heat and him. I'll silence me e'en here. Pray you, be round with him. Ham. [Within.] <span style=\"color: blue\">Mother, mother, mother</span>! Queen. I'll warrant you: Fear me not:--withdraw; I hear him coming. [Polonius goes behind"
      ],
      "text/plain": [
       "<IPython.core.display.Markdown object>"
      ]
     },
     "metadata": {},
     "output_type": "display_data"
    },
    {
     "data": {
      "text/markdown": [
       "### The Punishment of the Stingy: And Other Indian Stories: By George Bird Grinnell"
      ],
      "text/plain": [
       "<IPython.core.display.Markdown object>"
      ]
     },
     "metadata": {},
     "output_type": "display_data"
    },
    {
     "data": {
      "text/markdown": [
       "<small>Grinnell, George Bird</small>"
      ],
      "text/plain": [
       "<IPython.core.display.Markdown object>"
      ]
     },
     "metadata": {},
     "output_type": "display_data"
    },
    {
     "data": {
      "text/markdown": [
       "ather’s lodge and said, “ Father, I am here”; but his fa¬ ther did not believe him, and said, “ It is not you.” lie had been gone so long that they had thought him dead. Then be said to his m <span style=\"color: blue\">other, “ Mother, 1 am here,” and his mother</span> knew r him and was glad that he had re¬ turned. At this time the people had no buffalo. They had scouted far and near and could find none"
      ],
      "text/plain": [
       "<IPython.core.display.Markdown object>"
      ]
     },
     "metadata": {},
     "output_type": "display_data"
    },
    {
     "name": "stdout",
     "output_type": "stream",
     "text": [
      "--------------------------------------------------\n"
     ]
    },
    {
     "data": {
      "text/markdown": [
       "### Hamlet"
      ],
      "text/plain": [
       "<IPython.core.display.Markdown object>"
      ]
     },
     "metadata": {},
     "output_type": "display_data"
    },
    {
     "data": {
      "text/markdown": [
       "mother's closet: Behind the arras I'll convey myself To hear the process; I' <span style=\"color: blue\">ll warrant she'll</span> tax him home: And, as you said, and wisely was it said, 'Tis meet that some more audience than a mother, Since nature makes them partial"
      ],
      "text/plain": [
       "<IPython.core.display.Markdown object>"
      ]
     },
     "metadata": {},
     "output_type": "display_data"
    },
    {
     "data": {
      "text/markdown": [
       "### Reuben Green's Adventures at Yale: By James Otis"
      ],
      "text/plain": [
       "<IPython.core.display.Markdown object>"
      ]
     },
     "metadata": {},
     "output_type": "display_data"
    },
    {
     "data": {
      "text/markdown": [
       "<small>Otis, James</small>"
      ],
      "text/plain": [
       "<IPython.core.display.Markdown object>"
      ]
     },
     "metadata": {},
     "output_type": "display_data"
    },
    {
     "data": {
      "text/markdown": [
       "handkerchief, and from the shaking of their bodies a stranger would have said they were stricken with grief. “You are doing it great,” Billy whispered. “If you continue in this manner, I’ <span style=\"color: blue\">ll warrant you’ll</span> be the best- known freshman in town.” This praise incited Reuben to redouble his efforts, and he bowed yet"
      ],
      "text/plain": [
       "<IPython.core.display.Markdown object>"
      ]
     },
     "metadata": {},
     "output_type": "display_data"
    },
    {
     "name": "stdout",
     "output_type": "stream",
     "text": [
      "--------------------------------------------------\n"
     ]
    },
    {
     "data": {
      "text/markdown": [
       "### Hamlet"
      ],
      "text/plain": [
       "<IPython.core.display.Markdown object>"
      ]
     },
     "metadata": {},
     "output_type": "display_data"
    },
    {
     "data": {
      "text/markdown": [
       "understand the Scripture? The Scripture says Adam digg'd: could he dig without arms? I' <span style=\"color: blue\">ll put another question</span> to thee: if thou answerest me not to the purpose, confess thyself,-- 2 Clown. Go to. 1 Clown. What is he that builds stronger"
      ],
      "text/plain": [
       "<IPython.core.display.Markdown object>"
      ]
     },
     "metadata": {},
     "output_type": "display_data"
    },
    {
     "data": {
      "text/markdown": [
       "### Reuben Green's Adventures at Yale: By James Otis"
      ],
      "text/plain": [
       "<IPython.core.display.Markdown object>"
      ]
     },
     "metadata": {},
     "output_type": "display_data"
    },
    {
     "data": {
      "text/markdown": [
       "<small>Otis, James</small>"
      ],
      "text/plain": [
       "<IPython.core.display.Markdown object>"
      ]
     },
     "metadata": {},
     "output_type": "display_data"
    },
    {
     "data": {
      "text/markdown": [
       "motion!” Bolton cried, “and since we haven’t gone through the formality of choosing a chair¬ man, I’ <span style=\"color: blue\">ll put the question</span> myself. All those who are in favor of following Reuben’s advice will please move to the right-hand side of the room"
      ],
      "text/plain": [
       "<IPython.core.display.Markdown object>"
      ]
     },
     "metadata": {},
     "output_type": "display_data"
    },
    {
     "name": "stdout",
     "output_type": "stream",
     "text": [
      "--------------------------------------------------\n"
     ]
    },
    {
     "data": {
      "text/markdown": [
       "### Hamlet"
      ],
      "text/plain": [
       "<IPython.core.display.Markdown object>"
      ]
     },
     "metadata": {},
     "output_type": "display_data"
    },
    {
     "data": {
      "text/markdown": [
       "Laer. My will, not all the world: And for my means, I'll husband them so well, They shall go far with little. King. Good Laertes, If you desire to know the certainty Of your <span style=\"color: blue\">dear father's</span> death, is't writ in your revenge That, sweepstake, you will draw both friend and foe, Winner and loser"
      ],
      "text/plain": [
       "<IPython.core.display.Markdown object>"
      ]
     },
     "metadata": {},
     "output_type": "display_data"
    },
    {
     "data": {
      "text/markdown": [
       "### Ashes of Roses: By Louise Knight Wheatley"
      ],
      "text/plain": [
       "<IPython.core.display.Markdown object>"
      ]
     },
     "metadata": {},
     "output_type": "display_data"
    },
    {
     "data": {
      "text/markdown": [
       "<small>Wheatley, Louise Knight</small>"
      ],
      "text/plain": [
       "<IPython.core.display.Markdown object>"
      ]
     },
     "metadata": {},
     "output_type": "display_data"
    },
    {
     "data": {
      "text/markdown": [
       "thousand hills,” basking drow¬ sily in the blue distance. “All His,” I whispered, softly. “All my dear, <span style=\"color: blue\">dear Father’s</span>!” “Your father’s, Ruth?” “Yes. It all belongs to Him, you know. He lends it to His children for a while, but they give it back to Him by- and-by, when they go away to that better country. Oh, Colonel Dennington"
      ],
      "text/plain": [
       "<IPython.core.display.Markdown object>"
      ]
     },
     "metadata": {},
     "output_type": "display_data"
    },
    {
     "name": "stdout",
     "output_type": "stream",
     "text": [
      "--------------------------------------------------\n"
     ]
    },
    {
     "data": {
      "text/markdown": [
       "### Hamlet"
      ],
      "text/plain": [
       "<IPython.core.display.Markdown object>"
      ]
     },
     "metadata": {},
     "output_type": "display_data"
    },
    {
     "data": {
      "text/markdown": [
       "fellow: the players cannot keep counsel; they'll tell all. Oph. Will he tell us what this show meant? Ham. Ay, or any <span style=\"color: blue\">show that you'll show</span> him: be not you ashamed to show, he'll not shame to tell you what it means. Oph. You are naught, you are naught: I'll mark"
      ],
      "text/plain": [
       "<IPython.core.display.Markdown object>"
      ]
     },
     "metadata": {},
     "output_type": "display_data"
    },
    {
     "data": {
      "text/markdown": [
       "### The Killer: By Stewart Edward White"
      ],
      "text/plain": [
       "<IPython.core.display.Markdown object>"
      ]
     },
     "metadata": {},
     "output_type": "display_data"
    },
    {
     "data": {
      "text/markdown": [
       "<small>White, Stewart Edward</small>"
      ],
      "text/plain": [
       "<IPython.core.display.Markdown object>"
      ]
     },
     "metadata": {},
     "output_type": "display_data"
    },
    {
     "data": {
      "text/markdown": [
       "owever, that did not matter. “I can make a drop of soup go farther than other men a pint,” boasted Artie. “I’ll s <span style=\"color: blue\">how you: and I’ll show</span> that old-” “You’ll probably get shot,” observed Buck, watching him closely. “ W’at t’hell,"
      ],
      "text/plain": [
       "<IPython.core.display.Markdown object>"
      ]
     },
     "metadata": {},
     "output_type": "display_data"
    },
    {
     "name": "stdout",
     "output_type": "stream",
     "text": [
      "--------------------------------------------------\n"
     ]
    },
    {
     "data": {
      "text/markdown": [
       "### Hamlet"
      ],
      "text/plain": [
       "<IPython.core.display.Markdown object>"
      ]
     },
     "metadata": {},
     "output_type": "display_data"
    },
    {
     "data": {
      "text/markdown": [
       "return to France; From whence though willingly I came to Denmark, To show my duty in your coronation; <span style=\"color: blue\">Yet now, I must confess</span>, that duty done, My thoughts and wishes bend again toward France, And bow them to your gracious leave and pardon"
      ],
      "text/plain": [
       "<IPython.core.display.Markdown object>"
      ]
     },
     "metadata": {},
     "output_type": "display_data"
    },
    {
     "data": {
      "text/markdown": [
       "### Christ, the Socialist: By the Author of Philip Meyer's Scheme …"
      ],
      "text/plain": [
       "<IPython.core.display.Markdown object>"
      ]
     },
     "metadata": {},
     "output_type": "display_data"
    },
    {
     "data": {
      "text/markdown": [
       "<small>McCowan, Archibald</small>"
      ],
      "text/plain": [
       "<IPython.core.display.Markdown object>"
      ]
     },
     "metadata": {},
     "output_type": "display_data"
    },
    {
     "data": {
      "text/markdown": [
       "consider him a fool.” “ I believe you are right, Mr. Stewart,” said his companion. “ I have often read the story of Moses, <span style=\"color: blue\">yet, I must confess</span>, I never took into consideration the moral courage displayed in giving up his high position. It was certainly a most remarkable act"
      ],
      "text/plain": [
       "<IPython.core.display.Markdown object>"
      ]
     },
     "metadata": {},
     "output_type": "display_data"
    },
    {
     "name": "stdout",
     "output_type": "stream",
     "text": [
      "--------------------------------------------------\n"
     ]
    },
    {
     "data": {
      "text/markdown": [
       "### Hamlet"
      ],
      "text/plain": [
       "<IPython.core.display.Markdown object>"
      ]
     },
     "metadata": {},
     "output_type": "display_data"
    },
    {
     "data": {
      "text/markdown": [
       "Farewell. Oph. O heavenly powers, restore him! Ham. I have heard of your paintings too, well enough; <span style=\"color: blue\">God hath given</span> you one face, and you make yourselves another: you jig, you amble, and you lisp, and nickname God's creatures, and make your wantonness"
      ],
      "text/plain": [
       "<IPython.core.display.Markdown object>"
      ]
     },
     "metadata": {},
     "output_type": "display_data"
    },
    {
     "data": {
      "text/markdown": [
       "### Christ, the Socialist: By the Author of Philip Meyer's Scheme …"
      ],
      "text/plain": [
       "<IPython.core.display.Markdown object>"
      ]
     },
     "metadata": {},
     "output_type": "display_data"
    },
    {
     "data": {
      "text/markdown": [
       "<small>McCowan, Archibald</small>"
      ],
      "text/plain": [
       "<IPython.core.display.Markdown object>"
      ]
     },
     "metadata": {},
     "output_type": "display_data"
    },
    {
     "data": {
      "text/markdown": [
       "Ye fools and blind! to believe for one moment that God can be bribed with blood-money. What can ye give <span style=\"color: blue\">God, which he hath not first given</span> you ? The earth is the Lord’s, and the fullness thereof, therefore, think not to make God your debtor. “ ‘ And ye corporations"
      ],
      "text/plain": [
       "<IPython.core.display.Markdown object>"
      ]
     },
     "metadata": {},
     "output_type": "display_data"
    },
    {
     "name": "stdout",
     "output_type": "stream",
     "text": [
      "--------------------------------------------------\n"
     ]
    },
    {
     "data": {
      "text/markdown": [
       "### Hamlet"
      ],
      "text/plain": [
       "<IPython.core.display.Markdown object>"
      ]
     },
     "metadata": {},
     "output_type": "display_data"
    },
    {
     "data": {
      "text/markdown": [
       "figure Comes armed through our watch; so like the king That was and is the question of these wars. Hor. A mote it is to trouble the <span style=\"color: blue\">mind's eye</span>. In the most high and palmy state of Rome, A little ere the mightiest Julius fell, The graves stood tenantless"
      ],
      "text/plain": [
       "<IPython.core.display.Markdown object>"
      ]
     },
     "metadata": {},
     "output_type": "display_data"
    },
    {
     "data": {
      "text/markdown": [
       "### How It Happened: Being a Story in Three Books and Several Manners: By Josephine Winfield Brake"
      ],
      "text/plain": [
       "<IPython.core.display.Markdown object>"
      ]
     },
     "metadata": {},
     "output_type": "display_data"
    },
    {
     "data": {
      "text/markdown": [
       "<small>Brake, Josephine Winfield</small>"
      ],
      "text/plain": [
       "<IPython.core.display.Markdown object>"
      ]
     },
     "metadata": {},
     "output_type": "display_data"
    },
    {
     "data": {
      "text/markdown": [
       "nest of a place, but trim and dainty and bright as any place could be. How we reveled in the trimness, the brightness, we two wayfarers, who had pictured in our m <span style=\"color: blue\">ind’s eye</span> life in a flat as a dim and airless existence. And then the delight of making the tiny home express ourselves ! No matter"
      ],
      "text/plain": [
       "<IPython.core.display.Markdown object>"
      ]
     },
     "metadata": {},
     "output_type": "display_data"
    },
    {
     "name": "stdout",
     "output_type": "stream",
     "text": [
      "--------------------------------------------------\n"
     ]
    },
    {
     "data": {
      "text/markdown": [
       "### Hamlet"
      ],
      "text/plain": [
       "<IPython.core.display.Markdown object>"
      ]
     },
     "metadata": {},
     "output_type": "display_data"
    },
    {
     "data": {
      "text/markdown": [
       "late Given private time to you; and you yourself Have of your audience been most free and bounteous; If it be so,--as so 'tis put on me, And that in way of caution,--I <span style=\"color: blue\">must tell you You do not understand yourself</span> so clearly As it behooves my daughter and your honour. What is between you? give me up the truth. Oph. He hath, my lord, of late"
      ],
      "text/plain": [
       "<IPython.core.display.Markdown object>"
      ]
     },
     "metadata": {},
     "output_type": "display_data"
    },
    {
     "data": {
      "text/markdown": [
       "### How It Happened: Being a Story in Three Books and Several Manners: By Josephine Winfield Brake"
      ],
      "text/plain": [
       "<IPython.core.display.Markdown object>"
      ]
     },
     "metadata": {},
     "output_type": "display_data"
    },
    {
     "data": {
      "text/markdown": [
       "<small>Brake, Josephine Winfield</small>"
      ],
      "text/plain": [
       "<IPython.core.display.Markdown object>"
      ]
     },
     "metadata": {},
     "output_type": "display_data"
    },
    {
     "data": {
      "text/markdown": [
       "ntelligibly, yet I am calm and quiet now by contrast with what I have been since the day when—but I must not let myself think of that first. Steady, Selene ! You m <span style=\"color: blue\">ust understand that you have only yourself</span> to look to now. That self must be cool, calm, passionless, or you will go under. Now with my nerves tense I will try to say all I to have to say briefly,"
      ],
      "text/plain": [
       "<IPython.core.display.Markdown object>"
      ]
     },
     "metadata": {},
     "output_type": "display_data"
    },
    {
     "name": "stdout",
     "output_type": "stream",
     "text": [
      "--------------------------------------------------\n"
     ]
    },
    {
     "data": {
      "text/markdown": [
       "### Hamlet"
      ],
      "text/plain": [
       "<IPython.core.display.Markdown object>"
      ]
     },
     "metadata": {},
     "output_type": "display_data"
    },
    {
     "data": {
      "text/markdown": [
       "shameful lust The will of my most seeming-virtuous queen: O Hamlet, what a falling-off was there! From me, whose love was of that dignity That it <span style=\"color: blue\">went hand in hand</span> even with the vow I made to her in marriage; and to decline Upon a wretch whose natural gifts were poor To those of mine"
      ],
      "text/plain": [
       "<IPython.core.display.Markdown object>"
      ]
     },
     "metadata": {},
     "output_type": "display_data"
    },
    {
     "data": {
      "text/markdown": [
       "### Men Who Dared: By Byron E. Veatch"
      ],
      "text/plain": [
       "<IPython.core.display.Markdown object>"
      ]
     },
     "metadata": {},
     "output_type": "display_data"
    },
    {
     "data": {
      "text/markdown": [
       "<small>Veatch, Byron Elbert</small>"
      ],
      "text/plain": [
       "<IPython.core.display.Markdown object>"
      ]
     },
     "metadata": {},
     "output_type": "display_data"
    },
    {
     "data": {
      "text/markdown": [
       "oldier, a hero, in her eyes, and soon she loved me. She was too womanly a woman to keep me long in suspense, so within a few weeks we w <span style=\"color: blue\">ent, hand in hand,</span> for the uncle’s blessing. “During the winter health and strength re¬ turned to me, and one glorious"
      ],
      "text/plain": [
       "<IPython.core.display.Markdown object>"
      ]
     },
     "metadata": {},
     "output_type": "display_data"
    },
    {
     "name": "stdout",
     "output_type": "stream",
     "text": [
      "--------------------------------------------------\n"
     ]
    },
    {
     "data": {
      "text/markdown": [
       "### Hamlet"
      ],
      "text/plain": [
       "<IPython.core.display.Markdown object>"
      ]
     },
     "metadata": {},
     "output_type": "display_data"
    },
    {
     "data": {
      "text/markdown": [
       "beast that wants discourse of reason, Would have mourn'd longer,--married with mine uncle, My <span style=\"color: blue\">father's brother</span>; but no more like my father Than I to Hercules: within a month; Ere yet the salt of most unrighteous tears Had left"
      ],
      "text/plain": [
       "<IPython.core.display.Markdown object>"
      ]
     },
     "metadata": {},
     "output_type": "display_data"
    },
    {
     "data": {
      "text/markdown": [
       "### Agnes, or, the Power of Love: A Tale of Missouri, Founded on Fact: By Stephen Stubbs"
      ],
      "text/plain": [
       "<IPython.core.display.Markdown object>"
      ]
     },
     "metadata": {},
     "output_type": "display_data"
    },
    {
     "data": {
      "text/markdown": [
       "<small>Stubbs, Stephen</small>"
      ],
      "text/plain": [
       "<IPython.core.display.Markdown object>"
      ]
     },
     "metadata": {},
     "output_type": "display_data"
    },
    {
     "data": {
      "text/markdown": [
       "thus.’ 'At'?,' ‘ Your uncle!’ exclaimed Frank in surprise; tell me Agnes, is this landlord your uncle.’ ‘ He is.’ t # 1 1 iiv · ‘ Was he your <span style=\"color: blue\">father’s brother</span>, or your mother’s. t < · > -; 1 He wag the only brother of my affectionate father; my mother died when I was seven"
      ],
      "text/plain": [
       "<IPython.core.display.Markdown object>"
      ]
     },
     "metadata": {},
     "output_type": "display_data"
    },
    {
     "name": "stdout",
     "output_type": "stream",
     "text": [
      "--------------------------------------------------\n"
     ]
    },
    {
     "data": {
      "text/markdown": [
       "### Hamlet"
      ],
      "text/plain": [
       "<IPython.core.display.Markdown object>"
      ]
     },
     "metadata": {},
     "output_type": "display_data"
    },
    {
     "data": {
      "text/markdown": [
       "Polonius, Laertes, Voltimand, Cornelius, Lords, and Attendant.] King. Though yet of Hamlet our <span style=\"color: blue\">dear brother's</span> death The memory be green, and that it us befitted To bear our hearts in grief, and our whole kingdom To be contracted"
      ],
      "text/plain": [
       "<IPython.core.display.Markdown object>"
      ]
     },
     "metadata": {},
     "output_type": "display_data"
    },
    {
     "data": {
      "text/markdown": [
       "### A Friend to the Widow: By Maja Spencer …"
      ],
      "text/plain": [
       "<IPython.core.display.Markdown object>"
      ]
     },
     "metadata": {},
     "output_type": "display_data"
    },
    {
     "data": {
      "text/markdown": [
       "<small>Spencer, George E., Mrs.</small>"
      ],
      "text/plain": [
       "<IPython.core.display.Markdown object>"
      ]
     },
     "metadata": {},
     "output_type": "display_data"
    },
    {
     "data": {
      "text/markdown": [
       "s, seemed with her ample proportions, to hide him from Mrs. Belling, as she said, “Mr. Hugh Strathley, my <span style=\"color: blue\">dear brother’s</span> best friend,” and pressed to her eyes a deeply black bordered hand¬ kerchief. “ Her brother’s"
      ],
      "text/plain": [
       "<IPython.core.display.Markdown object>"
      ]
     },
     "metadata": {},
     "output_type": "display_data"
    },
    {
     "name": "stdout",
     "output_type": "stream",
     "text": [
      "--------------------------------------------------\n"
     ]
    },
    {
     "data": {
      "text/markdown": [
       "### Hamlet"
      ],
      "text/plain": [
       "<IPython.core.display.Markdown object>"
      ]
     },
     "metadata": {},
     "output_type": "display_data"
    },
    {
     "data": {
      "text/markdown": [
       "Ay, that they do, my lord; Hercules and his load too. Ham. It is not very strange; for my uncle is king of Denmark, and those that would make mouths at him <span style=\"color: blue\">while my father lived</span>, give twenty, forty, fifty, a hundred ducats a-piece for his picture in little. 'Sblood, there is something in this more than natural, if philosophy"
      ],
      "text/plain": [
       "<IPython.core.display.Markdown object>"
      ]
     },
     "metadata": {},
     "output_type": "display_data"
    },
    {
     "data": {
      "text/markdown": [
       "### The Pomfret Mystery: A Novel of Incident: By Arthur Dudley Vinton"
      ],
      "text/plain": [
       "<IPython.core.display.Markdown object>"
      ]
     },
     "metadata": {},
     "output_type": "display_data"
    },
    {
     "data": {
      "text/markdown": [
       "<small>Vinton, Arthur Dudley</small>"
      ],
      "text/plain": [
       "<IPython.core.display.Markdown object>"
      ]
     },
     "metadata": {},
     "output_type": "display_data"
    },
    {
     "data": {
      "text/markdown": [
       "er was surprised at his knowledge of book-keeping—he answered that he had been a year in a banker’s office in London whil <span style=\"color: blue\">e his father lived the</span> re. He was a natural mechanic, a fine, delicate workman, but he explained that he had ever had a hobby for mechanics; and beyond his physical and"
      ],
      "text/plain": [
       "<IPython.core.display.Markdown object>"
      ]
     },
     "metadata": {},
     "output_type": "display_data"
    },
    {
     "name": "stdout",
     "output_type": "stream",
     "text": [
      "--------------------------------------------------\n"
     ]
    },
    {
     "data": {
      "text/markdown": [
       "### Hamlet"
      ],
      "text/plain": [
       "<IPython.core.display.Markdown object>"
      ]
     },
     "metadata": {},
     "output_type": "display_data"
    },
    {
     "data": {
      "text/markdown": [
       "Farewell. Oph. O heavenly powers, restore him! Ham. I have heard of your paintings too, well enough; <span style=\"color: blue\">God hath given</span> you one face, and you make yourselves another: you jig, you amble, and you lisp, and nickname God's creatures, and make your wantonness"
      ],
      "text/plain": [
       "<IPython.core.display.Markdown object>"
      ]
     },
     "metadata": {},
     "output_type": "display_data"
    },
    {
     "data": {
      "text/markdown": [
       "### The Pomfret Mystery: A Novel of Incident: By Arthur Dudley Vinton"
      ],
      "text/plain": [
       "<IPython.core.display.Markdown object>"
      ]
     },
     "metadata": {},
     "output_type": "display_data"
    },
    {
     "data": {
      "text/markdown": [
       "<small>Vinton, Arthur Dudley</small>"
      ],
      "text/plain": [
       "<IPython.core.display.Markdown object>"
      ]
     },
     "metadata": {},
     "output_type": "display_data"
    },
    {
     "data": {
      "text/markdown": [
       "n hers, and said in a low voice, full of pity and tenderness, “ Hear me ! Look at me, Geoffrey ! This is no dream. God ha <span style=\"color: blue\">th given us ag</span> ain to each other. It is His Christmas gift. I was not blameless—it was my pride —my senseless anger—that drove you away. I also must beg for f"
      ],
      "text/plain": [
       "<IPython.core.display.Markdown object>"
      ]
     },
     "metadata": {},
     "output_type": "display_data"
    },
    {
     "name": "stdout",
     "output_type": "stream",
     "text": [
      "--------------------------------------------------\n"
     ]
    },
    {
     "data": {
      "text/markdown": [
       "### Hamlet"
      ],
      "text/plain": [
       "<IPython.core.display.Markdown object>"
      ]
     },
     "metadata": {},
     "output_type": "display_data"
    },
    {
     "data": {
      "text/markdown": [
       "Hor. No, by no means. Ham. It will not speak; then will I follow it. Hor. Do not, my lord. Ham. Why, what should be the fear? I do not set my life at a <span style=\"color: blue\">pin's fee</span>; And for my soul, what can it do to that, Being a thing immortal as itself? It waves me forth again;--I'll follow it. Hor. What if it tempt you toward"
      ],
      "text/plain": [
       "<IPython.core.display.Markdown object>"
      ]
     },
     "metadata": {},
     "output_type": "display_data"
    },
    {
     "data": {
      "text/markdown": [
       "### Abeniki Caldwell: A Burlesque Historical Novel: By Carolyn Wells; Illustrated with Numerous Engravings Printed from the Original Wood Blocks"
      ],
      "text/plain": [
       "<IPython.core.display.Markdown object>"
      ]
     },
     "metadata": {},
     "output_type": "display_data"
    },
    {
     "data": {
      "text/markdown": [
       "<small>Wells, Carolyn</small>"
      ],
      "text/plain": [
       "<IPython.core.display.Markdown object>"
      ]
     },
     "metadata": {},
     "output_type": "display_data"
    },
    {
     "data": {
      "text/markdown": [
       "s, which is, being interpreted, a mortgaged article.” “Ha!” cried I, “thou pratest right lustily, and yet, for a pin s <span style=\"color: blue\">fee, wou</span> ld I sheathe my jave¬ lin in thy lack-wit lungs.” [ 146 ] “ Hey-day, He returned immediately , an"
      ],
      "text/plain": [
       "<IPython.core.display.Markdown object>"
      ]
     },
     "metadata": {},
     "output_type": "display_data"
    },
    {
     "name": "stdout",
     "output_type": "stream",
     "text": [
      "--------------------------------------------------\n"
     ]
    },
    {
     "data": {
      "text/markdown": [
       "### Hamlet"
      ],
      "text/plain": [
       "<IPython.core.display.Markdown object>"
      ]
     },
     "metadata": {},
     "output_type": "display_data"
    },
    {
     "data": {
      "text/markdown": [
       "stir without great argument, But greatly to find quarrel in a straw When honour's at the stake. How stand I, then, That have a <span style=\"color: blue\">father kill'd</span>, a mother stain'd, Excitements of my reason and my blood, And let all sleep? while, to my shame, I see The imminent"
      ],
      "text/plain": [
       "<IPython.core.display.Markdown object>"
      ]
     },
     "metadata": {},
     "output_type": "display_data"
    },
    {
     "data": {
      "text/markdown": [
       "### The Puddleford Papers, or, Humors of the West: By H. H. Riley; with Original Illustrations"
      ],
      "text/plain": [
       "<IPython.core.display.Markdown object>"
      ]
     },
     "metadata": {},
     "output_type": "display_data"
    },
    {
     "data": {
      "text/markdown": [
       "<small>Riley, Henry Hiram</small>"
      ],
      "text/plain": [
       "<IPython.core.display.Markdown object>"
      ]
     },
     "metadata": {},
     "output_type": "display_data"
    },
    {
     "data": {
      "text/markdown": [
       "othin but a woman, nuther. She like’d to gone off with the measles, when she was a child, and had been punny-like ever since ; her fat <span style=\"color: blue\">her was kill’d by</span> an oak tree ’fore she could do anything for herself, down on the Catta-ra-gus, leaving a pile of"
      ],
      "text/plain": [
       "<IPython.core.display.Markdown object>"
      ]
     },
     "metadata": {},
     "output_type": "display_data"
    },
    {
     "name": "stdout",
     "output_type": "stream",
     "text": [
      "--------------------------------------------------\n"
     ]
    },
    {
     "data": {
      "text/markdown": [
       "### Hamlet"
      ],
      "text/plain": [
       "<IPython.core.display.Markdown object>"
      ]
     },
     "metadata": {},
     "output_type": "display_data"
    },
    {
     "data": {
      "text/markdown": [
       "God, your voice, like a piece of uncurrent gold, be not cracked within the ring.--Masters, you are all welcome. We' <span style=\"color: blue\">ll e'en</span> to't like French falconers, fly at anything we see: we'll have a speech straight: come, give us a taste of your quality"
      ],
      "text/plain": [
       "<IPython.core.display.Markdown object>"
      ]
     },
     "metadata": {},
     "output_type": "display_data"
    },
    {
     "data": {
      "text/markdown": [
       "### The Cadet Button: A Novel of American Army Life: By Frederick Whittaker"
      ],
      "text/plain": [
       "<IPython.core.display.Markdown object>"
      ]
     },
     "metadata": {},
     "output_type": "display_data"
    },
    {
     "data": {
      "text/markdown": [
       "<small>Whittaker, Frederick</small>"
      ],
      "text/plain": [
       "<IPython.core.display.Markdown object>"
      ]
     },
     "metadata": {},
     "output_type": "display_data"
    },
    {
     "data": {
      "text/markdown": [
       "attend to my honor. Leave my arm.” “My father’s son will do no such thing,” said Evan Roy composedly. “ She’ <span style=\"color: blue\">ll e’en</span> walk with ye.” And the short man wound his arm into that of his taller companion, and accompanied him, somewhat against"
      ],
      "text/plain": [
       "<IPython.core.display.Markdown object>"
      ]
     },
     "metadata": {},
     "output_type": "display_data"
    },
    {
     "name": "stdout",
     "output_type": "stream",
     "text": [
      "--------------------------------------------------\n"
     ]
    },
    {
     "data": {
      "text/markdown": [
       "### Hamlet"
      ],
      "text/plain": [
       "<IPython.core.display.Markdown object>"
      ]
     },
     "metadata": {},
     "output_type": "display_data"
    },
    {
     "data": {
      "text/markdown": [
       "stain'd, Excitements of my reason and my blood, And let all sleep? while, to my shame, I see The imminent death of <span style=\"color: blue\">twenty thousand men</span> That, for a fantasy and trick of fame, Go to their graves like beds; fight for a plot Whereon the numbers cannot"
      ],
      "text/plain": [
       "<IPython.core.display.Markdown object>"
      ]
     },
     "metadata": {},
     "output_type": "display_data"
    },
    {
     "data": {
      "text/markdown": [
       "### The Little Lady of Lagunitas: A Franco-Californian Romance: By Richard Henry Savage …"
      ],
      "text/plain": [
       "<IPython.core.display.Markdown object>"
      ]
     },
     "metadata": {},
     "output_type": "display_data"
    },
    {
     "data": {
      "text/markdown": [
       "<small>Savage, Richard Henry</small>"
      ],
      "text/plain": [
       "<IPython.core.display.Markdown object>"
      ]
     },
     "metadata": {},
     "output_type": "display_data"
    },
    {
     "data": {
      "text/markdown": [
       "esident there is no barrier of old which has not been burned away in the fever of personal freedom and the flood of gold. A motley mass of t <span style=\"color: blue\">wenty thousand men</span> and women daily augments. They are all of full capac¬ ity for good and evil. They are bound by no com¬ mon"
      ],
      "text/plain": [
       "<IPython.core.display.Markdown object>"
      ]
     },
     "metadata": {},
     "output_type": "display_data"
    },
    {
     "name": "stdout",
     "output_type": "stream",
     "text": [
      "--------------------------------------------------\n"
     ]
    },
    {
     "data": {
      "text/markdown": [
       "### Hamlet"
      ],
      "text/plain": [
       "<IPython.core.display.Markdown object>"
      ]
     },
     "metadata": {},
     "output_type": "display_data"
    },
    {
     "data": {
      "text/markdown": [
       "days of nature Are burnt and purg'd away. But that I am forbid To tell the secrets of my prison-house, I could a tale unfold <span style=\"color: blue\">whose lightest word</span> Would harrow up thy soul; freeze thy young blood; Make thy two eyes, like stars"
      ],
      "text/plain": [
       "<IPython.core.display.Markdown object>"
      ]
     },
     "metadata": {},
     "output_type": "display_data"
    },
    {
     "data": {
      "text/markdown": [
       "### Fenella: A Novel: By Henry Longan Stuart"
      ],
      "text/plain": [
       "<IPython.core.display.Markdown object>"
      ]
     },
     "metadata": {},
     "output_type": "display_data"
    },
    {
     "data": {
      "text/markdown": [
       "<small>Stuart, Henry Longan</small>"
      ],
      "text/plain": [
       "<IPython.core.display.Markdown object>"
      ]
     },
     "metadata": {},
     "output_type": "display_data"
    },
    {
     "data": {
      "text/markdown": [
       "already invested with something of her perilous state. A nurse in a blue linen dress and goffered cap, <span style=\"color: blue\">whose lightest word</span> was law, moved softly up and down stairs in felt ward slippers, carrying various mysterious"
      ],
      "text/plain": [
       "<IPython.core.display.Markdown object>"
      ]
     },
     "metadata": {},
     "output_type": "display_data"
    },
    {
     "name": "stdout",
     "output_type": "stream",
     "text": [
      "--------------------------------------------------\n"
     ]
    },
    {
     "data": {
      "text/markdown": [
       "### Hamlet"
      ],
      "text/plain": [
       "<IPython.core.display.Markdown object>"
      ]
     },
     "metadata": {},
     "output_type": "display_data"
    },
    {
     "data": {
      "text/markdown": [
       "joint:--O cursed spite, That ever I was born to set it right!-- Nay, come, let's go together. [Exeunt.] <span style=\"color: blue\">Act II. Scene</span> I. A room in Polonius's house. [Enter Polonius and Reynaldo.] Pol. Give him this money and these notes, Reynaldo"
      ],
      "text/plain": [
       "<IPython.core.display.Markdown object>"
      ]
     },
     "metadata": {},
     "output_type": "display_data"
    },
    {
     "data": {
      "text/markdown": [
       "### Fenella: A Novel: By Henry Longan Stuart"
      ],
      "text/plain": [
       "<IPython.core.display.Markdown object>"
      ]
     },
     "metadata": {},
     "output_type": "display_data"
    },
    {
     "data": {
      "text/markdown": [
       "<small>Stuart, Henry Longan</small>"
      ],
      "text/plain": [
       "<IPython.core.display.Markdown object>"
      ]
     },
     "metadata": {},
     "output_type": "display_data"
    },
    {
     "data": {
      "text/markdown": [
       "hip pocket-Hello ! Where did this come from?” He was holding Ingram’s strange present in his hand. “Of course. Another property. ‘ <span style=\"color: blue\">Act ii., scene</span>2: The lair of the wicked baronet.’ Do you want it back? No, I won’t, though,” snatching it back as she reached for it. “Guns are for people who know how to let them off.” He made a movement"
      ],
      "text/plain": [
       "<IPython.core.display.Markdown object>"
      ]
     },
     "metadata": {},
     "output_type": "display_data"
    },
    {
     "name": "stdout",
     "output_type": "stream",
     "text": [
      "--------------------------------------------------\n"
     ]
    },
    {
     "data": {
      "text/markdown": [
       "### Hamlet"
      ],
      "text/plain": [
       "<IPython.core.display.Markdown object>"
      ]
     },
     "metadata": {},
     "output_type": "display_data"
    },
    {
     "data": {
      "text/markdown": [
       "figure Comes armed through our watch; so like the king That was and is the question of these wars. Hor. A mote it is to trouble the <span style=\"color: blue\">mind's eye</span>. In the most high and palmy state of Rome, A little ere the mightiest Julius fell, The graves stood tenantless"
      ],
      "text/plain": [
       "<IPython.core.display.Markdown object>"
      ]
     },
     "metadata": {},
     "output_type": "display_data"
    },
    {
     "data": {
      "text/markdown": [
       "### Ethel Somers, or, the Fate of the Union: By a Southerner"
      ],
      "text/plain": [
       "<IPython.core.display.Markdown object>"
      ]
     },
     "metadata": {},
     "output_type": "display_data"
    },
    {
     "data": {
      "text/markdown": [
       "<small>Smythe, James M.</small>"
      ],
      "text/plain": [
       "<IPython.core.display.Markdown object>"
      ]
     },
     "metadata": {},
     "output_type": "display_data"
    },
    {
     "data": {
      "text/markdown": [
       "id his father without deceiv¬ ing Miss Raymond. His composure was made the more steady by having in his m <span style=\"color: blue\">ind’s eye</span> the image of just such a vain, worldly-minded, and artificial crea¬ ture as his imagination had pictured, who was even more wealthy"
      ],
      "text/plain": [
       "<IPython.core.display.Markdown object>"
      ]
     },
     "metadata": {},
     "output_type": "display_data"
    },
    {
     "name": "stdout",
     "output_type": "stream",
     "text": [
      "--------------------------------------------------\n"
     ]
    },
    {
     "data": {
      "text/markdown": [
       "### Hamlet"
      ],
      "text/plain": [
       "<IPython.core.display.Markdown object>"
      ]
     },
     "metadata": {},
     "output_type": "display_data"
    },
    {
     "data": {
      "text/markdown": [
       "close; give her good watch, I pray you. [Exit Horatio.] O, this is the poison of deep grief; it springs All from her <span style=\"color: blue\">father's death</span>. O Gertrude, Gertrude, When sorrows come, they come not single spies, But in battalions! First, her father slain: Next, your son"
      ],
      "text/plain": [
       "<IPython.core.display.Markdown object>"
      ]
     },
     "metadata": {},
     "output_type": "display_data"
    },
    {
     "data": {
      "text/markdown": [
       "### Ethel Somers, or, the Fate of the Union: By a Southerner"
      ],
      "text/plain": [
       "<IPython.core.display.Markdown object>"
      ]
     },
     "metadata": {},
     "output_type": "display_data"
    },
    {
     "data": {
      "text/markdown": [
       "<small>Smythe, James M.</small>"
      ],
      "text/plain": [
       "<IPython.core.display.Markdown object>"
      ]
     },
     "metadata": {},
     "output_type": "display_data"
    },
    {
     "data": {
      "text/markdown": [
       "mutable, eternal. But she was gone. Those children were motherless and fatherless. The younger (Howard) wife taken, after his fa <span style=\"color: blue\">ther’s death,</span> into the family of an acquaintance, who acted as his guardian. “ But to return to Thomas. It is à sad occurrence for children, even though p"
      ],
      "text/plain": [
       "<IPython.core.display.Markdown object>"
      ]
     },
     "metadata": {},
     "output_type": "display_data"
    },
    {
     "name": "stdout",
     "output_type": "stream",
     "text": [
      "--------------------------------------------------\n"
     ]
    },
    {
     "data": {
      "text/markdown": [
       "### Hamlet"
      ],
      "text/plain": [
       "<IPython.core.display.Markdown object>"
      ]
     },
     "metadata": {},
     "output_type": "display_data"
    },
    {
     "data": {
      "text/markdown": [
       "pipe? Call me what instrument you will, though you can fret me, you cannot play upon me. [Enter Polonius.] <span style=\"color: blue\">God bless you, sir</span>! Pol. My lord, the queen would speak with you, and presently. Ham. Do you see yonder cloud that's almost"
      ],
      "text/plain": [
       "<IPython.core.display.Markdown object>"
      ]
     },
     "metadata": {},
     "output_type": "display_data"
    },
    {
     "data": {
      "text/markdown": [
       "### Self-Made, or, Living for Those We Love: By Mrs. E. A. Welty …"
      ],
      "text/plain": [
       "<IPython.core.display.Markdown object>"
      ]
     },
     "metadata": {},
     "output_type": "display_data"
    },
    {
     "data": {
      "text/markdown": [
       "<small>Welty, E. A., Mrs.</small>"
      ],
      "text/plain": [
       "<IPython.core.display.Markdown object>"
      ]
     },
     "metadata": {},
     "output_type": "display_data"
    },
    {
     "data": {
      "text/markdown": [
       "other with such good friends will be my chief source of happiness during my long absence, and the trials that may overtake me,” were his last words to them. “ G <span style=\"color: blue\">od bless you, sir.</span>” “ God bless you.” “Very little could Mark say to comfort his mother; indeed,” said dear aunt Bessie, tearfully,"
      ],
      "text/plain": [
       "<IPython.core.display.Markdown object>"
      ]
     },
     "metadata": {},
     "output_type": "display_data"
    },
    {
     "name": "stdout",
     "output_type": "stream",
     "text": [
      "--------------------------------------------------\n"
     ]
    },
    {
     "data": {
      "text/markdown": [
       "### Hamlet"
      ],
      "text/plain": [
       "<IPython.core.display.Markdown object>"
      ]
     },
     "metadata": {},
     "output_type": "display_data"
    },
    {
     "data": {
      "text/markdown": [
       "leads the will to desperate undertakings, As oft as any passion under heaven That does afflict our natures. I am sorry,-- What, have you <span style=\"color: blue\">given him any hard words</span> of late? Oph. No, my good lord; but, as you did command, I did repel his letters and denied His access to me. Pol. That hath"
      ],
      "text/plain": [
       "<IPython.core.display.Markdown object>"
      ]
     },
     "metadata": {},
     "output_type": "display_data"
    },
    {
     "data": {
      "text/markdown": [
       "### Put to the Test: A Novel: Charles Chamberlain"
      ],
      "text/plain": [
       "<IPython.core.display.Markdown object>"
      ]
     },
     "metadata": {},
     "output_type": "display_data"
    },
    {
     "data": {
      "text/markdown": [
       "<small>Chamberlain, Charles</small>"
      ],
      "text/plain": [
       "<IPython.core.display.Markdown object>"
      ]
     },
     "metadata": {},
     "output_type": "display_data"
    },
    {
     "data": {
      "text/markdown": [
       "uctantly and with a strong feeling of pity for the boy—and each cor¬ roborated the other as to the fact that Duprez had giv <span style=\"color: blue\">en hard words to</span> the lad only an hour before his death. “ It must have been the boy that killed him ! ” shouted one of the wood-cutters—“there was an old grudge be"
      ],
      "text/plain": [
       "<IPython.core.display.Markdown object>"
      ]
     },
     "metadata": {},
     "output_type": "display_data"
    },
    {
     "name": "stdout",
     "output_type": "stream",
     "text": [
      "--------------------------------------------------\n"
     ]
    },
    {
     "data": {
      "text/markdown": [
       "### Hamlet"
      ],
      "text/plain": [
       "<IPython.core.display.Markdown object>"
      ]
     },
     "metadata": {},
     "output_type": "display_data"
    },
    {
     "data": {
      "text/markdown": [
       "pray you avoid it. I Player. I warrant your honour. Ham. Be not too tame neither; but let your own discretion be your tutor: <span style=\"color: blue\">suit the action to the word</span>, the word to the action; with this special observance, that you o'erstep not the modesty of nature: for anything so overdone"
      ],
      "text/plain": [
       "<IPython.core.display.Markdown object>"
      ]
     },
     "metadata": {},
     "output_type": "display_data"
    },
    {
     "data": {
      "text/markdown": [
       "### The Metropolis: By Upton Sinclair"
      ],
      "text/plain": [
       "<IPython.core.display.Markdown object>"
      ]
     },
     "metadata": {},
     "output_type": "display_data"
    },
    {
     "data": {
      "text/markdown": [
       "<small>Sinclair, Upton</small>"
      ],
      "text/plain": [
       "<IPython.core.display.Markdown object>"
      ]
     },
     "metadata": {},
     "output_type": "display_data"
    },
    {
     "data": {
      "text/markdown": [
       "blue for half a mile around his place ! I must send him a wire and explain that it was a mistake, and that we’re getting out of it.” And he got up, to <span style=\"color: blue\">suit the action to the word</span>. But halfway to the desk he heard his brother say, “Wait.” He turned, and saw Montague, quite pale"
      ],
      "text/plain": [
       "<IPython.core.display.Markdown object>"
      ]
     },
     "metadata": {},
     "output_type": "display_data"
    },
    {
     "name": "stdout",
     "output_type": "stream",
     "text": [
      "--------------------------------------------------\n"
     ]
    },
    {
     "data": {
      "text/markdown": [
       "### Hamlet"
      ],
      "text/plain": [
       "<IPython.core.display.Markdown object>"
      ]
     },
     "metadata": {},
     "output_type": "display_data"
    },
    {
     "data": {
      "text/markdown": [
       "age his sables and his weeds, Importing health and graveness.--Two months since, Here was a gentleman of Normandy,-- I' <span style=\"color: blue\">ve seen myself</span>, and serv'd against, the French, And they can well on horseback: but this gallant Had witchcraft in't: he grew unto"
      ],
      "text/plain": [
       "<IPython.core.display.Markdown object>"
      ]
     },
     "metadata": {},
     "output_type": "display_data"
    },
    {
     "data": {
      "text/markdown": [
       "### Cross Trails: The Story of One Woman in the North Woods: By Herman Whitaker; Illustrated"
      ],
      "text/plain": [
       "<IPython.core.display.Markdown object>"
      ]
     },
     "metadata": {},
     "output_type": "display_data"
    },
    {
     "data": {
      "text/markdown": [
       "<small>Whitaker, Herman</small>"
      ],
      "text/plain": [
       "<IPython.core.display.Markdown object>"
      ]
     },
     "metadata": {},
     "output_type": "display_data"
    },
    {
     "data": {
      "text/markdown": [
       "race arrives at the point where they are not, there won’t be virility enough left for it to reproduce itself. He said another thing that I’ <span style=\"color: blue\">ve seen for myself</span>—that sooner or later the average of men sow a wild crop. If they don’t scatter"
      ],
      "text/plain": [
       "<IPython.core.display.Markdown object>"
      ]
     },
     "metadata": {},
     "output_type": "display_data"
    },
    {
     "name": "stdout",
     "output_type": "stream",
     "text": [
      "--------------------------------------------------\n"
     ]
    },
    {
     "data": {
      "text/markdown": [
       "### Hamlet"
      ],
      "text/plain": [
       "<IPython.core.display.Markdown object>"
      ]
     },
     "metadata": {},
     "output_type": "display_data"
    },
    {
     "data": {
      "text/markdown": [
       "dreamt of in your philosophy. But come;-- Here, as before, never, so help you mercy, How strange or odd soe'er I bear myself,-- As I, perchance, <span style=\"color: blue\">hereafter shall think meet</span> To put an antic disposition on,-- That you, at such times seeing me, never shall, With arms encumber'd thus"
      ],
      "text/plain": [
       "<IPython.core.display.Markdown object>"
      ]
     },
     "metadata": {},
     "output_type": "display_data"
    },
    {
     "data": {
      "text/markdown": [
       "### Daughters of the Revolution: By Stephen Henry Thayer"
      ],
      "text/plain": [
       "<IPython.core.display.Markdown object>"
      ]
     },
     "metadata": {},
     "output_type": "display_data"
    },
    {
     "data": {
      "text/markdown": [
       "<small>Thayer, Stephen Henry</small>"
      ],
      "text/plain": [
       "<IPython.core.display.Markdown object>"
      ]
     },
     "metadata": {},
     "output_type": "display_data"
    },
    {
     "data": {
      "text/markdown": [
       "serve, and give my heart the perfect freedom of sweet, unrestrained confidings. L?tusboth have faith that if not here, then he <span style=\"color: blue\">reafter, we shall meet,</span> and be inseparable forevermore; for God will bless such love in time or in eternity, whichever it may be; will He not, my beloved?” As she read over and over again this sad, yet c"
      ],
      "text/plain": [
       "<IPython.core.display.Markdown object>"
      ]
     },
     "metadata": {},
     "output_type": "display_data"
    },
    {
     "name": "stdout",
     "output_type": "stream",
     "text": [
      "--------------------------------------------------\n"
     ]
    },
    {
     "data": {
      "text/markdown": [
       "### Hamlet"
      ],
      "text/plain": [
       "<IPython.core.display.Markdown object>"
      ]
     },
     "metadata": {},
     "output_type": "display_data"
    },
    {
     "data": {
      "text/markdown": [
       "stain'd, Excitements of my reason and my blood, And let all sleep? while, to my shame, I see The imminent death of <span style=\"color: blue\">twenty thousand men</span> That, for a fantasy and trick of fame, Go to their graves like beds; fight for a plot Whereon the numbers cannot"
      ],
      "text/plain": [
       "<IPython.core.display.Markdown object>"
      ]
     },
     "metadata": {},
     "output_type": "display_data"
    },
    {
     "data": {
      "text/markdown": [
       "### The O'Mahony, Chief of the Comeraghs: A Tale of the Rebellion of '98: By D. P. Conyngham …"
      ],
      "text/plain": [
       "<IPython.core.display.Markdown object>"
      ]
     },
     "metadata": {},
     "output_type": "display_data"
    },
    {
     "data": {
      "text/markdown": [
       "<small>Conyngham, David Power</small>"
      ],
      "text/plain": [
       "<IPython.core.display.Markdown object>"
      ]
     },
     "metadata": {},
     "output_type": "display_data"
    },
    {
     "data": {
      "text/markdown": [
       "anizing Mid drilling the peasantry. At the battle of Ballinamuck, when Humbert was attacked by a force of nearly twe <span style=\"color: blue\">nty thousand men un</span>¬ der command of the viceroy, Earl Cornwallis, two bodies of the Irish contingents were commanded by"
      ],
      "text/plain": [
       "<IPython.core.display.Markdown object>"
      ]
     },
     "metadata": {},
     "output_type": "display_data"
    },
    {
     "name": "stdout",
     "output_type": "stream",
     "text": [
      "--------------------------------------------------\n"
     ]
    },
    {
     "data": {
      "text/markdown": [
       "### Hamlet"
      ],
      "text/plain": [
       "<IPython.core.display.Markdown object>"
      ]
     },
     "metadata": {},
     "output_type": "display_data"
    },
    {
     "data": {
      "text/markdown": [
       "shameful lust The will of my most seeming-virtuous queen: O Hamlet, what a falling-off was there! From me, whose love was of that dignity That it <span style=\"color: blue\">went hand in hand</span> even with the vow I made to her in marriage; and to decline Upon a wretch whose natural gifts were poor To those of mine"
      ],
      "text/plain": [
       "<IPython.core.display.Markdown object>"
      ]
     },
     "metadata": {},
     "output_type": "display_data"
    },
    {
     "data": {
      "text/markdown": [
       "### Reminiscences: By Cornelia Speake"
      ],
      "text/plain": [
       "<IPython.core.display.Markdown object>"
      ]
     },
     "metadata": {},
     "output_type": "display_data"
    },
    {
     "data": {
      "text/markdown": [
       "<small>Speake, Cornelia</small>"
      ],
      "text/plain": [
       "<IPython.core.display.Markdown object>"
      ]
     },
     "metadata": {},
     "output_type": "display_data"
    },
    {
     "data": {
      "text/markdown": [
       "sore, in her sympathy for the poor wives and little, helpless children. Tragedy and comedy, as is often the case, <span style=\"color: blue\">went hand in hand</span> about the 112 town. One woman, plead with Mrs. Mortimer, to use her influence with “the boss” to get her “man” back to work ; that her baby had been ill for weeks"
      ],
      "text/plain": [
       "<IPython.core.display.Markdown object>"
      ]
     },
     "metadata": {},
     "output_type": "display_data"
    },
    {
     "name": "stdout",
     "output_type": "stream",
     "text": [
      "--------------------------------------------------\n"
     ]
    },
    {
     "data": {
      "text/markdown": [
       "### Hamlet"
      ],
      "text/plain": [
       "<IPython.core.display.Markdown object>"
      ]
     },
     "metadata": {},
     "output_type": "display_data"
    },
    {
     "data": {
      "text/markdown": [
       "resolve itself into a dew! Or that the Everlasting had not fix'd His canon 'gainst self-slaughter! <span style=\"color: blue\">O God! O</span> God! How weary, stale, flat, and unprofitable Seem to me all the uses of this world! Fie on't! O"
      ],
      "text/plain": [
       "<IPython.core.display.Markdown object>"
      ]
     },
     "metadata": {},
     "output_type": "display_data"
    },
    {
     "data": {
      "text/markdown": [
       "### The Hallam Succession: A Tale of Methodist Life in Two Countries: By Amelia E. Barr"
      ],
      "text/plain": [
       "<IPython.core.display.Markdown object>"
      ]
     },
     "metadata": {},
     "output_type": "display_data"
    },
    {
     "data": {
      "text/markdown": [
       "<small>Barr, Amelia E.</small>"
      ],
      "text/plain": [
       "<IPython.core.display.Markdown object>"
      ]
     },
     "metadata": {},
     "output_type": "display_data"
    },
    {
     "data": {
      "text/markdown": [
       "took her hand. “ Well I nivver I But Pm fain and glad! And as for trouble, I’ll not fear it. Why should I, wi’ ť love <span style=\"color: blue\">o’ God and ť love o</span>’ man to help me ? ” “ When did it happen, Martha? ” “ Last night, Miss Hallam. My Ben and Jonathan Clough wem’t"
      ],
      "text/plain": [
       "<IPython.core.display.Markdown object>"
      ]
     },
     "metadata": {},
     "output_type": "display_data"
    },
    {
     "name": "stdout",
     "output_type": "stream",
     "text": [
      "--------------------------------------------------\n"
     ]
    },
    {
     "data": {
      "text/markdown": [
       "### Hamlet"
      ],
      "text/plain": [
       "<IPython.core.display.Markdown object>"
      ]
     },
     "metadata": {},
     "output_type": "display_data"
    },
    {
     "data": {
      "text/markdown": [
       "speech straight: come, give us a taste of your quality: come, a passionate speech. I Play. What speech, my lord? Ham. I <span style=\"color: blue\">heard thee speak</span> me a speech once,--but it was never acted; or if it was, not above once; for the play, I remember, pleased not the million, 'twas"
      ],
      "text/plain": [
       "<IPython.core.display.Markdown object>"
      ]
     },
     "metadata": {},
     "output_type": "display_data"
    },
    {
     "data": {
      "text/markdown": [
       "### The Hallam Succession: A Tale of Methodist Life in Two Countries: By Amelia E. Barr"
      ],
      "text/plain": [
       "<IPython.core.display.Markdown object>"
      ]
     },
     "metadata": {},
     "output_type": "display_data"
    },
    {
     "data": {
      "text/markdown": [
       "<small>Barr, Amelia E.</small>"
      ],
      "text/plain": [
       "<IPython.core.display.Markdown object>"
      ]
     },
     "metadata": {},
     "output_type": "display_data"
    },
    {
     "data": {
      "text/markdown": [
       "rust me, uncle.” “ I do. That’s a’ that is to be said between thee and me. It’s a bit o’ comfort to hev h <span style=\"color: blue\">eard thee speak</span> out so straightfor’ard. God bless thee, nephew Richard ! ” He brightened up considerably the week"
      ],
      "text/plain": [
       "<IPython.core.display.Markdown object>"
      ]
     },
     "metadata": {},
     "output_type": "display_data"
    },
    {
     "name": "stdout",
     "output_type": "stream",
     "text": [
      "--------------------------------------------------\n"
     ]
    },
    {
     "data": {
      "text/markdown": [
       "### Hamlet"
      ],
      "text/plain": [
       "<IPython.core.display.Markdown object>"
      ]
     },
     "metadata": {},
     "output_type": "display_data"
    },
    {
     "data": {
      "text/markdown": [
       "sword, indeed. Ghost. [Beneath.] Swear. Ham. Ha, ha boy! say'st <span style=\"color: blue\">thou so? art thou</span> there, truepenny?-- Come on!--you hear this fellow in the cellarage,-- Consent to swear. Hor. Propose the oath, my lord"
      ],
      "text/plain": [
       "<IPython.core.display.Markdown object>"
      ]
     },
     "metadata": {},
     "output_type": "display_data"
    },
    {
     "data": {
      "text/markdown": [
       "### Life and Love: In Prose and Rhyme: By Anna Meixner"
      ],
      "text/plain": [
       "<IPython.core.display.Markdown object>"
      ]
     },
     "metadata": {},
     "output_type": "display_data"
    },
    {
     "data": {
      "text/markdown": [
       "<small>Meixner, Anna</small>"
      ],
      "text/plain": [
       "<IPython.core.display.Markdown object>"
      ]
     },
     "metadata": {},
     "output_type": "display_data"
    },
    {
     "data": {
      "text/markdown": [
       "eart full joys and hopes and fears, Could all this only friendship be? It’s love—undying love for thee. Canst t <span style=\"color: blue\">hou not see it ? Art thou</span> blind ? Or is another in thy mind? Alas! But thou art not to blame— I have no right to hold and claim What never was destined"
      ],
      "text/plain": [
       "<IPython.core.display.Markdown object>"
      ]
     },
     "metadata": {},
     "output_type": "display_data"
    },
    {
     "name": "stdout",
     "output_type": "stream",
     "text": [
      "--------------------------------------------------\n"
     ]
    },
    {
     "data": {
      "text/markdown": [
       "### Hamlet"
      ],
      "text/plain": [
       "<IPython.core.display.Markdown object>"
      ]
     },
     "metadata": {},
     "output_type": "display_data"
    },
    {
     "data": {
      "text/markdown": [
       "table on a roar? Not one now, to mock your own grinning? quite chap-fallen? Now, get you to my lady's chamber, and tell her, let her <span style=\"color: blue\">paint an inch thick</span>, to this favour she must come; make her laugh at that.--Pr'ythee, Horatio, tell me one thing. Hor. What's that, my lord? Ham"
      ],
      "text/plain": [
       "<IPython.core.display.Markdown object>"
      ]
     },
     "metadata": {},
     "output_type": "display_data"
    },
    {
     "data": {
      "text/markdown": [
       "### A Silent Singer: By Clara Morris"
      ],
      "text/plain": [
       "<IPython.core.display.Markdown object>"
      ]
     },
     "metadata": {},
     "output_type": "display_data"
    },
    {
     "data": {
      "text/markdown": [
       "<small>Morris, Clara</small>"
      ],
      "text/plain": [
       "<IPython.core.display.Markdown object>"
      ]
     },
     "metadata": {},
     "output_type": "display_data"
    },
    {
     "data": {
      "text/markdown": [
       "female. She wasn’t even a leadin’ actor among ’em, just a brazen hussy who put <span style=\"color: blue\">paint an inch thick</span> on her cheeks and daubed her mouth with a dye thing they called * vinegar rouge,’ because it wouldn’t come off easy"
      ],
      "text/plain": [
       "<IPython.core.display.Markdown object>"
      ]
     },
     "metadata": {},
     "output_type": "display_data"
    },
    {
     "name": "stdout",
     "output_type": "stream",
     "text": [
      "--------------------------------------------------\n"
     ]
    },
    {
     "data": {
      "text/markdown": [
       "### Hamlet"
      ],
      "text/plain": [
       "<IPython.core.display.Markdown object>"
      ]
     },
     "metadata": {},
     "output_type": "display_data"
    },
    {
     "data": {
      "text/markdown": [
       "enter Ghost.] I'll cross it, though it blast me.--Stay, illusion! If thou hast any <span style=\"color: blue\">sound, or use of voice, Speak</span> to me: If there be any good thing to be done, That may to thee do ease, and, race to me, Speak to me: If thou art privy to thy country's"
      ],
      "text/plain": [
       "<IPython.core.display.Markdown object>"
      ]
     },
     "metadata": {},
     "output_type": "display_data"
    },
    {
     "data": {
      "text/markdown": [
       "### Zandrie: By Marian Edwards Richards"
      ],
      "text/plain": [
       "<IPython.core.display.Markdown object>"
      ]
     },
     "metadata": {},
     "output_type": "display_data"
    },
    {
     "data": {
      "text/markdown": [
       "<small>Richards, Marian Edwards</small>"
      ],
      "text/plain": [
       "<IPython.core.display.Markdown object>"
      ]
     },
     "metadata": {},
     "output_type": "display_data"
    },
    {
     "data": {
      "text/markdown": [
       "know what marriage was, until . . .” Her voice trailed off into a moan that broke into a convulsion of sobs. When they had quieted so that the s <span style=\"color: blue\">ound of his voice speak¬</span> ing her name could reach her, she groped her way to him and he took her hand. “ We must n’t be chil¬"
      ],
      "text/plain": [
       "<IPython.core.display.Markdown object>"
      ]
     },
     "metadata": {},
     "output_type": "display_data"
    },
    {
     "name": "stdout",
     "output_type": "stream",
     "text": [
      "--------------------------------------------------\n"
     ]
    },
    {
     "data": {
      "text/markdown": [
       "### Hamlet"
      ],
      "text/plain": [
       "<IPython.core.display.Markdown object>"
      ]
     },
     "metadata": {},
     "output_type": "display_data"
    },
    {
     "data": {
      "text/markdown": [
       "tend, and everything is bent For England. Ham. For England! King. Ay, Hamlet. Ham. Good. King. So is it, if <span style=\"color: blue\">thou knew'st</span> our purposes. Ham. I see a cherub that sees them.--But, come; for England!-- Farewell, dear mother. King. Thy"
      ],
      "text/plain": [
       "<IPython.core.display.Markdown object>"
      ]
     },
     "metadata": {},
     "output_type": "display_data"
    },
    {
     "data": {
      "text/markdown": [
       "### John Maribel: A Novel: By Maria Darrington-Deslonde …"
      ],
      "text/plain": [
       "<IPython.core.display.Markdown object>"
      ]
     },
     "metadata": {},
     "output_type": "display_data"
    },
    {
     "data": {
      "text/markdown": [
       "<small>Deslonde, Maria Darrington, Mrs.</small>"
      ],
      "text/plain": [
       "<IPython.core.display.Markdown object>"
      ]
     },
     "metadata": {},
     "output_type": "display_data"
    },
    {
     "data": {
      "text/markdown": [
       "drapery, crinoline, or “ pull-backs,” it matters little ; and Antony’s words to Cleopatra, “Egypt, <span style=\"color: blue\">thou knew’st</span> too well My heart was to thy rudder tied by strings, And thou shouldst tow me after,” is as applicable in the nineteenth"
      ],
      "text/plain": [
       "<IPython.core.display.Markdown object>"
      ]
     },
     "metadata": {},
     "output_type": "display_data"
    },
    {
     "name": "stdout",
     "output_type": "stream",
     "text": [
      "--------------------------------------------------\n"
     ]
    },
    {
     "data": {
      "text/markdown": [
       "### Hamlet"
      ],
      "text/plain": [
       "<IPython.core.display.Markdown object>"
      ]
     },
     "metadata": {},
     "output_type": "display_data"
    },
    {
     "data": {
      "text/markdown": [
       "duty to your honour. Ham. Your loves, as mine to you: farewell. [Exeunt Horatio, Marcellus, and Bernardo.] My <span style=\"color: blue\">father's spirit</span> in arms! All is not well; I doubt some foul play: would the night were come! Till then sit still, my soul: foul deeds"
      ],
      "text/plain": [
       "<IPython.core.display.Markdown object>"
      ]
     },
     "metadata": {},
     "output_type": "display_data"
    },
    {
     "data": {
      "text/markdown": [
       "### Under the Magnolias: By Lyman W. Denton, M. D."
      ],
      "text/plain": [
       "<IPython.core.display.Markdown object>"
      ]
     },
     "metadata": {},
     "output_type": "display_data"
    },
    {
     "data": {
      "text/markdown": [
       "<small>Denton, Lyman W.</small>"
      ],
      "text/plain": [
       "<IPython.core.display.Markdown object>"
      ]
     },
     "metadata": {},
     "output_type": "display_data"
    },
    {
     "data": {
      "text/markdown": [
       "freedom and will make it legal soon. I promised her this while yet at Richmond. She told me she should free her, but I did not believe she would do it. But she has her <span style=\"color: blue\">father’s spirit</span> in her. Judge: Well, Charles, although I have been a rabid Southern “ fire-eater,” and my son has grown up to take my place in that regard"
      ],
      "text/plain": [
       "<IPython.core.display.Markdown object>"
      ]
     },
     "metadata": {},
     "output_type": "display_data"
    },
    {
     "name": "stdout",
     "output_type": "stream",
     "text": [
      "--------------------------------------------------\n"
     ]
    },
    {
     "data": {
      "text/markdown": [
       "### Hamlet"
      ],
      "text/plain": [
       "<IPython.core.display.Markdown object>"
      ]
     },
     "metadata": {},
     "output_type": "display_data"
    },
    {
     "data": {
      "text/markdown": [
       "Queen. Why, how now, Hamlet! Ham. What's the matter now? Queen. Have you forgot me? Ham. No, by the rood, not so: You are the Queen, your <span style=\"color: blue\">husband's brother</span>'s wife, And,--would it were not so!--you are my mother. Queen. Nay, then, I'll set those to you that can speak. Ham. Come, come, and sit"
      ],
      "text/plain": [
       "<IPython.core.display.Markdown object>"
      ]
     },
     "metadata": {},
     "output_type": "display_data"
    },
    {
     "data": {
      "text/markdown": [
       "### Under the Magnolias: By Lyman W. Denton, M. D."
      ],
      "text/plain": [
       "<IPython.core.display.Markdown object>"
      ]
     },
     "metadata": {},
     "output_type": "display_data"
    },
    {
     "data": {
      "text/markdown": [
       "<small>Denton, Lyman W.</small>"
      ],
      "text/plain": [
       "<IPython.core.display.Markdown object>"
      ]
     },
     "metadata": {},
     "output_type": "display_data"
    },
    {
     "data": {
      "text/markdown": [
       "change. Not so with Mrs. Montgomery. She was wholly unconscious of what she really had been doing. Her only thought was to contribute, in little ways, to the comfort and happiness of her lamented <span style=\"color: blue\">husband’s brother</span>. No thought had she of the future that fate had marked out for her. Therefore, she was much surprised when Uncle Charles told her of the intense yearnings"
      ],
      "text/plain": [
       "<IPython.core.display.Markdown object>"
      ]
     },
     "metadata": {},
     "output_type": "display_data"
    },
    {
     "name": "stdout",
     "output_type": "stream",
     "text": [
      "--------------------------------------------------\n"
     ]
    },
    {
     "data": {
      "text/markdown": [
       "### Hamlet"
      ],
      "text/plain": [
       "<IPython.core.display.Markdown object>"
      ]
     },
     "metadata": {},
     "output_type": "display_data"
    },
    {
     "data": {
      "text/markdown": [
       "bed, He never will come again. His beard was as white as snow, All flaxen was his poll: He is gone, he is gone, And we cast away moan: <span style=\"color: blue\">God ha' mercy</span> on his soul! And of all Christian souls, I pray God.--God b' wi' ye. [Exit"
      ],
      "text/plain": [
       "<IPython.core.display.Markdown object>"
      ]
     },
     "metadata": {},
     "output_type": "display_data"
    },
    {
     "data": {
      "text/markdown": [
       "### Journeys End: A Romance of To-Day: By Justus Miles Forman; Illustrated by Karl J. Anderson"
      ],
      "text/plain": [
       "<IPython.core.display.Markdown object>"
      ]
     },
     "metadata": {},
     "output_type": "display_data"
    },
    {
     "data": {
      "text/markdown": [
       "<small>Forman, Justus Miles</small>"
      ],
      "text/plain": [
       "<IPython.core.display.Markdown object>"
      ]
     },
     "metadata": {},
     "output_type": "display_data"
    },
    {
     "data": {
      "text/markdown": [
       "sneer bitterly, looking dowrn at the scattered sheets; “a play! a work of art to move thousands of people ! <span style=\"color: blue\">God ha’ mercy</span>, it’s the saddest drivel that ever came from a pen !” And he would read aloud passages of the dialogue in a jeering"
      ],
      "text/plain": [
       "<IPython.core.display.Markdown object>"
      ]
     },
     "metadata": {},
     "output_type": "display_data"
    },
    {
     "name": "stdout",
     "output_type": "stream",
     "text": [
      "--------------------------------------------------\n"
     ]
    },
    {
     "data": {
      "text/markdown": [
       "### Hamlet"
      ],
      "text/plain": [
       "<IPython.core.display.Markdown object>"
      ]
     },
     "metadata": {},
     "output_type": "display_data"
    },
    {
     "data": {
      "text/markdown": [
       "thou, dead corse, again in complete steel, Revisit'st thus the glimpses of the moon, <span style=\"color: blue\">Making night hideous</span>, and we fools of nature So horridly to shake our disposition With thoughts beyond the reaches of our souls? Say, why is this? wherefore"
      ],
      "text/plain": [
       "<IPython.core.display.Markdown object>"
      ]
     },
     "metadata": {},
     "output_type": "display_data"
    },
    {
     "data": {
      "text/markdown": [
       "### The Green Family, or, the Veil Removed: Comprising the Most Thrilling Incidents in the Lives of the Members of the Green Family..: By J. Henry Smith"
      ],
      "text/plain": [
       "<IPython.core.display.Markdown object>"
      ]
     },
     "metadata": {},
     "output_type": "display_data"
    },
    {
     "data": {
      "text/markdown": [
       "<small>Smith, J. Henry</small>"
      ],
      "text/plain": [
       "<IPython.core.display.Markdown object>"
      ]
     },
     "metadata": {},
     "output_type": "display_data"
    },
    {
     "data": {
      "text/markdown": [
       "ott and Russell of the watch, gradually dispersed the crowd into the street, who turned into Front street, m <span style=\"color: blue\">aking night hideous</span> with yells and all sorts of noises. Isaac, having attended to his protege, and given sundry kindly"
      ],
      "text/plain": [
       "<IPython.core.display.Markdown object>"
      ]
     },
     "metadata": {},
     "output_type": "display_data"
    },
    {
     "name": "stdout",
     "output_type": "stream",
     "text": [
      "--------------------------------------------------\n"
     ]
    },
    {
     "data": {
      "text/markdown": [
       "### Hamlet"
      ],
      "text/plain": [
       "<IPython.core.display.Markdown object>"
      ]
     },
     "metadata": {},
     "output_type": "display_data"
    },
    {
     "data": {
      "text/markdown": [
       "Ham. What's the matter now? Queen. Have you forgot me? Ham. No, by the rood, not so: You are the Queen, your husband's <span style=\"color: blue\">brother's wife</span>, And,--would it were not so!--you are my mother. Queen. Nay, then, I'll set those to you that can speak. Ham. Come, come, and sit you down; you shall not budge"
      ],
      "text/plain": [
       "<IPython.core.display.Markdown object>"
      ]
     },
     "metadata": {},
     "output_type": "display_data"
    },
    {
     "data": {
      "text/markdown": [
       "### Dell Dart, or, within the Meshes: By Rowena Granice Steele"
      ],
      "text/plain": [
       "<IPython.core.display.Markdown object>"
      ]
     },
     "metadata": {},
     "output_type": "display_data"
    },
    {
     "data": {
      "text/markdown": [
       "<small>Steele, Rowena Granice</small>"
      ],
      "text/plain": [
       "<IPython.core.display.Markdown object>"
      ]
     },
     "metadata": {},
     "output_type": "display_data"
    },
    {
     "data": {
      "text/markdown": [
       "tector will be gone. It is well that this rich gentleman has fallen in love with you ; you can snap your finger at that spiteful sister-in-law—your bro <span style=\"color: blue\">ther’s wife. O</span> h, how she will hate you and envy you for your beauty. I advise you to get married to this man just as soon as he asks you ; he will make you happy.” She said many more things and ended by Baying, “"
      ],
      "text/plain": [
       "<IPython.core.display.Markdown object>"
      ]
     },
     "metadata": {},
     "output_type": "display_data"
    },
    {
     "name": "stdout",
     "output_type": "stream",
     "text": [
      "--------------------------------------------------\n"
     ]
    },
    {
     "data": {
      "text/markdown": [
       "### Hamlet"
      ],
      "text/plain": [
       "<IPython.core.display.Markdown object>"
      ]
     },
     "metadata": {},
     "output_type": "display_data"
    },
    {
     "data": {
      "text/markdown": [
       "King. Faith, I must leave thee, love, and shortly too; My operant powers their functions leave to do: And <span style=\"color: blue\">thou shalt live</span> in this fair world behind, Honour'd, belov'd, and haply one as kind For husband shalt"
      ],
      "text/plain": [
       "<IPython.core.display.Markdown object>"
      ]
     },
     "metadata": {},
     "output_type": "display_data"
    },
    {
     "data": {
      "text/markdown": [
       "### A Journey in Other Worlds: A Romance of the Future: By John Jacob Astor"
      ],
      "text/plain": [
       "<IPython.core.display.Markdown object>"
      ]
     },
     "metadata": {},
     "output_type": "display_data"
    },
    {
     "data": {
      "text/markdown": [
       "<small>Astor, John Jacob</small>"
      ],
      "text/plain": [
       "<IPython.core.display.Markdown object>"
      ]
     },
     "metadata": {},
     "output_type": "display_data"
    },
    {
     "data": {
      "text/markdown": [
       "ver my strength, before I go hence, and be no more seen.’ As if for an answer, the thought crossed my brain, ‘ Set thine house in order, for thou <span style=\"color: blue\">shalt not live, bu</span> t die.’ I then called my children and made disposition of such of my property and personal effects as were not covered by my will. I also gave to each the"
      ],
      "text/plain": [
       "<IPython.core.display.Markdown object>"
      ]
     },
     "metadata": {},
     "output_type": "display_data"
    },
    {
     "name": "stdout",
     "output_type": "stream",
     "text": [
      "--------------------------------------------------\n"
     ]
    },
    {
     "data": {
      "text/markdown": [
       "### Hamlet"
      ],
      "text/plain": [
       "<IPython.core.display.Markdown object>"
      ]
     },
     "metadata": {},
     "output_type": "display_data"
    },
    {
     "data": {
      "text/markdown": [
       "woman! O villain, villain, smiling, damned villain! My tables,--meet it is I set it down, That one may <span style=\"color: blue\">smile, and smile, and be a villain</span>; At least, I am sure, it may be so in Denmark: [Writing.] So, uncle, there you are. Now to my word; It is 'Adieu, adieu! remember me:' I have sworn"
      ],
      "text/plain": [
       "<IPython.core.display.Markdown object>"
      ]
     },
     "metadata": {},
     "output_type": "display_data"
    },
    {
     "data": {
      "text/markdown": [
       "### Eldorus, the Prince of Rovers: Or, the Venetian Minstrel's Prophecy: A Tale of Venice, the Forest and the Sea: M. Christina Metcalfe"
      ],
      "text/plain": [
       "<IPython.core.display.Markdown object>"
      ]
     },
     "metadata": {},
     "output_type": "display_data"
    },
    {
     "data": {
      "text/markdown": [
       "<small>Metcalfe, M. Christina</small>"
      ],
      "text/plain": [
       "<IPython.core.display.Markdown object>"
      ]
     },
     "metadata": {},
     "output_type": "display_data"
    },
    {
     "data": {
      "text/markdown": [
       "ow, and fervent. It fell on the , ear with a pleasing sound, like the strains of far- off music. Ah ! ‘ Man may s <span style=\"color: blue\">mile, and smile, and be a villain.</span>’ Beatrice gazed on th ; noble youth with a beating heart. She saw him take the hand of a fair"
      ],
      "text/plain": [
       "<IPython.core.display.Markdown object>"
      ]
     },
     "metadata": {},
     "output_type": "display_data"
    },
    {
     "name": "stdout",
     "output_type": "stream",
     "text": [
      "--------------------------------------------------\n"
     ]
    },
    {
     "data": {
      "text/markdown": [
       "### Hamlet"
      ],
      "text/plain": [
       "<IPython.core.display.Markdown object>"
      ]
     },
     "metadata": {},
     "output_type": "display_data"
    },
    {
     "data": {
      "text/markdown": [
       "Swear. Ham. Hic et ubique? then we'll shift our ground.-- Come hither, gentlemen, And <span style=\"color: blue\">lay your hands again upon</span> my sword: Never to speak of this that you have heard, Swear by my sword. Ghost. [Beneath.] Swear. Ham. Well said, old mole"
      ],
      "text/plain": [
       "<IPython.core.display.Markdown object>"
      ]
     },
     "metadata": {},
     "output_type": "display_data"
    },
    {
     "data": {
      "text/markdown": [
       "### Eldorus, the Prince of Rovers: Or, the Venetian Minstrel's Prophecy: A Tale of Venice, the Forest and the Sea: M. Christina Metcalfe"
      ],
      "text/plain": [
       "<IPython.core.display.Markdown object>"
      ]
     },
     "metadata": {},
     "output_type": "display_data"
    },
    {
     "data": {
      "text/markdown": [
       "<small>Metcalfe, M. Christina</small>"
      ],
      "text/plain": [
       "<IPython.core.display.Markdown object>"
      ]
     },
     "metadata": {},
     "output_type": "display_data"
    },
    {
     "data": {
      "text/markdown": [
       "given. You are once more a free oitizen, and until some other crime subjects yoo to ignominy, no man can lawfully lay <span style=\"color: blue\">hands upon yo</span> u.’ Eldoros paused before the doge, and fixed his dark eye searchingly upon him, then said : 4 Wouldst thou kn"
      ],
      "text/plain": [
       "<IPython.core.display.Markdown object>"
      ]
     },
     "metadata": {},
     "output_type": "display_data"
    },
    {
     "name": "stdout",
     "output_type": "stream",
     "text": [
      "--------------------------------------------------\n"
     ]
    },
    {
     "data": {
      "text/markdown": [
       "### Hamlet"
      ],
      "text/plain": [
       "<IPython.core.display.Markdown object>"
      ]
     },
     "metadata": {},
     "output_type": "display_data"
    },
    {
     "data": {
      "text/markdown": [
       "Hamlet's transformation; so I call it, Since nor the exterior nor the inward man Resembles that it was. What it should be, More than his <span style=\"color: blue\">father's death</span>, that thus hath put him So much from the understanding of himself, I cannot dream of: I entreat you both That, being of so young days"
      ],
      "text/plain": [
       "<IPython.core.display.Markdown object>"
      ]
     },
     "metadata": {},
     "output_type": "display_data"
    },
    {
     "data": {
      "text/markdown": [
       "### The Crimes of Paris: A Record of Scenes and Events of Daily Occurrence in the Franch Metropolis: Robert F. Greeley"
      ],
      "text/plain": [
       "<IPython.core.display.Markdown object>"
      ]
     },
     "metadata": {},
     "output_type": "display_data"
    },
    {
     "data": {
      "text/markdown": [
       "<small>Greeley, Robert F.</small>"
      ],
      "text/plain": [
       "<IPython.core.display.Markdown object>"
      ]
     },
     "metadata": {},
     "output_type": "display_data"
    },
    {
     "data": {
      "text/markdown": [
       "consummate a marriage?” “To arrange preliminaries for one was cer¬ tainly one of my objects, but it was your own.” “ Oh! Henri—is this so?” “ Did you not get my note, informing you of my <span style=\"color: blue\">father’s death</span>? The note I sent you by the postillion.” “ It never reached me; but I see it all. The person to whom you entrusted your letter was one of my rejected suitors"
      ],
      "text/plain": [
       "<IPython.core.display.Markdown object>"
      ]
     },
     "metadata": {},
     "output_type": "display_data"
    },
    {
     "name": "stdout",
     "output_type": "stream",
     "text": [
      "--------------------------------------------------\n"
     ]
    },
    {
     "data": {
      "text/markdown": [
       "### Hamlet"
      ],
      "text/plain": [
       "<IPython.core.display.Markdown object>"
      ]
     },
     "metadata": {},
     "output_type": "display_data"
    },
    {
     "data": {
      "text/markdown": [
       "eternity. Ham. Ay, madam, it is common. Queen. If it be, Why seems it so particular with thee? Ham. <span style=\"color: blue\">Seems, madam! Nay</span>, it is; I know not seems. 'Tis not alone my inky cloak, good mother, Nor customary suits of solemn"
      ],
      "text/plain": [
       "<IPython.core.display.Markdown object>"
      ]
     },
     "metadata": {},
     "output_type": "display_data"
    },
    {
     "data": {
      "text/markdown": [
       "### Rachel Stanwood: A Story of the Middle of the Nineteenth Century: By Lucy Gibbons Morse"
      ],
      "text/plain": [
       "<IPython.core.display.Markdown object>"
      ]
     },
     "metadata": {},
     "output_type": "display_data"
    },
    {
     "data": {
      "text/markdown": [
       "<small>Morse, Lucy Gibbons, Mrs.</small>"
      ],
      "text/plain": [
       "<IPython.core.display.Markdown object>"
      ]
     },
     "metadata": {},
     "output_type": "display_data"
    },
    {
     "data": {
      "text/markdown": [
       "thinking of it. “It seems as if the people ” — “Seems? ” asked Will, after waiting an instant. “I wish you would not stop there. You were going to say something good about the people and I want to hear it. Please go on, — I want the chance to say, ' <span style=\"color: blue\">Seems, madam? Nay</span>, it is ! ’ For 1 know, you see.” She had stopped because her eyes wanted to fill airain, and she was determined not to let them. lie covered her emotion skillfully"
      ],
      "text/plain": [
       "<IPython.core.display.Markdown object>"
      ]
     },
     "metadata": {},
     "output_type": "display_data"
    },
    {
     "name": "stdout",
     "output_type": "stream",
     "text": [
      "--------------------------------------------------\n"
     ]
    },
    {
     "data": {
      "text/markdown": [
       "### Hamlet"
      ],
      "text/plain": [
       "<IPython.core.display.Markdown object>"
      ]
     },
     "metadata": {},
     "output_type": "display_data"
    },
    {
     "data": {
      "text/markdown": [
       "anger. Ham. Pale or red? Hor. Nay, very pale. Ham. And fix'd his <span style=\"color: blue\">eyes upon you? Hor</span>. Most constantly. Ham. I would I had been there. Hor. It would have much amaz'd you. Ham. Very like, very like. Stay'd it long? Hor. While"
      ],
      "text/plain": [
       "<IPython.core.display.Markdown object>"
      ]
     },
     "metadata": {},
     "output_type": "display_data"
    },
    {
     "data": {
      "text/markdown": [
       "### Rachel Stanwood: A Story of the Middle of the Nineteenth Century: By Lucy Gibbons Morse"
      ],
      "text/plain": [
       "<IPython.core.display.Markdown object>"
      ]
     },
     "metadata": {},
     "output_type": "display_data"
    },
    {
     "data": {
      "text/markdown": [
       "<small>Morse, Lucy Gibbons, Mrs.</small>"
      ],
      "text/plain": [
       "<IPython.core.display.Markdown object>"
      ]
     },
     "metadata": {},
     "output_type": "display_data"
    },
    {
     "data": {
      "text/markdown": [
       "dared. William Hedges, I in¬ tended thee for Rachel. I didn’t think you had sense enough.” Her <span style=\"color: blue\">eyes were back upon Hor</span>¬ ace. “Guess you’re coming out of Egypt into the light of something besides abolitionism! ” Radiel finished"
      ],
      "text/plain": [
       "<IPython.core.display.Markdown object>"
      ]
     },
     "metadata": {},
     "output_type": "display_data"
    },
    {
     "name": "stdout",
     "output_type": "stream",
     "text": [
      "--------------------------------------------------\n"
     ]
    },
    {
     "data": {
      "text/markdown": [
       "### Hamlet"
      ],
      "text/plain": [
       "<IPython.core.display.Markdown object>"
      ]
     },
     "metadata": {},
     "output_type": "display_data"
    },
    {
     "data": {
      "text/markdown": [
       "father and aunt-mother are deceived. Guil. In what, my dear lord? Ham. I am but mad north- <span style=\"color: blue\">north-west: when the wind</span> is southerly I know a hawk from a handsaw. [Enter Polonius.] Pol. Well be with you, gentlemen! Ham. Hark you, Guildenstern"
      ],
      "text/plain": [
       "<IPython.core.display.Markdown object>"
      ]
     },
     "metadata": {},
     "output_type": "display_data"
    },
    {
     "data": {
      "text/markdown": [
       "### The Harbor Road: By Sara Ware Bassett … Illustrated by F. A. Anderson"
      ],
      "text/plain": [
       "<IPython.core.display.Markdown object>"
      ]
     },
     "metadata": {},
     "output_type": "display_data"
    },
    {
     "data": {
      "text/markdown": [
       "<small>Bassett, Sara Ware</small>"
      ],
      "text/plain": [
       "<IPython.core.display.Markdown object>"
      ]
     },
     "metadata": {},
     "output_type": "display_data"
    },
    {
     "data": {
      "text/markdown": [
       "uşeless ; and if they could effect an entrance to the shanty the building would at least furnish them protection from the biting <span style=\"color: blue\">north-west wind</span> that reeked the waste of sand, and was lashing the billows into foam. While he fumbled with the lock she shivered"
      ],
      "text/plain": [
       "<IPython.core.display.Markdown object>"
      ]
     },
     "metadata": {},
     "output_type": "display_data"
    },
    {
     "name": "stdout",
     "output_type": "stream",
     "text": [
      "--------------------------------------------------\n"
     ]
    },
    {
     "data": {
      "text/markdown": [
       "### Hamlet"
      ],
      "text/plain": [
       "<IPython.core.display.Markdown object>"
      ]
     },
     "metadata": {},
     "output_type": "display_data"
    },
    {
     "data": {
      "text/markdown": [
       "Horatio,--or I do forget myself. Hor. The same, my lord, and your poor servant ever. Ham. Sir, my good friend; I' <span style=\"color: blue\">ll change that name</span> with you: And what make you from Wittenberg, Horatio?-- Marcellus? Mar. My good lord,-- Ham. I am very glad to see you.--Good even, sir.-- But what, in faith, make you from Wittenberg"
      ],
      "text/plain": [
       "<IPython.core.display.Markdown object>"
      ]
     },
     "metadata": {},
     "output_type": "display_data"
    },
    {
     "data": {
      "text/markdown": [
       "### Old Anthony's Secret: A Kentucky Love Tale, Based on Our System of Judicial Robbery and a Crime Unparalleled: W. J. Shaw …"
      ],
      "text/plain": [
       "<IPython.core.display.Markdown object>"
      ]
     },
     "metadata": {},
     "output_type": "display_data"
    },
    {
     "data": {
      "text/markdown": [
       "<small>Shaw, W. J. (William Jenkins)</small>"
      ],
      "text/plain": [
       "<IPython.core.display.Markdown object>"
      ]
     },
     "metadata": {},
     "output_type": "display_data"
    },
    {
     "data": {
      "text/markdown": [
       "y.” “If it is naughty to vindicate his name and manhood from reproach, you are right, sister. When I permit any man to insult me with impunity I'll cha <span style=\"color: blue\">nge my name— I’m</span> not worthy of it. There is no hope for you in that note nor foi me either. You will waste your smiles .which Avere bette"
      ],
      "text/plain": [
       "<IPython.core.display.Markdown object>"
      ]
     },
     "metadata": {},
     "output_type": "display_data"
    },
    {
     "name": "stdout",
     "output_type": "stream",
     "text": [
      "--------------------------------------------------\n"
     ]
    },
    {
     "data": {
      "text/markdown": [
       "### Hamlet"
      ],
      "text/plain": [
       "<IPython.core.display.Markdown object>"
      ]
     },
     "metadata": {},
     "output_type": "display_data"
    },
    {
     "data": {
      "text/markdown": [
       "Farewell. Oph. O heavenly powers, restore him! Ham. I have heard of your paintings too, well enough; <span style=\"color: blue\">God hath given</span> you one face, and you make yourselves another: you jig, you amble, and you lisp, and nickname God's creatures, and make your wantonness"
      ],
      "text/plain": [
       "<IPython.core.display.Markdown object>"
      ]
     },
     "metadata": {},
     "output_type": "display_data"
    },
    {
     "data": {
      "text/markdown": [
       "### Christine: Or, Woman's Trials and Triumphs: By Laura J. Curtis …"
      ],
      "text/plain": [
       "<IPython.core.display.Markdown object>"
      ]
     },
     "metadata": {},
     "output_type": "display_data"
    },
    {
     "data": {
      "text/markdown": [
       "<small>Bullard, Laura J. Curtis</small>"
      ],
      "text/plain": [
       "<IPython.core.display.Markdown object>"
      ]
     },
     "metadata": {},
     "output_type": "display_data"
    },
    {
     "data": {
      "text/markdown": [
       "ar of faith in God ; And white flowers of peace are springing In the parched ground where I trod. Go <span style=\"color: blue\">d hath given l</span> iving waters, That have made my thirst to cease ; Over rough ways, He hath led me To the path of perfect p"
      ],
      "text/plain": [
       "<IPython.core.display.Markdown object>"
      ]
     },
     "metadata": {},
     "output_type": "display_data"
    },
    {
     "name": "stdout",
     "output_type": "stream",
     "text": [
      "--------------------------------------------------\n"
     ]
    },
    {
     "data": {
      "text/markdown": [
       "### Hamlet"
      ],
      "text/plain": [
       "<IPython.core.display.Markdown object>"
      ]
     },
     "metadata": {},
     "output_type": "display_data"
    },
    {
     "data": {
      "text/markdown": [
       "oath, I'll make an end on't: [Sings.] By Gis and by Saint Charity, Alack, and fie for shame! <span style=\"color: blue\">Young men will do't</span> if they come to't; By cock, they are to blame. Quoth she, before you tumbled me, You promis'd me to wed. So would I ha' done, by yonder"
      ],
      "text/plain": [
       "<IPython.core.display.Markdown object>"
      ]
     },
     "metadata": {},
     "output_type": "display_data"
    },
    {
     "data": {
      "text/markdown": [
       "### The Story of Beryl: By Charles Woodward Hutson …"
      ],
      "text/plain": [
       "<IPython.core.display.Markdown object>"
      ]
     },
     "metadata": {},
     "output_type": "display_data"
    },
    {
     "data": {
      "text/markdown": [
       "<small>Hutson, Charles Woodward</small>"
      ],
      "text/plain": [
       "<IPython.core.display.Markdown object>"
      ]
     },
     "metadata": {},
     "output_type": "display_data"
    },
    {
     "data": {
      "text/markdown": [
       "ucy laughed one of her soft little laughs, almost a chuckle, only it was too pretty to be called so. “ Beryl,” said she, “ you are going to fall in love with one of those y <span style=\"color: blue\">oung men. Which is it? I know that love can’t</span> be led, but you к полу on which side I am.” “Lucy,” said Beryl, blushing a much more vivid blush than she liked, and feeling warm"
      ],
      "text/plain": [
       "<IPython.core.display.Markdown object>"
      ]
     },
     "metadata": {},
     "output_type": "display_data"
    },
    {
     "name": "stdout",
     "output_type": "stream",
     "text": [
      "--------------------------------------------------\n"
     ]
    },
    {
     "data": {
      "text/markdown": [
       "### Hamlet"
      ],
      "text/plain": [
       "<IPython.core.display.Markdown object>"
      ]
     },
     "metadata": {},
     "output_type": "display_data"
    },
    {
     "data": {
      "text/markdown": [
       "within my orchard, My custom always of the afternoon, Upon my secure hour thy uncle stole, With <span style=\"color: blue\">juice of cursed hebenon</span> in a vial, And in the porches of my ears did pour The leperous distilment; whose effect Holds such an enmity"
      ],
      "text/plain": [
       "<IPython.core.display.Markdown object>"
      ]
     },
     "metadata": {},
     "output_type": "display_data"
    },
    {
     "data": {
      "text/markdown": [
       "### Western Clearings: By Mrs. C. M. Kirkland …"
      ],
      "text/plain": [
       "<IPython.core.display.Markdown object>"
      ]
     },
     "metadata": {},
     "output_type": "display_data"
    },
    {
     "data": {
      "text/markdown": [
       "<small>Kirkland, Caroline M. (Caroline Matilda)</small>"
      ],
      "text/plain": [
       "<IPython.core.display.Markdown object>"
      ]
     },
     "metadata": {},
     "output_type": "display_data"
    },
    {
     "data": {
      "text/markdown": [
       "e same time her beauty and talents were prevented from appearing to the disadvantage of the sickly Martha. These things cunningly in¬ sinuated were like “ju <span style=\"color: blue\">ice of cursed hebenon”</span> in Julia’s ears. In her days of calm and healthful feeling she would have scorned such vile constructions ;"
      ],
      "text/plain": [
       "<IPython.core.display.Markdown object>"
      ]
     },
     "metadata": {},
     "output_type": "display_data"
    },
    {
     "name": "stdout",
     "output_type": "stream",
     "text": [
      "--------------------------------------------------\n"
     ]
    },
    {
     "data": {
      "text/markdown": [
       "### Hamlet"
      ],
      "text/plain": [
       "<IPython.core.display.Markdown object>"
      ]
     },
     "metadata": {},
     "output_type": "display_data"
    },
    {
     "data": {
      "text/markdown": [
       "thee.--Something too much of this.-- There is a play to-night before the king; One scene of it comes near the circumstance, Which I have told thee, of my <span style=\"color: blue\">father's death</span>: I pr'ythee, when thou see'st that act a-foot, Even with the very comment of thy soul Observe"
      ],
      "text/plain": [
       "<IPython.core.display.Markdown object>"
      ]
     },
     "metadata": {},
     "output_type": "display_data"
    },
    {
     "data": {
      "text/markdown": [
       "### The Black Crook: A Most Wonderful History: Now Being Performed with Immense Success in All the Principal Theatres throughout the United States"
      ],
      "text/plain": [
       "<IPython.core.display.Markdown object>"
      ]
     },
     "metadata": {},
     "output_type": "display_data"
    },
    {
     "data": {
      "text/markdown": [
       "<small>None</small>"
      ],
      "text/plain": [
       "<IPython.core.display.Markdown object>"
      ]
     },
     "metadata": {},
     "output_type": "display_data"
    },
    {
     "data": {
      "text/markdown": [
       "olled upon the scaffold. Giacomo alone survived of the three guilty ones, who had plotted a husband and f <span style=\"color: blue\">ather’s death,</span> and he was the last to expiate his crime. The unfortunate youth was made to kneel, his limbs were bound to a transverse beam upon"
      ],
      "text/plain": [
       "<IPython.core.display.Markdown object>"
      ]
     },
     "metadata": {},
     "output_type": "display_data"
    },
    {
     "name": "stdout",
     "output_type": "stream",
     "text": [
      "--------------------------------------------------\n"
     ]
    },
    {
     "data": {
      "text/markdown": [
       "### Hamlet"
      ],
      "text/plain": [
       "<IPython.core.display.Markdown object>"
      ]
     },
     "metadata": {},
     "output_type": "display_data"
    },
    {
     "data": {
      "text/markdown": [
       "lose your heart, or your chaste treasure open To his unmaster'd importunity. Fear it, Ophelia, <span style=\"color: blue\">fear it, my dear sister</span>; And keep you in the rear of your affection, Out of the shot and danger of desire. The chariest maid is prodigal enough If she unmask"
      ],
      "text/plain": [
       "<IPython.core.display.Markdown object>"
      ]
     },
     "metadata": {},
     "output_type": "display_data"
    },
    {
     "data": {
      "text/markdown": [
       "### Blue Ribbons: By the Author of \"Harvest of Years,\" \"Lovette\"... &c."
      ],
      "text/plain": [
       "<IPython.core.display.Markdown object>"
      ]
     },
     "metadata": {},
     "output_type": "display_data"
    },
    {
     "data": {
      "text/markdown": [
       "<small>Ewell, M. L. Beckwith (Martha Lewis Beckwith)</small>"
      ],
      "text/plain": [
       "<IPython.core.display.Markdown object>"
      ]
     },
     "metadata": {},
     "output_type": "display_data"
    },
    {
     "data": {
      "text/markdown": [
       "ened me out of six senses ; I thought at first you’d dropped dead.” “ Can I do anything ?” asked George. “Keep out of his way, oh! do,” said Be¬ linda. “ Never <span style=\"color: blue\">fear, my dear sister</span>; I shall not be hurt,” and when Violet came in with the break¬ fast, he took his departure for school, Mrs. Chubbuck"
      ],
      "text/plain": [
       "<IPython.core.display.Markdown object>"
      ]
     },
     "metadata": {},
     "output_type": "display_data"
    },
    {
     "name": "stdout",
     "output_type": "stream",
     "text": [
      "--------------------------------------------------\n"
     ]
    },
    {
     "data": {
      "text/markdown": [
       "### Hamlet"
      ],
      "text/plain": [
       "<IPython.core.display.Markdown object>"
      ]
     },
     "metadata": {},
     "output_type": "display_data"
    },
    {
     "data": {
      "text/markdown": [
       "madam! Nay, it is; I know not seems. 'Tis not alone my inky cloak, good mother, Nor customary <span style=\"color: blue\">suits of solemn black</span>, Nor windy suspiration of forc'd breath, No, nor the fruitful river in the eye"
      ],
      "text/plain": [
       "<IPython.core.display.Markdown object>"
      ]
     },
     "metadata": {},
     "output_type": "display_data"
    },
    {
     "data": {
      "text/markdown": [
       "### The Bewildered Querists and Other Nonsense: By Francis Blake Crofton"
      ],
      "text/plain": [
       "<IPython.core.display.Markdown object>"
      ]
     },
     "metadata": {},
     "output_type": "display_data"
    },
    {
     "data": {
      "text/markdown": [
       "<small>Crofton, Francis Blake</small>"
      ],
      "text/plain": [
       "<IPython.core.display.Markdown object>"
      ]
     },
     "metadata": {},
     "output_type": "display_data"
    },
    {
     "data": {
      "text/markdown": [
       "suggested by an interested antago¬ nism to the undertaking and mourning establishments, to the ‘ decent hearse ’ and ‘ custom-made <span style=\"color: blue\">suits of solemn black</span>,’ to quote the expressive words of Shakspeare. This suspicion, Mr. President, rouses my virtuous indignation"
      ],
      "text/plain": [
       "<IPython.core.display.Markdown object>"
      ]
     },
     "metadata": {},
     "output_type": "display_data"
    },
    {
     "name": "stdout",
     "output_type": "stream",
     "text": [
      "--------------------------------------------------\n"
     ]
    },
    {
     "data": {
      "text/markdown": [
       "### Hamlet"
      ],
      "text/plain": [
       "<IPython.core.display.Markdown object>"
      ]
     },
     "metadata": {},
     "output_type": "display_data"
    },
    {
     "data": {
      "text/markdown": [
       "shall bruit again, Re-speaking earthly thunder. Come away. [Exeunt all but Hamlet.] Ham. O that this too too <span style=\"color: blue\">solid flesh would melt</span>, Thaw, and resolve itself into a dew! Or that the Everlasting had not fix'd His canon 'gainst self"
      ],
      "text/plain": [
       "<IPython.core.display.Markdown object>"
      ]
     },
     "metadata": {},
     "output_type": "display_data"
    },
    {
     "data": {
      "text/markdown": [
       "### The Bewildered Querists and Other Nonsense: By Francis Blake Crofton"
      ],
      "text/plain": [
       "<IPython.core.display.Markdown object>"
      ]
     },
     "metadata": {},
     "output_type": "display_data"
    },
    {
     "data": {
      "text/markdown": [
       "<small>Crofton, Francis Blake</small>"
      ],
      "text/plain": [
       "<IPython.core.display.Markdown object>"
      ]
     },
     "metadata": {},
     "output_type": "display_data"
    },
    {
     "data": {
      "text/markdown": [
       "mirror). What is your favorite occupation ? Chiseling. If not yourself who would you choose to be ? Brigham Young. What is your idea of happiness ? “ Oh ! that this too, too <span style=\"color: blue\">solid flesh would melt</span>! ” What is your idea of misery? “Water, water everywhere, and not a drop of drink ! ” What is your bête noire"
      ],
      "text/plain": [
       "<IPython.core.display.Markdown object>"
      ]
     },
     "metadata": {},
     "output_type": "display_data"
    },
    {
     "name": "stdout",
     "output_type": "stream",
     "text": [
      "--------------------------------------------------\n"
     ]
    },
    {
     "data": {
      "text/markdown": [
       "### Hamlet"
      ],
      "text/plain": [
       "<IPython.core.display.Markdown object>"
      ]
     },
     "metadata": {},
     "output_type": "display_data"
    },
    {
     "data": {
      "text/markdown": [
       "scorns of time, The oppressor's wrong, the proud man's contumely, The pangs of despis'd love, the <span style=\"color: blue\">law's delay</span>, The insolence of office, and the spurns That patient merit of the unworthy takes, When he himself might his quietus make With a bare"
      ],
      "text/plain": [
       "<IPython.core.display.Markdown object>"
      ]
     },
     "metadata": {},
     "output_type": "display_data"
    },
    {
     "data": {
      "text/markdown": [
       "### The Bewildered Querists and Other Nonsense: By Francis Blake Crofton"
      ],
      "text/plain": [
       "<IPython.core.display.Markdown object>"
      ]
     },
     "metadata": {},
     "output_type": "display_data"
    },
    {
     "data": {
      "text/markdown": [
       "<small>Crofton, Francis Blake</small>"
      ],
      "text/plain": [
       "<IPython.core.display.Markdown object>"
      ]
     },
     "metadata": {},
     "output_type": "display_data"
    },
    {
     "data": {
      "text/markdown": [
       "pair of bracelets while bailiffs describe the most urgent legal claims— sometimes much more annoying than the “ <span style=\"color: blue\">law’s delay</span>”—as “little matters.” Some similar verbal courtesies, however, are less disinterested, as when one advertises for “ a valise taken"
      ],
      "text/plain": [
       "<IPython.core.display.Markdown object>"
      ]
     },
     "metadata": {},
     "output_type": "display_data"
    },
    {
     "name": "stdout",
     "output_type": "stream",
     "text": [
      "--------------------------------------------------\n"
     ]
    },
    {
     "data": {
      "text/markdown": [
       "### Hamlet"
      ],
      "text/plain": [
       "<IPython.core.display.Markdown object>"
      ]
     },
     "metadata": {},
     "output_type": "display_data"
    },
    {
     "data": {
      "text/markdown": [
       "bark'd about, Most lazar-like, with vile and loathsome crust All my smooth body. Thus was I, sleeping, by a <span style=\"color: blue\">brother's hand</span>, Of life, of crown, of queen, at once dispatch'd: Cut off even in the blossoms of my sin, Unhous'led"
      ],
      "text/plain": [
       "<IPython.core.display.Markdown object>"
      ]
     },
     "metadata": {},
     "output_type": "display_data"
    },
    {
     "data": {
      "text/markdown": [
       "### Resignation: An American Novel: By a Lady"
      ],
      "text/plain": [
       "<IPython.core.display.Markdown object>"
      ]
     },
     "metadata": {},
     "output_type": "display_data"
    },
    {
     "data": {
      "text/markdown": [
       "<small>Evans, Sarah Ann</small>"
      ],
      "text/plain": [
       "<IPython.core.display.Markdown object>"
      ]
     },
     "metadata": {},
     "output_type": "display_data"
    },
    {
     "data": {
      "text/markdown": [
       "Francis,’ said she , 4 let us go home to ma.’ 4 Come in a moment, my dear,’ said Mrs Harlington, 4 I want to see you.’ The child reluctantly advancing, clung to her <span style=\"color: blue\">brother’s hand</span>, while the quick glow of her • * ’ 85 * v „■ ' cheek betrayed an almost painful sensitiveness of feel¬ ing"
      ],
      "text/plain": [
       "<IPython.core.display.Markdown object>"
      ]
     },
     "metadata": {},
     "output_type": "display_data"
    },
    {
     "name": "stdout",
     "output_type": "stream",
     "text": [
      "--------------------------------------------------\n"
     ]
    },
    {
     "data": {
      "text/markdown": [
       "### Hamlet"
      ],
      "text/plain": [
       "<IPython.core.display.Markdown object>"
      ]
     },
     "metadata": {},
     "output_type": "display_data"
    },
    {
     "data": {
      "text/markdown": [
       "Hamlet's transformation; so I call it, Since nor the exterior nor the inward man Resembles that it was. What it should be, More than his <span style=\"color: blue\">father's death</span>, that thus hath put him So much from the understanding of himself, I cannot dream of: I entreat you both That, being of so young days"
      ],
      "text/plain": [
       "<IPython.core.display.Markdown object>"
      ]
     },
     "metadata": {},
     "output_type": "display_data"
    },
    {
     "data": {
      "text/markdown": [
       "### Resignation: An American Novel: By a Lady"
      ],
      "text/plain": [
       "<IPython.core.display.Markdown object>"
      ]
     },
     "metadata": {},
     "output_type": "display_data"
    },
    {
     "data": {
      "text/markdown": [
       "<small>Evans, Sarah Ann</small>"
      ],
      "text/plain": [
       "<IPython.core.display.Markdown object>"
      ]
     },
     "metadata": {},
     "output_type": "display_data"
    },
    {
     "data": {
      "text/markdown": [
       "unt had very properly leased our domain, lest It should become waste in its solitude. With what agony did I hear of my f <span style=\"color: blue\">ather’s death,</span> and in the bitterness of my soul accuse myself of having “brought down bis grey'hairs with sorrom"
      ],
      "text/plain": [
       "<IPython.core.display.Markdown object>"
      ]
     },
     "metadata": {},
     "output_type": "display_data"
    },
    {
     "name": "stdout",
     "output_type": "stream",
     "text": [
      "--------------------------------------------------\n"
     ]
    },
    {
     "data": {
      "text/markdown": [
       "### Hamlet"
      ],
      "text/plain": [
       "<IPython.core.display.Markdown object>"
      ]
     },
     "metadata": {},
     "output_type": "display_data"
    },
    {
     "data": {
      "text/markdown": [
       "thee.--Something too much of this.-- There is a play to-night before the king; One scene of it comes near the circumstance, Which I have told thee, of my <span style=\"color: blue\">father's death</span>: I pr'ythee, when thou see'st that act a-foot, Even with the very comment of thy soul Observe"
      ],
      "text/plain": [
       "<IPython.core.display.Markdown object>"
      ]
     },
     "metadata": {},
     "output_type": "display_data"
    },
    {
     "data": {
      "text/markdown": [
       "### Resignation: An American Novel: By a Lady"
      ],
      "text/plain": [
       "<IPython.core.display.Markdown object>"
      ]
     },
     "metadata": {},
     "output_type": "display_data"
    },
    {
     "data": {
      "text/markdown": [
       "<small>Evans, Sarah Ann</small>"
      ],
      "text/plain": [
       "<IPython.core.display.Markdown object>"
      ]
     },
     "metadata": {},
     "output_type": "display_data"
    },
    {
     "data": {
      "text/markdown": [
       "ccounts for nay never hav¬ ing seen you here before. Most of my younger years were passed from home ; and it was not till after I had left college, which was about the time of my f <span style=\"color: blue\">ather’s death,</span> that Leşided, for any considerable period on my paternal estate!* «The countenance of this little girl,’ (continued Mr"
      ],
      "text/plain": [
       "<IPython.core.display.Markdown object>"
      ]
     },
     "metadata": {},
     "output_type": "display_data"
    },
    {
     "name": "stdout",
     "output_type": "stream",
     "text": [
      "--------------------------------------------------\n"
     ]
    },
    {
     "data": {
      "text/markdown": [
       "### Hamlet"
      ],
      "text/plain": [
       "<IPython.core.display.Markdown object>"
      ]
     },
     "metadata": {},
     "output_type": "display_data"
    },
    {
     "data": {
      "text/markdown": [
       "Ros and Guil. We will haste us. [Exeunt Ros. and Guil.] [Enter Polonius.] Pol. My lord, he' <span style=\"color: blue\">s going to his mother's</span> closet: Behind the arras I'll convey myself To hear the process; I'll warrant"
      ],
      "text/plain": [
       "<IPython.core.display.Markdown object>"
      ]
     },
     "metadata": {},
     "output_type": "display_data"
    },
    {
     "data": {
      "text/markdown": [
       "### Resignation: An American Novel: By a Lady"
      ],
      "text/plain": [
       "<IPython.core.display.Markdown object>"
      ]
     },
     "metadata": {},
     "output_type": "display_data"
    },
    {
     "data": {
      "text/markdown": [
       "<small>Evans, Sarah Ann</small>"
      ],
      "text/plain": [
       "<IPython.core.display.Markdown object>"
      ]
     },
     "metadata": {},
     "output_type": "display_data"
    },
    {
     "data": {
      "text/markdown": [
       "to you the care o’ my Ellen’s happiness. vO, cherish her peace with a sister’s love ; <span style=\"color: blue\">for to her mother’s bosom i</span> t is dearąs the hope o 1 heaven !—there, beloved, may we meet, where Scottish and American hearts,"
      ],
      "text/plain": [
       "<IPython.core.display.Markdown object>"
      ]
     },
     "metadata": {},
     "output_type": "display_data"
    },
    {
     "name": "stdout",
     "output_type": "stream",
     "text": [
      "--------------------------------------------------\n"
     ]
    },
    {
     "data": {
      "text/markdown": [
       "### Hamlet"
      ],
      "text/plain": [
       "<IPython.core.display.Markdown object>"
      ]
     },
     "metadata": {},
     "output_type": "display_data"
    },
    {
     "data": {
      "text/markdown": [
       "angel! in apprehension, how like a god! the beauty of the world! the paragon of animals! And yet, to me, what is this quintessence of dust? Man delights not me; no, <span style=\"color: blue\">nor woman neither</span>, though by your smiling you seem to say so. Ros. My lord, there was no such stuff in my thoughts. Ham. Why did you laugh then, when I said 'Man delights"
      ],
      "text/plain": [
       "<IPython.core.display.Markdown object>"
      ]
     },
     "metadata": {},
     "output_type": "display_data"
    },
    {
     "data": {
      "text/markdown": [
       "### Anthony Melgrave: By Thomas M'Caleb"
      ],
      "text/plain": [
       "<IPython.core.display.Markdown object>"
      ]
     },
     "metadata": {},
     "output_type": "display_data"
    },
    {
     "data": {
      "text/markdown": [
       "<small>M'Caleb, Thomas</small>"
      ],
      "text/plain": [
       "<IPython.core.display.Markdown object>"
      ]
     },
     "metadata": {},
     "output_type": "display_data"
    },
    {
     "data": {
      "text/markdown": [
       "pledge of everlasting affection. “ But,” said Melgrave, recovering after a while from the delirium of the embrace, “ I have still more to say. For years my life was a wretched one. ‘ Man delighted not me, no, <span style=\"color: blue\">nor woman neither</span>.’ My affections, buried with my dead one, I naturally became lost to all personal hope. Still my child— ’t"
      ],
      "text/plain": [
       "<IPython.core.display.Markdown object>"
      ]
     },
     "metadata": {},
     "output_type": "display_data"
    },
    {
     "name": "stdout",
     "output_type": "stream",
     "text": [
      "--------------------------------------------------\n"
     ]
    },
    {
     "data": {
      "text/markdown": [
       "### Hamlet"
      ],
      "text/plain": [
       "<IPython.core.display.Markdown object>"
      ]
     },
     "metadata": {},
     "output_type": "display_data"
    },
    {
     "data": {
      "text/markdown": [
       "follow, Gertrude; How much I had to do to calm his rage! Now fear I this will give it start again; Therefore let's follow. [Exeunt.] <span style=\"color: blue\">ACT V. Scene</span> I. A churchyard. [Enter two Clowns, with spades, &c.] 1 Clown. Is she to be buried in Christian burial when she wilfully"
      ],
      "text/plain": [
       "<IPython.core.display.Markdown object>"
      ]
     },
     "metadata": {},
     "output_type": "display_data"
    },
    {
     "data": {
      "text/markdown": [
       "### Anthony Melgrave: By Thomas M'Caleb"
      ],
      "text/plain": [
       "<IPython.core.display.Markdown object>"
      ]
     },
     "metadata": {},
     "output_type": "display_data"
    },
    {
     "data": {
      "text/markdown": [
       "<small>M'Caleb, Thomas</small>"
      ],
      "text/plain": [
       "<IPython.core.display.Markdown object>"
      ]
     },
     "metadata": {},
     "output_type": "display_data"
    },
    {
     "data": {
      "text/markdown": [
       "worthy ancestry.” CHAPTER XIX. Still the holy stream Of human happiness glides on. Richelieu : <span style=\"color: blue\">Act v., Scene</span>3. TRANGE to say, Marion had as yet re¬ ceived no word from Enrique, nor did she hear anything"
      ],
      "text/plain": [
       "<IPython.core.display.Markdown object>"
      ]
     },
     "metadata": {},
     "output_type": "display_data"
    },
    {
     "name": "stdout",
     "output_type": "stream",
     "text": [
      "--------------------------------------------------\n"
     ]
    },
    {
     "data": {
      "text/markdown": [
       "### Hamlet"
      ],
      "text/plain": [
       "<IPython.core.display.Markdown object>"
      ]
     },
     "metadata": {},
     "output_type": "display_data"
    },
    {
     "data": {
      "text/markdown": [
       "O rose of May! Dear maid, kind sister, sweet Ophelia!-- O heavens! is' <span style=\"color: blue\">t possible a young</span> maid's wits Should be as mortal as an old man's life? Nature is fine in love; and where 'tis fine, It sends"
      ],
      "text/plain": [
       "<IPython.core.display.Markdown object>"
      ]
     },
     "metadata": {},
     "output_type": "display_data"
    },
    {
     "data": {
      "text/markdown": [
       "### By a Way That They Knew Not: By A. A. Wellington …"
      ],
      "text/plain": [
       "<IPython.core.display.Markdown object>"
      ]
     },
     "metadata": {},
     "output_type": "display_data"
    },
    {
     "data": {
      "text/markdown": [
       "<small>Wellington, A. A. Mrs.</small>"
      ],
      "text/plain": [
       "<IPython.core.display.Markdown object>"
      ]
     },
     "metadata": {},
     "output_type": "display_data"
    },
    {
     "data": {
      "text/markdown": [
       "resence. And here Dr. Gordon was, warning them that at any hour, yea, at any moment, the death-angel might come. Not for her? Why, it couldn’t <span style=\"color: blue\">be possible he would come for her ,—so young,</span> so full of life! Surely he would think her quite unfit for the grave’s cold solitude ! And yet, there was Marion"
      ],
      "text/plain": [
       "<IPython.core.display.Markdown object>"
      ]
     },
     "metadata": {},
     "output_type": "display_data"
    },
    {
     "name": "stdout",
     "output_type": "stream",
     "text": [
      "--------------------------------------------------\n"
     ]
    },
    {
     "data": {
      "text/markdown": [
       "### Hamlet"
      ],
      "text/plain": [
       "<IPython.core.display.Markdown object>"
      ]
     },
     "metadata": {},
     "output_type": "display_data"
    },
    {
     "data": {
      "text/markdown": [
       "chiefest courtier, cousin, and our son. Queen. Let not thy mother lose her prayers, Hamlet: I <span style=\"color: blue\">pray thee stay</span> with us; go not to Wittenberg. Ham. I shall in all my best obey you, madam. King. Why, 'tis a loving and a fair reply"
      ],
      "text/plain": [
       "<IPython.core.display.Markdown object>"
      ]
     },
     "metadata": {},
     "output_type": "display_data"
    },
    {
     "data": {
      "text/markdown": [
       "### The Ducal Coronet, or, the Heir and the Usurper: A Romance of Italy in the 16th Century: By Arthur Morton"
      ],
      "text/plain": [
       "<IPython.core.display.Markdown object>"
      ]
     },
     "metadata": {},
     "output_type": "display_data"
    },
    {
     "data": {
      "text/markdown": [
       "<small>Morton, Arthur</small>"
      ],
      "text/plain": [
       "<IPython.core.display.Markdown object>"
      ]
     },
     "metadata": {},
     "output_type": "display_data"
    },
    {
     "data": {
      "text/markdown": [
       "breadth of the road with a close front. “ Sir knight,” said the page, “ I am in great haste—on a message of life and death. I <span style=\"color: blue\">pray thee stay</span> me not, but give me passage.” “ Not so, fair sir,” replied the stranger, “ till I know whence thou contest and whither"
      ],
      "text/plain": [
       "<IPython.core.display.Markdown object>"
      ]
     },
     "metadata": {},
     "output_type": "display_data"
    },
    {
     "name": "stdout",
     "output_type": "stream",
     "text": [
      "--------------------------------------------------\n"
     ]
    },
    {
     "data": {
      "text/markdown": [
       "### Hamlet"
      ],
      "text/plain": [
       "<IPython.core.display.Markdown object>"
      ]
     },
     "metadata": {},
     "output_type": "display_data"
    },
    {
     "data": {
      "text/markdown": [
       "beast that wants discourse of reason, Would have mourn'd longer,--married with mine uncle, My <span style=\"color: blue\">father's brother</span>; but no more like my father Than I to Hercules: within a month; Ere yet the salt of most unrighteous tears Had left"
      ],
      "text/plain": [
       "<IPython.core.display.Markdown object>"
      ]
     },
     "metadata": {},
     "output_type": "display_data"
    },
    {
     "data": {
      "text/markdown": [
       "### The Ducal Coronet, or, the Heir and the Usurper: A Romance of Italy in the 16th Century: By Arthur Morton"
      ],
      "text/plain": [
       "<IPython.core.display.Markdown object>"
      ]
     },
     "metadata": {},
     "output_type": "display_data"
    },
    {
     "data": {
      "text/markdown": [
       "<small>Morton, Arthur</small>"
      ],
      "text/plain": [
       "<IPython.core.display.Markdown object>"
      ]
     },
     "metadata": {},
     "output_type": "display_data"
    },
    {
     "data": {
      "text/markdown": [
       "ghter burthen to your brow than it was to mine. And now, duke, I await my sentence.” “ I cannot forget,” said Giulio, “ that you are my fa <span style=\"color: blue\">ther’s brother,</span> though you have striven to make me do so. You are free; I pardon you freely and fully.” “ My presence shall not mar your triumph a"
      ],
      "text/plain": [
       "<IPython.core.display.Markdown object>"
      ]
     },
     "metadata": {},
     "output_type": "display_data"
    },
    {
     "name": "stdout",
     "output_type": "stream",
     "text": [
      "--------------------------------------------------\n"
     ]
    },
    {
     "data": {
      "text/markdown": [
       "### Hamlet"
      ],
      "text/plain": [
       "<IPython.core.display.Markdown object>"
      ]
     },
     "metadata": {},
     "output_type": "display_data"
    },
    {
     "data": {
      "text/markdown": [
       "Hamlet's transformation; so I call it, Since nor the exterior nor the inward man Resembles that it was. What it should be, More than his <span style=\"color: blue\">father's death</span>, that thus hath put him So much from the understanding of himself, I cannot dream of: I entreat you both That, being of so young days"
      ],
      "text/plain": [
       "<IPython.core.display.Markdown object>"
      ]
     },
     "metadata": {},
     "output_type": "display_data"
    },
    {
     "data": {
      "text/markdown": [
       "### The Ducal Coronet, or, the Heir and the Usurper: A Romance of Italy in the 16th Century: By Arthur Morton"
      ],
      "text/plain": [
       "<IPython.core.display.Markdown object>"
      ]
     },
     "metadata": {},
     "output_type": "display_data"
    },
    {
     "data": {
      "text/markdown": [
       "<small>Morton, Arthur</small>"
      ],
      "text/plain": [
       "<IPython.core.display.Markdown object>"
      ]
     },
     "metadata": {},
     "output_type": "display_data"
    },
    {
     "data": {
      "text/markdown": [
       "rength. The young man was a Mr. Charles Curtis, the son of an old friend of Mr. Gray’s, and on his fa <span style=\"color: blue\">ther’s death h</span> e had joined them in their ex¬ pedition to the out of-way settlement of River- town. He had been betrothed to Katie in better days, when all was prosperity a"
      ],
      "text/plain": [
       "<IPython.core.display.Markdown object>"
      ]
     },
     "metadata": {},
     "output_type": "display_data"
    },
    {
     "name": "stdout",
     "output_type": "stream",
     "text": [
      "--------------------------------------------------\n"
     ]
    },
    {
     "data": {
      "text/markdown": [
       "### Hamlet"
      ],
      "text/plain": [
       "<IPython.core.display.Markdown object>"
      ]
     },
     "metadata": {},
     "output_type": "display_data"
    },
    {
     "data": {
      "text/markdown": [
       "Hamlet's transformation; so I call it, Since nor the exterior nor the inward man Resembles that it was. What it should be, More than his <span style=\"color: blue\">father's death</span>, that thus hath put him So much from the understanding of himself, I cannot dream of: I entreat you both That, being of so young days"
      ],
      "text/plain": [
       "<IPython.core.display.Markdown object>"
      ]
     },
     "metadata": {},
     "output_type": "display_data"
    },
    {
     "data": {
      "text/markdown": [
       "### The Actress of Padua, and Other Tales: By the Author of \"The Forsaken\""
      ],
      "text/plain": [
       "<IPython.core.display.Markdown object>"
      ]
     },
     "metadata": {},
     "output_type": "display_data"
    },
    {
     "data": {
      "text/markdown": [
       "<small>Smith, Richard Penn</small>"
      ],
      "text/plain": [
       "<IPython.core.display.Markdown object>"
      ]
     },
     "metadata": {},
     "output_type": "display_data"
    },
    {
     "data": {
      "text/markdown": [
       "eeling in him to whom she was unalterably bound; and if you lake woman from her genial world of sympathy and affection, what is she? During the first three years after my f <span style=\"color: blue\">ather’s death,</span> I was sent to the best school the island af¬ forded. My thirst for knowledge was inordinate; it soon became a ruling"
      ],
      "text/plain": [
       "<IPython.core.display.Markdown object>"
      ]
     },
     "metadata": {},
     "output_type": "display_data"
    },
    {
     "name": "stdout",
     "output_type": "stream",
     "text": [
      "--------------------------------------------------\n"
     ]
    },
    {
     "data": {
      "text/markdown": [
       "### Hamlet"
      ],
      "text/plain": [
       "<IPython.core.display.Markdown object>"
      ]
     },
     "metadata": {},
     "output_type": "display_data"
    },
    {
     "data": {
      "text/markdown": [
       "enough; God hath given you one face, and you make yourselves another: you jig, you amble, and you lisp, and nickname <span style=\"color: blue\">God's creatures</span>, and make your wantonness your ignorance. Go to, I'll no more on't; it hath made me mad. I say, we will have no more marriages: those that are married already, all but one, shall"
      ],
      "text/plain": [
       "<IPython.core.display.Markdown object>"
      ]
     },
     "metadata": {},
     "output_type": "display_data"
    },
    {
     "data": {
      "text/markdown": [
       "### The Actress of Padua, and Other Tales: By the Author of \"The Forsaken\""
      ],
      "text/plain": [
       "<IPython.core.display.Markdown object>"
      ]
     },
     "metadata": {},
     "output_type": "display_data"
    },
    {
     "data": {
      "text/markdown": [
       "<small>Smith, Richard Penn</small>"
      ],
      "text/plain": [
       "<IPython.core.display.Markdown object>"
      ]
     },
     "metadata": {},
     "output_type": "display_data"
    },
    {
     "data": {
      "text/markdown": [
       "riendship purchased? We were as destitute as the pauper who lives on common charity; yet Virginia was the loveliest of G <span style=\"color: blue\">od’s creatures—</span>—A thought rushed through my brain like molten lead, and 1 felt as if it seared its vitality in the passage. I shrieked with anguish,"
      ],
      "text/plain": [
       "<IPython.core.display.Markdown object>"
      ]
     },
     "metadata": {},
     "output_type": "display_data"
    },
    {
     "name": "stdout",
     "output_type": "stream",
     "text": [
      "--------------------------------------------------\n"
     ]
    },
    {
     "data": {
      "text/markdown": [
       "### Hamlet"
      ],
      "text/plain": [
       "<IPython.core.display.Markdown object>"
      ]
     },
     "metadata": {},
     "output_type": "display_data"
    },
    {
     "data": {
      "text/markdown": [
       "Swear. Ham. Hic et ubique? then we'll shift our ground.-- Come hither, gentlemen, And <span style=\"color: blue\">lay your hands again upon</span> my sword: Never to speak of this that you have heard, Swear by my sword. Ghost. [Beneath.] Swear. Ham. Well said, old mole"
      ],
      "text/plain": [
       "<IPython.core.display.Markdown object>"
      ]
     },
     "metadata": {},
     "output_type": "display_data"
    },
    {
     "data": {
      "text/markdown": [
       "### Keith; or, Righted at Last: By Mary E. Scott"
      ],
      "text/plain": [
       "<IPython.core.display.Markdown object>"
      ]
     },
     "metadata": {},
     "output_type": "display_data"
    },
    {
     "data": {
      "text/markdown": [
       "<small>Scott, Mary E.</small>"
      ],
      "text/plain": [
       "<IPython.core.display.Markdown object>"
      ]
     },
     "metadata": {},
     "output_type": "display_data"
    },
    {
     "data": {
      "text/markdown": [
       "lse is the fact due that he is of no earthly account, that he is a gambler, Avast ing all of his own means and as much of yours as he can l <span style=\"color: blue\">ay his hands upon</span> or wheedle you out of, thus defraud¬ ing me of my rights ; and I declare, if you don’t die soon"
      ],
      "text/plain": [
       "<IPython.core.display.Markdown object>"
      ]
     },
     "metadata": {},
     "output_type": "display_data"
    },
    {
     "name": "stdout",
     "output_type": "stream",
     "text": [
      "--------------------------------------------------\n"
     ]
    },
    {
     "data": {
      "text/markdown": [
       "### Hamlet"
      ],
      "text/plain": [
       "<IPython.core.display.Markdown object>"
      ]
     },
     "metadata": {},
     "output_type": "display_data"
    },
    {
     "data": {
      "text/markdown": [
       "Ros and Guil. We will haste us. [Exeunt Ros. and Guil.] [Enter Polonius.] Pol. My lord, he' <span style=\"color: blue\">s going to his mother's</span> closet: Behind the arras I'll convey myself To hear the process; I'll warrant"
      ],
      "text/plain": [
       "<IPython.core.display.Markdown object>"
      ]
     },
     "metadata": {},
     "output_type": "display_data"
    },
    {
     "data": {
      "text/markdown": [
       "### Thro' Space: By James Rock"
      ],
      "text/plain": [
       "<IPython.core.display.Markdown object>"
      ]
     },
     "metadata": {},
     "output_type": "display_data"
    },
    {
     "data": {
      "text/markdown": [
       "<small>Rock, James</small>"
      ],
      "text/plain": [
       "<IPython.core.display.Markdown object>"
      ]
     },
     "metadata": {},
     "output_type": "display_data"
    },
    {
     "data": {
      "text/markdown": [
       "young Spanish girl. Isadore was first introduced to the wife and daughter, and he in turn introduced me both as his own and as his father’ <span style=\"color: blue\">s and mother’s</span> young friend. The father spoke both French and Span¬ ish. The mother spoke only in Spanish"
      ],
      "text/plain": [
       "<IPython.core.display.Markdown object>"
      ]
     },
     "metadata": {},
     "output_type": "display_data"
    },
    {
     "name": "stdout",
     "output_type": "stream",
     "text": [
      "--------------------------------------------------\n"
     ]
    },
    {
     "data": {
      "text/markdown": [
       "### Hamlet"
      ],
      "text/plain": [
       "<IPython.core.display.Markdown object>"
      ]
     },
     "metadata": {},
     "output_type": "display_data"
    },
    {
     "data": {
      "text/markdown": [
       "Farewell, dear mother. King. Thy loving father, Hamlet. Ham. My mother: <span style=\"color: blue\">father and mother is man and wife</span>; man and wife is one flesh; and so, my mother.--Come, for England! [Exit.] King. Follow him at foot; tempt him with speed"
      ],
      "text/plain": [
       "<IPython.core.display.Markdown object>"
      ]
     },
     "metadata": {},
     "output_type": "display_data"
    },
    {
     "data": {
      "text/markdown": [
       "### Thro' Space: By James Rock"
      ],
      "text/plain": [
       "<IPython.core.display.Markdown object>"
      ]
     },
     "metadata": {},
     "output_type": "display_data"
    },
    {
     "data": {
      "text/markdown": [
       "<small>Rock, James</small>"
      ],
      "text/plain": [
       "<IPython.core.display.Markdown object>"
      ]
     },
     "metadata": {},
     "output_type": "display_data"
    },
    {
     "data": {
      "text/markdown": [
       "convince you that these powers which I have are facts without a single error.” He proceeded, and told me my own name, and the name of my <span style=\"color: blue\">father and mother, wife</span> and all their ad¬ dresses correctly. He told me the make and number of my watch, which was a Waltham, Ho. 10,050,683. He also told me the amount"
      ],
      "text/plain": [
       "<IPython.core.display.Markdown object>"
      ]
     },
     "metadata": {},
     "output_type": "display_data"
    },
    {
     "name": "stdout",
     "output_type": "stream",
     "text": [
      "--------------------------------------------------\n"
     ]
    },
    {
     "data": {
      "text/markdown": [
       "### Hamlet"
      ],
      "text/plain": [
       "<IPython.core.display.Markdown object>"
      ]
     },
     "metadata": {},
     "output_type": "display_data"
    },
    {
     "data": {
      "text/markdown": [
       "shameful lust The will of my most seeming-virtuous queen: O Hamlet, what a falling-off was there! From me, whose love was of that dignity That it <span style=\"color: blue\">went hand in hand</span> even with the vow I made to her in marriage; and to decline Upon a wretch whose natural gifts were poor To those of mine"
      ],
      "text/plain": [
       "<IPython.core.display.Markdown object>"
      ]
     },
     "metadata": {},
     "output_type": "display_data"
    },
    {
     "data": {
      "text/markdown": [
       "### Madame Butterfly: Purple Eyes: A Gentleman of Japan and a Lady: Kito: Glory..: John Luther Long"
      ],
      "text/plain": [
       "<IPython.core.display.Markdown object>"
      ]
     },
     "metadata": {},
     "output_type": "display_data"
    },
    {
     "data": {
      "text/markdown": [
       "<small>Long, John Luther</small>"
      ],
      "text/plain": [
       "<IPython.core.display.Markdown object>"
      ]
     },
     "metadata": {},
     "output_type": "display_data"
    },
    {
     "data": {
      "text/markdown": [
       "k her beautiful hands. He asked nothing more, but was very gentle to her. All through the great funeral he was at her side. And if he was not, she was frightened and found him hastily. They wen <span style=\"color: blue\">t about hand in hand. S</span> he liked this. It was infinitely comforting. If he did not take her hand (sometimes he would pre¬ tend to forget it) she would slip it into his with a shy sm"
      ],
      "text/plain": [
       "<IPython.core.display.Markdown object>"
      ]
     },
     "metadata": {},
     "output_type": "display_data"
    },
    {
     "name": "stdout",
     "output_type": "stream",
     "text": [
      "--------------------------------------------------\n"
     ]
    },
    {
     "data": {
      "text/markdown": [
       "### Hamlet"
      ],
      "text/plain": [
       "<IPython.core.display.Markdown object>"
      ]
     },
     "metadata": {},
     "output_type": "display_data"
    },
    {
     "data": {
      "text/markdown": [
       "Hyperion to a satyr; so loving to my mother, That he might not beteem the winds of heaven Visit her face too roughly. <span style=\"color: blue\">Heaven and earth! Must</span> I remember? Why, she would hang on him As if increase of appetite had grown By what it fed on: and yet, within a month,-- Let me not think on't"
      ],
      "text/plain": [
       "<IPython.core.display.Markdown object>"
      ]
     },
     "metadata": {},
     "output_type": "display_data"
    },
    {
     "data": {
      "text/markdown": [
       "### Frank Elliott, or, Wells in the Desert: By James Challen"
      ],
      "text/plain": [
       "<IPython.core.display.Markdown object>"
      ]
     },
     "metadata": {},
     "output_type": "display_data"
    },
    {
     "data": {
      "text/markdown": [
       "<small>Challen, James</small>"
      ],
      "text/plain": [
       "<IPython.core.display.Markdown object>"
      ]
     },
     "metadata": {},
     "output_type": "display_data"
    },
    {
     "data": {
      "text/markdown": [
       "raced, or the peculiar 4 blessings which it promised, it was unlike any thing which preeeded it ; and as a new and original enact¬ ment from Him who had all authority in hea <span style=\"color: blue\">ven and on earth, must an</span> d will forever set aside, nullify, and abolish, as of no force, all that was antecedent and ephemeral in the life of the Saviour. It is Christ’s"
      ],
      "text/plain": [
       "<IPython.core.display.Markdown object>"
      ]
     },
     "metadata": {},
     "output_type": "display_data"
    },
    {
     "name": "stdout",
     "output_type": "stream",
     "text": [
      "--------------------------------------------------\n"
     ]
    },
    {
     "data": {
      "text/markdown": [
       "### Hamlet"
      ],
      "text/plain": [
       "<IPython.core.display.Markdown object>"
      ]
     },
     "metadata": {},
     "output_type": "display_data"
    },
    {
     "data": {
      "text/markdown": [
       "figure Comes armed through our watch; so like the king That was and is the question of these wars. Hor. A mote it is to trouble the <span style=\"color: blue\">mind's eye</span>. In the most high and palmy state of Rome, A little ere the mightiest Julius fell, The graves stood tenantless"
      ],
      "text/plain": [
       "<IPython.core.display.Markdown object>"
      ]
     },
     "metadata": {},
     "output_type": "display_data"
    },
    {
     "data": {
      "text/markdown": [
       "### The Scarlet Empire: By David M. Parry; with Illustrations by Hermann C. Wall"
      ],
      "text/plain": [
       "<IPython.core.display.Markdown object>"
      ]
     },
     "metadata": {},
     "output_type": "display_data"
    },
    {
     "data": {
      "text/markdown": [
       "<small>Parry, David M. (David Maclean)</small>"
      ],
      "text/plain": [
       "<IPython.core.display.Markdown object>"
      ]
     },
     "metadata": {},
     "output_type": "display_data"
    },
    {
     "data": {
      "text/markdown": [
       "note the mincing steps which my colleagues thereafter took in moving about the chamber. I was greatly edified, and in my <span style=\"color: blue\">mind’s eye</span> I could see the whole nation going about as though every man wore invisible hobbles. I was studying how I might further leave my im"
      ],
      "text/plain": [
       "<IPython.core.display.Markdown object>"
      ]
     },
     "metadata": {},
     "output_type": "display_data"
    },
    {
     "name": "stdout",
     "output_type": "stream",
     "text": [
      "--------------------------------------------------\n"
     ]
    },
    {
     "data": {
      "text/markdown": [
       "### Hamlet"
      ],
      "text/plain": [
       "<IPython.core.display.Markdown object>"
      ]
     },
     "metadata": {},
     "output_type": "display_data"
    },
    {
     "data": {
      "text/markdown": [
       "England!-- Farewell, dear mother. King. Thy loving father, Hamlet. Ham. My <span style=\"color: blue\">mother: father and mother</span> is man and wife; man and wife is one flesh; and so, my mother.--Come, for England! [Exit.] King. Follow him at foot; tempt"
      ],
      "text/plain": [
       "<IPython.core.display.Markdown object>"
      ]
     },
     "metadata": {},
     "output_type": "display_data"
    },
    {
     "data": {
      "text/markdown": [
       "### The Roving Red Rangers: Or Laura Lamar, of the Susquehanna, a Thrilling Romance of the Old Colonial Days: By C. A. Robinson"
      ],
      "text/plain": [
       "<IPython.core.display.Markdown object>"
      ]
     },
     "metadata": {},
     "output_type": "display_data"
    },
    {
     "data": {
      "text/markdown": [
       "<small>Robinson, C. A. (Charles Asbury)</small>"
      ],
      "text/plain": [
       "<IPython.core.display.Markdown object>"
      ]
     },
     "metadata": {},
     "output_type": "display_data"
    },
    {
     "data": {
      "text/markdown": [
       "nettled at my innocent inquiries.” “I told you who lam, that is enough.” “You have not told me the name given you by your father and <span style=\"color: blue\">mother, have you?’’ “What do you know of my father and mother</span>?” “Nothing, I am sorry to say.” “Do you know what name they gave me?” “I do.” “What was it?” “Henry Anson.” “Who told you this?” “My mother?” “Who is your mother?” “The wife of John"
      ],
      "text/plain": [
       "<IPython.core.display.Markdown object>"
      ]
     },
     "metadata": {},
     "output_type": "display_data"
    },
    {
     "name": "stdout",
     "output_type": "stream",
     "text": [
      "--------------------------------------------------\n"
     ]
    },
    {
     "data": {
      "text/markdown": [
       "### Hamlet"
      ],
      "text/plain": [
       "<IPython.core.display.Markdown object>"
      ]
     },
     "metadata": {},
     "output_type": "display_data"
    },
    {
     "data": {
      "text/markdown": [
       "sweet and commendable in your nature, Hamlet, To give these mourning duties to your father; But, you must know, your father lost a <span style=\"color: blue\">father; That father lost</span>, lost his; and the survivor bound, In filial obligation, for some term To do obsequious sorrow: but to persevere In obstinate"
      ],
      "text/plain": [
       "<IPython.core.display.Markdown object>"
      ]
     },
     "metadata": {},
     "output_type": "display_data"
    },
    {
     "data": {
      "text/markdown": [
       "### Amy Lee, or, without and Within: By the Author of \"Our Parish.\""
      ],
      "text/plain": [
       "<IPython.core.display.Markdown object>"
      ]
     },
     "metadata": {},
     "output_type": "display_data"
    },
    {
     "data": {
      "text/markdown": [
       "<small>Hill, George Canning</small>"
      ],
      "text/plain": [
       "<IPython.core.display.Markdown object>"
      ]
     },
     "metadata": {},
     "output_type": "display_data"
    },
    {
     "data": {
      "text/markdown": [
       "landscape. All the while her thoughts were actively employed. There was Boston, and that dear old street, and house, and chamber ; there was the memory of her life so many years with her <span style=\"color: blue\">father — that father now lost</span> to her for¬ ever ; there Avere her old pupils still, thinking perhaps of their parting with her, and perhaps hoping that before long she would return. It was quite noon"
      ],
      "text/plain": [
       "<IPython.core.display.Markdown object>"
      ]
     },
     "metadata": {},
     "output_type": "display_data"
    },
    {
     "name": "stdout",
     "output_type": "stream",
     "text": [
      "--------------------------------------------------\n"
     ]
    },
    {
     "data": {
      "text/markdown": [
       "### Hamlet"
      ],
      "text/plain": [
       "<IPython.core.display.Markdown object>"
      ]
     },
     "metadata": {},
     "output_type": "display_data"
    },
    {
     "data": {
      "text/markdown": [
       "shall I lie in your lap? [Lying down at Ophelia's feet.] Oph. No, my lord. Ham. I mean, my <span style=\"color: blue\">head upon your lap</span>? Oph. Ay, my lord. Ham. Do you think I meant country matters? Oph. I think nothing, my lord. Ham"
      ],
      "text/plain": [
       "<IPython.core.display.Markdown object>"
      ]
     },
     "metadata": {},
     "output_type": "display_data"
    },
    {
     "data": {
      "text/markdown": [
       "### A Fair Maid of Florida: By Mary Moncure Parker... A Story of the Spanish Possession of the Floridas in the Eighteenth Century"
      ],
      "text/plain": [
       "<IPython.core.display.Markdown object>"
      ]
     },
     "metadata": {},
     "output_type": "display_data"
    },
    {
     "data": {
      "text/markdown": [
       "<small>Parker, Mary Moncure</small>"
      ],
      "text/plain": [
       "<IPython.core.display.Markdown object>"
      ]
     },
     "metadata": {},
     "output_type": "display_data"
    },
    {
     "data": {
      "text/markdown": [
       "Mingúela led the wav to a seat. “Go away, Zara,” as the fawn ran forward and laid its <span style=\"color: blue\">head upon her lap</span>. “I see you every day, but Diego I see not nearly so often. It was only by chance,” turning to her lover, “that 1 could see you to-night. Father has gone to play"
      ],
      "text/plain": [
       "<IPython.core.display.Markdown object>"
      ]
     },
     "metadata": {},
     "output_type": "display_data"
    },
    {
     "name": "stdout",
     "output_type": "stream",
     "text": [
      "--------------------------------------------------\n"
     ]
    },
    {
     "data": {
      "text/markdown": [
       "### Hamlet"
      ],
      "text/plain": [
       "<IPython.core.display.Markdown object>"
      ]
     },
     "metadata": {},
     "output_type": "display_data"
    },
    {
     "data": {
      "text/markdown": [
       "stain'd, Excitements of my reason and my blood, And let all sleep? while, to my shame, I see The imminent death of <span style=\"color: blue\">twenty thousand men</span> That, for a fantasy and trick of fame, Go to their graves like beds; fight for a plot Whereon the numbers cannot"
      ],
      "text/plain": [
       "<IPython.core.display.Markdown object>"
      ]
     },
     "metadata": {},
     "output_type": "display_data"
    },
    {
     "data": {
      "text/markdown": [
       "### A Fair Maid of Florida: By Mary Moncure Parker... A Story of the Spanish Possession of the Floridas in the Eighteenth Century"
      ],
      "text/plain": [
       "<IPython.core.display.Markdown object>"
      ]
     },
     "metadata": {},
     "output_type": "display_data"
    },
    {
     "data": {
      "text/markdown": [
       "<small>Parker, Mary Moncure</small>"
      ],
      "text/plain": [
       "<IPython.core.display.Markdown object>"
      ]
     },
     "metadata": {},
     "output_type": "display_data"
    },
    {
     "data": {
      "text/markdown": [
       "sing. “The captain got away almost as by a miracle, and says the English arrived the sixth of June with a force of tw <span style=\"color: blue\">enty thousand men.</span>’’ “Twenty thousand men. \" Don Manuel ejaculated. This was the largest armament America had at that time ever seen."
      ],
      "text/plain": [
       "<IPython.core.display.Markdown object>"
      ]
     },
     "metadata": {},
     "output_type": "display_data"
    },
    {
     "name": "stdout",
     "output_type": "stream",
     "text": [
      "--------------------------------------------------\n"
     ]
    },
    {
     "data": {
      "text/markdown": [
       "### Hamlet"
      ],
      "text/plain": [
       "<IPython.core.display.Markdown object>"
      ]
     },
     "metadata": {},
     "output_type": "display_data"
    },
    {
     "data": {
      "text/markdown": [
       "Laer. My will, not all the world: And for my means, I'll husband them so well, They shall go far with little. King. Good Laertes, If you desire to know the certainty Of your <span style=\"color: blue\">dear father's</span> death, is't writ in your revenge That, sweepstake, you will draw both friend and foe, Winner and loser"
      ],
      "text/plain": [
       "<IPython.core.display.Markdown object>"
      ]
     },
     "metadata": {},
     "output_type": "display_data"
    },
    {
     "data": {
      "text/markdown": [
       "### A Fair Maid of Florida: By Mary Moncure Parker... A Story of the Spanish Possession of the Floridas in the Eighteenth Century"
      ],
      "text/plain": [
       "<IPython.core.display.Markdown object>"
      ]
     },
     "metadata": {},
     "output_type": "display_data"
    },
    {
     "data": {
      "text/markdown": [
       "<small>Parker, Mary Moncure</small>"
      ],
      "text/plain": [
       "<IPython.core.display.Markdown object>"
      ]
     },
     "metadata": {},
     "output_type": "display_data"
    },
    {
     "data": {
      "text/markdown": [
       "e of feeling came over her for the brave English heart that had throblied with love for her. Farewell for¬ ever to this home of her youth, and the burial place of her dea <span style=\"color: blue\">r father's as</span> hes ! She leaned heavily against Diego, and her eyes swam with tears. He held her dosel}·,"
      ],
      "text/plain": [
       "<IPython.core.display.Markdown object>"
      ]
     },
     "metadata": {},
     "output_type": "display_data"
    },
    {
     "name": "stdout",
     "output_type": "stream",
     "text": [
      "--------------------------------------------------\n"
     ]
    },
    {
     "data": {
      "text/markdown": [
       "### Hamlet"
      ],
      "text/plain": [
       "<IPython.core.display.Markdown object>"
      ]
     },
     "metadata": {},
     "output_type": "display_data"
    },
    {
     "data": {
      "text/markdown": [
       "figure Comes armed through our watch; so like the king That was and is the question of these wars. Hor. A mote it is to trouble the <span style=\"color: blue\">mind's eye</span>. In the most high and palmy state of Rome, A little ere the mightiest Julius fell, The graves stood tenantless"
      ],
      "text/plain": [
       "<IPython.core.display.Markdown object>"
      ]
     },
     "metadata": {},
     "output_type": "display_data"
    },
    {
     "data": {
      "text/markdown": [
       "### A Christmas Dream: By James T. Brady; Illustrated by Edward S. Hall"
      ],
      "text/plain": [
       "<IPython.core.display.Markdown object>"
      ]
     },
     "metadata": {},
     "output_type": "display_data"
    },
    {
     "data": {
      "text/markdown": [
       "<small>Brady, James T. (James Topham)</small>"
      ],
      "text/plain": [
       "<IPython.core.display.Markdown object>"
      ]
     },
     "metadata": {},
     "output_type": "display_data"
    },
    {
     "data": {
      "text/markdown": [
       "nrelenting sea must give the sad responses to my call. Alas ! how I shudder when 38 the past discloses to my m <span style=\"color: blue\">ind’s eye</span> those, too, who, failing to achieve any part of the triumphs for which they had every endowment, went down so ignobly in the “ battle of life,” leaving Charity to be the kindest"
      ],
      "text/plain": [
       "<IPython.core.display.Markdown object>"
      ]
     },
     "metadata": {},
     "output_type": "display_data"
    },
    {
     "name": "stdout",
     "output_type": "stream",
     "text": [
      "--------------------------------------------------\n"
     ]
    },
    {
     "data": {
      "text/markdown": [
       "### Hamlet"
      ],
      "text/plain": [
       "<IPython.core.display.Markdown object>"
      ]
     },
     "metadata": {},
     "output_type": "display_data"
    },
    {
     "data": {
      "text/markdown": [
       "divulging, let it feed Even on the pith of life. Where is he gone? Queen. To draw apart the body he hath kill' <span style=\"color: blue\">d: O'er</span> whom his very madness, like some ore Among a mineral of metals base, Shows itself pure"
      ],
      "text/plain": [
       "<IPython.core.display.Markdown object>"
      ]
     },
     "metadata": {},
     "output_type": "display_data"
    },
    {
     "data": {
      "text/markdown": [
       "### Richard Hurdis, or, the Avenger of Blood: A Tale of Alabama"
      ],
      "text/plain": [
       "<IPython.core.display.Markdown object>"
      ]
     },
     "metadata": {},
     "output_type": "display_data"
    },
    {
     "data": {
      "text/markdown": [
       "<small>Simms, William Gilmore</small>"
      ],
      "text/plain": [
       "<IPython.core.display.Markdown object>"
      ]
     },
     "metadata": {},
     "output_type": "display_data"
    },
    {
     "data": {
      "text/markdown": [
       "ours With peace embosom’d in Idalian bowers! Remote from busy life’s bewilder’d <span style=\"color: blue\">way O’er</span> all his heart shall taste and beauty sway— Free on the sunny slope, or winding shore,"
      ],
      "text/plain": [
       "<IPython.core.display.Markdown object>"
      ]
     },
     "metadata": {},
     "output_type": "display_data"
    },
    {
     "name": "stdout",
     "output_type": "stream",
     "text": [
      "--------------------------------------------------\n"
     ]
    },
    {
     "data": {
      "text/markdown": [
       "### Hamlet"
      ],
      "text/plain": [
       "<IPython.core.display.Markdown object>"
      ]
     },
     "metadata": {},
     "output_type": "display_data"
    },
    {
     "data": {
      "text/markdown": [
       "creatures, and make your wantonness your ignorance. Go to, I'll no more on't; it hath made me mad. I say, we will have no more marriages: those that are married already, all but one, <span style=\"color: blue\">shall live; the rest</span> shall keep as they are. To a nunnery, go. [Exit.] Oph. O, what a noble mind is here o'erthrown! The courtier"
      ],
      "text/plain": [
       "<IPython.core.display.Markdown object>"
      ]
     },
     "metadata": {},
     "output_type": "display_data"
    },
    {
     "data": {
      "text/markdown": [
       "### Corleone: A Tale of Sicily: By F. Marion Crawford …"
      ],
      "text/plain": [
       "<IPython.core.display.Markdown object>"
      ]
     },
     "metadata": {},
     "output_type": "display_data"
    },
    {
     "data": {
      "text/markdown": [
       "<small>Crawford, F. Marion (Francis Marion)</small>"
      ],
      "text/plain": [
       "<IPython.core.display.Markdown object>"
      ]
     },
     "metadata": {},
     "output_type": "display_data"
    },
    {
     "data": {
      "text/markdown": [
       "sort of devotion. She was very fond of him. He patted the back of her head affectionately. “In truth, my dear,” he said gently, “if I see you always thus, 1 <span style=\"color: blue\">shall not live long, for 1 have only you in the world, and the rest</span> does not mat¬ ter. But it is not that, since I would die to make you happy. What should it be for me? I am old. I am of no use. They will have another apothe¬ cary in Santa Vittoria. That is nothing. My thoughts"
      ],
      "text/plain": [
       "<IPython.core.display.Markdown object>"
      ]
     },
     "metadata": {},
     "output_type": "display_data"
    },
    {
     "name": "stdout",
     "output_type": "stream",
     "text": [
      "--------------------------------------------------\n"
     ]
    },
    {
     "data": {
      "text/markdown": [
       "### Hamlet"
      ],
      "text/plain": [
       "<IPython.core.display.Markdown object>"
      ]
     },
     "metadata": {},
     "output_type": "display_data"
    },
    {
     "data": {
      "text/markdown": [
       "O, treble woe Fall ten times treble on that cursed head Whose <span style=\"color: blue\">wicked deed thy</span> most ingenious sense Depriv'd thee of!--Hold off the earth awhile, Till I have caught"
      ],
      "text/plain": [
       "<IPython.core.display.Markdown object>"
      ]
     },
     "metadata": {},
     "output_type": "display_data"
    },
    {
     "data": {
      "text/markdown": [
       "### Paul and Christina: By Amelia Barr"
      ],
      "text/plain": [
       "<IPython.core.display.Markdown object>"
      ]
     },
     "metadata": {},
     "output_type": "display_data"
    },
    {
     "data": {
      "text/markdown": [
       "<small>Barr, Amelia E.</small>"
      ],
      "text/plain": [
       "<IPython.core.display.Markdown object>"
      ]
     },
     "metadata": {},
     "output_type": "display_data"
    },
    {
     "data": {
      "text/markdown": [
       "mockery to ask God to bless such a meal as this. 1 fear me that it is the devil who makes the third with us this day.’* 44 1 think that, too.” “ Well, then, be sorry for the <span style=\"color: blue\">wicked deed that it was in thy</span> heart to do and let us make an end of the trouble.” “ Thou only art to blame for it. There was no harm in going to Holland with the Sabays. Openly and in the sight"
      ],
      "text/plain": [
       "<IPython.core.display.Markdown object>"
      ]
     },
     "metadata": {},
     "output_type": "display_data"
    },
    {
     "name": "stdout",
     "output_type": "stream",
     "text": [
      "--------------------------------------------------\n"
     ]
    },
    {
     "data": {
      "text/markdown": [
       "### Hamlet"
      ],
      "text/plain": [
       "<IPython.core.display.Markdown object>"
      ]
     },
     "metadata": {},
     "output_type": "display_data"
    },
    {
     "data": {
      "text/markdown": [
       "Hamlet's transformation; so I call it, Since nor the exterior nor the inward man Resembles that it was. What it should be, More than his <span style=\"color: blue\">father's death</span>, that thus hath put him So much from the understanding of himself, I cannot dream of: I entreat you both That, being of so young days"
      ],
      "text/plain": [
       "<IPython.core.display.Markdown object>"
      ]
     },
     "metadata": {},
     "output_type": "display_data"
    },
    {
     "data": {
      "text/markdown": [
       "### A Rift in the Cloud: A Novel: Written by One Who Sees Only with the Eyes of the Mind"
      ],
      "text/plain": [
       "<IPython.core.display.Markdown object>"
      ]
     },
     "metadata": {},
     "output_type": "display_data"
    },
    {
     "data": {
      "text/markdown": [
       "<small>Cleaveland, Frank E. (Frank Edward)</small>"
      ],
      "text/plain": [
       "<IPython.core.display.Markdown object>"
      ]
     },
     "metadata": {},
     "output_type": "display_data"
    },
    {
     "data": {
      "text/markdown": [
       "Czar. He well knew that my father and the late Czar were the best of friends and that we owed everything to his generosity and patronage. After mother and <span style=\"color: blue\">father’s death</span> I pled with my brother to go back to Italy with me where our grandparents still lived and he promised to do so just as soon as he had finished his studies in the University"
      ],
      "text/plain": [
       "<IPython.core.display.Markdown object>"
      ]
     },
     "metadata": {},
     "output_type": "display_data"
    },
    {
     "name": "stdout",
     "output_type": "stream",
     "text": [
      "--------------------------------------------------\n"
     ]
    },
    {
     "data": {
      "text/markdown": [
       "### Hamlet"
      ],
      "text/plain": [
       "<IPython.core.display.Markdown object>"
      ]
     },
     "metadata": {},
     "output_type": "display_data"
    },
    {
     "data": {
      "text/markdown": [
       "crowflowers, nettles, daisies, and long purples, That liberal shepherds give a grosser name, But our cold maids do <span style=\"color: blue\">dead men's</span> fingers call them. There, on the pendant boughs her coronet weeds Clamb'ring to hang, an envious"
      ],
      "text/plain": [
       "<IPython.core.display.Markdown object>"
      ]
     },
     "metadata": {},
     "output_type": "display_data"
    },
    {
     "data": {
      "text/markdown": [
       "### A Rift in the Cloud: A Novel: Written by One Who Sees Only with the Eyes of the Mind"
      ],
      "text/plain": [
       "<IPython.core.display.Markdown object>"
      ]
     },
     "metadata": {},
     "output_type": "display_data"
    },
    {
     "data": {
      "text/markdown": [
       "<small>Cleaveland, Frank E. (Frank Edward)</small>"
      ],
      "text/plain": [
       "<IPython.core.display.Markdown object>"
      ]
     },
     "metadata": {},
     "output_type": "display_data"
    },
    {
     "data": {
      "text/markdown": [
       "ing, as soon as it was light, the “Sprite” made its way to the cave. Another loud explosion had been heard ín the vicinity of <span style=\"color: blue\">Dead- men’s</span> Isle during the night, and Captain Spark’s expectation that the submarine boat had been bt"
      ],
      "text/plain": [
       "<IPython.core.display.Markdown object>"
      ]
     },
     "metadata": {},
     "output_type": "display_data"
    },
    {
     "name": "stdout",
     "output_type": "stream",
     "text": [
      "--------------------------------------------------\n"
     ]
    },
    {
     "data": {
      "text/markdown": [
       "### Hamlet"
      ],
      "text/plain": [
       "<IPython.core.display.Markdown object>"
      ]
     },
     "metadata": {},
     "output_type": "display_data"
    },
    {
     "data": {
      "text/markdown": [
       "figure Comes armed through our watch; so like the king That was and is the question of these wars. Hor. A mote it is to trouble the <span style=\"color: blue\">mind's eye</span>. In the most high and palmy state of Rome, A little ere the mightiest Julius fell, The graves stood tenantless"
      ],
      "text/plain": [
       "<IPython.core.display.Markdown object>"
      ]
     },
     "metadata": {},
     "output_type": "display_data"
    },
    {
     "data": {
      "text/markdown": [
       "### Rurality: Original Desultory Tales: By Mary Elizabeth Talbot"
      ],
      "text/plain": [
       "<IPython.core.display.Markdown object>"
      ]
     },
     "metadata": {},
     "output_type": "display_data"
    },
    {
     "data": {
      "text/markdown": [
       "<small>Talbot, Mary Elizabeth</small>"
      ],
      "text/plain": [
       "<IPython.core.display.Markdown object>"
      ]
     },
     "metadata": {},
     "output_type": "display_data"
    },
    {
     "data": {
      "text/markdown": [
       "l, “ who have risen victor over wealth or fame.—This night reminds me of one, I never shall cease to bear in my min <span style=\"color: blue\">d’s eye, w</span> hen I exulted, that reason assum¬ ed her throne, over the effects of a wild imagination; that the heart must de"
      ],
      "text/plain": [
       "<IPython.core.display.Markdown object>"
      ]
     },
     "metadata": {},
     "output_type": "display_data"
    },
    {
     "name": "stdout",
     "output_type": "stream",
     "text": [
      "--------------------------------------------------\n"
     ]
    },
    {
     "data": {
      "text/markdown": [
       "### Hamlet"
      ],
      "text/plain": [
       "<IPython.core.display.Markdown object>"
      ]
     },
     "metadata": {},
     "output_type": "display_data"
    },
    {
     "data": {
      "text/markdown": [
       "age his sables and his weeds, Importing health and graveness.--Two months since, Here was a gentleman of Normandy,-- I' <span style=\"color: blue\">ve seen myself</span>, and serv'd against, the French, And they can well on horseback: but this gallant Had witchcraft in't: he grew unto"
      ],
      "text/plain": [
       "<IPython.core.display.Markdown object>"
      ]
     },
     "metadata": {},
     "output_type": "display_data"
    },
    {
     "data": {
      "text/markdown": [
       "### The Eternal Rose: A Story without a Beginning or an End: By Melville Chater"
      ],
      "text/plain": [
       "<IPython.core.display.Markdown object>"
      ]
     },
     "metadata": {},
     "output_type": "display_data"
    },
    {
     "data": {
      "text/markdown": [
       "<small>Chater, Melville</small>"
      ],
      "text/plain": [
       "<IPython.core.display.Markdown object>"
      ]
     },
     "metadata": {},
     "output_type": "display_data"
    },
    {
     "data": {
      "text/markdown": [
       "reached this morning, although I must say that I didn’t like it altogether.” “It seemed to us,” said Cargyle, “that he made too much of the box. Why, I’v <span style=\"color: blue\">e seen the thing myself.</span> It’s a quaint, old-fashioned bit of carving that many a person, I dare say, would take a liking to : but to preach a sermon"
      ],
      "text/plain": [
       "<IPython.core.display.Markdown object>"
      ]
     },
     "metadata": {},
     "output_type": "display_data"
    },
    {
     "name": "stdout",
     "output_type": "stream",
     "text": [
      "--------------------------------------------------\n"
     ]
    },
    {
     "data": {
      "text/markdown": [
       "### Hamlet"
      ],
      "text/plain": [
       "<IPython.core.display.Markdown object>"
      ]
     },
     "metadata": {},
     "output_type": "display_data"
    },
    {
     "data": {
      "text/markdown": [
       "Ham. Come on, sir. Laer. Come, my lord. [They play.] Ham. One. Laer. No. Ham. Judgment! Osr. A <span style=\"color: blue\">hit, a very palpable hit</span>. Laer. Well;--again. King. Stay, give me drink.--Hamlet, this pearl is thine; Here's to thy health"
      ],
      "text/plain": [
       "<IPython.core.display.Markdown object>"
      ]
     },
     "metadata": {},
     "output_type": "display_data"
    },
    {
     "data": {
      "text/markdown": [
       "### The Nest-Builder: A Novel: By Beatrice Forbes-Robertson Hale; with a Frontispiece by J. Henry"
      ],
      "text/plain": [
       "<IPython.core.display.Markdown object>"
      ]
     },
     "metadata": {},
     "output_type": "display_data"
    },
    {
     "data": {
      "text/markdown": [
       "<small>Hale, Beatrice Forbes-Robertson</small>"
      ],
      "text/plain": [
       "<IPython.core.display.Markdown object>"
      ]
     },
     "metadata": {},
     "output_type": "display_data"
    },
    {
     "data": {
      "text/markdown": [
       "eading our wholesome literature,” Farraday retorted. “Had you done your duty by the Household magazines you would have needed no telling.” “A h <span style=\"color: blue\">it, a palpable hit,</span>” she answered, laughing. “Which reminds me that T want another article from you, James, for our Woman Citizen.” “Mrs. Byrd,"
      ],
      "text/plain": [
       "<IPython.core.display.Markdown object>"
      ]
     },
     "metadata": {},
     "output_type": "display_data"
    },
    {
     "name": "stdout",
     "output_type": "stream",
     "text": [
      "--------------------------------------------------\n"
     ]
    },
    {
     "data": {
      "text/markdown": [
       "### Hamlet"
      ],
      "text/plain": [
       "<IPython.core.display.Markdown object>"
      ]
     },
     "metadata": {},
     "output_type": "display_data"
    },
    {
     "data": {
      "text/markdown": [
       "Laertes falls.] Laer. It is here, Hamlet: Hamlet, thou art slain; No medicine in the world can do thee good; In <span style=\"color: blue\">thee there is not half an hour</span> of life; The treacherous instrument is in thy hand, Unbated and envenom'd: the foul practice Hath"
      ],
      "text/plain": [
       "<IPython.core.display.Markdown object>"
      ]
     },
     "metadata": {},
     "output_type": "display_data"
    },
    {
     "data": {
      "text/markdown": [
       "### The Haydocks' Testimony: By L. C. W. …"
      ],
      "text/plain": [
       "<IPython.core.display.Markdown object>"
      ]
     },
     "metadata": {},
     "output_type": "display_data"
    },
    {
     "data": {
      "text/markdown": [
       "<small>Wood, Lydia Cope, Mrs.</small>"
      ],
      "text/plain": [
       "<IPython.core.display.Markdown object>"
      ]
     },
     "metadata": {},
     "output_type": "display_data"
    },
    {
     "data": {
      "text/markdown": [
       "leave me here?” asked Frances, her voice quivering a little in spite of herself. “ That is the worst of it,” said James, “ I do not like to leave <span style=\"color: blue\">thee even for half an hour</span>.” “ Never mind,” said Frances more steadily, “ I wanted to help and now I can. Rex will stay with me and it will not be for long.” “ No, an hour at the outside,” replied James"
      ],
      "text/plain": [
       "<IPython.core.display.Markdown object>"
      ]
     },
     "metadata": {},
     "output_type": "display_data"
    },
    {
     "name": "stdout",
     "output_type": "stream",
     "text": [
      "--------------------------------------------------\n"
     ]
    },
    {
     "data": {
      "text/markdown": [
       "### Hamlet"
      ],
      "text/plain": [
       "<IPython.core.display.Markdown object>"
      ]
     },
     "metadata": {},
     "output_type": "display_data"
    },
    {
     "data": {
      "text/markdown": [
       "d: the foul practice Hath turn'd itself on me; lo, here I lie, Never to rise again: <span style=\"color: blue\">thy mother's</span> poison'd: I can no more:--the king, the king's to blame. Ham. The point envenom'd"
      ],
      "text/plain": [
       "<IPython.core.display.Markdown object>"
      ]
     },
     "metadata": {},
     "output_type": "display_data"
    },
    {
     "data": {
      "text/markdown": [
       "### The Haydocks' Testimony: By L. C. W. …"
      ],
      "text/plain": [
       "<IPython.core.display.Markdown object>"
      ]
     },
     "metadata": {},
     "output_type": "display_data"
    },
    {
     "data": {
      "text/markdown": [
       "<small>Wood, Lydia Cope, Mrs.</small>"
      ],
      "text/plain": [
       "<IPython.core.display.Markdown object>"
      ]
     },
     "metadata": {},
     "output_type": "display_data"
    },
    {
     "data": {
      "text/markdown": [
       "thee must suffer.” James Haydock put his arm around her and she sobbed on his shoulder. “ Thee will be <span style=\"color: blue\">thy mother’s</span> great dependence, Molly. John is but young and boyish, though he does his best ; I thank God daily for my daughter"
      ],
      "text/plain": [
       "<IPython.core.display.Markdown object>"
      ]
     },
     "metadata": {},
     "output_type": "display_data"
    },
    {
     "name": "stdout",
     "output_type": "stream",
     "text": [
      "--------------------------------------------------\n"
     ]
    },
    {
     "data": {
      "text/markdown": [
       "### Hamlet"
      ],
      "text/plain": [
       "<IPython.core.display.Markdown object>"
      ]
     },
     "metadata": {},
     "output_type": "display_data"
    },
    {
     "data": {
      "text/markdown": [
       "Ros and Guil. We will haste us. [Exeunt Ros. and Guil.] [Enter Polonius.] Pol. My lord, he' <span style=\"color: blue\">s going to his mother's</span> closet: Behind the arras I'll convey myself To hear the process; I'll warrant"
      ],
      "text/plain": [
       "<IPython.core.display.Markdown object>"
      ]
     },
     "metadata": {},
     "output_type": "display_data"
    },
    {
     "data": {
      "text/markdown": [
       "### With Those That Were: Stories of Two Wars: By Francis W. Grattan; Illustrated by Wm. L. Hudson"
      ],
      "text/plain": [
       "<IPython.core.display.Markdown object>"
      ]
     },
     "metadata": {},
     "output_type": "display_data"
    },
    {
     "data": {
      "text/markdown": [
       "<small>Grattan, Francis W. (Francis William)</small>"
      ],
      "text/plain": [
       "<IPython.core.display.Markdown object>"
      ]
     },
     "metadata": {},
     "output_type": "display_data"
    },
    {
     "data": {
      "text/markdown": [
       "jailer discovered and found out the cause. How he did curse ! But old Bill cared little about cusses as long as it was no wid¬ ow’ <span style=\"color: blue\">s or mother’s</span>; and as the jailer could not make public his loss, he had to smother his wrath. Our three friends sought their room, a large cosey"
      ],
      "text/plain": [
       "<IPython.core.display.Markdown object>"
      ]
     },
     "metadata": {},
     "output_type": "display_data"
    },
    {
     "name": "stdout",
     "output_type": "stream",
     "text": [
      "--------------------------------------------------\n"
     ]
    },
    {
     "data": {
      "text/markdown": [
       "### Hamlet"
      ],
      "text/plain": [
       "<IPython.core.display.Markdown object>"
      ]
     },
     "metadata": {},
     "output_type": "display_data"
    },
    {
     "data": {
      "text/markdown": [
       "shameful lust The will of my most seeming-virtuous queen: O Hamlet, what a falling-off was there! From me, whose love was of that dignity That it <span style=\"color: blue\">went hand in hand</span> even with the vow I made to her in marriage; and to decline Upon a wretch whose natural gifts were poor To those of mine"
      ],
      "text/plain": [
       "<IPython.core.display.Markdown object>"
      ]
     },
     "metadata": {},
     "output_type": "display_data"
    },
    {
     "data": {
      "text/markdown": [
       "### The Unwilling Vestal: A Tale of Rome under the C&#x00E6;sars: By Edward Lucas White"
      ],
      "text/plain": [
       "<IPython.core.display.Markdown object>"
      ]
     },
     "metadata": {},
     "output_type": "display_data"
    },
    {
     "data": {
      "text/markdown": [
       "<small>White, Edward Lucas</small>"
      ],
      "text/plain": [
       "<IPython.core.display.Markdown object>"
      ]
     },
     "metadata": {},
     "output_type": "display_data"
    },
    {
     "data": {
      "text/markdown": [
       "aulted, half rolled over the parapet, swung sailor-fashion to the rope her robe formed, w <span style=\"color: blue\">ent down it, hand over hand,</span> raced across the sand and faced the victorious secutor. He, although a foreigner and a savage, had been long enough"
      ],
      "text/plain": [
       "<IPython.core.display.Markdown object>"
      ]
     },
     "metadata": {},
     "output_type": "display_data"
    },
    {
     "name": "stdout",
     "output_type": "stream",
     "text": [
      "--------------------------------------------------\n"
     ]
    },
    {
     "data": {
      "text/markdown": [
       "### Hamlet"
      ],
      "text/plain": [
       "<IPython.core.display.Markdown object>"
      ]
     },
     "metadata": {},
     "output_type": "display_data"
    },
    {
     "data": {
      "text/markdown": [
       "sound, or use of voice, Speak to me: If there be any good thing to be done, That may to thee do ease, and, race to me, Speak to me: If thou art privy to <span style=\"color: blue\">thy country's</span> fate, Which, happily, foreknowing may avoid, O, speak! Or if thou hast uphoarded in thy"
      ],
      "text/plain": [
       "<IPython.core.display.Markdown object>"
      ]
     },
     "metadata": {},
     "output_type": "display_data"
    },
    {
     "data": {
      "text/markdown": [
       "### Merope; or, the Destruction of Atlantis: By H. H. Buckman"
      ],
      "text/plain": [
       "<IPython.core.display.Markdown object>"
      ]
     },
     "metadata": {},
     "output_type": "display_data"
    },
    {
     "data": {
      "text/markdown": [
       "<small>Buckman, H. H.</small>"
      ],
      "text/plain": [
       "<IPython.core.display.Markdown object>"
      ]
     },
     "metadata": {},
     "output_type": "display_data"
    },
    {
     "data": {
      "text/markdown": [
       "base ingrat¬ itude. “Thou speakest of being King by lawful right, and we usurpers ; thou knowest but little of <span style=\"color: blue\">thy country’s</span> early state. Who are the people that now line the shores of that great inland sea, but shoots from our own stock, but colonies from these shores"
      ],
      "text/plain": [
       "<IPython.core.display.Markdown object>"
      ]
     },
     "metadata": {},
     "output_type": "display_data"
    },
    {
     "name": "stdout",
     "output_type": "stream",
     "text": [
      "--------------------------------------------------\n"
     ]
    },
    {
     "data": {
      "text/markdown": [
       "### Hamlet"
      ],
      "text/plain": [
       "<IPython.core.display.Markdown object>"
      ]
     },
     "metadata": {},
     "output_type": "display_data"
    },
    {
     "data": {
      "text/markdown": [
       "feed Even on the pith of life. Where is he gone? Queen. To draw apart the body he hath kill'd: <span style=\"color: blue\">O'er whom</span> his very madness, like some ore Among a mineral of metals base, Shows itself pure: he weeps"
      ],
      "text/plain": [
       "<IPython.core.display.Markdown object>"
      ]
     },
     "metadata": {},
     "output_type": "display_data"
    },
    {
     "data": {
      "text/markdown": [
       "### Merope; or, the Destruction of Atlantis: By H. H. Buckman"
      ],
      "text/plain": [
       "<IPython.core.display.Markdown object>"
      ]
     },
     "metadata": {},
     "output_type": "display_data"
    },
    {
     "data": {
      "text/markdown": [
       "<small>Buckman, H. H.</small>"
      ],
      "text/plain": [
       "<IPython.core.display.Markdown object>"
      ]
     },
     "metadata": {},
     "output_type": "display_data"
    },
    {
     "data": {
      "text/markdown": [
       "told of Ægle’s advent, then thought he of the star. But Ægle moved not, still with outstretched arms she knelt, like one <span style=\"color: blue\">o’er whom</span> the en¬ chanter’s wand had passed til Maia, whose dark eyes"
      ],
      "text/plain": [
       "<IPython.core.display.Markdown object>"
      ]
     },
     "metadata": {},
     "output_type": "display_data"
    },
    {
     "name": "stdout",
     "output_type": "stream",
     "text": [
      "--------------------------------------------------\n"
     ]
    },
    {
     "data": {
      "text/markdown": [
       "### Hamlet"
      ],
      "text/plain": [
       "<IPython.core.display.Markdown object>"
      ]
     },
     "metadata": {},
     "output_type": "display_data"
    },
    {
     "data": {
      "text/markdown": [
       "Horatio, And much offence too. Touching this vision here,-- It is an honest ghost, that let me tell you: For your desire to know what is between us, O'ermaster' <span style=\"color: blue\">t as you may. And now, good friends, As you are friends</span>, scholars, and soldiers, Give me one poor request. Hor. What is't, my lord? we will. Ham. Never make known what you have seen"
      ],
      "text/plain": [
       "<IPython.core.display.Markdown object>"
      ]
     },
     "metadata": {},
     "output_type": "display_data"
    },
    {
     "data": {
      "text/markdown": [
       "### The King's Mark: A Story of Early Portland: By Ella Matthews Bangs"
      ],
      "text/plain": [
       "<IPython.core.display.Markdown object>"
      ]
     },
     "metadata": {},
     "output_type": "display_data"
    },
    {
     "data": {
      "text/markdown": [
       "<small>Bangs, Ella Matthews</small>"
      ],
      "text/plain": [
       "<IPython.core.display.Markdown object>"
      ]
     },
     "metadata": {},
     "output_type": "display_data"
    },
    {
     "data": {
      "text/markdown": [
       "Mistress of Harrow House.” The girl looked up, her work forgotten. “ О Cedric,—not that, please—please—not yet.” “Not yet? and why? It is now I want you.” “ But I don’t—I can’ <span style=\"color: blue\">t. Let us be friends, just friends</span> as we always have been.” “ Friends ! Fiddlesticks ! ” cried the young man impatiently, and rising he walked up the room and down again, then pausing before her, spoke"
      ],
      "text/plain": [
       "<IPython.core.display.Markdown object>"
      ]
     },
     "metadata": {},
     "output_type": "display_data"
    },
    {
     "name": "stdout",
     "output_type": "stream",
     "text": [
      "--------------------------------------------------\n"
     ]
    },
    {
     "data": {
      "text/markdown": [
       "### Hamlet"
      ],
      "text/plain": [
       "<IPython.core.display.Markdown object>"
      ]
     },
     "metadata": {},
     "output_type": "display_data"
    },
    {
     "data": {
      "text/markdown": [
       "father and aunt-mother are deceived. Guil. In what, my dear lord? Ham. I am but mad north- <span style=\"color: blue\">north-west: when the wind</span> is southerly I know a hawk from a handsaw. [Enter Polonius.] Pol. Well be with you, gentlemen! Ham. Hark you, Guildenstern"
      ],
      "text/plain": [
       "<IPython.core.display.Markdown object>"
      ]
     },
     "metadata": {},
     "output_type": "display_data"
    },
    {
     "data": {
      "text/markdown": [
       "### The King's Mark: A Story of Early Portland: By Ella Matthews Bangs"
      ],
      "text/plain": [
       "<IPython.core.display.Markdown object>"
      ]
     },
     "metadata": {},
     "output_type": "display_data"
    },
    {
     "data": {
      "text/markdown": [
       "<small>Bangs, Ella Matthews</small>"
      ],
      "text/plain": [
       "<IPython.core.display.Markdown object>"
      ]
     },
     "metadata": {},
     "output_type": "display_data"
    },
    {
     "data": {
      "text/markdown": [
       "October, when the clear blue of the sky was flecked with bits of clouds blown softly on by a fresh <span style=\"color: blue\">north-west wind</span>, a vessel was descried in the 16 lower harbor ; glasses brought to bear upon the stranger discerned"
      ],
      "text/plain": [
       "<IPython.core.display.Markdown object>"
      ]
     },
     "metadata": {},
     "output_type": "display_data"
    },
    {
     "name": "stdout",
     "output_type": "stream",
     "text": [
      "--------------------------------------------------\n"
     ]
    },
    {
     "data": {
      "text/markdown": [
       "### Hamlet"
      ],
      "text/plain": [
       "<IPython.core.display.Markdown object>"
      ]
     },
     "metadata": {},
     "output_type": "display_data"
    },
    {
     "data": {
      "text/markdown": [
       "friends. Hor. O day and night, but this is wondrous strange! Ham. And therefore as a stranger give it welcome. There are more things in <span style=\"color: blue\">heaven and earth, Horatio</span>, Than are dreamt of in your philosophy. But come;-- Here, as before, never, so help you mercy, How strange or odd soe'er I bear myself,-- As I, perchance"
      ],
      "text/plain": [
       "<IPython.core.display.Markdown object>"
      ]
     },
     "metadata": {},
     "output_type": "display_data"
    },
    {
     "data": {
      "text/markdown": [
       "### Zaléa: A Psychological Episode and Tale of Love: By Rufus Cummins Garland"
      ],
      "text/plain": [
       "<IPython.core.display.Markdown object>"
      ]
     },
     "metadata": {},
     "output_type": "display_data"
    },
    {
     "data": {
      "text/markdown": [
       "<small>Garland, Rufus Cummins</small>"
      ],
      "text/plain": [
       "<IPython.core.display.Markdown object>"
      ]
     },
     "metadata": {},
     "output_type": "display_data"
    },
    {
     "data": {
      "text/markdown": [
       "forth to minister for them who shall be heirs of salvation t — St. Paul. But there is a spirit in man. —Job. There are more things in <span style=\"color: blue\">heaven and earth, Horatio</span>, Than are dreamed of in your philosophy. — Shakespeare. Endless is the search of truth. — Sterne. vtt ZALEA CHAPTER"
      ],
      "text/plain": [
       "<IPython.core.display.Markdown object>"
      ]
     },
     "metadata": {},
     "output_type": "display_data"
    },
    {
     "name": "stdout",
     "output_type": "stream",
     "text": [
      "--------------------------------------------------\n"
     ]
    },
    {
     "data": {
      "text/markdown": [
       "### Hamlet"
      ],
      "text/plain": [
       "<IPython.core.display.Markdown object>"
      ]
     },
     "metadata": {},
     "output_type": "display_data"
    },
    {
     "data": {
      "text/markdown": [
       "sword, indeed. Ghost. [Beneath.] Swear. Ham. Ha, ha boy! say'st <span style=\"color: blue\">thou so? art thou</span> there, truepenny?-- Come on!--you hear this fellow in the cellarage,-- Consent to swear. Hor. Propose the oath, my lord"
      ],
      "text/plain": [
       "<IPython.core.display.Markdown object>"
      ]
     },
     "metadata": {},
     "output_type": "display_data"
    },
    {
     "data": {
      "text/markdown": [
       "### Lord Nial: A Romance, in Four Cantos: By J. M. M."
      ],
      "text/plain": [
       "<IPython.core.display.Markdown object>"
      ]
     },
     "metadata": {},
     "output_type": "display_data"
    },
    {
     "data": {
      "text/markdown": [
       "<small>Moore, John McDermott</small>"
      ],
      "text/plain": [
       "<IPython.core.display.Markdown object>"
      ]
     },
     "metadata": {},
     "output_type": "display_data"
    },
    {
     "data": {
      "text/markdown": [
       "vow, All future ills may do their worst, They cannot make me more accurst — And yet with thee, whate’er <span style=\"color: blue\">thou art, Thou</span> first, best idol of my heart, Where e’er thy home — whate’er the test, Still love me, and I must be blest"
      ],
      "text/plain": [
       "<IPython.core.display.Markdown object>"
      ]
     },
     "metadata": {},
     "output_type": "display_data"
    },
    {
     "name": "stdout",
     "output_type": "stream",
     "text": [
      "--------------------------------------------------\n"
     ]
    },
    {
     "data": {
      "text/markdown": [
       "### Hamlet"
      ],
      "text/plain": [
       "<IPython.core.display.Markdown object>"
      ]
     },
     "metadata": {},
     "output_type": "display_data"
    },
    {
     "data": {
      "text/markdown": [
       "Oph. He took me by the wrist, and held me hard; Then goes he to the length of all his arm; And with his other hand thus <span style=\"color: blue\">o'er his brow</span>, He falls to such perusal of my face As he would draw it. Long stay'd he so; At last,--a little shaking of mine arm, And thrice"
      ],
      "text/plain": [
       "<IPython.core.display.Markdown object>"
      ]
     },
     "metadata": {},
     "output_type": "display_data"
    },
    {
     "data": {
      "text/markdown": [
       "### Lord Nial: A Romance, in Four Cantos: By J. M. M."
      ],
      "text/plain": [
       "<IPython.core.display.Markdown object>"
      ]
     },
     "metadata": {},
     "output_type": "display_data"
    },
    {
     "data": {
      "text/markdown": [
       "<small>Moore, John McDermott</small>"
      ],
      "text/plain": [
       "<IPython.core.display.Markdown object>"
      ]
     },
     "metadata": {},
     "output_type": "display_data"
    },
    {
     "data": {
      "text/markdown": [
       "Lodar’s soul. He strove, but could not all control The rush of conscience, wakened now, Which burned one instant <span style=\"color: blue\">o’er his brow</span>. “ Speed, Fergus, to Sir Percy — speed Ì No other course will serve our need; Lest in the whirlwind of his wrath, He joins"
      ],
      "text/plain": [
       "<IPython.core.display.Markdown object>"
      ]
     },
     "metadata": {},
     "output_type": "display_data"
    },
    {
     "name": "stdout",
     "output_type": "stream",
     "text": [
      "--------------------------------------------------\n"
     ]
    },
    {
     "data": {
      "text/markdown": [
       "### Hamlet"
      ],
      "text/plain": [
       "<IPython.core.display.Markdown object>"
      ]
     },
     "metadata": {},
     "output_type": "display_data"
    },
    {
     "data": {
      "text/markdown": [
       "pipe? Call me what instrument you will, though you can fret me, you cannot play upon me. [Enter Polonius.] <span style=\"color: blue\">God bless you, sir</span>! Pol. My lord, the queen would speak with you, and presently. Ham. Do you see yonder cloud that's almost"
      ],
      "text/plain": [
       "<IPython.core.display.Markdown object>"
      ]
     },
     "metadata": {},
     "output_type": "display_data"
    },
    {
     "data": {
      "text/markdown": [
       "### The Woman That's Good: A Story of the Undoing of a Dreamer: By Harold Richard Vynne"
      ],
      "text/plain": [
       "<IPython.core.display.Markdown object>"
      ]
     },
     "metadata": {},
     "output_type": "display_data"
    },
    {
     "data": {
      "text/markdown": [
       "<small>Vynne, Harold Richard</small>"
      ],
      "text/plain": [
       "<IPython.core.display.Markdown object>"
      ]
     },
     "metadata": {},
     "output_type": "display_data"
    },
    {
     "data": {
      "text/markdown": [
       "commanded her: ‘‘Kiss me, my dear.” The child stood on tip-toe and did as she was bidden. She also said, quite plainly : “ <span style=\"color: blue\">God bless you, sir</span>.” The Commodore turned to his friend and asked, a little thickly, “Did you hear that?” Gaunt nodded. The four-year-old was drawing"
      ],
      "text/plain": [
       "<IPython.core.display.Markdown object>"
      ]
     },
     "metadata": {},
     "output_type": "display_data"
    },
    {
     "name": "stdout",
     "output_type": "stream",
     "text": [
      "--------------------------------------------------\n"
     ]
    },
    {
     "data": {
      "text/markdown": [
       "### Hamlet"
      ],
      "text/plain": [
       "<IPython.core.display.Markdown object>"
      ]
     },
     "metadata": {},
     "output_type": "display_data"
    },
    {
     "data": {
      "text/markdown": [
       "letters for you. Hor. Let them come in. [Exit Servant.] I do not know from what part of the world I should be greeted, if not from Lord Hamlet. [Enter Sailors.] I Sailor. <span style=\"color: blue\">God bless you, sir</span>. Hor. Let him bless thee too. Sailor. He shall, sir, an't please him. There's a letter for you, sir"
      ],
      "text/plain": [
       "<IPython.core.display.Markdown object>"
      ]
     },
     "metadata": {},
     "output_type": "display_data"
    },
    {
     "data": {
      "text/markdown": [
       "### The Woman That's Good: A Story of the Undoing of a Dreamer: By Harold Richard Vynne"
      ],
      "text/plain": [
       "<IPython.core.display.Markdown object>"
      ]
     },
     "metadata": {},
     "output_type": "display_data"
    },
    {
     "data": {
      "text/markdown": [
       "<small>Vynne, Harold Richard</small>"
      ],
      "text/plain": [
       "<IPython.core.display.Markdown object>"
      ]
     },
     "metadata": {},
     "output_type": "display_data"
    },
    {
     "data": {
      "text/markdown": [
       "shirt front, with his pudgy, black fin¬ gers, but was unrebuked. “Say it again, child,” said the Commodore, even more thickly. “ <span style=\"color: blue\">God bless you, sir</span>,” came the answer, fervently. As they descended the stairs, the skeleton on the cot slept profoundly. The two children"
      ],
      "text/plain": [
       "<IPython.core.display.Markdown object>"
      ]
     },
     "metadata": {},
     "output_type": "display_data"
    },
    {
     "name": "stdout",
     "output_type": "stream",
     "text": [
      "--------------------------------------------------\n"
     ]
    },
    {
     "data": {
      "text/markdown": [
       "### Hamlet"
      ],
      "text/plain": [
       "<IPython.core.display.Markdown object>"
      ]
     },
     "metadata": {},
     "output_type": "display_data"
    },
    {
     "data": {
      "text/markdown": [
       "shameful lust The will of my most seeming-virtuous queen: O Hamlet, what a falling-off was there! From me, whose love was of that dignity That it <span style=\"color: blue\">went hand in hand</span> even with the vow I made to her in marriage; and to decline Upon a wretch whose natural gifts were poor To those of mine"
      ],
      "text/plain": [
       "<IPython.core.display.Markdown object>"
      ]
     },
     "metadata": {},
     "output_type": "display_data"
    },
    {
     "data": {
      "text/markdown": [
       "### Our Miss York: By Edwin Bateman Morris; Illustrated by Coles Phillips and Ralph L. Boyer"
      ],
      "text/plain": [
       "<IPython.core.display.Markdown object>"
      ]
     },
     "metadata": {},
     "output_type": "display_data"
    },
    {
     "data": {
      "text/markdown": [
       "<small>Morris, Edwin B.</small>"
      ],
      "text/plain": [
       "<IPython.core.display.Markdown object>"
      ]
     },
     "metadata": {},
     "output_type": "display_data"
    },
    {
     "data": {
      "text/markdown": [
       "Martin for permission, which that lady gave. 15 “ Pick daffodils—with long stems,” she ex¬ plained. The children <span style=\"color: blue\">went hand in hand</span> down the gravel path. Margaret thrust her hand down deep and plucked a flower with a long stem. The boy"
      ],
      "text/plain": [
       "<IPython.core.display.Markdown object>"
      ]
     },
     "metadata": {},
     "output_type": "display_data"
    },
    {
     "name": "stdout",
     "output_type": "stream",
     "text": [
      "--------------------------------------------------\n"
     ]
    },
    {
     "data": {
      "text/markdown": [
       "### Hamlet"
      ],
      "text/plain": [
       "<IPython.core.display.Markdown object>"
      ]
     },
     "metadata": {},
     "output_type": "display_data"
    },
    {
     "data": {
      "text/markdown": [
       "Hamlet's transformation; so I call it, Since nor the exterior nor the inward man Resembles that it was. What it should be, More than his <span style=\"color: blue\">father's death</span>, that thus hath put him So much from the understanding of himself, I cannot dream of: I entreat you both That, being of so young days"
      ],
      "text/plain": [
       "<IPython.core.display.Markdown object>"
      ]
     },
     "metadata": {},
     "output_type": "display_data"
    },
    {
     "data": {
      "text/markdown": [
       "### Our Miss York: By Edwin Bateman Morris; Illustrated by Coles Phillips and Ralph L. Boyer"
      ],
      "text/plain": [
       "<IPython.core.display.Markdown object>"
      ]
     },
     "metadata": {},
     "output_type": "display_data"
    },
    {
     "data": {
      "text/markdown": [
       "<small>Morris, Edwin B.</small>"
      ],
      "text/plain": [
       "<IPython.core.display.Markdown object>"
      ]
     },
     "metadata": {},
     "output_type": "display_data"
    },
    {
     "data": {
      "text/markdown": [
       "IX The Unfashionable Square M R. BUNDY was more comfortable and con¬ tented with his work than he had ever been since his <span style=\"color: blue\">father’s death</span>. He was really more inter¬ ested in the habits of insects than in anything else in the world, and viewed his business in the light of a necessary"
      ],
      "text/plain": [
       "<IPython.core.display.Markdown object>"
      ]
     },
     "metadata": {},
     "output_type": "display_data"
    },
    {
     "name": "stdout",
     "output_type": "stream",
     "text": [
      "--------------------------------------------------\n"
     ]
    },
    {
     "data": {
      "text/markdown": [
       "### Hamlet"
      ],
      "text/plain": [
       "<IPython.core.display.Markdown object>"
      ]
     },
     "metadata": {},
     "output_type": "display_data"
    },
    {
     "data": {
      "text/markdown": [
       "pipe for Fortune's finger To sound what stop she please. Give me that man That is not passion's slave, and I will wear him In my <span style=\"color: blue\">heart's core</span>, ay, in my heart of heart, As I do thee.--Something too much of this.-- There is a play to-night before the king; One scene of it comes near"
      ],
      "text/plain": [
       "<IPython.core.display.Markdown object>"
      ]
     },
     "metadata": {},
     "output_type": "display_data"
    },
    {
     "data": {
      "text/markdown": [
       "### Before the Dawn: A Story of Russian Life: By Pimenoff-Noble"
      ],
      "text/plain": [
       "<IPython.core.display.Markdown object>"
      ]
     },
     "metadata": {},
     "output_type": "display_data"
    },
    {
     "data": {
      "text/markdown": [
       "<small>Pimenoff-Noble, Lydia</small>"
      ],
      "text/plain": [
       "<IPython.core.display.Markdown object>"
      ]
     },
     "metadata": {},
     "output_type": "display_data"
    },
    {
     "data": {
      "text/markdown": [
       "eart and mind that make it beautiful, their life flows on, unhasting and unresting. They have not ceased to be lovers, and they remain patriots to the h <span style=\"color: blue\">eart’s core.</span> In sacrifice, but also in faith, they spend the full, strong years of their exile. Darkness, it is true, still broods over the world of their hopes"
      ],
      "text/plain": [
       "<IPython.core.display.Markdown object>"
      ]
     },
     "metadata": {},
     "output_type": "display_data"
    },
    {
     "name": "stdout",
     "output_type": "stream",
     "text": [
      "--------------------------------------------------\n"
     ]
    },
    {
     "data": {
      "text/markdown": [
       "### Hamlet"
      ],
      "text/plain": [
       "<IPython.core.display.Markdown object>"
      ]
     },
     "metadata": {},
     "output_type": "display_data"
    },
    {
     "data": {
      "text/markdown": [
       "Clowns, Grave-diggers. Fortinbras, Prince of Norway. A Captain. English Ambassadors. Ghost of <span style=\"color: blue\">Hamlet's Father</span>. Gertrude, Queen of Denmark, and Mother of Hamlet. Ophelia, Daughter to Polonius. Lords, Ladies"
      ],
      "text/plain": [
       "<IPython.core.display.Markdown object>"
      ]
     },
     "metadata": {},
     "output_type": "display_data"
    },
    {
     "data": {
      "text/markdown": [
       "### The Story of a Train of Cars: A Tale of Travel..: By Wallace Peck"
      ],
      "text/plain": [
       "<IPython.core.display.Markdown object>"
      ]
     },
     "metadata": {},
     "output_type": "display_data"
    },
    {
     "data": {
      "text/markdown": [
       "<small>Peck, Wallace</small>"
      ],
      "text/plain": [
       "<IPython.core.display.Markdown object>"
      ]
     },
     "metadata": {},
     "output_type": "display_data"
    },
    {
     "data": {
      "text/markdown": [
       "disappeared into the night. The cock crow had warned the ghost of coming dawn and it had departed á la <span style=\"color: blue\">Hamlet's father</span>. But, after all, the anti-spooki tes won the day, or rather, in this case, the night, for next morning the door at the foot"
      ],
      "text/plain": [
       "<IPython.core.display.Markdown object>"
      ]
     },
     "metadata": {},
     "output_type": "display_data"
    },
    {
     "name": "stdout",
     "output_type": "stream",
     "text": [
      "--------------------------------------------------\n"
     ]
    },
    {
     "data": {
      "text/markdown": [
       "### Hamlet"
      ],
      "text/plain": [
       "<IPython.core.display.Markdown object>"
      ]
     },
     "metadata": {},
     "output_type": "display_data"
    },
    {
     "data": {
      "text/markdown": [
       "ills we have Than fly to others that we know not of? Thus conscience does make cowards of us all; And thus the native hue of resolution Is <span style=\"color: blue\">sicklied o'er</span> with the pale cast of thought; And enterprises of great pith and moment, With this regard, their currents turn awry, And lose"
      ],
      "text/plain": [
       "<IPython.core.display.Markdown object>"
      ]
     },
     "metadata": {},
     "output_type": "display_data"
    },
    {
     "data": {
      "text/markdown": [
       "### Adventures of Huckleberry Finn (Tom Sawyer's Comrade): By Mark Twain; with One Hundred and Seventy-Four Illustrations"
      ],
      "text/plain": [
       "<IPython.core.display.Markdown object>"
      ]
     },
     "metadata": {},
     "output_type": "display_data"
    },
    {
     "data": {
      "text/markdown": [
       "<small>Twain, Mark</small>"
      ],
      "text/plain": [
       "<IPython.core.display.Markdown object>"
      ]
     },
     "metadata": {},
     "output_type": "display_data"
    },
    {
     "data": {
      "text/markdown": [
       "athes forth contagion on the world, And thus the native hue of resolution, like the poor cat i’ the adage, Is sic <span style=\"color: blue\">klied o’er wi</span> th care. And all the clouds that lowered o’er our housetops, With this regard their currents turn awry, A"
      ],
      "text/plain": [
       "<IPython.core.display.Markdown object>"
      ]
     },
     "metadata": {},
     "output_type": "display_data"
    },
    {
     "name": "stdout",
     "output_type": "stream",
     "text": [
      "--------------------------------------------------\n"
     ]
    },
    {
     "data": {
      "text/markdown": [
       "### Hamlet"
      ],
      "text/plain": [
       "<IPython.core.display.Markdown object>"
      ]
     },
     "metadata": {},
     "output_type": "display_data"
    },
    {
     "data": {
      "text/markdown": [
       "enterprises of great pith and moment, With this regard, their currents turn awry, And lose the name of action.-- <span style=\"color: blue\">Soft you now! The fair Ophelia</span>!--Nymph, in thy orisons Be all my sins remember'd. Oph. Good my lord, How does your honour for this many a day? Ham"
      ],
      "text/plain": [
       "<IPython.core.display.Markdown object>"
      ]
     },
     "metadata": {},
     "output_type": "display_data"
    },
    {
     "data": {
      "text/markdown": [
       "### Adventures of Huckleberry Finn (Tom Sawyer's Comrade): By Mark Twain; with One Hundred and Seventy-Four Illustrations"
      ],
      "text/plain": [
       "<IPython.core.display.Markdown object>"
      ]
     },
     "metadata": {},
     "output_type": "display_data"
    },
    {
     "data": {
      "text/markdown": [
       "<small>Twain, Mark</small>"
      ],
      "text/plain": [
       "<IPython.core.display.Markdown object>"
      ]
     },
     "metadata": {},
     "output_type": "display_data"
    },
    {
     "data": {
      "text/markdown": [
       "rents turn awry, And lose the name of action. Tis a consummation devoutly to be wished. But sof <span style=\"color: blue\">t you, the fair Ophelia :</span> Ope not thy ponderous and marble jaws. But get thee to a nunnery—go ! Well, the old man he liked that speech, and he mighty so"
      ],
      "text/plain": [
       "<IPython.core.display.Markdown object>"
      ]
     },
     "metadata": {},
     "output_type": "display_data"
    },
    {
     "name": "stdout",
     "output_type": "stream",
     "text": [
      "--------------------------------------------------\n"
     ]
    },
    {
     "data": {
      "text/markdown": [
       "### Hamlet"
      ],
      "text/plain": [
       "<IPython.core.display.Markdown object>"
      ]
     },
     "metadata": {},
     "output_type": "display_data"
    },
    {
     "data": {
      "text/markdown": [
       "England!-- Farewell, dear mother. King. Thy loving father, Hamlet. Ham. My <span style=\"color: blue\">mother: father and mother</span> is man and wife; man and wife is one flesh; and so, my mother.--Come, for England! [Exit.] King. Follow him at foot; tempt"
      ],
      "text/plain": [
       "<IPython.core.display.Markdown object>"
      ]
     },
     "metadata": {},
     "output_type": "display_data"
    },
    {
     "data": {
      "text/markdown": [
       "### As the Fates Decree: By Venus G. Booth"
      ],
      "text/plain": [
       "<IPython.core.display.Markdown object>"
      ]
     },
     "metadata": {},
     "output_type": "display_data"
    },
    {
     "data": {
      "text/markdown": [
       "<small>Booth, Venus G.</small>"
      ],
      "text/plain": [
       "<IPython.core.display.Markdown object>"
      ]
     },
     "metadata": {},
     "output_type": "display_data"
    },
    {
     "data": {
      "text/markdown": [
       "ter. Fare¬ well, you will need me but once or twice more.” “Who is this Indian?” asked Igoe eagerly, as they rode along. “He is our mo <span style=\"color: blue\">ther and father in one. From our mother’s</span> death he has watched over us, and he is here at my request. He never fails us; it matters not the time nor place; it is he we turn to in the hour of need.” “By we, I suppose y"
      ],
      "text/plain": [
       "<IPython.core.display.Markdown object>"
      ]
     },
     "metadata": {},
     "output_type": "display_data"
    },
    {
     "name": "stdout",
     "output_type": "stream",
     "text": [
      "--------------------------------------------------\n"
     ]
    },
    {
     "data": {
      "text/markdown": [
       "### Hamlet"
      ],
      "text/plain": [
       "<IPython.core.display.Markdown object>"
      ]
     },
     "metadata": {},
     "output_type": "display_data"
    },
    {
     "data": {
      "text/markdown": [
       "Enter Polonius.] Pol. Th' ambassadors from Norway, my good lord, Are joyfully return'd. <span style=\"color: blue\">King. Thou still hast</span> been the father of good news. Pol. Have I, my lord? Assure you, my good liege, I hold my duty, as I hold my soul"
      ],
      "text/plain": [
       "<IPython.core.display.Markdown object>"
      ]
     },
     "metadata": {},
     "output_type": "display_data"
    },
    {
     "data": {
      "text/markdown": [
       "### Children of the Tenements: By Jacob A. Riis; with Illustrations by C. M. Relyea and Others"
      ],
      "text/plain": [
       "<IPython.core.display.Markdown object>"
      ]
     },
     "metadata": {},
     "output_type": "display_data"
    },
    {
     "data": {
      "text/markdown": [
       "<small>Riis, Jacob A. (Jacob August)</small>"
      ],
      "text/plain": [
       "<IPython.core.display.Markdown object>"
      ]
     },
     "metadata": {},
     "output_type": "display_data"
    },
    {
     "data": {
      "text/markdown": [
       "heard him at sunset recite the prayer of his fathers : « Blessed art thou, О Lord our God, <span style=\"color: blue\">King of the world, that thou hast</span> redeemed us as thou didst redeem our fathers, hast delivered us from bondage to liberty, and from servile"
      ],
      "text/plain": [
       "<IPython.core.display.Markdown object>"
      ]
     },
     "metadata": {},
     "output_type": "display_data"
    },
    {
     "name": "stdout",
     "output_type": "stream",
     "text": [
      "--------------------------------------------------\n"
     ]
    },
    {
     "data": {
      "text/markdown": [
       "### Hamlet"
      ],
      "text/plain": [
       "<IPython.core.display.Markdown object>"
      ]
     },
     "metadata": {},
     "output_type": "display_data"
    },
    {
     "data": {
      "text/markdown": [
       "d, and haply one as kind For husband shalt thou,-- P. Queen. O, confound the <span style=\"color: blue\">rest! Such love must needs</span> be treason in my breast: In second husband let me be accurst! None wed the second but who kill'd"
      ],
      "text/plain": [
       "<IPython.core.display.Markdown object>"
      ]
     },
     "metadata": {},
     "output_type": "display_data"
    },
    {
     "data": {
      "text/markdown": [
       "### Children of the Tenements: By Jacob A. Riis; with Illustrations by C. M. Relyea and Others"
      ],
      "text/plain": [
       "<IPython.core.display.Markdown object>"
      ]
     },
     "metadata": {},
     "output_type": "display_data"
    },
    {
     "data": {
      "text/markdown": [
       "<small>Riis, Jacob A. (Jacob August)</small>"
      ],
      "text/plain": [
       "<IPython.core.display.Markdown object>"
      ]
     },
     "metadata": {},
     "output_type": "display_data"
    },
    {
     "data": {
      "text/markdown": [
       "ran with haste. But they were too late with their extinguishers ; could not even approach the burning flat. They could only throw up their ladders to those above. For the <span style=\"color: blue\">rest they must needs</span> wait until the engines came. One tore up the street, coupled on a hose, and ran it into the house. Then died"
      ],
      "text/plain": [
       "<IPython.core.display.Markdown object>"
      ]
     },
     "metadata": {},
     "output_type": "display_data"
    },
    {
     "name": "stdout",
     "output_type": "stream",
     "text": [
      "--------------------------------------------------\n"
     ]
    },
    {
     "data": {
      "text/markdown": [
       "### Hamlet"
      ],
      "text/plain": [
       "<IPython.core.display.Markdown object>"
      ]
     },
     "metadata": {},
     "output_type": "display_data"
    },
    {
     "data": {
      "text/markdown": [
       "between Much heat and him. I'll silence me e'en here. Pray you, be round with him. Ham. [Within.] <span style=\"color: blue\">Mother, mother, mother</span>! Queen. I'll warrant you: Fear me not:--withdraw; I hear him coming. [Polonius goes behind"
      ],
      "text/plain": [
       "<IPython.core.display.Markdown object>"
      ]
     },
     "metadata": {},
     "output_type": "display_data"
    },
    {
     "data": {
      "text/markdown": [
       "### Mrs. Tree: By Laura E. Richards"
      ],
      "text/plain": [
       "<IPython.core.display.Markdown object>"
      ]
     },
     "metadata": {},
     "output_type": "display_data"
    },
    {
     "data": {
      "text/markdown": [
       "<small>Richards, Laura Elizabeth Howe</small>"
      ],
      "text/plain": [
       "<IPython.core.display.Markdown object>"
      ]
     },
     "metadata": {},
     "output_type": "display_data"
    },
    {
     "data": {
      "text/markdown": [
       "face of an angel. Another moment, and her son’s arms were round her, and her head on his bosom, and he was crying over and over again, “ <span style=\"color: blue\">Mother ! mother ! mother</span>! ” as if he could not have enough of the word. “ Arthur was a nice boy, too ! ” said Mrs. Tree, as she closed the door behind her. Five"
      ],
      "text/plain": [
       "<IPython.core.display.Markdown object>"
      ]
     },
     "metadata": {},
     "output_type": "display_data"
    },
    {
     "name": "stdout",
     "output_type": "stream",
     "text": [
      "--------------------------------------------------\n"
     ]
    },
    {
     "data": {
      "text/markdown": [
       "### Hamlet"
      ],
      "text/plain": [
       "<IPython.core.display.Markdown object>"
      ]
     },
     "metadata": {},
     "output_type": "display_data"
    },
    {
     "data": {
      "text/markdown": [
       "command to any utterance of harmony; I have not the skill. Ham. Why, look you now, how unworthy a thing you make of me! You would play upon me; you would seem to know my stops; you would <span style=\"color: blue\">pluck out the heart of my mystery</span>; you would sound me from my lowest note to the top of my compass; and there is much music, excellent voice, in this little organ, yet"
      ],
      "text/plain": [
       "<IPython.core.display.Markdown object>"
      ]
     },
     "metadata": {},
     "output_type": "display_data"
    },
    {
     "data": {
      "text/markdown": [
       "### A Chain of Evidence: By Carolyn Wells; with Illustrations in Color by Gayle Hoskins"
      ],
      "text/plain": [
       "<IPython.core.display.Markdown object>"
      ]
     },
     "metadata": {},
     "output_type": "display_data"
    },
    {
     "data": {
      "text/markdown": [
       "<small>Wells, Carolyn</small>"
      ],
      "text/plain": [
       "<IPython.core.display.Markdown object>"
      ]
     },
     "metadata": {},
     "output_type": "display_data"
    },
    {
     "data": {
      "text/markdown": [
       "deliberate falsehood; and if she was not guilty, then the case was a mystery that seemed insoluble. But insoluble it should not remain. I was determined to <span style=\"color: blue\">pluck the heart out of this mystery</span> if it were in power of mortal man to do so. I would spare no effort, no trouble, no expense. And yet, like a flash, I foresaw that one of two things must"
      ],
      "text/plain": [
       "<IPython.core.display.Markdown object>"
      ]
     },
     "metadata": {},
     "output_type": "display_data"
    },
    {
     "name": "stdout",
     "output_type": "stream",
     "text": [
      "--------------------------------------------------\n"
     ]
    },
    {
     "data": {
      "text/markdown": [
       "### Hamlet"
      ],
      "text/plain": [
       "<IPython.core.display.Markdown object>"
      ]
     },
     "metadata": {},
     "output_type": "display_data"
    },
    {
     "data": {
      "text/markdown": [
       "shameful lust The will of my most seeming-virtuous queen: O Hamlet, what a falling-off was there! From me, whose love was of that dignity That it <span style=\"color: blue\">went hand in hand</span> even with the vow I made to her in marriage; and to decline Upon a wretch whose natural gifts were poor To those of mine"
      ],
      "text/plain": [
       "<IPython.core.display.Markdown object>"
      ]
     },
     "metadata": {},
     "output_type": "display_data"
    },
    {
     "data": {
      "text/markdown": [
       "### Pierre, the Partisan: A Tale of the Mexican Marches: By Henry William Herbert…"
      ],
      "text/plain": [
       "<IPython.core.display.Markdown object>"
      ]
     },
     "metadata": {},
     "output_type": "display_data"
    },
    {
     "data": {
      "text/markdown": [
       "<small>Herbert, Henry William</small>"
      ],
      "text/plain": [
       "<IPython.core.display.Markdown object>"
      ]
     },
     "metadata": {},
     "output_type": "display_data"
    },
    {
     "data": {
      "text/markdown": [
       "n set upon me, but not before my second pistol was out, and a second ma¬ rauder stretched at my feet. Then, at it we went <span style=\"color: blue\">, hand to hand ; a</span> nd whs * with my better arms—for my long straight broadsword and wood-knife kept their short cutting blades eas"
      ],
      "text/plain": [
       "<IPython.core.display.Markdown object>"
      ]
     },
     "metadata": {},
     "output_type": "display_data"
    },
    {
     "name": "stdout",
     "output_type": "stream",
     "text": [
      "--------------------------------------------------\n"
     ]
    },
    {
     "data": {
      "text/markdown": [
       "### Hamlet"
      ],
      "text/plain": [
       "<IPython.core.display.Markdown object>"
      ]
     },
     "metadata": {},
     "output_type": "display_data"
    },
    {
     "data": {
      "text/markdown": [
       "shall I lie in your lap? [Lying down at Ophelia's feet.] Oph. No, my lord. Ham. I mean, my <span style=\"color: blue\">head upon your lap</span>? Oph. Ay, my lord. Ham. Do you think I meant country matters? Oph. I think nothing, my lord. Ham"
      ],
      "text/plain": [
       "<IPython.core.display.Markdown object>"
      ]
     },
     "metadata": {},
     "output_type": "display_data"
    },
    {
     "data": {
      "text/markdown": [
       "### Pierre, the Partisan: A Tale of the Mexican Marches: By Henry William Herbert…"
      ],
      "text/plain": [
       "<IPython.core.display.Markdown object>"
      ]
     },
     "metadata": {},
     "output_type": "display_data"
    },
    {
     "data": {
      "text/markdown": [
       "<small>Herbert, Henry William</small>"
      ],
      "text/plain": [
       "<IPython.core.display.Markdown object>"
      ]
     },
     "metadata": {},
     "output_type": "display_data"
    },
    {
     "data": {
      "text/markdown": [
       "r’s death-bed “ They have done for me, at last !” cried the gallant soldier,'as Gordon rais¬ ed his head u <span style=\"color: blue\">pon his lap, as h</span> e knelt be¬ hind him. . , “ I trust not, indeed.” “They have. I am a dead man, Gordon. See! they shot me here, through the right breast, joet above the ^"
      ],
      "text/plain": [
       "<IPython.core.display.Markdown object>"
      ]
     },
     "metadata": {},
     "output_type": "display_data"
    },
    {
     "name": "stdout",
     "output_type": "stream",
     "text": [
      "--------------------------------------------------\n"
     ]
    },
    {
     "data": {
      "text/markdown": [
       "### Hamlet"
      ],
      "text/plain": [
       "<IPython.core.display.Markdown object>"
      ]
     },
     "metadata": {},
     "output_type": "display_data"
    },
    {
     "data": {
      "text/markdown": [
       "God? Oph. My lord, as I was sewing in my chamber, Lord Hamlet,--with his doublet all unbrac'd; No <span style=\"color: blue\">hat upon his head</span>; his stockings foul'd, Ungart'red, and down-gyved to his ankle; Pale as his shirt; his knees"
      ],
      "text/plain": [
       "<IPython.core.display.Markdown object>"
      ]
     },
     "metadata": {},
     "output_type": "display_data"
    },
    {
     "data": {
      "text/markdown": [
       "### Adrian, or, the Clouds of the Mind: A Romance: By G. P. R. James... And Maunsell B. Field …"
      ],
      "text/plain": [
       "<IPython.core.display.Markdown object>"
      ]
     },
     "metadata": {},
     "output_type": "display_data"
    },
    {
     "data": {
      "text/markdown": [
       "<small>James, G. P. R. (George Payne Rainsford)</small>"
      ],
      "text/plain": [
       "<IPython.core.display.Markdown object>"
      ]
     },
     "metadata": {},
     "output_type": "display_data"
    },
    {
     "data": {
      "text/markdown": [
       "arriage immediately. I will be ready in a moment.” The old man was gone before the last words reached him ; and in a few minutes he entered the room again with his h <span style=\"color: blue\">at upon his head,</span> to inform the lady that the carriage • was waiting below. There was no delay on Ella’s part, and followed by Ruth,"
      ],
      "text/plain": [
       "<IPython.core.display.Markdown object>"
      ]
     },
     "metadata": {},
     "output_type": "display_data"
    },
    {
     "name": "stdout",
     "output_type": "stream",
     "text": [
      "--------------------------------------------------\n"
     ]
    },
    {
     "data": {
      "text/markdown": [
       "### Hamlet"
      ],
      "text/plain": [
       "<IPython.core.display.Markdown object>"
      ]
     },
     "metadata": {},
     "output_type": "display_data"
    },
    {
     "data": {
      "text/markdown": [
       "Hor. Now cracks a noble heart.--Good night, sweet prince, And flights of angels sing <span style=\"color: blue\">thee to thy rest</span>! Why does the drum come hither? [March within.] [Enter Fortinbras, the English Ambassadors, and others.] Fort"
      ],
      "text/plain": [
       "<IPython.core.display.Markdown object>"
      ]
     },
     "metadata": {},
     "output_type": "display_data"
    },
    {
     "data": {
      "text/markdown": [
       "### Color Studies and, a Mexican Campaign: By Thomas A. Janvier …"
      ],
      "text/plain": [
       "<IPython.core.display.Markdown object>"
      ]
     },
     "metadata": {},
     "output_type": "display_data"
    },
    {
     "data": {
      "text/markdown": [
       "<small>Janvier, Thomas A. (Thomas Allibone)</small>"
      ],
      "text/plain": [
       "<IPython.core.display.Markdown object>"
      ]
     },
     "metadata": {},
     "output_type": "display_data"
    },
    {
     "data": {
      "text/markdown": [
       "pulled hard at his pipe to give it a good start. “Now crack away, my stricken deer. Though the herd all forsake <span style=\"color: blue\">thee, thy home is still here, you know. Rest</span> on this bosom and tell your tale of sorrow. Are you very hard hit, Roberson ? ” “ Oh ! I am, indeed, I am,” groaned Roberson. “ You see, its—its this queer"
      ],
      "text/plain": [
       "<IPython.core.display.Markdown object>"
      ]
     },
     "metadata": {},
     "output_type": "display_data"
    },
    {
     "name": "stdout",
     "output_type": "stream",
     "text": [
      "--------------------------------------------------\n"
     ]
    },
    {
     "data": {
      "text/markdown": [
       "### Hamlet"
      ],
      "text/plain": [
       "<IPython.core.display.Markdown object>"
      ]
     },
     "metadata": {},
     "output_type": "display_data"
    },
    {
     "data": {
      "text/markdown": [
       "object made probation. Mar. It faded on the crowing of the cock. Some say that ever 'gainst that season comes Wherein our <span style=\"color: blue\">Saviour's birth</span> is celebrated, The bird of dawning singeth all night long; And then, they say, no spirit dare stir abroad; The nights"
      ],
      "text/plain": [
       "<IPython.core.display.Markdown object>"
      ]
     },
     "metadata": {},
     "output_type": "display_data"
    },
    {
     "data": {
      "text/markdown": [
       "### As It Is in Heaven: By One of the Redeemed"
      ],
      "text/plain": [
       "<IPython.core.display.Markdown object>"
      ]
     },
     "metadata": {},
     "output_type": "display_data"
    },
    {
     "data": {
      "text/markdown": [
       "<small>Wheeler, Mary Sparkes</small>"
      ],
      "text/plain": [
       "<IPython.core.display.Markdown object>"
      ]
     },
     "metadata": {},
     "output_type": "display_data"
    },
    {
     "data": {
      "text/markdown": [
       "twenty thousand, even thousands of angels.’ ‘A multi¬ tude of the heavenly hosts appeared and announced the <span style=\"color: blue\">Saviour’s birth</span> to the shepherds on the plains of Bethlehem,’ and Jesus Himself said His Father could send more than twelve legions of angels"
      ],
      "text/plain": [
       "<IPython.core.display.Markdown object>"
      ]
     },
     "metadata": {},
     "output_type": "display_data"
    },
    {
     "name": "stdout",
     "output_type": "stream",
     "text": [
      "--------------------------------------------------\n"
     ]
    },
    {
     "data": {
      "text/markdown": [
       "### Hamlet"
      ],
      "text/plain": [
       "<IPython.core.display.Markdown object>"
      ]
     },
     "metadata": {},
     "output_type": "display_data"
    },
    {
     "data": {
      "text/markdown": [
       "hallow'd and so gracious is the time. Hor. So have I heard, and do in part believe it. But, look, the morn, in russet mantle clad, <span style=\"color: blue\">Walks o'er</span> the dew of yon high eastward hill: Break we our watch up: and by my advice, Let us impart what we have seen to-night"
      ],
      "text/plain": [
       "<IPython.core.display.Markdown object>"
      ]
     },
     "metadata": {},
     "output_type": "display_data"
    },
    {
     "data": {
      "text/markdown": [
       "### As It Is in Heaven: By One of the Redeemed"
      ],
      "text/plain": [
       "<IPython.core.display.Markdown object>"
      ]
     },
     "metadata": {},
     "output_type": "display_data"
    },
    {
     "data": {
      "text/markdown": [
       "<small>Wheeler, Mary Sparkes</small>"
      ],
      "text/plain": [
       "<IPython.core.display.Markdown object>"
      ]
     },
     "metadata": {},
     "output_type": "display_data"
    },
    {
     "data": {
      "text/markdown": [
       "bright in heaven’s jeweled crown They shine forevermore. There is no death; an angel form <span style=\"color: blue\">Walks o’er</span> the earth with silent tread; He bears our best loved things away, And then we call them dead. He leaves our hearts all desolate"
      ],
      "text/plain": [
       "<IPython.core.display.Markdown object>"
      ]
     },
     "metadata": {},
     "output_type": "display_data"
    },
    {
     "name": "stdout",
     "output_type": "stream",
     "text": [
      "--------------------------------------------------\n"
     ]
    },
    {
     "data": {
      "text/markdown": [
       "### Hamlet"
      ],
      "text/plain": [
       "<IPython.core.display.Markdown object>"
      ]
     },
     "metadata": {},
     "output_type": "display_data"
    },
    {
     "data": {
      "text/markdown": [
       "joint:--O cursed spite, That ever I was born to set it right!-- Nay, come, let's go together. [Exeunt.] <span style=\"color: blue\">Act II. Scene</span> I. A room in Polonius's house. [Enter Polonius and Reynaldo.] Pol. Give him this money and these notes, Reynaldo"
      ],
      "text/plain": [
       "<IPython.core.display.Markdown object>"
      ]
     },
     "metadata": {},
     "output_type": "display_data"
    },
    {
     "data": {
      "text/markdown": [
       "### Six Cent Sam's: By Julian Hawthorne; Illustrated by John Henderson Garnsey"
      ],
      "text/plain": [
       "<IPython.core.display.Markdown object>"
      ]
     },
     "metadata": {},
     "output_type": "display_data"
    },
    {
     "data": {
      "text/markdown": [
       "<small>Hawthorne, Julian</small>"
      ],
      "text/plain": [
       "<IPython.core.display.Markdown object>"
      ]
     },
     "metadata": {},
     "output_type": "display_data"
    },
    {
     "data": {
      "text/markdown": [
       "men to the study of moral philosophy, with a somewhat parallel pas¬ sage in “Troilus and Cressida,” <span style=\"color: blue\">Act II, scene</span>2, a servant knocked at the door and informed him that there was an elderly party who wished to know if he might see him on a matter of business. The party"
      ],
      "text/plain": [
       "<IPython.core.display.Markdown object>"
      ]
     },
     "metadata": {},
     "output_type": "display_data"
    },
    {
     "name": "stdout",
     "output_type": "stream",
     "text": [
      "--------------------------------------------------\n"
     ]
    },
    {
     "data": {
      "text/markdown": [
       "### Hamlet"
      ],
      "text/plain": [
       "<IPython.core.display.Markdown object>"
      ]
     },
     "metadata": {},
     "output_type": "display_data"
    },
    {
     "data": {
      "text/markdown": [
       "Ham. 'Tis as easy as lying: govern these ventages with your finger and thumb, give it breath with your mouth, and it will <span style=\"color: blue\">discourse most eloquent music</span>. Look you, these are the stops. Guil. But these cannot I command to any utterance of harmony; I have not the skill. Ham. Why, look you now, how unworthy a thing you make of me! You would play"
      ],
      "text/plain": [
       "<IPython.core.display.Markdown object>"
      ]
     },
     "metadata": {},
     "output_type": "display_data"
    },
    {
     "data": {
      "text/markdown": [
       "### Fancies of a Whimsical Man: By the Author of \"Musings of an Invalid.\""
      ],
      "text/plain": [
       "<IPython.core.display.Markdown object>"
      ]
     },
     "metadata": {},
     "output_type": "display_data"
    },
    {
     "data": {
      "text/markdown": [
       "<small>Townsend, Frederic</small>"
      ],
      "text/plain": [
       "<IPython.core.display.Markdown object>"
      ]
     },
     "metadata": {},
     "output_type": "display_data"
    },
    {
     "data": {
      "text/markdown": [
       "removed in style and spirit, from the tasks that await him at his office. Very probably, he will stop in, on his way down, to hear his friend-, <span style=\"color: blue\">discourse eloquent music</span> on his piano. Something grand and gloomy, from Bee¬ thoven, or sparkling and effervescing, from Rossini : something, at any rate, that will be a most appropri"
      ],
      "text/plain": [
       "<IPython.core.display.Markdown object>"
      ]
     },
     "metadata": {},
     "output_type": "display_data"
    },
    {
     "name": "stdout",
     "output_type": "stream",
     "text": [
      "--------------------------------------------------\n"
     ]
    },
    {
     "data": {
      "text/markdown": [
       "### Hamlet"
      ],
      "text/plain": [
       "<IPython.core.display.Markdown object>"
      ]
     },
     "metadata": {},
     "output_type": "display_data"
    },
    {
     "data": {
      "text/markdown": [
       "Leave us. [Exit Messenger.] [Reads]'High and mighty,--You shall know I am set naked on your kingdom. To-morrow <span style=\"color: blue\">shall I beg leave</span> to see your kingly eyes: when I shall, first asking your pardon thereunto, recount the occasions of my sudden and more strange"
      ],
      "text/plain": [
       "<IPython.core.display.Markdown object>"
      ]
     },
     "metadata": {},
     "output_type": "display_data"
    },
    {
     "data": {
      "text/markdown": [
       "### An Ardent American: By Mrs. Russell Codman; Frontispiece by James Montgomery Flagg"
      ],
      "text/plain": [
       "<IPython.core.display.Markdown object>"
      ]
     },
     "metadata": {},
     "output_type": "display_data"
    },
    {
     "data": {
      "text/markdown": [
       "<small>Codman, Russell, Mrs.</small>"
      ],
      "text/plain": [
       "<IPython.core.display.Markdown object>"
      ]
     },
     "metadata": {},
     "output_type": "display_data"
    },
    {
     "data": {
      "text/markdown": [
       "afterwards,” she said, like the queen in “ Alice in Wonderland,” “ I don’t know what you will do with yourself for the next three days, for I feel quite incompetent to look after you ; and I <span style=\"color: blue\">shall beg you not to leave</span> the house, unless my brother escorts you; he is also completely worn out and it has brought on one of his bilious attacks; now leave me; I wish"
      ],
      "text/plain": [
       "<IPython.core.display.Markdown object>"
      ]
     },
     "metadata": {},
     "output_type": "display_data"
    },
    {
     "name": "stdout",
     "output_type": "stream",
     "text": [
      "--------------------------------------------------\n"
     ]
    },
    {
     "data": {
      "text/markdown": [
       "### Hamlet"
      ],
      "text/plain": [
       "<IPython.core.display.Markdown object>"
      ]
     },
     "metadata": {},
     "output_type": "display_data"
    },
    {
     "data": {
      "text/markdown": [
       "serv'd; It is a poison temper'd by himself.-- Exchange forgiveness with me, noble Hamlet: <span style=\"color: blue\">Mine and my father's</span> death come not upon thee, Nor thine on me! [Dies.] Ham. Heaven make thee free"
      ],
      "text/plain": [
       "<IPython.core.display.Markdown object>"
      ]
     },
     "metadata": {},
     "output_type": "display_data"
    },
    {
     "data": {
      "text/markdown": [
       "### An Ardent American: By Mrs. Russell Codman; Frontispiece by James Montgomery Flagg"
      ],
      "text/plain": [
       "<IPython.core.display.Markdown object>"
      ]
     },
     "metadata": {},
     "output_type": "display_data"
    },
    {
     "data": {
      "text/markdown": [
       "<small>Codman, Russell, Mrs.</small>"
      ],
      "text/plain": [
       "<IPython.core.display.Markdown object>"
      ]
     },
     "metadata": {},
     "output_type": "display_data"
    },
    {
     "data": {
      "text/markdown": [
       "fortune? Was I going to work for her or could she support me? Where did she live? What was her name ? ” I answered as well as I could, but I find that one lie engenders rapidly others. I said her name was the same as <span style=\"color: blue\">mine as she was my father’s</span> mother. “ Ach so!” said Herr Andreas Schmidt, “ I had an aunt — Anastasia Schmidt — who possessed a sausage"
      ],
      "text/plain": [
       "<IPython.core.display.Markdown object>"
      ]
     },
     "metadata": {},
     "output_type": "display_data"
    },
    {
     "name": "stdout",
     "output_type": "stream",
     "text": [
      "--------------------------------------------------\n"
     ]
    },
    {
     "data": {
      "text/markdown": [
       "### Hamlet"
      ],
      "text/plain": [
       "<IPython.core.display.Markdown object>"
      ]
     },
     "metadata": {},
     "output_type": "display_data"
    },
    {
     "data": {
      "text/markdown": [
       "room in the Castle. [Enter King and Laertes.] King. Now must your conscience my acquittance seal, And you <span style=\"color: blue\">must put me in your heart</span> for friend, Sith you have heard, and with a knowing ear, That he which hath your noble father slain Pursu"
      ],
      "text/plain": [
       "<IPython.core.display.Markdown object>"
      ]
     },
     "metadata": {},
     "output_type": "display_data"
    },
    {
     "data": {
      "text/markdown": [
       "### The Self-Effacement of Malachi Joseph: By Everett T. Tomlinson …"
      ],
      "text/plain": [
       "<IPython.core.display.Markdown object>"
      ]
     },
     "metadata": {},
     "output_type": "display_data"
    },
    {
     "data": {
      "text/markdown": [
       "<small>Tomlinson, Everett T. (Everett Titsworth)</small>"
      ],
      "text/plain": [
       "<IPython.core.display.Markdown object>"
      ]
     },
     "metadata": {},
     "output_type": "display_data"
    },
    {
     "data": {
      "text/markdown": [
       "himself to say something, but his observations dur¬ ing the preceding day had aroused within him a conviction that the first effort of his labors <span style=\"color: blue\">must be to put heart</span> into the lifeless, forlorn little band of people who were looking to him for leadership. The rank weeds in the churchyard, the dilapidated condition"
      ],
      "text/plain": [
       "<IPython.core.display.Markdown object>"
      ]
     },
     "metadata": {},
     "output_type": "display_data"
    },
    {
     "name": "stdout",
     "output_type": "stream",
     "text": [
      "--------------------------------------------------\n"
     ]
    },
    {
     "data": {
      "text/markdown": [
       "### Hamlet"
      ],
      "text/plain": [
       "<IPython.core.display.Markdown object>"
      ]
     },
     "metadata": {},
     "output_type": "display_data"
    },
    {
     "data": {
      "text/markdown": [
       "burning eyes of heaven, And passion in the gods. Pol. Look, whether he has not turn'd his colour, and has <span style=\"color: blue\">tears in's eyes</span>.--Pray you, no more! Ham. 'Tis well. I'll have thee speak out the rest of this soon.-- Good my lord, will you see the players"
      ],
      "text/plain": [
       "<IPython.core.display.Markdown object>"
      ]
     },
     "metadata": {},
     "output_type": "display_data"
    },
    {
     "data": {
      "text/markdown": [
       "### The Rise and Progress of the Kingdoms of Light and Darkness: Or, the Reigns of Kings Alpha and Abadon: By Lorenzo D. Blackson"
      ],
      "text/plain": [
       "<IPython.core.display.Markdown object>"
      ]
     },
     "metadata": {},
     "output_type": "display_data"
    },
    {
     "data": {
      "text/markdown": [
       "<small>Blackson, Lorenzo Dow</small>"
      ],
      "text/plain": [
       "<IPython.core.display.Markdown object>"
      ]
     },
     "metadata": {},
     "output_type": "display_data"
    },
    {
     "data": {
      "text/markdown": [
       "uding others . no doubt besides them ; and' he also promised that he would gird himself and serve them, and moreover he will wipe all tear <span style=\"color: blue\">s away from his people’s eyes, an</span> d they will be thus fed and feasted, and will have no more sorrow or trouble, but joy, and instead, while eternity lasts, th"
      ],
      "text/plain": [
       "<IPython.core.display.Markdown object>"
      ]
     },
     "metadata": {},
     "output_type": "display_data"
    },
    {
     "name": "stdout",
     "output_type": "stream",
     "text": [
      "--------------------------------------------------\n"
     ]
    },
    {
     "data": {
      "text/markdown": [
       "### Hamlet"
      ],
      "text/plain": [
       "<IPython.core.display.Markdown object>"
      ]
     },
     "metadata": {},
     "output_type": "display_data"
    },
    {
     "data": {
      "text/markdown": [
       "bound, I stand in pause where I shall first begin, And both neglect. What if this cursed hand Were thicker than itself with <span style=\"color: blue\">brother's blood</span>,-- Is there not rain enough in the sweet heavens To wash it white as snow? Whereto serves mercy"
      ],
      "text/plain": [
       "<IPython.core.display.Markdown object>"
      ]
     },
     "metadata": {},
     "output_type": "display_data"
    },
    {
     "data": {
      "text/markdown": [
       "### The Rise and Progress of the Kingdoms of Light and Darkness: Or, the Reigns of Kings Alpha and Abadon: By Lorenzo D. Blackson"
      ],
      "text/plain": [
       "<IPython.core.display.Markdown object>"
      ]
     },
     "metadata": {},
     "output_type": "display_data"
    },
    {
     "data": {
      "text/markdown": [
       "<small>Blackson, Lorenzo Dow</small>"
      ],
      "text/plain": [
       "<IPython.core.display.Markdown object>"
      ]
     },
     "metadata": {},
     "output_type": "display_data"
    },
    {
     "data": {
      "text/markdown": [
       "d. Which brought King Alpha’s wrath upon Him, and he cursed him from the ground Which had received his brot <span style=\"color: blue\">her’s blood, So</span> he therefore a criminal stood. Pronounced a vagabond on earth, From the King’s presence he went for"
      ],
      "text/plain": [
       "<IPython.core.display.Markdown object>"
      ]
     },
     "metadata": {},
     "output_type": "display_data"
    },
    {
     "name": "stdout",
     "output_type": "stream",
     "text": [
      "--------------------------------------------------\n"
     ]
    },
    {
     "data": {
      "text/markdown": [
       "### Hamlet"
      ],
      "text/plain": [
       "<IPython.core.display.Markdown object>"
      ]
     },
     "metadata": {},
     "output_type": "display_data"
    },
    {
     "data": {
      "text/markdown": [
       "put it in his pocket! Queen. No more. Ham. A king of shreds and patches!-- [Enter Ghost.] Save me and <span style=\"color: blue\">hover o'er</span> me with your wings, You heavenly guards!--What would your gracious figure? Queen. Alas, he's mad! Ham"
      ],
      "text/plain": [
       "<IPython.core.display.Markdown object>"
      ]
     },
     "metadata": {},
     "output_type": "display_data"
    },
    {
     "data": {
      "text/markdown": [
       "### Dandelion: Or, out of the Shadows: By Evelyn M. Wood Lovejoy"
      ],
      "text/plain": [
       "<IPython.core.display.Markdown object>"
      ]
     },
     "metadata": {},
     "output_type": "display_data"
    },
    {
     "data": {
      "text/markdown": [
       "<small>Lovejoy, Evelyn M. Wood</small>"
      ],
      "text/plain": [
       "<IPython.core.display.Markdown object>"
      ]
     },
     "metadata": {},
     "output_type": "display_data"
    },
    {
     "data": {
      "text/markdown": [
       "vic¬ tory, was yet glorified by the high resolve of a pure, lofty soul. “ The dark clouds <span style=\"color: blue\">hover o’er</span> us like a pall, And gloom and sadness seem to compass all; But still, with honest purpose, toil we on ; And if our steps be upright"
      ],
      "text/plain": [
       "<IPython.core.display.Markdown object>"
      ]
     },
     "metadata": {},
     "output_type": "display_data"
    },
    {
     "name": "stdout",
     "output_type": "stream",
     "text": [
      "--------------------------------------------------\n"
     ]
    },
    {
     "data": {
      "text/markdown": [
       "### Hamlet"
      ],
      "text/plain": [
       "<IPython.core.display.Markdown object>"
      ]
     },
     "metadata": {},
     "output_type": "display_data"
    },
    {
     "data": {
      "text/markdown": [
       "warr'nt it will. Ham. If it assume my noble father's person, I'll speak to it, <span style=\"color: blue\">though hell itself</span> should gape And bid me hold my peace. I pray you all, If you have hitherto conceal'd this sight, Let it be tenable"
      ],
      "text/plain": [
       "<IPython.core.display.Markdown object>"
      ]
     },
     "metadata": {},
     "output_type": "display_data"
    },
    {
     "data": {
      "text/markdown": [
       "### An Unlaid Ghost: A Study in Metempsychosis"
      ],
      "text/plain": [
       "<IPython.core.display.Markdown object>"
      ]
     },
     "metadata": {},
     "output_type": "display_data"
    },
    {
     "data": {
      "text/markdown": [
       "<small>None</small>"
      ],
      "text/plain": [
       "<IPython.core.display.Markdown object>"
      ]
     },
     "metadata": {},
     "output_type": "display_data"
    },
    {
     "data": {
      "text/markdown": [
       "tent dismay followed in her wake as she fled from the room, but she had passed the Rubi¬ con, and she would not have turned back, thou <span style=\"color: blue\">gh hell itself had</span> yawned before her. Outside the closed door, upon the landing of the stairs, she paused to regain her composure. “"
      ],
      "text/plain": [
       "<IPython.core.display.Markdown object>"
      ]
     },
     "metadata": {},
     "output_type": "display_data"
    },
    {
     "name": "stdout",
     "output_type": "stream",
     "text": [
      "--------------------------------------------------\n"
     ]
    },
    {
     "data": {
      "text/markdown": [
       "### Hamlet"
      ],
      "text/plain": [
       "<IPython.core.display.Markdown object>"
      ]
     },
     "metadata": {},
     "output_type": "display_data"
    },
    {
     "data": {
      "text/markdown": [
       "sweet and commendable in your nature, Hamlet, To give these mourning duties to your father; But, you must know, your father lost a <span style=\"color: blue\">father; That father lost</span>, lost his; and the survivor bound, In filial obligation, for some term To do obsequious sorrow: but to persevere In obstinate"
      ],
      "text/plain": [
       "<IPython.core.display.Markdown object>"
      ]
     },
     "metadata": {},
     "output_type": "display_data"
    },
    {
     "data": {
      "text/markdown": [
       "### Anna Clayton: Or, the Inquirer after Truth..: Francis Marion Dimmick"
      ],
      "text/plain": [
       "<IPython.core.display.Markdown object>"
      ]
     },
     "metadata": {},
     "output_type": "display_data"
    },
    {
     "data": {
      "text/markdown": [
       "<small>Dimmick, Francis Marion</small>"
      ],
      "text/plain": [
       "<IPython.core.display.Markdown object>"
      ]
     },
     "metadata": {},
     "output_type": "display_data"
    },
    {
     "data": {
      "text/markdown": [
       "red not utter. Halley only replied by drawing her arm within his own, and leading her onward. “Anna, your fa <span style=\"color: blue\">ther ! — Father, your long-lost c</span> hild !” “ О God, I thank thee ! ” burst from the full hearts of both parent and daughter. Anna w"
      ],
      "text/plain": [
       "<IPython.core.display.Markdown object>"
      ]
     },
     "metadata": {},
     "output_type": "display_data"
    },
    {
     "name": "stdout",
     "output_type": "stream",
     "text": [
      "--------------------------------------------------\n"
     ]
    },
    {
     "data": {
      "text/markdown": [
       "### Hamlet"
      ],
      "text/plain": [
       "<IPython.core.display.Markdown object>"
      ]
     },
     "metadata": {},
     "output_type": "display_data"
    },
    {
     "data": {
      "text/markdown": [
       "Ghost.] I'll cross it, though it blast me.--Stay, illusion! If thou hast any sound, or use of <span style=\"color: blue\">voice, Speak to me: If there be any good thing to be done, That may to thee</span> do ease, and, race to me, Speak to me: If thou art privy to thy country's fate"
      ],
      "text/plain": [
       "<IPython.core.display.Markdown object>"
      ]
     },
     "metadata": {},
     "output_type": "display_data"
    },
    {
     "data": {
      "text/markdown": [
       "### Evelyn, the Child of the Revolution: A Romance of Real Life: By Mrs. J. H. Robinson, of Boston"
      ],
      "text/plain": [
       "<IPython.core.display.Markdown object>"
      ]
     },
     "metadata": {},
     "output_type": "display_data"
    },
    {
     "data": {
      "text/markdown": [
       "<small>Robinson, J. H. (John Hovey), Mrs.</small>"
      ],
      "text/plain": [
       "<IPython.core.display.Markdown object>"
      ]
     },
     "metadata": {},
     "output_type": "display_data"
    },
    {
     "data": {
      "text/markdown": [
       ", gentleness and solicitude in the act. “ Mr. Kingman,” continued Goliah, in a deep, solemn voic <span style=\"color: blue\">e. “ I have come to speak to thee as</span> a dying man. Thow hast but a few moments to trail thine own. Make thy peace with Heaven if there is yet tim"
      ],
      "text/plain": [
       "<IPython.core.display.Markdown object>"
      ]
     },
     "metadata": {},
     "output_type": "display_data"
    },
    {
     "name": "stdout",
     "output_type": "stream",
     "text": [
      "--------------------------------------------------\n"
     ]
    },
    {
     "data": {
      "text/markdown": [
       "### Hamlet"
      ],
      "text/plain": [
       "<IPython.core.display.Markdown object>"
      ]
     },
     "metadata": {},
     "output_type": "display_data"
    },
    {
     "data": {
      "text/markdown": [
       "ambitious; with more offences at my beck than I have thoughts to put them in, imagination to give them shape, or time to act them in. What should such fellows as I do crawling <span style=\"color: blue\">between earth and heaven</span>? We are arrant knaves, all; believe none of us. Go thy ways to a nunnery. Where's your father? Oph"
      ],
      "text/plain": [
       "<IPython.core.display.Markdown object>"
      ]
     },
     "metadata": {},
     "output_type": "display_data"
    },
    {
     "data": {
      "text/markdown": [
       "### Love of the Wild: By Archie P. McKishnie"
      ],
      "text/plain": [
       "<IPython.core.display.Markdown object>"
      ]
     },
     "metadata": {},
     "output_type": "display_data"
    },
    {
     "data": {
      "text/markdown": [
       "<small>Mckishnie, Archie P.</small>"
      ],
      "text/plain": [
       "<IPython.core.display.Markdown object>"
      ]
     },
     "metadata": {},
     "output_type": "display_data"
    },
    {
     "data": {
      "text/markdown": [
       "trops of the forest stood out, a broad expanse of fiery spikes, fluctu¬ ating and drifting <span style=\"color: blue\">between earth and heaven</span>. In silence they watched the wild lights until they crept down from the skies and the owl’s low"
      ],
      "text/plain": [
       "<IPython.core.display.Markdown object>"
      ]
     },
     "metadata": {},
     "output_type": "display_data"
    },
    {
     "name": "stdout",
     "output_type": "stream",
     "text": [
      "--------------------------------------------------\n"
     ]
    },
    {
     "data": {
      "text/markdown": [
       "### Hamlet"
      ],
      "text/plain": [
       "<IPython.core.display.Markdown object>"
      ]
     },
     "metadata": {},
     "output_type": "display_data"
    },
    {
     "data": {
      "text/markdown": [
       "memory in this kingdom, Which now, to claim my vantage doth invite me. Hor. Of that I shall have also cause to speak, And from his <span style=\"color: blue\">mouth whose voice</span> will draw on more: But let this same be presently perform'd, Even while men's minds are wild: lest"
      ],
      "text/plain": [
       "<IPython.core.display.Markdown object>"
      ]
     },
     "metadata": {},
     "output_type": "display_data"
    },
    {
     "data": {
      "text/markdown": [
       "### Alice Murray: A Tale: By Mary I. [i.e. J.] Hoffman …"
      ],
      "text/plain": [
       "<IPython.core.display.Markdown object>"
      ]
     },
     "metadata": {},
     "output_type": "display_data"
    },
    {
     "data": {
      "text/markdown": [
       "<small>Hoffman, Mary J. (Mary Jane)</small>"
      ],
      "text/plain": [
       "<IPython.core.display.Markdown object>"
      ]
     },
     "metadata": {},
     "output_type": "display_data"
    },
    {
     "data": {
      "text/markdown": [
       "ping me, I will try to get over this ; I will try at all times and any time to be pleased to see you.” She sighed heavily and a wearied look settled round her mou <span style=\"color: blue\">th. There was one whose voice, w</span> hose face, whose presence had never been distasteful, whose coming had always brought a deep, quiet ha"
      ],
      "text/plain": [
       "<IPython.core.display.Markdown object>"
      ]
     },
     "metadata": {},
     "output_type": "display_data"
    },
    {
     "name": "stdout",
     "output_type": "stream",
     "text": [
      "--------------------------------------------------\n"
     ]
    },
    {
     "data": {
      "text/markdown": [
       "### Hamlet"
      ],
      "text/plain": [
       "<IPython.core.display.Markdown object>"
      ]
     },
     "metadata": {},
     "output_type": "display_data"
    },
    {
     "data": {
      "text/markdown": [
       "joy,-- With an auspicious and one dropping eye, With mirth in funeral, and with dirge in marriage, In equal scale <span style=\"color: blue\">weighing delight and dole</span>,-- Taken to wife; nor have we herein barr'd Your better wisdoms, which have freely gone With this affair"
      ],
      "text/plain": [
       "<IPython.core.display.Markdown object>"
      ]
     },
     "metadata": {},
     "output_type": "display_data"
    },
    {
     "data": {
      "text/markdown": [
       "### The Puritans: By Arlo Bates"
      ],
      "text/plain": [
       "<IPython.core.display.Markdown object>"
      ]
     },
     "metadata": {},
     "output_type": "display_data"
    },
    {
     "data": {
      "text/markdown": [
       "<small>Bates, Arlo</small>"
      ],
      "text/plain": [
       "<IPython.core.display.Markdown object>"
      ]
     },
     "metadata": {},
     "output_type": "display_data"
    },
    {
     "data": {
      "text/markdown": [
       "Gift.309 XXVII. Upon a Church Bench.318 XXVIII. Bedecking Ornaments of Praise . . . 325 XXIX. <span style=\"color: blue\">Weighing Delight and Dole</span>.... 334 XXX. Parted our Fellowship.344 XXXI. How Chances mock . 355 XXXTT . Now He is fob the Numbeks .... 366 XXXTTT"
      ],
      "text/plain": [
       "<IPython.core.display.Markdown object>"
      ]
     },
     "metadata": {},
     "output_type": "display_data"
    },
    {
     "name": "stdout",
     "output_type": "stream",
     "text": [
      "--------------------------------------------------\n"
     ]
    },
    {
     "data": {
      "text/markdown": [
       "### Hamlet"
      ],
      "text/plain": [
       "<IPython.core.display.Markdown object>"
      ]
     },
     "metadata": {},
     "output_type": "display_data"
    },
    {
     "data": {
      "text/markdown": [
       "uncle! Ghost. Ay, that incestuous, that adulterate beast, With witchcraft of his wit, with traitorous gifts,-- <span style=\"color: blue\">O wicked wit</span> and gifts, that have the power So to seduce!--won to his shameful lust The will of my most seeming-virtuous queen: O"
      ],
      "text/plain": [
       "<IPython.core.display.Markdown object>"
      ]
     },
     "metadata": {},
     "output_type": "display_data"
    },
    {
     "data": {
      "text/markdown": [
       "### The Puritans: By Arlo Bates"
      ],
      "text/plain": [
       "<IPython.core.display.Markdown object>"
      ]
     },
     "metadata": {},
     "output_type": "display_data"
    },
    {
     "data": {
      "text/markdown": [
       "<small>Bates, Arlo</small>"
      ],
      "text/plain": [
       "<IPython.core.display.Markdown object>"
      ]
     },
     "metadata": {},
     "output_type": "display_data"
    },
    {
     "data": {
      "text/markdown": [
       "door of a ball-room flooded with light and full of mov¬ ing figures. XXVI <span style=\"color: blue\">O WICKED WIT</span> AND GIFT Hamlet, i. 5 The brilliant glare of lights, the strident sound of dance-music, the enlivening"
      ],
      "text/plain": [
       "<IPython.core.display.Markdown object>"
      ]
     },
     "metadata": {},
     "output_type": "display_data"
    },
    {
     "name": "stdout",
     "output_type": "stream",
     "text": [
      "--------------------------------------------------\n"
     ]
    },
    {
     "data": {
      "text/markdown": [
       "### Hamlet"
      ],
      "text/plain": [
       "<IPython.core.display.Markdown object>"
      ]
     },
     "metadata": {},
     "output_type": "display_data"
    },
    {
     "data": {
      "text/markdown": [
       "pipe? Call me what instrument you will, though you can fret me, you cannot play upon me. [Enter Polonius.] <span style=\"color: blue\">God bless you, sir</span>! Pol. My lord, the queen would speak with you, and presently. Ham. Do you see yonder cloud that's almost"
      ],
      "text/plain": [
       "<IPython.core.display.Markdown object>"
      ]
     },
     "metadata": {},
     "output_type": "display_data"
    },
    {
     "data": {
      "text/markdown": [
       "### The Rover of the Reef: Or, the Nymph of the Nightingale: A Romance of Massachusetts Bay: Harry Halyard"
      ],
      "text/plain": [
       "<IPython.core.display.Markdown object>"
      ]
     },
     "metadata": {},
     "output_type": "display_data"
    },
    {
     "data": {
      "text/markdown": [
       "<small>Halyard, Harry</small>"
      ],
      "text/plain": [
       "<IPython.core.display.Markdown object>"
      ]
     },
     "metadata": {},
     "output_type": "display_data"
    },
    {
     "data": {
      "text/markdown": [
       "features of Clar- rine of the Cliff, who by this time had ap¬ proached near enough to address him, which she did as follows : ‘ <span style=\"color: blue\">God bless you, sir</span>, for I know you are a sailor.’ , * I am,’ replied Churchill, ‘ and being so, I think, judging from the words which you so plaintively sung just now, that you must be my friend.’ ‘ Your belief"
      ],
      "text/plain": [
       "<IPython.core.display.Markdown object>"
      ]
     },
     "metadata": {},
     "output_type": "display_data"
    },
    {
     "name": "stdout",
     "output_type": "stream",
     "text": [
      "--------------------------------------------------\n"
     ]
    },
    {
     "data": {
      "text/markdown": [
       "### Hamlet"
      ],
      "text/plain": [
       "<IPython.core.display.Markdown object>"
      ]
     },
     "metadata": {},
     "output_type": "display_data"
    },
    {
     "data": {
      "text/markdown": [
       "figure Comes armed through our watch; so like the king That was and is the question of these wars. Hor. A mote it is to trouble the <span style=\"color: blue\">mind's eye</span>. In the most high and palmy state of Rome, A little ere the mightiest Julius fell, The graves stood tenantless"
      ],
      "text/plain": [
       "<IPython.core.display.Markdown object>"
      ]
     },
     "metadata": {},
     "output_type": "display_data"
    },
    {
     "data": {
      "text/markdown": [
       "### The Wife for a Missionary: By the Author of \"Louisa Ralston,\" [Etc.]"
      ],
      "text/plain": [
       "<IPython.core.display.Markdown object>"
      ]
     },
     "metadata": {},
     "output_type": "display_data"
    },
    {
     "data": {
      "text/markdown": [
       "<small>Bullard, Anne Tuttle Jones</small>"
      ],
      "text/plain": [
       "<IPython.core.display.Markdown object>"
      ]
     },
     "metadata": {},
     "output_type": "display_data"
    },
    {
     "data": {
      "text/markdown": [
       "nence in public literary life, and farewell too to one third, at least, of your future useful- * * 4 ness« In the senior year, before his <span style=\"color: blue\">mind’s eye</span> revolved the momentous subject again; and wisdom said, Is your choice of literary pro¬ fession yet made? The answer"
      ],
      "text/plain": [
       "<IPython.core.display.Markdown object>"
      ]
     },
     "metadata": {},
     "output_type": "display_data"
    },
    {
     "name": "stdout",
     "output_type": "stream",
     "text": [
      "--------------------------------------------------\n"
     ]
    },
    {
     "data": {
      "text/markdown": [
       "### Hamlet"
      ],
      "text/plain": [
       "<IPython.core.display.Markdown object>"
      ]
     },
     "metadata": {},
     "output_type": "display_data"
    },
    {
     "data": {
      "text/markdown": [
       "sword, indeed. Ghost. [Beneath.] Swear. Ham. Ha, ha boy! say'st <span style=\"color: blue\">thou so? art thou</span> there, truepenny?-- Come on!--you hear this fellow in the cellarage,-- Consent to swear. Hor. Propose the oath, my lord"
      ],
      "text/plain": [
       "<IPython.core.display.Markdown object>"
      ]
     },
     "metadata": {},
     "output_type": "display_data"
    },
    {
     "data": {
      "text/markdown": [
       "### Tales for Leisure Hours..: Jonas B. Phillips"
      ],
      "text/plain": [
       "<IPython.core.display.Markdown object>"
      ]
     },
     "metadata": {},
     "output_type": "display_data"
    },
    {
     "data": {
      "text/markdown": [
       "<small>Phillips, Jonas B.</small>"
      ],
      "text/plain": [
       "<IPython.core.display.Markdown object>"
      ]
     },
     "metadata": {},
     "output_type": "display_data"
    },
    {
     "data": {
      "text/markdown": [
       "ining years—to go with thee over the wide world, in weal and woe, in safety and in danger.” u Thou art good— <span style=\"color: blue\">thou art virtuous,</span> and I bless those ' who have instructed thee to be so”—and she embrac¬ ed the weeping girl— w but thou may'"
      ],
      "text/plain": [
       "<IPython.core.display.Markdown object>"
      ]
     },
     "metadata": {},
     "output_type": "display_data"
    },
    {
     "name": "stdout",
     "output_type": "stream",
     "text": [
      "--------------------------------------------------\n"
     ]
    },
    {
     "data": {
      "text/markdown": [
       "### Hamlet"
      ],
      "text/plain": [
       "<IPython.core.display.Markdown object>"
      ]
     },
     "metadata": {},
     "output_type": "display_data"
    },
    {
     "data": {
      "text/markdown": [
       "fear is so: Where love is great, the littlest doubts are fear; Where little fears grow great, great love grows there. P. King. Faith, I <span style=\"color: blue\">must leave thee</span>, love, and shortly too; My operant powers their functions leave to do: And thou shalt live in this fair world behind"
      ],
      "text/plain": [
       "<IPython.core.display.Markdown object>"
      ]
     },
     "metadata": {},
     "output_type": "display_data"
    },
    {
     "data": {
      "text/markdown": [
       "### Tales for Leisure Hours..: Jonas B. Phillips"
      ],
      "text/plain": [
       "<IPython.core.display.Markdown object>"
      ]
     },
     "metadata": {},
     "output_type": "display_data"
    },
    {
     "data": {
      "text/markdown": [
       "<small>Phillips, Jonas B.</small>"
      ],
      "text/plain": [
       "<IPython.core.display.Markdown object>"
      ]
     },
     "metadata": {},
     "output_type": "display_data"
    },
    {
     "data": {
      "text/markdown": [
       "sa¬ vages fiercer than the beasts of the forests we shall have to explore. No, Anna, it must not be—I lea <span style=\"color: blue\">ve thee under the protec</span> tion of Scidmore’s mother—I shall not feel the anxiety knowing thou art here, that 1 sho"
      ],
      "text/plain": [
       "<IPython.core.display.Markdown object>"
      ]
     },
     "metadata": {},
     "output_type": "display_data"
    },
    {
     "name": "stdout",
     "output_type": "stream",
     "text": [
      "--------------------------------------------------\n"
     ]
    },
    {
     "data": {
      "text/markdown": [
       "### Hamlet"
      ],
      "text/plain": [
       "<IPython.core.display.Markdown object>"
      ]
     },
     "metadata": {},
     "output_type": "display_data"
    },
    {
     "data": {
      "text/markdown": [
       "Ay, that they do, my lord; Hercules and his load too. Ham. It is not very strange; for my uncle is king of Denmark, and those that would make mouths at him <span style=\"color: blue\">while my father lived</span>, give twenty, forty, fifty, a hundred ducats a-piece for his picture in little. 'Sblood, there is something in this more than natural, if philosophy"
      ],
      "text/plain": [
       "<IPython.core.display.Markdown object>"
      ]
     },
     "metadata": {},
     "output_type": "display_data"
    },
    {
     "data": {
      "text/markdown": [
       "### The Inlander: By Harrison Robertson"
      ],
      "text/plain": [
       "<IPython.core.display.Markdown object>"
      ]
     },
     "metadata": {},
     "output_type": "display_data"
    },
    {
     "data": {
      "text/markdown": [
       "<small>Robertson, Harrison</small>"
      ],
      "text/plain": [
       "<IPython.core.display.Markdown object>"
      ]
     },
     "metadata": {},
     "output_type": "display_data"
    },
    {
     "data": {
      "text/markdown": [
       "Tennessee, which had thus far limited his horizon, beautiful as it was and much as he loved it, could not sat¬ isfy that longing. <span style=\"color: blue\">While his father lived</span> Paul had not been impatient to leave the old homestead. The disparity in their ages did not prevent the closest companionship between"
      ],
      "text/plain": [
       "<IPython.core.display.Markdown object>"
      ]
     },
     "metadata": {},
     "output_type": "display_data"
    },
    {
     "name": "stdout",
     "output_type": "stream",
     "text": [
      "--------------------------------------------------\n"
     ]
    },
    {
     "data": {
      "text/markdown": [
       "### Hamlet"
      ],
      "text/plain": [
       "<IPython.core.display.Markdown object>"
      ]
     },
     "metadata": {},
     "output_type": "display_data"
    },
    {
     "data": {
      "text/markdown": [
       "Swear. Ham. Hic et ubique? then we'll shift our ground.-- Come hither, gentlemen, And <span style=\"color: blue\">lay your hands again upon</span> my sword: Never to speak of this that you have heard, Swear by my sword. Ghost. [Beneath.] Swear. Ham. Well said, old mole"
      ],
      "text/plain": [
       "<IPython.core.display.Markdown object>"
      ]
     },
     "metadata": {},
     "output_type": "display_data"
    },
    {
     "data": {
      "text/markdown": [
       "### The Iron Trail: An Alaskan Romance: By Rex Beach"
      ],
      "text/plain": [
       "<IPython.core.display.Markdown object>"
      ]
     },
     "metadata": {},
     "output_type": "display_data"
    },
    {
     "data": {
      "text/markdown": [
       "<small>Beach, Rex</small>"
      ],
      "text/plain": [
       "<IPython.core.display.Markdown object>"
      ]
     },
     "metadata": {},
     "output_type": "display_data"
    },
    {
     "data": {
      "text/markdown": [
       "condemna¬ tion. In his railroad-building, she believed, he was doing a fine work, but the coal was another matter. Obviously it belonged to the people, and he had no right to <span style=\"color: blue\">lay hands upon</span> their heritage. 223 She wondered if it would not be possible to omit all mention of him in her coal stories and center attention upon"
      ],
      "text/plain": [
       "<IPython.core.display.Markdown object>"
      ]
     },
     "metadata": {},
     "output_type": "display_data"
    },
    {
     "name": "stdout",
     "output_type": "stream",
     "text": [
      "--------------------------------------------------\n"
     ]
    },
    {
     "data": {
      "text/markdown": [
       "### Hamlet"
      ],
      "text/plain": [
       "<IPython.core.display.Markdown object>"
      ]
     },
     "metadata": {},
     "output_type": "display_data"
    },
    {
     "data": {
      "text/markdown": [
       "shameful lust The will of my most seeming-virtuous queen: O Hamlet, what a falling-off was there! From me, whose love was of that dignity That it <span style=\"color: blue\">went hand in hand</span> even with the vow I made to her in marriage; and to decline Upon a wretch whose natural gifts were poor To those of mine"
      ],
      "text/plain": [
       "<IPython.core.display.Markdown object>"
      ]
     },
     "metadata": {},
     "output_type": "display_data"
    },
    {
     "data": {
      "text/markdown": [
       "### The Awakening of the Duchess: By Frances Charles...; Illustrated by I. H. Caliga"
      ],
      "text/plain": [
       "<IPython.core.display.Markdown object>"
      ]
     },
     "metadata": {},
     "output_type": "display_data"
    },
    {
     "data": {
      "text/markdown": [
       "<small>Charles, Fannie A. (Fannie Asa)</small>"
      ],
      "text/plain": [
       "<IPython.core.display.Markdown object>"
      ]
     },
     "metadata": {},
     "output_type": "display_data"
    },
    {
     "data": {
      "text/markdown": [
       "ramanth. They were always glad when visitors came to see them. They were learn¬ ing some lessons when Roselle entered, and she and the Duchess w <span style=\"color: blue\">ent in, hand in hand</span>; so when she stood there by the side of the Duchess, all the little poor children stared very hard. They 7 97 were used to ladies coming to see them, but very few little rich"
      ],
      "text/plain": [
       "<IPython.core.display.Markdown object>"
      ]
     },
     "metadata": {},
     "output_type": "display_data"
    },
    {
     "name": "stdout",
     "output_type": "stream",
     "text": [
      "--------------------------------------------------\n"
     ]
    },
    {
     "data": {
      "text/markdown": [
       "### Hamlet"
      ],
      "text/plain": [
       "<IPython.core.display.Markdown object>"
      ]
     },
     "metadata": {},
     "output_type": "display_data"
    },
    {
     "data": {
      "text/markdown": [
       "Bring with thee airs from heaven or blasts from hell, Be thy intents wicked or charitable, <span style=\"color: blue\">Thou com'st</span> in such a questionable shape That I will speak to thee: I'll call thee Hamlet, King, father"
      ],
      "text/plain": [
       "<IPython.core.display.Markdown object>"
      ]
     },
     "metadata": {},
     "output_type": "display_data"
    },
    {
     "data": {
      "text/markdown": [
       "### Historical Sketches of the Old Painters: By the Author of Three Experiments of Living"
      ],
      "text/plain": [
       "<IPython.core.display.Markdown object>"
      ]
     },
     "metadata": {},
     "output_type": "display_data"
    },
    {
     "data": {
      "text/markdown": [
       "<small>Lee, Hannah Farnham Sawyer</small>"
      ],
      "text/plain": [
       "<IPython.core.display.Markdown object>"
      ]
     },
     "metadata": {},
     "output_type": "display_data"
    },
    {
     "data": {
      "text/markdown": [
       "sland I will be. Go, if thou wilt, to yonder shore, And when thy duty there is o’er, Perhaps when t <span style=\"color: blue\">hou com’st</span> back again, I ’ll make thee my high chamberlain.” Again he spread the snowy sail ; It fluttered in the rising gale ; The mountain"
      ],
      "text/plain": [
       "<IPython.core.display.Markdown object>"
      ]
     },
     "metadata": {},
     "output_type": "display_data"
    },
    {
     "name": "stdout",
     "output_type": "stream",
     "text": [
      "--------------------------------------------------\n"
     ]
    },
    {
     "data": {
      "text/markdown": [
       "### Hamlet"
      ],
      "text/plain": [
       "<IPython.core.display.Markdown object>"
      ]
     },
     "metadata": {},
     "output_type": "display_data"
    },
    {
     "data": {
      "text/markdown": [
       "visitation shall receive such thanks As fits a king's remembrance. Ros. Both your majesties Might, by the <span style=\"color: blue\">sovereign power you have of us, Put</span> your dread pleasures more into command Than to entreaty. Guil. We both obey, And here give up ourselves, in the full bent, To lay"
      ],
      "text/plain": [
       "<IPython.core.display.Markdown object>"
      ]
     },
     "metadata": {},
     "output_type": "display_data"
    },
    {
     "data": {
      "text/markdown": [
       "### The Scroll and Locket, or, the Maniac of the Mound: A Temperance Tale: By James Walter Hervey"
      ],
      "text/plain": [
       "<IPython.core.display.Markdown object>"
      ]
     },
     "metadata": {},
     "output_type": "display_data"
    },
    {
     "data": {
      "text/markdown": [
       "<small>Hervey, James Walter</small>"
      ],
      "text/plain": [
       "<IPython.core.display.Markdown object>"
      ]
     },
     "metadata": {},
     "output_type": "display_data"
    },
    {
     "data": {
      "text/markdown": [
       "land, still stalking at large in our midst? Will not the same cause produce the same effect^ under the same circumstances? Will you not rise in your <span style=\"color: blue\">sovereign power, and put</span> the vile monsters under your feet? There is no safety for your children, in a land of grog-shops.’ ‘This miserable"
      ],
      "text/plain": [
       "<IPython.core.display.Markdown object>"
      ]
     },
     "metadata": {},
     "output_type": "display_data"
    },
    {
     "name": "stdout",
     "output_type": "stream",
     "text": [
      "--------------------------------------------------\n"
     ]
    },
    {
     "data": {
      "text/markdown": [
       "### Hamlet"
      ],
      "text/plain": [
       "<IPython.core.display.Markdown object>"
      ]
     },
     "metadata": {},
     "output_type": "display_data"
    },
    {
     "data": {
      "text/markdown": [
       "return to France; From whence though willingly I came to Denmark, To show my duty in your coronation; <span style=\"color: blue\">Yet now, I must confess</span>, that duty done, My thoughts and wishes bend again toward France, And bow them to your gracious leave and pardon"
      ],
      "text/plain": [
       "<IPython.core.display.Markdown object>"
      ]
     },
     "metadata": {},
     "output_type": "display_data"
    },
    {
     "data": {
      "text/markdown": [
       "### Naomi Torrente: The History of a Woman: By Gertrude F. De Vingut"
      ],
      "text/plain": [
       "<IPython.core.display.Markdown object>"
      ]
     },
     "metadata": {},
     "output_type": "display_data"
    },
    {
     "data": {
      "text/markdown": [
       "<small>De Vingut, Gertrude Fairfield</small>"
      ],
      "text/plain": [
       "<IPython.core.display.Markdown object>"
      ]
     },
     "metadata": {},
     "output_type": "display_data"
    },
    {
     "data": {
      "text/markdown": [
       "elf—half child, half woman—she said, with down¬ cast eyes : “ You flatter me, Mr. Fairford ; y <span style=\"color: blue\">et, I must confess,</span> so well do you understand the art of flattery that it is agreeable even though I know it to be such.” “ Do you believe it to be flattery ? Do you not hope, or rather, do you not believe"
      ],
      "text/plain": [
       "<IPython.core.display.Markdown object>"
      ]
     },
     "metadata": {},
     "output_type": "display_data"
    },
    {
     "name": "stdout",
     "output_type": "stream",
     "text": [
      "--------------------------------------------------\n"
     ]
    },
    {
     "data": {
      "text/markdown": [
       "### Hamlet"
      ],
      "text/plain": [
       "<IPython.core.display.Markdown object>"
      ]
     },
     "metadata": {},
     "output_type": "display_data"
    },
    {
     "data": {
      "text/markdown": [
       "bark'd about, Most lazar-like, with vile and loathsome crust All my smooth body. Thus was I, sleeping, by a <span style=\"color: blue\">brother's hand</span>, Of life, of crown, of queen, at once dispatch'd: Cut off even in the blossoms of my sin, Unhous'led"
      ],
      "text/plain": [
       "<IPython.core.display.Markdown object>"
      ]
     },
     "metadata": {},
     "output_type": "display_data"
    },
    {
     "data": {
      "text/markdown": [
       "### Naomi Torrente: The History of a Woman: By Gertrude F. De Vingut"
      ],
      "text/plain": [
       "<IPython.core.display.Markdown object>"
      ]
     },
     "metadata": {},
     "output_type": "display_data"
    },
    {
     "data": {
      "text/markdown": [
       "<small>De Vingut, Gertrude Fairfield</small>"
      ],
      "text/plain": [
       "<IPython.core.display.Markdown object>"
      ]
     },
     "metadata": {},
     "output_type": "display_data"
    },
    {
     "data": {
      "text/markdown": [
       "orth her mightiest energies to protect the birthright of her children ; and is it not our duty to ponder well on the cause that is arming b <span style=\"color: blue\">rother s hand</span> against brother, and which has long since destroyed all the ties that naturally bind together the people of one country, one religion,"
      ],
      "text/plain": [
       "<IPython.core.display.Markdown object>"
      ]
     },
     "metadata": {},
     "output_type": "display_data"
    },
    {
     "name": "stdout",
     "output_type": "stream",
     "text": [
      "--------------------------------------------------\n"
     ]
    },
    {
     "data": {
      "text/markdown": [
       "### Hamlet"
      ],
      "text/plain": [
       "<IPython.core.display.Markdown object>"
      ]
     },
     "metadata": {},
     "output_type": "display_data"
    },
    {
     "data": {
      "text/markdown": [
       "hear. Ghost. So art thou to revenge, when thou shalt hear. Ham. What? Ghost. I am <span style=\"color: blue\">thy father's</span> spirit; Doom'd for a certain term to walk the night, And for the day confin'd to wastein"
      ],
      "text/plain": [
       "<IPython.core.display.Markdown object>"
      ]
     },
     "metadata": {},
     "output_type": "display_data"
    },
    {
     "data": {
      "text/markdown": [
       "### Dorothy the Puritan: The Story of a Strange Delusion: By Augusta Campbell Watson …"
      ],
      "text/plain": [
       "<IPython.core.display.Markdown object>"
      ]
     },
     "metadata": {},
     "output_type": "display_data"
    },
    {
     "data": {
      "text/markdown": [
       "<small>Watson, Augusta Campbell</small>"
      ],
      "text/plain": [
       "<IPython.core.display.Markdown object>"
      ]
     },
     "metadata": {},
     "output_type": "display_data"
    },
    {
     "data": {
      "text/markdown": [
       "thee that hath not life. ’Tis thine idleness, my child, that aileth thee ; far better were it that no tidings of <span style=\"color: blue\">thy father’s</span> people ever reached thine ears. Come, let us hasten to the shore and bid a right welcome cheer to the emigrants. They have good winds"
      ],
      "text/plain": [
       "<IPython.core.display.Markdown object>"
      ]
     },
     "metadata": {},
     "output_type": "display_data"
    },
    {
     "name": "stdout",
     "output_type": "stream",
     "text": [
      "--------------------------------------------------\n"
     ]
    },
    {
     "data": {
      "text/markdown": [
       "### Hamlet"
      ],
      "text/plain": [
       "<IPython.core.display.Markdown object>"
      ]
     },
     "metadata": {},
     "output_type": "display_data"
    },
    {
     "data": {
      "text/markdown": [
       "process of my death Rankly abus'd; but know, thou noble youth, The serpent that did sting <span style=\"color: blue\">thy father's</span> life Now wears his crown. Ham. O my prophetic soul! Mine uncle! Ghost. Ay"
      ],
      "text/plain": [
       "<IPython.core.display.Markdown object>"
      ]
     },
     "metadata": {},
     "output_type": "display_data"
    },
    {
     "data": {
      "text/markdown": [
       "### Dorothy the Puritan: The Story of a Strange Delusion: By Augusta Campbell Watson …"
      ],
      "text/plain": [
       "<IPython.core.display.Markdown object>"
      ]
     },
     "metadata": {},
     "output_type": "display_data"
    },
    {
     "data": {
      "text/markdown": [
       "<small>Watson, Augusta Campbell</small>"
      ],
      "text/plain": [
       "<IPython.core.display.Markdown object>"
      ]
     },
     "metadata": {},
     "output_type": "display_data"
    },
    {
     "data": {
      "text/markdown": [
       "wot it brings me some one from England. I trust it brings some one of my father’s kin.” He started at these words. “ <span style=\"color: blue\">Thy father’s</span> kin!” he echoed. “And art thou not content, that thou shouldst seek the society of those unhallowed"
      ],
      "text/plain": [
       "<IPython.core.display.Markdown object>"
      ]
     },
     "metadata": {},
     "output_type": "display_data"
    },
    {
     "name": "stdout",
     "output_type": "stream",
     "text": [
      "--------------------------------------------------\n"
     ]
    },
    {
     "data": {
      "text/markdown": [
       "### Hamlet"
      ],
      "text/plain": [
       "<IPython.core.display.Markdown object>"
      ]
     },
     "metadata": {},
     "output_type": "display_data"
    },
    {
     "data": {
      "text/markdown": [
       "praised my lord such-a-one's horse when he meant to beg it,--might it not? Hor. Ay, my lord. Ham. Why, <span style=\"color: blue\">e'en so: and now my Lady</span> Worm's; chapless, and knocked about the mazard with a sexton's spade: here's fine"
      ],
      "text/plain": [
       "<IPython.core.display.Markdown object>"
      ]
     },
     "metadata": {},
     "output_type": "display_data"
    },
    {
     "data": {
      "text/markdown": [
       "### Dorothy the Puritan: The Story of a Strange Delusion: By Augusta Campbell Watson …"
      ],
      "text/plain": [
       "<IPython.core.display.Markdown object>"
      ]
     },
     "metadata": {},
     "output_type": "display_data"
    },
    {
     "data": {
      "text/markdown": [
       "<small>Watson, Augusta Campbell</small>"
      ],
      "text/plain": [
       "<IPython.core.display.Markdown object>"
      ]
     },
     "metadata": {},
     "output_type": "display_data"
    },
    {
     "data": {
      "text/markdown": [
       "murmured. “ In what hast thou lied?” “ I cannot marry you,” he said desperately. “At the court of William and Mary <span style=\"color: blue\">e’en now there is a lady</span> in waiting on Her Majesty who is my wife.” He spoke as though the words were forced from him against his consent. “ I did marry"
      ],
      "text/plain": [
       "<IPython.core.display.Markdown object>"
      ]
     },
     "metadata": {},
     "output_type": "display_data"
    },
    {
     "name": "stdout",
     "output_type": "stream",
     "text": [
      "--------------------------------------------------\n"
     ]
    },
    {
     "data": {
      "text/markdown": [
       "### Hamlet"
      ],
      "text/plain": [
       "<IPython.core.display.Markdown object>"
      ]
     },
     "metadata": {},
     "output_type": "display_data"
    },
    {
     "data": {
      "text/markdown": [
       "between Much heat and him. I'll silence me e'en here. Pray you, be round with him. Ham. [Within.] <span style=\"color: blue\">Mother, mother, mother</span>! Queen. I'll warrant you: Fear me not:--withdraw; I hear him coming. [Polonius goes behind"
      ],
      "text/plain": [
       "<IPython.core.display.Markdown object>"
      ]
     },
     "metadata": {},
     "output_type": "display_data"
    },
    {
     "data": {
      "text/markdown": [
       "### Gertie's Sacrifice: Or, Glimpses at Two Lives: By Frances Dana Gage"
      ],
      "text/plain": [
       "<IPython.core.display.Markdown object>"
      ]
     },
     "metadata": {},
     "output_type": "display_data"
    },
    {
     "data": {
      "text/markdown": [
       "<small>Gage, Frances Dana Barker</small>"
      ],
      "text/plain": [
       "<IPython.core.display.Markdown object>"
      ]
     },
     "metadata": {},
     "output_type": "display_data"
    },
    {
     "data": {
      "text/markdown": [
       "wine at the marriage feast. Your Uncle Simon is very foolish. It’s always the way with him. There, go to bed, or you’ll be down sick.” \" О <span style=\"color: blue\">mother, mother, mother</span>! ” \" Go to bed, child, I’m tired of all this. It’s ridiculous. Go at once ! You’ll be ashamed of all this to-morrow"
      ],
      "text/plain": [
       "<IPython.core.display.Markdown object>"
      ]
     },
     "metadata": {},
     "output_type": "display_data"
    },
    {
     "name": "stdout",
     "output_type": "stream",
     "text": [
      "--------------------------------------------------\n"
     ]
    },
    {
     "data": {
      "text/markdown": [
       "### Hamlet"
      ],
      "text/plain": [
       "<IPython.core.display.Markdown object>"
      ]
     },
     "metadata": {},
     "output_type": "display_data"
    },
    {
     "data": {
      "text/markdown": [
       "pipe? Call me what instrument you will, though you can fret me, you cannot play upon me. [Enter Polonius.] <span style=\"color: blue\">God bless you, sir</span>! Pol. My lord, the queen would speak with you, and presently. Ham. Do you see yonder cloud that's almost"
      ],
      "text/plain": [
       "<IPython.core.display.Markdown object>"
      ]
     },
     "metadata": {},
     "output_type": "display_data"
    },
    {
     "data": {
      "text/markdown": [
       "### The Minister's Charge, or, the Apprenticeship of Lemuel Barker: By William D. Howells …"
      ],
      "text/plain": [
       "<IPython.core.display.Markdown object>"
      ]
     },
     "metadata": {},
     "output_type": "display_data"
    },
    {
     "data": {
      "text/markdown": [
       "<small>Howells, William Dean</small>"
      ],
      "text/plain": [
       "<IPython.core.display.Markdown object>"
      ]
     },
     "metadata": {},
     "output_type": "display_data"
    },
    {
     "data": {
      "text/markdown": [
       "lounged back easily in his chair. “Why, I did drop in to beat the house out of a quarter if I could, or may be ten cents. Thank you, sir. <span style=\"color: blue\">God bless you, sir</span>.” He interrupted himself to burlesque a professional gratitude. “ That style of thing, you know. But I don’t know about it now. Look here, mate ! what ’s"
      ],
      "text/plain": [
       "<IPython.core.display.Markdown object>"
      ]
     },
     "metadata": {},
     "output_type": "display_data"
    },
    {
     "name": "stdout",
     "output_type": "stream",
     "text": [
      "--------------------------------------------------\n"
     ]
    },
    {
     "data": {
      "text/markdown": [
       "### Hamlet"
      ],
      "text/plain": [
       "<IPython.core.display.Markdown object>"
      ]
     },
     "metadata": {},
     "output_type": "display_data"
    },
    {
     "data": {
      "text/markdown": [
       "England!-- Farewell, dear mother. King. Thy loving father, Hamlet. Ham. My <span style=\"color: blue\">mother: father and mother</span> is man and wife; man and wife is one flesh; and so, my mother.--Come, for England! [Exit.] King. Follow him at foot; tempt"
      ],
      "text/plain": [
       "<IPython.core.display.Markdown object>"
      ]
     },
     "metadata": {},
     "output_type": "display_data"
    },
    {
     "data": {
      "text/markdown": [
       "### The Full Stature of a Man: A Life Story: By Julian Warth"
      ],
      "text/plain": [
       "<IPython.core.display.Markdown object>"
      ]
     },
     "metadata": {},
     "output_type": "display_data"
    },
    {
     "data": {
      "text/markdown": [
       "<small>Parsons, Julia Warth, Mrs.</small>"
      ],
      "text/plain": [
       "<IPython.core.display.Markdown object>"
      ]
     },
     "metadata": {},
     "output_type": "display_data"
    },
    {
     "data": {
      "text/markdown": [
       "Hayne’s school years ago. He is of good family on both sides, but J be¬ lieve his father had some queer notions.” “ All right, <span style=\"color: blue\">mother,” he said. “ I did not know his father or mother</span>, but he’s a mighty clever fellow, an able one too, and more of a man than most of the preachers I have known.” Then she had confided her plans to her son"
      ],
      "text/plain": [
       "<IPython.core.display.Markdown object>"
      ]
     },
     "metadata": {},
     "output_type": "display_data"
    },
    {
     "name": "stdout",
     "output_type": "stream",
     "text": [
      "--------------------------------------------------\n"
     ]
    },
    {
     "data": {
      "text/markdown": [
       "### Hamlet"
      ],
      "text/plain": [
       "<IPython.core.display.Markdown object>"
      ]
     },
     "metadata": {},
     "output_type": "display_data"
    },
    {
     "data": {
      "text/markdown": [
       "Swear. Ham. Hic et ubique? then we'll shift our ground.-- Come hither, gentlemen, And <span style=\"color: blue\">lay your hands again upon</span> my sword: Never to speak of this that you have heard, Swear by my sword. Ghost. [Beneath.] Swear. Ham. Well said, old mole"
      ],
      "text/plain": [
       "<IPython.core.display.Markdown object>"
      ]
     },
     "metadata": {},
     "output_type": "display_data"
    },
    {
     "data": {
      "text/markdown": [
       "### The Adventures of Uncle Jeremiah and Family at the Great Fair..: By \"Quondam.\""
      ],
      "text/plain": [
       "<IPython.core.display.Markdown object>"
      ]
     },
     "metadata": {},
     "output_type": "display_data"
    },
    {
     "data": {
      "text/markdown": [
       "<small>Stevens, C. M. (Charles McClellan)</small>"
      ],
      "text/plain": [
       "<IPython.core.display.Markdown object>"
      ]
     },
     "metadata": {},
     "output_type": "display_data"
    },
    {
     "data": {
      "text/markdown": [
       "erein she had recorded tier observations on the politeness of the different nations as she had witnessed them. She thought the Javanese were the politest people of all. They always la <span style=\"color: blue\">y their hands upon t</span> heir hearts and say, “I am honored,” when spoken to. When they failed ín their ability to answer a question, they just smile to show t"
      ],
      "text/plain": [
       "<IPython.core.display.Markdown object>"
      ]
     },
     "metadata": {},
     "output_type": "display_data"
    },
    {
     "name": "stdout",
     "output_type": "stream",
     "text": [
      "--------------------------------------------------\n"
     ]
    },
    {
     "data": {
      "text/markdown": [
       "### Hamlet"
      ],
      "text/plain": [
       "<IPython.core.display.Markdown object>"
      ]
     },
     "metadata": {},
     "output_type": "display_data"
    },
    {
     "data": {
      "text/markdown": [
       "beast that wants discourse of reason, Would have mourn'd longer,--married with mine uncle, My <span style=\"color: blue\">father's brother</span>; but no more like my father Than I to Hercules: within a month; Ere yet the salt of most unrighteous tears Had left"
      ],
      "text/plain": [
       "<IPython.core.display.Markdown object>"
      ]
     },
     "metadata": {},
     "output_type": "display_data"
    },
    {
     "data": {
      "text/markdown": [
       "### The Pennimans: Or, the Triumph of Genius …"
      ],
      "text/plain": [
       "<IPython.core.display.Markdown object>"
      ]
     },
     "metadata": {},
     "output_type": "display_data"
    },
    {
     "data": {
      "text/markdown": [
       "<small>None</small>"
      ],
      "text/plain": [
       "<IPython.core.display.Markdown object>"
      ]
     },
     "metadata": {},
     "output_type": "display_data"
    },
    {
     "data": {
      "text/markdown": [
       "female suffering and intrigue, are innumerable. Too proud to remain in their country homes, dependent upon a <span style=\"color: blue\">father’s or brother</span>’s sup¬ port, they crowd into the city, with the hope, that some¬ thing will offer whereby they can provide themselves"
      ],
      "text/plain": [
       "<IPython.core.display.Markdown object>"
      ]
     },
     "metadata": {},
     "output_type": "display_data"
    },
    {
     "name": "stdout",
     "output_type": "stream",
     "text": [
      "--------------------------------------------------\n"
     ]
    },
    {
     "data": {
      "text/markdown": [
       "### Hamlet"
      ],
      "text/plain": [
       "<IPython.core.display.Markdown object>"
      ]
     },
     "metadata": {},
     "output_type": "display_data"
    },
    {
     "data": {
      "text/markdown": [
       "Ham. Hear you, sir; What is the reason that you use me thus? I lov'd you ever: but it is no matter; Let Hercules himself do what he may, The <span style=\"color: blue\">cat will mew, and dog</span> will have his day. [Exit.] King. I pray thee, good Horatio, wait upon him.-- [Exit Horatio.] [To Laertes"
      ],
      "text/plain": [
       "<IPython.core.display.Markdown object>"
      ]
     },
     "metadata": {},
     "output_type": "display_data"
    },
    {
     "data": {
      "text/markdown": [
       "### The Pennimans: Or, the Triumph of Genius …"
      ],
      "text/plain": [
       "<IPython.core.display.Markdown object>"
      ]
     },
     "metadata": {},
     "output_type": "display_data"
    },
    {
     "data": {
      "text/markdown": [
       "<small>None</small>"
      ],
      "text/plain": [
       "<IPython.core.display.Markdown object>"
      ]
     },
     "metadata": {},
     "output_type": "display_data"
    },
    {
     "data": {
      "text/markdown": [
       "since father’s failure.” “ Oh, never mind,” replied Mrs. Andrews, “ never mind my dear, the <span style=\"color: blue\">cat will mew, and the dog</span> will have his day.” “ Yes, and a long day they are having of it,” returned Fanny. “ Never mind ! — yes, but I will mind, though — to be cut and hammered as I have been by these wretches since"
      ],
      "text/plain": [
       "<IPython.core.display.Markdown object>"
      ]
     },
     "metadata": {},
     "output_type": "display_data"
    },
    {
     "name": "stdout",
     "output_type": "stream",
     "text": [
      "--------------------------------------------------\n"
     ]
    },
    {
     "data": {
      "text/markdown": [
       "### Hamlet"
      ],
      "text/plain": [
       "<IPython.core.display.Markdown object>"
      ]
     },
     "metadata": {},
     "output_type": "display_data"
    },
    {
     "data": {
      "text/markdown": [
       "Hamlet's transformation; so I call it, Since nor the exterior nor the inward man Resembles that it was. What it should be, More than his <span style=\"color: blue\">father's death</span>, that thus hath put him So much from the understanding of himself, I cannot dream of: I entreat you both That, being of so young days"
      ],
      "text/plain": [
       "<IPython.core.display.Markdown object>"
      ]
     },
     "metadata": {},
     "output_type": "display_data"
    },
    {
     "data": {
      "text/markdown": [
       "### Humpy Dumpy: Or, the Corner Grocery: By Rev. J. Jay Dana"
      ],
      "text/plain": [
       "<IPython.core.display.Markdown object>"
      ]
     },
     "metadata": {},
     "output_type": "display_data"
    },
    {
     "data": {
      "text/markdown": [
       "<small>Dana, John Jay</small>"
      ],
      "text/plain": [
       "<IPython.core.display.Markdown object>"
      ]
     },
     "metadata": {},
     "output_type": "display_data"
    },
    {
     "data": {
      "text/markdown": [
       "dealer in real estate. He was a shrewd business man, and anxious to make money. Hot many weeks passed after his <span style=\"color: blue\">father’s death</span> before the picket-fence which pro¬ tected the garden from the street was torn away, and a new street cut through from Columbia"
      ],
      "text/plain": [
       "<IPython.core.display.Markdown object>"
      ]
     },
     "metadata": {},
     "output_type": "display_data"
    },
    {
     "name": "stdout",
     "output_type": "stream",
     "text": [
      "--------------------------------------------------\n"
     ]
    },
    {
     "data": {
      "text/markdown": [
       "### Hamlet"
      ],
      "text/plain": [
       "<IPython.core.display.Markdown object>"
      ]
     },
     "metadata": {},
     "output_type": "display_data"
    },
    {
     "data": {
      "text/markdown": [
       "Ham. It is not very strange; for my uncle is king of Denmark, and those that would make mouths at him while my father lived, give twenty, <span style=\"color: blue\">forty, fifty, a hundred</span> ducats a-piece for his picture in little. 'Sblood, there is something in this more than natural, if philosophy could find it out. [Flourish of trumpets within.] Guil"
      ],
      "text/plain": [
       "<IPython.core.display.Markdown object>"
      ]
     },
     "metadata": {},
     "output_type": "display_data"
    },
    {
     "data": {
      "text/markdown": [
       "### Humpy Dumpy: Or, the Corner Grocery: By Rev. J. Jay Dana"
      ],
      "text/plain": [
       "<IPython.core.display.Markdown object>"
      ]
     },
     "metadata": {},
     "output_type": "display_data"
    },
    {
     "data": {
      "text/markdown": [
       "<small>Dana, John Jay</small>"
      ],
      "text/plain": [
       "<IPython.core.display.Markdown object>"
      ]
     },
     "metadata": {},
     "output_type": "display_data"
    },
    {
     "data": {
      "text/markdown": [
       "ies, to one address, Ten ·< “ Fifteen “ « ' « Twenty“ “ 11 Terms— in Advance. - $0 25 - 1 00 - 1 25 - 1 88 - 2 60 Thirty copies, to one address, For <span style=\"color: blue\">ty “ “ “ Fifty « “ “ One Hundred “</span>“ - $3 75 - 5 00 - 6 25 - 12 00 The Total Abstainer’s Daily Witness and Bible Yerdiet. 75 Cents. This is a series of Scripture Te"
      ],
      "text/plain": [
       "<IPython.core.display.Markdown object>"
      ]
     },
     "metadata": {},
     "output_type": "display_data"
    },
    {
     "name": "stdout",
     "output_type": "stream",
     "text": [
      "--------------------------------------------------\n"
     ]
    },
    {
     "data": {
      "text/markdown": [
       "### Hamlet"
      ],
      "text/plain": [
       "<IPython.core.display.Markdown object>"
      ]
     },
     "metadata": {},
     "output_type": "display_data"
    },
    {
     "data": {
      "text/markdown": [
       "tongue: but if you mouth it, as many of your players do, I had as lief the town crier spoke my lines. Nor do not saw the <span style=\"color: blue\">air too much with your hand, thus</span>, but use all gently: for in the very torrent, tempest, and, as I may say, whirlwind of passion, you must acquire and beget a temperance that may give it smoothness"
      ],
      "text/plain": [
       "<IPython.core.display.Markdown object>"
      ]
     },
     "metadata": {},
     "output_type": "display_data"
    },
    {
     "data": {
      "text/markdown": [
       "### The First of the Knickerbockers: A Tale of 1673"
      ],
      "text/plain": [
       "<IPython.core.display.Markdown object>"
      ]
     },
     "metadata": {},
     "output_type": "display_data"
    },
    {
     "data": {
      "text/markdown": [
       "<small>Myers, P. Hamilton (Peter Hamilton)</small>"
      ],
      "text/plain": [
       "<IPython.core.display.Markdown object>"
      ]
     },
     "metadata": {},
     "output_type": "display_data"
    },
    {
     "data": {
      "text/markdown": [
       "riend. Ah, if it would only blow great guns now, there wouldn’t be 8 a speck of danger; I think it does come a little fresher ”—feeling the a <span style=\"color: blue\">ir with his hand ; and thus</span> the good-natured Lieutenant ran on, attempting to en¬ courage his companion, but delicately abstaining from any inquiries"
      ],
      "text/plain": [
       "<IPython.core.display.Markdown object>"
      ]
     },
     "metadata": {},
     "output_type": "display_data"
    },
    {
     "name": "stdout",
     "output_type": "stream",
     "text": [
      "--------------------------------------------------\n"
     ]
    },
    {
     "data": {
      "text/markdown": [
       "### Hamlet"
      ],
      "text/plain": [
       "<IPython.core.display.Markdown object>"
      ]
     },
     "metadata": {},
     "output_type": "display_data"
    },
    {
     "data": {
      "text/markdown": [
       "figure Comes armed through our watch; so like the king That was and is the question of these wars. Hor. A mote it is to trouble the <span style=\"color: blue\">mind's eye</span>. In the most high and palmy state of Rome, A little ere the mightiest Julius fell, The graves stood tenantless"
      ],
      "text/plain": [
       "<IPython.core.display.Markdown object>"
      ]
     },
     "metadata": {},
     "output_type": "display_data"
    },
    {
     "data": {
      "text/markdown": [
       "### Poco a Poco: A Novel: By William Franklin Johnson; Illustrated by W. H. Fry"
      ],
      "text/plain": [
       "<IPython.core.display.Markdown object>"
      ]
     },
     "metadata": {},
     "output_type": "display_data"
    },
    {
     "data": {
      "text/markdown": [
       "<small>Johnson, William Franklin</small>"
      ],
      "text/plain": [
       "<IPython.core.display.Markdown object>"
      ]
     },
     "metadata": {},
     "output_type": "display_data"
    },
    {
     "data": {
      "text/markdown": [
       "delight of a secluded home in some quiet part of the city, with her the mistress. Nobody had been suggested as yet, as the master. But he had the gentleman in his <span style=\"color: blue\">mind's eye</span>. No doubt this call was expected to develop that idea. She received him quietly, distantly. There were traces of distress"
      ],
      "text/plain": [
       "<IPython.core.display.Markdown object>"
      ]
     },
     "metadata": {},
     "output_type": "display_data"
    },
    {
     "name": "stdout",
     "output_type": "stream",
     "text": [
      "--------------------------------------------------\n"
     ]
    },
    {
     "data": {
      "text/markdown": [
       "### Hamlet"
      ],
      "text/plain": [
       "<IPython.core.display.Markdown object>"
      ]
     },
     "metadata": {},
     "output_type": "display_data"
    },
    {
     "data": {
      "text/markdown": [
       "Ham. What's the matter now? Queen. Have you forgot me? Ham. No, by the rood, not so: You are the Queen, your husband's <span style=\"color: blue\">brother's wife</span>, And,--would it were not so!--you are my mother. Queen. Nay, then, I'll set those to you that can speak. Ham. Come, come, and sit you down; you shall not budge"
      ],
      "text/plain": [
       "<IPython.core.display.Markdown object>"
      ]
     },
     "metadata": {},
     "output_type": "display_data"
    },
    {
     "data": {
      "text/markdown": [
       "### Poco a Poco: A Novel: By William Franklin Johnson; Illustrated by W. H. Fry"
      ],
      "text/plain": [
       "<IPython.core.display.Markdown object>"
      ]
     },
     "metadata": {},
     "output_type": "display_data"
    },
    {
     "data": {
      "text/markdown": [
       "<small>Johnson, William Franklin</small>"
      ],
      "text/plain": [
       "<IPython.core.display.Markdown object>"
      ]
     },
     "metadata": {},
     "output_type": "display_data"
    },
    {
     "data": {
      "text/markdown": [
       "Rue hurt the most. With conviction came increasing indignation that these people should dare to deceive her. The supreme ingratitude on the part of her <span style=\"color: blue\">brother’s wife</span> angered her more than all else ; for tolerance of wrong in one of her own sex was less than with the other, which, after all, is only another way of saying she was a woman. It was in this condition of mind"
      ],
      "text/plain": [
       "<IPython.core.display.Markdown object>"
      ]
     },
     "metadata": {},
     "output_type": "display_data"
    },
    {
     "name": "stdout",
     "output_type": "stream",
     "text": [
      "--------------------------------------------------\n"
     ]
    },
    {
     "data": {
      "text/markdown": [
       "### Hamlet"
      ],
      "text/plain": [
       "<IPython.core.display.Markdown object>"
      ]
     },
     "metadata": {},
     "output_type": "display_data"
    },
    {
     "data": {
      "text/markdown": [
       "return to France; From whence though willingly I came to Denmark, To show my duty in your coronation; <span style=\"color: blue\">Yet now, I must confess</span>, that duty done, My thoughts and wishes bend again toward France, And bow them to your gracious leave and pardon"
      ],
      "text/plain": [
       "<IPython.core.display.Markdown object>"
      ]
     },
     "metadata": {},
     "output_type": "display_data"
    },
    {
     "data": {
      "text/markdown": [
       "### Hope Leslie, or, Early Times in the Massachusetts: By the Author of Redwood …"
      ],
      "text/plain": [
       "<IPython.core.display.Markdown object>"
      ]
     },
     "metadata": {},
     "output_type": "display_data"
    },
    {
     "data": {
      "text/markdown": [
       "<small>Sedgwick, Catharine Maria</small>"
      ],
      "text/plain": [
       "<IPython.core.display.Markdown object>"
      ]
     },
     "metadata": {},
     "output_type": "display_data"
    },
    {
     "data": {
      "text/markdown": [
       "all not disarrange my family by taking a step that would savour more of fear than pru¬ dence. I say I feel no apprehension—ye <span style=\"color: blue\">t I must confess i</span> t—I have a cowardly womanish spirit, and fear is set in motion by the very mention of danger. There are vague forebodings h"
      ],
      "text/plain": [
       "<IPython.core.display.Markdown object>"
      ]
     },
     "metadata": {},
     "output_type": "display_data"
    },
    {
     "name": "stdout",
     "output_type": "stream",
     "text": [
      "--------------------------------------------------\n"
     ]
    },
    {
     "data": {
      "text/markdown": [
       "### Hamlet"
      ],
      "text/plain": [
       "<IPython.core.display.Markdown object>"
      ]
     },
     "metadata": {},
     "output_type": "display_data"
    },
    {
     "data": {
      "text/markdown": [
       "mineral of metals base, Shows itself pure: he weeps for what is done. King. O Gertrude, come away! The <span style=\"color: blue\">sun no sooner shall</span> the mountains touch But we will ship him hence: and this vile deed We must with all our majesty and skill Both countenance"
      ],
      "text/plain": [
       "<IPython.core.display.Markdown object>"
      ]
     },
     "metadata": {},
     "output_type": "display_data"
    },
    {
     "data": {
      "text/markdown": [
       "### Hope Leslie, or, Early Times in the Massachusetts: By the Author of Redwood …"
      ],
      "text/plain": [
       "<IPython.core.display.Markdown object>"
      ]
     },
     "metadata": {},
     "output_type": "display_data"
    },
    {
     "data": {
      "text/markdown": [
       "<small>Sedgwick, Catharine Maria</small>"
      ],
      "text/plain": [
       "<IPython.core.display.Markdown object>"
      ]
     },
     "metadata": {},
     "output_type": "display_data"
    },
    {
     "data": {
      "text/markdown": [
       "ed not — 1 Nay, nay , 1 cried Sassacus, beat¬ ing them off. ‘ Touch him not ; his soul is bright as the sun <span style=\"color: blue\">; sooner shall yo</span> u darken that, than find treason in his breast. If he hath shown the dove’s heart to the English when he believed th"
      ],
      "text/plain": [
       "<IPython.core.display.Markdown object>"
      ]
     },
     "metadata": {},
     "output_type": "display_data"
    },
    {
     "name": "stdout",
     "output_type": "stream",
     "text": [
      "--------------------------------------------------\n"
     ]
    },
    {
     "data": {
      "text/markdown": [
       "### Hamlet"
      ],
      "text/plain": [
       "<IPython.core.display.Markdown object>"
      ]
     },
     "metadata": {},
     "output_type": "display_data"
    },
    {
     "data": {
      "text/markdown": [
       "shameful lust The will of my most seeming-virtuous queen: O Hamlet, what a falling-off was there! From me, whose love was of that dignity That it <span style=\"color: blue\">went hand in hand</span> even with the vow I made to her in marriage; and to decline Upon a wretch whose natural gifts were poor To those of mine"
      ],
      "text/plain": [
       "<IPython.core.display.Markdown object>"
      ]
     },
     "metadata": {},
     "output_type": "display_data"
    },
    {
     "data": {
      "text/markdown": [
       "### The King and Cobbler: A Romance of Ancient Persia: By Austin C. Burdick"
      ],
      "text/plain": [
       "<IPython.core.display.Markdown object>"
      ]
     },
     "metadata": {},
     "output_type": "display_data"
    },
    {
     "data": {
      "text/markdown": [
       "<small>Burdick, Austin C.</small>"
      ],
      "text/plain": [
       "<IPython.core.display.Markdown object>"
      ]
     },
     "metadata": {},
     "output_type": "display_data"
    },
    {
     "data": {
      "text/markdown": [
       "ure ones—none of that assumed distance that marks the movement of those who would appear what they are not, but truth and virtue w <span style=\"color: blue\">ent hand in hand,</span> and right was never hidden. If a certain act was joet and right, it was enough. When the darkness fairly settled down upon the great city,"
      ],
      "text/plain": [
       "<IPython.core.display.Markdown object>"
      ]
     },
     "metadata": {},
     "output_type": "display_data"
    },
    {
     "name": "stdout",
     "output_type": "stream",
     "text": [
      "--------------------------------------------------\n"
     ]
    },
    {
     "data": {
      "text/markdown": [
       "### Hamlet"
      ],
      "text/plain": [
       "<IPython.core.display.Markdown object>"
      ]
     },
     "metadata": {},
     "output_type": "display_data"
    },
    {
     "data": {
      "text/markdown": [
       "speech straight: come, give us a taste of your quality: come, a passionate speech. I Play. What speech, my lord? Ham. I <span style=\"color: blue\">heard thee speak</span> me a speech once,--but it was never acted; or if it was, not above once; for the play, I remember, pleased not the million, 'twas"
      ],
      "text/plain": [
       "<IPython.core.display.Markdown object>"
      ]
     },
     "metadata": {},
     "output_type": "display_data"
    },
    {
     "data": {
      "text/markdown": [
       "### The King and Cobbler: A Romance of Ancient Persia: By Austin C. Burdick"
      ],
      "text/plain": [
       "<IPython.core.display.Markdown object>"
      ]
     },
     "metadata": {},
     "output_type": "display_data"
    },
    {
     "data": {
      "text/markdown": [
       "<small>Burdick, Austin C.</small>"
      ],
      "text/plain": [
       "<IPython.core.display.Markdown object>"
      ]
     },
     "metadata": {},
     "output_type": "display_data"
    },
    {
     "data": {
      "text/markdown": [
       "rce her to become the partner of your chamber ?” “Look ye!” cried the king, and his face flushed with anger. “ You are an old man and I have he <span style=\"color: blue\">ard thee speak,</span> but I’U listen no more. Depart now in peace, or run the risk of such punishment as you may deserve. Out, I say !” . “ Hold a moment,"
      ],
      "text/plain": [
       "<IPython.core.display.Markdown object>"
      ]
     },
     "metadata": {},
     "output_type": "display_data"
    },
    {
     "name": "stdout",
     "output_type": "stream",
     "text": [
      "--------------------------------------------------\n"
     ]
    },
    {
     "data": {
      "text/markdown": [
       "### Hamlet"
      ],
      "text/plain": [
       "<IPython.core.display.Markdown object>"
      ]
     },
     "metadata": {},
     "output_type": "display_data"
    },
    {
     "data": {
      "text/markdown": [
       "Ros and Guil. We will haste us. [Exeunt Ros. and Guil.] [Enter Polonius.] Pol. My lord, he' <span style=\"color: blue\">s going to his mother's</span> closet: Behind the arras I'll convey myself To hear the process; I'll warrant"
      ],
      "text/plain": [
       "<IPython.core.display.Markdown object>"
      ]
     },
     "metadata": {},
     "output_type": "display_data"
    },
    {
     "data": {
      "text/markdown": [
       "### The King and Cobbler: A Romance of Ancient Persia: By Austin C. Burdick"
      ],
      "text/plain": [
       "<IPython.core.display.Markdown object>"
      ]
     },
     "metadata": {},
     "output_type": "display_data"
    },
    {
     "data": {
      "text/markdown": [
       "<small>Burdick, Austin C.</small>"
      ],
      "text/plain": [
       "<IPython.core.display.Markdown object>"
      ]
     },
     "metadata": {},
     "output_type": "display_data"
    },
    {
     "data": {
      "text/markdown": [
       "rs started to her eyes, as she thought, “ where are they now ?” Prom her little win¬ dow, she could see the white marble that headed her father’s a <span style=\"color: blue\">nd mother’s gr</span> ave. And she had never heard from her brother, or seen him, since the time, five years before, when, on the eve of his departure for Australia, he had cut of"
      ],
      "text/plain": [
       "<IPython.core.display.Markdown object>"
      ]
     },
     "metadata": {},
     "output_type": "display_data"
    },
    {
     "name": "stdout",
     "output_type": "stream",
     "text": [
      "--------------------------------------------------\n"
     ]
    },
    {
     "data": {
      "text/markdown": [
       "### Hamlet"
      ],
      "text/plain": [
       "<IPython.core.display.Markdown object>"
      ]
     },
     "metadata": {},
     "output_type": "display_data"
    },
    {
     "data": {
      "text/markdown": [
       "Hamlet's transformation; so I call it, Since nor the exterior nor the inward man Resembles that it was. What it should be, More than his <span style=\"color: blue\">father's death</span>, that thus hath put him So much from the understanding of himself, I cannot dream of: I entreat you both That, being of so young days"
      ],
      "text/plain": [
       "<IPython.core.display.Markdown object>"
      ]
     },
     "metadata": {},
     "output_type": "display_data"
    },
    {
     "data": {
      "text/markdown": [
       "### Young West: A Sequel to Edward Bellamy's Celebrated Novel, Looking Backward: By Solomon Schindler"
      ],
      "text/plain": [
       "<IPython.core.display.Markdown object>"
      ]
     },
     "metadata": {},
     "output_type": "display_data"
    },
    {
     "data": {
      "text/markdown": [
       "<small>Schindler, Solomon</small>"
      ],
      "text/plain": [
       "<IPython.core.display.Markdown object>"
      ]
     },
     "metadata": {},
     "output_type": "display_data"
    },
    {
     "data": {
      "text/markdown": [
       "paid him their respects by occasional visits, their relations to him or to my mother, their sister, were less intimate. When the news of their <span style=\"color: blue\">father’s death</span> reached them, they came at once by aeroplane to attend the cremation ceremonies. I saw them for the first time, but they had heard of me and were anxious"
      ],
      "text/plain": [
       "<IPython.core.display.Markdown object>"
      ]
     },
     "metadata": {},
     "output_type": "display_data"
    },
    {
     "name": "stdout",
     "output_type": "stream",
     "text": [
      "--------------------------------------------------\n"
     ]
    },
    {
     "data": {
      "text/markdown": [
       "### Hamlet"
      ],
      "text/plain": [
       "<IPython.core.display.Markdown object>"
      ]
     },
     "metadata": {},
     "output_type": "display_data"
    },
    {
     "data": {
      "text/markdown": [
       "pipe? Call me what instrument you will, though you can fret me, you cannot play upon me. [Enter Polonius.] <span style=\"color: blue\">God bless you, sir</span>! Pol. My lord, the queen would speak with you, and presently. Ham. Do you see yonder cloud that's almost"
      ],
      "text/plain": [
       "<IPython.core.display.Markdown object>"
      ]
     },
     "metadata": {},
     "output_type": "display_data"
    },
    {
     "data": {
      "text/markdown": [
       "### Sevenoaks: A Story of Today: By J. G. Holland... With Twelve Full-Page Illustrations after Original Designs by Sol. Eytinge"
      ],
      "text/plain": [
       "<IPython.core.display.Markdown object>"
      ]
     },
     "metadata": {},
     "output_type": "display_data"
    },
    {
     "data": {
      "text/markdown": [
       "<small>Holland, J. G. (Josiah Gilbert)</small>"
      ],
      "text/plain": [
       "<IPython.core.display.Markdown object>"
      ]
     },
     "metadata": {},
     "output_type": "display_data"
    },
    {
     "data": {
      "text/markdown": [
       "nts of the evening, to find money for his breakfast. Mr. Belcher dropped him a dollar, and the man looked up and said feebly : “ May God bl <span style=\"color: blue\">ess you, sir !” Th</span> is little benediction was received gratefully. It would do to start on. He felt his way down stairs, called for his reckoning, and when, after an uncomfortable and vexatious delay"
      ],
      "text/plain": [
       "<IPython.core.display.Markdown object>"
      ]
     },
     "metadata": {},
     "output_type": "display_data"
    },
    {
     "name": "stdout",
     "output_type": "stream",
     "text": [
      "--------------------------------------------------\n"
     ]
    }
   ],
   "source": [
    "for m in matches.limit(200):\n",
    "    print_match(m)"
   ]
  },
  {
   "cell_type": "code",
   "execution_count": null,
   "metadata": {
    "collapsed": true
   },
   "outputs": [],
   "source": []
  }
 ],
 "metadata": {
  "kernelspec": {
   "display_name": "Python 3",
   "language": "python",
   "name": "python3"
  },
  "language_info": {
   "codemirror_mode": {
    "name": "ipython",
    "version": 3
   },
   "file_extension": ".py",
   "mimetype": "text/x-python",
   "name": "python",
   "nbconvert_exporter": "python",
   "pygments_lexer": "ipython3",
   "version": "3.5.2"
  }
 },
 "nbformat": 4,
 "nbformat_minor": 1
}
